{
 "cells": [
  {
   "cell_type": "code",
   "execution_count": 5,
   "metadata": {},
   "outputs": [
    {
     "name": "stderr",
     "output_type": "stream",
     "text": [
      "[2025-05-16 13:00:35] INFO (torcheeg/MainThread) 🔍 | Detected cached processing results, reading cache from .torcheeg/dataset.\n"
     ]
    },
    {
     "name": "stdout",
     "output_type": "stream",
     "text": [
      "torch.Size([1, 128, 9, 9])\n",
      "0\n",
      "720\n"
     ]
    }
   ],
   "source": [
    "import torch\n",
    "import torch.nn as nn\n",
    "from strokes import StrokePatientsMIDataset, StrokePatientsMIProcessedDataset\n",
    "from strokesdict import STROKEPATIENTSMI_LOCATION_DICT\n",
    "from torcheeg.transforms import Select,BandSignal,Compose\n",
    "from to import ToGrid, ToTensor\n",
    "from downsample import SetSamplingRate\n",
    "from baseline import BaselineCorrection\n",
    "\n",
    "dataset = StrokePatientsMIDataset(root_path='./subdataset',\n",
    "                                  io_path='.torcheeg/dataset',\n",
    "                        chunk_size=500,  # 1 second\n",
    "                        overlap = 250,\n",
    "                        offline_transform=Compose(\n",
    "                                [BaselineCorrection(),\n",
    "                                SetSamplingRate(origin_sampling_rate=500,target_sampling_rate=128),\n",
    "                                BandSignal(sampling_rate=128,band_dict={'frequency_range':[8,40]})\n",
    "                                ]),\n",
    "                        online_transform=Compose(\n",
    "                                [ToGrid(STROKEPATIENTSMI_LOCATION_DICT),ToTensor()]),\n",
    "                        label_transform=Select('label'),\n",
    "                        num_worker=8\n",
    ")\n",
    "print(dataset[0][0].shape) #EEG shape:torch.Size([1, 128, 9, 9])\n",
    "print(dataset[0][1])  # label (int)\n",
    "print(len(dataset))"
   ]
  },
  {
   "cell_type": "code",
   "execution_count": 6,
   "metadata": {},
   "outputs": [
    {
     "name": "stderr",
     "output_type": "stream",
     "text": [
      "[2025-05-16 13:00:39] INFO (torcheeg/MainThread) 📊 | Detected existing split of train and test set, use existing split from .torcheeg/model_selection.\n",
      "[2025-05-16 13:00:39] INFO (torcheeg/MainThread) 💡 | If the dataset is re-generated, you need to re-generate the split of the dataset instead of using the previous split.\n",
      "GPU available: True (cuda), used: True\n",
      "TPU available: False, using: 0 TPU cores\n",
      "IPU available: False, using: 0 IPUs\n",
      "HPU available: False, using: 0 HPUs\n",
      "LOCAL_RANK: 0 - CUDA_VISIBLE_DEVICES: [0]\n",
      "/root/autodl-tmp/conda/envs/law/lib/python3.8/site-packages/pytorch_lightning/trainer/connectors/data_connector.py:224: PossibleUserWarning: The dataloader, train_dataloader, does not have many workers which may be a bottleneck. Consider increasing the value of the `num_workers` argument` (try 128 which is the number of cpus on this machine) in the `DataLoader` init to improve performance.\n",
      "  rank_zero_warn(\n"
     ]
    },
    {
     "name": "stdout",
     "output_type": "stream",
     "text": [
      "Epoch 0: 100%|██████████| 14/14 [00:01<00:00,  9.73it/s, loss=-0.0603, train_loss=-0.224, train_accuracy=0.500]  "
     ]
    },
    {
     "name": "stderr",
     "output_type": "stream",
     "text": [
      "Metric train_loss improved. New best score: -0.224\n"
     ]
    },
    {
     "name": "stdout",
     "output_type": "stream",
     "text": [
      "Epoch 0: 100%|██████████| 14/14 [00:01<00:00,  9.72it/s, loss=-0.0603, train_loss=-0.224, train_accuracy=0.500]"
     ]
    },
    {
     "name": "stderr",
     "output_type": "stream",
     "text": [
      "/root/autodl-tmp/conda/envs/law/lib/python3.8/site-packages/pytorch_lightning/core/module.py:493: UserWarning: You called `self.log('train_loss', ..., logger=True)` but have no logger configured. You can enable one by doing `Trainer(logger=ALogger(...))`\n",
      "  rank_zero_warn(\n",
      "/root/autodl-tmp/conda/envs/law/lib/python3.8/site-packages/pytorch_lightning/core/module.py:493: UserWarning: You called `self.log('train_accuracy', ..., logger=True)` but have no logger configured. You can enable one by doing `Trainer(logger=ALogger(...))`\n",
      "  rank_zero_warn(\n",
      "[2025-05-16 13:00:41] INFO (torcheeg/MainThread) \n",
      "[Train] train_loss: -0.060 train_accuracy: 0.544 \n",
      "\n"
     ]
    },
    {
     "name": "stdout",
     "output_type": "stream",
     "text": [
      "Epoch 1: 100%|██████████| 14/14 [00:01<00:00, 10.36it/s, loss=-0.402, train_loss=-0.562, train_accuracy=1.000] "
     ]
    },
    {
     "name": "stderr",
     "output_type": "stream",
     "text": [
      "Metric train_loss improved by 0.338 >= min_delta = 0.0. New best score: -0.562\n"
     ]
    },
    {
     "name": "stdout",
     "output_type": "stream",
     "text": [
      "Epoch 1: 100%|██████████| 14/14 [00:01<00:00, 10.35it/s, loss=-0.402, train_loss=-0.562, train_accuracy=1.000]"
     ]
    },
    {
     "name": "stderr",
     "output_type": "stream",
     "text": [
      "[2025-05-16 13:00:43] INFO (torcheeg/MainThread) \n",
      "[Train] train_loss: -0.505 train_accuracy: 0.931 \n",
      "\n"
     ]
    },
    {
     "name": "stdout",
     "output_type": "stream",
     "text": [
      "Epoch 2: 100%|██████████| 14/14 [00:01<00:00, 10.46it/s, loss=-0.629, train_loss=-0.721, train_accuracy=1.000]"
     ]
    },
    {
     "name": "stderr",
     "output_type": "stream",
     "text": [
      "Metric train_loss improved by 0.159 >= min_delta = 0.0. New best score: -0.721\n"
     ]
    },
    {
     "name": "stdout",
     "output_type": "stream",
     "text": [
      "Epoch 2: 100%|██████████| 14/14 [00:01<00:00, 10.45it/s, loss=-0.629, train_loss=-0.721, train_accuracy=1.000]"
     ]
    },
    {
     "name": "stderr",
     "output_type": "stream",
     "text": [
      "[2025-05-16 13:00:44] INFO (torcheeg/MainThread) \n",
      "[Train] train_loss: -0.651 train_accuracy: 0.994 \n",
      "\n"
     ]
    },
    {
     "name": "stdout",
     "output_type": "stream",
     "text": [
      "Epoch 3: 100%|██████████| 14/14 [00:01<00:00, 10.29it/s, loss=-0.692, train_loss=-0.70, train_accuracy=1.000] "
     ]
    },
    {
     "name": "stderr",
     "output_type": "stream",
     "text": [
      "[2025-05-16 13:00:46] INFO (torcheeg/MainThread) \n",
      "[Train] train_loss: -0.702 train_accuracy: 1.000 \n",
      "\n"
     ]
    },
    {
     "name": "stdout",
     "output_type": "stream",
     "text": [
      "Epoch 4: 100%|██████████| 14/14 [00:01<00:00, 10.44it/s, loss=-0.726, train_loss=-0.75, train_accuracy=1.000] "
     ]
    },
    {
     "name": "stderr",
     "output_type": "stream",
     "text": [
      "Metric train_loss improved by 0.029 >= min_delta = 0.0. New best score: -0.750\n"
     ]
    },
    {
     "name": "stdout",
     "output_type": "stream",
     "text": [
      "Epoch 4: 100%|██████████| 14/14 [00:01<00:00, 10.42it/s, loss=-0.726, train_loss=-0.75, train_accuracy=1.000]"
     ]
    },
    {
     "name": "stderr",
     "output_type": "stream",
     "text": [
      "[2025-05-16 13:00:47] INFO (torcheeg/MainThread) \n",
      "[Train] train_loss: -0.730 train_accuracy: 1.000 \n",
      "\n"
     ]
    },
    {
     "name": "stdout",
     "output_type": "stream",
     "text": [
      "Epoch 5: 100%|██████████| 14/14 [00:01<00:00, 10.46it/s, loss=-0.742, train_loss=-0.757, train_accuracy=1.000]"
     ]
    },
    {
     "name": "stderr",
     "output_type": "stream",
     "text": [
      "Metric train_loss improved by 0.007 >= min_delta = 0.0. New best score: -0.757\n"
     ]
    },
    {
     "name": "stdout",
     "output_type": "stream",
     "text": [
      "Epoch 5: 100%|██████████| 14/14 [00:01<00:00, 10.45it/s, loss=-0.742, train_loss=-0.757, train_accuracy=1.000]"
     ]
    },
    {
     "name": "stderr",
     "output_type": "stream",
     "text": [
      "[2025-05-16 13:00:48] INFO (torcheeg/MainThread) \n",
      "[Train] train_loss: -0.742 train_accuracy: 1.000 \n",
      "\n"
     ]
    },
    {
     "name": "stdout",
     "output_type": "stream",
     "text": [
      "Epoch 6: 100%|██████████| 14/14 [00:01<00:00, 10.37it/s, loss=-0.747, train_loss=-0.742, train_accuracy=1.000]"
     ]
    },
    {
     "name": "stderr",
     "output_type": "stream",
     "text": [
      "[2025-05-16 13:00:50] INFO (torcheeg/MainThread) \n",
      "[Train] train_loss: -0.749 train_accuracy: 1.000 \n",
      "\n"
     ]
    },
    {
     "name": "stdout",
     "output_type": "stream",
     "text": [
      "Epoch 7: 100%|██████████| 14/14 [00:01<00:00, 10.73it/s, loss=-0.748, train_loss=-0.727, train_accuracy=1.000]"
     ]
    },
    {
     "name": "stderr",
     "output_type": "stream",
     "text": [
      "[2025-05-16 13:00:51] INFO (torcheeg/MainThread) \n",
      "[Train] train_loss: -0.751 train_accuracy: 1.000 \n",
      "\n"
     ]
    },
    {
     "name": "stdout",
     "output_type": "stream",
     "text": [
      "Epoch 8: 100%|██████████| 14/14 [00:01<00:00, 10.75it/s, loss=-0.752, train_loss=-0.707, train_accuracy=1.000]"
     ]
    },
    {
     "name": "stderr",
     "output_type": "stream",
     "text": [
      "[2025-05-16 13:00:52] INFO (torcheeg/MainThread) \n",
      "[Train] train_loss: -0.753 train_accuracy: 1.000 \n",
      "\n"
     ]
    },
    {
     "name": "stdout",
     "output_type": "stream",
     "text": [
      "Epoch 9: 100%|██████████| 14/14 [00:01<00:00, 10.84it/s, loss=-0.754, train_loss=-0.744, train_accuracy=1.000]"
     ]
    },
    {
     "name": "stderr",
     "output_type": "stream",
     "text": [
      "[2025-05-16 13:00:53] INFO (torcheeg/MainThread) \n",
      "[Train] train_loss: -0.756 train_accuracy: 1.000 \n",
      "\n"
     ]
    },
    {
     "name": "stdout",
     "output_type": "stream",
     "text": [
      "Epoch 10: 100%|██████████| 14/14 [00:01<00:00, 10.75it/s, loss=-0.754, train_loss=-0.732, train_accuracy=1.000]"
     ]
    },
    {
     "name": "stderr",
     "output_type": "stream",
     "text": [
      "[2025-05-16 13:00:55] INFO (torcheeg/MainThread) \n",
      "[Train] train_loss: -0.756 train_accuracy: 1.000 \n",
      "\n"
     ]
    },
    {
     "name": "stdout",
     "output_type": "stream",
     "text": [
      "Epoch 11: 100%|██████████| 14/14 [00:01<00:00, 10.64it/s, loss=-0.757, train_loss=-0.759, train_accuracy=1.000]"
     ]
    },
    {
     "name": "stderr",
     "output_type": "stream",
     "text": [
      "Metric train_loss improved by 0.002 >= min_delta = 0.0. New best score: -0.759\n"
     ]
    },
    {
     "name": "stdout",
     "output_type": "stream",
     "text": [
      "Epoch 11: 100%|██████████| 14/14 [00:01<00:00, 10.63it/s, loss=-0.757, train_loss=-0.759, train_accuracy=1.000]"
     ]
    },
    {
     "name": "stderr",
     "output_type": "stream",
     "text": [
      "[2025-05-16 13:00:56] INFO (torcheeg/MainThread) \n",
      "[Train] train_loss: -0.759 train_accuracy: 1.000 \n",
      "\n"
     ]
    },
    {
     "name": "stdout",
     "output_type": "stream",
     "text": [
      "Epoch 12: 100%|██████████| 14/14 [00:01<00:00, 10.51it/s, loss=-0.761, train_loss=-0.796, train_accuracy=1.000]"
     ]
    },
    {
     "name": "stderr",
     "output_type": "stream",
     "text": [
      "Metric train_loss improved by 0.038 >= min_delta = 0.0. New best score: -0.796\n"
     ]
    },
    {
     "name": "stdout",
     "output_type": "stream",
     "text": [
      "Epoch 12: 100%|██████████| 14/14 [00:01<00:00, 10.50it/s, loss=-0.761, train_loss=-0.796, train_accuracy=1.000]"
     ]
    },
    {
     "name": "stderr",
     "output_type": "stream",
     "text": [
      "[2025-05-16 13:00:57] INFO (torcheeg/MainThread) \n",
      "[Train] train_loss: -0.762 train_accuracy: 1.000 \n",
      "\n"
     ]
    },
    {
     "name": "stdout",
     "output_type": "stream",
     "text": [
      "Epoch 13: 100%|██████████| 14/14 [00:01<00:00, 10.41it/s, loss=-0.76, train_loss=-0.693, train_accuracy=1.000] "
     ]
    },
    {
     "name": "stderr",
     "output_type": "stream",
     "text": [
      "[2025-05-16 13:00:59] INFO (torcheeg/MainThread) \n",
      "[Train] train_loss: -0.757 train_accuracy: 1.000 \n",
      "\n"
     ]
    },
    {
     "name": "stdout",
     "output_type": "stream",
     "text": [
      "Epoch 14: 100%|██████████| 14/14 [00:01<00:00, 10.68it/s, loss=-0.761, train_loss=-0.781, train_accuracy=1.000]"
     ]
    },
    {
     "name": "stderr",
     "output_type": "stream",
     "text": [
      "[2025-05-16 13:01:00] INFO (torcheeg/MainThread) \n",
      "[Train] train_loss: -0.762 train_accuracy: 1.000 \n",
      "\n"
     ]
    },
    {
     "name": "stdout",
     "output_type": "stream",
     "text": [
      "Epoch 15: 100%|██████████| 14/14 [00:01<00:00, 10.67it/s, loss=-0.758, train_loss=-0.702, train_accuracy=1.000]"
     ]
    },
    {
     "name": "stderr",
     "output_type": "stream",
     "text": [
      "[2025-05-16 13:01:01] INFO (torcheeg/MainThread) \n",
      "[Train] train_loss: -0.759 train_accuracy: 1.000 \n",
      "\n"
     ]
    },
    {
     "name": "stdout",
     "output_type": "stream",
     "text": [
      "Epoch 16: 100%|██████████| 14/14 [00:01<00:00, 10.55it/s, loss=-0.762, train_loss=-0.756, train_accuracy=1.000]"
     ]
    },
    {
     "name": "stderr",
     "output_type": "stream",
     "text": [
      "[2025-05-16 13:01:03] INFO (torcheeg/MainThread) \n",
      "[Train] train_loss: -0.762 train_accuracy: 1.000 \n",
      "\n"
     ]
    },
    {
     "name": "stdout",
     "output_type": "stream",
     "text": [
      "Epoch 17: 100%|██████████| 14/14 [00:01<00:00, 10.33it/s, loss=-0.761, train_loss=-0.747, train_accuracy=1.000]"
     ]
    },
    {
     "name": "stderr",
     "output_type": "stream",
     "text": [
      "[2025-05-16 13:01:04] INFO (torcheeg/MainThread) \n",
      "[Train] train_loss: -0.762 train_accuracy: 1.000 \n",
      "\n"
     ]
    },
    {
     "name": "stdout",
     "output_type": "stream",
     "text": [
      "Epoch 18: 100%|██████████| 14/14 [00:01<00:00, 10.32it/s, loss=-0.76, train_loss=-0.748, train_accuracy=1.000] "
     ]
    },
    {
     "name": "stderr",
     "output_type": "stream",
     "text": [
      "[2025-05-16 13:01:05] INFO (torcheeg/MainThread) \n",
      "[Train] train_loss: -0.762 train_accuracy: 1.000 \n",
      "\n"
     ]
    },
    {
     "name": "stdout",
     "output_type": "stream",
     "text": [
      "Epoch 19: 100%|██████████| 14/14 [00:01<00:00, 10.01it/s, loss=-0.763, train_loss=-0.743, train_accuracy=1.000]"
     ]
    },
    {
     "name": "stderr",
     "output_type": "stream",
     "text": [
      "[2025-05-16 13:01:07] INFO (torcheeg/MainThread) \n",
      "[Train] train_loss: -0.763 train_accuracy: 1.000 \n",
      "\n"
     ]
    },
    {
     "name": "stdout",
     "output_type": "stream",
     "text": [
      "Epoch 20: 100%|██████████| 14/14 [00:01<00:00, 10.29it/s, loss=-0.762, train_loss=-0.728, train_accuracy=1.000]"
     ]
    },
    {
     "name": "stderr",
     "output_type": "stream",
     "text": [
      "[2025-05-16 13:01:08] INFO (torcheeg/MainThread) \n",
      "[Train] train_loss: -0.763 train_accuracy: 1.000 \n",
      "\n"
     ]
    },
    {
     "name": "stdout",
     "output_type": "stream",
     "text": [
      "Epoch 21: 100%|██████████| 14/14 [00:01<00:00, 10.45it/s, loss=-0.761, train_loss=-0.754, train_accuracy=1.000]"
     ]
    },
    {
     "name": "stderr",
     "output_type": "stream",
     "text": [
      "[2025-05-16 13:01:10] INFO (torcheeg/MainThread) \n",
      "[Train] train_loss: -0.764 train_accuracy: 1.000 \n",
      "\n"
     ]
    },
    {
     "name": "stdout",
     "output_type": "stream",
     "text": [
      "Epoch 22: 100%|██████████| 14/14 [00:01<00:00, 10.20it/s, loss=-0.764, train_loss=-0.761, train_accuracy=1.000]"
     ]
    },
    {
     "name": "stderr",
     "output_type": "stream",
     "text": [
      "Monitored metric train_loss did not improve in the last 10 records. Best score: -0.796. Signaling Trainer to stop.\n"
     ]
    },
    {
     "name": "stdout",
     "output_type": "stream",
     "text": [
      "Epoch 22: 100%|██████████| 14/14 [00:01<00:00, 10.19it/s, loss=-0.764, train_loss=-0.761, train_accuracy=1.000]"
     ]
    },
    {
     "name": "stderr",
     "output_type": "stream",
     "text": [
      "[2025-05-16 13:01:11] INFO (torcheeg/MainThread) \n",
      "[Train] train_loss: -0.764 train_accuracy: 1.000 \n",
      "\n"
     ]
    },
    {
     "name": "stdout",
     "output_type": "stream",
     "text": [
      "Epoch 22: 100%|██████████| 14/14 [00:01<00:00, 10.17it/s, loss=-0.764, train_loss=-0.761, train_accuracy=1.000]\n"
     ]
    },
    {
     "name": "stderr",
     "output_type": "stream",
     "text": [
      "GPU available: True (cuda), used: True\n",
      "TPU available: False, using: 0 TPU cores\n",
      "IPU available: False, using: 0 IPUs\n",
      "HPU available: False, using: 0 HPUs\n",
      "LOCAL_RANK: 0 - CUDA_VISIBLE_DEVICES: [0]\n",
      "/root/autodl-tmp/conda/envs/law/lib/python3.8/site-packages/pytorch_lightning/trainer/connectors/data_connector.py:488: PossibleUserWarning: Your `test_dataloader`'s sampler has shuffling enabled, it is strongly recommended that you turn shuffling off for val/test/predict dataloaders.\n",
      "  rank_zero_warn(\n",
      "/root/autodl-tmp/conda/envs/law/lib/python3.8/site-packages/pytorch_lightning/trainer/connectors/data_connector.py:224: PossibleUserWarning: The dataloader, test_dataloader 0, does not have many workers which may be a bottleneck. Consider increasing the value of the `num_workers` argument` (try 128 which is the number of cpus on this machine) in the `DataLoader` init to improve performance.\n",
      "  rank_zero_warn(\n"
     ]
    },
    {
     "name": "stdout",
     "output_type": "stream",
     "text": [
      "Testing DataLoader 0: 100%|██████████| 14/14 [00:00<00:00, 68.04it/s]"
     ]
    },
    {
     "name": "stderr",
     "output_type": "stream",
     "text": [
      "/root/autodl-tmp/conda/envs/law/lib/python3.8/site-packages/pytorch_lightning/core/module.py:493: UserWarning: You called `self.log('test_loss', ..., logger=True)` but have no logger configured. You can enable one by doing `Trainer(logger=ALogger(...))`\n",
      "  rank_zero_warn(\n",
      "/root/autodl-tmp/conda/envs/law/lib/python3.8/site-packages/pytorch_lightning/core/module.py:493: UserWarning: You called `self.log('test_accuracy', ..., logger=True)` but have no logger configured. You can enable one by doing `Trainer(logger=ALogger(...))`\n",
      "  rank_zero_warn(\n",
      "[2025-05-16 13:01:12] INFO (torcheeg/MainThread) \n",
      "[Test] test_loss: 0.001 test_accuracy: 1.000 \n",
      "\n"
     ]
    },
    {
     "name": "stdout",
     "output_type": "stream",
     "text": [
      "Testing DataLoader 0: 100%|██████████| 14/14 [00:00<00:00, 66.52it/s]\n",
      "────────────────────────────────────────────────────────────────────────────────────────────────────────────────────────\n",
      "       Test metric             DataLoader 0\n",
      "────────────────────────────────────────────────────────────────────────────────────────────────────────────────────────\n",
      "      test_accuracy                 1.0\n",
      "        test_loss          0.0013087453553453088\n",
      "────────────────────────────────────────────────────────────────────────────────────────────────────────────────────────\n"
     ]
    },
    {
     "name": "stderr",
     "output_type": "stream",
     "text": [
      "GPU available: True (cuda), used: True\n",
      "TPU available: False, using: 0 TPU cores\n",
      "IPU available: False, using: 0 IPUs\n",
      "HPU available: False, using: 0 HPUs\n",
      "LOCAL_RANK: 0 - CUDA_VISIBLE_DEVICES: [0]\n"
     ]
    },
    {
     "name": "stdout",
     "output_type": "stream",
     "text": [
      "Testing DataLoader 0: 100%|██████████| 7/7 [00:00<00:00, 70.41it/s]"
     ]
    },
    {
     "name": "stderr",
     "output_type": "stream",
     "text": [
      "[2025-05-16 13:01:12] INFO (torcheeg/MainThread) \n",
      "[Test] test_loss: 1.168 test_accuracy: 0.562 \n",
      "\n"
     ]
    },
    {
     "name": "stdout",
     "output_type": "stream",
     "text": [
      "Testing DataLoader 0: 100%|██████████| 7/7 [00:00<00:00, 67.45it/s]\n",
      "────────────────────────────────────────────────────────────────────────────────────────────────────────────────────────\n",
      "       Test metric             DataLoader 0\n",
      "────────────────────────────────────────────────────────────────────────────────────────────────────────────────────────\n",
      "      test_accuracy               0.5625\n",
      "        test_loss           1.1680974960327148\n",
      "────────────────────────────────────────────────────────────────────────────────────────────────────────────────────────\n"
     ]
    },
    {
     "name": "stderr",
     "output_type": "stream",
     "text": [
      "GPU available: True (cuda), used: True\n",
      "TPU available: False, using: 0 TPU cores\n",
      "IPU available: False, using: 0 IPUs\n",
      "HPU available: False, using: 0 HPUs\n",
      "LOCAL_RANK: 0 - CUDA_VISIBLE_DEVICES: [0]\n",
      "/root/autodl-tmp/conda/envs/law/lib/python3.8/site-packages/pytorch_lightning/trainer/connectors/data_connector.py:224: PossibleUserWarning: The dataloader, train_dataloader, does not have many workers which may be a bottleneck. Consider increasing the value of the `num_workers` argument` (try 128 which is the number of cpus on this machine) in the `DataLoader` init to improve performance.\n",
      "  rank_zero_warn(\n"
     ]
    },
    {
     "name": "stdout",
     "output_type": "stream",
     "text": [
      "Epoch 0: 100%|██████████| 14/14 [00:01<00:00, 10.21it/s, loss=0.0395, train_loss=-0.235, train_accuracy=1.000]"
     ]
    },
    {
     "name": "stderr",
     "output_type": "stream",
     "text": [
      "Metric train_loss improved. New best score: -0.235\n"
     ]
    },
    {
     "name": "stdout",
     "output_type": "stream",
     "text": [
      "Epoch 0: 100%|██████████| 14/14 [00:01<00:00, 10.19it/s, loss=0.0395, train_loss=-0.235, train_accuracy=1.000]"
     ]
    },
    {
     "name": "stderr",
     "output_type": "stream",
     "text": [
      "/root/autodl-tmp/conda/envs/law/lib/python3.8/site-packages/pytorch_lightning/core/module.py:493: UserWarning: You called `self.log('train_loss', ..., logger=True)` but have no logger configured. You can enable one by doing `Trainer(logger=ALogger(...))`\n",
      "  rank_zero_warn(\n",
      "/root/autodl-tmp/conda/envs/law/lib/python3.8/site-packages/pytorch_lightning/core/module.py:493: UserWarning: You called `self.log('train_accuracy', ..., logger=True)` but have no logger configured. You can enable one by doing `Trainer(logger=ALogger(...))`\n",
      "  rank_zero_warn(\n",
      "[2025-05-16 13:01:15] INFO (torcheeg/MainThread) \n",
      "[Train] train_loss: 0.040 train_accuracy: 0.481 \n",
      "\n"
     ]
    },
    {
     "name": "stdout",
     "output_type": "stream",
     "text": [
      "Epoch 1: 100%|██████████| 14/14 [00:01<00:00, 10.11it/s, loss=-0.354, train_loss=-0.502, train_accuracy=0.750]"
     ]
    },
    {
     "name": "stderr",
     "output_type": "stream",
     "text": [
      "Metric train_loss improved by 0.267 >= min_delta = 0.0. New best score: -0.502\n"
     ]
    },
    {
     "name": "stdout",
     "output_type": "stream",
     "text": [
      "Epoch 1: 100%|██████████| 14/14 [00:01<00:00, 10.10it/s, loss=-0.354, train_loss=-0.502, train_accuracy=0.750]"
     ]
    },
    {
     "name": "stderr",
     "output_type": "stream",
     "text": [
      "[2025-05-16 13:01:17] INFO (torcheeg/MainThread) \n",
      "[Train] train_loss: -0.436 train_accuracy: 0.906 \n",
      "\n"
     ]
    },
    {
     "name": "stdout",
     "output_type": "stream",
     "text": [
      "Epoch 2: 100%|██████████| 14/14 [00:01<00:00, 10.40it/s, loss=-0.556, train_loss=-0.649, train_accuracy=1.000]"
     ]
    },
    {
     "name": "stderr",
     "output_type": "stream",
     "text": [
      "Metric train_loss improved by 0.147 >= min_delta = 0.0. New best score: -0.649\n"
     ]
    },
    {
     "name": "stdout",
     "output_type": "stream",
     "text": [
      "Epoch 2: 100%|██████████| 14/14 [00:01<00:00, 10.38it/s, loss=-0.556, train_loss=-0.649, train_accuracy=1.000]"
     ]
    },
    {
     "name": "stderr",
     "output_type": "stream",
     "text": [
      "[2025-05-16 13:01:18] INFO (torcheeg/MainThread) \n",
      "[Train] train_loss: -0.593 train_accuracy: 0.981 \n",
      "\n"
     ]
    },
    {
     "name": "stdout",
     "output_type": "stream",
     "text": [
      "Epoch 3: 100%|██████████| 14/14 [00:01<00:00, 10.23it/s, loss=-0.648, train_loss=-0.681, train_accuracy=1.000]"
     ]
    },
    {
     "name": "stderr",
     "output_type": "stream",
     "text": [
      "Metric train_loss improved by 0.032 >= min_delta = 0.0. New best score: -0.681\n"
     ]
    },
    {
     "name": "stdout",
     "output_type": "stream",
     "text": [
      "Epoch 3: 100%|██████████| 14/14 [00:01<00:00, 10.22it/s, loss=-0.648, train_loss=-0.681, train_accuracy=1.000]"
     ]
    },
    {
     "name": "stderr",
     "output_type": "stream",
     "text": [
      "[2025-05-16 13:01:19] INFO (torcheeg/MainThread) \n",
      "[Train] train_loss: -0.664 train_accuracy: 1.000 \n",
      "\n"
     ]
    },
    {
     "name": "stdout",
     "output_type": "stream",
     "text": [
      "Epoch 4: 100%|██████████| 14/14 [00:01<00:00, 10.10it/s, loss=-0.692, train_loss=-0.696, train_accuracy=1.000]"
     ]
    },
    {
     "name": "stderr",
     "output_type": "stream",
     "text": [
      "Metric train_loss improved by 0.014 >= min_delta = 0.0. New best score: -0.696\n"
     ]
    },
    {
     "name": "stdout",
     "output_type": "stream",
     "text": [
      "Epoch 4: 100%|██████████| 14/14 [00:01<00:00, 10.09it/s, loss=-0.692, train_loss=-0.696, train_accuracy=1.000]"
     ]
    },
    {
     "name": "stderr",
     "output_type": "stream",
     "text": [
      "[2025-05-16 13:01:21] INFO (torcheeg/MainThread) \n",
      "[Train] train_loss: -0.701 train_accuracy: 1.000 \n",
      "\n"
     ]
    },
    {
     "name": "stdout",
     "output_type": "stream",
     "text": [
      "Epoch 5: 100%|██████████| 14/14 [00:01<00:00, 10.33it/s, loss=-0.715, train_loss=-0.684, train_accuracy=1.000]"
     ]
    },
    {
     "name": "stderr",
     "output_type": "stream",
     "text": [
      "[2025-05-16 13:01:22] INFO (torcheeg/MainThread) \n",
      "[Train] train_loss: -0.718 train_accuracy: 1.000 \n",
      "\n"
     ]
    },
    {
     "name": "stdout",
     "output_type": "stream",
     "text": [
      "Epoch 6: 100%|██████████| 14/14 [00:01<00:00, 10.14it/s, loss=-0.729, train_loss=-0.705, train_accuracy=1.000]"
     ]
    },
    {
     "name": "stderr",
     "output_type": "stream",
     "text": [
      "Metric train_loss improved by 0.010 >= min_delta = 0.0. New best score: -0.705\n"
     ]
    },
    {
     "name": "stdout",
     "output_type": "stream",
     "text": [
      "Epoch 6: 100%|██████████| 14/14 [00:01<00:00, 10.12it/s, loss=-0.729, train_loss=-0.705, train_accuracy=1.000]"
     ]
    },
    {
     "name": "stderr",
     "output_type": "stream",
     "text": [
      "[2025-05-16 13:01:24] INFO (torcheeg/MainThread) \n",
      "[Train] train_loss: -0.732 train_accuracy: 1.000 \n",
      "\n"
     ]
    },
    {
     "name": "stdout",
     "output_type": "stream",
     "text": [
      "Epoch 7: 100%|██████████| 14/14 [00:01<00:00, 10.33it/s, loss=-0.739, train_loss=-0.787, train_accuracy=1.000]"
     ]
    },
    {
     "name": "stderr",
     "output_type": "stream",
     "text": [
      "Metric train_loss improved by 0.081 >= min_delta = 0.0. New best score: -0.787\n"
     ]
    },
    {
     "name": "stdout",
     "output_type": "stream",
     "text": [
      "Epoch 7: 100%|██████████| 14/14 [00:01<00:00, 10.32it/s, loss=-0.739, train_loss=-0.787, train_accuracy=1.000]"
     ]
    },
    {
     "name": "stderr",
     "output_type": "stream",
     "text": [
      "[2025-05-16 13:01:25] INFO (torcheeg/MainThread) \n",
      "[Train] train_loss: -0.741 train_accuracy: 1.000 \n",
      "\n"
     ]
    },
    {
     "name": "stdout",
     "output_type": "stream",
     "text": [
      "Epoch 8: 100%|██████████| 14/14 [00:01<00:00, 10.48it/s, loss=-0.747, train_loss=-0.784, train_accuracy=1.000]"
     ]
    },
    {
     "name": "stderr",
     "output_type": "stream",
     "text": [
      "[2025-05-16 13:01:26] INFO (torcheeg/MainThread) \n",
      "[Train] train_loss: -0.743 train_accuracy: 1.000 \n",
      "\n"
     ]
    },
    {
     "name": "stdout",
     "output_type": "stream",
     "text": [
      "Epoch 9: 100%|██████████| 14/14 [00:01<00:00, 10.32it/s, loss=-0.747, train_loss=-0.72, train_accuracy=1.000] "
     ]
    },
    {
     "name": "stderr",
     "output_type": "stream",
     "text": [
      "[2025-05-16 13:01:28] INFO (torcheeg/MainThread) \n",
      "[Train] train_loss: -0.744 train_accuracy: 1.000 \n",
      "\n"
     ]
    },
    {
     "name": "stdout",
     "output_type": "stream",
     "text": [
      "Epoch 10: 100%|██████████| 14/14 [00:01<00:00, 10.20it/s, loss=-0.748, train_loss=-0.764, train_accuracy=1.000]"
     ]
    },
    {
     "name": "stderr",
     "output_type": "stream",
     "text": [
      "[2025-05-16 13:01:29] INFO (torcheeg/MainThread) \n",
      "[Train] train_loss: -0.747 train_accuracy: 1.000 \n",
      "\n"
     ]
    },
    {
     "name": "stdout",
     "output_type": "stream",
     "text": [
      "Epoch 11: 100%|██████████| 14/14 [00:01<00:00, 10.48it/s, loss=-0.751, train_loss=-0.788, train_accuracy=1.000]"
     ]
    },
    {
     "name": "stderr",
     "output_type": "stream",
     "text": [
      "Metric train_loss improved by 0.001 >= min_delta = 0.0. New best score: -0.788\n"
     ]
    },
    {
     "name": "stdout",
     "output_type": "stream",
     "text": [
      "Epoch 11: 100%|██████████| 14/14 [00:01<00:00, 10.46it/s, loss=-0.751, train_loss=-0.788, train_accuracy=1.000]"
     ]
    },
    {
     "name": "stderr",
     "output_type": "stream",
     "text": [
      "[2025-05-16 13:01:30] INFO (torcheeg/MainThread) \n",
      "[Train] train_loss: -0.750 train_accuracy: 1.000 \n",
      "\n"
     ]
    },
    {
     "name": "stdout",
     "output_type": "stream",
     "text": [
      "Epoch 12: 100%|██████████| 14/14 [00:01<00:00, 10.25it/s, loss=-0.748, train_loss=-0.749, train_accuracy=1.000]"
     ]
    },
    {
     "name": "stderr",
     "output_type": "stream",
     "text": [
      "[2025-05-16 13:01:32] INFO (torcheeg/MainThread) \n",
      "[Train] train_loss: -0.747 train_accuracy: 1.000 \n",
      "\n"
     ]
    },
    {
     "name": "stdout",
     "output_type": "stream",
     "text": [
      "Epoch 13: 100%|██████████| 14/14 [00:01<00:00, 10.44it/s, loss=-0.749, train_loss=-0.744, train_accuracy=1.000]"
     ]
    },
    {
     "name": "stderr",
     "output_type": "stream",
     "text": [
      "[2025-05-16 13:01:33] INFO (torcheeg/MainThread) \n",
      "[Train] train_loss: -0.747 train_accuracy: 1.000 \n",
      "\n"
     ]
    },
    {
     "name": "stdout",
     "output_type": "stream",
     "text": [
      "Epoch 14: 100%|██████████| 14/14 [00:01<00:00, 10.29it/s, loss=-0.753, train_loss=-0.775, train_accuracy=1.000]"
     ]
    },
    {
     "name": "stderr",
     "output_type": "stream",
     "text": [
      "[2025-05-16 13:01:34] INFO (torcheeg/MainThread) \n",
      "[Train] train_loss: -0.750 train_accuracy: 1.000 \n",
      "\n"
     ]
    },
    {
     "name": "stdout",
     "output_type": "stream",
     "text": [
      "Epoch 15: 100%|██████████| 14/14 [00:01<00:00, 10.36it/s, loss=-0.757, train_loss=-0.826, train_accuracy=1.000]"
     ]
    },
    {
     "name": "stderr",
     "output_type": "stream",
     "text": [
      "Metric train_loss improved by 0.039 >= min_delta = 0.0. New best score: -0.826\n"
     ]
    },
    {
     "name": "stdout",
     "output_type": "stream",
     "text": [
      "Epoch 15: 100%|██████████| 14/14 [00:01<00:00, 10.35it/s, loss=-0.757, train_loss=-0.826, train_accuracy=1.000]"
     ]
    },
    {
     "name": "stderr",
     "output_type": "stream",
     "text": [
      "[2025-05-16 13:01:36] INFO (torcheeg/MainThread) \n",
      "[Train] train_loss: -0.755 train_accuracy: 1.000 \n",
      "\n"
     ]
    },
    {
     "name": "stdout",
     "output_type": "stream",
     "text": [
      "Epoch 16: 100%|██████████| 14/14 [00:01<00:00, 10.20it/s, loss=-0.755, train_loss=-0.748, train_accuracy=1.000]"
     ]
    },
    {
     "name": "stderr",
     "output_type": "stream",
     "text": [
      "[2025-05-16 13:01:37] INFO (torcheeg/MainThread) \n",
      "[Train] train_loss: -0.752 train_accuracy: 1.000 \n",
      "\n"
     ]
    },
    {
     "name": "stdout",
     "output_type": "stream",
     "text": [
      "Epoch 17: 100%|██████████| 14/14 [00:01<00:00, 10.40it/s, loss=-0.748, train_loss=-0.671, train_accuracy=1.000]"
     ]
    },
    {
     "name": "stderr",
     "output_type": "stream",
     "text": [
      "[2025-05-16 13:01:39] INFO (torcheeg/MainThread) \n",
      "[Train] train_loss: -0.747 train_accuracy: 1.000 \n",
      "\n"
     ]
    },
    {
     "name": "stdout",
     "output_type": "stream",
     "text": [
      "Epoch 18: 100%|██████████| 14/14 [00:01<00:00, 10.39it/s, loss=-0.749, train_loss=-0.729, train_accuracy=1.000]"
     ]
    },
    {
     "name": "stderr",
     "output_type": "stream",
     "text": [
      "[2025-05-16 13:01:40] INFO (torcheeg/MainThread) \n",
      "[Train] train_loss: -0.750 train_accuracy: 1.000 \n",
      "\n"
     ]
    },
    {
     "name": "stdout",
     "output_type": "stream",
     "text": [
      "Epoch 19: 100%|██████████| 14/14 [00:01<00:00, 10.49it/s, loss=-0.75, train_loss=-0.779, train_accuracy=1.000] "
     ]
    },
    {
     "name": "stderr",
     "output_type": "stream",
     "text": [
      "[2025-05-16 13:01:41] INFO (torcheeg/MainThread) \n",
      "[Train] train_loss: -0.752 train_accuracy: 1.000 \n",
      "\n"
     ]
    },
    {
     "name": "stdout",
     "output_type": "stream",
     "text": [
      "Epoch 20: 100%|██████████| 14/14 [00:01<00:00, 10.49it/s, loss=-0.751, train_loss=-0.744, train_accuracy=1.000]"
     ]
    },
    {
     "name": "stderr",
     "output_type": "stream",
     "text": [
      "[2025-05-16 13:01:43] INFO (torcheeg/MainThread) \n",
      "[Train] train_loss: -0.751 train_accuracy: 1.000 \n",
      "\n"
     ]
    },
    {
     "name": "stdout",
     "output_type": "stream",
     "text": [
      "Epoch 21: 100%|██████████| 14/14 [00:01<00:00, 10.62it/s, loss=-0.751, train_loss=-0.76, train_accuracy=1.000] "
     ]
    },
    {
     "name": "stderr",
     "output_type": "stream",
     "text": [
      "[2025-05-16 13:01:44] INFO (torcheeg/MainThread) \n",
      "[Train] train_loss: -0.752 train_accuracy: 1.000 \n",
      "\n"
     ]
    },
    {
     "name": "stdout",
     "output_type": "stream",
     "text": [
      "Epoch 22: 100%|██████████| 14/14 [00:01<00:00, 10.55it/s, loss=-0.753, train_loss=-0.756, train_accuracy=1.000]"
     ]
    },
    {
     "name": "stderr",
     "output_type": "stream",
     "text": [
      "[2025-05-16 13:01:45] INFO (torcheeg/MainThread) \n",
      "[Train] train_loss: -0.753 train_accuracy: 1.000 \n",
      "\n"
     ]
    },
    {
     "name": "stdout",
     "output_type": "stream",
     "text": [
      "Epoch 23: 100%|██████████| 14/14 [00:01<00:00, 10.72it/s, loss=-0.752, train_loss=-0.773, train_accuracy=1.000]"
     ]
    },
    {
     "name": "stderr",
     "output_type": "stream",
     "text": [
      "[2025-05-16 13:01:46] INFO (torcheeg/MainThread) \n",
      "[Train] train_loss: -0.753 train_accuracy: 1.000 \n",
      "\n"
     ]
    },
    {
     "name": "stdout",
     "output_type": "stream",
     "text": [
      "Epoch 24: 100%|██████████| 14/14 [00:01<00:00, 10.61it/s, loss=-0.754, train_loss=-0.708, train_accuracy=1.000]"
     ]
    },
    {
     "name": "stderr",
     "output_type": "stream",
     "text": [
      "[2025-05-16 13:01:48] INFO (torcheeg/MainThread) \n",
      "[Train] train_loss: -0.750 train_accuracy: 1.000 \n",
      "\n"
     ]
    },
    {
     "name": "stdout",
     "output_type": "stream",
     "text": [
      "Epoch 25: 100%|██████████| 14/14 [00:01<00:00, 10.55it/s, loss=-0.753, train_loss=-0.764, train_accuracy=1.000]"
     ]
    },
    {
     "name": "stderr",
     "output_type": "stream",
     "text": [
      "Monitored metric train_loss did not improve in the last 10 records. Best score: -0.826. Signaling Trainer to stop.\n"
     ]
    },
    {
     "name": "stdout",
     "output_type": "stream",
     "text": [
      "Epoch 25: 100%|██████████| 14/14 [00:01<00:00, 10.53it/s, loss=-0.753, train_loss=-0.764, train_accuracy=1.000]"
     ]
    },
    {
     "name": "stderr",
     "output_type": "stream",
     "text": [
      "[2025-05-16 13:01:49] INFO (torcheeg/MainThread) \n",
      "[Train] train_loss: -0.753 train_accuracy: 1.000 \n",
      "\n"
     ]
    },
    {
     "name": "stdout",
     "output_type": "stream",
     "text": [
      "Epoch 25: 100%|██████████| 14/14 [00:01<00:00, 10.51it/s, loss=-0.753, train_loss=-0.764, train_accuracy=1.000]\n"
     ]
    },
    {
     "name": "stderr",
     "output_type": "stream",
     "text": [
      "GPU available: True (cuda), used: True\n",
      "TPU available: False, using: 0 TPU cores\n",
      "IPU available: False, using: 0 IPUs\n",
      "HPU available: False, using: 0 HPUs\n",
      "LOCAL_RANK: 0 - CUDA_VISIBLE_DEVICES: [0]\n",
      "/root/autodl-tmp/conda/envs/law/lib/python3.8/site-packages/pytorch_lightning/trainer/connectors/data_connector.py:488: PossibleUserWarning: Your `test_dataloader`'s sampler has shuffling enabled, it is strongly recommended that you turn shuffling off for val/test/predict dataloaders.\n",
      "  rank_zero_warn(\n",
      "/root/autodl-tmp/conda/envs/law/lib/python3.8/site-packages/pytorch_lightning/trainer/connectors/data_connector.py:224: PossibleUserWarning: The dataloader, test_dataloader 0, does not have many workers which may be a bottleneck. Consider increasing the value of the `num_workers` argument` (try 128 which is the number of cpus on this machine) in the `DataLoader` init to improve performance.\n",
      "  rank_zero_warn(\n"
     ]
    },
    {
     "name": "stdout",
     "output_type": "stream",
     "text": [
      "Testing DataLoader 0: 100%|██████████| 14/14 [00:00<00:00, 75.44it/s]"
     ]
    },
    {
     "name": "stderr",
     "output_type": "stream",
     "text": [
      "/root/autodl-tmp/conda/envs/law/lib/python3.8/site-packages/pytorch_lightning/core/module.py:493: UserWarning: You called `self.log('test_loss', ..., logger=True)` but have no logger configured. You can enable one by doing `Trainer(logger=ALogger(...))`\n",
      "  rank_zero_warn(\n",
      "/root/autodl-tmp/conda/envs/law/lib/python3.8/site-packages/pytorch_lightning/core/module.py:493: UserWarning: You called `self.log('test_accuracy', ..., logger=True)` but have no logger configured. You can enable one by doing `Trainer(logger=ALogger(...))`\n",
      "  rank_zero_warn(\n",
      "[2025-05-16 13:01:50] INFO (torcheeg/MainThread) \n",
      "[Test] test_loss: 0.001 test_accuracy: 1.000 \n",
      "\n"
     ]
    },
    {
     "name": "stdout",
     "output_type": "stream",
     "text": [
      "Testing DataLoader 0: 100%|██████████| 14/14 [00:00<00:00, 32.13it/s]\n",
      "────────────────────────────────────────────────────────────────────────────────────────────────────────────────────────\n",
      "       Test metric             DataLoader 0\n",
      "────────────────────────────────────────────────────────────────────────────────────────────────────────────────────────\n",
      "      test_accuracy                 1.0\n",
      "        test_loss          0.0012912339298054576\n",
      "────────────────────────────────────────────────────────────────────────────────────────────────────────────────────────\n"
     ]
    },
    {
     "name": "stderr",
     "output_type": "stream",
     "text": [
      "GPU available: True (cuda), used: True\n",
      "TPU available: False, using: 0 TPU cores\n",
      "IPU available: False, using: 0 IPUs\n",
      "HPU available: False, using: 0 HPUs\n",
      "LOCAL_RANK: 0 - CUDA_VISIBLE_DEVICES: [0]\n"
     ]
    },
    {
     "name": "stdout",
     "output_type": "stream",
     "text": [
      "Testing DataLoader 0: 100%|██████████| 7/7 [00:00<00:00, 74.40it/s]"
     ]
    },
    {
     "name": "stderr",
     "output_type": "stream",
     "text": [
      "[2025-05-16 13:01:50] INFO (torcheeg/MainThread) \n",
      "[Test] test_loss: 0.310 test_accuracy: 0.863 \n",
      "\n"
     ]
    },
    {
     "name": "stdout",
     "output_type": "stream",
     "text": [
      "Testing DataLoader 0: 100%|██████████| 7/7 [00:00<00:00, 71.17it/s]\n",
      "────────────────────────────────────────────────────────────────────────────────────────────────────────────────────────\n",
      "       Test metric             DataLoader 0\n",
      "────────────────────────────────────────────────────────────────────────────────────────────────────────────────────────\n",
      "      test_accuracy          0.862500011920929\n",
      "        test_loss           0.31014031171798706\n",
      "────────────────────────────────────────────────────────────────────────────────────────────────────────────────────────\n"
     ]
    },
    {
     "name": "stderr",
     "output_type": "stream",
     "text": [
      "GPU available: True (cuda), used: True\n",
      "TPU available: False, using: 0 TPU cores\n",
      "IPU available: False, using: 0 IPUs\n",
      "HPU available: False, using: 0 HPUs\n",
      "LOCAL_RANK: 0 - CUDA_VISIBLE_DEVICES: [0]\n",
      "/root/autodl-tmp/conda/envs/law/lib/python3.8/site-packages/pytorch_lightning/trainer/connectors/data_connector.py:224: PossibleUserWarning: The dataloader, train_dataloader, does not have many workers which may be a bottleneck. Consider increasing the value of the `num_workers` argument` (try 128 which is the number of cpus on this machine) in the `DataLoader` init to improve performance.\n",
      "  rank_zero_warn(\n"
     ]
    },
    {
     "name": "stdout",
     "output_type": "stream",
     "text": [
      "Epoch 0: 100%|██████████| 17/17 [00:01<00:00, 10.32it/s, loss=-0.0344, train_loss=-0.314, train_accuracy=0.750] "
     ]
    },
    {
     "name": "stderr",
     "output_type": "stream",
     "text": [
      "Metric train_loss improved. New best score: -0.314\n"
     ]
    },
    {
     "name": "stdout",
     "output_type": "stream",
     "text": [
      "Epoch 0: 100%|██████████| 17/17 [00:01<00:00, 10.31it/s, loss=-0.0344, train_loss=-0.314, train_accuracy=0.750]"
     ]
    },
    {
     "name": "stderr",
     "output_type": "stream",
     "text": [
      "/root/autodl-tmp/conda/envs/law/lib/python3.8/site-packages/pytorch_lightning/core/module.py:493: UserWarning: You called `self.log('train_loss', ..., logger=True)` but have no logger configured. You can enable one by doing `Trainer(logger=ALogger(...))`\n",
      "  rank_zero_warn(\n",
      "/root/autodl-tmp/conda/envs/law/lib/python3.8/site-packages/pytorch_lightning/core/module.py:493: UserWarning: You called `self.log('train_accuracy', ..., logger=True)` but have no logger configured. You can enable one by doing `Trainer(logger=ALogger(...))`\n",
      "  rank_zero_warn(\n",
      "[2025-05-16 13:01:54] INFO (torcheeg/MainThread) \n",
      "[Train] train_loss: -0.034 train_accuracy: 0.540 \n",
      "\n"
     ]
    },
    {
     "name": "stdout",
     "output_type": "stream",
     "text": [
      "Epoch 1: 100%|██████████| 17/17 [00:01<00:00, 10.52it/s, loss=-0.417, train_loss=-0.584, train_accuracy=1.000] "
     ]
    },
    {
     "name": "stderr",
     "output_type": "stream",
     "text": [
      "Metric train_loss improved by 0.270 >= min_delta = 0.0. New best score: -0.584\n"
     ]
    },
    {
     "name": "stdout",
     "output_type": "stream",
     "text": [
      "Epoch 1: 100%|██████████| 17/17 [00:01<00:00, 10.51it/s, loss=-0.417, train_loss=-0.584, train_accuracy=1.000]"
     ]
    },
    {
     "name": "stderr",
     "output_type": "stream",
     "text": [
      "[2025-05-16 13:01:55] INFO (torcheeg/MainThread) \n",
      "[Train] train_loss: -0.499 train_accuracy: 0.915 \n",
      "\n"
     ]
    },
    {
     "name": "stdout",
     "output_type": "stream",
     "text": [
      "Epoch 2: 100%|██████████| 17/17 [00:01<00:00, 10.43it/s, loss=-0.577, train_loss=-0.584, train_accuracy=1.000]"
     ]
    },
    {
     "name": "stderr",
     "output_type": "stream",
     "text": [
      "[2025-05-16 13:01:57] INFO (torcheeg/MainThread) \n",
      "[Train] train_loss: -0.594 train_accuracy: 0.985 \n",
      "\n"
     ]
    },
    {
     "name": "stdout",
     "output_type": "stream",
     "text": [
      "Epoch 3: 100%|██████████| 17/17 [00:01<00:00,  9.67it/s, loss=-0.653, train_loss=-0.686, train_accuracy=1.000]"
     ]
    },
    {
     "name": "stderr",
     "output_type": "stream",
     "text": [
      "Metric train_loss improved by 0.102 >= min_delta = 0.0. New best score: -0.686\n"
     ]
    },
    {
     "name": "stdout",
     "output_type": "stream",
     "text": [
      "Epoch 3: 100%|██████████| 17/17 [00:01<00:00,  9.66it/s, loss=-0.653, train_loss=-0.686, train_accuracy=1.000]"
     ]
    },
    {
     "name": "stderr",
     "output_type": "stream",
     "text": [
      "[2025-05-16 13:01:59] INFO (torcheeg/MainThread) \n",
      "[Train] train_loss: -0.665 train_accuracy: 1.000 \n",
      "\n"
     ]
    },
    {
     "name": "stdout",
     "output_type": "stream",
     "text": [
      "Epoch 4: 100%|██████████| 17/17 [00:01<00:00, 10.12it/s, loss=-0.691, train_loss=-0.753, train_accuracy=1.000]"
     ]
    },
    {
     "name": "stderr",
     "output_type": "stream",
     "text": [
      "Metric train_loss improved by 0.067 >= min_delta = 0.0. New best score: -0.753\n"
     ]
    },
    {
     "name": "stdout",
     "output_type": "stream",
     "text": [
      "Epoch 4: 100%|██████████| 17/17 [00:01<00:00, 10.11it/s, loss=-0.691, train_loss=-0.753, train_accuracy=1.000]"
     ]
    },
    {
     "name": "stderr",
     "output_type": "stream",
     "text": [
      "[2025-05-16 13:02:00] INFO (torcheeg/MainThread) \n",
      "[Train] train_loss: -0.695 train_accuracy: 1.000 \n",
      "\n"
     ]
    },
    {
     "name": "stdout",
     "output_type": "stream",
     "text": [
      "Epoch 5: 100%|██████████| 17/17 [00:01<00:00, 10.08it/s, loss=-0.706, train_loss=-0.718, train_accuracy=1.000]"
     ]
    },
    {
     "name": "stderr",
     "output_type": "stream",
     "text": [
      "[2025-05-16 13:02:02] INFO (torcheeg/MainThread) \n",
      "[Train] train_loss: -0.706 train_accuracy: 1.000 \n",
      "\n"
     ]
    },
    {
     "name": "stdout",
     "output_type": "stream",
     "text": [
      "Epoch 6: 100%|██████████| 17/17 [00:01<00:00, 10.35it/s, loss=-0.713, train_loss=-0.736, train_accuracy=1.000]"
     ]
    },
    {
     "name": "stderr",
     "output_type": "stream",
     "text": [
      "[2025-05-16 13:02:04] INFO (torcheeg/MainThread) \n",
      "[Train] train_loss: -0.715 train_accuracy: 1.000 \n",
      "\n"
     ]
    },
    {
     "name": "stdout",
     "output_type": "stream",
     "text": [
      "Epoch 7: 100%|██████████| 17/17 [00:01<00:00, 10.18it/s, loss=-0.718, train_loss=-0.745, train_accuracy=1.000]"
     ]
    },
    {
     "name": "stderr",
     "output_type": "stream",
     "text": [
      "[2025-05-16 13:02:05] INFO (torcheeg/MainThread) \n",
      "[Train] train_loss: -0.719 train_accuracy: 1.000 \n",
      "\n"
     ]
    },
    {
     "name": "stdout",
     "output_type": "stream",
     "text": [
      "Epoch 8: 100%|██████████| 17/17 [00:01<00:00, 10.27it/s, loss=-0.72, train_loss=-0.756, train_accuracy=1.000] "
     ]
    },
    {
     "name": "stderr",
     "output_type": "stream",
     "text": [
      "Metric train_loss improved by 0.003 >= min_delta = 0.0. New best score: -0.756\n"
     ]
    },
    {
     "name": "stdout",
     "output_type": "stream",
     "text": [
      "Epoch 8: 100%|██████████| 17/17 [00:01<00:00, 10.26it/s, loss=-0.72, train_loss=-0.756, train_accuracy=1.000]"
     ]
    },
    {
     "name": "stderr",
     "output_type": "stream",
     "text": [
      "[2025-05-16 13:02:07] INFO (torcheeg/MainThread) \n",
      "[Train] train_loss: -0.720 train_accuracy: 1.000 \n",
      "\n"
     ]
    },
    {
     "name": "stdout",
     "output_type": "stream",
     "text": [
      "Epoch 9: 100%|██████████| 17/17 [00:01<00:00, 10.30it/s, loss=-0.72, train_loss=-0.705, train_accuracy=1.000] "
     ]
    },
    {
     "name": "stderr",
     "output_type": "stream",
     "text": [
      "[2025-05-16 13:02:09] INFO (torcheeg/MainThread) \n",
      "[Train] train_loss: -0.721 train_accuracy: 1.000 \n",
      "\n"
     ]
    },
    {
     "name": "stdout",
     "output_type": "stream",
     "text": [
      "Epoch 10: 100%|██████████| 17/17 [00:01<00:00, 10.20it/s, loss=-0.722, train_loss=-0.665, train_accuracy=1.000]"
     ]
    },
    {
     "name": "stderr",
     "output_type": "stream",
     "text": [
      "[2025-05-16 13:02:10] INFO (torcheeg/MainThread) \n",
      "[Train] train_loss: -0.721 train_accuracy: 1.000 \n",
      "\n"
     ]
    },
    {
     "name": "stdout",
     "output_type": "stream",
     "text": [
      "Epoch 11: 100%|██████████| 17/17 [00:01<00:00, 10.35it/s, loss=-0.72, train_loss=-0.701, train_accuracy=1.000] "
     ]
    },
    {
     "name": "stderr",
     "output_type": "stream",
     "text": [
      "[2025-05-16 13:02:12] INFO (torcheeg/MainThread) \n",
      "[Train] train_loss: -0.722 train_accuracy: 1.000 \n",
      "\n"
     ]
    },
    {
     "name": "stdout",
     "output_type": "stream",
     "text": [
      "Epoch 12: 100%|██████████| 17/17 [00:01<00:00, 10.41it/s, loss=-0.724, train_loss=-0.718, train_accuracy=1.000]"
     ]
    },
    {
     "name": "stderr",
     "output_type": "stream",
     "text": [
      "[2025-05-16 13:02:14] INFO (torcheeg/MainThread) \n",
      "[Train] train_loss: -0.723 train_accuracy: 1.000 \n",
      "\n"
     ]
    },
    {
     "name": "stdout",
     "output_type": "stream",
     "text": [
      "Epoch 13: 100%|██████████| 17/17 [00:01<00:00, 10.44it/s, loss=-0.726, train_loss=-0.755, train_accuracy=1.000]"
     ]
    },
    {
     "name": "stderr",
     "output_type": "stream",
     "text": [
      "[2025-05-16 13:02:15] INFO (torcheeg/MainThread) \n",
      "[Train] train_loss: -0.724 train_accuracy: 1.000 \n",
      "\n"
     ]
    },
    {
     "name": "stdout",
     "output_type": "stream",
     "text": [
      "Epoch 14: 100%|██████████| 17/17 [00:01<00:00, 10.24it/s, loss=-0.724, train_loss=-0.704, train_accuracy=1.000]"
     ]
    },
    {
     "name": "stderr",
     "output_type": "stream",
     "text": [
      "[2025-05-16 13:02:17] INFO (torcheeg/MainThread) \n",
      "[Train] train_loss: -0.722 train_accuracy: 1.000 \n",
      "\n"
     ]
    },
    {
     "name": "stdout",
     "output_type": "stream",
     "text": [
      "Epoch 15: 100%|██████████| 17/17 [00:01<00:00, 10.38it/s, loss=-0.72, train_loss=-0.68, train_accuracy=1.000]  "
     ]
    },
    {
     "name": "stderr",
     "output_type": "stream",
     "text": [
      "[2025-05-16 13:02:18] INFO (torcheeg/MainThread) \n",
      "[Train] train_loss: -0.722 train_accuracy: 1.000 \n",
      "\n"
     ]
    },
    {
     "name": "stdout",
     "output_type": "stream",
     "text": [
      "Epoch 16: 100%|██████████| 17/17 [00:01<00:00, 10.23it/s, loss=-0.722, train_loss=-0.734, train_accuracy=1.000]"
     ]
    },
    {
     "name": "stderr",
     "output_type": "stream",
     "text": [
      "[2025-05-16 13:02:20] INFO (torcheeg/MainThread) \n",
      "[Train] train_loss: -0.724 train_accuracy: 1.000 \n",
      "\n"
     ]
    },
    {
     "name": "stdout",
     "output_type": "stream",
     "text": [
      "Epoch 17: 100%|██████████| 17/17 [00:01<00:00, 10.18it/s, loss=-0.723, train_loss=-0.734, train_accuracy=1.000]"
     ]
    },
    {
     "name": "stderr",
     "output_type": "stream",
     "text": [
      "[2025-05-16 13:02:22] INFO (torcheeg/MainThread) \n",
      "[Train] train_loss: -0.724 train_accuracy: 1.000 \n",
      "\n"
     ]
    },
    {
     "name": "stdout",
     "output_type": "stream",
     "text": [
      "Epoch 18: 100%|██████████| 17/17 [00:01<00:00,  9.96it/s, loss=-0.723, train_loss=-0.733, train_accuracy=1.000]"
     ]
    },
    {
     "name": "stderr",
     "output_type": "stream",
     "text": [
      "Monitored metric train_loss did not improve in the last 10 records. Best score: -0.756. Signaling Trainer to stop.\n"
     ]
    },
    {
     "name": "stdout",
     "output_type": "stream",
     "text": [
      "Epoch 18: 100%|██████████| 17/17 [00:01<00:00,  9.94it/s, loss=-0.723, train_loss=-0.733, train_accuracy=1.000]"
     ]
    },
    {
     "name": "stderr",
     "output_type": "stream",
     "text": [
      "[2025-05-16 13:02:23] INFO (torcheeg/MainThread) \n",
      "[Train] train_loss: -0.724 train_accuracy: 1.000 \n",
      "\n"
     ]
    },
    {
     "name": "stdout",
     "output_type": "stream",
     "text": [
      "Epoch 18: 100%|██████████| 17/17 [00:01<00:00,  9.92it/s, loss=-0.723, train_loss=-0.733, train_accuracy=1.000]\n"
     ]
    },
    {
     "name": "stderr",
     "output_type": "stream",
     "text": [
      "GPU available: True (cuda), used: True\n",
      "TPU available: False, using: 0 TPU cores\n",
      "IPU available: False, using: 0 IPUs\n",
      "HPU available: False, using: 0 HPUs\n",
      "LOCAL_RANK: 0 - CUDA_VISIBLE_DEVICES: [0]\n",
      "/root/autodl-tmp/conda/envs/law/lib/python3.8/site-packages/pytorch_lightning/trainer/connectors/data_connector.py:488: PossibleUserWarning: Your `test_dataloader`'s sampler has shuffling enabled, it is strongly recommended that you turn shuffling off for val/test/predict dataloaders.\n",
      "  rank_zero_warn(\n",
      "/root/autodl-tmp/conda/envs/law/lib/python3.8/site-packages/pytorch_lightning/trainer/connectors/data_connector.py:224: PossibleUserWarning: The dataloader, test_dataloader 0, does not have many workers which may be a bottleneck. Consider increasing the value of the `num_workers` argument` (try 128 which is the number of cpus on this machine) in the `DataLoader` init to improve performance.\n",
      "  rank_zero_warn(\n"
     ]
    },
    {
     "name": "stdout",
     "output_type": "stream",
     "text": [
      "Testing DataLoader 0: 100%|██████████| 17/17 [00:00<00:00, 69.57it/s]"
     ]
    },
    {
     "name": "stderr",
     "output_type": "stream",
     "text": [
      "/root/autodl-tmp/conda/envs/law/lib/python3.8/site-packages/pytorch_lightning/core/module.py:493: UserWarning: You called `self.log('test_loss', ..., logger=True)` but have no logger configured. You can enable one by doing `Trainer(logger=ALogger(...))`\n",
      "  rank_zero_warn(\n",
      "/root/autodl-tmp/conda/envs/law/lib/python3.8/site-packages/pytorch_lightning/core/module.py:493: UserWarning: You called `self.log('test_accuracy', ..., logger=True)` but have no logger configured. You can enable one by doing `Trainer(logger=ALogger(...))`\n",
      "  rank_zero_warn(\n",
      "[2025-05-16 13:02:24] INFO (torcheeg/MainThread) \n",
      "[Test] test_loss: 0.002 test_accuracy: 1.000 \n",
      "\n"
     ]
    },
    {
     "name": "stdout",
     "output_type": "stream",
     "text": [
      "Testing DataLoader 0: 100%|██████████| 17/17 [00:00<00:00, 68.30it/s]\n",
      "────────────────────────────────────────────────────────────────────────────────────────────────────────────────────────\n",
      "       Test metric             DataLoader 0\n",
      "────────────────────────────────────────────────────────────────────────────────────────────────────────────────────────\n",
      "      test_accuracy                 1.0\n",
      "        test_loss          0.0018231114372611046\n",
      "────────────────────────────────────────────────────────────────────────────────────────────────────────────────────────\n"
     ]
    },
    {
     "name": "stderr",
     "output_type": "stream",
     "text": [
      "GPU available: True (cuda), used: True\n",
      "TPU available: False, using: 0 TPU cores\n",
      "IPU available: False, using: 0 IPUs\n",
      "HPU available: False, using: 0 HPUs\n",
      "LOCAL_RANK: 0 - CUDA_VISIBLE_DEVICES: [0]\n"
     ]
    },
    {
     "name": "stdout",
     "output_type": "stream",
     "text": [
      "Testing DataLoader 0: 100%|██████████| 4/4 [00:00<00:00, 75.87it/s]"
     ]
    },
    {
     "name": "stderr",
     "output_type": "stream",
     "text": [
      "[2025-05-16 13:02:25] INFO (torcheeg/MainThread) \n",
      "[Test] test_loss: 0.238 test_accuracy: 0.950 \n",
      "\n"
     ]
    },
    {
     "name": "stdout",
     "output_type": "stream",
     "text": [
      "Testing DataLoader 0: 100%|██████████| 4/4 [00:00<00:00, 70.40it/s]\n",
      "────────────────────────────────────────────────────────────────────────────────────────────────────────────────────────\n",
      "       Test metric             DataLoader 0\n",
      "────────────────────────────────────────────────────────────────────────────────────────────────────────────────────────\n",
      "      test_accuracy          0.949999988079071\n",
      "        test_loss           0.23794278502464294\n",
      "────────────────────────────────────────────────────────────────────────────────────────────────────────────────────────\n"
     ]
    },
    {
     "name": "stderr",
     "output_type": "stream",
     "text": [
      "GPU available: True (cuda), used: True\n",
      "TPU available: False, using: 0 TPU cores\n",
      "IPU available: False, using: 0 IPUs\n",
      "HPU available: False, using: 0 HPUs\n",
      "LOCAL_RANK: 0 - CUDA_VISIBLE_DEVICES: [0]\n",
      "/root/autodl-tmp/conda/envs/law/lib/python3.8/site-packages/pytorch_lightning/trainer/connectors/data_connector.py:224: PossibleUserWarning: The dataloader, train_dataloader, does not have many workers which may be a bottleneck. Consider increasing the value of the `num_workers` argument` (try 128 which is the number of cpus on this machine) in the `DataLoader` init to improve performance.\n",
      "  rank_zero_warn(\n"
     ]
    },
    {
     "name": "stdout",
     "output_type": "stream",
     "text": [
      "Epoch 0: 100%|██████████| 17/17 [00:01<00:00, 10.02it/s, loss=-0.0619, train_loss=-0.294, train_accuracy=0.875]  "
     ]
    },
    {
     "name": "stderr",
     "output_type": "stream",
     "text": [
      "Metric train_loss improved. New best score: -0.294\n"
     ]
    },
    {
     "name": "stdout",
     "output_type": "stream",
     "text": [
      "Epoch 0: 100%|██████████| 17/17 [00:01<00:00, 10.01it/s, loss=-0.0619, train_loss=-0.294, train_accuracy=0.875]"
     ]
    },
    {
     "name": "stderr",
     "output_type": "stream",
     "text": [
      "/root/autodl-tmp/conda/envs/law/lib/python3.8/site-packages/pytorch_lightning/core/module.py:493: UserWarning: You called `self.log('train_loss', ..., logger=True)` but have no logger configured. You can enable one by doing `Trainer(logger=ALogger(...))`\n",
      "  rank_zero_warn(\n",
      "/root/autodl-tmp/conda/envs/law/lib/python3.8/site-packages/pytorch_lightning/core/module.py:493: UserWarning: You called `self.log('train_accuracy', ..., logger=True)` but have no logger configured. You can enable one by doing `Trainer(logger=ALogger(...))`\n",
      "  rank_zero_warn(\n",
      "[2025-05-16 13:02:28] INFO (torcheeg/MainThread) \n",
      "[Train] train_loss: -0.062 train_accuracy: 0.585 \n",
      "\n"
     ]
    },
    {
     "name": "stdout",
     "output_type": "stream",
     "text": [
      "Epoch 1: 100%|██████████| 17/17 [00:01<00:00, 10.24it/s, loss=-0.378, train_loss=-0.45, train_accuracy=1.000]  "
     ]
    },
    {
     "name": "stderr",
     "output_type": "stream",
     "text": [
      "Metric train_loss improved by 0.156 >= min_delta = 0.0. New best score: -0.450\n"
     ]
    },
    {
     "name": "stdout",
     "output_type": "stream",
     "text": [
      "Epoch 1: 100%|██████████| 17/17 [00:01<00:00, 10.23it/s, loss=-0.378, train_loss=-0.45, train_accuracy=1.000]"
     ]
    },
    {
     "name": "stderr",
     "output_type": "stream",
     "text": [
      "[2025-05-16 13:02:30] INFO (torcheeg/MainThread) \n",
      "[Train] train_loss: -0.448 train_accuracy: 0.890 \n",
      "\n"
     ]
    },
    {
     "name": "stdout",
     "output_type": "stream",
     "text": [
      "Epoch 2: 100%|██████████| 17/17 [00:01<00:00, 10.60it/s, loss=-0.595, train_loss=-0.633, train_accuracy=1.000]"
     ]
    },
    {
     "name": "stderr",
     "output_type": "stream",
     "text": [
      "Metric train_loss improved by 0.184 >= min_delta = 0.0. New best score: -0.633\n"
     ]
    },
    {
     "name": "stdout",
     "output_type": "stream",
     "text": [
      "Epoch 2: 100%|██████████| 17/17 [00:01<00:00, 10.59it/s, loss=-0.595, train_loss=-0.633, train_accuracy=1.000]"
     ]
    },
    {
     "name": "stderr",
     "output_type": "stream",
     "text": [
      "[2025-05-16 13:02:31] INFO (torcheeg/MainThread) \n",
      "[Train] train_loss: -0.613 train_accuracy: 0.985 \n",
      "\n"
     ]
    },
    {
     "name": "stdout",
     "output_type": "stream",
     "text": [
      "Epoch 3: 100%|██████████| 17/17 [00:01<00:00, 10.44it/s, loss=-0.677, train_loss=-0.68, train_accuracy=1.000] "
     ]
    },
    {
     "name": "stderr",
     "output_type": "stream",
     "text": [
      "Metric train_loss improved by 0.047 >= min_delta = 0.0. New best score: -0.680\n"
     ]
    },
    {
     "name": "stdout",
     "output_type": "stream",
     "text": [
      "Epoch 3: 100%|██████████| 17/17 [00:01<00:00, 10.43it/s, loss=-0.677, train_loss=-0.68, train_accuracy=1.000]"
     ]
    },
    {
     "name": "stderr",
     "output_type": "stream",
     "text": [
      "[2025-05-16 13:02:33] INFO (torcheeg/MainThread) \n",
      "[Train] train_loss: -0.684 train_accuracy: 1.000 \n",
      "\n"
     ]
    },
    {
     "name": "stdout",
     "output_type": "stream",
     "text": [
      "Epoch 4: 100%|██████████| 17/17 [00:01<00:00, 10.68it/s, loss=-0.707, train_loss=-0.737, train_accuracy=1.000]"
     ]
    },
    {
     "name": "stderr",
     "output_type": "stream",
     "text": [
      "Metric train_loss improved by 0.057 >= min_delta = 0.0. New best score: -0.737\n"
     ]
    },
    {
     "name": "stdout",
     "output_type": "stream",
     "text": [
      "Epoch 4: 100%|██████████| 17/17 [00:01<00:00, 10.67it/s, loss=-0.707, train_loss=-0.737, train_accuracy=1.000]"
     ]
    },
    {
     "name": "stderr",
     "output_type": "stream",
     "text": [
      "[2025-05-16 13:02:34] INFO (torcheeg/MainThread) \n",
      "[Train] train_loss: -0.713 train_accuracy: 1.000 \n",
      "\n"
     ]
    },
    {
     "name": "stdout",
     "output_type": "stream",
     "text": [
      "Epoch 5: 100%|██████████| 17/17 [00:01<00:00, 10.58it/s, loss=-0.727, train_loss=-0.705, train_accuracy=1.000]"
     ]
    },
    {
     "name": "stderr",
     "output_type": "stream",
     "text": [
      "[2025-05-16 13:02:36] INFO (torcheeg/MainThread) \n",
      "[Train] train_loss: -0.728 train_accuracy: 1.000 \n",
      "\n"
     ]
    },
    {
     "name": "stdout",
     "output_type": "stream",
     "text": [
      "Epoch 6: 100%|██████████| 17/17 [00:01<00:00, 10.59it/s, loss=-0.732, train_loss=-0.753, train_accuracy=1.000]"
     ]
    },
    {
     "name": "stderr",
     "output_type": "stream",
     "text": [
      "Metric train_loss improved by 0.016 >= min_delta = 0.0. New best score: -0.753\n"
     ]
    },
    {
     "name": "stdout",
     "output_type": "stream",
     "text": [
      "Epoch 6: 100%|██████████| 17/17 [00:01<00:00, 10.58it/s, loss=-0.732, train_loss=-0.753, train_accuracy=1.000]"
     ]
    },
    {
     "name": "stderr",
     "output_type": "stream",
     "text": [
      "[2025-05-16 13:02:38] INFO (torcheeg/MainThread) \n",
      "[Train] train_loss: -0.735 train_accuracy: 1.000 \n",
      "\n"
     ]
    },
    {
     "name": "stdout",
     "output_type": "stream",
     "text": [
      "Epoch 7: 100%|██████████| 17/17 [00:01<00:00, 10.36it/s, loss=-0.74, train_loss=-0.754, train_accuracy=1.000] "
     ]
    },
    {
     "name": "stderr",
     "output_type": "stream",
     "text": [
      "Metric train_loss improved by 0.000 >= min_delta = 0.0. New best score: -0.754\n"
     ]
    },
    {
     "name": "stdout",
     "output_type": "stream",
     "text": [
      "Epoch 7: 100%|██████████| 17/17 [00:01<00:00, 10.35it/s, loss=-0.74, train_loss=-0.754, train_accuracy=1.000]"
     ]
    },
    {
     "name": "stderr",
     "output_type": "stream",
     "text": [
      "[2025-05-16 13:02:39] INFO (torcheeg/MainThread) \n",
      "[Train] train_loss: -0.739 train_accuracy: 1.000 \n",
      "\n"
     ]
    },
    {
     "name": "stdout",
     "output_type": "stream",
     "text": [
      "Epoch 8: 100%|██████████| 17/17 [00:01<00:00, 10.30it/s, loss=-0.742, train_loss=-0.765, train_accuracy=1.000]"
     ]
    },
    {
     "name": "stderr",
     "output_type": "stream",
     "text": [
      "Metric train_loss improved by 0.011 >= min_delta = 0.0. New best score: -0.765\n"
     ]
    },
    {
     "name": "stdout",
     "output_type": "stream",
     "text": [
      "Epoch 8: 100%|██████████| 17/17 [00:01<00:00, 10.29it/s, loss=-0.742, train_loss=-0.765, train_accuracy=1.000]"
     ]
    },
    {
     "name": "stderr",
     "output_type": "stream",
     "text": [
      "[2025-05-16 13:02:41] INFO (torcheeg/MainThread) \n",
      "[Train] train_loss: -0.742 train_accuracy: 1.000 \n",
      "\n"
     ]
    },
    {
     "name": "stdout",
     "output_type": "stream",
     "text": [
      "Epoch 9: 100%|██████████| 17/17 [00:01<00:00, 10.13it/s, loss=-0.745, train_loss=-0.737, train_accuracy=1.000]"
     ]
    },
    {
     "name": "stderr",
     "output_type": "stream",
     "text": [
      "[2025-05-16 13:02:43] INFO (torcheeg/MainThread) \n",
      "[Train] train_loss: -0.744 train_accuracy: 1.000 \n",
      "\n"
     ]
    },
    {
     "name": "stdout",
     "output_type": "stream",
     "text": [
      "Epoch 10: 100%|██████████| 17/17 [00:01<00:00, 10.36it/s, loss=-0.744, train_loss=-0.695, train_accuracy=1.000]"
     ]
    },
    {
     "name": "stderr",
     "output_type": "stream",
     "text": [
      "[2025-05-16 13:02:44] INFO (torcheeg/MainThread) \n",
      "[Train] train_loss: -0.744 train_accuracy: 1.000 \n",
      "\n"
     ]
    },
    {
     "name": "stdout",
     "output_type": "stream",
     "text": [
      "Epoch 11: 100%|██████████| 17/17 [00:01<00:00, 10.27it/s, loss=-0.743, train_loss=-0.726, train_accuracy=1.000]"
     ]
    },
    {
     "name": "stderr",
     "output_type": "stream",
     "text": [
      "[2025-05-16 13:02:46] INFO (torcheeg/MainThread) \n",
      "[Train] train_loss: -0.745 train_accuracy: 1.000 \n",
      "\n"
     ]
    },
    {
     "name": "stdout",
     "output_type": "stream",
     "text": [
      "Epoch 12: 100%|██████████| 17/17 [00:01<00:00, 10.15it/s, loss=-0.746, train_loss=-0.744, train_accuracy=1.000]"
     ]
    },
    {
     "name": "stderr",
     "output_type": "stream",
     "text": [
      "[2025-05-16 13:02:48] INFO (torcheeg/MainThread) \n",
      "[Train] train_loss: -0.746 train_accuracy: 1.000 \n",
      "\n"
     ]
    },
    {
     "name": "stdout",
     "output_type": "stream",
     "text": [
      "Epoch 13: 100%|██████████| 17/17 [00:01<00:00, 10.30it/s, loss=-0.75, train_loss=-0.749, train_accuracy=1.000] "
     ]
    },
    {
     "name": "stderr",
     "output_type": "stream",
     "text": [
      "[2025-05-16 13:02:49] INFO (torcheeg/MainThread) \n",
      "[Train] train_loss: -0.747 train_accuracy: 1.000 \n",
      "\n"
     ]
    },
    {
     "name": "stdout",
     "output_type": "stream",
     "text": [
      "Epoch 14: 100%|██████████| 17/17 [00:01<00:00, 10.33it/s, loss=-0.747, train_loss=-0.741, train_accuracy=1.000]"
     ]
    },
    {
     "name": "stderr",
     "output_type": "stream",
     "text": [
      "[2025-05-16 13:02:51] INFO (torcheeg/MainThread) \n",
      "[Train] train_loss: -0.748 train_accuracy: 1.000 \n",
      "\n"
     ]
    },
    {
     "name": "stdout",
     "output_type": "stream",
     "text": [
      "Epoch 15: 100%|██████████| 17/17 [00:01<00:00, 10.24it/s, loss=-0.746, train_loss=-0.704, train_accuracy=1.000]"
     ]
    },
    {
     "name": "stderr",
     "output_type": "stream",
     "text": [
      "[2025-05-16 13:02:53] INFO (torcheeg/MainThread) \n",
      "[Train] train_loss: -0.747 train_accuracy: 1.000 \n",
      "\n"
     ]
    },
    {
     "name": "stdout",
     "output_type": "stream",
     "text": [
      "Epoch 16: 100%|██████████| 17/17 [00:01<00:00, 10.33it/s, loss=-0.748, train_loss=-0.765, train_accuracy=1.000]"
     ]
    },
    {
     "name": "stderr",
     "output_type": "stream",
     "text": [
      "Metric train_loss improved by 0.000 >= min_delta = 0.0. New best score: -0.765\n"
     ]
    },
    {
     "name": "stdout",
     "output_type": "stream",
     "text": [
      "Epoch 16: 100%|██████████| 17/17 [00:01<00:00, 10.32it/s, loss=-0.748, train_loss=-0.765, train_accuracy=1.000]"
     ]
    },
    {
     "name": "stderr",
     "output_type": "stream",
     "text": [
      "[2025-05-16 13:02:54] INFO (torcheeg/MainThread) \n",
      "[Train] train_loss: -0.749 train_accuracy: 1.000 \n",
      "\n"
     ]
    },
    {
     "name": "stdout",
     "output_type": "stream",
     "text": [
      "Epoch 17: 100%|██████████| 17/17 [00:01<00:00,  9.92it/s, loss=-0.747, train_loss=-0.739, train_accuracy=1.000]"
     ]
    },
    {
     "name": "stderr",
     "output_type": "stream",
     "text": [
      "[2025-05-16 13:02:56] INFO (torcheeg/MainThread) \n",
      "[Train] train_loss: -0.748 train_accuracy: 1.000 \n",
      "\n"
     ]
    },
    {
     "name": "stdout",
     "output_type": "stream",
     "text": [
      "Epoch 18: 100%|██████████| 17/17 [00:01<00:00, 10.18it/s, loss=-0.748, train_loss=-0.728, train_accuracy=1.000]"
     ]
    },
    {
     "name": "stderr",
     "output_type": "stream",
     "text": [
      "[2025-05-16 13:02:58] INFO (torcheeg/MainThread) \n",
      "[Train] train_loss: -0.748 train_accuracy: 1.000 \n",
      "\n"
     ]
    },
    {
     "name": "stdout",
     "output_type": "stream",
     "text": [
      "Epoch 19: 100%|██████████| 17/17 [00:01<00:00, 10.28it/s, loss=-0.749, train_loss=-0.788, train_accuracy=1.000]"
     ]
    },
    {
     "name": "stderr",
     "output_type": "stream",
     "text": [
      "Metric train_loss improved by 0.022 >= min_delta = 0.0. New best score: -0.788\n"
     ]
    },
    {
     "name": "stdout",
     "output_type": "stream",
     "text": [
      "Epoch 19: 100%|██████████| 17/17 [00:01<00:00, 10.27it/s, loss=-0.749, train_loss=-0.788, train_accuracy=1.000]"
     ]
    },
    {
     "name": "stderr",
     "output_type": "stream",
     "text": [
      "[2025-05-16 13:02:59] INFO (torcheeg/MainThread) \n",
      "[Train] train_loss: -0.750 train_accuracy: 1.000 \n",
      "\n"
     ]
    },
    {
     "name": "stdout",
     "output_type": "stream",
     "text": [
      "Epoch 20: 100%|██████████| 17/17 [00:01<00:00, 10.21it/s, loss=-0.75, train_loss=-0.744, train_accuracy=1.000] "
     ]
    },
    {
     "name": "stderr",
     "output_type": "stream",
     "text": [
      "[2025-05-16 13:03:01] INFO (torcheeg/MainThread) \n",
      "[Train] train_loss: -0.748 train_accuracy: 1.000 \n",
      "\n"
     ]
    },
    {
     "name": "stdout",
     "output_type": "stream",
     "text": [
      "Epoch 21: 100%|██████████| 17/17 [00:01<00:00, 10.29it/s, loss=-0.751, train_loss=-0.772, train_accuracy=1.000]"
     ]
    },
    {
     "name": "stderr",
     "output_type": "stream",
     "text": [
      "[2025-05-16 13:03:03] INFO (torcheeg/MainThread) \n",
      "[Train] train_loss: -0.749 train_accuracy: 1.000 \n",
      "\n"
     ]
    },
    {
     "name": "stdout",
     "output_type": "stream",
     "text": [
      "Epoch 22: 100%|██████████| 17/17 [00:01<00:00, 10.35it/s, loss=-0.752, train_loss=-0.77, train_accuracy=1.000] "
     ]
    },
    {
     "name": "stderr",
     "output_type": "stream",
     "text": [
      "[2025-05-16 13:03:04] INFO (torcheeg/MainThread) \n",
      "[Train] train_loss: -0.750 train_accuracy: 1.000 \n",
      "\n"
     ]
    },
    {
     "name": "stdout",
     "output_type": "stream",
     "text": [
      "Epoch 23: 100%|██████████| 17/17 [00:01<00:00, 10.12it/s, loss=-0.75, train_loss=-0.769, train_accuracy=1.000] "
     ]
    },
    {
     "name": "stderr",
     "output_type": "stream",
     "text": [
      "[2025-05-16 13:03:06] INFO (torcheeg/MainThread) \n",
      "[Train] train_loss: -0.750 train_accuracy: 1.000 \n",
      "\n"
     ]
    },
    {
     "name": "stdout",
     "output_type": "stream",
     "text": [
      "Epoch 24: 100%|██████████| 17/17 [00:01<00:00, 10.40it/s, loss=-0.751, train_loss=-0.785, train_accuracy=1.000]"
     ]
    },
    {
     "name": "stderr",
     "output_type": "stream",
     "text": [
      "[2025-05-16 13:03:08] INFO (torcheeg/MainThread) \n",
      "[Train] train_loss: -0.751 train_accuracy: 1.000 \n",
      "\n"
     ]
    },
    {
     "name": "stdout",
     "output_type": "stream",
     "text": [
      "Epoch 25: 100%|██████████| 17/17 [00:01<00:00, 10.11it/s, loss=-0.751, train_loss=-0.739, train_accuracy=1.000]"
     ]
    },
    {
     "name": "stderr",
     "output_type": "stream",
     "text": [
      "[2025-05-16 13:03:09] INFO (torcheeg/MainThread) \n",
      "[Train] train_loss: -0.749 train_accuracy: 1.000 \n",
      "\n"
     ]
    },
    {
     "name": "stdout",
     "output_type": "stream",
     "text": [
      "Epoch 26: 100%|██████████| 17/17 [00:01<00:00, 10.28it/s, loss=-0.749, train_loss=-0.765, train_accuracy=1.000]"
     ]
    },
    {
     "name": "stderr",
     "output_type": "stream",
     "text": [
      "[2025-05-16 13:03:11] INFO (torcheeg/MainThread) \n",
      "[Train] train_loss: -0.749 train_accuracy: 1.000 \n",
      "\n"
     ]
    },
    {
     "name": "stdout",
     "output_type": "stream",
     "text": [
      "Epoch 27: 100%|██████████| 17/17 [00:01<00:00, 10.24it/s, loss=-0.751, train_loss=-0.738, train_accuracy=1.000]"
     ]
    },
    {
     "name": "stderr",
     "output_type": "stream",
     "text": [
      "[2025-05-16 13:03:13] INFO (torcheeg/MainThread) \n",
      "[Train] train_loss: -0.748 train_accuracy: 1.000 \n",
      "\n"
     ]
    },
    {
     "name": "stdout",
     "output_type": "stream",
     "text": [
      "Epoch 28: 100%|██████████| 17/17 [00:01<00:00, 10.53it/s, loss=-0.749, train_loss=-0.743, train_accuracy=1.000]"
     ]
    },
    {
     "name": "stderr",
     "output_type": "stream",
     "text": [
      "[2025-05-16 13:03:14] INFO (torcheeg/MainThread) \n",
      "[Train] train_loss: -0.748 train_accuracy: 1.000 \n",
      "\n"
     ]
    },
    {
     "name": "stdout",
     "output_type": "stream",
     "text": [
      "Epoch 29: 100%|██████████| 17/17 [00:01<00:00, 10.27it/s, loss=-0.75, train_loss=-0.75, train_accuracy=1.000]  "
     ]
    },
    {
     "name": "stderr",
     "output_type": "stream",
     "text": [
      "Monitored metric train_loss did not improve in the last 10 records. Best score: -0.788. Signaling Trainer to stop.\n"
     ]
    },
    {
     "name": "stdout",
     "output_type": "stream",
     "text": [
      "Epoch 29: 100%|██████████| 17/17 [00:01<00:00, 10.26it/s, loss=-0.75, train_loss=-0.75, train_accuracy=1.000]"
     ]
    },
    {
     "name": "stderr",
     "output_type": "stream",
     "text": [
      "[2025-05-16 13:03:16] INFO (torcheeg/MainThread) \n",
      "[Train] train_loss: -0.749 train_accuracy: 1.000 \n",
      "\n",
      "`Trainer.fit` stopped: `max_epochs=30` reached.\n"
     ]
    },
    {
     "name": "stdout",
     "output_type": "stream",
     "text": [
      "Epoch 29: 100%|██████████| 17/17 [00:01<00:00, 10.22it/s, loss=-0.75, train_loss=-0.75, train_accuracy=1.000]\n"
     ]
    },
    {
     "name": "stderr",
     "output_type": "stream",
     "text": [
      "GPU available: True (cuda), used: True\n",
      "TPU available: False, using: 0 TPU cores\n",
      "IPU available: False, using: 0 IPUs\n",
      "HPU available: False, using: 0 HPUs\n",
      "LOCAL_RANK: 0 - CUDA_VISIBLE_DEVICES: [0]\n",
      "/root/autodl-tmp/conda/envs/law/lib/python3.8/site-packages/pytorch_lightning/trainer/connectors/data_connector.py:488: PossibleUserWarning: Your `test_dataloader`'s sampler has shuffling enabled, it is strongly recommended that you turn shuffling off for val/test/predict dataloaders.\n",
      "  rank_zero_warn(\n",
      "/root/autodl-tmp/conda/envs/law/lib/python3.8/site-packages/pytorch_lightning/trainer/connectors/data_connector.py:224: PossibleUserWarning: The dataloader, test_dataloader 0, does not have many workers which may be a bottleneck. Consider increasing the value of the `num_workers` argument` (try 128 which is the number of cpus on this machine) in the `DataLoader` init to improve performance.\n",
      "  rank_zero_warn(\n"
     ]
    },
    {
     "name": "stdout",
     "output_type": "stream",
     "text": [
      "Testing DataLoader 0: 100%|██████████| 17/17 [00:00<00:00, 72.99it/s]"
     ]
    },
    {
     "name": "stderr",
     "output_type": "stream",
     "text": [
      "/root/autodl-tmp/conda/envs/law/lib/python3.8/site-packages/pytorch_lightning/core/module.py:493: UserWarning: You called `self.log('test_loss', ..., logger=True)` but have no logger configured. You can enable one by doing `Trainer(logger=ALogger(...))`\n",
      "  rank_zero_warn(\n",
      "/root/autodl-tmp/conda/envs/law/lib/python3.8/site-packages/pytorch_lightning/core/module.py:493: UserWarning: You called `self.log('test_accuracy', ..., logger=True)` but have no logger configured. You can enable one by doing `Trainer(logger=ALogger(...))`\n",
      "  rank_zero_warn(\n",
      "[2025-05-16 13:03:17] INFO (torcheeg/MainThread) \n",
      "[Test] test_loss: 0.001 test_accuracy: 1.000 \n",
      "\n"
     ]
    },
    {
     "name": "stdout",
     "output_type": "stream",
     "text": [
      "Testing DataLoader 0: 100%|██████████| 17/17 [00:00<00:00, 71.62it/s]\n",
      "────────────────────────────────────────────────────────────────────────────────────────────────────────────────────────\n",
      "       Test metric             DataLoader 0\n",
      "────────────────────────────────────────────────────────────────────────────────────────────────────────────────────────\n",
      "      test_accuracy                 1.0\n",
      "        test_loss          0.0007073993911035359\n",
      "────────────────────────────────────────────────────────────────────────────────────────────────────────────────────────\n"
     ]
    },
    {
     "name": "stderr",
     "output_type": "stream",
     "text": [
      "GPU available: True (cuda), used: True\n",
      "TPU available: False, using: 0 TPU cores\n",
      "IPU available: False, using: 0 IPUs\n",
      "HPU available: False, using: 0 HPUs\n",
      "LOCAL_RANK: 0 - CUDA_VISIBLE_DEVICES: [0]\n"
     ]
    },
    {
     "name": "stdout",
     "output_type": "stream",
     "text": [
      "Testing DataLoader 0: 100%|██████████| 4/4 [00:00<00:00, 77.32it/s]"
     ]
    },
    {
     "name": "stderr",
     "output_type": "stream",
     "text": [
      "[2025-05-16 13:03:17] INFO (torcheeg/MainThread) \n",
      "[Test] test_loss: 0.224 test_accuracy: 0.925 \n",
      "\n"
     ]
    },
    {
     "name": "stdout",
     "output_type": "stream",
     "text": [
      "Testing DataLoader 0: 100%|██████████| 4/4 [00:00<00:00, 69.80it/s]\n",
      "────────────────────────────────────────────────────────────────────────────────────────────────────────────────────────\n",
      "       Test metric             DataLoader 0\n",
      "────────────────────────────────────────────────────────────────────────────────────────────────────────────────────────\n",
      "      test_accuracy          0.925000011920929\n",
      "        test_loss           0.2239590585231781\n",
      "────────────────────────────────────────────────────────────────────────────────────────────────────────────────────────\n"
     ]
    },
    {
     "name": "stderr",
     "output_type": "stream",
     "text": [
      "GPU available: True (cuda), used: True\n",
      "TPU available: False, using: 0 TPU cores\n",
      "IPU available: False, using: 0 IPUs\n",
      "HPU available: False, using: 0 HPUs\n",
      "LOCAL_RANK: 0 - CUDA_VISIBLE_DEVICES: [0]\n",
      "/root/autodl-tmp/conda/envs/law/lib/python3.8/site-packages/pytorch_lightning/trainer/connectors/data_connector.py:224: PossibleUserWarning: The dataloader, train_dataloader, does not have many workers which may be a bottleneck. Consider increasing the value of the `num_workers` argument` (try 128 which is the number of cpus on this machine) in the `DataLoader` init to improve performance.\n",
      "  rank_zero_warn(\n"
     ]
    },
    {
     "name": "stdout",
     "output_type": "stream",
     "text": [
      "Epoch 0: 100%|██████████| 14/14 [00:01<00:00, 10.19it/s, loss=-0.0986, train_loss=-0.284, train_accuracy=1.000]  "
     ]
    },
    {
     "name": "stderr",
     "output_type": "stream",
     "text": [
      "Metric train_loss improved. New best score: -0.284\n"
     ]
    },
    {
     "name": "stdout",
     "output_type": "stream",
     "text": [
      "Epoch 0: 100%|██████████| 14/14 [00:01<00:00, 10.18it/s, loss=-0.0986, train_loss=-0.284, train_accuracy=1.000]"
     ]
    },
    {
     "name": "stderr",
     "output_type": "stream",
     "text": [
      "/root/autodl-tmp/conda/envs/law/lib/python3.8/site-packages/pytorch_lightning/core/module.py:493: UserWarning: You called `self.log('train_loss', ..., logger=True)` but have no logger configured. You can enable one by doing `Trainer(logger=ALogger(...))`\n",
      "  rank_zero_warn(\n",
      "/root/autodl-tmp/conda/envs/law/lib/python3.8/site-packages/pytorch_lightning/core/module.py:493: UserWarning: You called `self.log('train_accuracy', ..., logger=True)` but have no logger configured. You can enable one by doing `Trainer(logger=ALogger(...))`\n",
      "  rank_zero_warn(\n",
      "[2025-05-16 13:03:20] INFO (torcheeg/MainThread) \n",
      "[Train] train_loss: -0.099 train_accuracy: 0.644 \n",
      "\n"
     ]
    },
    {
     "name": "stdout",
     "output_type": "stream",
     "text": [
      "Epoch 1: 100%|██████████| 14/14 [00:01<00:00, 10.08it/s, loss=-0.444, train_loss=-0.704, train_accuracy=1.000] "
     ]
    },
    {
     "name": "stderr",
     "output_type": "stream",
     "text": [
      "Metric train_loss improved by 0.421 >= min_delta = 0.0. New best score: -0.704\n"
     ]
    },
    {
     "name": "stdout",
     "output_type": "stream",
     "text": [
      "Epoch 1: 100%|██████████| 14/14 [00:01<00:00, 10.07it/s, loss=-0.444, train_loss=-0.704, train_accuracy=1.000]"
     ]
    },
    {
     "name": "stderr",
     "output_type": "stream",
     "text": [
      "[2025-05-16 13:03:21] INFO (torcheeg/MainThread) \n",
      "[Train] train_loss: -0.566 train_accuracy: 0.969 \n",
      "\n"
     ]
    },
    {
     "name": "stdout",
     "output_type": "stream",
     "text": [
      "Epoch 2: 100%|██████████| 14/14 [00:01<00:00, 10.43it/s, loss=-0.672, train_loss=-0.765, train_accuracy=1.000]"
     ]
    },
    {
     "name": "stderr",
     "output_type": "stream",
     "text": [
      "Metric train_loss improved by 0.060 >= min_delta = 0.0. New best score: -0.765\n"
     ]
    },
    {
     "name": "stdout",
     "output_type": "stream",
     "text": [
      "Epoch 2: 100%|██████████| 14/14 [00:01<00:00, 10.42it/s, loss=-0.672, train_loss=-0.765, train_accuracy=1.000]"
     ]
    },
    {
     "name": "stderr",
     "output_type": "stream",
     "text": [
      "[2025-05-16 13:03:23] INFO (torcheeg/MainThread) \n",
      "[Train] train_loss: -0.694 train_accuracy: 1.000 \n",
      "\n"
     ]
    },
    {
     "name": "stdout",
     "output_type": "stream",
     "text": [
      "Epoch 3: 100%|██████████| 14/14 [00:01<00:00, 10.21it/s, loss=-0.728, train_loss=-0.749, train_accuracy=1.000]"
     ]
    },
    {
     "name": "stderr",
     "output_type": "stream",
     "text": [
      "[2025-05-16 13:03:24] INFO (torcheeg/MainThread) \n",
      "[Train] train_loss: -0.737 train_accuracy: 1.000 \n",
      "\n"
     ]
    },
    {
     "name": "stdout",
     "output_type": "stream",
     "text": [
      "Epoch 4: 100%|██████████| 14/14 [00:01<00:00, 10.32it/s, loss=-0.753, train_loss=-0.767, train_accuracy=1.000]"
     ]
    },
    {
     "name": "stderr",
     "output_type": "stream",
     "text": [
      "Metric train_loss improved by 0.003 >= min_delta = 0.0. New best score: -0.767\n"
     ]
    },
    {
     "name": "stdout",
     "output_type": "stream",
     "text": [
      "Epoch 4: 100%|██████████| 14/14 [00:01<00:00, 10.30it/s, loss=-0.753, train_loss=-0.767, train_accuracy=1.000]"
     ]
    },
    {
     "name": "stderr",
     "output_type": "stream",
     "text": [
      "[2025-05-16 13:03:25] INFO (torcheeg/MainThread) \n",
      "[Train] train_loss: -0.756 train_accuracy: 1.000 \n",
      "\n"
     ]
    },
    {
     "name": "stdout",
     "output_type": "stream",
     "text": [
      "Epoch 5: 100%|██████████| 14/14 [00:01<00:00, 10.48it/s, loss=-0.764, train_loss=-0.792, train_accuracy=1.000]"
     ]
    },
    {
     "name": "stderr",
     "output_type": "stream",
     "text": [
      "Metric train_loss improved by 0.025 >= min_delta = 0.0. New best score: -0.792\n"
     ]
    },
    {
     "name": "stdout",
     "output_type": "stream",
     "text": [
      "Epoch 5: 100%|██████████| 14/14 [00:01<00:00, 10.46it/s, loss=-0.764, train_loss=-0.792, train_accuracy=1.000]"
     ]
    },
    {
     "name": "stderr",
     "output_type": "stream",
     "text": [
      "[2025-05-16 13:03:27] INFO (torcheeg/MainThread) \n",
      "[Train] train_loss: -0.765 train_accuracy: 1.000 \n",
      "\n"
     ]
    },
    {
     "name": "stdout",
     "output_type": "stream",
     "text": [
      "Epoch 6: 100%|██████████| 14/14 [00:01<00:00, 10.41it/s, loss=-0.766, train_loss=-0.784, train_accuracy=1.000]"
     ]
    },
    {
     "name": "stderr",
     "output_type": "stream",
     "text": [
      "[2025-05-16 13:03:28] INFO (torcheeg/MainThread) \n",
      "[Train] train_loss: -0.769 train_accuracy: 1.000 \n",
      "\n"
     ]
    },
    {
     "name": "stdout",
     "output_type": "stream",
     "text": [
      "Epoch 7: 100%|██████████| 14/14 [00:01<00:00, 10.56it/s, loss=-0.774, train_loss=-0.806, train_accuracy=1.000]"
     ]
    },
    {
     "name": "stderr",
     "output_type": "stream",
     "text": [
      "Metric train_loss improved by 0.013 >= min_delta = 0.0. New best score: -0.806\n"
     ]
    },
    {
     "name": "stdout",
     "output_type": "stream",
     "text": [
      "Epoch 7: 100%|██████████| 14/14 [00:01<00:00, 10.55it/s, loss=-0.774, train_loss=-0.806, train_accuracy=1.000]"
     ]
    },
    {
     "name": "stderr",
     "output_type": "stream",
     "text": [
      "[2025-05-16 13:03:29] INFO (torcheeg/MainThread) \n",
      "[Train] train_loss: -0.773 train_accuracy: 1.000 \n",
      "\n"
     ]
    },
    {
     "name": "stdout",
     "output_type": "stream",
     "text": [
      "Epoch 8: 100%|██████████| 14/14 [00:01<00:00, 10.57it/s, loss=-0.774, train_loss=-0.744, train_accuracy=1.000]"
     ]
    },
    {
     "name": "stderr",
     "output_type": "stream",
     "text": [
      "[2025-05-16 13:03:31] INFO (torcheeg/MainThread) \n",
      "[Train] train_loss: -0.771 train_accuracy: 1.000 \n",
      "\n"
     ]
    },
    {
     "name": "stdout",
     "output_type": "stream",
     "text": [
      "Epoch 9: 100%|██████████| 14/14 [00:01<00:00, 10.42it/s, loss=-0.77, train_loss=-0.757, train_accuracy=1.000] "
     ]
    },
    {
     "name": "stderr",
     "output_type": "stream",
     "text": [
      "[2025-05-16 13:03:32] INFO (torcheeg/MainThread) \n",
      "[Train] train_loss: -0.774 train_accuracy: 1.000 \n",
      "\n"
     ]
    },
    {
     "name": "stdout",
     "output_type": "stream",
     "text": [
      "Epoch 10: 100%|██████████| 14/14 [00:01<00:00, 10.34it/s, loss=-0.774, train_loss=-0.714, train_accuracy=1.000]"
     ]
    },
    {
     "name": "stderr",
     "output_type": "stream",
     "text": [
      "[2025-05-16 13:03:33] INFO (torcheeg/MainThread) \n",
      "[Train] train_loss: -0.774 train_accuracy: 1.000 \n",
      "\n"
     ]
    },
    {
     "name": "stdout",
     "output_type": "stream",
     "text": [
      "Epoch 11: 100%|██████████| 14/14 [00:01<00:00, 10.33it/s, loss=-0.774, train_loss=-0.806, train_accuracy=1.000]"
     ]
    },
    {
     "name": "stderr",
     "output_type": "stream",
     "text": [
      "[2025-05-16 13:03:35] INFO (torcheeg/MainThread) \n",
      "[Train] train_loss: -0.778 train_accuracy: 1.000 \n",
      "\n"
     ]
    },
    {
     "name": "stdout",
     "output_type": "stream",
     "text": [
      "Epoch 12: 100%|██████████| 14/14 [00:01<00:00, 10.07it/s, loss=-0.781, train_loss=-0.765, train_accuracy=1.000]"
     ]
    },
    {
     "name": "stderr",
     "output_type": "stream",
     "text": [
      "[2025-05-16 13:03:36] INFO (torcheeg/MainThread) \n",
      "[Train] train_loss: -0.776 train_accuracy: 1.000 \n",
      "\n"
     ]
    },
    {
     "name": "stdout",
     "output_type": "stream",
     "text": [
      "Epoch 13: 100%|██████████| 14/14 [00:01<00:00, 10.29it/s, loss=-0.783, train_loss=-0.802, train_accuracy=1.000]"
     ]
    },
    {
     "name": "stderr",
     "output_type": "stream",
     "text": [
      "[2025-05-16 13:03:38] INFO (torcheeg/MainThread) \n",
      "[Train] train_loss: -0.778 train_accuracy: 1.000 \n",
      "\n"
     ]
    },
    {
     "name": "stdout",
     "output_type": "stream",
     "text": [
      "Epoch 14: 100%|██████████| 14/14 [00:01<00:00, 10.35it/s, loss=-0.78, train_loss=-0.813, train_accuracy=1.000] "
     ]
    },
    {
     "name": "stderr",
     "output_type": "stream",
     "text": [
      "Metric train_loss improved by 0.007 >= min_delta = 0.0. New best score: -0.813\n"
     ]
    },
    {
     "name": "stdout",
     "output_type": "stream",
     "text": [
      "Epoch 14: 100%|██████████| 14/14 [00:01<00:00, 10.33it/s, loss=-0.78, train_loss=-0.813, train_accuracy=1.000]"
     ]
    },
    {
     "name": "stderr",
     "output_type": "stream",
     "text": [
      "[2025-05-16 13:03:39] INFO (torcheeg/MainThread) \n",
      "[Train] train_loss: -0.780 train_accuracy: 1.000 \n",
      "\n"
     ]
    },
    {
     "name": "stdout",
     "output_type": "stream",
     "text": [
      "Epoch 15: 100%|██████████| 14/14 [00:01<00:00, 10.24it/s, loss=-0.781, train_loss=-0.795, train_accuracy=1.000]"
     ]
    },
    {
     "name": "stderr",
     "output_type": "stream",
     "text": [
      "[2025-05-16 13:03:40] INFO (torcheeg/MainThread) \n",
      "[Train] train_loss: -0.780 train_accuracy: 1.000 \n",
      "\n"
     ]
    },
    {
     "name": "stdout",
     "output_type": "stream",
     "text": [
      "Epoch 16: 100%|██████████| 14/14 [00:01<00:00, 10.39it/s, loss=-0.78, train_loss=-0.82, train_accuracy=1.000]  "
     ]
    },
    {
     "name": "stderr",
     "output_type": "stream",
     "text": [
      "Metric train_loss improved by 0.008 >= min_delta = 0.0. New best score: -0.820\n"
     ]
    },
    {
     "name": "stdout",
     "output_type": "stream",
     "text": [
      "Epoch 16: 100%|██████████| 14/14 [00:01<00:00, 10.38it/s, loss=-0.78, train_loss=-0.82, train_accuracy=1.000]"
     ]
    },
    {
     "name": "stderr",
     "output_type": "stream",
     "text": [
      "[2025-05-16 13:03:42] INFO (torcheeg/MainThread) \n",
      "[Train] train_loss: -0.781 train_accuracy: 1.000 \n",
      "\n"
     ]
    },
    {
     "name": "stdout",
     "output_type": "stream",
     "text": [
      "Epoch 17: 100%|██████████| 14/14 [00:01<00:00, 10.47it/s, loss=-0.782, train_loss=-0.787, train_accuracy=1.000]"
     ]
    },
    {
     "name": "stderr",
     "output_type": "stream",
     "text": [
      "[2025-05-16 13:03:43] INFO (torcheeg/MainThread) \n",
      "[Train] train_loss: -0.781 train_accuracy: 1.000 \n",
      "\n"
     ]
    },
    {
     "name": "stdout",
     "output_type": "stream",
     "text": [
      "Epoch 18: 100%|██████████| 14/14 [00:01<00:00, 10.49it/s, loss=-0.777, train_loss=-0.746, train_accuracy=1.000]"
     ]
    },
    {
     "name": "stderr",
     "output_type": "stream",
     "text": [
      "[2025-05-16 13:03:44] INFO (torcheeg/MainThread) \n",
      "[Train] train_loss: -0.779 train_accuracy: 1.000 \n",
      "\n"
     ]
    },
    {
     "name": "stdout",
     "output_type": "stream",
     "text": [
      "Epoch 19: 100%|██████████| 14/14 [00:01<00:00, 10.36it/s, loss=-0.777, train_loss=-0.667, train_accuracy=1.000]"
     ]
    },
    {
     "name": "stderr",
     "output_type": "stream",
     "text": [
      "[2025-05-16 13:03:46] INFO (torcheeg/MainThread) \n",
      "[Train] train_loss: -0.775 train_accuracy: 1.000 \n",
      "\n"
     ]
    },
    {
     "name": "stdout",
     "output_type": "stream",
     "text": [
      "Epoch 20: 100%|██████████| 14/14 [00:01<00:00, 10.30it/s, loss=-0.776, train_loss=-0.806, train_accuracy=1.000]"
     ]
    },
    {
     "name": "stderr",
     "output_type": "stream",
     "text": [
      "[2025-05-16 13:03:47] INFO (torcheeg/MainThread) \n",
      "[Train] train_loss: -0.782 train_accuracy: 1.000 \n",
      "\n"
     ]
    },
    {
     "name": "stdout",
     "output_type": "stream",
     "text": [
      "Epoch 21: 100%|██████████| 14/14 [00:01<00:00, 10.38it/s, loss=-0.779, train_loss=-0.746, train_accuracy=1.000]"
     ]
    },
    {
     "name": "stderr",
     "output_type": "stream",
     "text": [
      "[2025-05-16 13:03:48] INFO (torcheeg/MainThread) \n",
      "[Train] train_loss: -0.779 train_accuracy: 1.000 \n",
      "\n"
     ]
    },
    {
     "name": "stdout",
     "output_type": "stream",
     "text": [
      "Epoch 22: 100%|██████████| 14/14 [00:01<00:00, 10.46it/s, loss=-0.777, train_loss=-0.745, train_accuracy=1.000]"
     ]
    },
    {
     "name": "stderr",
     "output_type": "stream",
     "text": [
      "[2025-05-16 13:03:50] INFO (torcheeg/MainThread) \n",
      "[Train] train_loss: -0.779 train_accuracy: 1.000 \n",
      "\n"
     ]
    },
    {
     "name": "stdout",
     "output_type": "stream",
     "text": [
      "Epoch 23: 100%|██████████| 14/14 [00:01<00:00, 10.55it/s, loss=-0.78, train_loss=-0.761, train_accuracy=1.000] "
     ]
    },
    {
     "name": "stderr",
     "output_type": "stream",
     "text": [
      "[2025-05-16 13:03:51] INFO (torcheeg/MainThread) \n",
      "[Train] train_loss: -0.780 train_accuracy: 1.000 \n",
      "\n"
     ]
    },
    {
     "name": "stdout",
     "output_type": "stream",
     "text": [
      "Epoch 24: 100%|██████████| 14/14 [00:01<00:00, 10.41it/s, loss=-0.779, train_loss=-0.776, train_accuracy=1.000]"
     ]
    },
    {
     "name": "stderr",
     "output_type": "stream",
     "text": [
      "[2025-05-16 13:03:52] INFO (torcheeg/MainThread) \n",
      "[Train] train_loss: -0.781 train_accuracy: 1.000 \n",
      "\n"
     ]
    },
    {
     "name": "stdout",
     "output_type": "stream",
     "text": [
      "Epoch 25: 100%|██████████| 14/14 [00:01<00:00, 10.45it/s, loss=-0.78, train_loss=-0.789, train_accuracy=1.000] "
     ]
    },
    {
     "name": "stderr",
     "output_type": "stream",
     "text": [
      "[2025-05-16 13:03:54] INFO (torcheeg/MainThread) \n",
      "[Train] train_loss: -0.782 train_accuracy: 1.000 \n",
      "\n"
     ]
    },
    {
     "name": "stdout",
     "output_type": "stream",
     "text": [
      "Epoch 26: 100%|██████████| 14/14 [00:01<00:00, 10.49it/s, loss=-0.783, train_loss=-0.788, train_accuracy=1.000]"
     ]
    },
    {
     "name": "stderr",
     "output_type": "stream",
     "text": [
      "Monitored metric train_loss did not improve in the last 10 records. Best score: -0.820. Signaling Trainer to stop.\n"
     ]
    },
    {
     "name": "stdout",
     "output_type": "stream",
     "text": [
      "Epoch 26: 100%|██████████| 14/14 [00:01<00:00, 10.48it/s, loss=-0.783, train_loss=-0.788, train_accuracy=1.000]"
     ]
    },
    {
     "name": "stderr",
     "output_type": "stream",
     "text": [
      "[2025-05-16 13:03:55] INFO (torcheeg/MainThread) \n",
      "[Train] train_loss: -0.783 train_accuracy: 1.000 \n",
      "\n"
     ]
    },
    {
     "name": "stdout",
     "output_type": "stream",
     "text": [
      "Epoch 26: 100%|██████████| 14/14 [00:01<00:00, 10.45it/s, loss=-0.783, train_loss=-0.788, train_accuracy=1.000]\n"
     ]
    },
    {
     "name": "stderr",
     "output_type": "stream",
     "text": [
      "GPU available: True (cuda), used: True\n",
      "TPU available: False, using: 0 TPU cores\n",
      "IPU available: False, using: 0 IPUs\n",
      "HPU available: False, using: 0 HPUs\n",
      "LOCAL_RANK: 0 - CUDA_VISIBLE_DEVICES: [0]\n",
      "/root/autodl-tmp/conda/envs/law/lib/python3.8/site-packages/pytorch_lightning/trainer/connectors/data_connector.py:488: PossibleUserWarning: Your `test_dataloader`'s sampler has shuffling enabled, it is strongly recommended that you turn shuffling off for val/test/predict dataloaders.\n",
      "  rank_zero_warn(\n",
      "/root/autodl-tmp/conda/envs/law/lib/python3.8/site-packages/pytorch_lightning/trainer/connectors/data_connector.py:224: PossibleUserWarning: The dataloader, test_dataloader 0, does not have many workers which may be a bottleneck. Consider increasing the value of the `num_workers` argument` (try 128 which is the number of cpus on this machine) in the `DataLoader` init to improve performance.\n",
      "  rank_zero_warn(\n"
     ]
    },
    {
     "name": "stdout",
     "output_type": "stream",
     "text": [
      "Testing DataLoader 0: 100%|██████████| 14/14 [00:00<00:00, 70.88it/s]"
     ]
    },
    {
     "name": "stderr",
     "output_type": "stream",
     "text": [
      "/root/autodl-tmp/conda/envs/law/lib/python3.8/site-packages/pytorch_lightning/core/module.py:493: UserWarning: You called `self.log('test_loss', ..., logger=True)` but have no logger configured. You can enable one by doing `Trainer(logger=ALogger(...))`\n",
      "  rank_zero_warn(\n",
      "/root/autodl-tmp/conda/envs/law/lib/python3.8/site-packages/pytorch_lightning/core/module.py:493: UserWarning: You called `self.log('test_accuracy', ..., logger=True)` but have no logger configured. You can enable one by doing `Trainer(logger=ALogger(...))`\n",
      "  rank_zero_warn(\n",
      "[2025-05-16 13:03:56] INFO (torcheeg/MainThread) \n",
      "[Test] test_loss: 0.001 test_accuracy: 1.000 \n",
      "\n"
     ]
    },
    {
     "name": "stdout",
     "output_type": "stream",
     "text": [
      "Testing DataLoader 0: 100%|██████████| 14/14 [00:00<00:00, 69.32it/s]\n",
      "────────────────────────────────────────────────────────────────────────────────────────────────────────────────────────\n",
      "       Test metric             DataLoader 0\n",
      "────────────────────────────────────────────────────────────────────────────────────────────────────────────────────────\n",
      "      test_accuracy                 1.0\n",
      "        test_loss          0.0007951539009809494\n",
      "────────────────────────────────────────────────────────────────────────────────────────────────────────────────────────\n"
     ]
    },
    {
     "name": "stderr",
     "output_type": "stream",
     "text": [
      "GPU available: True (cuda), used: True\n",
      "TPU available: False, using: 0 TPU cores\n",
      "IPU available: False, using: 0 IPUs\n",
      "HPU available: False, using: 0 HPUs\n",
      "LOCAL_RANK: 0 - CUDA_VISIBLE_DEVICES: [0]\n"
     ]
    },
    {
     "name": "stdout",
     "output_type": "stream",
     "text": [
      "Testing DataLoader 0: 100%|██████████| 7/7 [00:00<00:00, 72.53it/s]"
     ]
    },
    {
     "name": "stderr",
     "output_type": "stream",
     "text": [
      "[2025-05-16 13:03:56] INFO (torcheeg/MainThread) \n",
      "[Test] test_loss: 0.959 test_accuracy: 0.650 \n",
      "\n"
     ]
    },
    {
     "name": "stdout",
     "output_type": "stream",
     "text": [
      "Testing DataLoader 0: 100%|██████████| 7/7 [00:00<00:00, 69.49it/s]\n",
      "────────────────────────────────────────────────────────────────────────────────────────────────────────────────────────\n",
      "       Test metric             DataLoader 0\n",
      "────────────────────────────────────────────────────────────────────────────────────────────────────────────────────────\n",
      "      test_accuracy         0.6499999761581421\n",
      "        test_loss           0.9585752487182617\n",
      "────────────────────────────────────────────────────────────────────────────────────────────────────────────────────────\n"
     ]
    },
    {
     "name": "stderr",
     "output_type": "stream",
     "text": [
      "GPU available: True (cuda), used: True\n",
      "TPU available: False, using: 0 TPU cores\n",
      "IPU available: False, using: 0 IPUs\n",
      "HPU available: False, using: 0 HPUs\n",
      "LOCAL_RANK: 0 - CUDA_VISIBLE_DEVICES: [0]\n",
      "/root/autodl-tmp/conda/envs/law/lib/python3.8/site-packages/pytorch_lightning/trainer/connectors/data_connector.py:224: PossibleUserWarning: The dataloader, train_dataloader, does not have many workers which may be a bottleneck. Consider increasing the value of the `num_workers` argument` (try 128 which is the number of cpus on this machine) in the `DataLoader` init to improve performance.\n",
      "  rank_zero_warn(\n"
     ]
    },
    {
     "name": "stdout",
     "output_type": "stream",
     "text": [
      "Epoch 0: 100%|██████████| 14/14 [00:01<00:00, 10.25it/s, loss=-0.144, train_loss=0.0136, train_accuracy=0.500] "
     ]
    },
    {
     "name": "stderr",
     "output_type": "stream",
     "text": [
      "Metric train_loss improved. New best score: 0.014\n"
     ]
    },
    {
     "name": "stdout",
     "output_type": "stream",
     "text": [
      "Epoch 0: 100%|██████████| 14/14 [00:01<00:00, 10.23it/s, loss=-0.144, train_loss=0.0136, train_accuracy=0.500]"
     ]
    },
    {
     "name": "stderr",
     "output_type": "stream",
     "text": [
      "/root/autodl-tmp/conda/envs/law/lib/python3.8/site-packages/pytorch_lightning/core/module.py:493: UserWarning: You called `self.log('train_loss', ..., logger=True)` but have no logger configured. You can enable one by doing `Trainer(logger=ALogger(...))`\n",
      "  rank_zero_warn(\n",
      "/root/autodl-tmp/conda/envs/law/lib/python3.8/site-packages/pytorch_lightning/core/module.py:493: UserWarning: You called `self.log('train_accuracy', ..., logger=True)` but have no logger configured. You can enable one by doing `Trainer(logger=ALogger(...))`\n",
      "  rank_zero_warn(\n",
      "[2025-05-16 13:03:59] INFO (torcheeg/MainThread) \n",
      "[Train] train_loss: -0.144 train_accuracy: 0.644 \n",
      "\n"
     ]
    },
    {
     "name": "stdout",
     "output_type": "stream",
     "text": [
      "Epoch 1: 100%|██████████| 14/14 [00:01<00:00, 10.23it/s, loss=-0.372, train_loss=-0.212, train_accuracy=0.750]"
     ]
    },
    {
     "name": "stderr",
     "output_type": "stream",
     "text": [
      "Metric train_loss improved by 0.226 >= min_delta = 0.0. New best score: -0.212\n"
     ]
    },
    {
     "name": "stdout",
     "output_type": "stream",
     "text": [
      "Epoch 1: 100%|██████████| 14/14 [00:01<00:00, 10.22it/s, loss=-0.372, train_loss=-0.212, train_accuracy=0.750]"
     ]
    },
    {
     "name": "stderr",
     "output_type": "stream",
     "text": [
      "[2025-05-16 13:04:01] INFO (torcheeg/MainThread) \n",
      "[Train] train_loss: -0.467 train_accuracy: 0.894 \n",
      "\n"
     ]
    },
    {
     "name": "stdout",
     "output_type": "stream",
     "text": [
      "Epoch 2: 100%|██████████| 14/14 [00:01<00:00, 10.70it/s, loss=-0.613, train_loss=-0.669, train_accuracy=1.000]"
     ]
    },
    {
     "name": "stderr",
     "output_type": "stream",
     "text": [
      "Metric train_loss improved by 0.457 >= min_delta = 0.0. New best score: -0.669\n"
     ]
    },
    {
     "name": "stdout",
     "output_type": "stream",
     "text": [
      "Epoch 2: 100%|██████████| 14/14 [00:01<00:00, 10.68it/s, loss=-0.613, train_loss=-0.669, train_accuracy=1.000]"
     ]
    },
    {
     "name": "stderr",
     "output_type": "stream",
     "text": [
      "[2025-05-16 13:04:02] INFO (torcheeg/MainThread) \n",
      "[Train] train_loss: -0.657 train_accuracy: 0.988 \n",
      "\n"
     ]
    },
    {
     "name": "stdout",
     "output_type": "stream",
     "text": [
      "Epoch 3: 100%|██████████| 14/14 [00:01<00:00, 10.13it/s, loss=-0.698, train_loss=-0.771, train_accuracy=1.000]"
     ]
    },
    {
     "name": "stderr",
     "output_type": "stream",
     "text": [
      "Metric train_loss improved by 0.102 >= min_delta = 0.0. New best score: -0.771\n"
     ]
    },
    {
     "name": "stdout",
     "output_type": "stream",
     "text": [
      "Epoch 3: 100%|██████████| 14/14 [00:01<00:00, 10.12it/s, loss=-0.698, train_loss=-0.771, train_accuracy=1.000]"
     ]
    },
    {
     "name": "stderr",
     "output_type": "stream",
     "text": [
      "[2025-05-16 13:04:03] INFO (torcheeg/MainThread) \n",
      "[Train] train_loss: -0.714 train_accuracy: 1.000 \n",
      "\n"
     ]
    },
    {
     "name": "stdout",
     "output_type": "stream",
     "text": [
      "Epoch 4: 100%|██████████| 14/14 [00:01<00:00, 10.27it/s, loss=-0.742, train_loss=-0.762, train_accuracy=1.000]"
     ]
    },
    {
     "name": "stderr",
     "output_type": "stream",
     "text": [
      "[2025-05-16 13:04:05] INFO (torcheeg/MainThread) \n",
      "[Train] train_loss: -0.742 train_accuracy: 1.000 \n",
      "\n"
     ]
    },
    {
     "name": "stdout",
     "output_type": "stream",
     "text": [
      "Epoch 5: 100%|██████████| 14/14 [00:01<00:00, 10.11it/s, loss=-0.746, train_loss=-0.787, train_accuracy=1.000]"
     ]
    },
    {
     "name": "stderr",
     "output_type": "stream",
     "text": [
      "Metric train_loss improved by 0.016 >= min_delta = 0.0. New best score: -0.787\n"
     ]
    },
    {
     "name": "stdout",
     "output_type": "stream",
     "text": [
      "Epoch 5: 100%|██████████| 14/14 [00:01<00:00, 10.10it/s, loss=-0.746, train_loss=-0.787, train_accuracy=1.000]"
     ]
    },
    {
     "name": "stderr",
     "output_type": "stream",
     "text": [
      "[2025-05-16 13:04:06] INFO (torcheeg/MainThread) \n",
      "[Train] train_loss: -0.751 train_accuracy: 1.000 \n",
      "\n"
     ]
    },
    {
     "name": "stdout",
     "output_type": "stream",
     "text": [
      "Epoch 6: 100%|██████████| 14/14 [00:01<00:00, 10.22it/s, loss=-0.756, train_loss=-0.756, train_accuracy=1.000]"
     ]
    },
    {
     "name": "stderr",
     "output_type": "stream",
     "text": [
      "[2025-05-16 13:04:08] INFO (torcheeg/MainThread) \n",
      "[Train] train_loss: -0.752 train_accuracy: 1.000 \n",
      "\n"
     ]
    },
    {
     "name": "stdout",
     "output_type": "stream",
     "text": [
      "Epoch 7: 100%|██████████| 14/14 [00:01<00:00, 10.34it/s, loss=-0.756, train_loss=-0.758, train_accuracy=1.000]"
     ]
    },
    {
     "name": "stderr",
     "output_type": "stream",
     "text": [
      "[2025-05-16 13:04:09] INFO (torcheeg/MainThread) \n",
      "[Train] train_loss: -0.757 train_accuracy: 1.000 \n",
      "\n"
     ]
    },
    {
     "name": "stdout",
     "output_type": "stream",
     "text": [
      "Epoch 8: 100%|██████████| 14/14 [00:01<00:00, 10.37it/s, loss=-0.76, train_loss=-0.802, train_accuracy=1.000] "
     ]
    },
    {
     "name": "stderr",
     "output_type": "stream",
     "text": [
      "Metric train_loss improved by 0.015 >= min_delta = 0.0. New best score: -0.802\n"
     ]
    },
    {
     "name": "stdout",
     "output_type": "stream",
     "text": [
      "Epoch 8: 100%|██████████| 14/14 [00:01<00:00, 10.36it/s, loss=-0.76, train_loss=-0.802, train_accuracy=1.000]"
     ]
    },
    {
     "name": "stderr",
     "output_type": "stream",
     "text": [
      "[2025-05-16 13:04:10] INFO (torcheeg/MainThread) \n",
      "[Train] train_loss: -0.761 train_accuracy: 1.000 \n",
      "\n"
     ]
    },
    {
     "name": "stdout",
     "output_type": "stream",
     "text": [
      "Epoch 9: 100%|██████████| 14/14 [00:01<00:00, 10.44it/s, loss=-0.759, train_loss=-0.681, train_accuracy=1.000]"
     ]
    },
    {
     "name": "stderr",
     "output_type": "stream",
     "text": [
      "[2025-05-16 13:04:12] INFO (torcheeg/MainThread) \n",
      "[Train] train_loss: -0.758 train_accuracy: 1.000 \n",
      "\n"
     ]
    },
    {
     "name": "stdout",
     "output_type": "stream",
     "text": [
      "Epoch 10: 100%|██████████| 14/14 [00:01<00:00, 10.49it/s, loss=-0.757, train_loss=-0.759, train_accuracy=1.000]"
     ]
    },
    {
     "name": "stderr",
     "output_type": "stream",
     "text": [
      "[2025-05-16 13:04:13] INFO (torcheeg/MainThread) \n",
      "[Train] train_loss: -0.761 train_accuracy: 1.000 \n",
      "\n"
     ]
    },
    {
     "name": "stdout",
     "output_type": "stream",
     "text": [
      "Epoch 11: 100%|██████████| 14/14 [00:01<00:00, 10.65it/s, loss=-0.76, train_loss=-0.759, train_accuracy=1.000] "
     ]
    },
    {
     "name": "stderr",
     "output_type": "stream",
     "text": [
      "[2025-05-16 13:04:14] INFO (torcheeg/MainThread) \n",
      "[Train] train_loss: -0.761 train_accuracy: 1.000 \n",
      "\n"
     ]
    },
    {
     "name": "stdout",
     "output_type": "stream",
     "text": [
      "Epoch 12: 100%|██████████| 14/14 [00:01<00:00, 10.46it/s, loss=-0.763, train_loss=-0.791, train_accuracy=1.000]"
     ]
    },
    {
     "name": "stderr",
     "output_type": "stream",
     "text": [
      "[2025-05-16 13:04:16] INFO (torcheeg/MainThread) \n",
      "[Train] train_loss: -0.764 train_accuracy: 1.000 \n",
      "\n"
     ]
    },
    {
     "name": "stdout",
     "output_type": "stream",
     "text": [
      "Epoch 13: 100%|██████████| 14/14 [00:01<00:00, 10.58it/s, loss=-0.763, train_loss=-0.686, train_accuracy=1.000]"
     ]
    },
    {
     "name": "stderr",
     "output_type": "stream",
     "text": [
      "[2025-05-16 13:04:17] INFO (torcheeg/MainThread) \n",
      "[Train] train_loss: -0.759 train_accuracy: 1.000 \n",
      "\n"
     ]
    },
    {
     "name": "stdout",
     "output_type": "stream",
     "text": [
      "Epoch 14: 100%|██████████| 14/14 [00:01<00:00, 10.55it/s, loss=-0.759, train_loss=-0.767, train_accuracy=1.000]"
     ]
    },
    {
     "name": "stderr",
     "output_type": "stream",
     "text": [
      "[2025-05-16 13:04:18] INFO (torcheeg/MainThread) \n",
      "[Train] train_loss: -0.764 train_accuracy: 1.000 \n",
      "\n"
     ]
    },
    {
     "name": "stdout",
     "output_type": "stream",
     "text": [
      "Epoch 15: 100%|██████████| 14/14 [00:01<00:00, 10.60it/s, loss=-0.763, train_loss=-0.771, train_accuracy=1.000]"
     ]
    },
    {
     "name": "stderr",
     "output_type": "stream",
     "text": [
      "[2025-05-16 13:04:20] INFO (torcheeg/MainThread) \n",
      "[Train] train_loss: -0.764 train_accuracy: 1.000 \n",
      "\n"
     ]
    },
    {
     "name": "stdout",
     "output_type": "stream",
     "text": [
      "Epoch 16: 100%|██████████| 14/14 [00:01<00:00, 10.45it/s, loss=-0.763, train_loss=-0.775, train_accuracy=1.000]"
     ]
    },
    {
     "name": "stderr",
     "output_type": "stream",
     "text": [
      "[2025-05-16 13:04:21] INFO (torcheeg/MainThread) \n",
      "[Train] train_loss: -0.764 train_accuracy: 1.000 \n",
      "\n"
     ]
    },
    {
     "name": "stdout",
     "output_type": "stream",
     "text": [
      "Epoch 17: 100%|██████████| 14/14 [00:01<00:00, 10.48it/s, loss=-0.761, train_loss=-0.72, train_accuracy=1.000] "
     ]
    },
    {
     "name": "stderr",
     "output_type": "stream",
     "text": [
      "[2025-05-16 13:04:22] INFO (torcheeg/MainThread) \n",
      "[Train] train_loss: -0.762 train_accuracy: 1.000 \n",
      "\n"
     ]
    },
    {
     "name": "stdout",
     "output_type": "stream",
     "text": [
      "Epoch 18: 100%|██████████| 14/14 [00:01<00:00, 10.33it/s, loss=-0.763, train_loss=-0.761, train_accuracy=1.000]"
     ]
    },
    {
     "name": "stderr",
     "output_type": "stream",
     "text": [
      "Monitored metric train_loss did not improve in the last 10 records. Best score: -0.802. Signaling Trainer to stop.\n"
     ]
    },
    {
     "name": "stdout",
     "output_type": "stream",
     "text": [
      "Epoch 18: 100%|██████████| 14/14 [00:01<00:00, 10.32it/s, loss=-0.763, train_loss=-0.761, train_accuracy=1.000]"
     ]
    },
    {
     "name": "stderr",
     "output_type": "stream",
     "text": [
      "[2025-05-16 13:04:24] INFO (torcheeg/MainThread) \n",
      "[Train] train_loss: -0.763 train_accuracy: 1.000 \n",
      "\n"
     ]
    },
    {
     "name": "stdout",
     "output_type": "stream",
     "text": [
      "Epoch 18: 100%|██████████| 14/14 [00:01<00:00, 10.30it/s, loss=-0.763, train_loss=-0.761, train_accuracy=1.000]\n"
     ]
    },
    {
     "name": "stderr",
     "output_type": "stream",
     "text": [
      "GPU available: True (cuda), used: True\n",
      "TPU available: False, using: 0 TPU cores\n",
      "IPU available: False, using: 0 IPUs\n",
      "HPU available: False, using: 0 HPUs\n",
      "LOCAL_RANK: 0 - CUDA_VISIBLE_DEVICES: [0]\n",
      "/root/autodl-tmp/conda/envs/law/lib/python3.8/site-packages/pytorch_lightning/trainer/connectors/data_connector.py:488: PossibleUserWarning: Your `test_dataloader`'s sampler has shuffling enabled, it is strongly recommended that you turn shuffling off for val/test/predict dataloaders.\n",
      "  rank_zero_warn(\n",
      "/root/autodl-tmp/conda/envs/law/lib/python3.8/site-packages/pytorch_lightning/trainer/connectors/data_connector.py:224: PossibleUserWarning: The dataloader, test_dataloader 0, does not have many workers which may be a bottleneck. Consider increasing the value of the `num_workers` argument` (try 128 which is the number of cpus on this machine) in the `DataLoader` init to improve performance.\n",
      "  rank_zero_warn(\n"
     ]
    },
    {
     "name": "stdout",
     "output_type": "stream",
     "text": [
      "Testing DataLoader 0: 100%|██████████| 14/14 [00:00<00:00, 70.91it/s]"
     ]
    },
    {
     "name": "stderr",
     "output_type": "stream",
     "text": [
      "/root/autodl-tmp/conda/envs/law/lib/python3.8/site-packages/pytorch_lightning/core/module.py:493: UserWarning: You called `self.log('test_loss', ..., logger=True)` but have no logger configured. You can enable one by doing `Trainer(logger=ALogger(...))`\n",
      "  rank_zero_warn(\n",
      "/root/autodl-tmp/conda/envs/law/lib/python3.8/site-packages/pytorch_lightning/core/module.py:493: UserWarning: You called `self.log('test_accuracy', ..., logger=True)` but have no logger configured. You can enable one by doing `Trainer(logger=ALogger(...))`\n",
      "  rank_zero_warn(\n",
      "[2025-05-16 13:04:25] INFO (torcheeg/MainThread) \n",
      "[Test] test_loss: 0.002 test_accuracy: 1.000 \n",
      "\n"
     ]
    },
    {
     "name": "stdout",
     "output_type": "stream",
     "text": [
      "Testing DataLoader 0: 100%|██████████| 14/14 [00:00<00:00, 68.80it/s]\n",
      "────────────────────────────────────────────────────────────────────────────────────────────────────────────────────────\n",
      "       Test metric             DataLoader 0\n",
      "────────────────────────────────────────────────────────────────────────────────────────────────────────────────────────\n",
      "      test_accuracy                 1.0\n",
      "        test_loss          0.001908481353893876\n",
      "────────────────────────────────────────────────────────────────────────────────────────────────────────────────────────\n"
     ]
    },
    {
     "name": "stderr",
     "output_type": "stream",
     "text": [
      "GPU available: True (cuda), used: True\n",
      "TPU available: False, using: 0 TPU cores\n",
      "IPU available: False, using: 0 IPUs\n",
      "HPU available: False, using: 0 HPUs\n",
      "LOCAL_RANK: 0 - CUDA_VISIBLE_DEVICES: [0]\n"
     ]
    },
    {
     "name": "stdout",
     "output_type": "stream",
     "text": [
      "Testing DataLoader 0: 100%|██████████| 7/7 [00:00<00:00, 72.51it/s]"
     ]
    },
    {
     "name": "stderr",
     "output_type": "stream",
     "text": [
      "[2025-05-16 13:04:25] INFO (torcheeg/MainThread) \n",
      "[Test] test_loss: 0.294 test_accuracy: 0.875 \n",
      "\n"
     ]
    },
    {
     "name": "stdout",
     "output_type": "stream",
     "text": [
      "Testing DataLoader 0: 100%|██████████| 7/7 [00:00<00:00, 69.36it/s]\n",
      "────────────────────────────────────────────────────────────────────────────────────────────────────────────────────────\n",
      "       Test metric             DataLoader 0\n",
      "────────────────────────────────────────────────────────────────────────────────────────────────────────────────────────\n",
      "      test_accuracy                0.875\n",
      "        test_loss           0.29419612884521484\n",
      "────────────────────────────────────────────────────────────────────────────────────────────────────────────────────────\n"
     ]
    },
    {
     "name": "stderr",
     "output_type": "stream",
     "text": [
      "GPU available: True (cuda), used: True\n",
      "TPU available: False, using: 0 TPU cores\n",
      "IPU available: False, using: 0 IPUs\n",
      "HPU available: False, using: 0 HPUs\n",
      "LOCAL_RANK: 0 - CUDA_VISIBLE_DEVICES: [0]\n",
      "/root/autodl-tmp/conda/envs/law/lib/python3.8/site-packages/pytorch_lightning/trainer/connectors/data_connector.py:224: PossibleUserWarning: The dataloader, train_dataloader, does not have many workers which may be a bottleneck. Consider increasing the value of the `num_workers` argument` (try 128 which is the number of cpus on this machine) in the `DataLoader` init to improve performance.\n",
      "  rank_zero_warn(\n"
     ]
    },
    {
     "name": "stdout",
     "output_type": "stream",
     "text": [
      "Epoch 0: 100%|██████████| 17/17 [00:01<00:00, 10.24it/s, loss=-0.104, train_loss=-0.441, train_accuracy=0.875]  "
     ]
    },
    {
     "name": "stderr",
     "output_type": "stream",
     "text": [
      "Metric train_loss improved. New best score: -0.441\n"
     ]
    },
    {
     "name": "stdout",
     "output_type": "stream",
     "text": [
      "Epoch 0: 100%|██████████| 17/17 [00:01<00:00, 10.23it/s, loss=-0.104, train_loss=-0.441, train_accuracy=0.875]"
     ]
    },
    {
     "name": "stderr",
     "output_type": "stream",
     "text": [
      "/root/autodl-tmp/conda/envs/law/lib/python3.8/site-packages/pytorch_lightning/core/module.py:493: UserWarning: You called `self.log('train_loss', ..., logger=True)` but have no logger configured. You can enable one by doing `Trainer(logger=ALogger(...))`\n",
      "  rank_zero_warn(\n",
      "/root/autodl-tmp/conda/envs/law/lib/python3.8/site-packages/pytorch_lightning/core/module.py:493: UserWarning: You called `self.log('train_accuracy', ..., logger=True)` but have no logger configured. You can enable one by doing `Trainer(logger=ALogger(...))`\n",
      "  rank_zero_warn(\n",
      "[2025-05-16 13:04:28] INFO (torcheeg/MainThread) \n",
      "[Train] train_loss: -0.104 train_accuracy: 0.590 \n",
      "\n"
     ]
    },
    {
     "name": "stdout",
     "output_type": "stream",
     "text": [
      "Epoch 1: 100%|██████████| 17/17 [00:01<00:00, 10.36it/s, loss=-0.511, train_loss=-0.539, train_accuracy=0.875]"
     ]
    },
    {
     "name": "stderr",
     "output_type": "stream",
     "text": [
      "Metric train_loss improved by 0.098 >= min_delta = 0.0. New best score: -0.539\n"
     ]
    },
    {
     "name": "stdout",
     "output_type": "stream",
     "text": [
      "Epoch 1: 100%|██████████| 17/17 [00:01<00:00, 10.35it/s, loss=-0.511, train_loss=-0.539, train_accuracy=0.875]"
     ]
    },
    {
     "name": "stderr",
     "output_type": "stream",
     "text": [
      "[2025-05-16 13:04:30] INFO (torcheeg/MainThread) \n",
      "[Train] train_loss: -0.551 train_accuracy: 0.940 \n",
      "\n"
     ]
    },
    {
     "name": "stdout",
     "output_type": "stream",
     "text": [
      "Epoch 2: 100%|██████████| 17/17 [00:01<00:00, 10.32it/s, loss=-0.666, train_loss=-0.728, train_accuracy=1.000]"
     ]
    },
    {
     "name": "stderr",
     "output_type": "stream",
     "text": [
      "Metric train_loss improved by 0.189 >= min_delta = 0.0. New best score: -0.728\n"
     ]
    },
    {
     "name": "stdout",
     "output_type": "stream",
     "text": [
      "Epoch 2: 100%|██████████| 17/17 [00:01<00:00, 10.31it/s, loss=-0.666, train_loss=-0.728, train_accuracy=1.000]"
     ]
    },
    {
     "name": "stderr",
     "output_type": "stream",
     "text": [
      "[2025-05-16 13:04:31] INFO (torcheeg/MainThread) \n",
      "[Train] train_loss: -0.685 train_accuracy: 0.995 \n",
      "\n"
     ]
    },
    {
     "name": "stdout",
     "output_type": "stream",
     "text": [
      "Epoch 3: 100%|██████████| 17/17 [00:01<00:00, 10.17it/s, loss=-0.73, train_loss=-0.726, train_accuracy=1.000] "
     ]
    },
    {
     "name": "stderr",
     "output_type": "stream",
     "text": [
      "[2025-05-16 13:04:33] INFO (torcheeg/MainThread) \n",
      "[Train] train_loss: -0.732 train_accuracy: 1.000 \n",
      "\n"
     ]
    },
    {
     "name": "stdout",
     "output_type": "stream",
     "text": [
      "Epoch 4: 100%|██████████| 17/17 [00:01<00:00, 10.29it/s, loss=-0.753, train_loss=-0.783, train_accuracy=1.000]"
     ]
    },
    {
     "name": "stderr",
     "output_type": "stream",
     "text": [
      "Metric train_loss improved by 0.055 >= min_delta = 0.0. New best score: -0.783\n"
     ]
    },
    {
     "name": "stdout",
     "output_type": "stream",
     "text": [
      "Epoch 4: 100%|██████████| 17/17 [00:01<00:00, 10.28it/s, loss=-0.753, train_loss=-0.783, train_accuracy=1.000]"
     ]
    },
    {
     "name": "stderr",
     "output_type": "stream",
     "text": [
      "[2025-05-16 13:04:35] INFO (torcheeg/MainThread) \n",
      "[Train] train_loss: -0.755 train_accuracy: 1.000 \n",
      "\n"
     ]
    },
    {
     "name": "stdout",
     "output_type": "stream",
     "text": [
      "Epoch 5: 100%|██████████| 17/17 [00:01<00:00, 10.18it/s, loss=-0.765, train_loss=-0.737, train_accuracy=1.000]"
     ]
    },
    {
     "name": "stderr",
     "output_type": "stream",
     "text": [
      "[2025-05-16 13:04:36] INFO (torcheeg/MainThread) \n",
      "[Train] train_loss: -0.765 train_accuracy: 1.000 \n",
      "\n"
     ]
    },
    {
     "name": "stdout",
     "output_type": "stream",
     "text": [
      "Epoch 6: 100%|██████████| 17/17 [00:01<00:00, 10.25it/s, loss=-0.771, train_loss=-0.803, train_accuracy=1.000]"
     ]
    },
    {
     "name": "stderr",
     "output_type": "stream",
     "text": [
      "Metric train_loss improved by 0.021 >= min_delta = 0.0. New best score: -0.803\n"
     ]
    },
    {
     "name": "stdout",
     "output_type": "stream",
     "text": [
      "Epoch 6: 100%|██████████| 17/17 [00:01<00:00, 10.24it/s, loss=-0.771, train_loss=-0.803, train_accuracy=1.000]"
     ]
    },
    {
     "name": "stderr",
     "output_type": "stream",
     "text": [
      "[2025-05-16 13:04:38] INFO (torcheeg/MainThread) \n",
      "[Train] train_loss: -0.773 train_accuracy: 1.000 \n",
      "\n"
     ]
    },
    {
     "name": "stdout",
     "output_type": "stream",
     "text": [
      "Epoch 7: 100%|██████████| 17/17 [00:01<00:00, 10.55it/s, loss=-0.78, train_loss=-0.80, train_accuracy=1.000]  "
     ]
    },
    {
     "name": "stderr",
     "output_type": "stream",
     "text": [
      "[2025-05-16 13:04:40] INFO (torcheeg/MainThread) \n",
      "[Train] train_loss: -0.778 train_accuracy: 1.000 \n",
      "\n"
     ]
    },
    {
     "name": "stdout",
     "output_type": "stream",
     "text": [
      "Epoch 8: 100%|██████████| 17/17 [00:01<00:00, 10.25it/s, loss=-0.78, train_loss=-0.779, train_accuracy=1.000] "
     ]
    },
    {
     "name": "stderr",
     "output_type": "stream",
     "text": [
      "[2025-05-16 13:04:41] INFO (torcheeg/MainThread) \n",
      "[Train] train_loss: -0.778 train_accuracy: 1.000 \n",
      "\n"
     ]
    },
    {
     "name": "stdout",
     "output_type": "stream",
     "text": [
      "Epoch 9: 100%|██████████| 17/17 [00:01<00:00, 10.53it/s, loss=-0.779, train_loss=-0.745, train_accuracy=1.000]"
     ]
    },
    {
     "name": "stderr",
     "output_type": "stream",
     "text": [
      "[2025-05-16 13:04:43] INFO (torcheeg/MainThread) \n",
      "[Train] train_loss: -0.780 train_accuracy: 1.000 \n",
      "\n"
     ]
    },
    {
     "name": "stdout",
     "output_type": "stream",
     "text": [
      "Epoch 10: 100%|██████████| 17/17 [00:01<00:00,  9.93it/s, loss=-0.78, train_loss=-0.796, train_accuracy=1.000] "
     ]
    },
    {
     "name": "stderr",
     "output_type": "stream",
     "text": [
      "[2025-05-16 13:04:45] INFO (torcheeg/MainThread) \n",
      "[Train] train_loss: -0.784 train_accuracy: 1.000 \n",
      "\n"
     ]
    },
    {
     "name": "stdout",
     "output_type": "stream",
     "text": [
      "Epoch 11: 100%|██████████| 17/17 [00:01<00:00, 10.35it/s, loss=-0.785, train_loss=-0.779, train_accuracy=1.000]"
     ]
    },
    {
     "name": "stderr",
     "output_type": "stream",
     "text": [
      "[2025-05-16 13:04:46] INFO (torcheeg/MainThread) \n",
      "[Train] train_loss: -0.783 train_accuracy: 1.000 \n",
      "\n"
     ]
    },
    {
     "name": "stdout",
     "output_type": "stream",
     "text": [
      "Epoch 12: 100%|██████████| 17/17 [00:01<00:00, 10.07it/s, loss=-0.784, train_loss=-0.781, train_accuracy=1.000]"
     ]
    },
    {
     "name": "stderr",
     "output_type": "stream",
     "text": [
      "[2025-05-16 13:04:48] INFO (torcheeg/MainThread) \n",
      "[Train] train_loss: -0.784 train_accuracy: 1.000 \n",
      "\n"
     ]
    },
    {
     "name": "stdout",
     "output_type": "stream",
     "text": [
      "Epoch 13: 100%|██████████| 17/17 [00:01<00:00, 10.36it/s, loss=-0.785, train_loss=-0.787, train_accuracy=1.000]"
     ]
    },
    {
     "name": "stderr",
     "output_type": "stream",
     "text": [
      "[2025-05-16 13:04:50] INFO (torcheeg/MainThread) \n",
      "[Train] train_loss: -0.785 train_accuracy: 1.000 \n",
      "\n"
     ]
    },
    {
     "name": "stdout",
     "output_type": "stream",
     "text": [
      "Epoch 14: 100%|██████████| 17/17 [00:01<00:00, 10.19it/s, loss=-0.786, train_loss=-0.746, train_accuracy=1.000]"
     ]
    },
    {
     "name": "stderr",
     "output_type": "stream",
     "text": [
      "[2025-05-16 13:04:51] INFO (torcheeg/MainThread) \n",
      "[Train] train_loss: -0.784 train_accuracy: 1.000 \n",
      "\n"
     ]
    },
    {
     "name": "stdout",
     "output_type": "stream",
     "text": [
      "Epoch 15: 100%|██████████| 17/17 [00:01<00:00, 10.21it/s, loss=-0.782, train_loss=-0.704, train_accuracy=1.000]"
     ]
    },
    {
     "name": "stderr",
     "output_type": "stream",
     "text": [
      "[2025-05-16 13:04:53] INFO (torcheeg/MainThread) \n",
      "[Train] train_loss: -0.785 train_accuracy: 1.000 \n",
      "\n"
     ]
    },
    {
     "name": "stdout",
     "output_type": "stream",
     "text": [
      "Epoch 16: 100%|██████████| 17/17 [00:01<00:00, 10.31it/s, loss=-0.783, train_loss=-0.792, train_accuracy=1.000]"
     ]
    },
    {
     "name": "stderr",
     "output_type": "stream",
     "text": [
      "Monitored metric train_loss did not improve in the last 10 records. Best score: -0.803. Signaling Trainer to stop.\n"
     ]
    },
    {
     "name": "stdout",
     "output_type": "stream",
     "text": [
      "Epoch 16: 100%|██████████| 17/17 [00:01<00:00, 10.30it/s, loss=-0.783, train_loss=-0.792, train_accuracy=1.000]"
     ]
    },
    {
     "name": "stderr",
     "output_type": "stream",
     "text": [
      "[2025-05-16 13:04:55] INFO (torcheeg/MainThread) \n",
      "[Train] train_loss: -0.787 train_accuracy: 1.000 \n",
      "\n"
     ]
    },
    {
     "name": "stdout",
     "output_type": "stream",
     "text": [
      "Epoch 16: 100%|██████████| 17/17 [00:01<00:00, 10.28it/s, loss=-0.783, train_loss=-0.792, train_accuracy=1.000]\n"
     ]
    },
    {
     "name": "stderr",
     "output_type": "stream",
     "text": [
      "GPU available: True (cuda), used: True\n",
      "TPU available: False, using: 0 TPU cores\n",
      "IPU available: False, using: 0 IPUs\n",
      "HPU available: False, using: 0 HPUs\n",
      "LOCAL_RANK: 0 - CUDA_VISIBLE_DEVICES: [0]\n",
      "/root/autodl-tmp/conda/envs/law/lib/python3.8/site-packages/pytorch_lightning/trainer/connectors/data_connector.py:488: PossibleUserWarning: Your `test_dataloader`'s sampler has shuffling enabled, it is strongly recommended that you turn shuffling off for val/test/predict dataloaders.\n",
      "  rank_zero_warn(\n",
      "/root/autodl-tmp/conda/envs/law/lib/python3.8/site-packages/pytorch_lightning/trainer/connectors/data_connector.py:224: PossibleUserWarning: The dataloader, test_dataloader 0, does not have many workers which may be a bottleneck. Consider increasing the value of the `num_workers` argument` (try 128 which is the number of cpus on this machine) in the `DataLoader` init to improve performance.\n",
      "  rank_zero_warn(\n"
     ]
    },
    {
     "name": "stdout",
     "output_type": "stream",
     "text": [
      "Testing DataLoader 0: 100%|██████████| 17/17 [00:00<00:00, 69.70it/s]"
     ]
    },
    {
     "name": "stderr",
     "output_type": "stream",
     "text": [
      "/root/autodl-tmp/conda/envs/law/lib/python3.8/site-packages/pytorch_lightning/core/module.py:493: UserWarning: You called `self.log('test_loss', ..., logger=True)` but have no logger configured. You can enable one by doing `Trainer(logger=ALogger(...))`\n",
      "  rank_zero_warn(\n",
      "/root/autodl-tmp/conda/envs/law/lib/python3.8/site-packages/pytorch_lightning/core/module.py:493: UserWarning: You called `self.log('test_accuracy', ..., logger=True)` but have no logger configured. You can enable one by doing `Trainer(logger=ALogger(...))`\n",
      "  rank_zero_warn(\n",
      "[2025-05-16 13:04:56] INFO (torcheeg/MainThread) \n",
      "[Test] test_loss: 0.002 test_accuracy: 1.000 \n",
      "\n"
     ]
    },
    {
     "name": "stdout",
     "output_type": "stream",
     "text": [
      "Testing DataLoader 0: 100%|██████████| 17/17 [00:00<00:00, 68.37it/s]\n",
      "────────────────────────────────────────────────────────────────────────────────────────────────────────────────────────\n",
      "       Test metric             DataLoader 0\n",
      "────────────────────────────────────────────────────────────────────────────────────────────────────────────────────────\n",
      "      test_accuracy                 1.0\n",
      "        test_loss          0.0019157255301252007\n",
      "────────────────────────────────────────────────────────────────────────────────────────────────────────────────────────\n"
     ]
    },
    {
     "name": "stderr",
     "output_type": "stream",
     "text": [
      "GPU available: True (cuda), used: True\n",
      "TPU available: False, using: 0 TPU cores\n",
      "IPU available: False, using: 0 IPUs\n",
      "HPU available: False, using: 0 HPUs\n",
      "LOCAL_RANK: 0 - CUDA_VISIBLE_DEVICES: [0]\n"
     ]
    },
    {
     "name": "stdout",
     "output_type": "stream",
     "text": [
      "Testing DataLoader 0: 100%|██████████| 4/4 [00:00<00:00, 69.83it/s]"
     ]
    },
    {
     "name": "stderr",
     "output_type": "stream",
     "text": [
      "[2025-05-16 13:04:56] INFO (torcheeg/MainThread) \n",
      "[Test] test_loss: 0.284 test_accuracy: 0.950 \n",
      "\n"
     ]
    },
    {
     "name": "stdout",
     "output_type": "stream",
     "text": [
      "Testing DataLoader 0: 100%|██████████| 4/4 [00:00<00:00, 64.96it/s]\n",
      "────────────────────────────────────────────────────────────────────────────────────────────────────────────────────────\n",
      "       Test metric             DataLoader 0\n",
      "────────────────────────────────────────────────────────────────────────────────────────────────────────────────────────\n",
      "      test_accuracy          0.949999988079071\n",
      "        test_loss           0.2838354706764221\n",
      "────────────────────────────────────────────────────────────────────────────────────────────────────────────────────────\n"
     ]
    },
    {
     "name": "stderr",
     "output_type": "stream",
     "text": [
      "GPU available: True (cuda), used: True\n",
      "TPU available: False, using: 0 TPU cores\n",
      "IPU available: False, using: 0 IPUs\n",
      "HPU available: False, using: 0 HPUs\n",
      "LOCAL_RANK: 0 - CUDA_VISIBLE_DEVICES: [0]\n",
      "/root/autodl-tmp/conda/envs/law/lib/python3.8/site-packages/pytorch_lightning/trainer/connectors/data_connector.py:224: PossibleUserWarning: The dataloader, train_dataloader, does not have many workers which may be a bottleneck. Consider increasing the value of the `num_workers` argument` (try 128 which is the number of cpus on this machine) in the `DataLoader` init to improve performance.\n",
      "  rank_zero_warn(\n"
     ]
    },
    {
     "name": "stdout",
     "output_type": "stream",
     "text": [
      "Epoch 0: 100%|██████████| 17/17 [00:01<00:00,  9.75it/s, loss=-0.0774, train_loss=-0.182, train_accuracy=0.750] "
     ]
    },
    {
     "name": "stderr",
     "output_type": "stream",
     "text": [
      "Metric train_loss improved. New best score: -0.182\n"
     ]
    },
    {
     "name": "stdout",
     "output_type": "stream",
     "text": [
      "Epoch 0: 100%|██████████| 17/17 [00:01<00:00,  9.74it/s, loss=-0.0774, train_loss=-0.182, train_accuracy=0.750]"
     ]
    },
    {
     "name": "stderr",
     "output_type": "stream",
     "text": [
      "/root/autodl-tmp/conda/envs/law/lib/python3.8/site-packages/pytorch_lightning/core/module.py:493: UserWarning: You called `self.log('train_loss', ..., logger=True)` but have no logger configured. You can enable one by doing `Trainer(logger=ALogger(...))`\n",
      "  rank_zero_warn(\n",
      "/root/autodl-tmp/conda/envs/law/lib/python3.8/site-packages/pytorch_lightning/core/module.py:493: UserWarning: You called `self.log('train_accuracy', ..., logger=True)` but have no logger configured. You can enable one by doing `Trainer(logger=ALogger(...))`\n",
      "  rank_zero_warn(\n",
      "[2025-05-16 13:04:59] INFO (torcheeg/MainThread) \n",
      "[Train] train_loss: -0.077 train_accuracy: 0.595 \n",
      "\n"
     ]
    },
    {
     "name": "stdout",
     "output_type": "stream",
     "text": [
      "Epoch 1: 100%|██████████| 17/17 [00:01<00:00, 10.56it/s, loss=-0.429, train_loss=-0.534, train_accuracy=1.000] "
     ]
    },
    {
     "name": "stderr",
     "output_type": "stream",
     "text": [
      "Metric train_loss improved by 0.352 >= min_delta = 0.0. New best score: -0.534\n"
     ]
    },
    {
     "name": "stdout",
     "output_type": "stream",
     "text": [
      "Epoch 1: 100%|██████████| 17/17 [00:01<00:00, 10.55it/s, loss=-0.429, train_loss=-0.534, train_accuracy=1.000]"
     ]
    },
    {
     "name": "stderr",
     "output_type": "stream",
     "text": [
      "[2025-05-16 13:05:01] INFO (torcheeg/MainThread) \n",
      "[Train] train_loss: -0.490 train_accuracy: 0.885 \n",
      "\n"
     ]
    },
    {
     "name": "stdout",
     "output_type": "stream",
     "text": [
      "Epoch 2: 100%|██████████| 17/17 [00:01<00:00, 10.56it/s, loss=-0.644, train_loss=-0.67, train_accuracy=1.000] "
     ]
    },
    {
     "name": "stderr",
     "output_type": "stream",
     "text": [
      "Metric train_loss improved by 0.136 >= min_delta = 0.0. New best score: -0.670\n"
     ]
    },
    {
     "name": "stdout",
     "output_type": "stream",
     "text": [
      "Epoch 2: 100%|██████████| 17/17 [00:01<00:00, 10.55it/s, loss=-0.644, train_loss=-0.67, train_accuracy=1.000]"
     ]
    },
    {
     "name": "stderr",
     "output_type": "stream",
     "text": [
      "[2025-05-16 13:05:02] INFO (torcheeg/MainThread) \n",
      "[Train] train_loss: -0.663 train_accuracy: 0.990 \n",
      "\n"
     ]
    },
    {
     "name": "stdout",
     "output_type": "stream",
     "text": [
      "Epoch 3: 100%|██████████| 17/17 [00:01<00:00, 10.56it/s, loss=-0.694, train_loss=-0.763, train_accuracy=1.000]"
     ]
    },
    {
     "name": "stderr",
     "output_type": "stream",
     "text": [
      "Metric train_loss improved by 0.093 >= min_delta = 0.0. New best score: -0.763\n"
     ]
    },
    {
     "name": "stdout",
     "output_type": "stream",
     "text": [
      "Epoch 3: 100%|██████████| 17/17 [00:01<00:00, 10.55it/s, loss=-0.694, train_loss=-0.763, train_accuracy=1.000]"
     ]
    },
    {
     "name": "stderr",
     "output_type": "stream",
     "text": [
      "[2025-05-16 13:05:04] INFO (torcheeg/MainThread) \n",
      "[Train] train_loss: -0.702 train_accuracy: 0.995 \n",
      "\n"
     ]
    },
    {
     "name": "stdout",
     "output_type": "stream",
     "text": [
      "Epoch 4: 100%|██████████| 17/17 [00:01<00:00, 10.47it/s, loss=-0.738, train_loss=-0.757, train_accuracy=1.000]"
     ]
    },
    {
     "name": "stderr",
     "output_type": "stream",
     "text": [
      "[2025-05-16 13:05:06] INFO (torcheeg/MainThread) \n",
      "[Train] train_loss: -0.740 train_accuracy: 1.000 \n",
      "\n"
     ]
    },
    {
     "name": "stdout",
     "output_type": "stream",
     "text": [
      "Epoch 5: 100%|██████████| 17/17 [00:01<00:00, 10.76it/s, loss=-0.755, train_loss=-0.788, train_accuracy=1.000]"
     ]
    },
    {
     "name": "stderr",
     "output_type": "stream",
     "text": [
      "Metric train_loss improved by 0.025 >= min_delta = 0.0. New best score: -0.788\n"
     ]
    },
    {
     "name": "stdout",
     "output_type": "stream",
     "text": [
      "Epoch 5: 100%|██████████| 17/17 [00:01<00:00, 10.75it/s, loss=-0.755, train_loss=-0.788, train_accuracy=1.000]"
     ]
    },
    {
     "name": "stderr",
     "output_type": "stream",
     "text": [
      "[2025-05-16 13:05:07] INFO (torcheeg/MainThread) \n",
      "[Train] train_loss: -0.756 train_accuracy: 1.000 \n",
      "\n"
     ]
    },
    {
     "name": "stdout",
     "output_type": "stream",
     "text": [
      "Epoch 6: 100%|██████████| 17/17 [00:01<00:00, 10.39it/s, loss=-0.765, train_loss=-0.753, train_accuracy=1.000]"
     ]
    },
    {
     "name": "stderr",
     "output_type": "stream",
     "text": [
      "[2025-05-16 13:05:09] INFO (torcheeg/MainThread) \n",
      "[Train] train_loss: -0.765 train_accuracy: 1.000 \n",
      "\n"
     ]
    },
    {
     "name": "stdout",
     "output_type": "stream",
     "text": [
      "Epoch 7: 100%|██████████| 17/17 [00:01<00:00, 10.52it/s, loss=-0.769, train_loss=-0.788, train_accuracy=1.000]"
     ]
    },
    {
     "name": "stderr",
     "output_type": "stream",
     "text": [
      "Metric train_loss improved by 0.000 >= min_delta = 0.0. New best score: -0.788\n"
     ]
    },
    {
     "name": "stdout",
     "output_type": "stream",
     "text": [
      "Epoch 7: 100%|██████████| 17/17 [00:01<00:00, 10.51it/s, loss=-0.769, train_loss=-0.788, train_accuracy=1.000]"
     ]
    },
    {
     "name": "stderr",
     "output_type": "stream",
     "text": [
      "[2025-05-16 13:05:10] INFO (torcheeg/MainThread) \n",
      "[Train] train_loss: -0.769 train_accuracy: 1.000 \n",
      "\n"
     ]
    },
    {
     "name": "stdout",
     "output_type": "stream",
     "text": [
      "Epoch 8: 100%|██████████| 17/17 [00:01<00:00, 10.13it/s, loss=-0.77, train_loss=-0.711, train_accuracy=1.000] "
     ]
    },
    {
     "name": "stderr",
     "output_type": "stream",
     "text": [
      "[2025-05-16 13:05:12] INFO (torcheeg/MainThread) \n",
      "[Train] train_loss: -0.773 train_accuracy: 1.000 \n",
      "\n"
     ]
    },
    {
     "name": "stdout",
     "output_type": "stream",
     "text": [
      "Epoch 9: 100%|██████████| 17/17 [00:01<00:00, 10.33it/s, loss=-0.769, train_loss=-0.78, train_accuracy=1.000] "
     ]
    },
    {
     "name": "stderr",
     "output_type": "stream",
     "text": [
      "[2025-05-16 13:05:14] INFO (torcheeg/MainThread) \n",
      "[Train] train_loss: -0.776 train_accuracy: 1.000 \n",
      "\n"
     ]
    },
    {
     "name": "stdout",
     "output_type": "stream",
     "text": [
      "Epoch 10: 100%|██████████| 17/17 [00:01<00:00, 10.19it/s, loss=-0.774, train_loss=-0.768, train_accuracy=1.000]"
     ]
    },
    {
     "name": "stderr",
     "output_type": "stream",
     "text": [
      "[2025-05-16 13:05:15] INFO (torcheeg/MainThread) \n",
      "[Train] train_loss: -0.775 train_accuracy: 1.000 \n",
      "\n"
     ]
    },
    {
     "name": "stdout",
     "output_type": "stream",
     "text": [
      "Epoch 11: 100%|██████████| 17/17 [00:01<00:00, 10.23it/s, loss=-0.777, train_loss=-0.783, train_accuracy=1.000]"
     ]
    },
    {
     "name": "stderr",
     "output_type": "stream",
     "text": [
      "[2025-05-16 13:05:17] INFO (torcheeg/MainThread) \n",
      "[Train] train_loss: -0.778 train_accuracy: 1.000 \n",
      "\n"
     ]
    },
    {
     "name": "stdout",
     "output_type": "stream",
     "text": [
      "Epoch 12: 100%|██████████| 17/17 [00:01<00:00, 10.28it/s, loss=-0.779, train_loss=-0.753, train_accuracy=1.000]"
     ]
    },
    {
     "name": "stderr",
     "output_type": "stream",
     "text": [
      "[2025-05-16 13:05:19] INFO (torcheeg/MainThread) \n",
      "[Train] train_loss: -0.778 train_accuracy: 1.000 \n",
      "\n"
     ]
    },
    {
     "name": "stdout",
     "output_type": "stream",
     "text": [
      "Epoch 13: 100%|██████████| 17/17 [00:01<00:00, 10.46it/s, loss=-0.777, train_loss=-0.804, train_accuracy=1.000]"
     ]
    },
    {
     "name": "stderr",
     "output_type": "stream",
     "text": [
      "Metric train_loss improved by 0.016 >= min_delta = 0.0. New best score: -0.804\n"
     ]
    },
    {
     "name": "stdout",
     "output_type": "stream",
     "text": [
      "Epoch 13: 100%|██████████| 17/17 [00:01<00:00, 10.45it/s, loss=-0.777, train_loss=-0.804, train_accuracy=1.000]"
     ]
    },
    {
     "name": "stderr",
     "output_type": "stream",
     "text": [
      "[2025-05-16 13:05:20] INFO (torcheeg/MainThread) \n",
      "[Train] train_loss: -0.781 train_accuracy: 1.000 \n",
      "\n"
     ]
    },
    {
     "name": "stdout",
     "output_type": "stream",
     "text": [
      "Epoch 14: 100%|██████████| 17/17 [00:01<00:00, 10.18it/s, loss=-0.781, train_loss=-0.77, train_accuracy=1.000] "
     ]
    },
    {
     "name": "stderr",
     "output_type": "stream",
     "text": [
      "[2025-05-16 13:05:22] INFO (torcheeg/MainThread) \n",
      "[Train] train_loss: -0.780 train_accuracy: 1.000 \n",
      "\n"
     ]
    },
    {
     "name": "stdout",
     "output_type": "stream",
     "text": [
      "Epoch 15: 100%|██████████| 17/17 [00:01<00:00, 10.49it/s, loss=-0.781, train_loss=-0.824, train_accuracy=1.000]"
     ]
    },
    {
     "name": "stderr",
     "output_type": "stream",
     "text": [
      "Metric train_loss improved by 0.020 >= min_delta = 0.0. New best score: -0.824\n"
     ]
    },
    {
     "name": "stdout",
     "output_type": "stream",
     "text": [
      "Epoch 15: 100%|██████████| 17/17 [00:01<00:00, 10.48it/s, loss=-0.781, train_loss=-0.824, train_accuracy=1.000]"
     ]
    },
    {
     "name": "stderr",
     "output_type": "stream",
     "text": [
      "[2025-05-16 13:05:24] INFO (torcheeg/MainThread) \n",
      "[Train] train_loss: -0.782 train_accuracy: 1.000 \n",
      "\n"
     ]
    },
    {
     "name": "stdout",
     "output_type": "stream",
     "text": [
      "Epoch 16: 100%|██████████| 17/17 [00:01<00:00, 10.10it/s, loss=-0.784, train_loss=-0.752, train_accuracy=1.000]"
     ]
    },
    {
     "name": "stderr",
     "output_type": "stream",
     "text": [
      "[2025-05-16 13:05:25] INFO (torcheeg/MainThread) \n",
      "[Train] train_loss: -0.781 train_accuracy: 1.000 \n",
      "\n"
     ]
    },
    {
     "name": "stdout",
     "output_type": "stream",
     "text": [
      "Epoch 17: 100%|██████████| 17/17 [00:01<00:00, 10.16it/s, loss=-0.78, train_loss=-0.734, train_accuracy=1.000] "
     ]
    },
    {
     "name": "stderr",
     "output_type": "stream",
     "text": [
      "[2025-05-16 13:05:27] INFO (torcheeg/MainThread) \n",
      "[Train] train_loss: -0.782 train_accuracy: 1.000 \n",
      "\n"
     ]
    },
    {
     "name": "stdout",
     "output_type": "stream",
     "text": [
      "Epoch 18: 100%|██████████| 17/17 [00:01<00:00, 10.01it/s, loss=-0.781, train_loss=-0.772, train_accuracy=1.000]"
     ]
    },
    {
     "name": "stderr",
     "output_type": "stream",
     "text": [
      "[2025-05-16 13:05:29] INFO (torcheeg/MainThread) \n",
      "[Train] train_loss: -0.782 train_accuracy: 1.000 \n",
      "\n"
     ]
    },
    {
     "name": "stdout",
     "output_type": "stream",
     "text": [
      "Epoch 19: 100%|██████████| 17/17 [00:01<00:00, 10.37it/s, loss=-0.782, train_loss=-0.783, train_accuracy=1.000]"
     ]
    },
    {
     "name": "stderr",
     "output_type": "stream",
     "text": [
      "[2025-05-16 13:05:30] INFO (torcheeg/MainThread) \n",
      "[Train] train_loss: -0.782 train_accuracy: 1.000 \n",
      "\n"
     ]
    },
    {
     "name": "stdout",
     "output_type": "stream",
     "text": [
      "Epoch 20: 100%|██████████| 17/17 [00:01<00:00, 10.29it/s, loss=-0.782, train_loss=-0.772, train_accuracy=1.000]"
     ]
    },
    {
     "name": "stderr",
     "output_type": "stream",
     "text": [
      "[2025-05-16 13:05:32] INFO (torcheeg/MainThread) \n",
      "[Train] train_loss: -0.782 train_accuracy: 1.000 \n",
      "\n"
     ]
    },
    {
     "name": "stdout",
     "output_type": "stream",
     "text": [
      "Epoch 21: 100%|██████████| 17/17 [00:01<00:00, 10.37it/s, loss=-0.779, train_loss=-0.778, train_accuracy=1.000]"
     ]
    },
    {
     "name": "stderr",
     "output_type": "stream",
     "text": [
      "[2025-05-16 13:05:34] INFO (torcheeg/MainThread) \n",
      "[Train] train_loss: -0.782 train_accuracy: 1.000 \n",
      "\n"
     ]
    },
    {
     "name": "stdout",
     "output_type": "stream",
     "text": [
      "Epoch 22: 100%|██████████| 17/17 [00:01<00:00, 10.06it/s, loss=-0.783, train_loss=-0.798, train_accuracy=1.000]"
     ]
    },
    {
     "name": "stderr",
     "output_type": "stream",
     "text": [
      "[2025-05-16 13:05:35] INFO (torcheeg/MainThread) \n",
      "[Train] train_loss: -0.784 train_accuracy: 1.000 \n",
      "\n"
     ]
    },
    {
     "name": "stdout",
     "output_type": "stream",
     "text": [
      "Epoch 23: 100%|██████████| 17/17 [00:01<00:00, 10.11it/s, loss=-0.786, train_loss=-0.801, train_accuracy=1.000]"
     ]
    },
    {
     "name": "stderr",
     "output_type": "stream",
     "text": [
      "[2025-05-16 13:05:37] INFO (torcheeg/MainThread) \n",
      "[Train] train_loss: -0.784 train_accuracy: 1.000 \n",
      "\n"
     ]
    },
    {
     "name": "stdout",
     "output_type": "stream",
     "text": [
      "Epoch 24: 100%|██████████| 17/17 [00:01<00:00,  9.80it/s, loss=-0.784, train_loss=-0.743, train_accuracy=1.000]"
     ]
    },
    {
     "name": "stderr",
     "output_type": "stream",
     "text": [
      "[2025-05-16 13:05:39] INFO (torcheeg/MainThread) \n",
      "[Train] train_loss: -0.783 train_accuracy: 1.000 \n",
      "\n"
     ]
    },
    {
     "name": "stdout",
     "output_type": "stream",
     "text": [
      "Epoch 25: 100%|██████████| 17/17 [00:01<00:00, 10.00it/s, loss=-0.782, train_loss=-0.779, train_accuracy=1.000]"
     ]
    },
    {
     "name": "stderr",
     "output_type": "stream",
     "text": [
      "Monitored metric train_loss did not improve in the last 10 records. Best score: -0.824. Signaling Trainer to stop.\n"
     ]
    },
    {
     "name": "stdout",
     "output_type": "stream",
     "text": [
      "Epoch 25: 100%|██████████| 17/17 [00:01<00:00,  9.98it/s, loss=-0.782, train_loss=-0.779, train_accuracy=1.000]"
     ]
    },
    {
     "name": "stderr",
     "output_type": "stream",
     "text": [
      "[2025-05-16 13:05:40] INFO (torcheeg/MainThread) \n",
      "[Train] train_loss: -0.784 train_accuracy: 1.000 \n",
      "\n"
     ]
    },
    {
     "name": "stdout",
     "output_type": "stream",
     "text": [
      "Epoch 25: 100%|██████████| 17/17 [00:01<00:00,  9.96it/s, loss=-0.782, train_loss=-0.779, train_accuracy=1.000]\n"
     ]
    },
    {
     "name": "stderr",
     "output_type": "stream",
     "text": [
      "GPU available: True (cuda), used: True\n",
      "TPU available: False, using: 0 TPU cores\n",
      "IPU available: False, using: 0 IPUs\n",
      "HPU available: False, using: 0 HPUs\n",
      "LOCAL_RANK: 0 - CUDA_VISIBLE_DEVICES: [0]\n",
      "/root/autodl-tmp/conda/envs/law/lib/python3.8/site-packages/pytorch_lightning/trainer/connectors/data_connector.py:488: PossibleUserWarning: Your `test_dataloader`'s sampler has shuffling enabled, it is strongly recommended that you turn shuffling off for val/test/predict dataloaders.\n",
      "  rank_zero_warn(\n",
      "/root/autodl-tmp/conda/envs/law/lib/python3.8/site-packages/pytorch_lightning/trainer/connectors/data_connector.py:224: PossibleUserWarning: The dataloader, test_dataloader 0, does not have many workers which may be a bottleneck. Consider increasing the value of the `num_workers` argument` (try 128 which is the number of cpus on this machine) in the `DataLoader` init to improve performance.\n",
      "  rank_zero_warn(\n"
     ]
    },
    {
     "name": "stdout",
     "output_type": "stream",
     "text": [
      "Testing DataLoader 0: 100%|██████████| 17/17 [00:00<00:00, 71.74it/s]"
     ]
    },
    {
     "name": "stderr",
     "output_type": "stream",
     "text": [
      "/root/autodl-tmp/conda/envs/law/lib/python3.8/site-packages/pytorch_lightning/core/module.py:493: UserWarning: You called `self.log('test_loss', ..., logger=True)` but have no logger configured. You can enable one by doing `Trainer(logger=ALogger(...))`\n",
      "  rank_zero_warn(\n",
      "/root/autodl-tmp/conda/envs/law/lib/python3.8/site-packages/pytorch_lightning/core/module.py:493: UserWarning: You called `self.log('test_accuracy', ..., logger=True)` but have no logger configured. You can enable one by doing `Trainer(logger=ALogger(...))`\n",
      "  rank_zero_warn(\n",
      "[2025-05-16 13:05:41] INFO (torcheeg/MainThread) \n",
      "[Test] test_loss: 0.001 test_accuracy: 1.000 \n",
      "\n"
     ]
    },
    {
     "name": "stdout",
     "output_type": "stream",
     "text": [
      "Testing DataLoader 0: 100%|██████████| 17/17 [00:00<00:00, 70.42it/s]\n",
      "────────────────────────────────────────────────────────────────────────────────────────────────────────────────────────\n",
      "       Test metric             DataLoader 0\n",
      "────────────────────────────────────────────────────────────────────────────────────────────────────────────────────────\n",
      "      test_accuracy                 1.0\n",
      "        test_loss          0.001014277571812272\n",
      "────────────────────────────────────────────────────────────────────────────────────────────────────────────────────────\n"
     ]
    },
    {
     "name": "stderr",
     "output_type": "stream",
     "text": [
      "GPU available: True (cuda), used: True\n",
      "TPU available: False, using: 0 TPU cores\n",
      "IPU available: False, using: 0 IPUs\n",
      "HPU available: False, using: 0 HPUs\n",
      "LOCAL_RANK: 0 - CUDA_VISIBLE_DEVICES: [0]\n"
     ]
    },
    {
     "name": "stdout",
     "output_type": "stream",
     "text": [
      "Testing DataLoader 0: 100%|██████████| 4/4 [00:00<00:00, 68.32it/s]"
     ]
    },
    {
     "name": "stderr",
     "output_type": "stream",
     "text": [
      "[2025-05-16 13:05:42] INFO (torcheeg/MainThread) \n",
      "[Test] test_loss: 0.039 test_accuracy: 1.000 \n",
      "\n"
     ]
    },
    {
     "name": "stdout",
     "output_type": "stream",
     "text": [
      "Testing DataLoader 0: 100%|██████████| 4/4 [00:00<00:00, 63.24it/s]\n",
      "────────────────────────────────────────────────────────────────────────────────────────────────────────────────────────\n",
      "       Test metric             DataLoader 0\n",
      "────────────────────────────────────────────────────────────────────────────────────────────────────────────────────────\n",
      "      test_accuracy                 1.0\n",
      "        test_loss           0.03878041356801987\n",
      "────────────────────────────────────────────────────────────────────────────────────────────────────────────────────────\n"
     ]
    },
    {
     "name": "stderr",
     "output_type": "stream",
     "text": [
      "GPU available: True (cuda), used: True\n",
      "TPU available: False, using: 0 TPU cores\n",
      "IPU available: False, using: 0 IPUs\n",
      "HPU available: False, using: 0 HPUs\n",
      "LOCAL_RANK: 0 - CUDA_VISIBLE_DEVICES: [0]\n",
      "/root/autodl-tmp/conda/envs/law/lib/python3.8/site-packages/pytorch_lightning/trainer/connectors/data_connector.py:224: PossibleUserWarning: The dataloader, train_dataloader, does not have many workers which may be a bottleneck. Consider increasing the value of the `num_workers` argument` (try 128 which is the number of cpus on this machine) in the `DataLoader` init to improve performance.\n",
      "  rank_zero_warn(\n"
     ]
    },
    {
     "name": "stdout",
     "output_type": "stream",
     "text": [
      "Epoch 0: 100%|██████████| 14/14 [00:01<00:00, 10.21it/s, loss=-0.185, train_loss=-0.244, train_accuracy=0.750] "
     ]
    },
    {
     "name": "stderr",
     "output_type": "stream",
     "text": [
      "Metric train_loss improved. New best score: -0.244\n"
     ]
    },
    {
     "name": "stdout",
     "output_type": "stream",
     "text": [
      "Epoch 0: 100%|██████████| 14/14 [00:01<00:00, 10.19it/s, loss=-0.185, train_loss=-0.244, train_accuracy=0.750]"
     ]
    },
    {
     "name": "stderr",
     "output_type": "stream",
     "text": [
      "/root/autodl-tmp/conda/envs/law/lib/python3.8/site-packages/pytorch_lightning/core/module.py:493: UserWarning: You called `self.log('train_loss', ..., logger=True)` but have no logger configured. You can enable one by doing `Trainer(logger=ALogger(...))`\n",
      "  rank_zero_warn(\n",
      "/root/autodl-tmp/conda/envs/law/lib/python3.8/site-packages/pytorch_lightning/core/module.py:493: UserWarning: You called `self.log('train_accuracy', ..., logger=True)` but have no logger configured. You can enable one by doing `Trainer(logger=ALogger(...))`\n",
      "  rank_zero_warn(\n",
      "[2025-05-16 13:05:45] INFO (torcheeg/MainThread) \n",
      "[Train] train_loss: -0.185 train_accuracy: 0.637 \n",
      "\n"
     ]
    },
    {
     "name": "stdout",
     "output_type": "stream",
     "text": [
      "Epoch 1: 100%|██████████| 14/14 [00:01<00:00, 10.50it/s, loss=-0.531, train_loss=-0.722, train_accuracy=1.000]"
     ]
    },
    {
     "name": "stderr",
     "output_type": "stream",
     "text": [
      "Metric train_loss improved by 0.479 >= min_delta = 0.0. New best score: -0.722\n"
     ]
    },
    {
     "name": "stdout",
     "output_type": "stream",
     "text": [
      "Epoch 1: 100%|██████████| 14/14 [00:01<00:00, 10.48it/s, loss=-0.531, train_loss=-0.722, train_accuracy=1.000]"
     ]
    },
    {
     "name": "stderr",
     "output_type": "stream",
     "text": [
      "[2025-05-16 13:05:46] INFO (torcheeg/MainThread) \n",
      "[Train] train_loss: -0.640 train_accuracy: 0.956 \n",
      "\n"
     ]
    },
    {
     "name": "stdout",
     "output_type": "stream",
     "text": [
      "Epoch 2: 100%|██████████| 14/14 [00:01<00:00, 10.23it/s, loss=-0.724, train_loss=-0.717, train_accuracy=1.000]"
     ]
    },
    {
     "name": "stderr",
     "output_type": "stream",
     "text": [
      "[2025-05-16 13:05:47] INFO (torcheeg/MainThread) \n",
      "[Train] train_loss: -0.739 train_accuracy: 1.000 \n",
      "\n"
     ]
    },
    {
     "name": "stdout",
     "output_type": "stream",
     "text": [
      "Epoch 3: 100%|██████████| 14/14 [00:01<00:00, 10.51it/s, loss=-0.766, train_loss=-0.79, train_accuracy=1.000] "
     ]
    },
    {
     "name": "stderr",
     "output_type": "stream",
     "text": [
      "Metric train_loss improved by 0.068 >= min_delta = 0.0. New best score: -0.790\n"
     ]
    },
    {
     "name": "stdout",
     "output_type": "stream",
     "text": [
      "Epoch 3: 100%|██████████| 14/14 [00:01<00:00, 10.50it/s, loss=-0.766, train_loss=-0.79, train_accuracy=1.000]"
     ]
    },
    {
     "name": "stderr",
     "output_type": "stream",
     "text": [
      "[2025-05-16 13:05:49] INFO (torcheeg/MainThread) \n",
      "[Train] train_loss: -0.773 train_accuracy: 1.000 \n",
      "\n"
     ]
    },
    {
     "name": "stdout",
     "output_type": "stream",
     "text": [
      "Epoch 4: 100%|██████████| 14/14 [00:01<00:00, 10.53it/s, loss=-0.778, train_loss=-0.792, train_accuracy=1.000]"
     ]
    },
    {
     "name": "stderr",
     "output_type": "stream",
     "text": [
      "Metric train_loss improved by 0.002 >= min_delta = 0.0. New best score: -0.792\n"
     ]
    },
    {
     "name": "stdout",
     "output_type": "stream",
     "text": [
      "Epoch 4: 100%|██████████| 14/14 [00:01<00:00, 10.51it/s, loss=-0.778, train_loss=-0.792, train_accuracy=1.000]"
     ]
    },
    {
     "name": "stderr",
     "output_type": "stream",
     "text": [
      "[2025-05-16 13:05:50] INFO (torcheeg/MainThread) \n",
      "[Train] train_loss: -0.781 train_accuracy: 1.000 \n",
      "\n"
     ]
    },
    {
     "name": "stdout",
     "output_type": "stream",
     "text": [
      "Epoch 5: 100%|██████████| 14/14 [00:01<00:00, 10.67it/s, loss=-0.785, train_loss=-0.828, train_accuracy=1.000]"
     ]
    },
    {
     "name": "stderr",
     "output_type": "stream",
     "text": [
      "Metric train_loss improved by 0.036 >= min_delta = 0.0. New best score: -0.828\n"
     ]
    },
    {
     "name": "stdout",
     "output_type": "stream",
     "text": [
      "Epoch 5: 100%|██████████| 14/14 [00:01<00:00, 10.65it/s, loss=-0.785, train_loss=-0.828, train_accuracy=1.000]"
     ]
    },
    {
     "name": "stderr",
     "output_type": "stream",
     "text": [
      "[2025-05-16 13:05:51] INFO (torcheeg/MainThread) \n",
      "[Train] train_loss: -0.786 train_accuracy: 1.000 \n",
      "\n"
     ]
    },
    {
     "name": "stdout",
     "output_type": "stream",
     "text": [
      "Epoch 6: 100%|██████████| 14/14 [00:01<00:00, 10.81it/s, loss=-0.788, train_loss=-0.771, train_accuracy=1.000]"
     ]
    },
    {
     "name": "stderr",
     "output_type": "stream",
     "text": [
      "[2025-05-16 13:05:53] INFO (torcheeg/MainThread) \n",
      "[Train] train_loss: -0.786 train_accuracy: 1.000 \n",
      "\n"
     ]
    },
    {
     "name": "stdout",
     "output_type": "stream",
     "text": [
      "Epoch 7: 100%|██████████| 14/14 [00:01<00:00, 10.51it/s, loss=-0.785, train_loss=-0.76, train_accuracy=1.000] "
     ]
    },
    {
     "name": "stderr",
     "output_type": "stream",
     "text": [
      "[2025-05-16 13:05:54] INFO (torcheeg/MainThread) \n",
      "[Train] train_loss: -0.786 train_accuracy: 1.000 \n",
      "\n"
     ]
    },
    {
     "name": "stdout",
     "output_type": "stream",
     "text": [
      "Epoch 8: 100%|██████████| 14/14 [00:01<00:00, 10.55it/s, loss=-0.788, train_loss=-0.742, train_accuracy=1.000]"
     ]
    },
    {
     "name": "stderr",
     "output_type": "stream",
     "text": [
      "[2025-05-16 13:05:55] INFO (torcheeg/MainThread) \n",
      "[Train] train_loss: -0.787 train_accuracy: 1.000 \n",
      "\n"
     ]
    },
    {
     "name": "stdout",
     "output_type": "stream",
     "text": [
      "Epoch 9: 100%|██████████| 14/14 [00:01<00:00, 10.62it/s, loss=-0.789, train_loss=-0.774, train_accuracy=1.000]"
     ]
    },
    {
     "name": "stderr",
     "output_type": "stream",
     "text": [
      "[2025-05-16 13:05:57] INFO (torcheeg/MainThread) \n",
      "[Train] train_loss: -0.789 train_accuracy: 1.000 \n",
      "\n"
     ]
    },
    {
     "name": "stdout",
     "output_type": "stream",
     "text": [
      "Epoch 10: 100%|██████████| 14/14 [00:01<00:00, 10.67it/s, loss=-0.79, train_loss=-0.814, train_accuracy=1.000] "
     ]
    },
    {
     "name": "stderr",
     "output_type": "stream",
     "text": [
      "[2025-05-16 13:05:58] INFO (torcheeg/MainThread) \n",
      "[Train] train_loss: -0.792 train_accuracy: 1.000 \n",
      "\n"
     ]
    },
    {
     "name": "stdout",
     "output_type": "stream",
     "text": [
      "Epoch 11: 100%|██████████| 14/14 [00:01<00:00, 10.68it/s, loss=-0.792, train_loss=-0.789, train_accuracy=1.000]"
     ]
    },
    {
     "name": "stderr",
     "output_type": "stream",
     "text": [
      "[2025-05-16 13:05:59] INFO (torcheeg/MainThread) \n",
      "[Train] train_loss: -0.792 train_accuracy: 1.000 \n",
      "\n"
     ]
    },
    {
     "name": "stdout",
     "output_type": "stream",
     "text": [
      "Epoch 12: 100%|██████████| 14/14 [00:01<00:00, 10.37it/s, loss=-0.793, train_loss=-0.811, train_accuracy=1.000]"
     ]
    },
    {
     "name": "stderr",
     "output_type": "stream",
     "text": [
      "[2025-05-16 13:06:01] INFO (torcheeg/MainThread) \n",
      "[Train] train_loss: -0.793 train_accuracy: 1.000 \n",
      "\n"
     ]
    },
    {
     "name": "stdout",
     "output_type": "stream",
     "text": [
      "Epoch 13: 100%|██████████| 14/14 [00:01<00:00, 10.53it/s, loss=-0.792, train_loss=-0.772, train_accuracy=1.000]"
     ]
    },
    {
     "name": "stderr",
     "output_type": "stream",
     "text": [
      "[2025-05-16 13:06:02] INFO (torcheeg/MainThread) \n",
      "[Train] train_loss: -0.791 train_accuracy: 1.000 \n",
      "\n"
     ]
    },
    {
     "name": "stdout",
     "output_type": "stream",
     "text": [
      "Epoch 14: 100%|██████████| 14/14 [00:01<00:00, 10.39it/s, loss=-0.793, train_loss=-0.813, train_accuracy=1.000]"
     ]
    },
    {
     "name": "stderr",
     "output_type": "stream",
     "text": [
      "[2025-05-16 13:06:03] INFO (torcheeg/MainThread) \n",
      "[Train] train_loss: -0.793 train_accuracy: 1.000 \n",
      "\n"
     ]
    },
    {
     "name": "stdout",
     "output_type": "stream",
     "text": [
      "Epoch 15: 100%|██████████| 14/14 [00:01<00:00, 10.50it/s, loss=-0.795, train_loss=-0.824, train_accuracy=1.000]"
     ]
    },
    {
     "name": "stderr",
     "output_type": "stream",
     "text": [
      "Monitored metric train_loss did not improve in the last 10 records. Best score: -0.828. Signaling Trainer to stop.\n"
     ]
    },
    {
     "name": "stdout",
     "output_type": "stream",
     "text": [
      "Epoch 15: 100%|██████████| 14/14 [00:01<00:00, 10.49it/s, loss=-0.795, train_loss=-0.824, train_accuracy=1.000]"
     ]
    },
    {
     "name": "stderr",
     "output_type": "stream",
     "text": [
      "[2025-05-16 13:06:05] INFO (torcheeg/MainThread) \n",
      "[Train] train_loss: -0.793 train_accuracy: 1.000 \n",
      "\n"
     ]
    },
    {
     "name": "stdout",
     "output_type": "stream",
     "text": [
      "Epoch 15: 100%|██████████| 14/14 [00:01<00:00, 10.47it/s, loss=-0.795, train_loss=-0.824, train_accuracy=1.000]\n"
     ]
    },
    {
     "name": "stderr",
     "output_type": "stream",
     "text": [
      "GPU available: True (cuda), used: True\n",
      "TPU available: False, using: 0 TPU cores\n",
      "IPU available: False, using: 0 IPUs\n",
      "HPU available: False, using: 0 HPUs\n",
      "LOCAL_RANK: 0 - CUDA_VISIBLE_DEVICES: [0]\n",
      "/root/autodl-tmp/conda/envs/law/lib/python3.8/site-packages/pytorch_lightning/trainer/connectors/data_connector.py:488: PossibleUserWarning: Your `test_dataloader`'s sampler has shuffling enabled, it is strongly recommended that you turn shuffling off for val/test/predict dataloaders.\n",
      "  rank_zero_warn(\n",
      "/root/autodl-tmp/conda/envs/law/lib/python3.8/site-packages/pytorch_lightning/trainer/connectors/data_connector.py:224: PossibleUserWarning: The dataloader, test_dataloader 0, does not have many workers which may be a bottleneck. Consider increasing the value of the `num_workers` argument` (try 128 which is the number of cpus on this machine) in the `DataLoader` init to improve performance.\n",
      "  rank_zero_warn(\n"
     ]
    },
    {
     "name": "stdout",
     "output_type": "stream",
     "text": [
      "Testing DataLoader 0: 100%|██████████| 14/14 [00:00<00:00, 74.12it/s]"
     ]
    },
    {
     "name": "stderr",
     "output_type": "stream",
     "text": [
      "/root/autodl-tmp/conda/envs/law/lib/python3.8/site-packages/pytorch_lightning/core/module.py:493: UserWarning: You called `self.log('test_loss', ..., logger=True)` but have no logger configured. You can enable one by doing `Trainer(logger=ALogger(...))`\n",
      "  rank_zero_warn(\n",
      "/root/autodl-tmp/conda/envs/law/lib/python3.8/site-packages/pytorch_lightning/core/module.py:493: UserWarning: You called `self.log('test_accuracy', ..., logger=True)` but have no logger configured. You can enable one by doing `Trainer(logger=ALogger(...))`\n",
      "  rank_zero_warn(\n",
      "[2025-05-16 13:06:05] INFO (torcheeg/MainThread) \n",
      "[Test] test_loss: 0.002 test_accuracy: 1.000 \n",
      "\n"
     ]
    },
    {
     "name": "stdout",
     "output_type": "stream",
     "text": [
      "Testing DataLoader 0: 100%|██████████| 14/14 [00:00<00:00, 72.25it/s]\n",
      "────────────────────────────────────────────────────────────────────────────────────────────────────────────────────────\n",
      "       Test metric             DataLoader 0\n",
      "────────────────────────────────────────────────────────────────────────────────────────────────────────────────────────\n",
      "      test_accuracy                 1.0\n",
      "        test_loss          0.0017168776830658317\n",
      "────────────────────────────────────────────────────────────────────────────────────────────────────────────────────────\n"
     ]
    },
    {
     "name": "stderr",
     "output_type": "stream",
     "text": [
      "GPU available: True (cuda), used: True\n",
      "TPU available: False, using: 0 TPU cores\n",
      "IPU available: False, using: 0 IPUs\n",
      "HPU available: False, using: 0 HPUs\n",
      "LOCAL_RANK: 0 - CUDA_VISIBLE_DEVICES: [0]\n"
     ]
    },
    {
     "name": "stdout",
     "output_type": "stream",
     "text": [
      "Testing DataLoader 0: 100%|██████████| 7/7 [00:00<00:00, 75.29it/s]"
     ]
    },
    {
     "name": "stderr",
     "output_type": "stream",
     "text": [
      "[2025-05-16 13:06:06] INFO (torcheeg/MainThread) \n",
      "[Test] test_loss: 0.757 test_accuracy: 0.700 \n",
      "\n"
     ]
    },
    {
     "name": "stdout",
     "output_type": "stream",
     "text": [
      "Testing DataLoader 0: 100%|██████████| 7/7 [00:00<00:00, 72.12it/s]\n",
      "────────────────────────────────────────────────────────────────────────────────────────────────────────────────────────\n",
      "       Test metric             DataLoader 0\n",
      "────────────────────────────────────────────────────────────────────────────────────────────────────────────────────────\n",
      "      test_accuracy          0.699999988079071\n",
      "        test_loss           0.7572023272514343\n",
      "────────────────────────────────────────────────────────────────────────────────────────────────────────────────────────\n"
     ]
    },
    {
     "name": "stderr",
     "output_type": "stream",
     "text": [
      "GPU available: True (cuda), used: True\n",
      "TPU available: False, using: 0 TPU cores\n",
      "IPU available: False, using: 0 IPUs\n",
      "HPU available: False, using: 0 HPUs\n",
      "LOCAL_RANK: 0 - CUDA_VISIBLE_DEVICES: [0]\n",
      "/root/autodl-tmp/conda/envs/law/lib/python3.8/site-packages/pytorch_lightning/trainer/connectors/data_connector.py:224: PossibleUserWarning: The dataloader, train_dataloader, does not have many workers which may be a bottleneck. Consider increasing the value of the `num_workers` argument` (try 128 which is the number of cpus on this machine) in the `DataLoader` init to improve performance.\n",
      "  rank_zero_warn(\n"
     ]
    },
    {
     "name": "stdout",
     "output_type": "stream",
     "text": [
      "Epoch 0: 100%|██████████| 14/14 [00:01<00:00, 10.06it/s, loss=-0.00857, train_loss=-0.275, train_accuracy=0.750]"
     ]
    },
    {
     "name": "stderr",
     "output_type": "stream",
     "text": [
      "Metric train_loss improved. New best score: -0.275\n"
     ]
    },
    {
     "name": "stdout",
     "output_type": "stream",
     "text": [
      "Epoch 0: 100%|██████████| 14/14 [00:01<00:00, 10.05it/s, loss=-0.00857, train_loss=-0.275, train_accuracy=0.750]"
     ]
    },
    {
     "name": "stderr",
     "output_type": "stream",
     "text": [
      "/root/autodl-tmp/conda/envs/law/lib/python3.8/site-packages/pytorch_lightning/core/module.py:493: UserWarning: You called `self.log('train_loss', ..., logger=True)` but have no logger configured. You can enable one by doing `Trainer(logger=ALogger(...))`\n",
      "  rank_zero_warn(\n",
      "/root/autodl-tmp/conda/envs/law/lib/python3.8/site-packages/pytorch_lightning/core/module.py:493: UserWarning: You called `self.log('train_accuracy', ..., logger=True)` but have no logger configured. You can enable one by doing `Trainer(logger=ALogger(...))`\n",
      "  rank_zero_warn(\n",
      "[2025-05-16 13:06:09] INFO (torcheeg/MainThread) \n",
      "[Train] train_loss: -0.009 train_accuracy: 0.531 \n",
      "\n"
     ]
    },
    {
     "name": "stdout",
     "output_type": "stream",
     "text": [
      "Epoch 1: 100%|██████████| 14/14 [00:01<00:00, 10.26it/s, loss=-0.392, train_loss=-0.659, train_accuracy=1.000]  "
     ]
    },
    {
     "name": "stderr",
     "output_type": "stream",
     "text": [
      "Metric train_loss improved by 0.384 >= min_delta = 0.0. New best score: -0.659\n"
     ]
    },
    {
     "name": "stdout",
     "output_type": "stream",
     "text": [
      "Epoch 1: 100%|██████████| 14/14 [00:01<00:00, 10.25it/s, loss=-0.392, train_loss=-0.659, train_accuracy=1.000]"
     ]
    },
    {
     "name": "stderr",
     "output_type": "stream",
     "text": [
      "[2025-05-16 13:06:10] INFO (torcheeg/MainThread) \n",
      "[Train] train_loss: -0.532 train_accuracy: 0.925 \n",
      "\n"
     ]
    },
    {
     "name": "stdout",
     "output_type": "stream",
     "text": [
      "Epoch 2: 100%|██████████| 14/14 [00:01<00:00, 10.21it/s, loss=-0.644, train_loss=-0.633, train_accuracy=1.000]"
     ]
    },
    {
     "name": "stderr",
     "output_type": "stream",
     "text": [
      "[2025-05-16 13:06:11] INFO (torcheeg/MainThread) \n",
      "[Train] train_loss: -0.670 train_accuracy: 1.000 \n",
      "\n"
     ]
    },
    {
     "name": "stdout",
     "output_type": "stream",
     "text": [
      "Epoch 3: 100%|██████████| 14/14 [00:01<00:00, 10.35it/s, loss=-0.715, train_loss=-0.746, train_accuracy=1.000]"
     ]
    },
    {
     "name": "stderr",
     "output_type": "stream",
     "text": [
      "Metric train_loss improved by 0.087 >= min_delta = 0.0. New best score: -0.746\n"
     ]
    },
    {
     "name": "stdout",
     "output_type": "stream",
     "text": [
      "Epoch 3: 100%|██████████| 14/14 [00:01<00:00, 10.33it/s, loss=-0.715, train_loss=-0.746, train_accuracy=1.000]"
     ]
    },
    {
     "name": "stderr",
     "output_type": "stream",
     "text": [
      "[2025-05-16 13:06:13] INFO (torcheeg/MainThread) \n",
      "[Train] train_loss: -0.733 train_accuracy: 1.000 \n",
      "\n"
     ]
    },
    {
     "name": "stdout",
     "output_type": "stream",
     "text": [
      "Epoch 4: 100%|██████████| 14/14 [00:01<00:00, 10.40it/s, loss=-0.755, train_loss=-0.777, train_accuracy=1.000]"
     ]
    },
    {
     "name": "stderr",
     "output_type": "stream",
     "text": [
      "Metric train_loss improved by 0.031 >= min_delta = 0.0. New best score: -0.777\n"
     ]
    },
    {
     "name": "stdout",
     "output_type": "stream",
     "text": [
      "Epoch 4: 100%|██████████| 14/14 [00:01<00:00, 10.39it/s, loss=-0.755, train_loss=-0.777, train_accuracy=1.000]"
     ]
    },
    {
     "name": "stderr",
     "output_type": "stream",
     "text": [
      "[2025-05-16 13:06:14] INFO (torcheeg/MainThread) \n",
      "[Train] train_loss: -0.761 train_accuracy: 1.000 \n",
      "\n"
     ]
    },
    {
     "name": "stdout",
     "output_type": "stream",
     "text": [
      "Epoch 5: 100%|██████████| 14/14 [00:01<00:00, 10.38it/s, loss=-0.768, train_loss=-0.753, train_accuracy=1.000]"
     ]
    },
    {
     "name": "stderr",
     "output_type": "stream",
     "text": [
      "[2025-05-16 13:06:15] INFO (torcheeg/MainThread) \n",
      "[Train] train_loss: -0.771 train_accuracy: 1.000 \n",
      "\n"
     ]
    },
    {
     "name": "stdout",
     "output_type": "stream",
     "text": [
      "Epoch 6: 100%|██████████| 14/14 [00:01<00:00, 10.20it/s, loss=-0.777, train_loss=-0.811, train_accuracy=1.000]"
     ]
    },
    {
     "name": "stderr",
     "output_type": "stream",
     "text": [
      "Metric train_loss improved by 0.035 >= min_delta = 0.0. New best score: -0.811\n"
     ]
    },
    {
     "name": "stdout",
     "output_type": "stream",
     "text": [
      "Epoch 6: 100%|██████████| 14/14 [00:01<00:00, 10.18it/s, loss=-0.777, train_loss=-0.811, train_accuracy=1.000]"
     ]
    },
    {
     "name": "stderr",
     "output_type": "stream",
     "text": [
      "[2025-05-16 13:06:17] INFO (torcheeg/MainThread) \n",
      "[Train] train_loss: -0.780 train_accuracy: 1.000 \n",
      "\n"
     ]
    },
    {
     "name": "stdout",
     "output_type": "stream",
     "text": [
      "Epoch 7: 100%|██████████| 14/14 [00:01<00:00,  9.95it/s, loss=-0.783, train_loss=-0.789, train_accuracy=1.000]"
     ]
    },
    {
     "name": "stderr",
     "output_type": "stream",
     "text": [
      "[2025-05-16 13:06:18] INFO (torcheeg/MainThread) \n",
      "[Train] train_loss: -0.782 train_accuracy: 1.000 \n",
      "\n"
     ]
    },
    {
     "name": "stdout",
     "output_type": "stream",
     "text": [
      "Epoch 8: 100%|██████████| 14/14 [00:01<00:00, 10.21it/s, loss=-0.787, train_loss=-0.805, train_accuracy=1.000]"
     ]
    },
    {
     "name": "stderr",
     "output_type": "stream",
     "text": [
      "[2025-05-16 13:06:19] INFO (torcheeg/MainThread) \n",
      "[Train] train_loss: -0.785 train_accuracy: 1.000 \n",
      "\n"
     ]
    },
    {
     "name": "stdout",
     "output_type": "stream",
     "text": [
      "Epoch 9: 100%|██████████| 14/14 [00:01<00:00, 10.38it/s, loss=-0.786, train_loss=-0.779, train_accuracy=1.000]"
     ]
    },
    {
     "name": "stderr",
     "output_type": "stream",
     "text": [
      "[2025-05-16 13:06:21] INFO (torcheeg/MainThread) \n",
      "[Train] train_loss: -0.787 train_accuracy: 1.000 \n",
      "\n"
     ]
    },
    {
     "name": "stdout",
     "output_type": "stream",
     "text": [
      "Epoch 10: 100%|██████████| 14/14 [00:01<00:00, 10.34it/s, loss=-0.787, train_loss=-0.787, train_accuracy=1.000]"
     ]
    },
    {
     "name": "stderr",
     "output_type": "stream",
     "text": [
      "[2025-05-16 13:06:22] INFO (torcheeg/MainThread) \n",
      "[Train] train_loss: -0.788 train_accuracy: 1.000 \n",
      "\n"
     ]
    },
    {
     "name": "stdout",
     "output_type": "stream",
     "text": [
      "Epoch 11: 100%|██████████| 14/14 [00:01<00:00, 10.54it/s, loss=-0.787, train_loss=-0.772, train_accuracy=1.000]"
     ]
    },
    {
     "name": "stderr",
     "output_type": "stream",
     "text": [
      "[2025-05-16 13:06:24] INFO (torcheeg/MainThread) \n",
      "[Train] train_loss: -0.788 train_accuracy: 1.000 \n",
      "\n"
     ]
    },
    {
     "name": "stdout",
     "output_type": "stream",
     "text": [
      "Epoch 12: 100%|██████████| 14/14 [00:01<00:00, 10.34it/s, loss=-0.792, train_loss=-0.828, train_accuracy=1.000]"
     ]
    },
    {
     "name": "stderr",
     "output_type": "stream",
     "text": [
      "Metric train_loss improved by 0.016 >= min_delta = 0.0. New best score: -0.828\n"
     ]
    },
    {
     "name": "stdout",
     "output_type": "stream",
     "text": [
      "Epoch 12: 100%|██████████| 14/14 [00:01<00:00, 10.33it/s, loss=-0.792, train_loss=-0.828, train_accuracy=1.000]"
     ]
    },
    {
     "name": "stderr",
     "output_type": "stream",
     "text": [
      "[2025-05-16 13:06:25] INFO (torcheeg/MainThread) \n",
      "[Train] train_loss: -0.792 train_accuracy: 1.000 \n",
      "\n"
     ]
    },
    {
     "name": "stdout",
     "output_type": "stream",
     "text": [
      "Epoch 13: 100%|██████████| 14/14 [00:01<00:00, 10.18it/s, loss=-0.791, train_loss=-0.795, train_accuracy=1.000]"
     ]
    },
    {
     "name": "stderr",
     "output_type": "stream",
     "text": [
      "[2025-05-16 13:06:26] INFO (torcheeg/MainThread) \n",
      "[Train] train_loss: -0.791 train_accuracy: 1.000 \n",
      "\n"
     ]
    },
    {
     "name": "stdout",
     "output_type": "stream",
     "text": [
      "Epoch 14: 100%|██████████| 14/14 [00:01<00:00, 10.33it/s, loss=-0.791, train_loss=-0.793, train_accuracy=1.000]"
     ]
    },
    {
     "name": "stderr",
     "output_type": "stream",
     "text": [
      "[2025-05-16 13:06:28] INFO (torcheeg/MainThread) \n",
      "[Train] train_loss: -0.791 train_accuracy: 1.000 \n",
      "\n"
     ]
    },
    {
     "name": "stdout",
     "output_type": "stream",
     "text": [
      "Epoch 15: 100%|██████████| 14/14 [00:01<00:00, 10.17it/s, loss=-0.792, train_loss=-0.788, train_accuracy=1.000]"
     ]
    },
    {
     "name": "stderr",
     "output_type": "stream",
     "text": [
      "[2025-05-16 13:06:29] INFO (torcheeg/MainThread) \n",
      "[Train] train_loss: -0.790 train_accuracy: 1.000 \n",
      "\n"
     ]
    },
    {
     "name": "stdout",
     "output_type": "stream",
     "text": [
      "Epoch 16: 100%|██████████| 14/14 [00:01<00:00, 10.50it/s, loss=-0.791, train_loss=-0.802, train_accuracy=1.000]"
     ]
    },
    {
     "name": "stderr",
     "output_type": "stream",
     "text": [
      "[2025-05-16 13:06:30] INFO (torcheeg/MainThread) \n",
      "[Train] train_loss: -0.791 train_accuracy: 1.000 \n",
      "\n"
     ]
    },
    {
     "name": "stdout",
     "output_type": "stream",
     "text": [
      "Epoch 17: 100%|██████████| 14/14 [00:01<00:00, 10.38it/s, loss=-0.794, train_loss=-0.807, train_accuracy=1.000]"
     ]
    },
    {
     "name": "stderr",
     "output_type": "stream",
     "text": [
      "[2025-05-16 13:06:32] INFO (torcheeg/MainThread) \n",
      "[Train] train_loss: -0.793 train_accuracy: 1.000 \n",
      "\n"
     ]
    },
    {
     "name": "stdout",
     "output_type": "stream",
     "text": [
      "Epoch 18: 100%|██████████| 14/14 [00:01<00:00, 10.12it/s, loss=-0.795, train_loss=-0.801, train_accuracy=1.000]"
     ]
    },
    {
     "name": "stderr",
     "output_type": "stream",
     "text": [
      "[2025-05-16 13:06:33] INFO (torcheeg/MainThread) \n",
      "[Train] train_loss: -0.793 train_accuracy: 1.000 \n",
      "\n"
     ]
    },
    {
     "name": "stdout",
     "output_type": "stream",
     "text": [
      "Epoch 19: 100%|██████████| 14/14 [00:01<00:00, 10.18it/s, loss=-0.792, train_loss=-0.76, train_accuracy=1.000] "
     ]
    },
    {
     "name": "stderr",
     "output_type": "stream",
     "text": [
      "[2025-05-16 13:06:34] INFO (torcheeg/MainThread) \n",
      "[Train] train_loss: -0.791 train_accuracy: 1.000 \n",
      "\n"
     ]
    },
    {
     "name": "stdout",
     "output_type": "stream",
     "text": [
      "Epoch 20: 100%|██████████| 14/14 [00:01<00:00, 10.27it/s, loss=-0.79, train_loss=-0.775, train_accuracy=1.000] "
     ]
    },
    {
     "name": "stderr",
     "output_type": "stream",
     "text": [
      "[2025-05-16 13:06:36] INFO (torcheeg/MainThread) \n",
      "[Train] train_loss: -0.792 train_accuracy: 1.000 \n",
      "\n"
     ]
    },
    {
     "name": "stdout",
     "output_type": "stream",
     "text": [
      "Epoch 21: 100%|██████████| 14/14 [00:01<00:00, 10.32it/s, loss=-0.788, train_loss=-0.781, train_accuracy=1.000]"
     ]
    },
    {
     "name": "stderr",
     "output_type": "stream",
     "text": [
      "[2025-05-16 13:06:37] INFO (torcheeg/MainThread) \n",
      "[Train] train_loss: -0.792 train_accuracy: 1.000 \n",
      "\n"
     ]
    },
    {
     "name": "stdout",
     "output_type": "stream",
     "text": [
      "Epoch 22: 100%|██████████| 14/14 [00:01<00:00, 10.69it/s, loss=-0.793, train_loss=-0.774, train_accuracy=1.000]"
     ]
    },
    {
     "name": "stderr",
     "output_type": "stream",
     "text": [
      "Monitored metric train_loss did not improve in the last 10 records. Best score: -0.828. Signaling Trainer to stop.\n"
     ]
    },
    {
     "name": "stdout",
     "output_type": "stream",
     "text": [
      "Epoch 22: 100%|██████████| 14/14 [00:01<00:00, 10.68it/s, loss=-0.793, train_loss=-0.774, train_accuracy=1.000]"
     ]
    },
    {
     "name": "stderr",
     "output_type": "stream",
     "text": [
      "[2025-05-16 13:06:38] INFO (torcheeg/MainThread) \n",
      "[Train] train_loss: -0.792 train_accuracy: 1.000 \n",
      "\n"
     ]
    },
    {
     "name": "stdout",
     "output_type": "stream",
     "text": [
      "Epoch 22: 100%|██████████| 14/14 [00:01<00:00, 10.65it/s, loss=-0.793, train_loss=-0.774, train_accuracy=1.000]\n"
     ]
    },
    {
     "name": "stderr",
     "output_type": "stream",
     "text": [
      "GPU available: True (cuda), used: True\n",
      "TPU available: False, using: 0 TPU cores\n",
      "IPU available: False, using: 0 IPUs\n",
      "HPU available: False, using: 0 HPUs\n",
      "LOCAL_RANK: 0 - CUDA_VISIBLE_DEVICES: [0]\n",
      "/root/autodl-tmp/conda/envs/law/lib/python3.8/site-packages/pytorch_lightning/trainer/connectors/data_connector.py:488: PossibleUserWarning: Your `test_dataloader`'s sampler has shuffling enabled, it is strongly recommended that you turn shuffling off for val/test/predict dataloaders.\n",
      "  rank_zero_warn(\n",
      "/root/autodl-tmp/conda/envs/law/lib/python3.8/site-packages/pytorch_lightning/trainer/connectors/data_connector.py:224: PossibleUserWarning: The dataloader, test_dataloader 0, does not have many workers which may be a bottleneck. Consider increasing the value of the `num_workers` argument` (try 128 which is the number of cpus on this machine) in the `DataLoader` init to improve performance.\n",
      "  rank_zero_warn(\n"
     ]
    },
    {
     "name": "stdout",
     "output_type": "stream",
     "text": [
      "Testing DataLoader 0: 100%|██████████| 14/14 [00:00<00:00, 73.65it/s]"
     ]
    },
    {
     "name": "stderr",
     "output_type": "stream",
     "text": [
      "/root/autodl-tmp/conda/envs/law/lib/python3.8/site-packages/pytorch_lightning/core/module.py:493: UserWarning: You called `self.log('test_loss', ..., logger=True)` but have no logger configured. You can enable one by doing `Trainer(logger=ALogger(...))`\n",
      "  rank_zero_warn(\n",
      "/root/autodl-tmp/conda/envs/law/lib/python3.8/site-packages/pytorch_lightning/core/module.py:493: UserWarning: You called `self.log('test_accuracy', ..., logger=True)` but have no logger configured. You can enable one by doing `Trainer(logger=ALogger(...))`\n",
      "  rank_zero_warn(\n",
      "[2025-05-16 13:06:40] INFO (torcheeg/MainThread) \n",
      "[Test] test_loss: 0.002 test_accuracy: 1.000 \n",
      "\n"
     ]
    },
    {
     "name": "stdout",
     "output_type": "stream",
     "text": [
      "Testing DataLoader 0: 100%|██████████| 14/14 [00:00<00:00, 71.77it/s]\n",
      "────────────────────────────────────────────────────────────────────────────────────────────────────────────────────────\n",
      "       Test metric             DataLoader 0\n",
      "────────────────────────────────────────────────────────────────────────────────────────────────────────────────────────\n",
      "      test_accuracy                 1.0\n",
      "        test_loss          0.0015088638756424189\n",
      "────────────────────────────────────────────────────────────────────────────────────────────────────────────────────────\n"
     ]
    },
    {
     "name": "stderr",
     "output_type": "stream",
     "text": [
      "GPU available: True (cuda), used: True\n",
      "TPU available: False, using: 0 TPU cores\n",
      "IPU available: False, using: 0 IPUs\n",
      "HPU available: False, using: 0 HPUs\n",
      "LOCAL_RANK: 0 - CUDA_VISIBLE_DEVICES: [0]\n"
     ]
    },
    {
     "name": "stdout",
     "output_type": "stream",
     "text": [
      "Testing DataLoader 0: 100%|██████████| 7/7 [00:00<00:00, 68.99it/s]"
     ]
    },
    {
     "name": "stderr",
     "output_type": "stream",
     "text": [
      "[2025-05-16 13:06:40] INFO (torcheeg/MainThread) \n",
      "[Test] test_loss: 0.143 test_accuracy: 0.938 \n",
      "\n"
     ]
    },
    {
     "name": "stdout",
     "output_type": "stream",
     "text": [
      "Testing DataLoader 0: 100%|██████████| 7/7 [00:00<00:00, 66.14it/s]\n",
      "────────────────────────────────────────────────────────────────────────────────────────────────────────────────────────\n",
      "       Test metric             DataLoader 0\n",
      "────────────────────────────────────────────────────────────────────────────────────────────────────────────────────────\n",
      "      test_accuracy               0.9375\n",
      "        test_loss           0.14331503212451935\n",
      "────────────────────────────────────────────────────────────────────────────────────────────────────────────────────────\n"
     ]
    },
    {
     "name": "stderr",
     "output_type": "stream",
     "text": [
      "GPU available: True (cuda), used: True\n",
      "TPU available: False, using: 0 TPU cores\n",
      "IPU available: False, using: 0 IPUs\n",
      "HPU available: False, using: 0 HPUs\n",
      "LOCAL_RANK: 0 - CUDA_VISIBLE_DEVICES: [0]\n",
      "/root/autodl-tmp/conda/envs/law/lib/python3.8/site-packages/pytorch_lightning/trainer/connectors/data_connector.py:224: PossibleUserWarning: The dataloader, train_dataloader, does not have many workers which may be a bottleneck. Consider increasing the value of the `num_workers` argument` (try 128 which is the number of cpus on this machine) in the `DataLoader` init to improve performance.\n",
      "  rank_zero_warn(\n"
     ]
    },
    {
     "name": "stdout",
     "output_type": "stream",
     "text": [
      "Epoch 0: 100%|██████████| 17/17 [00:01<00:00, 10.66it/s, loss=-0.169, train_loss=-0.519, train_accuracy=1.000] "
     ]
    },
    {
     "name": "stderr",
     "output_type": "stream",
     "text": [
      "Metric train_loss improved. New best score: -0.519\n"
     ]
    },
    {
     "name": "stdout",
     "output_type": "stream",
     "text": [
      "Epoch 0: 100%|██████████| 17/17 [00:01<00:00, 10.65it/s, loss=-0.169, train_loss=-0.519, train_accuracy=1.000]"
     ]
    },
    {
     "name": "stderr",
     "output_type": "stream",
     "text": [
      "/root/autodl-tmp/conda/envs/law/lib/python3.8/site-packages/pytorch_lightning/core/module.py:493: UserWarning: You called `self.log('train_loss', ..., logger=True)` but have no logger configured. You can enable one by doing `Trainer(logger=ALogger(...))`\n",
      "  rank_zero_warn(\n",
      "/root/autodl-tmp/conda/envs/law/lib/python3.8/site-packages/pytorch_lightning/core/module.py:493: UserWarning: You called `self.log('train_accuracy', ..., logger=True)` but have no logger configured. You can enable one by doing `Trainer(logger=ALogger(...))`\n",
      "  rank_zero_warn(\n",
      "[2025-05-16 13:06:44] INFO (torcheeg/MainThread) \n",
      "[Train] train_loss: -0.169 train_accuracy: 0.625 \n",
      "\n"
     ]
    },
    {
     "name": "stdout",
     "output_type": "stream",
     "text": [
      "Epoch 1: 100%|██████████| 17/17 [00:01<00:00, 10.54it/s, loss=-0.558, train_loss=-0.515, train_accuracy=1.000]"
     ]
    },
    {
     "name": "stderr",
     "output_type": "stream",
     "text": [
      "[2025-05-16 13:06:46] INFO (torcheeg/MainThread) \n",
      "[Train] train_loss: -0.597 train_accuracy: 0.985 \n",
      "\n"
     ]
    },
    {
     "name": "stdout",
     "output_type": "stream",
     "text": [
      "Epoch 2: 100%|██████████| 17/17 [00:01<00:00, 10.47it/s, loss=-0.692, train_loss=-0.742, train_accuracy=1.000]"
     ]
    },
    {
     "name": "stderr",
     "output_type": "stream",
     "text": [
      "Metric train_loss improved by 0.223 >= min_delta = 0.0. New best score: -0.742\n"
     ]
    },
    {
     "name": "stdout",
     "output_type": "stream",
     "text": [
      "Epoch 2: 100%|██████████| 17/17 [00:01<00:00, 10.46it/s, loss=-0.692, train_loss=-0.742, train_accuracy=1.000]"
     ]
    },
    {
     "name": "stderr",
     "output_type": "stream",
     "text": [
      "[2025-05-16 13:06:47] INFO (torcheeg/MainThread) \n",
      "[Train] train_loss: -0.705 train_accuracy: 1.000 \n",
      "\n"
     ]
    },
    {
     "name": "stdout",
     "output_type": "stream",
     "text": [
      "Epoch 3: 100%|██████████| 17/17 [00:01<00:00, 10.53it/s, loss=-0.748, train_loss=-0.771, train_accuracy=1.000]"
     ]
    },
    {
     "name": "stderr",
     "output_type": "stream",
     "text": [
      "Metric train_loss improved by 0.028 >= min_delta = 0.0. New best score: -0.771\n"
     ]
    },
    {
     "name": "stdout",
     "output_type": "stream",
     "text": [
      "Epoch 3: 100%|██████████| 17/17 [00:01<00:00, 10.51it/s, loss=-0.748, train_loss=-0.771, train_accuracy=1.000]"
     ]
    },
    {
     "name": "stderr",
     "output_type": "stream",
     "text": [
      "[2025-05-16 13:06:49] INFO (torcheeg/MainThread) \n",
      "[Train] train_loss: -0.749 train_accuracy: 1.000 \n",
      "\n"
     ]
    },
    {
     "name": "stdout",
     "output_type": "stream",
     "text": [
      "Epoch 4: 100%|██████████| 17/17 [00:01<00:00,  9.70it/s, loss=-0.765, train_loss=-0.782, train_accuracy=1.000]"
     ]
    },
    {
     "name": "stderr",
     "output_type": "stream",
     "text": [
      "Metric train_loss improved by 0.011 >= min_delta = 0.0. New best score: -0.782\n"
     ]
    },
    {
     "name": "stdout",
     "output_type": "stream",
     "text": [
      "Epoch 4: 100%|██████████| 17/17 [00:01<00:00,  9.69it/s, loss=-0.765, train_loss=-0.782, train_accuracy=1.000]"
     ]
    },
    {
     "name": "stderr",
     "output_type": "stream",
     "text": [
      "[2025-05-16 13:06:51] INFO (torcheeg/MainThread) \n",
      "[Train] train_loss: -0.767 train_accuracy: 1.000 \n",
      "\n"
     ]
    },
    {
     "name": "stdout",
     "output_type": "stream",
     "text": [
      "Epoch 5: 100%|██████████| 17/17 [00:01<00:00, 10.18it/s, loss=-0.775, train_loss=-0.798, train_accuracy=1.000]"
     ]
    },
    {
     "name": "stderr",
     "output_type": "stream",
     "text": [
      "Metric train_loss improved by 0.015 >= min_delta = 0.0. New best score: -0.798\n"
     ]
    },
    {
     "name": "stdout",
     "output_type": "stream",
     "text": [
      "Epoch 5: 100%|██████████| 17/17 [00:01<00:00, 10.17it/s, loss=-0.775, train_loss=-0.798, train_accuracy=1.000]"
     ]
    },
    {
     "name": "stderr",
     "output_type": "stream",
     "text": [
      "[2025-05-16 13:06:52] INFO (torcheeg/MainThread) \n",
      "[Train] train_loss: -0.777 train_accuracy: 1.000 \n",
      "\n"
     ]
    },
    {
     "name": "stdout",
     "output_type": "stream",
     "text": [
      "Epoch 6: 100%|██████████| 17/17 [00:01<00:00, 10.20it/s, loss=-0.781, train_loss=-0.776, train_accuracy=1.000]"
     ]
    },
    {
     "name": "stderr",
     "output_type": "stream",
     "text": [
      "[2025-05-16 13:06:54] INFO (torcheeg/MainThread) \n",
      "[Train] train_loss: -0.779 train_accuracy: 1.000 \n",
      "\n"
     ]
    },
    {
     "name": "stdout",
     "output_type": "stream",
     "text": [
      "Epoch 7: 100%|██████████| 17/17 [00:01<00:00,  9.97it/s, loss=-0.782, train_loss=-0.787, train_accuracy=1.000]"
     ]
    },
    {
     "name": "stderr",
     "output_type": "stream",
     "text": [
      "[2025-05-16 13:06:56] INFO (torcheeg/MainThread) \n",
      "[Train] train_loss: -0.782 train_accuracy: 1.000 \n",
      "\n"
     ]
    },
    {
     "name": "stdout",
     "output_type": "stream",
     "text": [
      "Epoch 8: 100%|██████████| 17/17 [00:01<00:00, 10.29it/s, loss=-0.784, train_loss=-0.792, train_accuracy=1.000]"
     ]
    },
    {
     "name": "stderr",
     "output_type": "stream",
     "text": [
      "[2025-05-16 13:06:57] INFO (torcheeg/MainThread) \n",
      "[Train] train_loss: -0.783 train_accuracy: 1.000 \n",
      "\n"
     ]
    },
    {
     "name": "stdout",
     "output_type": "stream",
     "text": [
      "Epoch 9: 100%|██████████| 17/17 [00:01<00:00, 10.19it/s, loss=-0.785, train_loss=-0.819, train_accuracy=1.000]"
     ]
    },
    {
     "name": "stderr",
     "output_type": "stream",
     "text": [
      "Metric train_loss improved by 0.022 >= min_delta = 0.0. New best score: -0.819\n"
     ]
    },
    {
     "name": "stdout",
     "output_type": "stream",
     "text": [
      "Epoch 9: 100%|██████████| 17/17 [00:01<00:00, 10.18it/s, loss=-0.785, train_loss=-0.819, train_accuracy=1.000]"
     ]
    },
    {
     "name": "stderr",
     "output_type": "stream",
     "text": [
      "[2025-05-16 13:06:59] INFO (torcheeg/MainThread) \n",
      "[Train] train_loss: -0.785 train_accuracy: 1.000 \n",
      "\n"
     ]
    },
    {
     "name": "stdout",
     "output_type": "stream",
     "text": [
      "Epoch 10: 100%|██████████| 17/17 [00:01<00:00, 10.27it/s, loss=-0.786, train_loss=-0.75, train_accuracy=1.000] "
     ]
    },
    {
     "name": "stderr",
     "output_type": "stream",
     "text": [
      "[2025-05-16 13:07:01] INFO (torcheeg/MainThread) \n",
      "[Train] train_loss: -0.784 train_accuracy: 1.000 \n",
      "\n"
     ]
    },
    {
     "name": "stdout",
     "output_type": "stream",
     "text": [
      "Epoch 11: 100%|██████████| 17/17 [00:01<00:00, 10.30it/s, loss=-0.783, train_loss=-0.762, train_accuracy=1.000]"
     ]
    },
    {
     "name": "stderr",
     "output_type": "stream",
     "text": [
      "[2025-05-16 13:07:02] INFO (torcheeg/MainThread) \n",
      "[Train] train_loss: -0.785 train_accuracy: 1.000 \n",
      "\n"
     ]
    },
    {
     "name": "stdout",
     "output_type": "stream",
     "text": [
      "Epoch 12: 100%|██████████| 17/17 [00:01<00:00, 10.38it/s, loss=-0.785, train_loss=-0.769, train_accuracy=1.000]"
     ]
    },
    {
     "name": "stderr",
     "output_type": "stream",
     "text": [
      "[2025-05-16 13:07:04] INFO (torcheeg/MainThread) \n",
      "[Train] train_loss: -0.786 train_accuracy: 1.000 \n",
      "\n"
     ]
    },
    {
     "name": "stdout",
     "output_type": "stream",
     "text": [
      "Epoch 13: 100%|██████████| 17/17 [00:01<00:00, 10.38it/s, loss=-0.785, train_loss=-0.77, train_accuracy=1.000] "
     ]
    },
    {
     "name": "stderr",
     "output_type": "stream",
     "text": [
      "[2025-05-16 13:07:05] INFO (torcheeg/MainThread) \n",
      "[Train] train_loss: -0.787 train_accuracy: 1.000 \n",
      "\n"
     ]
    },
    {
     "name": "stdout",
     "output_type": "stream",
     "text": [
      "Epoch 14: 100%|██████████| 17/17 [00:01<00:00, 10.09it/s, loss=-0.787, train_loss=-0.823, train_accuracy=1.000]"
     ]
    },
    {
     "name": "stderr",
     "output_type": "stream",
     "text": [
      "Metric train_loss improved by 0.004 >= min_delta = 0.0. New best score: -0.823\n"
     ]
    },
    {
     "name": "stdout",
     "output_type": "stream",
     "text": [
      "Epoch 14: 100%|██████████| 17/17 [00:01<00:00, 10.08it/s, loss=-0.787, train_loss=-0.823, train_accuracy=1.000]"
     ]
    },
    {
     "name": "stderr",
     "output_type": "stream",
     "text": [
      "[2025-05-16 13:07:07] INFO (torcheeg/MainThread) \n",
      "[Train] train_loss: -0.787 train_accuracy: 1.000 \n",
      "\n"
     ]
    },
    {
     "name": "stdout",
     "output_type": "stream",
     "text": [
      "Epoch 15: 100%|██████████| 17/17 [00:01<00:00, 10.27it/s, loss=-0.789, train_loss=-0.812, train_accuracy=1.000]"
     ]
    },
    {
     "name": "stderr",
     "output_type": "stream",
     "text": [
      "[2025-05-16 13:07:09] INFO (torcheeg/MainThread) \n",
      "[Train] train_loss: -0.787 train_accuracy: 1.000 \n",
      "\n"
     ]
    },
    {
     "name": "stdout",
     "output_type": "stream",
     "text": [
      "Epoch 16: 100%|██████████| 17/17 [00:01<00:00, 10.47it/s, loss=-0.79, train_loss=-0.82, train_accuracy=1.000]  "
     ]
    },
    {
     "name": "stderr",
     "output_type": "stream",
     "text": [
      "[2025-05-16 13:07:10] INFO (torcheeg/MainThread) \n",
      "[Train] train_loss: -0.788 train_accuracy: 1.000 \n",
      "\n"
     ]
    },
    {
     "name": "stdout",
     "output_type": "stream",
     "text": [
      "Epoch 17: 100%|██████████| 17/17 [00:01<00:00, 10.43it/s, loss=-0.789, train_loss=-0.749, train_accuracy=1.000]"
     ]
    },
    {
     "name": "stderr",
     "output_type": "stream",
     "text": [
      "[2025-05-16 13:07:12] INFO (torcheeg/MainThread) \n",
      "[Train] train_loss: -0.787 train_accuracy: 1.000 \n",
      "\n"
     ]
    },
    {
     "name": "stdout",
     "output_type": "stream",
     "text": [
      "Epoch 18: 100%|██████████| 17/17 [00:01<00:00, 10.33it/s, loss=-0.785, train_loss=-0.784, train_accuracy=1.000]"
     ]
    },
    {
     "name": "stderr",
     "output_type": "stream",
     "text": [
      "[2025-05-16 13:07:14] INFO (torcheeg/MainThread) \n",
      "[Train] train_loss: -0.788 train_accuracy: 1.000 \n",
      "\n"
     ]
    },
    {
     "name": "stdout",
     "output_type": "stream",
     "text": [
      "Epoch 19: 100%|██████████| 17/17 [00:01<00:00, 10.34it/s, loss=-0.788, train_loss=-0.779, train_accuracy=1.000]"
     ]
    },
    {
     "name": "stderr",
     "output_type": "stream",
     "text": [
      "[2025-05-16 13:07:15] INFO (torcheeg/MainThread) \n",
      "[Train] train_loss: -0.788 train_accuracy: 1.000 \n",
      "\n"
     ]
    },
    {
     "name": "stdout",
     "output_type": "stream",
     "text": [
      "Epoch 20: 100%|██████████| 17/17 [00:01<00:00, 10.38it/s, loss=-0.787, train_loss=-0.76, train_accuracy=1.000] "
     ]
    },
    {
     "name": "stderr",
     "output_type": "stream",
     "text": [
      "[2025-05-16 13:07:17] INFO (torcheeg/MainThread) \n",
      "[Train] train_loss: -0.787 train_accuracy: 1.000 \n",
      "\n"
     ]
    },
    {
     "name": "stdout",
     "output_type": "stream",
     "text": [
      "Epoch 21: 100%|██████████| 17/17 [00:01<00:00, 10.38it/s, loss=-0.784, train_loss=-0.773, train_accuracy=1.000]"
     ]
    },
    {
     "name": "stderr",
     "output_type": "stream",
     "text": [
      "[2025-05-16 13:07:19] INFO (torcheeg/MainThread) \n",
      "[Train] train_loss: -0.788 train_accuracy: 1.000 \n",
      "\n"
     ]
    },
    {
     "name": "stdout",
     "output_type": "stream",
     "text": [
      "Epoch 22: 100%|██████████| 17/17 [00:01<00:00, 10.39it/s, loss=-0.787, train_loss=-0.801, train_accuracy=1.000]"
     ]
    },
    {
     "name": "stderr",
     "output_type": "stream",
     "text": [
      "[2025-05-16 13:07:20] INFO (torcheeg/MainThread) \n",
      "[Train] train_loss: -0.789 train_accuracy: 1.000 \n",
      "\n"
     ]
    },
    {
     "name": "stdout",
     "output_type": "stream",
     "text": [
      "Epoch 23: 100%|██████████| 17/17 [00:01<00:00, 10.15it/s, loss=-0.788, train_loss=-0.763, train_accuracy=1.000]"
     ]
    },
    {
     "name": "stderr",
     "output_type": "stream",
     "text": [
      "[2025-05-16 13:07:22] INFO (torcheeg/MainThread) \n",
      "[Train] train_loss: -0.789 train_accuracy: 1.000 \n",
      "\n"
     ]
    },
    {
     "name": "stdout",
     "output_type": "stream",
     "text": [
      "Epoch 24: 100%|██████████| 17/17 [00:01<00:00, 10.08it/s, loss=-0.787, train_loss=-0.817, train_accuracy=1.000]"
     ]
    },
    {
     "name": "stderr",
     "output_type": "stream",
     "text": [
      "Monitored metric train_loss did not improve in the last 10 records. Best score: -0.823. Signaling Trainer to stop.\n"
     ]
    },
    {
     "name": "stdout",
     "output_type": "stream",
     "text": [
      "Epoch 24: 100%|██████████| 17/17 [00:01<00:00, 10.07it/s, loss=-0.787, train_loss=-0.817, train_accuracy=1.000]"
     ]
    },
    {
     "name": "stderr",
     "output_type": "stream",
     "text": [
      "[2025-05-16 13:07:24] INFO (torcheeg/MainThread) \n",
      "[Train] train_loss: -0.790 train_accuracy: 1.000 \n",
      "\n"
     ]
    },
    {
     "name": "stdout",
     "output_type": "stream",
     "text": [
      "Epoch 24: 100%|██████████| 17/17 [00:01<00:00, 10.05it/s, loss=-0.787, train_loss=-0.817, train_accuracy=1.000]\n"
     ]
    },
    {
     "name": "stderr",
     "output_type": "stream",
     "text": [
      "GPU available: True (cuda), used: True\n",
      "TPU available: False, using: 0 TPU cores\n",
      "IPU available: False, using: 0 IPUs\n",
      "HPU available: False, using: 0 HPUs\n",
      "LOCAL_RANK: 0 - CUDA_VISIBLE_DEVICES: [0]\n",
      "/root/autodl-tmp/conda/envs/law/lib/python3.8/site-packages/pytorch_lightning/trainer/connectors/data_connector.py:488: PossibleUserWarning: Your `test_dataloader`'s sampler has shuffling enabled, it is strongly recommended that you turn shuffling off for val/test/predict dataloaders.\n",
      "  rank_zero_warn(\n",
      "/root/autodl-tmp/conda/envs/law/lib/python3.8/site-packages/pytorch_lightning/trainer/connectors/data_connector.py:224: PossibleUserWarning: The dataloader, test_dataloader 0, does not have many workers which may be a bottleneck. Consider increasing the value of the `num_workers` argument` (try 128 which is the number of cpus on this machine) in the `DataLoader` init to improve performance.\n",
      "  rank_zero_warn(\n"
     ]
    },
    {
     "name": "stdout",
     "output_type": "stream",
     "text": [
      "Testing DataLoader 0: 100%|██████████| 17/17 [00:00<00:00, 71.33it/s]"
     ]
    },
    {
     "name": "stderr",
     "output_type": "stream",
     "text": [
      "/root/autodl-tmp/conda/envs/law/lib/python3.8/site-packages/pytorch_lightning/core/module.py:493: UserWarning: You called `self.log('test_loss', ..., logger=True)` but have no logger configured. You can enable one by doing `Trainer(logger=ALogger(...))`\n",
      "  rank_zero_warn(\n",
      "/root/autodl-tmp/conda/envs/law/lib/python3.8/site-packages/pytorch_lightning/core/module.py:493: UserWarning: You called `self.log('test_accuracy', ..., logger=True)` but have no logger configured. You can enable one by doing `Trainer(logger=ALogger(...))`\n",
      "  rank_zero_warn(\n",
      "[2025-05-16 13:07:25] INFO (torcheeg/MainThread) \n",
      "[Test] test_loss: 0.001 test_accuracy: 1.000 \n",
      "\n"
     ]
    },
    {
     "name": "stdout",
     "output_type": "stream",
     "text": [
      "Testing DataLoader 0: 100%|██████████| 17/17 [00:00<00:00, 70.09it/s]\n",
      "────────────────────────────────────────────────────────────────────────────────────────────────────────────────────────\n",
      "       Test metric             DataLoader 0\n",
      "────────────────────────────────────────────────────────────────────────────────────────────────────────────────────────\n",
      "      test_accuracy                 1.0\n",
      "        test_loss          0.0007535277400165796\n",
      "────────────────────────────────────────────────────────────────────────────────────────────────────────────────────────\n"
     ]
    },
    {
     "name": "stderr",
     "output_type": "stream",
     "text": [
      "GPU available: True (cuda), used: True\n",
      "TPU available: False, using: 0 TPU cores\n",
      "IPU available: False, using: 0 IPUs\n",
      "HPU available: False, using: 0 HPUs\n",
      "LOCAL_RANK: 0 - CUDA_VISIBLE_DEVICES: [0]\n"
     ]
    },
    {
     "name": "stdout",
     "output_type": "stream",
     "text": [
      "Testing DataLoader 0: 100%|██████████| 4/4 [00:00<00:00, 75.29it/s]"
     ]
    },
    {
     "name": "stderr",
     "output_type": "stream",
     "text": [
      "[2025-05-16 13:07:25] INFO (torcheeg/MainThread) \n",
      "[Test] test_loss: 0.026 test_accuracy: 1.000 \n",
      "\n"
     ]
    },
    {
     "name": "stdout",
     "output_type": "stream",
     "text": [
      "Testing DataLoader 0: 100%|██████████| 4/4 [00:00<00:00, 69.68it/s]\n",
      "────────────────────────────────────────────────────────────────────────────────────────────────────────────────────────\n",
      "       Test metric             DataLoader 0\n",
      "────────────────────────────────────────────────────────────────────────────────────────────────────────────────────────\n",
      "      test_accuracy                 1.0\n",
      "        test_loss           0.0258308257907629\n",
      "────────────────────────────────────────────────────────────────────────────────────────────────────────────────────────\n"
     ]
    },
    {
     "name": "stderr",
     "output_type": "stream",
     "text": [
      "GPU available: True (cuda), used: True\n",
      "TPU available: False, using: 0 TPU cores\n",
      "IPU available: False, using: 0 IPUs\n",
      "HPU available: False, using: 0 HPUs\n",
      "LOCAL_RANK: 0 - CUDA_VISIBLE_DEVICES: [0]\n",
      "/root/autodl-tmp/conda/envs/law/lib/python3.8/site-packages/pytorch_lightning/trainer/connectors/data_connector.py:224: PossibleUserWarning: The dataloader, train_dataloader, does not have many workers which may be a bottleneck. Consider increasing the value of the `num_workers` argument` (try 128 which is the number of cpus on this machine) in the `DataLoader` init to improve performance.\n",
      "  rank_zero_warn(\n"
     ]
    },
    {
     "name": "stdout",
     "output_type": "stream",
     "text": [
      "Epoch 0: 100%|██████████| 17/17 [00:01<00:00, 10.39it/s, loss=-0.13, train_loss=-0.40, train_accuracy=0.750]    "
     ]
    },
    {
     "name": "stderr",
     "output_type": "stream",
     "text": [
      "Metric train_loss improved. New best score: -0.400\n"
     ]
    },
    {
     "name": "stdout",
     "output_type": "stream",
     "text": [
      "Epoch 0: 100%|██████████| 17/17 [00:01<00:00, 10.38it/s, loss=-0.13, train_loss=-0.40, train_accuracy=0.750]"
     ]
    },
    {
     "name": "stderr",
     "output_type": "stream",
     "text": [
      "/root/autodl-tmp/conda/envs/law/lib/python3.8/site-packages/pytorch_lightning/core/module.py:493: UserWarning: You called `self.log('train_loss', ..., logger=True)` but have no logger configured. You can enable one by doing `Trainer(logger=ALogger(...))`\n",
      "  rank_zero_warn(\n",
      "/root/autodl-tmp/conda/envs/law/lib/python3.8/site-packages/pytorch_lightning/core/module.py:493: UserWarning: You called `self.log('train_accuracy', ..., logger=True)` but have no logger configured. You can enable one by doing `Trainer(logger=ALogger(...))`\n",
      "  rank_zero_warn(\n",
      "[2025-05-16 13:07:28] INFO (torcheeg/MainThread) \n",
      "[Train] train_loss: -0.130 train_accuracy: 0.575 \n",
      "\n"
     ]
    },
    {
     "name": "stdout",
     "output_type": "stream",
     "text": [
      "Epoch 1: 100%|██████████| 17/17 [00:01<00:00, 10.46it/s, loss=-0.537, train_loss=-0.546, train_accuracy=0.875]"
     ]
    },
    {
     "name": "stderr",
     "output_type": "stream",
     "text": [
      "Metric train_loss improved by 0.146 >= min_delta = 0.0. New best score: -0.546\n"
     ]
    },
    {
     "name": "stdout",
     "output_type": "stream",
     "text": [
      "Epoch 1: 100%|██████████| 17/17 [00:01<00:00, 10.44it/s, loss=-0.537, train_loss=-0.546, train_accuracy=0.875]"
     ]
    },
    {
     "name": "stderr",
     "output_type": "stream",
     "text": [
      "[2025-05-16 13:07:30] INFO (torcheeg/MainThread) \n",
      "[Train] train_loss: -0.588 train_accuracy: 0.965 \n",
      "\n"
     ]
    },
    {
     "name": "stdout",
     "output_type": "stream",
     "text": [
      "Epoch 2: 100%|██████████| 17/17 [00:01<00:00, 10.12it/s, loss=-0.695, train_loss=-0.761, train_accuracy=1.000]"
     ]
    },
    {
     "name": "stderr",
     "output_type": "stream",
     "text": [
      "Metric train_loss improved by 0.215 >= min_delta = 0.0. New best score: -0.761\n"
     ]
    },
    {
     "name": "stdout",
     "output_type": "stream",
     "text": [
      "Epoch 2: 100%|██████████| 17/17 [00:01<00:00, 10.11it/s, loss=-0.695, train_loss=-0.761, train_accuracy=1.000]"
     ]
    },
    {
     "name": "stderr",
     "output_type": "stream",
     "text": [
      "[2025-05-16 13:07:31] INFO (torcheeg/MainThread) \n",
      "[Train] train_loss: -0.714 train_accuracy: 1.000 \n",
      "\n"
     ]
    },
    {
     "name": "stdout",
     "output_type": "stream",
     "text": [
      "Epoch 3: 100%|██████████| 17/17 [00:01<00:00, 10.09it/s, loss=-0.755, train_loss=-0.726, train_accuracy=1.000]"
     ]
    },
    {
     "name": "stderr",
     "output_type": "stream",
     "text": [
      "[2025-05-16 13:07:33] INFO (torcheeg/MainThread) \n",
      "[Train] train_loss: -0.760 train_accuracy: 1.000 \n",
      "\n"
     ]
    },
    {
     "name": "stdout",
     "output_type": "stream",
     "text": [
      "Epoch 4: 100%|██████████| 17/17 [00:01<00:00, 10.33it/s, loss=-0.775, train_loss=-0.799, train_accuracy=1.000]"
     ]
    },
    {
     "name": "stderr",
     "output_type": "stream",
     "text": [
      "Metric train_loss improved by 0.038 >= min_delta = 0.0. New best score: -0.799\n"
     ]
    },
    {
     "name": "stdout",
     "output_type": "stream",
     "text": [
      "Epoch 4: 100%|██████████| 17/17 [00:01<00:00, 10.32it/s, loss=-0.775, train_loss=-0.799, train_accuracy=1.000]"
     ]
    },
    {
     "name": "stderr",
     "output_type": "stream",
     "text": [
      "[2025-05-16 13:07:35] INFO (torcheeg/MainThread) \n",
      "[Train] train_loss: -0.781 train_accuracy: 1.000 \n",
      "\n"
     ]
    },
    {
     "name": "stdout",
     "output_type": "stream",
     "text": [
      "Epoch 5: 100%|██████████| 17/17 [00:01<00:00, 10.37it/s, loss=-0.789, train_loss=-0.789, train_accuracy=1.000]"
     ]
    },
    {
     "name": "stderr",
     "output_type": "stream",
     "text": [
      "[2025-05-16 13:07:36] INFO (torcheeg/MainThread) \n",
      "[Train] train_loss: -0.787 train_accuracy: 1.000 \n",
      "\n"
     ]
    },
    {
     "name": "stdout",
     "output_type": "stream",
     "text": [
      "Epoch 6: 100%|██████████| 17/17 [00:01<00:00, 10.25it/s, loss=-0.791, train_loss=-0.799, train_accuracy=1.000]"
     ]
    },
    {
     "name": "stderr",
     "output_type": "stream",
     "text": [
      "[2025-05-16 13:07:38] INFO (torcheeg/MainThread) \n",
      "[Train] train_loss: -0.790 train_accuracy: 1.000 \n",
      "\n"
     ]
    },
    {
     "name": "stdout",
     "output_type": "stream",
     "text": [
      "Epoch 7: 100%|██████████| 17/17 [00:01<00:00, 10.35it/s, loss=-0.792, train_loss=-0.783, train_accuracy=1.000]"
     ]
    },
    {
     "name": "stderr",
     "output_type": "stream",
     "text": [
      "[2025-05-16 13:07:40] INFO (torcheeg/MainThread) \n",
      "[Train] train_loss: -0.793 train_accuracy: 1.000 \n",
      "\n"
     ]
    },
    {
     "name": "stdout",
     "output_type": "stream",
     "text": [
      "Epoch 8: 100%|██████████| 17/17 [00:01<00:00, 10.29it/s, loss=-0.794, train_loss=-0.816, train_accuracy=1.000]"
     ]
    },
    {
     "name": "stderr",
     "output_type": "stream",
     "text": [
      "Metric train_loss improved by 0.017 >= min_delta = 0.0. New best score: -0.816\n"
     ]
    },
    {
     "name": "stdout",
     "output_type": "stream",
     "text": [
      "Epoch 8: 100%|██████████| 17/17 [00:01<00:00, 10.28it/s, loss=-0.794, train_loss=-0.816, train_accuracy=1.000]"
     ]
    },
    {
     "name": "stderr",
     "output_type": "stream",
     "text": [
      "[2025-05-16 13:07:41] INFO (torcheeg/MainThread) \n",
      "[Train] train_loss: -0.795 train_accuracy: 1.000 \n",
      "\n"
     ]
    },
    {
     "name": "stdout",
     "output_type": "stream",
     "text": [
      "Epoch 9: 100%|██████████| 17/17 [00:01<00:00, 10.42it/s, loss=-0.797, train_loss=-0.81, train_accuracy=1.000] "
     ]
    },
    {
     "name": "stderr",
     "output_type": "stream",
     "text": [
      "[2025-05-16 13:07:43] INFO (torcheeg/MainThread) \n",
      "[Train] train_loss: -0.796 train_accuracy: 1.000 \n",
      "\n"
     ]
    },
    {
     "name": "stdout",
     "output_type": "stream",
     "text": [
      "Epoch 10: 100%|██████████| 17/17 [00:01<00:00, 10.37it/s, loss=-0.797, train_loss=-0.816, train_accuracy=1.000]"
     ]
    },
    {
     "name": "stderr",
     "output_type": "stream",
     "text": [
      "[2025-05-16 13:07:45] INFO (torcheeg/MainThread) \n",
      "[Train] train_loss: -0.797 train_accuracy: 1.000 \n",
      "\n"
     ]
    },
    {
     "name": "stdout",
     "output_type": "stream",
     "text": [
      "Epoch 11: 100%|██████████| 17/17 [00:01<00:00, 10.53it/s, loss=-0.797, train_loss=-0.789, train_accuracy=1.000]"
     ]
    },
    {
     "name": "stderr",
     "output_type": "stream",
     "text": [
      "[2025-05-16 13:07:46] INFO (torcheeg/MainThread) \n",
      "[Train] train_loss: -0.796 train_accuracy: 1.000 \n",
      "\n"
     ]
    },
    {
     "name": "stdout",
     "output_type": "stream",
     "text": [
      "Epoch 12: 100%|██████████| 17/17 [00:01<00:00, 10.26it/s, loss=-0.797, train_loss=-0.813, train_accuracy=1.000]"
     ]
    },
    {
     "name": "stderr",
     "output_type": "stream",
     "text": [
      "[2025-05-16 13:07:48] INFO (torcheeg/MainThread) \n",
      "[Train] train_loss: -0.797 train_accuracy: 1.000 \n",
      "\n"
     ]
    },
    {
     "name": "stdout",
     "output_type": "stream",
     "text": [
      "Epoch 13: 100%|██████████| 17/17 [00:01<00:00, 10.35it/s, loss=-0.799, train_loss=-0.794, train_accuracy=1.000]"
     ]
    },
    {
     "name": "stderr",
     "output_type": "stream",
     "text": [
      "[2025-05-16 13:07:50] INFO (torcheeg/MainThread) \n",
      "[Train] train_loss: -0.798 train_accuracy: 1.000 \n",
      "\n"
     ]
    },
    {
     "name": "stdout",
     "output_type": "stream",
     "text": [
      "Epoch 14: 100%|██████████| 17/17 [00:01<00:00, 10.19it/s, loss=-0.798, train_loss=-0.798, train_accuracy=1.000]"
     ]
    },
    {
     "name": "stderr",
     "output_type": "stream",
     "text": [
      "[2025-05-16 13:07:51] INFO (torcheeg/MainThread) \n",
      "[Train] train_loss: -0.799 train_accuracy: 1.000 \n",
      "\n"
     ]
    },
    {
     "name": "stdout",
     "output_type": "stream",
     "text": [
      "Epoch 15: 100%|██████████| 17/17 [00:01<00:00, 10.39it/s, loss=-0.797, train_loss=-0.797, train_accuracy=1.000]"
     ]
    },
    {
     "name": "stderr",
     "output_type": "stream",
     "text": [
      "[2025-05-16 13:07:53] INFO (torcheeg/MainThread) \n",
      "[Train] train_loss: -0.799 train_accuracy: 1.000 \n",
      "\n"
     ]
    },
    {
     "name": "stdout",
     "output_type": "stream",
     "text": [
      "Epoch 16: 100%|██████████| 17/17 [00:01<00:00, 10.35it/s, loss=-0.8, train_loss=-0.815, train_accuracy=1.000]  "
     ]
    },
    {
     "name": "stderr",
     "output_type": "stream",
     "text": [
      "[2025-05-16 13:07:54] INFO (torcheeg/MainThread) \n",
      "[Train] train_loss: -0.799 train_accuracy: 1.000 \n",
      "\n"
     ]
    },
    {
     "name": "stdout",
     "output_type": "stream",
     "text": [
      "Epoch 17: 100%|██████████| 17/17 [00:01<00:00, 10.15it/s, loss=-0.8, train_loss=-0.785, train_accuracy=1.000]  "
     ]
    },
    {
     "name": "stderr",
     "output_type": "stream",
     "text": [
      "[2025-05-16 13:07:56] INFO (torcheeg/MainThread) \n",
      "[Train] train_loss: -0.799 train_accuracy: 1.000 \n",
      "\n"
     ]
    },
    {
     "name": "stdout",
     "output_type": "stream",
     "text": [
      "Epoch 18: 100%|██████████| 17/17 [00:01<00:00, 10.21it/s, loss=-0.799, train_loss=-0.785, train_accuracy=1.000]"
     ]
    },
    {
     "name": "stderr",
     "output_type": "stream",
     "text": [
      "Monitored metric train_loss did not improve in the last 10 records. Best score: -0.816. Signaling Trainer to stop.\n"
     ]
    },
    {
     "name": "stdout",
     "output_type": "stream",
     "text": [
      "Epoch 18: 100%|██████████| 17/17 [00:01<00:00, 10.20it/s, loss=-0.799, train_loss=-0.785, train_accuracy=1.000]"
     ]
    },
    {
     "name": "stderr",
     "output_type": "stream",
     "text": [
      "[2025-05-16 13:07:58] INFO (torcheeg/MainThread) \n",
      "[Train] train_loss: -0.799 train_accuracy: 1.000 \n",
      "\n"
     ]
    },
    {
     "name": "stdout",
     "output_type": "stream",
     "text": [
      "Epoch 18: 100%|██████████| 17/17 [00:01<00:00, 10.18it/s, loss=-0.799, train_loss=-0.785, train_accuracy=1.000]\n"
     ]
    },
    {
     "name": "stderr",
     "output_type": "stream",
     "text": [
      "GPU available: True (cuda), used: True\n",
      "TPU available: False, using: 0 TPU cores\n",
      "IPU available: False, using: 0 IPUs\n",
      "HPU available: False, using: 0 HPUs\n",
      "LOCAL_RANK: 0 - CUDA_VISIBLE_DEVICES: [0]\n",
      "/root/autodl-tmp/conda/envs/law/lib/python3.8/site-packages/pytorch_lightning/trainer/connectors/data_connector.py:488: PossibleUserWarning: Your `test_dataloader`'s sampler has shuffling enabled, it is strongly recommended that you turn shuffling off for val/test/predict dataloaders.\n",
      "  rank_zero_warn(\n",
      "/root/autodl-tmp/conda/envs/law/lib/python3.8/site-packages/pytorch_lightning/trainer/connectors/data_connector.py:224: PossibleUserWarning: The dataloader, test_dataloader 0, does not have many workers which may be a bottleneck. Consider increasing the value of the `num_workers` argument` (try 128 which is the number of cpus on this machine) in the `DataLoader` init to improve performance.\n",
      "  rank_zero_warn(\n"
     ]
    },
    {
     "name": "stdout",
     "output_type": "stream",
     "text": [
      "Testing DataLoader 0: 100%|██████████| 17/17 [00:00<00:00, 70.57it/s]"
     ]
    },
    {
     "name": "stderr",
     "output_type": "stream",
     "text": [
      "/root/autodl-tmp/conda/envs/law/lib/python3.8/site-packages/pytorch_lightning/core/module.py:493: UserWarning: You called `self.log('test_loss', ..., logger=True)` but have no logger configured. You can enable one by doing `Trainer(logger=ALogger(...))`\n",
      "  rank_zero_warn(\n",
      "/root/autodl-tmp/conda/envs/law/lib/python3.8/site-packages/pytorch_lightning/core/module.py:493: UserWarning: You called `self.log('test_accuracy', ..., logger=True)` but have no logger configured. You can enable one by doing `Trainer(logger=ALogger(...))`\n",
      "  rank_zero_warn(\n",
      "[2025-05-16 13:07:59] INFO (torcheeg/MainThread) \n",
      "[Test] test_loss: 0.001 test_accuracy: 1.000 \n",
      "\n"
     ]
    },
    {
     "name": "stdout",
     "output_type": "stream",
     "text": [
      "Testing DataLoader 0: 100%|██████████| 17/17 [00:00<00:00, 69.24it/s]\n",
      "────────────────────────────────────────────────────────────────────────────────────────────────────────────────────────\n",
      "       Test metric             DataLoader 0\n",
      "────────────────────────────────────────────────────────────────────────────────────────────────────────────────────────\n",
      "      test_accuracy                 1.0\n",
      "        test_loss          0.0013641056139022112\n",
      "────────────────────────────────────────────────────────────────────────────────────────────────────────────────────────\n"
     ]
    },
    {
     "name": "stderr",
     "output_type": "stream",
     "text": [
      "GPU available: True (cuda), used: True\n",
      "TPU available: False, using: 0 TPU cores\n",
      "IPU available: False, using: 0 IPUs\n",
      "HPU available: False, using: 0 HPUs\n",
      "LOCAL_RANK: 0 - CUDA_VISIBLE_DEVICES: [0]\n"
     ]
    },
    {
     "name": "stdout",
     "output_type": "stream",
     "text": [
      "Testing DataLoader 0: 100%|██████████| 4/4 [00:00<00:00, 75.16it/s]"
     ]
    },
    {
     "name": "stderr",
     "output_type": "stream",
     "text": [
      "[2025-05-16 13:07:59] INFO (torcheeg/MainThread) \n",
      "[Test] test_loss: 0.134 test_accuracy: 0.950 \n",
      "\n"
     ]
    },
    {
     "name": "stdout",
     "output_type": "stream",
     "text": [
      "Testing DataLoader 0: 100%|██████████| 4/4 [00:00<00:00, 69.55it/s]\n",
      "────────────────────────────────────────────────────────────────────────────────────────────────────────────────────────\n",
      "       Test metric             DataLoader 0\n",
      "────────────────────────────────────────────────────────────────────────────────────────────────────────────────────────\n",
      "      test_accuracy          0.949999988079071\n",
      "        test_loss           0.13363423943519592\n",
      "────────────────────────────────────────────────────────────────────────────────────────────────────────────────────────\n"
     ]
    }
   ],
   "source": [
    "from eegswintransformer import SwinTransformer\n",
    "\n",
    "HYPERPARAMETERS = {\n",
    "    \"seed\": 42,\n",
    "    \"batch_size\": 12,\n",
    "    \"lr\": 1e-5,\n",
    "    \"weight_decay\": 1e-4,\n",
    "    \"num_epochs\": 30,\n",
    "}\n",
    "from torcheeg.model_selection import KFoldPerSubjectGroupbyTrial\n",
    "from pytorch_lightning.callbacks import ModelCheckpoint, EarlyStopping\n",
    "from torch.utils.data import DataLoader\n",
    "from classifier_loss import ClassifierTrainer\n",
    "\n",
    "k_fold = KFoldPerSubjectGroupbyTrial(\n",
    "    n_splits=4,\n",
    "    shuffle=True,\n",
    "    split_path='.torcheeg/model_selection',\n",
    "    random_state=42)\n",
    "\n",
    "training_metrics = []\n",
    "test_metrics = []\n",
    "\n",
    "for i, (training_dataset, test_dataset) in enumerate(k_fold.split(dataset)):\n",
    "    model = SwinTransformer(patch_size=(8,3,3),\n",
    "                            depths=(2, 6, 4),\n",
    "                            num_heads=(3,6,8),\n",
    "                            window_size=(3,3,3)\n",
    "                            )\n",
    "    trainer = ClassifierTrainer(model=model,\n",
    "                                num_classes=2,\n",
    "                                lr=HYPERPARAMETERS['lr'],\n",
    "                                weight_decay=HYPERPARAMETERS['weight_decay'],\n",
    "                                metrics=[\"accuracy\"],\n",
    "                                accelerator=\"gpu\")\n",
    "    training_loader = DataLoader(training_dataset,\n",
    "                            batch_size=HYPERPARAMETERS['batch_size'],\n",
    "                            shuffle=True)\n",
    "    test_loader = DataLoader(test_dataset,\n",
    "                            batch_size=HYPERPARAMETERS['batch_size'],\n",
    "                            shuffle=False)\n",
    "    # 提前停止回调\n",
    "    early_stopping_callback = EarlyStopping(\n",
    "        monitor='train_loss',\n",
    "        patience=10,\n",
    "        mode='min',\n",
    "        verbose=True\n",
    "    )\n",
    "    trainer.fit(training_loader,\n",
    "                test_loader,\n",
    "                max_epochs=HYPERPARAMETERS['num_epochs'],\n",
    "                callbacks=[early_stopping_callback],\n",
    "                # enable_progress_bar=True,\n",
    "                enable_model_summary=False,\n",
    "                limit_val_batches=0.0)\n",
    "    training_result = trainer.test(training_loader,\n",
    "                                enable_progress_bar=True,\n",
    "                                enable_model_summary=True)[0]\n",
    "    test_result = trainer.test(test_loader,\n",
    "                            enable_progress_bar=True,\n",
    "                            enable_model_summary=True)[0]\n",
    "    training_metrics.append(training_result[\"test_accuracy\"])\n",
    "    test_metrics.append(test_result[\"test_accuracy\"])\n",
    "     "
   ]
  },
  {
   "cell_type": "code",
   "execution_count": 7,
   "metadata": {},
   "outputs": [
    {
     "name": "stdout",
     "output_type": "stream",
     "text": [
      "1.0000\t0.0000\t0.8250\t0.1549\n",
      "1.0000\t0.0000\t0.8687\t0.1339\n",
      "1.0000\t0.0000\t0.8969\t0.1160\n"
     ]
    }
   ],
   "source": [
    "import numpy as np\n",
    "\n",
    "for i in range(0, len(test_metrics), 4):\n",
    "    print(\n",
    "          f\"{np.mean(training_metrics[i:i+4]):.4f}\\t\"\n",
    "          f\"{np.std(training_metrics[i:i+4]):.4f}\\t\"\n",
    "          f\"{np.mean(test_metrics[i:i+4]):.4f}\\t\"\n",
    "          f\"{np.std(test_metrics[i:i+4]):.4f}\")"
   ]
  }
 ],
 "metadata": {
  "kernelspec": {
   "display_name": "law",
   "language": "python",
   "name": "python3"
  },
  "language_info": {
   "codemirror_mode": {
    "name": "ipython",
    "version": 3
   },
   "file_extension": ".py",
   "mimetype": "text/x-python",
   "name": "python",
   "nbconvert_exporter": "python",
   "pygments_lexer": "ipython3",
   "version": "3.8.0"
  }
 },
 "nbformat": 4,
 "nbformat_minor": 2
}
