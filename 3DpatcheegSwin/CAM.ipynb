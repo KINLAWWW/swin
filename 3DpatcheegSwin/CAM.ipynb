{
 "cells": [
  {
   "cell_type": "code",
   "execution_count": 1,
   "metadata": {},
   "outputs": [
    {
     "name": "stderr",
     "output_type": "stream",
     "text": [
      "/root/autodl-tmp/conda/envs/law/lib/python3.8/site-packages/tqdm/auto.py:21: TqdmWarning: IProgress not found. Please update jupyter and ipywidgets. See https://ipywidgets.readthedocs.io/en/stable/user_install.html\n",
      "  from .autonotebook import tqdm as notebook_tqdm\n",
      "[2025-05-15 16:19:23] INFO (torcheeg/MainThread) 🔍 | Detected cached processing results, reading cache from .torcheeg/dataset.\n"
     ]
    },
    {
     "name": "stdout",
     "output_type": "stream",
     "text": [
      "torch.Size([1, 128, 9, 9])\n",
      "0\n",
      "240\n"
     ]
    }
   ],
   "source": [
    "import torch\n",
    "import torch.nn as nn\n",
    "from strokes import StrokePatientsMIDataset, StrokePatientsMIProcessedDataset\n",
    "from strokesdict import STROKEPATIENTSMI_LOCATION_DICT\n",
    "from torcheeg.transforms import Select,BandSignal,Compose\n",
    "from to import ToGrid, ToTensor\n",
    "from downsample import SetSamplingRate\n",
    "from baseline import BaselineCorrection\n",
    "\n",
    "dataset = StrokePatientsMIDataset(root_path='./subdataset',\n",
    "                                  io_path='.torcheeg/dataset',\n",
    "                        chunk_size=500,  # 1 second\n",
    "                        overlap = 250,\n",
    "                        offline_transform=Compose(\n",
    "                                [BaselineCorrection(),\n",
    "                                SetSamplingRate(origin_sampling_rate=500,target_sampling_rate=128),\n",
    "                                BandSignal(sampling_rate=128,band_dict={'frequency_range':[8,40]})\n",
    "                                ]),\n",
    "                        online_transform=Compose(\n",
    "                                [ToGrid(STROKEPATIENTSMI_LOCATION_DICT),ToTensor()]),\n",
    "                        label_transform=Select('label'),\n",
    "                        num_worker=8\n",
    ")\n",
    "print(dataset[0][0].shape) #EEG shape:torch.Size([1, 128, 9, 9])\n",
    "print(dataset[0][1])  # label (int)\n",
    "print(len(dataset))"
   ]
  },
  {
   "cell_type": "code",
   "execution_count": 2,
   "metadata": {},
   "outputs": [
    {
     "name": "stderr",
     "output_type": "stream",
     "text": [
      "[2025-05-15 16:19:25] INFO (torcheeg/MainThread) 📊 | Detected existing split of train and test set, use existing split from .torcheeg/model_selection.\n",
      "[2025-05-15 16:19:25] INFO (torcheeg/MainThread) 💡 | If the dataset is re-generated, you need to re-generate the split of the dataset instead of using the previous split.\n",
      "/root/autodl-tmp/conda/envs/law/lib/python3.8/site-packages/torch/functional.py:568: UserWarning: torch.meshgrid: in an upcoming release, it will be required to pass the indexing argument. (Triggered internally at  /opt/conda/conda-bld/pytorch_1646755903507/work/aten/src/ATen/native/TensorShape.cpp:2228.)\n",
      "  return _VF.meshgrid(tensors, **kwargs)  # type: ignore[attr-defined]\n",
      "GPU available: True (cuda), used: True\n",
      "TPU available: False, using: 0 TPU cores\n",
      "IPU available: False, using: 0 IPUs\n",
      "HPU available: False, using: 0 HPUs\n",
      "LOCAL_RANK: 0 - CUDA_VISIBLE_DEVICES: [0]\n",
      "/root/autodl-tmp/conda/envs/law/lib/python3.8/site-packages/pytorch_lightning/trainer/connectors/data_connector.py:224: PossibleUserWarning: The dataloader, train_dataloader, does not have many workers which may be a bottleneck. Consider increasing the value of the `num_workers` argument` (try 128 which is the number of cpus on this machine) in the `DataLoader` init to improve performance.\n",
      "  rank_zero_warn(\n"
     ]
    },
    {
     "name": "stdout",
     "output_type": "stream",
     "text": [
      "Epoch 0: 100%|██████████| 14/14 [00:02<00:00,  6.66it/s, loss=0.863, train_loss=0.893, train_accuracy=0.500]"
     ]
    },
    {
     "name": "stderr",
     "output_type": "stream",
     "text": [
      "Metric train_loss improved. New best score: 0.893\n"
     ]
    },
    {
     "name": "stdout",
     "output_type": "stream",
     "text": [
      "Epoch 0: 100%|██████████| 14/14 [00:02<00:00,  6.65it/s, loss=0.863, train_loss=0.893, train_accuracy=0.500]"
     ]
    },
    {
     "name": "stderr",
     "output_type": "stream",
     "text": [
      "/root/autodl-tmp/conda/envs/law/lib/python3.8/site-packages/pytorch_lightning/core/module.py:493: UserWarning: You called `self.log('train_loss', ..., logger=True)` but have no logger configured. You can enable one by doing `Trainer(logger=ALogger(...))`\n",
      "  rank_zero_warn(\n",
      "/root/autodl-tmp/conda/envs/law/lib/python3.8/site-packages/pytorch_lightning/core/module.py:493: UserWarning: You called `self.log('train_accuracy', ..., logger=True)` but have no logger configured. You can enable one by doing `Trainer(logger=ALogger(...))`\n",
      "  rank_zero_warn(\n",
      "[2025-05-15 16:19:32] INFO (torcheeg/MainThread) \n",
      "[Train] train_loss: 0.863 train_accuracy: 0.519 \n",
      "\n"
     ]
    },
    {
     "name": "stdout",
     "output_type": "stream",
     "text": [
      "Epoch 1: 100%|██████████| 14/14 [00:01<00:00, 10.07it/s, loss=0.635, train_loss=0.490, train_accuracy=1.000]"
     ]
    },
    {
     "name": "stderr",
     "output_type": "stream",
     "text": [
      "Metric train_loss improved by 0.403 >= min_delta = 0.0. New best score: 0.490\n"
     ]
    },
    {
     "name": "stdout",
     "output_type": "stream",
     "text": [
      "Epoch 1: 100%|██████████| 14/14 [00:01<00:00, 10.06it/s, loss=0.635, train_loss=0.490, train_accuracy=1.000]"
     ]
    },
    {
     "name": "stderr",
     "output_type": "stream",
     "text": [
      "[2025-05-15 16:19:33] INFO (torcheeg/MainThread) \n",
      "[Train] train_loss: 0.536 train_accuracy: 0.869 \n",
      "\n"
     ]
    },
    {
     "name": "stdout",
     "output_type": "stream",
     "text": [
      "Epoch 2: 100%|██████████| 14/14 [00:01<00:00, 10.11it/s, loss=0.443, train_loss=0.335, train_accuracy=1.000]"
     ]
    },
    {
     "name": "stderr",
     "output_type": "stream",
     "text": [
      "Metric train_loss improved by 0.155 >= min_delta = 0.0. New best score: 0.335\n"
     ]
    },
    {
     "name": "stdout",
     "output_type": "stream",
     "text": [
      "Epoch 2: 100%|██████████| 14/14 [00:01<00:00, 10.10it/s, loss=0.443, train_loss=0.335, train_accuracy=1.000]"
     ]
    },
    {
     "name": "stderr",
     "output_type": "stream",
     "text": [
      "[2025-05-15 16:19:35] INFO (torcheeg/MainThread) \n",
      "[Train] train_loss: 0.381 train_accuracy: 0.969 \n",
      "\n"
     ]
    },
    {
     "name": "stdout",
     "output_type": "stream",
     "text": [
      "Epoch 3: 100%|██████████| 14/14 [00:01<00:00, 10.03it/s, loss=0.339, train_loss=0.266, train_accuracy=1.000]"
     ]
    },
    {
     "name": "stderr",
     "output_type": "stream",
     "text": [
      "Metric train_loss improved by 0.069 >= min_delta = 0.0. New best score: 0.266\n"
     ]
    },
    {
     "name": "stdout",
     "output_type": "stream",
     "text": [
      "Epoch 3: 100%|██████████| 14/14 [00:01<00:00, 10.02it/s, loss=0.339, train_loss=0.266, train_accuracy=1.000]"
     ]
    },
    {
     "name": "stderr",
     "output_type": "stream",
     "text": [
      "[2025-05-15 16:19:36] INFO (torcheeg/MainThread) \n",
      "[Train] train_loss: 0.316 train_accuracy: 0.994 \n",
      "\n"
     ]
    },
    {
     "name": "stdout",
     "output_type": "stream",
     "text": [
      "Epoch 4: 100%|██████████| 14/14 [00:01<00:00, 10.33it/s, loss=0.284, train_loss=0.229, train_accuracy=1.000]"
     ]
    },
    {
     "name": "stderr",
     "output_type": "stream",
     "text": [
      "Metric train_loss improved by 0.037 >= min_delta = 0.0. New best score: 0.229\n"
     ]
    },
    {
     "name": "stdout",
     "output_type": "stream",
     "text": [
      "Epoch 4: 100%|██████████| 14/14 [00:01<00:00, 10.32it/s, loss=0.284, train_loss=0.229, train_accuracy=1.000]"
     ]
    },
    {
     "name": "stderr",
     "output_type": "stream",
     "text": [
      "[2025-05-15 16:19:37] INFO (torcheeg/MainThread) \n",
      "[Train] train_loss: 0.279 train_accuracy: 1.000 \n",
      "\n"
     ]
    },
    {
     "name": "stdout",
     "output_type": "stream",
     "text": [
      "Epoch 5: 100%|██████████| 14/14 [00:01<00:00, 10.38it/s, loss=0.263, train_loss=0.188, train_accuracy=1.000]"
     ]
    },
    {
     "name": "stderr",
     "output_type": "stream",
     "text": [
      "Metric train_loss improved by 0.041 >= min_delta = 0.0. New best score: 0.188\n"
     ]
    },
    {
     "name": "stdout",
     "output_type": "stream",
     "text": [
      "Epoch 5: 100%|██████████| 14/14 [00:01<00:00, 10.37it/s, loss=0.263, train_loss=0.188, train_accuracy=1.000]"
     ]
    },
    {
     "name": "stderr",
     "output_type": "stream",
     "text": [
      "[2025-05-15 16:19:39] INFO (torcheeg/MainThread) \n",
      "[Train] train_loss: 0.256 train_accuracy: 1.000 \n",
      "\n"
     ]
    },
    {
     "name": "stdout",
     "output_type": "stream",
     "text": [
      "Epoch 6: 100%|██████████| 14/14 [00:01<00:00, 10.38it/s, loss=0.247, train_loss=0.232, train_accuracy=1.000]"
     ]
    },
    {
     "name": "stderr",
     "output_type": "stream",
     "text": [
      "[2025-05-15 16:19:40] INFO (torcheeg/MainThread) \n",
      "[Train] train_loss: 0.247 train_accuracy: 1.000 \n",
      "\n"
     ]
    },
    {
     "name": "stdout",
     "output_type": "stream",
     "text": [
      "Epoch 7: 100%|██████████| 14/14 [00:01<00:00, 10.25it/s, loss=0.245, train_loss=0.261, train_accuracy=1.000]"
     ]
    },
    {
     "name": "stderr",
     "output_type": "stream",
     "text": [
      "[2025-05-15 16:19:41] INFO (torcheeg/MainThread) \n",
      "[Train] train_loss: 0.243 train_accuracy: 1.000 \n",
      "\n"
     ]
    },
    {
     "name": "stdout",
     "output_type": "stream",
     "text": [
      "Epoch 8: 100%|██████████| 14/14 [00:01<00:00, 10.46it/s, loss=0.241, train_loss=0.258, train_accuracy=1.000]"
     ]
    },
    {
     "name": "stderr",
     "output_type": "stream",
     "text": [
      "[2025-05-15 16:19:43] INFO (torcheeg/MainThread) \n",
      "[Train] train_loss: 0.239 train_accuracy: 1.000 \n",
      "\n"
     ]
    },
    {
     "name": "stdout",
     "output_type": "stream",
     "text": [
      "Epoch 9: 100%|██████████| 14/14 [00:01<00:00, 10.18it/s, loss=0.235, train_loss=0.193, train_accuracy=1.000]"
     ]
    },
    {
     "name": "stderr",
     "output_type": "stream",
     "text": [
      "[2025-05-15 16:19:44] INFO (torcheeg/MainThread) \n",
      "[Train] train_loss: 0.233 train_accuracy: 1.000 \n",
      "\n"
     ]
    },
    {
     "name": "stdout",
     "output_type": "stream",
     "text": [
      "Epoch 10: 100%|██████████| 14/14 [00:01<00:00, 10.12it/s, loss=0.232, train_loss=0.223, train_accuracy=1.000]"
     ]
    },
    {
     "name": "stderr",
     "output_type": "stream",
     "text": [
      "[2025-05-15 16:19:46] INFO (torcheeg/MainThread) \n",
      "[Train] train_loss: 0.232 train_accuracy: 1.000 \n",
      "\n"
     ]
    },
    {
     "name": "stdout",
     "output_type": "stream",
     "text": [
      "Epoch 11: 100%|██████████| 14/14 [00:01<00:00, 10.14it/s, loss=0.236, train_loss=0.250, train_accuracy=1.000]"
     ]
    },
    {
     "name": "stderr",
     "output_type": "stream",
     "text": [
      "[2025-05-15 16:19:47] INFO (torcheeg/MainThread) \n",
      "[Train] train_loss: 0.232 train_accuracy: 1.000 \n",
      "\n"
     ]
    },
    {
     "name": "stdout",
     "output_type": "stream",
     "text": [
      "Epoch 12: 100%|██████████| 14/14 [00:01<00:00, 10.23it/s, loss=0.229, train_loss=0.190, train_accuracy=1.000]"
     ]
    },
    {
     "name": "stderr",
     "output_type": "stream",
     "text": [
      "[2025-05-15 16:19:48] INFO (torcheeg/MainThread) \n",
      "[Train] train_loss: 0.228 train_accuracy: 1.000 \n",
      "\n"
     ]
    },
    {
     "name": "stdout",
     "output_type": "stream",
     "text": [
      "Epoch 13: 100%|██████████| 14/14 [00:01<00:00, 10.13it/s, loss=0.231, train_loss=0.306, train_accuracy=1.000]"
     ]
    },
    {
     "name": "stderr",
     "output_type": "stream",
     "text": [
      "[2025-05-15 16:19:50] INFO (torcheeg/MainThread) \n",
      "[Train] train_loss: 0.233 train_accuracy: 1.000 \n",
      "\n"
     ]
    },
    {
     "name": "stdout",
     "output_type": "stream",
     "text": [
      "Epoch 14: 100%|██████████| 14/14 [00:01<00:00, 10.34it/s, loss=0.234, train_loss=0.249, train_accuracy=1.000]"
     ]
    },
    {
     "name": "stderr",
     "output_type": "stream",
     "text": [
      "[2025-05-15 16:19:51] INFO (torcheeg/MainThread) \n",
      "[Train] train_loss: 0.230 train_accuracy: 1.000 \n",
      "\n"
     ]
    },
    {
     "name": "stdout",
     "output_type": "stream",
     "text": [
      "Epoch 15: 100%|██████████| 14/14 [00:01<00:00, 10.12it/s, loss=0.227, train_loss=0.220, train_accuracy=1.000]"
     ]
    },
    {
     "name": "stderr",
     "output_type": "stream",
     "text": [
      "[2025-05-15 16:19:52] INFO (torcheeg/MainThread) \n",
      "[Train] train_loss: 0.228 train_accuracy: 1.000 \n",
      "\n"
     ]
    },
    {
     "name": "stdout",
     "output_type": "stream",
     "text": [
      "Epoch 16: 100%|██████████| 14/14 [00:01<00:00, 10.21it/s, loss=0.235, train_loss=0.285, train_accuracy=1.000]"
     ]
    },
    {
     "name": "stderr",
     "output_type": "stream",
     "text": [
      "[2025-05-15 16:19:54] INFO (torcheeg/MainThread) \n",
      "[Train] train_loss: 0.231 train_accuracy: 1.000 \n",
      "\n"
     ]
    },
    {
     "name": "stdout",
     "output_type": "stream",
     "text": [
      "Epoch 17: 100%|██████████| 14/14 [00:01<00:00, 10.02it/s, loss=0.234, train_loss=0.207, train_accuracy=1.000]"
     ]
    },
    {
     "name": "stderr",
     "output_type": "stream",
     "text": [
      "[2025-05-15 16:19:55] INFO (torcheeg/MainThread) \n",
      "[Train] train_loss: 0.228 train_accuracy: 1.000 \n",
      "\n"
     ]
    },
    {
     "name": "stdout",
     "output_type": "stream",
     "text": [
      "Epoch 18: 100%|██████████| 14/14 [00:01<00:00, 10.27it/s, loss=0.228, train_loss=0.265, train_accuracy=1.000]"
     ]
    },
    {
     "name": "stderr",
     "output_type": "stream",
     "text": [
      "[2025-05-15 16:19:57] INFO (torcheeg/MainThread) \n",
      "[Train] train_loss: 0.231 train_accuracy: 1.000 \n",
      "\n"
     ]
    },
    {
     "name": "stdout",
     "output_type": "stream",
     "text": [
      "Epoch 19: 100%|██████████| 14/14 [00:01<00:00, 10.05it/s, loss=0.23, train_loss=0.230, train_accuracy=1.000] "
     ]
    },
    {
     "name": "stderr",
     "output_type": "stream",
     "text": [
      "[2025-05-15 16:19:58] INFO (torcheeg/MainThread) \n",
      "[Train] train_loss: 0.230 train_accuracy: 1.000 \n",
      "\n",
      "`Trainer.fit` stopped: `max_epochs=20` reached.\n"
     ]
    },
    {
     "name": "stdout",
     "output_type": "stream",
     "text": [
      "Epoch 19: 100%|██████████| 14/14 [00:01<00:00, 10.02it/s, loss=0.23, train_loss=0.230, train_accuracy=1.000]\n"
     ]
    },
    {
     "name": "stderr",
     "output_type": "stream",
     "text": [
      "GPU available: True (cuda), used: True\n",
      "TPU available: False, using: 0 TPU cores\n",
      "IPU available: False, using: 0 IPUs\n",
      "HPU available: False, using: 0 HPUs\n",
      "LOCAL_RANK: 0 - CUDA_VISIBLE_DEVICES: [0]\n",
      "/root/autodl-tmp/conda/envs/law/lib/python3.8/site-packages/pytorch_lightning/trainer/connectors/data_connector.py:488: PossibleUserWarning: Your `test_dataloader`'s sampler has shuffling enabled, it is strongly recommended that you turn shuffling off for val/test/predict dataloaders.\n",
      "  rank_zero_warn(\n",
      "/root/autodl-tmp/conda/envs/law/lib/python3.8/site-packages/pytorch_lightning/trainer/connectors/data_connector.py:224: PossibleUserWarning: The dataloader, test_dataloader 0, does not have many workers which may be a bottleneck. Consider increasing the value of the `num_workers` argument` (try 128 which is the number of cpus on this machine) in the `DataLoader` init to improve performance.\n",
      "  rank_zero_warn(\n"
     ]
    },
    {
     "name": "stdout",
     "output_type": "stream",
     "text": [
      "Testing DataLoader 0: 100%|██████████| 14/14 [00:00<00:00, 73.54it/s]"
     ]
    },
    {
     "name": "stderr",
     "output_type": "stream",
     "text": [
      "/root/autodl-tmp/conda/envs/law/lib/python3.8/site-packages/pytorch_lightning/core/module.py:493: UserWarning: You called `self.log('test_loss', ..., logger=True)` but have no logger configured. You can enable one by doing `Trainer(logger=ALogger(...))`\n",
      "  rank_zero_warn(\n",
      "/root/autodl-tmp/conda/envs/law/lib/python3.8/site-packages/pytorch_lightning/core/module.py:493: UserWarning: You called `self.log('test_accuracy', ..., logger=True)` but have no logger configured. You can enable one by doing `Trainer(logger=ALogger(...))`\n",
      "  rank_zero_warn(\n",
      "[2025-05-15 16:19:59] INFO (torcheeg/MainThread) \n",
      "[Test] test_loss: 0.002 test_accuracy: 1.000 \n",
      "\n"
     ]
    },
    {
     "name": "stdout",
     "output_type": "stream",
     "text": [
      "Testing DataLoader 0: 100%|██████████| 14/14 [00:00<00:00, 71.69it/s]\n",
      "────────────────────────────────────────────────────────────────────────────────────────────────────────────────────────\n",
      "       Test metric             DataLoader 0\n",
      "────────────────────────────────────────────────────────────────────────────────────────────────────────────────────────\n",
      "      test_accuracy                 1.0\n",
      "        test_loss          0.001956828171387315\n",
      "────────────────────────────────────────────────────────────────────────────────────────────────────────────────────────\n"
     ]
    },
    {
     "name": "stderr",
     "output_type": "stream",
     "text": [
      "GPU available: True (cuda), used: True\n",
      "TPU available: False, using: 0 TPU cores\n",
      "IPU available: False, using: 0 IPUs\n",
      "HPU available: False, using: 0 HPUs\n",
      "LOCAL_RANK: 0 - CUDA_VISIBLE_DEVICES: [0]\n"
     ]
    },
    {
     "name": "stdout",
     "output_type": "stream",
     "text": [
      "Testing DataLoader 0: 100%|██████████| 7/7 [00:00<00:00, 71.01it/s]"
     ]
    },
    {
     "name": "stderr",
     "output_type": "stream",
     "text": [
      "[2025-05-15 16:20:00] INFO (torcheeg/MainThread) \n",
      "[Test] test_loss: 0.688 test_accuracy: 0.712 \n",
      "\n"
     ]
    },
    {
     "name": "stdout",
     "output_type": "stream",
     "text": [
      "Testing DataLoader 0: 100%|██████████| 7/7 [00:00<00:00, 67.65it/s]\n",
      "────────────────────────────────────────────────────────────────────────────────────────────────────────────────────────\n",
      "       Test metric             DataLoader 0\n",
      "────────────────────────────────────────────────────────────────────────────────────────────────────────────────────────\n",
      "      test_accuracy         0.7124999761581421\n",
      "        test_loss           0.6878145337104797\n",
      "────────────────────────────────────────────────────────────────────────────────────────────────────────────────────────\n",
      "✅ 模型参数已保存到 swin_fold_1.pth\n"
     ]
    }
   ],
   "source": [
    "from eegswintransformer import SwinTransformer\n",
    "\n",
    "HYPERPARAMETERS = {\n",
    "    \"seed\": 42,\n",
    "    \"batch_size\": 12,\n",
    "    \"lr\": 1e-5,\n",
    "    \"weight_decay\": 1e-4,\n",
    "    \"num_epochs\": 20,\n",
    "}\n",
    "from torcheeg.model_selection import KFoldPerSubjectGroupbyTrial\n",
    "from pytorch_lightning.callbacks import ModelCheckpoint, EarlyStopping\n",
    "from torch.utils.data import DataLoader\n",
    "from classifier_loss import ClassifierTrainer\n",
    "\n",
    "k_fold = KFoldPerSubjectGroupbyTrial(\n",
    "    n_splits=4,\n",
    "    shuffle=True,\n",
    "    split_path='.torcheeg/model_selection',\n",
    "    random_state=42)\n",
    "\n",
    "training_metrics = []\n",
    "test_metrics = []\n",
    "\n",
    "for i, (training_dataset, test_dataset) in enumerate(k_fold.split(dataset)):\n",
    "    if i==0:\n",
    "        model = SwinTransformer(patch_size=(8,3,3),\n",
    "                                depths=(2, 6, 4),\n",
    "                                num_heads=(3,6,8),\n",
    "                                window_size=(3,3,3)\n",
    "                                )\n",
    "        trainer = ClassifierTrainer(model=model,\n",
    "                                    num_classes=2,\n",
    "                                    lr=HYPERPARAMETERS['lr'],\n",
    "                                    weight_decay=HYPERPARAMETERS['weight_decay'],\n",
    "                                    metrics=[\"accuracy\"],\n",
    "                                    accelerator=\"gpu\")\n",
    "        training_loader = DataLoader(training_dataset,\n",
    "                                batch_size=HYPERPARAMETERS['batch_size'],\n",
    "                                shuffle=True)\n",
    "        test_loader = DataLoader(test_dataset,\n",
    "                                batch_size=HYPERPARAMETERS['batch_size'],\n",
    "                                shuffle=False)\n",
    "        # 提前停止回调\n",
    "        early_stopping_callback = EarlyStopping(\n",
    "            monitor='train_loss',\n",
    "            patience=50,\n",
    "            mode='min',\n",
    "            verbose=True\n",
    "        )\n",
    "        trainer.fit(training_loader,\n",
    "                    test_loader,\n",
    "                    max_epochs=HYPERPARAMETERS['num_epochs'],\n",
    "                    callbacks=[early_stopping_callback],\n",
    "                    # enable_progress_bar=True,\n",
    "                    enable_model_summary=False,\n",
    "                    limit_val_batches=0.0)\n",
    "        training_result = trainer.test(training_loader,\n",
    "                                    enable_progress_bar=True,\n",
    "                                    enable_model_summary=True)[0]\n",
    "        test_result = trainer.test(test_loader,\n",
    "                                enable_progress_bar=True,\n",
    "                                enable_model_summary=True)[0]\n",
    "        training_metrics.append(training_result[\"test_accuracy\"])\n",
    "        test_metrics.append(test_result[\"test_accuracy\"])\n",
    "        \n",
    "        \n",
    "        # ✅ 保存模型参数\n",
    "        model_path = f\"swin_fold_{i+1}.pth\"\n",
    "        torch.save(model.state_dict(), model_path)\n",
    "        print(f\"✅ 模型参数已保存到 {model_path}\")\n",
    "        break\n",
    "     "
   ]
  },
  {
   "cell_type": "code",
   "execution_count": null,
   "metadata": {},
   "outputs": [],
   "source": [
    "import torch\n",
    "import numpy as np\n",
    "from pytorch_grad_cam import GradCAM\n",
    "from pytorch_grad_cam.utils.image import show_cam_on_image\n",
    "from pytorch_grad_cam.utils.model_targets import ClassifierOutputTarget\n",
    "from swin_CAM import SwinTransformer  \n",
    "from torch.utils.data import DataLoader\n",
    "import matplotlib.pyplot as plt\n",
    "from pytorch_grad_cam.utils.model_targets import ClassifierOutputTarget\n",
    "\n",
    "# 假设目标层输出为 (batch, 36, 1536)，即 6×6 patch，1536 维特征\n",
    "# def reshape_transform(tensor, time=4, height=3, width=3):\n",
    "#     # 输入形状: (B, 36, 1536)\n",
    "#     B, seq_len, C = tensor.size()\n",
    "\n",
    "#     result = tensor.reshape(B, time, height, width, C)\n",
    "#     # result = torch.mean(result, dim=1)\n",
    "#     result = result.permute(0, 4, 1, 2, 3)  # (B, C, H, W)\n",
    "#     return result\n",
    "def reshape_transform(tensor, time=16, height=3, width=3):\n",
    "    # 输入形状: (B, 96, 16, 3, 3）\n",
    "    print(tensor.shape) \n",
    "    # B, seq_len, C = tensor.size()\n",
    "\n",
    "    # result = tensor.reshape(B, time, height, width, C)\n",
    "    # result = torch.mean(result, dim=1)\n",
    "    # result = result.permute(0, 4, 1, 2, 3)  # (B, C, H, W)\n",
    "    return tensor\n",
    "\n",
    "# 加载模型\n",
    "model = SwinTransformer(patch_size=(8,3,3),\n",
    "                        depths=(2, 6, 4),\n",
    "                        num_heads=(3,6,8),\n",
    "                        window_size=(3,3,3)\n",
    "                        )\n",
    "\n",
    "model_path = \"swin_fold_3.pth\"  # 指定模型文件路径\n",
    "model.load_state_dict(torch.load(model_path),strict=False)\n",
    "model.eval()\n",
    "# target_layers = [model.layers[-1].blocks[-1].norm2]  # 替换为你的实际目标层\n",
    "target_layers = [model.patch_embed.proj]  # 替换为你的实际目标层\n",
    "\n",
    "# 是否使用GPU\n",
    "use_cuda = torch.cuda.is_available()\n",
    "if use_cuda:\n",
    "    model = model.cuda()\n",
    "\n",
    "# 示例 EEG 输入 (batch, 1, 128, 9, 9)\n",
    "# eeg_input = torch.randn(2, 1, 128, 9, 9)  # 假设 batch size 为 2\n",
    "\n",
    "# test_loader = DataLoader(dataset,\n",
    "#                         batch_size=32,\n",
    "#                         shuffle=False)\n",
    "\n",
    "# 只处理第一个 batch\n",
    "for eeg_input, label in test_loader:\n",
    "    if use_cuda:\n",
    "        eeg_input = eeg_input.cuda()\n",
    "        label = label.cuda()\n",
    "        \n",
    "    # print(label)\n",
    "    result = model(eeg_input)\n",
    "    preds = torch.argmax(result, dim=1)\n",
    "    # print(preds)\n",
    "    correct = (preds == label).sum().item()\n",
    "    total = label.size(0)\n",
    "    acc = correct / total\n",
    "    print(f\"Accuracy: {acc:.4f}\")\n",
    "    # 初始化 GradCAM\n",
    "    cam = GradCAM(model=model,\n",
    "                  target_layers=target_layers,\n",
    "                  reshape_transform=reshape_transform)\n",
    "\n",
    "    # 可选：设定类别目标（None 为默认分类）\n",
    "    targets = None\n",
    "    # targets = [ClassifierOutputTarget(1)] * eeg_input.shape[0]  # 指定所有样本为类别1\n",
    "\n",
    "    # 生成 CAM\n",
    "    grayscale_cam = cam(input_tensor=eeg_input, targets=targets)  # shape: (batch, H, W)\n",
    "    print(grayscale_cam.shape)\n",
    "    # 转为 tensor 方便处理\n",
    "    cam_tensor = torch.tensor(grayscale_cam)  # shape: (batch_size, H, W)\n",
    "    print(cam_tensor.shape)\n",
    "    # 生成预测正确和错误的掩码\n",
    "    correct_mask = (preds == label)\n",
    "    wrong_mask = ~correct_mask  # preds != label\n",
    "\n",
    "    # 获取对应的 Grad-CAM 特征图\n",
    "    correct_cam = cam_tensor[correct_mask]  # (N_correct, H, W)\n",
    "    wrong_cam = cam_tensor[wrong_mask]      # (N_wrong, H, W)\n",
    "\n",
    "    # 平均并可视化预测正确的 Grad-CAM\n",
    "    if correct_cam.size(0) > 0:\n",
    "        avg_correct_cam = correct_cam.mean(dim=0)  # (H, W)\n",
    "        plt.imshow(avg_correct_cam.cpu().numpy(), cmap='jet')\n",
    "        plt.title(\"Average Grad-CAM (Correct Predictions)\")\n",
    "        plt.axis(\"off\")\n",
    "        plt.colorbar()\n",
    "        plt.show()\n",
    "    else:\n",
    "        print(\"No correct predictions.\")\n",
    "\n",
    "    # 平均并可视化预测错误的 Grad-CAM\n",
    "    if wrong_cam.size(0) > 0:\n",
    "        avg_wrong_cam = wrong_cam.mean(dim=0)  # (H, W)\n",
    "        plt.imshow(avg_wrong_cam.cpu().numpy(), cmap='jet')\n",
    "        plt.title(\"Average Grad-CAM (Wrong Predictions)\")\n",
    "        plt.axis(\"off\")\n",
    "        plt.colorbar()\n",
    "        plt.show()\n",
    "    else:\n",
    "        print(\"No wrong predictions.\")\n",
    "    \n",
    "    break"
   ]
  },
  {
   "cell_type": "code",
   "execution_count": null,
   "metadata": {},
   "outputs": [],
   "source": [
    "for i in range(cam_tensor.shape[0]):\n",
    "    sample = cam_tensor[i]\n",
    "\n",
    "    plt.imshow(sample.cpu().numpy(), cmap='jet')\n",
    "    plt.title(f\"Grad-CAM {i}, {correct_mask[i]}\")\n",
    "    plt.axis(\"off\")\n",
    "    plt.colorbar()\n",
    "    plt.show()"
   ]
  }
 ],
 "metadata": {
  "kernelspec": {
   "display_name": "law",
   "language": "python",
   "name": "python3"
  },
  "language_info": {
   "codemirror_mode": {
    "name": "ipython",
    "version": 3
   },
   "file_extension": ".py",
   "mimetype": "text/x-python",
   "name": "python",
   "nbconvert_exporter": "python",
   "pygments_lexer": "ipython3",
   "version": "3.8.0"
  }
 },
 "nbformat": 4,
 "nbformat_minor": 2
}
