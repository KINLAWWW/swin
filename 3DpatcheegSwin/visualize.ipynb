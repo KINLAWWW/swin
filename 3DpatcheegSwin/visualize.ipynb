{
 "cells": [
  {
   "cell_type": "code",
   "execution_count": null,
   "metadata": {},
   "outputs": [],
   "source": [
    "import torch\n",
    "import torch.nn as nn\n",
    "from strokes import StrokePatientsMIDataset, StrokePatientsMIProcessedDataset\n",
    "from strokesdict import STROKEPATIENTSMI_LOCATION_DICT\n",
    "from torcheeg.transforms import Select,BandSignal,Compose\n",
    "from to import ToGrid, ToTensor\n",
    "from downsample import SetSamplingRate\n",
    "from baseline import BaselineCorrection\n",
    "\n",
    "dataset = StrokePatientsMIDataset(root_path='./subdataset',\n",
    "                                  io_path='.torcheeg/datasets_1745478591849_L5nX8',\n",
    "                        chunk_size=500,  # 1 second\n",
    "                        overlap = 250,\n",
    "                        offline_transform=Compose(\n",
    "                                [BaselineCorrection(),\n",
    "                                SetSamplingRate(origin_sampling_rate=500,target_sampling_rate=128),\n",
    "                                BandSignal(sampling_rate=128,band_dict={'frequency_range':[8,40]})\n",
    "                                ]),\n",
    "                        online_transform=Compose(\n",
    "                                [ToGrid(STROKEPATIENTSMI_LOCATION_DICT),ToTensor()]),\n",
    "                        label_transform=Select('label'),\n",
    "                        num_worker=8\n",
    ")\n",
    "print(dataset[0][0].shape) #EEG shape:torch.Size([1, 128, 9, 9])\n",
    "print(dataset[0][1])  # label (int)\n",
    "print(len(dataset))"
   ]
  },
  {
   "cell_type": "code",
   "execution_count": null,
   "metadata": {},
   "outputs": [],
   "source": [
    "import torch\n",
    "from swin import SwinTransformer\n",
    "\n",
    "device = torch.device(\"cuda:0\" if torch.cuda.is_available() else \"cpu\")\n",
    "# 生成一个形状为 (4,1,128,9,9) 的全1张量\n",
    "x = torch.ones(4, 1, 128, 9, 9).to(device)\n",
    "\n",
    "model = SwinTransformer(patch_size=(8,1,1),\n",
    "                        depths=(2, 2, 4),\n",
    "                        num_heads=(2,2,3),\n",
    "                        window_size=(4,3,3)\n",
    "                        ).to(device)\n",
    "\n",
    "y = model(x)\n",
    "print(y.shape)"
   ]
  },
  {
   "cell_type": "code",
   "execution_count": null,
   "metadata": {},
   "outputs": [],
   "source": [
    "from swin import SwinTransformer\n",
    "\n",
    "HYPERPARAMETERS = {\n",
    "    \"seed\": 42,\n",
    "    \"batch_size\": 16,\n",
    "    \"lr\": 1e-5,\n",
    "    \"weight_decay\": 1e-4,\n",
    "    \"num_epochs\": 50,\n",
    "}\n",
    "from torcheeg.model_selection import KFoldPerSubjectGroupbyTrial\n",
    "from pytorch_lightning.callbacks import ModelCheckpoint, EarlyStopping\n",
    "from torch.utils.data import DataLoader\n",
    "from classifier import ClassifierTrainer\n",
    "\n",
    "k_fold = KFoldPerSubjectGroupbyTrial(\n",
    "    n_splits=4,\n",
    "    shuffle=True,\n",
    "    # split_path='.torcheeg/model_selection_1741918660674_jp0WB',\n",
    "    random_state=42)\n",
    "\n",
    "training_metrics = []\n",
    "test_metrics = []\n",
    "attn_list = []\n",
    "\n",
    "\n",
    "for i, (training_dataset, test_dataset) in enumerate(k_fold.split(dataset)):\n",
    "    model = SwinTransformer(patch_size=(8,3,3), \n",
    "                            depths=(2, 2, 2),\n",
    "                            num_heads=(2,2,3),\n",
    "                            window_size=(3,3,3)\n",
    "                            ) # T, W, H 同时缩小\n",
    "    trainer = ClassifierTrainer(model=model,\n",
    "                                num_classes=2,\n",
    "                                lr=HYPERPARAMETERS['lr'],\n",
    "                                weight_decay=HYPERPARAMETERS['weight_decay'],\n",
    "                                metrics=[\"accuracy\"],\n",
    "                                accelerator=\"gpu\")\n",
    "    training_loader = DataLoader(training_dataset,\n",
    "                             batch_size=HYPERPARAMETERS['batch_size'],\n",
    "                             shuffle=True)\n",
    "    test_loader = DataLoader(test_dataset,\n",
    "                             batch_size=HYPERPARAMETERS['batch_size'],\n",
    "                             shuffle=False)\n",
    "    # 提前停止回调\n",
    "    early_stopping_callback = EarlyStopping(\n",
    "        monitor='train_loss',\n",
    "        patience=50,\n",
    "        mode='min',\n",
    "        verbose=True\n",
    "    )\n",
    "    trainer.fit(training_loader,\n",
    "                test_loader,\n",
    "                max_epochs=HYPERPARAMETERS['num_epochs'],\n",
    "                callbacks=[early_stopping_callback],\n",
    "                # enable_progress_bar=True,\n",
    "                enable_model_summary=False,\n",
    "                limit_val_batches=0.0)\n",
    "    training_result = trainer.test(training_loader,\n",
    "                                   enable_progress_bar=True,\n",
    "                                   enable_model_summary=True)[0]\n",
    "    test_result = trainer.test(test_loader,\n",
    "                               enable_progress_bar=True,\n",
    "                               enable_model_summary=True)[0]\n",
    "    attn_list.append(model.layers[2].blocks[0].attn.attn_scores)\n",
    "    training_metrics.append(training_result[\"test_accuracy\"])\n",
    "    test_metrics.append(test_result[\"test_accuracy\"])"
   ]
  },
  {
   "cell_type": "code",
   "execution_count": null,
   "metadata": {},
   "outputs": [],
   "source": [
    "print(test_metrics)\n",
    "avg = sum(test_metrics) / len(test_metrics)\n",
    "print(avg)"
   ]
  },
  {
   "cell_type": "code",
   "execution_count": null,
   "metadata": {},
   "outputs": [],
   "source": [
    "print(len(attn_list))\n",
    "print(attn_list[3].shape)\n",
    "# print(model.layers[0].blocks[0].attn.attn_scores)\n",
    "sample = attn_list[3]\n",
    "sample = torch.mean(sample, dim=2)\n",
    "print(sample.shape)\n"
   ]
  },
  {
   "cell_type": "code",
   "execution_count": null,
   "metadata": {},
   "outputs": [],
   "source": [
    "# sample = sample.masked_fill(sample < 0.0375, 0)\n",
    "# sample = torch.mean(sample, dim=1)\n",
    "print(sample[2]*1000)\n",
    "v = sample[2]"
   ]
  },
  {
   "cell_type": "code",
   "execution_count": 13,
   "metadata": {},
   "outputs": [],
   "source": [
    "# 归一化到 [0, 1]\n",
    "sample_min = sample[2].min()\n",
    "sample_max = sample[2].max()\n",
    "v = (sample[2] - sample_min) / (sample_max - sample_min + 1e-8)\n",
    "\n",
    "# 拉大差距\n",
    "v = v ** 10"
   ]
  },
  {
   "cell_type": "code",
   "execution_count": null,
   "metadata": {},
   "outputs": [],
   "source": [
    "print(model.layers[0].blocks[1].attn.attn_scores)"
   ]
  },
  {
   "cell_type": "code",
   "execution_count": null,
   "metadata": {},
   "outputs": [],
   "source": [
    "attn = attn_list[3][0]\n",
    "print(attn.shape)\n",
    "attn = torch.mean(attn, dim=1)  # 形状变为 (16, 36, 36)\n",
    "attn = torch.mean(attn,dim=1)   # 计算所有token对一个token的平均影响力\n",
    "attn = attn.reshape(16,16,3,3)\n",
    "attn = torch.mean(attn, dim=1)  # 形状变为 (16, 36, 36)\n",
    "print(attn.shape)\n"
   ]
  },
  {
   "cell_type": "code",
   "execution_count": null,
   "metadata": {},
   "outputs": [],
   "source": [
    "v = v.reshape(3,3,3)\n",
    "v = torch.mean(v, dim=0)\n",
    "print(v)"
   ]
  },
  {
   "cell_type": "code",
   "execution_count": null,
   "metadata": {},
   "outputs": [],
   "source": [
    "import torch\n",
    "import matplotlib.pyplot as plt\n",
    "import seaborn as sns\n",
    "\n",
    "# 示例注意力权重 (3,3)\n",
    "attention_weights = v\n",
    "print(attention_weights)\n",
    "\n",
    "# 画热力图\n",
    "plt.figure(figsize=(5, 5))\n",
    "sns.heatmap(attention_weights.numpy(), annot=True, cmap=\"viridis\", fmt=\".2f\",\n",
    "            xticklabels=[\"Col 1\", \"Col 2\", \"Col 3\"],\n",
    "            yticklabels=[\"Row 1\", \"Row 2\", \"Row 3\"])\n",
    "\n",
    "plt.title(\"Spatial Attention Weights\")\n",
    "plt.xlabel(\"Feature Map Width\")\n",
    "plt.ylabel(\"Feature Map Height\")\n",
    "plt.show()\n"
   ]
  },
  {
   "cell_type": "code",
   "execution_count": 1,
   "metadata": {},
   "outputs": [
    {
     "name": "stderr",
     "output_type": "stream",
     "text": [
      "/root/autodl-tmp/conda/envs/law/lib/python3.8/site-packages/tqdm/auto.py:21: TqdmWarning: IProgress not found. Please update jupyter and ipywidgets. See https://ipywidgets.readthedocs.io/en/stable/user_install.html\n",
      "  from .autonotebook import tqdm as notebook_tqdm\n",
      "/root/autodl-tmp/conda/envs/law/lib/python3.8/site-packages/torch/functional.py:568: UserWarning: torch.meshgrid: in an upcoming release, it will be required to pass the indexing argument. (Triggered internally at  /opt/conda/conda-bld/pytorch_1646755903507/work/aten/src/ATen/native/TensorShape.cpp:2228.)\n",
      "  return _VF.meshgrid(tensors, **kwargs)  # type: ignore[attr-defined]\n"
     ]
    }
   ],
   "source": [
    "from swin_CAM import SwinTransformer\n",
    "import torch\n",
    "\n",
    "device = torch.device(\"cuda:0\" if torch.cuda.is_available() else \"cpu\")\n",
    "\n",
    "# 生成一个形状为 (4,1,128,9,9) 的全1张量\n",
    "input_tensor = torch.randn(1, 1, 128, 9, 9).to(device)\n",
    "\n",
    "\n",
    "model = SwinTransformer(patch_size=(8,1,1),\n",
    "                        depths=(2, 2, 4),\n",
    "                        num_heads=(2,2,3),\n",
    "                        window_size=(4,3,3)\n",
    "                        ).to(device)\n",
    "\n",
    "model.eval()\n",
    "\n",
    "target_layers = [model.layers[-1].blocks[-1].norm1]"
   ]
  },
  {
   "cell_type": "code",
   "execution_count": 2,
   "metadata": {},
   "outputs": [
    {
     "name": "stdout",
     "output_type": "stream",
     "text": [
      "Layer output shape: torch.Size([1, 36, 1536])\n"
     ]
    }
   ],
   "source": [
    "def get_shape(module, input, output):\n",
    "    print(f\"Layer output shape: {output.shape}\")\n",
    "\n",
    "target_layer = model.layers[-1].blocks[-1].norm1\n",
    "handle = target_layer.register_forward_hook(get_shape)\n",
    "\n",
    "# 运行前向传播\n",
    "with torch.no_grad():\n",
    "    _ = model(input_tensor)  # 触发hook打印形状\n",
    "handle.remove()  # 必须移除hook防止内存泄漏"
   ]
  },
  {
   "cell_type": "code",
   "execution_count": 6,
   "metadata": {},
   "outputs": [
    {
     "name": "stdout",
     "output_type": "stream",
     "text": [
      "(1, 4, 3, 3)\n",
      "(1, 128, 9, 9)\n",
      "(9, 9)\n"
     ]
    },
    {
     "data": {
      "image/png": "[encoded data removed]",
      "text/plain": [
       "<Figure size 640x480 with 2 Axes>"
      ]
     },
     "metadata": {},
     "output_type": "display_data"
    }
   ],
   "source": [
    "from pytorch_grad_cam import GradCAM\n",
    "import matplotlib.pyplot as plt\n",
    "# --- 自定义形状转换函数 ---\n",
    "def reshape_transform(tensor, original_T=128, original_H=9, original_W=9):\n",
    "    \"\"\"\n",
    "    输入: [B, N=36, C=1536] \n",
    "    输出: [B, C, H'=3, W'=3] (时间平均 + 空间对齐)\n",
    "    \"\"\"\n",
    "    B, N, C = tensor.shape\n",
    "    \n",
    "    # 1. 将36分解为4(T')×3(H')×3(W') → [B,4,3,3,C]\n",
    "    restored = tensor.view(B, 4, 3, 3, C)\n",
    "    \n",
    "    # 3. 调整为CAM需要的 [B,C,H',W']\n",
    "    return restored.permute(0, 4, 1, 2, 3)\n",
    "\n",
    "cam = LayerCAM(model=model, target_layers=target_layers, reshape_transform=reshape_transform)\n",
    "\n",
    "# 生成 CAM 热力图\n",
    "grayscale_cam = cam(input_tensor=input_tensor)\n",
    "print(grayscale_cam.shape)\n",
    "grayscale_cam = grayscale_cam[0, :]  # 取第一个样本的热图，形状：[T', H', W']\n",
    "\n",
    "# 可视化热图的某一帧（例如中间一帧）\n",
    "t_index = grayscale_cam.shape[0] // 2\n",
    "cam_frame = grayscale_cam[t_index]\n",
    "print(cam_frame.shape)\n",
    "plt.imshow(cam_frame, cmap='jet')\n",
    "plt.title(f'Grad-CAM at frame {t_index}')\n",
    "plt.colorbar()\n",
    "plt.savefig(\"gradcam_output.png\")\n",
    "plt.show()"
   ]
  },
  {
   "cell_type": "code",
   "execution_count": 1,
   "metadata": {},
   "outputs": [
    {
     "name": "stderr",
     "output_type": "stream",
     "text": [
      "/root/autodl-tmp/conda/envs/law/lib/python3.8/site-packages/tqdm/auto.py:21: TqdmWarning: IProgress not found. Please update jupyter and ipywidgets. See https://ipywidgets.readthedocs.io/en/stable/user_install.html\n",
      "  from .autonotebook import tqdm as notebook_tqdm\n",
      "/root/autodl-tmp/conda/envs/law/lib/python3.8/site-packages/torch/functional.py:568: UserWarning: torch.meshgrid: in an upcoming release, it will be required to pass the indexing argument. (Triggered internally at  /opt/conda/conda-bld/pytorch_1646755903507/work/aten/src/ATen/native/TensorShape.cpp:2228.)\n",
      "  return _VF.meshgrid(tensors, **kwargs)  # type: ignore[attr-defined]\n"
     ]
    }
   ],
   "source": [
    "from swin_CAM import SwinTransformer\n",
    "import torch\n",
    "\n",
    "device = torch.device(\"cuda:0\" if torch.cuda.is_available() else \"cpu\")\n",
    "\n",
    "# 生成一个形状为 (4,1,128,9,9) 的全1张量\n",
    "input_tensor = torch.randn(1, 1, 128, 9, 9).to(device)\n",
    "\n",
    "\n",
    "model = SwinTransformer(patch_size=(8,1,1),\n",
    "                        depths=(2, 2, 4),\n",
    "                        num_heads=(2,2,3),\n",
    "                        window_size=(4,3,3)\n",
    "                        ).to(device)\n",
    "\n",
    "model.eval()\n",
    "\n",
    "target_layers = [model.layers[-1].blocks[-1].norm1]"
   ]
  },
  {
   "cell_type": "code",
   "execution_count": 2,
   "metadata": {},
   "outputs": [
    {
     "name": "stdout",
     "output_type": "stream",
     "text": [
      "(1, 128, 9, 9)\n"
     ]
    }
   ],
   "source": [
    "from pytorch_grad_cam import GradCAM\n",
    "\n",
    "class EEGSwinCAM(LayerCAM):\n",
    "    def __init__(self, model, target_layers, original_shape):\n",
    "        self.original_shape = original_shape\n",
    "        super().__init__(model, target_layers, self.reshape_transform)\n",
    "    \n",
    "    def reshape_transform(self, tensor):\n",
    "        B, N, D = tensor.shape\n",
    "     \n",
    "        patch_T = 4\n",
    "        patch_H = 3\n",
    "        patch_W = 3\n",
    "        \n",
    "        return tensor.reshape(B, patch_T, patch_H, patch_W, D).permute(0,4,1,2,3)\n",
    "\n",
    "# 使用示例\n",
    "input_tensor = torch.randn(1, 1, 128, 9, 9)\n",
    "cam = EEGSwinCAM(model, target_layers, input_tensor.shape)\n",
    "cam_map = cam(input_tensor)  # 形状 [1,4,3,3]\n",
    "print(cam_map.shape)"
   ]
  },
  {
   "cell_type": "code",
   "execution_count": 1,
   "metadata": {},
   "outputs": [
    {
     "name": "stderr",
     "output_type": "stream",
     "text": [
      "/root/autodl-tmp/conda/envs/law/lib/python3.8/site-packages/tqdm/auto.py:21: TqdmWarning: IProgress not found. Please update jupyter and ipywidgets. See https://ipywidgets.readthedocs.io/en/stable/user_install.html\n",
      "  from .autonotebook import tqdm as notebook_tqdm\n",
      "/root/autodl-tmp/conda/envs/law/lib/python3.8/site-packages/torch/functional.py:568: UserWarning: torch.meshgrid: in an upcoming release, it will be required to pass the indexing argument. (Triggered internally at  /opt/conda/conda-bld/pytorch_1646755903507/work/aten/src/ATen/native/TensorShape.cpp:2228.)\n",
      "  return _VF.meshgrid(tensors, **kwargs)  # type: ignore[attr-defined]\n"
     ]
    },
    {
     "name": "stdout",
     "output_type": "stream",
     "text": [
      "(2, 1536, 4, 3, 3)\n",
      "cam: (2, 4, 3, 3)\n",
      "CAM shape: (2, 3, 3)\n",
      "CAM values for sample 0:\n",
      " [[0.28417727 0.44186538 0.38192427]\n",
      " [0.09306236 0.         0.        ]\n",
      " [0.16707207 0.9999847  0.55298334]]\n"
     ]
    }
   ],
   "source": [
    "import torch\n",
    "import numpy as np\n",
    "from pytorch_grad_cam import GradCAM\n",
    "from pytorch_grad_cam.utils.image import show_cam_on_image\n",
    "from pytorch_grad_cam.utils.model_targets import ClassifierOutputTarget\n",
    "\n",
    "# TODO: 替换为你的 EEG Swin Transformer 模型类\n",
    "from swin_CAM import SwinTransformer  \n",
    "\n",
    "# 假设目标层输出为 (batch, 36, 1536)，即 6×6 patch，1536 维特征\n",
    "def reshape_transform(tensor, time=4, height=3, width=3):\n",
    "    # 输入形状: (B, 36, 1536)\n",
    "    B, seq_len, C = tensor.size()\n",
    "\n",
    "    result = tensor.reshape(B, time, height, width, C)\n",
    "    # result = torch.mean(result, dim=1)\n",
    "    result = result.permute(0, 4, 1, 2, 3)  # (B, C, H, W)\n",
    "    return result\n",
    "\n",
    "# 加载模型\n",
    "model = SwinTransformer(patch_size=(8,1,1),\n",
    "                        depths=(2, 2, 4),\n",
    "                        num_heads=(2,2,3),\n",
    "                        window_size=(4,3,3)\n",
    "                        )\n",
    "model.eval()\n",
    "target_layers = [model.layers[-1].blocks[-1].norm2]  # 替换为你的实际目标层\n",
    "\n",
    "# 是否使用GPU\n",
    "use_cuda = torch.cuda.is_available()\n",
    "if use_cuda:\n",
    "    model = model.cuda()\n",
    "\n",
    "# 示例 EEG 输入 (batch, 1, 128, 9, 9)\n",
    "eeg_input = torch.randn(2, 1, 128, 9, 9)  # 假设 batch size 为 2\n",
    "if use_cuda:\n",
    "    eeg_input = eeg_input.cuda()\n",
    "\n",
    "# 初始化 GradCAM\n",
    "cam = GradCAM(model=model, \n",
    "              target_layers=target_layers, \n",
    "              reshape_transform=reshape_transform)\n",
    "\n",
    "# 可选：设定目标类别（如果是分类问题）\n",
    "targets = None  # 或 [ClassifierOutputTarget(class_id)]\n",
    "\n",
    "# 获取灰度 CAM 输出: (batch, H, W)\n",
    "grayscale_cam = cam(input_tensor=eeg_input, targets=targets)\n",
    "\n",
    "# 输出结果\n",
    "print(\"CAM shape:\", grayscale_cam.shape)  # 应为 (batch_size, 6, 6)\n",
    "print(\"CAM values for sample 0:\\n\", grayscale_cam[0])\n"
   ]
  }
 ],
 "metadata": {
  "kernelspec": {
   "display_name": "law",
   "language": "python",
   "name": "python3"
  },
  "language_info": {
   "codemirror_mode": {
    "name": "ipython",
    "version": 3
   },
   "file_extension": ".py",
   "mimetype": "text/x-python",
   "name": "python",
   "nbconvert_exporter": "python",
   "pygments_lexer": "ipython3",
   "version": "3.8.0"
  }
 },
 "nbformat": 4,
 "nbformat_minor": 2
}
