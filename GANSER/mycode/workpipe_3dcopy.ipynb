{
 "cells": [
  {
   "cell_type": "code",
   "execution_count": 3,
   "metadata": {},
   "outputs": [
    {
     "name": "stderr",
     "output_type": "stream",
     "text": [
      "[2025-02-10 11:06:02] INFO (torcheeg/MainThread) 🔍 | Processing EEG data. Processed EEG data has been cached to \u001b[92m.torcheeg/datasets_1739156762044_ci4j2\u001b[0m.\n",
      "[2025-02-10 11:06:02] INFO (torcheeg/MainThread) ⏳ | Monitoring the detailed processing of a record for debugging. The processing of other records will only be reported in percentage to keep it clean.\n",
      "[PROCESS]: 100%|██████████| 1/1 [00:00<00:00, 1534.69it/s]\n",
      "\n",
      "[RECORD 1_20131030.mat]: 0it [00:00, ?it/s]\u001b[A\n",
      "[RECORD 1_20131030.mat]: 1it [00:01,  1.92s/it]\u001b[A\n",
      "[RECORD 1_20131030.mat]: 6it [00:02,  3.92it/s]\u001b[A\n",
      "[RECORD 1_20131030.mat]: 11it [00:02,  8.02it/s]\u001b[A\n",
      "[RECORD 1_20131030.mat]: 16it [00:02, 12.64it/s]\u001b[A\n",
      "[RECORD 1_20131030.mat]: 21it [00:02, 17.68it/s]\u001b[A\n",
      "[RECORD 1_20131030.mat]: 26it [00:02, 22.80it/s]\u001b[A\n",
      "[RECORD 1_20131030.mat]: 31it [00:02, 27.60it/s]\u001b[A\n",
      "[RECORD 1_20131030.mat]: 36it [00:02, 31.96it/s]\u001b[A\n",
      "[RECORD 1_20131030.mat]: 41it [00:02, 35.78it/s]\u001b[A\n",
      "[RECORD 1_20131030.mat]: 46it [00:02, 38.85it/s]\u001b[A\n",
      "[RECORD 1_20131030.mat]: 51it [00:02, 41.13it/s]\u001b[A\n",
      "[RECORD 1_20131030.mat]: 56it [00:03, 42.93it/s]\u001b[A\n",
      "[RECORD 1_20131030.mat]: 61it [00:03, 44.42it/s]\u001b[A\n",
      "[RECORD 1_20131030.mat]: 66it [00:03, 45.45it/s]\u001b[A\n",
      "[RECORD 1_20131030.mat]: 71it [00:03, 46.08it/s]\u001b[A\n",
      "[RECORD 1_20131030.mat]: 76it [00:03, 46.26it/s]\u001b[A\n",
      "[RECORD 1_20131030.mat]: 81it [00:03, 46.33it/s]\u001b[A\n",
      "[RECORD 1_20131030.mat]: 86it [00:03, 46.50it/s]\u001b[A\n",
      "[RECORD 1_20131030.mat]: 91it [00:03, 46.48it/s]\u001b[A\n",
      "[RECORD 1_20131030.mat]: 96it [00:03, 46.88it/s]\u001b[A\n",
      "[RECORD 1_20131030.mat]: 101it [00:04, 47.14it/s]\u001b[A\n",
      "[RECORD 1_20131030.mat]: 106it [00:04, 47.47it/s]\u001b[A\n",
      "[RECORD 1_20131030.mat]: 111it [00:04, 47.51it/s]\u001b[A\n",
      "[RECORD 1_20131030.mat]: 116it [00:04, 47.78it/s]\u001b[A\n",
      "[RECORD 1_20131030.mat]: 121it [00:04, 47.87it/s]\u001b[A\n",
      "[RECORD 1_20131030.mat]: 126it [00:04, 47.77it/s]\u001b[A\n",
      "[RECORD 1_20131030.mat]: 131it [00:04, 47.41it/s]\u001b[A\n",
      "[RECORD 1_20131030.mat]: 136it [00:04, 47.17it/s]\u001b[A\n",
      "[RECORD 1_20131030.mat]: 141it [00:04, 47.11it/s]\u001b[A\n",
      "[RECORD 1_20131030.mat]: 146it [00:04, 46.93it/s]\u001b[A\n",
      "[RECORD 1_20131030.mat]: 151it [00:05, 46.88it/s]\u001b[A\n",
      "[RECORD 1_20131030.mat]: 156it [00:05, 46.91it/s]\u001b[A\n",
      "[RECORD 1_20131030.mat]: 161it [00:05, 46.98it/s]\u001b[A\n",
      "[RECORD 1_20131030.mat]: 166it [00:05, 47.21it/s]\u001b[A\n",
      "[RECORD 1_20131030.mat]: 171it [00:05, 47.48it/s]\u001b[A\n",
      "[RECORD 1_20131030.mat]: 176it [00:05, 47.75it/s]\u001b[A\n",
      "[RECORD 1_20131030.mat]: 181it [00:05, 47.51it/s]\u001b[A\n",
      "[RECORD 1_20131030.mat]: 186it [00:05, 47.12it/s]\u001b[A\n",
      "[RECORD 1_20131030.mat]: 191it [00:05, 47.05it/s]\u001b[A\n",
      "[RECORD 1_20131030.mat]: 196it [00:06, 47.01it/s]\u001b[A\n",
      "[RECORD 1_20131030.mat]: 201it [00:06, 47.18it/s]\u001b[A\n",
      "[RECORD 1_20131030.mat]: 206it [00:06, 47.06it/s]\u001b[A\n",
      "[RECORD 1_20131030.mat]: 211it [00:06, 46.78it/s]\u001b[A\n",
      "[RECORD 1_20131030.mat]: 216it [00:06, 46.44it/s]\u001b[A\n",
      "[RECORD 1_20131030.mat]: 221it [00:06, 46.62it/s]\u001b[A\n",
      "[RECORD 1_20131030.mat]: 226it [00:06, 46.92it/s]\u001b[A\n",
      "[RECORD 1_20131030.mat]: 231it [00:06, 46.14it/s]\u001b[A\n",
      "[RECORD 1_20131030.mat]: 236it [00:06, 46.16it/s]\u001b[A\n",
      "[RECORD 1_20131030.mat]: 241it [00:07, 46.73it/s]\u001b[A\n",
      "[RECORD 1_20131030.mat]: 246it [00:07, 47.08it/s]\u001b[A\n",
      "[RECORD 1_20131030.mat]: 251it [00:07, 47.00it/s]\u001b[A\n",
      "[RECORD 1_20131030.mat]: 256it [00:07, 47.03it/s]\u001b[A\n",
      "[RECORD 1_20131030.mat]: 261it [00:07, 47.35it/s]\u001b[A\n",
      "[RECORD 1_20131030.mat]: 266it [00:07, 47.54it/s]\u001b[A\n",
      "[RECORD 1_20131030.mat]: 271it [00:07, 47.67it/s]\u001b[A\n",
      "[RECORD 1_20131030.mat]: 276it [00:07, 47.31it/s]\u001b[A\n",
      "[RECORD 1_20131030.mat]: 281it [00:07, 47.01it/s]\u001b[A\n",
      "[RECORD 1_20131030.mat]: 286it [00:07, 47.19it/s]\u001b[A\n",
      "[RECORD 1_20131030.mat]: 291it [00:08, 47.11it/s]\u001b[A\n",
      "[RECORD 1_20131030.mat]: 296it [00:08, 46.85it/s]\u001b[A\n",
      "[RECORD 1_20131030.mat]: 301it [00:08, 47.12it/s]\u001b[A\n",
      "[RECORD 1_20131030.mat]: 306it [00:08, 47.41it/s]\u001b[A\n",
      "[RECORD 1_20131030.mat]: 311it [00:08, 47.58it/s]\u001b[A\n",
      "[RECORD 1_20131030.mat]: 316it [00:08, 47.45it/s]\u001b[A\n",
      "[RECORD 1_20131030.mat]: 321it [00:08, 47.39it/s]\u001b[A\n",
      "[RECORD 1_20131030.mat]: 326it [00:08, 47.62it/s]\u001b[A\n",
      "[RECORD 1_20131030.mat]: 331it [00:08, 47.72it/s]\u001b[A\n",
      "[RECORD 1_20131030.mat]: 336it [00:09, 47.75it/s]\u001b[A\n",
      "[RECORD 1_20131030.mat]: 341it [00:09, 47.85it/s]\u001b[A\n",
      "[RECORD 1_20131030.mat]: 346it [00:09, 47.91it/s]\u001b[A\n",
      "[RECORD 1_20131030.mat]: 351it [00:09, 47.57it/s]\u001b[A\n",
      "[RECORD 1_20131030.mat]: 356it [00:09, 47.26it/s]\u001b[A\n",
      "[RECORD 1_20131030.mat]: 361it [00:09, 47.46it/s]\u001b[A\n",
      "[RECORD 1_20131030.mat]: 366it [00:09, 47.65it/s]\u001b[A\n",
      "[RECORD 1_20131030.mat]: 371it [00:09, 47.70it/s]\u001b[A\n",
      "[RECORD 1_20131030.mat]: 376it [00:09, 47.79it/s]\u001b[A\n",
      "[RECORD 1_20131030.mat]: 381it [00:09, 47.89it/s]\u001b[A\n",
      "[RECORD 1_20131030.mat]: 386it [00:10, 47.96it/s]\u001b[A\n",
      "[RECORD 1_20131030.mat]: 391it [00:10, 48.04it/s]\u001b[A\n",
      "[RECORD 1_20131030.mat]: 396it [00:10, 48.12it/s]\u001b[A\n",
      "[RECORD 1_20131030.mat]: 401it [00:10, 48.17it/s]\u001b[A\n",
      "[RECORD 1_20131030.mat]: 406it [00:10, 48.24it/s]\u001b[A\n",
      "[RECORD 1_20131030.mat]: 411it [00:10, 48.12it/s]\u001b[A\n",
      "[RECORD 1_20131030.mat]: 416it [00:10, 47.99it/s]\u001b[A\n",
      "[RECORD 1_20131030.mat]: 421it [00:10, 47.99it/s]\u001b[A\n",
      "[RECORD 1_20131030.mat]: 426it [00:10, 48.04it/s]\u001b[A\n",
      "[RECORD 1_20131030.mat]: 431it [00:10, 48.08it/s]\u001b[A\n",
      "[RECORD 1_20131030.mat]: 436it [00:11, 48.18it/s]\u001b[A\n",
      "[RECORD 1_20131030.mat]: 441it [00:11, 48.24it/s]\u001b[A\n",
      "[RECORD 1_20131030.mat]: 446it [00:11, 48.23it/s]\u001b[A\n",
      "[RECORD 1_20131030.mat]: 451it [00:11, 48.19it/s]\u001b[A\n",
      "[RECORD 1_20131030.mat]: 456it [00:11, 47.84it/s]\u001b[A\n",
      "[RECORD 1_20131030.mat]: 461it [00:11, 47.80it/s]\u001b[A\n",
      "[RECORD 1_20131030.mat]: 466it [00:11, 47.82it/s]\u001b[A\n",
      "[RECORD 1_20131030.mat]: 471it [00:11, 47.79it/s]\u001b[A\n",
      "[RECORD 1_20131030.mat]: 476it [00:11, 47.75it/s]\u001b[A\n",
      "[RECORD 1_20131030.mat]: 481it [00:12, 47.59it/s]\u001b[A\n",
      "[RECORD 1_20131030.mat]: 486it [00:12, 47.58it/s]\u001b[A\n",
      "[RECORD 1_20131030.mat]: 491it [00:12, 47.55it/s]\u001b[A\n",
      "[RECORD 1_20131030.mat]: 496it [00:12, 47.59it/s]\u001b[A\n",
      "[RECORD 1_20131030.mat]: 501it [00:12, 47.13it/s]\u001b[A\n",
      "[RECORD 1_20131030.mat]: 506it [00:12, 46.92it/s]\u001b[A\n",
      "[RECORD 1_20131030.mat]: 511it [00:12, 47.10it/s]\u001b[A\n",
      "[RECORD 1_20131030.mat]: 516it [00:12, 47.37it/s]\u001b[A\n",
      "[RECORD 1_20131030.mat]: 521it [00:12, 47.49it/s]\u001b[A\n",
      "[RECORD 1_20131030.mat]: 526it [00:12, 47.64it/s]\u001b[A\n",
      "[RECORD 1_20131030.mat]: 531it [00:13, 47.75it/s]\u001b[A\n",
      "[RECORD 1_20131030.mat]: 536it [00:13, 47.62it/s]\u001b[A\n",
      "[RECORD 1_20131030.mat]: 541it [00:13, 47.62it/s]\u001b[A\n",
      "[RECORD 1_20131030.mat]: 546it [00:13, 47.63it/s]\u001b[A\n",
      "[RECORD 1_20131030.mat]: 551it [00:13, 47.71it/s]\u001b[A\n",
      "[RECORD 1_20131030.mat]: 556it [00:13, 47.56it/s]\u001b[A\n",
      "[RECORD 1_20131030.mat]: 561it [00:13, 47.52it/s]\u001b[A\n",
      "[RECORD 1_20131030.mat]: 566it [00:13, 47.54it/s]\u001b[A\n",
      "[RECORD 1_20131030.mat]: 571it [00:13, 47.58it/s]\u001b[A\n",
      "[RECORD 1_20131030.mat]: 576it [00:14, 47.73it/s]\u001b[A\n",
      "[RECORD 1_20131030.mat]: 581it [00:14, 47.86it/s]\u001b[A\n",
      "[RECORD 1_20131030.mat]: 586it [00:14, 47.98it/s]\u001b[A\n",
      "[RECORD 1_20131030.mat]: 591it [00:14, 48.06it/s]\u001b[A\n",
      "[RECORD 1_20131030.mat]: 596it [00:14, 48.05it/s]\u001b[A\n",
      "[RECORD 1_20131030.mat]: 601it [00:14, 47.89it/s]\u001b[A\n",
      "[RECORD 1_20131030.mat]: 606it [00:14, 47.87it/s]\u001b[A\n",
      "[RECORD 1_20131030.mat]: 611it [00:14, 48.01it/s]\u001b[A\n",
      "[RECORD 1_20131030.mat]: 616it [00:14, 47.98it/s]\u001b[A\n",
      "[RECORD 1_20131030.mat]: 621it [00:14, 48.17it/s]\u001b[A\n",
      "[RECORD 1_20131030.mat]: 626it [00:15, 48.27it/s]\u001b[A\n",
      "[RECORD 1_20131030.mat]: 631it [00:15, 48.33it/s]\u001b[A\n",
      "[RECORD 1_20131030.mat]: 636it [00:15, 48.37it/s]\u001b[A\n",
      "[RECORD 1_20131030.mat]: 641it [00:15, 48.41it/s]\u001b[A\n",
      "[RECORD 1_20131030.mat]: 646it [00:15, 48.41it/s]\u001b[A\n",
      "[RECORD 1_20131030.mat]: 651it [00:15, 48.41it/s]\u001b[A\n",
      "[RECORD 1_20131030.mat]: 656it [00:15, 48.37it/s]\u001b[A\n",
      "[RECORD 1_20131030.mat]: 661it [00:15, 48.46it/s]\u001b[A\n",
      "[RECORD 1_20131030.mat]: 666it [00:15, 48.38it/s]\u001b[A\n",
      "[RECORD 1_20131030.mat]: 671it [00:16, 48.44it/s]\u001b[A\n",
      "[RECORD 1_20131030.mat]: 676it [00:16, 48.44it/s]\u001b[A\n",
      "[RECORD 1_20131030.mat]: 681it [00:16, 48.45it/s]\u001b[A\n",
      "[RECORD 1_20131030.mat]: 686it [00:16, 48.43it/s]\u001b[A\n",
      "[RECORD 1_20131030.mat]: 691it [00:16, 48.43it/s]\u001b[A\n",
      "[RECORD 1_20131030.mat]: 696it [00:16, 48.24it/s]\u001b[A\n",
      "[RECORD 1_20131030.mat]: 701it [00:16, 48.09it/s]\u001b[A\n",
      "[RECORD 1_20131030.mat]: 706it [00:16, 48.14it/s]\u001b[A\n",
      "[RECORD 1_20131030.mat]: 711it [00:16, 48.21it/s]\u001b[A\n",
      "[RECORD 1_20131030.mat]: 716it [00:16, 48.26it/s]\u001b[A\n",
      "[RECORD 1_20131030.mat]: 721it [00:17, 48.30it/s]\u001b[A\n",
      "[RECORD 1_20131030.mat]: 726it [00:17, 48.33it/s]\u001b[A\n",
      "[RECORD 1_20131030.mat]: 731it [00:17, 48.36it/s]\u001b[A\n",
      "[RECORD 1_20131030.mat]: 736it [00:17, 48.16it/s]\u001b[A\n",
      "[RECORD 1_20131030.mat]: 741it [00:17, 48.25it/s]\u001b[A\n",
      "[RECORD 1_20131030.mat]: 746it [00:17, 48.28it/s]\u001b[A\n",
      "[RECORD 1_20131030.mat]: 751it [00:17, 48.30it/s]\u001b[A\n",
      "[RECORD 1_20131030.mat]: 756it [00:17, 48.33it/s]\u001b[A\n",
      "[RECORD 1_20131030.mat]: 761it [00:17, 48.40it/s]\u001b[A\n",
      "[RECORD 1_20131030.mat]: 766it [00:17, 48.43it/s]\u001b[A\n",
      "[RECORD 1_20131030.mat]: 771it [00:18, 48.46it/s]\u001b[A\n",
      "[RECORD 1_20131030.mat]: 776it [00:18, 48.47it/s]\u001b[A\n",
      "[RECORD 1_20131030.mat]: 781it [00:18, 48.52it/s]\u001b[A\n",
      "[RECORD 1_20131030.mat]: 786it [00:18, 48.49it/s]\u001b[A\n",
      "[RECORD 1_20131030.mat]: 791it [00:18, 48.47it/s]\u001b[A\n",
      "[RECORD 1_20131030.mat]: 796it [00:18, 48.43it/s]\u001b[A\n",
      "[RECORD 1_20131030.mat]: 801it [00:18, 48.34it/s]\u001b[A\n",
      "[RECORD 1_20131030.mat]: 806it [00:18, 48.36it/s]\u001b[A\n",
      "[RECORD 1_20131030.mat]: 811it [00:18, 48.39it/s]\u001b[A\n",
      "[RECORD 1_20131030.mat]: 816it [00:19, 48.20it/s]\u001b[A\n",
      "[RECORD 1_20131030.mat]: 821it [00:19, 48.12it/s]\u001b[A\n",
      "[RECORD 1_20131030.mat]: 826it [00:19, 48.21it/s]\u001b[A\n",
      "[RECORD 1_20131030.mat]: 831it [00:19, 48.08it/s]\u001b[A\n",
      "[RECORD 1_20131030.mat]: 836it [00:19, 48.12it/s]\u001b[A\n",
      "[RECORD 1_20131030.mat]: 841it [00:19, 48.14it/s]\u001b[A\n",
      "[RECORD 1_20131030.mat]: 846it [00:19, 48.05it/s]\u001b[A\n",
      "[RECORD 1_20131030.mat]: 851it [00:19, 47.87it/s]\u001b[A\n",
      "[RECORD 1_20131030.mat]: 856it [00:19, 47.97it/s]\u001b[A\n",
      "[RECORD 1_20131030.mat]: 861it [00:19, 48.02it/s]\u001b[A\n",
      "[RECORD 1_20131030.mat]: 866it [00:20, 47.81it/s]\u001b[A\n",
      "[RECORD 1_20131030.mat]: 871it [00:20, 47.80it/s]\u001b[A\n",
      "[RECORD 1_20131030.mat]: 876it [00:20, 47.85it/s]\u001b[A\n",
      "[RECORD 1_20131030.mat]: 881it [00:20, 48.01it/s]\u001b[A\n",
      "[RECORD 1_20131030.mat]: 886it [00:20, 47.98it/s]\u001b[A\n",
      "[RECORD 1_20131030.mat]: 891it [00:20, 47.19it/s]\u001b[A\n",
      "[RECORD 1_20131030.mat]: 896it [00:20, 47.39it/s]\u001b[A\n",
      "[RECORD 1_20131030.mat]: 901it [00:20, 47.18it/s]\u001b[A\n",
      "[RECORD 1_20131030.mat]: 906it [00:20, 47.32it/s]\u001b[A\n",
      "[RECORD 1_20131030.mat]: 911it [00:20, 47.57it/s]\u001b[A\n",
      "[RECORD 1_20131030.mat]: 916it [00:21, 47.58it/s]\u001b[A\n",
      "[RECORD 1_20131030.mat]: 921it [00:21, 47.62it/s]\u001b[A\n",
      "[RECORD 1_20131030.mat]: 926it [00:21, 47.79it/s]\u001b[A\n",
      "[RECORD 1_20131030.mat]: 931it [00:21, 47.91it/s]\u001b[A\n",
      "[RECORD 1_20131030.mat]: 936it [00:21, 47.96it/s]\u001b[A\n",
      "[RECORD 1_20131030.mat]: 941it [00:21, 47.91it/s]\u001b[A\n",
      "[RECORD 1_20131030.mat]: 946it [00:21, 47.80it/s]\u001b[A\n",
      "[RECORD 1_20131030.mat]: 951it [00:21, 47.83it/s]\u001b[A\n",
      "[RECORD 1_20131030.mat]: 956it [00:21, 47.84it/s]\u001b[A\n",
      "[RECORD 1_20131030.mat]: 961it [00:22, 47.85it/s]\u001b[A\n",
      "[RECORD 1_20131030.mat]: 966it [00:22, 47.62it/s]\u001b[A\n",
      "[RECORD 1_20131030.mat]: 971it [00:22, 47.37it/s]\u001b[A\n",
      "[RECORD 1_20131030.mat]: 976it [00:22, 47.41it/s]\u001b[A\n",
      "[RECORD 1_20131030.mat]: 981it [00:22, 47.44it/s]\u001b[A\n",
      "[RECORD 1_20131030.mat]: 986it [00:22, 47.29it/s]\u001b[A\n",
      "[RECORD 1_20131030.mat]: 991it [00:22, 47.31it/s]\u001b[A\n",
      "[RECORD 1_20131030.mat]: 996it [00:22, 47.35it/s]\u001b[A\n",
      "[RECORD 1_20131030.mat]: 1001it [00:22, 47.42it/s]\u001b[A\n",
      "[RECORD 1_20131030.mat]: 1006it [00:22, 47.13it/s]\u001b[A\n",
      "[RECORD 1_20131030.mat]: 1011it [00:23, 46.91it/s]\u001b[A\n",
      "[RECORD 1_20131030.mat]: 1016it [00:23, 46.76it/s]\u001b[A\n",
      "[RECORD 1_20131030.mat]: 1021it [00:23, 46.68it/s]\u001b[A\n",
      "[RECORD 1_20131030.mat]: 1026it [00:23, 46.70it/s]\u001b[A\n",
      "[RECORD 1_20131030.mat]: 1031it [00:23, 46.47it/s]\u001b[A\n",
      "[RECORD 1_20131030.mat]: 1036it [00:23, 46.52it/s]\u001b[A\n",
      "[RECORD 1_20131030.mat]: 1041it [00:23, 46.67it/s]\u001b[A\n",
      "[RECORD 1_20131030.mat]: 1046it [00:23, 47.09it/s]\u001b[A\n",
      "[RECORD 1_20131030.mat]: 1051it [00:23, 47.37it/s]\u001b[A\n",
      "[RECORD 1_20131030.mat]: 1056it [00:24, 47.46it/s]\u001b[A\n",
      "[RECORD 1_20131030.mat]: 1061it [00:24, 46.81it/s]\u001b[A\n",
      "[RECORD 1_20131030.mat]: 1066it [00:24, 47.08it/s]\u001b[A\n",
      "[RECORD 1_20131030.mat]: 1071it [00:24, 47.45it/s]\u001b[A\n",
      "[RECORD 1_20131030.mat]: 1076it [00:24, 47.63it/s]\u001b[A\n",
      "[RECORD 1_20131030.mat]: 1081it [00:24, 47.46it/s]\u001b[A\n",
      "[RECORD 1_20131030.mat]: 1086it [00:24, 47.51it/s]\u001b[A\n",
      "[RECORD 1_20131030.mat]: 1091it [00:24, 47.70it/s]\u001b[A\n",
      "[RECORD 1_20131030.mat]: 1096it [00:24, 47.80it/s]\u001b[A\n",
      "[RECORD 1_20131030.mat]: 1101it [00:25, 47.64it/s]\u001b[A\n",
      "[RECORD 1_20131030.mat]: 1106it [00:25, 47.11it/s]\u001b[A\n",
      "[RECORD 1_20131030.mat]: 1111it [00:25, 47.09it/s]\u001b[A\n",
      "[RECORD 1_20131030.mat]: 1116it [00:25, 46.81it/s]\u001b[A\n",
      "[RECORD 1_20131030.mat]: 1121it [00:25, 46.57it/s]\u001b[A\n",
      "[RECORD 1_20131030.mat]: 1126it [00:25, 46.92it/s]\u001b[A\n",
      "[RECORD 1_20131030.mat]: 1131it [00:25, 47.18it/s]\u001b[A\n",
      "[RECORD 1_20131030.mat]: 1136it [00:25, 47.38it/s]\u001b[A\n",
      "[RECORD 1_20131030.mat]: 1141it [00:25, 47.58it/s]\u001b[A\n",
      "[RECORD 1_20131030.mat]: 1146it [00:25, 47.72it/s]\u001b[A\n",
      "[RECORD 1_20131030.mat]: 1151it [00:26, 47.79it/s]\u001b[A\n",
      "[RECORD 1_20131030.mat]: 1156it [00:26, 47.88it/s]\u001b[A\n",
      "[RECORD 1_20131030.mat]: 1161it [00:26, 47.89it/s]\u001b[A\n",
      "[RECORD 1_20131030.mat]: 1166it [00:26, 47.62it/s]\u001b[A\n",
      "[RECORD 1_20131030.mat]: 1171it [00:26, 47.57it/s]\u001b[A\n",
      "[RECORD 1_20131030.mat]: 1176it [00:26, 47.42it/s]\u001b[A\n",
      "[RECORD 1_20131030.mat]: 1181it [00:26, 47.48it/s]\u001b[A\n",
      "[RECORD 1_20131030.mat]: 1186it [00:26, 47.62it/s]\u001b[A\n",
      "[RECORD 1_20131030.mat]: 1191it [00:26, 47.83it/s]\u001b[A\n",
      "[RECORD 1_20131030.mat]: 1196it [00:27, 47.87it/s]\u001b[A\n",
      "[RECORD 1_20131030.mat]: 1201it [00:27, 48.01it/s]\u001b[A\n",
      "[RECORD 1_20131030.mat]: 1206it [00:27, 48.04it/s]\u001b[A\n",
      "[RECORD 1_20131030.mat]: 1211it [00:27, 48.06it/s]\u001b[A\n",
      "[RECORD 1_20131030.mat]: 1216it [00:27, 48.13it/s]\u001b[A\n",
      "[RECORD 1_20131030.mat]: 1221it [00:27, 48.08it/s]\u001b[A\n",
      "[RECORD 1_20131030.mat]: 1226it [00:27, 48.14it/s]\u001b[A\n",
      "[RECORD 1_20131030.mat]: 1231it [00:27, 48.20it/s]\u001b[A\n",
      "[RECORD 1_20131030.mat]: 1236it [00:27, 48.11it/s]\u001b[A\n",
      "[RECORD 1_20131030.mat]: 1241it [00:27, 48.16it/s]\u001b[A\n",
      "[RECORD 1_20131030.mat]: 1246it [00:28, 48.22it/s]\u001b[A\n",
      "[RECORD 1_20131030.mat]: 1251it [00:28, 48.23it/s]\u001b[A\n",
      "[RECORD 1_20131030.mat]: 1256it [00:28, 48.25it/s]\u001b[A\n",
      "[RECORD 1_20131030.mat]: 1261it [00:28, 48.29it/s]\u001b[A\n",
      "[RECORD 1_20131030.mat]: 1266it [00:28, 48.21it/s]\u001b[A\n",
      "[RECORD 1_20131030.mat]: 1271it [00:28, 47.98it/s]\u001b[A\n",
      "[RECORD 1_20131030.mat]: 1276it [00:28, 47.82it/s]\u001b[A\n",
      "[RECORD 1_20131030.mat]: 1281it [00:28, 47.89it/s]\u001b[A\n",
      "[RECORD 1_20131030.mat]: 1286it [00:28, 47.88it/s]\u001b[A\n",
      "[RECORD 1_20131030.mat]: 1291it [00:28, 47.99it/s]\u001b[A\n",
      "[RECORD 1_20131030.mat]: 1296it [00:29, 48.01it/s]\u001b[A\n",
      "[RECORD 1_20131030.mat]: 1301it [00:29, 48.11it/s]\u001b[A\n",
      "[RECORD 1_20131030.mat]: 1306it [00:29, 48.20it/s]\u001b[A\n",
      "[RECORD 1_20131030.mat]: 1311it [00:29, 48.23it/s]\u001b[A\n",
      "[RECORD 1_20131030.mat]: 1316it [00:29, 48.33it/s]\u001b[A\n",
      "[RECORD 1_20131030.mat]: 1321it [00:29, 48.39it/s]\u001b[A\n",
      "[RECORD 1_20131030.mat]: 1326it [00:29, 48.39it/s]\u001b[A\n",
      "[RECORD 1_20131030.mat]: 1331it [00:29, 48.42it/s]\u001b[A\n",
      "[RECORD 1_20131030.mat]: 1336it [00:29, 48.45it/s]\u001b[A\n",
      "[RECORD 1_20131030.mat]: 1341it [00:30, 48.50it/s]\u001b[A\n",
      "[RECORD 1_20131030.mat]: 1346it [00:30, 48.49it/s]\u001b[A\n",
      "[RECORD 1_20131030.mat]: 1351it [00:30, 48.59it/s]\u001b[A\n",
      "[RECORD 1_20131030.mat]: 1356it [00:30, 48.56it/s]\u001b[A\n",
      "[RECORD 1_20131030.mat]: 1361it [00:30, 48.58it/s]\u001b[A\n",
      "[RECORD 1_20131030.mat]: 1366it [00:30, 47.24it/s]\u001b[A\n",
      "[RECORD 1_20131030.mat]: 1371it [00:30, 47.38it/s]\u001b[A\n",
      "[RECORD 1_20131030.mat]: 1376it [00:30, 47.59it/s]\u001b[A\n",
      "[RECORD 1_20131030.mat]: 1381it [00:30, 47.72it/s]\u001b[A\n",
      "[RECORD 1_20131030.mat]: 1386it [00:30, 47.83it/s]\u001b[A\n",
      "[RECORD 1_20131030.mat]: 1391it [00:31, 47.94it/s]\u001b[A\n",
      "[RECORD 1_20131030.mat]: 1396it [00:31, 47.96it/s]\u001b[A\n",
      "[RECORD 1_20131030.mat]: 1401it [00:31, 47.98it/s]\u001b[A\n",
      "[RECORD 1_20131030.mat]: 1406it [00:31, 47.97it/s]\u001b[A\n",
      "[RECORD 1_20131030.mat]: 1411it [00:31, 48.07it/s]\u001b[A\n",
      "[RECORD 1_20131030.mat]: 1416it [00:31, 48.04it/s]\u001b[A\n",
      "[RECORD 1_20131030.mat]: 1421it [00:31, 48.01it/s]\u001b[A\n",
      "[RECORD 1_20131030.mat]: 1426it [00:31, 48.16it/s]\u001b[A\n",
      "[RECORD 1_20131030.mat]: 1431it [00:31, 48.22it/s]\u001b[A\n",
      "[RECORD 1_20131030.mat]: 1436it [00:31, 48.03it/s]\u001b[A\n",
      "[RECORD 1_20131030.mat]: 1441it [00:32, 48.11it/s]\u001b[A\n",
      "[RECORD 1_20131030.mat]: 1446it [00:32, 48.16it/s]\u001b[A\n",
      "[RECORD 1_20131030.mat]: 1451it [00:32, 48.29it/s]\u001b[A\n",
      "[RECORD 1_20131030.mat]: 1456it [00:32, 48.34it/s]\u001b[A\n",
      "[RECORD 1_20131030.mat]: 1461it [00:32, 48.03it/s]\u001b[A\n",
      "[RECORD 1_20131030.mat]: 1466it [00:32, 47.93it/s]\u001b[A\n",
      "[RECORD 1_20131030.mat]: 1471it [00:32, 47.92it/s]\u001b[A\n",
      "[RECORD 1_20131030.mat]: 1476it [00:32, 47.97it/s]\u001b[A\n",
      "[RECORD 1_20131030.mat]: 1481it [00:32, 48.13it/s]\u001b[A\n",
      "[RECORD 1_20131030.mat]: 1486it [00:33, 48.21it/s]\u001b[A\n",
      "[RECORD 1_20131030.mat]: 1491it [00:33, 48.28it/s]\u001b[A\n",
      "[RECORD 1_20131030.mat]: 1496it [00:33, 48.31it/s]\u001b[A\n",
      "[RECORD 1_20131030.mat]: 1501it [00:33, 48.41it/s]\u001b[A\n",
      "[RECORD 1_20131030.mat]: 1506it [00:33, 48.51it/s]\u001b[A\n",
      "[RECORD 1_20131030.mat]: 1511it [00:33, 48.49it/s]\u001b[A\n",
      "[RECORD 1_20131030.mat]: 1516it [00:33, 48.49it/s]\u001b[A\n",
      "[RECORD 1_20131030.mat]: 1521it [00:33, 48.46it/s]\u001b[A\n",
      "[RECORD 1_20131030.mat]: 1526it [00:33, 48.50it/s]\u001b[A\n",
      "[RECORD 1_20131030.mat]: 1531it [00:33, 48.32it/s]\u001b[A\n",
      "[RECORD 1_20131030.mat]: 1536it [00:34, 48.20it/s]\u001b[A\n",
      "[RECORD 1_20131030.mat]: 1541it [00:34, 48.18it/s]\u001b[A\n",
      "[RECORD 1_20131030.mat]: 1546it [00:34, 48.11it/s]\u001b[A\n",
      "[RECORD 1_20131030.mat]: 1551it [00:34, 48.09it/s]\u001b[A\n",
      "[RECORD 1_20131030.mat]: 1556it [00:34, 47.96it/s]\u001b[A\n",
      "[RECORD 1_20131030.mat]: 1561it [00:34, 47.74it/s]\u001b[A\n",
      "[RECORD 1_20131030.mat]: 1566it [00:34, 47.80it/s]\u001b[A\n",
      "[RECORD 1_20131030.mat]: 1571it [00:34, 47.71it/s]\u001b[A\n",
      "[RECORD 1_20131030.mat]: 1576it [00:34, 47.74it/s]\u001b[A\n",
      "[RECORD 1_20131030.mat]: 1581it [00:35, 47.87it/s]\u001b[A\n",
      "[RECORD 1_20131030.mat]: 1586it [00:35, 47.92it/s]\u001b[A\n",
      "[RECORD 1_20131030.mat]: 1591it [00:35, 47.99it/s]\u001b[A\n",
      "[RECORD 1_20131030.mat]: 1596it [00:35, 47.97it/s]\u001b[A\n",
      "[RECORD 1_20131030.mat]: 1601it [00:35, 48.01it/s]\u001b[A\n",
      "[RECORD 1_20131030.mat]: 1606it [00:35, 48.02it/s]\u001b[A\n",
      "[RECORD 1_20131030.mat]: 1611it [00:35, 48.04it/s]\u001b[A\n",
      "[RECORD 1_20131030.mat]: 1616it [00:35, 48.08it/s]\u001b[A\n",
      "[RECORD 1_20131030.mat]: 1621it [00:35, 48.09it/s]\u001b[A\n",
      "[RECORD 1_20131030.mat]: 1626it [00:35, 47.85it/s]\u001b[A\n",
      "[RECORD 1_20131030.mat]: 1631it [00:36, 47.82it/s]\u001b[A\n",
      "[RECORD 1_20131030.mat]: 1636it [00:36, 47.68it/s]\u001b[A\n",
      "[RECORD 1_20131030.mat]: 1641it [00:36, 47.61it/s]\u001b[A\n",
      "[RECORD 1_20131030.mat]: 1646it [00:36, 47.73it/s]\u001b[A\n",
      "[RECORD 1_20131030.mat]: 1651it [00:36, 47.35it/s]\u001b[A\n",
      "[RECORD 1_20131030.mat]: 1656it [00:36, 46.80it/s]\u001b[A\n",
      "[RECORD 1_20131030.mat]: 1661it [00:36, 47.05it/s]\u001b[A\n",
      "[RECORD 1_20131030.mat]: 1666it [00:36, 46.75it/s]\u001b[A\n",
      "[RECORD 1_20131030.mat]: 1671it [00:36, 46.97it/s]\u001b[A\n",
      "[RECORD 1_20131030.mat]: 1676it [00:37, 47.20it/s]\u001b[A\n",
      "[RECORD 1_20131030.mat]: 1681it [00:37, 47.36it/s]\u001b[A\n",
      "[RECORD 1_20131030.mat]: 1686it [00:37, 47.49it/s]\u001b[A\n",
      "[RECORD 1_20131030.mat]: 1691it [00:37, 47.59it/s]\u001b[A\n",
      "[RECORD 1_20131030.mat]: 1696it [00:37, 47.72it/s]\u001b[A\n",
      "[RECORD 1_20131030.mat]: 1701it [00:37, 47.43it/s]\u001b[A\n",
      "[RECORD 1_20131030.mat]: 1706it [00:37, 47.43it/s]\u001b[A\n",
      "[RECORD 1_20131030.mat]: 1711it [00:37, 47.53it/s]\u001b[A\n",
      "[RECORD 1_20131030.mat]: 1716it [00:37, 47.59it/s]\u001b[A\n",
      "[RECORD 1_20131030.mat]: 1721it [00:37, 47.63it/s]\u001b[A\n",
      "[RECORD 1_20131030.mat]: 1726it [00:38, 47.19it/s]\u001b[A\n",
      "[RECORD 1_20131030.mat]: 1731it [00:38, 46.70it/s]\u001b[A\n",
      "[RECORD 1_20131030.mat]: 1736it [00:38, 46.74it/s]\u001b[A\n",
      "[RECORD 1_20131030.mat]: 1741it [00:38, 46.54it/s]\u001b[A\n",
      "[RECORD 1_20131030.mat]: 1746it [00:38, 46.33it/s]\u001b[A\n",
      "[RECORD 1_20131030.mat]: 1751it [00:38, 46.57it/s]\u001b[A\n",
      "[RECORD 1_20131030.mat]: 1756it [00:38, 46.70it/s]\u001b[A\n",
      "[RECORD 1_20131030.mat]: 1761it [00:38, 46.73it/s]\u001b[A\n",
      "[RECORD 1_20131030.mat]: 1766it [00:38, 46.60it/s]\u001b[A\n",
      "[RECORD 1_20131030.mat]: 1771it [00:39, 46.46it/s]\u001b[A\n",
      "[RECORD 1_20131030.mat]: 1776it [00:39, 46.45it/s]\u001b[A\n",
      "[RECORD 1_20131030.mat]: 1781it [00:39, 46.48it/s]\u001b[A\n",
      "[RECORD 1_20131030.mat]: 1786it [00:39, 46.44it/s]\u001b[A\n",
      "[RECORD 1_20131030.mat]: 1791it [00:39, 46.43it/s]\u001b[A\n",
      "[RECORD 1_20131030.mat]: 1796it [00:39, 46.73it/s]\u001b[A\n",
      "[RECORD 1_20131030.mat]: 1801it [00:39, 46.98it/s]\u001b[A\n",
      "[RECORD 1_20131030.mat]: 1806it [00:39, 47.13it/s]\u001b[A\n",
      "[RECORD 1_20131030.mat]: 1811it [00:39, 47.23it/s]\u001b[A\n",
      "[RECORD 1_20131030.mat]: 1816it [00:39, 47.13it/s]\u001b[A\n",
      "[RECORD 1_20131030.mat]: 1821it [00:40, 47.08it/s]\u001b[A\n",
      "[RECORD 1_20131030.mat]: 1826it [00:40, 47.11it/s]\u001b[A\n",
      "[RECORD 1_20131030.mat]: 1831it [00:40, 47.25it/s]\u001b[A\n",
      "[RECORD 1_20131030.mat]: 1836it [00:40, 47.31it/s]\u001b[A\n",
      "[RECORD 1_20131030.mat]: 1841it [00:40, 46.73it/s]\u001b[A\n",
      "[RECORD 1_20131030.mat]: 1846it [00:40, 46.83it/s]\u001b[A\n",
      "[RECORD 1_20131030.mat]: 1851it [00:40, 47.09it/s]\u001b[A\n",
      "[RECORD 1_20131030.mat]: 1856it [00:40, 47.31it/s]\u001b[A\n",
      "[RECORD 1_20131030.mat]: 1861it [00:40, 47.21it/s]\u001b[A\n",
      "[RECORD 1_20131030.mat]: 1866it [00:41, 47.01it/s]\u001b[A\n",
      "[RECORD 1_20131030.mat]: 1871it [00:41, 47.18it/s]\u001b[A\n",
      "[RECORD 1_20131030.mat]: 1876it [00:41, 47.11it/s]\u001b[A\n",
      "[RECORD 1_20131030.mat]: 1881it [00:41, 47.07it/s]\u001b[A\n",
      "[RECORD 1_20131030.mat]: 1886it [00:41, 46.91it/s]\u001b[A\n",
      "[RECORD 1_20131030.mat]: 1891it [00:41, 46.75it/s]\u001b[A\n",
      "[RECORD 1_20131030.mat]: 1896it [00:41, 47.14it/s]\u001b[A\n",
      "[RECORD 1_20131030.mat]: 1901it [00:41, 47.53it/s]\u001b[A\n",
      "[RECORD 1_20131030.mat]: 1906it [00:41, 47.76it/s]\u001b[A\n",
      "[RECORD 1_20131030.mat]: 1911it [00:41, 48.00it/s]\u001b[A\n",
      "[RECORD 1_20131030.mat]: 1916it [00:42, 48.07it/s]\u001b[A\n",
      "[RECORD 1_20131030.mat]: 1921it [00:42, 48.11it/s]\u001b[A\n",
      "[RECORD 1_20131030.mat]: 1926it [00:42, 48.00it/s]\u001b[A\n",
      "[RECORD 1_20131030.mat]: 1931it [00:42, 41.90it/s]\u001b[A\n",
      "[RECORD 1_20131030.mat]: 1936it [00:42, 43.26it/s]\u001b[A\n",
      "[RECORD 1_20131030.mat]: 1941it [00:42, 44.30it/s]\u001b[A\n",
      "[RECORD 1_20131030.mat]: 1946it [00:42, 45.15it/s]\u001b[A\n",
      "[RECORD 1_20131030.mat]: 1951it [00:42, 46.13it/s]\u001b[A\n",
      "[RECORD 1_20131030.mat]: 1956it [00:42, 46.82it/s]\u001b[A\n",
      "[RECORD 1_20131030.mat]: 1961it [00:43, 47.35it/s]\u001b[A\n",
      "[RECORD 1_20131030.mat]: 1966it [00:43, 47.73it/s]\u001b[A\n",
      "[RECORD 1_20131030.mat]: 1971it [00:43, 47.60it/s]\u001b[A\n",
      "[RECORD 1_20131030.mat]: 1976it [00:43, 47.83it/s]\u001b[A\n",
      "[RECORD 1_20131030.mat]: 1981it [00:43, 48.05it/s]\u001b[A\n",
      "[RECORD 1_20131030.mat]: 1986it [00:43, 48.19it/s]\u001b[A\n",
      "[RECORD 1_20131030.mat]: 1991it [00:43, 48.36it/s]\u001b[A\n",
      "[RECORD 1_20131030.mat]: 1996it [00:43, 48.48it/s]\u001b[A\n",
      "[RECORD 1_20131030.mat]: 2001it [00:43, 48.59it/s]\u001b[A\n",
      "[RECORD 1_20131030.mat]: 2006it [00:44, 48.66it/s]\u001b[A\n",
      "[RECORD 1_20131030.mat]: 2011it [00:44, 48.71it/s]\u001b[A\n",
      "[RECORD 1_20131030.mat]: 2016it [00:44, 48.74it/s]\u001b[A\n",
      "[RECORD 1_20131030.mat]: 2021it [00:44, 48.76it/s]\u001b[A\n",
      "[RECORD 1_20131030.mat]: 2026it [00:44, 48.76it/s]\u001b[A\n",
      "[RECORD 1_20131030.mat]: 2031it [00:44, 48.56it/s]\u001b[A\n",
      "[RECORD 1_20131030.mat]: 2036it [00:44, 48.49it/s]\u001b[A\n",
      "[RECORD 1_20131030.mat]: 2041it [00:44, 48.56it/s]\u001b[A\n",
      "[RECORD 1_20131030.mat]: 2046it [00:44, 48.57it/s]\u001b[A\n",
      "[RECORD 1_20131030.mat]: 2051it [00:44, 48.58it/s]\u001b[A\n",
      "[RECORD 1_20131030.mat]: 2056it [00:45, 48.61it/s]\u001b[A\n",
      "[RECORD 1_20131030.mat]: 2061it [00:45, 48.54it/s]\u001b[A\n",
      "[RECORD 1_20131030.mat]: 2066it [00:45, 48.54it/s]\u001b[A\n",
      "[RECORD 1_20131030.mat]: 2071it [00:45, 48.33it/s]\u001b[A\n",
      "[RECORD 1_20131030.mat]: 2076it [00:45, 48.26it/s]\u001b[A\n",
      "[RECORD 1_20131030.mat]: 2081it [00:45, 48.12it/s]\u001b[A\n",
      "[RECORD 1_20131030.mat]: 2086it [00:45, 48.22it/s]\u001b[A\n",
      "[RECORD 1_20131030.mat]: 2091it [00:45, 48.32it/s]\u001b[A\n",
      "[RECORD 1_20131030.mat]: 2096it [00:45, 48.38it/s]\u001b[A\n",
      "[RECORD 1_20131030.mat]: 2101it [00:45, 48.40it/s]\u001b[A\n",
      "[RECORD 1_20131030.mat]: 2106it [00:46, 48.43it/s]\u001b[A\n",
      "[RECORD 1_20131030.mat]: 2111it [00:46, 48.43it/s]\u001b[A\n",
      "[RECORD 1_20131030.mat]: 2116it [00:46, 48.42it/s]\u001b[A\n",
      "[RECORD 1_20131030.mat]: 2121it [00:46, 48.36it/s]\u001b[A\n",
      "[RECORD 1_20131030.mat]: 2126it [00:46, 48.29it/s]\u001b[A\n",
      "[RECORD 1_20131030.mat]: 2131it [00:46, 47.65it/s]\u001b[A\n",
      "[RECORD 1_20131030.mat]: 2136it [00:46, 47.96it/s]\u001b[A\n",
      "[RECORD 1_20131030.mat]: 2141it [00:46, 48.18it/s]\u001b[A\n",
      "[RECORD 1_20131030.mat]: 2146it [00:46, 48.36it/s]\u001b[A\n",
      "[RECORD 1_20131030.mat]: 2151it [00:47, 48.50it/s]\u001b[A\n",
      "[RECORD 1_20131030.mat]: 2156it [00:47, 48.59it/s]\u001b[A\n",
      "[RECORD 1_20131030.mat]: 2161it [00:47, 48.68it/s]\u001b[A\n",
      "[RECORD 1_20131030.mat]: 2166it [00:47, 48.72it/s]\u001b[A\n",
      "[RECORD 1_20131030.mat]: 2171it [00:47, 48.77it/s]\u001b[A\n",
      "[RECORD 1_20131030.mat]: 2176it [00:47, 48.70it/s]\u001b[A\n",
      "[RECORD 1_20131030.mat]: 2181it [00:47, 48.62it/s]\u001b[A\n",
      "[RECORD 1_20131030.mat]: 2186it [00:47, 48.60it/s]\u001b[A\n",
      "[RECORD 1_20131030.mat]: 2191it [00:47, 48.56it/s]\u001b[A\n",
      "[RECORD 1_20131030.mat]: 2196it [00:47, 48.53it/s]\u001b[A\n",
      "[RECORD 1_20131030.mat]: 2201it [00:48, 48.55it/s]\u001b[A\n",
      "[RECORD 1_20131030.mat]: 2206it [00:48, 48.55it/s]\u001b[A\n",
      "[RECORD 1_20131030.mat]: 2211it [00:48, 48.55it/s]\u001b[A\n",
      "[RECORD 1_20131030.mat]: 2216it [00:48, 48.46it/s]\u001b[A\n",
      "[RECORD 1_20131030.mat]: 2221it [00:48, 48.43it/s]\u001b[A\n",
      "[RECORD 1_20131030.mat]: 2226it [00:48, 48.27it/s]\u001b[A\n",
      "[RECORD 1_20131030.mat]: 2231it [00:48, 48.30it/s]\u001b[A\n",
      "[RECORD 1_20131030.mat]: 2236it [00:48, 48.36it/s]\u001b[A\n",
      "[RECORD 1_20131030.mat]: 2241it [00:48, 48.42it/s]\u001b[A\n",
      "[RECORD 1_20131030.mat]: 2246it [00:48, 48.46it/s]\u001b[A\n",
      "[RECORD 1_20131030.mat]: 2251it [00:49, 48.46it/s]\u001b[A\n",
      "[RECORD 1_20131030.mat]: 2256it [00:49, 48.44it/s]\u001b[A\n",
      "[RECORD 1_20131030.mat]: 2261it [00:49, 48.43it/s]\u001b[A\n",
      "[RECORD 1_20131030.mat]: 2266it [00:49, 48.22it/s]\u001b[A\n",
      "[RECORD 1_20131030.mat]: 2271it [00:49, 48.28it/s]\u001b[A\n",
      "[RECORD 1_20131030.mat]: 2276it [00:49, 48.35it/s]\u001b[A\n",
      "[RECORD 1_20131030.mat]: 2281it [00:49, 48.19it/s]\u001b[A\n",
      "[RECORD 1_20131030.mat]: 2286it [00:49, 48.30it/s]\u001b[A\n",
      "[RECORD 1_20131030.mat]: 2291it [00:49, 48.41it/s]\u001b[A\n",
      "[RECORD 1_20131030.mat]: 2296it [00:50, 48.47it/s]\u001b[A\n",
      "[RECORD 1_20131030.mat]: 2301it [00:50, 48.46it/s]\u001b[A\n",
      "[RECORD 1_20131030.mat]: 2306it [00:50, 48.52it/s]\u001b[A\n",
      "[RECORD 1_20131030.mat]: 2311it [00:50, 48.57it/s]\u001b[A\n",
      "[RECORD 1_20131030.mat]: 2316it [00:50, 48.63it/s]\u001b[A\n",
      "[RECORD 1_20131030.mat]: 2321it [00:50, 48.54it/s]\u001b[A\n",
      "[RECORD 1_20131030.mat]: 2326it [00:50, 48.47it/s]\u001b[A\n",
      "[RECORD 1_20131030.mat]: 2331it [00:50, 48.54it/s]\u001b[A\n",
      "[RECORD 1_20131030.mat]: 2336it [00:50, 48.60it/s]\u001b[A\n",
      "[RECORD 1_20131030.mat]: 2341it [00:50, 48.67it/s]\u001b[A\n",
      "[RECORD 1_20131030.mat]: 2346it [00:51, 48.70it/s]\u001b[A\n",
      "[RECORD 1_20131030.mat]: 2351it [00:51, 48.74it/s]\u001b[A\n",
      "[RECORD 1_20131030.mat]: 2356it [00:51, 48.70it/s]\u001b[A\n",
      "[RECORD 1_20131030.mat]: 2361it [00:51, 48.74it/s]\u001b[A\n",
      "[RECORD 1_20131030.mat]: 2366it [00:51, 48.68it/s]\u001b[A\n",
      "[RECORD 1_20131030.mat]: 2371it [00:51, 48.69it/s]\u001b[A\n",
      "[RECORD 1_20131030.mat]: 2376it [00:51, 48.69it/s]\u001b[A\n",
      "[RECORD 1_20131030.mat]: 2381it [00:51, 48.63it/s]\u001b[A\n",
      "[RECORD 1_20131030.mat]: 2386it [00:51, 48.43it/s]\u001b[A\n",
      "[RECORD 1_20131030.mat]: 2391it [00:51, 48.46it/s]\u001b[A\n",
      "[RECORD 1_20131030.mat]: 2396it [00:52, 48.46it/s]\u001b[A\n",
      "[RECORD 1_20131030.mat]: 2401it [00:52, 48.42it/s]\u001b[A\n",
      "[RECORD 1_20131030.mat]: 2406it [00:52, 48.46it/s]\u001b[A\n",
      "[RECORD 1_20131030.mat]: 2411it [00:52, 48.48it/s]\u001b[A\n",
      "[RECORD 1_20131030.mat]: 2416it [00:52, 48.48it/s]\u001b[A\n",
      "[RECORD 1_20131030.mat]: 2421it [00:52, 48.32it/s]\u001b[A\n",
      "[RECORD 1_20131030.mat]: 2426it [00:52, 48.35it/s]\u001b[A\n",
      "[RECORD 1_20131030.mat]: 2431it [00:52, 48.42it/s]\u001b[A\n",
      "[RECORD 1_20131030.mat]: 2436it [00:52, 48.45it/s]\u001b[A\n",
      "[RECORD 1_20131030.mat]: 2441it [00:52, 48.42it/s]\u001b[A\n",
      "[RECORD 1_20131030.mat]: 2446it [00:53, 48.45it/s]\u001b[A\n",
      "[RECORD 1_20131030.mat]: 2451it [00:53, 48.47it/s]\u001b[A\n",
      "[RECORD 1_20131030.mat]: 2456it [00:53, 48.48it/s]\u001b[A\n",
      "[RECORD 1_20131030.mat]: 2461it [00:53, 48.49it/s]\u001b[A\n",
      "[RECORD 1_20131030.mat]: 2466it [00:53, 48.53it/s]\u001b[A\n",
      "[RECORD 1_20131030.mat]: 2471it [00:53, 48.52it/s]\u001b[A\n",
      "[RECORD 1_20131030.mat]: 2476it [00:53, 48.55it/s]\u001b[A\n",
      "[RECORD 1_20131030.mat]: 2481it [00:53, 48.60it/s]\u001b[A\n",
      "[RECORD 1_20131030.mat]: 2486it [00:53, 48.18it/s]\u001b[A\n",
      "[RECORD 1_20131030.mat]: 2491it [00:54, 47.93it/s]\u001b[A\n",
      "[RECORD 1_20131030.mat]: 2496it [00:54, 48.21it/s]\u001b[A\n",
      "[RECORD 1_20131030.mat]: 2501it [00:54, 48.40it/s]\u001b[A\n",
      "[RECORD 1_20131030.mat]: 2506it [00:54, 48.51it/s]\u001b[A\n",
      "[RECORD 1_20131030.mat]: 2511it [00:54, 48.61it/s]\u001b[A\n",
      "[RECORD 1_20131030.mat]: 2516it [00:54, 48.51it/s]\u001b[A\n",
      "[RECORD 1_20131030.mat]: 2521it [00:54, 48.52it/s]\u001b[A\n",
      "[RECORD 1_20131030.mat]: 2526it [00:54, 48.57it/s]\u001b[A\n",
      "[RECORD 1_20131030.mat]: 2531it [00:54, 48.63it/s]\u001b[A\n",
      "[RECORD 1_20131030.mat]: 2536it [00:54, 48.66it/s]\u001b[A\n",
      "[RECORD 1_20131030.mat]: 2541it [00:55, 48.65it/s]\u001b[A\n",
      "[RECORD 1_20131030.mat]: 2546it [00:55, 48.65it/s]\u001b[A\n",
      "[RECORD 1_20131030.mat]: 2551it [00:55, 48.45it/s]\u001b[A\n",
      "[RECORD 1_20131030.mat]: 2556it [00:55, 48.26it/s]\u001b[A\n",
      "[RECORD 1_20131030.mat]: 2561it [00:55, 48.38it/s]\u001b[A\n",
      "[RECORD 1_20131030.mat]: 2566it [00:55, 47.87it/s]\u001b[A\n",
      "[RECORD 1_20131030.mat]: 2571it [00:55, 47.87it/s]\u001b[A\n",
      "[RECORD 1_20131030.mat]: 2576it [00:55, 47.64it/s]\u001b[A\n",
      "[RECORD 1_20131030.mat]: 2581it [00:55, 47.91it/s]\u001b[A\n",
      "[RECORD 1_20131030.mat]: 2586it [00:55, 47.95it/s]\u001b[A\n",
      "[RECORD 1_20131030.mat]: 2591it [00:56, 48.07it/s]\u001b[A\n",
      "[RECORD 1_20131030.mat]: 2596it [00:56, 48.22it/s]\u001b[A\n",
      "[RECORD 1_20131030.mat]: 2601it [00:56, 48.30it/s]\u001b[A\n",
      "[RECORD 1_20131030.mat]: 2606it [00:56, 48.36it/s]\u001b[A\n",
      "[RECORD 1_20131030.mat]: 2611it [00:56, 48.37it/s]\u001b[A\n",
      "[RECORD 1_20131030.mat]: 2616it [00:56, 48.25it/s]\u001b[A\n",
      "[RECORD 1_20131030.mat]: 2621it [00:56, 48.22it/s]\u001b[A\n",
      "[RECORD 1_20131030.mat]: 2626it [00:56, 48.25it/s]\u001b[A\n",
      "[RECORD 1_20131030.mat]: 2631it [00:56, 48.05it/s]\u001b[A\n",
      "[RECORD 1_20131030.mat]: 2636it [00:57, 48.20it/s]\u001b[A\n",
      "[RECORD 1_20131030.mat]: 2641it [00:57, 48.31it/s]\u001b[A\n",
      "[RECORD 1_20131030.mat]: 2646it [00:57, 48.38it/s]\u001b[A\n",
      "[RECORD 1_20131030.mat]: 2651it [00:57, 48.23it/s]\u001b[A\n",
      "[RECORD 1_20131030.mat]: 2656it [00:57, 47.98it/s]\u001b[A\n",
      "[RECORD 1_20131030.mat]: 2661it [00:57, 48.18it/s]\u001b[A\n",
      "[RECORD 1_20131030.mat]: 2666it [00:57, 48.01it/s]\u001b[A\n",
      "[RECORD 1_20131030.mat]: 2671it [00:57, 47.58it/s]\u001b[A\n",
      "[RECORD 1_20131030.mat]: 2676it [00:57, 47.44it/s]\u001b[A\n",
      "[RECORD 1_20131030.mat]: 2681it [00:57, 47.44it/s]\u001b[A\n",
      "[RECORD 1_20131030.mat]: 2686it [00:58, 47.35it/s]\u001b[A\n",
      "[RECORD 1_20131030.mat]: 2691it [00:58, 47.21it/s]\u001b[A\n",
      "[RECORD 1_20131030.mat]: 2696it [00:58, 47.19it/s]\u001b[A\n",
      "[RECORD 1_20131030.mat]: 2701it [00:58, 47.24it/s]\u001b[A\n",
      "[RECORD 1_20131030.mat]: 2706it [00:58, 47.19it/s]\u001b[A\n",
      "[RECORD 1_20131030.mat]: 2711it [00:58, 46.92it/s]\u001b[A\n",
      "[RECORD 1_20131030.mat]: 2716it [00:58, 46.71it/s]\u001b[A\n",
      "[RECORD 1_20131030.mat]: 2721it [00:58, 46.48it/s]\u001b[A\n",
      "[RECORD 1_20131030.mat]: 2726it [00:58, 46.84it/s]\u001b[A\n",
      "[RECORD 1_20131030.mat]: 2731it [00:59, 47.18it/s]\u001b[A\n",
      "[RECORD 1_20131030.mat]: 2736it [00:59, 47.36it/s]\u001b[A\n",
      "[RECORD 1_20131030.mat]: 2741it [00:59, 47.61it/s]\u001b[A\n",
      "[RECORD 1_20131030.mat]: 2746it [00:59, 47.79it/s]\u001b[A\n",
      "[RECORD 1_20131030.mat]: 2751it [00:59, 47.97it/s]\u001b[A\n",
      "[RECORD 1_20131030.mat]: 2756it [00:59, 48.04it/s]\u001b[A\n",
      "[RECORD 1_20131030.mat]: 2761it [00:59, 47.78it/s]\u001b[A\n",
      "[RECORD 1_20131030.mat]: 2766it [00:59, 47.65it/s]\u001b[A\n",
      "[RECORD 1_20131030.mat]: 2771it [00:59, 47.53it/s]\u001b[A\n",
      "[RECORD 1_20131030.mat]: 2776it [00:59, 46.91it/s]\u001b[A\n",
      "[RECORD 1_20131030.mat]: 2781it [01:00, 47.20it/s]\u001b[A\n",
      "[RECORD 1_20131030.mat]: 2786it [01:00, 47.49it/s]\u001b[A\n",
      "[RECORD 1_20131030.mat]: 2791it [01:00, 47.20it/s]\u001b[A\n",
      "[RECORD 1_20131030.mat]: 2796it [01:00, 47.49it/s]\u001b[A\n",
      "[RECORD 1_20131030.mat]: 2801it [01:00, 47.63it/s]\u001b[A\n",
      "[RECORD 1_20131030.mat]: 2806it [01:00, 47.54it/s]\u001b[A\n",
      "[RECORD 1_20131030.mat]: 2811it [01:00, 47.58it/s]\u001b[A\n",
      "[RECORD 1_20131030.mat]: 2816it [01:00, 47.65it/s]\u001b[A\n",
      "[RECORD 1_20131030.mat]: 2821it [01:00, 47.76it/s]\u001b[A\n",
      "[RECORD 1_20131030.mat]: 2826it [01:01, 47.83it/s]\u001b[A\n",
      "[RECORD 1_20131030.mat]: 2831it [01:01, 48.00it/s]\u001b[A\n",
      "[RECORD 1_20131030.mat]: 2836it [01:01, 48.02it/s]\u001b[A\n",
      "[RECORD 1_20131030.mat]: 2841it [01:01, 48.03it/s]\u001b[A\n",
      "[RECORD 1_20131030.mat]: 2846it [01:01, 48.04it/s]\u001b[A\n",
      "[RECORD 1_20131030.mat]: 2851it [01:01, 48.02it/s]\u001b[A\n",
      "[RECORD 1_20131030.mat]: 2856it [01:01, 47.97it/s]\u001b[A\n",
      "[RECORD 1_20131030.mat]: 2861it [01:01, 47.99it/s]\u001b[A\n",
      "[RECORD 1_20131030.mat]: 2866it [01:01, 47.96it/s]\u001b[A\n",
      "[RECORD 1_20131030.mat]: 2871it [01:01, 47.99it/s]\u001b[A\n",
      "[RECORD 1_20131030.mat]: 2876it [01:02, 48.07it/s]\u001b[A\n",
      "[RECORD 1_20131030.mat]: 2881it [01:02, 48.13it/s]\u001b[A\n",
      "[RECORD 1_20131030.mat]: 2886it [01:02, 48.12it/s]\u001b[A\n",
      "[RECORD 1_20131030.mat]: 2891it [01:02, 47.68it/s]\u001b[A\n",
      "[RECORD 1_20131030.mat]: 2896it [01:02, 46.77it/s]\u001b[A\n",
      "[RECORD 1_20131030.mat]: 2901it [01:02, 46.41it/s]\u001b[A\n",
      "[RECORD 1_20131030.mat]: 2906it [01:02, 46.86it/s]\u001b[A\n",
      "[RECORD 1_20131030.mat]: 2911it [01:02, 47.30it/s]\u001b[A\n",
      "[RECORD 1_20131030.mat]: 2916it [01:02, 47.65it/s]\u001b[A\n",
      "[RECORD 1_20131030.mat]: 2921it [01:03, 47.97it/s]\u001b[A\n",
      "[RECORD 1_20131030.mat]: 2926it [01:03, 48.17it/s]\u001b[A\n",
      "[RECORD 1_20131030.mat]: 2931it [01:03, 48.31it/s]\u001b[A\n",
      "[RECORD 1_20131030.mat]: 2936it [01:03, 48.35it/s]\u001b[A\n",
      "[RECORD 1_20131030.mat]: 2941it [01:03, 48.46it/s]\u001b[A\n",
      "[RECORD 1_20131030.mat]: 2946it [01:03, 48.47it/s]\u001b[A\n",
      "[RECORD 1_20131030.mat]: 2951it [01:03, 48.52it/s]\u001b[A\n",
      "[RECORD 1_20131030.mat]: 2956it [01:03, 48.39it/s]\u001b[A\n",
      "[RECORD 1_20131030.mat]: 2961it [01:03, 48.35it/s]\u001b[A\n",
      "[RECORD 1_20131030.mat]: 2966it [01:03, 48.33it/s]\u001b[A\n",
      "[RECORD 1_20131030.mat]: 2971it [01:04, 48.29it/s]\u001b[A\n",
      "[RECORD 1_20131030.mat]: 2976it [01:04, 48.25it/s]\u001b[A\n",
      "[RECORD 1_20131030.mat]: 2981it [01:04, 48.35it/s]\u001b[A\n",
      "[RECORD 1_20131030.mat]: 2986it [01:04, 48.31it/s]\u001b[A\n",
      "[RECORD 1_20131030.mat]: 2991it [01:04, 48.23it/s]\u001b[A\n",
      "[RECORD 1_20131030.mat]: 2996it [01:04, 47.66it/s]\u001b[A\n",
      "[RECORD 1_20131030.mat]: 3001it [01:04, 47.63it/s]\u001b[A\n",
      "[RECORD 1_20131030.mat]: 3006it [01:04, 47.70it/s]\u001b[A\n",
      "[RECORD 1_20131030.mat]: 3011it [01:04, 47.80it/s]\u001b[A\n",
      "[RECORD 1_20131030.mat]: 3016it [01:04, 47.77it/s]\u001b[A\n",
      "[RECORD 1_20131030.mat]: 3021it [01:05, 47.91it/s]\u001b[A\n",
      "[RECORD 1_20131030.mat]: 3026it [01:05, 47.99it/s]\u001b[A\n",
      "[RECORD 1_20131030.mat]: 3031it [01:05, 48.17it/s]\u001b[A\n",
      "[RECORD 1_20131030.mat]: 3036it [01:05, 48.20it/s]\u001b[A\n",
      "[RECORD 1_20131030.mat]: 3041it [01:05, 48.31it/s]\u001b[A\n",
      "[RECORD 1_20131030.mat]: 3046it [01:05, 48.44it/s]\u001b[A\n",
      "[RECORD 1_20131030.mat]: 3051it [01:05, 48.34it/s]\u001b[A\n",
      "[RECORD 1_20131030.mat]: 3056it [01:05, 48.39it/s]\u001b[A\n",
      "[RECORD 1_20131030.mat]: 3061it [01:05, 48.46it/s]\u001b[A\n",
      "[RECORD 1_20131030.mat]: 3066it [01:06, 48.53it/s]\u001b[A\n",
      "[RECORD 1_20131030.mat]: 3071it [01:06, 48.57it/s]\u001b[A\n",
      "[RECORD 1_20131030.mat]: 3076it [01:06, 48.62it/s]\u001b[A\n",
      "[RECORD 1_20131030.mat]: 3081it [01:06, 48.61it/s]\u001b[A\n",
      "[RECORD 1_20131030.mat]: 3086it [01:06, 48.60it/s]\u001b[A\n",
      "[RECORD 1_20131030.mat]: 3091it [01:06, 48.48it/s]\u001b[A\n",
      "[RECORD 1_20131030.mat]: 3096it [01:06, 48.20it/s]\u001b[A\n",
      "[RECORD 1_20131030.mat]: 3101it [01:06, 48.28it/s]\u001b[A\n",
      "[RECORD 1_20131030.mat]: 3106it [01:06, 48.35it/s]\u001b[A\n",
      "[RECORD 1_20131030.mat]: 3111it [01:06, 48.43it/s]\u001b[A\n",
      "[RECORD 1_20131030.mat]: 3116it [01:07, 48.45it/s]\u001b[A\n",
      "[RECORD 1_20131030.mat]: 3121it [01:07, 48.52it/s]\u001b[A\n",
      "[RECORD 1_20131030.mat]: 3126it [01:07, 48.57it/s]\u001b[A\n",
      "[RECORD 1_20131030.mat]: 3131it [01:07, 48.61it/s]\u001b[A\n",
      "[RECORD 1_20131030.mat]: 3136it [01:07, 48.66it/s]\u001b[A\n",
      "[RECORD 1_20131030.mat]: 3141it [01:07, 48.25it/s]\u001b[A\n",
      "[RECORD 1_20131030.mat]: 3146it [01:07, 48.34it/s]\u001b[A\n",
      "[RECORD 1_20131030.mat]: 3151it [01:07, 48.39it/s]\u001b[A\n",
      "[RECORD 1_20131030.mat]: 3156it [01:07, 48.47it/s]\u001b[A\n",
      "[RECORD 1_20131030.mat]: 3161it [01:07, 48.51it/s]\u001b[A\n",
      "[RECORD 1_20131030.mat]: 3166it [01:08, 48.57it/s]\u001b[A\n",
      "[RECORD 1_20131030.mat]: 3171it [01:08, 48.54it/s]\u001b[A\n",
      "[RECORD 1_20131030.mat]: 3176it [01:08, 48.60it/s]\u001b[A\n",
      "[RECORD 1_20131030.mat]: 3181it [01:08, 48.56it/s]\u001b[A\n",
      "[RECORD 1_20131030.mat]: 3186it [01:08, 48.55it/s]\u001b[A\n",
      "[RECORD 1_20131030.mat]: 3191it [01:08, 48.41it/s]\u001b[A\n",
      "[RECORD 1_20131030.mat]: 3196it [01:08, 48.42it/s]\u001b[A\n",
      "[RECORD 1_20131030.mat]: 3201it [01:08, 48.51it/s]\u001b[A\n",
      "[RECORD 1_20131030.mat]: 3206it [01:08, 48.57it/s]\u001b[A\n",
      "[RECORD 1_20131030.mat]: 3211it [01:09, 48.59it/s]\u001b[A\n",
      "[RECORD 1_20131030.mat]: 3216it [01:09, 48.68it/s]\u001b[A\n",
      "[RECORD 1_20131030.mat]: 3221it [01:09, 48.62it/s]\u001b[A\n",
      "[RECORD 1_20131030.mat]: 3226it [01:09, 48.64it/s]\u001b[A\n",
      "[RECORD 1_20131030.mat]: 3231it [01:09, 48.67it/s]\u001b[A\n",
      "[RECORD 1_20131030.mat]: 3236it [01:09, 48.65it/s]\u001b[A\n",
      "[RECORD 1_20131030.mat]: 3241it [01:09, 48.65it/s]\u001b[A\n",
      "[RECORD 1_20131030.mat]: 3246it [01:09, 48.66it/s]\u001b[A\n",
      "[RECORD 1_20131030.mat]: 3251it [01:09, 48.58it/s]\u001b[A\n",
      "[RECORD 1_20131030.mat]: 3256it [01:09, 48.57it/s]\u001b[A\n",
      "[RECORD 1_20131030.mat]: 3261it [01:10, 48.52it/s]\u001b[A\n",
      "[RECORD 1_20131030.mat]: 3266it [01:10, 48.53it/s]\u001b[A\n",
      "[RECORD 1_20131030.mat]: 3271it [01:10, 48.47it/s]\u001b[A\n",
      "[RECORD 1_20131030.mat]: 3276it [01:10, 48.54it/s]\u001b[A\n",
      "[RECORD 1_20131030.mat]: 3281it [01:10, 48.51it/s]\u001b[A\n",
      "[RECORD 1_20131030.mat]: 3286it [01:10, 48.38it/s]\u001b[A\n",
      "[RECORD 1_20131030.mat]: 3291it [01:10, 48.34it/s]\u001b[A\n",
      "[RECORD 1_20131030.mat]: 3296it [01:10, 48.32it/s]\u001b[A\n",
      "[RECORD 1_20131030.mat]: 3301it [01:10, 48.40it/s]\u001b[A\n",
      "[RECORD 1_20131030.mat]: 3306it [01:10, 48.49it/s]\u001b[A\n",
      "[RECORD 1_20131030.mat]: 3311it [01:11, 48.55it/s]\u001b[A\n",
      "[RECORD 1_20131030.mat]: 3316it [01:11, 48.64it/s]\u001b[A\n",
      "[RECORD 1_20131030.mat]: 3321it [01:11, 48.61it/s]\u001b[A\n",
      "[RECORD 1_20131030.mat]: 3326it [01:11, 48.64it/s]\u001b[A\n",
      "[RECORD 1_20131030.mat]: 3331it [01:11, 48.64it/s]\u001b[A\n",
      "[RECORD 1_20131030.mat]: 3336it [01:11, 48.64it/s]\u001b[A\n",
      "[RECORD 1_20131030.mat]: 3341it [01:11, 48.65it/s]\u001b[A\n",
      "[RECORD 1_20131030.mat]: 3346it [01:11, 48.65it/s]\u001b[A\n",
      "[RECORD 1_20131030.mat]: 3351it [01:11, 48.64it/s]\u001b[A\n",
      "[RECORD 1_20131030.mat]: 3356it [01:11, 48.69it/s]\u001b[A\n",
      "[RECORD 1_20131030.mat]: 3361it [01:12, 48.69it/s]\u001b[A\n",
      "[RECORD 1_20131030.mat]: 3366it [01:12, 48.73it/s]\u001b[A\n",
      "[RECORD 1_20131030.mat]: 3371it [01:12, 48.73it/s]\u001b[A\n",
      "[RECORD 1_20131030.mat]: 3376it [01:12, 48.79it/s]\u001b[A\n",
      "[RECORD 1_20131030.mat]: 3381it [01:12, 48.68it/s]\u001b[A\n",
      "[RECORD 1_20131030.mat]: 3386it [01:12, 48.68it/s]\u001b[A\n",
      "[RECORD 1_20131030.mat]: 3391it [01:12, 48.66it/s]\u001b[A\n",
      "                                                  \u001b[A[2025-02-10 11:07:16] INFO (torcheeg/MainThread) ✅ | All processed EEG data has been cached to .torcheeg/datasets_1739156762044_ci4j2.\n",
      "[2025-02-10 11:07:16] INFO (torcheeg/MainThread) 😊 | Please set \u001b[92mio_path\u001b[0m to \u001b[92m.torcheeg/datasets_1739156762044_ci4j2\u001b[0m for the next run, to directly read from the cache if you wish to skip the data processing step.\n"
     ]
    },
    {
     "name": "stdout",
     "output_type": "stream",
     "text": [
      "torch.Size([128, 9, 9])\n",
      "2\n",
      "3394\n"
     ]
    }
   ],
   "source": [
    "import torch\n",
    "import logging\n",
    "import torch.nn as nn\n",
    "from tqdm import tqdm\n",
    "from pathlib import Path\n",
    "from torch import autograd\n",
    "from sklearn import model_selection\n",
    "from torch.utils.data import Dataset, Subset, DataLoader\n",
    "\n",
    "from torcheeg.datasets import SEEDDataset\n",
    "from torcheeg.datasets.constants import SEED_CHANNEL_LOCATION_DICT\n",
    "import scipy\n",
    "from torcheeg.transforms import Select,BandSignal,Compose,ToTensor,Lambda\n",
    "from to import ToGrid\n",
    "from typing import Callable, Dict, Union, List\n",
    "import numpy as np\n",
    "import soxr\n",
    "from downsample import SetSamplingRate\n",
    "from baseline import BaselineCorrection\n",
    "from torcheeg.transforms import EEGTransform, Select,BandSignal,Compose,ToTensor\n",
    "\n",
    "dataset = SEEDDataset(root_path='../../seed',\n",
    "                                #   io_path='.torcheeg/datasets_1737122480267_T387E',\n",
    "                        chunk_size=200,  # 1 second\n",
    "                        overlap = 0,\n",
    "                        offline_transform=Compose(\n",
    "                                [\n",
    "                                SetSamplingRate(origin_sampling_rate=200,target_sampling_rate=128),\n",
    "                                BandSignal(sampling_rate=128,band_dict={'frequency_range':[8,40]})\n",
    "                                ]),\n",
    "                        online_transform=Compose(\n",
    "                                # [ToTensor()]),\n",
    "                                [ToGrid(SEED_CHANNEL_LOCATION_DICT),ToTensor()]),\n",
    "                \n",
    "                        label_transform=Compose([\n",
    "                                Select('emotion'),\n",
    "                                Lambda(lambda x: x + 1)\n",
    "                                ]),\n",
    "                        num_worker=8\n",
    ")\n",
    "print(dataset[0][0].shape) #EEG shape(1,30,128)\n",
    "print(dataset[0][1])  # label (int)\n",
    "print(len(dataset))"
   ]
  },
  {
   "cell_type": "code",
   "execution_count": 1,
   "metadata": {},
   "outputs": [
    {
     "name": "stderr",
     "output_type": "stream",
     "text": [
      "/root/autodl-tmp/conda/envs/law/lib/python3.8/site-packages/tqdm/auto.py:21: TqdmWarning: IProgress not found. Please update jupyter and ipywidgets. See https://ipywidgets.readthedocs.io/en/stable/user_install.html\n",
      "  from .autonotebook import tqdm as notebook_tqdm\n"
     ]
    }
   ],
   "source": [
    "import torch\n",
    "torch.cuda.empty_cache()\n"
   ]
  },
  {
   "cell_type": "code",
   "execution_count": 2,
   "metadata": {},
   "outputs": [
    {
     "name": "stderr",
     "output_type": "stream",
     "text": [
      "[2025-02-12 16:56:09] INFO (torcheeg/MainThread) 🔍 | Processing EEG data. Processed EEG data has been cached to \u001b[92m.torcheeg/datasets_1739350569768_uk8ry\u001b[0m.\n",
      "[2025-02-12 16:56:09] INFO (torcheeg/MainThread) ⏳ | Monitoring the detailed processing of a record for debugging. The processing of other records will only be reported in percentage to keep it clean.\n",
      "[PROCESS]: 100%|██████████| 1/1 [00:00<00:00, 80.88it/s]\n",
      "\n",
      "[RECORD ../../mi_swin/subdataset/sourcedata/sub-45/sub-45_task-motor-imagery_eeg.mat]: 0it [00:00, ?it/s]\u001b[A\n",
      "[RECORD ../../mi_swin/subdataset/sourcedata/sub-45/sub-45_task-motor-imagery_eeg.mat]: 1it [00:00,  4.46it/s]\u001b[A\n",
      "[RECORD ../../mi_swin/subdataset/sourcedata/sub-45/sub-45_task-motor-imagery_eeg.mat]: 2it [00:00,  5.86it/s]\u001b[A\n",
      "[RECORD ../../mi_swin/subdataset/sourcedata/sub-45/sub-45_task-motor-imagery_eeg.mat]: 12it [00:00, 36.57it/s]\u001b[A\n",
      "[RECORD ../../mi_swin/subdataset/sourcedata/sub-45/sub-45_task-motor-imagery_eeg.mat]: 22it [00:00, 56.46it/s]\u001b[A\n",
      "[RECORD ../../mi_swin/subdataset/sourcedata/sub-45/sub-45_task-motor-imagery_eeg.mat]: 32it [00:00, 67.84it/s]\u001b[A\n",
      "[RECORD ../../mi_swin/subdataset/sourcedata/sub-45/sub-45_task-motor-imagery_eeg.mat]: 40it [00:00, 71.12it/s]\u001b[A\n",
      "[RECORD ../../mi_swin/subdataset/sourcedata/sub-45/sub-45_task-motor-imagery_eeg.mat]: 49it [00:00, 76.56it/s]\u001b[A\n",
      "[RECORD ../../mi_swin/subdataset/sourcedata/sub-45/sub-45_task-motor-imagery_eeg.mat]: 58it [00:00, 80.16it/s]\u001b[A\n",
      "[RECORD ../../mi_swin/subdataset/sourcedata/sub-45/sub-45_task-motor-imagery_eeg.mat]: 67it [00:01, 80.00it/s]\u001b[A\n",
      "[RECORD ../../mi_swin/subdataset/sourcedata/sub-45/sub-45_task-motor-imagery_eeg.mat]: 76it [00:01, 75.55it/s]\u001b[A\n",
      "[RECORD ../../mi_swin/subdataset/sourcedata/sub-45/sub-45_task-motor-imagery_eeg.mat]: 85it [00:01, 77.05it/s]\u001b[A\n",
      "[RECORD ../../mi_swin/subdataset/sourcedata/sub-45/sub-45_task-motor-imagery_eeg.mat]: 95it [00:01, 83.12it/s]\u001b[A\n",
      "[RECORD ../../mi_swin/subdataset/sourcedata/sub-45/sub-45_task-motor-imagery_eeg.mat]: 106it [00:01, 90.67it/s]\u001b[A\n",
      "[RECORD ../../mi_swin/subdataset/sourcedata/sub-45/sub-45_task-motor-imagery_eeg.mat]: 117it [00:01, 93.01it/s]\u001b[A\n",
      "[RECORD ../../mi_swin/subdataset/sourcedata/sub-45/sub-45_task-motor-imagery_eeg.mat]: 127it [00:01, 94.55it/s]\u001b[A\n",
      "[RECORD ../../mi_swin/subdataset/sourcedata/sub-45/sub-45_task-motor-imagery_eeg.mat]: 137it [00:01, 95.91it/s]\u001b[A\n",
      "[RECORD ../../mi_swin/subdataset/sourcedata/sub-45/sub-45_task-motor-imagery_eeg.mat]: 148it [00:01, 96.63it/s]\u001b[A\n",
      "[RECORD ../../mi_swin/subdataset/sourcedata/sub-45/sub-45_task-motor-imagery_eeg.mat]: 159it [00:02, 97.43it/s]\u001b[A\n",
      "[RECORD ../../mi_swin/subdataset/sourcedata/sub-45/sub-45_task-motor-imagery_eeg.mat]: 170it [00:02, 97.63it/s]\u001b[A\n",
      "[RECORD ../../mi_swin/subdataset/sourcedata/sub-45/sub-45_task-motor-imagery_eeg.mat]: 180it [00:02, 98.16it/s]\u001b[A\n",
      "[RECORD ../../mi_swin/subdataset/sourcedata/sub-45/sub-45_task-motor-imagery_eeg.mat]: 192it [00:02, 100.84it/s]\u001b[A\n",
      "                                                                                                                \u001b[A[2025-02-12 16:56:14] INFO (torcheeg/MainThread) ✅ | All processed EEG data has been cached to .torcheeg/datasets_1739350569768_uk8ry.\n",
      "[2025-02-12 16:56:14] INFO (torcheeg/MainThread) 😊 | Please set \u001b[92mio_path\u001b[0m to \u001b[92m.torcheeg/datasets_1739350569768_uk8ry\u001b[0m for the next run, to directly read from the cache if you wish to skip the data processing step.\n"
     ]
    },
    {
     "name": "stdout",
     "output_type": "stream",
     "text": [
      "torch.Size([128, 9, 9, 1])\n",
      "0\n",
      "160\n"
     ]
    }
   ],
   "source": [
    "import torch\n",
    "import logging\n",
    "import torch.nn as nn\n",
    "from tqdm import tqdm\n",
    "from pathlib import Path\n",
    "from torch import autograd\n",
    "from sklearn import model_selection\n",
    "from torch.utils.data import Dataset, Subset, DataLoader\n",
    "\n",
    "from strokes import StrokePatientsMIDataset\n",
    "from strokesdict import STROKEPATIENTSMI_LOCATION_DICT\n",
    "import scipy\n",
    "from torcheeg.transforms import Select,BandSignal,Compose\n",
    "from to import ToGrid, ToTensor\n",
    "from typing import Callable, Dict, Union, List\n",
    "import numpy as np\n",
    "import soxr\n",
    "from downsample import SetSamplingRate\n",
    "from baseline import BaselineCorrection\n",
    "from torcheeg.transforms import EEGTransform, Select,BandSignal,Compose,ToTensor\n",
    "\n",
    "dataset = StrokePatientsMIDataset(root_path='../../mi_swin/subdataset',\n",
    "                                #   io_path='.torcheeg/datasets_1739340308797_NcxaA',\n",
    "                        chunk_size=500,  # 1 second\n",
    "                        overlap = 0,\n",
    "                        offline_transform=Compose(\n",
    "                                [BaselineCorrection(),\n",
    "                                SetSamplingRate(origin_sampling_rate=500,target_sampling_rate=128),\n",
    "                                BandSignal(sampling_rate=128,band_dict={'frequency_range':[8,40]})\n",
    "                                ]),\n",
    "                        online_transform=Compose(\n",
    "                                # [ToTensor()]),\n",
    "                                [ToGrid(STROKEPATIENTSMI_LOCATION_DICT),ToTensor()]),\n",
    "                \n",
    "                        label_transform=Select('label'),\n",
    "                        num_worker=8\n",
    ")\n",
    "print(dataset[0][0].shape) #EEG shape(1,30,128)\n",
    "print(dataset[0][1])  # label (int)\n",
    "print(len(dataset))"
   ]
  },
  {
   "cell_type": "code",
   "execution_count": 3,
   "metadata": {},
   "outputs": [],
   "source": [
    "import os\n",
    "import shutil\n",
    "\n",
    "def delete_folder_if_exists(target_folder_name):\n",
    "    # 获取父文件夹中的所有内容\n",
    "    parent_folder = os.getcwd()\n",
    "    for folder_name in os.listdir(parent_folder):\n",
    "        folder_path = os.path.join(parent_folder, folder_name)\n",
    "\n",
    "        # 检查是否是文件夹并且名称是否匹配\n",
    "        if os.path.isdir(folder_path) and folder_name == target_folder_name:\n",
    "            try:\n",
    "                # 删除目标文件夹\n",
    "                shutil.rmtree(folder_path)\n",
    "                print(f\"已删除文件夹: {folder_path}\")\n",
    "            except Exception as e:\n",
    "                print(f\"删除文件夹 {folder_path} 时出错: {e}\")"
   ]
  },
  {
   "cell_type": "code",
   "execution_count": 4,
   "metadata": {},
   "outputs": [
    {
     "name": "stderr",
     "output_type": "stream",
     "text": [
      "[2025-02-12 16:56:21] INFO (torcheeg/MainThread) 📊 | Create the split of train and test set.\n",
      "[2025-02-12 16:56:21] INFO (torcheeg/MainThread) 😊 | Please set \u001b[92msplit_path\u001b[0m to \u001b[92m.torcheeg/model_selection_1739350581083_W1YOf\u001b[0m for the next run, if you want to use the same setting for the experiment.\n",
      "/root/autodl-tmp/conda/envs/law/lib/python3.8/site-packages/torch/functional.py:568: UserWarning: torch.meshgrid: in an upcoming release, it will be required to pass the indexing argument. (Triggered internally at  /opt/conda/conda-bld/pytorch_1646755903507/work/aten/src/ATen/native/TensorShape.cpp:2228.)\n",
      "  return _VF.meshgrid(tensors, **kwargs)  # type: ignore[attr-defined]\n",
      "GPU available: True (cuda), used: True\n",
      "TPU available: False, using: 0 TPU cores\n",
      "IPU available: False, using: 0 IPUs\n",
      "HPU available: False, using: 0 HPUs\n",
      "LOCAL_RANK: 0 - CUDA_VISIBLE_DEVICES: [0]\n",
      "/root/autodl-tmp/conda/envs/law/lib/python3.8/site-packages/pytorch_lightning/trainer/connectors/data_connector.py:224: PossibleUserWarning: The dataloader, train_dataloader, does not have many workers which may be a bottleneck. Consider increasing the value of the `num_workers` argument` (try 128 which is the number of cpus on this machine) in the `DataLoader` init to improve performance.\n",
      "  rank_zero_warn(\n"
     ]
    },
    {
     "name": "stdout",
     "output_type": "stream",
     "text": [
      "Epoch 0: 100%|██████████| 30/30 [00:05<00:00,  5.12it/s, loss=6.65, train_loss=1.400, train_accuracy=0.250]  "
     ]
    },
    {
     "name": "stderr",
     "output_type": "stream",
     "text": [
      "Metric train_loss improved. New best score: 1.401\n"
     ]
    },
    {
     "name": "stdout",
     "output_type": "stream",
     "text": [
      "Epoch 0: 100%|██████████| 30/30 [00:05<00:00,  5.12it/s, loss=6.65, train_loss=1.400, train_accuracy=0.250]"
     ]
    },
    {
     "name": "stderr",
     "output_type": "stream",
     "text": [
      "/root/autodl-tmp/conda/envs/law/lib/python3.8/site-packages/pytorch_lightning/core/module.py:493: UserWarning: You called `self.log('train_loss', ..., logger=True)` but have no logger configured. You can enable one by doing `Trainer(logger=ALogger(...))`\n",
      "  rank_zero_warn(\n",
      "/root/autodl-tmp/conda/envs/law/lib/python3.8/site-packages/pytorch_lightning/core/module.py:493: UserWarning: You called `self.log('train_accuracy', ..., logger=True)` but have no logger configured. You can enable one by doing `Trainer(logger=ALogger(...))`\n",
      "  rank_zero_warn(\n",
      "[2025-02-12 16:56:41] INFO (torcheeg/MainThread) \n",
      "[Train] train_loss: 8.975 train_accuracy: 0.558 \n",
      "\n"
     ]
    },
    {
     "name": "stdout",
     "output_type": "stream",
     "text": [
      "Epoch 1: 100%|██████████| 30/30 [00:05<00:00,  5.97it/s, loss=1.37, train_loss=6.640, train_accuracy=0.750]   "
     ]
    },
    {
     "name": "stderr",
     "output_type": "stream",
     "text": [
      "[2025-02-12 16:56:46] INFO (torcheeg/MainThread) \n",
      "[Train] train_loss: 1.786 train_accuracy: 0.742 \n",
      "\n"
     ]
    },
    {
     "name": "stdout",
     "output_type": "stream",
     "text": [
      "Epoch 2: 100%|██████████| 30/30 [00:05<00:00,  5.97it/s, loss=0.821, train_loss=1.460, train_accuracy=0.750]  "
     ]
    },
    {
     "name": "stderr",
     "output_type": "stream",
     "text": [
      "[2025-02-12 16:56:51] INFO (torcheeg/MainThread) \n",
      "[Train] train_loss: 1.194 train_accuracy: 0.850 \n",
      "\n"
     ]
    },
    {
     "name": "stdout",
     "output_type": "stream",
     "text": [
      "Epoch 3: 100%|██████████| 30/30 [00:05<00:00,  5.99it/s, loss=0.378, train_loss=0.00182, train_accuracy=1.000] "
     ]
    },
    {
     "name": "stderr",
     "output_type": "stream",
     "text": [
      "Metric train_loss improved by 1.399 >= min_delta = 0.0. New best score: 0.002\n"
     ]
    },
    {
     "name": "stdout",
     "output_type": "stream",
     "text": [
      "Epoch 3: 100%|██████████| 30/30 [00:05<00:00,  5.98it/s, loss=0.378, train_loss=0.00182, train_accuracy=1.000]"
     ]
    },
    {
     "name": "stderr",
     "output_type": "stream",
     "text": [
      "[2025-02-12 16:56:56] INFO (torcheeg/MainThread) \n",
      "[Train] train_loss: 0.428 train_accuracy: 0.883 \n",
      "\n"
     ]
    },
    {
     "name": "stdout",
     "output_type": "stream",
     "text": [
      "Epoch 4: 100%|██████████| 30/30 [00:04<00:00,  6.01it/s, loss=0.707, train_loss=0.000159, train_accuracy=1.000]"
     ]
    },
    {
     "name": "stderr",
     "output_type": "stream",
     "text": [
      "Metric train_loss improved by 0.002 >= min_delta = 0.0. New best score: 0.000\n"
     ]
    },
    {
     "name": "stdout",
     "output_type": "stream",
     "text": [
      "Epoch 4: 100%|██████████| 30/30 [00:04<00:00,  6.00it/s, loss=0.707, train_loss=0.000159, train_accuracy=1.000]"
     ]
    },
    {
     "name": "stderr",
     "output_type": "stream",
     "text": [
      "[2025-02-12 16:57:01] INFO (torcheeg/MainThread) \n",
      "[Train] train_loss: 0.683 train_accuracy: 0.875 \n",
      "\n"
     ]
    },
    {
     "name": "stdout",
     "output_type": "stream",
     "text": [
      "Epoch 5: 100%|██████████| 30/30 [00:05<00:00,  5.97it/s, loss=0.738, train_loss=1.730, train_accuracy=0.750]   "
     ]
    },
    {
     "name": "stderr",
     "output_type": "stream",
     "text": [
      "[2025-02-12 16:57:06] INFO (torcheeg/MainThread) \n",
      "[Train] train_loss: 0.513 train_accuracy: 0.900 \n",
      "\n"
     ]
    },
    {
     "name": "stdout",
     "output_type": "stream",
     "text": [
      "Epoch 6: 100%|██████████| 30/30 [00:05<00:00,  5.98it/s, loss=0.277, train_loss=0.00365, train_accuracy=1.000]  "
     ]
    },
    {
     "name": "stderr",
     "output_type": "stream",
     "text": [
      "[2025-02-12 16:57:11] INFO (torcheeg/MainThread) \n",
      "[Train] train_loss: 0.231 train_accuracy: 0.958 \n",
      "\n"
     ]
    },
    {
     "name": "stdout",
     "output_type": "stream",
     "text": [
      "Epoch 7: 100%|██████████| 30/30 [00:05<00:00,  5.98it/s, loss=0.348, train_loss=0.0623, train_accuracy=1.000]  "
     ]
    },
    {
     "name": "stderr",
     "output_type": "stream",
     "text": [
      "[2025-02-12 16:57:16] INFO (torcheeg/MainThread) \n",
      "[Train] train_loss: 0.264 train_accuracy: 0.967 \n",
      "\n"
     ]
    },
    {
     "name": "stdout",
     "output_type": "stream",
     "text": [
      "Epoch 8: 100%|██████████| 30/30 [00:05<00:00,  5.99it/s, loss=0.00962, train_loss=0.00214, train_accuracy=1.000] "
     ]
    },
    {
     "name": "stderr",
     "output_type": "stream",
     "text": [
      "[2025-02-12 16:57:21] INFO (torcheeg/MainThread) \n",
      "[Train] train_loss: 0.014 train_accuracy: 0.992 \n",
      "\n"
     ]
    },
    {
     "name": "stdout",
     "output_type": "stream",
     "text": [
      "Epoch 9: 100%|██████████| 30/30 [00:05<00:00,  5.98it/s, loss=0.00368, train_loss=4.47e-6, train_accuracy=1.000]  "
     ]
    },
    {
     "name": "stderr",
     "output_type": "stream",
     "text": [
      "Metric train_loss improved by 0.000 >= min_delta = 0.0. New best score: 0.000\n"
     ]
    },
    {
     "name": "stdout",
     "output_type": "stream",
     "text": [
      "Epoch 9: 100%|██████████| 30/30 [00:05<00:00,  5.98it/s, loss=0.00368, train_loss=4.47e-6, train_accuracy=1.000]"
     ]
    },
    {
     "name": "stderr",
     "output_type": "stream",
     "text": [
      "[2025-02-12 16:57:26] INFO (torcheeg/MainThread) \n",
      "[Train] train_loss: 0.003 train_accuracy: 1.000 \n",
      "\n"
     ]
    },
    {
     "name": "stdout",
     "output_type": "stream",
     "text": [
      "Epoch 10: 100%|██████████| 30/30 [00:05<00:00,  5.99it/s, loss=0.000257, train_loss=1.31e-5, train_accuracy=1.000] "
     ]
    },
    {
     "name": "stderr",
     "output_type": "stream",
     "text": [
      "[2025-02-12 16:57:31] INFO (torcheeg/MainThread) \n",
      "[Train] train_loss: 0.000 train_accuracy: 1.000 \n",
      "\n"
     ]
    },
    {
     "name": "stdout",
     "output_type": "stream",
     "text": [
      "Epoch 11: 100%|██████████| 30/30 [00:04<00:00,  6.02it/s, loss=0.00047, train_loss=0.000105, train_accuracy=1.000] "
     ]
    },
    {
     "name": "stderr",
     "output_type": "stream",
     "text": [
      "[2025-02-12 16:57:36] INFO (torcheeg/MainThread) \n",
      "[Train] train_loss: 0.003 train_accuracy: 1.000 \n",
      "\n"
     ]
    },
    {
     "name": "stdout",
     "output_type": "stream",
     "text": [
      "Epoch 12: 100%|██████████| 30/30 [00:04<00:00,  6.02it/s, loss=0.00153, train_loss=2.98e-8, train_accuracy=1.000] "
     ]
    },
    {
     "name": "stderr",
     "output_type": "stream",
     "text": [
      "Metric train_loss improved by 0.000 >= min_delta = 0.0. New best score: 0.000\n"
     ]
    },
    {
     "name": "stdout",
     "output_type": "stream",
     "text": [
      "Epoch 12: 100%|██████████| 30/30 [00:04<00:00,  6.02it/s, loss=0.00153, train_loss=2.98e-8, train_accuracy=1.000]"
     ]
    },
    {
     "name": "stderr",
     "output_type": "stream",
     "text": [
      "[2025-02-12 16:57:41] INFO (torcheeg/MainThread) \n",
      "[Train] train_loss: 0.006 train_accuracy: 1.000 \n",
      "\n"
     ]
    },
    {
     "name": "stdout",
     "output_type": "stream",
     "text": [
      "Epoch 13: 100%|██████████| 30/30 [00:05<00:00,  5.99it/s, loss=8.89e-05, train_loss=0.000309, train_accuracy=1.000]"
     ]
    },
    {
     "name": "stderr",
     "output_type": "stream",
     "text": [
      "[2025-02-12 16:57:46] INFO (torcheeg/MainThread) \n",
      "[Train] train_loss: 0.003 train_accuracy: 1.000 \n",
      "\n"
     ]
    },
    {
     "name": "stdout",
     "output_type": "stream",
     "text": [
      "Epoch 14: 100%|██████████| 30/30 [00:05<00:00,  5.99it/s, loss=5.13e-05, train_loss=2.65e-6, train_accuracy=1.000] "
     ]
    },
    {
     "name": "stderr",
     "output_type": "stream",
     "text": [
      "[2025-02-12 16:57:51] INFO (torcheeg/MainThread) \n",
      "[Train] train_loss: 0.000 train_accuracy: 1.000 \n",
      "\n"
     ]
    },
    {
     "name": "stdout",
     "output_type": "stream",
     "text": [
      "Epoch 15: 100%|██████████| 30/30 [00:04<00:00,  6.02it/s, loss=2.31e-05, train_loss=0.000, train_accuracy=1.000]   "
     ]
    },
    {
     "name": "stderr",
     "output_type": "stream",
     "text": [
      "Metric train_loss improved by 0.000 >= min_delta = 0.0. New best score: 0.000\n"
     ]
    },
    {
     "name": "stdout",
     "output_type": "stream",
     "text": [
      "Epoch 15: 100%|██████████| 30/30 [00:04<00:00,  6.02it/s, loss=2.31e-05, train_loss=0.000, train_accuracy=1.000]"
     ]
    },
    {
     "name": "stderr",
     "output_type": "stream",
     "text": [
      "[2025-02-12 16:57:56] INFO (torcheeg/MainThread) \n",
      "[Train] train_loss: 0.000 train_accuracy: 1.000 \n",
      "\n"
     ]
    },
    {
     "name": "stdout",
     "output_type": "stream",
     "text": [
      "Epoch 16: 100%|██████████| 30/30 [00:05<00:00,  5.99it/s, loss=3.93e-05, train_loss=2.65e-6, train_accuracy=1.000] "
     ]
    },
    {
     "name": "stderr",
     "output_type": "stream",
     "text": [
      "[2025-02-12 16:58:01] INFO (torcheeg/MainThread) \n",
      "[Train] train_loss: 0.000 train_accuracy: 1.000 \n",
      "\n"
     ]
    },
    {
     "name": "stdout",
     "output_type": "stream",
     "text": [
      "Epoch 17: 100%|██████████| 30/30 [00:04<00:00,  6.01it/s, loss=3.5e-05, train_loss=1.28e-5, train_accuracy=1.000]  "
     ]
    },
    {
     "name": "stderr",
     "output_type": "stream",
     "text": [
      "[2025-02-12 16:58:06] INFO (torcheeg/MainThread) \n",
      "[Train] train_loss: 0.000 train_accuracy: 1.000 \n",
      "\n"
     ]
    },
    {
     "name": "stdout",
     "output_type": "stream",
     "text": [
      "Epoch 18: 100%|██████████| 30/30 [00:04<00:00,  6.01it/s, loss=0.000767, train_loss=0.000256, train_accuracy=1.000]"
     ]
    },
    {
     "name": "stderr",
     "output_type": "stream",
     "text": [
      "[2025-02-12 16:58:11] INFO (torcheeg/MainThread) \n",
      "[Train] train_loss: 0.001 train_accuracy: 1.000 \n",
      "\n"
     ]
    },
    {
     "name": "stdout",
     "output_type": "stream",
     "text": [
      "Epoch 19: 100%|██████████| 30/30 [00:04<00:00,  6.01it/s, loss=3.24e-05, train_loss=0.000422, train_accuracy=1.000]"
     ]
    },
    {
     "name": "stderr",
     "output_type": "stream",
     "text": [
      "[2025-02-12 16:58:16] INFO (torcheeg/MainThread) \n",
      "[Train] train_loss: 0.000 train_accuracy: 1.000 \n",
      "\n",
      "`Trainer.fit` stopped: `max_epochs=20` reached.\n"
     ]
    },
    {
     "name": "stdout",
     "output_type": "stream",
     "text": [
      "Epoch 19: 100%|██████████| 30/30 [00:04<00:00,  6.00it/s, loss=3.24e-05, train_loss=0.000422, train_accuracy=1.000]\n"
     ]
    },
    {
     "name": "stderr",
     "output_type": "stream",
     "text": [
      "GPU available: True (cuda), used: True\n",
      "TPU available: False, using: 0 TPU cores\n",
      "IPU available: False, using: 0 IPUs\n",
      "HPU available: False, using: 0 HPUs\n",
      "Missing logger folder: /root/autodl-tmp/.autodl/kinlaw/GANSER/mycode/lightning_logs\n",
      "LOCAL_RANK: 0 - CUDA_VISIBLE_DEVICES: [0]\n",
      "/root/autodl-tmp/conda/envs/law/lib/python3.8/site-packages/pytorch_lightning/trainer/connectors/data_connector.py:224: PossibleUserWarning: The dataloader, test_dataloader 0, does not have many workers which may be a bottleneck. Consider increasing the value of the `num_workers` argument` (try 128 which is the number of cpus on this machine) in the `DataLoader` init to improve performance.\n",
      "  rank_zero_warn(\n"
     ]
    },
    {
     "name": "stdout",
     "output_type": "stream",
     "text": [
      "Testing DataLoader 0: 100%|██████████| 10/10 [00:00<00:00, 73.84it/s]"
     ]
    },
    {
     "name": "stderr",
     "output_type": "stream",
     "text": [
      "[2025-02-12 16:58:26] INFO (torcheeg/MainThread) \n",
      "[Test] test_loss: 2.051 test_accuracy: 0.725 \n",
      "\n"
     ]
    },
    {
     "name": "stdout",
     "output_type": "stream",
     "text": [
      "Testing DataLoader 0: 100%|██████████| 10/10 [00:00<00:00, 68.55it/s]\n",
      "────────────────────────────────────────────────────────────────────────────────────────────────────────────────────────\n",
      "       Test metric             DataLoader 0\n",
      "────────────────────────────────────────────────────────────────────────────────────────────────────────────────────────\n",
      "      test_accuracy         0.7250000238418579\n",
      "        test_loss            2.051154851913452\n",
      "────────────────────────────────────────────────────────────────────────────────────────────────────────────────────────\n",
      "已删除文件夹: /root/autodl-tmp/.autodl/kinlaw/GANSER/mycode/lightning_logs\n"
     ]
    },
    {
     "name": "stderr",
     "output_type": "stream",
     "text": [
      "GPU available: True (cuda), used: True\n",
      "TPU available: False, using: 0 TPU cores\n",
      "IPU available: False, using: 0 IPUs\n",
      "HPU available: False, using: 0 HPUs\n",
      "LOCAL_RANK: 0 - CUDA_VISIBLE_DEVICES: [0]\n",
      "/root/autodl-tmp/conda/envs/law/lib/python3.8/site-packages/pytorch_lightning/trainer/connectors/data_connector.py:224: PossibleUserWarning: The dataloader, train_dataloader, does not have many workers which may be a bottleneck. Consider increasing the value of the `num_workers` argument` (try 128 which is the number of cpus on this machine) in the `DataLoader` init to improve performance.\n",
      "  rank_zero_warn(\n"
     ]
    },
    {
     "name": "stdout",
     "output_type": "stream",
     "text": [
      "Epoch 0: 100%|██████████| 30/30 [00:05<00:00,  5.97it/s, loss=4.39, train_loss=1.570, train_accuracy=0.250]"
     ]
    },
    {
     "name": "stderr",
     "output_type": "stream",
     "text": [
      "Metric train_loss improved. New best score: 1.570\n"
     ]
    },
    {
     "name": "stdout",
     "output_type": "stream",
     "text": [
      "Epoch 0: 100%|██████████| 30/30 [00:05<00:00,  5.96it/s, loss=4.39, train_loss=1.570, train_accuracy=0.250]"
     ]
    },
    {
     "name": "stderr",
     "output_type": "stream",
     "text": [
      "/root/autodl-tmp/conda/envs/law/lib/python3.8/site-packages/pytorch_lightning/core/module.py:493: UserWarning: You called `self.log('train_loss', ..., logger=True)` but have no logger configured. You can enable one by doing `Trainer(logger=ALogger(...))`\n",
      "  rank_zero_warn(\n",
      "/root/autodl-tmp/conda/envs/law/lib/python3.8/site-packages/pytorch_lightning/core/module.py:493: UserWarning: You called `self.log('train_accuracy', ..., logger=True)` but have no logger configured. You can enable one by doing `Trainer(logger=ALogger(...))`\n",
      "  rank_zero_warn(\n",
      "[2025-02-12 16:58:46] INFO (torcheeg/MainThread) \n",
      "[Train] train_loss: 7.148 train_accuracy: 0.558 \n",
      "\n"
     ]
    },
    {
     "name": "stdout",
     "output_type": "stream",
     "text": [
      "Epoch 1: 100%|██████████| 30/30 [00:05<00:00,  5.96it/s, loss=1.54, train_loss=0.0379, train_accuracy=1.000]  "
     ]
    },
    {
     "name": "stderr",
     "output_type": "stream",
     "text": [
      "Metric train_loss improved by 1.532 >= min_delta = 0.0. New best score: 0.038\n"
     ]
    },
    {
     "name": "stdout",
     "output_type": "stream",
     "text": [
      "Epoch 1: 100%|██████████| 30/30 [00:05<00:00,  5.96it/s, loss=1.54, train_loss=0.0379, train_accuracy=1.000]"
     ]
    },
    {
     "name": "stderr",
     "output_type": "stream",
     "text": [
      "[2025-02-12 16:58:51] INFO (torcheeg/MainThread) \n",
      "[Train] train_loss: 2.019 train_accuracy: 0.758 \n",
      "\n"
     ]
    },
    {
     "name": "stdout",
     "output_type": "stream",
     "text": [
      "Epoch 2: 100%|██████████| 30/30 [00:05<00:00,  5.95it/s, loss=0.555, train_loss=3.59e-5, train_accuracy=1.000]"
     ]
    },
    {
     "name": "stderr",
     "output_type": "stream",
     "text": [
      "Metric train_loss improved by 0.038 >= min_delta = 0.0. New best score: 0.000\n"
     ]
    },
    {
     "name": "stdout",
     "output_type": "stream",
     "text": [
      "Epoch 2: 100%|██████████| 30/30 [00:05<00:00,  5.95it/s, loss=0.555, train_loss=3.59e-5, train_accuracy=1.000]"
     ]
    },
    {
     "name": "stderr",
     "output_type": "stream",
     "text": [
      "[2025-02-12 16:58:56] INFO (torcheeg/MainThread) \n",
      "[Train] train_loss: 0.598 train_accuracy: 0.817 \n",
      "\n"
     ]
    },
    {
     "name": "stdout",
     "output_type": "stream",
     "text": [
      "Epoch 3: 100%|██████████| 30/30 [00:05<00:00,  5.99it/s, loss=0.132, train_loss=0.0145, train_accuracy=1.000]   "
     ]
    },
    {
     "name": "stderr",
     "output_type": "stream",
     "text": [
      "[2025-02-12 16:59:01] INFO (torcheeg/MainThread) \n",
      "[Train] train_loss: 0.093 train_accuracy: 0.942 \n",
      "\n"
     ]
    },
    {
     "name": "stdout",
     "output_type": "stream",
     "text": [
      "Epoch 4: 100%|██████████| 30/30 [00:05<00:00,  5.99it/s, loss=0.0154, train_loss=4.02e-5, train_accuracy=1.000] "
     ]
    },
    {
     "name": "stderr",
     "output_type": "stream",
     "text": [
      "[2025-02-12 16:59:06] INFO (torcheeg/MainThread) \n",
      "[Train] train_loss: 0.030 train_accuracy: 0.983 \n",
      "\n"
     ]
    },
    {
     "name": "stdout",
     "output_type": "stream",
     "text": [
      "Epoch 5: 100%|██████████| 30/30 [00:05<00:00,  5.97it/s, loss=0.0298, train_loss=2.98e-8, train_accuracy=1.000] "
     ]
    },
    {
     "name": "stderr",
     "output_type": "stream",
     "text": [
      "Metric train_loss improved by 0.000 >= min_delta = 0.0. New best score: 0.000\n"
     ]
    },
    {
     "name": "stdout",
     "output_type": "stream",
     "text": [
      "Epoch 5: 100%|██████████| 30/30 [00:05<00:00,  5.97it/s, loss=0.0298, train_loss=2.98e-8, train_accuracy=1.000]"
     ]
    },
    {
     "name": "stderr",
     "output_type": "stream",
     "text": [
      "[2025-02-12 16:59:11] INFO (torcheeg/MainThread) \n",
      "[Train] train_loss: 0.057 train_accuracy: 0.983 \n",
      "\n"
     ]
    },
    {
     "name": "stdout",
     "output_type": "stream",
     "text": [
      "Epoch 6: 100%|██████████| 30/30 [00:05<00:00,  5.98it/s, loss=0.00225, train_loss=4.26e-5, train_accuracy=1.000] "
     ]
    },
    {
     "name": "stderr",
     "output_type": "stream",
     "text": [
      "[2025-02-12 16:59:16] INFO (torcheeg/MainThread) \n",
      "[Train] train_loss: 0.006 train_accuracy: 1.000 \n",
      "\n"
     ]
    },
    {
     "name": "stdout",
     "output_type": "stream",
     "text": [
      "Epoch 7: 100%|██████████| 30/30 [00:04<00:00,  6.02it/s, loss=0.000274, train_loss=0.000, train_accuracy=1.000]   "
     ]
    },
    {
     "name": "stderr",
     "output_type": "stream",
     "text": [
      "Metric train_loss improved by 0.000 >= min_delta = 0.0. New best score: 0.000\n"
     ]
    },
    {
     "name": "stdout",
     "output_type": "stream",
     "text": [
      "Epoch 7: 100%|██████████| 30/30 [00:04<00:00,  6.01it/s, loss=0.000274, train_loss=0.000, train_accuracy=1.000]"
     ]
    },
    {
     "name": "stderr",
     "output_type": "stream",
     "text": [
      "[2025-02-12 16:59:21] INFO (torcheeg/MainThread) \n",
      "[Train] train_loss: 0.002 train_accuracy: 1.000 \n",
      "\n"
     ]
    },
    {
     "name": "stdout",
     "output_type": "stream",
     "text": [
      "Epoch 8: 100%|██████████| 30/30 [00:05<00:00,  5.97it/s, loss=0.000467, train_loss=0.00702, train_accuracy=1.000] "
     ]
    },
    {
     "name": "stderr",
     "output_type": "stream",
     "text": [
      "[2025-02-12 16:59:26] INFO (torcheeg/MainThread) \n",
      "[Train] train_loss: 0.001 train_accuracy: 1.000 \n",
      "\n"
     ]
    },
    {
     "name": "stdout",
     "output_type": "stream",
     "text": [
      "Epoch 9: 100%|██████████| 30/30 [00:04<00:00,  6.01it/s, loss=0.000412, train_loss=9.43e-5, train_accuracy=1.000] "
     ]
    },
    {
     "name": "stderr",
     "output_type": "stream",
     "text": [
      "[2025-02-12 16:59:31] INFO (torcheeg/MainThread) \n",
      "[Train] train_loss: 0.000 train_accuracy: 1.000 \n",
      "\n"
     ]
    },
    {
     "name": "stdout",
     "output_type": "stream",
     "text": [
      "Epoch 10: 100%|██████████| 30/30 [00:05<00:00,  6.00it/s, loss=0.00382, train_loss=5.96e-8, train_accuracy=1.000]  "
     ]
    },
    {
     "name": "stderr",
     "output_type": "stream",
     "text": [
      "[2025-02-12 16:59:36] INFO (torcheeg/MainThread) \n",
      "[Train] train_loss: 0.006 train_accuracy: 1.000 \n",
      "\n"
     ]
    },
    {
     "name": "stdout",
     "output_type": "stream",
     "text": [
      "Epoch 11: 100%|██████████| 30/30 [00:04<00:00,  6.00it/s, loss=0.000117, train_loss=6.75e-5, train_accuracy=1.000]"
     ]
    },
    {
     "name": "stderr",
     "output_type": "stream",
     "text": [
      "[2025-02-12 16:59:41] INFO (torcheeg/MainThread) \n",
      "[Train] train_loss: 0.000 train_accuracy: 1.000 \n",
      "\n"
     ]
    },
    {
     "name": "stdout",
     "output_type": "stream",
     "text": [
      "Epoch 12: 100%|██████████| 30/30 [00:05<00:00,  5.99it/s, loss=0.00118, train_loss=0.000, train_accuracy=1.000]    "
     ]
    },
    {
     "name": "stderr",
     "output_type": "stream",
     "text": [
      "[2025-02-12 16:59:46] INFO (torcheeg/MainThread) \n",
      "[Train] train_loss: 0.001 train_accuracy: 1.000 \n",
      "\n"
     ]
    },
    {
     "name": "stdout",
     "output_type": "stream",
     "text": [
      "Epoch 13: 100%|██████████| 30/30 [00:04<00:00,  6.01it/s, loss=1.06e-05, train_loss=1.38e-5, train_accuracy=1.000] "
     ]
    },
    {
     "name": "stderr",
     "output_type": "stream",
     "text": [
      "[2025-02-12 16:59:51] INFO (torcheeg/MainThread) \n",
      "[Train] train_loss: 0.000 train_accuracy: 1.000 \n",
      "\n"
     ]
    },
    {
     "name": "stdout",
     "output_type": "stream",
     "text": [
      "Epoch 14: 100%|██████████| 30/30 [00:05<00:00,  6.00it/s, loss=0.00829, train_loss=4.08e-6, train_accuracy=1.000]  "
     ]
    },
    {
     "name": "stderr",
     "output_type": "stream",
     "text": [
      "[2025-02-12 16:59:56] INFO (torcheeg/MainThread) \n",
      "[Train] train_loss: 0.006 train_accuracy: 1.000 \n",
      "\n"
     ]
    },
    {
     "name": "stdout",
     "output_type": "stream",
     "text": [
      "Epoch 15: 100%|██████████| 30/30 [00:04<00:00,  6.00it/s, loss=1.93, train_loss=1.990, train_accuracy=0.750]     "
     ]
    },
    {
     "name": "stderr",
     "output_type": "stream",
     "text": [
      "[2025-02-12 17:00:01] INFO (torcheeg/MainThread) \n",
      "[Train] train_loss: 1.318 train_accuracy: 0.900 \n",
      "\n"
     ]
    },
    {
     "name": "stdout",
     "output_type": "stream",
     "text": [
      "Epoch 16: 100%|██████████| 30/30 [00:05<00:00,  5.99it/s, loss=4.64, train_loss=0.115, train_accuracy=1.000]  "
     ]
    },
    {
     "name": "stderr",
     "output_type": "stream",
     "text": [
      "[2025-02-12 17:00:07] INFO (torcheeg/MainThread) \n",
      "[Train] train_loss: 4.177 train_accuracy: 0.600 \n",
      "\n"
     ]
    },
    {
     "name": "stdout",
     "output_type": "stream",
     "text": [
      "Epoch 17: 100%|██████████| 30/30 [00:04<00:00,  6.01it/s, loss=1.85, train_loss=0.791, train_accuracy=0.750]"
     ]
    },
    {
     "name": "stderr",
     "output_type": "stream",
     "text": [
      "Monitored metric train_loss did not improve in the last 10 records. Best score: 0.000. Signaling Trainer to stop.\n"
     ]
    },
    {
     "name": "stdout",
     "output_type": "stream",
     "text": [
      "Epoch 17: 100%|██████████| 30/30 [00:04<00:00,  6.01it/s, loss=1.85, train_loss=0.791, train_accuracy=0.750]"
     ]
    },
    {
     "name": "stderr",
     "output_type": "stream",
     "text": [
      "[2025-02-12 17:00:12] INFO (torcheeg/MainThread) \n",
      "[Train] train_loss: 2.525 train_accuracy: 0.567 \n",
      "\n"
     ]
    },
    {
     "name": "stdout",
     "output_type": "stream",
     "text": [
      "Epoch 17: 100%|██████████| 30/30 [00:04<00:00,  6.00it/s, loss=1.85, train_loss=0.791, train_accuracy=0.750]\n"
     ]
    },
    {
     "name": "stderr",
     "output_type": "stream",
     "text": [
      "GPU available: True (cuda), used: True\n",
      "TPU available: False, using: 0 TPU cores\n",
      "IPU available: False, using: 0 IPUs\n",
      "HPU available: False, using: 0 HPUs\n",
      "Missing logger folder: /root/autodl-tmp/.autodl/kinlaw/GANSER/mycode/lightning_logs\n",
      "LOCAL_RANK: 0 - CUDA_VISIBLE_DEVICES: [0]\n",
      "/root/autodl-tmp/conda/envs/law/lib/python3.8/site-packages/pytorch_lightning/trainer/connectors/data_connector.py:224: PossibleUserWarning: The dataloader, test_dataloader 0, does not have many workers which may be a bottleneck. Consider increasing the value of the `num_workers` argument` (try 128 which is the number of cpus on this machine) in the `DataLoader` init to improve performance.\n",
      "  rank_zero_warn(\n"
     ]
    },
    {
     "name": "stdout",
     "output_type": "stream",
     "text": [
      "Testing DataLoader 0: 100%|██████████| 10/10 [00:00<00:00, 66.26it/s]"
     ]
    },
    {
     "name": "stderr",
     "output_type": "stream",
     "text": [
      "[2025-02-12 17:00:22] INFO (torcheeg/MainThread) \n",
      "[Test] test_loss: 0.845 test_accuracy: 0.450 \n",
      "\n"
     ]
    },
    {
     "name": "stdout",
     "output_type": "stream",
     "text": [
      "Testing DataLoader 0: 100%|██████████| 10/10 [00:00<00:00, 63.50it/s]\n",
      "────────────────────────────────────────────────────────────────────────────────────────────────────────────────────────\n",
      "       Test metric             DataLoader 0\n",
      "────────────────────────────────────────────────────────────────────────────────────────────────────────────────────────\n",
      "      test_accuracy         0.44999998807907104\n",
      "        test_loss           0.8450236320495605\n",
      "────────────────────────────────────────────────────────────────────────────────────────────────────────────────────────\n",
      "已删除文件夹: /root/autodl-tmp/.autodl/kinlaw/GANSER/mycode/lightning_logs\n"
     ]
    },
    {
     "name": "stderr",
     "output_type": "stream",
     "text": [
      "GPU available: True (cuda), used: True\n",
      "TPU available: False, using: 0 TPU cores\n",
      "IPU available: False, using: 0 IPUs\n",
      "HPU available: False, using: 0 HPUs\n",
      "LOCAL_RANK: 0 - CUDA_VISIBLE_DEVICES: [0]\n",
      "/root/autodl-tmp/conda/envs/law/lib/python3.8/site-packages/pytorch_lightning/trainer/connectors/data_connector.py:224: PossibleUserWarning: The dataloader, train_dataloader, does not have many workers which may be a bottleneck. Consider increasing the value of the `num_workers` argument` (try 128 which is the number of cpus on this machine) in the `DataLoader` init to improve performance.\n",
      "  rank_zero_warn(\n"
     ]
    },
    {
     "name": "stdout",
     "output_type": "stream",
     "text": [
      "Epoch 0: 100%|██████████| 30/30 [00:05<00:00,  5.21it/s, loss=4.72, train_loss=0.506, train_accuracy=0.750]  "
     ]
    },
    {
     "name": "stderr",
     "output_type": "stream",
     "text": [
      "Metric train_loss improved. New best score: 0.506\n"
     ]
    },
    {
     "name": "stdout",
     "output_type": "stream",
     "text": [
      "Epoch 0: 100%|██████████| 30/30 [00:05<00:00,  5.21it/s, loss=4.72, train_loss=0.506, train_accuracy=0.750]"
     ]
    },
    {
     "name": "stderr",
     "output_type": "stream",
     "text": [
      "/root/autodl-tmp/conda/envs/law/lib/python3.8/site-packages/pytorch_lightning/core/module.py:493: UserWarning: You called `self.log('train_loss', ..., logger=True)` but have no logger configured. You can enable one by doing `Trainer(logger=ALogger(...))`\n",
      "  rank_zero_warn(\n",
      "/root/autodl-tmp/conda/envs/law/lib/python3.8/site-packages/pytorch_lightning/core/module.py:493: UserWarning: You called `self.log('train_accuracy', ..., logger=True)` but have no logger configured. You can enable one by doing `Trainer(logger=ALogger(...))`\n",
      "  rank_zero_warn(\n",
      "[2025-02-12 17:00:44] INFO (torcheeg/MainThread) \n",
      "[Train] train_loss: 8.381 train_accuracy: 0.575 \n",
      "\n"
     ]
    },
    {
     "name": "stdout",
     "output_type": "stream",
     "text": [
      "Epoch 1: 100%|██████████| 30/30 [00:04<00:00,  6.02it/s, loss=3.18, train_loss=3.300, train_accuracy=0.750]  "
     ]
    },
    {
     "name": "stderr",
     "output_type": "stream",
     "text": [
      "[2025-02-12 17:00:49] INFO (torcheeg/MainThread) \n",
      "[Train] train_loss: 2.752 train_accuracy: 0.783 \n",
      "\n"
     ]
    },
    {
     "name": "stdout",
     "output_type": "stream",
     "text": [
      "Epoch 2: 100%|██████████| 30/30 [00:05<00:00,  5.98it/s, loss=0.534, train_loss=0.107, train_accuracy=1.000]   "
     ]
    },
    {
     "name": "stderr",
     "output_type": "stream",
     "text": [
      "Metric train_loss improved by 0.398 >= min_delta = 0.0. New best score: 0.107\n"
     ]
    },
    {
     "name": "stdout",
     "output_type": "stream",
     "text": [
      "Epoch 2: 100%|██████████| 30/30 [00:05<00:00,  5.98it/s, loss=0.534, train_loss=0.107, train_accuracy=1.000]"
     ]
    },
    {
     "name": "stderr",
     "output_type": "stream",
     "text": [
      "[2025-02-12 17:00:54] INFO (torcheeg/MainThread) \n",
      "[Train] train_loss: 0.935 train_accuracy: 0.842 \n",
      "\n"
     ]
    },
    {
     "name": "stdout",
     "output_type": "stream",
     "text": [
      "Epoch 3: 100%|██████████| 30/30 [00:05<00:00,  5.95it/s, loss=0.195, train_loss=0.0657, train_accuracy=1.000]  "
     ]
    },
    {
     "name": "stderr",
     "output_type": "stream",
     "text": [
      "Metric train_loss improved by 0.042 >= min_delta = 0.0. New best score: 0.066\n"
     ]
    },
    {
     "name": "stdout",
     "output_type": "stream",
     "text": [
      "Epoch 3: 100%|██████████| 30/30 [00:05<00:00,  5.95it/s, loss=0.195, train_loss=0.0657, train_accuracy=1.000]"
     ]
    },
    {
     "name": "stderr",
     "output_type": "stream",
     "text": [
      "[2025-02-12 17:00:59] INFO (torcheeg/MainThread) \n",
      "[Train] train_loss: 0.183 train_accuracy: 0.942 \n",
      "\n"
     ]
    },
    {
     "name": "stdout",
     "output_type": "stream",
     "text": [
      "Epoch 4: 100%|██████████| 30/30 [00:04<00:00,  6.00it/s, loss=0.252, train_loss=3.200, train_accuracy=0.750]    "
     ]
    },
    {
     "name": "stderr",
     "output_type": "stream",
     "text": [
      "[2025-02-12 17:01:04] INFO (torcheeg/MainThread) \n",
      "[Train] train_loss: 0.229 train_accuracy: 0.958 \n",
      "\n"
     ]
    },
    {
     "name": "stdout",
     "output_type": "stream",
     "text": [
      "Epoch 5: 100%|██████████| 30/30 [00:04<00:00,  6.02it/s, loss=0.0905, train_loss=0.219, train_accuracy=0.750]  "
     ]
    },
    {
     "name": "stderr",
     "output_type": "stream",
     "text": [
      "[2025-02-12 17:01:09] INFO (torcheeg/MainThread) \n",
      "[Train] train_loss: 0.134 train_accuracy: 0.967 \n",
      "\n"
     ]
    },
    {
     "name": "stdout",
     "output_type": "stream",
     "text": [
      "Epoch 6: 100%|██████████| 30/30 [00:04<00:00,  6.00it/s, loss=0.0365, train_loss=8.43e-6, train_accuracy=1.000]"
     ]
    },
    {
     "name": "stderr",
     "output_type": "stream",
     "text": [
      "Metric train_loss improved by 0.066 >= min_delta = 0.0. New best score: 0.000\n"
     ]
    },
    {
     "name": "stdout",
     "output_type": "stream",
     "text": [
      "Epoch 6: 100%|██████████| 30/30 [00:04<00:00,  6.00it/s, loss=0.0365, train_loss=8.43e-6, train_accuracy=1.000]"
     ]
    },
    {
     "name": "stderr",
     "output_type": "stream",
     "text": [
      "[2025-02-12 17:01:14] INFO (torcheeg/MainThread) \n",
      "[Train] train_loss: 0.024 train_accuracy: 0.983 \n",
      "\n"
     ]
    },
    {
     "name": "stdout",
     "output_type": "stream",
     "text": [
      "Epoch 7: 100%|██████████| 30/30 [00:05<00:00,  6.00it/s, loss=0.00242, train_loss=0.000, train_accuracy=1.000]   "
     ]
    },
    {
     "name": "stderr",
     "output_type": "stream",
     "text": [
      "Metric train_loss improved by 0.000 >= min_delta = 0.0. New best score: 0.000\n"
     ]
    },
    {
     "name": "stdout",
     "output_type": "stream",
     "text": [
      "Epoch 7: 100%|██████████| 30/30 [00:05<00:00,  6.00it/s, loss=0.00242, train_loss=0.000, train_accuracy=1.000]"
     ]
    },
    {
     "name": "stderr",
     "output_type": "stream",
     "text": [
      "[2025-02-12 17:01:19] INFO (torcheeg/MainThread) \n",
      "[Train] train_loss: 0.002 train_accuracy: 1.000 \n",
      "\n"
     ]
    },
    {
     "name": "stdout",
     "output_type": "stream",
     "text": [
      "Epoch 8: 100%|██████████| 30/30 [00:04<00:00,  6.01it/s, loss=0.000354, train_loss=5.96e-8, train_accuracy=1.000] "
     ]
    },
    {
     "name": "stderr",
     "output_type": "stream",
     "text": [
      "[2025-02-12 17:01:24] INFO (torcheeg/MainThread) \n",
      "[Train] train_loss: 0.000 train_accuracy: 1.000 \n",
      "\n"
     ]
    },
    {
     "name": "stdout",
     "output_type": "stream",
     "text": [
      "Epoch 9: 100%|██████████| 30/30 [00:04<00:00,  6.00it/s, loss=0.171, train_loss=1.13e-6, train_accuracy=1.000]   "
     ]
    },
    {
     "name": "stderr",
     "output_type": "stream",
     "text": [
      "[2025-02-12 17:01:29] INFO (torcheeg/MainThread) \n",
      "[Train] train_loss: 0.114 train_accuracy: 0.958 \n",
      "\n"
     ]
    },
    {
     "name": "stdout",
     "output_type": "stream",
     "text": [
      "Epoch 10: 100%|██████████| 30/30 [00:04<00:00,  6.01it/s, loss=0.0834, train_loss=0.0137, train_accuracy=1.000] "
     ]
    },
    {
     "name": "stderr",
     "output_type": "stream",
     "text": [
      "[2025-02-12 17:01:34] INFO (torcheeg/MainThread) \n",
      "[Train] train_loss: 0.190 train_accuracy: 0.958 \n",
      "\n"
     ]
    },
    {
     "name": "stdout",
     "output_type": "stream",
     "text": [
      "Epoch 11: 100%|██████████| 30/30 [00:04<00:00,  6.01it/s, loss=0.773, train_loss=5.67e-5, train_accuracy=1.000]  "
     ]
    },
    {
     "name": "stderr",
     "output_type": "stream",
     "text": [
      "[2025-02-12 17:01:39] INFO (torcheeg/MainThread) \n",
      "[Train] train_loss: 0.516 train_accuracy: 0.958 \n",
      "\n"
     ]
    },
    {
     "name": "stdout",
     "output_type": "stream",
     "text": [
      "Epoch 12: 100%|██████████| 30/30 [00:04<00:00,  6.00it/s, loss=0.362, train_loss=1.130, train_accuracy=0.750]   "
     ]
    },
    {
     "name": "stderr",
     "output_type": "stream",
     "text": [
      "[2025-02-12 17:01:44] INFO (torcheeg/MainThread) \n",
      "[Train] train_loss: 0.712 train_accuracy: 0.925 \n",
      "\n"
     ]
    },
    {
     "name": "stdout",
     "output_type": "stream",
     "text": [
      "Epoch 13: 100%|██████████| 30/30 [00:04<00:00,  6.00it/s, loss=0.813, train_loss=9.030, train_accuracy=0.750]  "
     ]
    },
    {
     "name": "stderr",
     "output_type": "stream",
     "text": [
      "[2025-02-12 17:01:49] INFO (torcheeg/MainThread) \n",
      "[Train] train_loss: 0.674 train_accuracy: 0.950 \n",
      "\n"
     ]
    },
    {
     "name": "stdout",
     "output_type": "stream",
     "text": [
      "Epoch 14: 100%|██████████| 30/30 [00:05<00:00,  5.98it/s, loss=2.13, train_loss=0.262, train_accuracy=0.750]   "
     ]
    },
    {
     "name": "stderr",
     "output_type": "stream",
     "text": [
      "[2025-02-12 17:01:54] INFO (torcheeg/MainThread) \n",
      "[Train] train_loss: 1.865 train_accuracy: 0.825 \n",
      "\n"
     ]
    },
    {
     "name": "stdout",
     "output_type": "stream",
     "text": [
      "Epoch 15: 100%|██████████| 30/30 [00:04<00:00,  6.02it/s, loss=0.243, train_loss=0.0032, train_accuracy=1.000]  "
     ]
    },
    {
     "name": "stderr",
     "output_type": "stream",
     "text": [
      "[2025-02-12 17:01:59] INFO (torcheeg/MainThread) \n",
      "[Train] train_loss: 0.404 train_accuracy: 0.892 \n",
      "\n"
     ]
    },
    {
     "name": "stdout",
     "output_type": "stream",
     "text": [
      "Epoch 16: 100%|██████████| 30/30 [00:05<00:00,  6.00it/s, loss=0.213, train_loss=0.0682, train_accuracy=1.000]  "
     ]
    },
    {
     "name": "stderr",
     "output_type": "stream",
     "text": [
      "[2025-02-12 17:02:04] INFO (torcheeg/MainThread) \n",
      "[Train] train_loss: 0.149 train_accuracy: 0.975 \n",
      "\n"
     ]
    },
    {
     "name": "stdout",
     "output_type": "stream",
     "text": [
      "Epoch 17: 100%|██████████| 30/30 [00:04<00:00,  6.02it/s, loss=0.118, train_loss=0.0106, train_accuracy=1.000]  "
     ]
    },
    {
     "name": "stderr",
     "output_type": "stream",
     "text": [
      "Monitored metric train_loss did not improve in the last 10 records. Best score: 0.000. Signaling Trainer to stop.\n"
     ]
    },
    {
     "name": "stdout",
     "output_type": "stream",
     "text": [
      "Epoch 17: 100%|██████████| 30/30 [00:04<00:00,  6.02it/s, loss=0.118, train_loss=0.0106, train_accuracy=1.000]"
     ]
    },
    {
     "name": "stderr",
     "output_type": "stream",
     "text": [
      "[2025-02-12 17:02:09] INFO (torcheeg/MainThread) \n",
      "[Train] train_loss: 0.084 train_accuracy: 0.975 \n",
      "\n"
     ]
    },
    {
     "name": "stdout",
     "output_type": "stream",
     "text": [
      "Epoch 17: 100%|██████████| 30/30 [00:04<00:00,  6.02it/s, loss=0.118, train_loss=0.0106, train_accuracy=1.000]\n"
     ]
    },
    {
     "name": "stderr",
     "output_type": "stream",
     "text": [
      "GPU available: True (cuda), used: True\n",
      "TPU available: False, using: 0 TPU cores\n",
      "IPU available: False, using: 0 IPUs\n",
      "HPU available: False, using: 0 HPUs\n",
      "Missing logger folder: /root/autodl-tmp/.autodl/kinlaw/GANSER/mycode/lightning_logs\n",
      "LOCAL_RANK: 0 - CUDA_VISIBLE_DEVICES: [0]\n",
      "/root/autodl-tmp/conda/envs/law/lib/python3.8/site-packages/pytorch_lightning/trainer/connectors/data_connector.py:224: PossibleUserWarning: The dataloader, test_dataloader 0, does not have many workers which may be a bottleneck. Consider increasing the value of the `num_workers` argument` (try 128 which is the number of cpus on this machine) in the `DataLoader` init to improve performance.\n",
      "  rank_zero_warn(\n"
     ]
    },
    {
     "name": "stdout",
     "output_type": "stream",
     "text": [
      "Testing DataLoader 0: 100%|██████████| 10/10 [00:00<00:00, 73.70it/s]"
     ]
    },
    {
     "name": "stderr",
     "output_type": "stream",
     "text": [
      "[2025-02-12 17:02:19] INFO (torcheeg/MainThread) \n",
      "[Test] test_loss: 1.343 test_accuracy: 0.700 \n",
      "\n"
     ]
    },
    {
     "name": "stdout",
     "output_type": "stream",
     "text": [
      "Testing DataLoader 0: 100%|██████████| 10/10 [00:00<00:00, 70.68it/s]\n",
      "────────────────────────────────────────────────────────────────────────────────────────────────────────────────────────\n",
      "       Test metric             DataLoader 0\n",
      "────────────────────────────────────────────────────────────────────────────────────────────────────────────────────────\n",
      "      test_accuracy          0.699999988079071\n",
      "        test_loss           1.3430300951004028\n",
      "────────────────────────────────────────────────────────────────────────────────────────────────────────────────────────\n",
      "已删除文件夹: /root/autodl-tmp/.autodl/kinlaw/GANSER/mycode/lightning_logs\n"
     ]
    },
    {
     "name": "stderr",
     "output_type": "stream",
     "text": [
      "GPU available: True (cuda), used: True\n",
      "TPU available: False, using: 0 TPU cores\n",
      "IPU available: False, using: 0 IPUs\n",
      "HPU available: False, using: 0 HPUs\n",
      "LOCAL_RANK: 0 - CUDA_VISIBLE_DEVICES: [0]\n",
      "/root/autodl-tmp/conda/envs/law/lib/python3.8/site-packages/pytorch_lightning/trainer/connectors/data_connector.py:224: PossibleUserWarning: The dataloader, train_dataloader, does not have many workers which may be a bottleneck. Consider increasing the value of the `num_workers` argument` (try 128 which is the number of cpus on this machine) in the `DataLoader` init to improve performance.\n",
      "  rank_zero_warn(\n"
     ]
    },
    {
     "name": "stdout",
     "output_type": "stream",
     "text": [
      "Epoch 0: 100%|██████████| 30/30 [00:05<00:00,  5.98it/s, loss=9.61, train_loss=8.940, train_accuracy=0.250]   "
     ]
    },
    {
     "name": "stderr",
     "output_type": "stream",
     "text": [
      "Metric train_loss improved. New best score: 8.941\n"
     ]
    },
    {
     "name": "stdout",
     "output_type": "stream",
     "text": [
      "Epoch 0: 100%|██████████| 30/30 [00:05<00:00,  5.97it/s, loss=9.61, train_loss=8.940, train_accuracy=0.250]"
     ]
    },
    {
     "name": "stderr",
     "output_type": "stream",
     "text": [
      "/root/autodl-tmp/conda/envs/law/lib/python3.8/site-packages/pytorch_lightning/core/module.py:493: UserWarning: You called `self.log('train_loss', ..., logger=True)` but have no logger configured. You can enable one by doing `Trainer(logger=ALogger(...))`\n",
      "  rank_zero_warn(\n",
      "/root/autodl-tmp/conda/envs/law/lib/python3.8/site-packages/pytorch_lightning/core/module.py:493: UserWarning: You called `self.log('train_accuracy', ..., logger=True)` but have no logger configured. You can enable one by doing `Trainer(logger=ALogger(...))`\n",
      "  rank_zero_warn(\n",
      "[2025-02-12 17:02:39] INFO (torcheeg/MainThread) \n",
      "[Train] train_loss: 10.306 train_accuracy: 0.517 \n",
      "\n"
     ]
    },
    {
     "name": "stdout",
     "output_type": "stream",
     "text": [
      "Epoch 1: 100%|██████████| 30/30 [00:05<00:00,  6.00it/s, loss=2.38, train_loss=0.956, train_accuracy=0.750]   "
     ]
    },
    {
     "name": "stderr",
     "output_type": "stream",
     "text": [
      "Metric train_loss improved by 7.985 >= min_delta = 0.0. New best score: 0.956\n"
     ]
    },
    {
     "name": "stdout",
     "output_type": "stream",
     "text": [
      "Epoch 1: 100%|██████████| 30/30 [00:05<00:00,  5.99it/s, loss=2.38, train_loss=0.956, train_accuracy=0.750]"
     ]
    },
    {
     "name": "stderr",
     "output_type": "stream",
     "text": [
      "[2025-02-12 17:02:44] INFO (torcheeg/MainThread) \n",
      "[Train] train_loss: 2.434 train_accuracy: 0.658 \n",
      "\n"
     ]
    },
    {
     "name": "stdout",
     "output_type": "stream",
     "text": [
      "Epoch 2: 100%|██████████| 30/30 [00:05<00:00,  6.00it/s, loss=0.966, train_loss=0.042, train_accuracy=1.000]  "
     ]
    },
    {
     "name": "stderr",
     "output_type": "stream",
     "text": [
      "Metric train_loss improved by 0.914 >= min_delta = 0.0. New best score: 0.042\n"
     ]
    },
    {
     "name": "stdout",
     "output_type": "stream",
     "text": [
      "Epoch 2: 100%|██████████| 30/30 [00:05<00:00,  5.99it/s, loss=0.966, train_loss=0.042, train_accuracy=1.000]"
     ]
    },
    {
     "name": "stderr",
     "output_type": "stream",
     "text": [
      "[2025-02-12 17:02:49] INFO (torcheeg/MainThread) \n",
      "[Train] train_loss: 0.789 train_accuracy: 0.817 \n",
      "\n"
     ]
    },
    {
     "name": "stdout",
     "output_type": "stream",
     "text": [
      "Epoch 3: 100%|██████████| 30/30 [00:05<00:00,  5.99it/s, loss=0.284, train_loss=0.00187, train_accuracy=1.000] "
     ]
    },
    {
     "name": "stderr",
     "output_type": "stream",
     "text": [
      "Metric train_loss improved by 0.040 >= min_delta = 0.0. New best score: 0.002\n"
     ]
    },
    {
     "name": "stdout",
     "output_type": "stream",
     "text": [
      "Epoch 3: 100%|██████████| 30/30 [00:05<00:00,  5.98it/s, loss=0.284, train_loss=0.00187, train_accuracy=1.000]"
     ]
    },
    {
     "name": "stderr",
     "output_type": "stream",
     "text": [
      "[2025-02-12 17:02:54] INFO (torcheeg/MainThread) \n",
      "[Train] train_loss: 0.729 train_accuracy: 0.892 \n",
      "\n"
     ]
    },
    {
     "name": "stdout",
     "output_type": "stream",
     "text": [
      "Epoch 4: 100%|██████████| 30/30 [00:05<00:00,  5.99it/s, loss=0.932, train_loss=0.0591, train_accuracy=1.000]  "
     ]
    },
    {
     "name": "stderr",
     "output_type": "stream",
     "text": [
      "[2025-02-12 17:02:59] INFO (torcheeg/MainThread) \n",
      "[Train] train_loss: 0.845 train_accuracy: 0.850 \n",
      "\n"
     ]
    },
    {
     "name": "stdout",
     "output_type": "stream",
     "text": [
      "Epoch 5: 100%|██████████| 30/30 [00:05<00:00,  6.00it/s, loss=0.616, train_loss=0.000204, train_accuracy=1.000]"
     ]
    },
    {
     "name": "stderr",
     "output_type": "stream",
     "text": [
      "Metric train_loss improved by 0.002 >= min_delta = 0.0. New best score: 0.000\n"
     ]
    },
    {
     "name": "stdout",
     "output_type": "stream",
     "text": [
      "Epoch 5: 100%|██████████| 30/30 [00:05<00:00,  5.99it/s, loss=0.616, train_loss=0.000204, train_accuracy=1.000]"
     ]
    },
    {
     "name": "stderr",
     "output_type": "stream",
     "text": [
      "[2025-02-12 17:03:04] INFO (torcheeg/MainThread) \n",
      "[Train] train_loss: 0.669 train_accuracy: 0.858 \n",
      "\n"
     ]
    },
    {
     "name": "stdout",
     "output_type": "stream",
     "text": [
      "Epoch 6: 100%|██████████| 30/30 [00:05<00:00,  5.99it/s, loss=0.84, train_loss=0.0193, train_accuracy=1.000]   "
     ]
    },
    {
     "name": "stderr",
     "output_type": "stream",
     "text": [
      "[2025-02-12 17:03:09] INFO (torcheeg/MainThread) \n",
      "[Train] train_loss: 0.687 train_accuracy: 0.892 \n",
      "\n"
     ]
    },
    {
     "name": "stdout",
     "output_type": "stream",
     "text": [
      "Epoch 7: 100%|██████████| 30/30 [00:05<00:00,  5.97it/s, loss=0.307, train_loss=3.96e-6, train_accuracy=1.000] "
     ]
    },
    {
     "name": "stderr",
     "output_type": "stream",
     "text": [
      "Metric train_loss improved by 0.000 >= min_delta = 0.0. New best score: 0.000\n"
     ]
    },
    {
     "name": "stdout",
     "output_type": "stream",
     "text": [
      "Epoch 7: 100%|██████████| 30/30 [00:05<00:00,  5.97it/s, loss=0.307, train_loss=3.96e-6, train_accuracy=1.000]"
     ]
    },
    {
     "name": "stderr",
     "output_type": "stream",
     "text": [
      "[2025-02-12 17:03:14] INFO (torcheeg/MainThread) \n",
      "[Train] train_loss: 0.449 train_accuracy: 0.925 \n",
      "\n"
     ]
    },
    {
     "name": "stdout",
     "output_type": "stream",
     "text": [
      "Epoch 8: 100%|██████████| 30/30 [00:04<00:00,  6.01it/s, loss=0.535, train_loss=0.0139, train_accuracy=1.000]  "
     ]
    },
    {
     "name": "stderr",
     "output_type": "stream",
     "text": [
      "[2025-02-12 17:03:19] INFO (torcheeg/MainThread) \n",
      "[Train] train_loss: 1.010 train_accuracy: 0.875 \n",
      "\n"
     ]
    },
    {
     "name": "stdout",
     "output_type": "stream",
     "text": [
      "Epoch 9: 100%|██████████| 30/30 [00:04<00:00,  6.00it/s, loss=0.224, train_loss=0.0017, train_accuracy=1.000]  "
     ]
    },
    {
     "name": "stderr",
     "output_type": "stream",
     "text": [
      "[2025-02-12 17:03:24] INFO (torcheeg/MainThread) \n",
      "[Train] train_loss: 0.181 train_accuracy: 0.967 \n",
      "\n"
     ]
    },
    {
     "name": "stdout",
     "output_type": "stream",
     "text": [
      "Epoch 10: 100%|██████████| 30/30 [00:05<00:00,  5.99it/s, loss=0.0819, train_loss=4.72e-5, train_accuracy=1.000] "
     ]
    },
    {
     "name": "stderr",
     "output_type": "stream",
     "text": [
      "[2025-02-12 17:03:29] INFO (torcheeg/MainThread) \n",
      "[Train] train_loss: 0.058 train_accuracy: 0.983 \n",
      "\n"
     ]
    },
    {
     "name": "stdout",
     "output_type": "stream",
     "text": [
      "Epoch 11: 100%|██████████| 30/30 [00:05<00:00,  5.99it/s, loss=0.0532, train_loss=0.000248, train_accuracy=1.000]"
     ]
    },
    {
     "name": "stderr",
     "output_type": "stream",
     "text": [
      "[2025-02-12 17:03:34] INFO (torcheeg/MainThread) \n",
      "[Train] train_loss: 0.072 train_accuracy: 0.983 \n",
      "\n"
     ]
    },
    {
     "name": "stdout",
     "output_type": "stream",
     "text": [
      "Epoch 12: 100%|██████████| 30/30 [00:05<00:00,  5.99it/s, loss=0.0743, train_loss=8.05e-6, train_accuracy=1.000]  "
     ]
    },
    {
     "name": "stderr",
     "output_type": "stream",
     "text": [
      "[2025-02-12 17:03:39] INFO (torcheeg/MainThread) \n",
      "[Train] train_loss: 0.051 train_accuracy: 0.983 \n",
      "\n"
     ]
    },
    {
     "name": "stdout",
     "output_type": "stream",
     "text": [
      "Epoch 13: 100%|██████████| 30/30 [00:04<00:00,  6.00it/s, loss=0.000207, train_loss=1.42e-5, train_accuracy=1.000] "
     ]
    },
    {
     "name": "stderr",
     "output_type": "stream",
     "text": [
      "[2025-02-12 17:03:44] INFO (torcheeg/MainThread) \n",
      "[Train] train_loss: 0.000 train_accuracy: 1.000 \n",
      "\n"
     ]
    },
    {
     "name": "stdout",
     "output_type": "stream",
     "text": [
      "Epoch 14: 100%|██████████| 30/30 [00:05<00:00,  5.97it/s, loss=0.00734, train_loss=0.000597, train_accuracy=1.000]"
     ]
    },
    {
     "name": "stderr",
     "output_type": "stream",
     "text": [
      "[2025-02-12 17:03:49] INFO (torcheeg/MainThread) \n",
      "[Train] train_loss: 0.005 train_accuracy: 1.000 \n",
      "\n"
     ]
    },
    {
     "name": "stdout",
     "output_type": "stream",
     "text": [
      "Epoch 15: 100%|██████████| 30/30 [00:05<00:00,  5.98it/s, loss=0.000757, train_loss=0.0027, train_accuracy=1.000]  "
     ]
    },
    {
     "name": "stderr",
     "output_type": "stream",
     "text": [
      "[2025-02-12 17:03:54] INFO (torcheeg/MainThread) \n",
      "[Train] train_loss: 0.001 train_accuracy: 1.000 \n",
      "\n"
     ]
    },
    {
     "name": "stdout",
     "output_type": "stream",
     "text": [
      "Epoch 16: 100%|██████████| 30/30 [00:05<00:00,  5.99it/s, loss=0.000319, train_loss=9.81e-5, train_accuracy=1.000] "
     ]
    },
    {
     "name": "stderr",
     "output_type": "stream",
     "text": [
      "[2025-02-12 17:03:59] INFO (torcheeg/MainThread) \n",
      "[Train] train_loss: 0.001 train_accuracy: 1.000 \n",
      "\n"
     ]
    },
    {
     "name": "stdout",
     "output_type": "stream",
     "text": [
      "Epoch 17: 100%|██████████| 30/30 [00:05<00:00,  5.96it/s, loss=0.000117, train_loss=5.39e-6, train_accuracy=1.000] "
     ]
    },
    {
     "name": "stderr",
     "output_type": "stream",
     "text": [
      "Monitored metric train_loss did not improve in the last 10 records. Best score: 0.000. Signaling Trainer to stop.\n"
     ]
    },
    {
     "name": "stdout",
     "output_type": "stream",
     "text": [
      "Epoch 17: 100%|██████████| 30/30 [00:05<00:00,  5.96it/s, loss=0.000117, train_loss=5.39e-6, train_accuracy=1.000]"
     ]
    },
    {
     "name": "stderr",
     "output_type": "stream",
     "text": [
      "[2025-02-12 17:04:04] INFO (torcheeg/MainThread) \n",
      "[Train] train_loss: 0.000 train_accuracy: 1.000 \n",
      "\n"
     ]
    },
    {
     "name": "stdout",
     "output_type": "stream",
     "text": [
      "Epoch 17: 100%|██████████| 30/30 [00:05<00:00,  5.96it/s, loss=0.000117, train_loss=5.39e-6, train_accuracy=1.000]\n"
     ]
    },
    {
     "ename": "",
     "evalue": "",
     "output_type": "error",
     "traceback": [
      "\u001b[1;31m在当前单元格或上一个单元格中执行代码时 Kernel 崩溃。\n",
      "\u001b[1;31m请查看单元格中的代码，以确定故障的可能原因。\n",
      "\u001b[1;31m单击<a href='https://aka.ms/vscodeJupyterKernelCrash'>此处</a>了解详细信息。\n",
      "\u001b[1;31m有关更多详细信息，请查看 Jupyter <a href='command:jupyter.viewOutput'>log</a>。"
     ]
    }
   ],
   "source": [
    "from eegswintransformer import SwinTransformer\n",
    "\n",
    "HYPERPARAMETERS = {\n",
    "    \"seed\": 42,\n",
    "    \"batch_size\": 4,\n",
    "    \"lr\": 1e-4,\n",
    "    \"weight_decay\": 1e-5,\n",
    "    \"num_epochs\": 20,\n",
    "}\n",
    "from torcheeg.model_selection import KFoldPerSubjectGroupbyTrial\n",
    "from pytorch_lightning.callbacks import ModelCheckpoint, EarlyStopping\n",
    "from torch.utils.data import DataLoader\n",
    "from classifier import ClassifierTrainer\n",
    "k_fold = KFoldPerSubjectGroupbyTrial(\n",
    "    n_splits=4,\n",
    "    shuffle=True,\n",
    "    random_state=42)\n",
    "\n",
    "training_metrics = []\n",
    "test_metrics = []\n",
    "\n",
    "for i, (training_dataset, test_dataset) in enumerate(k_fold.split(dataset)):\n",
    "    delete_folder_if_exists(target_folder_name='lightning_logs')\n",
    "    model = SwinTransformer(patch_size=(32,3,3),depths=(2, 2, 2, 2), num_heads=(1, 1, 1, 1))\n",
    "    trainer = ClassifierTrainer(model=model,\n",
    "                                num_classes=2,\n",
    "                                lr=HYPERPARAMETERS['lr'],\n",
    "                                weight_decay=HYPERPARAMETERS['weight_decay'],\n",
    "                                metrics=[\"accuracy\"],\n",
    "                                accelerator=\"gpu\")\n",
    "    \n",
    "    training_loader = DataLoader(training_dataset,\n",
    "                             batch_size=HYPERPARAMETERS['batch_size'],\n",
    "                             shuffle=True)\n",
    "    test_loader = DataLoader(test_dataset,\n",
    "                             batch_size=HYPERPARAMETERS['batch_size'],\n",
    "                             shuffle=False)\n",
    "    # 提前停止回调\n",
    "    early_stopping_callback = EarlyStopping(\n",
    "        monitor='train_loss',\n",
    "        patience=10, \n",
    "        mode='min',\n",
    "        verbose=True\n",
    "    )\n",
    "    \n",
    "    trainer.fit(training_loader,\n",
    "                test_loader,\n",
    "                max_epochs=HYPERPARAMETERS['num_epochs'],\n",
    "                callbacks=[early_stopping_callback],\n",
    "                # enable_progress_bar=True,\n",
    "                enable_model_summary=False,\n",
    "                limit_val_batches=0.0)\n",
    "    # training_result = trainer.test(training_loader,\n",
    "    #                                enable_progress_bar=True,\n",
    "    #                                enable_model_summary=True)[0]\n",
    "    test_result = trainer.test(test_loader,\n",
    "                               enable_progress_bar=True,\n",
    "                               enable_model_summary=True)[0]\n",
    "    # training_metrics.append(training_result[\"test_accuracy\"])\n",
    "    test_metrics.append(test_result[\"test_accuracy\"])\n",
    "     \n",
    "print({\n",
    "    # \"training_metric_avg\": np.mean(training_metrics),\n",
    "    # \"training_metric_std\": np.std(training_metrics),\n",
    "    \"test_metric_avg\": np.mean(test_metrics),\n",
    "    \"test_metric_std\": np.std(test_metrics)\n",
    "})"
   ]
  },
  {
   "cell_type": "code",
   "execution_count": 8,
   "metadata": {},
   "outputs": [
    {
     "name": "stdout",
     "output_type": "stream",
     "text": [
      "0 0.8999999761581421\n",
      "1 0.824999988079071\n",
      "2 0.7749999761581421\n",
      "3 0.824999988079071\n",
      "4 0.5249999761581421\n",
      "5 0.625\n",
      "6 0.550000011920929\n",
      "7 0.6499999761581421\n"
     ]
    }
   ],
   "source": [
    "for i, score in enumerate(test_metrics):\n",
    "    print(i,score)"
   ]
  }
 ],
 "metadata": {
  "kernelspec": {
   "display_name": "law",
   "language": "python",
   "name": "python3"
  },
  "language_info": {
   "codemirror_mode": {
    "name": "ipython",
    "version": 3
   },
   "file_extension": ".py",
   "mimetype": "text/x-python",
   "name": "python",
   "nbconvert_exporter": "python",
   "pygments_lexer": "ipython3",
   "version": "3.8.0"
  }
 },
 "nbformat": 4,
 "nbformat_minor": 2
}
