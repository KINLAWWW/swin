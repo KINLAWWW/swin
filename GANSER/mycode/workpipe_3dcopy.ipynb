{
 "cells": [
  {
   "cell_type": "code",
   "execution_count": 1,
   "metadata": {},
   "outputs": [
    {
     "name": "stderr",
     "output_type": "stream",
     "text": [
      "/root/autodl-tmp/conda/envs/law/lib/python3.8/site-packages/tqdm/auto.py:21: TqdmWarning: IProgress not found. Please update jupyter and ipywidgets. See https://ipywidgets.readthedocs.io/en/stable/user_install.html\n",
      "  from .autonotebook import tqdm as notebook_tqdm\n",
      "[2025-02-14 14:08:11] INFO (torcheeg/MainThread) 🔍 | Detected cached processing results, reading cache from .torcheeg/datasets_1739513177339_4Vlqh.\n"
     ]
    },
    {
     "name": "stdout",
     "output_type": "stream",
     "text": [
      "torch.Size([1, 128, 9, 9])\n",
      "0\n",
      "320\n"
     ]
    }
   ],
   "source": [
    "import torch\n",
    "import logging\n",
    "import torch.nn as nn\n",
    "from tqdm import tqdm\n",
    "from pathlib import Path\n",
    "from torch import autograd\n",
    "from sklearn import model_selection\n",
    "from torch.utils.data import Dataset, Subset, DataLoader\n",
    "\n",
    "from strokes import StrokePatientsMIDataset\n",
    "from strokesdict import STROKEPATIENTSMI_LOCATION_DICT\n",
    "import scipy\n",
    "from torcheeg.transforms import Select,BandSignal,Compose\n",
    "from to import ToGrid, ToTensor\n",
    "from typing import Callable, Dict, Union, List\n",
    "import numpy as np\n",
    "import soxr\n",
    "from downsample import SetSamplingRate\n",
    "from baseline import BaselineCorrection\n",
    "from torcheeg.transforms import EEGTransform, Select,BandSignal,Compose\n",
    "\n",
    "dataset = StrokePatientsMIDataset(root_path='../../mi_swin/subdataset',\n",
    "                                  io_path='.torcheeg/datasets_1739513177339_4Vlqh',\n",
    "                        chunk_size=500,  # 1 second\n",
    "                        overlap = 0,\n",
    "                        offline_transform=Compose(\n",
    "                                [BaselineCorrection(),\n",
    "                                SetSamplingRate(origin_sampling_rate=500,target_sampling_rate=128),\n",
    "                                BandSignal(sampling_rate=128,band_dict={'frequency_range':[8,40]})\n",
    "                                ]),\n",
    "                        online_transform=Compose(\n",
    "                                # [ToTensor()]),\n",
    "                                [ToGrid(STROKEPATIENTSMI_LOCATION_DICT),ToTensor()]),\n",
    "                \n",
    "                        label_transform=Select('label'),\n",
    "                        num_worker=8\n",
    ")\n",
    "print(dataset[0][0].shape) #EEG shape(1,30,128)\n",
    "print(dataset[0][1])  # label (int)\n",
    "print(len(dataset))"
   ]
  },
  {
   "cell_type": "code",
   "execution_count": 2,
   "metadata": {},
   "outputs": [],
   "source": [
    "import os\n",
    "import shutil\n",
    "\n",
    "def delete_folder_if_exists(target_folder_name):\n",
    "    # 获取父文件夹中的所有内容\n",
    "    parent_folder = os.getcwd()\n",
    "    for folder_name in os.listdir(parent_folder):\n",
    "        folder_path = os.path.join(parent_folder, folder_name)\n",
    "\n",
    "        # 检查是否是文件夹并且名称是否匹配\n",
    "        if os.path.isdir(folder_path) and folder_name == target_folder_name:\n",
    "            try:\n",
    "                # 删除目标文件夹\n",
    "                shutil.rmtree(folder_path)\n",
    "                print(f\"已删除文件夹: {folder_path}\")\n",
    "            except Exception as e:\n",
    "                print(f\"删除文件夹 {folder_path} 时出错: {e}\")"
   ]
  },
  {
   "cell_type": "code",
   "execution_count": 8,
   "metadata": {},
   "outputs": [
    {
     "name": "stdout",
     "output_type": "stream",
     "text": [
      "torch.Size([5, 96, 32, 3, 3])\n",
      "torch.Size([5, 192, 8, 3, 3])\n",
      "torch.Size([5, 384, 2, 3, 3])\n",
      "torch.Size([5, 384, 2, 3, 3])\n",
      "torch.Size([5, 2])\n"
     ]
    }
   ],
   "source": [
    "from swin_transformer3D import SwinTransformer3D\n",
    "import numpy as np\n",
    "import torch\n",
    "\n",
    "input = torch.randn(5,1,128,9,9)\n",
    "\n",
    "model = SwinTransformer3D(patch_size=(4,3,3),\n",
    "                          in_chans=1,\n",
    "                          depths=[2,2,4],\n",
    "                          num_heads=[3,3,6],\n",
    "                          window_size=(2,2,2),\n",
    "                          mlp_ratio=2.,\n",
    "                          drop_rate=0.1,\n",
    "                          attn_drop_rate=0.1,\n",
    "                          drop_path_rate=0.3,\n",
    "                          num_classes=2\n",
    "                          )\n",
    "\n",
    "output = model(input)\n",
    "\n",
    "print(output.shape)"
   ]
  },
  {
   "cell_type": "code",
   "execution_count": 6,
   "metadata": {},
   "outputs": [
    {
     "name": "stderr",
     "output_type": "stream",
     "text": [
      "[2025-02-14 14:14:44] INFO (torcheeg/MainThread) 📊 | Create the split of train and test set.\n",
      "[2025-02-14 14:14:44] INFO (torcheeg/MainThread) 😊 | Please set \u001b[92msplit_path\u001b[0m to \u001b[92m.torcheeg/model_selection_1739513684951_Wa2m7\u001b[0m for the next run, if you want to use the same setting for the experiment.\n",
      "GPU available: True (cuda), used: True\n",
      "TPU available: False, using: 0 TPU cores\n",
      "IPU available: False, using: 0 IPUs\n",
      "HPU available: False, using: 0 HPUs\n",
      "LOCAL_RANK: 0 - CUDA_VISIBLE_DEVICES: [0]\n",
      "/root/autodl-tmp/conda/envs/law/lib/python3.8/site-packages/pytorch_lightning/trainer/connectors/data_connector.py:224: PossibleUserWarning: The dataloader, train_dataloader, does not have many workers which may be a bottleneck. Consider increasing the value of the `num_workers` argument` (try 128 which is the number of cpus on this machine) in the `DataLoader` init to improve performance.\n",
      "  rank_zero_warn(\n"
     ]
    },
    {
     "name": "stdout",
     "output_type": "stream",
     "text": [
      "已删除文件夹: /root/autodl-tmp/.autodl/kinlaw/GANSER/mycode/lightning_logs\n",
      "Epoch 0: 100%|██████████| 8/8 [00:00<00:00, 24.90it/s, loss=0.708, train_loss=0.645, train_accuracy=0.500]"
     ]
    },
    {
     "name": "stderr",
     "output_type": "stream",
     "text": [
      "Metric train_loss improved. New best score: 0.645\n"
     ]
    },
    {
     "name": "stdout",
     "output_type": "stream",
     "text": [
      "Epoch 0: 100%|██████████| 8/8 [00:00<00:00, 24.78it/s, loss=0.708, train_loss=0.645, train_accuracy=0.500]"
     ]
    },
    {
     "name": "stderr",
     "output_type": "stream",
     "text": [
      "/root/autodl-tmp/conda/envs/law/lib/python3.8/site-packages/pytorch_lightning/core/module.py:493: UserWarning: You called `self.log('train_loss', ..., logger=True)` but have no logger configured. You can enable one by doing `Trainer(logger=ALogger(...))`\n",
      "  rank_zero_warn(\n",
      "/root/autodl-tmp/conda/envs/law/lib/python3.8/site-packages/pytorch_lightning/core/module.py:493: UserWarning: You called `self.log('train_accuracy', ..., logger=True)` but have no logger configured. You can enable one by doing `Trainer(logger=ALogger(...))`\n",
      "  rank_zero_warn(\n",
      "[2025-02-14 14:14:45] INFO (torcheeg/MainThread) \n",
      "[Train] train_loss: 0.708 train_accuracy: 0.458 \n",
      "\n"
     ]
    },
    {
     "name": "stdout",
     "output_type": "stream",
     "text": [
      "Epoch 1: 100%|██████████| 8/8 [00:00<00:00, 28.56it/s, loss=0.703, train_loss=0.891, train_accuracy=0.125]"
     ]
    },
    {
     "name": "stderr",
     "output_type": "stream",
     "text": [
      "[2025-02-14 14:14:45] INFO (torcheeg/MainThread) \n",
      "[Train] train_loss: 0.699 train_accuracy: 0.483 \n",
      "\n"
     ]
    },
    {
     "name": "stdout",
     "output_type": "stream",
     "text": [
      "Epoch 2: 100%|██████████| 8/8 [00:00<00:00, 28.10it/s, loss=0.691, train_loss=0.732, train_accuracy=0.500]"
     ]
    },
    {
     "name": "stderr",
     "output_type": "stream",
     "text": [
      "[2025-02-14 14:14:46] INFO (torcheeg/MainThread) \n",
      "[Train] train_loss: 0.684 train_accuracy: 0.550 \n",
      "\n"
     ]
    },
    {
     "name": "stdout",
     "output_type": "stream",
     "text": [
      "Epoch 3: 100%|██████████| 8/8 [00:00<00:00, 26.96it/s, loss=0.676, train_loss=0.607, train_accuracy=0.625]"
     ]
    },
    {
     "name": "stderr",
     "output_type": "stream",
     "text": [
      "Metric train_loss improved by 0.038 >= min_delta = 0.0. New best score: 0.607\n"
     ]
    },
    {
     "name": "stdout",
     "output_type": "stream",
     "text": [
      "Epoch 3: 100%|██████████| 8/8 [00:00<00:00, 26.81it/s, loss=0.676, train_loss=0.607, train_accuracy=0.625]"
     ]
    },
    {
     "name": "stderr",
     "output_type": "stream",
     "text": [
      "[2025-02-14 14:14:46] INFO (torcheeg/MainThread) \n",
      "[Train] train_loss: 0.649 train_accuracy: 0.608 \n",
      "\n"
     ]
    },
    {
     "name": "stdout",
     "output_type": "stream",
     "text": [
      "Epoch 4: 100%|██████████| 8/8 [00:00<00:00, 24.54it/s, loss=0.666, train_loss=0.723, train_accuracy=0.375]"
     ]
    },
    {
     "name": "stderr",
     "output_type": "stream",
     "text": [
      "[2025-02-14 14:14:46] INFO (torcheeg/MainThread) \n",
      "[Train] train_loss: 0.669 train_accuracy: 0.583 \n",
      "\n"
     ]
    },
    {
     "name": "stdout",
     "output_type": "stream",
     "text": [
      "Epoch 5: 100%|██████████| 8/8 [00:00<00:00, 23.66it/s, loss=0.648, train_loss=0.637, train_accuracy=0.625]"
     ]
    },
    {
     "name": "stderr",
     "output_type": "stream",
     "text": [
      "[2025-02-14 14:14:47] INFO (torcheeg/MainThread) \n",
      "[Train] train_loss: 0.625 train_accuracy: 0.692 \n",
      "\n"
     ]
    },
    {
     "name": "stdout",
     "output_type": "stream",
     "text": [
      "Epoch 6: 100%|██████████| 8/8 [00:00<00:00, 24.56it/s, loss=0.631, train_loss=0.660, train_accuracy=0.375]"
     ]
    },
    {
     "name": "stderr",
     "output_type": "stream",
     "text": [
      "[2025-02-14 14:14:47] INFO (torcheeg/MainThread) \n",
      "[Train] train_loss: 0.618 train_accuracy: 0.733 \n",
      "\n"
     ]
    },
    {
     "name": "stdout",
     "output_type": "stream",
     "text": [
      "Epoch 7: 100%|██████████| 8/8 [00:00<00:00, 24.11it/s, loss=0.62, train_loss=0.598, train_accuracy=0.750] "
     ]
    },
    {
     "name": "stderr",
     "output_type": "stream",
     "text": [
      "Metric train_loss improved by 0.009 >= min_delta = 0.0. New best score: 0.598\n"
     ]
    },
    {
     "name": "stdout",
     "output_type": "stream",
     "text": [
      "Epoch 7: 100%|██████████| 8/8 [00:00<00:00, 23.99it/s, loss=0.62, train_loss=0.598, train_accuracy=0.750]"
     ]
    },
    {
     "name": "stderr",
     "output_type": "stream",
     "text": [
      "[2025-02-14 14:14:47] INFO (torcheeg/MainThread) \n",
      "[Train] train_loss: 0.606 train_accuracy: 0.700 \n",
      "\n"
     ]
    },
    {
     "name": "stdout",
     "output_type": "stream",
     "text": [
      "Epoch 8: 100%|██████████| 8/8 [00:00<00:00, 24.20it/s, loss=0.611, train_loss=0.575, train_accuracy=0.750]"
     ]
    },
    {
     "name": "stderr",
     "output_type": "stream",
     "text": [
      "Metric train_loss improved by 0.024 >= min_delta = 0.0. New best score: 0.575\n"
     ]
    },
    {
     "name": "stdout",
     "output_type": "stream",
     "text": [
      "Epoch 8: 100%|██████████| 8/8 [00:00<00:00, 24.08it/s, loss=0.611, train_loss=0.575, train_accuracy=0.750]"
     ]
    },
    {
     "name": "stderr",
     "output_type": "stream",
     "text": [
      "[2025-02-14 14:14:48] INFO (torcheeg/MainThread) \n",
      "[Train] train_loss: 0.607 train_accuracy: 0.675 \n",
      "\n"
     ]
    },
    {
     "name": "stdout",
     "output_type": "stream",
     "text": [
      "Epoch 9: 100%|██████████| 8/8 [00:00<00:00, 26.21it/s, loss=0.595, train_loss=0.604, train_accuracy=0.750]"
     ]
    },
    {
     "name": "stderr",
     "output_type": "stream",
     "text": [
      "[2025-02-14 14:14:48] INFO (torcheeg/MainThread) \n",
      "[Train] train_loss: 0.580 train_accuracy: 0.800 \n",
      "\n"
     ]
    },
    {
     "name": "stdout",
     "output_type": "stream",
     "text": [
      "Epoch 10: 100%|██████████| 8/8 [00:00<00:00, 26.63it/s, loss=0.574, train_loss=0.490, train_accuracy=0.875]"
     ]
    },
    {
     "name": "stderr",
     "output_type": "stream",
     "text": [
      "Metric train_loss improved by 0.085 >= min_delta = 0.0. New best score: 0.490\n"
     ]
    },
    {
     "name": "stdout",
     "output_type": "stream",
     "text": [
      "Epoch 10: 100%|██████████| 8/8 [00:00<00:00, 26.49it/s, loss=0.574, train_loss=0.490, train_accuracy=0.875]"
     ]
    },
    {
     "name": "stderr",
     "output_type": "stream",
     "text": [
      "[2025-02-14 14:14:48] INFO (torcheeg/MainThread) \n",
      "[Train] train_loss: 0.556 train_accuracy: 0.750 \n",
      "\n"
     ]
    },
    {
     "name": "stdout",
     "output_type": "stream",
     "text": [
      "Epoch 11: 100%|██████████| 8/8 [00:00<00:00, 25.89it/s, loss=0.571, train_loss=0.671, train_accuracy=0.625]"
     ]
    },
    {
     "name": "stderr",
     "output_type": "stream",
     "text": [
      "[2025-02-14 14:14:49] INFO (torcheeg/MainThread) \n",
      "[Train] train_loss: 0.574 train_accuracy: 0.758 \n",
      "\n"
     ]
    },
    {
     "name": "stdout",
     "output_type": "stream",
     "text": [
      "Epoch 12: 100%|██████████| 8/8 [00:00<00:00, 25.58it/s, loss=0.558, train_loss=0.540, train_accuracy=0.750]"
     ]
    },
    {
     "name": "stderr",
     "output_type": "stream",
     "text": [
      "[2025-02-14 14:14:49] INFO (torcheeg/MainThread) \n",
      "[Train] train_loss: 0.548 train_accuracy: 0.750 \n",
      "\n"
     ]
    },
    {
     "name": "stdout",
     "output_type": "stream",
     "text": [
      "Epoch 13: 100%|██████████| 8/8 [00:00<00:00, 25.83it/s, loss=0.551, train_loss=0.588, train_accuracy=0.750]"
     ]
    },
    {
     "name": "stderr",
     "output_type": "stream",
     "text": [
      "[2025-02-14 14:14:49] INFO (torcheeg/MainThread) \n",
      "[Train] train_loss: 0.530 train_accuracy: 0.842 \n",
      "\n"
     ]
    },
    {
     "name": "stdout",
     "output_type": "stream",
     "text": [
      "Epoch 14: 100%|██████████| 8/8 [00:00<00:00, 26.73it/s, loss=0.521, train_loss=0.441, train_accuracy=1.000]"
     ]
    },
    {
     "name": "stderr",
     "output_type": "stream",
     "text": [
      "Metric train_loss improved by 0.050 >= min_delta = 0.0. New best score: 0.441\n"
     ]
    },
    {
     "name": "stdout",
     "output_type": "stream",
     "text": [
      "Epoch 14: 100%|██████████| 8/8 [00:00<00:00, 26.59it/s, loss=0.521, train_loss=0.441, train_accuracy=1.000]"
     ]
    },
    {
     "name": "stderr",
     "output_type": "stream",
     "text": [
      "[2025-02-14 14:14:49] INFO (torcheeg/MainThread) \n",
      "[Train] train_loss: 0.496 train_accuracy: 0.808 \n",
      "\n"
     ]
    },
    {
     "name": "stdout",
     "output_type": "stream",
     "text": [
      "Epoch 15: 100%|██████████| 8/8 [00:00<00:00, 24.85it/s, loss=0.505, train_loss=0.515, train_accuracy=0.625]"
     ]
    },
    {
     "name": "stderr",
     "output_type": "stream",
     "text": [
      "[2025-02-14 14:14:50] INFO (torcheeg/MainThread) \n",
      "[Train] train_loss: 0.486 train_accuracy: 0.842 \n",
      "\n"
     ]
    },
    {
     "name": "stdout",
     "output_type": "stream",
     "text": [
      "Epoch 16: 100%|██████████| 8/8 [00:00<00:00, 23.89it/s, loss=0.477, train_loss=0.369, train_accuracy=1.000]"
     ]
    },
    {
     "name": "stderr",
     "output_type": "stream",
     "text": [
      "Metric train_loss improved by 0.071 >= min_delta = 0.0. New best score: 0.369\n"
     ]
    },
    {
     "name": "stdout",
     "output_type": "stream",
     "text": [
      "Epoch 16: 100%|██████████| 8/8 [00:00<00:00, 23.77it/s, loss=0.477, train_loss=0.369, train_accuracy=1.000]"
     ]
    },
    {
     "name": "stderr",
     "output_type": "stream",
     "text": [
      "[2025-02-14 14:14:50] INFO (torcheeg/MainThread) \n",
      "[Train] train_loss: 0.476 train_accuracy: 0.842 \n",
      "\n"
     ]
    },
    {
     "name": "stdout",
     "output_type": "stream",
     "text": [
      "Epoch 17: 100%|██████████| 8/8 [00:00<00:00, 24.61it/s, loss=0.473, train_loss=0.326, train_accuracy=1.000]"
     ]
    },
    {
     "name": "stderr",
     "output_type": "stream",
     "text": [
      "Metric train_loss improved by 0.043 >= min_delta = 0.0. New best score: 0.326\n"
     ]
    },
    {
     "name": "stdout",
     "output_type": "stream",
     "text": [
      "Epoch 17: 100%|██████████| 8/8 [00:00<00:00, 24.49it/s, loss=0.473, train_loss=0.326, train_accuracy=1.000]"
     ]
    },
    {
     "name": "stderr",
     "output_type": "stream",
     "text": [
      "[2025-02-14 14:14:50] INFO (torcheeg/MainThread) \n",
      "[Train] train_loss: 0.443 train_accuracy: 0.892 \n",
      "\n"
     ]
    },
    {
     "name": "stdout",
     "output_type": "stream",
     "text": [
      "Epoch 18: 100%|██████████| 8/8 [00:00<00:00, 24.98it/s, loss=0.45, train_loss=0.411, train_accuracy=0.875] "
     ]
    },
    {
     "name": "stderr",
     "output_type": "stream",
     "text": [
      "[2025-02-14 14:14:51] INFO (torcheeg/MainThread) \n",
      "[Train] train_loss: 0.451 train_accuracy: 0.858 \n",
      "\n"
     ]
    },
    {
     "name": "stdout",
     "output_type": "stream",
     "text": [
      "Epoch 19: 100%|██████████| 8/8 [00:00<00:00, 26.20it/s, loss=0.439, train_loss=0.346, train_accuracy=0.875]"
     ]
    },
    {
     "name": "stderr",
     "output_type": "stream",
     "text": [
      "[2025-02-14 14:14:51] INFO (torcheeg/MainThread) \n",
      "[Train] train_loss: 0.432 train_accuracy: 0.875 \n",
      "\n"
     ]
    },
    {
     "name": "stdout",
     "output_type": "stream",
     "text": [
      "Epoch 20: 100%|██████████| 8/8 [00:00<00:00, 26.47it/s, loss=0.433, train_loss=0.432, train_accuracy=1.000]"
     ]
    },
    {
     "name": "stderr",
     "output_type": "stream",
     "text": [
      "[2025-02-14 14:14:51] INFO (torcheeg/MainThread) \n",
      "[Train] train_loss: 0.420 train_accuracy: 0.900 \n",
      "\n"
     ]
    },
    {
     "name": "stdout",
     "output_type": "stream",
     "text": [
      "Epoch 21: 100%|██████████| 8/8 [00:00<00:00, 25.82it/s, loss=0.414, train_loss=0.334, train_accuracy=1.000]"
     ]
    },
    {
     "name": "stderr",
     "output_type": "stream",
     "text": [
      "[2025-02-14 14:14:52] INFO (torcheeg/MainThread) \n",
      "[Train] train_loss: 0.392 train_accuracy: 0.908 \n",
      "\n"
     ]
    },
    {
     "name": "stdout",
     "output_type": "stream",
     "text": [
      "Epoch 22: 100%|██████████| 8/8 [00:00<00:00, 26.05it/s, loss=0.397, train_loss=0.378, train_accuracy=0.875]"
     ]
    },
    {
     "name": "stderr",
     "output_type": "stream",
     "text": [
      "[2025-02-14 14:14:52] INFO (torcheeg/MainThread) \n",
      "[Train] train_loss: 0.369 train_accuracy: 0.892 \n",
      "\n"
     ]
    },
    {
     "name": "stdout",
     "output_type": "stream",
     "text": [
      "Epoch 23: 100%|██████████| 8/8 [00:00<00:00, 26.62it/s, loss=0.369, train_loss=0.301, train_accuracy=1.000]"
     ]
    },
    {
     "name": "stderr",
     "output_type": "stream",
     "text": [
      "Metric train_loss improved by 0.025 >= min_delta = 0.0. New best score: 0.301\n"
     ]
    },
    {
     "name": "stdout",
     "output_type": "stream",
     "text": [
      "Epoch 23: 100%|██████████| 8/8 [00:00<00:00, 26.47it/s, loss=0.369, train_loss=0.301, train_accuracy=1.000]"
     ]
    },
    {
     "name": "stderr",
     "output_type": "stream",
     "text": [
      "[2025-02-14 14:14:52] INFO (torcheeg/MainThread) \n",
      "[Train] train_loss: 0.346 train_accuracy: 0.925 \n",
      "\n"
     ]
    },
    {
     "name": "stdout",
     "output_type": "stream",
     "text": [
      "Epoch 24: 100%|██████████| 8/8 [00:00<00:00, 26.68it/s, loss=0.342, train_loss=0.216, train_accuracy=1.000]"
     ]
    },
    {
     "name": "stderr",
     "output_type": "stream",
     "text": [
      "Metric train_loss improved by 0.085 >= min_delta = 0.0. New best score: 0.216\n"
     ]
    },
    {
     "name": "stdout",
     "output_type": "stream",
     "text": [
      "Epoch 24: 100%|██████████| 8/8 [00:00<00:00, 26.52it/s, loss=0.342, train_loss=0.216, train_accuracy=1.000]"
     ]
    },
    {
     "name": "stderr",
     "output_type": "stream",
     "text": [
      "[2025-02-14 14:14:53] INFO (torcheeg/MainThread) \n",
      "[Train] train_loss: 0.318 train_accuracy: 0.917 \n",
      "\n"
     ]
    },
    {
     "name": "stdout",
     "output_type": "stream",
     "text": [
      "Epoch 25: 100%|██████████| 8/8 [00:00<00:00, 26.11it/s, loss=0.313, train_loss=0.372, train_accuracy=0.875]"
     ]
    },
    {
     "name": "stderr",
     "output_type": "stream",
     "text": [
      "[2025-02-14 14:14:53] INFO (torcheeg/MainThread) \n",
      "[Train] train_loss: 0.298 train_accuracy: 0.942 \n",
      "\n"
     ]
    },
    {
     "name": "stdout",
     "output_type": "stream",
     "text": [
      "Epoch 26: 100%|██████████| 8/8 [00:00<00:00, 26.52it/s, loss=0.295, train_loss=0.202, train_accuracy=1.000]"
     ]
    },
    {
     "name": "stderr",
     "output_type": "stream",
     "text": [
      "Metric train_loss improved by 0.014 >= min_delta = 0.0. New best score: 0.202\n"
     ]
    },
    {
     "name": "stdout",
     "output_type": "stream",
     "text": [
      "Epoch 26: 100%|██████████| 8/8 [00:00<00:00, 26.38it/s, loss=0.295, train_loss=0.202, train_accuracy=1.000]"
     ]
    },
    {
     "name": "stderr",
     "output_type": "stream",
     "text": [
      "[2025-02-14 14:14:53] INFO (torcheeg/MainThread) \n",
      "[Train] train_loss: 0.273 train_accuracy: 0.942 \n",
      "\n"
     ]
    },
    {
     "name": "stdout",
     "output_type": "stream",
     "text": [
      "Epoch 27: 100%|██████████| 8/8 [00:00<00:00, 26.65it/s, loss=0.303, train_loss=0.651, train_accuracy=0.875]"
     ]
    },
    {
     "name": "stderr",
     "output_type": "stream",
     "text": [
      "[2025-02-14 14:14:54] INFO (torcheeg/MainThread) \n",
      "[Train] train_loss: 0.325 train_accuracy: 0.925 \n",
      "\n"
     ]
    },
    {
     "name": "stdout",
     "output_type": "stream",
     "text": [
      "Epoch 28: 100%|██████████| 8/8 [00:00<00:00, 27.08it/s, loss=0.295, train_loss=0.211, train_accuracy=1.000]"
     ]
    },
    {
     "name": "stderr",
     "output_type": "stream",
     "text": [
      "[2025-02-14 14:14:54] INFO (torcheeg/MainThread) \n",
      "[Train] train_loss: 0.275 train_accuracy: 0.942 \n",
      "\n"
     ]
    },
    {
     "name": "stdout",
     "output_type": "stream",
     "text": [
      "Epoch 29: 100%|██████████| 8/8 [00:00<00:00, 27.09it/s, loss=0.29, train_loss=0.350, train_accuracy=0.875] "
     ]
    },
    {
     "name": "stderr",
     "output_type": "stream",
     "text": [
      "[2025-02-14 14:14:54] INFO (torcheeg/MainThread) \n",
      "[Train] train_loss: 0.254 train_accuracy: 0.925 \n",
      "\n"
     ]
    },
    {
     "name": "stdout",
     "output_type": "stream",
     "text": [
      "Epoch 30: 100%|██████████| 8/8 [00:00<00:00, 27.95it/s, loss=0.246, train_loss=0.197, train_accuracy=1.000]"
     ]
    },
    {
     "name": "stderr",
     "output_type": "stream",
     "text": [
      "Metric train_loss improved by 0.005 >= min_delta = 0.0. New best score: 0.197\n"
     ]
    },
    {
     "name": "stdout",
     "output_type": "stream",
     "text": [
      "Epoch 30: 100%|██████████| 8/8 [00:00<00:00, 27.80it/s, loss=0.246, train_loss=0.197, train_accuracy=1.000]"
     ]
    },
    {
     "name": "stderr",
     "output_type": "stream",
     "text": [
      "[2025-02-14 14:14:54] INFO (torcheeg/MainThread) \n",
      "[Train] train_loss: 0.239 train_accuracy: 0.933 \n",
      "\n"
     ]
    },
    {
     "name": "stdout",
     "output_type": "stream",
     "text": [
      "Epoch 31: 100%|██████████| 8/8 [00:00<00:00, 27.75it/s, loss=0.236, train_loss=0.219, train_accuracy=0.875]"
     ]
    },
    {
     "name": "stderr",
     "output_type": "stream",
     "text": [
      "[2025-02-14 14:14:55] INFO (torcheeg/MainThread) \n",
      "[Train] train_loss: 0.208 train_accuracy: 0.975 \n",
      "\n"
     ]
    },
    {
     "name": "stdout",
     "output_type": "stream",
     "text": [
      "Epoch 32: 100%|██████████| 8/8 [00:00<00:00, 27.57it/s, loss=0.215, train_loss=0.214, train_accuracy=1.000]"
     ]
    },
    {
     "name": "stderr",
     "output_type": "stream",
     "text": [
      "[2025-02-14 14:14:55] INFO (torcheeg/MainThread) \n",
      "[Train] train_loss: 0.220 train_accuracy: 0.950 \n",
      "\n"
     ]
    },
    {
     "name": "stdout",
     "output_type": "stream",
     "text": [
      "Epoch 33: 100%|██████████| 8/8 [00:00<00:00, 27.78it/s, loss=0.215, train_loss=0.245, train_accuracy=0.875]"
     ]
    },
    {
     "name": "stderr",
     "output_type": "stream",
     "text": [
      "[2025-02-14 14:14:55] INFO (torcheeg/MainThread) \n",
      "[Train] train_loss: 0.222 train_accuracy: 0.950 \n",
      "\n"
     ]
    },
    {
     "name": "stdout",
     "output_type": "stream",
     "text": [
      "Epoch 34: 100%|██████████| 8/8 [00:00<00:00, 27.85it/s, loss=0.208, train_loss=0.168, train_accuracy=0.875]"
     ]
    },
    {
     "name": "stderr",
     "output_type": "stream",
     "text": [
      "Metric train_loss improved by 0.029 >= min_delta = 0.0. New best score: 0.168\n"
     ]
    },
    {
     "name": "stdout",
     "output_type": "stream",
     "text": [
      "Epoch 34: 100%|██████████| 8/8 [00:00<00:00, 27.70it/s, loss=0.208, train_loss=0.168, train_accuracy=0.875]"
     ]
    },
    {
     "name": "stderr",
     "output_type": "stream",
     "text": [
      "[2025-02-14 14:14:56] INFO (torcheeg/MainThread) \n",
      "[Train] train_loss: 0.197 train_accuracy: 0.958 \n",
      "\n"
     ]
    },
    {
     "name": "stdout",
     "output_type": "stream",
     "text": [
      "Epoch 35: 100%|██████████| 8/8 [00:00<00:00, 27.79it/s, loss=0.199, train_loss=0.167, train_accuracy=1.000]"
     ]
    },
    {
     "name": "stderr",
     "output_type": "stream",
     "text": [
      "Metric train_loss improved by 0.001 >= min_delta = 0.0. New best score: 0.167\n"
     ]
    },
    {
     "name": "stdout",
     "output_type": "stream",
     "text": [
      "Epoch 35: 100%|██████████| 8/8 [00:00<00:00, 27.64it/s, loss=0.199, train_loss=0.167, train_accuracy=1.000]"
     ]
    },
    {
     "name": "stderr",
     "output_type": "stream",
     "text": [
      "[2025-02-14 14:14:56] INFO (torcheeg/MainThread) \n",
      "[Train] train_loss: 0.190 train_accuracy: 0.967 \n",
      "\n"
     ]
    },
    {
     "name": "stdout",
     "output_type": "stream",
     "text": [
      "Epoch 36: 100%|██████████| 8/8 [00:00<00:00, 27.98it/s, loss=0.182, train_loss=0.321, train_accuracy=0.750]"
     ]
    },
    {
     "name": "stderr",
     "output_type": "stream",
     "text": [
      "[2025-02-14 14:14:56] INFO (torcheeg/MainThread) \n",
      "[Train] train_loss: 0.167 train_accuracy: 0.967 \n",
      "\n"
     ]
    },
    {
     "name": "stdout",
     "output_type": "stream",
     "text": [
      "Epoch 37: 100%|██████████| 8/8 [00:00<00:00, 27.44it/s, loss=0.181, train_loss=0.101, train_accuracy=1.000]"
     ]
    },
    {
     "name": "stderr",
     "output_type": "stream",
     "text": [
      "Metric train_loss improved by 0.066 >= min_delta = 0.0. New best score: 0.101\n"
     ]
    },
    {
     "name": "stdout",
     "output_type": "stream",
     "text": [
      "Epoch 37: 100%|██████████| 8/8 [00:00<00:00, 27.23it/s, loss=0.181, train_loss=0.101, train_accuracy=1.000]"
     ]
    },
    {
     "name": "stderr",
     "output_type": "stream",
     "text": [
      "[2025-02-14 14:14:56] INFO (torcheeg/MainThread) \n",
      "[Train] train_loss: 0.188 train_accuracy: 0.950 \n",
      "\n"
     ]
    },
    {
     "name": "stdout",
     "output_type": "stream",
     "text": [
      "Epoch 38: 100%|██████████| 8/8 [00:00<00:00, 26.19it/s, loss=0.169, train_loss=0.167, train_accuracy=0.875]"
     ]
    },
    {
     "name": "stderr",
     "output_type": "stream",
     "text": [
      "[2025-02-14 14:14:57] INFO (torcheeg/MainThread) \n",
      "[Train] train_loss: 0.142 train_accuracy: 0.983 \n",
      "\n"
     ]
    },
    {
     "name": "stdout",
     "output_type": "stream",
     "text": [
      "Epoch 39: 100%|██████████| 8/8 [00:00<00:00, 27.00it/s, loss=0.157, train_loss=0.266, train_accuracy=0.750] "
     ]
    },
    {
     "name": "stderr",
     "output_type": "stream",
     "text": [
      "[2025-02-14 14:14:57] INFO (torcheeg/MainThread) \n",
      "[Train] train_loss: 0.160 train_accuracy: 0.950 \n",
      "\n"
     ]
    },
    {
     "name": "stdout",
     "output_type": "stream",
     "text": [
      "Epoch 40: 100%|██████████| 8/8 [00:00<00:00, 27.90it/s, loss=0.142, train_loss=0.134, train_accuracy=1.000] "
     ]
    },
    {
     "name": "stderr",
     "output_type": "stream",
     "text": [
      "[2025-02-14 14:14:57] INFO (torcheeg/MainThread) \n",
      "[Train] train_loss: 0.126 train_accuracy: 0.983 \n",
      "\n"
     ]
    },
    {
     "name": "stdout",
     "output_type": "stream",
     "text": [
      "Epoch 41: 100%|██████████| 8/8 [00:00<00:00, 26.67it/s, loss=0.125, train_loss=0.123, train_accuracy=1.000] "
     ]
    },
    {
     "name": "stderr",
     "output_type": "stream",
     "text": [
      "[2025-02-14 14:14:58] INFO (torcheeg/MainThread) \n",
      "[Train] train_loss: 0.115 train_accuracy: 0.983 \n",
      "\n"
     ]
    },
    {
     "name": "stdout",
     "output_type": "stream",
     "text": [
      "Epoch 42: 100%|██████████| 8/8 [00:00<00:00, 27.17it/s, loss=0.123, train_loss=0.152, train_accuracy=1.000]"
     ]
    },
    {
     "name": "stderr",
     "output_type": "stream",
     "text": [
      "[2025-02-14 14:14:58] INFO (torcheeg/MainThread) \n",
      "[Train] train_loss: 0.140 train_accuracy: 0.983 \n",
      "\n"
     ]
    },
    {
     "name": "stdout",
     "output_type": "stream",
     "text": [
      "Epoch 43: 100%|██████████| 8/8 [00:00<00:00, 27.15it/s, loss=0.124, train_loss=0.108, train_accuracy=1.000] "
     ]
    },
    {
     "name": "stderr",
     "output_type": "stream",
     "text": [
      "[2025-02-14 14:14:58] INFO (torcheeg/MainThread) \n",
      "[Train] train_loss: 0.102 train_accuracy: 1.000 \n",
      "\n"
     ]
    },
    {
     "name": "stdout",
     "output_type": "stream",
     "text": [
      "Epoch 44: 100%|██████████| 8/8 [00:00<00:00, 27.83it/s, loss=0.116, train_loss=0.0979, train_accuracy=1.000]"
     ]
    },
    {
     "name": "stderr",
     "output_type": "stream",
     "text": [
      "Metric train_loss improved by 0.003 >= min_delta = 0.0. New best score: 0.098\n"
     ]
    },
    {
     "name": "stdout",
     "output_type": "stream",
     "text": [
      "Epoch 44: 100%|██████████| 8/8 [00:00<00:00, 27.68it/s, loss=0.116, train_loss=0.0979, train_accuracy=1.000]"
     ]
    },
    {
     "name": "stderr",
     "output_type": "stream",
     "text": [
      "[2025-02-14 14:14:59] INFO (torcheeg/MainThread) \n",
      "[Train] train_loss: 0.121 train_accuracy: 0.983 \n",
      "\n"
     ]
    },
    {
     "name": "stdout",
     "output_type": "stream",
     "text": [
      "Epoch 45: 100%|██████████| 8/8 [00:00<00:00, 27.86it/s, loss=0.11, train_loss=0.159, train_accuracy=0.875]  "
     ]
    },
    {
     "name": "stderr",
     "output_type": "stream",
     "text": [
      "[2025-02-14 14:14:59] INFO (torcheeg/MainThread) \n",
      "[Train] train_loss: 0.104 train_accuracy: 0.992 \n",
      "\n"
     ]
    },
    {
     "name": "stdout",
     "output_type": "stream",
     "text": [
      "Epoch 46: 100%|██████████| 8/8 [00:00<00:00, 28.21it/s, loss=0.103, train_loss=0.161, train_accuracy=1.000] "
     ]
    },
    {
     "name": "stderr",
     "output_type": "stream",
     "text": [
      "[2025-02-14 14:14:59] INFO (torcheeg/MainThread) \n",
      "[Train] train_loss: 0.102 train_accuracy: 0.992 \n",
      "\n"
     ]
    },
    {
     "name": "stdout",
     "output_type": "stream",
     "text": [
      "Epoch 47: 100%|██████████| 8/8 [00:00<00:00, 27.92it/s, loss=0.104, train_loss=0.0515, train_accuracy=1.000]"
     ]
    },
    {
     "name": "stderr",
     "output_type": "stream",
     "text": [
      "Metric train_loss improved by 0.046 >= min_delta = 0.0. New best score: 0.052\n"
     ]
    },
    {
     "name": "stdout",
     "output_type": "stream",
     "text": [
      "Epoch 47: 100%|██████████| 8/8 [00:00<00:00, 27.77it/s, loss=0.104, train_loss=0.0515, train_accuracy=1.000]"
     ]
    },
    {
     "name": "stderr",
     "output_type": "stream",
     "text": [
      "[2025-02-14 14:14:59] INFO (torcheeg/MainThread) \n",
      "[Train] train_loss: 0.097 train_accuracy: 0.975 \n",
      "\n"
     ]
    },
    {
     "name": "stdout",
     "output_type": "stream",
     "text": [
      "Epoch 48: 100%|██████████| 8/8 [00:00<00:00, 23.33it/s, loss=0.104, train_loss=0.135, train_accuracy=1.000] "
     ]
    },
    {
     "name": "stderr",
     "output_type": "stream",
     "text": [
      "[2025-02-14 14:15:00] INFO (torcheeg/MainThread) \n",
      "[Train] train_loss: 0.102 train_accuracy: 0.975 \n",
      "\n"
     ]
    },
    {
     "name": "stdout",
     "output_type": "stream",
     "text": [
      "Epoch 49: 100%|██████████| 8/8 [00:00<00:00, 22.92it/s, loss=0.0862, train_loss=0.0473, train_accuracy=1.000]"
     ]
    },
    {
     "name": "stderr",
     "output_type": "stream",
     "text": [
      "Metric train_loss improved by 0.004 >= min_delta = 0.0. New best score: 0.047\n"
     ]
    },
    {
     "name": "stdout",
     "output_type": "stream",
     "text": [
      "Epoch 49: 100%|██████████| 8/8 [00:00<00:00, 22.81it/s, loss=0.0862, train_loss=0.0473, train_accuracy=1.000]"
     ]
    },
    {
     "name": "stderr",
     "output_type": "stream",
     "text": [
      "[2025-02-14 14:15:00] INFO (torcheeg/MainThread) \n",
      "[Train] train_loss: 0.070 train_accuracy: 1.000 \n",
      "\n"
     ]
    },
    {
     "name": "stdout",
     "output_type": "stream",
     "text": [
      "Epoch 50: 100%|██████████| 8/8 [00:00<00:00, 23.81it/s, loss=0.0818, train_loss=0.0552, train_accuracy=1.000]"
     ]
    },
    {
     "name": "stderr",
     "output_type": "stream",
     "text": [
      "[2025-02-14 14:15:00] INFO (torcheeg/MainThread) \n",
      "[Train] train_loss: 0.090 train_accuracy: 0.983 \n",
      "\n"
     ]
    },
    {
     "name": "stdout",
     "output_type": "stream",
     "text": [
      "Epoch 51: 100%|██████████| 8/8 [00:00<00:00, 23.18it/s, loss=0.0799, train_loss=0.0868, train_accuracy=1.000]"
     ]
    },
    {
     "name": "stderr",
     "output_type": "stream",
     "text": [
      "[2025-02-14 14:15:01] INFO (torcheeg/MainThread) \n",
      "[Train] train_loss: 0.080 train_accuracy: 0.992 \n",
      "\n"
     ]
    },
    {
     "name": "stdout",
     "output_type": "stream",
     "text": [
      "Epoch 52: 100%|██████████| 8/8 [00:00<00:00, 22.49it/s, loss=0.0792, train_loss=0.119, train_accuracy=1.000] "
     ]
    },
    {
     "name": "stderr",
     "output_type": "stream",
     "text": [
      "[2025-02-14 14:15:01] INFO (torcheeg/MainThread) \n",
      "[Train] train_loss: 0.082 train_accuracy: 0.992 \n",
      "\n"
     ]
    },
    {
     "name": "stdout",
     "output_type": "stream",
     "text": [
      "Epoch 53: 100%|██████████| 8/8 [00:00<00:00, 23.12it/s, loss=0.0774, train_loss=0.0959, train_accuracy=1.000]"
     ]
    },
    {
     "name": "stderr",
     "output_type": "stream",
     "text": [
      "[2025-02-14 14:15:01] INFO (torcheeg/MainThread) \n",
      "[Train] train_loss: 0.067 train_accuracy: 1.000 \n",
      "\n"
     ]
    },
    {
     "name": "stdout",
     "output_type": "stream",
     "text": [
      "Epoch 54: 100%|██████████| 8/8 [00:00<00:00, 22.68it/s, loss=0.0763, train_loss=0.0934, train_accuracy=1.000]"
     ]
    },
    {
     "name": "stderr",
     "output_type": "stream",
     "text": [
      "[2025-02-14 14:15:02] INFO (torcheeg/MainThread) \n",
      "[Train] train_loss: 0.071 train_accuracy: 1.000 \n",
      "\n"
     ]
    },
    {
     "name": "stdout",
     "output_type": "stream",
     "text": [
      "Epoch 55: 100%|██████████| 8/8 [00:00<00:00, 22.71it/s, loss=0.0677, train_loss=0.097, train_accuracy=1.000] "
     ]
    },
    {
     "name": "stderr",
     "output_type": "stream",
     "text": [
      "[2025-02-14 14:15:02] INFO (torcheeg/MainThread) \n",
      "[Train] train_loss: 0.058 train_accuracy: 1.000 \n",
      "\n"
     ]
    },
    {
     "name": "stdout",
     "output_type": "stream",
     "text": [
      "Epoch 56: 100%|██████████| 8/8 [00:00<00:00, 22.71it/s, loss=0.063, train_loss=0.0281, train_accuracy=1.000] "
     ]
    },
    {
     "name": "stderr",
     "output_type": "stream",
     "text": [
      "Metric train_loss improved by 0.019 >= min_delta = 0.0. New best score: 0.028\n"
     ]
    },
    {
     "name": "stdout",
     "output_type": "stream",
     "text": [
      "Epoch 56: 100%|██████████| 8/8 [00:00<00:00, 22.60it/s, loss=0.063, train_loss=0.0281, train_accuracy=1.000]"
     ]
    },
    {
     "name": "stderr",
     "output_type": "stream",
     "text": [
      "[2025-02-14 14:15:03] INFO (torcheeg/MainThread) \n",
      "[Train] train_loss: 0.064 train_accuracy: 1.000 \n",
      "\n"
     ]
    },
    {
     "name": "stdout",
     "output_type": "stream",
     "text": [
      "Epoch 57: 100%|██████████| 8/8 [00:00<00:00, 23.38it/s, loss=0.0622, train_loss=0.138, train_accuracy=1.000] "
     ]
    },
    {
     "name": "stderr",
     "output_type": "stream",
     "text": [
      "[2025-02-14 14:15:03] INFO (torcheeg/MainThread) \n",
      "[Train] train_loss: 0.060 train_accuracy: 1.000 \n",
      "\n"
     ]
    },
    {
     "name": "stdout",
     "output_type": "stream",
     "text": [
      "Epoch 58: 100%|██████████| 8/8 [00:00<00:00, 25.62it/s, loss=0.0558, train_loss=0.0535, train_accuracy=1.000]"
     ]
    },
    {
     "name": "stderr",
     "output_type": "stream",
     "text": [
      "[2025-02-14 14:15:03] INFO (torcheeg/MainThread) \n",
      "[Train] train_loss: 0.054 train_accuracy: 1.000 \n",
      "\n"
     ]
    },
    {
     "name": "stdout",
     "output_type": "stream",
     "text": [
      "Epoch 59: 100%|██████████| 8/8 [00:00<00:00, 27.73it/s, loss=0.0569, train_loss=0.0389, train_accuracy=1.000]"
     ]
    },
    {
     "name": "stderr",
     "output_type": "stream",
     "text": [
      "[2025-02-14 14:15:04] INFO (torcheeg/MainThread) \n",
      "[Train] train_loss: 0.054 train_accuracy: 1.000 \n",
      "\n"
     ]
    },
    {
     "name": "stdout",
     "output_type": "stream",
     "text": [
      "Epoch 60: 100%|██████████| 8/8 [00:00<00:00, 27.30it/s, loss=0.0628, train_loss=0.236, train_accuracy=0.875] "
     ]
    },
    {
     "name": "stderr",
     "output_type": "stream",
     "text": [
      "[2025-02-14 14:15:04] INFO (torcheeg/MainThread) \n",
      "[Train] train_loss: 0.081 train_accuracy: 0.983 \n",
      "\n"
     ]
    },
    {
     "name": "stdout",
     "output_type": "stream",
     "text": [
      "Epoch 61: 100%|██████████| 8/8 [00:00<00:00, 27.45it/s, loss=0.0592, train_loss=0.0698, train_accuracy=1.000]"
     ]
    },
    {
     "name": "stderr",
     "output_type": "stream",
     "text": [
      "[2025-02-14 14:15:04] INFO (torcheeg/MainThread) \n",
      "[Train] train_loss: 0.040 train_accuracy: 1.000 \n",
      "\n"
     ]
    },
    {
     "name": "stdout",
     "output_type": "stream",
     "text": [
      "Epoch 62: 100%|██████████| 8/8 [00:00<00:00, 26.85it/s, loss=0.0562, train_loss=0.0603, train_accuracy=1.000]"
     ]
    },
    {
     "name": "stderr",
     "output_type": "stream",
     "text": [
      "[2025-02-14 14:15:04] INFO (torcheeg/MainThread) \n",
      "[Train] train_loss: 0.049 train_accuracy: 0.992 \n",
      "\n"
     ]
    },
    {
     "name": "stdout",
     "output_type": "stream",
     "text": [
      "Epoch 63: 100%|██████████| 8/8 [00:00<00:00, 28.06it/s, loss=0.0503, train_loss=0.0939, train_accuracy=1.000]"
     ]
    },
    {
     "name": "stderr",
     "output_type": "stream",
     "text": [
      "[2025-02-14 14:15:05] INFO (torcheeg/MainThread) \n",
      "[Train] train_loss: 0.053 train_accuracy: 0.992 \n",
      "\n"
     ]
    },
    {
     "name": "stdout",
     "output_type": "stream",
     "text": [
      "Epoch 64: 100%|██████████| 8/8 [00:00<00:00, 27.23it/s, loss=0.067, train_loss=0.0342, train_accuracy=1.000] "
     ]
    },
    {
     "name": "stderr",
     "output_type": "stream",
     "text": [
      "[2025-02-14 14:15:05] INFO (torcheeg/MainThread) \n",
      "[Train] train_loss: 0.076 train_accuracy: 0.983 \n",
      "\n"
     ]
    },
    {
     "name": "stdout",
     "output_type": "stream",
     "text": [
      "Epoch 65: 100%|██████████| 8/8 [00:00<00:00, 27.75it/s, loss=0.0593, train_loss=0.00271, train_accuracy=1.000]"
     ]
    },
    {
     "name": "stderr",
     "output_type": "stream",
     "text": [
      "Metric train_loss improved by 0.025 >= min_delta = 0.0. New best score: 0.003\n"
     ]
    },
    {
     "name": "stdout",
     "output_type": "stream",
     "text": [
      "Epoch 65: 100%|██████████| 8/8 [00:00<00:00, 27.60it/s, loss=0.0593, train_loss=0.00271, train_accuracy=1.000]"
     ]
    },
    {
     "name": "stderr",
     "output_type": "stream",
     "text": [
      "[2025-02-14 14:15:05] INFO (torcheeg/MainThread) \n",
      "[Train] train_loss: 0.047 train_accuracy: 0.992 \n",
      "\n"
     ]
    },
    {
     "name": "stdout",
     "output_type": "stream",
     "text": [
      "Epoch 66: 100%|██████████| 8/8 [00:00<00:00, 27.29it/s, loss=0.0502, train_loss=0.0259, train_accuracy=1.000] "
     ]
    },
    {
     "name": "stderr",
     "output_type": "stream",
     "text": [
      "[2025-02-14 14:15:06] INFO (torcheeg/MainThread) \n",
      "[Train] train_loss: 0.056 train_accuracy: 0.983 \n",
      "\n"
     ]
    },
    {
     "name": "stdout",
     "output_type": "stream",
     "text": [
      "Epoch 67: 100%|██████████| 8/8 [00:00<00:00, 25.45it/s, loss=0.0482, train_loss=0.0616, train_accuracy=1.000]"
     ]
    },
    {
     "name": "stderr",
     "output_type": "stream",
     "text": [
      "[2025-02-14 14:15:06] INFO (torcheeg/MainThread) \n",
      "[Train] train_loss: 0.044 train_accuracy: 1.000 \n",
      "\n"
     ]
    },
    {
     "name": "stdout",
     "output_type": "stream",
     "text": [
      "Epoch 68: 100%|██████████| 8/8 [00:00<00:00, 27.96it/s, loss=0.0362, train_loss=0.00211, train_accuracy=1.000]"
     ]
    },
    {
     "name": "stderr",
     "output_type": "stream",
     "text": [
      "Metric train_loss improved by 0.001 >= min_delta = 0.0. New best score: 0.002\n"
     ]
    },
    {
     "name": "stdout",
     "output_type": "stream",
     "text": [
      "Epoch 68: 100%|██████████| 8/8 [00:00<00:00, 27.80it/s, loss=0.0362, train_loss=0.00211, train_accuracy=1.000]"
     ]
    },
    {
     "name": "stderr",
     "output_type": "stream",
     "text": [
      "[2025-02-14 14:15:06] INFO (torcheeg/MainThread) \n",
      "[Train] train_loss: 0.034 train_accuracy: 1.000 \n",
      "\n"
     ]
    },
    {
     "name": "stdout",
     "output_type": "stream",
     "text": [
      "Epoch 69: 100%|██████████| 8/8 [00:00<00:00, 26.79it/s, loss=0.031, train_loss=0.00996, train_accuracy=1.000] "
     ]
    },
    {
     "name": "stderr",
     "output_type": "stream",
     "text": [
      "[2025-02-14 14:15:06] INFO (torcheeg/MainThread) \n",
      "[Train] train_loss: 0.023 train_accuracy: 1.000 \n",
      "\n"
     ]
    },
    {
     "name": "stdout",
     "output_type": "stream",
     "text": [
      "Epoch 70: 100%|██████████| 8/8 [00:00<00:00, 26.39it/s, loss=0.0307, train_loss=0.0219, train_accuracy=1.000]"
     ]
    },
    {
     "name": "stderr",
     "output_type": "stream",
     "text": [
      "[2025-02-14 14:15:07] INFO (torcheeg/MainThread) \n",
      "[Train] train_loss: 0.040 train_accuracy: 0.992 \n",
      "\n"
     ]
    },
    {
     "name": "stdout",
     "output_type": "stream",
     "text": [
      "Epoch 71: 100%|██████████| 8/8 [00:00<00:00, 27.48it/s, loss=0.0351, train_loss=0.0291, train_accuracy=1.000] "
     ]
    },
    {
     "name": "stderr",
     "output_type": "stream",
     "text": [
      "[2025-02-14 14:15:07] INFO (torcheeg/MainThread) \n",
      "[Train] train_loss: 0.041 train_accuracy: 0.992 \n",
      "\n"
     ]
    },
    {
     "name": "stdout",
     "output_type": "stream",
     "text": [
      "Epoch 72: 100%|██████████| 8/8 [00:00<00:00, 25.71it/s, loss=0.038, train_loss=0.00605, train_accuracy=1.000]"
     ]
    },
    {
     "name": "stderr",
     "output_type": "stream",
     "text": [
      "[2025-02-14 14:15:07] INFO (torcheeg/MainThread) \n",
      "[Train] train_loss: 0.036 train_accuracy: 1.000 \n",
      "\n"
     ]
    },
    {
     "name": "stdout",
     "output_type": "stream",
     "text": [
      "Epoch 73: 100%|██████████| 8/8 [00:00<00:00, 27.96it/s, loss=0.0464, train_loss=0.0203, train_accuracy=1.000]"
     ]
    },
    {
     "name": "stderr",
     "output_type": "stream",
     "text": [
      "[2025-02-14 14:15:08] INFO (torcheeg/MainThread) \n",
      "[Train] train_loss: 0.051 train_accuracy: 0.992 \n",
      "\n"
     ]
    },
    {
     "name": "stdout",
     "output_type": "stream",
     "text": [
      "Epoch 74: 100%|██████████| 8/8 [00:00<00:00, 28.30it/s, loss=0.0385, train_loss=0.00999, train_accuracy=1.000]"
     ]
    },
    {
     "name": "stderr",
     "output_type": "stream",
     "text": [
      "[2025-02-14 14:15:08] INFO (torcheeg/MainThread) \n",
      "[Train] train_loss: 0.026 train_accuracy: 1.000 \n",
      "\n"
     ]
    },
    {
     "name": "stdout",
     "output_type": "stream",
     "text": [
      "Epoch 75: 100%|██████████| 8/8 [00:00<00:00, 28.34it/s, loss=0.0391, train_loss=0.0038, train_accuracy=1.000] "
     ]
    },
    {
     "name": "stderr",
     "output_type": "stream",
     "text": [
      "[2025-02-14 14:15:08] INFO (torcheeg/MainThread) \n",
      "[Train] train_loss: 0.048 train_accuracy: 0.992 \n",
      "\n"
     ]
    },
    {
     "name": "stdout",
     "output_type": "stream",
     "text": [
      "Epoch 76: 100%|██████████| 8/8 [00:00<00:00, 28.17it/s, loss=0.0388, train_loss=0.0158, train_accuracy=1.000]"
     ]
    },
    {
     "name": "stderr",
     "output_type": "stream",
     "text": [
      "[2025-02-14 14:15:09] INFO (torcheeg/MainThread) \n",
      "[Train] train_loss: 0.035 train_accuracy: 1.000 \n",
      "\n"
     ]
    },
    {
     "name": "stdout",
     "output_type": "stream",
     "text": [
      "Epoch 77: 100%|██████████| 8/8 [00:00<00:00, 27.35it/s, loss=0.0325, train_loss=0.0149, train_accuracy=1.000] "
     ]
    },
    {
     "name": "stderr",
     "output_type": "stream",
     "text": [
      "[2025-02-14 14:15:09] INFO (torcheeg/MainThread) \n",
      "[Train] train_loss: 0.025 train_accuracy: 1.000 \n",
      "\n"
     ]
    },
    {
     "name": "stdout",
     "output_type": "stream",
     "text": [
      "Epoch 78: 100%|██████████| 8/8 [00:00<00:00, 28.41it/s, loss=0.0245, train_loss=0.024, train_accuracy=1.000] "
     ]
    },
    {
     "name": "stderr",
     "output_type": "stream",
     "text": [
      "[2025-02-14 14:15:09] INFO (torcheeg/MainThread) \n",
      "[Train] train_loss: 0.021 train_accuracy: 1.000 \n",
      "\n"
     ]
    },
    {
     "name": "stdout",
     "output_type": "stream",
     "text": [
      "Epoch 79: 100%|██████████| 8/8 [00:00<00:00, 28.57it/s, loss=0.0236, train_loss=0.00882, train_accuracy=1.000]"
     ]
    },
    {
     "name": "stderr",
     "output_type": "stream",
     "text": [
      "[2025-02-14 14:15:09] INFO (torcheeg/MainThread) \n",
      "[Train] train_loss: 0.021 train_accuracy: 1.000 \n",
      "\n"
     ]
    },
    {
     "name": "stdout",
     "output_type": "stream",
     "text": [
      "Epoch 80: 100%|██████████| 8/8 [00:00<00:00, 26.54it/s, loss=0.028, train_loss=0.0121, train_accuracy=1.000]  "
     ]
    },
    {
     "name": "stderr",
     "output_type": "stream",
     "text": [
      "[2025-02-14 14:15:10] INFO (torcheeg/MainThread) \n",
      "[Train] train_loss: 0.039 train_accuracy: 1.000 \n",
      "\n"
     ]
    },
    {
     "name": "stdout",
     "output_type": "stream",
     "text": [
      "Epoch 81: 100%|██████████| 8/8 [00:00<00:00, 27.92it/s, loss=0.0266, train_loss=0.0253, train_accuracy=1.000] "
     ]
    },
    {
     "name": "stderr",
     "output_type": "stream",
     "text": [
      "[2025-02-14 14:15:10] INFO (torcheeg/MainThread) \n",
      "[Train] train_loss: 0.020 train_accuracy: 1.000 \n",
      "\n"
     ]
    },
    {
     "name": "stdout",
     "output_type": "stream",
     "text": [
      "Epoch 82: 100%|██████████| 8/8 [00:00<00:00, 27.88it/s, loss=0.0256, train_loss=0.0248, train_accuracy=1.000]"
     ]
    },
    {
     "name": "stderr",
     "output_type": "stream",
     "text": [
      "[2025-02-14 14:15:10] INFO (torcheeg/MainThread) \n",
      "[Train] train_loss: 0.027 train_accuracy: 1.000 \n",
      "\n"
     ]
    },
    {
     "name": "stdout",
     "output_type": "stream",
     "text": [
      "Epoch 83: 100%|██████████| 8/8 [00:00<00:00, 27.38it/s, loss=0.0258, train_loss=0.0439, train_accuracy=1.000] "
     ]
    },
    {
     "name": "stderr",
     "output_type": "stream",
     "text": [
      "[2025-02-14 14:15:11] INFO (torcheeg/MainThread) \n",
      "[Train] train_loss: 0.029 train_accuracy: 0.992 \n",
      "\n"
     ]
    },
    {
     "name": "stdout",
     "output_type": "stream",
     "text": [
      "Epoch 84: 100%|██████████| 8/8 [00:00<00:00, 28.14it/s, loss=0.0238, train_loss=0.016, train_accuracy=1.000]  "
     ]
    },
    {
     "name": "stderr",
     "output_type": "stream",
     "text": [
      "[2025-02-14 14:15:11] INFO (torcheeg/MainThread) \n",
      "[Train] train_loss: 0.020 train_accuracy: 1.000 \n",
      "\n"
     ]
    },
    {
     "name": "stdout",
     "output_type": "stream",
     "text": [
      "Epoch 85: 100%|██████████| 8/8 [00:00<00:00, 27.36it/s, loss=0.0246, train_loss=0.00653, train_accuracy=1.000]"
     ]
    },
    {
     "name": "stderr",
     "output_type": "stream",
     "text": [
      "[2025-02-14 14:15:11] INFO (torcheeg/MainThread) \n",
      "[Train] train_loss: 0.021 train_accuracy: 1.000 \n",
      "\n"
     ]
    },
    {
     "name": "stdout",
     "output_type": "stream",
     "text": [
      "Epoch 86: 100%|██████████| 8/8 [00:00<00:00, 28.86it/s, loss=0.0277, train_loss=0.0128, train_accuracy=1.000] "
     ]
    },
    {
     "name": "stderr",
     "output_type": "stream",
     "text": [
      "[2025-02-14 14:15:11] INFO (torcheeg/MainThread) \n",
      "[Train] train_loss: 0.040 train_accuracy: 0.992 \n",
      "\n"
     ]
    },
    {
     "name": "stdout",
     "output_type": "stream",
     "text": [
      "Epoch 87: 100%|██████████| 8/8 [00:00<00:00, 27.80it/s, loss=0.0321, train_loss=0.0214, train_accuracy=1.000] "
     ]
    },
    {
     "name": "stderr",
     "output_type": "stream",
     "text": [
      "[2025-02-14 14:15:12] INFO (torcheeg/MainThread) \n",
      "[Train] train_loss: 0.032 train_accuracy: 0.983 \n",
      "\n"
     ]
    },
    {
     "name": "stdout",
     "output_type": "stream",
     "text": [
      "Epoch 88: 100%|██████████| 8/8 [00:00<00:00, 28.29it/s, loss=0.0283, train_loss=0.00349, train_accuracy=1.000]"
     ]
    },
    {
     "name": "stderr",
     "output_type": "stream",
     "text": [
      "[2025-02-14 14:15:12] INFO (torcheeg/MainThread) \n",
      "[Train] train_loss: 0.027 train_accuracy: 1.000 \n",
      "\n"
     ]
    },
    {
     "name": "stdout",
     "output_type": "stream",
     "text": [
      "Epoch 89: 100%|██████████| 8/8 [00:00<00:00, 27.49it/s, loss=0.0286, train_loss=0.035, train_accuracy=1.000]  "
     ]
    },
    {
     "name": "stderr",
     "output_type": "stream",
     "text": [
      "[2025-02-14 14:15:12] INFO (torcheeg/MainThread) \n",
      "[Train] train_loss: 0.017 train_accuracy: 1.000 \n",
      "\n"
     ]
    },
    {
     "name": "stdout",
     "output_type": "stream",
     "text": [
      "Epoch 90: 100%|██████████| 8/8 [00:00<00:00, 27.17it/s, loss=0.0186, train_loss=0.0197, train_accuracy=1.000] "
     ]
    },
    {
     "name": "stderr",
     "output_type": "stream",
     "text": [
      "[2025-02-14 14:15:13] INFO (torcheeg/MainThread) \n",
      "[Train] train_loss: 0.018 train_accuracy: 1.000 \n",
      "\n"
     ]
    },
    {
     "name": "stdout",
     "output_type": "stream",
     "text": [
      "Epoch 91: 100%|██████████| 8/8 [00:00<00:00, 26.29it/s, loss=0.0179, train_loss=0.0119, train_accuracy=1.000] "
     ]
    },
    {
     "name": "stderr",
     "output_type": "stream",
     "text": [
      "[2025-02-14 14:15:13] INFO (torcheeg/MainThread) \n",
      "[Train] train_loss: 0.017 train_accuracy: 1.000 \n",
      "\n"
     ]
    },
    {
     "name": "stdout",
     "output_type": "stream",
     "text": [
      "Epoch 92: 100%|██████████| 8/8 [00:00<00:00, 28.03it/s, loss=0.019, train_loss=0.0246, train_accuracy=1.000]  "
     ]
    },
    {
     "name": "stderr",
     "output_type": "stream",
     "text": [
      "[2025-02-14 14:15:13] INFO (torcheeg/MainThread) \n",
      "[Train] train_loss: 0.020 train_accuracy: 1.000 \n",
      "\n"
     ]
    },
    {
     "name": "stdout",
     "output_type": "stream",
     "text": [
      "Epoch 93: 100%|██████████| 8/8 [00:00<00:00, 28.97it/s, loss=0.0191, train_loss=0.0243, train_accuracy=1.000] "
     ]
    },
    {
     "name": "stderr",
     "output_type": "stream",
     "text": [
      "[2025-02-14 14:15:13] INFO (torcheeg/MainThread) \n",
      "[Train] train_loss: 0.015 train_accuracy: 1.000 \n",
      "\n"
     ]
    },
    {
     "name": "stdout",
     "output_type": "stream",
     "text": [
      "Epoch 94: 100%|██████████| 8/8 [00:00<00:00, 27.76it/s, loss=0.0195, train_loss=0.0468, train_accuracy=1.000] "
     ]
    },
    {
     "name": "stderr",
     "output_type": "stream",
     "text": [
      "[2025-02-14 14:15:14] INFO (torcheeg/MainThread) \n",
      "[Train] train_loss: 0.025 train_accuracy: 1.000 \n",
      "\n"
     ]
    },
    {
     "name": "stdout",
     "output_type": "stream",
     "text": [
      "Epoch 95: 100%|██████████| 8/8 [00:00<00:00, 28.94it/s, loss=0.0207, train_loss=0.0164, train_accuracy=1.000]"
     ]
    },
    {
     "name": "stderr",
     "output_type": "stream",
     "text": [
      "[2025-02-14 14:15:14] INFO (torcheeg/MainThread) \n",
      "[Train] train_loss: 0.019 train_accuracy: 1.000 \n",
      "\n"
     ]
    },
    {
     "name": "stdout",
     "output_type": "stream",
     "text": [
      "Epoch 96: 100%|██████████| 8/8 [00:00<00:00, 29.03it/s, loss=0.0227, train_loss=0.0116, train_accuracy=1.000] "
     ]
    },
    {
     "name": "stderr",
     "output_type": "stream",
     "text": [
      "[2025-02-14 14:15:14] INFO (torcheeg/MainThread) \n",
      "[Train] train_loss: 0.017 train_accuracy: 1.000 \n",
      "\n"
     ]
    },
    {
     "name": "stdout",
     "output_type": "stream",
     "text": [
      "Epoch 97: 100%|██████████| 8/8 [00:00<00:00, 26.09it/s, loss=0.018, train_loss=0.011, train_accuracy=1.000]  "
     ]
    },
    {
     "name": "stderr",
     "output_type": "stream",
     "text": [
      "[2025-02-14 14:15:15] INFO (torcheeg/MainThread) \n",
      "[Train] train_loss: 0.018 train_accuracy: 1.000 \n",
      "\n"
     ]
    },
    {
     "name": "stdout",
     "output_type": "stream",
     "text": [
      "Epoch 98: 100%|██████████| 8/8 [00:00<00:00, 26.48it/s, loss=0.0171, train_loss=0.00492, train_accuracy=1.000]"
     ]
    },
    {
     "name": "stderr",
     "output_type": "stream",
     "text": [
      "Monitored metric train_loss did not improve in the last 30 records. Best score: 0.002. Signaling Trainer to stop.\n"
     ]
    },
    {
     "name": "stdout",
     "output_type": "stream",
     "text": [
      "Epoch 98: 100%|██████████| 8/8 [00:00<00:00, 26.34it/s, loss=0.0171, train_loss=0.00492, train_accuracy=1.000]"
     ]
    },
    {
     "name": "stderr",
     "output_type": "stream",
     "text": [
      "[2025-02-14 14:15:15] INFO (torcheeg/MainThread) \n",
      "[Train] train_loss: 0.016 train_accuracy: 1.000 \n",
      "\n"
     ]
    },
    {
     "name": "stdout",
     "output_type": "stream",
     "text": [
      "Epoch 98: 100%|██████████| 8/8 [00:00<00:00, 26.09it/s, loss=0.0171, train_loss=0.00492, train_accuracy=1.000]\n"
     ]
    },
    {
     "name": "stderr",
     "output_type": "stream",
     "text": [
      "GPU available: True (cuda), used: True\n",
      "TPU available: False, using: 0 TPU cores\n",
      "IPU available: False, using: 0 IPUs\n",
      "HPU available: False, using: 0 HPUs\n",
      "Missing logger folder: /root/autodl-tmp/.autodl/kinlaw/GANSER/mycode/lightning_logs\n",
      "LOCAL_RANK: 0 - CUDA_VISIBLE_DEVICES: [0]\n",
      "/root/autodl-tmp/conda/envs/law/lib/python3.8/site-packages/pytorch_lightning/trainer/connectors/data_connector.py:224: PossibleUserWarning: The dataloader, test_dataloader 0, does not have many workers which may be a bottleneck. Consider increasing the value of the `num_workers` argument` (try 128 which is the number of cpus on this machine) in the `DataLoader` init to improve performance.\n",
      "  rank_zero_warn(\n"
     ]
    },
    {
     "name": "stdout",
     "output_type": "stream",
     "text": [
      "Testing DataLoader 0: 100%|██████████| 3/3 [00:00<00:00, 94.84it/s] "
     ]
    },
    {
     "name": "stderr",
     "output_type": "stream",
     "text": [
      "[2025-02-14 14:15:15] INFO (torcheeg/MainThread) \n",
      "[Test] test_loss: 2.905 test_accuracy: 0.500 \n",
      "\n"
     ]
    },
    {
     "name": "stdout",
     "output_type": "stream",
     "text": [
      "Testing DataLoader 0: 100%|██████████| 3/3 [00:00<00:00, 80.51it/s]\n",
      "────────────────────────────────────────────────────────────────────────────────────────────────────────────────────────\n",
      "       Test metric             DataLoader 0\n",
      "────────────────────────────────────────────────────────────────────────────────────────────────────────────────────────\n",
      "      test_accuracy                 0.5\n",
      "        test_loss           2.9046151638031006\n",
      "────────────────────────────────────────────────────────────────────────────────────────────────────────────────────────\n",
      "已删除文件夹: /root/autodl-tmp/.autodl/kinlaw/GANSER/mycode/lightning_logs\n"
     ]
    },
    {
     "name": "stderr",
     "output_type": "stream",
     "text": [
      "GPU available: True (cuda), used: True\n",
      "TPU available: False, using: 0 TPU cores\n",
      "IPU available: False, using: 0 IPUs\n",
      "HPU available: False, using: 0 HPUs\n",
      "LOCAL_RANK: 0 - CUDA_VISIBLE_DEVICES: [0]\n",
      "/root/autodl-tmp/conda/envs/law/lib/python3.8/site-packages/pytorch_lightning/trainer/connectors/data_connector.py:224: PossibleUserWarning: The dataloader, train_dataloader, does not have many workers which may be a bottleneck. Consider increasing the value of the `num_workers` argument` (try 128 which is the number of cpus on this machine) in the `DataLoader` init to improve performance.\n",
      "  rank_zero_warn(\n"
     ]
    },
    {
     "name": "stdout",
     "output_type": "stream",
     "text": [
      "Epoch 0: 100%|██████████| 8/8 [00:00<00:00, 25.11it/s, loss=0.719, train_loss=0.763, train_accuracy=0.375]"
     ]
    },
    {
     "name": "stderr",
     "output_type": "stream",
     "text": [
      "Metric train_loss improved. New best score: 0.763\n"
     ]
    },
    {
     "name": "stdout",
     "output_type": "stream",
     "text": [
      "Epoch 0: 100%|██████████| 8/8 [00:00<00:00, 24.98it/s, loss=0.719, train_loss=0.763, train_accuracy=0.375]"
     ]
    },
    {
     "name": "stderr",
     "output_type": "stream",
     "text": [
      "/root/autodl-tmp/conda/envs/law/lib/python3.8/site-packages/pytorch_lightning/core/module.py:493: UserWarning: You called `self.log('train_loss', ..., logger=True)` but have no logger configured. You can enable one by doing `Trainer(logger=ALogger(...))`\n",
      "  rank_zero_warn(\n",
      "/root/autodl-tmp/conda/envs/law/lib/python3.8/site-packages/pytorch_lightning/core/module.py:493: UserWarning: You called `self.log('train_accuracy', ..., logger=True)` but have no logger configured. You can enable one by doing `Trainer(logger=ALogger(...))`\n",
      "  rank_zero_warn(\n",
      "[2025-02-14 14:15:15] INFO (torcheeg/MainThread) \n",
      "[Train] train_loss: 0.719 train_accuracy: 0.500 \n",
      "\n"
     ]
    },
    {
     "name": "stdout",
     "output_type": "stream",
     "text": [
      "Epoch 1: 100%|██████████| 8/8 [00:00<00:00, 25.65it/s, loss=0.715, train_loss=0.798, train_accuracy=0.375]"
     ]
    },
    {
     "name": "stderr",
     "output_type": "stream",
     "text": [
      "[2025-02-14 14:15:16] INFO (torcheeg/MainThread) \n",
      "[Train] train_loss: 0.710 train_accuracy: 0.508 \n",
      "\n"
     ]
    },
    {
     "name": "stdout",
     "output_type": "stream",
     "text": [
      "Epoch 2: 100%|██████████| 8/8 [00:00<00:00, 26.23it/s, loss=0.7, train_loss=0.687, train_accuracy=0.500]  "
     ]
    },
    {
     "name": "stderr",
     "output_type": "stream",
     "text": [
      "Metric train_loss improved by 0.075 >= min_delta = 0.0. New best score: 0.687\n"
     ]
    },
    {
     "name": "stdout",
     "output_type": "stream",
     "text": [
      "Epoch 2: 100%|██████████| 8/8 [00:00<00:00, 26.08it/s, loss=0.7, train_loss=0.687, train_accuracy=0.500]"
     ]
    },
    {
     "name": "stderr",
     "output_type": "stream",
     "text": [
      "[2025-02-14 14:15:16] INFO (torcheeg/MainThread) \n",
      "[Train] train_loss: 0.666 train_accuracy: 0.600 \n",
      "\n"
     ]
    },
    {
     "name": "stdout",
     "output_type": "stream",
     "text": [
      "Epoch 3: 100%|██████████| 8/8 [00:00<00:00, 26.38it/s, loss=0.681, train_loss=0.680, train_accuracy=0.500]"
     ]
    },
    {
     "name": "stderr",
     "output_type": "stream",
     "text": [
      "Metric train_loss improved by 0.007 >= min_delta = 0.0. New best score: 0.680\n"
     ]
    },
    {
     "name": "stdout",
     "output_type": "stream",
     "text": [
      "Epoch 3: 100%|██████████| 8/8 [00:00<00:00, 26.23it/s, loss=0.681, train_loss=0.680, train_accuracy=0.500]"
     ]
    },
    {
     "name": "stderr",
     "output_type": "stream",
     "text": [
      "[2025-02-14 14:15:16] INFO (torcheeg/MainThread) \n",
      "[Train] train_loss: 0.663 train_accuracy: 0.617 \n",
      "\n"
     ]
    },
    {
     "name": "stdout",
     "output_type": "stream",
     "text": [
      "Epoch 4: 100%|██████████| 8/8 [00:00<00:00, 27.02it/s, loss=0.647, train_loss=0.562, train_accuracy=0.750]"
     ]
    },
    {
     "name": "stderr",
     "output_type": "stream",
     "text": [
      "Metric train_loss improved by 0.118 >= min_delta = 0.0. New best score: 0.562\n"
     ]
    },
    {
     "name": "stdout",
     "output_type": "stream",
     "text": [
      "Epoch 4: 100%|██████████| 8/8 [00:00<00:00, 26.86it/s, loss=0.647, train_loss=0.562, train_accuracy=0.750]"
     ]
    },
    {
     "name": "stderr",
     "output_type": "stream",
     "text": [
      "[2025-02-14 14:15:17] INFO (torcheeg/MainThread) \n",
      "[Train] train_loss: 0.628 train_accuracy: 0.658 \n",
      "\n"
     ]
    },
    {
     "name": "stdout",
     "output_type": "stream",
     "text": [
      "Epoch 5: 100%|██████████| 8/8 [00:00<00:00, 26.41it/s, loss=0.637, train_loss=0.615, train_accuracy=0.750]"
     ]
    },
    {
     "name": "stderr",
     "output_type": "stream",
     "text": [
      "[2025-02-14 14:15:17] INFO (torcheeg/MainThread) \n",
      "[Train] train_loss: 0.627 train_accuracy: 0.683 \n",
      "\n"
     ]
    },
    {
     "name": "stdout",
     "output_type": "stream",
     "text": [
      "Epoch 6: 100%|██████████| 8/8 [00:00<00:00, 26.12it/s, loss=0.612, train_loss=0.597, train_accuracy=0.750]"
     ]
    },
    {
     "name": "stderr",
     "output_type": "stream",
     "text": [
      "[2025-02-14 14:15:17] INFO (torcheeg/MainThread) \n",
      "[Train] train_loss: 0.595 train_accuracy: 0.783 \n",
      "\n"
     ]
    },
    {
     "name": "stdout",
     "output_type": "stream",
     "text": [
      "Epoch 7: 100%|██████████| 8/8 [00:00<00:00, 26.19it/s, loss=0.596, train_loss=0.538, train_accuracy=0.875]"
     ]
    },
    {
     "name": "stderr",
     "output_type": "stream",
     "text": [
      "Metric train_loss improved by 0.024 >= min_delta = 0.0. New best score: 0.538\n"
     ]
    },
    {
     "name": "stdout",
     "output_type": "stream",
     "text": [
      "Epoch 7: 100%|██████████| 8/8 [00:00<00:00, 26.05it/s, loss=0.596, train_loss=0.538, train_accuracy=0.875]"
     ]
    },
    {
     "name": "stderr",
     "output_type": "stream",
     "text": [
      "[2025-02-14 14:15:18] INFO (torcheeg/MainThread) \n",
      "[Train] train_loss: 0.594 train_accuracy: 0.742 \n",
      "\n"
     ]
    },
    {
     "name": "stdout",
     "output_type": "stream",
     "text": [
      "Epoch 8: 100%|██████████| 8/8 [00:00<00:00, 26.13it/s, loss=0.583, train_loss=0.522, train_accuracy=0.750]"
     ]
    },
    {
     "name": "stderr",
     "output_type": "stream",
     "text": [
      "Metric train_loss improved by 0.016 >= min_delta = 0.0. New best score: 0.522\n"
     ]
    },
    {
     "name": "stdout",
     "output_type": "stream",
     "text": [
      "Epoch 8: 100%|██████████| 8/8 [00:00<00:00, 25.99it/s, loss=0.583, train_loss=0.522, train_accuracy=0.750]"
     ]
    },
    {
     "name": "stderr",
     "output_type": "stream",
     "text": [
      "[2025-02-14 14:15:18] INFO (torcheeg/MainThread) \n",
      "[Train] train_loss: 0.575 train_accuracy: 0.700 \n",
      "\n"
     ]
    },
    {
     "name": "stdout",
     "output_type": "stream",
     "text": [
      "Epoch 9: 100%|██████████| 8/8 [00:00<00:00, 26.39it/s, loss=0.569, train_loss=0.560, train_accuracy=0.875]"
     ]
    },
    {
     "name": "stderr",
     "output_type": "stream",
     "text": [
      "[2025-02-14 14:15:18] INFO (torcheeg/MainThread) \n",
      "[Train] train_loss: 0.563 train_accuracy: 0.808 \n",
      "\n"
     ]
    },
    {
     "name": "stdout",
     "output_type": "stream",
     "text": [
      "Epoch 10: 100%|██████████| 8/8 [00:00<00:00, 26.39it/s, loss=0.558, train_loss=0.546, train_accuracy=0.625]"
     ]
    },
    {
     "name": "stderr",
     "output_type": "stream",
     "text": [
      "[2025-02-14 14:15:19] INFO (torcheeg/MainThread) \n",
      "[Train] train_loss: 0.546 train_accuracy: 0.775 \n",
      "\n"
     ]
    },
    {
     "name": "stdout",
     "output_type": "stream",
     "text": [
      "Epoch 11: 100%|██████████| 8/8 [00:00<00:00, 26.24it/s, loss=0.542, train_loss=0.571, train_accuracy=0.625]"
     ]
    },
    {
     "name": "stderr",
     "output_type": "stream",
     "text": [
      "[2025-02-14 14:15:19] INFO (torcheeg/MainThread) \n",
      "[Train] train_loss: 0.533 train_accuracy: 0.800 \n",
      "\n"
     ]
    },
    {
     "name": "stdout",
     "output_type": "stream",
     "text": [
      "Epoch 12: 100%|██████████| 8/8 [00:00<00:00, 26.80it/s, loss=0.53, train_loss=0.411, train_accuracy=0.875] "
     ]
    },
    {
     "name": "stderr",
     "output_type": "stream",
     "text": [
      "Metric train_loss improved by 0.111 >= min_delta = 0.0. New best score: 0.411\n"
     ]
    },
    {
     "name": "stdout",
     "output_type": "stream",
     "text": [
      "Epoch 12: 100%|██████████| 8/8 [00:00<00:00, 26.65it/s, loss=0.53, train_loss=0.411, train_accuracy=0.875]"
     ]
    },
    {
     "name": "stderr",
     "output_type": "stream",
     "text": [
      "[2025-02-14 14:15:19] INFO (torcheeg/MainThread) \n",
      "[Train] train_loss: 0.518 train_accuracy: 0.808 \n",
      "\n"
     ]
    },
    {
     "name": "stdout",
     "output_type": "stream",
     "text": [
      "Epoch 13: 100%|██████████| 8/8 [00:00<00:00, 26.43it/s, loss=0.516, train_loss=0.502, train_accuracy=0.875]"
     ]
    },
    {
     "name": "stderr",
     "output_type": "stream",
     "text": [
      "[2025-02-14 14:15:19] INFO (torcheeg/MainThread) \n",
      "[Train] train_loss: 0.510 train_accuracy: 0.825 \n",
      "\n"
     ]
    },
    {
     "name": "stdout",
     "output_type": "stream",
     "text": [
      "Epoch 14: 100%|██████████| 8/8 [00:00<00:00, 25.32it/s, loss=0.511, train_loss=0.634, train_accuracy=0.750]"
     ]
    },
    {
     "name": "stderr",
     "output_type": "stream",
     "text": [
      "[2025-02-14 14:15:20] INFO (torcheeg/MainThread) \n",
      "[Train] train_loss: 0.518 train_accuracy: 0.800 \n",
      "\n"
     ]
    },
    {
     "name": "stdout",
     "output_type": "stream",
     "text": [
      "Epoch 15: 100%|██████████| 8/8 [00:00<00:00, 25.83it/s, loss=0.504, train_loss=0.676, train_accuracy=0.625]"
     ]
    },
    {
     "name": "stderr",
     "output_type": "stream",
     "text": [
      "[2025-02-14 14:15:20] INFO (torcheeg/MainThread) \n",
      "[Train] train_loss: 0.477 train_accuracy: 0.858 \n",
      "\n"
     ]
    },
    {
     "name": "stdout",
     "output_type": "stream",
     "text": [
      "Epoch 16: 100%|██████████| 8/8 [00:00<00:00, 26.33it/s, loss=0.481, train_loss=0.549, train_accuracy=0.750]"
     ]
    },
    {
     "name": "stderr",
     "output_type": "stream",
     "text": [
      "[2025-02-14 14:15:20] INFO (torcheeg/MainThread) \n",
      "[Train] train_loss: 0.454 train_accuracy: 0.867 \n",
      "\n"
     ]
    },
    {
     "name": "stdout",
     "output_type": "stream",
     "text": [
      "Epoch 17: 100%|██████████| 8/8 [00:00<00:00, 26.57it/s, loss=0.462, train_loss=0.387, train_accuracy=1.000]"
     ]
    },
    {
     "name": "stderr",
     "output_type": "stream",
     "text": [
      "Metric train_loss improved by 0.024 >= min_delta = 0.0. New best score: 0.387\n"
     ]
    },
    {
     "name": "stdout",
     "output_type": "stream",
     "text": [
      "Epoch 17: 100%|██████████| 8/8 [00:00<00:00, 26.43it/s, loss=0.462, train_loss=0.387, train_accuracy=1.000]"
     ]
    },
    {
     "name": "stderr",
     "output_type": "stream",
     "text": [
      "[2025-02-14 14:15:21] INFO (torcheeg/MainThread) \n",
      "[Train] train_loss: 0.445 train_accuracy: 0.900 \n",
      "\n"
     ]
    },
    {
     "name": "stdout",
     "output_type": "stream",
     "text": [
      "Epoch 18: 100%|██████████| 8/8 [00:00<00:00, 25.72it/s, loss=0.433, train_loss=0.518, train_accuracy=0.750]"
     ]
    },
    {
     "name": "stderr",
     "output_type": "stream",
     "text": [
      "[2025-02-14 14:15:21] INFO (torcheeg/MainThread) \n",
      "[Train] train_loss: 0.413 train_accuracy: 0.900 \n",
      "\n"
     ]
    },
    {
     "name": "stdout",
     "output_type": "stream",
     "text": [
      "Epoch 19: 100%|██████████| 8/8 [00:00<00:00, 25.57it/s, loss=0.436, train_loss=0.450, train_accuracy=0.875]"
     ]
    },
    {
     "name": "stderr",
     "output_type": "stream",
     "text": [
      "[2025-02-14 14:15:21] INFO (torcheeg/MainThread) \n",
      "[Train] train_loss: 0.442 train_accuracy: 0.825 \n",
      "\n"
     ]
    },
    {
     "name": "stdout",
     "output_type": "stream",
     "text": [
      "Epoch 20: 100%|██████████| 8/8 [00:00<00:00, 26.07it/s, loss=0.419, train_loss=0.388, train_accuracy=0.875]"
     ]
    },
    {
     "name": "stderr",
     "output_type": "stream",
     "text": [
      "[2025-02-14 14:15:22] INFO (torcheeg/MainThread) \n",
      "[Train] train_loss: 0.389 train_accuracy: 0.867 \n",
      "\n"
     ]
    },
    {
     "name": "stdout",
     "output_type": "stream",
     "text": [
      "Epoch 21: 100%|██████████| 8/8 [00:00<00:00, 25.98it/s, loss=0.393, train_loss=0.446, train_accuracy=0.750]"
     ]
    },
    {
     "name": "stderr",
     "output_type": "stream",
     "text": [
      "[2025-02-14 14:15:22] INFO (torcheeg/MainThread) \n",
      "[Train] train_loss: 0.375 train_accuracy: 0.892 \n",
      "\n"
     ]
    },
    {
     "name": "stdout",
     "output_type": "stream",
     "text": [
      "Epoch 22: 100%|██████████| 8/8 [00:00<00:00, 26.59it/s, loss=0.383, train_loss=0.285, train_accuracy=1.000]"
     ]
    },
    {
     "name": "stderr",
     "output_type": "stream",
     "text": [
      "Metric train_loss improved by 0.102 >= min_delta = 0.0. New best score: 0.285\n"
     ]
    },
    {
     "name": "stdout",
     "output_type": "stream",
     "text": [
      "Epoch 22: 100%|██████████| 8/8 [00:00<00:00, 26.46it/s, loss=0.383, train_loss=0.285, train_accuracy=1.000]"
     ]
    },
    {
     "name": "stderr",
     "output_type": "stream",
     "text": [
      "[2025-02-14 14:15:22] INFO (torcheeg/MainThread) \n",
      "[Train] train_loss: 0.371 train_accuracy: 0.908 \n",
      "\n"
     ]
    },
    {
     "name": "stdout",
     "output_type": "stream",
     "text": [
      "Epoch 23: 100%|██████████| 8/8 [00:00<00:00, 27.61it/s, loss=0.363, train_loss=0.401, train_accuracy=0.875]"
     ]
    },
    {
     "name": "stderr",
     "output_type": "stream",
     "text": [
      "[2025-02-14 14:15:23] INFO (torcheeg/MainThread) \n",
      "[Train] train_loss: 0.350 train_accuracy: 0.917 \n",
      "\n"
     ]
    },
    {
     "name": "stdout",
     "output_type": "stream",
     "text": [
      "Epoch 24: 100%|██████████| 8/8 [00:00<00:00, 27.06it/s, loss=0.356, train_loss=0.522, train_accuracy=0.750]"
     ]
    },
    {
     "name": "stderr",
     "output_type": "stream",
     "text": [
      "[2025-02-14 14:15:23] INFO (torcheeg/MainThread) \n",
      "[Train] train_loss: 0.350 train_accuracy: 0.900 \n",
      "\n"
     ]
    },
    {
     "name": "stdout",
     "output_type": "stream",
     "text": [
      "Epoch 25: 100%|██████████| 8/8 [00:00<00:00, 26.63it/s, loss=0.348, train_loss=0.621, train_accuracy=0.875]"
     ]
    },
    {
     "name": "stderr",
     "output_type": "stream",
     "text": [
      "[2025-02-14 14:15:23] INFO (torcheeg/MainThread) \n",
      "[Train] train_loss: 0.343 train_accuracy: 0.933 \n",
      "\n"
     ]
    },
    {
     "name": "stdout",
     "output_type": "stream",
     "text": [
      "Epoch 26: 100%|██████████| 8/8 [00:00<00:00, 28.05it/s, loss=0.337, train_loss=0.501, train_accuracy=0.875]"
     ]
    },
    {
     "name": "stderr",
     "output_type": "stream",
     "text": [
      "[2025-02-14 14:15:23] INFO (torcheeg/MainThread) \n",
      "[Train] train_loss: 0.327 train_accuracy: 0.925 \n",
      "\n"
     ]
    },
    {
     "name": "stdout",
     "output_type": "stream",
     "text": [
      "Epoch 27: 100%|██████████| 8/8 [00:00<00:00, 27.37it/s, loss=0.321, train_loss=0.227, train_accuracy=1.000]"
     ]
    },
    {
     "name": "stderr",
     "output_type": "stream",
     "text": [
      "Metric train_loss improved by 0.059 >= min_delta = 0.0. New best score: 0.227\n"
     ]
    },
    {
     "name": "stdout",
     "output_type": "stream",
     "text": [
      "Epoch 27: 100%|██████████| 8/8 [00:00<00:00, 27.22it/s, loss=0.321, train_loss=0.227, train_accuracy=1.000]"
     ]
    },
    {
     "name": "stderr",
     "output_type": "stream",
     "text": [
      "[2025-02-14 14:15:24] INFO (torcheeg/MainThread) \n",
      "[Train] train_loss: 0.291 train_accuracy: 0.917 \n",
      "\n"
     ]
    },
    {
     "name": "stdout",
     "output_type": "stream",
     "text": [
      "Epoch 28: 100%|██████████| 8/8 [00:00<00:00, 27.26it/s, loss=0.309, train_loss=0.336, train_accuracy=0.875]"
     ]
    },
    {
     "name": "stderr",
     "output_type": "stream",
     "text": [
      "[2025-02-14 14:15:24] INFO (torcheeg/MainThread) \n",
      "[Train] train_loss: 0.303 train_accuracy: 0.942 \n",
      "\n"
     ]
    },
    {
     "name": "stdout",
     "output_type": "stream",
     "text": [
      "Epoch 29: 100%|██████████| 8/8 [00:00<00:00, 27.78it/s, loss=0.285, train_loss=0.199, train_accuracy=1.000]"
     ]
    },
    {
     "name": "stderr",
     "output_type": "stream",
     "text": [
      "Metric train_loss improved by 0.027 >= min_delta = 0.0. New best score: 0.199\n"
     ]
    },
    {
     "name": "stdout",
     "output_type": "stream",
     "text": [
      "Epoch 29: 100%|██████████| 8/8 [00:00<00:00, 27.63it/s, loss=0.285, train_loss=0.199, train_accuracy=1.000]"
     ]
    },
    {
     "name": "stderr",
     "output_type": "stream",
     "text": [
      "[2025-02-14 14:15:24] INFO (torcheeg/MainThread) \n",
      "[Train] train_loss: 0.272 train_accuracy: 0.933 \n",
      "\n"
     ]
    },
    {
     "name": "stdout",
     "output_type": "stream",
     "text": [
      "Epoch 30: 100%|██████████| 8/8 [00:00<00:00, 27.93it/s, loss=0.289, train_loss=0.221, train_accuracy=1.000]"
     ]
    },
    {
     "name": "stderr",
     "output_type": "stream",
     "text": [
      "[2025-02-14 14:15:25] INFO (torcheeg/MainThread) \n",
      "[Train] train_loss: 0.267 train_accuracy: 0.925 \n",
      "\n"
     ]
    },
    {
     "name": "stdout",
     "output_type": "stream",
     "text": [
      "Epoch 31: 100%|██████████| 8/8 [00:00<00:00, 28.27it/s, loss=0.259, train_loss=0.205, train_accuracy=0.875]"
     ]
    },
    {
     "name": "stderr",
     "output_type": "stream",
     "text": [
      "[2025-02-14 14:15:25] INFO (torcheeg/MainThread) \n",
      "[Train] train_loss: 0.244 train_accuracy: 0.950 \n",
      "\n"
     ]
    },
    {
     "name": "stdout",
     "output_type": "stream",
     "text": [
      "Epoch 32: 100%|██████████| 8/8 [00:00<00:00, 28.59it/s, loss=0.241, train_loss=0.133, train_accuracy=1.000]"
     ]
    },
    {
     "name": "stderr",
     "output_type": "stream",
     "text": [
      "Metric train_loss improved by 0.066 >= min_delta = 0.0. New best score: 0.133\n"
     ]
    },
    {
     "name": "stdout",
     "output_type": "stream",
     "text": [
      "Epoch 32: 100%|██████████| 8/8 [00:00<00:00, 28.43it/s, loss=0.241, train_loss=0.133, train_accuracy=1.000]"
     ]
    },
    {
     "name": "stderr",
     "output_type": "stream",
     "text": [
      "[2025-02-14 14:15:25] INFO (torcheeg/MainThread) \n",
      "[Train] train_loss: 0.222 train_accuracy: 0.933 \n",
      "\n"
     ]
    },
    {
     "name": "stdout",
     "output_type": "stream",
     "text": [
      "Epoch 33: 100%|██████████| 8/8 [00:00<00:00, 26.27it/s, loss=0.231, train_loss=0.430, train_accuracy=0.750]"
     ]
    },
    {
     "name": "stderr",
     "output_type": "stream",
     "text": [
      "[2025-02-14 14:15:25] INFO (torcheeg/MainThread) \n",
      "[Train] train_loss: 0.228 train_accuracy: 0.942 \n",
      "\n"
     ]
    },
    {
     "name": "stdout",
     "output_type": "stream",
     "text": [
      "Epoch 34: 100%|██████████| 8/8 [00:00<00:00, 26.86it/s, loss=0.22, train_loss=0.264, train_accuracy=0.875] "
     ]
    },
    {
     "name": "stderr",
     "output_type": "stream",
     "text": [
      "[2025-02-14 14:15:26] INFO (torcheeg/MainThread) \n",
      "[Train] train_loss: 0.223 train_accuracy: 0.958 \n",
      "\n"
     ]
    },
    {
     "name": "stdout",
     "output_type": "stream",
     "text": [
      "Epoch 35: 100%|██████████| 8/8 [00:00<00:00, 28.25it/s, loss=0.212, train_loss=0.119, train_accuracy=1.000]"
     ]
    },
    {
     "name": "stderr",
     "output_type": "stream",
     "text": [
      "Metric train_loss improved by 0.014 >= min_delta = 0.0. New best score: 0.119\n"
     ]
    },
    {
     "name": "stdout",
     "output_type": "stream",
     "text": [
      "Epoch 35: 100%|██████████| 8/8 [00:00<00:00, 28.10it/s, loss=0.212, train_loss=0.119, train_accuracy=1.000]"
     ]
    },
    {
     "name": "stderr",
     "output_type": "stream",
     "text": [
      "[2025-02-14 14:15:26] INFO (torcheeg/MainThread) \n",
      "[Train] train_loss: 0.184 train_accuracy: 0.967 \n",
      "\n"
     ]
    },
    {
     "name": "stdout",
     "output_type": "stream",
     "text": [
      "Epoch 36: 100%|██████████| 8/8 [00:00<00:00, 27.94it/s, loss=0.185, train_loss=0.144, train_accuracy=1.000]"
     ]
    },
    {
     "name": "stderr",
     "output_type": "stream",
     "text": [
      "[2025-02-14 14:15:26] INFO (torcheeg/MainThread) \n",
      "[Train] train_loss: 0.174 train_accuracy: 0.958 \n",
      "\n"
     ]
    },
    {
     "name": "stdout",
     "output_type": "stream",
     "text": [
      "Epoch 37: 100%|██████████| 8/8 [00:00<00:00, 26.66it/s, loss=0.168, train_loss=0.272, train_accuracy=0.875] "
     ]
    },
    {
     "name": "stderr",
     "output_type": "stream",
     "text": [
      "[2025-02-14 14:15:27] INFO (torcheeg/MainThread) \n",
      "[Train] train_loss: 0.167 train_accuracy: 0.975 \n",
      "\n"
     ]
    },
    {
     "name": "stdout",
     "output_type": "stream",
     "text": [
      "Epoch 38: 100%|██████████| 8/8 [00:00<00:00, 27.42it/s, loss=0.155, train_loss=0.0521, train_accuracy=1.000]"
     ]
    },
    {
     "name": "stderr",
     "output_type": "stream",
     "text": [
      "Metric train_loss improved by 0.067 >= min_delta = 0.0. New best score: 0.052\n"
     ]
    },
    {
     "name": "stdout",
     "output_type": "stream",
     "text": [
      "Epoch 38: 100%|██████████| 8/8 [00:00<00:00, 27.26it/s, loss=0.155, train_loss=0.0521, train_accuracy=1.000]"
     ]
    },
    {
     "name": "stderr",
     "output_type": "stream",
     "text": [
      "[2025-02-14 14:15:27] INFO (torcheeg/MainThread) \n",
      "[Train] train_loss: 0.132 train_accuracy: 0.983 \n",
      "\n"
     ]
    },
    {
     "name": "stdout",
     "output_type": "stream",
     "text": [
      "Epoch 39: 100%|██████████| 8/8 [00:00<00:00, 27.28it/s, loss=0.151, train_loss=0.146, train_accuracy=1.000] "
     ]
    },
    {
     "name": "stderr",
     "output_type": "stream",
     "text": [
      "[2025-02-14 14:15:27] INFO (torcheeg/MainThread) \n",
      "[Train] train_loss: 0.159 train_accuracy: 0.967 \n",
      "\n"
     ]
    },
    {
     "name": "stdout",
     "output_type": "stream",
     "text": [
      "Epoch 40: 100%|██████████| 8/8 [00:00<00:00, 27.39it/s, loss=0.144, train_loss=0.0962, train_accuracy=1.000]"
     ]
    },
    {
     "name": "stderr",
     "output_type": "stream",
     "text": [
      "[2025-02-14 14:15:28] INFO (torcheeg/MainThread) \n",
      "[Train] train_loss: 0.138 train_accuracy: 0.992 \n",
      "\n"
     ]
    },
    {
     "name": "stdout",
     "output_type": "stream",
     "text": [
      "Epoch 41: 100%|██████████| 8/8 [00:00<00:00, 27.35it/s, loss=0.146, train_loss=0.194, train_accuracy=0.875] "
     ]
    },
    {
     "name": "stderr",
     "output_type": "stream",
     "text": [
      "[2025-02-14 14:15:28] INFO (torcheeg/MainThread) \n",
      "[Train] train_loss: 0.150 train_accuracy: 0.983 \n",
      "\n"
     ]
    },
    {
     "name": "stdout",
     "output_type": "stream",
     "text": [
      "Epoch 42: 100%|██████████| 8/8 [00:00<00:00, 28.34it/s, loss=0.122, train_loss=0.0822, train_accuracy=1.000]"
     ]
    },
    {
     "name": "stderr",
     "output_type": "stream",
     "text": [
      "[2025-02-14 14:15:28] INFO (torcheeg/MainThread) \n",
      "[Train] train_loss: 0.104 train_accuracy: 1.000 \n",
      "\n"
     ]
    },
    {
     "name": "stdout",
     "output_type": "stream",
     "text": [
      "Epoch 43: 100%|██████████| 8/8 [00:00<00:00, 27.74it/s, loss=0.117, train_loss=0.109, train_accuracy=1.000] "
     ]
    },
    {
     "name": "stderr",
     "output_type": "stream",
     "text": [
      "[2025-02-14 14:15:28] INFO (torcheeg/MainThread) \n",
      "[Train] train_loss: 0.119 train_accuracy: 1.000 \n",
      "\n"
     ]
    },
    {
     "name": "stdout",
     "output_type": "stream",
     "text": [
      "Epoch 44: 100%|██████████| 8/8 [00:00<00:00, 22.94it/s, loss=0.108, train_loss=0.056, train_accuracy=1.000] "
     ]
    },
    {
     "name": "stderr",
     "output_type": "stream",
     "text": [
      "[2025-02-14 14:15:29] INFO (torcheeg/MainThread) \n",
      "[Train] train_loss: 0.097 train_accuracy: 0.992 \n",
      "\n"
     ]
    },
    {
     "name": "stdout",
     "output_type": "stream",
     "text": [
      "Epoch 45: 100%|██████████| 8/8 [00:00<00:00, 22.39it/s, loss=0.107, train_loss=0.104, train_accuracy=1.000] "
     ]
    },
    {
     "name": "stderr",
     "output_type": "stream",
     "text": [
      "[2025-02-14 14:15:29] INFO (torcheeg/MainThread) \n",
      "[Train] train_loss: 0.109 train_accuracy: 0.992 \n",
      "\n"
     ]
    },
    {
     "name": "stdout",
     "output_type": "stream",
     "text": [
      "Epoch 46: 100%|██████████| 8/8 [00:00<00:00, 22.59it/s, loss=0.115, train_loss=0.237, train_accuracy=0.875] "
     ]
    },
    {
     "name": "stderr",
     "output_type": "stream",
     "text": [
      "[2025-02-14 14:15:30] INFO (torcheeg/MainThread) \n",
      "[Train] train_loss: 0.127 train_accuracy: 0.967 \n",
      "\n"
     ]
    },
    {
     "name": "stdout",
     "output_type": "stream",
     "text": [
      "Epoch 47: 100%|██████████| 8/8 [00:00<00:00, 21.60it/s, loss=0.122, train_loss=0.119, train_accuracy=1.000] "
     ]
    },
    {
     "name": "stderr",
     "output_type": "stream",
     "text": [
      "[2025-02-14 14:15:30] INFO (torcheeg/MainThread) \n",
      "[Train] train_loss: 0.113 train_accuracy: 0.983 \n",
      "\n"
     ]
    },
    {
     "name": "stdout",
     "output_type": "stream",
     "text": [
      "Epoch 48: 100%|██████████| 8/8 [00:00<00:00, 22.21it/s, loss=0.11, train_loss=0.124, train_accuracy=1.000]  "
     ]
    },
    {
     "name": "stderr",
     "output_type": "stream",
     "text": [
      "[2025-02-14 14:15:30] INFO (torcheeg/MainThread) \n",
      "[Train] train_loss: 0.090 train_accuracy: 0.992 \n",
      "\n"
     ]
    },
    {
     "name": "stdout",
     "output_type": "stream",
     "text": [
      "Epoch 49: 100%|██████████| 8/8 [00:00<00:00, 23.34it/s, loss=0.0908, train_loss=0.0623, train_accuracy=1.000]"
     ]
    },
    {
     "name": "stderr",
     "output_type": "stream",
     "text": [
      "[2025-02-14 14:15:31] INFO (torcheeg/MainThread) \n",
      "[Train] train_loss: 0.086 train_accuracy: 0.992 \n",
      "\n"
     ]
    },
    {
     "name": "stdout",
     "output_type": "stream",
     "text": [
      "Epoch 50: 100%|██████████| 8/8 [00:00<00:00, 23.22it/s, loss=0.086, train_loss=0.0793, train_accuracy=1.000] "
     ]
    },
    {
     "name": "stderr",
     "output_type": "stream",
     "text": [
      "[2025-02-14 14:15:31] INFO (torcheeg/MainThread) \n",
      "[Train] train_loss: 0.078 train_accuracy: 0.992 \n",
      "\n"
     ]
    },
    {
     "name": "stdout",
     "output_type": "stream",
     "text": [
      "Epoch 51: 100%|██████████| 8/8 [00:00<00:00, 22.67it/s, loss=0.0759, train_loss=0.110, train_accuracy=1.000] "
     ]
    },
    {
     "name": "stderr",
     "output_type": "stream",
     "text": [
      "[2025-02-14 14:15:31] INFO (torcheeg/MainThread) \n",
      "[Train] train_loss: 0.079 train_accuracy: 0.983 \n",
      "\n"
     ]
    },
    {
     "name": "stdout",
     "output_type": "stream",
     "text": [
      "Epoch 52: 100%|██████████| 8/8 [00:00<00:00, 22.59it/s, loss=0.0835, train_loss=0.126, train_accuracy=1.000] "
     ]
    },
    {
     "name": "stderr",
     "output_type": "stream",
     "text": [
      "[2025-02-14 14:15:32] INFO (torcheeg/MainThread) \n",
      "[Train] train_loss: 0.091 train_accuracy: 0.983 \n",
      "\n"
     ]
    },
    {
     "name": "stdout",
     "output_type": "stream",
     "text": [
      "Epoch 53: 100%|██████████| 8/8 [00:00<00:00, 22.60it/s, loss=0.0909, train_loss=0.098, train_accuracy=1.000] "
     ]
    },
    {
     "name": "stderr",
     "output_type": "stream",
     "text": [
      "[2025-02-14 14:15:32] INFO (torcheeg/MainThread) \n",
      "[Train] train_loss: 0.087 train_accuracy: 1.000 \n",
      "\n"
     ]
    },
    {
     "name": "stdout",
     "output_type": "stream",
     "text": [
      "Epoch 54: 100%|██████████| 8/8 [00:00<00:00, 27.17it/s, loss=0.0768, train_loss=0.0878, train_accuracy=1.000]"
     ]
    },
    {
     "name": "stderr",
     "output_type": "stream",
     "text": [
      "[2025-02-14 14:15:32] INFO (torcheeg/MainThread) \n",
      "[Train] train_loss: 0.057 train_accuracy: 0.992 \n",
      "\n"
     ]
    },
    {
     "name": "stdout",
     "output_type": "stream",
     "text": [
      "Epoch 55: 100%|██████████| 8/8 [00:00<00:00, 28.09it/s, loss=0.0701, train_loss=0.0878, train_accuracy=1.000]"
     ]
    },
    {
     "name": "stderr",
     "output_type": "stream",
     "text": [
      "[2025-02-14 14:15:33] INFO (torcheeg/MainThread) \n",
      "[Train] train_loss: 0.080 train_accuracy: 0.983 \n",
      "\n"
     ]
    },
    {
     "name": "stdout",
     "output_type": "stream",
     "text": [
      "Epoch 56: 100%|██████████| 8/8 [00:00<00:00, 27.61it/s, loss=0.0733, train_loss=0.080, train_accuracy=1.000] "
     ]
    },
    {
     "name": "stderr",
     "output_type": "stream",
     "text": [
      "[2025-02-14 14:15:33] INFO (torcheeg/MainThread) \n",
      "[Train] train_loss: 0.075 train_accuracy: 0.992 \n",
      "\n"
     ]
    },
    {
     "name": "stdout",
     "output_type": "stream",
     "text": [
      "Epoch 57: 100%|██████████| 8/8 [00:00<00:00, 26.88it/s, loss=0.0679, train_loss=0.0695, train_accuracy=1.000]"
     ]
    },
    {
     "name": "stderr",
     "output_type": "stream",
     "text": [
      "[2025-02-14 14:15:33] INFO (torcheeg/MainThread) \n",
      "[Train] train_loss: 0.054 train_accuracy: 1.000 \n",
      "\n"
     ]
    },
    {
     "name": "stdout",
     "output_type": "stream",
     "text": [
      "Epoch 58: 100%|██████████| 8/8 [00:00<00:00, 27.59it/s, loss=0.0604, train_loss=0.0404, train_accuracy=1.000]"
     ]
    },
    {
     "name": "stderr",
     "output_type": "stream",
     "text": [
      "Metric train_loss improved by 0.012 >= min_delta = 0.0. New best score: 0.040\n"
     ]
    },
    {
     "name": "stdout",
     "output_type": "stream",
     "text": [
      "Epoch 58: 100%|██████████| 8/8 [00:00<00:00, 27.43it/s, loss=0.0604, train_loss=0.0404, train_accuracy=1.000]"
     ]
    },
    {
     "name": "stderr",
     "output_type": "stream",
     "text": [
      "[2025-02-14 14:15:33] INFO (torcheeg/MainThread) \n",
      "[Train] train_loss: 0.062 train_accuracy: 0.992 \n",
      "\n"
     ]
    },
    {
     "name": "stdout",
     "output_type": "stream",
     "text": [
      "Epoch 59: 100%|██████████| 8/8 [00:00<00:00, 26.94it/s, loss=0.0634, train_loss=0.0571, train_accuracy=1.000]"
     ]
    },
    {
     "name": "stderr",
     "output_type": "stream",
     "text": [
      "[2025-02-14 14:15:34] INFO (torcheeg/MainThread) \n",
      "[Train] train_loss: 0.064 train_accuracy: 0.992 \n",
      "\n"
     ]
    },
    {
     "name": "stdout",
     "output_type": "stream",
     "text": [
      "Epoch 60: 100%|██████████| 8/8 [00:00<00:00, 27.98it/s, loss=0.0601, train_loss=0.0432, train_accuracy=1.000]"
     ]
    },
    {
     "name": "stderr",
     "output_type": "stream",
     "text": [
      "[2025-02-14 14:15:34] INFO (torcheeg/MainThread) \n",
      "[Train] train_loss: 0.065 train_accuracy: 0.983 \n",
      "\n"
     ]
    },
    {
     "name": "stdout",
     "output_type": "stream",
     "text": [
      "Epoch 61: 100%|██████████| 8/8 [00:00<00:00, 28.04it/s, loss=0.0614, train_loss=0.0125, train_accuracy=1.000]"
     ]
    },
    {
     "name": "stderr",
     "output_type": "stream",
     "text": [
      "Metric train_loss improved by 0.028 >= min_delta = 0.0. New best score: 0.013\n"
     ]
    },
    {
     "name": "stdout",
     "output_type": "stream",
     "text": [
      "Epoch 61: 100%|██████████| 8/8 [00:00<00:00, 27.89it/s, loss=0.0614, train_loss=0.0125, train_accuracy=1.000]"
     ]
    },
    {
     "name": "stderr",
     "output_type": "stream",
     "text": [
      "[2025-02-14 14:15:34] INFO (torcheeg/MainThread) \n",
      "[Train] train_loss: 0.059 train_accuracy: 0.983 \n",
      "\n"
     ]
    },
    {
     "name": "stdout",
     "output_type": "stream",
     "text": [
      "Epoch 62: 100%|██████████| 8/8 [00:00<00:00, 27.88it/s, loss=0.0551, train_loss=0.0403, train_accuracy=1.000]"
     ]
    },
    {
     "name": "stderr",
     "output_type": "stream",
     "text": [
      "[2025-02-14 14:15:35] INFO (torcheeg/MainThread) \n",
      "[Train] train_loss: 0.044 train_accuracy: 1.000 \n",
      "\n"
     ]
    },
    {
     "name": "stdout",
     "output_type": "stream",
     "text": [
      "Epoch 63: 100%|██████████| 8/8 [00:00<00:00, 27.75it/s, loss=0.0445, train_loss=0.0273, train_accuracy=1.000]"
     ]
    },
    {
     "name": "stderr",
     "output_type": "stream",
     "text": [
      "[2025-02-14 14:15:35] INFO (torcheeg/MainThread) \n",
      "[Train] train_loss: 0.054 train_accuracy: 0.992 \n",
      "\n"
     ]
    },
    {
     "name": "stdout",
     "output_type": "stream",
     "text": [
      "Epoch 64: 100%|██████████| 8/8 [00:00<00:00, 27.27it/s, loss=0.049, train_loss=0.0111, train_accuracy=1.000] "
     ]
    },
    {
     "name": "stderr",
     "output_type": "stream",
     "text": [
      "Metric train_loss improved by 0.001 >= min_delta = 0.0. New best score: 0.011\n"
     ]
    },
    {
     "name": "stdout",
     "output_type": "stream",
     "text": [
      "Epoch 64: 100%|██████████| 8/8 [00:00<00:00, 27.12it/s, loss=0.049, train_loss=0.0111, train_accuracy=1.000]"
     ]
    },
    {
     "name": "stderr",
     "output_type": "stream",
     "text": [
      "[2025-02-14 14:15:35] INFO (torcheeg/MainThread) \n",
      "[Train] train_loss: 0.049 train_accuracy: 1.000 \n",
      "\n"
     ]
    },
    {
     "name": "stdout",
     "output_type": "stream",
     "text": [
      "Epoch 65: 100%|██████████| 8/8 [00:00<00:00, 27.55it/s, loss=0.0438, train_loss=0.0122, train_accuracy=1.000]"
     ]
    },
    {
     "name": "stderr",
     "output_type": "stream",
     "text": [
      "[2025-02-14 14:15:36] INFO (torcheeg/MainThread) \n",
      "[Train] train_loss: 0.030 train_accuracy: 1.000 \n",
      "\n"
     ]
    },
    {
     "name": "stdout",
     "output_type": "stream",
     "text": [
      "Epoch 66: 100%|██████████| 8/8 [00:00<00:00, 27.24it/s, loss=0.0395, train_loss=0.0939, train_accuracy=1.000]"
     ]
    },
    {
     "name": "stderr",
     "output_type": "stream",
     "text": [
      "[2025-02-14 14:15:36] INFO (torcheeg/MainThread) \n",
      "[Train] train_loss: 0.044 train_accuracy: 1.000 \n",
      "\n"
     ]
    },
    {
     "name": "stdout",
     "output_type": "stream",
     "text": [
      "Epoch 67: 100%|██████████| 8/8 [00:00<00:00, 25.88it/s, loss=0.0433, train_loss=0.0794, train_accuracy=1.000]"
     ]
    },
    {
     "name": "stderr",
     "output_type": "stream",
     "text": [
      "[2025-02-14 14:15:36] INFO (torcheeg/MainThread) \n",
      "[Train] train_loss: 0.055 train_accuracy: 1.000 \n",
      "\n"
     ]
    },
    {
     "name": "stdout",
     "output_type": "stream",
     "text": [
      "Epoch 68: 100%|██████████| 8/8 [00:00<00:00, 28.45it/s, loss=0.0531, train_loss=0.0397, train_accuracy=1.000]"
     ]
    },
    {
     "name": "stderr",
     "output_type": "stream",
     "text": [
      "[2025-02-14 14:15:36] INFO (torcheeg/MainThread) \n",
      "[Train] train_loss: 0.057 train_accuracy: 0.992 \n",
      "\n"
     ]
    },
    {
     "name": "stdout",
     "output_type": "stream",
     "text": [
      "Epoch 69: 100%|██████████| 8/8 [00:00<00:00, 28.69it/s, loss=0.0479, train_loss=0.0507, train_accuracy=1.000] "
     ]
    },
    {
     "name": "stderr",
     "output_type": "stream",
     "text": [
      "[2025-02-14 14:15:37] INFO (torcheeg/MainThread) \n",
      "[Train] train_loss: 0.038 train_accuracy: 1.000 \n",
      "\n"
     ]
    },
    {
     "name": "stdout",
     "output_type": "stream",
     "text": [
      "Epoch 70: 100%|██████████| 8/8 [00:00<00:00, 27.53it/s, loss=0.0432, train_loss=0.0225, train_accuracy=1.000]"
     ]
    },
    {
     "name": "stderr",
     "output_type": "stream",
     "text": [
      "[2025-02-14 14:15:37] INFO (torcheeg/MainThread) \n",
      "[Train] train_loss: 0.039 train_accuracy: 0.992 \n",
      "\n"
     ]
    },
    {
     "name": "stdout",
     "output_type": "stream",
     "text": [
      "Epoch 71: 100%|██████████| 8/8 [00:00<00:00, 27.68it/s, loss=0.0391, train_loss=0.0117, train_accuracy=1.000]"
     ]
    },
    {
     "name": "stderr",
     "output_type": "stream",
     "text": [
      "[2025-02-14 14:15:37] INFO (torcheeg/MainThread) \n",
      "[Train] train_loss: 0.036 train_accuracy: 0.992 \n",
      "\n"
     ]
    },
    {
     "name": "stdout",
     "output_type": "stream",
     "text": [
      "Epoch 72: 100%|██████████| 8/8 [00:00<00:00, 26.67it/s, loss=0.0399, train_loss=0.0598, train_accuracy=1.000]"
     ]
    },
    {
     "name": "stderr",
     "output_type": "stream",
     "text": [
      "[2025-02-14 14:15:38] INFO (torcheeg/MainThread) \n",
      "[Train] train_loss: 0.044 train_accuracy: 0.992 \n",
      "\n"
     ]
    },
    {
     "name": "stdout",
     "output_type": "stream",
     "text": [
      "Epoch 73: 100%|██████████| 8/8 [00:00<00:00, 27.77it/s, loss=0.0362, train_loss=0.0107, train_accuracy=1.000]"
     ]
    },
    {
     "name": "stderr",
     "output_type": "stream",
     "text": [
      "Metric train_loss improved by 0.000 >= min_delta = 0.0. New best score: 0.011\n"
     ]
    },
    {
     "name": "stdout",
     "output_type": "stream",
     "text": [
      "Epoch 73: 100%|██████████| 8/8 [00:00<00:00, 27.63it/s, loss=0.0362, train_loss=0.0107, train_accuracy=1.000]"
     ]
    },
    {
     "name": "stderr",
     "output_type": "stream",
     "text": [
      "[2025-02-14 14:15:38] INFO (torcheeg/MainThread) \n",
      "[Train] train_loss: 0.029 train_accuracy: 1.000 \n",
      "\n"
     ]
    },
    {
     "name": "stdout",
     "output_type": "stream",
     "text": [
      "Epoch 74: 100%|██████████| 8/8 [00:00<00:00, 28.02it/s, loss=0.0403, train_loss=0.0164, train_accuracy=1.000]"
     ]
    },
    {
     "name": "stderr",
     "output_type": "stream",
     "text": [
      "[2025-02-14 14:15:38] INFO (torcheeg/MainThread) \n",
      "[Train] train_loss: 0.045 train_accuracy: 1.000 \n",
      "\n"
     ]
    },
    {
     "name": "stdout",
     "output_type": "stream",
     "text": [
      "Epoch 75: 100%|██████████| 8/8 [00:00<00:00, 27.81it/s, loss=0.0373, train_loss=0.0584, train_accuracy=1.000]"
     ]
    },
    {
     "name": "stderr",
     "output_type": "stream",
     "text": [
      "[2025-02-14 14:15:38] INFO (torcheeg/MainThread) \n",
      "[Train] train_loss: 0.036 train_accuracy: 1.000 \n",
      "\n"
     ]
    },
    {
     "name": "stdout",
     "output_type": "stream",
     "text": [
      "Epoch 76: 100%|██████████| 8/8 [00:00<00:00, 28.02it/s, loss=0.0375, train_loss=0.0872, train_accuracy=1.000]"
     ]
    },
    {
     "name": "stderr",
     "output_type": "stream",
     "text": [
      "[2025-02-14 14:15:39] INFO (torcheeg/MainThread) \n",
      "[Train] train_loss: 0.045 train_accuracy: 1.000 \n",
      "\n"
     ]
    },
    {
     "name": "stdout",
     "output_type": "stream",
     "text": [
      "Epoch 77: 100%|██████████| 8/8 [00:00<00:00, 26.43it/s, loss=0.0372, train_loss=0.0438, train_accuracy=1.000]"
     ]
    },
    {
     "name": "stderr",
     "output_type": "stream",
     "text": [
      "[2025-02-14 14:15:39] INFO (torcheeg/MainThread) \n",
      "[Train] train_loss: 0.032 train_accuracy: 1.000 \n",
      "\n"
     ]
    },
    {
     "name": "stdout",
     "output_type": "stream",
     "text": [
      "Epoch 78: 100%|██████████| 8/8 [00:00<00:00, 26.43it/s, loss=0.0315, train_loss=0.0533, train_accuracy=1.000] "
     ]
    },
    {
     "name": "stderr",
     "output_type": "stream",
     "text": [
      "[2025-02-14 14:15:39] INFO (torcheeg/MainThread) \n",
      "[Train] train_loss: 0.024 train_accuracy: 1.000 \n",
      "\n"
     ]
    },
    {
     "name": "stdout",
     "output_type": "stream",
     "text": [
      "Epoch 79: 100%|██████████| 8/8 [00:00<00:00, 26.28it/s, loss=0.0267, train_loss=0.0254, train_accuracy=1.000]"
     ]
    },
    {
     "name": "stderr",
     "output_type": "stream",
     "text": [
      "[2025-02-14 14:15:40] INFO (torcheeg/MainThread) \n",
      "[Train] train_loss: 0.029 train_accuracy: 1.000 \n",
      "\n"
     ]
    },
    {
     "name": "stdout",
     "output_type": "stream",
     "text": [
      "Epoch 80: 100%|██████████| 8/8 [00:00<00:00, 26.84it/s, loss=0.0298, train_loss=0.0238, train_accuracy=1.000] "
     ]
    },
    {
     "name": "stderr",
     "output_type": "stream",
     "text": [
      "[2025-02-14 14:15:40] INFO (torcheeg/MainThread) \n",
      "[Train] train_loss: 0.029 train_accuracy: 1.000 \n",
      "\n"
     ]
    },
    {
     "name": "stdout",
     "output_type": "stream",
     "text": [
      "Epoch 81: 100%|██████████| 8/8 [00:00<00:00, 26.37it/s, loss=0.0287, train_loss=0.0112, train_accuracy=1.000]"
     ]
    },
    {
     "name": "stderr",
     "output_type": "stream",
     "text": [
      "[2025-02-14 14:15:40] INFO (torcheeg/MainThread) \n",
      "[Train] train_loss: 0.027 train_accuracy: 1.000 \n",
      "\n"
     ]
    },
    {
     "name": "stdout",
     "output_type": "stream",
     "text": [
      "Epoch 82: 100%|██████████| 8/8 [00:00<00:00, 28.72it/s, loss=0.0279, train_loss=0.0843, train_accuracy=1.000] "
     ]
    },
    {
     "name": "stderr",
     "output_type": "stream",
     "text": [
      "[2025-02-14 14:15:41] INFO (torcheeg/MainThread) \n",
      "[Train] train_loss: 0.024 train_accuracy: 1.000 \n",
      "\n"
     ]
    },
    {
     "name": "stdout",
     "output_type": "stream",
     "text": [
      "Epoch 83: 100%|██████████| 8/8 [00:00<00:00, 28.38it/s, loss=0.0239, train_loss=0.00643, train_accuracy=1.000]"
     ]
    },
    {
     "name": "stderr",
     "output_type": "stream",
     "text": [
      "Metric train_loss improved by 0.004 >= min_delta = 0.0. New best score: 0.006\n"
     ]
    },
    {
     "name": "stdout",
     "output_type": "stream",
     "text": [
      "Epoch 83: 100%|██████████| 8/8 [00:00<00:00, 28.23it/s, loss=0.0239, train_loss=0.00643, train_accuracy=1.000]"
     ]
    },
    {
     "name": "stderr",
     "output_type": "stream",
     "text": [
      "[2025-02-14 14:15:41] INFO (torcheeg/MainThread) \n",
      "[Train] train_loss: 0.021 train_accuracy: 1.000 \n",
      "\n"
     ]
    },
    {
     "name": "stdout",
     "output_type": "stream",
     "text": [
      "Epoch 84: 100%|██████████| 8/8 [00:00<00:00, 28.03it/s, loss=0.0262, train_loss=0.0378, train_accuracy=1.000] "
     ]
    },
    {
     "name": "stderr",
     "output_type": "stream",
     "text": [
      "[2025-02-14 14:15:41] INFO (torcheeg/MainThread) \n",
      "[Train] train_loss: 0.027 train_accuracy: 1.000 \n",
      "\n"
     ]
    },
    {
     "name": "stdout",
     "output_type": "stream",
     "text": [
      "Epoch 85: 100%|██████████| 8/8 [00:00<00:00, 27.54it/s, loss=0.0263, train_loss=0.012, train_accuracy=1.000] "
     ]
    },
    {
     "name": "stderr",
     "output_type": "stream",
     "text": [
      "[2025-02-14 14:15:41] INFO (torcheeg/MainThread) \n",
      "[Train] train_loss: 0.030 train_accuracy: 0.992 \n",
      "\n"
     ]
    },
    {
     "name": "stdout",
     "output_type": "stream",
     "text": [
      "Epoch 86: 100%|██████████| 8/8 [00:00<00:00, 26.99it/s, loss=0.0268, train_loss=0.0148, train_accuracy=1.000]"
     ]
    },
    {
     "name": "stderr",
     "output_type": "stream",
     "text": [
      "[2025-02-14 14:15:42] INFO (torcheeg/MainThread) \n",
      "[Train] train_loss: 0.028 train_accuracy: 1.000 \n",
      "\n"
     ]
    },
    {
     "name": "stdout",
     "output_type": "stream",
     "text": [
      "Epoch 87: 100%|██████████| 8/8 [00:00<00:00, 27.32it/s, loss=0.0296, train_loss=0.0314, train_accuracy=1.000] "
     ]
    },
    {
     "name": "stderr",
     "output_type": "stream",
     "text": [
      "[2025-02-14 14:15:42] INFO (torcheeg/MainThread) \n",
      "[Train] train_loss: 0.024 train_accuracy: 1.000 \n",
      "\n"
     ]
    },
    {
     "name": "stdout",
     "output_type": "stream",
     "text": [
      "Epoch 88: 100%|██████████| 8/8 [00:00<00:00, 26.43it/s, loss=0.0314, train_loss=0.0126, train_accuracy=1.000]"
     ]
    },
    {
     "name": "stderr",
     "output_type": "stream",
     "text": [
      "[2025-02-14 14:15:42] INFO (torcheeg/MainThread) \n",
      "[Train] train_loss: 0.040 train_accuracy: 0.992 \n",
      "\n"
     ]
    },
    {
     "name": "stdout",
     "output_type": "stream",
     "text": [
      "Epoch 89: 100%|██████████| 8/8 [00:00<00:00, 28.33it/s, loss=0.0282, train_loss=0.0112, train_accuracy=1.000] "
     ]
    },
    {
     "name": "stderr",
     "output_type": "stream",
     "text": [
      "[2025-02-14 14:15:43] INFO (torcheeg/MainThread) \n",
      "[Train] train_loss: 0.019 train_accuracy: 1.000 \n",
      "\n"
     ]
    },
    {
     "name": "stdout",
     "output_type": "stream",
     "text": [
      "Epoch 90: 100%|██████████| 8/8 [00:00<00:00, 28.73it/s, loss=0.0209, train_loss=0.0166, train_accuracy=1.000] "
     ]
    },
    {
     "name": "stderr",
     "output_type": "stream",
     "text": [
      "[2025-02-14 14:15:43] INFO (torcheeg/MainThread) \n",
      "[Train] train_loss: 0.024 train_accuracy: 1.000 \n",
      "\n"
     ]
    },
    {
     "name": "stdout",
     "output_type": "stream",
     "text": [
      "Epoch 91: 100%|██████████| 8/8 [00:00<00:00, 28.77it/s, loss=0.0258, train_loss=0.0459, train_accuracy=1.000]"
     ]
    },
    {
     "name": "stderr",
     "output_type": "stream",
     "text": [
      "[2025-02-14 14:15:43] INFO (torcheeg/MainThread) \n",
      "[Train] train_loss: 0.034 train_accuracy: 0.992 \n",
      "\n"
     ]
    },
    {
     "name": "stdout",
     "output_type": "stream",
     "text": [
      "Epoch 92: 100%|██████████| 8/8 [00:00<00:00, 27.23it/s, loss=0.0311, train_loss=0.00736, train_accuracy=1.000]"
     ]
    },
    {
     "name": "stderr",
     "output_type": "stream",
     "text": [
      "[2025-02-14 14:15:43] INFO (torcheeg/MainThread) \n",
      "[Train] train_loss: 0.027 train_accuracy: 1.000 \n",
      "\n"
     ]
    },
    {
     "name": "stdout",
     "output_type": "stream",
     "text": [
      "Epoch 93: 100%|██████████| 8/8 [00:00<00:00, 25.43it/s, loss=0.0285, train_loss=0.00137, train_accuracy=1.000]"
     ]
    },
    {
     "name": "stderr",
     "output_type": "stream",
     "text": [
      "Metric train_loss improved by 0.005 >= min_delta = 0.0. New best score: 0.001\n"
     ]
    },
    {
     "name": "stdout",
     "output_type": "stream",
     "text": [
      "Epoch 93: 100%|██████████| 8/8 [00:00<00:00, 25.30it/s, loss=0.0285, train_loss=0.00137, train_accuracy=1.000]"
     ]
    },
    {
     "name": "stderr",
     "output_type": "stream",
     "text": [
      "[2025-02-14 14:15:44] INFO (torcheeg/MainThread) \n",
      "[Train] train_loss: 0.019 train_accuracy: 1.000 \n",
      "\n"
     ]
    },
    {
     "name": "stdout",
     "output_type": "stream",
     "text": [
      "Epoch 94: 100%|██████████| 8/8 [00:00<00:00, 26.57it/s, loss=0.0239, train_loss=0.0216, train_accuracy=1.000] "
     ]
    },
    {
     "name": "stderr",
     "output_type": "stream",
     "text": [
      "[2025-02-14 14:15:44] INFO (torcheeg/MainThread) \n",
      "[Train] train_loss: 0.023 train_accuracy: 1.000 \n",
      "\n"
     ]
    },
    {
     "name": "stdout",
     "output_type": "stream",
     "text": [
      "Epoch 95: 100%|██████████| 8/8 [00:00<00:00, 26.06it/s, loss=0.0249, train_loss=0.00903, train_accuracy=1.000]"
     ]
    },
    {
     "name": "stderr",
     "output_type": "stream",
     "text": [
      "[2025-02-14 14:15:44] INFO (torcheeg/MainThread) \n",
      "[Train] train_loss: 0.032 train_accuracy: 0.992 \n",
      "\n"
     ]
    },
    {
     "name": "stdout",
     "output_type": "stream",
     "text": [
      "Epoch 96: 100%|██████████| 8/8 [00:00<00:00, 26.74it/s, loss=0.0294, train_loss=0.103, train_accuracy=1.000]  "
     ]
    },
    {
     "name": "stderr",
     "output_type": "stream",
     "text": [
      "[2025-02-14 14:15:45] INFO (torcheeg/MainThread) \n",
      "[Train] train_loss: 0.031 train_accuracy: 1.000 \n",
      "\n"
     ]
    },
    {
     "name": "stdout",
     "output_type": "stream",
     "text": [
      "Epoch 97: 100%|██████████| 8/8 [00:00<00:00, 26.16it/s, loss=0.0254, train_loss=0.014, train_accuracy=1.000] "
     ]
    },
    {
     "name": "stderr",
     "output_type": "stream",
     "text": [
      "[2025-02-14 14:15:45] INFO (torcheeg/MainThread) \n",
      "[Train] train_loss: 0.021 train_accuracy: 1.000 \n",
      "\n"
     ]
    },
    {
     "name": "stdout",
     "output_type": "stream",
     "text": [
      "Epoch 98: 100%|██████████| 8/8 [00:00<00:00, 26.69it/s, loss=0.0221, train_loss=0.0154, train_accuracy=1.000] "
     ]
    },
    {
     "name": "stderr",
     "output_type": "stream",
     "text": [
      "[2025-02-14 14:15:45] INFO (torcheeg/MainThread) \n",
      "[Train] train_loss: 0.015 train_accuracy: 1.000 \n",
      "\n"
     ]
    },
    {
     "name": "stdout",
     "output_type": "stream",
     "text": [
      "Epoch 99: 100%|██████████| 8/8 [00:00<00:00, 26.07it/s, loss=0.0181, train_loss=0.0686, train_accuracy=1.000] "
     ]
    },
    {
     "name": "stderr",
     "output_type": "stream",
     "text": [
      "[2025-02-14 14:15:46] INFO (torcheeg/MainThread) \n",
      "[Train] train_loss: 0.021 train_accuracy: 1.000 \n",
      "\n",
      "`Trainer.fit` stopped: `max_epochs=100` reached.\n"
     ]
    },
    {
     "name": "stdout",
     "output_type": "stream",
     "text": [
      "Epoch 99: 100%|██████████| 8/8 [00:00<00:00, 25.82it/s, loss=0.0181, train_loss=0.0686, train_accuracy=1.000]\n"
     ]
    },
    {
     "name": "stderr",
     "output_type": "stream",
     "text": [
      "GPU available: True (cuda), used: True\n",
      "TPU available: False, using: 0 TPU cores\n",
      "IPU available: False, using: 0 IPUs\n",
      "HPU available: False, using: 0 HPUs\n",
      "Missing logger folder: /root/autodl-tmp/.autodl/kinlaw/GANSER/mycode/lightning_logs\n",
      "LOCAL_RANK: 0 - CUDA_VISIBLE_DEVICES: [0]\n",
      "/root/autodl-tmp/conda/envs/law/lib/python3.8/site-packages/pytorch_lightning/trainer/connectors/data_connector.py:224: PossibleUserWarning: The dataloader, test_dataloader 0, does not have many workers which may be a bottleneck. Consider increasing the value of the `num_workers` argument` (try 128 which is the number of cpus on this machine) in the `DataLoader` init to improve performance.\n",
      "  rank_zero_warn(\n"
     ]
    },
    {
     "name": "stdout",
     "output_type": "stream",
     "text": [
      "Testing DataLoader 0: 100%|██████████| 3/3 [00:00<00:00, 99.39it/s] "
     ]
    },
    {
     "name": "stderr",
     "output_type": "stream",
     "text": [
      "[2025-02-14 14:15:46] INFO (torcheeg/MainThread) \n",
      "[Test] test_loss: 1.247 test_accuracy: 0.650 \n",
      "\n"
     ]
    },
    {
     "name": "stdout",
     "output_type": "stream",
     "text": [
      "Testing DataLoader 0: 100%|██████████| 3/3 [00:00<00:00, 83.72it/s]\n",
      "────────────────────────────────────────────────────────────────────────────────────────────────────────────────────────\n",
      "       Test metric             DataLoader 0\n",
      "────────────────────────────────────────────────────────────────────────────────────────────────────────────────────────\n",
      "      test_accuracy         0.6499999761581421\n",
      "        test_loss           1.2470356225967407\n",
      "────────────────────────────────────────────────────────────────────────────────────────────────────────────────────────\n",
      "已删除文件夹: /root/autodl-tmp/.autodl/kinlaw/GANSER/mycode/lightning_logs\n"
     ]
    },
    {
     "name": "stderr",
     "output_type": "stream",
     "text": [
      "GPU available: True (cuda), used: True\n",
      "TPU available: False, using: 0 TPU cores\n",
      "IPU available: False, using: 0 IPUs\n",
      "HPU available: False, using: 0 HPUs\n",
      "LOCAL_RANK: 0 - CUDA_VISIBLE_DEVICES: [0]\n",
      "/root/autodl-tmp/conda/envs/law/lib/python3.8/site-packages/pytorch_lightning/trainer/connectors/data_connector.py:224: PossibleUserWarning: The dataloader, train_dataloader, does not have many workers which may be a bottleneck. Consider increasing the value of the `num_workers` argument` (try 128 which is the number of cpus on this machine) in the `DataLoader` init to improve performance.\n",
      "  rank_zero_warn(\n"
     ]
    },
    {
     "name": "stdout",
     "output_type": "stream",
     "text": [
      "Epoch 0: 100%|██████████| 8/8 [00:00<00:00, 26.42it/s, loss=0.694, train_loss=0.622, train_accuracy=0.625]"
     ]
    },
    {
     "name": "stderr",
     "output_type": "stream",
     "text": [
      "Metric train_loss improved. New best score: 0.622\n"
     ]
    },
    {
     "name": "stdout",
     "output_type": "stream",
     "text": [
      "Epoch 0: 100%|██████████| 8/8 [00:00<00:00, 26.29it/s, loss=0.694, train_loss=0.622, train_accuracy=0.625]"
     ]
    },
    {
     "name": "stderr",
     "output_type": "stream",
     "text": [
      "/root/autodl-tmp/conda/envs/law/lib/python3.8/site-packages/pytorch_lightning/core/module.py:493: UserWarning: You called `self.log('train_loss', ..., logger=True)` but have no logger configured. You can enable one by doing `Trainer(logger=ALogger(...))`\n",
      "  rank_zero_warn(\n",
      "/root/autodl-tmp/conda/envs/law/lib/python3.8/site-packages/pytorch_lightning/core/module.py:493: UserWarning: You called `self.log('train_accuracy', ..., logger=True)` but have no logger configured. You can enable one by doing `Trainer(logger=ALogger(...))`\n",
      "  rank_zero_warn(\n",
      "[2025-02-14 14:15:46] INFO (torcheeg/MainThread) \n",
      "[Train] train_loss: 0.694 train_accuracy: 0.525 \n",
      "\n"
     ]
    },
    {
     "name": "stdout",
     "output_type": "stream",
     "text": [
      "Epoch 1: 100%|██████████| 8/8 [00:00<00:00, 26.46it/s, loss=0.698, train_loss=0.781, train_accuracy=0.375]"
     ]
    },
    {
     "name": "stderr",
     "output_type": "stream",
     "text": [
      "[2025-02-14 14:15:46] INFO (torcheeg/MainThread) \n",
      "[Train] train_loss: 0.701 train_accuracy: 0.467 \n",
      "\n"
     ]
    },
    {
     "name": "stdout",
     "output_type": "stream",
     "text": [
      "Epoch 2: 100%|██████████| 8/8 [00:00<00:00, 27.53it/s, loss=0.687, train_loss=0.617, train_accuracy=0.625]"
     ]
    },
    {
     "name": "stderr",
     "output_type": "stream",
     "text": [
      "Metric train_loss improved by 0.005 >= min_delta = 0.0. New best score: 0.617\n"
     ]
    },
    {
     "name": "stdout",
     "output_type": "stream",
     "text": [
      "Epoch 2: 100%|██████████| 8/8 [00:00<00:00, 27.38it/s, loss=0.687, train_loss=0.617, train_accuracy=0.625]"
     ]
    },
    {
     "name": "stderr",
     "output_type": "stream",
     "text": [
      "[2025-02-14 14:15:47] INFO (torcheeg/MainThread) \n",
      "[Train] train_loss: 0.673 train_accuracy: 0.550 \n",
      "\n"
     ]
    },
    {
     "name": "stdout",
     "output_type": "stream",
     "text": [
      "Epoch 3: 100%|██████████| 8/8 [00:00<00:00, 27.33it/s, loss=0.685, train_loss=0.633, train_accuracy=0.750]"
     ]
    },
    {
     "name": "stderr",
     "output_type": "stream",
     "text": [
      "[2025-02-14 14:15:47] INFO (torcheeg/MainThread) \n",
      "[Train] train_loss: 0.674 train_accuracy: 0.617 \n",
      "\n"
     ]
    },
    {
     "name": "stdout",
     "output_type": "stream",
     "text": [
      "Epoch 4: 100%|██████████| 8/8 [00:00<00:00, 26.56it/s, loss=0.657, train_loss=0.707, train_accuracy=0.625]"
     ]
    },
    {
     "name": "stderr",
     "output_type": "stream",
     "text": [
      "[2025-02-14 14:15:47] INFO (torcheeg/MainThread) \n",
      "[Train] train_loss: 0.650 train_accuracy: 0.658 \n",
      "\n"
     ]
    },
    {
     "name": "stdout",
     "output_type": "stream",
     "text": [
      "Epoch 5: 100%|██████████| 8/8 [00:00<00:00, 26.36it/s, loss=0.661, train_loss=0.648, train_accuracy=0.500]"
     ]
    },
    {
     "name": "stderr",
     "output_type": "stream",
     "text": [
      "[2025-02-14 14:15:48] INFO (torcheeg/MainThread) \n",
      "[Train] train_loss: 0.670 train_accuracy: 0.583 \n",
      "\n"
     ]
    },
    {
     "name": "stdout",
     "output_type": "stream",
     "text": [
      "Epoch 6: 100%|██████████| 8/8 [00:00<00:00, 26.52it/s, loss=0.648, train_loss=0.586, train_accuracy=0.625]"
     ]
    },
    {
     "name": "stderr",
     "output_type": "stream",
     "text": [
      "Metric train_loss improved by 0.031 >= min_delta = 0.0. New best score: 0.586\n"
     ]
    },
    {
     "name": "stdout",
     "output_type": "stream",
     "text": [
      "Epoch 6: 100%|██████████| 8/8 [00:00<00:00, 26.39it/s, loss=0.648, train_loss=0.586, train_accuracy=0.625]"
     ]
    },
    {
     "name": "stderr",
     "output_type": "stream",
     "text": [
      "[2025-02-14 14:15:48] INFO (torcheeg/MainThread) \n",
      "[Train] train_loss: 0.615 train_accuracy: 0.758 \n",
      "\n"
     ]
    },
    {
     "name": "stdout",
     "output_type": "stream",
     "text": [
      "Epoch 7: 100%|██████████| 8/8 [00:00<00:00, 27.13it/s, loss=0.62, train_loss=0.539, train_accuracy=0.875] "
     ]
    },
    {
     "name": "stderr",
     "output_type": "stream",
     "text": [
      "Metric train_loss improved by 0.047 >= min_delta = 0.0. New best score: 0.539\n"
     ]
    },
    {
     "name": "stdout",
     "output_type": "stream",
     "text": [
      "Epoch 7: 100%|██████████| 8/8 [00:00<00:00, 26.99it/s, loss=0.62, train_loss=0.539, train_accuracy=0.875]"
     ]
    },
    {
     "name": "stderr",
     "output_type": "stream",
     "text": [
      "[2025-02-14 14:15:48] INFO (torcheeg/MainThread) \n",
      "[Train] train_loss: 0.617 train_accuracy: 0.692 \n",
      "\n"
     ]
    },
    {
     "name": "stdout",
     "output_type": "stream",
     "text": [
      "Epoch 8: 100%|██████████| 8/8 [00:00<00:00, 26.69it/s, loss=0.616, train_loss=0.702, train_accuracy=0.375]"
     ]
    },
    {
     "name": "stderr",
     "output_type": "stream",
     "text": [
      "[2025-02-14 14:15:49] INFO (torcheeg/MainThread) \n",
      "[Train] train_loss: 0.628 train_accuracy: 0.658 \n",
      "\n"
     ]
    },
    {
     "name": "stdout",
     "output_type": "stream",
     "text": [
      "Epoch 9: 100%|██████████| 8/8 [00:00<00:00, 26.86it/s, loss=0.614, train_loss=0.504, train_accuracy=0.875]"
     ]
    },
    {
     "name": "stderr",
     "output_type": "stream",
     "text": [
      "Metric train_loss improved by 0.035 >= min_delta = 0.0. New best score: 0.504\n"
     ]
    },
    {
     "name": "stdout",
     "output_type": "stream",
     "text": [
      "Epoch 9: 100%|██████████| 8/8 [00:00<00:00, 26.72it/s, loss=0.614, train_loss=0.504, train_accuracy=0.875]"
     ]
    },
    {
     "name": "stderr",
     "output_type": "stream",
     "text": [
      "[2025-02-14 14:15:49] INFO (torcheeg/MainThread) \n",
      "[Train] train_loss: 0.596 train_accuracy: 0.708 \n",
      "\n"
     ]
    },
    {
     "name": "stdout",
     "output_type": "stream",
     "text": [
      "Epoch 10: 100%|██████████| 8/8 [00:00<00:00, 26.90it/s, loss=0.601, train_loss=0.529, train_accuracy=0.875]"
     ]
    },
    {
     "name": "stderr",
     "output_type": "stream",
     "text": [
      "[2025-02-14 14:15:49] INFO (torcheeg/MainThread) \n",
      "[Train] train_loss: 0.582 train_accuracy: 0.775 \n",
      "\n"
     ]
    },
    {
     "name": "stdout",
     "output_type": "stream",
     "text": [
      "Epoch 11: 100%|██████████| 8/8 [00:00<00:00, 26.96it/s, loss=0.584, train_loss=0.433, train_accuracy=0.875]"
     ]
    },
    {
     "name": "stderr",
     "output_type": "stream",
     "text": [
      "Metric train_loss improved by 0.071 >= min_delta = 0.0. New best score: 0.433\n"
     ]
    },
    {
     "name": "stdout",
     "output_type": "stream",
     "text": [
      "Epoch 11: 100%|██████████| 8/8 [00:00<00:00, 26.82it/s, loss=0.584, train_loss=0.433, train_accuracy=0.875]"
     ]
    },
    {
     "name": "stderr",
     "output_type": "stream",
     "text": [
      "[2025-02-14 14:15:49] INFO (torcheeg/MainThread) \n",
      "[Train] train_loss: 0.576 train_accuracy: 0.725 \n",
      "\n"
     ]
    },
    {
     "name": "stdout",
     "output_type": "stream",
     "text": [
      "Epoch 12: 100%|██████████| 8/8 [00:00<00:00, 25.94it/s, loss=0.57, train_loss=0.566, train_accuracy=0.875] "
     ]
    },
    {
     "name": "stderr",
     "output_type": "stream",
     "text": [
      "[2025-02-14 14:15:50] INFO (torcheeg/MainThread) \n",
      "[Train] train_loss: 0.562 train_accuracy: 0.767 \n",
      "\n"
     ]
    },
    {
     "name": "stdout",
     "output_type": "stream",
     "text": [
      "Epoch 13: 100%|██████████| 8/8 [00:00<00:00, 27.13it/s, loss=0.555, train_loss=0.670, train_accuracy=0.750]"
     ]
    },
    {
     "name": "stderr",
     "output_type": "stream",
     "text": [
      "[2025-02-14 14:15:50] INFO (torcheeg/MainThread) \n",
      "[Train] train_loss: 0.554 train_accuracy: 0.775 \n",
      "\n"
     ]
    },
    {
     "name": "stdout",
     "output_type": "stream",
     "text": [
      "Epoch 14: 100%|██████████| 8/8 [00:00<00:00, 27.15it/s, loss=0.566, train_loss=0.624, train_accuracy=0.750]"
     ]
    },
    {
     "name": "stderr",
     "output_type": "stream",
     "text": [
      "[2025-02-14 14:15:50] INFO (torcheeg/MainThread) \n",
      "[Train] train_loss: 0.570 train_accuracy: 0.767 \n",
      "\n"
     ]
    },
    {
     "name": "stdout",
     "output_type": "stream",
     "text": [
      "Epoch 15: 100%|██████████| 8/8 [00:00<00:00, 26.44it/s, loss=0.553, train_loss=0.529, train_accuracy=0.750]"
     ]
    },
    {
     "name": "stderr",
     "output_type": "stream",
     "text": [
      "[2025-02-14 14:15:51] INFO (torcheeg/MainThread) \n",
      "[Train] train_loss: 0.528 train_accuracy: 0.800 \n",
      "\n"
     ]
    },
    {
     "name": "stdout",
     "output_type": "stream",
     "text": [
      "Epoch 16: 100%|██████████| 8/8 [00:00<00:00, 26.87it/s, loss=0.536, train_loss=0.547, train_accuracy=0.625]"
     ]
    },
    {
     "name": "stderr",
     "output_type": "stream",
     "text": [
      "[2025-02-14 14:15:51] INFO (torcheeg/MainThread) \n",
      "[Train] train_loss: 0.534 train_accuracy: 0.792 \n",
      "\n"
     ]
    },
    {
     "name": "stdout",
     "output_type": "stream",
     "text": [
      "Epoch 17: 100%|██████████| 8/8 [00:00<00:00, 26.84it/s, loss=0.525, train_loss=0.665, train_accuracy=0.500]"
     ]
    },
    {
     "name": "stderr",
     "output_type": "stream",
     "text": [
      "[2025-02-14 14:15:51] INFO (torcheeg/MainThread) \n",
      "[Train] train_loss: 0.522 train_accuracy: 0.808 \n",
      "\n"
     ]
    },
    {
     "name": "stdout",
     "output_type": "stream",
     "text": [
      "Epoch 18: 100%|██████████| 8/8 [00:00<00:00, 26.71it/s, loss=0.517, train_loss=0.519, train_accuracy=0.875]"
     ]
    },
    {
     "name": "stderr",
     "output_type": "stream",
     "text": [
      "[2025-02-14 14:15:52] INFO (torcheeg/MainThread) \n",
      "[Train] train_loss: 0.495 train_accuracy: 0.867 \n",
      "\n"
     ]
    },
    {
     "name": "stdout",
     "output_type": "stream",
     "text": [
      "Epoch 19: 100%|██████████| 8/8 [00:00<00:00, 26.70it/s, loss=0.514, train_loss=0.497, train_accuracy=0.875]"
     ]
    },
    {
     "name": "stderr",
     "output_type": "stream",
     "text": [
      "[2025-02-14 14:15:52] INFO (torcheeg/MainThread) \n",
      "[Train] train_loss: 0.507 train_accuracy: 0.800 \n",
      "\n"
     ]
    },
    {
     "name": "stdout",
     "output_type": "stream",
     "text": [
      "Epoch 20: 100%|██████████| 8/8 [00:00<00:00, 27.15it/s, loss=0.501, train_loss=0.465, train_accuracy=0.750]"
     ]
    },
    {
     "name": "stderr",
     "output_type": "stream",
     "text": [
      "[2025-02-14 14:15:52] INFO (torcheeg/MainThread) \n",
      "[Train] train_loss: 0.492 train_accuracy: 0.792 \n",
      "\n"
     ]
    },
    {
     "name": "stdout",
     "output_type": "stream",
     "text": [
      "Epoch 21: 100%|██████████| 8/8 [00:00<00:00, 27.71it/s, loss=0.482, train_loss=0.496, train_accuracy=0.750]"
     ]
    },
    {
     "name": "stderr",
     "output_type": "stream",
     "text": [
      "[2025-02-14 14:15:52] INFO (torcheeg/MainThread) \n",
      "[Train] train_loss: 0.460 train_accuracy: 0.858 \n",
      "\n"
     ]
    },
    {
     "name": "stdout",
     "output_type": "stream",
     "text": [
      "Epoch 22: 100%|██████████| 8/8 [00:00<00:00, 28.39it/s, loss=0.45, train_loss=0.402, train_accuracy=0.875] "
     ]
    },
    {
     "name": "stderr",
     "output_type": "stream",
     "text": [
      "Metric train_loss improved by 0.031 >= min_delta = 0.0. New best score: 0.402\n"
     ]
    },
    {
     "name": "stdout",
     "output_type": "stream",
     "text": [
      "Epoch 22: 100%|██████████| 8/8 [00:00<00:00, 28.24it/s, loss=0.45, train_loss=0.402, train_accuracy=0.875]"
     ]
    },
    {
     "name": "stderr",
     "output_type": "stream",
     "text": [
      "[2025-02-14 14:15:53] INFO (torcheeg/MainThread) \n",
      "[Train] train_loss: 0.440 train_accuracy: 0.842 \n",
      "\n"
     ]
    },
    {
     "name": "stdout",
     "output_type": "stream",
     "text": [
      "Epoch 23: 100%|██████████| 8/8 [00:00<00:00, 28.07it/s, loss=0.443, train_loss=0.375, train_accuracy=0.750]"
     ]
    },
    {
     "name": "stderr",
     "output_type": "stream",
     "text": [
      "Metric train_loss improved by 0.027 >= min_delta = 0.0. New best score: 0.375\n"
     ]
    },
    {
     "name": "stdout",
     "output_type": "stream",
     "text": [
      "Epoch 23: 100%|██████████| 8/8 [00:00<00:00, 27.92it/s, loss=0.443, train_loss=0.375, train_accuracy=0.750]"
     ]
    },
    {
     "name": "stderr",
     "output_type": "stream",
     "text": [
      "[2025-02-14 14:15:53] INFO (torcheeg/MainThread) \n",
      "[Train] train_loss: 0.431 train_accuracy: 0.800 \n",
      "\n"
     ]
    },
    {
     "name": "stdout",
     "output_type": "stream",
     "text": [
      "Epoch 24: 100%|██████████| 8/8 [00:00<00:00, 27.69it/s, loss=0.424, train_loss=0.367, train_accuracy=0.750]"
     ]
    },
    {
     "name": "stderr",
     "output_type": "stream",
     "text": [
      "Metric train_loss improved by 0.008 >= min_delta = 0.0. New best score: 0.367\n"
     ]
    },
    {
     "name": "stdout",
     "output_type": "stream",
     "text": [
      "Epoch 24: 100%|██████████| 8/8 [00:00<00:00, 27.53it/s, loss=0.424, train_loss=0.367, train_accuracy=0.750]"
     ]
    },
    {
     "name": "stderr",
     "output_type": "stream",
     "text": [
      "[2025-02-14 14:15:53] INFO (torcheeg/MainThread) \n",
      "[Train] train_loss: 0.409 train_accuracy: 0.842 \n",
      "\n"
     ]
    },
    {
     "name": "stdout",
     "output_type": "stream",
     "text": [
      "Epoch 25: 100%|██████████| 8/8 [00:00<00:00, 27.33it/s, loss=0.41, train_loss=0.320, train_accuracy=1.000] "
     ]
    },
    {
     "name": "stderr",
     "output_type": "stream",
     "text": [
      "Metric train_loss improved by 0.047 >= min_delta = 0.0. New best score: 0.320\n"
     ]
    },
    {
     "name": "stdout",
     "output_type": "stream",
     "text": [
      "Epoch 25: 100%|██████████| 8/8 [00:00<00:00, 27.19it/s, loss=0.41, train_loss=0.320, train_accuracy=1.000]"
     ]
    },
    {
     "name": "stderr",
     "output_type": "stream",
     "text": [
      "[2025-02-14 14:15:54] INFO (torcheeg/MainThread) \n",
      "[Train] train_loss: 0.401 train_accuracy: 0.883 \n",
      "\n"
     ]
    },
    {
     "name": "stdout",
     "output_type": "stream",
     "text": [
      "Epoch 26: 100%|██████████| 8/8 [00:00<00:00, 26.00it/s, loss=0.406, train_loss=0.537, train_accuracy=0.625]"
     ]
    },
    {
     "name": "stderr",
     "output_type": "stream",
     "text": [
      "[2025-02-14 14:15:54] INFO (torcheeg/MainThread) \n",
      "[Train] train_loss: 0.430 train_accuracy: 0.850 \n",
      "\n"
     ]
    },
    {
     "name": "stdout",
     "output_type": "stream",
     "text": [
      "Epoch 27: 100%|██████████| 8/8 [00:00<00:00, 27.92it/s, loss=0.409, train_loss=0.394, train_accuracy=0.875]"
     ]
    },
    {
     "name": "stderr",
     "output_type": "stream",
     "text": [
      "[2025-02-14 14:15:54] INFO (torcheeg/MainThread) \n",
      "[Train] train_loss: 0.375 train_accuracy: 0.892 \n",
      "\n"
     ]
    },
    {
     "name": "stdout",
     "output_type": "stream",
     "text": [
      "Epoch 28: 100%|██████████| 8/8 [00:00<00:00, 25.33it/s, loss=0.402, train_loss=0.470, train_accuracy=0.750]"
     ]
    },
    {
     "name": "stderr",
     "output_type": "stream",
     "text": [
      "[2025-02-14 14:15:55] INFO (torcheeg/MainThread) \n",
      "[Train] train_loss: 0.401 train_accuracy: 0.842 \n",
      "\n"
     ]
    },
    {
     "name": "stdout",
     "output_type": "stream",
     "text": [
      "Epoch 29: 100%|██████████| 8/8 [00:00<00:00, 28.09it/s, loss=0.379, train_loss=0.297, train_accuracy=1.000]"
     ]
    },
    {
     "name": "stderr",
     "output_type": "stream",
     "text": [
      "Metric train_loss improved by 0.023 >= min_delta = 0.0. New best score: 0.297\n"
     ]
    },
    {
     "name": "stdout",
     "output_type": "stream",
     "text": [
      "Epoch 29: 100%|██████████| 8/8 [00:00<00:00, 27.93it/s, loss=0.379, train_loss=0.297, train_accuracy=1.000]"
     ]
    },
    {
     "name": "stderr",
     "output_type": "stream",
     "text": [
      "[2025-02-14 14:15:55] INFO (torcheeg/MainThread) \n",
      "[Train] train_loss: 0.346 train_accuracy: 0.900 \n",
      "\n"
     ]
    },
    {
     "name": "stdout",
     "output_type": "stream",
     "text": [
      "Epoch 30: 100%|██████████| 8/8 [00:00<00:00, 28.33it/s, loss=0.345, train_loss=0.259, train_accuracy=0.875]"
     ]
    },
    {
     "name": "stderr",
     "output_type": "stream",
     "text": [
      "Metric train_loss improved by 0.037 >= min_delta = 0.0. New best score: 0.259\n"
     ]
    },
    {
     "name": "stdout",
     "output_type": "stream",
     "text": [
      "Epoch 30: 100%|██████████| 8/8 [00:00<00:00, 28.18it/s, loss=0.345, train_loss=0.259, train_accuracy=0.875]"
     ]
    },
    {
     "name": "stderr",
     "output_type": "stream",
     "text": [
      "[2025-02-14 14:15:55] INFO (torcheeg/MainThread) \n",
      "[Train] train_loss: 0.316 train_accuracy: 0.917 \n",
      "\n"
     ]
    },
    {
     "name": "stdout",
     "output_type": "stream",
     "text": [
      "Epoch 31: 100%|██████████| 8/8 [00:00<00:00, 26.76it/s, loss=0.317, train_loss=0.307, train_accuracy=0.875]"
     ]
    },
    {
     "name": "stderr",
     "output_type": "stream",
     "text": [
      "[2025-02-14 14:15:55] INFO (torcheeg/MainThread) \n",
      "[Train] train_loss: 0.315 train_accuracy: 0.900 \n",
      "\n"
     ]
    },
    {
     "name": "stdout",
     "output_type": "stream",
     "text": [
      "Epoch 32: 100%|██████████| 8/8 [00:00<00:00, 26.14it/s, loss=0.323, train_loss=0.208, train_accuracy=1.000]"
     ]
    },
    {
     "name": "stderr",
     "output_type": "stream",
     "text": [
      "Metric train_loss improved by 0.051 >= min_delta = 0.0. New best score: 0.208\n"
     ]
    },
    {
     "name": "stdout",
     "output_type": "stream",
     "text": [
      "Epoch 32: 100%|██████████| 8/8 [00:00<00:00, 26.00it/s, loss=0.323, train_loss=0.208, train_accuracy=1.000]"
     ]
    },
    {
     "name": "stderr",
     "output_type": "stream",
     "text": [
      "[2025-02-14 14:15:56] INFO (torcheeg/MainThread) \n",
      "[Train] train_loss: 0.329 train_accuracy: 0.908 \n",
      "\n"
     ]
    },
    {
     "name": "stdout",
     "output_type": "stream",
     "text": [
      "Epoch 33: 100%|██████████| 8/8 [00:00<00:00, 26.98it/s, loss=0.31, train_loss=0.362, train_accuracy=0.750] "
     ]
    },
    {
     "name": "stderr",
     "output_type": "stream",
     "text": [
      "[2025-02-14 14:15:56] INFO (torcheeg/MainThread) \n",
      "[Train] train_loss: 0.303 train_accuracy: 0.908 \n",
      "\n"
     ]
    },
    {
     "name": "stdout",
     "output_type": "stream",
     "text": [
      "Epoch 34: 100%|██████████| 8/8 [00:00<00:00, 27.64it/s, loss=0.28, train_loss=0.0929, train_accuracy=1.000]"
     ]
    },
    {
     "name": "stderr",
     "output_type": "stream",
     "text": [
      "Metric train_loss improved by 0.115 >= min_delta = 0.0. New best score: 0.093\n"
     ]
    },
    {
     "name": "stdout",
     "output_type": "stream",
     "text": [
      "Epoch 34: 100%|██████████| 8/8 [00:00<00:00, 27.50it/s, loss=0.28, train_loss=0.0929, train_accuracy=1.000]"
     ]
    },
    {
     "name": "stderr",
     "output_type": "stream",
     "text": [
      "[2025-02-14 14:15:56] INFO (torcheeg/MainThread) \n",
      "[Train] train_loss: 0.247 train_accuracy: 0.967 \n",
      "\n"
     ]
    },
    {
     "name": "stdout",
     "output_type": "stream",
     "text": [
      "Epoch 35: 100%|██████████| 8/8 [00:00<00:00, 27.79it/s, loss=0.277, train_loss=0.431, train_accuracy=0.875]"
     ]
    },
    {
     "name": "stderr",
     "output_type": "stream",
     "text": [
      "[2025-02-14 14:15:57] INFO (torcheeg/MainThread) \n",
      "[Train] train_loss: 0.294 train_accuracy: 0.925 \n",
      "\n"
     ]
    },
    {
     "name": "stdout",
     "output_type": "stream",
     "text": [
      "Epoch 36: 100%|██████████| 8/8 [00:00<00:00, 28.02it/s, loss=0.264, train_loss=0.239, train_accuracy=1.000]"
     ]
    },
    {
     "name": "stderr",
     "output_type": "stream",
     "text": [
      "[2025-02-14 14:15:57] INFO (torcheeg/MainThread) \n",
      "[Train] train_loss: 0.253 train_accuracy: 0.933 \n",
      "\n"
     ]
    },
    {
     "name": "stdout",
     "output_type": "stream",
     "text": [
      "Epoch 37: 100%|██████████| 8/8 [00:00<00:00, 28.30it/s, loss=0.261, train_loss=0.188, train_accuracy=1.000]"
     ]
    },
    {
     "name": "stderr",
     "output_type": "stream",
     "text": [
      "[2025-02-14 14:15:57] INFO (torcheeg/MainThread) \n",
      "[Train] train_loss: 0.260 train_accuracy: 0.933 \n",
      "\n"
     ]
    },
    {
     "name": "stdout",
     "output_type": "stream",
     "text": [
      "Epoch 38: 100%|██████████| 8/8 [00:00<00:00, 26.56it/s, loss=0.242, train_loss=0.170, train_accuracy=1.000]"
     ]
    },
    {
     "name": "stderr",
     "output_type": "stream",
     "text": [
      "[2025-02-14 14:15:57] INFO (torcheeg/MainThread) \n",
      "[Train] train_loss: 0.214 train_accuracy: 0.950 \n",
      "\n"
     ]
    },
    {
     "name": "stdout",
     "output_type": "stream",
     "text": [
      "Epoch 39: 100%|██████████| 8/8 [00:00<00:00, 21.94it/s, loss=0.221, train_loss=0.245, train_accuracy=1.000]"
     ]
    },
    {
     "name": "stderr",
     "output_type": "stream",
     "text": [
      "[2025-02-14 14:15:58] INFO (torcheeg/MainThread) \n",
      "[Train] train_loss: 0.214 train_accuracy: 0.958 \n",
      "\n"
     ]
    },
    {
     "name": "stdout",
     "output_type": "stream",
     "text": [
      "Epoch 40: 100%|██████████| 8/8 [00:00<00:00, 22.21it/s, loss=0.213, train_loss=0.232, train_accuracy=1.000]"
     ]
    },
    {
     "name": "stderr",
     "output_type": "stream",
     "text": [
      "[2025-02-14 14:15:58] INFO (torcheeg/MainThread) \n",
      "[Train] train_loss: 0.213 train_accuracy: 0.950 \n",
      "\n"
     ]
    },
    {
     "name": "stdout",
     "output_type": "stream",
     "text": [
      "Epoch 41: 100%|██████████| 8/8 [00:00<00:00, 21.93it/s, loss=0.221, train_loss=0.274, train_accuracy=1.000]"
     ]
    },
    {
     "name": "stderr",
     "output_type": "stream",
     "text": [
      "[2025-02-14 14:15:59] INFO (torcheeg/MainThread) \n",
      "[Train] train_loss: 0.233 train_accuracy: 0.958 \n",
      "\n"
     ]
    },
    {
     "name": "stdout",
     "output_type": "stream",
     "text": [
      "Epoch 42: 100%|██████████| 8/8 [00:00<00:00, 22.24it/s, loss=0.195, train_loss=0.133, train_accuracy=1.000] "
     ]
    },
    {
     "name": "stderr",
     "output_type": "stream",
     "text": [
      "[2025-02-14 14:15:59] INFO (torcheeg/MainThread) \n",
      "[Train] train_loss: 0.141 train_accuracy: 1.000 \n",
      "\n"
     ]
    },
    {
     "name": "stdout",
     "output_type": "stream",
     "text": [
      "Epoch 43: 100%|██████████| 8/8 [00:00<00:00, 23.30it/s, loss=0.176, train_loss=0.217, train_accuracy=0.875]"
     ]
    },
    {
     "name": "stderr",
     "output_type": "stream",
     "text": [
      "[2025-02-14 14:15:59] INFO (torcheeg/MainThread) \n",
      "[Train] train_loss: 0.180 train_accuracy: 0.958 \n",
      "\n"
     ]
    },
    {
     "name": "stdout",
     "output_type": "stream",
     "text": [
      "Epoch 44: 100%|██████████| 8/8 [00:00<00:00, 21.40it/s, loss=0.168, train_loss=0.0744, train_accuracy=1.000]"
     ]
    },
    {
     "name": "stderr",
     "output_type": "stream",
     "text": [
      "Metric train_loss improved by 0.018 >= min_delta = 0.0. New best score: 0.074\n"
     ]
    },
    {
     "name": "stdout",
     "output_type": "stream",
     "text": [
      "Epoch 44: 100%|██████████| 8/8 [00:00<00:00, 21.19it/s, loss=0.168, train_loss=0.0744, train_accuracy=1.000]"
     ]
    },
    {
     "name": "stderr",
     "output_type": "stream",
     "text": [
      "[2025-02-14 14:16:00] INFO (torcheeg/MainThread) \n",
      "[Train] train_loss: 0.175 train_accuracy: 0.950 \n",
      "\n"
     ]
    },
    {
     "name": "stdout",
     "output_type": "stream",
     "text": [
      "Epoch 45: 100%|██████████| 8/8 [00:00<00:00, 22.73it/s, loss=0.157, train_loss=0.0593, train_accuracy=1.000]"
     ]
    },
    {
     "name": "stderr",
     "output_type": "stream",
     "text": [
      "Metric train_loss improved by 0.015 >= min_delta = 0.0. New best score: 0.059\n"
     ]
    },
    {
     "name": "stdout",
     "output_type": "stream",
     "text": [
      "Epoch 45: 100%|██████████| 8/8 [00:00<00:00, 22.60it/s, loss=0.157, train_loss=0.0593, train_accuracy=1.000]"
     ]
    },
    {
     "name": "stderr",
     "output_type": "stream",
     "text": [
      "[2025-02-14 14:16:00] INFO (torcheeg/MainThread) \n",
      "[Train] train_loss: 0.126 train_accuracy: 0.992 \n",
      "\n"
     ]
    },
    {
     "name": "stdout",
     "output_type": "stream",
     "text": [
      "Epoch 46: 100%|██████████| 8/8 [00:00<00:00, 22.38it/s, loss=0.14, train_loss=0.193, train_accuracy=1.000]  "
     ]
    },
    {
     "name": "stderr",
     "output_type": "stream",
     "text": [
      "[2025-02-14 14:16:00] INFO (torcheeg/MainThread) \n",
      "[Train] train_loss: 0.132 train_accuracy: 0.992 \n",
      "\n"
     ]
    },
    {
     "name": "stdout",
     "output_type": "stream",
     "text": [
      "Epoch 47: 100%|██████████| 8/8 [00:00<00:00, 22.68it/s, loss=0.124, train_loss=0.109, train_accuracy=1.000] "
     ]
    },
    {
     "name": "stderr",
     "output_type": "stream",
     "text": [
      "[2025-02-14 14:16:01] INFO (torcheeg/MainThread) \n",
      "[Train] train_loss: 0.120 train_accuracy: 0.992 \n",
      "\n"
     ]
    },
    {
     "name": "stdout",
     "output_type": "stream",
     "text": [
      "Epoch 48: 100%|██████████| 8/8 [00:00<00:00, 24.20it/s, loss=0.138, train_loss=0.255, train_accuracy=0.875] "
     ]
    },
    {
     "name": "stderr",
     "output_type": "stream",
     "text": [
      "[2025-02-14 14:16:01] INFO (torcheeg/MainThread) \n",
      "[Train] train_loss: 0.162 train_accuracy: 0.958 \n",
      "\n"
     ]
    },
    {
     "name": "stdout",
     "output_type": "stream",
     "text": [
      "Epoch 49: 100%|██████████| 8/8 [00:00<00:00, 28.09it/s, loss=0.129, train_loss=0.125, train_accuracy=1.000] "
     ]
    },
    {
     "name": "stderr",
     "output_type": "stream",
     "text": [
      "[2025-02-14 14:16:01] INFO (torcheeg/MainThread) \n",
      "[Train] train_loss: 0.109 train_accuracy: 0.983 \n",
      "\n"
     ]
    },
    {
     "name": "stdout",
     "output_type": "stream",
     "text": [
      "Epoch 50: 100%|██████████| 8/8 [00:00<00:00, 27.60it/s, loss=0.129, train_loss=0.0977, train_accuracy=1.000]"
     ]
    },
    {
     "name": "stderr",
     "output_type": "stream",
     "text": [
      "[2025-02-14 14:16:02] INFO (torcheeg/MainThread) \n",
      "[Train] train_loss: 0.113 train_accuracy: 0.992 \n",
      "\n"
     ]
    },
    {
     "name": "stdout",
     "output_type": "stream",
     "text": [
      "Epoch 51: 100%|██████████| 8/8 [00:00<00:00, 27.98it/s, loss=0.107, train_loss=0.0527, train_accuracy=1.000]"
     ]
    },
    {
     "name": "stderr",
     "output_type": "stream",
     "text": [
      "Metric train_loss improved by 0.007 >= min_delta = 0.0. New best score: 0.053\n"
     ]
    },
    {
     "name": "stdout",
     "output_type": "stream",
     "text": [
      "Epoch 51: 100%|██████████| 8/8 [00:00<00:00, 27.82it/s, loss=0.107, train_loss=0.0527, train_accuracy=1.000]"
     ]
    },
    {
     "name": "stderr",
     "output_type": "stream",
     "text": [
      "[2025-02-14 14:16:02] INFO (torcheeg/MainThread) \n",
      "[Train] train_loss: 0.101 train_accuracy: 0.992 \n",
      "\n"
     ]
    },
    {
     "name": "stdout",
     "output_type": "stream",
     "text": [
      "Epoch 52: 100%|██████████| 8/8 [00:00<00:00, 25.88it/s, loss=0.106, train_loss=0.111, train_accuracy=1.000] "
     ]
    },
    {
     "name": "stderr",
     "output_type": "stream",
     "text": [
      "[2025-02-14 14:16:02] INFO (torcheeg/MainThread) \n",
      "[Train] train_loss: 0.111 train_accuracy: 0.983 \n",
      "\n"
     ]
    },
    {
     "name": "stdout",
     "output_type": "stream",
     "text": [
      "Epoch 53: 100%|██████████| 8/8 [00:00<00:00, 28.20it/s, loss=0.104, train_loss=0.0473, train_accuracy=1.000]"
     ]
    },
    {
     "name": "stderr",
     "output_type": "stream",
     "text": [
      "Metric train_loss improved by 0.005 >= min_delta = 0.0. New best score: 0.047\n"
     ]
    },
    {
     "name": "stdout",
     "output_type": "stream",
     "text": [
      "Epoch 53: 100%|██████████| 8/8 [00:00<00:00, 28.05it/s, loss=0.104, train_loss=0.0473, train_accuracy=1.000]"
     ]
    },
    {
     "name": "stderr",
     "output_type": "stream",
     "text": [
      "[2025-02-14 14:16:03] INFO (torcheeg/MainThread) \n",
      "[Train] train_loss: 0.093 train_accuracy: 0.975 \n",
      "\n"
     ]
    },
    {
     "name": "stdout",
     "output_type": "stream",
     "text": [
      "Epoch 54: 100%|██████████| 8/8 [00:00<00:00, 28.34it/s, loss=0.0911, train_loss=0.0916, train_accuracy=1.000]"
     ]
    },
    {
     "name": "stderr",
     "output_type": "stream",
     "text": [
      "[2025-02-14 14:16:03] INFO (torcheeg/MainThread) \n",
      "[Train] train_loss: 0.088 train_accuracy: 0.992 \n",
      "\n"
     ]
    },
    {
     "name": "stdout",
     "output_type": "stream",
     "text": [
      "Epoch 55: 100%|██████████| 8/8 [00:00<00:00, 28.13it/s, loss=0.0814, train_loss=0.208, train_accuracy=0.875] "
     ]
    },
    {
     "name": "stderr",
     "output_type": "stream",
     "text": [
      "[2025-02-14 14:16:03] INFO (torcheeg/MainThread) \n",
      "[Train] train_loss: 0.080 train_accuracy: 0.992 \n",
      "\n"
     ]
    },
    {
     "name": "stdout",
     "output_type": "stream",
     "text": [
      "Epoch 56: 100%|██████████| 8/8 [00:00<00:00, 28.23it/s, loss=0.0823, train_loss=0.0455, train_accuracy=1.000]"
     ]
    },
    {
     "name": "stderr",
     "output_type": "stream",
     "text": [
      "Metric train_loss improved by 0.002 >= min_delta = 0.0. New best score: 0.045\n"
     ]
    },
    {
     "name": "stdout",
     "output_type": "stream",
     "text": [
      "Epoch 56: 100%|██████████| 8/8 [00:00<00:00, 28.08it/s, loss=0.0823, train_loss=0.0455, train_accuracy=1.000]"
     ]
    },
    {
     "name": "stderr",
     "output_type": "stream",
     "text": [
      "[2025-02-14 14:16:03] INFO (torcheeg/MainThread) \n",
      "[Train] train_loss: 0.078 train_accuracy: 0.992 \n",
      "\n"
     ]
    },
    {
     "name": "stdout",
     "output_type": "stream",
     "text": [
      "Epoch 57: 100%|██████████| 8/8 [00:00<00:00, 27.81it/s, loss=0.084, train_loss=0.117, train_accuracy=0.875]  "
     ]
    },
    {
     "name": "stderr",
     "output_type": "stream",
     "text": [
      "[2025-02-14 14:16:04] INFO (torcheeg/MainThread) \n",
      "[Train] train_loss: 0.082 train_accuracy: 0.983 \n",
      "\n"
     ]
    },
    {
     "name": "stdout",
     "output_type": "stream",
     "text": [
      "Epoch 58: 100%|██████████| 8/8 [00:00<00:00, 28.06it/s, loss=0.088, train_loss=0.0807, train_accuracy=1.000] "
     ]
    },
    {
     "name": "stderr",
     "output_type": "stream",
     "text": [
      "[2025-02-14 14:16:04] INFO (torcheeg/MainThread) \n",
      "[Train] train_loss: 0.093 train_accuracy: 0.992 \n",
      "\n"
     ]
    },
    {
     "name": "stdout",
     "output_type": "stream",
     "text": [
      "Epoch 59: 100%|██████████| 8/8 [00:00<00:00, 26.31it/s, loss=0.0824, train_loss=0.0242, train_accuracy=1.000]"
     ]
    },
    {
     "name": "stderr",
     "output_type": "stream",
     "text": [
      "Metric train_loss improved by 0.021 >= min_delta = 0.0. New best score: 0.024\n"
     ]
    },
    {
     "name": "stdout",
     "output_type": "stream",
     "text": [
      "Epoch 59: 100%|██████████| 8/8 [00:00<00:00, 26.15it/s, loss=0.0824, train_loss=0.0242, train_accuracy=1.000]"
     ]
    },
    {
     "name": "stderr",
     "output_type": "stream",
     "text": [
      "[2025-02-14 14:16:04] INFO (torcheeg/MainThread) \n",
      "[Train] train_loss: 0.065 train_accuracy: 0.992 \n",
      "\n"
     ]
    },
    {
     "name": "stdout",
     "output_type": "stream",
     "text": [
      "Epoch 60: 100%|██████████| 8/8 [00:00<00:00, 26.86it/s, loss=0.0743, train_loss=0.101, train_accuracy=1.000] "
     ]
    },
    {
     "name": "stderr",
     "output_type": "stream",
     "text": [
      "[2025-02-14 14:16:05] INFO (torcheeg/MainThread) \n",
      "[Train] train_loss: 0.080 train_accuracy: 0.992 \n",
      "\n"
     ]
    },
    {
     "name": "stdout",
     "output_type": "stream",
     "text": [
      "Epoch 61: 100%|██████████| 8/8 [00:00<00:00, 28.42it/s, loss=0.0756, train_loss=0.0743, train_accuracy=1.000]"
     ]
    },
    {
     "name": "stderr",
     "output_type": "stream",
     "text": [
      "[2025-02-14 14:16:05] INFO (torcheeg/MainThread) \n",
      "[Train] train_loss: 0.079 train_accuracy: 0.992 \n",
      "\n"
     ]
    },
    {
     "name": "stdout",
     "output_type": "stream",
     "text": [
      "Epoch 62: 100%|██████████| 8/8 [00:00<00:00, 26.29it/s, loss=0.0724, train_loss=0.0075, train_accuracy=1.000]"
     ]
    },
    {
     "name": "stderr",
     "output_type": "stream",
     "text": [
      "Metric train_loss improved by 0.017 >= min_delta = 0.0. New best score: 0.007\n"
     ]
    },
    {
     "name": "stdout",
     "output_type": "stream",
     "text": [
      "Epoch 62: 100%|██████████| 8/8 [00:00<00:00, 26.16it/s, loss=0.0724, train_loss=0.0075, train_accuracy=1.000]"
     ]
    },
    {
     "name": "stderr",
     "output_type": "stream",
     "text": [
      "[2025-02-14 14:16:05] INFO (torcheeg/MainThread) \n",
      "[Train] train_loss: 0.057 train_accuracy: 0.992 \n",
      "\n"
     ]
    },
    {
     "name": "stdout",
     "output_type": "stream",
     "text": [
      "Epoch 63: 100%|██████████| 8/8 [00:00<00:00, 28.70it/s, loss=0.0626, train_loss=0.151, train_accuracy=1.000] "
     ]
    },
    {
     "name": "stderr",
     "output_type": "stream",
     "text": [
      "[2025-02-14 14:16:05] INFO (torcheeg/MainThread) \n",
      "[Train] train_loss: 0.071 train_accuracy: 1.000 \n",
      "\n"
     ]
    },
    {
     "name": "stdout",
     "output_type": "stream",
     "text": [
      "Epoch 64: 100%|██████████| 8/8 [00:00<00:00, 27.36it/s, loss=0.0676, train_loss=0.0274, train_accuracy=1.000]"
     ]
    },
    {
     "name": "stderr",
     "output_type": "stream",
     "text": [
      "[2025-02-14 14:16:06] INFO (torcheeg/MainThread) \n",
      "[Train] train_loss: 0.075 train_accuracy: 0.992 \n",
      "\n"
     ]
    },
    {
     "name": "stdout",
     "output_type": "stream",
     "text": [
      "Epoch 65: 100%|██████████| 8/8 [00:00<00:00, 28.26it/s, loss=0.0766, train_loss=0.0299, train_accuracy=1.000]"
     ]
    },
    {
     "name": "stderr",
     "output_type": "stream",
     "text": [
      "[2025-02-14 14:16:06] INFO (torcheeg/MainThread) \n",
      "[Train] train_loss: 0.070 train_accuracy: 0.975 \n",
      "\n"
     ]
    },
    {
     "name": "stdout",
     "output_type": "stream",
     "text": [
      "Epoch 66: 100%|██████████| 8/8 [00:00<00:00, 28.07it/s, loss=0.0652, train_loss=0.0507, train_accuracy=1.000]"
     ]
    },
    {
     "name": "stderr",
     "output_type": "stream",
     "text": [
      "[2025-02-14 14:16:06] INFO (torcheeg/MainThread) \n",
      "[Train] train_loss: 0.067 train_accuracy: 0.983 \n",
      "\n"
     ]
    },
    {
     "name": "stdout",
     "output_type": "stream",
     "text": [
      "Epoch 67: 100%|██████████| 8/8 [00:00<00:00, 27.07it/s, loss=0.0592, train_loss=0.0185, train_accuracy=1.000]"
     ]
    },
    {
     "name": "stderr",
     "output_type": "stream",
     "text": [
      "[2025-02-14 14:16:07] INFO (torcheeg/MainThread) \n",
      "[Train] train_loss: 0.054 train_accuracy: 1.000 \n",
      "\n"
     ]
    },
    {
     "name": "stdout",
     "output_type": "stream",
     "text": [
      "Epoch 68: 100%|██████████| 8/8 [00:00<00:00, 28.45it/s, loss=0.0564, train_loss=0.00509, train_accuracy=1.000]"
     ]
    },
    {
     "name": "stderr",
     "output_type": "stream",
     "text": [
      "Metric train_loss improved by 0.002 >= min_delta = 0.0. New best score: 0.005\n"
     ]
    },
    {
     "name": "stdout",
     "output_type": "stream",
     "text": [
      "Epoch 68: 100%|██████████| 8/8 [00:00<00:00, 28.29it/s, loss=0.0564, train_loss=0.00509, train_accuracy=1.000]"
     ]
    },
    {
     "name": "stderr",
     "output_type": "stream",
     "text": [
      "[2025-02-14 14:16:07] INFO (torcheeg/MainThread) \n",
      "[Train] train_loss: 0.038 train_accuracy: 1.000 \n",
      "\n"
     ]
    },
    {
     "name": "stdout",
     "output_type": "stream",
     "text": [
      "Epoch 69: 100%|██████████| 8/8 [00:00<00:00, 27.84it/s, loss=0.05, train_loss=0.115, train_accuracy=1.000]    "
     ]
    },
    {
     "name": "stderr",
     "output_type": "stream",
     "text": [
      "[2025-02-14 14:16:07] INFO (torcheeg/MainThread) \n",
      "[Train] train_loss: 0.066 train_accuracy: 1.000 \n",
      "\n"
     ]
    },
    {
     "name": "stdout",
     "output_type": "stream",
     "text": [
      "Epoch 70: 100%|██████████| 8/8 [00:00<00:00, 28.04it/s, loss=0.055, train_loss=0.0343, train_accuracy=1.000]  "
     ]
    },
    {
     "name": "stderr",
     "output_type": "stream",
     "text": [
      "[2025-02-14 14:16:08] INFO (torcheeg/MainThread) \n",
      "[Train] train_loss: 0.059 train_accuracy: 0.992 \n",
      "\n"
     ]
    },
    {
     "name": "stdout",
     "output_type": "stream",
     "text": [
      "Epoch 71: 100%|██████████| 8/8 [00:00<00:00, 27.28it/s, loss=0.0517, train_loss=0.0282, train_accuracy=1.000]"
     ]
    },
    {
     "name": "stderr",
     "output_type": "stream",
     "text": [
      "[2025-02-14 14:16:08] INFO (torcheeg/MainThread) \n",
      "[Train] train_loss: 0.038 train_accuracy: 1.000 \n",
      "\n"
     ]
    },
    {
     "name": "stdout",
     "output_type": "stream",
     "text": [
      "Epoch 72: 100%|██████████| 8/8 [00:00<00:00, 27.53it/s, loss=0.0463, train_loss=0.0761, train_accuracy=1.000]"
     ]
    },
    {
     "name": "stderr",
     "output_type": "stream",
     "text": [
      "[2025-02-14 14:16:08] INFO (torcheeg/MainThread) \n",
      "[Train] train_loss: 0.050 train_accuracy: 1.000 \n",
      "\n"
     ]
    },
    {
     "name": "stdout",
     "output_type": "stream",
     "text": [
      "Epoch 73: 100%|██████████| 8/8 [00:00<00:00, 27.48it/s, loss=0.045, train_loss=0.0087, train_accuracy=1.000] "
     ]
    },
    {
     "name": "stderr",
     "output_type": "stream",
     "text": [
      "[2025-02-14 14:16:08] INFO (torcheeg/MainThread) \n",
      "[Train] train_loss: 0.044 train_accuracy: 1.000 \n",
      "\n"
     ]
    },
    {
     "name": "stdout",
     "output_type": "stream",
     "text": [
      "Epoch 74: 100%|██████████| 8/8 [00:00<00:00, 27.97it/s, loss=0.0461, train_loss=0.013, train_accuracy=1.000] "
     ]
    },
    {
     "name": "stderr",
     "output_type": "stream",
     "text": [
      "[2025-02-14 14:16:09] INFO (torcheeg/MainThread) \n",
      "[Train] train_loss: 0.042 train_accuracy: 1.000 \n",
      "\n"
     ]
    },
    {
     "name": "stdout",
     "output_type": "stream",
     "text": [
      "Epoch 75: 100%|██████████| 8/8 [00:00<00:00, 26.51it/s, loss=0.0409, train_loss=0.0519, train_accuracy=1.000]"
     ]
    },
    {
     "name": "stderr",
     "output_type": "stream",
     "text": [
      "[2025-02-14 14:16:09] INFO (torcheeg/MainThread) \n",
      "[Train] train_loss: 0.039 train_accuracy: 1.000 \n",
      "\n"
     ]
    },
    {
     "name": "stdout",
     "output_type": "stream",
     "text": [
      "Epoch 76: 100%|██████████| 8/8 [00:00<00:00, 28.74it/s, loss=0.0349, train_loss=0.0218, train_accuracy=1.000]"
     ]
    },
    {
     "name": "stderr",
     "output_type": "stream",
     "text": [
      "[2025-02-14 14:16:09] INFO (torcheeg/MainThread) \n",
      "[Train] train_loss: 0.029 train_accuracy: 1.000 \n",
      "\n"
     ]
    },
    {
     "name": "stdout",
     "output_type": "stream",
     "text": [
      "Epoch 77: 100%|██████████| 8/8 [00:00<00:00, 27.74it/s, loss=0.0346, train_loss=0.0226, train_accuracy=1.000]"
     ]
    },
    {
     "name": "stderr",
     "output_type": "stream",
     "text": [
      "[2025-02-14 14:16:10] INFO (torcheeg/MainThread) \n",
      "[Train] train_loss: 0.035 train_accuracy: 1.000 \n",
      "\n"
     ]
    },
    {
     "name": "stdout",
     "output_type": "stream",
     "text": [
      "Epoch 78: 100%|██████████| 8/8 [00:00<00:00, 26.88it/s, loss=0.0339, train_loss=0.0274, train_accuracy=1.000]"
     ]
    },
    {
     "name": "stderr",
     "output_type": "stream",
     "text": [
      "[2025-02-14 14:16:10] INFO (torcheeg/MainThread) \n",
      "[Train] train_loss: 0.036 train_accuracy: 1.000 \n",
      "\n"
     ]
    },
    {
     "name": "stdout",
     "output_type": "stream",
     "text": [
      "Epoch 79: 100%|██████████| 8/8 [00:00<00:00, 27.28it/s, loss=0.0331, train_loss=0.0327, train_accuracy=1.000]"
     ]
    },
    {
     "name": "stderr",
     "output_type": "stream",
     "text": [
      "[2025-02-14 14:16:10] INFO (torcheeg/MainThread) \n",
      "[Train] train_loss: 0.032 train_accuracy: 1.000 \n",
      "\n"
     ]
    },
    {
     "name": "stdout",
     "output_type": "stream",
     "text": [
      "Epoch 80: 100%|██████████| 8/8 [00:00<00:00, 26.92it/s, loss=0.0341, train_loss=0.0082, train_accuracy=1.000]"
     ]
    },
    {
     "name": "stderr",
     "output_type": "stream",
     "text": [
      "[2025-02-14 14:16:10] INFO (torcheeg/MainThread) \n",
      "[Train] train_loss: 0.036 train_accuracy: 1.000 \n",
      "\n"
     ]
    },
    {
     "name": "stdout",
     "output_type": "stream",
     "text": [
      "Epoch 81: 100%|██████████| 8/8 [00:00<00:00, 26.20it/s, loss=0.0342, train_loss=0.0267, train_accuracy=1.000] "
     ]
    },
    {
     "name": "stderr",
     "output_type": "stream",
     "text": [
      "[2025-02-14 14:16:11] INFO (torcheeg/MainThread) \n",
      "[Train] train_loss: 0.030 train_accuracy: 0.992 \n",
      "\n"
     ]
    },
    {
     "name": "stdout",
     "output_type": "stream",
     "text": [
      "Epoch 82: 100%|██████████| 8/8 [00:00<00:00, 26.53it/s, loss=0.0363, train_loss=0.0237, train_accuracy=1.000]"
     ]
    },
    {
     "name": "stderr",
     "output_type": "stream",
     "text": [
      "[2025-02-14 14:16:11] INFO (torcheeg/MainThread) \n",
      "[Train] train_loss: 0.044 train_accuracy: 0.992 \n",
      "\n"
     ]
    },
    {
     "name": "stdout",
     "output_type": "stream",
     "text": [
      "Epoch 83: 100%|██████████| 8/8 [00:00<00:00, 28.85it/s, loss=0.035, train_loss=0.0632, train_accuracy=1.000]  "
     ]
    },
    {
     "name": "stderr",
     "output_type": "stream",
     "text": [
      "[2025-02-14 14:16:11] INFO (torcheeg/MainThread) \n",
      "[Train] train_loss: 0.034 train_accuracy: 1.000 \n",
      "\n"
     ]
    },
    {
     "name": "stdout",
     "output_type": "stream",
     "text": [
      "Epoch 84: 100%|██████████| 8/8 [00:00<00:00, 28.12it/s, loss=0.0368, train_loss=0.0177, train_accuracy=1.000]"
     ]
    },
    {
     "name": "stderr",
     "output_type": "stream",
     "text": [
      "[2025-02-14 14:16:12] INFO (torcheeg/MainThread) \n",
      "[Train] train_loss: 0.031 train_accuracy: 1.000 \n",
      "\n"
     ]
    },
    {
     "name": "stdout",
     "output_type": "stream",
     "text": [
      "Epoch 85: 100%|██████████| 8/8 [00:00<00:00, 27.76it/s, loss=0.0336, train_loss=0.0787, train_accuracy=1.000]"
     ]
    },
    {
     "name": "stderr",
     "output_type": "stream",
     "text": [
      "[2025-02-14 14:16:12] INFO (torcheeg/MainThread) \n",
      "[Train] train_loss: 0.031 train_accuracy: 1.000 \n",
      "\n"
     ]
    },
    {
     "name": "stdout",
     "output_type": "stream",
     "text": [
      "Epoch 86: 100%|██████████| 8/8 [00:00<00:00, 28.50it/s, loss=0.0328, train_loss=0.0328, train_accuracy=1.000]"
     ]
    },
    {
     "name": "stderr",
     "output_type": "stream",
     "text": [
      "[2025-02-14 14:16:12] INFO (torcheeg/MainThread) \n",
      "[Train] train_loss: 0.037 train_accuracy: 1.000 \n",
      "\n"
     ]
    },
    {
     "name": "stdout",
     "output_type": "stream",
     "text": [
      "Epoch 87: 100%|██████████| 8/8 [00:00<00:00, 28.58it/s, loss=0.0453, train_loss=0.0623, train_accuracy=1.000]"
     ]
    },
    {
     "name": "stderr",
     "output_type": "stream",
     "text": [
      "[2025-02-14 14:16:12] INFO (torcheeg/MainThread) \n",
      "[Train] train_loss: 0.056 train_accuracy: 0.975 \n",
      "\n"
     ]
    },
    {
     "name": "stdout",
     "output_type": "stream",
     "text": [
      "Epoch 88: 100%|██████████| 8/8 [00:00<00:00, 28.36it/s, loss=0.0488, train_loss=0.0397, train_accuracy=1.000]"
     ]
    },
    {
     "name": "stderr",
     "output_type": "stream",
     "text": [
      "[2025-02-14 14:16:13] INFO (torcheeg/MainThread) \n",
      "[Train] train_loss: 0.044 train_accuracy: 0.992 \n",
      "\n"
     ]
    },
    {
     "name": "stdout",
     "output_type": "stream",
     "text": [
      "Epoch 89: 100%|██████████| 8/8 [00:00<00:00, 28.53it/s, loss=0.0474, train_loss=0.0234, train_accuracy=1.000] "
     ]
    },
    {
     "name": "stderr",
     "output_type": "stream",
     "text": [
      "[2025-02-14 14:16:13] INFO (torcheeg/MainThread) \n",
      "[Train] train_loss: 0.033 train_accuracy: 1.000 \n",
      "\n"
     ]
    },
    {
     "name": "stdout",
     "output_type": "stream",
     "text": [
      "Epoch 90: 100%|██████████| 8/8 [00:00<00:00, 28.79it/s, loss=0.0348, train_loss=0.00322, train_accuracy=1.000]"
     ]
    },
    {
     "name": "stderr",
     "output_type": "stream",
     "text": [
      "Metric train_loss improved by 0.002 >= min_delta = 0.0. New best score: 0.003\n"
     ]
    },
    {
     "name": "stdout",
     "output_type": "stream",
     "text": [
      "Epoch 90: 100%|██████████| 8/8 [00:00<00:00, 28.64it/s, loss=0.0348, train_loss=0.00322, train_accuracy=1.000]"
     ]
    },
    {
     "name": "stderr",
     "output_type": "stream",
     "text": [
      "[2025-02-14 14:16:13] INFO (torcheeg/MainThread) \n",
      "[Train] train_loss: 0.028 train_accuracy: 1.000 \n",
      "\n"
     ]
    },
    {
     "name": "stdout",
     "output_type": "stream",
     "text": [
      "Epoch 91: 100%|██████████| 8/8 [00:00<00:00, 28.28it/s, loss=0.0425, train_loss=0.133, train_accuracy=0.875]  "
     ]
    },
    {
     "name": "stderr",
     "output_type": "stream",
     "text": [
      "[2025-02-14 14:16:14] INFO (torcheeg/MainThread) \n",
      "[Train] train_loss: 0.060 train_accuracy: 0.975 \n",
      "\n"
     ]
    },
    {
     "name": "stdout",
     "output_type": "stream",
     "text": [
      "Epoch 92: 100%|██████████| 8/8 [00:00<00:00, 26.16it/s, loss=0.0488, train_loss=0.0388, train_accuracy=1.000]"
     ]
    },
    {
     "name": "stderr",
     "output_type": "stream",
     "text": [
      "[2025-02-14 14:16:14] INFO (torcheeg/MainThread) \n",
      "[Train] train_loss: 0.042 train_accuracy: 0.983 \n",
      "\n"
     ]
    },
    {
     "name": "stdout",
     "output_type": "stream",
     "text": [
      "Epoch 93: 100%|██████████| 8/8 [00:00<00:00, 26.18it/s, loss=0.0463, train_loss=0.00611, train_accuracy=1.000]"
     ]
    },
    {
     "name": "stderr",
     "output_type": "stream",
     "text": [
      "[2025-02-14 14:16:14] INFO (torcheeg/MainThread) \n",
      "[Train] train_loss: 0.039 train_accuracy: 0.992 \n",
      "\n"
     ]
    },
    {
     "name": "stdout",
     "output_type": "stream",
     "text": [
      "Epoch 94: 100%|██████████| 8/8 [00:00<00:00, 26.65it/s, loss=0.0326, train_loss=0.0244, train_accuracy=1.000] "
     ]
    },
    {
     "name": "stderr",
     "output_type": "stream",
     "text": [
      "[2025-02-14 14:16:15] INFO (torcheeg/MainThread) \n",
      "[Train] train_loss: 0.028 train_accuracy: 0.992 \n",
      "\n"
     ]
    },
    {
     "name": "stdout",
     "output_type": "stream",
     "text": [
      "Epoch 95: 100%|██████████| 8/8 [00:00<00:00, 25.98it/s, loss=0.027, train_loss=0.0728, train_accuracy=1.000]  "
     ]
    },
    {
     "name": "stderr",
     "output_type": "stream",
     "text": [
      "[2025-02-14 14:16:15] INFO (torcheeg/MainThread) \n",
      "[Train] train_loss: 0.027 train_accuracy: 1.000 \n",
      "\n"
     ]
    },
    {
     "name": "stdout",
     "output_type": "stream",
     "text": [
      "Epoch 96: 100%|██████████| 8/8 [00:00<00:00, 26.28it/s, loss=0.0227, train_loss=0.00292, train_accuracy=1.000]"
     ]
    },
    {
     "name": "stderr",
     "output_type": "stream",
     "text": [
      "Metric train_loss improved by 0.000 >= min_delta = 0.0. New best score: 0.003\n"
     ]
    },
    {
     "name": "stdout",
     "output_type": "stream",
     "text": [
      "Epoch 96: 100%|██████████| 8/8 [00:00<00:00, 26.14it/s, loss=0.0227, train_loss=0.00292, train_accuracy=1.000]"
     ]
    },
    {
     "name": "stderr",
     "output_type": "stream",
     "text": [
      "[2025-02-14 14:16:15] INFO (torcheeg/MainThread) \n",
      "[Train] train_loss: 0.017 train_accuracy: 1.000 \n",
      "\n"
     ]
    },
    {
     "name": "stdout",
     "output_type": "stream",
     "text": [
      "Epoch 97: 100%|██████████| 8/8 [00:00<00:00, 26.62it/s, loss=0.0258, train_loss=0.0244, train_accuracy=1.000] "
     ]
    },
    {
     "name": "stderr",
     "output_type": "stream",
     "text": [
      "[2025-02-14 14:16:15] INFO (torcheeg/MainThread) \n",
      "[Train] train_loss: 0.028 train_accuracy: 1.000 \n",
      "\n"
     ]
    },
    {
     "name": "stdout",
     "output_type": "stream",
     "text": [
      "Epoch 98: 100%|██████████| 8/8 [00:00<00:00, 26.06it/s, loss=0.023, train_loss=0.0283, train_accuracy=1.000]  "
     ]
    },
    {
     "name": "stderr",
     "output_type": "stream",
     "text": [
      "[2025-02-14 14:16:16] INFO (torcheeg/MainThread) \n",
      "[Train] train_loss: 0.023 train_accuracy: 1.000 \n",
      "\n"
     ]
    },
    {
     "name": "stdout",
     "output_type": "stream",
     "text": [
      "Epoch 99: 100%|██████████| 8/8 [00:00<00:00, 26.26it/s, loss=0.0274, train_loss=0.0139, train_accuracy=1.000]"
     ]
    },
    {
     "name": "stderr",
     "output_type": "stream",
     "text": [
      "[2025-02-14 14:16:16] INFO (torcheeg/MainThread) \n",
      "[Train] train_loss: 0.031 train_accuracy: 0.992 \n",
      "\n",
      "`Trainer.fit` stopped: `max_epochs=100` reached.\n"
     ]
    },
    {
     "name": "stdout",
     "output_type": "stream",
     "text": [
      "Epoch 99: 100%|██████████| 8/8 [00:00<00:00, 25.99it/s, loss=0.0274, train_loss=0.0139, train_accuracy=1.000]\n"
     ]
    },
    {
     "name": "stderr",
     "output_type": "stream",
     "text": [
      "GPU available: True (cuda), used: True\n",
      "TPU available: False, using: 0 TPU cores\n",
      "IPU available: False, using: 0 IPUs\n",
      "HPU available: False, using: 0 HPUs\n",
      "Missing logger folder: /root/autodl-tmp/.autodl/kinlaw/GANSER/mycode/lightning_logs\n",
      "LOCAL_RANK: 0 - CUDA_VISIBLE_DEVICES: [0]\n",
      "/root/autodl-tmp/conda/envs/law/lib/python3.8/site-packages/pytorch_lightning/trainer/connectors/data_connector.py:224: PossibleUserWarning: The dataloader, test_dataloader 0, does not have many workers which may be a bottleneck. Consider increasing the value of the `num_workers` argument` (try 128 which is the number of cpus on this machine) in the `DataLoader` init to improve performance.\n",
      "  rank_zero_warn(\n"
     ]
    },
    {
     "name": "stdout",
     "output_type": "stream",
     "text": [
      "Testing DataLoader 0: 100%|██████████| 3/3 [00:00<00:00, 95.35it/s] "
     ]
    },
    {
     "name": "stderr",
     "output_type": "stream",
     "text": [
      "[2025-02-14 14:16:16] INFO (torcheeg/MainThread) \n",
      "[Test] test_loss: 2.011 test_accuracy: 0.575 \n",
      "\n"
     ]
    },
    {
     "name": "stdout",
     "output_type": "stream",
     "text": [
      "Testing DataLoader 0: 100%|██████████| 3/3 [00:00<00:00, 81.53it/s]\n",
      "────────────────────────────────────────────────────────────────────────────────────────────────────────────────────────\n",
      "       Test metric             DataLoader 0\n",
      "────────────────────────────────────────────────────────────────────────────────────────────────────────────────────────\n",
      "      test_accuracy          0.574999988079071\n",
      "        test_loss           2.0114219188690186\n",
      "────────────────────────────────────────────────────────────────────────────────────────────────────────────────────────\n",
      "已删除文件夹: /root/autodl-tmp/.autodl/kinlaw/GANSER/mycode/lightning_logs\n"
     ]
    },
    {
     "name": "stderr",
     "output_type": "stream",
     "text": [
      "GPU available: True (cuda), used: True\n",
      "TPU available: False, using: 0 TPU cores\n",
      "IPU available: False, using: 0 IPUs\n",
      "HPU available: False, using: 0 HPUs\n",
      "LOCAL_RANK: 0 - CUDA_VISIBLE_DEVICES: [0]\n",
      "/root/autodl-tmp/conda/envs/law/lib/python3.8/site-packages/pytorch_lightning/trainer/connectors/data_connector.py:224: PossibleUserWarning: The dataloader, train_dataloader, does not have many workers which may be a bottleneck. Consider increasing the value of the `num_workers` argument` (try 128 which is the number of cpus on this machine) in the `DataLoader` init to improve performance.\n",
      "  rank_zero_warn(\n"
     ]
    },
    {
     "name": "stdout",
     "output_type": "stream",
     "text": [
      "Epoch 0: 100%|██████████| 8/8 [00:00<00:00, 25.51it/s, loss=0.714, train_loss=0.733, train_accuracy=0.250]"
     ]
    },
    {
     "name": "stderr",
     "output_type": "stream",
     "text": [
      "Metric train_loss improved. New best score: 0.733\n"
     ]
    },
    {
     "name": "stdout",
     "output_type": "stream",
     "text": [
      "Epoch 0: 100%|██████████| 8/8 [00:00<00:00, 25.38it/s, loss=0.714, train_loss=0.733, train_accuracy=0.250]"
     ]
    },
    {
     "name": "stderr",
     "output_type": "stream",
     "text": [
      "/root/autodl-tmp/conda/envs/law/lib/python3.8/site-packages/pytorch_lightning/core/module.py:493: UserWarning: You called `self.log('train_loss', ..., logger=True)` but have no logger configured. You can enable one by doing `Trainer(logger=ALogger(...))`\n",
      "  rank_zero_warn(\n",
      "/root/autodl-tmp/conda/envs/law/lib/python3.8/site-packages/pytorch_lightning/core/module.py:493: UserWarning: You called `self.log('train_accuracy', ..., logger=True)` but have no logger configured. You can enable one by doing `Trainer(logger=ALogger(...))`\n",
      "  rank_zero_warn(\n",
      "[2025-02-14 14:16:17] INFO (torcheeg/MainThread) \n",
      "[Train] train_loss: 0.714 train_accuracy: 0.458 \n",
      "\n"
     ]
    },
    {
     "name": "stdout",
     "output_type": "stream",
     "text": [
      "Epoch 1: 100%|██████████| 8/8 [00:00<00:00, 26.38it/s, loss=0.712, train_loss=0.833, train_accuracy=0.250]"
     ]
    },
    {
     "name": "stderr",
     "output_type": "stream",
     "text": [
      "[2025-02-14 14:16:17] INFO (torcheeg/MainThread) \n",
      "[Train] train_loss: 0.710 train_accuracy: 0.492 \n",
      "\n"
     ]
    },
    {
     "name": "stdout",
     "output_type": "stream",
     "text": [
      "Epoch 2: 100%|██████████| 8/8 [00:00<00:00, 26.58it/s, loss=0.709, train_loss=0.607, train_accuracy=0.875]"
     ]
    },
    {
     "name": "stderr",
     "output_type": "stream",
     "text": [
      "Metric train_loss improved by 0.126 >= min_delta = 0.0. New best score: 0.607\n"
     ]
    },
    {
     "name": "stdout",
     "output_type": "stream",
     "text": [
      "Epoch 2: 100%|██████████| 8/8 [00:00<00:00, 26.44it/s, loss=0.709, train_loss=0.607, train_accuracy=0.875]"
     ]
    },
    {
     "name": "stderr",
     "output_type": "stream",
     "text": [
      "[2025-02-14 14:16:17] INFO (torcheeg/MainThread) \n",
      "[Train] train_loss: 0.700 train_accuracy: 0.517 \n",
      "\n"
     ]
    },
    {
     "name": "stdout",
     "output_type": "stream",
     "text": [
      "Epoch 3: 100%|██████████| 8/8 [00:00<00:00, 26.49it/s, loss=0.7, train_loss=0.783, train_accuracy=0.500]  "
     ]
    },
    {
     "name": "stderr",
     "output_type": "stream",
     "text": [
      "[2025-02-14 14:16:18] INFO (torcheeg/MainThread) \n",
      "[Train] train_loss: 0.691 train_accuracy: 0.550 \n",
      "\n"
     ]
    },
    {
     "name": "stdout",
     "output_type": "stream",
     "text": [
      "Epoch 4: 100%|██████████| 8/8 [00:00<00:00, 26.41it/s, loss=0.678, train_loss=0.762, train_accuracy=0.375]"
     ]
    },
    {
     "name": "stderr",
     "output_type": "stream",
     "text": [
      "[2025-02-14 14:16:18] INFO (torcheeg/MainThread) \n",
      "[Train] train_loss: 0.668 train_accuracy: 0.642 \n",
      "\n"
     ]
    },
    {
     "name": "stdout",
     "output_type": "stream",
     "text": [
      "Epoch 5: 100%|██████████| 8/8 [00:00<00:00, 26.39it/s, loss=0.655, train_loss=0.506, train_accuracy=1.000]"
     ]
    },
    {
     "name": "stderr",
     "output_type": "stream",
     "text": [
      "Metric train_loss improved by 0.101 >= min_delta = 0.0. New best score: 0.506\n"
     ]
    },
    {
     "name": "stdout",
     "output_type": "stream",
     "text": [
      "Epoch 5: 100%|██████████| 8/8 [00:00<00:00, 26.26it/s, loss=0.655, train_loss=0.506, train_accuracy=1.000]"
     ]
    },
    {
     "name": "stderr",
     "output_type": "stream",
     "text": [
      "[2025-02-14 14:16:18] INFO (torcheeg/MainThread) \n",
      "[Train] train_loss: 0.619 train_accuracy: 0.658 \n",
      "\n"
     ]
    },
    {
     "name": "stdout",
     "output_type": "stream",
     "text": [
      "Epoch 6: 100%|██████████| 8/8 [00:00<00:00, 26.64it/s, loss=0.638, train_loss=0.695, train_accuracy=0.625]"
     ]
    },
    {
     "name": "stderr",
     "output_type": "stream",
     "text": [
      "[2025-02-14 14:16:18] INFO (torcheeg/MainThread) \n",
      "[Train] train_loss: 0.640 train_accuracy: 0.675 \n",
      "\n"
     ]
    },
    {
     "name": "stdout",
     "output_type": "stream",
     "text": [
      "Epoch 7: 100%|██████████| 8/8 [00:00<00:00, 26.60it/s, loss=0.625, train_loss=0.622, train_accuracy=0.625]"
     ]
    },
    {
     "name": "stderr",
     "output_type": "stream",
     "text": [
      "[2025-02-14 14:16:19] INFO (torcheeg/MainThread) \n",
      "[Train] train_loss: 0.616 train_accuracy: 0.700 \n",
      "\n"
     ]
    },
    {
     "name": "stdout",
     "output_type": "stream",
     "text": [
      "Epoch 8: 100%|██████████| 8/8 [00:00<00:00, 27.04it/s, loss=0.62, train_loss=0.577, train_accuracy=0.750] "
     ]
    },
    {
     "name": "stderr",
     "output_type": "stream",
     "text": [
      "[2025-02-14 14:16:19] INFO (torcheeg/MainThread) \n",
      "[Train] train_loss: 0.599 train_accuracy: 0.742 \n",
      "\n"
     ]
    },
    {
     "name": "stdout",
     "output_type": "stream",
     "text": [
      "Epoch 9: 100%|██████████| 8/8 [00:00<00:00, 26.39it/s, loss=0.604, train_loss=0.643, train_accuracy=0.500]"
     ]
    },
    {
     "name": "stderr",
     "output_type": "stream",
     "text": [
      "[2025-02-14 14:16:19] INFO (torcheeg/MainThread) \n",
      "[Train] train_loss: 0.597 train_accuracy: 0.733 \n",
      "\n"
     ]
    },
    {
     "name": "stdout",
     "output_type": "stream",
     "text": [
      "Epoch 10: 100%|██████████| 8/8 [00:00<00:00, 26.63it/s, loss=0.594, train_loss=0.491, train_accuracy=0.750]"
     ]
    },
    {
     "name": "stderr",
     "output_type": "stream",
     "text": [
      "Metric train_loss improved by 0.015 >= min_delta = 0.0. New best score: 0.491\n"
     ]
    },
    {
     "name": "stdout",
     "output_type": "stream",
     "text": [
      "Epoch 10: 100%|██████████| 8/8 [00:00<00:00, 26.49it/s, loss=0.594, train_loss=0.491, train_accuracy=0.750]"
     ]
    },
    {
     "name": "stderr",
     "output_type": "stream",
     "text": [
      "[2025-02-14 14:16:20] INFO (torcheeg/MainThread) \n",
      "[Train] train_loss: 0.577 train_accuracy: 0.742 \n",
      "\n"
     ]
    },
    {
     "name": "stdout",
     "output_type": "stream",
     "text": [
      "Epoch 11: 100%|██████████| 8/8 [00:00<00:00, 26.89it/s, loss=0.582, train_loss=0.627, train_accuracy=0.750]"
     ]
    },
    {
     "name": "stderr",
     "output_type": "stream",
     "text": [
      "[2025-02-14 14:16:20] INFO (torcheeg/MainThread) \n",
      "[Train] train_loss: 0.568 train_accuracy: 0.775 \n",
      "\n"
     ]
    },
    {
     "name": "stdout",
     "output_type": "stream",
     "text": [
      "Epoch 12: 100%|██████████| 8/8 [00:00<00:00, 26.63it/s, loss=0.561, train_loss=0.595, train_accuracy=0.625]"
     ]
    },
    {
     "name": "stderr",
     "output_type": "stream",
     "text": [
      "[2025-02-14 14:16:20] INFO (torcheeg/MainThread) \n",
      "[Train] train_loss: 0.558 train_accuracy: 0.767 \n",
      "\n"
     ]
    },
    {
     "name": "stdout",
     "output_type": "stream",
     "text": [
      "Epoch 13: 100%|██████████| 8/8 [00:00<00:00, 26.38it/s, loss=0.566, train_loss=0.691, train_accuracy=0.500]"
     ]
    },
    {
     "name": "stderr",
     "output_type": "stream",
     "text": [
      "[2025-02-14 14:16:21] INFO (torcheeg/MainThread) \n",
      "[Train] train_loss: 0.557 train_accuracy: 0.800 \n",
      "\n"
     ]
    },
    {
     "name": "stdout",
     "output_type": "stream",
     "text": [
      "Epoch 14: 100%|██████████| 8/8 [00:00<00:00, 26.89it/s, loss=0.54, train_loss=0.480, train_accuracy=0.875] "
     ]
    },
    {
     "name": "stderr",
     "output_type": "stream",
     "text": [
      "Metric train_loss improved by 0.011 >= min_delta = 0.0. New best score: 0.480\n"
     ]
    },
    {
     "name": "stdout",
     "output_type": "stream",
     "text": [
      "Epoch 14: 100%|██████████| 8/8 [00:00<00:00, 26.75it/s, loss=0.54, train_loss=0.480, train_accuracy=0.875]"
     ]
    },
    {
     "name": "stderr",
     "output_type": "stream",
     "text": [
      "[2025-02-14 14:16:21] INFO (torcheeg/MainThread) \n",
      "[Train] train_loss: 0.515 train_accuracy: 0.825 \n",
      "\n"
     ]
    },
    {
     "name": "stdout",
     "output_type": "stream",
     "text": [
      "Epoch 15: 100%|██████████| 8/8 [00:00<00:00, 26.60it/s, loss=0.52, train_loss=0.436, train_accuracy=0.875] "
     ]
    },
    {
     "name": "stderr",
     "output_type": "stream",
     "text": [
      "Metric train_loss improved by 0.044 >= min_delta = 0.0. New best score: 0.436\n"
     ]
    },
    {
     "name": "stdout",
     "output_type": "stream",
     "text": [
      "Epoch 15: 100%|██████████| 8/8 [00:00<00:00, 26.46it/s, loss=0.52, train_loss=0.436, train_accuracy=0.875]"
     ]
    },
    {
     "name": "stderr",
     "output_type": "stream",
     "text": [
      "[2025-02-14 14:16:21] INFO (torcheeg/MainThread) \n",
      "[Train] train_loss: 0.496 train_accuracy: 0.775 \n",
      "\n"
     ]
    },
    {
     "name": "stdout",
     "output_type": "stream",
     "text": [
      "Epoch 16: 100%|██████████| 8/8 [00:00<00:00, 26.47it/s, loss=0.504, train_loss=0.495, train_accuracy=0.750]"
     ]
    },
    {
     "name": "stderr",
     "output_type": "stream",
     "text": [
      "[2025-02-14 14:16:21] INFO (torcheeg/MainThread) \n",
      "[Train] train_loss: 0.503 train_accuracy: 0.808 \n",
      "\n"
     ]
    },
    {
     "name": "stdout",
     "output_type": "stream",
     "text": [
      "Epoch 17: 100%|██████████| 8/8 [00:00<00:00, 26.98it/s, loss=0.486, train_loss=0.468, train_accuracy=0.750]"
     ]
    },
    {
     "name": "stderr",
     "output_type": "stream",
     "text": [
      "[2025-02-14 14:16:22] INFO (torcheeg/MainThread) \n",
      "[Train] train_loss: 0.470 train_accuracy: 0.850 \n",
      "\n"
     ]
    },
    {
     "name": "stdout",
     "output_type": "stream",
     "text": [
      "Epoch 18: 100%|██████████| 8/8 [00:00<00:00, 28.10it/s, loss=0.473, train_loss=0.457, train_accuracy=1.000]"
     ]
    },
    {
     "name": "stderr",
     "output_type": "stream",
     "text": [
      "[2025-02-14 14:16:22] INFO (torcheeg/MainThread) \n",
      "[Train] train_loss: 0.457 train_accuracy: 0.858 \n",
      "\n"
     ]
    },
    {
     "name": "stdout",
     "output_type": "stream",
     "text": [
      "Epoch 19: 100%|██████████| 8/8 [00:00<00:00, 28.21it/s, loss=0.441, train_loss=0.470, train_accuracy=1.000]"
     ]
    },
    {
     "name": "stderr",
     "output_type": "stream",
     "text": [
      "[2025-02-14 14:16:22] INFO (torcheeg/MainThread) \n",
      "[Train] train_loss: 0.426 train_accuracy: 0.850 \n",
      "\n"
     ]
    },
    {
     "name": "stdout",
     "output_type": "stream",
     "text": [
      "Epoch 20: 100%|██████████| 8/8 [00:00<00:00, 27.90it/s, loss=0.421, train_loss=0.410, train_accuracy=0.875]"
     ]
    },
    {
     "name": "stderr",
     "output_type": "stream",
     "text": [
      "Metric train_loss improved by 0.026 >= min_delta = 0.0. New best score: 0.410\n"
     ]
    },
    {
     "name": "stdout",
     "output_type": "stream",
     "text": [
      "Epoch 20: 100%|██████████| 8/8 [00:00<00:00, 27.74it/s, loss=0.421, train_loss=0.410, train_accuracy=0.875]"
     ]
    },
    {
     "name": "stderr",
     "output_type": "stream",
     "text": [
      "[2025-02-14 14:16:23] INFO (torcheeg/MainThread) \n",
      "[Train] train_loss: 0.408 train_accuracy: 0.875 \n",
      "\n"
     ]
    },
    {
     "name": "stdout",
     "output_type": "stream",
     "text": [
      "Epoch 21: 100%|██████████| 8/8 [00:00<00:00, 28.22it/s, loss=0.411, train_loss=0.438, train_accuracy=0.875]"
     ]
    },
    {
     "name": "stderr",
     "output_type": "stream",
     "text": [
      "[2025-02-14 14:16:23] INFO (torcheeg/MainThread) \n",
      "[Train] train_loss: 0.403 train_accuracy: 0.892 \n",
      "\n"
     ]
    },
    {
     "name": "stdout",
     "output_type": "stream",
     "text": [
      "Epoch 22: 100%|██████████| 8/8 [00:00<00:00, 28.07it/s, loss=0.416, train_loss=0.667, train_accuracy=0.625]"
     ]
    },
    {
     "name": "stderr",
     "output_type": "stream",
     "text": [
      "[2025-02-14 14:16:23] INFO (torcheeg/MainThread) \n",
      "[Train] train_loss: 0.416 train_accuracy: 0.858 \n",
      "\n"
     ]
    },
    {
     "name": "stdout",
     "output_type": "stream",
     "text": [
      "Epoch 23: 100%|██████████| 8/8 [00:00<00:00, 28.27it/s, loss=0.391, train_loss=0.509, train_accuracy=0.750]"
     ]
    },
    {
     "name": "stderr",
     "output_type": "stream",
     "text": [
      "[2025-02-14 14:16:24] INFO (torcheeg/MainThread) \n",
      "[Train] train_loss: 0.370 train_accuracy: 0.917 \n",
      "\n"
     ]
    },
    {
     "name": "stdout",
     "output_type": "stream",
     "text": [
      "Epoch 24: 100%|██████████| 8/8 [00:00<00:00, 28.04it/s, loss=0.383, train_loss=0.419, train_accuracy=0.750]"
     ]
    },
    {
     "name": "stderr",
     "output_type": "stream",
     "text": [
      "[2025-02-14 14:16:24] INFO (torcheeg/MainThread) \n",
      "[Train] train_loss: 0.354 train_accuracy: 0.917 \n",
      "\n"
     ]
    },
    {
     "name": "stdout",
     "output_type": "stream",
     "text": [
      "Epoch 25: 100%|██████████| 8/8 [00:00<00:00, 25.28it/s, loss=0.359, train_loss=0.474, train_accuracy=0.750]"
     ]
    },
    {
     "name": "stderr",
     "output_type": "stream",
     "text": [
      "[2025-02-14 14:16:24] INFO (torcheeg/MainThread) \n",
      "[Train] train_loss: 0.358 train_accuracy: 0.908 \n",
      "\n"
     ]
    },
    {
     "name": "stdout",
     "output_type": "stream",
     "text": [
      "Epoch 26: 100%|██████████| 8/8 [00:00<00:00, 28.23it/s, loss=0.35, train_loss=0.377, train_accuracy=1.000] "
     ]
    },
    {
     "name": "stderr",
     "output_type": "stream",
     "text": [
      "Metric train_loss improved by 0.033 >= min_delta = 0.0. New best score: 0.377\n"
     ]
    },
    {
     "name": "stdout",
     "output_type": "stream",
     "text": [
      "Epoch 26: 100%|██████████| 8/8 [00:00<00:00, 28.07it/s, loss=0.35, train_loss=0.377, train_accuracy=1.000]"
     ]
    },
    {
     "name": "stderr",
     "output_type": "stream",
     "text": [
      "[2025-02-14 14:16:24] INFO (torcheeg/MainThread) \n",
      "[Train] train_loss: 0.335 train_accuracy: 0.950 \n",
      "\n"
     ]
    },
    {
     "name": "stdout",
     "output_type": "stream",
     "text": [
      "Epoch 27: 100%|██████████| 8/8 [00:00<00:00, 27.17it/s, loss=0.327, train_loss=0.353, train_accuracy=0.750]"
     ]
    },
    {
     "name": "stderr",
     "output_type": "stream",
     "text": [
      "Metric train_loss improved by 0.024 >= min_delta = 0.0. New best score: 0.353\n"
     ]
    },
    {
     "name": "stdout",
     "output_type": "stream",
     "text": [
      "Epoch 27: 100%|██████████| 8/8 [00:00<00:00, 27.03it/s, loss=0.327, train_loss=0.353, train_accuracy=0.750]"
     ]
    },
    {
     "name": "stderr",
     "output_type": "stream",
     "text": [
      "[2025-02-14 14:16:25] INFO (torcheeg/MainThread) \n",
      "[Train] train_loss: 0.292 train_accuracy: 0.933 \n",
      "\n"
     ]
    },
    {
     "name": "stdout",
     "output_type": "stream",
     "text": [
      "Epoch 28: 100%|██████████| 8/8 [00:00<00:00, 27.80it/s, loss=0.301, train_loss=0.234, train_accuracy=1.000]"
     ]
    },
    {
     "name": "stderr",
     "output_type": "stream",
     "text": [
      "Metric train_loss improved by 0.119 >= min_delta = 0.0. New best score: 0.234\n"
     ]
    },
    {
     "name": "stdout",
     "output_type": "stream",
     "text": [
      "Epoch 28: 100%|██████████| 8/8 [00:00<00:00, 27.66it/s, loss=0.301, train_loss=0.234, train_accuracy=1.000]"
     ]
    },
    {
     "name": "stderr",
     "output_type": "stream",
     "text": [
      "[2025-02-14 14:16:25] INFO (torcheeg/MainThread) \n",
      "[Train] train_loss: 0.282 train_accuracy: 0.933 \n",
      "\n"
     ]
    },
    {
     "name": "stdout",
     "output_type": "stream",
     "text": [
      "Epoch 29: 100%|██████████| 8/8 [00:00<00:00, 26.99it/s, loss=0.291, train_loss=0.252, train_accuracy=0.875]"
     ]
    },
    {
     "name": "stderr",
     "output_type": "stream",
     "text": [
      "[2025-02-14 14:16:25] INFO (torcheeg/MainThread) \n",
      "[Train] train_loss: 0.289 train_accuracy: 0.933 \n",
      "\n"
     ]
    },
    {
     "name": "stdout",
     "output_type": "stream",
     "text": [
      "Epoch 30: 100%|██████████| 8/8 [00:00<00:00, 26.34it/s, loss=0.276, train_loss=0.334, train_accuracy=0.875]"
     ]
    },
    {
     "name": "stderr",
     "output_type": "stream",
     "text": [
      "[2025-02-14 14:16:26] INFO (torcheeg/MainThread) \n",
      "[Train] train_loss: 0.254 train_accuracy: 0.942 \n",
      "\n"
     ]
    },
    {
     "name": "stdout",
     "output_type": "stream",
     "text": [
      "Epoch 31: 100%|██████████| 8/8 [00:00<00:00, 25.60it/s, loss=0.256, train_loss=0.351, train_accuracy=0.875]"
     ]
    },
    {
     "name": "stderr",
     "output_type": "stream",
     "text": [
      "[2025-02-14 14:16:26] INFO (torcheeg/MainThread) \n",
      "[Train] train_loss: 0.236 train_accuracy: 0.950 \n",
      "\n"
     ]
    },
    {
     "name": "stdout",
     "output_type": "stream",
     "text": [
      "Epoch 32: 100%|██████████| 8/8 [00:00<00:00, 26.92it/s, loss=0.229, train_loss=0.211, train_accuracy=1.000]"
     ]
    },
    {
     "name": "stderr",
     "output_type": "stream",
     "text": [
      "Metric train_loss improved by 0.023 >= min_delta = 0.0. New best score: 0.211\n"
     ]
    },
    {
     "name": "stdout",
     "output_type": "stream",
     "text": [
      "Epoch 32: 100%|██████████| 8/8 [00:00<00:00, 26.78it/s, loss=0.229, train_loss=0.211, train_accuracy=1.000]"
     ]
    },
    {
     "name": "stderr",
     "output_type": "stream",
     "text": [
      "[2025-02-14 14:16:26] INFO (torcheeg/MainThread) \n",
      "[Train] train_loss: 0.217 train_accuracy: 0.967 \n",
      "\n"
     ]
    },
    {
     "name": "stdout",
     "output_type": "stream",
     "text": [
      "Epoch 33: 100%|██████████| 8/8 [00:00<00:00, 26.83it/s, loss=0.21, train_loss=0.214, train_accuracy=0.875] "
     ]
    },
    {
     "name": "stderr",
     "output_type": "stream",
     "text": [
      "[2025-02-14 14:16:27] INFO (torcheeg/MainThread) \n",
      "[Train] train_loss: 0.192 train_accuracy: 0.967 \n",
      "\n"
     ]
    },
    {
     "name": "stdout",
     "output_type": "stream",
     "text": [
      "Epoch 34: 100%|██████████| 8/8 [00:00<00:00, 27.15it/s, loss=0.209, train_loss=0.166, train_accuracy=1.000]"
     ]
    },
    {
     "name": "stderr",
     "output_type": "stream",
     "text": [
      "Metric train_loss improved by 0.045 >= min_delta = 0.0. New best score: 0.166\n"
     ]
    },
    {
     "name": "stdout",
     "output_type": "stream",
     "text": [
      "Epoch 34: 100%|██████████| 8/8 [00:00<00:00, 27.00it/s, loss=0.209, train_loss=0.166, train_accuracy=1.000]"
     ]
    },
    {
     "name": "stderr",
     "output_type": "stream",
     "text": [
      "[2025-02-14 14:16:27] INFO (torcheeg/MainThread) \n",
      "[Train] train_loss: 0.224 train_accuracy: 0.958 \n",
      "\n"
     ]
    },
    {
     "name": "stdout",
     "output_type": "stream",
     "text": [
      "Epoch 35: 100%|██████████| 8/8 [00:00<00:00, 26.92it/s, loss=0.207, train_loss=0.151, train_accuracy=1.000]"
     ]
    },
    {
     "name": "stderr",
     "output_type": "stream",
     "text": [
      "Metric train_loss improved by 0.015 >= min_delta = 0.0. New best score: 0.151\n"
     ]
    },
    {
     "name": "stdout",
     "output_type": "stream",
     "text": [
      "Epoch 35: 100%|██████████| 8/8 [00:00<00:00, 26.76it/s, loss=0.207, train_loss=0.151, train_accuracy=1.000]"
     ]
    },
    {
     "name": "stderr",
     "output_type": "stream",
     "text": [
      "[2025-02-14 14:16:27] INFO (torcheeg/MainThread) \n",
      "[Train] train_loss: 0.194 train_accuracy: 0.967 \n",
      "\n"
     ]
    },
    {
     "name": "stdout",
     "output_type": "stream",
     "text": [
      "Epoch 36: 100%|██████████| 8/8 [00:00<00:00, 22.90it/s, loss=0.2, train_loss=0.158, train_accuracy=1.000]  "
     ]
    },
    {
     "name": "stderr",
     "output_type": "stream",
     "text": [
      "[2025-02-14 14:16:27] INFO (torcheeg/MainThread) \n",
      "[Train] train_loss: 0.200 train_accuracy: 0.967 \n",
      "\n"
     ]
    },
    {
     "name": "stdout",
     "output_type": "stream",
     "text": [
      "Epoch 37: 100%|██████████| 8/8 [00:00<00:00, 21.42it/s, loss=0.182, train_loss=0.176, train_accuracy=1.000] "
     ]
    },
    {
     "name": "stderr",
     "output_type": "stream",
     "text": [
      "[2025-02-14 14:16:28] INFO (torcheeg/MainThread) \n",
      "[Train] train_loss: 0.149 train_accuracy: 1.000 \n",
      "\n"
     ]
    },
    {
     "name": "stdout",
     "output_type": "stream",
     "text": [
      "Epoch 38: 100%|██████████| 8/8 [00:00<00:00, 20.55it/s, loss=0.173, train_loss=0.244, train_accuracy=1.000]"
     ]
    },
    {
     "name": "stderr",
     "output_type": "stream",
     "text": [
      "[2025-02-14 14:16:28] INFO (torcheeg/MainThread) \n",
      "[Train] train_loss: 0.176 train_accuracy: 0.967 \n",
      "\n"
     ]
    },
    {
     "name": "stdout",
     "output_type": "stream",
     "text": [
      "Epoch 39: 100%|██████████| 8/8 [00:00<00:00, 22.33it/s, loss=0.153, train_loss=0.237, train_accuracy=1.000] "
     ]
    },
    {
     "name": "stderr",
     "output_type": "stream",
     "text": [
      "[2025-02-14 14:16:29] INFO (torcheeg/MainThread) \n",
      "[Train] train_loss: 0.144 train_accuracy: 0.983 \n",
      "\n"
     ]
    },
    {
     "name": "stdout",
     "output_type": "stream",
     "text": [
      "Epoch 40: 100%|██████████| 8/8 [00:00<00:00, 21.82it/s, loss=0.139, train_loss=0.043, train_accuracy=1.000] "
     ]
    },
    {
     "name": "stderr",
     "output_type": "stream",
     "text": [
      "Metric train_loss improved by 0.108 >= min_delta = 0.0. New best score: 0.043\n"
     ]
    },
    {
     "name": "stdout",
     "output_type": "stream",
     "text": [
      "Epoch 40: 100%|██████████| 8/8 [00:00<00:00, 21.70it/s, loss=0.139, train_loss=0.043, train_accuracy=1.000]"
     ]
    },
    {
     "name": "stderr",
     "output_type": "stream",
     "text": [
      "[2025-02-14 14:16:29] INFO (torcheeg/MainThread) \n",
      "[Train] train_loss: 0.117 train_accuracy: 0.983 \n",
      "\n"
     ]
    },
    {
     "name": "stdout",
     "output_type": "stream",
     "text": [
      "Epoch 41: 100%|██████████| 8/8 [00:00<00:00, 22.69it/s, loss=0.132, train_loss=0.119, train_accuracy=1.000] "
     ]
    },
    {
     "name": "stderr",
     "output_type": "stream",
     "text": [
      "[2025-02-14 14:16:29] INFO (torcheeg/MainThread) \n",
      "[Train] train_loss: 0.132 train_accuracy: 0.992 \n",
      "\n"
     ]
    },
    {
     "name": "stdout",
     "output_type": "stream",
     "text": [
      "Epoch 42: 100%|██████████| 8/8 [00:00<00:00, 22.72it/s, loss=0.121, train_loss=0.103, train_accuracy=1.000] "
     ]
    },
    {
     "name": "stderr",
     "output_type": "stream",
     "text": [
      "[2025-02-14 14:16:30] INFO (torcheeg/MainThread) \n",
      "[Train] train_loss: 0.122 train_accuracy: 0.983 \n",
      "\n"
     ]
    },
    {
     "name": "stdout",
     "output_type": "stream",
     "text": [
      "Epoch 43: 100%|██████████| 8/8 [00:00<00:00, 22.58it/s, loss=0.134, train_loss=0.111, train_accuracy=1.000] "
     ]
    },
    {
     "name": "stderr",
     "output_type": "stream",
     "text": [
      "[2025-02-14 14:16:30] INFO (torcheeg/MainThread) \n",
      "[Train] train_loss: 0.136 train_accuracy: 0.983 \n",
      "\n"
     ]
    },
    {
     "name": "stdout",
     "output_type": "stream",
     "text": [
      "Epoch 44: 100%|██████████| 8/8 [00:00<00:00, 22.41it/s, loss=0.129, train_loss=0.0596, train_accuracy=1.000]"
     ]
    },
    {
     "name": "stderr",
     "output_type": "stream",
     "text": [
      "[2025-02-14 14:16:30] INFO (torcheeg/MainThread) \n",
      "[Train] train_loss: 0.119 train_accuracy: 0.983 \n",
      "\n"
     ]
    },
    {
     "name": "stdout",
     "output_type": "stream",
     "text": [
      "Epoch 45: 100%|██████████| 8/8 [00:00<00:00, 22.58it/s, loss=0.129, train_loss=0.0696, train_accuracy=1.000]"
     ]
    },
    {
     "name": "stderr",
     "output_type": "stream",
     "text": [
      "[2025-02-14 14:16:31] INFO (torcheeg/MainThread) \n",
      "[Train] train_loss: 0.129 train_accuracy: 0.975 \n",
      "\n"
     ]
    },
    {
     "name": "stdout",
     "output_type": "stream",
     "text": [
      "Epoch 46: 100%|██████████| 8/8 [00:00<00:00, 26.12it/s, loss=0.114, train_loss=0.148, train_accuracy=1.000] "
     ]
    },
    {
     "name": "stderr",
     "output_type": "stream",
     "text": [
      "[2025-02-14 14:16:31] INFO (torcheeg/MainThread) \n",
      "[Train] train_loss: 0.102 train_accuracy: 0.992 \n",
      "\n"
     ]
    },
    {
     "name": "stdout",
     "output_type": "stream",
     "text": [
      "Epoch 47: 100%|██████████| 8/8 [00:00<00:00, 26.36it/s, loss=0.106, train_loss=0.0675, train_accuracy=1.000]"
     ]
    },
    {
     "name": "stderr",
     "output_type": "stream",
     "text": [
      "[2025-02-14 14:16:31] INFO (torcheeg/MainThread) \n",
      "[Train] train_loss: 0.102 train_accuracy: 0.992 \n",
      "\n"
     ]
    },
    {
     "name": "stdout",
     "output_type": "stream",
     "text": [
      "Epoch 48: 100%|██████████| 8/8 [00:00<00:00, 26.29it/s, loss=0.0955, train_loss=0.0838, train_accuracy=1.000]"
     ]
    },
    {
     "name": "stderr",
     "output_type": "stream",
     "text": [
      "[2025-02-14 14:16:32] INFO (torcheeg/MainThread) \n",
      "[Train] train_loss: 0.096 train_accuracy: 0.992 \n",
      "\n"
     ]
    },
    {
     "name": "stdout",
     "output_type": "stream",
     "text": [
      "Epoch 49: 100%|██████████| 8/8 [00:00<00:00, 25.54it/s, loss=0.0972, train_loss=0.149, train_accuracy=1.000] "
     ]
    },
    {
     "name": "stderr",
     "output_type": "stream",
     "text": [
      "[2025-02-14 14:16:32] INFO (torcheeg/MainThread) \n",
      "[Train] train_loss: 0.092 train_accuracy: 1.000 \n",
      "\n"
     ]
    },
    {
     "name": "stdout",
     "output_type": "stream",
     "text": [
      "Epoch 50: 100%|██████████| 8/8 [00:00<00:00, 26.14it/s, loss=0.0955, train_loss=0.154, train_accuracy=0.875] "
     ]
    },
    {
     "name": "stderr",
     "output_type": "stream",
     "text": [
      "[2025-02-14 14:16:32] INFO (torcheeg/MainThread) \n",
      "[Train] train_loss: 0.099 train_accuracy: 0.983 \n",
      "\n"
     ]
    },
    {
     "name": "stdout",
     "output_type": "stream",
     "text": [
      "Epoch 51: 100%|██████████| 8/8 [00:00<00:00, 27.18it/s, loss=0.0895, train_loss=0.0836, train_accuracy=1.000]"
     ]
    },
    {
     "name": "stderr",
     "output_type": "stream",
     "text": [
      "[2025-02-14 14:16:33] INFO (torcheeg/MainThread) \n",
      "[Train] train_loss: 0.072 train_accuracy: 1.000 \n",
      "\n"
     ]
    },
    {
     "name": "stdout",
     "output_type": "stream",
     "text": [
      "Epoch 52: 100%|██████████| 8/8 [00:00<00:00, 26.82it/s, loss=0.072, train_loss=0.0511, train_accuracy=1.000] "
     ]
    },
    {
     "name": "stderr",
     "output_type": "stream",
     "text": [
      "[2025-02-14 14:16:33] INFO (torcheeg/MainThread) \n",
      "[Train] train_loss: 0.066 train_accuracy: 1.000 \n",
      "\n"
     ]
    },
    {
     "name": "stdout",
     "output_type": "stream",
     "text": [
      "Epoch 53: 100%|██████████| 8/8 [00:00<00:00, 27.44it/s, loss=0.0788, train_loss=0.110, train_accuracy=1.000] "
     ]
    },
    {
     "name": "stderr",
     "output_type": "stream",
     "text": [
      "[2025-02-14 14:16:33] INFO (torcheeg/MainThread) \n",
      "[Train] train_loss: 0.100 train_accuracy: 0.992 \n",
      "\n"
     ]
    },
    {
     "name": "stdout",
     "output_type": "stream",
     "text": [
      "Epoch 54: 100%|██████████| 8/8 [00:00<00:00, 26.50it/s, loss=0.082, train_loss=0.0747, train_accuracy=1.000] "
     ]
    },
    {
     "name": "stderr",
     "output_type": "stream",
     "text": [
      "[2025-02-14 14:16:34] INFO (torcheeg/MainThread) \n",
      "[Train] train_loss: 0.074 train_accuracy: 0.975 \n",
      "\n"
     ]
    },
    {
     "name": "stdout",
     "output_type": "stream",
     "text": [
      "Epoch 55: 100%|██████████| 8/8 [00:00<00:00, 26.17it/s, loss=0.075, train_loss=0.051, train_accuracy=1.000]  "
     ]
    },
    {
     "name": "stderr",
     "output_type": "stream",
     "text": [
      "[2025-02-14 14:16:34] INFO (torcheeg/MainThread) \n",
      "[Train] train_loss: 0.059 train_accuracy: 0.992 \n",
      "\n"
     ]
    },
    {
     "name": "stdout",
     "output_type": "stream",
     "text": [
      "Epoch 56: 100%|██████████| 8/8 [00:00<00:00, 24.77it/s, loss=0.0634, train_loss=0.0182, train_accuracy=1.000]"
     ]
    },
    {
     "name": "stderr",
     "output_type": "stream",
     "text": [
      "Metric train_loss improved by 0.025 >= min_delta = 0.0. New best score: 0.018\n"
     ]
    },
    {
     "name": "stdout",
     "output_type": "stream",
     "text": [
      "Epoch 56: 100%|██████████| 8/8 [00:00<00:00, 24.64it/s, loss=0.0634, train_loss=0.0182, train_accuracy=1.000]"
     ]
    },
    {
     "name": "stderr",
     "output_type": "stream",
     "text": [
      "[2025-02-14 14:16:34] INFO (torcheeg/MainThread) \n",
      "[Train] train_loss: 0.061 train_accuracy: 0.992 \n",
      "\n"
     ]
    },
    {
     "name": "stdout",
     "output_type": "stream",
     "text": [
      "Epoch 57: 100%|██████████| 8/8 [00:00<00:00, 26.40it/s, loss=0.0607, train_loss=0.0412, train_accuracy=1.000]"
     ]
    },
    {
     "name": "stderr",
     "output_type": "stream",
     "text": [
      "[2025-02-14 14:16:34] INFO (torcheeg/MainThread) \n",
      "[Train] train_loss: 0.065 train_accuracy: 0.992 \n",
      "\n"
     ]
    },
    {
     "name": "stdout",
     "output_type": "stream",
     "text": [
      "Epoch 58: 100%|██████████| 8/8 [00:00<00:00, 26.87it/s, loss=0.0548, train_loss=0.0225, train_accuracy=1.000]"
     ]
    },
    {
     "name": "stderr",
     "output_type": "stream",
     "text": [
      "[2025-02-14 14:16:35] INFO (torcheeg/MainThread) \n",
      "[Train] train_loss: 0.052 train_accuracy: 0.992 \n",
      "\n"
     ]
    },
    {
     "name": "stdout",
     "output_type": "stream",
     "text": [
      "Epoch 59: 100%|██████████| 8/8 [00:00<00:00, 26.54it/s, loss=0.0561, train_loss=0.0848, train_accuracy=1.000]"
     ]
    },
    {
     "name": "stderr",
     "output_type": "stream",
     "text": [
      "[2025-02-14 14:16:35] INFO (torcheeg/MainThread) \n",
      "[Train] train_loss: 0.055 train_accuracy: 1.000 \n",
      "\n"
     ]
    },
    {
     "name": "stdout",
     "output_type": "stream",
     "text": [
      "Epoch 60: 100%|██████████| 8/8 [00:00<00:00, 27.27it/s, loss=0.0578, train_loss=0.0602, train_accuracy=1.000]"
     ]
    },
    {
     "name": "stderr",
     "output_type": "stream",
     "text": [
      "[2025-02-14 14:16:35] INFO (torcheeg/MainThread) \n",
      "[Train] train_loss: 0.065 train_accuracy: 1.000 \n",
      "\n"
     ]
    },
    {
     "name": "stdout",
     "output_type": "stream",
     "text": [
      "Epoch 61: 100%|██████████| 8/8 [00:00<00:00, 28.02it/s, loss=0.0645, train_loss=0.0415, train_accuracy=1.000]"
     ]
    },
    {
     "name": "stderr",
     "output_type": "stream",
     "text": [
      "[2025-02-14 14:16:36] INFO (torcheeg/MainThread) \n",
      "[Train] train_loss: 0.066 train_accuracy: 0.992 \n",
      "\n"
     ]
    },
    {
     "name": "stdout",
     "output_type": "stream",
     "text": [
      "Epoch 62: 100%|██████████| 8/8 [00:00<00:00, 27.76it/s, loss=0.0561, train_loss=0.0176, train_accuracy=1.000]"
     ]
    },
    {
     "name": "stderr",
     "output_type": "stream",
     "text": [
      "Metric train_loss improved by 0.001 >= min_delta = 0.0. New best score: 0.018\n"
     ]
    },
    {
     "name": "stdout",
     "output_type": "stream",
     "text": [
      "Epoch 62: 100%|██████████| 8/8 [00:00<00:00, 27.61it/s, loss=0.0561, train_loss=0.0176, train_accuracy=1.000]"
     ]
    },
    {
     "name": "stderr",
     "output_type": "stream",
     "text": [
      "[2025-02-14 14:16:36] INFO (torcheeg/MainThread) \n",
      "[Train] train_loss: 0.046 train_accuracy: 1.000 \n",
      "\n"
     ]
    },
    {
     "name": "stdout",
     "output_type": "stream",
     "text": [
      "Epoch 63: 100%|██████████| 8/8 [00:00<00:00, 27.76it/s, loss=0.0509, train_loss=0.0364, train_accuracy=1.000]"
     ]
    },
    {
     "name": "stderr",
     "output_type": "stream",
     "text": [
      "[2025-02-14 14:16:36] INFO (torcheeg/MainThread) \n",
      "[Train] train_loss: 0.050 train_accuracy: 0.992 \n",
      "\n"
     ]
    },
    {
     "name": "stdout",
     "output_type": "stream",
     "text": [
      "Epoch 64: 100%|██████████| 8/8 [00:00<00:00, 27.11it/s, loss=0.048, train_loss=0.0901, train_accuracy=1.000] "
     ]
    },
    {
     "name": "stderr",
     "output_type": "stream",
     "text": [
      "[2025-02-14 14:16:37] INFO (torcheeg/MainThread) \n",
      "[Train] train_loss: 0.056 train_accuracy: 0.983 \n",
      "\n"
     ]
    },
    {
     "name": "stdout",
     "output_type": "stream",
     "text": [
      "Epoch 65: 100%|██████████| 8/8 [00:00<00:00, 28.66it/s, loss=0.0438, train_loss=0.0421, train_accuracy=1.000]"
     ]
    },
    {
     "name": "stderr",
     "output_type": "stream",
     "text": [
      "[2025-02-14 14:16:37] INFO (torcheeg/MainThread) \n",
      "[Train] train_loss: 0.037 train_accuracy: 1.000 \n",
      "\n"
     ]
    },
    {
     "name": "stdout",
     "output_type": "stream",
     "text": [
      "Epoch 66: 100%|██████████| 8/8 [00:00<00:00, 28.54it/s, loss=0.0426, train_loss=0.0237, train_accuracy=1.000]"
     ]
    },
    {
     "name": "stderr",
     "output_type": "stream",
     "text": [
      "[2025-02-14 14:16:37] INFO (torcheeg/MainThread) \n",
      "[Train] train_loss: 0.044 train_accuracy: 1.000 \n",
      "\n"
     ]
    },
    {
     "name": "stdout",
     "output_type": "stream",
     "text": [
      "Epoch 67: 100%|██████████| 8/8 [00:00<00:00, 28.63it/s, loss=0.0412, train_loss=0.0153, train_accuracy=1.000]"
     ]
    },
    {
     "name": "stderr",
     "output_type": "stream",
     "text": [
      "Metric train_loss improved by 0.002 >= min_delta = 0.0. New best score: 0.015\n"
     ]
    },
    {
     "name": "stdout",
     "output_type": "stream",
     "text": [
      "Epoch 67: 100%|██████████| 8/8 [00:00<00:00, 28.47it/s, loss=0.0412, train_loss=0.0153, train_accuracy=1.000]"
     ]
    },
    {
     "name": "stderr",
     "output_type": "stream",
     "text": [
      "[2025-02-14 14:16:37] INFO (torcheeg/MainThread) \n",
      "[Train] train_loss: 0.043 train_accuracy: 1.000 \n",
      "\n"
     ]
    },
    {
     "name": "stdout",
     "output_type": "stream",
     "text": [
      "Epoch 68: 100%|██████████| 8/8 [00:00<00:00, 27.49it/s, loss=0.0407, train_loss=0.0152, train_accuracy=1.000]"
     ]
    },
    {
     "name": "stderr",
     "output_type": "stream",
     "text": [
      "Metric train_loss improved by 0.000 >= min_delta = 0.0. New best score: 0.015\n"
     ]
    },
    {
     "name": "stdout",
     "output_type": "stream",
     "text": [
      "Epoch 68: 100%|██████████| 8/8 [00:00<00:00, 27.34it/s, loss=0.0407, train_loss=0.0152, train_accuracy=1.000]"
     ]
    },
    {
     "name": "stderr",
     "output_type": "stream",
     "text": [
      "[2025-02-14 14:16:38] INFO (torcheeg/MainThread) \n",
      "[Train] train_loss: 0.046 train_accuracy: 0.992 \n",
      "\n"
     ]
    },
    {
     "name": "stdout",
     "output_type": "stream",
     "text": [
      "Epoch 69: 100%|██████████| 8/8 [00:00<00:00, 27.75it/s, loss=0.04, train_loss=0.0148, train_accuracy=1.000]   "
     ]
    },
    {
     "name": "stderr",
     "output_type": "stream",
     "text": [
      "Metric train_loss improved by 0.000 >= min_delta = 0.0. New best score: 0.015\n"
     ]
    },
    {
     "name": "stdout",
     "output_type": "stream",
     "text": [
      "Epoch 69: 100%|██████████| 8/8 [00:00<00:00, 27.60it/s, loss=0.04, train_loss=0.0148, train_accuracy=1.000]"
     ]
    },
    {
     "name": "stderr",
     "output_type": "stream",
     "text": [
      "[2025-02-14 14:16:38] INFO (torcheeg/MainThread) \n",
      "[Train] train_loss: 0.033 train_accuracy: 1.000 \n",
      "\n"
     ]
    },
    {
     "name": "stdout",
     "output_type": "stream",
     "text": [
      "Epoch 70: 100%|██████████| 8/8 [00:00<00:00, 26.48it/s, loss=0.0305, train_loss=0.027, train_accuracy=1.000] "
     ]
    },
    {
     "name": "stderr",
     "output_type": "stream",
     "text": [
      "[2025-02-14 14:16:38] INFO (torcheeg/MainThread) \n",
      "[Train] train_loss: 0.027 train_accuracy: 1.000 \n",
      "\n"
     ]
    },
    {
     "name": "stdout",
     "output_type": "stream",
     "text": [
      "Epoch 71: 100%|██████████| 8/8 [00:00<00:00, 26.89it/s, loss=0.0299, train_loss=0.0361, train_accuracy=1.000]"
     ]
    },
    {
     "name": "stderr",
     "output_type": "stream",
     "text": [
      "[2025-02-14 14:16:39] INFO (torcheeg/MainThread) \n",
      "[Train] train_loss: 0.035 train_accuracy: 1.000 \n",
      "\n"
     ]
    },
    {
     "name": "stdout",
     "output_type": "stream",
     "text": [
      "Epoch 72: 100%|██████████| 8/8 [00:00<00:00, 28.00it/s, loss=0.0312, train_loss=0.00477, train_accuracy=1.000]"
     ]
    },
    {
     "name": "stderr",
     "output_type": "stream",
     "text": [
      "Metric train_loss improved by 0.010 >= min_delta = 0.0. New best score: 0.005\n"
     ]
    },
    {
     "name": "stdout",
     "output_type": "stream",
     "text": [
      "Epoch 72: 100%|██████████| 8/8 [00:00<00:00, 27.82it/s, loss=0.0312, train_loss=0.00477, train_accuracy=1.000]"
     ]
    },
    {
     "name": "stderr",
     "output_type": "stream",
     "text": [
      "[2025-02-14 14:16:39] INFO (torcheeg/MainThread) \n",
      "[Train] train_loss: 0.032 train_accuracy: 1.000 \n",
      "\n"
     ]
    },
    {
     "name": "stdout",
     "output_type": "stream",
     "text": [
      "Epoch 73: 100%|██████████| 8/8 [00:00<00:00, 26.09it/s, loss=0.0315, train_loss=0.064, train_accuracy=1.000]  "
     ]
    },
    {
     "name": "stderr",
     "output_type": "stream",
     "text": [
      "[2025-02-14 14:16:39] INFO (torcheeg/MainThread) \n",
      "[Train] train_loss: 0.035 train_accuracy: 1.000 \n",
      "\n"
     ]
    },
    {
     "name": "stdout",
     "output_type": "stream",
     "text": [
      "Epoch 74: 100%|██████████| 8/8 [00:00<00:00, 27.20it/s, loss=0.0317, train_loss=0.0115, train_accuracy=1.000]"
     ]
    },
    {
     "name": "stderr",
     "output_type": "stream",
     "text": [
      "[2025-02-14 14:16:39] INFO (torcheeg/MainThread) \n",
      "[Train] train_loss: 0.030 train_accuracy: 1.000 \n",
      "\n"
     ]
    },
    {
     "name": "stdout",
     "output_type": "stream",
     "text": [
      "Epoch 75: 100%|██████████| 8/8 [00:00<00:00, 26.90it/s, loss=0.0332, train_loss=0.00125, train_accuracy=1.000]"
     ]
    },
    {
     "name": "stderr",
     "output_type": "stream",
     "text": [
      "Metric train_loss improved by 0.004 >= min_delta = 0.0. New best score: 0.001\n"
     ]
    },
    {
     "name": "stdout",
     "output_type": "stream",
     "text": [
      "Epoch 75: 100%|██████████| 8/8 [00:00<00:00, 26.76it/s, loss=0.0332, train_loss=0.00125, train_accuracy=1.000]"
     ]
    },
    {
     "name": "stderr",
     "output_type": "stream",
     "text": [
      "[2025-02-14 14:16:40] INFO (torcheeg/MainThread) \n",
      "[Train] train_loss: 0.034 train_accuracy: 0.992 \n",
      "\n"
     ]
    },
    {
     "name": "stdout",
     "output_type": "stream",
     "text": [
      "Epoch 76: 100%|██████████| 8/8 [00:00<00:00, 26.75it/s, loss=0.0355, train_loss=0.0941, train_accuracy=1.000] "
     ]
    },
    {
     "name": "stderr",
     "output_type": "stream",
     "text": [
      "[2025-02-14 14:16:40] INFO (torcheeg/MainThread) \n",
      "[Train] train_loss: 0.041 train_accuracy: 1.000 \n",
      "\n"
     ]
    },
    {
     "name": "stdout",
     "output_type": "stream",
     "text": [
      "Epoch 77: 100%|██████████| 8/8 [00:00<00:00, 26.81it/s, loss=0.039, train_loss=0.0669, train_accuracy=1.000] "
     ]
    },
    {
     "name": "stderr",
     "output_type": "stream",
     "text": [
      "[2025-02-14 14:16:40] INFO (torcheeg/MainThread) \n",
      "[Train] train_loss: 0.043 train_accuracy: 1.000 \n",
      "\n"
     ]
    },
    {
     "name": "stdout",
     "output_type": "stream",
     "text": [
      "Epoch 78: 100%|██████████| 8/8 [00:00<00:00, 25.92it/s, loss=0.0397, train_loss=0.0744, train_accuracy=1.000]"
     ]
    },
    {
     "name": "stderr",
     "output_type": "stream",
     "text": [
      "[2025-02-14 14:16:41] INFO (torcheeg/MainThread) \n",
      "[Train] train_loss: 0.030 train_accuracy: 1.000 \n",
      "\n"
     ]
    },
    {
     "name": "stdout",
     "output_type": "stream",
     "text": [
      "Epoch 79: 100%|██████████| 8/8 [00:00<00:00, 25.56it/s, loss=0.0435, train_loss=0.0264, train_accuracy=1.000]"
     ]
    },
    {
     "name": "stderr",
     "output_type": "stream",
     "text": [
      "[2025-02-14 14:16:41] INFO (torcheeg/MainThread) \n",
      "[Train] train_loss: 0.056 train_accuracy: 0.992 \n",
      "\n"
     ]
    },
    {
     "name": "stdout",
     "output_type": "stream",
     "text": [
      "Epoch 80: 100%|██████████| 8/8 [00:00<00:00, 26.82it/s, loss=0.0403, train_loss=0.0146, train_accuracy=1.000] "
     ]
    },
    {
     "name": "stderr",
     "output_type": "stream",
     "text": [
      "[2025-02-14 14:16:41] INFO (torcheeg/MainThread) \n",
      "[Train] train_loss: 0.025 train_accuracy: 1.000 \n",
      "\n"
     ]
    },
    {
     "name": "stdout",
     "output_type": "stream",
     "text": [
      "Epoch 81: 100%|██████████| 8/8 [00:00<00:00, 27.88it/s, loss=0.0267, train_loss=0.0498, train_accuracy=1.000] "
     ]
    },
    {
     "name": "stderr",
     "output_type": "stream",
     "text": [
      "[2025-02-14 14:16:42] INFO (torcheeg/MainThread) \n",
      "[Train] train_loss: 0.028 train_accuracy: 1.000 \n",
      "\n"
     ]
    },
    {
     "name": "stdout",
     "output_type": "stream",
     "text": [
      "Epoch 82: 100%|██████████| 8/8 [00:00<00:00, 26.66it/s, loss=0.0268, train_loss=0.017, train_accuracy=1.000]  "
     ]
    },
    {
     "name": "stderr",
     "output_type": "stream",
     "text": [
      "[2025-02-14 14:16:42] INFO (torcheeg/MainThread) \n",
      "[Train] train_loss: 0.027 train_accuracy: 1.000 \n",
      "\n"
     ]
    },
    {
     "name": "stdout",
     "output_type": "stream",
     "text": [
      "Epoch 83: 100%|██████████| 8/8 [00:00<00:00, 28.26it/s, loss=0.0304, train_loss=0.020, train_accuracy=1.000]  "
     ]
    },
    {
     "name": "stderr",
     "output_type": "stream",
     "text": [
      "[2025-02-14 14:16:42] INFO (torcheeg/MainThread) \n",
      "[Train] train_loss: 0.034 train_accuracy: 1.000 \n",
      "\n"
     ]
    },
    {
     "name": "stdout",
     "output_type": "stream",
     "text": [
      "Epoch 84: 100%|██████████| 8/8 [00:00<00:00, 25.60it/s, loss=0.0231, train_loss=0.00593, train_accuracy=1.000]"
     ]
    },
    {
     "name": "stderr",
     "output_type": "stream",
     "text": [
      "[2025-02-14 14:16:42] INFO (torcheeg/MainThread) \n",
      "[Train] train_loss: 0.017 train_accuracy: 1.000 \n",
      "\n"
     ]
    },
    {
     "name": "stdout",
     "output_type": "stream",
     "text": [
      "Epoch 85: 100%|██████████| 8/8 [00:00<00:00, 25.45it/s, loss=0.0233, train_loss=0.00456, train_accuracy=1.000]"
     ]
    },
    {
     "name": "stderr",
     "output_type": "stream",
     "text": [
      "[2025-02-14 14:16:43] INFO (torcheeg/MainThread) \n",
      "[Train] train_loss: 0.025 train_accuracy: 1.000 \n",
      "\n"
     ]
    },
    {
     "name": "stdout",
     "output_type": "stream",
     "text": [
      "Epoch 86: 100%|██████████| 8/8 [00:00<00:00, 25.67it/s, loss=0.0208, train_loss=0.0208, train_accuracy=1.000] "
     ]
    },
    {
     "name": "stderr",
     "output_type": "stream",
     "text": [
      "[2025-02-14 14:16:43] INFO (torcheeg/MainThread) \n",
      "[Train] train_loss: 0.016 train_accuracy: 1.000 \n",
      "\n"
     ]
    },
    {
     "name": "stdout",
     "output_type": "stream",
     "text": [
      "Epoch 87: 100%|██████████| 8/8 [00:00<00:00, 25.78it/s, loss=0.0266, train_loss=0.0564, train_accuracy=1.000]"
     ]
    },
    {
     "name": "stderr",
     "output_type": "stream",
     "text": [
      "[2025-02-14 14:16:43] INFO (torcheeg/MainThread) \n",
      "[Train] train_loss: 0.033 train_accuracy: 1.000 \n",
      "\n"
     ]
    },
    {
     "name": "stdout",
     "output_type": "stream",
     "text": [
      "Epoch 88: 100%|██████████| 8/8 [00:00<00:00, 25.66it/s, loss=0.0238, train_loss=0.000798, train_accuracy=1.000]"
     ]
    },
    {
     "name": "stderr",
     "output_type": "stream",
     "text": [
      "Metric train_loss improved by 0.000 >= min_delta = 0.0. New best score: 0.001\n"
     ]
    },
    {
     "name": "stdout",
     "output_type": "stream",
     "text": [
      "Epoch 88: 100%|██████████| 8/8 [00:00<00:00, 25.52it/s, loss=0.0238, train_loss=0.000798, train_accuracy=1.000]"
     ]
    },
    {
     "name": "stderr",
     "output_type": "stream",
     "text": [
      "[2025-02-14 14:16:44] INFO (torcheeg/MainThread) \n",
      "[Train] train_loss: 0.018 train_accuracy: 1.000 \n",
      "\n"
     ]
    },
    {
     "name": "stdout",
     "output_type": "stream",
     "text": [
      "Epoch 89: 100%|██████████| 8/8 [00:00<00:00, 25.81it/s, loss=0.0237, train_loss=0.050, train_accuracy=1.000]   "
     ]
    },
    {
     "name": "stderr",
     "output_type": "stream",
     "text": [
      "[2025-02-14 14:16:44] INFO (torcheeg/MainThread) \n",
      "[Train] train_loss: 0.026 train_accuracy: 1.000 \n",
      "\n"
     ]
    },
    {
     "name": "stdout",
     "output_type": "stream",
     "text": [
      "Epoch 90: 100%|██████████| 8/8 [00:00<00:00, 25.48it/s, loss=0.0249, train_loss=0.010, train_accuracy=1.000] "
     ]
    },
    {
     "name": "stderr",
     "output_type": "stream",
     "text": [
      "[2025-02-14 14:16:44] INFO (torcheeg/MainThread) \n",
      "[Train] train_loss: 0.025 train_accuracy: 1.000 \n",
      "\n"
     ]
    },
    {
     "name": "stdout",
     "output_type": "stream",
     "text": [
      "Epoch 91: 100%|██████████| 8/8 [00:00<00:00, 25.74it/s, loss=0.0216, train_loss=0.00349, train_accuracy=1.000]"
     ]
    },
    {
     "name": "stderr",
     "output_type": "stream",
     "text": [
      "[2025-02-14 14:16:45] INFO (torcheeg/MainThread) \n",
      "[Train] train_loss: 0.016 train_accuracy: 1.000 \n",
      "\n"
     ]
    },
    {
     "name": "stdout",
     "output_type": "stream",
     "text": [
      "Epoch 92: 100%|██████████| 8/8 [00:00<00:00, 26.43it/s, loss=0.0208, train_loss=0.0444, train_accuracy=1.000] "
     ]
    },
    {
     "name": "stderr",
     "output_type": "stream",
     "text": [
      "[2025-02-14 14:16:45] INFO (torcheeg/MainThread) \n",
      "[Train] train_loss: 0.024 train_accuracy: 1.000 \n",
      "\n"
     ]
    },
    {
     "name": "stdout",
     "output_type": "stream",
     "text": [
      "Epoch 93: 100%|██████████| 8/8 [00:00<00:00, 26.29it/s, loss=0.0214, train_loss=0.0258, train_accuracy=1.000] "
     ]
    },
    {
     "name": "stderr",
     "output_type": "stream",
     "text": [
      "[2025-02-14 14:16:45] INFO (torcheeg/MainThread) \n",
      "[Train] train_loss: 0.022 train_accuracy: 1.000 \n",
      "\n"
     ]
    },
    {
     "name": "stdout",
     "output_type": "stream",
     "text": [
      "Epoch 94: 100%|██████████| 8/8 [00:00<00:00, 25.80it/s, loss=0.0234, train_loss=0.00134, train_accuracy=1.000]"
     ]
    },
    {
     "name": "stderr",
     "output_type": "stream",
     "text": [
      "[2025-02-14 14:16:46] INFO (torcheeg/MainThread) \n",
      "[Train] train_loss: 0.021 train_accuracy: 1.000 \n",
      "\n"
     ]
    },
    {
     "name": "stdout",
     "output_type": "stream",
     "text": [
      "Epoch 95: 100%|██████████| 8/8 [00:00<00:00, 25.94it/s, loss=0.0253, train_loss=0.00566, train_accuracy=1.000]"
     ]
    },
    {
     "name": "stderr",
     "output_type": "stream",
     "text": [
      "[2025-02-14 14:16:46] INFO (torcheeg/MainThread) \n",
      "[Train] train_loss: 0.030 train_accuracy: 0.992 \n",
      "\n"
     ]
    },
    {
     "name": "stdout",
     "output_type": "stream",
     "text": [
      "Epoch 96: 100%|██████████| 8/8 [00:00<00:00, 26.46it/s, loss=0.0229, train_loss=0.00547, train_accuracy=1.000]"
     ]
    },
    {
     "name": "stderr",
     "output_type": "stream",
     "text": [
      "[2025-02-14 14:16:46] INFO (torcheeg/MainThread) \n",
      "[Train] train_loss: 0.020 train_accuracy: 1.000 \n",
      "\n"
     ]
    },
    {
     "name": "stdout",
     "output_type": "stream",
     "text": [
      "Epoch 97: 100%|██████████| 8/8 [00:00<00:00, 26.35it/s, loss=0.0255, train_loss=0.0787, train_accuracy=1.000] "
     ]
    },
    {
     "name": "stderr",
     "output_type": "stream",
     "text": [
      "[2025-02-14 14:16:47] INFO (torcheeg/MainThread) \n",
      "[Train] train_loss: 0.023 train_accuracy: 1.000 \n",
      "\n"
     ]
    },
    {
     "name": "stdout",
     "output_type": "stream",
     "text": [
      "Epoch 98: 100%|██████████| 8/8 [00:00<00:00, 26.24it/s, loss=0.0186, train_loss=0.00399, train_accuracy=1.000]"
     ]
    },
    {
     "name": "stderr",
     "output_type": "stream",
     "text": [
      "[2025-02-14 14:16:47] INFO (torcheeg/MainThread) \n",
      "[Train] train_loss: 0.015 train_accuracy: 1.000 \n",
      "\n"
     ]
    },
    {
     "name": "stdout",
     "output_type": "stream",
     "text": [
      "Epoch 99: 100%|██████████| 8/8 [00:00<00:00, 26.23it/s, loss=0.0225, train_loss=0.0634, train_accuracy=1.000] "
     ]
    },
    {
     "name": "stderr",
     "output_type": "stream",
     "text": [
      "[2025-02-14 14:16:47] INFO (torcheeg/MainThread) \n",
      "[Train] train_loss: 0.030 train_accuracy: 1.000 \n",
      "\n",
      "`Trainer.fit` stopped: `max_epochs=100` reached.\n"
     ]
    },
    {
     "name": "stdout",
     "output_type": "stream",
     "text": [
      "Epoch 99: 100%|██████████| 8/8 [00:00<00:00, 25.95it/s, loss=0.0225, train_loss=0.0634, train_accuracy=1.000]\n"
     ]
    },
    {
     "name": "stderr",
     "output_type": "stream",
     "text": [
      "GPU available: True (cuda), used: True\n",
      "TPU available: False, using: 0 TPU cores\n",
      "IPU available: False, using: 0 IPUs\n",
      "HPU available: False, using: 0 HPUs\n",
      "Missing logger folder: /root/autodl-tmp/.autodl/kinlaw/GANSER/mycode/lightning_logs\n",
      "LOCAL_RANK: 0 - CUDA_VISIBLE_DEVICES: [0]\n",
      "/root/autodl-tmp/conda/envs/law/lib/python3.8/site-packages/pytorch_lightning/trainer/connectors/data_connector.py:224: PossibleUserWarning: The dataloader, test_dataloader 0, does not have many workers which may be a bottleneck. Consider increasing the value of the `num_workers` argument` (try 128 which is the number of cpus on this machine) in the `DataLoader` init to improve performance.\n",
      "  rank_zero_warn(\n"
     ]
    },
    {
     "name": "stdout",
     "output_type": "stream",
     "text": [
      "Testing DataLoader 0: 100%|██████████| 3/3 [00:00<00:00, 100.58it/s]"
     ]
    },
    {
     "name": "stderr",
     "output_type": "stream",
     "text": [
      "[2025-02-14 14:16:47] INFO (torcheeg/MainThread) \n",
      "[Test] test_loss: 2.763 test_accuracy: 0.600 \n",
      "\n"
     ]
    },
    {
     "name": "stdout",
     "output_type": "stream",
     "text": [
      "Testing DataLoader 0: 100%|██████████| 3/3 [00:00<00:00, 85.23it/s] \n",
      "────────────────────────────────────────────────────────────────────────────────────────────────────────────────────────\n",
      "       Test metric             DataLoader 0\n",
      "────────────────────────────────────────────────────────────────────────────────────────────────────────────────────────\n",
      "      test_accuracy         0.6000000238418579\n",
      "        test_loss            2.762814521789551\n",
      "────────────────────────────────────────────────────────────────────────────────────────────────────────────────────────\n",
      "已删除文件夹: /root/autodl-tmp/.autodl/kinlaw/GANSER/mycode/lightning_logs\n"
     ]
    },
    {
     "name": "stderr",
     "output_type": "stream",
     "text": [
      "GPU available: True (cuda), used: True\n",
      "TPU available: False, using: 0 TPU cores\n",
      "IPU available: False, using: 0 IPUs\n",
      "HPU available: False, using: 0 HPUs\n",
      "LOCAL_RANK: 0 - CUDA_VISIBLE_DEVICES: [0]\n",
      "/root/autodl-tmp/conda/envs/law/lib/python3.8/site-packages/pytorch_lightning/trainer/connectors/data_connector.py:224: PossibleUserWarning: The dataloader, train_dataloader, does not have many workers which may be a bottleneck. Consider increasing the value of the `num_workers` argument` (try 128 which is the number of cpus on this machine) in the `DataLoader` init to improve performance.\n",
      "  rank_zero_warn(\n"
     ]
    },
    {
     "name": "stdout",
     "output_type": "stream",
     "text": [
      "Epoch 0: 100%|██████████| 8/8 [00:00<00:00, 25.37it/s, loss=0.701, train_loss=0.659, train_accuracy=0.750]"
     ]
    },
    {
     "name": "stderr",
     "output_type": "stream",
     "text": [
      "Metric train_loss improved. New best score: 0.659\n"
     ]
    },
    {
     "name": "stdout",
     "output_type": "stream",
     "text": [
      "Epoch 0: 100%|██████████| 8/8 [00:00<00:00, 25.24it/s, loss=0.701, train_loss=0.659, train_accuracy=0.750]"
     ]
    },
    {
     "name": "stderr",
     "output_type": "stream",
     "text": [
      "/root/autodl-tmp/conda/envs/law/lib/python3.8/site-packages/pytorch_lightning/core/module.py:493: UserWarning: You called `self.log('train_loss', ..., logger=True)` but have no logger configured. You can enable one by doing `Trainer(logger=ALogger(...))`\n",
      "  rank_zero_warn(\n",
      "/root/autodl-tmp/conda/envs/law/lib/python3.8/site-packages/pytorch_lightning/core/module.py:493: UserWarning: You called `self.log('train_accuracy', ..., logger=True)` but have no logger configured. You can enable one by doing `Trainer(logger=ALogger(...))`\n",
      "  rank_zero_warn(\n",
      "[2025-02-14 14:16:48] INFO (torcheeg/MainThread) \n",
      "[Train] train_loss: 0.701 train_accuracy: 0.525 \n",
      "\n"
     ]
    },
    {
     "name": "stdout",
     "output_type": "stream",
     "text": [
      "Epoch 1: 100%|██████████| 8/8 [00:00<00:00, 26.11it/s, loss=0.693, train_loss=0.780, train_accuracy=0.500]"
     ]
    },
    {
     "name": "stderr",
     "output_type": "stream",
     "text": [
      "[2025-02-14 14:16:48] INFO (torcheeg/MainThread) \n",
      "[Train] train_loss: 0.684 train_accuracy: 0.542 \n",
      "\n"
     ]
    },
    {
     "name": "stdout",
     "output_type": "stream",
     "text": [
      "Epoch 2: 100%|██████████| 8/8 [00:00<00:00, 26.30it/s, loss=0.675, train_loss=0.621, train_accuracy=0.750]"
     ]
    },
    {
     "name": "stderr",
     "output_type": "stream",
     "text": [
      "Metric train_loss improved by 0.039 >= min_delta = 0.0. New best score: 0.621\n"
     ]
    },
    {
     "name": "stdout",
     "output_type": "stream",
     "text": [
      "Epoch 2: 100%|██████████| 8/8 [00:00<00:00, 26.15it/s, loss=0.675, train_loss=0.621, train_accuracy=0.750]"
     ]
    },
    {
     "name": "stderr",
     "output_type": "stream",
     "text": [
      "[2025-02-14 14:16:48] INFO (torcheeg/MainThread) \n",
      "[Train] train_loss: 0.655 train_accuracy: 0.617 \n",
      "\n"
     ]
    },
    {
     "name": "stdout",
     "output_type": "stream",
     "text": [
      "Epoch 3: 100%|██████████| 8/8 [00:00<00:00, 26.54it/s, loss=0.651, train_loss=0.527, train_accuracy=0.750]"
     ]
    },
    {
     "name": "stderr",
     "output_type": "stream",
     "text": [
      "Metric train_loss improved by 0.094 >= min_delta = 0.0. New best score: 0.527\n"
     ]
    },
    {
     "name": "stdout",
     "output_type": "stream",
     "text": [
      "Epoch 3: 100%|██████████| 8/8 [00:00<00:00, 26.40it/s, loss=0.651, train_loss=0.527, train_accuracy=0.750]"
     ]
    },
    {
     "name": "stderr",
     "output_type": "stream",
     "text": [
      "[2025-02-14 14:16:49] INFO (torcheeg/MainThread) \n",
      "[Train] train_loss: 0.628 train_accuracy: 0.650 \n",
      "\n"
     ]
    },
    {
     "name": "stdout",
     "output_type": "stream",
     "text": [
      "Epoch 4: 100%|██████████| 8/8 [00:00<00:00, 26.39it/s, loss=0.628, train_loss=0.591, train_accuracy=0.625]"
     ]
    },
    {
     "name": "stderr",
     "output_type": "stream",
     "text": [
      "[2025-02-14 14:16:49] INFO (torcheeg/MainThread) \n",
      "[Train] train_loss: 0.616 train_accuracy: 0.700 \n",
      "\n"
     ]
    },
    {
     "name": "stdout",
     "output_type": "stream",
     "text": [
      "Epoch 5: 100%|██████████| 8/8 [00:00<00:00, 26.14it/s, loss=0.609, train_loss=0.622, train_accuracy=0.750]"
     ]
    },
    {
     "name": "stderr",
     "output_type": "stream",
     "text": [
      "[2025-02-14 14:16:49] INFO (torcheeg/MainThread) \n",
      "[Train] train_loss: 0.606 train_accuracy: 0.658 \n",
      "\n"
     ]
    },
    {
     "name": "stdout",
     "output_type": "stream",
     "text": [
      "Epoch 6: 100%|██████████| 8/8 [00:00<00:00, 26.19it/s, loss=0.599, train_loss=0.566, train_accuracy=0.625]"
     ]
    },
    {
     "name": "stderr",
     "output_type": "stream",
     "text": [
      "[2025-02-14 14:16:50] INFO (torcheeg/MainThread) \n",
      "[Train] train_loss: 0.582 train_accuracy: 0.683 \n",
      "\n"
     ]
    },
    {
     "name": "stdout",
     "output_type": "stream",
     "text": [
      "Epoch 7: 100%|██████████| 8/8 [00:00<00:00, 26.29it/s, loss=0.595, train_loss=0.605, train_accuracy=0.625]"
     ]
    },
    {
     "name": "stderr",
     "output_type": "stream",
     "text": [
      "[2025-02-14 14:16:50] INFO (torcheeg/MainThread) \n",
      "[Train] train_loss: 0.593 train_accuracy: 0.717 \n",
      "\n"
     ]
    },
    {
     "name": "stdout",
     "output_type": "stream",
     "text": [
      "Epoch 8: 100%|██████████| 8/8 [00:00<00:00, 26.19it/s, loss=0.58, train_loss=0.523, train_accuracy=0.625] "
     ]
    },
    {
     "name": "stderr",
     "output_type": "stream",
     "text": [
      "Metric train_loss improved by 0.003 >= min_delta = 0.0. New best score: 0.523\n"
     ]
    },
    {
     "name": "stdout",
     "output_type": "stream",
     "text": [
      "Epoch 8: 100%|██████████| 8/8 [00:00<00:00, 26.05it/s, loss=0.58, train_loss=0.523, train_accuracy=0.625]"
     ]
    },
    {
     "name": "stderr",
     "output_type": "stream",
     "text": [
      "[2025-02-14 14:16:50] INFO (torcheeg/MainThread) \n",
      "[Train] train_loss: 0.569 train_accuracy: 0.733 \n",
      "\n"
     ]
    },
    {
     "name": "stdout",
     "output_type": "stream",
     "text": [
      "Epoch 9: 100%|██████████| 8/8 [00:00<00:00, 27.16it/s, loss=0.59, train_loss=0.555, train_accuracy=0.625] "
     ]
    },
    {
     "name": "stderr",
     "output_type": "stream",
     "text": [
      "[2025-02-14 14:16:50] INFO (torcheeg/MainThread) \n",
      "[Train] train_loss: 0.583 train_accuracy: 0.675 \n",
      "\n"
     ]
    },
    {
     "name": "stdout",
     "output_type": "stream",
     "text": [
      "Epoch 10: 100%|██████████| 8/8 [00:00<00:00, 26.75it/s, loss=0.554, train_loss=0.516, train_accuracy=0.875]"
     ]
    },
    {
     "name": "stderr",
     "output_type": "stream",
     "text": [
      "Metric train_loss improved by 0.008 >= min_delta = 0.0. New best score: 0.516\n"
     ]
    },
    {
     "name": "stdout",
     "output_type": "stream",
     "text": [
      "Epoch 10: 100%|██████████| 8/8 [00:00<00:00, 26.61it/s, loss=0.554, train_loss=0.516, train_accuracy=0.875]"
     ]
    },
    {
     "name": "stderr",
     "output_type": "stream",
     "text": [
      "[2025-02-14 14:16:51] INFO (torcheeg/MainThread) \n",
      "[Train] train_loss: 0.532 train_accuracy: 0.750 \n",
      "\n"
     ]
    },
    {
     "name": "stdout",
     "output_type": "stream",
     "text": [
      "Epoch 11: 100%|██████████| 8/8 [00:00<00:00, 27.62it/s, loss=0.548, train_loss=0.563, train_accuracy=0.750]"
     ]
    },
    {
     "name": "stderr",
     "output_type": "stream",
     "text": [
      "[2025-02-14 14:16:51] INFO (torcheeg/MainThread) \n",
      "[Train] train_loss: 0.527 train_accuracy: 0.767 \n",
      "\n"
     ]
    },
    {
     "name": "stdout",
     "output_type": "stream",
     "text": [
      "Epoch 12: 100%|██████████| 8/8 [00:00<00:00, 27.68it/s, loss=0.533, train_loss=0.382, train_accuracy=1.000]"
     ]
    },
    {
     "name": "stderr",
     "output_type": "stream",
     "text": [
      "Metric train_loss improved by 0.134 >= min_delta = 0.0. New best score: 0.382\n"
     ]
    },
    {
     "name": "stdout",
     "output_type": "stream",
     "text": [
      "Epoch 12: 100%|██████████| 8/8 [00:00<00:00, 27.53it/s, loss=0.533, train_loss=0.382, train_accuracy=1.000]"
     ]
    },
    {
     "name": "stderr",
     "output_type": "stream",
     "text": [
      "[2025-02-14 14:16:51] INFO (torcheeg/MainThread) \n",
      "[Train] train_loss: 0.538 train_accuracy: 0.742 \n",
      "\n"
     ]
    },
    {
     "name": "stdout",
     "output_type": "stream",
     "text": [
      "Epoch 13: 100%|██████████| 8/8 [00:00<00:00, 27.09it/s, loss=0.531, train_loss=0.602, train_accuracy=0.750]"
     ]
    },
    {
     "name": "stderr",
     "output_type": "stream",
     "text": [
      "[2025-02-14 14:16:52] INFO (torcheeg/MainThread) \n",
      "[Train] train_loss: 0.544 train_accuracy: 0.767 \n",
      "\n"
     ]
    },
    {
     "name": "stdout",
     "output_type": "stream",
     "text": [
      "Epoch 14: 100%|██████████| 8/8 [00:00<00:00, 27.39it/s, loss=0.515, train_loss=0.429, train_accuracy=0.875]"
     ]
    },
    {
     "name": "stderr",
     "output_type": "stream",
     "text": [
      "[2025-02-14 14:16:52] INFO (torcheeg/MainThread) \n",
      "[Train] train_loss: 0.495 train_accuracy: 0.758 \n",
      "\n"
     ]
    },
    {
     "name": "stdout",
     "output_type": "stream",
     "text": [
      "Epoch 15: 100%|██████████| 8/8 [00:00<00:00, 27.76it/s, loss=0.514, train_loss=0.630, train_accuracy=0.500]"
     ]
    },
    {
     "name": "stderr",
     "output_type": "stream",
     "text": [
      "[2025-02-14 14:16:52] INFO (torcheeg/MainThread) \n",
      "[Train] train_loss: 0.513 train_accuracy: 0.750 \n",
      "\n"
     ]
    },
    {
     "name": "stdout",
     "output_type": "stream",
     "text": [
      "Epoch 16: 100%|██████████| 8/8 [00:00<00:00, 27.92it/s, loss=0.494, train_loss=0.472, train_accuracy=0.875]"
     ]
    },
    {
     "name": "stderr",
     "output_type": "stream",
     "text": [
      "[2025-02-14 14:16:53] INFO (torcheeg/MainThread) \n",
      "[Train] train_loss: 0.485 train_accuracy: 0.783 \n",
      "\n"
     ]
    },
    {
     "name": "stdout",
     "output_type": "stream",
     "text": [
      "Epoch 17: 100%|██████████| 8/8 [00:00<00:00, 27.85it/s, loss=0.49, train_loss=0.416, train_accuracy=0.875] "
     ]
    },
    {
     "name": "stderr",
     "output_type": "stream",
     "text": [
      "[2025-02-14 14:16:53] INFO (torcheeg/MainThread) \n",
      "[Train] train_loss: 0.484 train_accuracy: 0.767 \n",
      "\n"
     ]
    },
    {
     "name": "stdout",
     "output_type": "stream",
     "text": [
      "Epoch 18: 100%|██████████| 8/8 [00:00<00:00, 26.47it/s, loss=0.474, train_loss=0.438, train_accuracy=0.875]"
     ]
    },
    {
     "name": "stderr",
     "output_type": "stream",
     "text": [
      "[2025-02-14 14:16:53] INFO (torcheeg/MainThread) \n",
      "[Train] train_loss: 0.457 train_accuracy: 0.825 \n",
      "\n"
     ]
    },
    {
     "name": "stdout",
     "output_type": "stream",
     "text": [
      "Epoch 19: 100%|██████████| 8/8 [00:00<00:00, 28.04it/s, loss=0.464, train_loss=0.274, train_accuracy=1.000]"
     ]
    },
    {
     "name": "stderr",
     "output_type": "stream",
     "text": [
      "Metric train_loss improved by 0.108 >= min_delta = 0.0. New best score: 0.274\n"
     ]
    },
    {
     "name": "stdout",
     "output_type": "stream",
     "text": [
      "Epoch 19: 100%|██████████| 8/8 [00:00<00:00, 27.89it/s, loss=0.464, train_loss=0.274, train_accuracy=1.000]"
     ]
    },
    {
     "name": "stderr",
     "output_type": "stream",
     "text": [
      "[2025-02-14 14:16:53] INFO (torcheeg/MainThread) \n",
      "[Train] train_loss: 0.458 train_accuracy: 0.825 \n",
      "\n"
     ]
    },
    {
     "name": "stdout",
     "output_type": "stream",
     "text": [
      "Epoch 20: 100%|██████████| 8/8 [00:00<00:00, 27.72it/s, loss=0.453, train_loss=0.310, train_accuracy=1.000]"
     ]
    },
    {
     "name": "stderr",
     "output_type": "stream",
     "text": [
      "[2025-02-14 14:16:54] INFO (torcheeg/MainThread) \n",
      "[Train] train_loss: 0.441 train_accuracy: 0.833 \n",
      "\n"
     ]
    },
    {
     "name": "stdout",
     "output_type": "stream",
     "text": [
      "Epoch 21: 100%|██████████| 8/8 [00:00<00:00, 27.60it/s, loss=0.448, train_loss=0.343, train_accuracy=1.000]"
     ]
    },
    {
     "name": "stderr",
     "output_type": "stream",
     "text": [
      "[2025-02-14 14:16:54] INFO (torcheeg/MainThread) \n",
      "[Train] train_loss: 0.447 train_accuracy: 0.800 \n",
      "\n"
     ]
    },
    {
     "name": "stdout",
     "output_type": "stream",
     "text": [
      "Epoch 22: 100%|██████████| 8/8 [00:00<00:00, 26.67it/s, loss=0.422, train_loss=0.439, train_accuracy=0.875]"
     ]
    },
    {
     "name": "stderr",
     "output_type": "stream",
     "text": [
      "[2025-02-14 14:16:54] INFO (torcheeg/MainThread) \n",
      "[Train] train_loss: 0.409 train_accuracy: 0.867 \n",
      "\n"
     ]
    },
    {
     "name": "stdout",
     "output_type": "stream",
     "text": [
      "Epoch 23: 100%|██████████| 8/8 [00:00<00:00, 27.14it/s, loss=0.424, train_loss=0.607, train_accuracy=0.625]"
     ]
    },
    {
     "name": "stderr",
     "output_type": "stream",
     "text": [
      "[2025-02-14 14:16:55] INFO (torcheeg/MainThread) \n",
      "[Train] train_loss: 0.433 train_accuracy: 0.817 \n",
      "\n"
     ]
    },
    {
     "name": "stdout",
     "output_type": "stream",
     "text": [
      "Epoch 24: 100%|██████████| 8/8 [00:00<00:00, 26.99it/s, loss=0.422, train_loss=0.417, train_accuracy=0.875]"
     ]
    },
    {
     "name": "stderr",
     "output_type": "stream",
     "text": [
      "[2025-02-14 14:16:55] INFO (torcheeg/MainThread) \n",
      "[Train] train_loss: 0.402 train_accuracy: 0.867 \n",
      "\n"
     ]
    },
    {
     "name": "stdout",
     "output_type": "stream",
     "text": [
      "Epoch 25: 100%|██████████| 8/8 [00:00<00:00, 27.56it/s, loss=0.423, train_loss=0.514, train_accuracy=0.750]"
     ]
    },
    {
     "name": "stderr",
     "output_type": "stream",
     "text": [
      "[2025-02-14 14:16:55] INFO (torcheeg/MainThread) \n",
      "[Train] train_loss: 0.409 train_accuracy: 0.850 \n",
      "\n"
     ]
    },
    {
     "name": "stdout",
     "output_type": "stream",
     "text": [
      "Epoch 26: 100%|██████████| 8/8 [00:00<00:00, 27.68it/s, loss=0.392, train_loss=0.409, train_accuracy=0.875]"
     ]
    },
    {
     "name": "stderr",
     "output_type": "stream",
     "text": [
      "[2025-02-14 14:16:55] INFO (torcheeg/MainThread) \n",
      "[Train] train_loss: 0.402 train_accuracy: 0.842 \n",
      "\n"
     ]
    },
    {
     "name": "stdout",
     "output_type": "stream",
     "text": [
      "Epoch 27: 100%|██████████| 8/8 [00:00<00:00, 27.92it/s, loss=0.39, train_loss=0.393, train_accuracy=0.875] "
     ]
    },
    {
     "name": "stderr",
     "output_type": "stream",
     "text": [
      "[2025-02-14 14:16:56] INFO (torcheeg/MainThread) \n",
      "[Train] train_loss: 0.371 train_accuracy: 0.875 \n",
      "\n"
     ]
    },
    {
     "name": "stdout",
     "output_type": "stream",
     "text": [
      "Epoch 28: 100%|██████████| 8/8 [00:00<00:00, 28.20it/s, loss=0.383, train_loss=0.425, train_accuracy=0.750]"
     ]
    },
    {
     "name": "stderr",
     "output_type": "stream",
     "text": [
      "[2025-02-14 14:16:56] INFO (torcheeg/MainThread) \n",
      "[Train] train_loss: 0.361 train_accuracy: 0.867 \n",
      "\n"
     ]
    },
    {
     "name": "stdout",
     "output_type": "stream",
     "text": [
      "Epoch 29: 100%|██████████| 8/8 [00:00<00:00, 23.29it/s, loss=0.341, train_loss=0.284, train_accuracy=0.875]"
     ]
    },
    {
     "name": "stderr",
     "output_type": "stream",
     "text": [
      "[2025-02-14 14:16:56] INFO (torcheeg/MainThread) \n",
      "[Train] train_loss: 0.323 train_accuracy: 0.917 \n",
      "\n"
     ]
    },
    {
     "name": "stdout",
     "output_type": "stream",
     "text": [
      "Epoch 30: 100%|██████████| 8/8 [00:00<00:00, 23.17it/s, loss=0.333, train_loss=0.301, train_accuracy=0.875]"
     ]
    },
    {
     "name": "stderr",
     "output_type": "stream",
     "text": [
      "[2025-02-14 14:16:57] INFO (torcheeg/MainThread) \n",
      "[Train] train_loss: 0.344 train_accuracy: 0.875 \n",
      "\n"
     ]
    },
    {
     "name": "stdout",
     "output_type": "stream",
     "text": [
      "Epoch 31: 100%|██████████| 8/8 [00:00<00:00, 22.03it/s, loss=0.341, train_loss=0.681, train_accuracy=0.625]"
     ]
    },
    {
     "name": "stderr",
     "output_type": "stream",
     "text": [
      "[2025-02-14 14:16:57] INFO (torcheeg/MainThread) \n",
      "[Train] train_loss: 0.349 train_accuracy: 0.900 \n",
      "\n"
     ]
    },
    {
     "name": "stdout",
     "output_type": "stream",
     "text": [
      "Epoch 32: 100%|██████████| 8/8 [00:00<00:00, 21.71it/s, loss=0.33, train_loss=0.321, train_accuracy=0.875] "
     ]
    },
    {
     "name": "stderr",
     "output_type": "stream",
     "text": [
      "[2025-02-14 14:16:57] INFO (torcheeg/MainThread) \n",
      "[Train] train_loss: 0.312 train_accuracy: 0.883 \n",
      "\n"
     ]
    },
    {
     "name": "stdout",
     "output_type": "stream",
     "text": [
      "Epoch 33: 100%|██████████| 8/8 [00:00<00:00, 21.77it/s, loss=0.324, train_loss=0.230, train_accuracy=1.000]"
     ]
    },
    {
     "name": "stderr",
     "output_type": "stream",
     "text": [
      "Metric train_loss improved by 0.044 >= min_delta = 0.0. New best score: 0.230\n"
     ]
    },
    {
     "name": "stdout",
     "output_type": "stream",
     "text": [
      "Epoch 33: 100%|██████████| 8/8 [00:00<00:00, 21.66it/s, loss=0.324, train_loss=0.230, train_accuracy=1.000]"
     ]
    },
    {
     "name": "stderr",
     "output_type": "stream",
     "text": [
      "[2025-02-14 14:16:58] INFO (torcheeg/MainThread) \n",
      "[Train] train_loss: 0.288 train_accuracy: 0.942 \n",
      "\n"
     ]
    },
    {
     "name": "stdout",
     "output_type": "stream",
     "text": [
      "Epoch 34: 100%|██████████| 8/8 [00:00<00:00, 22.61it/s, loss=0.3, train_loss=0.357, train_accuracy=0.875]  "
     ]
    },
    {
     "name": "stderr",
     "output_type": "stream",
     "text": [
      "[2025-02-14 14:16:58] INFO (torcheeg/MainThread) \n",
      "[Train] train_loss: 0.301 train_accuracy: 0.908 \n",
      "\n"
     ]
    },
    {
     "name": "stdout",
     "output_type": "stream",
     "text": [
      "Epoch 35: 100%|██████████| 8/8 [00:00<00:00, 22.15it/s, loss=0.292, train_loss=0.161, train_accuracy=1.000]"
     ]
    },
    {
     "name": "stderr",
     "output_type": "stream",
     "text": [
      "Metric train_loss improved by 0.069 >= min_delta = 0.0. New best score: 0.161\n"
     ]
    },
    {
     "name": "stdout",
     "output_type": "stream",
     "text": [
      "Epoch 35: 100%|██████████| 8/8 [00:00<00:00, 22.05it/s, loss=0.292, train_loss=0.161, train_accuracy=1.000]"
     ]
    },
    {
     "name": "stderr",
     "output_type": "stream",
     "text": [
      "[2025-02-14 14:16:59] INFO (torcheeg/MainThread) \n",
      "[Train] train_loss: 0.285 train_accuracy: 0.917 \n",
      "\n"
     ]
    },
    {
     "name": "stdout",
     "output_type": "stream",
     "text": [
      "Epoch 36: 100%|██████████| 8/8 [00:00<00:00, 20.35it/s, loss=0.292, train_loss=0.340, train_accuracy=0.875]"
     ]
    },
    {
     "name": "stderr",
     "output_type": "stream",
     "text": [
      "[2025-02-14 14:16:59] INFO (torcheeg/MainThread) \n",
      "[Train] train_loss: 0.281 train_accuracy: 0.908 \n",
      "\n"
     ]
    },
    {
     "name": "stdout",
     "output_type": "stream",
     "text": [
      "Epoch 37: 100%|██████████| 8/8 [00:00<00:00, 22.18it/s, loss=0.274, train_loss=0.306, train_accuracy=0.875]"
     ]
    },
    {
     "name": "stderr",
     "output_type": "stream",
     "text": [
      "[2025-02-14 14:16:59] INFO (torcheeg/MainThread) \n",
      "[Train] train_loss: 0.260 train_accuracy: 0.942 \n",
      "\n"
     ]
    },
    {
     "name": "stdout",
     "output_type": "stream",
     "text": [
      "Epoch 38: 100%|██████████| 8/8 [00:00<00:00, 22.99it/s, loss=0.261, train_loss=0.336, train_accuracy=0.875]"
     ]
    },
    {
     "name": "stderr",
     "output_type": "stream",
     "text": [
      "[2025-02-14 14:17:00] INFO (torcheeg/MainThread) \n",
      "[Train] train_loss: 0.232 train_accuracy: 0.958 \n",
      "\n"
     ]
    },
    {
     "name": "stdout",
     "output_type": "stream",
     "text": [
      "Epoch 39: 100%|██████████| 8/8 [00:00<00:00, 26.89it/s, loss=0.238, train_loss=0.153, train_accuracy=1.000]"
     ]
    },
    {
     "name": "stderr",
     "output_type": "stream",
     "text": [
      "Metric train_loss improved by 0.009 >= min_delta = 0.0. New best score: 0.153\n"
     ]
    },
    {
     "name": "stdout",
     "output_type": "stream",
     "text": [
      "Epoch 39: 100%|██████████| 8/8 [00:00<00:00, 26.74it/s, loss=0.238, train_loss=0.153, train_accuracy=1.000]"
     ]
    },
    {
     "name": "stderr",
     "output_type": "stream",
     "text": [
      "[2025-02-14 14:17:00] INFO (torcheeg/MainThread) \n",
      "[Train] train_loss: 0.242 train_accuracy: 0.908 \n",
      "\n"
     ]
    },
    {
     "name": "stdout",
     "output_type": "stream",
     "text": [
      "Epoch 40: 100%|██████████| 8/8 [00:00<00:00, 27.56it/s, loss=0.228, train_loss=0.267, train_accuracy=1.000]"
     ]
    },
    {
     "name": "stderr",
     "output_type": "stream",
     "text": [
      "[2025-02-14 14:17:00] INFO (torcheeg/MainThread) \n",
      "[Train] train_loss: 0.205 train_accuracy: 0.958 \n",
      "\n"
     ]
    },
    {
     "name": "stdout",
     "output_type": "stream",
     "text": [
      "Epoch 41: 100%|██████████| 8/8 [00:00<00:00, 26.32it/s, loss=0.202, train_loss=0.0922, train_accuracy=1.000]"
     ]
    },
    {
     "name": "stderr",
     "output_type": "stream",
     "text": [
      "Metric train_loss improved by 0.060 >= min_delta = 0.0. New best score: 0.092\n"
     ]
    },
    {
     "name": "stdout",
     "output_type": "stream",
     "text": [
      "Epoch 41: 100%|██████████| 8/8 [00:00<00:00, 26.17it/s, loss=0.202, train_loss=0.0922, train_accuracy=1.000]"
     ]
    },
    {
     "name": "stderr",
     "output_type": "stream",
     "text": [
      "[2025-02-14 14:17:01] INFO (torcheeg/MainThread) \n",
      "[Train] train_loss: 0.195 train_accuracy: 0.958 \n",
      "\n"
     ]
    },
    {
     "name": "stdout",
     "output_type": "stream",
     "text": [
      "Epoch 42: 100%|██████████| 8/8 [00:00<00:00, 27.32it/s, loss=0.216, train_loss=0.415, train_accuracy=0.750] "
     ]
    },
    {
     "name": "stderr",
     "output_type": "stream",
     "text": [
      "[2025-02-14 14:17:01] INFO (torcheeg/MainThread) \n",
      "[Train] train_loss: 0.236 train_accuracy: 0.942 \n",
      "\n"
     ]
    },
    {
     "name": "stdout",
     "output_type": "stream",
     "text": [
      "Epoch 43: 100%|██████████| 8/8 [00:00<00:00, 26.51it/s, loss=0.197, train_loss=0.183, train_accuracy=0.875]"
     ]
    },
    {
     "name": "stderr",
     "output_type": "stream",
     "text": [
      "[2025-02-14 14:17:01] INFO (torcheeg/MainThread) \n",
      "[Train] train_loss: 0.170 train_accuracy: 0.967 \n",
      "\n"
     ]
    },
    {
     "name": "stdout",
     "output_type": "stream",
     "text": [
      "Epoch 44: 100%|██████████| 8/8 [00:00<00:00, 28.61it/s, loss=0.198, train_loss=0.191, train_accuracy=1.000]"
     ]
    },
    {
     "name": "stderr",
     "output_type": "stream",
     "text": [
      "[2025-02-14 14:17:01] INFO (torcheeg/MainThread) \n",
      "[Train] train_loss: 0.197 train_accuracy: 0.967 \n",
      "\n"
     ]
    },
    {
     "name": "stdout",
     "output_type": "stream",
     "text": [
      "Epoch 45: 100%|██████████| 8/8 [00:00<00:00, 26.90it/s, loss=0.182, train_loss=0.201, train_accuracy=0.875] "
     ]
    },
    {
     "name": "stderr",
     "output_type": "stream",
     "text": [
      "[2025-02-14 14:17:02] INFO (torcheeg/MainThread) \n",
      "[Train] train_loss: 0.164 train_accuracy: 0.950 \n",
      "\n"
     ]
    },
    {
     "name": "stdout",
     "output_type": "stream",
     "text": [
      "Epoch 46: 100%|██████████| 8/8 [00:00<00:00, 27.97it/s, loss=0.169, train_loss=0.171, train_accuracy=1.000]"
     ]
    },
    {
     "name": "stderr",
     "output_type": "stream",
     "text": [
      "[2025-02-14 14:17:02] INFO (torcheeg/MainThread) \n",
      "[Train] train_loss: 0.164 train_accuracy: 0.958 \n",
      "\n"
     ]
    },
    {
     "name": "stdout",
     "output_type": "stream",
     "text": [
      "Epoch 47: 100%|██████████| 8/8 [00:00<00:00, 27.90it/s, loss=0.165, train_loss=0.118, train_accuracy=1.000]"
     ]
    },
    {
     "name": "stderr",
     "output_type": "stream",
     "text": [
      "[2025-02-14 14:17:02] INFO (torcheeg/MainThread) \n",
      "[Train] train_loss: 0.152 train_accuracy: 0.975 \n",
      "\n"
     ]
    },
    {
     "name": "stdout",
     "output_type": "stream",
     "text": [
      "Epoch 48: 100%|██████████| 8/8 [00:00<00:00, 27.93it/s, loss=0.151, train_loss=0.110, train_accuracy=1.000] "
     ]
    },
    {
     "name": "stderr",
     "output_type": "stream",
     "text": [
      "[2025-02-14 14:17:03] INFO (torcheeg/MainThread) \n",
      "[Train] train_loss: 0.140 train_accuracy: 0.992 \n",
      "\n"
     ]
    },
    {
     "name": "stdout",
     "output_type": "stream",
     "text": [
      "Epoch 49: 100%|██████████| 8/8 [00:00<00:00, 28.01it/s, loss=0.149, train_loss=0.234, train_accuracy=0.875]"
     ]
    },
    {
     "name": "stderr",
     "output_type": "stream",
     "text": [
      "[2025-02-14 14:17:03] INFO (torcheeg/MainThread) \n",
      "[Train] train_loss: 0.152 train_accuracy: 0.958 \n",
      "\n"
     ]
    },
    {
     "name": "stdout",
     "output_type": "stream",
     "text": [
      "Epoch 50: 100%|██████████| 8/8 [00:00<00:00, 27.15it/s, loss=0.141, train_loss=0.0811, train_accuracy=1.000]"
     ]
    },
    {
     "name": "stderr",
     "output_type": "stream",
     "text": [
      "Metric train_loss improved by 0.011 >= min_delta = 0.0. New best score: 0.081\n"
     ]
    },
    {
     "name": "stdout",
     "output_type": "stream",
     "text": [
      "Epoch 50: 100%|██████████| 8/8 [00:00<00:00, 27.01it/s, loss=0.141, train_loss=0.0811, train_accuracy=1.000]"
     ]
    },
    {
     "name": "stderr",
     "output_type": "stream",
     "text": [
      "[2025-02-14 14:17:03] INFO (torcheeg/MainThread) \n",
      "[Train] train_loss: 0.131 train_accuracy: 0.967 \n",
      "\n"
     ]
    },
    {
     "name": "stdout",
     "output_type": "stream",
     "text": [
      "Epoch 51: 100%|██████████| 8/8 [00:00<00:00, 27.36it/s, loss=0.143, train_loss=0.326, train_accuracy=0.875] "
     ]
    },
    {
     "name": "stderr",
     "output_type": "stream",
     "text": [
      "[2025-02-14 14:17:04] INFO (torcheeg/MainThread) \n",
      "[Train] train_loss: 0.142 train_accuracy: 0.967 \n",
      "\n"
     ]
    },
    {
     "name": "stdout",
     "output_type": "stream",
     "text": [
      "Epoch 52: 100%|██████████| 8/8 [00:00<00:00, 27.89it/s, loss=0.126, train_loss=0.180, train_accuracy=1.000] "
     ]
    },
    {
     "name": "stderr",
     "output_type": "stream",
     "text": [
      "[2025-02-14 14:17:04] INFO (torcheeg/MainThread) \n",
      "[Train] train_loss: 0.111 train_accuracy: 0.992 \n",
      "\n"
     ]
    },
    {
     "name": "stdout",
     "output_type": "stream",
     "text": [
      "Epoch 53: 100%|██████████| 8/8 [00:00<00:00, 25.78it/s, loss=0.13, train_loss=0.175, train_accuracy=0.875] "
     ]
    },
    {
     "name": "stderr",
     "output_type": "stream",
     "text": [
      "[2025-02-14 14:17:04] INFO (torcheeg/MainThread) \n",
      "[Train] train_loss: 0.126 train_accuracy: 0.983 \n",
      "\n"
     ]
    },
    {
     "name": "stdout",
     "output_type": "stream",
     "text": [
      "Epoch 54: 100%|██████████| 8/8 [00:00<00:00, 28.75it/s, loss=0.111, train_loss=0.0681, train_accuracy=1.000]"
     ]
    },
    {
     "name": "stderr",
     "output_type": "stream",
     "text": [
      "Metric train_loss improved by 0.013 >= min_delta = 0.0. New best score: 0.068\n"
     ]
    },
    {
     "name": "stdout",
     "output_type": "stream",
     "text": [
      "Epoch 54: 100%|██████████| 8/8 [00:00<00:00, 28.59it/s, loss=0.111, train_loss=0.0681, train_accuracy=1.000]"
     ]
    },
    {
     "name": "stderr",
     "output_type": "stream",
     "text": [
      "[2025-02-14 14:17:04] INFO (torcheeg/MainThread) \n",
      "[Train] train_loss: 0.090 train_accuracy: 0.992 \n",
      "\n"
     ]
    },
    {
     "name": "stdout",
     "output_type": "stream",
     "text": [
      "Epoch 55: 100%|██████████| 8/8 [00:00<00:00, 28.24it/s, loss=0.105, train_loss=0.0161, train_accuracy=1.000]"
     ]
    },
    {
     "name": "stderr",
     "output_type": "stream",
     "text": [
      "Metric train_loss improved by 0.052 >= min_delta = 0.0. New best score: 0.016\n"
     ]
    },
    {
     "name": "stdout",
     "output_type": "stream",
     "text": [
      "Epoch 55: 100%|██████████| 8/8 [00:00<00:00, 28.09it/s, loss=0.105, train_loss=0.0161, train_accuracy=1.000]"
     ]
    },
    {
     "name": "stderr",
     "output_type": "stream",
     "text": [
      "[2025-02-14 14:17:05] INFO (torcheeg/MainThread) \n",
      "[Train] train_loss: 0.105 train_accuracy: 0.983 \n",
      "\n"
     ]
    },
    {
     "name": "stdout",
     "output_type": "stream",
     "text": [
      "Epoch 56: 100%|██████████| 8/8 [00:00<00:00, 27.87it/s, loss=0.0917, train_loss=0.108, train_accuracy=1.000] "
     ]
    },
    {
     "name": "stderr",
     "output_type": "stream",
     "text": [
      "[2025-02-14 14:17:05] INFO (torcheeg/MainThread) \n",
      "[Train] train_loss: 0.084 train_accuracy: 0.992 \n",
      "\n"
     ]
    },
    {
     "name": "stdout",
     "output_type": "stream",
     "text": [
      "Epoch 57: 100%|██████████| 8/8 [00:00<00:00, 27.30it/s, loss=0.0805, train_loss=0.0695, train_accuracy=1.000]"
     ]
    },
    {
     "name": "stderr",
     "output_type": "stream",
     "text": [
      "[2025-02-14 14:17:05] INFO (torcheeg/MainThread) \n",
      "[Train] train_loss: 0.077 train_accuracy: 1.000 \n",
      "\n"
     ]
    },
    {
     "name": "stdout",
     "output_type": "stream",
     "text": [
      "Epoch 58: 100%|██████████| 8/8 [00:00<00:00, 27.27it/s, loss=0.0857, train_loss=0.094, train_accuracy=1.000] "
     ]
    },
    {
     "name": "stderr",
     "output_type": "stream",
     "text": [
      "[2025-02-14 14:17:06] INFO (torcheeg/MainThread) \n",
      "[Train] train_loss: 0.092 train_accuracy: 0.992 \n",
      "\n"
     ]
    },
    {
     "name": "stdout",
     "output_type": "stream",
     "text": [
      "Epoch 59: 100%|██████████| 8/8 [00:00<00:00, 27.33it/s, loss=0.0856, train_loss=0.133, train_accuracy=0.875] "
     ]
    },
    {
     "name": "stderr",
     "output_type": "stream",
     "text": [
      "[2025-02-14 14:17:06] INFO (torcheeg/MainThread) \n",
      "[Train] train_loss: 0.079 train_accuracy: 0.992 \n",
      "\n"
     ]
    },
    {
     "name": "stdout",
     "output_type": "stream",
     "text": [
      "Epoch 60: 100%|██████████| 8/8 [00:00<00:00, 28.01it/s, loss=0.0811, train_loss=0.0719, train_accuracy=1.000]"
     ]
    },
    {
     "name": "stderr",
     "output_type": "stream",
     "text": [
      "[2025-02-14 14:17:06] INFO (torcheeg/MainThread) \n",
      "[Train] train_loss: 0.090 train_accuracy: 1.000 \n",
      "\n"
     ]
    },
    {
     "name": "stdout",
     "output_type": "stream",
     "text": [
      "Epoch 61: 100%|██████████| 8/8 [00:00<00:00, 28.15it/s, loss=0.0766, train_loss=0.0227, train_accuracy=1.000]"
     ]
    },
    {
     "name": "stderr",
     "output_type": "stream",
     "text": [
      "[2025-02-14 14:17:06] INFO (torcheeg/MainThread) \n",
      "[Train] train_loss: 0.061 train_accuracy: 1.000 \n",
      "\n"
     ]
    },
    {
     "name": "stdout",
     "output_type": "stream",
     "text": [
      "Epoch 62: 100%|██████████| 8/8 [00:00<00:00, 27.96it/s, loss=0.0775, train_loss=0.104, train_accuracy=1.000] "
     ]
    },
    {
     "name": "stderr",
     "output_type": "stream",
     "text": [
      "[2025-02-14 14:17:07] INFO (torcheeg/MainThread) \n",
      "[Train] train_loss: 0.089 train_accuracy: 0.983 \n",
      "\n"
     ]
    },
    {
     "name": "stdout",
     "output_type": "stream",
     "text": [
      "Epoch 63: 100%|██████████| 8/8 [00:00<00:00, 27.15it/s, loss=0.0677, train_loss=0.0655, train_accuracy=1.000]"
     ]
    },
    {
     "name": "stderr",
     "output_type": "stream",
     "text": [
      "[2025-02-14 14:17:07] INFO (torcheeg/MainThread) \n",
      "[Train] train_loss: 0.055 train_accuracy: 1.000 \n",
      "\n"
     ]
    },
    {
     "name": "stdout",
     "output_type": "stream",
     "text": [
      "Epoch 64: 100%|██████████| 8/8 [00:00<00:00, 28.03it/s, loss=0.0684, train_loss=0.0652, train_accuracy=1.000]"
     ]
    },
    {
     "name": "stderr",
     "output_type": "stream",
     "text": [
      "[2025-02-14 14:17:07] INFO (torcheeg/MainThread) \n",
      "[Train] train_loss: 0.064 train_accuracy: 1.000 \n",
      "\n"
     ]
    },
    {
     "name": "stdout",
     "output_type": "stream",
     "text": [
      "Epoch 65: 100%|██████████| 8/8 [00:00<00:00, 26.59it/s, loss=0.0656, train_loss=0.0651, train_accuracy=1.000]"
     ]
    },
    {
     "name": "stderr",
     "output_type": "stream",
     "text": [
      "[2025-02-14 14:17:08] INFO (torcheeg/MainThread) \n",
      "[Train] train_loss: 0.064 train_accuracy: 0.992 \n",
      "\n"
     ]
    },
    {
     "name": "stdout",
     "output_type": "stream",
     "text": [
      "Epoch 66: 100%|██████████| 8/8 [00:00<00:00, 27.90it/s, loss=0.059, train_loss=0.036, train_accuracy=1.000]  "
     ]
    },
    {
     "name": "stderr",
     "output_type": "stream",
     "text": [
      "[2025-02-14 14:17:08] INFO (torcheeg/MainThread) \n",
      "[Train] train_loss: 0.050 train_accuracy: 1.000 \n",
      "\n"
     ]
    },
    {
     "name": "stdout",
     "output_type": "stream",
     "text": [
      "Epoch 67: 100%|██████████| 8/8 [00:00<00:00, 28.51it/s, loss=0.0648, train_loss=0.0713, train_accuracy=1.000]"
     ]
    },
    {
     "name": "stderr",
     "output_type": "stream",
     "text": [
      "[2025-02-14 14:17:08] INFO (torcheeg/MainThread) \n",
      "[Train] train_loss: 0.067 train_accuracy: 1.000 \n",
      "\n"
     ]
    },
    {
     "name": "stdout",
     "output_type": "stream",
     "text": [
      "Epoch 68: 100%|██████████| 8/8 [00:00<00:00, 28.21it/s, loss=0.0712, train_loss=0.135, train_accuracy=1.000] "
     ]
    },
    {
     "name": "stderr",
     "output_type": "stream",
     "text": [
      "[2025-02-14 14:17:08] INFO (torcheeg/MainThread) \n",
      "[Train] train_loss: 0.087 train_accuracy: 0.992 \n",
      "\n"
     ]
    },
    {
     "name": "stdout",
     "output_type": "stream",
     "text": [
      "Epoch 69: 100%|██████████| 8/8 [00:00<00:00, 27.17it/s, loss=0.0719, train_loss=0.0387, train_accuracy=1.000]"
     ]
    },
    {
     "name": "stderr",
     "output_type": "stream",
     "text": [
      "[2025-02-14 14:17:09] INFO (torcheeg/MainThread) \n",
      "[Train] train_loss: 0.058 train_accuracy: 0.992 \n",
      "\n"
     ]
    },
    {
     "name": "stdout",
     "output_type": "stream",
     "text": [
      "Epoch 70: 100%|██████████| 8/8 [00:00<00:00, 28.52it/s, loss=0.067, train_loss=0.0706, train_accuracy=1.000] "
     ]
    },
    {
     "name": "stderr",
     "output_type": "stream",
     "text": [
      "[2025-02-14 14:17:09] INFO (torcheeg/MainThread) \n",
      "[Train] train_loss: 0.056 train_accuracy: 0.992 \n",
      "\n"
     ]
    },
    {
     "name": "stdout",
     "output_type": "stream",
     "text": [
      "Epoch 71: 100%|██████████| 8/8 [00:00<00:00, 27.68it/s, loss=0.0602, train_loss=0.0942, train_accuracy=1.000]"
     ]
    },
    {
     "name": "stderr",
     "output_type": "stream",
     "text": [
      "[2025-02-14 14:17:09] INFO (torcheeg/MainThread) \n",
      "[Train] train_loss: 0.068 train_accuracy: 1.000 \n",
      "\n"
     ]
    },
    {
     "name": "stdout",
     "output_type": "stream",
     "text": [
      "Epoch 72: 100%|██████████| 8/8 [00:00<00:00, 26.96it/s, loss=0.0648, train_loss=0.153, train_accuracy=0.875] "
     ]
    },
    {
     "name": "stderr",
     "output_type": "stream",
     "text": [
      "[2025-02-14 14:17:10] INFO (torcheeg/MainThread) \n",
      "[Train] train_loss: 0.072 train_accuracy: 0.983 \n",
      "\n"
     ]
    },
    {
     "name": "stdout",
     "output_type": "stream",
     "text": [
      "Epoch 73: 100%|██████████| 8/8 [00:00<00:00, 26.07it/s, loss=0.0637, train_loss=0.0382, train_accuracy=1.000]"
     ]
    },
    {
     "name": "stderr",
     "output_type": "stream",
     "text": [
      "[2025-02-14 14:17:10] INFO (torcheeg/MainThread) \n",
      "[Train] train_loss: 0.053 train_accuracy: 0.992 \n",
      "\n"
     ]
    },
    {
     "name": "stdout",
     "output_type": "stream",
     "text": [
      "Epoch 74: 100%|██████████| 8/8 [00:00<00:00, 27.80it/s, loss=0.0603, train_loss=0.0445, train_accuracy=1.000]"
     ]
    },
    {
     "name": "stderr",
     "output_type": "stream",
     "text": [
      "[2025-02-14 14:17:10] INFO (torcheeg/MainThread) \n",
      "[Train] train_loss: 0.046 train_accuracy: 0.992 \n",
      "\n"
     ]
    },
    {
     "name": "stdout",
     "output_type": "stream",
     "text": [
      "Epoch 75: 100%|██████████| 8/8 [00:00<00:00, 28.67it/s, loss=0.0484, train_loss=0.0126, train_accuracy=1.000]"
     ]
    },
    {
     "name": "stderr",
     "output_type": "stream",
     "text": [
      "Metric train_loss improved by 0.004 >= min_delta = 0.0. New best score: 0.013\n"
     ]
    },
    {
     "name": "stdout",
     "output_type": "stream",
     "text": [
      "Epoch 75: 100%|██████████| 8/8 [00:00<00:00, 28.52it/s, loss=0.0484, train_loss=0.0126, train_accuracy=1.000]"
     ]
    },
    {
     "name": "stderr",
     "output_type": "stream",
     "text": [
      "[2025-02-14 14:17:11] INFO (torcheeg/MainThread) \n",
      "[Train] train_loss: 0.051 train_accuracy: 0.983 \n",
      "\n"
     ]
    },
    {
     "name": "stdout",
     "output_type": "stream",
     "text": [
      "Epoch 76: 100%|██████████| 8/8 [00:00<00:00, 28.51it/s, loss=0.041, train_loss=0.0259, train_accuracy=1.000]  "
     ]
    },
    {
     "name": "stderr",
     "output_type": "stream",
     "text": [
      "[2025-02-14 14:17:11] INFO (torcheeg/MainThread) \n",
      "[Train] train_loss: 0.035 train_accuracy: 0.992 \n",
      "\n"
     ]
    },
    {
     "name": "stdout",
     "output_type": "stream",
     "text": [
      "Epoch 77: 100%|██████████| 8/8 [00:00<00:00, 27.09it/s, loss=0.0453, train_loss=0.0583, train_accuracy=1.000]"
     ]
    },
    {
     "name": "stderr",
     "output_type": "stream",
     "text": [
      "[2025-02-14 14:17:11] INFO (torcheeg/MainThread) \n",
      "[Train] train_loss: 0.055 train_accuracy: 0.992 \n",
      "\n"
     ]
    },
    {
     "name": "stdout",
     "output_type": "stream",
     "text": [
      "Epoch 78: 100%|██████████| 8/8 [00:00<00:00, 26.21it/s, loss=0.05, train_loss=0.105, train_accuracy=1.000]   "
     ]
    },
    {
     "name": "stderr",
     "output_type": "stream",
     "text": [
      "[2025-02-14 14:17:11] INFO (torcheeg/MainThread) \n",
      "[Train] train_loss: 0.045 train_accuracy: 1.000 \n",
      "\n"
     ]
    },
    {
     "name": "stdout",
     "output_type": "stream",
     "text": [
      "Epoch 79: 100%|██████████| 8/8 [00:00<00:00, 25.63it/s, loss=0.0484, train_loss=0.0491, train_accuracy=1.000]"
     ]
    },
    {
     "name": "stderr",
     "output_type": "stream",
     "text": [
      "[2025-02-14 14:17:12] INFO (torcheeg/MainThread) \n",
      "[Train] train_loss: 0.054 train_accuracy: 0.992 \n",
      "\n"
     ]
    },
    {
     "name": "stdout",
     "output_type": "stream",
     "text": [
      "Epoch 80: 100%|██████████| 8/8 [00:00<00:00, 25.81it/s, loss=0.0485, train_loss=0.0348, train_accuracy=1.000]"
     ]
    },
    {
     "name": "stderr",
     "output_type": "stream",
     "text": [
      "[2025-02-14 14:17:12] INFO (torcheeg/MainThread) \n",
      "[Train] train_loss: 0.042 train_accuracy: 0.992 \n",
      "\n"
     ]
    },
    {
     "name": "stdout",
     "output_type": "stream",
     "text": [
      "Epoch 81: 100%|██████████| 8/8 [00:00<00:00, 26.29it/s, loss=0.0462, train_loss=0.0227, train_accuracy=1.000]"
     ]
    },
    {
     "name": "stderr",
     "output_type": "stream",
     "text": [
      "[2025-02-14 14:17:12] INFO (torcheeg/MainThread) \n",
      "[Train] train_loss: 0.037 train_accuracy: 1.000 \n",
      "\n"
     ]
    },
    {
     "name": "stdout",
     "output_type": "stream",
     "text": [
      "Epoch 82: 100%|██████████| 8/8 [00:00<00:00, 26.20it/s, loss=0.0433, train_loss=0.025, train_accuracy=1.000] "
     ]
    },
    {
     "name": "stderr",
     "output_type": "stream",
     "text": [
      "[2025-02-14 14:17:13] INFO (torcheeg/MainThread) \n",
      "[Train] train_loss: 0.044 train_accuracy: 0.992 \n",
      "\n"
     ]
    },
    {
     "name": "stdout",
     "output_type": "stream",
     "text": [
      "Epoch 83: 100%|██████████| 8/8 [00:00<00:00, 25.64it/s, loss=0.0342, train_loss=0.0429, train_accuracy=1.000] "
     ]
    },
    {
     "name": "stderr",
     "output_type": "stream",
     "text": [
      "[2025-02-14 14:17:13] INFO (torcheeg/MainThread) \n",
      "[Train] train_loss: 0.027 train_accuracy: 1.000 \n",
      "\n"
     ]
    },
    {
     "name": "stdout",
     "output_type": "stream",
     "text": [
      "Epoch 84: 100%|██████████| 8/8 [00:00<00:00, 25.73it/s, loss=0.0351, train_loss=0.0428, train_accuracy=1.000]"
     ]
    },
    {
     "name": "stderr",
     "output_type": "stream",
     "text": [
      "[2025-02-14 14:17:13] INFO (torcheeg/MainThread) \n",
      "[Train] train_loss: 0.047 train_accuracy: 0.992 \n",
      "\n"
     ]
    },
    {
     "name": "stdout",
     "output_type": "stream",
     "text": [
      "Epoch 85: 100%|██████████| 8/8 [00:00<00:00, 25.08it/s, loss=0.0304, train_loss=0.0276, train_accuracy=1.000] "
     ]
    },
    {
     "name": "stderr",
     "output_type": "stream",
     "text": [
      "[2025-02-14 14:17:14] INFO (torcheeg/MainThread) \n",
      "[Train] train_loss: 0.019 train_accuracy: 1.000 \n",
      "\n"
     ]
    },
    {
     "name": "stdout",
     "output_type": "stream",
     "text": [
      "Epoch 86: 100%|██████████| 8/8 [00:00<00:00, 25.83it/s, loss=0.0285, train_loss=0.0166, train_accuracy=1.000] "
     ]
    },
    {
     "name": "stderr",
     "output_type": "stream",
     "text": [
      "[2025-02-14 14:17:14] INFO (torcheeg/MainThread) \n",
      "[Train] train_loss: 0.033 train_accuracy: 1.000 \n",
      "\n"
     ]
    },
    {
     "name": "stdout",
     "output_type": "stream",
     "text": [
      "Epoch 87: 100%|██████████| 8/8 [00:00<00:00, 26.52it/s, loss=0.0319, train_loss=0.0313, train_accuracy=1.000]"
     ]
    },
    {
     "name": "stderr",
     "output_type": "stream",
     "text": [
      "[2025-02-14 14:17:14] INFO (torcheeg/MainThread) \n",
      "[Train] train_loss: 0.035 train_accuracy: 1.000 \n",
      "\n"
     ]
    },
    {
     "name": "stdout",
     "output_type": "stream",
     "text": [
      "Epoch 88: 100%|██████████| 8/8 [00:00<00:00, 25.41it/s, loss=0.0323, train_loss=0.0271, train_accuracy=1.000] "
     ]
    },
    {
     "name": "stderr",
     "output_type": "stream",
     "text": [
      "[2025-02-14 14:17:15] INFO (torcheeg/MainThread) \n",
      "[Train] train_loss: 0.035 train_accuracy: 1.000 \n",
      "\n"
     ]
    },
    {
     "name": "stdout",
     "output_type": "stream",
     "text": [
      "Epoch 89: 100%|██████████| 8/8 [00:00<00:00, 25.55it/s, loss=0.0302, train_loss=0.0388, train_accuracy=1.000] "
     ]
    },
    {
     "name": "stderr",
     "output_type": "stream",
     "text": [
      "[2025-02-14 14:17:15] INFO (torcheeg/MainThread) \n",
      "[Train] train_loss: 0.027 train_accuracy: 1.000 \n",
      "\n"
     ]
    },
    {
     "name": "stdout",
     "output_type": "stream",
     "text": [
      "Epoch 90: 100%|██████████| 8/8 [00:00<00:00, 25.80it/s, loss=0.03, train_loss=0.0162, train_accuracy=1.000]  "
     ]
    },
    {
     "name": "stderr",
     "output_type": "stream",
     "text": [
      "[2025-02-14 14:17:15] INFO (torcheeg/MainThread) \n",
      "[Train] train_loss: 0.027 train_accuracy: 1.000 \n",
      "\n"
     ]
    },
    {
     "name": "stdout",
     "output_type": "stream",
     "text": [
      "Epoch 91: 100%|██████████| 8/8 [00:00<00:00, 25.47it/s, loss=0.0309, train_loss=0.0185, train_accuracy=1.000] "
     ]
    },
    {
     "name": "stderr",
     "output_type": "stream",
     "text": [
      "[2025-02-14 14:17:16] INFO (torcheeg/MainThread) \n",
      "[Train] train_loss: 0.034 train_accuracy: 0.992 \n",
      "\n"
     ]
    },
    {
     "name": "stdout",
     "output_type": "stream",
     "text": [
      "Epoch 92: 100%|██████████| 8/8 [00:00<00:00, 25.53it/s, loss=0.0362, train_loss=0.0159, train_accuracy=1.000] "
     ]
    },
    {
     "name": "stderr",
     "output_type": "stream",
     "text": [
      "[2025-02-14 14:17:16] INFO (torcheeg/MainThread) \n",
      "[Train] train_loss: 0.042 train_accuracy: 0.992 \n",
      "\n"
     ]
    },
    {
     "name": "stdout",
     "output_type": "stream",
     "text": [
      "Epoch 93: 100%|██████████| 8/8 [00:00<00:00, 25.89it/s, loss=0.033, train_loss=0.00972, train_accuracy=1.000] "
     ]
    },
    {
     "name": "stderr",
     "output_type": "stream",
     "text": [
      "Metric train_loss improved by 0.003 >= min_delta = 0.0. New best score: 0.010\n"
     ]
    },
    {
     "name": "stdout",
     "output_type": "stream",
     "text": [
      "Epoch 93: 100%|██████████| 8/8 [00:00<00:00, 25.74it/s, loss=0.033, train_loss=0.00972, train_accuracy=1.000]"
     ]
    },
    {
     "name": "stderr",
     "output_type": "stream",
     "text": [
      "[2025-02-14 14:17:16] INFO (torcheeg/MainThread) \n",
      "[Train] train_loss: 0.021 train_accuracy: 1.000 \n",
      "\n"
     ]
    },
    {
     "name": "stdout",
     "output_type": "stream",
     "text": [
      "Epoch 94: 100%|██████████| 8/8 [00:00<00:00, 26.08it/s, loss=0.0269, train_loss=0.0234, train_accuracy=1.000]"
     ]
    },
    {
     "name": "stderr",
     "output_type": "stream",
     "text": [
      "[2025-02-14 14:17:16] INFO (torcheeg/MainThread) \n",
      "[Train] train_loss: 0.038 train_accuracy: 1.000 \n",
      "\n"
     ]
    },
    {
     "name": "stdout",
     "output_type": "stream",
     "text": [
      "Epoch 95: 100%|██████████| 8/8 [00:00<00:00, 25.92it/s, loss=0.0262, train_loss=0.00815, train_accuracy=1.000]"
     ]
    },
    {
     "name": "stderr",
     "output_type": "stream",
     "text": [
      "Metric train_loss improved by 0.002 >= min_delta = 0.0. New best score: 0.008\n"
     ]
    },
    {
     "name": "stdout",
     "output_type": "stream",
     "text": [
      "Epoch 95: 100%|██████████| 8/8 [00:00<00:00, 25.79it/s, loss=0.0262, train_loss=0.00815, train_accuracy=1.000]"
     ]
    },
    {
     "name": "stderr",
     "output_type": "stream",
     "text": [
      "[2025-02-14 14:17:17] INFO (torcheeg/MainThread) \n",
      "[Train] train_loss: 0.020 train_accuracy: 1.000 \n",
      "\n"
     ]
    },
    {
     "name": "stdout",
     "output_type": "stream",
     "text": [
      "Epoch 96: 100%|██████████| 8/8 [00:00<00:00, 26.03it/s, loss=0.0251, train_loss=0.00369, train_accuracy=1.000]"
     ]
    },
    {
     "name": "stderr",
     "output_type": "stream",
     "text": [
      "Metric train_loss improved by 0.004 >= min_delta = 0.0. New best score: 0.004\n"
     ]
    },
    {
     "name": "stdout",
     "output_type": "stream",
     "text": [
      "Epoch 96: 100%|██████████| 8/8 [00:00<00:00, 25.90it/s, loss=0.0251, train_loss=0.00369, train_accuracy=1.000]"
     ]
    },
    {
     "name": "stderr",
     "output_type": "stream",
     "text": [
      "[2025-02-14 14:17:17] INFO (torcheeg/MainThread) \n",
      "[Train] train_loss: 0.027 train_accuracy: 0.992 \n",
      "\n"
     ]
    },
    {
     "name": "stdout",
     "output_type": "stream",
     "text": [
      "Epoch 97: 100%|██████████| 8/8 [00:00<00:00, 26.11it/s, loss=0.0231, train_loss=0.00511, train_accuracy=1.000]"
     ]
    },
    {
     "name": "stderr",
     "output_type": "stream",
     "text": [
      "[2025-02-14 14:17:17] INFO (torcheeg/MainThread) \n",
      "[Train] train_loss: 0.023 train_accuracy: 1.000 \n",
      "\n"
     ]
    },
    {
     "name": "stdout",
     "output_type": "stream",
     "text": [
      "Epoch 98: 100%|██████████| 8/8 [00:00<00:00, 26.04it/s, loss=0.0285, train_loss=0.0215, train_accuracy=1.000] "
     ]
    },
    {
     "name": "stderr",
     "output_type": "stream",
     "text": [
      "[2025-02-14 14:17:18] INFO (torcheeg/MainThread) \n",
      "[Train] train_loss: 0.029 train_accuracy: 0.992 \n",
      "\n"
     ]
    },
    {
     "name": "stdout",
     "output_type": "stream",
     "text": [
      "Epoch 99: 100%|██████████| 8/8 [00:00<00:00, 26.25it/s, loss=0.0277, train_loss=0.0266, train_accuracy=1.000] "
     ]
    },
    {
     "name": "stderr",
     "output_type": "stream",
     "text": [
      "[2025-02-14 14:17:18] INFO (torcheeg/MainThread) \n",
      "[Train] train_loss: 0.029 train_accuracy: 0.992 \n",
      "\n",
      "`Trainer.fit` stopped: `max_epochs=100` reached.\n"
     ]
    },
    {
     "name": "stdout",
     "output_type": "stream",
     "text": [
      "Epoch 99: 100%|██████████| 8/8 [00:00<00:00, 25.98it/s, loss=0.0277, train_loss=0.0266, train_accuracy=1.000]\n"
     ]
    },
    {
     "name": "stderr",
     "output_type": "stream",
     "text": [
      "GPU available: True (cuda), used: True\n",
      "TPU available: False, using: 0 TPU cores\n",
      "IPU available: False, using: 0 IPUs\n",
      "HPU available: False, using: 0 HPUs\n",
      "Missing logger folder: /root/autodl-tmp/.autodl/kinlaw/GANSER/mycode/lightning_logs\n",
      "LOCAL_RANK: 0 - CUDA_VISIBLE_DEVICES: [0]\n",
      "/root/autodl-tmp/conda/envs/law/lib/python3.8/site-packages/pytorch_lightning/trainer/connectors/data_connector.py:224: PossibleUserWarning: The dataloader, test_dataloader 0, does not have many workers which may be a bottleneck. Consider increasing the value of the `num_workers` argument` (try 128 which is the number of cpus on this machine) in the `DataLoader` init to improve performance.\n",
      "  rank_zero_warn(\n"
     ]
    },
    {
     "name": "stdout",
     "output_type": "stream",
     "text": [
      "Testing DataLoader 0: 100%|██████████| 3/3 [00:00<00:00, 95.98it/s] "
     ]
    },
    {
     "name": "stderr",
     "output_type": "stream",
     "text": [
      "[2025-02-14 14:17:18] INFO (torcheeg/MainThread) \n",
      "[Test] test_loss: 2.807 test_accuracy: 0.500 \n",
      "\n"
     ]
    },
    {
     "name": "stdout",
     "output_type": "stream",
     "text": [
      "Testing DataLoader 0: 100%|██████████| 3/3 [00:00<00:00, 81.51it/s]\n",
      "────────────────────────────────────────────────────────────────────────────────────────────────────────────────────────\n",
      "       Test metric             DataLoader 0\n",
      "────────────────────────────────────────────────────────────────────────────────────────────────────────────────────────\n",
      "      test_accuracy                 0.5\n",
      "        test_loss           2.8069474697113037\n",
      "────────────────────────────────────────────────────────────────────────────────────────────────────────────────────────\n",
      "已删除文件夹: /root/autodl-tmp/.autodl/kinlaw/GANSER/mycode/lightning_logs\n"
     ]
    },
    {
     "name": "stderr",
     "output_type": "stream",
     "text": [
      "GPU available: True (cuda), used: True\n",
      "TPU available: False, using: 0 TPU cores\n",
      "IPU available: False, using: 0 IPUs\n",
      "HPU available: False, using: 0 HPUs\n",
      "LOCAL_RANK: 0 - CUDA_VISIBLE_DEVICES: [0]\n",
      "/root/autodl-tmp/conda/envs/law/lib/python3.8/site-packages/pytorch_lightning/trainer/connectors/data_connector.py:224: PossibleUserWarning: The dataloader, train_dataloader, does not have many workers which may be a bottleneck. Consider increasing the value of the `num_workers` argument` (try 128 which is the number of cpus on this machine) in the `DataLoader` init to improve performance.\n",
      "  rank_zero_warn(\n"
     ]
    },
    {
     "name": "stdout",
     "output_type": "stream",
     "text": [
      "Epoch 0: 100%|██████████| 8/8 [00:00<00:00, 25.61it/s, loss=0.725, train_loss=0.690, train_accuracy=0.625]"
     ]
    },
    {
     "name": "stderr",
     "output_type": "stream",
     "text": [
      "Metric train_loss improved. New best score: 0.690\n"
     ]
    },
    {
     "name": "stdout",
     "output_type": "stream",
     "text": [
      "Epoch 0: 100%|██████████| 8/8 [00:00<00:00, 25.48it/s, loss=0.725, train_loss=0.690, train_accuracy=0.625]"
     ]
    },
    {
     "name": "stderr",
     "output_type": "stream",
     "text": [
      "/root/autodl-tmp/conda/envs/law/lib/python3.8/site-packages/pytorch_lightning/core/module.py:493: UserWarning: You called `self.log('train_loss', ..., logger=True)` but have no logger configured. You can enable one by doing `Trainer(logger=ALogger(...))`\n",
      "  rank_zero_warn(\n",
      "/root/autodl-tmp/conda/envs/law/lib/python3.8/site-packages/pytorch_lightning/core/module.py:493: UserWarning: You called `self.log('train_accuracy', ..., logger=True)` but have no logger configured. You can enable one by doing `Trainer(logger=ALogger(...))`\n",
      "  rank_zero_warn(\n",
      "[2025-02-14 14:17:19] INFO (torcheeg/MainThread) \n",
      "[Train] train_loss: 0.725 train_accuracy: 0.467 \n",
      "\n"
     ]
    },
    {
     "name": "stdout",
     "output_type": "stream",
     "text": [
      "Epoch 1: 100%|██████████| 8/8 [00:00<00:00, 26.38it/s, loss=0.712, train_loss=0.800, train_accuracy=0.375]"
     ]
    },
    {
     "name": "stderr",
     "output_type": "stream",
     "text": [
      "[2025-02-14 14:17:19] INFO (torcheeg/MainThread) \n",
      "[Train] train_loss: 0.699 train_accuracy: 0.575 \n",
      "\n"
     ]
    },
    {
     "name": "stdout",
     "output_type": "stream",
     "text": [
      "Epoch 2: 100%|██████████| 8/8 [00:00<00:00, 26.62it/s, loss=0.693, train_loss=0.716, train_accuracy=0.375]"
     ]
    },
    {
     "name": "stderr",
     "output_type": "stream",
     "text": [
      "[2025-02-14 14:17:19] INFO (torcheeg/MainThread) \n",
      "[Train] train_loss: 0.674 train_accuracy: 0.567 \n",
      "\n"
     ]
    },
    {
     "name": "stdout",
     "output_type": "stream",
     "text": [
      "Epoch 3: 100%|██████████| 8/8 [00:00<00:00, 27.60it/s, loss=0.671, train_loss=0.722, train_accuracy=0.500]"
     ]
    },
    {
     "name": "stderr",
     "output_type": "stream",
     "text": [
      "[2025-02-14 14:17:19] INFO (torcheeg/MainThread) \n",
      "[Train] train_loss: 0.654 train_accuracy: 0.583 \n",
      "\n"
     ]
    },
    {
     "name": "stdout",
     "output_type": "stream",
     "text": [
      "Epoch 4: 100%|██████████| 8/8 [00:00<00:00, 26.92it/s, loss=0.657, train_loss=0.820, train_accuracy=0.250]"
     ]
    },
    {
     "name": "stderr",
     "output_type": "stream",
     "text": [
      "[2025-02-14 14:17:20] INFO (torcheeg/MainThread) \n",
      "[Train] train_loss: 0.647 train_accuracy: 0.625 \n",
      "\n"
     ]
    },
    {
     "name": "stdout",
     "output_type": "stream",
     "text": [
      "Epoch 5: 100%|██████████| 8/8 [00:00<00:00, 28.23it/s, loss=0.639, train_loss=0.570, train_accuracy=0.750]"
     ]
    },
    {
     "name": "stderr",
     "output_type": "stream",
     "text": [
      "Metric train_loss improved by 0.119 >= min_delta = 0.0. New best score: 0.570\n"
     ]
    },
    {
     "name": "stdout",
     "output_type": "stream",
     "text": [
      "Epoch 5: 100%|██████████| 8/8 [00:00<00:00, 28.08it/s, loss=0.639, train_loss=0.570, train_accuracy=0.750]"
     ]
    },
    {
     "name": "stderr",
     "output_type": "stream",
     "text": [
      "[2025-02-14 14:17:20] INFO (torcheeg/MainThread) \n",
      "[Train] train_loss: 0.612 train_accuracy: 0.708 \n",
      "\n"
     ]
    },
    {
     "name": "stdout",
     "output_type": "stream",
     "text": [
      "Epoch 6: 100%|██████████| 8/8 [00:00<00:00, 27.66it/s, loss=0.617, train_loss=0.545, train_accuracy=0.750]"
     ]
    },
    {
     "name": "stderr",
     "output_type": "stream",
     "text": [
      "Metric train_loss improved by 0.025 >= min_delta = 0.0. New best score: 0.545\n"
     ]
    },
    {
     "name": "stdout",
     "output_type": "stream",
     "text": [
      "Epoch 6: 100%|██████████| 8/8 [00:00<00:00, 27.51it/s, loss=0.617, train_loss=0.545, train_accuracy=0.750]"
     ]
    },
    {
     "name": "stderr",
     "output_type": "stream",
     "text": [
      "[2025-02-14 14:17:20] INFO (torcheeg/MainThread) \n",
      "[Train] train_loss: 0.607 train_accuracy: 0.692 \n",
      "\n"
     ]
    },
    {
     "name": "stdout",
     "output_type": "stream",
     "text": [
      "Epoch 7: 100%|██████████| 8/8 [00:00<00:00, 27.84it/s, loss=0.605, train_loss=0.564, train_accuracy=0.750]"
     ]
    },
    {
     "name": "stderr",
     "output_type": "stream",
     "text": [
      "[2025-02-14 14:17:21] INFO (torcheeg/MainThread) \n",
      "[Train] train_loss: 0.609 train_accuracy: 0.675 \n",
      "\n"
     ]
    },
    {
     "name": "stdout",
     "output_type": "stream",
     "text": [
      "Epoch 8: 100%|██████████| 8/8 [00:00<00:00, 28.13it/s, loss=0.61, train_loss=0.780, train_accuracy=0.500] "
     ]
    },
    {
     "name": "stderr",
     "output_type": "stream",
     "text": [
      "[2025-02-14 14:17:21] INFO (torcheeg/MainThread) \n",
      "[Train] train_loss: 0.620 train_accuracy: 0.692 \n",
      "\n"
     ]
    },
    {
     "name": "stdout",
     "output_type": "stream",
     "text": [
      "Epoch 9: 100%|██████████| 8/8 [00:00<00:00, 28.28it/s, loss=0.606, train_loss=0.749, train_accuracy=0.500]"
     ]
    },
    {
     "name": "stderr",
     "output_type": "stream",
     "text": [
      "[2025-02-14 14:17:21] INFO (torcheeg/MainThread) \n",
      "[Train] train_loss: 0.602 train_accuracy: 0.708 \n",
      "\n"
     ]
    },
    {
     "name": "stdout",
     "output_type": "stream",
     "text": [
      "Epoch 10: 100%|██████████| 8/8 [00:00<00:00, 28.63it/s, loss=0.608, train_loss=0.499, train_accuracy=0.750]"
     ]
    },
    {
     "name": "stderr",
     "output_type": "stream",
     "text": [
      "Metric train_loss improved by 0.046 >= min_delta = 0.0. New best score: 0.499\n"
     ]
    },
    {
     "name": "stdout",
     "output_type": "stream",
     "text": [
      "Epoch 10: 100%|██████████| 8/8 [00:00<00:00, 28.48it/s, loss=0.608, train_loss=0.499, train_accuracy=0.750]"
     ]
    },
    {
     "name": "stderr",
     "output_type": "stream",
     "text": [
      "[2025-02-14 14:17:21] INFO (torcheeg/MainThread) \n",
      "[Train] train_loss: 0.583 train_accuracy: 0.725 \n",
      "\n"
     ]
    },
    {
     "name": "stdout",
     "output_type": "stream",
     "text": [
      "Epoch 11: 100%|██████████| 8/8 [00:00<00:00, 27.37it/s, loss=0.585, train_loss=0.490, train_accuracy=0.750]"
     ]
    },
    {
     "name": "stderr",
     "output_type": "stream",
     "text": [
      "Metric train_loss improved by 0.010 >= min_delta = 0.0. New best score: 0.490\n"
     ]
    },
    {
     "name": "stdout",
     "output_type": "stream",
     "text": [
      "Epoch 11: 100%|██████████| 8/8 [00:00<00:00, 27.23it/s, loss=0.585, train_loss=0.490, train_accuracy=0.750]"
     ]
    },
    {
     "name": "stderr",
     "output_type": "stream",
     "text": [
      "[2025-02-14 14:17:22] INFO (torcheeg/MainThread) \n",
      "[Train] train_loss: 0.572 train_accuracy: 0.758 \n",
      "\n"
     ]
    },
    {
     "name": "stdout",
     "output_type": "stream",
     "text": [
      "Epoch 12: 100%|██████████| 8/8 [00:00<00:00, 26.15it/s, loss=0.57, train_loss=0.557, train_accuracy=0.625] "
     ]
    },
    {
     "name": "stderr",
     "output_type": "stream",
     "text": [
      "[2025-02-14 14:17:22] INFO (torcheeg/MainThread) \n",
      "[Train] train_loss: 0.562 train_accuracy: 0.725 \n",
      "\n"
     ]
    },
    {
     "name": "stdout",
     "output_type": "stream",
     "text": [
      "Epoch 13: 100%|██████████| 8/8 [00:00<00:00, 27.72it/s, loss=0.556, train_loss=0.642, train_accuracy=0.750]"
     ]
    },
    {
     "name": "stderr",
     "output_type": "stream",
     "text": [
      "[2025-02-14 14:17:22] INFO (torcheeg/MainThread) \n",
      "[Train] train_loss: 0.560 train_accuracy: 0.750 \n",
      "\n"
     ]
    },
    {
     "name": "stdout",
     "output_type": "stream",
     "text": [
      "Epoch 14: 100%|██████████| 8/8 [00:00<00:00, 28.17it/s, loss=0.557, train_loss=0.524, train_accuracy=0.750]"
     ]
    },
    {
     "name": "stderr",
     "output_type": "stream",
     "text": [
      "[2025-02-14 14:17:23] INFO (torcheeg/MainThread) \n",
      "[Train] train_loss: 0.548 train_accuracy: 0.733 \n",
      "\n"
     ]
    },
    {
     "name": "stdout",
     "output_type": "stream",
     "text": [
      "Epoch 15: 100%|██████████| 8/8 [00:00<00:00, 27.71it/s, loss=0.56, train_loss=0.632, train_accuracy=0.625] "
     ]
    },
    {
     "name": "stderr",
     "output_type": "stream",
     "text": [
      "[2025-02-14 14:17:23] INFO (torcheeg/MainThread) \n",
      "[Train] train_loss: 0.562 train_accuracy: 0.767 \n",
      "\n"
     ]
    },
    {
     "name": "stdout",
     "output_type": "stream",
     "text": [
      "Epoch 16: 100%|██████████| 8/8 [00:00<00:00, 26.78it/s, loss=0.552, train_loss=0.508, train_accuracy=0.625]"
     ]
    },
    {
     "name": "stderr",
     "output_type": "stream",
     "text": [
      "[2025-02-14 14:17:23] INFO (torcheeg/MainThread) \n",
      "[Train] train_loss: 0.534 train_accuracy: 0.783 \n",
      "\n"
     ]
    },
    {
     "name": "stdout",
     "output_type": "stream",
     "text": [
      "Epoch 17: 100%|██████████| 8/8 [00:00<00:00, 27.45it/s, loss=0.537, train_loss=0.567, train_accuracy=0.625]"
     ]
    },
    {
     "name": "stderr",
     "output_type": "stream",
     "text": [
      "[2025-02-14 14:17:24] INFO (torcheeg/MainThread) \n",
      "[Train] train_loss: 0.525 train_accuracy: 0.792 \n",
      "\n"
     ]
    },
    {
     "name": "stdout",
     "output_type": "stream",
     "text": [
      "Epoch 18: 100%|██████████| 8/8 [00:00<00:00, 27.85it/s, loss=0.51, train_loss=0.306, train_accuracy=1.000] "
     ]
    },
    {
     "name": "stderr",
     "output_type": "stream",
     "text": [
      "Metric train_loss improved by 0.184 >= min_delta = 0.0. New best score: 0.306\n"
     ]
    },
    {
     "name": "stdout",
     "output_type": "stream",
     "text": [
      "Epoch 18: 100%|██████████| 8/8 [00:00<00:00, 27.70it/s, loss=0.51, train_loss=0.306, train_accuracy=1.000]"
     ]
    },
    {
     "name": "stderr",
     "output_type": "stream",
     "text": [
      "[2025-02-14 14:17:24] INFO (torcheeg/MainThread) \n",
      "[Train] train_loss: 0.493 train_accuracy: 0.792 \n",
      "\n"
     ]
    },
    {
     "name": "stdout",
     "output_type": "stream",
     "text": [
      "Epoch 19: 100%|██████████| 8/8 [00:00<00:00, 27.93it/s, loss=0.504, train_loss=0.401, train_accuracy=1.000]"
     ]
    },
    {
     "name": "stderr",
     "output_type": "stream",
     "text": [
      "[2025-02-14 14:17:24] INFO (torcheeg/MainThread) \n",
      "[Train] train_loss: 0.488 train_accuracy: 0.817 \n",
      "\n"
     ]
    },
    {
     "name": "stdout",
     "output_type": "stream",
     "text": [
      "Epoch 20: 100%|██████████| 8/8 [00:00<00:00, 27.89it/s, loss=0.49, train_loss=0.470, train_accuracy=0.875] "
     ]
    },
    {
     "name": "stderr",
     "output_type": "stream",
     "text": [
      "[2025-02-14 14:17:24] INFO (torcheeg/MainThread) \n",
      "[Train] train_loss: 0.474 train_accuracy: 0.867 \n",
      "\n"
     ]
    },
    {
     "name": "stdout",
     "output_type": "stream",
     "text": [
      "Epoch 21: 100%|██████████| 8/8 [00:00<00:00, 28.32it/s, loss=0.491, train_loss=0.633, train_accuracy=0.750]"
     ]
    },
    {
     "name": "stderr",
     "output_type": "stream",
     "text": [
      "[2025-02-14 14:17:25] INFO (torcheeg/MainThread) \n",
      "[Train] train_loss: 0.497 train_accuracy: 0.783 \n",
      "\n"
     ]
    },
    {
     "name": "stdout",
     "output_type": "stream",
     "text": [
      "Epoch 22: 100%|██████████| 8/8 [00:00<00:00, 26.77it/s, loss=0.49, train_loss=0.424, train_accuracy=1.000] "
     ]
    },
    {
     "name": "stderr",
     "output_type": "stream",
     "text": [
      "[2025-02-14 14:17:25] INFO (torcheeg/MainThread) \n",
      "[Train] train_loss: 0.475 train_accuracy: 0.825 \n",
      "\n"
     ]
    },
    {
     "name": "stdout",
     "output_type": "stream",
     "text": [
      "Epoch 23: 100%|██████████| 8/8 [00:00<00:00, 22.65it/s, loss=0.475, train_loss=0.445, train_accuracy=0.875]"
     ]
    },
    {
     "name": "stderr",
     "output_type": "stream",
     "text": [
      "[2025-02-14 14:17:25] INFO (torcheeg/MainThread) \n",
      "[Train] train_loss: 0.457 train_accuracy: 0.808 \n",
      "\n"
     ]
    },
    {
     "name": "stdout",
     "output_type": "stream",
     "text": [
      "Epoch 24: 100%|██████████| 8/8 [00:00<00:00, 22.51it/s, loss=0.445, train_loss=0.637, train_accuracy=0.500]"
     ]
    },
    {
     "name": "stderr",
     "output_type": "stream",
     "text": [
      "[2025-02-14 14:17:26] INFO (torcheeg/MainThread) \n",
      "[Train] train_loss: 0.444 train_accuracy: 0.833 \n",
      "\n"
     ]
    },
    {
     "name": "stdout",
     "output_type": "stream",
     "text": [
      "Epoch 25: 100%|██████████| 8/8 [00:00<00:00, 22.64it/s, loss=0.442, train_loss=0.491, train_accuracy=0.625]"
     ]
    },
    {
     "name": "stderr",
     "output_type": "stream",
     "text": [
      "[2025-02-14 14:17:26] INFO (torcheeg/MainThread) \n",
      "[Train] train_loss: 0.434 train_accuracy: 0.833 \n",
      "\n"
     ]
    },
    {
     "name": "stdout",
     "output_type": "stream",
     "text": [
      "Epoch 26: 100%|██████████| 8/8 [00:00<00:00, 23.02it/s, loss=0.434, train_loss=0.673, train_accuracy=0.500]"
     ]
    },
    {
     "name": "stderr",
     "output_type": "stream",
     "text": [
      "[2025-02-14 14:17:26] INFO (torcheeg/MainThread) \n",
      "[Train] train_loss: 0.417 train_accuracy: 0.883 \n",
      "\n"
     ]
    },
    {
     "name": "stdout",
     "output_type": "stream",
     "text": [
      "Epoch 27: 100%|██████████| 8/8 [00:00<00:00, 22.95it/s, loss=0.43, train_loss=0.401, train_accuracy=0.875] "
     ]
    },
    {
     "name": "stderr",
     "output_type": "stream",
     "text": [
      "[2025-02-14 14:17:27] INFO (torcheeg/MainThread) \n",
      "[Train] train_loss: 0.418 train_accuracy: 0.833 \n",
      "\n"
     ]
    },
    {
     "name": "stdout",
     "output_type": "stream",
     "text": [
      "Epoch 28: 100%|██████████| 8/8 [00:00<00:00, 23.16it/s, loss=0.411, train_loss=0.423, train_accuracy=1.000]"
     ]
    },
    {
     "name": "stderr",
     "output_type": "stream",
     "text": [
      "[2025-02-14 14:17:27] INFO (torcheeg/MainThread) \n",
      "[Train] train_loss: 0.385 train_accuracy: 0.900 \n",
      "\n"
     ]
    },
    {
     "name": "stdout",
     "output_type": "stream",
     "text": [
      "Epoch 29: 100%|██████████| 8/8 [00:00<00:00, 22.09it/s, loss=0.385, train_loss=0.306, train_accuracy=1.000]"
     ]
    },
    {
     "name": "stderr",
     "output_type": "stream",
     "text": [
      "Metric train_loss improved by 0.000 >= min_delta = 0.0. New best score: 0.306\n"
     ]
    },
    {
     "name": "stdout",
     "output_type": "stream",
     "text": [
      "Epoch 29: 100%|██████████| 8/8 [00:00<00:00, 22.00it/s, loss=0.385, train_loss=0.306, train_accuracy=1.000]"
     ]
    },
    {
     "name": "stderr",
     "output_type": "stream",
     "text": [
      "[2025-02-14 14:17:27] INFO (torcheeg/MainThread) \n",
      "[Train] train_loss: 0.374 train_accuracy: 0.883 \n",
      "\n"
     ]
    },
    {
     "name": "stdout",
     "output_type": "stream",
     "text": [
      "Epoch 30: 100%|██████████| 8/8 [00:00<00:00, 22.61it/s, loss=0.386, train_loss=0.278, train_accuracy=1.000]"
     ]
    },
    {
     "name": "stderr",
     "output_type": "stream",
     "text": [
      "Metric train_loss improved by 0.028 >= min_delta = 0.0. New best score: 0.278\n"
     ]
    },
    {
     "name": "stdout",
     "output_type": "stream",
     "text": [
      "Epoch 30: 100%|██████████| 8/8 [00:00<00:00, 22.51it/s, loss=0.386, train_loss=0.278, train_accuracy=1.000]"
     ]
    },
    {
     "name": "stderr",
     "output_type": "stream",
     "text": [
      "[2025-02-14 14:17:28] INFO (torcheeg/MainThread) \n",
      "[Train] train_loss: 0.380 train_accuracy: 0.892 \n",
      "\n"
     ]
    },
    {
     "name": "stdout",
     "output_type": "stream",
     "text": [
      "Epoch 31: 100%|██████████| 8/8 [00:00<00:00, 23.60it/s, loss=0.378, train_loss=0.322, train_accuracy=0.875]"
     ]
    },
    {
     "name": "stderr",
     "output_type": "stream",
     "text": [
      "[2025-02-14 14:17:28] INFO (torcheeg/MainThread) \n",
      "[Train] train_loss: 0.382 train_accuracy: 0.858 \n",
      "\n"
     ]
    },
    {
     "name": "stdout",
     "output_type": "stream",
     "text": [
      "Epoch 32: 100%|██████████| 8/8 [00:00<00:00, 24.68it/s, loss=0.371, train_loss=0.561, train_accuracy=0.750]"
     ]
    },
    {
     "name": "stderr",
     "output_type": "stream",
     "text": [
      "[2025-02-14 14:17:29] INFO (torcheeg/MainThread) \n",
      "[Train] train_loss: 0.341 train_accuracy: 0.933 \n",
      "\n"
     ]
    },
    {
     "name": "stdout",
     "output_type": "stream",
     "text": [
      "Epoch 33: 100%|██████████| 8/8 [00:00<00:00, 26.77it/s, loss=0.34, train_loss=0.327, train_accuracy=1.000] "
     ]
    },
    {
     "name": "stderr",
     "output_type": "stream",
     "text": [
      "[2025-02-14 14:17:29] INFO (torcheeg/MainThread) \n",
      "[Train] train_loss: 0.333 train_accuracy: 0.908 \n",
      "\n"
     ]
    },
    {
     "name": "stdout",
     "output_type": "stream",
     "text": [
      "Epoch 34: 100%|██████████| 8/8 [00:00<00:00, 28.25it/s, loss=0.331, train_loss=0.294, train_accuracy=1.000]"
     ]
    },
    {
     "name": "stderr",
     "output_type": "stream",
     "text": [
      "[2025-02-14 14:17:29] INFO (torcheeg/MainThread) \n",
      "[Train] train_loss: 0.303 train_accuracy: 0.917 \n",
      "\n"
     ]
    },
    {
     "name": "stdout",
     "output_type": "stream",
     "text": [
      "Epoch 35: 100%|██████████| 8/8 [00:00<00:00, 28.23it/s, loss=0.305, train_loss=0.296, train_accuracy=0.875]"
     ]
    },
    {
     "name": "stderr",
     "output_type": "stream",
     "text": [
      "[2025-02-14 14:17:29] INFO (torcheeg/MainThread) \n",
      "[Train] train_loss: 0.303 train_accuracy: 0.883 \n",
      "\n"
     ]
    },
    {
     "name": "stdout",
     "output_type": "stream",
     "text": [
      "Epoch 36: 100%|██████████| 8/8 [00:00<00:00, 25.62it/s, loss=0.295, train_loss=0.429, train_accuracy=0.750]"
     ]
    },
    {
     "name": "stderr",
     "output_type": "stream",
     "text": [
      "[2025-02-14 14:17:30] INFO (torcheeg/MainThread) \n",
      "[Train] train_loss: 0.303 train_accuracy: 0.908 \n",
      "\n"
     ]
    },
    {
     "name": "stdout",
     "output_type": "stream",
     "text": [
      "Epoch 37: 100%|██████████| 8/8 [00:00<00:00, 27.57it/s, loss=0.291, train_loss=0.233, train_accuracy=1.000]"
     ]
    },
    {
     "name": "stderr",
     "output_type": "stream",
     "text": [
      "Metric train_loss improved by 0.045 >= min_delta = 0.0. New best score: 0.233\n"
     ]
    },
    {
     "name": "stdout",
     "output_type": "stream",
     "text": [
      "Epoch 37: 100%|██████████| 8/8 [00:00<00:00, 27.43it/s, loss=0.291, train_loss=0.233, train_accuracy=1.000]"
     ]
    },
    {
     "name": "stderr",
     "output_type": "stream",
     "text": [
      "[2025-02-14 14:17:30] INFO (torcheeg/MainThread) \n",
      "[Train] train_loss: 0.287 train_accuracy: 0.933 \n",
      "\n"
     ]
    },
    {
     "name": "stdout",
     "output_type": "stream",
     "text": [
      "Epoch 38: 100%|██████████| 8/8 [00:00<00:00, 28.54it/s, loss=0.29, train_loss=0.241, train_accuracy=0.875] "
     ]
    },
    {
     "name": "stderr",
     "output_type": "stream",
     "text": [
      "[2025-02-14 14:17:30] INFO (torcheeg/MainThread) \n",
      "[Train] train_loss: 0.284 train_accuracy: 0.908 \n",
      "\n"
     ]
    },
    {
     "name": "stdout",
     "output_type": "stream",
     "text": [
      "Epoch 39: 100%|██████████| 8/8 [00:00<00:00, 28.13it/s, loss=0.272, train_loss=0.153, train_accuracy=1.000]"
     ]
    },
    {
     "name": "stderr",
     "output_type": "stream",
     "text": [
      "Metric train_loss improved by 0.080 >= min_delta = 0.0. New best score: 0.153\n"
     ]
    },
    {
     "name": "stdout",
     "output_type": "stream",
     "text": [
      "Epoch 39: 100%|██████████| 8/8 [00:00<00:00, 27.97it/s, loss=0.272, train_loss=0.153, train_accuracy=1.000]"
     ]
    },
    {
     "name": "stderr",
     "output_type": "stream",
     "text": [
      "[2025-02-14 14:17:31] INFO (torcheeg/MainThread) \n",
      "[Train] train_loss: 0.250 train_accuracy: 0.942 \n",
      "\n"
     ]
    },
    {
     "name": "stdout",
     "output_type": "stream",
     "text": [
      "Epoch 40: 100%|██████████| 8/8 [00:00<00:00, 27.38it/s, loss=0.245, train_loss=0.0696, train_accuracy=1.000]"
     ]
    },
    {
     "name": "stderr",
     "output_type": "stream",
     "text": [
      "Metric train_loss improved by 0.083 >= min_delta = 0.0. New best score: 0.070\n"
     ]
    },
    {
     "name": "stdout",
     "output_type": "stream",
     "text": [
      "Epoch 40: 100%|██████████| 8/8 [00:00<00:00, 27.24it/s, loss=0.245, train_loss=0.0696, train_accuracy=1.000]"
     ]
    },
    {
     "name": "stderr",
     "output_type": "stream",
     "text": [
      "[2025-02-14 14:17:31] INFO (torcheeg/MainThread) \n",
      "[Train] train_loss: 0.228 train_accuracy: 0.925 \n",
      "\n"
     ]
    },
    {
     "name": "stdout",
     "output_type": "stream",
     "text": [
      "Epoch 41: 100%|██████████| 8/8 [00:00<00:00, 27.45it/s, loss=0.231, train_loss=0.288, train_accuracy=0.875] "
     ]
    },
    {
     "name": "stderr",
     "output_type": "stream",
     "text": [
      "[2025-02-14 14:17:31] INFO (torcheeg/MainThread) \n",
      "[Train] train_loss: 0.244 train_accuracy: 0.950 \n",
      "\n"
     ]
    },
    {
     "name": "stdout",
     "output_type": "stream",
     "text": [
      "Epoch 42: 100%|██████████| 8/8 [00:00<00:00, 26.92it/s, loss=0.213, train_loss=0.183, train_accuracy=1.000]"
     ]
    },
    {
     "name": "stderr",
     "output_type": "stream",
     "text": [
      "[2025-02-14 14:17:31] INFO (torcheeg/MainThread) \n",
      "[Train] train_loss: 0.208 train_accuracy: 0.967 \n",
      "\n"
     ]
    },
    {
     "name": "stdout",
     "output_type": "stream",
     "text": [
      "Epoch 43: 100%|██████████| 8/8 [00:00<00:00, 27.18it/s, loss=0.205, train_loss=0.159, train_accuracy=1.000]"
     ]
    },
    {
     "name": "stderr",
     "output_type": "stream",
     "text": [
      "[2025-02-14 14:17:32] INFO (torcheeg/MainThread) \n",
      "[Train] train_loss: 0.181 train_accuracy: 0.975 \n",
      "\n"
     ]
    },
    {
     "name": "stdout",
     "output_type": "stream",
     "text": [
      "Epoch 44: 100%|██████████| 8/8 [00:00<00:00, 26.82it/s, loss=0.196, train_loss=0.129, train_accuracy=1.000] "
     ]
    },
    {
     "name": "stderr",
     "output_type": "stream",
     "text": [
      "[2025-02-14 14:17:32] INFO (torcheeg/MainThread) \n",
      "[Train] train_loss: 0.198 train_accuracy: 0.958 \n",
      "\n"
     ]
    },
    {
     "name": "stdout",
     "output_type": "stream",
     "text": [
      "Epoch 45: 100%|██████████| 8/8 [00:00<00:00, 27.92it/s, loss=0.192, train_loss=0.151, train_accuracy=1.000]"
     ]
    },
    {
     "name": "stderr",
     "output_type": "stream",
     "text": [
      "[2025-02-14 14:17:32] INFO (torcheeg/MainThread) \n",
      "[Train] train_loss: 0.191 train_accuracy: 0.958 \n",
      "\n"
     ]
    },
    {
     "name": "stdout",
     "output_type": "stream",
     "text": [
      "Epoch 46: 100%|██████████| 8/8 [00:00<00:00, 28.13it/s, loss=0.194, train_loss=0.284, train_accuracy=0.875]"
     ]
    },
    {
     "name": "stderr",
     "output_type": "stream",
     "text": [
      "[2025-02-14 14:17:33] INFO (torcheeg/MainThread) \n",
      "[Train] train_loss: 0.186 train_accuracy: 0.958 \n",
      "\n"
     ]
    },
    {
     "name": "stdout",
     "output_type": "stream",
     "text": [
      "Epoch 47: 100%|██████████| 8/8 [00:00<00:00, 24.07it/s, loss=0.182, train_loss=0.123, train_accuracy=1.000]"
     ]
    },
    {
     "name": "stderr",
     "output_type": "stream",
     "text": [
      "[2025-02-14 14:17:33] INFO (torcheeg/MainThread) \n",
      "[Train] train_loss: 0.186 train_accuracy: 0.958 \n",
      "\n"
     ]
    },
    {
     "name": "stdout",
     "output_type": "stream",
     "text": [
      "Epoch 48: 100%|██████████| 8/8 [00:00<00:00, 28.12it/s, loss=0.197, train_loss=0.481, train_accuracy=0.750]"
     ]
    },
    {
     "name": "stderr",
     "output_type": "stream",
     "text": [
      "[2025-02-14 14:17:33] INFO (torcheeg/MainThread) \n",
      "[Train] train_loss: 0.193 train_accuracy: 0.950 \n",
      "\n"
     ]
    },
    {
     "name": "stdout",
     "output_type": "stream",
     "text": [
      "Epoch 49: 100%|██████████| 8/8 [00:00<00:00, 28.48it/s, loss=0.183, train_loss=0.265, train_accuracy=1.000]"
     ]
    },
    {
     "name": "stderr",
     "output_type": "stream",
     "text": [
      "[2025-02-14 14:17:34] INFO (torcheeg/MainThread) \n",
      "[Train] train_loss: 0.173 train_accuracy: 0.983 \n",
      "\n"
     ]
    },
    {
     "name": "stdout",
     "output_type": "stream",
     "text": [
      "Epoch 50: 100%|██████████| 8/8 [00:00<00:00, 27.34it/s, loss=0.188, train_loss=0.314, train_accuracy=0.875] "
     ]
    },
    {
     "name": "stderr",
     "output_type": "stream",
     "text": [
      "[2025-02-14 14:17:34] INFO (torcheeg/MainThread) \n",
      "[Train] train_loss: 0.171 train_accuracy: 0.958 \n",
      "\n"
     ]
    },
    {
     "name": "stdout",
     "output_type": "stream",
     "text": [
      "Epoch 51: 100%|██████████| 8/8 [00:00<00:00, 27.38it/s, loss=0.167, train_loss=0.108, train_accuracy=1.000] "
     ]
    },
    {
     "name": "stderr",
     "output_type": "stream",
     "text": [
      "[2025-02-14 14:17:34] INFO (torcheeg/MainThread) \n",
      "[Train] train_loss: 0.149 train_accuracy: 0.967 \n",
      "\n"
     ]
    },
    {
     "name": "stdout",
     "output_type": "stream",
     "text": [
      "Epoch 52: 100%|██████████| 8/8 [00:00<00:00, 27.66it/s, loss=0.162, train_loss=0.200, train_accuracy=0.875] "
     ]
    },
    {
     "name": "stderr",
     "output_type": "stream",
     "text": [
      "[2025-02-14 14:17:34] INFO (torcheeg/MainThread) \n",
      "[Train] train_loss: 0.159 train_accuracy: 0.958 \n",
      "\n"
     ]
    },
    {
     "name": "stdout",
     "output_type": "stream",
     "text": [
      "Epoch 53: 100%|██████████| 8/8 [00:00<00:00, 28.29it/s, loss=0.146, train_loss=0.110, train_accuracy=1.000] "
     ]
    },
    {
     "name": "stderr",
     "output_type": "stream",
     "text": [
      "[2025-02-14 14:17:35] INFO (torcheeg/MainThread) \n",
      "[Train] train_loss: 0.135 train_accuracy: 0.983 \n",
      "\n"
     ]
    },
    {
     "name": "stdout",
     "output_type": "stream",
     "text": [
      "Epoch 54: 100%|██████████| 8/8 [00:00<00:00, 27.59it/s, loss=0.13, train_loss=0.0811, train_accuracy=1.000] "
     ]
    },
    {
     "name": "stderr",
     "output_type": "stream",
     "text": [
      "[2025-02-14 14:17:35] INFO (torcheeg/MainThread) \n",
      "[Train] train_loss: 0.114 train_accuracy: 0.983 \n",
      "\n"
     ]
    },
    {
     "name": "stdout",
     "output_type": "stream",
     "text": [
      "Epoch 55: 100%|██████████| 8/8 [00:00<00:00, 28.04it/s, loss=0.123, train_loss=0.192, train_accuracy=1.000]"
     ]
    },
    {
     "name": "stderr",
     "output_type": "stream",
     "text": [
      "[2025-02-14 14:17:35] INFO (torcheeg/MainThread) \n",
      "[Train] train_loss: 0.136 train_accuracy: 0.983 \n",
      "\n"
     ]
    },
    {
     "name": "stdout",
     "output_type": "stream",
     "text": [
      "Epoch 56: 100%|██████████| 8/8 [00:00<00:00, 27.80it/s, loss=0.126, train_loss=0.135, train_accuracy=1.000] "
     ]
    },
    {
     "name": "stderr",
     "output_type": "stream",
     "text": [
      "[2025-02-14 14:17:36] INFO (torcheeg/MainThread) \n",
      "[Train] train_loss: 0.114 train_accuracy: 0.992 \n",
      "\n"
     ]
    },
    {
     "name": "stdout",
     "output_type": "stream",
     "text": [
      "Epoch 57: 100%|██████████| 8/8 [00:00<00:00, 27.39it/s, loss=0.115, train_loss=0.052, train_accuracy=1.000] "
     ]
    },
    {
     "name": "stderr",
     "output_type": "stream",
     "text": [
      "Metric train_loss improved by 0.018 >= min_delta = 0.0. New best score: 0.052\n"
     ]
    },
    {
     "name": "stdout",
     "output_type": "stream",
     "text": [
      "Epoch 57: 100%|██████████| 8/8 [00:00<00:00, 27.24it/s, loss=0.115, train_loss=0.052, train_accuracy=1.000]"
     ]
    },
    {
     "name": "stderr",
     "output_type": "stream",
     "text": [
      "[2025-02-14 14:17:36] INFO (torcheeg/MainThread) \n",
      "[Train] train_loss: 0.108 train_accuracy: 0.992 \n",
      "\n"
     ]
    },
    {
     "name": "stdout",
     "output_type": "stream",
     "text": [
      "Epoch 58: 100%|██████████| 8/8 [00:00<00:00, 27.47it/s, loss=0.117, train_loss=0.048, train_accuracy=1.000] "
     ]
    },
    {
     "name": "stderr",
     "output_type": "stream",
     "text": [
      "Metric train_loss improved by 0.004 >= min_delta = 0.0. New best score: 0.048\n"
     ]
    },
    {
     "name": "stdout",
     "output_type": "stream",
     "text": [
      "Epoch 58: 100%|██████████| 8/8 [00:00<00:00, 27.33it/s, loss=0.117, train_loss=0.048, train_accuracy=1.000]"
     ]
    },
    {
     "name": "stderr",
     "output_type": "stream",
     "text": [
      "[2025-02-14 14:17:36] INFO (torcheeg/MainThread) \n",
      "[Train] train_loss: 0.111 train_accuracy: 0.967 \n",
      "\n"
     ]
    },
    {
     "name": "stdout",
     "output_type": "stream",
     "text": [
      "Epoch 59: 100%|██████████| 8/8 [00:00<00:00, 28.49it/s, loss=0.104, train_loss=0.0347, train_accuracy=1.000]"
     ]
    },
    {
     "name": "stderr",
     "output_type": "stream",
     "text": [
      "Metric train_loss improved by 0.013 >= min_delta = 0.0. New best score: 0.035\n"
     ]
    },
    {
     "name": "stdout",
     "output_type": "stream",
     "text": [
      "Epoch 59: 100%|██████████| 8/8 [00:00<00:00, 28.34it/s, loss=0.104, train_loss=0.0347, train_accuracy=1.000]"
     ]
    },
    {
     "name": "stderr",
     "output_type": "stream",
     "text": [
      "[2025-02-14 14:17:36] INFO (torcheeg/MainThread) \n",
      "[Train] train_loss: 0.104 train_accuracy: 0.975 \n",
      "\n"
     ]
    },
    {
     "name": "stdout",
     "output_type": "stream",
     "text": [
      "Epoch 60: 100%|██████████| 8/8 [00:00<00:00, 27.34it/s, loss=0.0944, train_loss=0.0967, train_accuracy=1.000]"
     ]
    },
    {
     "name": "stderr",
     "output_type": "stream",
     "text": [
      "[2025-02-14 14:17:37] INFO (torcheeg/MainThread) \n",
      "[Train] train_loss: 0.074 train_accuracy: 0.992 \n",
      "\n"
     ]
    },
    {
     "name": "stdout",
     "output_type": "stream",
     "text": [
      "Epoch 61: 100%|██████████| 8/8 [00:00<00:00, 28.44it/s, loss=0.0796, train_loss=0.0935, train_accuracy=1.000]"
     ]
    },
    {
     "name": "stderr",
     "output_type": "stream",
     "text": [
      "[2025-02-14 14:17:37] INFO (torcheeg/MainThread) \n",
      "[Train] train_loss: 0.085 train_accuracy: 0.992 \n",
      "\n"
     ]
    },
    {
     "name": "stdout",
     "output_type": "stream",
     "text": [
      "Epoch 62: 100%|██████████| 8/8 [00:00<00:00, 27.37it/s, loss=0.0898, train_loss=0.0344, train_accuracy=1.000]"
     ]
    },
    {
     "name": "stderr",
     "output_type": "stream",
     "text": [
      "Metric train_loss improved by 0.000 >= min_delta = 0.0. New best score: 0.034\n"
     ]
    },
    {
     "name": "stdout",
     "output_type": "stream",
     "text": [
      "Epoch 62: 100%|██████████| 8/8 [00:00<00:00, 27.23it/s, loss=0.0898, train_loss=0.0344, train_accuracy=1.000]"
     ]
    },
    {
     "name": "stderr",
     "output_type": "stream",
     "text": [
      "[2025-02-14 14:17:37] INFO (torcheeg/MainThread) \n",
      "[Train] train_loss: 0.102 train_accuracy: 0.983 \n",
      "\n"
     ]
    },
    {
     "name": "stdout",
     "output_type": "stream",
     "text": [
      "Epoch 63: 100%|██████████| 8/8 [00:00<00:00, 28.13it/s, loss=0.0922, train_loss=0.0428, train_accuracy=1.000]"
     ]
    },
    {
     "name": "stderr",
     "output_type": "stream",
     "text": [
      "[2025-02-14 14:17:38] INFO (torcheeg/MainThread) \n",
      "[Train] train_loss: 0.087 train_accuracy: 1.000 \n",
      "\n"
     ]
    },
    {
     "name": "stdout",
     "output_type": "stream",
     "text": [
      "Epoch 64: 100%|██████████| 8/8 [00:00<00:00, 27.28it/s, loss=0.0955, train_loss=0.129, train_accuracy=1.000] "
     ]
    },
    {
     "name": "stderr",
     "output_type": "stream",
     "text": [
      "[2025-02-14 14:17:38] INFO (torcheeg/MainThread) \n",
      "[Train] train_loss: 0.088 train_accuracy: 0.992 \n",
      "\n"
     ]
    },
    {
     "name": "stdout",
     "output_type": "stream",
     "text": [
      "Epoch 65: 100%|██████████| 8/8 [00:00<00:00, 27.77it/s, loss=0.0884, train_loss=0.262, train_accuracy=0.875] "
     ]
    },
    {
     "name": "stderr",
     "output_type": "stream",
     "text": [
      "[2025-02-14 14:17:38] INFO (torcheeg/MainThread) \n",
      "[Train] train_loss: 0.099 train_accuracy: 0.992 \n",
      "\n"
     ]
    },
    {
     "name": "stdout",
     "output_type": "stream",
     "text": [
      "Epoch 66: 100%|██████████| 8/8 [00:00<00:00, 26.42it/s, loss=0.088, train_loss=0.078, train_accuracy=1.000]  "
     ]
    },
    {
     "name": "stderr",
     "output_type": "stream",
     "text": [
      "[2025-02-14 14:17:39] INFO (torcheeg/MainThread) \n",
      "[Train] train_loss: 0.085 train_accuracy: 0.992 \n",
      "\n"
     ]
    },
    {
     "name": "stdout",
     "output_type": "stream",
     "text": [
      "Epoch 67: 100%|██████████| 8/8 [00:00<00:00, 27.47it/s, loss=0.0971, train_loss=0.0639, train_accuracy=1.000]"
     ]
    },
    {
     "name": "stderr",
     "output_type": "stream",
     "text": [
      "[2025-02-14 14:17:39] INFO (torcheeg/MainThread) \n",
      "[Train] train_loss: 0.094 train_accuracy: 0.967 \n",
      "\n"
     ]
    },
    {
     "name": "stdout",
     "output_type": "stream",
     "text": [
      "Epoch 68: 100%|██████████| 8/8 [00:00<00:00, 29.04it/s, loss=0.0737, train_loss=0.0756, train_accuracy=1.000]"
     ]
    },
    {
     "name": "stderr",
     "output_type": "stream",
     "text": [
      "[2025-02-14 14:17:39] INFO (torcheeg/MainThread) \n",
      "[Train] train_loss: 0.058 train_accuracy: 1.000 \n",
      "\n"
     ]
    },
    {
     "name": "stdout",
     "output_type": "stream",
     "text": [
      "Epoch 69: 100%|██████████| 8/8 [00:00<00:00, 28.59it/s, loss=0.0647, train_loss=0.0849, train_accuracy=1.000]"
     ]
    },
    {
     "name": "stderr",
     "output_type": "stream",
     "text": [
      "[2025-02-14 14:17:39] INFO (torcheeg/MainThread) \n",
      "[Train] train_loss: 0.061 train_accuracy: 1.000 \n",
      "\n"
     ]
    },
    {
     "name": "stdout",
     "output_type": "stream",
     "text": [
      "Epoch 70: 100%|██████████| 8/8 [00:00<00:00, 28.31it/s, loss=0.0636, train_loss=0.033, train_accuracy=1.000] "
     ]
    },
    {
     "name": "stderr",
     "output_type": "stream",
     "text": [
      "Metric train_loss improved by 0.001 >= min_delta = 0.0. New best score: 0.033\n"
     ]
    },
    {
     "name": "stdout",
     "output_type": "stream",
     "text": [
      "Epoch 70: 100%|██████████| 8/8 [00:00<00:00, 28.15it/s, loss=0.0636, train_loss=0.033, train_accuracy=1.000]"
     ]
    },
    {
     "name": "stderr",
     "output_type": "stream",
     "text": [
      "[2025-02-14 14:17:40] INFO (torcheeg/MainThread) \n",
      "[Train] train_loss: 0.070 train_accuracy: 1.000 \n",
      "\n"
     ]
    },
    {
     "name": "stdout",
     "output_type": "stream",
     "text": [
      "Epoch 71: 100%|██████████| 8/8 [00:00<00:00, 28.42it/s, loss=0.0655, train_loss=0.0572, train_accuracy=1.000]"
     ]
    },
    {
     "name": "stderr",
     "output_type": "stream",
     "text": [
      "[2025-02-14 14:17:40] INFO (torcheeg/MainThread) \n",
      "[Train] train_loss: 0.058 train_accuracy: 1.000 \n",
      "\n"
     ]
    },
    {
     "name": "stdout",
     "output_type": "stream",
     "text": [
      "Epoch 72: 100%|██████████| 8/8 [00:00<00:00, 27.04it/s, loss=0.0629, train_loss=0.0514, train_accuracy=1.000]"
     ]
    },
    {
     "name": "stderr",
     "output_type": "stream",
     "text": [
      "[2025-02-14 14:17:40] INFO (torcheeg/MainThread) \n",
      "[Train] train_loss: 0.063 train_accuracy: 1.000 \n",
      "\n"
     ]
    },
    {
     "name": "stdout",
     "output_type": "stream",
     "text": [
      "Epoch 73: 100%|██████████| 8/8 [00:00<00:00, 26.30it/s, loss=0.062, train_loss=0.126, train_accuracy=1.000]  "
     ]
    },
    {
     "name": "stderr",
     "output_type": "stream",
     "text": [
      "[2025-02-14 14:17:41] INFO (torcheeg/MainThread) \n",
      "[Train] train_loss: 0.063 train_accuracy: 1.000 \n",
      "\n"
     ]
    },
    {
     "name": "stdout",
     "output_type": "stream",
     "text": [
      "Epoch 74: 100%|██████████| 8/8 [00:00<00:00, 26.44it/s, loss=0.0589, train_loss=0.0386, train_accuracy=1.000]"
     ]
    },
    {
     "name": "stderr",
     "output_type": "stream",
     "text": [
      "[2025-02-14 14:17:41] INFO (torcheeg/MainThread) \n",
      "[Train] train_loss: 0.056 train_accuracy: 0.992 \n",
      "\n"
     ]
    },
    {
     "name": "stdout",
     "output_type": "stream",
     "text": [
      "Epoch 75: 100%|██████████| 8/8 [00:00<00:00, 25.95it/s, loss=0.0573, train_loss=0.0924, train_accuracy=1.000]"
     ]
    },
    {
     "name": "stderr",
     "output_type": "stream",
     "text": [
      "[2025-02-14 14:17:41] INFO (torcheeg/MainThread) \n",
      "[Train] train_loss: 0.055 train_accuracy: 1.000 \n",
      "\n"
     ]
    },
    {
     "name": "stdout",
     "output_type": "stream",
     "text": [
      "Epoch 76: 100%|██████████| 8/8 [00:00<00:00, 26.26it/s, loss=0.0605, train_loss=0.0652, train_accuracy=1.000]"
     ]
    },
    {
     "name": "stderr",
     "output_type": "stream",
     "text": [
      "[2025-02-14 14:17:41] INFO (torcheeg/MainThread) \n",
      "[Train] train_loss: 0.075 train_accuracy: 0.992 \n",
      "\n"
     ]
    },
    {
     "name": "stdout",
     "output_type": "stream",
     "text": [
      "Epoch 77: 100%|██████████| 8/8 [00:00<00:00, 26.23it/s, loss=0.0641, train_loss=0.0162, train_accuracy=1.000]"
     ]
    },
    {
     "name": "stderr",
     "output_type": "stream",
     "text": [
      "Metric train_loss improved by 0.017 >= min_delta = 0.0. New best score: 0.016\n"
     ]
    },
    {
     "name": "stdout",
     "output_type": "stream",
     "text": [
      "Epoch 77: 100%|██████████| 8/8 [00:00<00:00, 26.09it/s, loss=0.0641, train_loss=0.0162, train_accuracy=1.000]"
     ]
    },
    {
     "name": "stderr",
     "output_type": "stream",
     "text": [
      "[2025-02-14 14:17:42] INFO (torcheeg/MainThread) \n",
      "[Train] train_loss: 0.055 train_accuracy: 0.992 \n",
      "\n"
     ]
    },
    {
     "name": "stdout",
     "output_type": "stream",
     "text": [
      "Epoch 78: 100%|██████████| 8/8 [00:00<00:00, 27.41it/s, loss=0.0491, train_loss=0.0564, train_accuracy=1.000]"
     ]
    },
    {
     "name": "stderr",
     "output_type": "stream",
     "text": [
      "[2025-02-14 14:17:42] INFO (torcheeg/MainThread) \n",
      "[Train] train_loss: 0.039 train_accuracy: 1.000 \n",
      "\n"
     ]
    },
    {
     "name": "stdout",
     "output_type": "stream",
     "text": [
      "Epoch 79: 100%|██████████| 8/8 [00:00<00:00, 26.46it/s, loss=0.0415, train_loss=0.0696, train_accuracy=1.000]"
     ]
    },
    {
     "name": "stderr",
     "output_type": "stream",
     "text": [
      "[2025-02-14 14:17:42] INFO (torcheeg/MainThread) \n",
      "[Train] train_loss: 0.044 train_accuracy: 0.992 \n",
      "\n"
     ]
    },
    {
     "name": "stdout",
     "output_type": "stream",
     "text": [
      "Epoch 80: 100%|██████████| 8/8 [00:00<00:00, 27.09it/s, loss=0.0428, train_loss=0.129, train_accuracy=1.000] "
     ]
    },
    {
     "name": "stderr",
     "output_type": "stream",
     "text": [
      "[2025-02-14 14:17:43] INFO (torcheeg/MainThread) \n",
      "[Train] train_loss: 0.042 train_accuracy: 1.000 \n",
      "\n"
     ]
    },
    {
     "name": "stdout",
     "output_type": "stream",
     "text": [
      "Epoch 81: 100%|██████████| 8/8 [00:00<00:00, 27.48it/s, loss=0.0368, train_loss=0.0273, train_accuracy=1.000] "
     ]
    },
    {
     "name": "stderr",
     "output_type": "stream",
     "text": [
      "[2025-02-14 14:17:43] INFO (torcheeg/MainThread) \n",
      "[Train] train_loss: 0.032 train_accuracy: 1.000 \n",
      "\n"
     ]
    },
    {
     "name": "stdout",
     "output_type": "stream",
     "text": [
      "Epoch 82: 100%|██████████| 8/8 [00:00<00:00, 26.26it/s, loss=0.0479, train_loss=0.0575, train_accuracy=1.000]"
     ]
    },
    {
     "name": "stderr",
     "output_type": "stream",
     "text": [
      "[2025-02-14 14:17:43] INFO (torcheeg/MainThread) \n",
      "[Train] train_loss: 0.061 train_accuracy: 0.983 \n",
      "\n"
     ]
    },
    {
     "name": "stdout",
     "output_type": "stream",
     "text": [
      "Epoch 83: 100%|██████████| 8/8 [00:00<00:00, 26.87it/s, loss=0.05, train_loss=0.0164, train_accuracy=1.000]  "
     ]
    },
    {
     "name": "stderr",
     "output_type": "stream",
     "text": [
      "[2025-02-14 14:17:44] INFO (torcheeg/MainThread) \n",
      "[Train] train_loss: 0.051 train_accuracy: 1.000 \n",
      "\n"
     ]
    },
    {
     "name": "stdout",
     "output_type": "stream",
     "text": [
      "Epoch 84: 100%|██████████| 8/8 [00:00<00:00, 27.35it/s, loss=0.0477, train_loss=0.0403, train_accuracy=1.000]"
     ]
    },
    {
     "name": "stderr",
     "output_type": "stream",
     "text": [
      "[2025-02-14 14:17:44] INFO (torcheeg/MainThread) \n",
      "[Train] train_loss: 0.037 train_accuracy: 1.000 \n",
      "\n"
     ]
    },
    {
     "name": "stdout",
     "output_type": "stream",
     "text": [
      "Epoch 85: 100%|██████████| 8/8 [00:00<00:00, 26.68it/s, loss=0.0471, train_loss=0.0142, train_accuracy=1.000]"
     ]
    },
    {
     "name": "stderr",
     "output_type": "stream",
     "text": [
      "Metric train_loss improved by 0.002 >= min_delta = 0.0. New best score: 0.014\n"
     ]
    },
    {
     "name": "stdout",
     "output_type": "stream",
     "text": [
      "Epoch 85: 100%|██████████| 8/8 [00:00<00:00, 26.54it/s, loss=0.0471, train_loss=0.0142, train_accuracy=1.000]"
     ]
    },
    {
     "name": "stderr",
     "output_type": "stream",
     "text": [
      "[2025-02-14 14:17:44] INFO (torcheeg/MainThread) \n",
      "[Train] train_loss: 0.057 train_accuracy: 0.992 \n",
      "\n"
     ]
    },
    {
     "name": "stdout",
     "output_type": "stream",
     "text": [
      "Epoch 86: 100%|██████████| 8/8 [00:00<00:00, 27.37it/s, loss=0.0424, train_loss=0.0285, train_accuracy=1.000]"
     ]
    },
    {
     "name": "stderr",
     "output_type": "stream",
     "text": [
      "[2025-02-14 14:17:44] INFO (torcheeg/MainThread) \n",
      "[Train] train_loss: 0.034 train_accuracy: 1.000 \n",
      "\n"
     ]
    },
    {
     "name": "stdout",
     "output_type": "stream",
     "text": [
      "Epoch 87: 100%|██████████| 8/8 [00:00<00:00, 26.34it/s, loss=0.0384, train_loss=0.0432, train_accuracy=1.000] "
     ]
    },
    {
     "name": "stderr",
     "output_type": "stream",
     "text": [
      "[2025-02-14 14:17:45] INFO (torcheeg/MainThread) \n",
      "[Train] train_loss: 0.031 train_accuracy: 1.000 \n",
      "\n"
     ]
    },
    {
     "name": "stdout",
     "output_type": "stream",
     "text": [
      "Epoch 88: 100%|██████████| 8/8 [00:00<00:00, 26.71it/s, loss=0.0366, train_loss=0.0599, train_accuracy=1.000]"
     ]
    },
    {
     "name": "stderr",
     "output_type": "stream",
     "text": [
      "[2025-02-14 14:17:45] INFO (torcheeg/MainThread) \n",
      "[Train] train_loss: 0.045 train_accuracy: 1.000 \n",
      "\n"
     ]
    },
    {
     "name": "stdout",
     "output_type": "stream",
     "text": [
      "Epoch 89: 100%|██████████| 8/8 [00:00<00:00, 27.37it/s, loss=0.052, train_loss=0.0533, train_accuracy=1.000]  "
     ]
    },
    {
     "name": "stderr",
     "output_type": "stream",
     "text": [
      "[2025-02-14 14:17:45] INFO (torcheeg/MainThread) \n",
      "[Train] train_loss: 0.066 train_accuracy: 0.983 \n",
      "\n"
     ]
    },
    {
     "name": "stdout",
     "output_type": "stream",
     "text": [
      "Epoch 90: 100%|██████████| 8/8 [00:00<00:00, 25.77it/s, loss=0.0525, train_loss=0.0599, train_accuracy=1.000]"
     ]
    },
    {
     "name": "stderr",
     "output_type": "stream",
     "text": [
      "[2025-02-14 14:17:46] INFO (torcheeg/MainThread) \n",
      "[Train] train_loss: 0.042 train_accuracy: 0.992 \n",
      "\n"
     ]
    },
    {
     "name": "stdout",
     "output_type": "stream",
     "text": [
      "Epoch 91: 100%|██████████| 8/8 [00:00<00:00, 25.46it/s, loss=0.0501, train_loss=0.0389, train_accuracy=1.000]"
     ]
    },
    {
     "name": "stderr",
     "output_type": "stream",
     "text": [
      "[2025-02-14 14:17:46] INFO (torcheeg/MainThread) \n",
      "[Train] train_loss: 0.045 train_accuracy: 0.992 \n",
      "\n"
     ]
    },
    {
     "name": "stdout",
     "output_type": "stream",
     "text": [
      "Epoch 92: 100%|██████████| 8/8 [00:00<00:00, 26.41it/s, loss=0.0505, train_loss=0.0593, train_accuracy=1.000] "
     ]
    },
    {
     "name": "stderr",
     "output_type": "stream",
     "text": [
      "[2025-02-14 14:17:46] INFO (torcheeg/MainThread) \n",
      "[Train] train_loss: 0.062 train_accuracy: 0.983 \n",
      "\n"
     ]
    },
    {
     "name": "stdout",
     "output_type": "stream",
     "text": [
      "Epoch 93: 100%|██████████| 8/8 [00:00<00:00, 26.96it/s, loss=0.0383, train_loss=0.0101, train_accuracy=1.000]"
     ]
    },
    {
     "name": "stderr",
     "output_type": "stream",
     "text": [
      "Metric train_loss improved by 0.004 >= min_delta = 0.0. New best score: 0.010\n"
     ]
    },
    {
     "name": "stdout",
     "output_type": "stream",
     "text": [
      "Epoch 93: 100%|██████████| 8/8 [00:00<00:00, 26.81it/s, loss=0.0383, train_loss=0.0101, train_accuracy=1.000]"
     ]
    },
    {
     "name": "stderr",
     "output_type": "stream",
     "text": [
      "[2025-02-14 14:17:47] INFO (torcheeg/MainThread) \n",
      "[Train] train_loss: 0.019 train_accuracy: 1.000 \n",
      "\n"
     ]
    },
    {
     "name": "stdout",
     "output_type": "stream",
     "text": [
      "Epoch 94: 100%|██████████| 8/8 [00:00<00:00, 26.20it/s, loss=0.0285, train_loss=0.0372, train_accuracy=1.000] "
     ]
    },
    {
     "name": "stderr",
     "output_type": "stream",
     "text": [
      "[2025-02-14 14:17:47] INFO (torcheeg/MainThread) \n",
      "[Train] train_loss: 0.026 train_accuracy: 1.000 \n",
      "\n"
     ]
    },
    {
     "name": "stdout",
     "output_type": "stream",
     "text": [
      "Epoch 95: 100%|██████████| 8/8 [00:00<00:00, 25.82it/s, loss=0.0319, train_loss=0.00396, train_accuracy=1.000]"
     ]
    },
    {
     "name": "stderr",
     "output_type": "stream",
     "text": [
      "Metric train_loss improved by 0.006 >= min_delta = 0.0. New best score: 0.004\n"
     ]
    },
    {
     "name": "stdout",
     "output_type": "stream",
     "text": [
      "Epoch 95: 100%|██████████| 8/8 [00:00<00:00, 25.68it/s, loss=0.0319, train_loss=0.00396, train_accuracy=1.000]"
     ]
    },
    {
     "name": "stderr",
     "output_type": "stream",
     "text": [
      "[2025-02-14 14:17:47] INFO (torcheeg/MainThread) \n",
      "[Train] train_loss: 0.045 train_accuracy: 0.975 \n",
      "\n"
     ]
    },
    {
     "name": "stdout",
     "output_type": "stream",
     "text": [
      "Epoch 96: 100%|██████████| 8/8 [00:00<00:00, 25.99it/s, loss=0.0345, train_loss=0.00624, train_accuracy=1.000]"
     ]
    },
    {
     "name": "stderr",
     "output_type": "stream",
     "text": [
      "[2025-02-14 14:17:48] INFO (torcheeg/MainThread) \n",
      "[Train] train_loss: 0.025 train_accuracy: 0.992 \n",
      "\n"
     ]
    },
    {
     "name": "stdout",
     "output_type": "stream",
     "text": [
      "Epoch 97: 100%|██████████| 8/8 [00:00<00:00, 25.29it/s, loss=0.0235, train_loss=0.00998, train_accuracy=1.000]"
     ]
    },
    {
     "name": "stderr",
     "output_type": "stream",
     "text": [
      "[2025-02-14 14:17:48] INFO (torcheeg/MainThread) \n",
      "[Train] train_loss: 0.028 train_accuracy: 0.992 \n",
      "\n"
     ]
    },
    {
     "name": "stdout",
     "output_type": "stream",
     "text": [
      "Epoch 98: 100%|██████████| 8/8 [00:00<00:00, 25.48it/s, loss=0.0305, train_loss=0.0222, train_accuracy=1.000] "
     ]
    },
    {
     "name": "stderr",
     "output_type": "stream",
     "text": [
      "[2025-02-14 14:17:48] INFO (torcheeg/MainThread) \n",
      "[Train] train_loss: 0.037 train_accuracy: 1.000 \n",
      "\n"
     ]
    },
    {
     "name": "stdout",
     "output_type": "stream",
     "text": [
      "Epoch 99: 100%|██████████| 8/8 [00:00<00:00, 26.59it/s, loss=0.0316, train_loss=0.00619, train_accuracy=1.000]"
     ]
    },
    {
     "name": "stderr",
     "output_type": "stream",
     "text": [
      "[2025-02-14 14:17:48] INFO (torcheeg/MainThread) \n",
      "[Train] train_loss: 0.027 train_accuracy: 1.000 \n",
      "\n",
      "`Trainer.fit` stopped: `max_epochs=100` reached.\n"
     ]
    },
    {
     "name": "stdout",
     "output_type": "stream",
     "text": [
      "Epoch 99: 100%|██████████| 8/8 [00:00<00:00, 26.31it/s, loss=0.0316, train_loss=0.00619, train_accuracy=1.000]\n"
     ]
    },
    {
     "name": "stderr",
     "output_type": "stream",
     "text": [
      "GPU available: True (cuda), used: True\n",
      "TPU available: False, using: 0 TPU cores\n",
      "IPU available: False, using: 0 IPUs\n",
      "HPU available: False, using: 0 HPUs\n",
      "Missing logger folder: /root/autodl-tmp/.autodl/kinlaw/GANSER/mycode/lightning_logs\n",
      "LOCAL_RANK: 0 - CUDA_VISIBLE_DEVICES: [0]\n",
      "/root/autodl-tmp/conda/envs/law/lib/python3.8/site-packages/pytorch_lightning/trainer/connectors/data_connector.py:224: PossibleUserWarning: The dataloader, test_dataloader 0, does not have many workers which may be a bottleneck. Consider increasing the value of the `num_workers` argument` (try 128 which is the number of cpus on this machine) in the `DataLoader` init to improve performance.\n",
      "  rank_zero_warn(\n"
     ]
    },
    {
     "name": "stdout",
     "output_type": "stream",
     "text": [
      "Testing DataLoader 0: 100%|██████████| 3/3 [00:00<00:00, 103.33it/s]"
     ]
    },
    {
     "name": "stderr",
     "output_type": "stream",
     "text": [
      "[2025-02-14 14:17:49] INFO (torcheeg/MainThread) \n",
      "[Test] test_loss: 1.787 test_accuracy: 0.650 \n",
      "\n"
     ]
    },
    {
     "name": "stdout",
     "output_type": "stream",
     "text": [
      "Testing DataLoader 0: 100%|██████████| 3/3 [00:00<00:00, 88.12it/s] \n",
      "────────────────────────────────────────────────────────────────────────────────────────────────────────────────────────\n",
      "       Test metric             DataLoader 0\n",
      "────────────────────────────────────────────────────────────────────────────────────────────────────────────────────────\n",
      "      test_accuracy         0.6499999761581421\n",
      "        test_loss            1.787470817565918\n",
      "────────────────────────────────────────────────────────────────────────────────────────────────────────────────────────\n",
      "已删除文件夹: /root/autodl-tmp/.autodl/kinlaw/GANSER/mycode/lightning_logs\n"
     ]
    },
    {
     "name": "stderr",
     "output_type": "stream",
     "text": [
      "GPU available: True (cuda), used: True\n",
      "TPU available: False, using: 0 TPU cores\n",
      "IPU available: False, using: 0 IPUs\n",
      "HPU available: False, using: 0 HPUs\n",
      "LOCAL_RANK: 0 - CUDA_VISIBLE_DEVICES: [0]\n",
      "/root/autodl-tmp/conda/envs/law/lib/python3.8/site-packages/pytorch_lightning/trainer/connectors/data_connector.py:224: PossibleUserWarning: The dataloader, train_dataloader, does not have many workers which may be a bottleneck. Consider increasing the value of the `num_workers` argument` (try 128 which is the number of cpus on this machine) in the `DataLoader` init to improve performance.\n",
      "  rank_zero_warn(\n"
     ]
    },
    {
     "name": "stdout",
     "output_type": "stream",
     "text": [
      "Epoch 0: 100%|██████████| 8/8 [00:00<00:00, 25.70it/s, loss=0.723, train_loss=0.893, train_accuracy=0.250]"
     ]
    },
    {
     "name": "stderr",
     "output_type": "stream",
     "text": [
      "Metric train_loss improved. New best score: 0.893\n"
     ]
    },
    {
     "name": "stdout",
     "output_type": "stream",
     "text": [
      "Epoch 0: 100%|██████████| 8/8 [00:00<00:00, 25.57it/s, loss=0.723, train_loss=0.893, train_accuracy=0.250]"
     ]
    },
    {
     "name": "stderr",
     "output_type": "stream",
     "text": [
      "/root/autodl-tmp/conda/envs/law/lib/python3.8/site-packages/pytorch_lightning/core/module.py:493: UserWarning: You called `self.log('train_loss', ..., logger=True)` but have no logger configured. You can enable one by doing `Trainer(logger=ALogger(...))`\n",
      "  rank_zero_warn(\n",
      "/root/autodl-tmp/conda/envs/law/lib/python3.8/site-packages/pytorch_lightning/core/module.py:493: UserWarning: You called `self.log('train_accuracy', ..., logger=True)` but have no logger configured. You can enable one by doing `Trainer(logger=ALogger(...))`\n",
      "  rank_zero_warn(\n",
      "[2025-02-14 14:17:49] INFO (torcheeg/MainThread) \n",
      "[Train] train_loss: 0.723 train_accuracy: 0.500 \n",
      "\n"
     ]
    },
    {
     "name": "stdout",
     "output_type": "stream",
     "text": [
      "Epoch 1: 100%|██████████| 8/8 [00:00<00:00, 26.09it/s, loss=0.705, train_loss=0.695, train_accuracy=0.500]"
     ]
    },
    {
     "name": "stderr",
     "output_type": "stream",
     "text": [
      "Metric train_loss improved by 0.198 >= min_delta = 0.0. New best score: 0.695\n"
     ]
    },
    {
     "name": "stdout",
     "output_type": "stream",
     "text": [
      "Epoch 1: 100%|██████████| 8/8 [00:00<00:00, 25.95it/s, loss=0.705, train_loss=0.695, train_accuracy=0.500]"
     ]
    },
    {
     "name": "stderr",
     "output_type": "stream",
     "text": [
      "[2025-02-14 14:17:49] INFO (torcheeg/MainThread) \n",
      "[Train] train_loss: 0.686 train_accuracy: 0.550 \n",
      "\n"
     ]
    },
    {
     "name": "stdout",
     "output_type": "stream",
     "text": [
      "Epoch 2: 100%|██████████| 8/8 [00:00<00:00, 27.96it/s, loss=0.698, train_loss=0.753, train_accuracy=0.375]"
     ]
    },
    {
     "name": "stderr",
     "output_type": "stream",
     "text": [
      "[2025-02-14 14:17:50] INFO (torcheeg/MainThread) \n",
      "[Train] train_loss: 0.683 train_accuracy: 0.600 \n",
      "\n"
     ]
    },
    {
     "name": "stdout",
     "output_type": "stream",
     "text": [
      "Epoch 3: 100%|██████████| 8/8 [00:00<00:00, 27.25it/s, loss=0.673, train_loss=0.667, train_accuracy=0.500]"
     ]
    },
    {
     "name": "stderr",
     "output_type": "stream",
     "text": [
      "Metric train_loss improved by 0.027 >= min_delta = 0.0. New best score: 0.667\n"
     ]
    },
    {
     "name": "stdout",
     "output_type": "stream",
     "text": [
      "Epoch 3: 100%|██████████| 8/8 [00:00<00:00, 27.11it/s, loss=0.673, train_loss=0.667, train_accuracy=0.500]"
     ]
    },
    {
     "name": "stderr",
     "output_type": "stream",
     "text": [
      "[2025-02-14 14:17:50] INFO (torcheeg/MainThread) \n",
      "[Train] train_loss: 0.656 train_accuracy: 0.583 \n",
      "\n"
     ]
    },
    {
     "name": "stdout",
     "output_type": "stream",
     "text": [
      "Epoch 4: 100%|██████████| 8/8 [00:00<00:00, 27.88it/s, loss=0.657, train_loss=0.700, train_accuracy=0.375]"
     ]
    },
    {
     "name": "stderr",
     "output_type": "stream",
     "text": [
      "[2025-02-14 14:17:50] INFO (torcheeg/MainThread) \n",
      "[Train] train_loss: 0.655 train_accuracy: 0.617 \n",
      "\n"
     ]
    },
    {
     "name": "stdout",
     "output_type": "stream",
     "text": [
      "Epoch 5: 100%|██████████| 8/8 [00:00<00:00, 28.26it/s, loss=0.654, train_loss=0.610, train_accuracy=0.500]"
     ]
    },
    {
     "name": "stderr",
     "output_type": "stream",
     "text": [
      "Metric train_loss improved by 0.057 >= min_delta = 0.0. New best score: 0.610\n"
     ]
    },
    {
     "name": "stdout",
     "output_type": "stream",
     "text": [
      "Epoch 5: 100%|██████████| 8/8 [00:00<00:00, 28.11it/s, loss=0.654, train_loss=0.610, train_accuracy=0.500]"
     ]
    },
    {
     "name": "stderr",
     "output_type": "stream",
     "text": [
      "[2025-02-14 14:17:50] INFO (torcheeg/MainThread) \n",
      "[Train] train_loss: 0.652 train_accuracy: 0.600 \n",
      "\n"
     ]
    },
    {
     "name": "stdout",
     "output_type": "stream",
     "text": [
      "Epoch 6: 100%|██████████| 8/8 [00:00<00:00, 28.30it/s, loss=0.641, train_loss=0.696, train_accuracy=0.375]"
     ]
    },
    {
     "name": "stderr",
     "output_type": "stream",
     "text": [
      "[2025-02-14 14:17:51] INFO (torcheeg/MainThread) \n",
      "[Train] train_loss: 0.612 train_accuracy: 0.692 \n",
      "\n"
     ]
    },
    {
     "name": "stdout",
     "output_type": "stream",
     "text": [
      "Epoch 7: 100%|██████████| 8/8 [00:00<00:00, 28.53it/s, loss=0.636, train_loss=0.610, train_accuracy=0.625]"
     ]
    },
    {
     "name": "stderr",
     "output_type": "stream",
     "text": [
      "[2025-02-14 14:17:51] INFO (torcheeg/MainThread) \n",
      "[Train] train_loss: 0.629 train_accuracy: 0.642 \n",
      "\n"
     ]
    },
    {
     "name": "stdout",
     "output_type": "stream",
     "text": [
      "Epoch 8: 100%|██████████| 8/8 [00:00<00:00, 26.80it/s, loss=0.624, train_loss=0.672, train_accuracy=0.500]"
     ]
    },
    {
     "name": "stderr",
     "output_type": "stream",
     "text": [
      "[2025-02-14 14:17:51] INFO (torcheeg/MainThread) \n",
      "[Train] train_loss: 0.607 train_accuracy: 0.717 \n",
      "\n"
     ]
    },
    {
     "name": "stdout",
     "output_type": "stream",
     "text": [
      "Epoch 9: 100%|██████████| 8/8 [00:00<00:00, 27.01it/s, loss=0.625, train_loss=0.672, train_accuracy=0.500]"
     ]
    },
    {
     "name": "stderr",
     "output_type": "stream",
     "text": [
      "[2025-02-14 14:17:52] INFO (torcheeg/MainThread) \n",
      "[Train] train_loss: 0.618 train_accuracy: 0.667 \n",
      "\n"
     ]
    },
    {
     "name": "stdout",
     "output_type": "stream",
     "text": [
      "Epoch 10: 100%|██████████| 8/8 [00:00<00:00, 27.66it/s, loss=0.61, train_loss=0.671, train_accuracy=0.625] "
     ]
    },
    {
     "name": "stderr",
     "output_type": "stream",
     "text": [
      "[2025-02-14 14:17:52] INFO (torcheeg/MainThread) \n",
      "[Train] train_loss: 0.602 train_accuracy: 0.717 \n",
      "\n"
     ]
    },
    {
     "name": "stdout",
     "output_type": "stream",
     "text": [
      "Epoch 11: 100%|██████████| 8/8 [00:00<00:00, 28.22it/s, loss=0.602, train_loss=0.714, train_accuracy=0.375]"
     ]
    },
    {
     "name": "stderr",
     "output_type": "stream",
     "text": [
      "[2025-02-14 14:17:52] INFO (torcheeg/MainThread) \n",
      "[Train] train_loss: 0.597 train_accuracy: 0.708 \n",
      "\n"
     ]
    },
    {
     "name": "stdout",
     "output_type": "stream",
     "text": [
      "Epoch 12: 100%|██████████| 8/8 [00:00<00:00, 27.27it/s, loss=0.588, train_loss=0.654, train_accuracy=0.750]"
     ]
    },
    {
     "name": "stderr",
     "output_type": "stream",
     "text": [
      "[2025-02-14 14:17:52] INFO (torcheeg/MainThread) \n",
      "[Train] train_loss: 0.590 train_accuracy: 0.733 \n",
      "\n"
     ]
    },
    {
     "name": "stdout",
     "output_type": "stream",
     "text": [
      "Epoch 13: 100%|██████████| 8/8 [00:00<00:00, 27.29it/s, loss=0.596, train_loss=0.672, train_accuracy=0.625]"
     ]
    },
    {
     "name": "stderr",
     "output_type": "stream",
     "text": [
      "[2025-02-14 14:17:53] INFO (torcheeg/MainThread) \n",
      "[Train] train_loss: 0.592 train_accuracy: 0.733 \n",
      "\n"
     ]
    },
    {
     "name": "stdout",
     "output_type": "stream",
     "text": [
      "Epoch 14: 100%|██████████| 8/8 [00:00<00:00, 27.12it/s, loss=0.578, train_loss=0.724, train_accuracy=0.375]"
     ]
    },
    {
     "name": "stderr",
     "output_type": "stream",
     "text": [
      "[2025-02-14 14:17:53] INFO (torcheeg/MainThread) \n",
      "[Train] train_loss: 0.559 train_accuracy: 0.783 \n",
      "\n"
     ]
    },
    {
     "name": "stdout",
     "output_type": "stream",
     "text": [
      "Epoch 15: 100%|██████████| 8/8 [00:00<00:00, 27.69it/s, loss=0.562, train_loss=0.628, train_accuracy=0.625]"
     ]
    },
    {
     "name": "stderr",
     "output_type": "stream",
     "text": [
      "[2025-02-14 14:17:53] INFO (torcheeg/MainThread) \n",
      "[Train] train_loss: 0.551 train_accuracy: 0.758 \n",
      "\n"
     ]
    },
    {
     "name": "stdout",
     "output_type": "stream",
     "text": [
      "Epoch 16: 100%|██████████| 8/8 [00:00<00:00, 26.95it/s, loss=0.554, train_loss=0.599, train_accuracy=0.500]"
     ]
    },
    {
     "name": "stderr",
     "output_type": "stream",
     "text": [
      "Metric train_loss improved by 0.011 >= min_delta = 0.0. New best score: 0.599\n"
     ]
    },
    {
     "name": "stdout",
     "output_type": "stream",
     "text": [
      "Epoch 16: 100%|██████████| 8/8 [00:00<00:00, 26.80it/s, loss=0.554, train_loss=0.599, train_accuracy=0.500]"
     ]
    },
    {
     "name": "stderr",
     "output_type": "stream",
     "text": [
      "[2025-02-14 14:17:54] INFO (torcheeg/MainThread) \n",
      "[Train] train_loss: 0.557 train_accuracy: 0.775 \n",
      "\n"
     ]
    },
    {
     "name": "stdout",
     "output_type": "stream",
     "text": [
      "Epoch 17: 100%|██████████| 8/8 [00:00<00:00, 25.65it/s, loss=0.549, train_loss=0.609, train_accuracy=0.750]"
     ]
    },
    {
     "name": "stderr",
     "output_type": "stream",
     "text": [
      "[2025-02-14 14:17:54] INFO (torcheeg/MainThread) \n",
      "[Train] train_loss: 0.532 train_accuracy: 0.783 \n",
      "\n"
     ]
    },
    {
     "name": "stdout",
     "output_type": "stream",
     "text": [
      "Epoch 18: 100%|██████████| 8/8 [00:00<00:00, 28.43it/s, loss=0.543, train_loss=0.384, train_accuracy=0.875]"
     ]
    },
    {
     "name": "stderr",
     "output_type": "stream",
     "text": [
      "Metric train_loss improved by 0.215 >= min_delta = 0.0. New best score: 0.384\n"
     ]
    },
    {
     "name": "stdout",
     "output_type": "stream",
     "text": [
      "Epoch 18: 100%|██████████| 8/8 [00:00<00:00, 28.27it/s, loss=0.543, train_loss=0.384, train_accuracy=0.875]"
     ]
    },
    {
     "name": "stderr",
     "output_type": "stream",
     "text": [
      "[2025-02-14 14:17:54] INFO (torcheeg/MainThread) \n",
      "[Train] train_loss: 0.526 train_accuracy: 0.767 \n",
      "\n"
     ]
    },
    {
     "name": "stdout",
     "output_type": "stream",
     "text": [
      "Epoch 19: 100%|██████████| 8/8 [00:00<00:00, 23.57it/s, loss=0.516, train_loss=0.437, train_accuracy=0.875]"
     ]
    },
    {
     "name": "stderr",
     "output_type": "stream",
     "text": [
      "[2025-02-14 14:17:55] INFO (torcheeg/MainThread) \n",
      "[Train] train_loss: 0.483 train_accuracy: 0.858 \n",
      "\n"
     ]
    },
    {
     "name": "stdout",
     "output_type": "stream",
     "text": [
      "Epoch 20: 100%|██████████| 8/8 [00:00<00:00, 21.93it/s, loss=0.498, train_loss=0.464, train_accuracy=1.000]"
     ]
    },
    {
     "name": "stderr",
     "output_type": "stream",
     "text": [
      "[2025-02-14 14:17:55] INFO (torcheeg/MainThread) \n",
      "[Train] train_loss: 0.514 train_accuracy: 0.783 \n",
      "\n"
     ]
    },
    {
     "name": "stdout",
     "output_type": "stream",
     "text": [
      "Epoch 21: 100%|██████████| 8/8 [00:00<00:00, 22.27it/s, loss=0.496, train_loss=0.503, train_accuracy=0.750]"
     ]
    },
    {
     "name": "stderr",
     "output_type": "stream",
     "text": [
      "[2025-02-14 14:17:55] INFO (torcheeg/MainThread) \n",
      "[Train] train_loss: 0.489 train_accuracy: 0.817 \n",
      "\n"
     ]
    },
    {
     "name": "stdout",
     "output_type": "stream",
     "text": [
      "Epoch 22: 100%|██████████| 8/8 [00:00<00:00, 22.99it/s, loss=0.488, train_loss=0.531, train_accuracy=0.875]"
     ]
    },
    {
     "name": "stderr",
     "output_type": "stream",
     "text": [
      "[2025-02-14 14:17:56] INFO (torcheeg/MainThread) \n",
      "[Train] train_loss: 0.499 train_accuracy: 0.792 \n",
      "\n"
     ]
    },
    {
     "name": "stdout",
     "output_type": "stream",
     "text": [
      "Epoch 23: 100%|██████████| 8/8 [00:00<00:00, 22.63it/s, loss=0.488, train_loss=0.468, train_accuracy=0.875]"
     ]
    },
    {
     "name": "stderr",
     "output_type": "stream",
     "text": [
      "[2025-02-14 14:17:56] INFO (torcheeg/MainThread) \n",
      "[Train] train_loss: 0.467 train_accuracy: 0.817 \n",
      "\n"
     ]
    },
    {
     "name": "stdout",
     "output_type": "stream",
     "text": [
      "Epoch 24: 100%|██████████| 8/8 [00:00<00:00, 22.74it/s, loss=0.48, train_loss=0.472, train_accuracy=0.875] "
     ]
    },
    {
     "name": "stderr",
     "output_type": "stream",
     "text": [
      "[2025-02-14 14:17:56] INFO (torcheeg/MainThread) \n",
      "[Train] train_loss: 0.467 train_accuracy: 0.850 \n",
      "\n"
     ]
    },
    {
     "name": "stdout",
     "output_type": "stream",
     "text": [
      "Epoch 25: 100%|██████████| 8/8 [00:00<00:00, 23.18it/s, loss=0.459, train_loss=0.629, train_accuracy=0.750]"
     ]
    },
    {
     "name": "stderr",
     "output_type": "stream",
     "text": [
      "[2025-02-14 14:17:57] INFO (torcheeg/MainThread) \n",
      "[Train] train_loss: 0.463 train_accuracy: 0.825 \n",
      "\n"
     ]
    },
    {
     "name": "stdout",
     "output_type": "stream",
     "text": [
      "Epoch 26: 100%|██████████| 8/8 [00:00<00:00, 23.33it/s, loss=0.445, train_loss=0.314, train_accuracy=1.000]"
     ]
    },
    {
     "name": "stderr",
     "output_type": "stream",
     "text": [
      "Metric train_loss improved by 0.070 >= min_delta = 0.0. New best score: 0.314\n"
     ]
    },
    {
     "name": "stdout",
     "output_type": "stream",
     "text": [
      "Epoch 26: 100%|██████████| 8/8 [00:00<00:00, 23.22it/s, loss=0.445, train_loss=0.314, train_accuracy=1.000]"
     ]
    },
    {
     "name": "stderr",
     "output_type": "stream",
     "text": [
      "[2025-02-14 14:17:57] INFO (torcheeg/MainThread) \n",
      "[Train] train_loss: 0.417 train_accuracy: 0.875 \n",
      "\n"
     ]
    },
    {
     "name": "stdout",
     "output_type": "stream",
     "text": [
      "Epoch 27: 100%|██████████| 8/8 [00:00<00:00, 22.94it/s, loss=0.414, train_loss=0.386, train_accuracy=0.875]"
     ]
    },
    {
     "name": "stderr",
     "output_type": "stream",
     "text": [
      "[2025-02-14 14:17:57] INFO (torcheeg/MainThread) \n",
      "[Train] train_loss: 0.385 train_accuracy: 0.917 \n",
      "\n"
     ]
    },
    {
     "name": "stdout",
     "output_type": "stream",
     "text": [
      "Epoch 28: 100%|██████████| 8/8 [00:00<00:00, 23.32it/s, loss=0.413, train_loss=0.580, train_accuracy=0.625]"
     ]
    },
    {
     "name": "stderr",
     "output_type": "stream",
     "text": [
      "[2025-02-14 14:17:58] INFO (torcheeg/MainThread) \n",
      "[Train] train_loss: 0.449 train_accuracy: 0.842 \n",
      "\n"
     ]
    },
    {
     "name": "stdout",
     "output_type": "stream",
     "text": [
      "Epoch 29: 100%|██████████| 8/8 [00:00<00:00, 25.47it/s, loss=0.409, train_loss=0.220, train_accuracy=1.000]"
     ]
    },
    {
     "name": "stderr",
     "output_type": "stream",
     "text": [
      "Metric train_loss improved by 0.094 >= min_delta = 0.0. New best score: 0.220\n"
     ]
    },
    {
     "name": "stdout",
     "output_type": "stream",
     "text": [
      "Epoch 29: 100%|██████████| 8/8 [00:00<00:00, 25.34it/s, loss=0.409, train_loss=0.220, train_accuracy=1.000]"
     ]
    },
    {
     "name": "stderr",
     "output_type": "stream",
     "text": [
      "[2025-02-14 14:17:58] INFO (torcheeg/MainThread) \n",
      "[Train] train_loss: 0.383 train_accuracy: 0.917 \n",
      "\n"
     ]
    },
    {
     "name": "stdout",
     "output_type": "stream",
     "text": [
      "Epoch 30: 100%|██████████| 8/8 [00:00<00:00, 27.21it/s, loss=0.402, train_loss=0.351, train_accuracy=0.875]"
     ]
    },
    {
     "name": "stderr",
     "output_type": "stream",
     "text": [
      "[2025-02-14 14:17:58] INFO (torcheeg/MainThread) \n",
      "[Train] train_loss: 0.384 train_accuracy: 0.875 \n",
      "\n"
     ]
    },
    {
     "name": "stdout",
     "output_type": "stream",
     "text": [
      "Epoch 31: 100%|██████████| 8/8 [00:00<00:00, 28.10it/s, loss=0.37, train_loss=0.415, train_accuracy=0.875] "
     ]
    },
    {
     "name": "stderr",
     "output_type": "stream",
     "text": [
      "[2025-02-14 14:17:59] INFO (torcheeg/MainThread) \n",
      "[Train] train_loss: 0.352 train_accuracy: 0.875 \n",
      "\n"
     ]
    },
    {
     "name": "stdout",
     "output_type": "stream",
     "text": [
      "Epoch 32: 100%|██████████| 8/8 [00:00<00:00, 27.28it/s, loss=0.365, train_loss=0.359, train_accuracy=0.875]"
     ]
    },
    {
     "name": "stderr",
     "output_type": "stream",
     "text": [
      "[2025-02-14 14:17:59] INFO (torcheeg/MainThread) \n",
      "[Train] train_loss: 0.369 train_accuracy: 0.925 \n",
      "\n"
     ]
    },
    {
     "name": "stdout",
     "output_type": "stream",
     "text": [
      "Epoch 33: 100%|██████████| 8/8 [00:00<00:00, 27.29it/s, loss=0.37, train_loss=0.622, train_accuracy=0.500] "
     ]
    },
    {
     "name": "stderr",
     "output_type": "stream",
     "text": [
      "[2025-02-14 14:17:59] INFO (torcheeg/MainThread) \n",
      "[Train] train_loss: 0.376 train_accuracy: 0.850 \n",
      "\n"
     ]
    },
    {
     "name": "stdout",
     "output_type": "stream",
     "text": [
      "Epoch 34: 100%|██████████| 8/8 [00:00<00:00, 28.64it/s, loss=0.353, train_loss=0.322, train_accuracy=0.875]"
     ]
    },
    {
     "name": "stderr",
     "output_type": "stream",
     "text": [
      "[2025-02-14 14:18:00] INFO (torcheeg/MainThread) \n",
      "[Train] train_loss: 0.338 train_accuracy: 0.917 \n",
      "\n"
     ]
    },
    {
     "name": "stdout",
     "output_type": "stream",
     "text": [
      "Epoch 35: 100%|██████████| 8/8 [00:00<00:00, 28.34it/s, loss=0.352, train_loss=0.392, train_accuracy=0.875]"
     ]
    },
    {
     "name": "stderr",
     "output_type": "stream",
     "text": [
      "[2025-02-14 14:18:00] INFO (torcheeg/MainThread) \n",
      "[Train] train_loss: 0.341 train_accuracy: 0.900 \n",
      "\n"
     ]
    },
    {
     "name": "stdout",
     "output_type": "stream",
     "text": [
      "Epoch 36: 100%|██████████| 8/8 [00:00<00:00, 28.50it/s, loss=0.334, train_loss=0.127, train_accuracy=1.000]"
     ]
    },
    {
     "name": "stderr",
     "output_type": "stream",
     "text": [
      "Metric train_loss improved by 0.093 >= min_delta = 0.0. New best score: 0.127\n"
     ]
    },
    {
     "name": "stdout",
     "output_type": "stream",
     "text": [
      "Epoch 36: 100%|██████████| 8/8 [00:00<00:00, 28.35it/s, loss=0.334, train_loss=0.127, train_accuracy=1.000]"
     ]
    },
    {
     "name": "stderr",
     "output_type": "stream",
     "text": [
      "[2025-02-14 14:18:00] INFO (torcheeg/MainThread) \n",
      "[Train] train_loss: 0.300 train_accuracy: 0.908 \n",
      "\n"
     ]
    },
    {
     "name": "stdout",
     "output_type": "stream",
     "text": [
      "Epoch 37: 100%|██████████| 8/8 [00:00<00:00, 27.82it/s, loss=0.289, train_loss=0.141, train_accuracy=1.000]"
     ]
    },
    {
     "name": "stderr",
     "output_type": "stream",
     "text": [
      "[2025-02-14 14:18:00] INFO (torcheeg/MainThread) \n",
      "[Train] train_loss: 0.253 train_accuracy: 0.950 \n",
      "\n"
     ]
    },
    {
     "name": "stdout",
     "output_type": "stream",
     "text": [
      "Epoch 38: 100%|██████████| 8/8 [00:00<00:00, 28.04it/s, loss=0.258, train_loss=0.212, train_accuracy=1.000]"
     ]
    },
    {
     "name": "stderr",
     "output_type": "stream",
     "text": [
      "[2025-02-14 14:18:01] INFO (torcheeg/MainThread) \n",
      "[Train] train_loss: 0.248 train_accuracy: 0.942 \n",
      "\n"
     ]
    },
    {
     "name": "stdout",
     "output_type": "stream",
     "text": [
      "Epoch 39: 100%|██████████| 8/8 [00:00<00:00, 27.82it/s, loss=0.241, train_loss=0.278, train_accuracy=0.875]"
     ]
    },
    {
     "name": "stderr",
     "output_type": "stream",
     "text": [
      "[2025-02-14 14:18:01] INFO (torcheeg/MainThread) \n",
      "[Train] train_loss: 0.256 train_accuracy: 0.967 \n",
      "\n"
     ]
    },
    {
     "name": "stdout",
     "output_type": "stream",
     "text": [
      "Epoch 40: 100%|██████████| 8/8 [00:00<00:00, 27.26it/s, loss=0.257, train_loss=0.381, train_accuracy=1.000]"
     ]
    },
    {
     "name": "stderr",
     "output_type": "stream",
     "text": [
      "[2025-02-14 14:18:01] INFO (torcheeg/MainThread) \n",
      "[Train] train_loss: 0.269 train_accuracy: 0.942 \n",
      "\n"
     ]
    },
    {
     "name": "stdout",
     "output_type": "stream",
     "text": [
      "Epoch 41: 100%|██████████| 8/8 [00:00<00:00, 27.44it/s, loss=0.276, train_loss=0.316, train_accuracy=0.875]"
     ]
    },
    {
     "name": "stderr",
     "output_type": "stream",
     "text": [
      "[2025-02-14 14:18:02] INFO (torcheeg/MainThread) \n",
      "[Train] train_loss: 0.284 train_accuracy: 0.917 \n",
      "\n"
     ]
    },
    {
     "name": "stdout",
     "output_type": "stream",
     "text": [
      "Epoch 42: 100%|██████████| 8/8 [00:00<00:00, 26.79it/s, loss=0.258, train_loss=0.178, train_accuracy=1.000]"
     ]
    },
    {
     "name": "stderr",
     "output_type": "stream",
     "text": [
      "[2025-02-14 14:18:02] INFO (torcheeg/MainThread) \n",
      "[Train] train_loss: 0.231 train_accuracy: 0.942 \n",
      "\n"
     ]
    },
    {
     "name": "stdout",
     "output_type": "stream",
     "text": [
      "Epoch 43: 100%|██████████| 8/8 [00:00<00:00, 25.89it/s, loss=0.251, train_loss=0.134, train_accuracy=1.000]"
     ]
    },
    {
     "name": "stderr",
     "output_type": "stream",
     "text": [
      "[2025-02-14 14:18:02] INFO (torcheeg/MainThread) \n",
      "[Train] train_loss: 0.244 train_accuracy: 0.908 \n",
      "\n"
     ]
    },
    {
     "name": "stdout",
     "output_type": "stream",
     "text": [
      "Epoch 44: 100%|██████████| 8/8 [00:00<00:00, 28.30it/s, loss=0.233, train_loss=0.186, train_accuracy=1.000]"
     ]
    },
    {
     "name": "stderr",
     "output_type": "stream",
     "text": [
      "[2025-02-14 14:18:03] INFO (torcheeg/MainThread) \n",
      "[Train] train_loss: 0.217 train_accuracy: 0.983 \n",
      "\n"
     ]
    },
    {
     "name": "stdout",
     "output_type": "stream",
     "text": [
      "Epoch 45: 100%|██████████| 8/8 [00:00<00:00, 28.50it/s, loss=0.211, train_loss=0.263, train_accuracy=1.000]"
     ]
    },
    {
     "name": "stderr",
     "output_type": "stream",
     "text": [
      "[2025-02-14 14:18:03] INFO (torcheeg/MainThread) \n",
      "[Train] train_loss: 0.198 train_accuracy: 0.958 \n",
      "\n"
     ]
    },
    {
     "name": "stdout",
     "output_type": "stream",
     "text": [
      "Epoch 46: 100%|██████████| 8/8 [00:00<00:00, 27.63it/s, loss=0.2, train_loss=0.141, train_accuracy=1.000]  "
     ]
    },
    {
     "name": "stderr",
     "output_type": "stream",
     "text": [
      "[2025-02-14 14:18:03] INFO (torcheeg/MainThread) \n",
      "[Train] train_loss: 0.205 train_accuracy: 0.942 \n",
      "\n"
     ]
    },
    {
     "name": "stdout",
     "output_type": "stream",
     "text": [
      "Epoch 47: 100%|██████████| 8/8 [00:00<00:00, 27.56it/s, loss=0.198, train_loss=0.162, train_accuracy=0.875]"
     ]
    },
    {
     "name": "stderr",
     "output_type": "stream",
     "text": [
      "[2025-02-14 14:18:03] INFO (torcheeg/MainThread) \n",
      "[Train] train_loss: 0.187 train_accuracy: 0.967 \n",
      "\n"
     ]
    },
    {
     "name": "stdout",
     "output_type": "stream",
     "text": [
      "Epoch 48: 100%|██████████| 8/8 [00:00<00:00, 26.18it/s, loss=0.181, train_loss=0.207, train_accuracy=0.875]"
     ]
    },
    {
     "name": "stderr",
     "output_type": "stream",
     "text": [
      "[2025-02-14 14:18:04] INFO (torcheeg/MainThread) \n",
      "[Train] train_loss: 0.176 train_accuracy: 0.975 \n",
      "\n"
     ]
    },
    {
     "name": "stdout",
     "output_type": "stream",
     "text": [
      "Epoch 49: 100%|██████████| 8/8 [00:00<00:00, 28.45it/s, loss=0.161, train_loss=0.227, train_accuracy=0.875]"
     ]
    },
    {
     "name": "stderr",
     "output_type": "stream",
     "text": [
      "[2025-02-14 14:18:04] INFO (torcheeg/MainThread) \n",
      "[Train] train_loss: 0.149 train_accuracy: 0.975 \n",
      "\n"
     ]
    },
    {
     "name": "stdout",
     "output_type": "stream",
     "text": [
      "Epoch 50: 100%|██████████| 8/8 [00:00<00:00, 27.88it/s, loss=0.151, train_loss=0.101, train_accuracy=1.000]"
     ]
    },
    {
     "name": "stderr",
     "output_type": "stream",
     "text": [
      "Metric train_loss improved by 0.026 >= min_delta = 0.0. New best score: 0.101\n"
     ]
    },
    {
     "name": "stdout",
     "output_type": "stream",
     "text": [
      "Epoch 50: 100%|██████████| 8/8 [00:00<00:00, 27.74it/s, loss=0.151, train_loss=0.101, train_accuracy=1.000]"
     ]
    },
    {
     "name": "stderr",
     "output_type": "stream",
     "text": [
      "[2025-02-14 14:18:04] INFO (torcheeg/MainThread) \n",
      "[Train] train_loss: 0.141 train_accuracy: 0.975 \n",
      "\n"
     ]
    },
    {
     "name": "stdout",
     "output_type": "stream",
     "text": [
      "Epoch 51: 100%|██████████| 8/8 [00:00<00:00, 28.02it/s, loss=0.144, train_loss=0.068, train_accuracy=1.000] "
     ]
    },
    {
     "name": "stderr",
     "output_type": "stream",
     "text": [
      "Metric train_loss improved by 0.033 >= min_delta = 0.0. New best score: 0.068\n"
     ]
    },
    {
     "name": "stdout",
     "output_type": "stream",
     "text": [
      "Epoch 51: 100%|██████████| 8/8 [00:00<00:00, 27.86it/s, loss=0.144, train_loss=0.068, train_accuracy=1.000]"
     ]
    },
    {
     "name": "stderr",
     "output_type": "stream",
     "text": [
      "[2025-02-14 14:18:05] INFO (torcheeg/MainThread) \n",
      "[Train] train_loss: 0.138 train_accuracy: 0.983 \n",
      "\n"
     ]
    },
    {
     "name": "stdout",
     "output_type": "stream",
     "text": [
      "Epoch 52: 100%|██████████| 8/8 [00:00<00:00, 27.81it/s, loss=0.145, train_loss=0.216, train_accuracy=0.875] "
     ]
    },
    {
     "name": "stderr",
     "output_type": "stream",
     "text": [
      "[2025-02-14 14:18:05] INFO (torcheeg/MainThread) \n",
      "[Train] train_loss: 0.144 train_accuracy: 0.983 \n",
      "\n"
     ]
    },
    {
     "name": "stdout",
     "output_type": "stream",
     "text": [
      "Epoch 53: 100%|██████████| 8/8 [00:00<00:00, 27.35it/s, loss=0.146, train_loss=0.122, train_accuracy=1.000] "
     ]
    },
    {
     "name": "stderr",
     "output_type": "stream",
     "text": [
      "[2025-02-14 14:18:05] INFO (torcheeg/MainThread) \n",
      "[Train] train_loss: 0.151 train_accuracy: 0.967 \n",
      "\n"
     ]
    },
    {
     "name": "stdout",
     "output_type": "stream",
     "text": [
      "Epoch 54: 100%|██████████| 8/8 [00:00<00:00, 26.56it/s, loss=0.146, train_loss=0.145, train_accuracy=1.000] "
     ]
    },
    {
     "name": "stderr",
     "output_type": "stream",
     "text": [
      "[2025-02-14 14:18:05] INFO (torcheeg/MainThread) \n",
      "[Train] train_loss: 0.127 train_accuracy: 0.983 \n",
      "\n"
     ]
    },
    {
     "name": "stdout",
     "output_type": "stream",
     "text": [
      "Epoch 55: 100%|██████████| 8/8 [00:00<00:00, 27.15it/s, loss=0.128, train_loss=0.297, train_accuracy=0.750] "
     ]
    },
    {
     "name": "stderr",
     "output_type": "stream",
     "text": [
      "[2025-02-14 14:18:06] INFO (torcheeg/MainThread) \n",
      "[Train] train_loss: 0.135 train_accuracy: 0.967 \n",
      "\n"
     ]
    },
    {
     "name": "stdout",
     "output_type": "stream",
     "text": [
      "Epoch 56: 100%|██████████| 8/8 [00:00<00:00, 27.73it/s, loss=0.127, train_loss=0.0619, train_accuracy=1.000]"
     ]
    },
    {
     "name": "stderr",
     "output_type": "stream",
     "text": [
      "Metric train_loss improved by 0.006 >= min_delta = 0.0. New best score: 0.062\n"
     ]
    },
    {
     "name": "stdout",
     "output_type": "stream",
     "text": [
      "Epoch 56: 100%|██████████| 8/8 [00:00<00:00, 27.57it/s, loss=0.127, train_loss=0.0619, train_accuracy=1.000]"
     ]
    },
    {
     "name": "stderr",
     "output_type": "stream",
     "text": [
      "[2025-02-14 14:18:06] INFO (torcheeg/MainThread) \n",
      "[Train] train_loss: 0.119 train_accuracy: 0.992 \n",
      "\n"
     ]
    },
    {
     "name": "stdout",
     "output_type": "stream",
     "text": [
      "Epoch 57: 100%|██████████| 8/8 [00:00<00:00, 28.46it/s, loss=0.14, train_loss=0.0506, train_accuracy=1.000] "
     ]
    },
    {
     "name": "stderr",
     "output_type": "stream",
     "text": [
      "Metric train_loss improved by 0.011 >= min_delta = 0.0. New best score: 0.051\n"
     ]
    },
    {
     "name": "stdout",
     "output_type": "stream",
     "text": [
      "Epoch 57: 100%|██████████| 8/8 [00:00<00:00, 28.31it/s, loss=0.14, train_loss=0.0506, train_accuracy=1.000]"
     ]
    },
    {
     "name": "stderr",
     "output_type": "stream",
     "text": [
      "[2025-02-14 14:18:06] INFO (torcheeg/MainThread) \n",
      "[Train] train_loss: 0.163 train_accuracy: 0.967 \n",
      "\n"
     ]
    },
    {
     "name": "stdout",
     "output_type": "stream",
     "text": [
      "Epoch 58: 100%|██████████| 8/8 [00:00<00:00, 28.07it/s, loss=0.134, train_loss=0.0309, train_accuracy=1.000]"
     ]
    },
    {
     "name": "stderr",
     "output_type": "stream",
     "text": [
      "Metric train_loss improved by 0.020 >= min_delta = 0.0. New best score: 0.031\n"
     ]
    },
    {
     "name": "stdout",
     "output_type": "stream",
     "text": [
      "Epoch 58: 100%|██████████| 8/8 [00:00<00:00, 27.92it/s, loss=0.134, train_loss=0.0309, train_accuracy=1.000]"
     ]
    },
    {
     "name": "stderr",
     "output_type": "stream",
     "text": [
      "[2025-02-14 14:18:07] INFO (torcheeg/MainThread) \n",
      "[Train] train_loss: 0.120 train_accuracy: 0.975 \n",
      "\n"
     ]
    },
    {
     "name": "stdout",
     "output_type": "stream",
     "text": [
      "Epoch 59: 100%|██████████| 8/8 [00:00<00:00, 28.16it/s, loss=0.123, train_loss=0.142, train_accuracy=1.000] "
     ]
    },
    {
     "name": "stderr",
     "output_type": "stream",
     "text": [
      "[2025-02-14 14:18:07] INFO (torcheeg/MainThread) \n",
      "[Train] train_loss: 0.109 train_accuracy: 0.992 \n",
      "\n"
     ]
    },
    {
     "name": "stdout",
     "output_type": "stream",
     "text": [
      "Epoch 60: 100%|██████████| 8/8 [00:00<00:00, 28.01it/s, loss=0.102, train_loss=0.225, train_accuracy=0.875]  "
     ]
    },
    {
     "name": "stderr",
     "output_type": "stream",
     "text": [
      "[2025-02-14 14:18:07] INFO (torcheeg/MainThread) \n",
      "[Train] train_loss: 0.099 train_accuracy: 0.992 \n",
      "\n"
     ]
    },
    {
     "name": "stdout",
     "output_type": "stream",
     "text": [
      "Epoch 61: 100%|██████████| 8/8 [00:00<00:00, 28.07it/s, loss=0.0954, train_loss=0.093, train_accuracy=1.000] "
     ]
    },
    {
     "name": "stderr",
     "output_type": "stream",
     "text": [
      "[2025-02-14 14:18:07] INFO (torcheeg/MainThread) \n",
      "[Train] train_loss: 0.084 train_accuracy: 0.992 \n",
      "\n"
     ]
    },
    {
     "name": "stdout",
     "output_type": "stream",
     "text": [
      "Epoch 62: 100%|██████████| 8/8 [00:00<00:00, 26.77it/s, loss=0.0961, train_loss=0.0756, train_accuracy=1.000]"
     ]
    },
    {
     "name": "stderr",
     "output_type": "stream",
     "text": [
      "[2025-02-14 14:18:08] INFO (torcheeg/MainThread) \n",
      "[Train] train_loss: 0.099 train_accuracy: 0.983 \n",
      "\n"
     ]
    },
    {
     "name": "stdout",
     "output_type": "stream",
     "text": [
      "Epoch 63: 100%|██████████| 8/8 [00:00<00:00, 26.70it/s, loss=0.0876, train_loss=0.0191, train_accuracy=1.000]"
     ]
    },
    {
     "name": "stderr",
     "output_type": "stream",
     "text": [
      "Metric train_loss improved by 0.012 >= min_delta = 0.0. New best score: 0.019\n"
     ]
    },
    {
     "name": "stdout",
     "output_type": "stream",
     "text": [
      "Epoch 63: 100%|██████████| 8/8 [00:00<00:00, 26.55it/s, loss=0.0876, train_loss=0.0191, train_accuracy=1.000]"
     ]
    },
    {
     "name": "stderr",
     "output_type": "stream",
     "text": [
      "[2025-02-14 14:18:08] INFO (torcheeg/MainThread) \n",
      "[Train] train_loss: 0.077 train_accuracy: 0.983 \n",
      "\n"
     ]
    },
    {
     "name": "stdout",
     "output_type": "stream",
     "text": [
      "Epoch 64: 100%|██████████| 8/8 [00:00<00:00, 26.06it/s, loss=0.0727, train_loss=0.0716, train_accuracy=1.000]"
     ]
    },
    {
     "name": "stderr",
     "output_type": "stream",
     "text": [
      "[2025-02-14 14:18:08] INFO (torcheeg/MainThread) \n",
      "[Train] train_loss: 0.061 train_accuracy: 1.000 \n",
      "\n"
     ]
    },
    {
     "name": "stdout",
     "output_type": "stream",
     "text": [
      "Epoch 65: 100%|██████████| 8/8 [00:00<00:00, 27.48it/s, loss=0.0601, train_loss=0.039, train_accuracy=1.000] "
     ]
    },
    {
     "name": "stderr",
     "output_type": "stream",
     "text": [
      "[2025-02-14 14:18:09] INFO (torcheeg/MainThread) \n",
      "[Train] train_loss: 0.056 train_accuracy: 1.000 \n",
      "\n"
     ]
    },
    {
     "name": "stdout",
     "output_type": "stream",
     "text": [
      "Epoch 66: 100%|██████████| 8/8 [00:00<00:00, 27.49it/s, loss=0.0622, train_loss=0.0585, train_accuracy=1.000]"
     ]
    },
    {
     "name": "stderr",
     "output_type": "stream",
     "text": [
      "[2025-02-14 14:18:09] INFO (torcheeg/MainThread) \n",
      "[Train] train_loss: 0.073 train_accuracy: 0.983 \n",
      "\n"
     ]
    },
    {
     "name": "stdout",
     "output_type": "stream",
     "text": [
      "Epoch 67: 100%|██████████| 8/8 [00:00<00:00, 27.42it/s, loss=0.0743, train_loss=0.0278, train_accuracy=1.000]"
     ]
    },
    {
     "name": "stderr",
     "output_type": "stream",
     "text": [
      "[2025-02-14 14:18:09] INFO (torcheeg/MainThread) \n",
      "[Train] train_loss: 0.084 train_accuracy: 0.983 \n",
      "\n"
     ]
    },
    {
     "name": "stdout",
     "output_type": "stream",
     "text": [
      "Epoch 68: 100%|██████████| 8/8 [00:00<00:00, 28.19it/s, loss=0.089, train_loss=0.120, train_accuracy=1.000]  "
     ]
    },
    {
     "name": "stderr",
     "output_type": "stream",
     "text": [
      "[2025-02-14 14:18:10] INFO (torcheeg/MainThread) \n",
      "[Train] train_loss: 0.100 train_accuracy: 0.975 \n",
      "\n"
     ]
    },
    {
     "name": "stdout",
     "output_type": "stream",
     "text": [
      "Epoch 69: 100%|██████████| 8/8 [00:00<00:00, 27.99it/s, loss=0.0912, train_loss=0.0255, train_accuracy=1.000]"
     ]
    },
    {
     "name": "stderr",
     "output_type": "stream",
     "text": [
      "[2025-02-14 14:18:10] INFO (torcheeg/MainThread) \n",
      "[Train] train_loss: 0.086 train_accuracy: 0.992 \n",
      "\n"
     ]
    },
    {
     "name": "stdout",
     "output_type": "stream",
     "text": [
      "Epoch 70: 100%|██████████| 8/8 [00:00<00:00, 28.61it/s, loss=0.0784, train_loss=0.0201, train_accuracy=1.000]"
     ]
    },
    {
     "name": "stderr",
     "output_type": "stream",
     "text": [
      "[2025-02-14 14:18:10] INFO (torcheeg/MainThread) \n",
      "[Train] train_loss: 0.068 train_accuracy: 0.992 \n",
      "\n"
     ]
    },
    {
     "name": "stdout",
     "output_type": "stream",
     "text": [
      "Epoch 71: 100%|██████████| 8/8 [00:00<00:00, 28.08it/s, loss=0.0641, train_loss=0.0772, train_accuracy=1.000]"
     ]
    },
    {
     "name": "stderr",
     "output_type": "stream",
     "text": [
      "[2025-02-14 14:18:10] INFO (torcheeg/MainThread) \n",
      "[Train] train_loss: 0.062 train_accuracy: 1.000 \n",
      "\n"
     ]
    },
    {
     "name": "stdout",
     "output_type": "stream",
     "text": [
      "Epoch 72: 100%|██████████| 8/8 [00:00<00:00, 27.88it/s, loss=0.0587, train_loss=0.114, train_accuracy=0.875] "
     ]
    },
    {
     "name": "stderr",
     "output_type": "stream",
     "text": [
      "[2025-02-14 14:18:11] INFO (torcheeg/MainThread) \n",
      "[Train] train_loss: 0.061 train_accuracy: 0.983 \n",
      "\n"
     ]
    },
    {
     "name": "stdout",
     "output_type": "stream",
     "text": [
      "Epoch 73: 100%|██████████| 8/8 [00:00<00:00, 26.51it/s, loss=0.0607, train_loss=0.0154, train_accuracy=1.000]"
     ]
    },
    {
     "name": "stderr",
     "output_type": "stream",
     "text": [
      "Metric train_loss improved by 0.004 >= min_delta = 0.0. New best score: 0.015\n"
     ]
    },
    {
     "name": "stdout",
     "output_type": "stream",
     "text": [
      "Epoch 73: 100%|██████████| 8/8 [00:00<00:00, 26.36it/s, loss=0.0607, train_loss=0.0154, train_accuracy=1.000]"
     ]
    },
    {
     "name": "stderr",
     "output_type": "stream",
     "text": [
      "[2025-02-14 14:18:11] INFO (torcheeg/MainThread) \n",
      "[Train] train_loss: 0.060 train_accuracy: 0.992 \n",
      "\n"
     ]
    },
    {
     "name": "stdout",
     "output_type": "stream",
     "text": [
      "Epoch 74: 100%|██████████| 8/8 [00:00<00:00, 26.53it/s, loss=0.0809, train_loss=0.172, train_accuracy=0.875] "
     ]
    },
    {
     "name": "stderr",
     "output_type": "stream",
     "text": [
      "[2025-02-14 14:18:11] INFO (torcheeg/MainThread) \n",
      "[Train] train_loss: 0.102 train_accuracy: 0.958 \n",
      "\n"
     ]
    },
    {
     "name": "stdout",
     "output_type": "stream",
     "text": [
      "Epoch 75: 100%|██████████| 8/8 [00:00<00:00, 26.10it/s, loss=0.0847, train_loss=0.0756, train_accuracy=1.000]"
     ]
    },
    {
     "name": "stderr",
     "output_type": "stream",
     "text": [
      "[2025-02-14 14:18:12] INFO (torcheeg/MainThread) \n",
      "[Train] train_loss: 0.077 train_accuracy: 1.000 \n",
      "\n"
     ]
    },
    {
     "name": "stdout",
     "output_type": "stream",
     "text": [
      "Epoch 76: 100%|██████████| 8/8 [00:00<00:00, 26.21it/s, loss=0.0729, train_loss=0.0779, train_accuracy=1.000]"
     ]
    },
    {
     "name": "stderr",
     "output_type": "stream",
     "text": [
      "[2025-02-14 14:18:12] INFO (torcheeg/MainThread) \n",
      "[Train] train_loss: 0.052 train_accuracy: 1.000 \n",
      "\n"
     ]
    },
    {
     "name": "stdout",
     "output_type": "stream",
     "text": [
      "Epoch 77: 100%|██████████| 8/8 [00:00<00:00, 26.40it/s, loss=0.066, train_loss=0.124, train_accuracy=1.000]  "
     ]
    },
    {
     "name": "stderr",
     "output_type": "stream",
     "text": [
      "[2025-02-14 14:18:12] INFO (torcheeg/MainThread) \n",
      "[Train] train_loss: 0.068 train_accuracy: 0.992 \n",
      "\n"
     ]
    },
    {
     "name": "stdout",
     "output_type": "stream",
     "text": [
      "Epoch 78: 100%|██████████| 8/8 [00:00<00:00, 26.47it/s, loss=0.0577, train_loss=0.0223, train_accuracy=1.000]"
     ]
    },
    {
     "name": "stderr",
     "output_type": "stream",
     "text": [
      "[2025-02-14 14:18:13] INFO (torcheeg/MainThread) \n",
      "[Train] train_loss: 0.049 train_accuracy: 1.000 \n",
      "\n"
     ]
    },
    {
     "name": "stdout",
     "output_type": "stream",
     "text": [
      "Epoch 79: 100%|██████████| 8/8 [00:00<00:00, 26.26it/s, loss=0.054, train_loss=0.0443, train_accuracy=1.000] "
     ]
    },
    {
     "name": "stderr",
     "output_type": "stream",
     "text": [
      "[2025-02-14 14:18:13] INFO (torcheeg/MainThread) \n",
      "[Train] train_loss: 0.051 train_accuracy: 1.000 \n",
      "\n"
     ]
    },
    {
     "name": "stdout",
     "output_type": "stream",
     "text": [
      "Epoch 80: 100%|██████████| 8/8 [00:00<00:00, 26.46it/s, loss=0.0505, train_loss=0.00385, train_accuracy=1.000]"
     ]
    },
    {
     "name": "stderr",
     "output_type": "stream",
     "text": [
      "Metric train_loss improved by 0.012 >= min_delta = 0.0. New best score: 0.004\n"
     ]
    },
    {
     "name": "stdout",
     "output_type": "stream",
     "text": [
      "Epoch 80: 100%|██████████| 8/8 [00:00<00:00, 26.32it/s, loss=0.0505, train_loss=0.00385, train_accuracy=1.000]"
     ]
    },
    {
     "name": "stderr",
     "output_type": "stream",
     "text": [
      "[2025-02-14 14:18:13] INFO (torcheeg/MainThread) \n",
      "[Train] train_loss: 0.052 train_accuracy: 1.000 \n",
      "\n"
     ]
    },
    {
     "name": "stdout",
     "output_type": "stream",
     "text": [
      "Epoch 81: 100%|██████████| 8/8 [00:00<00:00, 26.46it/s, loss=0.0478, train_loss=0.0339, train_accuracy=1.000] "
     ]
    },
    {
     "name": "stderr",
     "output_type": "stream",
     "text": [
      "[2025-02-14 14:18:13] INFO (torcheeg/MainThread) \n",
      "[Train] train_loss: 0.048 train_accuracy: 1.000 \n",
      "\n"
     ]
    },
    {
     "name": "stdout",
     "output_type": "stream",
     "text": [
      "Epoch 82: 100%|██████████| 8/8 [00:00<00:00, 26.08it/s, loss=0.058, train_loss=0.0196, train_accuracy=1.000] "
     ]
    },
    {
     "name": "stderr",
     "output_type": "stream",
     "text": [
      "[2025-02-14 14:18:14] INFO (torcheeg/MainThread) \n",
      "[Train] train_loss: 0.063 train_accuracy: 0.983 \n",
      "\n"
     ]
    },
    {
     "name": "stdout",
     "output_type": "stream",
     "text": [
      "Epoch 83: 100%|██████████| 8/8 [00:00<00:00, 26.49it/s, loss=0.0474, train_loss=0.0092, train_accuracy=1.000]"
     ]
    },
    {
     "name": "stderr",
     "output_type": "stream",
     "text": [
      "[2025-02-14 14:18:14] INFO (torcheeg/MainThread) \n",
      "[Train] train_loss: 0.034 train_accuracy: 1.000 \n",
      "\n"
     ]
    },
    {
     "name": "stdout",
     "output_type": "stream",
     "text": [
      "Epoch 84: 100%|██████████| 8/8 [00:00<00:00, 26.74it/s, loss=0.0492, train_loss=0.0935, train_accuracy=1.000]"
     ]
    },
    {
     "name": "stderr",
     "output_type": "stream",
     "text": [
      "[2025-02-14 14:18:14] INFO (torcheeg/MainThread) \n",
      "[Train] train_loss: 0.051 train_accuracy: 1.000 \n",
      "\n"
     ]
    },
    {
     "name": "stdout",
     "output_type": "stream",
     "text": [
      "Epoch 85: 100%|██████████| 8/8 [00:00<00:00, 26.55it/s, loss=0.0397, train_loss=0.0391, train_accuracy=1.000]"
     ]
    },
    {
     "name": "stderr",
     "output_type": "stream",
     "text": [
      "[2025-02-14 14:18:15] INFO (torcheeg/MainThread) \n",
      "[Train] train_loss: 0.038 train_accuracy: 1.000 \n",
      "\n"
     ]
    },
    {
     "name": "stdout",
     "output_type": "stream",
     "text": [
      "Epoch 86: 100%|██████████| 8/8 [00:00<00:00, 26.30it/s, loss=0.0429, train_loss=0.0234, train_accuracy=1.000]"
     ]
    },
    {
     "name": "stderr",
     "output_type": "stream",
     "text": [
      "[2025-02-14 14:18:15] INFO (torcheeg/MainThread) \n",
      "[Train] train_loss: 0.038 train_accuracy: 1.000 \n",
      "\n"
     ]
    },
    {
     "name": "stdout",
     "output_type": "stream",
     "text": [
      "Epoch 87: 100%|██████████| 8/8 [00:00<00:00, 26.55it/s, loss=0.0391, train_loss=0.0432, train_accuracy=1.000]"
     ]
    },
    {
     "name": "stderr",
     "output_type": "stream",
     "text": [
      "[2025-02-14 14:18:15] INFO (torcheeg/MainThread) \n",
      "[Train] train_loss: 0.045 train_accuracy: 1.000 \n",
      "\n"
     ]
    },
    {
     "name": "stdout",
     "output_type": "stream",
     "text": [
      "Epoch 88: 100%|██████████| 8/8 [00:00<00:00, 26.56it/s, loss=0.0372, train_loss=0.0144, train_accuracy=1.000]"
     ]
    },
    {
     "name": "stderr",
     "output_type": "stream",
     "text": [
      "[2025-02-14 14:18:16] INFO (torcheeg/MainThread) \n",
      "[Train] train_loss: 0.034 train_accuracy: 1.000 \n",
      "\n"
     ]
    },
    {
     "name": "stdout",
     "output_type": "stream",
     "text": [
      "Epoch 89: 100%|██████████| 8/8 [00:00<00:00, 26.43it/s, loss=0.037, train_loss=0.0435, train_accuracy=1.000] "
     ]
    },
    {
     "name": "stderr",
     "output_type": "stream",
     "text": [
      "[2025-02-14 14:18:16] INFO (torcheeg/MainThread) \n",
      "[Train] train_loss: 0.039 train_accuracy: 1.000 \n",
      "\n"
     ]
    },
    {
     "name": "stdout",
     "output_type": "stream",
     "text": [
      "Epoch 90: 100%|██████████| 8/8 [00:00<00:00, 26.37it/s, loss=0.0466, train_loss=0.149, train_accuracy=0.875] "
     ]
    },
    {
     "name": "stderr",
     "output_type": "stream",
     "text": [
      "[2025-02-14 14:18:16] INFO (torcheeg/MainThread) \n",
      "[Train] train_loss: 0.063 train_accuracy: 0.992 \n",
      "\n"
     ]
    },
    {
     "name": "stdout",
     "output_type": "stream",
     "text": [
      "Epoch 91: 100%|██████████| 8/8 [00:00<00:00, 26.75it/s, loss=0.0507, train_loss=0.0142, train_accuracy=1.000] "
     ]
    },
    {
     "name": "stderr",
     "output_type": "stream",
     "text": [
      "[2025-02-14 14:18:16] INFO (torcheeg/MainThread) \n",
      "[Train] train_loss: 0.043 train_accuracy: 0.983 \n",
      "\n"
     ]
    },
    {
     "name": "stdout",
     "output_type": "stream",
     "text": [
      "Epoch 92: 100%|██████████| 8/8 [00:00<00:00, 26.41it/s, loss=0.0485, train_loss=0.018, train_accuracy=1.000] "
     ]
    },
    {
     "name": "stderr",
     "output_type": "stream",
     "text": [
      "[2025-02-14 14:18:17] INFO (torcheeg/MainThread) \n",
      "[Train] train_loss: 0.045 train_accuracy: 0.992 \n",
      "\n"
     ]
    },
    {
     "name": "stdout",
     "output_type": "stream",
     "text": [
      "Epoch 93: 100%|██████████| 8/8 [00:00<00:00, 26.37it/s, loss=0.0413, train_loss=0.0213, train_accuracy=1.000]"
     ]
    },
    {
     "name": "stderr",
     "output_type": "stream",
     "text": [
      "[2025-02-14 14:18:17] INFO (torcheeg/MainThread) \n",
      "[Train] train_loss: 0.025 train_accuracy: 1.000 \n",
      "\n"
     ]
    },
    {
     "name": "stdout",
     "output_type": "stream",
     "text": [
      "Epoch 94: 100%|██████████| 8/8 [00:00<00:00, 26.46it/s, loss=0.0341, train_loss=0.0453, train_accuracy=1.000] "
     ]
    },
    {
     "name": "stderr",
     "output_type": "stream",
     "text": [
      "[2025-02-14 14:18:17] INFO (torcheeg/MainThread) \n",
      "[Train] train_loss: 0.034 train_accuracy: 1.000 \n",
      "\n"
     ]
    },
    {
     "name": "stdout",
     "output_type": "stream",
     "text": [
      "Epoch 95: 100%|██████████| 8/8 [00:00<00:00, 26.51it/s, loss=0.0321, train_loss=0.026, train_accuracy=1.000] "
     ]
    },
    {
     "name": "stderr",
     "output_type": "stream",
     "text": [
      "[2025-02-14 14:18:18] INFO (torcheeg/MainThread) \n",
      "[Train] train_loss: 0.034 train_accuracy: 1.000 \n",
      "\n"
     ]
    },
    {
     "name": "stdout",
     "output_type": "stream",
     "text": [
      "Epoch 96: 100%|██████████| 8/8 [00:00<00:00, 26.61it/s, loss=0.0297, train_loss=0.0185, train_accuracy=1.000]"
     ]
    },
    {
     "name": "stderr",
     "output_type": "stream",
     "text": [
      "[2025-02-14 14:18:18] INFO (torcheeg/MainThread) \n",
      "[Train] train_loss: 0.025 train_accuracy: 1.000 \n",
      "\n"
     ]
    },
    {
     "name": "stdout",
     "output_type": "stream",
     "text": [
      "Epoch 97: 100%|██████████| 8/8 [00:00<00:00, 25.76it/s, loss=0.0275, train_loss=0.0116, train_accuracy=1.000]"
     ]
    },
    {
     "name": "stderr",
     "output_type": "stream",
     "text": [
      "[2025-02-14 14:18:18] INFO (torcheeg/MainThread) \n",
      "[Train] train_loss: 0.030 train_accuracy: 1.000 \n",
      "\n"
     ]
    },
    {
     "name": "stdout",
     "output_type": "stream",
     "text": [
      "Epoch 98: 100%|██████████| 8/8 [00:00<00:00, 26.55it/s, loss=0.0331, train_loss=0.0175, train_accuracy=1.000]"
     ]
    },
    {
     "name": "stderr",
     "output_type": "stream",
     "text": [
      "[2025-02-14 14:18:19] INFO (torcheeg/MainThread) \n",
      "[Train] train_loss: 0.041 train_accuracy: 1.000 \n",
      "\n"
     ]
    },
    {
     "name": "stdout",
     "output_type": "stream",
     "text": [
      "Epoch 99: 100%|██████████| 8/8 [00:00<00:00, 26.98it/s, loss=0.0433, train_loss=0.0203, train_accuracy=1.000]"
     ]
    },
    {
     "name": "stderr",
     "output_type": "stream",
     "text": [
      "[2025-02-14 14:18:19] INFO (torcheeg/MainThread) \n",
      "[Train] train_loss: 0.054 train_accuracy: 0.983 \n",
      "\n",
      "`Trainer.fit` stopped: `max_epochs=100` reached.\n"
     ]
    },
    {
     "name": "stdout",
     "output_type": "stream",
     "text": [
      "Epoch 99: 100%|██████████| 8/8 [00:00<00:00, 26.72it/s, loss=0.0433, train_loss=0.0203, train_accuracy=1.000]\n"
     ]
    },
    {
     "name": "stderr",
     "output_type": "stream",
     "text": [
      "GPU available: True (cuda), used: True\n",
      "TPU available: False, using: 0 TPU cores\n",
      "IPU available: False, using: 0 IPUs\n",
      "HPU available: False, using: 0 HPUs\n",
      "Missing logger folder: /root/autodl-tmp/.autodl/kinlaw/GANSER/mycode/lightning_logs\n",
      "LOCAL_RANK: 0 - CUDA_VISIBLE_DEVICES: [0]\n",
      "/root/autodl-tmp/conda/envs/law/lib/python3.8/site-packages/pytorch_lightning/trainer/connectors/data_connector.py:224: PossibleUserWarning: The dataloader, test_dataloader 0, does not have many workers which may be a bottleneck. Consider increasing the value of the `num_workers` argument` (try 128 which is the number of cpus on this machine) in the `DataLoader` init to improve performance.\n",
      "  rank_zero_warn(\n"
     ]
    },
    {
     "name": "stdout",
     "output_type": "stream",
     "text": [
      "Testing DataLoader 0: 100%|██████████| 3/3 [00:00<00:00, 101.81it/s]"
     ]
    },
    {
     "name": "stderr",
     "output_type": "stream",
     "text": [
      "[2025-02-14 14:18:19] INFO (torcheeg/MainThread) \n",
      "[Test] test_loss: 1.891 test_accuracy: 0.650 \n",
      "\n"
     ]
    },
    {
     "name": "stdout",
     "output_type": "stream",
     "text": [
      "Testing DataLoader 0: 100%|██████████| 3/3 [00:00<00:00, 86.76it/s] \n",
      "────────────────────────────────────────────────────────────────────────────────────────────────────────────────────────\n",
      "       Test metric             DataLoader 0\n",
      "────────────────────────────────────────────────────────────────────────────────────────────────────────────────────────\n",
      "      test_accuracy         0.6499999761581421\n",
      "        test_loss           1.8914470672607422\n",
      "────────────────────────────────────────────────────────────────────────────────────────────────────────────────────────\n",
      "已删除文件夹: /root/autodl-tmp/.autodl/kinlaw/GANSER/mycode/lightning_logs\n"
     ]
    },
    {
     "name": "stderr",
     "output_type": "stream",
     "text": [
      "GPU available: True (cuda), used: True\n",
      "TPU available: False, using: 0 TPU cores\n",
      "IPU available: False, using: 0 IPUs\n",
      "HPU available: False, using: 0 HPUs\n",
      "LOCAL_RANK: 0 - CUDA_VISIBLE_DEVICES: [0]\n",
      "/root/autodl-tmp/conda/envs/law/lib/python3.8/site-packages/pytorch_lightning/trainer/connectors/data_connector.py:224: PossibleUserWarning: The dataloader, train_dataloader, does not have many workers which may be a bottleneck. Consider increasing the value of the `num_workers` argument` (try 128 which is the number of cpus on this machine) in the `DataLoader` init to improve performance.\n",
      "  rank_zero_warn(\n"
     ]
    },
    {
     "name": "stdout",
     "output_type": "stream",
     "text": [
      "Epoch 0: 100%|██████████| 8/8 [00:00<00:00, 26.29it/s, loss=0.694, train_loss=0.725, train_accuracy=0.375]"
     ]
    },
    {
     "name": "stderr",
     "output_type": "stream",
     "text": [
      "Metric train_loss improved. New best score: 0.725\n"
     ]
    },
    {
     "name": "stdout",
     "output_type": "stream",
     "text": [
      "Epoch 0: 100%|██████████| 8/8 [00:00<00:00, 26.15it/s, loss=0.694, train_loss=0.725, train_accuracy=0.375]"
     ]
    },
    {
     "name": "stderr",
     "output_type": "stream",
     "text": [
      "/root/autodl-tmp/conda/envs/law/lib/python3.8/site-packages/pytorch_lightning/core/module.py:493: UserWarning: You called `self.log('train_loss', ..., logger=True)` but have no logger configured. You can enable one by doing `Trainer(logger=ALogger(...))`\n",
      "  rank_zero_warn(\n",
      "/root/autodl-tmp/conda/envs/law/lib/python3.8/site-packages/pytorch_lightning/core/module.py:493: UserWarning: You called `self.log('train_accuracy', ..., logger=True)` but have no logger configured. You can enable one by doing `Trainer(logger=ALogger(...))`\n",
      "  rank_zero_warn(\n",
      "[2025-02-14 14:18:19] INFO (torcheeg/MainThread) \n",
      "[Train] train_loss: 0.694 train_accuracy: 0.575 \n",
      "\n"
     ]
    },
    {
     "name": "stdout",
     "output_type": "stream",
     "text": [
      "Epoch 1: 100%|██████████| 8/8 [00:00<00:00, 25.87it/s, loss=0.679, train_loss=0.648, train_accuracy=0.500]"
     ]
    },
    {
     "name": "stderr",
     "output_type": "stream",
     "text": [
      "Metric train_loss improved by 0.078 >= min_delta = 0.0. New best score: 0.648\n"
     ]
    },
    {
     "name": "stdout",
     "output_type": "stream",
     "text": [
      "Epoch 1: 100%|██████████| 8/8 [00:00<00:00, 25.71it/s, loss=0.679, train_loss=0.648, train_accuracy=0.500]"
     ]
    },
    {
     "name": "stderr",
     "output_type": "stream",
     "text": [
      "[2025-02-14 14:18:20] INFO (torcheeg/MainThread) \n",
      "[Train] train_loss: 0.665 train_accuracy: 0.600 \n",
      "\n"
     ]
    },
    {
     "name": "stdout",
     "output_type": "stream",
     "text": [
      "Epoch 2: 100%|██████████| 8/8 [00:00<00:00, 25.76it/s, loss=0.671, train_loss=0.618, train_accuracy=0.625]"
     ]
    },
    {
     "name": "stderr",
     "output_type": "stream",
     "text": [
      "Metric train_loss improved by 0.029 >= min_delta = 0.0. New best score: 0.618\n"
     ]
    },
    {
     "name": "stdout",
     "output_type": "stream",
     "text": [
      "Epoch 2: 100%|██████████| 8/8 [00:00<00:00, 25.64it/s, loss=0.671, train_loss=0.618, train_accuracy=0.625]"
     ]
    },
    {
     "name": "stderr",
     "output_type": "stream",
     "text": [
      "[2025-02-14 14:18:20] INFO (torcheeg/MainThread) \n",
      "[Train] train_loss: 0.663 train_accuracy: 0.608 \n",
      "\n"
     ]
    },
    {
     "name": "stdout",
     "output_type": "stream",
     "text": [
      "Epoch 3: 100%|██████████| 8/8 [00:00<00:00, 26.81it/s, loss=0.655, train_loss=0.626, train_accuracy=0.625]"
     ]
    },
    {
     "name": "stderr",
     "output_type": "stream",
     "text": [
      "[2025-02-14 14:18:20] INFO (torcheeg/MainThread) \n",
      "[Train] train_loss: 0.646 train_accuracy: 0.650 \n",
      "\n"
     ]
    },
    {
     "name": "stdout",
     "output_type": "stream",
     "text": [
      "Epoch 4: 100%|██████████| 8/8 [00:00<00:00, 27.13it/s, loss=0.639, train_loss=0.628, train_accuracy=0.625]"
     ]
    },
    {
     "name": "stderr",
     "output_type": "stream",
     "text": [
      "[2025-02-14 14:18:21] INFO (torcheeg/MainThread) \n",
      "[Train] train_loss: 0.634 train_accuracy: 0.658 \n",
      "\n"
     ]
    },
    {
     "name": "stdout",
     "output_type": "stream",
     "text": [
      "Epoch 5: 100%|██████████| 8/8 [00:00<00:00, 28.25it/s, loss=0.63, train_loss=0.655, train_accuracy=0.500] "
     ]
    },
    {
     "name": "stderr",
     "output_type": "stream",
     "text": [
      "[2025-02-14 14:18:21] INFO (torcheeg/MainThread) \n",
      "[Train] train_loss: 0.622 train_accuracy: 0.650 \n",
      "\n"
     ]
    },
    {
     "name": "stdout",
     "output_type": "stream",
     "text": [
      "Epoch 6: 100%|██████████| 8/8 [00:00<00:00, 25.77it/s, loss=0.619, train_loss=0.484, train_accuracy=1.000]"
     ]
    },
    {
     "name": "stderr",
     "output_type": "stream",
     "text": [
      "Metric train_loss improved by 0.134 >= min_delta = 0.0. New best score: 0.484\n"
     ]
    },
    {
     "name": "stdout",
     "output_type": "stream",
     "text": [
      "Epoch 6: 100%|██████████| 8/8 [00:00<00:00, 25.63it/s, loss=0.619, train_loss=0.484, train_accuracy=1.000]"
     ]
    },
    {
     "name": "stderr",
     "output_type": "stream",
     "text": [
      "[2025-02-14 14:18:21] INFO (torcheeg/MainThread) \n",
      "[Train] train_loss: 0.589 train_accuracy: 0.767 \n",
      "\n"
     ]
    },
    {
     "name": "stdout",
     "output_type": "stream",
     "text": [
      "Epoch 7: 100%|██████████| 8/8 [00:00<00:00, 26.89it/s, loss=0.61, train_loss=0.539, train_accuracy=0.750] "
     ]
    },
    {
     "name": "stderr",
     "output_type": "stream",
     "text": [
      "[2025-02-14 14:18:22] INFO (torcheeg/MainThread) \n",
      "[Train] train_loss: 0.613 train_accuracy: 0.700 \n",
      "\n"
     ]
    },
    {
     "name": "stdout",
     "output_type": "stream",
     "text": [
      "Epoch 8: 100%|██████████| 8/8 [00:00<00:00, 26.60it/s, loss=0.609, train_loss=0.579, train_accuracy=0.875]"
     ]
    },
    {
     "name": "stderr",
     "output_type": "stream",
     "text": [
      "[2025-02-14 14:18:22] INFO (torcheeg/MainThread) \n",
      "[Train] train_loss: 0.626 train_accuracy: 0.692 \n",
      "\n"
     ]
    },
    {
     "name": "stdout",
     "output_type": "stream",
     "text": [
      "Epoch 9: 100%|██████████| 8/8 [00:00<00:00, 27.46it/s, loss=0.612, train_loss=0.609, train_accuracy=0.625]"
     ]
    },
    {
     "name": "stderr",
     "output_type": "stream",
     "text": [
      "[2025-02-14 14:18:22] INFO (torcheeg/MainThread) \n",
      "[Train] train_loss: 0.600 train_accuracy: 0.667 \n",
      "\n"
     ]
    },
    {
     "name": "stdout",
     "output_type": "stream",
     "text": [
      "Epoch 10: 100%|██████████| 8/8 [00:00<00:00, 26.65it/s, loss=0.597, train_loss=0.598, train_accuracy=0.625]"
     ]
    },
    {
     "name": "stderr",
     "output_type": "stream",
     "text": [
      "[2025-02-14 14:18:23] INFO (torcheeg/MainThread) \n",
      "[Train] train_loss: 0.592 train_accuracy: 0.758 \n",
      "\n"
     ]
    },
    {
     "name": "stdout",
     "output_type": "stream",
     "text": [
      "Epoch 11: 100%|██████████| 8/8 [00:00<00:00, 27.17it/s, loss=0.586, train_loss=0.527, train_accuracy=0.875]"
     ]
    },
    {
     "name": "stderr",
     "output_type": "stream",
     "text": [
      "[2025-02-14 14:18:23] INFO (torcheeg/MainThread) \n",
      "[Train] train_loss: 0.568 train_accuracy: 0.750 \n",
      "\n"
     ]
    },
    {
     "name": "stdout",
     "output_type": "stream",
     "text": [
      "Epoch 12: 100%|██████████| 8/8 [00:00<00:00, 26.96it/s, loss=0.57, train_loss=0.526, train_accuracy=0.875] "
     ]
    },
    {
     "name": "stderr",
     "output_type": "stream",
     "text": [
      "[2025-02-14 14:18:23] INFO (torcheeg/MainThread) \n",
      "[Train] train_loss: 0.565 train_accuracy: 0.783 \n",
      "\n"
     ]
    },
    {
     "name": "stdout",
     "output_type": "stream",
     "text": [
      "Epoch 13: 100%|██████████| 8/8 [00:00<00:00, 27.54it/s, loss=0.559, train_loss=0.635, train_accuracy=0.625]"
     ]
    },
    {
     "name": "stderr",
     "output_type": "stream",
     "text": [
      "[2025-02-14 14:18:23] INFO (torcheeg/MainThread) \n",
      "[Train] train_loss: 0.570 train_accuracy: 0.775 \n",
      "\n"
     ]
    },
    {
     "name": "stdout",
     "output_type": "stream",
     "text": [
      "Epoch 14: 100%|██████████| 8/8 [00:00<00:00, 27.14it/s, loss=0.554, train_loss=0.567, train_accuracy=0.875]"
     ]
    },
    {
     "name": "stderr",
     "output_type": "stream",
     "text": [
      "[2025-02-14 14:18:24] INFO (torcheeg/MainThread) \n",
      "[Train] train_loss: 0.541 train_accuracy: 0.800 \n",
      "\n"
     ]
    },
    {
     "name": "stdout",
     "output_type": "stream",
     "text": [
      "Epoch 15: 100%|██████████| 8/8 [00:00<00:00, 28.49it/s, loss=0.534, train_loss=0.538, train_accuracy=0.750]"
     ]
    },
    {
     "name": "stderr",
     "output_type": "stream",
     "text": [
      "[2025-02-14 14:18:24] INFO (torcheeg/MainThread) \n",
      "[Train] train_loss: 0.521 train_accuracy: 0.808 \n",
      "\n"
     ]
    },
    {
     "name": "stdout",
     "output_type": "stream",
     "text": [
      "Epoch 16: 100%|██████████| 8/8 [00:00<00:00, 27.93it/s, loss=0.529, train_loss=0.564, train_accuracy=0.750]"
     ]
    },
    {
     "name": "stderr",
     "output_type": "stream",
     "text": [
      "[2025-02-14 14:18:24] INFO (torcheeg/MainThread) \n",
      "[Train] train_loss: 0.525 train_accuracy: 0.767 \n",
      "\n"
     ]
    },
    {
     "name": "stdout",
     "output_type": "stream",
     "text": [
      "Epoch 17: 100%|██████████| 8/8 [00:00<00:00, 23.11it/s, loss=0.536, train_loss=0.679, train_accuracy=0.625]"
     ]
    },
    {
     "name": "stderr",
     "output_type": "stream",
     "text": [
      "[2025-02-14 14:18:25] INFO (torcheeg/MainThread) \n",
      "[Train] train_loss: 0.545 train_accuracy: 0.775 \n",
      "\n"
     ]
    },
    {
     "name": "stdout",
     "output_type": "stream",
     "text": [
      "Epoch 18: 100%|██████████| 8/8 [00:00<00:00, 22.37it/s, loss=0.528, train_loss=0.608, train_accuracy=0.625]"
     ]
    },
    {
     "name": "stderr",
     "output_type": "stream",
     "text": [
      "[2025-02-14 14:18:25] INFO (torcheeg/MainThread) \n",
      "[Train] train_loss: 0.513 train_accuracy: 0.800 \n",
      "\n"
     ]
    },
    {
     "name": "stdout",
     "output_type": "stream",
     "text": [
      "Epoch 19: 100%|██████████| 8/8 [00:00<00:00, 22.55it/s, loss=0.516, train_loss=0.464, train_accuracy=0.875]"
     ]
    },
    {
     "name": "stderr",
     "output_type": "stream",
     "text": [
      "Metric train_loss improved by 0.021 >= min_delta = 0.0. New best score: 0.464\n"
     ]
    },
    {
     "name": "stdout",
     "output_type": "stream",
     "text": [
      "Epoch 19: 100%|██████████| 8/8 [00:00<00:00, 22.45it/s, loss=0.516, train_loss=0.464, train_accuracy=0.875]"
     ]
    },
    {
     "name": "stderr",
     "output_type": "stream",
     "text": [
      "[2025-02-14 14:18:25] INFO (torcheeg/MainThread) \n",
      "[Train] train_loss: 0.485 train_accuracy: 0.842 \n",
      "\n"
     ]
    },
    {
     "name": "stdout",
     "output_type": "stream",
     "text": [
      "Epoch 20: 100%|██████████| 8/8 [00:00<00:00, 22.04it/s, loss=0.491, train_loss=0.515, train_accuracy=0.750]"
     ]
    },
    {
     "name": "stderr",
     "output_type": "stream",
     "text": [
      "[2025-02-14 14:18:26] INFO (torcheeg/MainThread) \n",
      "[Train] train_loss: 0.483 train_accuracy: 0.817 \n",
      "\n"
     ]
    },
    {
     "name": "stdout",
     "output_type": "stream",
     "text": [
      "Epoch 21: 100%|██████████| 8/8 [00:00<00:00, 22.42it/s, loss=0.48, train_loss=0.600, train_accuracy=0.625] "
     ]
    },
    {
     "name": "stderr",
     "output_type": "stream",
     "text": [
      "[2025-02-14 14:18:26] INFO (torcheeg/MainThread) \n",
      "[Train] train_loss: 0.477 train_accuracy: 0.800 \n",
      "\n"
     ]
    },
    {
     "name": "stdout",
     "output_type": "stream",
     "text": [
      "Epoch 22: 100%|██████████| 8/8 [00:00<00:00, 22.78it/s, loss=0.462, train_loss=0.410, train_accuracy=0.750]"
     ]
    },
    {
     "name": "stderr",
     "output_type": "stream",
     "text": [
      "Metric train_loss improved by 0.054 >= min_delta = 0.0. New best score: 0.410\n"
     ]
    },
    {
     "name": "stdout",
     "output_type": "stream",
     "text": [
      "Epoch 22: 100%|██████████| 8/8 [00:00<00:00, 22.58it/s, loss=0.462, train_loss=0.410, train_accuracy=0.750]"
     ]
    },
    {
     "name": "stderr",
     "output_type": "stream",
     "text": [
      "[2025-02-14 14:18:26] INFO (torcheeg/MainThread) \n",
      "[Train] train_loss: 0.456 train_accuracy: 0.833 \n",
      "\n"
     ]
    },
    {
     "name": "stdout",
     "output_type": "stream",
     "text": [
      "Epoch 23: 100%|██████████| 8/8 [00:00<00:00, 22.88it/s, loss=0.471, train_loss=0.447, train_accuracy=0.750]"
     ]
    },
    {
     "name": "stderr",
     "output_type": "stream",
     "text": [
      "[2025-02-14 14:18:27] INFO (torcheeg/MainThread) \n",
      "[Train] train_loss: 0.469 train_accuracy: 0.808 \n",
      "\n"
     ]
    },
    {
     "name": "stdout",
     "output_type": "stream",
     "text": [
      "Epoch 24: 100%|██████████| 8/8 [00:00<00:00, 22.99it/s, loss=0.444, train_loss=0.425, train_accuracy=0.750]"
     ]
    },
    {
     "name": "stderr",
     "output_type": "stream",
     "text": [
      "[2025-02-14 14:18:27] INFO (torcheeg/MainThread) \n",
      "[Train] train_loss: 0.423 train_accuracy: 0.875 \n",
      "\n"
     ]
    },
    {
     "name": "stdout",
     "output_type": "stream",
     "text": [
      "Epoch 25: 100%|██████████| 8/8 [00:00<00:00, 22.79it/s, loss=0.421, train_loss=0.385, train_accuracy=0.875]"
     ]
    },
    {
     "name": "stderr",
     "output_type": "stream",
     "text": [
      "Metric train_loss improved by 0.024 >= min_delta = 0.0. New best score: 0.385\n"
     ]
    },
    {
     "name": "stdout",
     "output_type": "stream",
     "text": [
      "Epoch 25: 100%|██████████| 8/8 [00:00<00:00, 22.67it/s, loss=0.421, train_loss=0.385, train_accuracy=0.875]"
     ]
    },
    {
     "name": "stderr",
     "output_type": "stream",
     "text": [
      "[2025-02-14 14:18:27] INFO (torcheeg/MainThread) \n",
      "[Train] train_loss: 0.406 train_accuracy: 0.892 \n",
      "\n"
     ]
    },
    {
     "name": "stdout",
     "output_type": "stream",
     "text": [
      "Epoch 26: 100%|██████████| 8/8 [00:00<00:00, 21.16it/s, loss=0.399, train_loss=0.361, train_accuracy=1.000]"
     ]
    },
    {
     "name": "stderr",
     "output_type": "stream",
     "text": [
      "Metric train_loss improved by 0.024 >= min_delta = 0.0. New best score: 0.361\n"
     ]
    },
    {
     "name": "stdout",
     "output_type": "stream",
     "text": [
      "Epoch 26: 100%|██████████| 8/8 [00:00<00:00, 21.07it/s, loss=0.399, train_loss=0.361, train_accuracy=1.000]"
     ]
    },
    {
     "name": "stderr",
     "output_type": "stream",
     "text": [
      "[2025-02-14 14:18:28] INFO (torcheeg/MainThread) \n",
      "[Train] train_loss: 0.384 train_accuracy: 0.900 \n",
      "\n"
     ]
    },
    {
     "name": "stdout",
     "output_type": "stream",
     "text": [
      "Epoch 27: 100%|██████████| 8/8 [00:00<00:00, 27.79it/s, loss=0.39, train_loss=0.388, train_accuracy=0.875] "
     ]
    },
    {
     "name": "stderr",
     "output_type": "stream",
     "text": [
      "[2025-02-14 14:18:28] INFO (torcheeg/MainThread) \n",
      "[Train] train_loss: 0.388 train_accuracy: 0.883 \n",
      "\n"
     ]
    },
    {
     "name": "stdout",
     "output_type": "stream",
     "text": [
      "Epoch 28: 100%|██████████| 8/8 [00:00<00:00, 28.03it/s, loss=0.379, train_loss=0.273, train_accuracy=0.875]"
     ]
    },
    {
     "name": "stderr",
     "output_type": "stream",
     "text": [
      "Metric train_loss improved by 0.089 >= min_delta = 0.0. New best score: 0.273\n"
     ]
    },
    {
     "name": "stdout",
     "output_type": "stream",
     "text": [
      "Epoch 28: 100%|██████████| 8/8 [00:00<00:00, 27.86it/s, loss=0.379, train_loss=0.273, train_accuracy=0.875]"
     ]
    },
    {
     "name": "stderr",
     "output_type": "stream",
     "text": [
      "[2025-02-14 14:18:28] INFO (torcheeg/MainThread) \n",
      "[Train] train_loss: 0.357 train_accuracy: 0.892 \n",
      "\n"
     ]
    },
    {
     "name": "stdout",
     "output_type": "stream",
     "text": [
      "Epoch 29: 100%|██████████| 8/8 [00:00<00:00, 27.95it/s, loss=0.368, train_loss=0.424, train_accuracy=0.875]"
     ]
    },
    {
     "name": "stderr",
     "output_type": "stream",
     "text": [
      "[2025-02-14 14:18:29] INFO (torcheeg/MainThread) \n",
      "[Train] train_loss: 0.359 train_accuracy: 0.875 \n",
      "\n"
     ]
    },
    {
     "name": "stdout",
     "output_type": "stream",
     "text": [
      "Epoch 30: 100%|██████████| 8/8 [00:00<00:00, 26.80it/s, loss=0.348, train_loss=0.226, train_accuracy=0.875]"
     ]
    },
    {
     "name": "stderr",
     "output_type": "stream",
     "text": [
      "Metric train_loss improved by 0.047 >= min_delta = 0.0. New best score: 0.226\n"
     ]
    },
    {
     "name": "stdout",
     "output_type": "stream",
     "text": [
      "Epoch 30: 100%|██████████| 8/8 [00:00<00:00, 26.64it/s, loss=0.348, train_loss=0.226, train_accuracy=0.875]"
     ]
    },
    {
     "name": "stderr",
     "output_type": "stream",
     "text": [
      "[2025-02-14 14:18:29] INFO (torcheeg/MainThread) \n",
      "[Train] train_loss: 0.334 train_accuracy: 0.900 \n",
      "\n"
     ]
    },
    {
     "name": "stdout",
     "output_type": "stream",
     "text": [
      "Epoch 31: 100%|██████████| 8/8 [00:00<00:00, 27.07it/s, loss=0.35, train_loss=0.273, train_accuracy=1.000] "
     ]
    },
    {
     "name": "stderr",
     "output_type": "stream",
     "text": [
      "[2025-02-14 14:18:29] INFO (torcheeg/MainThread) \n",
      "[Train] train_loss: 0.349 train_accuracy: 0.883 \n",
      "\n"
     ]
    },
    {
     "name": "stdout",
     "output_type": "stream",
     "text": [
      "Epoch 32: 100%|██████████| 8/8 [00:00<00:00, 27.75it/s, loss=0.342, train_loss=0.420, train_accuracy=0.750]"
     ]
    },
    {
     "name": "stderr",
     "output_type": "stream",
     "text": [
      "[2025-02-14 14:18:30] INFO (torcheeg/MainThread) \n",
      "[Train] train_loss: 0.342 train_accuracy: 0.883 \n",
      "\n"
     ]
    },
    {
     "name": "stdout",
     "output_type": "stream",
     "text": [
      "Epoch 33: 100%|██████████| 8/8 [00:00<00:00, 27.16it/s, loss=0.332, train_loss=0.200, train_accuracy=1.000]"
     ]
    },
    {
     "name": "stderr",
     "output_type": "stream",
     "text": [
      "Metric train_loss improved by 0.026 >= min_delta = 0.0. New best score: 0.200\n"
     ]
    },
    {
     "name": "stdout",
     "output_type": "stream",
     "text": [
      "Epoch 33: 100%|██████████| 8/8 [00:00<00:00, 27.00it/s, loss=0.332, train_loss=0.200, train_accuracy=1.000]"
     ]
    },
    {
     "name": "stderr",
     "output_type": "stream",
     "text": [
      "[2025-02-14 14:18:30] INFO (torcheeg/MainThread) \n",
      "[Train] train_loss: 0.315 train_accuracy: 0.892 \n",
      "\n"
     ]
    },
    {
     "name": "stdout",
     "output_type": "stream",
     "text": [
      "Epoch 34: 100%|██████████| 8/8 [00:00<00:00, 27.96it/s, loss=0.302, train_loss=0.244, train_accuracy=1.000]"
     ]
    },
    {
     "name": "stderr",
     "output_type": "stream",
     "text": [
      "[2025-02-14 14:18:30] INFO (torcheeg/MainThread) \n",
      "[Train] train_loss: 0.259 train_accuracy: 0.950 \n",
      "\n"
     ]
    },
    {
     "name": "stdout",
     "output_type": "stream",
     "text": [
      "Epoch 35: 100%|██████████| 8/8 [00:00<00:00, 28.00it/s, loss=0.277, train_loss=0.335, train_accuracy=0.875]"
     ]
    },
    {
     "name": "stderr",
     "output_type": "stream",
     "text": [
      "[2025-02-14 14:18:31] INFO (torcheeg/MainThread) \n",
      "[Train] train_loss: 0.261 train_accuracy: 0.950 \n",
      "\n"
     ]
    },
    {
     "name": "stdout",
     "output_type": "stream",
     "text": [
      "Epoch 36: 100%|██████████| 8/8 [00:00<00:00, 27.81it/s, loss=0.266, train_loss=0.311, train_accuracy=1.000]"
     ]
    },
    {
     "name": "stderr",
     "output_type": "stream",
     "text": [
      "[2025-02-14 14:18:31] INFO (torcheeg/MainThread) \n",
      "[Train] train_loss: 0.260 train_accuracy: 0.925 \n",
      "\n"
     ]
    },
    {
     "name": "stdout",
     "output_type": "stream",
     "text": [
      "Epoch 37: 100%|██████████| 8/8 [00:00<00:00, 27.53it/s, loss=0.252, train_loss=0.268, train_accuracy=1.000]"
     ]
    },
    {
     "name": "stderr",
     "output_type": "stream",
     "text": [
      "[2025-02-14 14:18:31] INFO (torcheeg/MainThread) \n",
      "[Train] train_loss: 0.244 train_accuracy: 0.967 \n",
      "\n"
     ]
    },
    {
     "name": "stdout",
     "output_type": "stream",
     "text": [
      "Epoch 38: 100%|██████████| 8/8 [00:00<00:00, 27.25it/s, loss=0.263, train_loss=0.344, train_accuracy=0.875]"
     ]
    },
    {
     "name": "stderr",
     "output_type": "stream",
     "text": [
      "[2025-02-14 14:18:31] INFO (torcheeg/MainThread) \n",
      "[Train] train_loss: 0.275 train_accuracy: 0.925 \n",
      "\n"
     ]
    },
    {
     "name": "stdout",
     "output_type": "stream",
     "text": [
      "Epoch 39: 100%|██████████| 8/8 [00:00<00:00, 27.54it/s, loss=0.252, train_loss=0.293, train_accuracy=0.875]"
     ]
    },
    {
     "name": "stderr",
     "output_type": "stream",
     "text": [
      "[2025-02-14 14:18:32] INFO (torcheeg/MainThread) \n",
      "[Train] train_loss: 0.232 train_accuracy: 0.950 \n",
      "\n"
     ]
    },
    {
     "name": "stdout",
     "output_type": "stream",
     "text": [
      "Epoch 40: 100%|██████████| 8/8 [00:00<00:00, 26.46it/s, loss=0.236, train_loss=0.131, train_accuracy=1.000]"
     ]
    },
    {
     "name": "stderr",
     "output_type": "stream",
     "text": [
      "Metric train_loss improved by 0.068 >= min_delta = 0.0. New best score: 0.131\n"
     ]
    },
    {
     "name": "stdout",
     "output_type": "stream",
     "text": [
      "Epoch 40: 100%|██████████| 8/8 [00:00<00:00, 26.32it/s, loss=0.236, train_loss=0.131, train_accuracy=1.000]"
     ]
    },
    {
     "name": "stderr",
     "output_type": "stream",
     "text": [
      "[2025-02-14 14:18:32] INFO (torcheeg/MainThread) \n",
      "[Train] train_loss: 0.206 train_accuracy: 0.950 \n",
      "\n"
     ]
    },
    {
     "name": "stdout",
     "output_type": "stream",
     "text": [
      "Epoch 41: 100%|██████████| 8/8 [00:00<00:00, 27.86it/s, loss=0.206, train_loss=0.154, train_accuracy=1.000]"
     ]
    },
    {
     "name": "stderr",
     "output_type": "stream",
     "text": [
      "[2025-02-14 14:18:32] INFO (torcheeg/MainThread) \n",
      "[Train] train_loss: 0.188 train_accuracy: 0.975 \n",
      "\n"
     ]
    },
    {
     "name": "stdout",
     "output_type": "stream",
     "text": [
      "Epoch 42: 100%|██████████| 8/8 [00:00<00:00, 28.81it/s, loss=0.198, train_loss=0.234, train_accuracy=1.000]"
     ]
    },
    {
     "name": "stderr",
     "output_type": "stream",
     "text": [
      "[2025-02-14 14:18:33] INFO (torcheeg/MainThread) \n",
      "[Train] train_loss: 0.201 train_accuracy: 0.942 \n",
      "\n"
     ]
    },
    {
     "name": "stdout",
     "output_type": "stream",
     "text": [
      "Epoch 43: 100%|██████████| 8/8 [00:00<00:00, 28.44it/s, loss=0.192, train_loss=0.289, train_accuracy=0.875]"
     ]
    },
    {
     "name": "stderr",
     "output_type": "stream",
     "text": [
      "[2025-02-14 14:18:33] INFO (torcheeg/MainThread) \n",
      "[Train] train_loss: 0.190 train_accuracy: 0.983 \n",
      "\n"
     ]
    },
    {
     "name": "stdout",
     "output_type": "stream",
     "text": [
      "Epoch 44: 100%|██████████| 8/8 [00:00<00:00, 28.19it/s, loss=0.189, train_loss=0.370, train_accuracy=0.875] "
     ]
    },
    {
     "name": "stderr",
     "output_type": "stream",
     "text": [
      "[2025-02-14 14:18:33] INFO (torcheeg/MainThread) \n",
      "[Train] train_loss: 0.190 train_accuracy: 0.975 \n",
      "\n"
     ]
    },
    {
     "name": "stdout",
     "output_type": "stream",
     "text": [
      "Epoch 45: 100%|██████████| 8/8 [00:00<00:00, 27.26it/s, loss=0.179, train_loss=0.101, train_accuracy=1.000]"
     ]
    },
    {
     "name": "stderr",
     "output_type": "stream",
     "text": [
      "Metric train_loss improved by 0.031 >= min_delta = 0.0. New best score: 0.101\n"
     ]
    },
    {
     "name": "stdout",
     "output_type": "stream",
     "text": [
      "Epoch 45: 100%|██████████| 8/8 [00:00<00:00, 27.12it/s, loss=0.179, train_loss=0.101, train_accuracy=1.000]"
     ]
    },
    {
     "name": "stderr",
     "output_type": "stream",
     "text": [
      "[2025-02-14 14:18:33] INFO (torcheeg/MainThread) \n",
      "[Train] train_loss: 0.155 train_accuracy: 0.992 \n",
      "\n"
     ]
    },
    {
     "name": "stdout",
     "output_type": "stream",
     "text": [
      "Epoch 46: 100%|██████████| 8/8 [00:00<00:00, 28.34it/s, loss=0.168, train_loss=0.103, train_accuracy=1.000]"
     ]
    },
    {
     "name": "stderr",
     "output_type": "stream",
     "text": [
      "[2025-02-14 14:18:34] INFO (torcheeg/MainThread) \n",
      "[Train] train_loss: 0.154 train_accuracy: 1.000 \n",
      "\n"
     ]
    },
    {
     "name": "stdout",
     "output_type": "stream",
     "text": [
      "Epoch 47: 100%|██████████| 8/8 [00:00<00:00, 27.85it/s, loss=0.147, train_loss=0.0714, train_accuracy=1.000]"
     ]
    },
    {
     "name": "stderr",
     "output_type": "stream",
     "text": [
      "Metric train_loss improved by 0.029 >= min_delta = 0.0. New best score: 0.071\n"
     ]
    },
    {
     "name": "stdout",
     "output_type": "stream",
     "text": [
      "Epoch 47: 100%|██████████| 8/8 [00:00<00:00, 27.70it/s, loss=0.147, train_loss=0.0714, train_accuracy=1.000]"
     ]
    },
    {
     "name": "stderr",
     "output_type": "stream",
     "text": [
      "[2025-02-14 14:18:34] INFO (torcheeg/MainThread) \n",
      "[Train] train_loss: 0.139 train_accuracy: 0.983 \n",
      "\n"
     ]
    },
    {
     "name": "stdout",
     "output_type": "stream",
     "text": [
      "Epoch 48: 100%|██████████| 8/8 [00:00<00:00, 27.15it/s, loss=0.138, train_loss=0.086, train_accuracy=1.000] "
     ]
    },
    {
     "name": "stderr",
     "output_type": "stream",
     "text": [
      "[2025-02-14 14:18:34] INFO (torcheeg/MainThread) \n",
      "[Train] train_loss: 0.137 train_accuracy: 0.983 \n",
      "\n"
     ]
    },
    {
     "name": "stdout",
     "output_type": "stream",
     "text": [
      "Epoch 49: 100%|██████████| 8/8 [00:00<00:00, 26.77it/s, loss=0.132, train_loss=0.102, train_accuracy=1.000]"
     ]
    },
    {
     "name": "stderr",
     "output_type": "stream",
     "text": [
      "[2025-02-14 14:18:35] INFO (torcheeg/MainThread) \n",
      "[Train] train_loss: 0.127 train_accuracy: 0.983 \n",
      "\n"
     ]
    },
    {
     "name": "stdout",
     "output_type": "stream",
     "text": [
      "Epoch 50: 100%|██████████| 8/8 [00:00<00:00, 26.98it/s, loss=0.122, train_loss=0.144, train_accuracy=1.000] "
     ]
    },
    {
     "name": "stderr",
     "output_type": "stream",
     "text": [
      "[2025-02-14 14:18:35] INFO (torcheeg/MainThread) \n",
      "[Train] train_loss: 0.120 train_accuracy: 0.983 \n",
      "\n"
     ]
    },
    {
     "name": "stdout",
     "output_type": "stream",
     "text": [
      "Epoch 51: 100%|██████████| 8/8 [00:00<00:00, 27.40it/s, loss=0.122, train_loss=0.102, train_accuracy=1.000] "
     ]
    },
    {
     "name": "stderr",
     "output_type": "stream",
     "text": [
      "[2025-02-14 14:18:35] INFO (torcheeg/MainThread) \n",
      "[Train] train_loss: 0.133 train_accuracy: 0.975 \n",
      "\n"
     ]
    },
    {
     "name": "stdout",
     "output_type": "stream",
     "text": [
      "Epoch 52: 100%|██████████| 8/8 [00:00<00:00, 27.94it/s, loss=0.124, train_loss=0.0199, train_accuracy=1.000]"
     ]
    },
    {
     "name": "stderr",
     "output_type": "stream",
     "text": [
      "Metric train_loss improved by 0.051 >= min_delta = 0.0. New best score: 0.020\n"
     ]
    },
    {
     "name": "stdout",
     "output_type": "stream",
     "text": [
      "Epoch 52: 100%|██████████| 8/8 [00:00<00:00, 27.74it/s, loss=0.124, train_loss=0.0199, train_accuracy=1.000]"
     ]
    },
    {
     "name": "stderr",
     "output_type": "stream",
     "text": [
      "[2025-02-14 14:18:35] INFO (torcheeg/MainThread) \n",
      "[Train] train_loss: 0.112 train_accuracy: 0.983 \n",
      "\n"
     ]
    },
    {
     "name": "stdout",
     "output_type": "stream",
     "text": [
      "Epoch 53: 100%|██████████| 8/8 [00:00<00:00, 24.19it/s, loss=0.124, train_loss=0.145, train_accuracy=1.000] "
     ]
    },
    {
     "name": "stderr",
     "output_type": "stream",
     "text": [
      "[2025-02-14 14:18:36] INFO (torcheeg/MainThread) \n",
      "[Train] train_loss: 0.115 train_accuracy: 0.975 \n",
      "\n"
     ]
    },
    {
     "name": "stdout",
     "output_type": "stream",
     "text": [
      "Epoch 54: 100%|██████████| 8/8 [00:00<00:00, 28.22it/s, loss=0.0967, train_loss=0.0641, train_accuracy=1.000]"
     ]
    },
    {
     "name": "stderr",
     "output_type": "stream",
     "text": [
      "[2025-02-14 14:18:36] INFO (torcheeg/MainThread) \n",
      "[Train] train_loss: 0.083 train_accuracy: 1.000 \n",
      "\n"
     ]
    },
    {
     "name": "stdout",
     "output_type": "stream",
     "text": [
      "Epoch 55: 100%|██████████| 8/8 [00:00<00:00, 27.17it/s, loss=0.0908, train_loss=0.0729, train_accuracy=1.000]"
     ]
    },
    {
     "name": "stderr",
     "output_type": "stream",
     "text": [
      "[2025-02-14 14:18:36] INFO (torcheeg/MainThread) \n",
      "[Train] train_loss: 0.081 train_accuracy: 0.992 \n",
      "\n"
     ]
    },
    {
     "name": "stdout",
     "output_type": "stream",
     "text": [
      "Epoch 56: 100%|██████████| 8/8 [00:00<00:00, 27.46it/s, loss=0.0906, train_loss=0.212, train_accuracy=0.875] "
     ]
    },
    {
     "name": "stderr",
     "output_type": "stream",
     "text": [
      "[2025-02-14 14:18:37] INFO (torcheeg/MainThread) \n",
      "[Train] train_loss: 0.100 train_accuracy: 0.992 \n",
      "\n"
     ]
    },
    {
     "name": "stdout",
     "output_type": "stream",
     "text": [
      "Epoch 57: 100%|██████████| 8/8 [00:00<00:00, 26.58it/s, loss=0.0831, train_loss=0.0347, train_accuracy=1.000]"
     ]
    },
    {
     "name": "stderr",
     "output_type": "stream",
     "text": [
      "[2025-02-14 14:18:37] INFO (torcheeg/MainThread) \n",
      "[Train] train_loss: 0.070 train_accuracy: 1.000 \n",
      "\n"
     ]
    },
    {
     "name": "stdout",
     "output_type": "stream",
     "text": [
      "Epoch 58: 100%|██████████| 8/8 [00:00<00:00, 27.37it/s, loss=0.0926, train_loss=0.102, train_accuracy=1.000] "
     ]
    },
    {
     "name": "stderr",
     "output_type": "stream",
     "text": [
      "[2025-02-14 14:18:37] INFO (torcheeg/MainThread) \n",
      "[Train] train_loss: 0.101 train_accuracy: 0.983 \n",
      "\n"
     ]
    },
    {
     "name": "stdout",
     "output_type": "stream",
     "text": [
      "Epoch 59: 100%|██████████| 8/8 [00:00<00:00, 26.44it/s, loss=0.0867, train_loss=0.0546, train_accuracy=1.000]"
     ]
    },
    {
     "name": "stderr",
     "output_type": "stream",
     "text": [
      "[2025-02-14 14:18:38] INFO (torcheeg/MainThread) \n",
      "[Train] train_loss: 0.080 train_accuracy: 0.983 \n",
      "\n"
     ]
    },
    {
     "name": "stdout",
     "output_type": "stream",
     "text": [
      "Epoch 60: 100%|██████████| 8/8 [00:00<00:00, 25.12it/s, loss=0.081, train_loss=0.0697, train_accuracy=1.000] "
     ]
    },
    {
     "name": "stderr",
     "output_type": "stream",
     "text": [
      "[2025-02-14 14:18:38] INFO (torcheeg/MainThread) \n",
      "[Train] train_loss: 0.071 train_accuracy: 1.000 \n",
      "\n"
     ]
    },
    {
     "name": "stdout",
     "output_type": "stream",
     "text": [
      "Epoch 61: 100%|██████████| 8/8 [00:00<00:00, 26.75it/s, loss=0.0932, train_loss=0.228, train_accuracy=0.875] "
     ]
    },
    {
     "name": "stderr",
     "output_type": "stream",
     "text": [
      "[2025-02-14 14:18:38] INFO (torcheeg/MainThread) \n",
      "[Train] train_loss: 0.112 train_accuracy: 0.975 \n",
      "\n"
     ]
    },
    {
     "name": "stdout",
     "output_type": "stream",
     "text": [
      "Epoch 62: 100%|██████████| 8/8 [00:00<00:00, 28.08it/s, loss=0.0918, train_loss=0.109, train_accuracy=1.000] "
     ]
    },
    {
     "name": "stderr",
     "output_type": "stream",
     "text": [
      "[2025-02-14 14:18:39] INFO (torcheeg/MainThread) \n",
      "[Train] train_loss: 0.078 train_accuracy: 0.983 \n",
      "\n"
     ]
    },
    {
     "name": "stdout",
     "output_type": "stream",
     "text": [
      "Epoch 63: 100%|██████████| 8/8 [00:00<00:00, 28.43it/s, loss=0.077, train_loss=0.0289, train_accuracy=1.000] "
     ]
    },
    {
     "name": "stderr",
     "output_type": "stream",
     "text": [
      "[2025-02-14 14:18:39] INFO (torcheeg/MainThread) \n",
      "[Train] train_loss: 0.062 train_accuracy: 0.992 \n",
      "\n"
     ]
    },
    {
     "name": "stdout",
     "output_type": "stream",
     "text": [
      "Epoch 64: 100%|██████████| 8/8 [00:00<00:00, 26.93it/s, loss=0.0676, train_loss=0.0825, train_accuracy=1.000]"
     ]
    },
    {
     "name": "stderr",
     "output_type": "stream",
     "text": [
      "[2025-02-14 14:18:39] INFO (torcheeg/MainThread) \n",
      "[Train] train_loss: 0.068 train_accuracy: 1.000 \n",
      "\n"
     ]
    },
    {
     "name": "stdout",
     "output_type": "stream",
     "text": [
      "Epoch 65: 100%|██████████| 8/8 [00:00<00:00, 26.36it/s, loss=0.06, train_loss=0.0363, train_accuracy=1.000]  "
     ]
    },
    {
     "name": "stderr",
     "output_type": "stream",
     "text": [
      "[2025-02-14 14:18:39] INFO (torcheeg/MainThread) \n",
      "[Train] train_loss: 0.060 train_accuracy: 0.992 \n",
      "\n"
     ]
    },
    {
     "name": "stdout",
     "output_type": "stream",
     "text": [
      "Epoch 66: 100%|██████████| 8/8 [00:00<00:00, 25.90it/s, loss=0.0674, train_loss=0.103, train_accuracy=1.000] "
     ]
    },
    {
     "name": "stderr",
     "output_type": "stream",
     "text": [
      "[2025-02-14 14:18:40] INFO (torcheeg/MainThread) \n",
      "[Train] train_loss: 0.077 train_accuracy: 0.983 \n",
      "\n"
     ]
    },
    {
     "name": "stdout",
     "output_type": "stream",
     "text": [
      "Epoch 67: 100%|██████████| 8/8 [00:00<00:00, 26.06it/s, loss=0.066, train_loss=0.0197, train_accuracy=1.000] "
     ]
    },
    {
     "name": "stderr",
     "output_type": "stream",
     "text": [
      "Metric train_loss improved by 0.000 >= min_delta = 0.0. New best score: 0.020\n"
     ]
    },
    {
     "name": "stdout",
     "output_type": "stream",
     "text": [
      "Epoch 67: 100%|██████████| 8/8 [00:00<00:00, 25.93it/s, loss=0.066, train_loss=0.0197, train_accuracy=1.000]"
     ]
    },
    {
     "name": "stderr",
     "output_type": "stream",
     "text": [
      "[2025-02-14 14:18:40] INFO (torcheeg/MainThread) \n",
      "[Train] train_loss: 0.054 train_accuracy: 1.000 \n",
      "\n"
     ]
    },
    {
     "name": "stdout",
     "output_type": "stream",
     "text": [
      "Epoch 68: 100%|██████████| 8/8 [00:00<00:00, 25.78it/s, loss=0.0644, train_loss=0.0588, train_accuracy=1.000]"
     ]
    },
    {
     "name": "stderr",
     "output_type": "stream",
     "text": [
      "[2025-02-14 14:18:40] INFO (torcheeg/MainThread) \n",
      "[Train] train_loss: 0.062 train_accuracy: 1.000 \n",
      "\n"
     ]
    },
    {
     "name": "stdout",
     "output_type": "stream",
     "text": [
      "Epoch 69: 100%|██████████| 8/8 [00:00<00:00, 25.91it/s, loss=0.0642, train_loss=0.117, train_accuracy=1.000] "
     ]
    },
    {
     "name": "stderr",
     "output_type": "stream",
     "text": [
      "[2025-02-14 14:18:41] INFO (torcheeg/MainThread) \n",
      "[Train] train_loss: 0.074 train_accuracy: 0.983 \n",
      "\n"
     ]
    },
    {
     "name": "stdout",
     "output_type": "stream",
     "text": [
      "Epoch 70: 100%|██████████| 8/8 [00:00<00:00, 25.94it/s, loss=0.0649, train_loss=0.0536, train_accuracy=1.000]"
     ]
    },
    {
     "name": "stderr",
     "output_type": "stream",
     "text": [
      "[2025-02-14 14:18:41] INFO (torcheeg/MainThread) \n",
      "[Train] train_loss: 0.055 train_accuracy: 1.000 \n",
      "\n"
     ]
    },
    {
     "name": "stdout",
     "output_type": "stream",
     "text": [
      "Epoch 71: 100%|██████████| 8/8 [00:00<00:00, 25.84it/s, loss=0.0592, train_loss=0.0513, train_accuracy=1.000]"
     ]
    },
    {
     "name": "stderr",
     "output_type": "stream",
     "text": [
      "[2025-02-14 14:18:41] INFO (torcheeg/MainThread) \n",
      "[Train] train_loss: 0.055 train_accuracy: 0.983 \n",
      "\n"
     ]
    },
    {
     "name": "stdout",
     "output_type": "stream",
     "text": [
      "Epoch 72: 100%|██████████| 8/8 [00:00<00:00, 26.20it/s, loss=0.0492, train_loss=0.0131, train_accuracy=1.000]"
     ]
    },
    {
     "name": "stderr",
     "output_type": "stream",
     "text": [
      "Metric train_loss improved by 0.007 >= min_delta = 0.0. New best score: 0.013\n"
     ]
    },
    {
     "name": "stdout",
     "output_type": "stream",
     "text": [
      "Epoch 72: 100%|██████████| 8/8 [00:00<00:00, 26.06it/s, loss=0.0492, train_loss=0.0131, train_accuracy=1.000]"
     ]
    },
    {
     "name": "stderr",
     "output_type": "stream",
     "text": [
      "[2025-02-14 14:18:42] INFO (torcheeg/MainThread) \n",
      "[Train] train_loss: 0.046 train_accuracy: 1.000 \n",
      "\n"
     ]
    },
    {
     "name": "stdout",
     "output_type": "stream",
     "text": [
      "Epoch 73: 100%|██████████| 8/8 [00:00<00:00, 26.13it/s, loss=0.0523, train_loss=0.0505, train_accuracy=1.000]"
     ]
    },
    {
     "name": "stderr",
     "output_type": "stream",
     "text": [
      "[2025-02-14 14:18:42] INFO (torcheeg/MainThread) \n",
      "[Train] train_loss: 0.061 train_accuracy: 1.000 \n",
      "\n"
     ]
    },
    {
     "name": "stdout",
     "output_type": "stream",
     "text": [
      "Epoch 74: 100%|██████████| 8/8 [00:00<00:00, 26.29it/s, loss=0.0508, train_loss=0.0828, train_accuracy=1.000]"
     ]
    },
    {
     "name": "stderr",
     "output_type": "stream",
     "text": [
      "[2025-02-14 14:18:42] INFO (torcheeg/MainThread) \n",
      "[Train] train_loss: 0.050 train_accuracy: 1.000 \n",
      "\n"
     ]
    },
    {
     "name": "stdout",
     "output_type": "stream",
     "text": [
      "Epoch 75: 100%|██████████| 8/8 [00:00<00:00, 25.81it/s, loss=0.0508, train_loss=0.0396, train_accuracy=1.000]"
     ]
    },
    {
     "name": "stderr",
     "output_type": "stream",
     "text": [
      "[2025-02-14 14:18:43] INFO (torcheeg/MainThread) \n",
      "[Train] train_loss: 0.052 train_accuracy: 0.992 \n",
      "\n"
     ]
    },
    {
     "name": "stdout",
     "output_type": "stream",
     "text": [
      "Epoch 76: 100%|██████████| 8/8 [00:00<00:00, 26.37it/s, loss=0.0465, train_loss=0.00537, train_accuracy=1.000]"
     ]
    },
    {
     "name": "stderr",
     "output_type": "stream",
     "text": [
      "Metric train_loss improved by 0.008 >= min_delta = 0.0. New best score: 0.005\n"
     ]
    },
    {
     "name": "stdout",
     "output_type": "stream",
     "text": [
      "Epoch 76: 100%|██████████| 8/8 [00:00<00:00, 26.22it/s, loss=0.0465, train_loss=0.00537, train_accuracy=1.000]"
     ]
    },
    {
     "name": "stderr",
     "output_type": "stream",
     "text": [
      "[2025-02-14 14:18:43] INFO (torcheeg/MainThread) \n",
      "[Train] train_loss: 0.036 train_accuracy: 1.000 \n",
      "\n"
     ]
    },
    {
     "name": "stdout",
     "output_type": "stream",
     "text": [
      "Epoch 77: 100%|██████████| 8/8 [00:00<00:00, 26.11it/s, loss=0.0463, train_loss=0.0133, train_accuracy=1.000] "
     ]
    },
    {
     "name": "stderr",
     "output_type": "stream",
     "text": [
      "[2025-02-14 14:18:43] INFO (torcheeg/MainThread) \n",
      "[Train] train_loss: 0.050 train_accuracy: 0.983 \n",
      "\n"
     ]
    },
    {
     "name": "stdout",
     "output_type": "stream",
     "text": [
      "Epoch 78: 100%|██████████| 8/8 [00:00<00:00, 25.94it/s, loss=0.0477, train_loss=0.0303, train_accuracy=1.000]"
     ]
    },
    {
     "name": "stderr",
     "output_type": "stream",
     "text": [
      "[2025-02-14 14:18:43] INFO (torcheeg/MainThread) \n",
      "[Train] train_loss: 0.054 train_accuracy: 1.000 \n",
      "\n"
     ]
    },
    {
     "name": "stdout",
     "output_type": "stream",
     "text": [
      "Epoch 79: 100%|██████████| 8/8 [00:00<00:00, 25.79it/s, loss=0.0446, train_loss=0.0308, train_accuracy=1.000]"
     ]
    },
    {
     "name": "stderr",
     "output_type": "stream",
     "text": [
      "[2025-02-14 14:18:44] INFO (torcheeg/MainThread) \n",
      "[Train] train_loss: 0.037 train_accuracy: 1.000 \n",
      "\n"
     ]
    },
    {
     "name": "stdout",
     "output_type": "stream",
     "text": [
      "Epoch 80: 100%|██████████| 8/8 [00:00<00:00, 25.90it/s, loss=0.0429, train_loss=0.0235, train_accuracy=1.000]"
     ]
    },
    {
     "name": "stderr",
     "output_type": "stream",
     "text": [
      "[2025-02-14 14:18:44] INFO (torcheeg/MainThread) \n",
      "[Train] train_loss: 0.035 train_accuracy: 0.992 \n",
      "\n"
     ]
    },
    {
     "name": "stdout",
     "output_type": "stream",
     "text": [
      "Epoch 81: 100%|██████████| 8/8 [00:00<00:00, 26.22it/s, loss=0.0349, train_loss=0.0348, train_accuracy=1.000]"
     ]
    },
    {
     "name": "stderr",
     "output_type": "stream",
     "text": [
      "[2025-02-14 14:18:44] INFO (torcheeg/MainThread) \n",
      "[Train] train_loss: 0.036 train_accuracy: 1.000 \n",
      "\n"
     ]
    },
    {
     "name": "stdout",
     "output_type": "stream",
     "text": [
      "Epoch 82: 100%|██████████| 8/8 [00:00<00:00, 26.15it/s, loss=0.0412, train_loss=0.0391, train_accuracy=1.000]"
     ]
    },
    {
     "name": "stderr",
     "output_type": "stream",
     "text": [
      "[2025-02-14 14:18:45] INFO (torcheeg/MainThread) \n",
      "[Train] train_loss: 0.048 train_accuracy: 0.992 \n",
      "\n"
     ]
    },
    {
     "name": "stdout",
     "output_type": "stream",
     "text": [
      "Epoch 83: 100%|██████████| 8/8 [00:00<00:00, 26.36it/s, loss=0.04, train_loss=0.0429, train_accuracy=1.000]  "
     ]
    },
    {
     "name": "stderr",
     "output_type": "stream",
     "text": [
      "[2025-02-14 14:18:45] INFO (torcheeg/MainThread) \n",
      "[Train] train_loss: 0.036 train_accuracy: 1.000 \n",
      "\n"
     ]
    },
    {
     "name": "stdout",
     "output_type": "stream",
     "text": [
      "Epoch 84: 100%|██████████| 8/8 [00:00<00:00, 25.89it/s, loss=0.0385, train_loss=0.0325, train_accuracy=1.000]"
     ]
    },
    {
     "name": "stderr",
     "output_type": "stream",
     "text": [
      "[2025-02-14 14:18:45] INFO (torcheeg/MainThread) \n",
      "[Train] train_loss: 0.037 train_accuracy: 1.000 \n",
      "\n"
     ]
    },
    {
     "name": "stdout",
     "output_type": "stream",
     "text": [
      "Epoch 85: 100%|██████████| 8/8 [00:00<00:00, 26.25it/s, loss=0.033, train_loss=0.0216, train_accuracy=1.000] "
     ]
    },
    {
     "name": "stderr",
     "output_type": "stream",
     "text": [
      "[2025-02-14 14:18:46] INFO (torcheeg/MainThread) \n",
      "[Train] train_loss: 0.028 train_accuracy: 1.000 \n",
      "\n"
     ]
    },
    {
     "name": "stdout",
     "output_type": "stream",
     "text": [
      "Epoch 86: 100%|██████████| 8/8 [00:00<00:00, 25.48it/s, loss=0.0352, train_loss=0.0422, train_accuracy=1.000]"
     ]
    },
    {
     "name": "stderr",
     "output_type": "stream",
     "text": [
      "[2025-02-14 14:18:46] INFO (torcheeg/MainThread) \n",
      "[Train] train_loss: 0.041 train_accuracy: 0.992 \n",
      "\n"
     ]
    },
    {
     "name": "stdout",
     "output_type": "stream",
     "text": [
      "Epoch 87: 100%|██████████| 8/8 [00:00<00:00, 25.84it/s, loss=0.0377, train_loss=0.016, train_accuracy=1.000] "
     ]
    },
    {
     "name": "stderr",
     "output_type": "stream",
     "text": [
      "[2025-02-14 14:18:46] INFO (torcheeg/MainThread) \n",
      "[Train] train_loss: 0.037 train_accuracy: 0.992 \n",
      "\n"
     ]
    },
    {
     "name": "stdout",
     "output_type": "stream",
     "text": [
      "Epoch 88: 100%|██████████| 8/8 [00:00<00:00, 25.81it/s, loss=0.0349, train_loss=0.00956, train_accuracy=1.000]"
     ]
    },
    {
     "name": "stderr",
     "output_type": "stream",
     "text": [
      "[2025-02-14 14:18:47] INFO (torcheeg/MainThread) \n",
      "[Train] train_loss: 0.030 train_accuracy: 0.992 \n",
      "\n"
     ]
    },
    {
     "name": "stdout",
     "output_type": "stream",
     "text": [
      "Epoch 89: 100%|██████████| 8/8 [00:00<00:00, 27.39it/s, loss=0.0318, train_loss=0.0321, train_accuracy=1.000] "
     ]
    },
    {
     "name": "stderr",
     "output_type": "stream",
     "text": [
      "[2025-02-14 14:18:47] INFO (torcheeg/MainThread) \n",
      "[Train] train_loss: 0.026 train_accuracy: 0.992 \n",
      "\n"
     ]
    },
    {
     "name": "stdout",
     "output_type": "stream",
     "text": [
      "Epoch 90: 100%|██████████| 8/8 [00:00<00:00, 27.35it/s, loss=0.0253, train_loss=0.0179, train_accuracy=1.000]"
     ]
    },
    {
     "name": "stderr",
     "output_type": "stream",
     "text": [
      "[2025-02-14 14:18:47] INFO (torcheeg/MainThread) \n",
      "[Train] train_loss: 0.028 train_accuracy: 0.992 \n",
      "\n"
     ]
    },
    {
     "name": "stdout",
     "output_type": "stream",
     "text": [
      "Epoch 91: 100%|██████████| 8/8 [00:00<00:00, 27.84it/s, loss=0.0341, train_loss=0.0429, train_accuracy=1.000]"
     ]
    },
    {
     "name": "stderr",
     "output_type": "stream",
     "text": [
      "[2025-02-14 14:18:47] INFO (torcheeg/MainThread) \n",
      "[Train] train_loss: 0.047 train_accuracy: 1.000 \n",
      "\n"
     ]
    },
    {
     "name": "stdout",
     "output_type": "stream",
     "text": [
      "Epoch 92: 100%|██████████| 8/8 [00:00<00:00, 27.00it/s, loss=0.0388, train_loss=0.0689, train_accuracy=1.000]"
     ]
    },
    {
     "name": "stderr",
     "output_type": "stream",
     "text": [
      "[2025-02-14 14:18:48] INFO (torcheeg/MainThread) \n",
      "[Train] train_loss: 0.040 train_accuracy: 0.992 \n",
      "\n"
     ]
    },
    {
     "name": "stdout",
     "output_type": "stream",
     "text": [
      "Epoch 93: 100%|██████████| 8/8 [00:00<00:00, 27.92it/s, loss=0.0374, train_loss=0.0489, train_accuracy=1.000] "
     ]
    },
    {
     "name": "stderr",
     "output_type": "stream",
     "text": [
      "[2025-02-14 14:18:48] INFO (torcheeg/MainThread) \n",
      "[Train] train_loss: 0.028 train_accuracy: 1.000 \n",
      "\n"
     ]
    },
    {
     "name": "stdout",
     "output_type": "stream",
     "text": [
      "Epoch 94: 100%|██████████| 8/8 [00:00<00:00, 28.15it/s, loss=0.044, train_loss=0.179, train_accuracy=0.875]  "
     ]
    },
    {
     "name": "stderr",
     "output_type": "stream",
     "text": [
      "[2025-02-14 14:18:48] INFO (torcheeg/MainThread) \n",
      "[Train] train_loss: 0.054 train_accuracy: 0.992 \n",
      "\n"
     ]
    },
    {
     "name": "stdout",
     "output_type": "stream",
     "text": [
      "Epoch 95: 100%|██████████| 8/8 [00:00<00:00, 28.11it/s, loss=0.0454, train_loss=0.0761, train_accuracy=1.000]"
     ]
    },
    {
     "name": "stderr",
     "output_type": "stream",
     "text": [
      "[2025-02-14 14:18:49] INFO (torcheeg/MainThread) \n",
      "[Train] train_loss: 0.043 train_accuracy: 1.000 \n",
      "\n"
     ]
    },
    {
     "name": "stdout",
     "output_type": "stream",
     "text": [
      "Epoch 96: 100%|██████████| 8/8 [00:00<00:00, 28.14it/s, loss=0.0453, train_loss=0.00648, train_accuracy=1.000]"
     ]
    },
    {
     "name": "stderr",
     "output_type": "stream",
     "text": [
      "[2025-02-14 14:18:49] INFO (torcheeg/MainThread) \n",
      "[Train] train_loss: 0.031 train_accuracy: 0.992 \n",
      "\n"
     ]
    },
    {
     "name": "stdout",
     "output_type": "stream",
     "text": [
      "Epoch 97: 100%|██████████| 8/8 [00:00<00:00, 28.15it/s, loss=0.0314, train_loss=0.0107, train_accuracy=1.000] "
     ]
    },
    {
     "name": "stderr",
     "output_type": "stream",
     "text": [
      "[2025-02-14 14:18:49] INFO (torcheeg/MainThread) \n",
      "[Train] train_loss: 0.018 train_accuracy: 1.000 \n",
      "\n"
     ]
    },
    {
     "name": "stdout",
     "output_type": "stream",
     "text": [
      "Epoch 98: 100%|██████████| 8/8 [00:00<00:00, 25.67it/s, loss=0.0233, train_loss=0.0108, train_accuracy=1.000]"
     ]
    },
    {
     "name": "stderr",
     "output_type": "stream",
     "text": [
      "[2025-02-14 14:18:49] INFO (torcheeg/MainThread) \n",
      "[Train] train_loss: 0.022 train_accuracy: 1.000 \n",
      "\n"
     ]
    },
    {
     "name": "stdout",
     "output_type": "stream",
     "text": [
      "Epoch 99: 100%|██████████| 8/8 [00:00<00:00, 26.45it/s, loss=0.0224, train_loss=0.022, train_accuracy=1.000]  "
     ]
    },
    {
     "name": "stderr",
     "output_type": "stream",
     "text": [
      "[2025-02-14 14:18:50] INFO (torcheeg/MainThread) \n",
      "[Train] train_loss: 0.027 train_accuracy: 0.992 \n",
      "\n",
      "`Trainer.fit` stopped: `max_epochs=100` reached.\n"
     ]
    },
    {
     "name": "stdout",
     "output_type": "stream",
     "text": [
      "Epoch 99: 100%|██████████| 8/8 [00:00<00:00, 26.20it/s, loss=0.0224, train_loss=0.022, train_accuracy=1.000]\n"
     ]
    },
    {
     "name": "stderr",
     "output_type": "stream",
     "text": [
      "GPU available: True (cuda), used: True\n",
      "TPU available: False, using: 0 TPU cores\n",
      "IPU available: False, using: 0 IPUs\n",
      "HPU available: False, using: 0 HPUs\n",
      "Missing logger folder: /root/autodl-tmp/.autodl/kinlaw/GANSER/mycode/lightning_logs\n",
      "LOCAL_RANK: 0 - CUDA_VISIBLE_DEVICES: [0]\n",
      "/root/autodl-tmp/conda/envs/law/lib/python3.8/site-packages/pytorch_lightning/trainer/connectors/data_connector.py:224: PossibleUserWarning: The dataloader, test_dataloader 0, does not have many workers which may be a bottleneck. Consider increasing the value of the `num_workers` argument` (try 128 which is the number of cpus on this machine) in the `DataLoader` init to improve performance.\n",
      "  rank_zero_warn(\n"
     ]
    },
    {
     "name": "stdout",
     "output_type": "stream",
     "text": [
      "Testing DataLoader 0: 100%|██████████| 3/3 [00:00<00:00, 102.53it/s]"
     ]
    },
    {
     "name": "stderr",
     "output_type": "stream",
     "text": [
      "[2025-02-14 14:18:50] INFO (torcheeg/MainThread) \n",
      "[Test] test_loss: 1.271 test_accuracy: 0.625 \n",
      "\n"
     ]
    },
    {
     "name": "stdout",
     "output_type": "stream",
     "text": [
      "Testing DataLoader 0: 100%|██████████| 3/3 [00:00<00:00, 86.14it/s] \n",
      "────────────────────────────────────────────────────────────────────────────────────────────────────────────────────────\n",
      "       Test metric             DataLoader 0\n",
      "────────────────────────────────────────────────────────────────────────────────────────────────────────────────────────\n",
      "      test_accuracy                0.625\n",
      "        test_loss           1.2707585096359253\n",
      "────────────────────────────────────────────────────────────────────────────────────────────────────────────────────────\n",
      "{'test_metric_avg': 0.5937499925494194, 'test_metric_std': 0.05962119243443663}\n"
     ]
    }
   ],
   "source": [
    "from swin_transformer3D import SwinTransformer3D\n",
    "\n",
    "HYPERPARAMETERS = {\n",
    "    \"seed\": 12,\n",
    "    \"batch_size\": 16,\n",
    "    \"lr\": 1e-5,\n",
    "    \"weight_decay\": 1e-4,\n",
    "    \"num_epochs\": 100,\n",
    "}\n",
    "from torcheeg.model_selection import KFoldPerSubjectGroupbyTrial\n",
    "from pytorch_lightning.callbacks import ModelCheckpoint, EarlyStopping\n",
    "from torch.utils.data import DataLoader\n",
    "from classifier import ClassifierTrainer\n",
    "k_fold = KFoldPerSubjectGroupbyTrial(\n",
    "    n_splits=4,\n",
    "    shuffle=True,\n",
    "    random_state=42)\n",
    "\n",
    "training_metrics = []\n",
    "test_metrics = []\n",
    "\n",
    "for i, (training_dataset, test_dataset) in enumerate(k_fold.split(dataset)):\n",
    "    delete_folder_if_exists(target_folder_name='lightning_logs')\n",
    "    model = SwinTransformer3D(patch_size=(4,3,3),\n",
    "                                in_chans=1,\n",
    "                                depths=[2,2,4],\n",
    "                                num_heads=[3,6,8],\n",
    "                                window_size=(4,2,2),\n",
    "                                mlp_ratio=2.,\n",
    "                                drop_rate=0.1,\n",
    "                                attn_drop_rate=0.1,\n",
    "                                drop_path_rate=0.3,\n",
    "                                num_classes=2\n",
    "                                )\n",
    "    trainer = ClassifierTrainer(model=model,\n",
    "                                num_classes=2,\n",
    "                                lr=HYPERPARAMETERS['lr'],\n",
    "                                weight_decay=HYPERPARAMETERS['weight_decay'],\n",
    "                                metrics=[\"accuracy\"],\n",
    "                                accelerator=\"gpu\")\n",
    "    \n",
    "    training_loader = DataLoader(training_dataset,\n",
    "                             batch_size=HYPERPARAMETERS['batch_size'],\n",
    "                             shuffle=True)\n",
    "    test_loader = DataLoader(test_dataset,\n",
    "                             batch_size=HYPERPARAMETERS['batch_size'],\n",
    "                             shuffle=False)\n",
    "    # 提前停止回调\n",
    "    early_stopping_callback = EarlyStopping(\n",
    "        monitor='train_loss',\n",
    "        patience=30, \n",
    "        mode='min',\n",
    "        verbose=True\n",
    "    )\n",
    "    \n",
    "    trainer.fit(training_loader,\n",
    "                test_loader,\n",
    "                max_epochs=HYPERPARAMETERS['num_epochs'],\n",
    "                callbacks=[early_stopping_callback],\n",
    "                # enable_progress_bar=True,\n",
    "                enable_model_summary=False,\n",
    "                limit_val_batches=0.0)\n",
    "    # training_result = trainer.test(training_loader,\n",
    "    #                                enable_progress_bar=True,\n",
    "    #                                enable_model_summary=True)[0]\n",
    "    test_result = trainer.test(test_loader,\n",
    "                               enable_progress_bar=True,\n",
    "                               enable_model_summary=True)[0]\n",
    "    # training_metrics.append(training_result[\"test_accuracy\"])\n",
    "    test_metrics.append(test_result[\"test_accuracy\"])\n",
    "     \n",
    "print({\n",
    "    # \"training_metric_avg\": np.mean(training_metrics),\n",
    "    # \"training_metric_std\": np.std(training_metrics),\n",
    "    \"test_metric_avg\": np.mean(test_metrics),\n",
    "    \"test_metric_std\": np.std(test_metrics)\n",
    "})"
   ]
  },
  {
   "cell_type": "code",
   "execution_count": 4,
   "metadata": {},
   "outputs": [
    {
     "name": "stderr",
     "output_type": "stream",
     "text": [
      "[2025-02-12 16:56:21] INFO (torcheeg/MainThread) 📊 | Create the split of train and test set.\n",
      "[2025-02-12 16:56:21] INFO (torcheeg/MainThread) 😊 | Please set \u001b[92msplit_path\u001b[0m to \u001b[92m.torcheeg/model_selection_1739350581083_W1YOf\u001b[0m for the next run, if you want to use the same setting for the experiment.\n",
      "/root/autodl-tmp/conda/envs/law/lib/python3.8/site-packages/torch/functional.py:568: UserWarning: torch.meshgrid: in an upcoming release, it will be required to pass the indexing argument. (Triggered internally at  /opt/conda/conda-bld/pytorch_1646755903507/work/aten/src/ATen/native/TensorShape.cpp:2228.)\n",
      "  return _VF.meshgrid(tensors, **kwargs)  # type: ignore[attr-defined]\n",
      "GPU available: True (cuda), used: True\n",
      "TPU available: False, using: 0 TPU cores\n",
      "IPU available: False, using: 0 IPUs\n",
      "HPU available: False, using: 0 HPUs\n",
      "LOCAL_RANK: 0 - CUDA_VISIBLE_DEVICES: [0]\n",
      "/root/autodl-tmp/conda/envs/law/lib/python3.8/site-packages/pytorch_lightning/trainer/connectors/data_connector.py:224: PossibleUserWarning: The dataloader, train_dataloader, does not have many workers which may be a bottleneck. Consider increasing the value of the `num_workers` argument` (try 128 which is the number of cpus on this machine) in the `DataLoader` init to improve performance.\n",
      "  rank_zero_warn(\n"
     ]
    },
    {
     "name": "stdout",
     "output_type": "stream",
     "text": [
      "Epoch 0: 100%|██████████| 30/30 [00:05<00:00,  5.12it/s, loss=6.65, train_loss=1.400, train_accuracy=0.250]  "
     ]
    },
    {
     "name": "stderr",
     "output_type": "stream",
     "text": [
      "Metric train_loss improved. New best score: 1.401\n"
     ]
    },
    {
     "name": "stdout",
     "output_type": "stream",
     "text": [
      "Epoch 0: 100%|██████████| 30/30 [00:05<00:00,  5.12it/s, loss=6.65, train_loss=1.400, train_accuracy=0.250]"
     ]
    },
    {
     "name": "stderr",
     "output_type": "stream",
     "text": [
      "/root/autodl-tmp/conda/envs/law/lib/python3.8/site-packages/pytorch_lightning/core/module.py:493: UserWarning: You called `self.log('train_loss', ..., logger=True)` but have no logger configured. You can enable one by doing `Trainer(logger=ALogger(...))`\n",
      "  rank_zero_warn(\n",
      "/root/autodl-tmp/conda/envs/law/lib/python3.8/site-packages/pytorch_lightning/core/module.py:493: UserWarning: You called `self.log('train_accuracy', ..., logger=True)` but have no logger configured. You can enable one by doing `Trainer(logger=ALogger(...))`\n",
      "  rank_zero_warn(\n",
      "[2025-02-12 16:56:41] INFO (torcheeg/MainThread) \n",
      "[Train] train_loss: 8.975 train_accuracy: 0.558 \n",
      "\n"
     ]
    },
    {
     "name": "stdout",
     "output_type": "stream",
     "text": [
      "Epoch 1: 100%|██████████| 30/30 [00:05<00:00,  5.97it/s, loss=1.37, train_loss=6.640, train_accuracy=0.750]   "
     ]
    },
    {
     "name": "stderr",
     "output_type": "stream",
     "text": [
      "[2025-02-12 16:56:46] INFO (torcheeg/MainThread) \n",
      "[Train] train_loss: 1.786 train_accuracy: 0.742 \n",
      "\n"
     ]
    },
    {
     "name": "stdout",
     "output_type": "stream",
     "text": [
      "Epoch 2: 100%|██████████| 30/30 [00:05<00:00,  5.97it/s, loss=0.821, train_loss=1.460, train_accuracy=0.750]  "
     ]
    },
    {
     "name": "stderr",
     "output_type": "stream",
     "text": [
      "[2025-02-12 16:56:51] INFO (torcheeg/MainThread) \n",
      "[Train] train_loss: 1.194 train_accuracy: 0.850 \n",
      "\n"
     ]
    },
    {
     "name": "stdout",
     "output_type": "stream",
     "text": [
      "Epoch 3: 100%|██████████| 30/30 [00:05<00:00,  5.99it/s, loss=0.378, train_loss=0.00182, train_accuracy=1.000] "
     ]
    },
    {
     "name": "stderr",
     "output_type": "stream",
     "text": [
      "Metric train_loss improved by 1.399 >= min_delta = 0.0. New best score: 0.002\n"
     ]
    },
    {
     "name": "stdout",
     "output_type": "stream",
     "text": [
      "Epoch 3: 100%|██████████| 30/30 [00:05<00:00,  5.98it/s, loss=0.378, train_loss=0.00182, train_accuracy=1.000]"
     ]
    },
    {
     "name": "stderr",
     "output_type": "stream",
     "text": [
      "[2025-02-12 16:56:56] INFO (torcheeg/MainThread) \n",
      "[Train] train_loss: 0.428 train_accuracy: 0.883 \n",
      "\n"
     ]
    },
    {
     "name": "stdout",
     "output_type": "stream",
     "text": [
      "Epoch 4: 100%|██████████| 30/30 [00:04<00:00,  6.01it/s, loss=0.707, train_loss=0.000159, train_accuracy=1.000]"
     ]
    },
    {
     "name": "stderr",
     "output_type": "stream",
     "text": [
      "Metric train_loss improved by 0.002 >= min_delta = 0.0. New best score: 0.000\n"
     ]
    },
    {
     "name": "stdout",
     "output_type": "stream",
     "text": [
      "Epoch 4: 100%|██████████| 30/30 [00:04<00:00,  6.00it/s, loss=0.707, train_loss=0.000159, train_accuracy=1.000]"
     ]
    },
    {
     "name": "stderr",
     "output_type": "stream",
     "text": [
      "[2025-02-12 16:57:01] INFO (torcheeg/MainThread) \n",
      "[Train] train_loss: 0.683 train_accuracy: 0.875 \n",
      "\n"
     ]
    },
    {
     "name": "stdout",
     "output_type": "stream",
     "text": [
      "Epoch 5: 100%|██████████| 30/30 [00:05<00:00,  5.97it/s, loss=0.738, train_loss=1.730, train_accuracy=0.750]   "
     ]
    },
    {
     "name": "stderr",
     "output_type": "stream",
     "text": [
      "[2025-02-12 16:57:06] INFO (torcheeg/MainThread) \n",
      "[Train] train_loss: 0.513 train_accuracy: 0.900 \n",
      "\n"
     ]
    },
    {
     "name": "stdout",
     "output_type": "stream",
     "text": [
      "Epoch 6: 100%|██████████| 30/30 [00:05<00:00,  5.98it/s, loss=0.277, train_loss=0.00365, train_accuracy=1.000]  "
     ]
    },
    {
     "name": "stderr",
     "output_type": "stream",
     "text": [
      "[2025-02-12 16:57:11] INFO (torcheeg/MainThread) \n",
      "[Train] train_loss: 0.231 train_accuracy: 0.958 \n",
      "\n"
     ]
    },
    {
     "name": "stdout",
     "output_type": "stream",
     "text": [
      "Epoch 7: 100%|██████████| 30/30 [00:05<00:00,  5.98it/s, loss=0.348, train_loss=0.0623, train_accuracy=1.000]  "
     ]
    },
    {
     "name": "stderr",
     "output_type": "stream",
     "text": [
      "[2025-02-12 16:57:16] INFO (torcheeg/MainThread) \n",
      "[Train] train_loss: 0.264 train_accuracy: 0.967 \n",
      "\n"
     ]
    },
    {
     "name": "stdout",
     "output_type": "stream",
     "text": [
      "Epoch 8: 100%|██████████| 30/30 [00:05<00:00,  5.99it/s, loss=0.00962, train_loss=0.00214, train_accuracy=1.000] "
     ]
    },
    {
     "name": "stderr",
     "output_type": "stream",
     "text": [
      "[2025-02-12 16:57:21] INFO (torcheeg/MainThread) \n",
      "[Train] train_loss: 0.014 train_accuracy: 0.992 \n",
      "\n"
     ]
    },
    {
     "name": "stdout",
     "output_type": "stream",
     "text": [
      "Epoch 9: 100%|██████████| 30/30 [00:05<00:00,  5.98it/s, loss=0.00368, train_loss=4.47e-6, train_accuracy=1.000]  "
     ]
    },
    {
     "name": "stderr",
     "output_type": "stream",
     "text": [
      "Metric train_loss improved by 0.000 >= min_delta = 0.0. New best score: 0.000\n"
     ]
    },
    {
     "name": "stdout",
     "output_type": "stream",
     "text": [
      "Epoch 9: 100%|██████████| 30/30 [00:05<00:00,  5.98it/s, loss=0.00368, train_loss=4.47e-6, train_accuracy=1.000]"
     ]
    },
    {
     "name": "stderr",
     "output_type": "stream",
     "text": [
      "[2025-02-12 16:57:26] INFO (torcheeg/MainThread) \n",
      "[Train] train_loss: 0.003 train_accuracy: 1.000 \n",
      "\n"
     ]
    },
    {
     "name": "stdout",
     "output_type": "stream",
     "text": [
      "Epoch 10: 100%|██████████| 30/30 [00:05<00:00,  5.99it/s, loss=0.000257, train_loss=1.31e-5, train_accuracy=1.000] "
     ]
    },
    {
     "name": "stderr",
     "output_type": "stream",
     "text": [
      "[2025-02-12 16:57:31] INFO (torcheeg/MainThread) \n",
      "[Train] train_loss: 0.000 train_accuracy: 1.000 \n",
      "\n"
     ]
    },
    {
     "name": "stdout",
     "output_type": "stream",
     "text": [
      "Epoch 11: 100%|██████████| 30/30 [00:04<00:00,  6.02it/s, loss=0.00047, train_loss=0.000105, train_accuracy=1.000] "
     ]
    },
    {
     "name": "stderr",
     "output_type": "stream",
     "text": [
      "[2025-02-12 16:57:36] INFO (torcheeg/MainThread) \n",
      "[Train] train_loss: 0.003 train_accuracy: 1.000 \n",
      "\n"
     ]
    },
    {
     "name": "stdout",
     "output_type": "stream",
     "text": [
      "Epoch 12: 100%|██████████| 30/30 [00:04<00:00,  6.02it/s, loss=0.00153, train_loss=2.98e-8, train_accuracy=1.000] "
     ]
    },
    {
     "name": "stderr",
     "output_type": "stream",
     "text": [
      "Metric train_loss improved by 0.000 >= min_delta = 0.0. New best score: 0.000\n"
     ]
    },
    {
     "name": "stdout",
     "output_type": "stream",
     "text": [
      "Epoch 12: 100%|██████████| 30/30 [00:04<00:00,  6.02it/s, loss=0.00153, train_loss=2.98e-8, train_accuracy=1.000]"
     ]
    },
    {
     "name": "stderr",
     "output_type": "stream",
     "text": [
      "[2025-02-12 16:57:41] INFO (torcheeg/MainThread) \n",
      "[Train] train_loss: 0.006 train_accuracy: 1.000 \n",
      "\n"
     ]
    },
    {
     "name": "stdout",
     "output_type": "stream",
     "text": [
      "Epoch 13: 100%|██████████| 30/30 [00:05<00:00,  5.99it/s, loss=8.89e-05, train_loss=0.000309, train_accuracy=1.000]"
     ]
    },
    {
     "name": "stderr",
     "output_type": "stream",
     "text": [
      "[2025-02-12 16:57:46] INFO (torcheeg/MainThread) \n",
      "[Train] train_loss: 0.003 train_accuracy: 1.000 \n",
      "\n"
     ]
    },
    {
     "name": "stdout",
     "output_type": "stream",
     "text": [
      "Epoch 14: 100%|██████████| 30/30 [00:05<00:00,  5.99it/s, loss=5.13e-05, train_loss=2.65e-6, train_accuracy=1.000] "
     ]
    },
    {
     "name": "stderr",
     "output_type": "stream",
     "text": [
      "[2025-02-12 16:57:51] INFO (torcheeg/MainThread) \n",
      "[Train] train_loss: 0.000 train_accuracy: 1.000 \n",
      "\n"
     ]
    },
    {
     "name": "stdout",
     "output_type": "stream",
     "text": [
      "Epoch 15: 100%|██████████| 30/30 [00:04<00:00,  6.02it/s, loss=2.31e-05, train_loss=0.000, train_accuracy=1.000]   "
     ]
    },
    {
     "name": "stderr",
     "output_type": "stream",
     "text": [
      "Metric train_loss improved by 0.000 >= min_delta = 0.0. New best score: 0.000\n"
     ]
    },
    {
     "name": "stdout",
     "output_type": "stream",
     "text": [
      "Epoch 15: 100%|██████████| 30/30 [00:04<00:00,  6.02it/s, loss=2.31e-05, train_loss=0.000, train_accuracy=1.000]"
     ]
    },
    {
     "name": "stderr",
     "output_type": "stream",
     "text": [
      "[2025-02-12 16:57:56] INFO (torcheeg/MainThread) \n",
      "[Train] train_loss: 0.000 train_accuracy: 1.000 \n",
      "\n"
     ]
    },
    {
     "name": "stdout",
     "output_type": "stream",
     "text": [
      "Epoch 16: 100%|██████████| 30/30 [00:05<00:00,  5.99it/s, loss=3.93e-05, train_loss=2.65e-6, train_accuracy=1.000] "
     ]
    },
    {
     "name": "stderr",
     "output_type": "stream",
     "text": [
      "[2025-02-12 16:58:01] INFO (torcheeg/MainThread) \n",
      "[Train] train_loss: 0.000 train_accuracy: 1.000 \n",
      "\n"
     ]
    },
    {
     "name": "stdout",
     "output_type": "stream",
     "text": [
      "Epoch 17: 100%|██████████| 30/30 [00:04<00:00,  6.01it/s, loss=3.5e-05, train_loss=1.28e-5, train_accuracy=1.000]  "
     ]
    },
    {
     "name": "stderr",
     "output_type": "stream",
     "text": [
      "[2025-02-12 16:58:06] INFO (torcheeg/MainThread) \n",
      "[Train] train_loss: 0.000 train_accuracy: 1.000 \n",
      "\n"
     ]
    },
    {
     "name": "stdout",
     "output_type": "stream",
     "text": [
      "Epoch 18: 100%|██████████| 30/30 [00:04<00:00,  6.01it/s, loss=0.000767, train_loss=0.000256, train_accuracy=1.000]"
     ]
    },
    {
     "name": "stderr",
     "output_type": "stream",
     "text": [
      "[2025-02-12 16:58:11] INFO (torcheeg/MainThread) \n",
      "[Train] train_loss: 0.001 train_accuracy: 1.000 \n",
      "\n"
     ]
    },
    {
     "name": "stdout",
     "output_type": "stream",
     "text": [
      "Epoch 19: 100%|██████████| 30/30 [00:04<00:00,  6.01it/s, loss=3.24e-05, train_loss=0.000422, train_accuracy=1.000]"
     ]
    },
    {
     "name": "stderr",
     "output_type": "stream",
     "text": [
      "[2025-02-12 16:58:16] INFO (torcheeg/MainThread) \n",
      "[Train] train_loss: 0.000 train_accuracy: 1.000 \n",
      "\n",
      "`Trainer.fit` stopped: `max_epochs=20` reached.\n"
     ]
    },
    {
     "name": "stdout",
     "output_type": "stream",
     "text": [
      "Epoch 19: 100%|██████████| 30/30 [00:04<00:00,  6.00it/s, loss=3.24e-05, train_loss=0.000422, train_accuracy=1.000]\n"
     ]
    },
    {
     "name": "stderr",
     "output_type": "stream",
     "text": [
      "GPU available: True (cuda), used: True\n",
      "TPU available: False, using: 0 TPU cores\n",
      "IPU available: False, using: 0 IPUs\n",
      "HPU available: False, using: 0 HPUs\n",
      "Missing logger folder: /root/autodl-tmp/.autodl/kinlaw/GANSER/mycode/lightning_logs\n",
      "LOCAL_RANK: 0 - CUDA_VISIBLE_DEVICES: [0]\n",
      "/root/autodl-tmp/conda/envs/law/lib/python3.8/site-packages/pytorch_lightning/trainer/connectors/data_connector.py:224: PossibleUserWarning: The dataloader, test_dataloader 0, does not have many workers which may be a bottleneck. Consider increasing the value of the `num_workers` argument` (try 128 which is the number of cpus on this machine) in the `DataLoader` init to improve performance.\n",
      "  rank_zero_warn(\n"
     ]
    },
    {
     "name": "stdout",
     "output_type": "stream",
     "text": [
      "Testing DataLoader 0: 100%|██████████| 10/10 [00:00<00:00, 73.84it/s]"
     ]
    },
    {
     "name": "stderr",
     "output_type": "stream",
     "text": [
      "[2025-02-12 16:58:26] INFO (torcheeg/MainThread) \n",
      "[Test] test_loss: 2.051 test_accuracy: 0.725 \n",
      "\n"
     ]
    },
    {
     "name": "stdout",
     "output_type": "stream",
     "text": [
      "Testing DataLoader 0: 100%|██████████| 10/10 [00:00<00:00, 68.55it/s]\n",
      "────────────────────────────────────────────────────────────────────────────────────────────────────────────────────────\n",
      "       Test metric             DataLoader 0\n",
      "────────────────────────────────────────────────────────────────────────────────────────────────────────────────────────\n",
      "      test_accuracy         0.7250000238418579\n",
      "        test_loss            2.051154851913452\n",
      "────────────────────────────────────────────────────────────────────────────────────────────────────────────────────────\n",
      "已删除文件夹: /root/autodl-tmp/.autodl/kinlaw/GANSER/mycode/lightning_logs\n"
     ]
    },
    {
     "name": "stderr",
     "output_type": "stream",
     "text": [
      "GPU available: True (cuda), used: True\n",
      "TPU available: False, using: 0 TPU cores\n",
      "IPU available: False, using: 0 IPUs\n",
      "HPU available: False, using: 0 HPUs\n",
      "LOCAL_RANK: 0 - CUDA_VISIBLE_DEVICES: [0]\n",
      "/root/autodl-tmp/conda/envs/law/lib/python3.8/site-packages/pytorch_lightning/trainer/connectors/data_connector.py:224: PossibleUserWarning: The dataloader, train_dataloader, does not have many workers which may be a bottleneck. Consider increasing the value of the `num_workers` argument` (try 128 which is the number of cpus on this machine) in the `DataLoader` init to improve performance.\n",
      "  rank_zero_warn(\n"
     ]
    },
    {
     "name": "stdout",
     "output_type": "stream",
     "text": [
      "Epoch 0: 100%|██████████| 30/30 [00:05<00:00,  5.97it/s, loss=4.39, train_loss=1.570, train_accuracy=0.250]"
     ]
    },
    {
     "name": "stderr",
     "output_type": "stream",
     "text": [
      "Metric train_loss improved. New best score: 1.570\n"
     ]
    },
    {
     "name": "stdout",
     "output_type": "stream",
     "text": [
      "Epoch 0: 100%|██████████| 30/30 [00:05<00:00,  5.96it/s, loss=4.39, train_loss=1.570, train_accuracy=0.250]"
     ]
    },
    {
     "name": "stderr",
     "output_type": "stream",
     "text": [
      "/root/autodl-tmp/conda/envs/law/lib/python3.8/site-packages/pytorch_lightning/core/module.py:493: UserWarning: You called `self.log('train_loss', ..., logger=True)` but have no logger configured. You can enable one by doing `Trainer(logger=ALogger(...))`\n",
      "  rank_zero_warn(\n",
      "/root/autodl-tmp/conda/envs/law/lib/python3.8/site-packages/pytorch_lightning/core/module.py:493: UserWarning: You called `self.log('train_accuracy', ..., logger=True)` but have no logger configured. You can enable one by doing `Trainer(logger=ALogger(...))`\n",
      "  rank_zero_warn(\n",
      "[2025-02-12 16:58:46] INFO (torcheeg/MainThread) \n",
      "[Train] train_loss: 7.148 train_accuracy: 0.558 \n",
      "\n"
     ]
    },
    {
     "name": "stdout",
     "output_type": "stream",
     "text": [
      "Epoch 1: 100%|██████████| 30/30 [00:05<00:00,  5.96it/s, loss=1.54, train_loss=0.0379, train_accuracy=1.000]  "
     ]
    },
    {
     "name": "stderr",
     "output_type": "stream",
     "text": [
      "Metric train_loss improved by 1.532 >= min_delta = 0.0. New best score: 0.038\n"
     ]
    },
    {
     "name": "stdout",
     "output_type": "stream",
     "text": [
      "Epoch 1: 100%|██████████| 30/30 [00:05<00:00,  5.96it/s, loss=1.54, train_loss=0.0379, train_accuracy=1.000]"
     ]
    },
    {
     "name": "stderr",
     "output_type": "stream",
     "text": [
      "[2025-02-12 16:58:51] INFO (torcheeg/MainThread) \n",
      "[Train] train_loss: 2.019 train_accuracy: 0.758 \n",
      "\n"
     ]
    },
    {
     "name": "stdout",
     "output_type": "stream",
     "text": [
      "Epoch 2: 100%|██████████| 30/30 [00:05<00:00,  5.95it/s, loss=0.555, train_loss=3.59e-5, train_accuracy=1.000]"
     ]
    },
    {
     "name": "stderr",
     "output_type": "stream",
     "text": [
      "Metric train_loss improved by 0.038 >= min_delta = 0.0. New best score: 0.000\n"
     ]
    },
    {
     "name": "stdout",
     "output_type": "stream",
     "text": [
      "Epoch 2: 100%|██████████| 30/30 [00:05<00:00,  5.95it/s, loss=0.555, train_loss=3.59e-5, train_accuracy=1.000]"
     ]
    },
    {
     "name": "stderr",
     "output_type": "stream",
     "text": [
      "[2025-02-12 16:58:56] INFO (torcheeg/MainThread) \n",
      "[Train] train_loss: 0.598 train_accuracy: 0.817 \n",
      "\n"
     ]
    },
    {
     "name": "stdout",
     "output_type": "stream",
     "text": [
      "Epoch 3: 100%|██████████| 30/30 [00:05<00:00,  5.99it/s, loss=0.132, train_loss=0.0145, train_accuracy=1.000]   "
     ]
    },
    {
     "name": "stderr",
     "output_type": "stream",
     "text": [
      "[2025-02-12 16:59:01] INFO (torcheeg/MainThread) \n",
      "[Train] train_loss: 0.093 train_accuracy: 0.942 \n",
      "\n"
     ]
    },
    {
     "name": "stdout",
     "output_type": "stream",
     "text": [
      "Epoch 4: 100%|██████████| 30/30 [00:05<00:00,  5.99it/s, loss=0.0154, train_loss=4.02e-5, train_accuracy=1.000] "
     ]
    },
    {
     "name": "stderr",
     "output_type": "stream",
     "text": [
      "[2025-02-12 16:59:06] INFO (torcheeg/MainThread) \n",
      "[Train] train_loss: 0.030 train_accuracy: 0.983 \n",
      "\n"
     ]
    },
    {
     "name": "stdout",
     "output_type": "stream",
     "text": [
      "Epoch 5: 100%|██████████| 30/30 [00:05<00:00,  5.97it/s, loss=0.0298, train_loss=2.98e-8, train_accuracy=1.000] "
     ]
    },
    {
     "name": "stderr",
     "output_type": "stream",
     "text": [
      "Metric train_loss improved by 0.000 >= min_delta = 0.0. New best score: 0.000\n"
     ]
    },
    {
     "name": "stdout",
     "output_type": "stream",
     "text": [
      "Epoch 5: 100%|██████████| 30/30 [00:05<00:00,  5.97it/s, loss=0.0298, train_loss=2.98e-8, train_accuracy=1.000]"
     ]
    },
    {
     "name": "stderr",
     "output_type": "stream",
     "text": [
      "[2025-02-12 16:59:11] INFO (torcheeg/MainThread) \n",
      "[Train] train_loss: 0.057 train_accuracy: 0.983 \n",
      "\n"
     ]
    },
    {
     "name": "stdout",
     "output_type": "stream",
     "text": [
      "Epoch 6: 100%|██████████| 30/30 [00:05<00:00,  5.98it/s, loss=0.00225, train_loss=4.26e-5, train_accuracy=1.000] "
     ]
    },
    {
     "name": "stderr",
     "output_type": "stream",
     "text": [
      "[2025-02-12 16:59:16] INFO (torcheeg/MainThread) \n",
      "[Train] train_loss: 0.006 train_accuracy: 1.000 \n",
      "\n"
     ]
    },
    {
     "name": "stdout",
     "output_type": "stream",
     "text": [
      "Epoch 7: 100%|██████████| 30/30 [00:04<00:00,  6.02it/s, loss=0.000274, train_loss=0.000, train_accuracy=1.000]   "
     ]
    },
    {
     "name": "stderr",
     "output_type": "stream",
     "text": [
      "Metric train_loss improved by 0.000 >= min_delta = 0.0. New best score: 0.000\n"
     ]
    },
    {
     "name": "stdout",
     "output_type": "stream",
     "text": [
      "Epoch 7: 100%|██████████| 30/30 [00:04<00:00,  6.01it/s, loss=0.000274, train_loss=0.000, train_accuracy=1.000]"
     ]
    },
    {
     "name": "stderr",
     "output_type": "stream",
     "text": [
      "[2025-02-12 16:59:21] INFO (torcheeg/MainThread) \n",
      "[Train] train_loss: 0.002 train_accuracy: 1.000 \n",
      "\n"
     ]
    },
    {
     "name": "stdout",
     "output_type": "stream",
     "text": [
      "Epoch 8: 100%|██████████| 30/30 [00:05<00:00,  5.97it/s, loss=0.000467, train_loss=0.00702, train_accuracy=1.000] "
     ]
    },
    {
     "name": "stderr",
     "output_type": "stream",
     "text": [
      "[2025-02-12 16:59:26] INFO (torcheeg/MainThread) \n",
      "[Train] train_loss: 0.001 train_accuracy: 1.000 \n",
      "\n"
     ]
    },
    {
     "name": "stdout",
     "output_type": "stream",
     "text": [
      "Epoch 9: 100%|██████████| 30/30 [00:04<00:00,  6.01it/s, loss=0.000412, train_loss=9.43e-5, train_accuracy=1.000] "
     ]
    },
    {
     "name": "stderr",
     "output_type": "stream",
     "text": [
      "[2025-02-12 16:59:31] INFO (torcheeg/MainThread) \n",
      "[Train] train_loss: 0.000 train_accuracy: 1.000 \n",
      "\n"
     ]
    },
    {
     "name": "stdout",
     "output_type": "stream",
     "text": [
      "Epoch 10: 100%|██████████| 30/30 [00:05<00:00,  6.00it/s, loss=0.00382, train_loss=5.96e-8, train_accuracy=1.000]  "
     ]
    },
    {
     "name": "stderr",
     "output_type": "stream",
     "text": [
      "[2025-02-12 16:59:36] INFO (torcheeg/MainThread) \n",
      "[Train] train_loss: 0.006 train_accuracy: 1.000 \n",
      "\n"
     ]
    },
    {
     "name": "stdout",
     "output_type": "stream",
     "text": [
      "Epoch 11: 100%|██████████| 30/30 [00:04<00:00,  6.00it/s, loss=0.000117, train_loss=6.75e-5, train_accuracy=1.000]"
     ]
    },
    {
     "name": "stderr",
     "output_type": "stream",
     "text": [
      "[2025-02-12 16:59:41] INFO (torcheeg/MainThread) \n",
      "[Train] train_loss: 0.000 train_accuracy: 1.000 \n",
      "\n"
     ]
    },
    {
     "name": "stdout",
     "output_type": "stream",
     "text": [
      "Epoch 12: 100%|██████████| 30/30 [00:05<00:00,  5.99it/s, loss=0.00118, train_loss=0.000, train_accuracy=1.000]    "
     ]
    },
    {
     "name": "stderr",
     "output_type": "stream",
     "text": [
      "[2025-02-12 16:59:46] INFO (torcheeg/MainThread) \n",
      "[Train] train_loss: 0.001 train_accuracy: 1.000 \n",
      "\n"
     ]
    },
    {
     "name": "stdout",
     "output_type": "stream",
     "text": [
      "Epoch 13: 100%|██████████| 30/30 [00:04<00:00,  6.01it/s, loss=1.06e-05, train_loss=1.38e-5, train_accuracy=1.000] "
     ]
    },
    {
     "name": "stderr",
     "output_type": "stream",
     "text": [
      "[2025-02-12 16:59:51] INFO (torcheeg/MainThread) \n",
      "[Train] train_loss: 0.000 train_accuracy: 1.000 \n",
      "\n"
     ]
    },
    {
     "name": "stdout",
     "output_type": "stream",
     "text": [
      "Epoch 14: 100%|██████████| 30/30 [00:05<00:00,  6.00it/s, loss=0.00829, train_loss=4.08e-6, train_accuracy=1.000]  "
     ]
    },
    {
     "name": "stderr",
     "output_type": "stream",
     "text": [
      "[2025-02-12 16:59:56] INFO (torcheeg/MainThread) \n",
      "[Train] train_loss: 0.006 train_accuracy: 1.000 \n",
      "\n"
     ]
    },
    {
     "name": "stdout",
     "output_type": "stream",
     "text": [
      "Epoch 15: 100%|██████████| 30/30 [00:04<00:00,  6.00it/s, loss=1.93, train_loss=1.990, train_accuracy=0.750]     "
     ]
    },
    {
     "name": "stderr",
     "output_type": "stream",
     "text": [
      "[2025-02-12 17:00:01] INFO (torcheeg/MainThread) \n",
      "[Train] train_loss: 1.318 train_accuracy: 0.900 \n",
      "\n"
     ]
    },
    {
     "name": "stdout",
     "output_type": "stream",
     "text": [
      "Epoch 16: 100%|██████████| 30/30 [00:05<00:00,  5.99it/s, loss=4.64, train_loss=0.115, train_accuracy=1.000]  "
     ]
    },
    {
     "name": "stderr",
     "output_type": "stream",
     "text": [
      "[2025-02-12 17:00:07] INFO (torcheeg/MainThread) \n",
      "[Train] train_loss: 4.177 train_accuracy: 0.600 \n",
      "\n"
     ]
    },
    {
     "name": "stdout",
     "output_type": "stream",
     "text": [
      "Epoch 17: 100%|██████████| 30/30 [00:04<00:00,  6.01it/s, loss=1.85, train_loss=0.791, train_accuracy=0.750]"
     ]
    },
    {
     "name": "stderr",
     "output_type": "stream",
     "text": [
      "Monitored metric train_loss did not improve in the last 10 records. Best score: 0.000. Signaling Trainer to stop.\n"
     ]
    },
    {
     "name": "stdout",
     "output_type": "stream",
     "text": [
      "Epoch 17: 100%|██████████| 30/30 [00:04<00:00,  6.01it/s, loss=1.85, train_loss=0.791, train_accuracy=0.750]"
     ]
    },
    {
     "name": "stderr",
     "output_type": "stream",
     "text": [
      "[2025-02-12 17:00:12] INFO (torcheeg/MainThread) \n",
      "[Train] train_loss: 2.525 train_accuracy: 0.567 \n",
      "\n"
     ]
    },
    {
     "name": "stdout",
     "output_type": "stream",
     "text": [
      "Epoch 17: 100%|██████████| 30/30 [00:04<00:00,  6.00it/s, loss=1.85, train_loss=0.791, train_accuracy=0.750]\n"
     ]
    },
    {
     "name": "stderr",
     "output_type": "stream",
     "text": [
      "GPU available: True (cuda), used: True\n",
      "TPU available: False, using: 0 TPU cores\n",
      "IPU available: False, using: 0 IPUs\n",
      "HPU available: False, using: 0 HPUs\n",
      "Missing logger folder: /root/autodl-tmp/.autodl/kinlaw/GANSER/mycode/lightning_logs\n",
      "LOCAL_RANK: 0 - CUDA_VISIBLE_DEVICES: [0]\n",
      "/root/autodl-tmp/conda/envs/law/lib/python3.8/site-packages/pytorch_lightning/trainer/connectors/data_connector.py:224: PossibleUserWarning: The dataloader, test_dataloader 0, does not have many workers which may be a bottleneck. Consider increasing the value of the `num_workers` argument` (try 128 which is the number of cpus on this machine) in the `DataLoader` init to improve performance.\n",
      "  rank_zero_warn(\n"
     ]
    },
    {
     "name": "stdout",
     "output_type": "stream",
     "text": [
      "Testing DataLoader 0: 100%|██████████| 10/10 [00:00<00:00, 66.26it/s]"
     ]
    },
    {
     "name": "stderr",
     "output_type": "stream",
     "text": [
      "[2025-02-12 17:00:22] INFO (torcheeg/MainThread) \n",
      "[Test] test_loss: 0.845 test_accuracy: 0.450 \n",
      "\n"
     ]
    },
    {
     "name": "stdout",
     "output_type": "stream",
     "text": [
      "Testing DataLoader 0: 100%|██████████| 10/10 [00:00<00:00, 63.50it/s]\n",
      "────────────────────────────────────────────────────────────────────────────────────────────────────────────────────────\n",
      "       Test metric             DataLoader 0\n",
      "────────────────────────────────────────────────────────────────────────────────────────────────────────────────────────\n",
      "      test_accuracy         0.44999998807907104\n",
      "        test_loss           0.8450236320495605\n",
      "────────────────────────────────────────────────────────────────────────────────────────────────────────────────────────\n",
      "已删除文件夹: /root/autodl-tmp/.autodl/kinlaw/GANSER/mycode/lightning_logs\n"
     ]
    },
    {
     "name": "stderr",
     "output_type": "stream",
     "text": [
      "GPU available: True (cuda), used: True\n",
      "TPU available: False, using: 0 TPU cores\n",
      "IPU available: False, using: 0 IPUs\n",
      "HPU available: False, using: 0 HPUs\n",
      "LOCAL_RANK: 0 - CUDA_VISIBLE_DEVICES: [0]\n",
      "/root/autodl-tmp/conda/envs/law/lib/python3.8/site-packages/pytorch_lightning/trainer/connectors/data_connector.py:224: PossibleUserWarning: The dataloader, train_dataloader, does not have many workers which may be a bottleneck. Consider increasing the value of the `num_workers` argument` (try 128 which is the number of cpus on this machine) in the `DataLoader` init to improve performance.\n",
      "  rank_zero_warn(\n"
     ]
    },
    {
     "name": "stdout",
     "output_type": "stream",
     "text": [
      "Epoch 0: 100%|██████████| 30/30 [00:05<00:00,  5.21it/s, loss=4.72, train_loss=0.506, train_accuracy=0.750]  "
     ]
    },
    {
     "name": "stderr",
     "output_type": "stream",
     "text": [
      "Metric train_loss improved. New best score: 0.506\n"
     ]
    },
    {
     "name": "stdout",
     "output_type": "stream",
     "text": [
      "Epoch 0: 100%|██████████| 30/30 [00:05<00:00,  5.21it/s, loss=4.72, train_loss=0.506, train_accuracy=0.750]"
     ]
    },
    {
     "name": "stderr",
     "output_type": "stream",
     "text": [
      "/root/autodl-tmp/conda/envs/law/lib/python3.8/site-packages/pytorch_lightning/core/module.py:493: UserWarning: You called `self.log('train_loss', ..., logger=True)` but have no logger configured. You can enable one by doing `Trainer(logger=ALogger(...))`\n",
      "  rank_zero_warn(\n",
      "/root/autodl-tmp/conda/envs/law/lib/python3.8/site-packages/pytorch_lightning/core/module.py:493: UserWarning: You called `self.log('train_accuracy', ..., logger=True)` but have no logger configured. You can enable one by doing `Trainer(logger=ALogger(...))`\n",
      "  rank_zero_warn(\n",
      "[2025-02-12 17:00:44] INFO (torcheeg/MainThread) \n",
      "[Train] train_loss: 8.381 train_accuracy: 0.575 \n",
      "\n"
     ]
    },
    {
     "name": "stdout",
     "output_type": "stream",
     "text": [
      "Epoch 1: 100%|██████████| 30/30 [00:04<00:00,  6.02it/s, loss=3.18, train_loss=3.300, train_accuracy=0.750]  "
     ]
    },
    {
     "name": "stderr",
     "output_type": "stream",
     "text": [
      "[2025-02-12 17:00:49] INFO (torcheeg/MainThread) \n",
      "[Train] train_loss: 2.752 train_accuracy: 0.783 \n",
      "\n"
     ]
    },
    {
     "name": "stdout",
     "output_type": "stream",
     "text": [
      "Epoch 2: 100%|██████████| 30/30 [00:05<00:00,  5.98it/s, loss=0.534, train_loss=0.107, train_accuracy=1.000]   "
     ]
    },
    {
     "name": "stderr",
     "output_type": "stream",
     "text": [
      "Metric train_loss improved by 0.398 >= min_delta = 0.0. New best score: 0.107\n"
     ]
    },
    {
     "name": "stdout",
     "output_type": "stream",
     "text": [
      "Epoch 2: 100%|██████████| 30/30 [00:05<00:00,  5.98it/s, loss=0.534, train_loss=0.107, train_accuracy=1.000]"
     ]
    },
    {
     "name": "stderr",
     "output_type": "stream",
     "text": [
      "[2025-02-12 17:00:54] INFO (torcheeg/MainThread) \n",
      "[Train] train_loss: 0.935 train_accuracy: 0.842 \n",
      "\n"
     ]
    },
    {
     "name": "stdout",
     "output_type": "stream",
     "text": [
      "Epoch 3: 100%|██████████| 30/30 [00:05<00:00,  5.95it/s, loss=0.195, train_loss=0.0657, train_accuracy=1.000]  "
     ]
    },
    {
     "name": "stderr",
     "output_type": "stream",
     "text": [
      "Metric train_loss improved by 0.042 >= min_delta = 0.0. New best score: 0.066\n"
     ]
    },
    {
     "name": "stdout",
     "output_type": "stream",
     "text": [
      "Epoch 3: 100%|██████████| 30/30 [00:05<00:00,  5.95it/s, loss=0.195, train_loss=0.0657, train_accuracy=1.000]"
     ]
    },
    {
     "name": "stderr",
     "output_type": "stream",
     "text": [
      "[2025-02-12 17:00:59] INFO (torcheeg/MainThread) \n",
      "[Train] train_loss: 0.183 train_accuracy: 0.942 \n",
      "\n"
     ]
    },
    {
     "name": "stdout",
     "output_type": "stream",
     "text": [
      "Epoch 4: 100%|██████████| 30/30 [00:04<00:00,  6.00it/s, loss=0.252, train_loss=3.200, train_accuracy=0.750]    "
     ]
    },
    {
     "name": "stderr",
     "output_type": "stream",
     "text": [
      "[2025-02-12 17:01:04] INFO (torcheeg/MainThread) \n",
      "[Train] train_loss: 0.229 train_accuracy: 0.958 \n",
      "\n"
     ]
    },
    {
     "name": "stdout",
     "output_type": "stream",
     "text": [
      "Epoch 5: 100%|██████████| 30/30 [00:04<00:00,  6.02it/s, loss=0.0905, train_loss=0.219, train_accuracy=0.750]  "
     ]
    },
    {
     "name": "stderr",
     "output_type": "stream",
     "text": [
      "[2025-02-12 17:01:09] INFO (torcheeg/MainThread) \n",
      "[Train] train_loss: 0.134 train_accuracy: 0.967 \n",
      "\n"
     ]
    },
    {
     "name": "stdout",
     "output_type": "stream",
     "text": [
      "Epoch 6: 100%|██████████| 30/30 [00:04<00:00,  6.00it/s, loss=0.0365, train_loss=8.43e-6, train_accuracy=1.000]"
     ]
    },
    {
     "name": "stderr",
     "output_type": "stream",
     "text": [
      "Metric train_loss improved by 0.066 >= min_delta = 0.0. New best score: 0.000\n"
     ]
    },
    {
     "name": "stdout",
     "output_type": "stream",
     "text": [
      "Epoch 6: 100%|██████████| 30/30 [00:04<00:00,  6.00it/s, loss=0.0365, train_loss=8.43e-6, train_accuracy=1.000]"
     ]
    },
    {
     "name": "stderr",
     "output_type": "stream",
     "text": [
      "[2025-02-12 17:01:14] INFO (torcheeg/MainThread) \n",
      "[Train] train_loss: 0.024 train_accuracy: 0.983 \n",
      "\n"
     ]
    },
    {
     "name": "stdout",
     "output_type": "stream",
     "text": [
      "Epoch 7: 100%|██████████| 30/30 [00:05<00:00,  6.00it/s, loss=0.00242, train_loss=0.000, train_accuracy=1.000]   "
     ]
    },
    {
     "name": "stderr",
     "output_type": "stream",
     "text": [
      "Metric train_loss improved by 0.000 >= min_delta = 0.0. New best score: 0.000\n"
     ]
    },
    {
     "name": "stdout",
     "output_type": "stream",
     "text": [
      "Epoch 7: 100%|██████████| 30/30 [00:05<00:00,  6.00it/s, loss=0.00242, train_loss=0.000, train_accuracy=1.000]"
     ]
    },
    {
     "name": "stderr",
     "output_type": "stream",
     "text": [
      "[2025-02-12 17:01:19] INFO (torcheeg/MainThread) \n",
      "[Train] train_loss: 0.002 train_accuracy: 1.000 \n",
      "\n"
     ]
    },
    {
     "name": "stdout",
     "output_type": "stream",
     "text": [
      "Epoch 8: 100%|██████████| 30/30 [00:04<00:00,  6.01it/s, loss=0.000354, train_loss=5.96e-8, train_accuracy=1.000] "
     ]
    },
    {
     "name": "stderr",
     "output_type": "stream",
     "text": [
      "[2025-02-12 17:01:24] INFO (torcheeg/MainThread) \n",
      "[Train] train_loss: 0.000 train_accuracy: 1.000 \n",
      "\n"
     ]
    },
    {
     "name": "stdout",
     "output_type": "stream",
     "text": [
      "Epoch 9: 100%|██████████| 30/30 [00:04<00:00,  6.00it/s, loss=0.171, train_loss=1.13e-6, train_accuracy=1.000]   "
     ]
    },
    {
     "name": "stderr",
     "output_type": "stream",
     "text": [
      "[2025-02-12 17:01:29] INFO (torcheeg/MainThread) \n",
      "[Train] train_loss: 0.114 train_accuracy: 0.958 \n",
      "\n"
     ]
    },
    {
     "name": "stdout",
     "output_type": "stream",
     "text": [
      "Epoch 10: 100%|██████████| 30/30 [00:04<00:00,  6.01it/s, loss=0.0834, train_loss=0.0137, train_accuracy=1.000] "
     ]
    },
    {
     "name": "stderr",
     "output_type": "stream",
     "text": [
      "[2025-02-12 17:01:34] INFO (torcheeg/MainThread) \n",
      "[Train] train_loss: 0.190 train_accuracy: 0.958 \n",
      "\n"
     ]
    },
    {
     "name": "stdout",
     "output_type": "stream",
     "text": [
      "Epoch 11: 100%|██████████| 30/30 [00:04<00:00,  6.01it/s, loss=0.773, train_loss=5.67e-5, train_accuracy=1.000]  "
     ]
    },
    {
     "name": "stderr",
     "output_type": "stream",
     "text": [
      "[2025-02-12 17:01:39] INFO (torcheeg/MainThread) \n",
      "[Train] train_loss: 0.516 train_accuracy: 0.958 \n",
      "\n"
     ]
    },
    {
     "name": "stdout",
     "output_type": "stream",
     "text": [
      "Epoch 12: 100%|██████████| 30/30 [00:04<00:00,  6.00it/s, loss=0.362, train_loss=1.130, train_accuracy=0.750]   "
     ]
    },
    {
     "name": "stderr",
     "output_type": "stream",
     "text": [
      "[2025-02-12 17:01:44] INFO (torcheeg/MainThread) \n",
      "[Train] train_loss: 0.712 train_accuracy: 0.925 \n",
      "\n"
     ]
    },
    {
     "name": "stdout",
     "output_type": "stream",
     "text": [
      "Epoch 13: 100%|██████████| 30/30 [00:04<00:00,  6.00it/s, loss=0.813, train_loss=9.030, train_accuracy=0.750]  "
     ]
    },
    {
     "name": "stderr",
     "output_type": "stream",
     "text": [
      "[2025-02-12 17:01:49] INFO (torcheeg/MainThread) \n",
      "[Train] train_loss: 0.674 train_accuracy: 0.950 \n",
      "\n"
     ]
    },
    {
     "name": "stdout",
     "output_type": "stream",
     "text": [
      "Epoch 14: 100%|██████████| 30/30 [00:05<00:00,  5.98it/s, loss=2.13, train_loss=0.262, train_accuracy=0.750]   "
     ]
    },
    {
     "name": "stderr",
     "output_type": "stream",
     "text": [
      "[2025-02-12 17:01:54] INFO (torcheeg/MainThread) \n",
      "[Train] train_loss: 1.865 train_accuracy: 0.825 \n",
      "\n"
     ]
    },
    {
     "name": "stdout",
     "output_type": "stream",
     "text": [
      "Epoch 15: 100%|██████████| 30/30 [00:04<00:00,  6.02it/s, loss=0.243, train_loss=0.0032, train_accuracy=1.000]  "
     ]
    },
    {
     "name": "stderr",
     "output_type": "stream",
     "text": [
      "[2025-02-12 17:01:59] INFO (torcheeg/MainThread) \n",
      "[Train] train_loss: 0.404 train_accuracy: 0.892 \n",
      "\n"
     ]
    },
    {
     "name": "stdout",
     "output_type": "stream",
     "text": [
      "Epoch 16: 100%|██████████| 30/30 [00:05<00:00,  6.00it/s, loss=0.213, train_loss=0.0682, train_accuracy=1.000]  "
     ]
    },
    {
     "name": "stderr",
     "output_type": "stream",
     "text": [
      "[2025-02-12 17:02:04] INFO (torcheeg/MainThread) \n",
      "[Train] train_loss: 0.149 train_accuracy: 0.975 \n",
      "\n"
     ]
    },
    {
     "name": "stdout",
     "output_type": "stream",
     "text": [
      "Epoch 17: 100%|██████████| 30/30 [00:04<00:00,  6.02it/s, loss=0.118, train_loss=0.0106, train_accuracy=1.000]  "
     ]
    },
    {
     "name": "stderr",
     "output_type": "stream",
     "text": [
      "Monitored metric train_loss did not improve in the last 10 records. Best score: 0.000. Signaling Trainer to stop.\n"
     ]
    },
    {
     "name": "stdout",
     "output_type": "stream",
     "text": [
      "Epoch 17: 100%|██████████| 30/30 [00:04<00:00,  6.02it/s, loss=0.118, train_loss=0.0106, train_accuracy=1.000]"
     ]
    },
    {
     "name": "stderr",
     "output_type": "stream",
     "text": [
      "[2025-02-12 17:02:09] INFO (torcheeg/MainThread) \n",
      "[Train] train_loss: 0.084 train_accuracy: 0.975 \n",
      "\n"
     ]
    },
    {
     "name": "stdout",
     "output_type": "stream",
     "text": [
      "Epoch 17: 100%|██████████| 30/30 [00:04<00:00,  6.02it/s, loss=0.118, train_loss=0.0106, train_accuracy=1.000]\n"
     ]
    },
    {
     "name": "stderr",
     "output_type": "stream",
     "text": [
      "GPU available: True (cuda), used: True\n",
      "TPU available: False, using: 0 TPU cores\n",
      "IPU available: False, using: 0 IPUs\n",
      "HPU available: False, using: 0 HPUs\n",
      "Missing logger folder: /root/autodl-tmp/.autodl/kinlaw/GANSER/mycode/lightning_logs\n",
      "LOCAL_RANK: 0 - CUDA_VISIBLE_DEVICES: [0]\n",
      "/root/autodl-tmp/conda/envs/law/lib/python3.8/site-packages/pytorch_lightning/trainer/connectors/data_connector.py:224: PossibleUserWarning: The dataloader, test_dataloader 0, does not have many workers which may be a bottleneck. Consider increasing the value of the `num_workers` argument` (try 128 which is the number of cpus on this machine) in the `DataLoader` init to improve performance.\n",
      "  rank_zero_warn(\n"
     ]
    },
    {
     "name": "stdout",
     "output_type": "stream",
     "text": [
      "Testing DataLoader 0: 100%|██████████| 10/10 [00:00<00:00, 73.70it/s]"
     ]
    },
    {
     "name": "stderr",
     "output_type": "stream",
     "text": [
      "[2025-02-12 17:02:19] INFO (torcheeg/MainThread) \n",
      "[Test] test_loss: 1.343 test_accuracy: 0.700 \n",
      "\n"
     ]
    },
    {
     "name": "stdout",
     "output_type": "stream",
     "text": [
      "Testing DataLoader 0: 100%|██████████| 10/10 [00:00<00:00, 70.68it/s]\n",
      "────────────────────────────────────────────────────────────────────────────────────────────────────────────────────────\n",
      "       Test metric             DataLoader 0\n",
      "────────────────────────────────────────────────────────────────────────────────────────────────────────────────────────\n",
      "      test_accuracy          0.699999988079071\n",
      "        test_loss           1.3430300951004028\n",
      "────────────────────────────────────────────────────────────────────────────────────────────────────────────────────────\n",
      "已删除文件夹: /root/autodl-tmp/.autodl/kinlaw/GANSER/mycode/lightning_logs\n"
     ]
    },
    {
     "name": "stderr",
     "output_type": "stream",
     "text": [
      "GPU available: True (cuda), used: True\n",
      "TPU available: False, using: 0 TPU cores\n",
      "IPU available: False, using: 0 IPUs\n",
      "HPU available: False, using: 0 HPUs\n",
      "LOCAL_RANK: 0 - CUDA_VISIBLE_DEVICES: [0]\n",
      "/root/autodl-tmp/conda/envs/law/lib/python3.8/site-packages/pytorch_lightning/trainer/connectors/data_connector.py:224: PossibleUserWarning: The dataloader, train_dataloader, does not have many workers which may be a bottleneck. Consider increasing the value of the `num_workers` argument` (try 128 which is the number of cpus on this machine) in the `DataLoader` init to improve performance.\n",
      "  rank_zero_warn(\n"
     ]
    },
    {
     "name": "stdout",
     "output_type": "stream",
     "text": [
      "Epoch 0: 100%|██████████| 30/30 [00:05<00:00,  5.98it/s, loss=9.61, train_loss=8.940, train_accuracy=0.250]   "
     ]
    },
    {
     "name": "stderr",
     "output_type": "stream",
     "text": [
      "Metric train_loss improved. New best score: 8.941\n"
     ]
    },
    {
     "name": "stdout",
     "output_type": "stream",
     "text": [
      "Epoch 0: 100%|██████████| 30/30 [00:05<00:00,  5.97it/s, loss=9.61, train_loss=8.940, train_accuracy=0.250]"
     ]
    },
    {
     "name": "stderr",
     "output_type": "stream",
     "text": [
      "/root/autodl-tmp/conda/envs/law/lib/python3.8/site-packages/pytorch_lightning/core/module.py:493: UserWarning: You called `self.log('train_loss', ..., logger=True)` but have no logger configured. You can enable one by doing `Trainer(logger=ALogger(...))`\n",
      "  rank_zero_warn(\n",
      "/root/autodl-tmp/conda/envs/law/lib/python3.8/site-packages/pytorch_lightning/core/module.py:493: UserWarning: You called `self.log('train_accuracy', ..., logger=True)` but have no logger configured. You can enable one by doing `Trainer(logger=ALogger(...))`\n",
      "  rank_zero_warn(\n",
      "[2025-02-12 17:02:39] INFO (torcheeg/MainThread) \n",
      "[Train] train_loss: 10.306 train_accuracy: 0.517 \n",
      "\n"
     ]
    },
    {
     "name": "stdout",
     "output_type": "stream",
     "text": [
      "Epoch 1: 100%|██████████| 30/30 [00:05<00:00,  6.00it/s, loss=2.38, train_loss=0.956, train_accuracy=0.750]   "
     ]
    },
    {
     "name": "stderr",
     "output_type": "stream",
     "text": [
      "Metric train_loss improved by 7.985 >= min_delta = 0.0. New best score: 0.956\n"
     ]
    },
    {
     "name": "stdout",
     "output_type": "stream",
     "text": [
      "Epoch 1: 100%|██████████| 30/30 [00:05<00:00,  5.99it/s, loss=2.38, train_loss=0.956, train_accuracy=0.750]"
     ]
    },
    {
     "name": "stderr",
     "output_type": "stream",
     "text": [
      "[2025-02-12 17:02:44] INFO (torcheeg/MainThread) \n",
      "[Train] train_loss: 2.434 train_accuracy: 0.658 \n",
      "\n"
     ]
    },
    {
     "name": "stdout",
     "output_type": "stream",
     "text": [
      "Epoch 2: 100%|██████████| 30/30 [00:05<00:00,  6.00it/s, loss=0.966, train_loss=0.042, train_accuracy=1.000]  "
     ]
    },
    {
     "name": "stderr",
     "output_type": "stream",
     "text": [
      "Metric train_loss improved by 0.914 >= min_delta = 0.0. New best score: 0.042\n"
     ]
    },
    {
     "name": "stdout",
     "output_type": "stream",
     "text": [
      "Epoch 2: 100%|██████████| 30/30 [00:05<00:00,  5.99it/s, loss=0.966, train_loss=0.042, train_accuracy=1.000]"
     ]
    },
    {
     "name": "stderr",
     "output_type": "stream",
     "text": [
      "[2025-02-12 17:02:49] INFO (torcheeg/MainThread) \n",
      "[Train] train_loss: 0.789 train_accuracy: 0.817 \n",
      "\n"
     ]
    },
    {
     "name": "stdout",
     "output_type": "stream",
     "text": [
      "Epoch 3: 100%|██████████| 30/30 [00:05<00:00,  5.99it/s, loss=0.284, train_loss=0.00187, train_accuracy=1.000] "
     ]
    },
    {
     "name": "stderr",
     "output_type": "stream",
     "text": [
      "Metric train_loss improved by 0.040 >= min_delta = 0.0. New best score: 0.002\n"
     ]
    },
    {
     "name": "stdout",
     "output_type": "stream",
     "text": [
      "Epoch 3: 100%|██████████| 30/30 [00:05<00:00,  5.98it/s, loss=0.284, train_loss=0.00187, train_accuracy=1.000]"
     ]
    },
    {
     "name": "stderr",
     "output_type": "stream",
     "text": [
      "[2025-02-12 17:02:54] INFO (torcheeg/MainThread) \n",
      "[Train] train_loss: 0.729 train_accuracy: 0.892 \n",
      "\n"
     ]
    },
    {
     "name": "stdout",
     "output_type": "stream",
     "text": [
      "Epoch 4: 100%|██████████| 30/30 [00:05<00:00,  5.99it/s, loss=0.932, train_loss=0.0591, train_accuracy=1.000]  "
     ]
    },
    {
     "name": "stderr",
     "output_type": "stream",
     "text": [
      "[2025-02-12 17:02:59] INFO (torcheeg/MainThread) \n",
      "[Train] train_loss: 0.845 train_accuracy: 0.850 \n",
      "\n"
     ]
    },
    {
     "name": "stdout",
     "output_type": "stream",
     "text": [
      "Epoch 5: 100%|██████████| 30/30 [00:05<00:00,  6.00it/s, loss=0.616, train_loss=0.000204, train_accuracy=1.000]"
     ]
    },
    {
     "name": "stderr",
     "output_type": "stream",
     "text": [
      "Metric train_loss improved by 0.002 >= min_delta = 0.0. New best score: 0.000\n"
     ]
    },
    {
     "name": "stdout",
     "output_type": "stream",
     "text": [
      "Epoch 5: 100%|██████████| 30/30 [00:05<00:00,  5.99it/s, loss=0.616, train_loss=0.000204, train_accuracy=1.000]"
     ]
    },
    {
     "name": "stderr",
     "output_type": "stream",
     "text": [
      "[2025-02-12 17:03:04] INFO (torcheeg/MainThread) \n",
      "[Train] train_loss: 0.669 train_accuracy: 0.858 \n",
      "\n"
     ]
    },
    {
     "name": "stdout",
     "output_type": "stream",
     "text": [
      "Epoch 6: 100%|██████████| 30/30 [00:05<00:00,  5.99it/s, loss=0.84, train_loss=0.0193, train_accuracy=1.000]   "
     ]
    },
    {
     "name": "stderr",
     "output_type": "stream",
     "text": [
      "[2025-02-12 17:03:09] INFO (torcheeg/MainThread) \n",
      "[Train] train_loss: 0.687 train_accuracy: 0.892 \n",
      "\n"
     ]
    },
    {
     "name": "stdout",
     "output_type": "stream",
     "text": [
      "Epoch 7: 100%|██████████| 30/30 [00:05<00:00,  5.97it/s, loss=0.307, train_loss=3.96e-6, train_accuracy=1.000] "
     ]
    },
    {
     "name": "stderr",
     "output_type": "stream",
     "text": [
      "Metric train_loss improved by 0.000 >= min_delta = 0.0. New best score: 0.000\n"
     ]
    },
    {
     "name": "stdout",
     "output_type": "stream",
     "text": [
      "Epoch 7: 100%|██████████| 30/30 [00:05<00:00,  5.97it/s, loss=0.307, train_loss=3.96e-6, train_accuracy=1.000]"
     ]
    },
    {
     "name": "stderr",
     "output_type": "stream",
     "text": [
      "[2025-02-12 17:03:14] INFO (torcheeg/MainThread) \n",
      "[Train] train_loss: 0.449 train_accuracy: 0.925 \n",
      "\n"
     ]
    },
    {
     "name": "stdout",
     "output_type": "stream",
     "text": [
      "Epoch 8: 100%|██████████| 30/30 [00:04<00:00,  6.01it/s, loss=0.535, train_loss=0.0139, train_accuracy=1.000]  "
     ]
    },
    {
     "name": "stderr",
     "output_type": "stream",
     "text": [
      "[2025-02-12 17:03:19] INFO (torcheeg/MainThread) \n",
      "[Train] train_loss: 1.010 train_accuracy: 0.875 \n",
      "\n"
     ]
    },
    {
     "name": "stdout",
     "output_type": "stream",
     "text": [
      "Epoch 9: 100%|██████████| 30/30 [00:04<00:00,  6.00it/s, loss=0.224, train_loss=0.0017, train_accuracy=1.000]  "
     ]
    },
    {
     "name": "stderr",
     "output_type": "stream",
     "text": [
      "[2025-02-12 17:03:24] INFO (torcheeg/MainThread) \n",
      "[Train] train_loss: 0.181 train_accuracy: 0.967 \n",
      "\n"
     ]
    },
    {
     "name": "stdout",
     "output_type": "stream",
     "text": [
      "Epoch 10: 100%|██████████| 30/30 [00:05<00:00,  5.99it/s, loss=0.0819, train_loss=4.72e-5, train_accuracy=1.000] "
     ]
    },
    {
     "name": "stderr",
     "output_type": "stream",
     "text": [
      "[2025-02-12 17:03:29] INFO (torcheeg/MainThread) \n",
      "[Train] train_loss: 0.058 train_accuracy: 0.983 \n",
      "\n"
     ]
    },
    {
     "name": "stdout",
     "output_type": "stream",
     "text": [
      "Epoch 11: 100%|██████████| 30/30 [00:05<00:00,  5.99it/s, loss=0.0532, train_loss=0.000248, train_accuracy=1.000]"
     ]
    },
    {
     "name": "stderr",
     "output_type": "stream",
     "text": [
      "[2025-02-12 17:03:34] INFO (torcheeg/MainThread) \n",
      "[Train] train_loss: 0.072 train_accuracy: 0.983 \n",
      "\n"
     ]
    },
    {
     "name": "stdout",
     "output_type": "stream",
     "text": [
      "Epoch 12: 100%|██████████| 30/30 [00:05<00:00,  5.99it/s, loss=0.0743, train_loss=8.05e-6, train_accuracy=1.000]  "
     ]
    },
    {
     "name": "stderr",
     "output_type": "stream",
     "text": [
      "[2025-02-12 17:03:39] INFO (torcheeg/MainThread) \n",
      "[Train] train_loss: 0.051 train_accuracy: 0.983 \n",
      "\n"
     ]
    },
    {
     "name": "stdout",
     "output_type": "stream",
     "text": [
      "Epoch 13: 100%|██████████| 30/30 [00:04<00:00,  6.00it/s, loss=0.000207, train_loss=1.42e-5, train_accuracy=1.000] "
     ]
    },
    {
     "name": "stderr",
     "output_type": "stream",
     "text": [
      "[2025-02-12 17:03:44] INFO (torcheeg/MainThread) \n",
      "[Train] train_loss: 0.000 train_accuracy: 1.000 \n",
      "\n"
     ]
    },
    {
     "name": "stdout",
     "output_type": "stream",
     "text": [
      "Epoch 14: 100%|██████████| 30/30 [00:05<00:00,  5.97it/s, loss=0.00734, train_loss=0.000597, train_accuracy=1.000]"
     ]
    },
    {
     "name": "stderr",
     "output_type": "stream",
     "text": [
      "[2025-02-12 17:03:49] INFO (torcheeg/MainThread) \n",
      "[Train] train_loss: 0.005 train_accuracy: 1.000 \n",
      "\n"
     ]
    },
    {
     "name": "stdout",
     "output_type": "stream",
     "text": [
      "Epoch 15: 100%|██████████| 30/30 [00:05<00:00,  5.98it/s, loss=0.000757, train_loss=0.0027, train_accuracy=1.000]  "
     ]
    },
    {
     "name": "stderr",
     "output_type": "stream",
     "text": [
      "[2025-02-12 17:03:54] INFO (torcheeg/MainThread) \n",
      "[Train] train_loss: 0.001 train_accuracy: 1.000 \n",
      "\n"
     ]
    },
    {
     "name": "stdout",
     "output_type": "stream",
     "text": [
      "Epoch 16: 100%|██████████| 30/30 [00:05<00:00,  5.99it/s, loss=0.000319, train_loss=9.81e-5, train_accuracy=1.000] "
     ]
    },
    {
     "name": "stderr",
     "output_type": "stream",
     "text": [
      "[2025-02-12 17:03:59] INFO (torcheeg/MainThread) \n",
      "[Train] train_loss: 0.001 train_accuracy: 1.000 \n",
      "\n"
     ]
    },
    {
     "name": "stdout",
     "output_type": "stream",
     "text": [
      "Epoch 17: 100%|██████████| 30/30 [00:05<00:00,  5.96it/s, loss=0.000117, train_loss=5.39e-6, train_accuracy=1.000] "
     ]
    },
    {
     "name": "stderr",
     "output_type": "stream",
     "text": [
      "Monitored metric train_loss did not improve in the last 10 records. Best score: 0.000. Signaling Trainer to stop.\n"
     ]
    },
    {
     "name": "stdout",
     "output_type": "stream",
     "text": [
      "Epoch 17: 100%|██████████| 30/30 [00:05<00:00,  5.96it/s, loss=0.000117, train_loss=5.39e-6, train_accuracy=1.000]"
     ]
    },
    {
     "name": "stderr",
     "output_type": "stream",
     "text": [
      "[2025-02-12 17:04:04] INFO (torcheeg/MainThread) \n",
      "[Train] train_loss: 0.000 train_accuracy: 1.000 \n",
      "\n"
     ]
    },
    {
     "name": "stdout",
     "output_type": "stream",
     "text": [
      "Epoch 17: 100%|██████████| 30/30 [00:05<00:00,  5.96it/s, loss=0.000117, train_loss=5.39e-6, train_accuracy=1.000]\n"
     ]
    },
    {
     "ename": "",
     "evalue": "",
     "output_type": "error",
     "traceback": [
      "\u001b[1;31m在当前单元格或上一个单元格中执行代码时 Kernel 崩溃。\n",
      "\u001b[1;31m请查看单元格中的代码，以确定故障的可能原因。\n",
      "\u001b[1;31m单击<a href='https://aka.ms/vscodeJupyterKernelCrash'>此处</a>了解详细信息。\n",
      "\u001b[1;31m有关更多详细信息，请查看 Jupyter <a href='command:jupyter.viewOutput'>log</a>。"
     ]
    }
   ],
   "source": [
    "from eegswintransformer import SwinTransformer\n",
    "\n",
    "HYPERPARAMETERS = {\n",
    "    \"seed\": 42,\n",
    "    \"batch_size\": 4,\n",
    "    \"lr\": 1e-4,\n",
    "    \"weight_decay\": 1e-5,\n",
    "    \"num_epochs\": 20,\n",
    "}\n",
    "from torcheeg.model_selection import KFoldPerSubjectGroupbyTrial\n",
    "from pytorch_lightning.callbacks import ModelCheckpoint, EarlyStopping\n",
    "from torch.utils.data import DataLoader\n",
    "from classifier import ClassifierTrainer\n",
    "k_fold = KFoldPerSubjectGroupbyTrial(\n",
    "    n_splits=4,\n",
    "    shuffle=True,\n",
    "    random_state=42)\n",
    "\n",
    "training_metrics = []\n",
    "test_metrics = []\n",
    "\n",
    "for i, (training_dataset, test_dataset) in enumerate(k_fold.split(dataset)):\n",
    "    delete_folder_if_exists(target_folder_name='lightning_logs')\n",
    "    model = SwinTransformer(patch_size=(32,3,3),depths=(2, 2, 2, 2), num_heads=(1, 1, 1, 1))\n",
    "    trainer = ClassifierTrainer(model=model,\n",
    "                                num_classes=2,\n",
    "                                lr=HYPERPARAMETERS['lr'],\n",
    "                                weight_decay=HYPERPARAMETERS['weight_decay'],\n",
    "                                metrics=[\"accuracy\"],\n",
    "                                accelerator=\"gpu\")\n",
    "    \n",
    "    training_loader = DataLoader(training_dataset,\n",
    "                             batch_size=HYPERPARAMETERS['batch_size'],\n",
    "                             shuffle=True)\n",
    "    test_loader = DataLoader(test_dataset,\n",
    "                             batch_size=HYPERPARAMETERS['batch_size'],\n",
    "                             shuffle=False)\n",
    "    # 提前停止回调\n",
    "    early_stopping_callback = EarlyStopping(\n",
    "        monitor='train_loss',\n",
    "        patience=10, \n",
    "        mode='min',\n",
    "        verbose=True\n",
    "    )\n",
    "    \n",
    "    trainer.fit(training_loader,\n",
    "                test_loader,\n",
    "                max_epochs=HYPERPARAMETERS['num_epochs'],\n",
    "                callbacks=[early_stopping_callback],\n",
    "                # enable_progress_bar=True,\n",
    "                enable_model_summary=False,\n",
    "                limit_val_batches=0.0)\n",
    "    # training_result = trainer.test(training_loader,\n",
    "    #                                enable_progress_bar=True,\n",
    "    #                                enable_model_summary=True)[0]\n",
    "    test_result = trainer.test(test_loader,\n",
    "                               enable_progress_bar=True,\n",
    "                               enable_model_summary=True)[0]\n",
    "    # training_metrics.append(training_result[\"test_accuracy\"])\n",
    "    test_metrics.append(test_result[\"test_accuracy\"])\n",
    "     \n",
    "print({\n",
    "    # \"training_metric_avg\": np.mean(training_metrics),\n",
    "    # \"training_metric_std\": np.std(training_metrics),\n",
    "    \"test_metric_avg\": np.mean(test_metrics),\n",
    "    \"test_metric_std\": np.std(test_metrics)\n",
    "})"
   ]
  },
  {
   "cell_type": "code",
   "execution_count": 5,
   "metadata": {},
   "outputs": [
    {
     "name": "stdout",
     "output_type": "stream",
     "text": [
      "0 0.44999998807907104\n",
      "1 0.550000011920929\n",
      "2 0.6000000238418579\n",
      "3 0.4749999940395355\n",
      "4 0.5249999761581421\n",
      "5 0.625\n",
      "6 0.699999988079071\n",
      "7 0.625\n"
     ]
    }
   ],
   "source": [
    "for i, score in enumerate(test_metrics):\n",
    "    print(i,score)"
   ]
  }
 ],
 "metadata": {
  "kernelspec": {
   "display_name": "law",
   "language": "python",
   "name": "python3"
  },
  "language_info": {
   "codemirror_mode": {
    "name": "ipython",
    "version": 3
   },
   "file_extension": ".py",
   "mimetype": "text/x-python",
   "name": "python",
   "nbconvert_exporter": "python",
   "pygments_lexer": "ipython3",
   "version": "3.8.0"
  }
 },
 "nbformat": 4,
 "nbformat_minor": 2
}
