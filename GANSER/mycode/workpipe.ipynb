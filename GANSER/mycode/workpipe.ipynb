{
 "cells": [
  {
   "cell_type": "code",
   "execution_count": 1,
   "metadata": {},
   "outputs": [
    {
     "name": "stderr",
     "output_type": "stream",
     "text": [
      "/root/autodl-tmp/conda/envs/law/lib/python3.8/site-packages/tqdm/auto.py:21: TqdmWarning: IProgress not found. Please update jupyter and ipywidgets. See https://ipywidgets.readthedocs.io/en/stable/user_install.html\n",
      "  from .autonotebook import tqdm as notebook_tqdm\n",
      "[2025-02-12 17:06:06] INFO (torcheeg/MainThread) 🔍 | Detected cached processing results, reading cache from .torcheeg/datasets_1739351117352_GoNti.\n"
     ]
    },
    {
     "name": "stdout",
     "output_type": "stream",
     "text": [
      "torch.Size([128, 9, 9])\n",
      "0\n",
      "160\n"
     ]
    }
   ],
   "source": [
    "import torch\n",
    "import logging\n",
    "import torch.nn as nn\n",
    "from tqdm import tqdm\n",
    "from pathlib import Path\n",
    "from torch import autograd\n",
    "from sklearn import model_selection\n",
    "from torch.utils.data import Dataset, Subset, DataLoader\n",
    "\n",
    "from strokes import StrokePatientsMIDataset\n",
    "from strokesdict import STROKEPATIENTSMI_LOCATION_DICT\n",
    "import scipy\n",
    "from torcheeg.transforms import Select,BandSignal,Compose,ToTensor\n",
    "from to import ToGrid\n",
    "from typing import Callable, Dict, Union, List\n",
    "import numpy as np\n",
    "import soxr\n",
    "from downsample import SetSamplingRate\n",
    "from baseline import BaselineCorrection\n",
    "from torcheeg.transforms import EEGTransform, Select,BandSignal,Compose,ToTensor\n",
    "\n",
    "dataset = StrokePatientsMIDataset(root_path='../../mi_swin/subdataset',\n",
    "                                  io_path='.torcheeg/datasets_1739351117352_GoNti',\n",
    "                        chunk_size=500,  # 1 second\n",
    "                        overlap = 0,\n",
    "                        offline_transform=Compose(\n",
    "                                [BaselineCorrection(),\n",
    "                                SetSamplingRate(origin_sampling_rate=500,target_sampling_rate=128),\n",
    "                                BandSignal(sampling_rate=128,band_dict={'frequency_range':[8,40]})\n",
    "                                ]),\n",
    "                        online_transform=Compose(\n",
    "                                # [ToTensor()]),\n",
    "                                [ToGrid(STROKEPATIENTSMI_LOCATION_DICT),ToTensor()]),\n",
    "                \n",
    "                        label_transform=Select('label'),\n",
    "                        num_worker=8\n",
    ")\n",
    "print(dataset[0][0].shape) #EEG shape(1,30,128)\n",
    "print(dataset[0][1])  # label (int)\n",
    "print(len(dataset))"
   ]
  },
  {
   "cell_type": "code",
   "execution_count": 2,
   "metadata": {},
   "outputs": [],
   "source": [
    "import os\n",
    "import shutil\n",
    "\n",
    "def delete_folder_if_exists(target_folder_name):\n",
    "    # 获取父文件夹中的所有内容\n",
    "    parent_folder = os.getcwd()\n",
    "    for folder_name in os.listdir(parent_folder):\n",
    "        folder_path = os.path.join(parent_folder, folder_name)\n",
    "\n",
    "        # 检查是否是文件夹并且名称是否匹配\n",
    "        if os.path.isdir(folder_path) and folder_name == target_folder_name:\n",
    "            try:\n",
    "                # 删除目标文件夹\n",
    "                shutil.rmtree(folder_path)\n",
    "                print(f\"已删除文件夹: {folder_path}\")\n",
    "            except Exception as e:\n",
    "                print(f\"删除文件夹 {folder_path} 时出错: {e}\")"
   ]
  },
  {
   "cell_type": "code",
   "execution_count": 3,
   "metadata": {},
   "outputs": [
    {
     "name": "stderr",
     "output_type": "stream",
     "text": [
      "[2025-02-12 17:06:26] INFO (torcheeg/MainThread) 📊 | Create the split of train and test set.\n",
      "[2025-02-12 17:06:26] INFO (torcheeg/MainThread) 😊 | Please set \u001b[92msplit_path\u001b[0m to \u001b[92m.torcheeg/model_selection_1739351186784_toXDa\u001b[0m for the next run, if you want to use the same setting for the experiment.\n",
      "/root/autodl-tmp/conda/envs/law/lib/python3.8/site-packages/torch/functional.py:568: UserWarning: torch.meshgrid: in an upcoming release, it will be required to pass the indexing argument. (Triggered internally at  /opt/conda/conda-bld/pytorch_1646755903507/work/aten/src/ATen/native/TensorShape.cpp:2228.)\n",
      "  return _VF.meshgrid(tensors, **kwargs)  # type: ignore[attr-defined]\n",
      "GPU available: True (cuda), used: True\n",
      "TPU available: False, using: 0 TPU cores\n",
      "IPU available: False, using: 0 IPUs\n",
      "HPU available: False, using: 0 HPUs\n",
      "Missing logger folder: /root/autodl-tmp/.autodl/kinlaw/GANSER/mycode/lightning_logs\n",
      "LOCAL_RANK: 0 - CUDA_VISIBLE_DEVICES: [0]\n",
      "/root/autodl-tmp/conda/envs/law/lib/python3.8/site-packages/pytorch_lightning/trainer/connectors/data_connector.py:224: PossibleUserWarning: The dataloader, train_dataloader, does not have many workers which may be a bottleneck. Consider increasing the value of the `num_workers` argument` (try 128 which is the number of cpus on this machine) in the `DataLoader` init to improve performance.\n",
      "  rank_zero_warn(\n",
      "/root/autodl-tmp/conda/envs/law/lib/python3.8/site-packages/pytorch_lightning/trainer/trainer.py:1609: PossibleUserWarning: The number of training batches (8) is smaller than the logging interval Trainer(log_every_n_steps=50). Set a lower value for log_every_n_steps if you want to see logs for the training epoch.\n",
      "  rank_zero_warn(\n"
     ]
    },
    {
     "name": "stdout",
     "output_type": "stream",
     "text": [
      "Epoch 0: 100%|██████████| 8/8 [00:01<00:00,  7.66it/s, loss=0.711, v_num=0, train_loss=0.679, train_accuracy=0.500]"
     ]
    },
    {
     "name": "stderr",
     "output_type": "stream",
     "text": [
      "Metric train_loss improved. New best score: 0.679\n"
     ]
    },
    {
     "name": "stdout",
     "output_type": "stream",
     "text": [
      "Epoch 0: 100%|██████████| 8/8 [00:01<00:00,  7.64it/s, loss=0.711, v_num=0, train_loss=0.679, train_accuracy=0.500]"
     ]
    },
    {
     "name": "stderr",
     "output_type": "stream",
     "text": [
      "[2025-02-12 17:06:31] INFO (torcheeg/MainThread) \n",
      "[Train] train_loss: 0.711 train_accuracy: 0.542 \n",
      "\n"
     ]
    },
    {
     "name": "stdout",
     "output_type": "stream",
     "text": [
      "Epoch 1: 100%|██████████| 8/8 [00:00<00:00, 24.27it/s, loss=0.646, v_num=0, train_loss=0.459, train_accuracy=0.750]"
     ]
    },
    {
     "name": "stderr",
     "output_type": "stream",
     "text": [
      "Metric train_loss improved by 0.220 >= min_delta = 0.0. New best score: 0.459\n"
     ]
    },
    {
     "name": "stdout",
     "output_type": "stream",
     "text": [
      "Epoch 1: 100%|██████████| 8/8 [00:00<00:00, 24.14it/s, loss=0.646, v_num=0, train_loss=0.459, train_accuracy=0.750]"
     ]
    },
    {
     "name": "stderr",
     "output_type": "stream",
     "text": [
      "[2025-02-12 17:06:32] INFO (torcheeg/MainThread) \n",
      "[Train] train_loss: 0.581 train_accuracy: 0.675 \n",
      "\n"
     ]
    },
    {
     "name": "stdout",
     "output_type": "stream",
     "text": [
      "Epoch 2: 100%|██████████| 8/8 [00:00<00:00, 24.59it/s, loss=0.555, v_num=0, train_loss=0.460, train_accuracy=0.750]"
     ]
    },
    {
     "name": "stderr",
     "output_type": "stream",
     "text": [
      "[2025-02-12 17:06:33] INFO (torcheeg/MainThread) \n",
      "[Train] train_loss: 0.453 train_accuracy: 0.875 \n",
      "\n"
     ]
    },
    {
     "name": "stdout",
     "output_type": "stream",
     "text": [
      "Epoch 3: 100%|██████████| 8/8 [00:00<00:00, 24.32it/s, loss=0.433, v_num=0, train_loss=0.256, train_accuracy=1.000]"
     ]
    },
    {
     "name": "stderr",
     "output_type": "stream",
     "text": [
      "Metric train_loss improved by 0.203 >= min_delta = 0.0. New best score: 0.256\n"
     ]
    },
    {
     "name": "stdout",
     "output_type": "stream",
     "text": [
      "Epoch 3: 100%|██████████| 8/8 [00:00<00:00, 24.20it/s, loss=0.433, v_num=0, train_loss=0.256, train_accuracy=1.000]"
     ]
    },
    {
     "name": "stderr",
     "output_type": "stream",
     "text": [
      "[2025-02-12 17:06:34] INFO (torcheeg/MainThread) \n",
      "[Train] train_loss: 0.343 train_accuracy: 0.875 \n",
      "\n"
     ]
    },
    {
     "name": "stdout",
     "output_type": "stream",
     "text": [
      "Epoch 4: 100%|██████████| 8/8 [00:00<00:00, 24.23it/s, loss=0.334, v_num=0, train_loss=0.413, train_accuracy=0.875]"
     ]
    },
    {
     "name": "stderr",
     "output_type": "stream",
     "text": [
      "[2025-02-12 17:06:34] INFO (torcheeg/MainThread) \n",
      "[Train] train_loss: 0.265 train_accuracy: 0.917 \n",
      "\n"
     ]
    },
    {
     "name": "stdout",
     "output_type": "stream",
     "text": [
      "Epoch 5: 100%|██████████| 8/8 [00:00<00:00, 24.51it/s, loss=0.232, v_num=0, train_loss=0.0891, train_accuracy=1.000]"
     ]
    },
    {
     "name": "stderr",
     "output_type": "stream",
     "text": [
      "Metric train_loss improved by 0.167 >= min_delta = 0.0. New best score: 0.089\n"
     ]
    },
    {
     "name": "stdout",
     "output_type": "stream",
     "text": [
      "Epoch 5: 100%|██████████| 8/8 [00:00<00:00, 24.38it/s, loss=0.232, v_num=0, train_loss=0.0891, train_accuracy=1.000]"
     ]
    },
    {
     "name": "stderr",
     "output_type": "stream",
     "text": [
      "[2025-02-12 17:06:35] INFO (torcheeg/MainThread) \n",
      "[Train] train_loss: 0.173 train_accuracy: 0.967 \n",
      "\n"
     ]
    },
    {
     "name": "stdout",
     "output_type": "stream",
     "text": [
      "Epoch 6: 100%|██████████| 8/8 [00:00<00:00, 24.29it/s, loss=0.184, v_num=0, train_loss=0.591, train_accuracy=0.750] "
     ]
    },
    {
     "name": "stderr",
     "output_type": "stream",
     "text": [
      "[2025-02-12 17:06:36] INFO (torcheeg/MainThread) \n",
      "[Train] train_loss: 0.178 train_accuracy: 0.958 \n",
      "\n"
     ]
    },
    {
     "name": "stdout",
     "output_type": "stream",
     "text": [
      "Epoch 7: 100%|██████████| 8/8 [00:00<00:00, 26.12it/s, loss=0.146, v_num=0, train_loss=0.0494, train_accuracy=1.000]"
     ]
    },
    {
     "name": "stderr",
     "output_type": "stream",
     "text": [
      "Metric train_loss improved by 0.040 >= min_delta = 0.0. New best score: 0.049\n"
     ]
    },
    {
     "name": "stdout",
     "output_type": "stream",
     "text": [
      "Epoch 7: 100%|██████████| 8/8 [00:00<00:00, 25.98it/s, loss=0.146, v_num=0, train_loss=0.0494, train_accuracy=1.000]"
     ]
    },
    {
     "name": "stderr",
     "output_type": "stream",
     "text": [
      "[2025-02-12 17:06:37] INFO (torcheeg/MainThread) \n",
      "[Train] train_loss: 0.113 train_accuracy: 0.967 \n",
      "\n"
     ]
    },
    {
     "name": "stdout",
     "output_type": "stream",
     "text": [
      "Epoch 8: 100%|██████████| 8/8 [00:00<00:00, 23.67it/s, loss=0.122, v_num=0, train_loss=0.0163, train_accuracy=1.000]"
     ]
    },
    {
     "name": "stderr",
     "output_type": "stream",
     "text": [
      "Metric train_loss improved by 0.033 >= min_delta = 0.0. New best score: 0.016\n"
     ]
    },
    {
     "name": "stdout",
     "output_type": "stream",
     "text": [
      "Epoch 8: 100%|██████████| 8/8 [00:00<00:00, 23.55it/s, loss=0.122, v_num=0, train_loss=0.0163, train_accuracy=1.000]"
     ]
    },
    {
     "name": "stderr",
     "output_type": "stream",
     "text": [
      "[2025-02-12 17:06:38] INFO (torcheeg/MainThread) \n",
      "[Train] train_loss: 0.081 train_accuracy: 0.967 \n",
      "\n"
     ]
    },
    {
     "name": "stdout",
     "output_type": "stream",
     "text": [
      "Epoch 9: 100%|██████████| 8/8 [00:00<00:00, 23.13it/s, loss=0.0738, v_num=0, train_loss=0.0104, train_accuracy=1.000]"
     ]
    },
    {
     "name": "stderr",
     "output_type": "stream",
     "text": [
      "Metric train_loss improved by 0.006 >= min_delta = 0.0. New best score: 0.010\n"
     ]
    },
    {
     "name": "stdout",
     "output_type": "stream",
     "text": [
      "Epoch 9: 100%|██████████| 8/8 [00:00<00:00, 23.02it/s, loss=0.0738, v_num=0, train_loss=0.0104, train_accuracy=1.000]"
     ]
    },
    {
     "name": "stderr",
     "output_type": "stream",
     "text": [
      "[2025-02-12 17:06:38] INFO (torcheeg/MainThread) \n",
      "[Train] train_loss: 0.049 train_accuracy: 0.992 \n",
      "\n"
     ]
    },
    {
     "name": "stdout",
     "output_type": "stream",
     "text": [
      "Epoch 10: 100%|██████████| 8/8 [00:00<00:00, 25.68it/s, loss=0.0421, v_num=0, train_loss=0.0196, train_accuracy=1.000] "
     ]
    },
    {
     "name": "stderr",
     "output_type": "stream",
     "text": [
      "[2025-02-12 17:06:39] INFO (torcheeg/MainThread) \n",
      "[Train] train_loss: 0.017 train_accuracy: 1.000 \n",
      "\n"
     ]
    },
    {
     "name": "stdout",
     "output_type": "stream",
     "text": [
      "Epoch 11: 100%|██████████| 8/8 [00:00<00:00, 25.70it/s, loss=0.0266, v_num=0, train_loss=0.00389, train_accuracy=1.000]"
     ]
    },
    {
     "name": "stderr",
     "output_type": "stream",
     "text": [
      "Metric train_loss improved by 0.006 >= min_delta = 0.0. New best score: 0.004\n"
     ]
    },
    {
     "name": "stdout",
     "output_type": "stream",
     "text": [
      "Epoch 11: 100%|██████████| 8/8 [00:00<00:00, 25.47it/s, loss=0.0266, v_num=0, train_loss=0.00389, train_accuracy=1.000]"
     ]
    },
    {
     "name": "stderr",
     "output_type": "stream",
     "text": [
      "[2025-02-12 17:06:40] INFO (torcheeg/MainThread) \n",
      "[Train] train_loss: 0.016 train_accuracy: 1.000 \n",
      "\n"
     ]
    },
    {
     "name": "stdout",
     "output_type": "stream",
     "text": [
      "Epoch 12: 100%|██████████| 8/8 [00:00<00:00, 24.72it/s, loss=0.0127, v_num=0, train_loss=0.00181, train_accuracy=1.000]"
     ]
    },
    {
     "name": "stderr",
     "output_type": "stream",
     "text": [
      "Metric train_loss improved by 0.002 >= min_delta = 0.0. New best score: 0.002\n"
     ]
    },
    {
     "name": "stdout",
     "output_type": "stream",
     "text": [
      "Epoch 12: 100%|██████████| 8/8 [00:00<00:00, 24.59it/s, loss=0.0127, v_num=0, train_loss=0.00181, train_accuracy=1.000]"
     ]
    },
    {
     "name": "stderr",
     "output_type": "stream",
     "text": [
      "[2025-02-12 17:06:41] INFO (torcheeg/MainThread) \n",
      "[Train] train_loss: 0.008 train_accuracy: 1.000 \n",
      "\n"
     ]
    },
    {
     "name": "stdout",
     "output_type": "stream",
     "text": [
      "Epoch 13: 100%|██████████| 8/8 [00:00<00:00, 24.63it/s, loss=0.00922, v_num=0, train_loss=0.0141, train_accuracy=1.000]"
     ]
    },
    {
     "name": "stderr",
     "output_type": "stream",
     "text": [
      "[2025-02-12 17:06:42] INFO (torcheeg/MainThread) \n",
      "[Train] train_loss: 0.010 train_accuracy: 1.000 \n",
      "\n"
     ]
    },
    {
     "name": "stdout",
     "output_type": "stream",
     "text": [
      "Epoch 14: 100%|██████████| 8/8 [00:00<00:00, 24.82it/s, loss=0.00805, v_num=0, train_loss=0.012, train_accuracy=1.000]  "
     ]
    },
    {
     "name": "stderr",
     "output_type": "stream",
     "text": [
      "[2025-02-12 17:06:42] INFO (torcheeg/MainThread) \n",
      "[Train] train_loss: 0.007 train_accuracy: 1.000 \n",
      "\n"
     ]
    },
    {
     "name": "stdout",
     "output_type": "stream",
     "text": [
      "Epoch 15: 100%|██████████| 8/8 [00:00<00:00, 24.95it/s, loss=0.00807, v_num=0, train_loss=0.00186, train_accuracy=1.000]"
     ]
    },
    {
     "name": "stderr",
     "output_type": "stream",
     "text": [
      "[2025-02-12 17:06:43] INFO (torcheeg/MainThread) \n",
      "[Train] train_loss: 0.005 train_accuracy: 1.000 \n",
      "\n"
     ]
    },
    {
     "name": "stdout",
     "output_type": "stream",
     "text": [
      "Epoch 16: 100%|██████████| 8/8 [00:00<00:00, 24.47it/s, loss=0.00605, v_num=0, train_loss=0.00206, train_accuracy=1.000]"
     ]
    },
    {
     "name": "stderr",
     "output_type": "stream",
     "text": [
      "[2025-02-12 17:06:44] INFO (torcheeg/MainThread) \n",
      "[Train] train_loss: 0.006 train_accuracy: 1.000 \n",
      "\n"
     ]
    },
    {
     "name": "stdout",
     "output_type": "stream",
     "text": [
      "Epoch 17: 100%|██████████| 8/8 [00:00<00:00, 23.67it/s, loss=0.0048, v_num=0, train_loss=0.000867, train_accuracy=1.000] "
     ]
    },
    {
     "name": "stderr",
     "output_type": "stream",
     "text": [
      "Metric train_loss improved by 0.001 >= min_delta = 0.0. New best score: 0.001\n"
     ]
    },
    {
     "name": "stdout",
     "output_type": "stream",
     "text": [
      "Epoch 17: 100%|██████████| 8/8 [00:00<00:00, 23.55it/s, loss=0.0048, v_num=0, train_loss=0.000867, train_accuracy=1.000]"
     ]
    },
    {
     "name": "stderr",
     "output_type": "stream",
     "text": [
      "[2025-02-12 17:06:45] INFO (torcheeg/MainThread) \n",
      "[Train] train_loss: 0.004 train_accuracy: 1.000 \n",
      "\n"
     ]
    },
    {
     "name": "stdout",
     "output_type": "stream",
     "text": [
      "Epoch 18: 100%|██████████| 8/8 [00:00<00:00, 24.38it/s, loss=0.00331, v_num=0, train_loss=0.00123, train_accuracy=1.000]"
     ]
    },
    {
     "name": "stderr",
     "output_type": "stream",
     "text": [
      "[2025-02-12 17:06:46] INFO (torcheeg/MainThread) \n",
      "[Train] train_loss: 0.002 train_accuracy: 1.000 \n",
      "\n"
     ]
    },
    {
     "name": "stdout",
     "output_type": "stream",
     "text": [
      "Epoch 19: 100%|██████████| 8/8 [00:00<00:00, 24.54it/s, loss=0.00324, v_num=0, train_loss=0.0041, train_accuracy=1.000] "
     ]
    },
    {
     "name": "stderr",
     "output_type": "stream",
     "text": [
      "[2025-02-12 17:06:46] INFO (torcheeg/MainThread) \n",
      "[Train] train_loss: 0.004 train_accuracy: 1.000 \n",
      "\n"
     ]
    },
    {
     "name": "stdout",
     "output_type": "stream",
     "text": [
      "Epoch 20: 100%|██████████| 8/8 [00:00<00:00, 24.93it/s, loss=0.00279, v_num=0, train_loss=0.00112, train_accuracy=1.000] "
     ]
    },
    {
     "name": "stderr",
     "output_type": "stream",
     "text": [
      "[2025-02-12 17:06:47] INFO (torcheeg/MainThread) \n",
      "[Train] train_loss: 0.002 train_accuracy: 1.000 \n",
      "\n"
     ]
    },
    {
     "name": "stdout",
     "output_type": "stream",
     "text": [
      "Epoch 21: 100%|██████████| 8/8 [00:00<00:00, 26.21it/s, loss=0.00242, v_num=0, train_loss=0.00225, train_accuracy=1.000] "
     ]
    },
    {
     "name": "stderr",
     "output_type": "stream",
     "text": [
      "[2025-02-12 17:06:48] INFO (torcheeg/MainThread) \n",
      "[Train] train_loss: 0.002 train_accuracy: 1.000 \n",
      "\n"
     ]
    },
    {
     "name": "stdout",
     "output_type": "stream",
     "text": [
      "Epoch 22: 100%|██████████| 8/8 [00:00<00:00, 25.97it/s, loss=0.00196, v_num=0, train_loss=0.00103, train_accuracy=1.000] "
     ]
    },
    {
     "name": "stderr",
     "output_type": "stream",
     "text": [
      "[2025-02-12 17:06:49] INFO (torcheeg/MainThread) \n",
      "[Train] train_loss: 0.002 train_accuracy: 1.000 \n",
      "\n"
     ]
    },
    {
     "name": "stdout",
     "output_type": "stream",
     "text": [
      "Epoch 23: 100%|██████████| 8/8 [00:00<00:00, 25.16it/s, loss=0.00179, v_num=0, train_loss=0.000624, train_accuracy=1.000]"
     ]
    },
    {
     "name": "stderr",
     "output_type": "stream",
     "text": [
      "Metric train_loss improved by 0.000 >= min_delta = 0.0. New best score: 0.001\n"
     ]
    },
    {
     "name": "stdout",
     "output_type": "stream",
     "text": [
      "Epoch 23: 100%|██████████| 8/8 [00:00<00:00, 25.04it/s, loss=0.00179, v_num=0, train_loss=0.000624, train_accuracy=1.000]"
     ]
    },
    {
     "name": "stderr",
     "output_type": "stream",
     "text": [
      "[2025-02-12 17:06:49] INFO (torcheeg/MainThread) \n",
      "[Train] train_loss: 0.002 train_accuracy: 1.000 \n",
      "\n"
     ]
    },
    {
     "name": "stdout",
     "output_type": "stream",
     "text": [
      "Epoch 24: 100%|██████████| 8/8 [00:00<00:00, 24.43it/s, loss=0.00158, v_num=0, train_loss=0.000666, train_accuracy=1.000]"
     ]
    },
    {
     "name": "stderr",
     "output_type": "stream",
     "text": [
      "[2025-02-12 17:06:50] INFO (torcheeg/MainThread) \n",
      "[Train] train_loss: 0.002 train_accuracy: 1.000 \n",
      "\n"
     ]
    },
    {
     "name": "stdout",
     "output_type": "stream",
     "text": [
      "Epoch 25: 100%|██████████| 8/8 [00:00<00:00, 24.89it/s, loss=0.00144, v_num=0, train_loss=0.000489, train_accuracy=1.000]"
     ]
    },
    {
     "name": "stderr",
     "output_type": "stream",
     "text": [
      "Metric train_loss improved by 0.000 >= min_delta = 0.0. New best score: 0.000\n"
     ]
    },
    {
     "name": "stdout",
     "output_type": "stream",
     "text": [
      "Epoch 25: 100%|██████████| 8/8 [00:00<00:00, 24.77it/s, loss=0.00144, v_num=0, train_loss=0.000489, train_accuracy=1.000]"
     ]
    },
    {
     "name": "stderr",
     "output_type": "stream",
     "text": [
      "[2025-02-12 17:06:51] INFO (torcheeg/MainThread) \n",
      "[Train] train_loss: 0.001 train_accuracy: 1.000 \n",
      "\n"
     ]
    },
    {
     "name": "stdout",
     "output_type": "stream",
     "text": [
      "Epoch 26: 100%|██████████| 8/8 [00:00<00:00, 24.73it/s, loss=0.00206, v_num=0, train_loss=0.000411, train_accuracy=1.000]"
     ]
    },
    {
     "name": "stderr",
     "output_type": "stream",
     "text": [
      "Metric train_loss improved by 0.000 >= min_delta = 0.0. New best score: 0.000\n"
     ]
    },
    {
     "name": "stdout",
     "output_type": "stream",
     "text": [
      "Epoch 26: 100%|██████████| 8/8 [00:00<00:00, 24.61it/s, loss=0.00206, v_num=0, train_loss=0.000411, train_accuracy=1.000]"
     ]
    },
    {
     "name": "stderr",
     "output_type": "stream",
     "text": [
      "[2025-02-12 17:06:52] INFO (torcheeg/MainThread) \n",
      "[Train] train_loss: 0.003 train_accuracy: 1.000 \n",
      "\n"
     ]
    },
    {
     "name": "stdout",
     "output_type": "stream",
     "text": [
      "Epoch 27: 100%|██████████| 8/8 [00:00<00:00, 24.81it/s, loss=0.00164, v_num=0, train_loss=0.000206, train_accuracy=1.000]"
     ]
    },
    {
     "name": "stderr",
     "output_type": "stream",
     "text": [
      "Metric train_loss improved by 0.000 >= min_delta = 0.0. New best score: 0.000\n"
     ]
    },
    {
     "name": "stdout",
     "output_type": "stream",
     "text": [
      "Epoch 27: 100%|██████████| 8/8 [00:00<00:00, 24.69it/s, loss=0.00164, v_num=0, train_loss=0.000206, train_accuracy=1.000]"
     ]
    },
    {
     "name": "stderr",
     "output_type": "stream",
     "text": [
      "[2025-02-12 17:06:53] INFO (torcheeg/MainThread) \n",
      "[Train] train_loss: 0.001 train_accuracy: 1.000 \n",
      "\n"
     ]
    },
    {
     "name": "stdout",
     "output_type": "stream",
     "text": [
      "Epoch 28: 100%|██████████| 8/8 [00:00<00:00, 25.85it/s, loss=0.00192, v_num=0, train_loss=0.00116, train_accuracy=1.000] "
     ]
    },
    {
     "name": "stderr",
     "output_type": "stream",
     "text": [
      "[2025-02-12 17:06:53] INFO (torcheeg/MainThread) \n",
      "[Train] train_loss: 0.003 train_accuracy: 1.000 \n",
      "\n"
     ]
    },
    {
     "name": "stdout",
     "output_type": "stream",
     "text": [
      "Epoch 29: 100%|██████████| 8/8 [00:00<00:00, 25.13it/s, loss=0.00177, v_num=0, train_loss=0.000122, train_accuracy=1.000]"
     ]
    },
    {
     "name": "stderr",
     "output_type": "stream",
     "text": [
      "Metric train_loss improved by 0.000 >= min_delta = 0.0. New best score: 0.000\n"
     ]
    },
    {
     "name": "stdout",
     "output_type": "stream",
     "text": [
      "Epoch 29: 100%|██████████| 8/8 [00:00<00:00, 25.01it/s, loss=0.00177, v_num=0, train_loss=0.000122, train_accuracy=1.000]"
     ]
    },
    {
     "name": "stderr",
     "output_type": "stream",
     "text": [
      "[2025-02-12 17:06:54] INFO (torcheeg/MainThread) \n",
      "[Train] train_loss: 0.001 train_accuracy: 1.000 \n",
      "\n",
      "`Trainer.fit` stopped: `max_epochs=30` reached.\n"
     ]
    },
    {
     "name": "stdout",
     "output_type": "stream",
     "text": [
      "Epoch 29: 100%|██████████| 8/8 [00:00<00:00, 10.08it/s, loss=0.00177, v_num=0, train_loss=0.000122, train_accuracy=1.000]\n"
     ]
    },
    {
     "name": "stderr",
     "output_type": "stream",
     "text": [
      "GPU available: True (cuda), used: True\n",
      "TPU available: False, using: 0 TPU cores\n",
      "IPU available: False, using: 0 IPUs\n",
      "HPU available: False, using: 0 HPUs\n",
      "LOCAL_RANK: 0 - CUDA_VISIBLE_DEVICES: [0]\n",
      "/root/autodl-tmp/conda/envs/law/lib/python3.8/site-packages/pytorch_lightning/trainer/connectors/data_connector.py:224: PossibleUserWarning: The dataloader, test_dataloader 0, does not have many workers which may be a bottleneck. Consider increasing the value of the `num_workers` argument` (try 128 which is the number of cpus on this machine) in the `DataLoader` init to improve performance.\n",
      "  rank_zero_warn(\n"
     ]
    },
    {
     "name": "stdout",
     "output_type": "stream",
     "text": [
      "Testing DataLoader 0: 100%|██████████| 3/3 [00:00<00:00, 88.69it/s] "
     ]
    },
    {
     "name": "stderr",
     "output_type": "stream",
     "text": [
      "[2025-02-12 17:06:55] INFO (torcheeg/MainThread) \n",
      "[Test] test_loss: 0.822 test_accuracy: 0.850 \n",
      "\n"
     ]
    },
    {
     "name": "stdout",
     "output_type": "stream",
     "text": [
      "Testing DataLoader 0: 100%|██████████| 3/3 [00:00<00:00, 75.48it/s]\n",
      "────────────────────────────────────────────────────────────────────────────────────────────────────────────────────────\n",
      "       Test metric             DataLoader 0\n",
      "────────────────────────────────────────────────────────────────────────────────────────────────────────────────────────\n",
      "      test_accuracy         0.8500000238418579\n",
      "        test_loss           0.8221371173858643\n",
      "────────────────────────────────────────────────────────────────────────────────────────────────────────────────────────\n",
      "已删除文件夹: /root/autodl-tmp/.autodl/kinlaw/GANSER/mycode/lightning_logs\n"
     ]
    },
    {
     "name": "stderr",
     "output_type": "stream",
     "text": [
      "GPU available: True (cuda), used: True\n",
      "TPU available: False, using: 0 TPU cores\n",
      "IPU available: False, using: 0 IPUs\n",
      "HPU available: False, using: 0 HPUs\n",
      "Missing logger folder: /root/autodl-tmp/.autodl/kinlaw/GANSER/mycode/lightning_logs\n",
      "LOCAL_RANK: 0 - CUDA_VISIBLE_DEVICES: [0]\n",
      "/root/autodl-tmp/conda/envs/law/lib/python3.8/site-packages/pytorch_lightning/trainer/connectors/data_connector.py:224: PossibleUserWarning: The dataloader, train_dataloader, does not have many workers which may be a bottleneck. Consider increasing the value of the `num_workers` argument` (try 128 which is the number of cpus on this machine) in the `DataLoader` init to improve performance.\n",
      "  rank_zero_warn(\n",
      "/root/autodl-tmp/conda/envs/law/lib/python3.8/site-packages/pytorch_lightning/trainer/trainer.py:1609: PossibleUserWarning: The number of training batches (8) is smaller than the logging interval Trainer(log_every_n_steps=50). Set a lower value for log_every_n_steps if you want to see logs for the training epoch.\n",
      "  rank_zero_warn(\n"
     ]
    },
    {
     "name": "stdout",
     "output_type": "stream",
     "text": [
      "Epoch 0: 100%|██████████| 8/8 [00:00<00:00, 24.18it/s, loss=0.753, v_num=0, train_loss=0.915, train_accuracy=0.250]"
     ]
    },
    {
     "name": "stderr",
     "output_type": "stream",
     "text": [
      "Metric train_loss improved. New best score: 0.915\n"
     ]
    },
    {
     "name": "stdout",
     "output_type": "stream",
     "text": [
      "Epoch 0: 100%|██████████| 8/8 [00:00<00:00, 24.06it/s, loss=0.753, v_num=0, train_loss=0.915, train_accuracy=0.250]"
     ]
    },
    {
     "name": "stderr",
     "output_type": "stream",
     "text": [
      "[2025-02-12 17:06:56] INFO (torcheeg/MainThread) \n",
      "[Train] train_loss: 0.753 train_accuracy: 0.508 \n",
      "\n"
     ]
    },
    {
     "name": "stdout",
     "output_type": "stream",
     "text": [
      "Epoch 1: 100%|██████████| 8/8 [00:00<00:00, 25.86it/s, loss=0.68, v_num=0, train_loss=0.508, train_accuracy=0.750] "
     ]
    },
    {
     "name": "stderr",
     "output_type": "stream",
     "text": [
      "Metric train_loss improved by 0.406 >= min_delta = 0.0. New best score: 0.508\n"
     ]
    },
    {
     "name": "stdout",
     "output_type": "stream",
     "text": [
      "Epoch 1: 100%|██████████| 8/8 [00:00<00:00, 25.73it/s, loss=0.68, v_num=0, train_loss=0.508, train_accuracy=0.750]"
     ]
    },
    {
     "name": "stderr",
     "output_type": "stream",
     "text": [
      "[2025-02-12 17:06:57] INFO (torcheeg/MainThread) \n",
      "[Train] train_loss: 0.606 train_accuracy: 0.642 \n",
      "\n"
     ]
    },
    {
     "name": "stdout",
     "output_type": "stream",
     "text": [
      "Epoch 2: 100%|██████████| 8/8 [00:00<00:00, 24.26it/s, loss=0.599, v_num=0, train_loss=0.512, train_accuracy=0.625]"
     ]
    },
    {
     "name": "stderr",
     "output_type": "stream",
     "text": [
      "[2025-02-12 17:06:57] INFO (torcheeg/MainThread) \n",
      "[Train] train_loss: 0.533 train_accuracy: 0.733 \n",
      "\n"
     ]
    },
    {
     "name": "stdout",
     "output_type": "stream",
     "text": [
      "Epoch 3: 100%|██████████| 8/8 [00:00<00:00, 24.32it/s, loss=0.516, v_num=0, train_loss=0.325, train_accuracy=0.875]"
     ]
    },
    {
     "name": "stderr",
     "output_type": "stream",
     "text": [
      "Metric train_loss improved by 0.183 >= min_delta = 0.0. New best score: 0.325\n"
     ]
    },
    {
     "name": "stdout",
     "output_type": "stream",
     "text": [
      "Epoch 3: 100%|██████████| 8/8 [00:00<00:00, 24.19it/s, loss=0.516, v_num=0, train_loss=0.325, train_accuracy=0.875]"
     ]
    },
    {
     "name": "stderr",
     "output_type": "stream",
     "text": [
      "[2025-02-12 17:06:58] INFO (torcheeg/MainThread) \n",
      "[Train] train_loss: 0.459 train_accuracy: 0.767 \n",
      "\n"
     ]
    },
    {
     "name": "stdout",
     "output_type": "stream",
     "text": [
      "Epoch 4: 100%|██████████| 8/8 [00:00<00:00, 25.02it/s, loss=0.43, v_num=0, train_loss=0.267, train_accuracy=0.875] "
     ]
    },
    {
     "name": "stderr",
     "output_type": "stream",
     "text": [
      "Metric train_loss improved by 0.058 >= min_delta = 0.0. New best score: 0.267\n"
     ]
    },
    {
     "name": "stdout",
     "output_type": "stream",
     "text": [
      "Epoch 4: 100%|██████████| 8/8 [00:00<00:00, 24.90it/s, loss=0.43, v_num=0, train_loss=0.267, train_accuracy=0.875]"
     ]
    },
    {
     "name": "stderr",
     "output_type": "stream",
     "text": [
      "[2025-02-12 17:06:59] INFO (torcheeg/MainThread) \n",
      "[Train] train_loss: 0.347 train_accuracy: 0.875 \n",
      "\n"
     ]
    },
    {
     "name": "stdout",
     "output_type": "stream",
     "text": [
      "Epoch 5: 100%|██████████| 8/8 [00:00<00:00, 26.01it/s, loss=0.33, v_num=0, train_loss=0.125, train_accuracy=1.000] "
     ]
    },
    {
     "name": "stderr",
     "output_type": "stream",
     "text": [
      "Metric train_loss improved by 0.142 >= min_delta = 0.0. New best score: 0.125\n"
     ]
    },
    {
     "name": "stdout",
     "output_type": "stream",
     "text": [
      "Epoch 5: 100%|██████████| 8/8 [00:00<00:00, 25.89it/s, loss=0.33, v_num=0, train_loss=0.125, train_accuracy=1.000]"
     ]
    },
    {
     "name": "stderr",
     "output_type": "stream",
     "text": [
      "[2025-02-12 17:07:00] INFO (torcheeg/MainThread) \n",
      "[Train] train_loss: 0.277 train_accuracy: 0.908 \n",
      "\n"
     ]
    },
    {
     "name": "stdout",
     "output_type": "stream",
     "text": [
      "Epoch 6: 100%|██████████| 8/8 [00:00<00:00, 20.55it/s, loss=0.261, v_num=0, train_loss=0.196, train_accuracy=0.875]"
     ]
    },
    {
     "name": "stderr",
     "output_type": "stream",
     "text": [
      "[2025-02-12 17:07:00] INFO (torcheeg/MainThread) \n",
      "[Train] train_loss: 0.212 train_accuracy: 0.950 \n",
      "\n"
     ]
    },
    {
     "name": "stdout",
     "output_type": "stream",
     "text": [
      "Epoch 7: 100%|██████████| 8/8 [00:00<00:00, 24.40it/s, loss=0.185, v_num=0, train_loss=0.297, train_accuracy=0.875] "
     ]
    },
    {
     "name": "stderr",
     "output_type": "stream",
     "text": [
      "[2025-02-12 17:07:01] INFO (torcheeg/MainThread) \n",
      "[Train] train_loss: 0.140 train_accuracy: 0.975 \n",
      "\n"
     ]
    },
    {
     "name": "stdout",
     "output_type": "stream",
     "text": [
      "Epoch 8: 100%|██████████| 8/8 [00:00<00:00, 25.90it/s, loss=0.133, v_num=0, train_loss=0.0207, train_accuracy=1.000]"
     ]
    },
    {
     "name": "stderr",
     "output_type": "stream",
     "text": [
      "Metric train_loss improved by 0.105 >= min_delta = 0.0. New best score: 0.021\n"
     ]
    },
    {
     "name": "stdout",
     "output_type": "stream",
     "text": [
      "Epoch 8: 100%|██████████| 8/8 [00:00<00:00, 25.77it/s, loss=0.133, v_num=0, train_loss=0.0207, train_accuracy=1.000]"
     ]
    },
    {
     "name": "stderr",
     "output_type": "stream",
     "text": [
      "[2025-02-12 17:07:02] INFO (torcheeg/MainThread) \n",
      "[Train] train_loss: 0.094 train_accuracy: 0.992 \n",
      "\n"
     ]
    },
    {
     "name": "stdout",
     "output_type": "stream",
     "text": [
      "Epoch 9: 100%|██████████| 8/8 [00:00<00:00, 26.13it/s, loss=0.11, v_num=0, train_loss=0.0871, train_accuracy=1.000] "
     ]
    },
    {
     "name": "stderr",
     "output_type": "stream",
     "text": [
      "[2025-02-12 17:07:03] INFO (torcheeg/MainThread) \n",
      "[Train] train_loss: 0.096 train_accuracy: 0.975 \n",
      "\n"
     ]
    },
    {
     "name": "stdout",
     "output_type": "stream",
     "text": [
      "Epoch 10: 100%|██████████| 8/8 [00:00<00:00, 24.58it/s, loss=0.0664, v_num=0, train_loss=0.0191, train_accuracy=1.000]"
     ]
    },
    {
     "name": "stderr",
     "output_type": "stream",
     "text": [
      "Metric train_loss improved by 0.002 >= min_delta = 0.0. New best score: 0.019\n"
     ]
    },
    {
     "name": "stdout",
     "output_type": "stream",
     "text": [
      "Epoch 10: 100%|██████████| 8/8 [00:00<00:00, 24.46it/s, loss=0.0664, v_num=0, train_loss=0.0191, train_accuracy=1.000]"
     ]
    },
    {
     "name": "stderr",
     "output_type": "stream",
     "text": [
      "[2025-02-12 17:07:04] INFO (torcheeg/MainThread) \n",
      "[Train] train_loss: 0.045 train_accuracy: 0.992 \n",
      "\n"
     ]
    },
    {
     "name": "stdout",
     "output_type": "stream",
     "text": [
      "Epoch 11: 100%|██████████| 8/8 [00:00<00:00, 24.56it/s, loss=0.0461, v_num=0, train_loss=0.0733, train_accuracy=1.000]"
     ]
    },
    {
     "name": "stderr",
     "output_type": "stream",
     "text": [
      "[2025-02-12 17:07:04] INFO (torcheeg/MainThread) \n",
      "[Train] train_loss: 0.038 train_accuracy: 1.000 \n",
      "\n"
     ]
    },
    {
     "name": "stdout",
     "output_type": "stream",
     "text": [
      "Epoch 12: 100%|██████████| 8/8 [00:00<00:00, 25.88it/s, loss=0.0379, v_num=0, train_loss=0.0644, train_accuracy=1.000]"
     ]
    },
    {
     "name": "stderr",
     "output_type": "stream",
     "text": [
      "[2025-02-12 17:07:05] INFO (torcheeg/MainThread) \n",
      "[Train] train_loss: 0.029 train_accuracy: 1.000 \n",
      "\n"
     ]
    },
    {
     "name": "stdout",
     "output_type": "stream",
     "text": [
      "Epoch 13: 100%|██████████| 8/8 [00:00<00:00, 25.24it/s, loss=0.0246, v_num=0, train_loss=0.0087, train_accuracy=1.000] "
     ]
    },
    {
     "name": "stderr",
     "output_type": "stream",
     "text": [
      "Metric train_loss improved by 0.010 >= min_delta = 0.0. New best score: 0.009\n"
     ]
    },
    {
     "name": "stdout",
     "output_type": "stream",
     "text": [
      "Epoch 13: 100%|██████████| 8/8 [00:00<00:00, 25.11it/s, loss=0.0246, v_num=0, train_loss=0.0087, train_accuracy=1.000]"
     ]
    },
    {
     "name": "stderr",
     "output_type": "stream",
     "text": [
      "[2025-02-12 17:07:06] INFO (torcheeg/MainThread) \n",
      "[Train] train_loss: 0.014 train_accuracy: 1.000 \n",
      "\n"
     ]
    },
    {
     "name": "stdout",
     "output_type": "stream",
     "text": [
      "Epoch 14: 100%|██████████| 8/8 [00:00<00:00, 24.59it/s, loss=0.0165, v_num=0, train_loss=0.0175, train_accuracy=1.000] "
     ]
    },
    {
     "name": "stderr",
     "output_type": "stream",
     "text": [
      "[2025-02-12 17:07:07] INFO (torcheeg/MainThread) \n",
      "[Train] train_loss: 0.010 train_accuracy: 1.000 \n",
      "\n"
     ]
    },
    {
     "name": "stdout",
     "output_type": "stream",
     "text": [
      "Epoch 15: 100%|██████████| 8/8 [00:00<00:00, 26.06it/s, loss=0.0111, v_num=0, train_loss=0.0339, train_accuracy=1.000]  "
     ]
    },
    {
     "name": "stderr",
     "output_type": "stream",
     "text": [
      "[2025-02-12 17:07:07] INFO (torcheeg/MainThread) \n",
      "[Train] train_loss: 0.010 train_accuracy: 1.000 \n",
      "\n"
     ]
    },
    {
     "name": "stdout",
     "output_type": "stream",
     "text": [
      "Epoch 16: 100%|██████████| 8/8 [00:00<00:00, 25.09it/s, loss=0.00746, v_num=0, train_loss=0.00178, train_accuracy=1.000]"
     ]
    },
    {
     "name": "stderr",
     "output_type": "stream",
     "text": [
      "Metric train_loss improved by 0.007 >= min_delta = 0.0. New best score: 0.002\n"
     ]
    },
    {
     "name": "stdout",
     "output_type": "stream",
     "text": [
      "Epoch 16: 100%|██████████| 8/8 [00:00<00:00, 24.97it/s, loss=0.00746, v_num=0, train_loss=0.00178, train_accuracy=1.000]"
     ]
    },
    {
     "name": "stderr",
     "output_type": "stream",
     "text": [
      "[2025-02-12 17:07:08] INFO (torcheeg/MainThread) \n",
      "[Train] train_loss: 0.004 train_accuracy: 1.000 \n",
      "\n"
     ]
    },
    {
     "name": "stdout",
     "output_type": "stream",
     "text": [
      "Epoch 17: 100%|██████████| 8/8 [00:00<00:00, 24.48it/s, loss=0.00632, v_num=0, train_loss=0.00313, train_accuracy=1.000]"
     ]
    },
    {
     "name": "stderr",
     "output_type": "stream",
     "text": [
      "[2025-02-12 17:07:09] INFO (torcheeg/MainThread) \n",
      "[Train] train_loss: 0.005 train_accuracy: 1.000 \n",
      "\n"
     ]
    },
    {
     "name": "stdout",
     "output_type": "stream",
     "text": [
      "Epoch 18: 100%|██████████| 8/8 [00:00<00:00, 25.76it/s, loss=0.00468, v_num=0, train_loss=0.00831, train_accuracy=1.000] "
     ]
    },
    {
     "name": "stderr",
     "output_type": "stream",
     "text": [
      "[2025-02-12 17:07:10] INFO (torcheeg/MainThread) \n",
      "[Train] train_loss: 0.005 train_accuracy: 1.000 \n",
      "\n"
     ]
    },
    {
     "name": "stdout",
     "output_type": "stream",
     "text": [
      "Epoch 19: 100%|██████████| 8/8 [00:00<00:00, 24.91it/s, loss=0.00445, v_num=0, train_loss=0.00493, train_accuracy=1.000]"
     ]
    },
    {
     "name": "stderr",
     "output_type": "stream",
     "text": [
      "[2025-02-12 17:07:11] INFO (torcheeg/MainThread) \n",
      "[Train] train_loss: 0.003 train_accuracy: 1.000 \n",
      "\n"
     ]
    },
    {
     "name": "stdout",
     "output_type": "stream",
     "text": [
      "Epoch 20: 100%|██████████| 8/8 [00:00<00:00, 25.89it/s, loss=0.00313, v_num=0, train_loss=0.000652, train_accuracy=1.000]"
     ]
    },
    {
     "name": "stderr",
     "output_type": "stream",
     "text": [
      "Metric train_loss improved by 0.001 >= min_delta = 0.0. New best score: 0.001\n"
     ]
    },
    {
     "name": "stdout",
     "output_type": "stream",
     "text": [
      "Epoch 20: 100%|██████████| 8/8 [00:00<00:00, 25.76it/s, loss=0.00313, v_num=0, train_loss=0.000652, train_accuracy=1.000]"
     ]
    },
    {
     "name": "stderr",
     "output_type": "stream",
     "text": [
      "[2025-02-12 17:07:11] INFO (torcheeg/MainThread) \n",
      "[Train] train_loss: 0.003 train_accuracy: 1.000 \n",
      "\n"
     ]
    },
    {
     "name": "stdout",
     "output_type": "stream",
     "text": [
      "Epoch 21: 100%|██████████| 8/8 [00:00<00:00, 24.11it/s, loss=0.00281, v_num=0, train_loss=0.000682, train_accuracy=1.000]"
     ]
    },
    {
     "name": "stderr",
     "output_type": "stream",
     "text": [
      "[2025-02-12 17:07:12] INFO (torcheeg/MainThread) \n",
      "[Train] train_loss: 0.003 train_accuracy: 1.000 \n",
      "\n"
     ]
    },
    {
     "name": "stdout",
     "output_type": "stream",
     "text": [
      "Epoch 22: 100%|██████████| 8/8 [00:00<00:00, 23.24it/s, loss=0.00243, v_num=0, train_loss=0.000584, train_accuracy=1.000]"
     ]
    },
    {
     "name": "stderr",
     "output_type": "stream",
     "text": [
      "Metric train_loss improved by 0.000 >= min_delta = 0.0. New best score: 0.001\n"
     ]
    },
    {
     "name": "stdout",
     "output_type": "stream",
     "text": [
      "Epoch 22: 100%|██████████| 8/8 [00:00<00:00, 23.14it/s, loss=0.00243, v_num=0, train_loss=0.000584, train_accuracy=1.000]"
     ]
    },
    {
     "name": "stderr",
     "output_type": "stream",
     "text": [
      "[2025-02-12 17:07:13] INFO (torcheeg/MainThread) \n",
      "[Train] train_loss: 0.002 train_accuracy: 1.000 \n",
      "\n"
     ]
    },
    {
     "name": "stdout",
     "output_type": "stream",
     "text": [
      "Epoch 23: 100%|██████████| 8/8 [00:00<00:00, 25.89it/s, loss=0.00234, v_num=0, train_loss=0.00197, train_accuracy=1.000] "
     ]
    },
    {
     "name": "stderr",
     "output_type": "stream",
     "text": [
      "[2025-02-12 17:07:14] INFO (torcheeg/MainThread) \n",
      "[Train] train_loss: 0.002 train_accuracy: 1.000 \n",
      "\n"
     ]
    },
    {
     "name": "stdout",
     "output_type": "stream",
     "text": [
      "Epoch 24: 100%|██████████| 8/8 [00:00<00:00, 24.61it/s, loss=0.00177, v_num=0, train_loss=0.000222, train_accuracy=1.000]"
     ]
    },
    {
     "name": "stderr",
     "output_type": "stream",
     "text": [
      "Metric train_loss improved by 0.000 >= min_delta = 0.0. New best score: 0.000\n"
     ]
    },
    {
     "name": "stdout",
     "output_type": "stream",
     "text": [
      "Epoch 24: 100%|██████████| 8/8 [00:00<00:00, 24.49it/s, loss=0.00177, v_num=0, train_loss=0.000222, train_accuracy=1.000]"
     ]
    },
    {
     "name": "stderr",
     "output_type": "stream",
     "text": [
      "[2025-02-12 17:07:14] INFO (torcheeg/MainThread) \n",
      "[Train] train_loss: 0.002 train_accuracy: 1.000 \n",
      "\n"
     ]
    },
    {
     "name": "stdout",
     "output_type": "stream",
     "text": [
      "Epoch 25: 100%|██████████| 8/8 [00:00<00:00, 23.93it/s, loss=0.00191, v_num=0, train_loss=8.79e-5, train_accuracy=1.000] "
     ]
    },
    {
     "name": "stderr",
     "output_type": "stream",
     "text": [
      "Metric train_loss improved by 0.000 >= min_delta = 0.0. New best score: 0.000\n"
     ]
    },
    {
     "name": "stdout",
     "output_type": "stream",
     "text": [
      "Epoch 25: 100%|██████████| 8/8 [00:00<00:00, 23.82it/s, loss=0.00191, v_num=0, train_loss=8.79e-5, train_accuracy=1.000]"
     ]
    },
    {
     "name": "stderr",
     "output_type": "stream",
     "text": [
      "[2025-02-12 17:07:15] INFO (torcheeg/MainThread) \n",
      "[Train] train_loss: 0.002 train_accuracy: 1.000 \n",
      "\n"
     ]
    },
    {
     "name": "stdout",
     "output_type": "stream",
     "text": [
      "Epoch 26: 100%|██████████| 8/8 [00:00<00:00, 24.95it/s, loss=0.00177, v_num=0, train_loss=0.000455, train_accuracy=1.000]"
     ]
    },
    {
     "name": "stderr",
     "output_type": "stream",
     "text": [
      "[2025-02-12 17:07:16] INFO (torcheeg/MainThread) \n",
      "[Train] train_loss: 0.002 train_accuracy: 1.000 \n",
      "\n"
     ]
    },
    {
     "name": "stdout",
     "output_type": "stream",
     "text": [
      "Epoch 27: 100%|██████████| 8/8 [00:00<00:00, 26.20it/s, loss=0.00179, v_num=0, train_loss=0.000774, train_accuracy=1.000]"
     ]
    },
    {
     "name": "stderr",
     "output_type": "stream",
     "text": [
      "[2025-02-12 17:07:17] INFO (torcheeg/MainThread) \n",
      "[Train] train_loss: 0.002 train_accuracy: 1.000 \n",
      "\n"
     ]
    },
    {
     "name": "stdout",
     "output_type": "stream",
     "text": [
      "Epoch 28: 100%|██████████| 8/8 [00:00<00:00, 22.33it/s, loss=0.00201, v_num=0, train_loss=0.000784, train_accuracy=1.000]"
     ]
    },
    {
     "name": "stderr",
     "output_type": "stream",
     "text": [
      "[2025-02-12 17:07:18] INFO (torcheeg/MainThread) \n",
      "[Train] train_loss: 0.002 train_accuracy: 1.000 \n",
      "\n"
     ]
    },
    {
     "name": "stdout",
     "output_type": "stream",
     "text": [
      "Epoch 29: 100%|██████████| 8/8 [00:00<00:00, 21.31it/s, loss=0.00184, v_num=0, train_loss=0.000707, train_accuracy=1.000]"
     ]
    },
    {
     "name": "stderr",
     "output_type": "stream",
     "text": [
      "[2025-02-12 17:07:18] INFO (torcheeg/MainThread) \n",
      "[Train] train_loss: 0.002 train_accuracy: 1.000 \n",
      "\n",
      "`Trainer.fit` stopped: `max_epochs=30` reached.\n"
     ]
    },
    {
     "name": "stdout",
     "output_type": "stream",
     "text": [
      "Epoch 29: 100%|██████████| 8/8 [00:00<00:00,  9.66it/s, loss=0.00184, v_num=0, train_loss=0.000707, train_accuracy=1.000]"
     ]
    },
    {
     "name": "stderr",
     "output_type": "stream",
     "text": [
      "GPU available: True (cuda), used: True\n",
      "TPU available: False, using: 0 TPU cores\n",
      "IPU available: False, using: 0 IPUs\n",
      "HPU available: False, using: 0 HPUs\n"
     ]
    },
    {
     "name": "stdout",
     "output_type": "stream",
     "text": [
      "\n"
     ]
    },
    {
     "name": "stderr",
     "output_type": "stream",
     "text": [
      "LOCAL_RANK: 0 - CUDA_VISIBLE_DEVICES: [0]\n",
      "/root/autodl-tmp/conda/envs/law/lib/python3.8/site-packages/pytorch_lightning/trainer/connectors/data_connector.py:224: PossibleUserWarning: The dataloader, test_dataloader 0, does not have many workers which may be a bottleneck. Consider increasing the value of the `num_workers` argument` (try 128 which is the number of cpus on this machine) in the `DataLoader` init to improve performance.\n",
      "  rank_zero_warn(\n"
     ]
    },
    {
     "name": "stdout",
     "output_type": "stream",
     "text": [
      "Testing DataLoader 0: 100%|██████████| 3/3 [00:00<00:00, 74.90it/s] "
     ]
    },
    {
     "name": "stderr",
     "output_type": "stream",
     "text": [
      "[2025-02-12 17:07:19] INFO (torcheeg/MainThread) \n",
      "[Test] test_loss: 0.854 test_accuracy: 0.875 \n",
      "\n"
     ]
    },
    {
     "name": "stdout",
     "output_type": "stream",
     "text": [
      "Testing DataLoader 0: 100%|██████████| 3/3 [00:00<00:00, 66.61it/s]\n",
      "────────────────────────────────────────────────────────────────────────────────────────────────────────────────────────\n",
      "       Test metric             DataLoader 0\n",
      "────────────────────────────────────────────────────────────────────────────────────────────────────────────────────────\n",
      "      test_accuracy                0.875\n",
      "        test_loss           0.8538835644721985\n",
      "────────────────────────────────────────────────────────────────────────────────────────────────────────────────────────\n",
      "已删除文件夹: /root/autodl-tmp/.autodl/kinlaw/GANSER/mycode/lightning_logs\n"
     ]
    },
    {
     "name": "stderr",
     "output_type": "stream",
     "text": [
      "GPU available: True (cuda), used: True\n",
      "TPU available: False, using: 0 TPU cores\n",
      "IPU available: False, using: 0 IPUs\n",
      "HPU available: False, using: 0 HPUs\n",
      "Missing logger folder: /root/autodl-tmp/.autodl/kinlaw/GANSER/mycode/lightning_logs\n",
      "LOCAL_RANK: 0 - CUDA_VISIBLE_DEVICES: [0]\n",
      "/root/autodl-tmp/conda/envs/law/lib/python3.8/site-packages/pytorch_lightning/trainer/connectors/data_connector.py:224: PossibleUserWarning: The dataloader, train_dataloader, does not have many workers which may be a bottleneck. Consider increasing the value of the `num_workers` argument` (try 128 which is the number of cpus on this machine) in the `DataLoader` init to improve performance.\n",
      "  rank_zero_warn(\n",
      "/root/autodl-tmp/conda/envs/law/lib/python3.8/site-packages/pytorch_lightning/trainer/trainer.py:1609: PossibleUserWarning: The number of training batches (8) is smaller than the logging interval Trainer(log_every_n_steps=50). Set a lower value for log_every_n_steps if you want to see logs for the training epoch.\n",
      "  rank_zero_warn(\n"
     ]
    },
    {
     "name": "stdout",
     "output_type": "stream",
     "text": [
      "Epoch 0: 100%|██████████| 8/8 [00:00<00:00, 25.64it/s, loss=0.708, v_num=0, train_loss=0.583, train_accuracy=0.875]"
     ]
    },
    {
     "name": "stderr",
     "output_type": "stream",
     "text": [
      "Metric train_loss improved. New best score: 0.583\n"
     ]
    },
    {
     "name": "stdout",
     "output_type": "stream",
     "text": [
      "Epoch 0: 100%|██████████| 8/8 [00:00<00:00, 25.52it/s, loss=0.708, v_num=0, train_loss=0.583, train_accuracy=0.875]"
     ]
    },
    {
     "name": "stderr",
     "output_type": "stream",
     "text": [
      "[2025-02-12 17:07:20] INFO (torcheeg/MainThread) \n",
      "[Train] train_loss: 0.708 train_accuracy: 0.567 \n",
      "\n"
     ]
    },
    {
     "name": "stdout",
     "output_type": "stream",
     "text": [
      "Epoch 1: 100%|██████████| 8/8 [00:00<00:00, 23.33it/s, loss=0.643, v_num=0, train_loss=0.563, train_accuracy=0.750]"
     ]
    },
    {
     "name": "stderr",
     "output_type": "stream",
     "text": [
      "Metric train_loss improved by 0.020 >= min_delta = 0.0. New best score: 0.563\n"
     ]
    },
    {
     "name": "stdout",
     "output_type": "stream",
     "text": [
      "Epoch 1: 100%|██████████| 8/8 [00:00<00:00, 23.22it/s, loss=0.643, v_num=0, train_loss=0.563, train_accuracy=0.750]"
     ]
    },
    {
     "name": "stderr",
     "output_type": "stream",
     "text": [
      "[2025-02-12 17:07:21] INFO (torcheeg/MainThread) \n",
      "[Train] train_loss: 0.578 train_accuracy: 0.717 \n",
      "\n"
     ]
    },
    {
     "name": "stdout",
     "output_type": "stream",
     "text": [
      "Epoch 2: 100%|██████████| 8/8 [00:00<00:00, 25.08it/s, loss=0.565, v_num=0, train_loss=0.493, train_accuracy=0.750]"
     ]
    },
    {
     "name": "stderr",
     "output_type": "stream",
     "text": [
      "Metric train_loss improved by 0.071 >= min_delta = 0.0. New best score: 0.493\n"
     ]
    },
    {
     "name": "stdout",
     "output_type": "stream",
     "text": [
      "Epoch 2: 100%|██████████| 8/8 [00:00<00:00, 24.96it/s, loss=0.565, v_num=0, train_loss=0.493, train_accuracy=0.750]"
     ]
    },
    {
     "name": "stderr",
     "output_type": "stream",
     "text": [
      "[2025-02-12 17:07:21] INFO (torcheeg/MainThread) \n",
      "[Train] train_loss: 0.504 train_accuracy: 0.783 \n",
      "\n"
     ]
    },
    {
     "name": "stdout",
     "output_type": "stream",
     "text": [
      "Epoch 3: 100%|██████████| 8/8 [00:00<00:00, 25.01it/s, loss=0.468, v_num=0, train_loss=0.277, train_accuracy=1.000]"
     ]
    },
    {
     "name": "stderr",
     "output_type": "stream",
     "text": [
      "Metric train_loss improved by 0.216 >= min_delta = 0.0. New best score: 0.277\n"
     ]
    },
    {
     "name": "stdout",
     "output_type": "stream",
     "text": [
      "Epoch 3: 100%|██████████| 8/8 [00:00<00:00, 24.87it/s, loss=0.468, v_num=0, train_loss=0.277, train_accuracy=1.000]"
     ]
    },
    {
     "name": "stderr",
     "output_type": "stream",
     "text": [
      "[2025-02-12 17:07:22] INFO (torcheeg/MainThread) \n",
      "[Train] train_loss: 0.384 train_accuracy: 0.867 \n",
      "\n"
     ]
    },
    {
     "name": "stdout",
     "output_type": "stream",
     "text": [
      "Epoch 4: 100%|██████████| 8/8 [00:00<00:00, 24.60it/s, loss=0.369, v_num=0, train_loss=0.569, train_accuracy=0.750]"
     ]
    },
    {
     "name": "stderr",
     "output_type": "stream",
     "text": [
      "[2025-02-12 17:07:23] INFO (torcheeg/MainThread) \n",
      "[Train] train_loss: 0.293 train_accuracy: 0.933 \n",
      "\n"
     ]
    },
    {
     "name": "stdout",
     "output_type": "stream",
     "text": [
      "Epoch 5: 100%|██████████| 8/8 [00:00<00:00, 22.74it/s, loss=0.25, v_num=0, train_loss=0.0509, train_accuracy=1.000]"
     ]
    },
    {
     "name": "stderr",
     "output_type": "stream",
     "text": [
      "Metric train_loss improved by 0.226 >= min_delta = 0.0. New best score: 0.051\n"
     ]
    },
    {
     "name": "stdout",
     "output_type": "stream",
     "text": [
      "Epoch 5: 100%|██████████| 8/8 [00:00<00:00, 22.61it/s, loss=0.25, v_num=0, train_loss=0.0509, train_accuracy=1.000]"
     ]
    },
    {
     "name": "stderr",
     "output_type": "stream",
     "text": [
      "[2025-02-12 17:07:24] INFO (torcheeg/MainThread) \n",
      "[Train] train_loss: 0.160 train_accuracy: 0.958 \n",
      "\n"
     ]
    },
    {
     "name": "stdout",
     "output_type": "stream",
     "text": [
      "Epoch 6: 100%|██████████| 8/8 [00:00<00:00, 24.75it/s, loss=0.177, v_num=0, train_loss=0.110, train_accuracy=1.000] "
     ]
    },
    {
     "name": "stderr",
     "output_type": "stream",
     "text": [
      "[2025-02-12 17:07:25] INFO (torcheeg/MainThread) \n",
      "[Train] train_loss: 0.137 train_accuracy: 0.958 \n",
      "\n"
     ]
    },
    {
     "name": "stdout",
     "output_type": "stream",
     "text": [
      "Epoch 7: 100%|██████████| 8/8 [00:00<00:00, 25.88it/s, loss=0.115, v_num=0, train_loss=0.0806, train_accuracy=1.000]"
     ]
    },
    {
     "name": "stderr",
     "output_type": "stream",
     "text": [
      "[2025-02-12 17:07:25] INFO (torcheeg/MainThread) \n",
      "[Train] train_loss: 0.095 train_accuracy: 0.967 \n",
      "\n"
     ]
    },
    {
     "name": "stdout",
     "output_type": "stream",
     "text": [
      "Epoch 8: 100%|██████████| 8/8 [00:00<00:00, 24.09it/s, loss=0.0895, v_num=0, train_loss=0.0832, train_accuracy=1.000]"
     ]
    },
    {
     "name": "stderr",
     "output_type": "stream",
     "text": [
      "[2025-02-12 17:07:26] INFO (torcheeg/MainThread) \n",
      "[Train] train_loss: 0.060 train_accuracy: 0.992 \n",
      "\n"
     ]
    },
    {
     "name": "stdout",
     "output_type": "stream",
     "text": [
      "Epoch 9: 100%|██████████| 8/8 [00:00<00:00, 24.45it/s, loss=0.0573, v_num=0, train_loss=0.00181, train_accuracy=1.000]"
     ]
    },
    {
     "name": "stderr",
     "output_type": "stream",
     "text": [
      "Metric train_loss improved by 0.049 >= min_delta = 0.0. New best score: 0.002\n"
     ]
    },
    {
     "name": "stdout",
     "output_type": "stream",
     "text": [
      "Epoch 9: 100%|██████████| 8/8 [00:00<00:00, 24.33it/s, loss=0.0573, v_num=0, train_loss=0.00181, train_accuracy=1.000]"
     ]
    },
    {
     "name": "stderr",
     "output_type": "stream",
     "text": [
      "[2025-02-12 17:07:27] INFO (torcheeg/MainThread) \n",
      "[Train] train_loss: 0.035 train_accuracy: 1.000 \n",
      "\n"
     ]
    },
    {
     "name": "stdout",
     "output_type": "stream",
     "text": [
      "Epoch 10: 100%|██████████| 8/8 [00:00<00:00, 25.38it/s, loss=0.029, v_num=0, train_loss=0.0177, train_accuracy=1.000]  "
     ]
    },
    {
     "name": "stderr",
     "output_type": "stream",
     "text": [
      "[2025-02-12 17:07:28] INFO (torcheeg/MainThread) \n",
      "[Train] train_loss: 0.014 train_accuracy: 1.000 \n",
      "\n"
     ]
    },
    {
     "name": "stdout",
     "output_type": "stream",
     "text": [
      "Epoch 11: 100%|██████████| 8/8 [00:00<00:00, 25.96it/s, loss=0.0147, v_num=0, train_loss=0.0261, train_accuracy=1.000] "
     ]
    },
    {
     "name": "stderr",
     "output_type": "stream",
     "text": [
      "[2025-02-12 17:07:28] INFO (torcheeg/MainThread) \n",
      "[Train] train_loss: 0.009 train_accuracy: 1.000 \n",
      "\n"
     ]
    },
    {
     "name": "stdout",
     "output_type": "stream",
     "text": [
      "Epoch 12: 100%|██████████| 8/8 [00:00<00:00, 22.97it/s, loss=0.00907, v_num=0, train_loss=0.00872, train_accuracy=1.000]"
     ]
    },
    {
     "name": "stderr",
     "output_type": "stream",
     "text": [
      "[2025-02-12 17:07:29] INFO (torcheeg/MainThread) \n",
      "[Train] train_loss: 0.008 train_accuracy: 1.000 \n",
      "\n"
     ]
    },
    {
     "name": "stdout",
     "output_type": "stream",
     "text": [
      "Epoch 13: 100%|██████████| 8/8 [00:00<00:00, 24.36it/s, loss=0.0079, v_num=0, train_loss=0.0095, train_accuracy=1.000]  "
     ]
    },
    {
     "name": "stderr",
     "output_type": "stream",
     "text": [
      "[2025-02-12 17:07:30] INFO (torcheeg/MainThread) \n",
      "[Train] train_loss: 0.007 train_accuracy: 1.000 \n",
      "\n"
     ]
    },
    {
     "name": "stdout",
     "output_type": "stream",
     "text": [
      "Epoch 14: 100%|██████████| 8/8 [00:00<00:00, 24.45it/s, loss=0.00648, v_num=0, train_loss=0.00838, train_accuracy=1.000]"
     ]
    },
    {
     "name": "stderr",
     "output_type": "stream",
     "text": [
      "[2025-02-12 17:07:31] INFO (torcheeg/MainThread) \n",
      "[Train] train_loss: 0.006 train_accuracy: 1.000 \n",
      "\n"
     ]
    },
    {
     "name": "stdout",
     "output_type": "stream",
     "text": [
      "Epoch 15: 100%|██████████| 8/8 [00:00<00:00, 25.14it/s, loss=0.00586, v_num=0, train_loss=0.0023, train_accuracy=1.000] "
     ]
    },
    {
     "name": "stderr",
     "output_type": "stream",
     "text": [
      "[2025-02-12 17:07:32] INFO (torcheeg/MainThread) \n",
      "[Train] train_loss: 0.005 train_accuracy: 1.000 \n",
      "\n"
     ]
    },
    {
     "name": "stdout",
     "output_type": "stream",
     "text": [
      "Epoch 16: 100%|██████████| 8/8 [00:00<00:00, 24.50it/s, loss=0.00533, v_num=0, train_loss=0.00328, train_accuracy=1.000] "
     ]
    },
    {
     "name": "stderr",
     "output_type": "stream",
     "text": [
      "[2025-02-12 17:07:32] INFO (torcheeg/MainThread) \n",
      "[Train] train_loss: 0.005 train_accuracy: 1.000 \n",
      "\n"
     ]
    },
    {
     "name": "stdout",
     "output_type": "stream",
     "text": [
      "Epoch 17: 100%|██████████| 8/8 [00:00<00:00, 24.82it/s, loss=0.00482, v_num=0, train_loss=0.00236, train_accuracy=1.000]"
     ]
    },
    {
     "name": "stderr",
     "output_type": "stream",
     "text": [
      "[2025-02-12 17:07:33] INFO (torcheeg/MainThread) \n",
      "[Train] train_loss: 0.006 train_accuracy: 1.000 \n",
      "\n"
     ]
    },
    {
     "name": "stdout",
     "output_type": "stream",
     "text": [
      "Epoch 18: 100%|██████████| 8/8 [00:00<00:00, 25.97it/s, loss=0.00446, v_num=0, train_loss=0.00397, train_accuracy=1.000]"
     ]
    },
    {
     "name": "stderr",
     "output_type": "stream",
     "text": [
      "[2025-02-12 17:07:34] INFO (torcheeg/MainThread) \n",
      "[Train] train_loss: 0.002 train_accuracy: 1.000 \n",
      "\n"
     ]
    },
    {
     "name": "stdout",
     "output_type": "stream",
     "text": [
      "Epoch 19: 100%|██████████| 8/8 [00:00<00:00, 24.52it/s, loss=0.00409, v_num=0, train_loss=0.0141, train_accuracy=1.000]  "
     ]
    },
    {
     "name": "stderr",
     "output_type": "stream",
     "text": [
      "Monitored metric train_loss did not improve in the last 10 records. Best score: 0.002. Signaling Trainer to stop.\n"
     ]
    },
    {
     "name": "stdout",
     "output_type": "stream",
     "text": [
      "Epoch 19: 100%|██████████| 8/8 [00:00<00:00, 24.40it/s, loss=0.00409, v_num=0, train_loss=0.0141, train_accuracy=1.000]"
     ]
    },
    {
     "name": "stderr",
     "output_type": "stream",
     "text": [
      "[2025-02-12 17:07:35] INFO (torcheeg/MainThread) \n",
      "[Train] train_loss: 0.004 train_accuracy: 1.000 \n",
      "\n"
     ]
    },
    {
     "name": "stdout",
     "output_type": "stream",
     "text": [
      "Epoch 19: 100%|██████████| 8/8 [00:00<00:00, 10.27it/s, loss=0.00409, v_num=0, train_loss=0.0141, train_accuracy=1.000]"
     ]
    },
    {
     "name": "stderr",
     "output_type": "stream",
     "text": [
      "GPU available: True (cuda), used: True\n",
      "TPU available: False, using: 0 TPU cores\n",
      "IPU available: False, using: 0 IPUs\n",
      "HPU available: False, using: 0 HPUs\n"
     ]
    },
    {
     "name": "stdout",
     "output_type": "stream",
     "text": [
      "\n"
     ]
    },
    {
     "name": "stderr",
     "output_type": "stream",
     "text": [
      "LOCAL_RANK: 0 - CUDA_VISIBLE_DEVICES: [0]\n",
      "/root/autodl-tmp/conda/envs/law/lib/python3.8/site-packages/pytorch_lightning/trainer/connectors/data_connector.py:224: PossibleUserWarning: The dataloader, test_dataloader 0, does not have many workers which may be a bottleneck. Consider increasing the value of the `num_workers` argument` (try 128 which is the number of cpus on this machine) in the `DataLoader` init to improve performance.\n",
      "  rank_zero_warn(\n"
     ]
    },
    {
     "name": "stdout",
     "output_type": "stream",
     "text": [
      "Testing DataLoader 0: 100%|██████████| 3/3 [00:00<00:00, 89.23it/s] "
     ]
    },
    {
     "name": "stderr",
     "output_type": "stream",
     "text": [
      "[2025-02-12 17:07:35] INFO (torcheeg/MainThread) \n",
      "[Test] test_loss: 1.392 test_accuracy: 0.650 \n",
      "\n"
     ]
    },
    {
     "name": "stdout",
     "output_type": "stream",
     "text": [
      "Testing DataLoader 0: 100%|██████████| 3/3 [00:00<00:00, 76.95it/s]\n",
      "────────────────────────────────────────────────────────────────────────────────────────────────────────────────────────\n",
      "       Test metric             DataLoader 0\n",
      "────────────────────────────────────────────────────────────────────────────────────────────────────────────────────────\n",
      "      test_accuracy         0.6499999761581421\n",
      "        test_loss           1.3921728134155273\n",
      "────────────────────────────────────────────────────────────────────────────────────────────────────────────────────────\n",
      "已删除文件夹: /root/autodl-tmp/.autodl/kinlaw/GANSER/mycode/lightning_logs\n"
     ]
    },
    {
     "name": "stderr",
     "output_type": "stream",
     "text": [
      "GPU available: True (cuda), used: True\n",
      "TPU available: False, using: 0 TPU cores\n",
      "IPU available: False, using: 0 IPUs\n",
      "HPU available: False, using: 0 HPUs\n",
      "Missing logger folder: /root/autodl-tmp/.autodl/kinlaw/GANSER/mycode/lightning_logs\n",
      "LOCAL_RANK: 0 - CUDA_VISIBLE_DEVICES: [0]\n",
      "/root/autodl-tmp/conda/envs/law/lib/python3.8/site-packages/pytorch_lightning/trainer/connectors/data_connector.py:224: PossibleUserWarning: The dataloader, train_dataloader, does not have many workers which may be a bottleneck. Consider increasing the value of the `num_workers` argument` (try 128 which is the number of cpus on this machine) in the `DataLoader` init to improve performance.\n",
      "  rank_zero_warn(\n",
      "/root/autodl-tmp/conda/envs/law/lib/python3.8/site-packages/pytorch_lightning/trainer/trainer.py:1609: PossibleUserWarning: The number of training batches (8) is smaller than the logging interval Trainer(log_every_n_steps=50). Set a lower value for log_every_n_steps if you want to see logs for the training epoch.\n",
      "  rank_zero_warn(\n"
     ]
    },
    {
     "name": "stdout",
     "output_type": "stream",
     "text": [
      "Epoch 0: 100%|██████████| 8/8 [00:00<00:00, 24.13it/s, loss=0.88, v_num=0, train_loss=0.763, train_accuracy=0.500] "
     ]
    },
    {
     "name": "stderr",
     "output_type": "stream",
     "text": [
      "Metric train_loss improved. New best score: 0.763\n"
     ]
    },
    {
     "name": "stdout",
     "output_type": "stream",
     "text": [
      "Epoch 0: 100%|██████████| 8/8 [00:00<00:00, 24.02it/s, loss=0.88, v_num=0, train_loss=0.763, train_accuracy=0.500]"
     ]
    },
    {
     "name": "stderr",
     "output_type": "stream",
     "text": [
      "[2025-02-12 17:07:36] INFO (torcheeg/MainThread) \n",
      "[Train] train_loss: 0.880 train_accuracy: 0.525 \n",
      "\n"
     ]
    },
    {
     "name": "stdout",
     "output_type": "stream",
     "text": [
      "Epoch 1: 100%|██████████| 8/8 [00:00<00:00, 25.97it/s, loss=0.82, v_num=0, train_loss=0.623, train_accuracy=0.875] "
     ]
    },
    {
     "name": "stderr",
     "output_type": "stream",
     "text": [
      "Metric train_loss improved by 0.140 >= min_delta = 0.0. New best score: 0.623\n"
     ]
    },
    {
     "name": "stdout",
     "output_type": "stream",
     "text": [
      "Epoch 1: 100%|██████████| 8/8 [00:00<00:00, 25.85it/s, loss=0.82, v_num=0, train_loss=0.623, train_accuracy=0.875]"
     ]
    },
    {
     "name": "stderr",
     "output_type": "stream",
     "text": [
      "[2025-02-12 17:07:37] INFO (torcheeg/MainThread) \n",
      "[Train] train_loss: 0.759 train_accuracy: 0.550 \n",
      "\n"
     ]
    },
    {
     "name": "stdout",
     "output_type": "stream",
     "text": [
      "Epoch 2: 100%|██████████| 8/8 [00:00<00:00, 22.71it/s, loss=0.707, v_num=0, train_loss=0.532, train_accuracy=0.750]"
     ]
    },
    {
     "name": "stderr",
     "output_type": "stream",
     "text": [
      "Metric train_loss improved by 0.091 >= min_delta = 0.0. New best score: 0.532\n"
     ]
    },
    {
     "name": "stdout",
     "output_type": "stream",
     "text": [
      "Epoch 2: 100%|██████████| 8/8 [00:00<00:00, 22.61it/s, loss=0.707, v_num=0, train_loss=0.532, train_accuracy=0.750]"
     ]
    },
    {
     "name": "stderr",
     "output_type": "stream",
     "text": [
      "[2025-02-12 17:07:38] INFO (torcheeg/MainThread) \n",
      "[Train] train_loss: 0.607 train_accuracy: 0.608 \n",
      "\n"
     ]
    },
    {
     "name": "stdout",
     "output_type": "stream",
     "text": [
      "Epoch 3: 100%|██████████| 8/8 [00:00<00:00, 22.85it/s, loss=0.571, v_num=0, train_loss=0.494, train_accuracy=0.875]"
     ]
    },
    {
     "name": "stderr",
     "output_type": "stream",
     "text": [
      "Metric train_loss improved by 0.038 >= min_delta = 0.0. New best score: 0.494\n"
     ]
    },
    {
     "name": "stdout",
     "output_type": "stream",
     "text": [
      "Epoch 3: 100%|██████████| 8/8 [00:00<00:00, 22.75it/s, loss=0.571, v_num=0, train_loss=0.494, train_accuracy=0.875]"
     ]
    },
    {
     "name": "stderr",
     "output_type": "stream",
     "text": [
      "[2025-02-12 17:07:39] INFO (torcheeg/MainThread) \n",
      "[Train] train_loss: 0.478 train_accuracy: 0.858 \n",
      "\n"
     ]
    },
    {
     "name": "stdout",
     "output_type": "stream",
     "text": [
      "Epoch 4: 100%|██████████| 8/8 [00:00<00:00, 25.84it/s, loss=0.486, v_num=0, train_loss=0.491, train_accuracy=0.625]"
     ]
    },
    {
     "name": "stderr",
     "output_type": "stream",
     "text": [
      "Metric train_loss improved by 0.003 >= min_delta = 0.0. New best score: 0.491\n"
     ]
    },
    {
     "name": "stdout",
     "output_type": "stream",
     "text": [
      "Epoch 4: 100%|██████████| 8/8 [00:00<00:00, 25.72it/s, loss=0.486, v_num=0, train_loss=0.491, train_accuracy=0.625]"
     ]
    },
    {
     "name": "stderr",
     "output_type": "stream",
     "text": [
      "[2025-02-12 17:07:40] INFO (torcheeg/MainThread) \n",
      "[Train] train_loss: 0.436 train_accuracy: 0.800 \n",
      "\n"
     ]
    },
    {
     "name": "stdout",
     "output_type": "stream",
     "text": [
      "Epoch 5: 100%|██████████| 8/8 [00:00<00:00, 24.40it/s, loss=0.402, v_num=0, train_loss=0.216, train_accuracy=1.000]"
     ]
    },
    {
     "name": "stderr",
     "output_type": "stream",
     "text": [
      "Metric train_loss improved by 0.275 >= min_delta = 0.0. New best score: 0.216\n"
     ]
    },
    {
     "name": "stdout",
     "output_type": "stream",
     "text": [
      "Epoch 5: 100%|██████████| 8/8 [00:00<00:00, 24.29it/s, loss=0.402, v_num=0, train_loss=0.216, train_accuracy=1.000]"
     ]
    },
    {
     "name": "stderr",
     "output_type": "stream",
     "text": [
      "[2025-02-12 17:07:40] INFO (torcheeg/MainThread) \n",
      "[Train] train_loss: 0.322 train_accuracy: 0.917 \n",
      "\n"
     ]
    },
    {
     "name": "stdout",
     "output_type": "stream",
     "text": [
      "Epoch 6: 100%|██████████| 8/8 [00:00<00:00, 24.49it/s, loss=0.306, v_num=0, train_loss=0.215, train_accuracy=0.875]"
     ]
    },
    {
     "name": "stderr",
     "output_type": "stream",
     "text": [
      "Metric train_loss improved by 0.001 >= min_delta = 0.0. New best score: 0.215\n"
     ]
    },
    {
     "name": "stdout",
     "output_type": "stream",
     "text": [
      "Epoch 6: 100%|██████████| 8/8 [00:00<00:00, 24.37it/s, loss=0.306, v_num=0, train_loss=0.215, train_accuracy=0.875]"
     ]
    },
    {
     "name": "stderr",
     "output_type": "stream",
     "text": [
      "[2025-02-12 17:07:41] INFO (torcheeg/MainThread) \n",
      "[Train] train_loss: 0.223 train_accuracy: 0.942 \n",
      "\n"
     ]
    },
    {
     "name": "stdout",
     "output_type": "stream",
     "text": [
      "Epoch 7: 100%|██████████| 8/8 [00:00<00:00, 25.74it/s, loss=0.197, v_num=0, train_loss=0.0547, train_accuracy=1.000]"
     ]
    },
    {
     "name": "stderr",
     "output_type": "stream",
     "text": [
      "Metric train_loss improved by 0.160 >= min_delta = 0.0. New best score: 0.055\n"
     ]
    },
    {
     "name": "stdout",
     "output_type": "stream",
     "text": [
      "Epoch 7: 100%|██████████| 8/8 [00:00<00:00, 25.60it/s, loss=0.197, v_num=0, train_loss=0.0547, train_accuracy=1.000]"
     ]
    },
    {
     "name": "stderr",
     "output_type": "stream",
     "text": [
      "[2025-02-12 17:07:42] INFO (torcheeg/MainThread) \n",
      "[Train] train_loss: 0.145 train_accuracy: 0.975 \n",
      "\n"
     ]
    },
    {
     "name": "stdout",
     "output_type": "stream",
     "text": [
      "Epoch 8: 100%|██████████| 8/8 [00:00<00:00, 25.85it/s, loss=0.146, v_num=0, train_loss=0.0792, train_accuracy=1.000]"
     ]
    },
    {
     "name": "stderr",
     "output_type": "stream",
     "text": [
      "[2025-02-12 17:07:43] INFO (torcheeg/MainThread) \n",
      "[Train] train_loss: 0.101 train_accuracy: 0.975 \n",
      "\n"
     ]
    },
    {
     "name": "stdout",
     "output_type": "stream",
     "text": [
      "Epoch 9: 100%|██████████| 8/8 [00:00<00:00, 23.12it/s, loss=0.0927, v_num=0, train_loss=0.107, train_accuracy=1.000]"
     ]
    },
    {
     "name": "stderr",
     "output_type": "stream",
     "text": [
      "[2025-02-12 17:07:44] INFO (torcheeg/MainThread) \n",
      "[Train] train_loss: 0.060 train_accuracy: 1.000 \n",
      "\n"
     ]
    },
    {
     "name": "stdout",
     "output_type": "stream",
     "text": [
      "Epoch 10: 100%|██████████| 8/8 [00:00<00:00, 22.86it/s, loss=0.0553, v_num=0, train_loss=0.00999, train_accuracy=1.000]"
     ]
    },
    {
     "name": "stderr",
     "output_type": "stream",
     "text": [
      "Metric train_loss improved by 0.045 >= min_delta = 0.0. New best score: 0.010\n"
     ]
    },
    {
     "name": "stdout",
     "output_type": "stream",
     "text": [
      "Epoch 10: 100%|██████████| 8/8 [00:00<00:00, 22.76it/s, loss=0.0553, v_num=0, train_loss=0.00999, train_accuracy=1.000]"
     ]
    },
    {
     "name": "stderr",
     "output_type": "stream",
     "text": [
      "[2025-02-12 17:07:45] INFO (torcheeg/MainThread) \n",
      "[Train] train_loss: 0.040 train_accuracy: 1.000 \n",
      "\n"
     ]
    },
    {
     "name": "stdout",
     "output_type": "stream",
     "text": [
      "Epoch 11: 100%|██████████| 8/8 [00:00<00:00, 26.23it/s, loss=0.0374, v_num=0, train_loss=0.0102, train_accuracy=1.000] "
     ]
    },
    {
     "name": "stderr",
     "output_type": "stream",
     "text": [
      "[2025-02-12 17:07:45] INFO (torcheeg/MainThread) \n",
      "[Train] train_loss: 0.024 train_accuracy: 1.000 \n",
      "\n"
     ]
    },
    {
     "name": "stdout",
     "output_type": "stream",
     "text": [
      "Epoch 12: 100%|██████████| 8/8 [00:00<00:00, 23.72it/s, loss=0.0196, v_num=0, train_loss=0.00367, train_accuracy=1.000]"
     ]
    },
    {
     "name": "stderr",
     "output_type": "stream",
     "text": [
      "Metric train_loss improved by 0.006 >= min_delta = 0.0. New best score: 0.004\n"
     ]
    },
    {
     "name": "stdout",
     "output_type": "stream",
     "text": [
      "Epoch 12: 100%|██████████| 8/8 [00:00<00:00, 23.61it/s, loss=0.0196, v_num=0, train_loss=0.00367, train_accuracy=1.000]"
     ]
    },
    {
     "name": "stderr",
     "output_type": "stream",
     "text": [
      "[2025-02-12 17:07:46] INFO (torcheeg/MainThread) \n",
      "[Train] train_loss: 0.012 train_accuracy: 1.000 \n",
      "\n"
     ]
    },
    {
     "name": "stdout",
     "output_type": "stream",
     "text": [
      "Epoch 13: 100%|██████████| 8/8 [00:00<00:00, 23.81it/s, loss=0.0131, v_num=0, train_loss=0.0111, train_accuracy=1.000] "
     ]
    },
    {
     "name": "stderr",
     "output_type": "stream",
     "text": [
      "[2025-02-12 17:07:47] INFO (torcheeg/MainThread) \n",
      "[Train] train_loss: 0.007 train_accuracy: 1.000 \n",
      "\n"
     ]
    },
    {
     "name": "stdout",
     "output_type": "stream",
     "text": [
      "Epoch 14: 100%|██████████| 8/8 [00:00<00:00, 25.42it/s, loss=0.0068, v_num=0, train_loss=0.00649, train_accuracy=1.000] "
     ]
    },
    {
     "name": "stderr",
     "output_type": "stream",
     "text": [
      "[2025-02-12 17:07:48] INFO (torcheeg/MainThread) \n",
      "[Train] train_loss: 0.006 train_accuracy: 1.000 \n",
      "\n"
     ]
    },
    {
     "name": "stdout",
     "output_type": "stream",
     "text": [
      "Epoch 15: 100%|██████████| 8/8 [00:00<00:00, 23.42it/s, loss=0.00529, v_num=0, train_loss=0.00139, train_accuracy=1.000]"
     ]
    },
    {
     "name": "stderr",
     "output_type": "stream",
     "text": [
      "Metric train_loss improved by 0.002 >= min_delta = 0.0. New best score: 0.001\n"
     ]
    },
    {
     "name": "stdout",
     "output_type": "stream",
     "text": [
      "Epoch 15: 100%|██████████| 8/8 [00:00<00:00, 23.31it/s, loss=0.00529, v_num=0, train_loss=0.00139, train_accuracy=1.000]"
     ]
    },
    {
     "name": "stderr",
     "output_type": "stream",
     "text": [
      "[2025-02-12 17:07:49] INFO (torcheeg/MainThread) \n",
      "[Train] train_loss: 0.005 train_accuracy: 1.000 \n",
      "\n"
     ]
    },
    {
     "name": "stdout",
     "output_type": "stream",
     "text": [
      "Epoch 16: 100%|██████████| 8/8 [00:00<00:00, 22.56it/s, loss=0.00462, v_num=0, train_loss=0.00204, train_accuracy=1.000]"
     ]
    },
    {
     "name": "stderr",
     "output_type": "stream",
     "text": [
      "[2025-02-12 17:07:50] INFO (torcheeg/MainThread) \n",
      "[Train] train_loss: 0.004 train_accuracy: 1.000 \n",
      "\n"
     ]
    },
    {
     "name": "stdout",
     "output_type": "stream",
     "text": [
      "Epoch 17: 100%|██████████| 8/8 [00:00<00:00, 24.78it/s, loss=0.00353, v_num=0, train_loss=0.00209, train_accuracy=1.000]"
     ]
    },
    {
     "name": "stderr",
     "output_type": "stream",
     "text": [
      "[2025-02-12 17:07:51] INFO (torcheeg/MainThread) \n",
      "[Train] train_loss: 0.003 train_accuracy: 1.000 \n",
      "\n"
     ]
    },
    {
     "name": "stdout",
     "output_type": "stream",
     "text": [
      "Epoch 18: 100%|██████████| 8/8 [00:00<00:00, 26.14it/s, loss=0.0035, v_num=0, train_loss=0.000841, train_accuracy=1.000]"
     ]
    },
    {
     "name": "stderr",
     "output_type": "stream",
     "text": [
      "Metric train_loss improved by 0.001 >= min_delta = 0.0. New best score: 0.001\n"
     ]
    },
    {
     "name": "stdout",
     "output_type": "stream",
     "text": [
      "Epoch 18: 100%|██████████| 8/8 [00:00<00:00, 26.01it/s, loss=0.0035, v_num=0, train_loss=0.000841, train_accuracy=1.000]"
     ]
    },
    {
     "name": "stderr",
     "output_type": "stream",
     "text": [
      "[2025-02-12 17:07:51] INFO (torcheeg/MainThread) \n",
      "[Train] train_loss: 0.004 train_accuracy: 1.000 \n",
      "\n"
     ]
    },
    {
     "name": "stdout",
     "output_type": "stream",
     "text": [
      "Epoch 19: 100%|██████████| 8/8 [00:00<00:00, 24.34it/s, loss=0.0037, v_num=0, train_loss=0.00169, train_accuracy=1.000] "
     ]
    },
    {
     "name": "stderr",
     "output_type": "stream",
     "text": [
      "[2025-02-12 17:07:52] INFO (torcheeg/MainThread) \n",
      "[Train] train_loss: 0.004 train_accuracy: 1.000 \n",
      "\n"
     ]
    },
    {
     "name": "stdout",
     "output_type": "stream",
     "text": [
      "Epoch 20: 100%|██████████| 8/8 [00:00<00:00, 24.46it/s, loss=0.00393, v_num=0, train_loss=0.00596, train_accuracy=1.000]"
     ]
    },
    {
     "name": "stderr",
     "output_type": "stream",
     "text": [
      "[2025-02-12 17:07:53] INFO (torcheeg/MainThread) \n",
      "[Train] train_loss: 0.003 train_accuracy: 1.000 \n",
      "\n"
     ]
    },
    {
     "name": "stdout",
     "output_type": "stream",
     "text": [
      "Epoch 21: 100%|██████████| 8/8 [00:00<00:00, 25.96it/s, loss=0.00383, v_num=0, train_loss=0.00118, train_accuracy=1.000]"
     ]
    },
    {
     "name": "stderr",
     "output_type": "stream",
     "text": [
      "[2025-02-12 17:07:54] INFO (torcheeg/MainThread) \n",
      "[Train] train_loss: 0.005 train_accuracy: 1.000 \n",
      "\n"
     ]
    },
    {
     "name": "stdout",
     "output_type": "stream",
     "text": [
      "Epoch 22: 100%|██████████| 8/8 [00:00<00:00, 22.75it/s, loss=0.0041, v_num=0, train_loss=0.00291, train_accuracy=1.000]  "
     ]
    },
    {
     "name": "stderr",
     "output_type": "stream",
     "text": [
      "[2025-02-12 17:07:55] INFO (torcheeg/MainThread) \n",
      "[Train] train_loss: 0.004 train_accuracy: 1.000 \n",
      "\n"
     ]
    },
    {
     "name": "stdout",
     "output_type": "stream",
     "text": [
      "Epoch 23: 100%|██████████| 8/8 [00:00<00:00, 24.40it/s, loss=0.00373, v_num=0, train_loss=0.00212, train_accuracy=1.000] "
     ]
    },
    {
     "name": "stderr",
     "output_type": "stream",
     "text": [
      "[2025-02-12 17:07:56] INFO (torcheeg/MainThread) \n",
      "[Train] train_loss: 0.003 train_accuracy: 1.000 \n",
      "\n"
     ]
    },
    {
     "name": "stdout",
     "output_type": "stream",
     "text": [
      "Epoch 24: 100%|██████████| 8/8 [00:00<00:00, 25.74it/s, loss=0.00328, v_num=0, train_loss=0.00211, train_accuracy=1.000] "
     ]
    },
    {
     "name": "stderr",
     "output_type": "stream",
     "text": [
      "[2025-02-12 17:07:57] INFO (torcheeg/MainThread) \n",
      "[Train] train_loss: 0.003 train_accuracy: 1.000 \n",
      "\n"
     ]
    },
    {
     "name": "stdout",
     "output_type": "stream",
     "text": [
      "Epoch 25: 100%|██████████| 8/8 [00:00<00:00, 25.58it/s, loss=0.00216, v_num=0, train_loss=0.00133, train_accuracy=1.000] "
     ]
    },
    {
     "name": "stderr",
     "output_type": "stream",
     "text": [
      "[2025-02-12 17:07:57] INFO (torcheeg/MainThread) \n",
      "[Train] train_loss: 0.002 train_accuracy: 1.000 \n",
      "\n"
     ]
    },
    {
     "name": "stdout",
     "output_type": "stream",
     "text": [
      "Epoch 26: 100%|██████████| 8/8 [00:00<00:00, 24.29it/s, loss=0.00368, v_num=0, train_loss=0.0366, train_accuracy=1.000]  "
     ]
    },
    {
     "name": "stderr",
     "output_type": "stream",
     "text": [
      "[2025-02-12 17:07:58] INFO (torcheeg/MainThread) \n",
      "[Train] train_loss: 0.006 train_accuracy: 1.000 \n",
      "\n"
     ]
    },
    {
     "name": "stdout",
     "output_type": "stream",
     "text": [
      "Epoch 27: 100%|██████████| 8/8 [00:00<00:00, 25.00it/s, loss=0.00337, v_num=0, train_loss=0.000564, train_accuracy=1.000]"
     ]
    },
    {
     "name": "stderr",
     "output_type": "stream",
     "text": [
      "Metric train_loss improved by 0.000 >= min_delta = 0.0. New best score: 0.001\n"
     ]
    },
    {
     "name": "stdout",
     "output_type": "stream",
     "text": [
      "Epoch 27: 100%|██████████| 8/8 [00:00<00:00, 24.87it/s, loss=0.00337, v_num=0, train_loss=0.000564, train_accuracy=1.000]"
     ]
    },
    {
     "name": "stderr",
     "output_type": "stream",
     "text": [
      "[2025-02-12 17:07:59] INFO (torcheeg/MainThread) \n",
      "[Train] train_loss: 0.002 train_accuracy: 1.000 \n",
      "\n"
     ]
    },
    {
     "name": "stdout",
     "output_type": "stream",
     "text": [
      "Epoch 28: 100%|██████████| 8/8 [00:00<00:00, 25.95it/s, loss=0.00353, v_num=0, train_loss=0.00134, train_accuracy=1.000] "
     ]
    },
    {
     "name": "stderr",
     "output_type": "stream",
     "text": [
      "[2025-02-12 17:08:00] INFO (torcheeg/MainThread) \n",
      "[Train] train_loss: 0.002 train_accuracy: 1.000 \n",
      "\n"
     ]
    },
    {
     "name": "stdout",
     "output_type": "stream",
     "text": [
      "Epoch 29: 100%|██████████| 8/8 [00:00<00:00, 24.35it/s, loss=0.00146, v_num=0, train_loss=0.00053, train_accuracy=1.000] "
     ]
    },
    {
     "name": "stderr",
     "output_type": "stream",
     "text": [
      "Metric train_loss improved by 0.000 >= min_delta = 0.0. New best score: 0.001\n"
     ]
    },
    {
     "name": "stdout",
     "output_type": "stream",
     "text": [
      "Epoch 29: 100%|██████████| 8/8 [00:00<00:00, 24.22it/s, loss=0.00146, v_num=0, train_loss=0.00053, train_accuracy=1.000]"
     ]
    },
    {
     "name": "stderr",
     "output_type": "stream",
     "text": [
      "[2025-02-12 17:08:01] INFO (torcheeg/MainThread) \n",
      "[Train] train_loss: 0.001 train_accuracy: 1.000 \n",
      "\n",
      "`Trainer.fit` stopped: `max_epochs=30` reached.\n"
     ]
    },
    {
     "name": "stdout",
     "output_type": "stream",
     "text": [
      "Epoch 29: 100%|██████████| 8/8 [00:00<00:00,  9.11it/s, loss=0.00146, v_num=0, train_loss=0.00053, train_accuracy=1.000]"
     ]
    },
    {
     "name": "stderr",
     "output_type": "stream",
     "text": [
      "GPU available: True (cuda), used: True\n",
      "TPU available: False, using: 0 TPU cores\n",
      "IPU available: False, using: 0 IPUs\n",
      "HPU available: False, using: 0 HPUs\n",
      "LOCAL_RANK: 0 - CUDA_VISIBLE_DEVICES: [0]\n",
      "/root/autodl-tmp/conda/envs/law/lib/python3.8/site-packages/pytorch_lightning/trainer/connectors/data_connector.py:224: PossibleUserWarning: The dataloader, test_dataloader 0, does not have many workers which may be a bottleneck. Consider increasing the value of the `num_workers` argument` (try 128 which is the number of cpus on this machine) in the `DataLoader` init to improve performance.\n",
      "  rank_zero_warn(\n"
     ]
    },
    {
     "name": "stdout",
     "output_type": "stream",
     "text": [
      "\n",
      "Testing DataLoader 0: 100%|██████████| 3/3 [00:00<00:00, 87.50it/s] "
     ]
    },
    {
     "name": "stderr",
     "output_type": "stream",
     "text": [
      "[2025-02-12 17:08:01] INFO (torcheeg/MainThread) \n",
      "[Test] test_loss: 1.014 test_accuracy: 0.825 \n",
      "\n"
     ]
    },
    {
     "name": "stdout",
     "output_type": "stream",
     "text": [
      "Testing DataLoader 0: 100%|██████████| 3/3 [00:00<00:00, 75.33it/s]\n",
      "────────────────────────────────────────────────────────────────────────────────────────────────────────────────────────\n",
      "       Test metric             DataLoader 0\n",
      "────────────────────────────────────────────────────────────────────────────────────────────────────────────────────────\n",
      "      test_accuracy          0.824999988079071\n",
      "        test_loss            1.014053463935852\n",
      "────────────────────────────────────────────────────────────────────────────────────────────────────────────────────────\n",
      "{'test_metric_avg': 0.7999999970197678, 'test_metric_std': 0.08838836029237385}\n"
     ]
    }
   ],
   "source": [
    "from model import SwinTransformer, SwinTransformer_D\n",
    "\n",
    "HYPERPARAMETERS = {\n",
    "    \"seed\": 42,\n",
    "    \"batch_size\": 16,\n",
    "    \"lr\": 1e-5,\n",
    "    \"weight_decay\": 1e-5,\n",
    "    \"num_epochs\": 30,\n",
    "}\n",
    "from torcheeg.model_selection import KFoldPerSubjectGroupbyTrial\n",
    "from pytorch_lightning.callbacks import ModelCheckpoint, EarlyStopping\n",
    "from torch.utils.data import DataLoader\n",
    "from torcheeg.trainers import ClassifierTrainer\n",
    "k_fold = KFoldPerSubjectGroupbyTrial(\n",
    "    n_splits=4,\n",
    "    shuffle=True,\n",
    "    random_state=42)\n",
    "\n",
    "training_metrics = []\n",
    "test_metrics = []\n",
    "\n",
    "for i, (training_dataset, test_dataset) in enumerate(k_fold.split(dataset)):\n",
    "    delete_folder_if_exists(target_folder_name='lightning_logs')\n",
    "    model = SwinTransformer(in_chans=128,\n",
    "                            window_size=3,\n",
    "                            num_classes=2,\n",
    "                            embed_dim=96,\n",
    "                            depths=(2, 2, 4, 2),\n",
    "                            num_heads=(2, 2, 4, 6)\n",
    "                            )\n",
    "    trainer = ClassifierTrainer(model=model,\n",
    "                                num_classes=2,\n",
    "                                lr=HYPERPARAMETERS['lr'],\n",
    "                                weight_decay=HYPERPARAMETERS['weight_decay'],\n",
    "                                metrics=[\"accuracy\"],\n",
    "                                accelerator=\"gpu\")\n",
    "    \n",
    "    training_loader = DataLoader(training_dataset,\n",
    "                             batch_size=HYPERPARAMETERS['batch_size'],\n",
    "                             shuffle=True)\n",
    "    test_loader = DataLoader(test_dataset,\n",
    "                             batch_size=HYPERPARAMETERS['batch_size'],\n",
    "                             shuffle=False)\n",
    "    # 提前停止回调\n",
    "    early_stopping_callback = EarlyStopping(\n",
    "        monitor='train_loss',\n",
    "        patience=10, \n",
    "        mode='min',\n",
    "        verbose=True\n",
    "    )\n",
    "    \n",
    "    trainer.fit(training_loader,\n",
    "                test_loader,\n",
    "                max_epochs=HYPERPARAMETERS['num_epochs'],\n",
    "                callbacks=[early_stopping_callback],\n",
    "                enable_progress_bar=True,\n",
    "                enable_model_summary=False,\n",
    "                limit_val_batches=0.0)\n",
    "    # training_result = trainer.test(training_loader,\n",
    "    #                                enable_progress_bar=True,\n",
    "    #                                enable_model_summary=True)[0]\n",
    "    test_result = trainer.test(test_loader,\n",
    "                               enable_progress_bar=True,\n",
    "                               enable_model_summary=True)[0]\n",
    "    # training_metrics.append(training_result[\"test_accuracy\"])\n",
    "    test_metrics.append(test_result[\"test_accuracy\"])\n",
    "     \n",
    "print({\n",
    "    # \"training_metric_avg\": np.mean(training_metrics),\n",
    "    # \"training_metric_std\": np.std(training_metrics),\n",
    "    \"test_metric_avg\": np.mean(test_metrics),\n",
    "    \"test_metric_std\": np.std(test_metrics)\n",
    "})"
   ]
  },
  {
   "cell_type": "code",
   "execution_count": 4,
   "metadata": {},
   "outputs": [
    {
     "name": "stdout",
     "output_type": "stream",
     "text": [
      "0 0.824999988079071\n",
      "1 0.8500000238418579\n",
      "2 0.699999988079071\n",
      "3 0.8500000238418579\n",
      "4 0.6000000238418579\n",
      "5 0.6000000238418579\n",
      "6 0.550000011920929\n",
      "7 0.550000011920929\n"
     ]
    }
   ],
   "source": [
    "for i, score in enumerate(test_metrics):\n",
    "    print(i,score)"
   ]
  }
 ],
 "metadata": {
  "kernelspec": {
   "display_name": "law",
   "language": "python",
   "name": "python3"
  },
  "language_info": {
   "codemirror_mode": {
    "name": "ipython",
    "version": 3
   },
   "file_extension": ".py",
   "mimetype": "text/x-python",
   "name": "python",
   "nbconvert_exporter": "python",
   "pygments_lexer": "ipython3",
   "version": "3.8.0"
  }
 },
 "nbformat": 4,
 "nbformat_minor": 2
}
