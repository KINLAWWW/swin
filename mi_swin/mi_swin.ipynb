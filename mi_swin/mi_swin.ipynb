{
 "cells": [
  {
   "cell_type": "code",
   "execution_count": 1,
   "metadata": {},
   "outputs": [
    {
     "name": "stderr",
     "output_type": "stream",
     "text": [
      "/root/autodl-tmp/conda/envs/law/lib/python3.8/site-packages/tqdm/auto.py:21: TqdmWarning: IProgress not found. Please update jupyter and ipywidgets. See https://ipywidgets.readthedocs.io/en/stable/user_install.html\n",
      "  from .autonotebook import tqdm as notebook_tqdm\n"
     ]
    },
    {
     "ename": "FileNotFoundError",
     "evalue": "[Errno 2] No such file or directory: '../kinlaw12/subdataset/participants.tsv'",
     "output_type": "error",
     "traceback": [
      "\u001b[0;31m---------------------------------------------------------------------------\u001b[0m",
      "\u001b[0;31mFileNotFoundError\u001b[0m                         Traceback (most recent call last)",
      "Cell \u001b[0;32mIn[1], line 14\u001b[0m\n\u001b[1;32m     10\u001b[0m \u001b[38;5;28;01mfrom\u001b[39;00m \u001b[38;5;21;01mbaseline\u001b[39;00m \u001b[38;5;28;01mimport\u001b[39;00m BaselineCorrection\n\u001b[1;32m     11\u001b[0m \u001b[38;5;28;01mfrom\u001b[39;00m \u001b[38;5;21;01mbase_transform\u001b[39;00m \u001b[38;5;28;01mimport\u001b[39;00m EEGTransform\n\u001b[0;32m---> 14\u001b[0m dataset \u001b[38;5;241m=\u001b[39m \u001b[43mStrokePatientsMIDataset\u001b[49m\u001b[43m(\u001b[49m\u001b[43mroot_path\u001b[49m\u001b[38;5;241;43m=\u001b[39;49m\u001b[38;5;124;43m'\u001b[39;49m\u001b[38;5;124;43m../kinlaw12/subdataset\u001b[39;49m\u001b[38;5;124;43m'\u001b[39;49m\u001b[43m,\u001b[49m\n\u001b[1;32m     15\u001b[0m \u001b[43m                        \u001b[49m\u001b[43mchunk_size\u001b[49m\u001b[38;5;241;43m=\u001b[39;49m\u001b[38;5;241;43m500\u001b[39;49m\u001b[43m,\u001b[49m\u001b[43m  \u001b[49m\u001b[38;5;66;43;03m# 1 second\u001b[39;49;00m\n\u001b[1;32m     16\u001b[0m \u001b[43m                        \u001b[49m\u001b[43moverlap\u001b[49m\u001b[43m \u001b[49m\u001b[38;5;241;43m=\u001b[39;49m\u001b[43m \u001b[49m\u001b[38;5;241;43m250\u001b[39;49m\u001b[43m,\u001b[49m\n\u001b[1;32m     17\u001b[0m \u001b[43m                        \u001b[49m\u001b[43moffline_transform\u001b[49m\u001b[38;5;241;43m=\u001b[39;49m\u001b[43mCompose\u001b[49m\u001b[43m(\u001b[49m\n\u001b[1;32m     18\u001b[0m \u001b[43m                                \u001b[49m\u001b[43m[\u001b[49m\u001b[43mBaselineCorrection\u001b[49m\u001b[43m(\u001b[49m\u001b[43m)\u001b[49m\u001b[43m,\u001b[49m\u001b[43mSetSamplingRate\u001b[49m\u001b[43m(\u001b[49m\u001b[38;5;241;43m500\u001b[39;49m\u001b[43m,\u001b[49m\u001b[38;5;241;43m484\u001b[39;49m\u001b[43m)\u001b[49m\u001b[43m,\u001b[49m\n\u001b[1;32m     19\u001b[0m \u001b[43m                                \u001b[49m\u001b[43mBandSignal\u001b[49m\u001b[43m(\u001b[49m\u001b[43msampling_rate\u001b[49m\u001b[38;5;241;43m=\u001b[39;49m\u001b[38;5;241;43m484\u001b[39;49m\u001b[43m,\u001b[49m\u001b[43mband_dict\u001b[49m\u001b[38;5;241;43m=\u001b[39;49m\u001b[43m{\u001b[49m\u001b[38;5;124;43m'\u001b[39;49m\u001b[38;5;124;43mfrequency_range\u001b[39;49m\u001b[38;5;124;43m'\u001b[39;49m\u001b[43m:\u001b[49m\u001b[43m[\u001b[49m\u001b[38;5;241;43m8\u001b[39;49m\u001b[43m,\u001b[49m\u001b[38;5;241;43m40\u001b[39;49m\u001b[43m]\u001b[49m\u001b[43m}\u001b[49m\u001b[43m)\u001b[49m\u001b[43m]\u001b[49m\u001b[43m)\u001b[49m\u001b[43m,\u001b[49m\n\u001b[1;32m     20\u001b[0m \u001b[43m                        \u001b[49m\u001b[43monline_transform\u001b[49m\u001b[38;5;241;43m=\u001b[39;49m\u001b[43mCompose\u001b[49m\u001b[43m(\u001b[49m\n\u001b[1;32m     21\u001b[0m \u001b[43m                                \u001b[49m\u001b[43m[\u001b[49m\u001b[43mToTensor\u001b[49m\u001b[43m(\u001b[49m\u001b[43m)\u001b[49m\u001b[43m]\u001b[49m\u001b[43m)\u001b[49m\u001b[43m,\u001b[49m\n\u001b[1;32m     22\u001b[0m \u001b[43m                \u001b[49m\n\u001b[1;32m     23\u001b[0m \u001b[43m                        \u001b[49m\u001b[43mlabel_transform\u001b[49m\u001b[38;5;241;43m=\u001b[39;49m\u001b[43mSelect\u001b[49m\u001b[43m(\u001b[49m\u001b[38;5;124;43m'\u001b[39;49m\u001b[38;5;124;43mlabel\u001b[39;49m\u001b[38;5;124;43m'\u001b[39;49m\u001b[43m)\u001b[49m\u001b[43m,\u001b[49m\n\u001b[1;32m     24\u001b[0m \u001b[43m                        \u001b[49m\u001b[43mnum_worker\u001b[49m\u001b[38;5;241;43m=\u001b[39;49m\u001b[38;5;241;43m8\u001b[39;49m\n\u001b[1;32m     25\u001b[0m \u001b[43m)\u001b[49m\n\u001b[1;32m     26\u001b[0m \u001b[38;5;28mprint\u001b[39m(dataset[\u001b[38;5;241m0\u001b[39m][\u001b[38;5;241m0\u001b[39m]\u001b[38;5;241m.\u001b[39mshape) \u001b[38;5;66;03m#EEG shape(1,30,500)\u001b[39;00m\n\u001b[1;32m     27\u001b[0m \u001b[38;5;28mprint\u001b[39m(dataset[\u001b[38;5;241m0\u001b[39m][\u001b[38;5;241m1\u001b[39m])  \u001b[38;5;66;03m# label (int)\u001b[39;00m\n",
      "File \u001b[0;32m~/autodl-tmp/.autodl/kinlaw/mi_swin/strokes.py:82\u001b[0m, in \u001b[0;36mStrokePatientsMIDataset.__init__\u001b[0;34m(self, root_path, chunk_size, overlap, online_transform, offline_transform, label_transform, before_trial, after_trial, after_session, after_subject, io_path, io_size, io_mode, num_worker, verbose)\u001b[0m\n\u001b[1;32m     79\u001b[0m \u001b[38;5;28;01mif\u001b[39;00m io_path \u001b[38;5;129;01mis\u001b[39;00m \u001b[38;5;28;01mNone\u001b[39;00m:\n\u001b[1;32m     80\u001b[0m     io_path \u001b[38;5;241m=\u001b[39m get_random_dir_path(dir_prefix\u001b[38;5;241m=\u001b[39m\u001b[38;5;124m'\u001b[39m\u001b[38;5;124mdatasets\u001b[39m\u001b[38;5;124m'\u001b[39m)\n\u001b[0;32m---> 82\u001b[0m \u001b[38;5;28mself\u001b[39m\u001b[38;5;241m.\u001b[39msubjects_info \u001b[38;5;241m=\u001b[39m \u001b[43mpd\u001b[49m\u001b[38;5;241;43m.\u001b[39;49m\u001b[43mread_csv\u001b[49m\u001b[43m(\u001b[49m\u001b[43mos\u001b[49m\u001b[38;5;241;43m.\u001b[39;49m\u001b[43mpath\u001b[49m\u001b[38;5;241;43m.\u001b[39;49m\u001b[43mjoin\u001b[49m\u001b[43m(\u001b[49m\u001b[43mroot_path\u001b[49m\u001b[43m,\u001b[49m\n\u001b[1;32m     83\u001b[0m \u001b[43m                                              \u001b[49m\u001b[38;5;124;43m'\u001b[39;49m\u001b[38;5;124;43mparticipants.tsv\u001b[39;49m\u001b[38;5;124;43m'\u001b[39;49m\u001b[43m)\u001b[49m\u001b[43m,\u001b[49m\n\u001b[1;32m     84\u001b[0m \u001b[43m                                 \u001b[49m\u001b[43msep\u001b[49m\u001b[38;5;241;43m=\u001b[39;49m\u001b[38;5;124;43m'\u001b[39;49m\u001b[38;5;130;43;01m\\t\u001b[39;49;00m\u001b[38;5;124;43m'\u001b[39;49m\u001b[43m)\u001b[49m\n\u001b[1;32m     85\u001b[0m \u001b[38;5;28mself\u001b[39m\u001b[38;5;241m.\u001b[39melectodes_info \u001b[38;5;241m=\u001b[39m pd\u001b[38;5;241m.\u001b[39mread_csv(os\u001b[38;5;241m.\u001b[39mpath\u001b[38;5;241m.\u001b[39mjoin(\n\u001b[1;32m     86\u001b[0m     root_path, \u001b[38;5;124m\"\u001b[39m\u001b[38;5;124mtask-motor-imagery_electrodes.tsv\u001b[39m\u001b[38;5;124m\"\u001b[39m),\n\u001b[1;32m     87\u001b[0m                                   sep\u001b[38;5;241m=\u001b[39m\u001b[38;5;124m'\u001b[39m\u001b[38;5;130;01m\\t\u001b[39;00m\u001b[38;5;124m'\u001b[39m)\n\u001b[1;32m     88\u001b[0m electodes_info2 \u001b[38;5;241m=\u001b[39m pd\u001b[38;5;241m.\u001b[39mread_csv(os\u001b[38;5;241m.\u001b[39mpath\u001b[38;5;241m.\u001b[39mjoin(\n\u001b[1;32m     89\u001b[0m     root_path, \u001b[38;5;124m\"\u001b[39m\u001b[38;5;124mtask-motor-imagery_channels.tsv\u001b[39m\u001b[38;5;124m\"\u001b[39m),\n\u001b[1;32m     90\u001b[0m                               sep\u001b[38;5;241m=\u001b[39m\u001b[38;5;124m'\u001b[39m\u001b[38;5;130;01m\\t\u001b[39;00m\u001b[38;5;124m'\u001b[39m)\n",
      "File \u001b[0;32m~/autodl-tmp/conda/envs/law/lib/python3.8/site-packages/pandas/io/parsers/readers.py:912\u001b[0m, in \u001b[0;36mread_csv\u001b[0;34m(filepath_or_buffer, sep, delimiter, header, names, index_col, usecols, dtype, engine, converters, true_values, false_values, skipinitialspace, skiprows, skipfooter, nrows, na_values, keep_default_na, na_filter, verbose, skip_blank_lines, parse_dates, infer_datetime_format, keep_date_col, date_parser, date_format, dayfirst, cache_dates, iterator, chunksize, compression, thousands, decimal, lineterminator, quotechar, quoting, doublequote, escapechar, comment, encoding, encoding_errors, dialect, on_bad_lines, delim_whitespace, low_memory, memory_map, float_precision, storage_options, dtype_backend)\u001b[0m\n\u001b[1;32m    899\u001b[0m kwds_defaults \u001b[38;5;241m=\u001b[39m _refine_defaults_read(\n\u001b[1;32m    900\u001b[0m     dialect,\n\u001b[1;32m    901\u001b[0m     delimiter,\n\u001b[0;32m   (...)\u001b[0m\n\u001b[1;32m    908\u001b[0m     dtype_backend\u001b[38;5;241m=\u001b[39mdtype_backend,\n\u001b[1;32m    909\u001b[0m )\n\u001b[1;32m    910\u001b[0m kwds\u001b[38;5;241m.\u001b[39mupdate(kwds_defaults)\n\u001b[0;32m--> 912\u001b[0m \u001b[38;5;28;01mreturn\u001b[39;00m \u001b[43m_read\u001b[49m\u001b[43m(\u001b[49m\u001b[43mfilepath_or_buffer\u001b[49m\u001b[43m,\u001b[49m\u001b[43m \u001b[49m\u001b[43mkwds\u001b[49m\u001b[43m)\u001b[49m\n",
      "File \u001b[0;32m~/autodl-tmp/conda/envs/law/lib/python3.8/site-packages/pandas/io/parsers/readers.py:577\u001b[0m, in \u001b[0;36m_read\u001b[0;34m(filepath_or_buffer, kwds)\u001b[0m\n\u001b[1;32m    574\u001b[0m _validate_names(kwds\u001b[38;5;241m.\u001b[39mget(\u001b[38;5;124m\"\u001b[39m\u001b[38;5;124mnames\u001b[39m\u001b[38;5;124m\"\u001b[39m, \u001b[38;5;28;01mNone\u001b[39;00m))\n\u001b[1;32m    576\u001b[0m \u001b[38;5;66;03m# Create the parser.\u001b[39;00m\n\u001b[0;32m--> 577\u001b[0m parser \u001b[38;5;241m=\u001b[39m \u001b[43mTextFileReader\u001b[49m\u001b[43m(\u001b[49m\u001b[43mfilepath_or_buffer\u001b[49m\u001b[43m,\u001b[49m\u001b[43m \u001b[49m\u001b[38;5;241;43m*\u001b[39;49m\u001b[38;5;241;43m*\u001b[39;49m\u001b[43mkwds\u001b[49m\u001b[43m)\u001b[49m\n\u001b[1;32m    579\u001b[0m \u001b[38;5;28;01mif\u001b[39;00m chunksize \u001b[38;5;129;01mor\u001b[39;00m iterator:\n\u001b[1;32m    580\u001b[0m     \u001b[38;5;28;01mreturn\u001b[39;00m parser\n",
      "File \u001b[0;32m~/autodl-tmp/conda/envs/law/lib/python3.8/site-packages/pandas/io/parsers/readers.py:1407\u001b[0m, in \u001b[0;36mTextFileReader.__init__\u001b[0;34m(self, f, engine, **kwds)\u001b[0m\n\u001b[1;32m   1404\u001b[0m     \u001b[38;5;28mself\u001b[39m\u001b[38;5;241m.\u001b[39moptions[\u001b[38;5;124m\"\u001b[39m\u001b[38;5;124mhas_index_names\u001b[39m\u001b[38;5;124m\"\u001b[39m] \u001b[38;5;241m=\u001b[39m kwds[\u001b[38;5;124m\"\u001b[39m\u001b[38;5;124mhas_index_names\u001b[39m\u001b[38;5;124m\"\u001b[39m]\n\u001b[1;32m   1406\u001b[0m \u001b[38;5;28mself\u001b[39m\u001b[38;5;241m.\u001b[39mhandles: IOHandles \u001b[38;5;241m|\u001b[39m \u001b[38;5;28;01mNone\u001b[39;00m \u001b[38;5;241m=\u001b[39m \u001b[38;5;28;01mNone\u001b[39;00m\n\u001b[0;32m-> 1407\u001b[0m \u001b[38;5;28mself\u001b[39m\u001b[38;5;241m.\u001b[39m_engine \u001b[38;5;241m=\u001b[39m \u001b[38;5;28;43mself\u001b[39;49m\u001b[38;5;241;43m.\u001b[39;49m\u001b[43m_make_engine\u001b[49m\u001b[43m(\u001b[49m\u001b[43mf\u001b[49m\u001b[43m,\u001b[49m\u001b[43m \u001b[49m\u001b[38;5;28;43mself\u001b[39;49m\u001b[38;5;241;43m.\u001b[39;49m\u001b[43mengine\u001b[49m\u001b[43m)\u001b[49m\n",
      "File \u001b[0;32m~/autodl-tmp/conda/envs/law/lib/python3.8/site-packages/pandas/io/parsers/readers.py:1661\u001b[0m, in \u001b[0;36mTextFileReader._make_engine\u001b[0;34m(self, f, engine)\u001b[0m\n\u001b[1;32m   1659\u001b[0m     \u001b[38;5;28;01mif\u001b[39;00m \u001b[38;5;124m\"\u001b[39m\u001b[38;5;124mb\u001b[39m\u001b[38;5;124m\"\u001b[39m \u001b[38;5;129;01mnot\u001b[39;00m \u001b[38;5;129;01min\u001b[39;00m mode:\n\u001b[1;32m   1660\u001b[0m         mode \u001b[38;5;241m+\u001b[39m\u001b[38;5;241m=\u001b[39m \u001b[38;5;124m\"\u001b[39m\u001b[38;5;124mb\u001b[39m\u001b[38;5;124m\"\u001b[39m\n\u001b[0;32m-> 1661\u001b[0m \u001b[38;5;28mself\u001b[39m\u001b[38;5;241m.\u001b[39mhandles \u001b[38;5;241m=\u001b[39m \u001b[43mget_handle\u001b[49m\u001b[43m(\u001b[49m\n\u001b[1;32m   1662\u001b[0m \u001b[43m    \u001b[49m\u001b[43mf\u001b[49m\u001b[43m,\u001b[49m\n\u001b[1;32m   1663\u001b[0m \u001b[43m    \u001b[49m\u001b[43mmode\u001b[49m\u001b[43m,\u001b[49m\n\u001b[1;32m   1664\u001b[0m \u001b[43m    \u001b[49m\u001b[43mencoding\u001b[49m\u001b[38;5;241;43m=\u001b[39;49m\u001b[38;5;28;43mself\u001b[39;49m\u001b[38;5;241;43m.\u001b[39;49m\u001b[43moptions\u001b[49m\u001b[38;5;241;43m.\u001b[39;49m\u001b[43mget\u001b[49m\u001b[43m(\u001b[49m\u001b[38;5;124;43m\"\u001b[39;49m\u001b[38;5;124;43mencoding\u001b[39;49m\u001b[38;5;124;43m\"\u001b[39;49m\u001b[43m,\u001b[49m\u001b[43m \u001b[49m\u001b[38;5;28;43;01mNone\u001b[39;49;00m\u001b[43m)\u001b[49m\u001b[43m,\u001b[49m\n\u001b[1;32m   1665\u001b[0m \u001b[43m    \u001b[49m\u001b[43mcompression\u001b[49m\u001b[38;5;241;43m=\u001b[39;49m\u001b[38;5;28;43mself\u001b[39;49m\u001b[38;5;241;43m.\u001b[39;49m\u001b[43moptions\u001b[49m\u001b[38;5;241;43m.\u001b[39;49m\u001b[43mget\u001b[49m\u001b[43m(\u001b[49m\u001b[38;5;124;43m\"\u001b[39;49m\u001b[38;5;124;43mcompression\u001b[39;49m\u001b[38;5;124;43m\"\u001b[39;49m\u001b[43m,\u001b[49m\u001b[43m \u001b[49m\u001b[38;5;28;43;01mNone\u001b[39;49;00m\u001b[43m)\u001b[49m\u001b[43m,\u001b[49m\n\u001b[1;32m   1666\u001b[0m \u001b[43m    \u001b[49m\u001b[43mmemory_map\u001b[49m\u001b[38;5;241;43m=\u001b[39;49m\u001b[38;5;28;43mself\u001b[39;49m\u001b[38;5;241;43m.\u001b[39;49m\u001b[43moptions\u001b[49m\u001b[38;5;241;43m.\u001b[39;49m\u001b[43mget\u001b[49m\u001b[43m(\u001b[49m\u001b[38;5;124;43m\"\u001b[39;49m\u001b[38;5;124;43mmemory_map\u001b[39;49m\u001b[38;5;124;43m\"\u001b[39;49m\u001b[43m,\u001b[49m\u001b[43m \u001b[49m\u001b[38;5;28;43;01mFalse\u001b[39;49;00m\u001b[43m)\u001b[49m\u001b[43m,\u001b[49m\n\u001b[1;32m   1667\u001b[0m \u001b[43m    \u001b[49m\u001b[43mis_text\u001b[49m\u001b[38;5;241;43m=\u001b[39;49m\u001b[43mis_text\u001b[49m\u001b[43m,\u001b[49m\n\u001b[1;32m   1668\u001b[0m \u001b[43m    \u001b[49m\u001b[43merrors\u001b[49m\u001b[38;5;241;43m=\u001b[39;49m\u001b[38;5;28;43mself\u001b[39;49m\u001b[38;5;241;43m.\u001b[39;49m\u001b[43moptions\u001b[49m\u001b[38;5;241;43m.\u001b[39;49m\u001b[43mget\u001b[49m\u001b[43m(\u001b[49m\u001b[38;5;124;43m\"\u001b[39;49m\u001b[38;5;124;43mencoding_errors\u001b[39;49m\u001b[38;5;124;43m\"\u001b[39;49m\u001b[43m,\u001b[49m\u001b[43m \u001b[49m\u001b[38;5;124;43m\"\u001b[39;49m\u001b[38;5;124;43mstrict\u001b[39;49m\u001b[38;5;124;43m\"\u001b[39;49m\u001b[43m)\u001b[49m\u001b[43m,\u001b[49m\n\u001b[1;32m   1669\u001b[0m \u001b[43m    \u001b[49m\u001b[43mstorage_options\u001b[49m\u001b[38;5;241;43m=\u001b[39;49m\u001b[38;5;28;43mself\u001b[39;49m\u001b[38;5;241;43m.\u001b[39;49m\u001b[43moptions\u001b[49m\u001b[38;5;241;43m.\u001b[39;49m\u001b[43mget\u001b[49m\u001b[43m(\u001b[49m\u001b[38;5;124;43m\"\u001b[39;49m\u001b[38;5;124;43mstorage_options\u001b[39;49m\u001b[38;5;124;43m\"\u001b[39;49m\u001b[43m,\u001b[49m\u001b[43m \u001b[49m\u001b[38;5;28;43;01mNone\u001b[39;49;00m\u001b[43m)\u001b[49m\u001b[43m,\u001b[49m\n\u001b[1;32m   1670\u001b[0m \u001b[43m\u001b[49m\u001b[43m)\u001b[49m\n\u001b[1;32m   1671\u001b[0m \u001b[38;5;28;01massert\u001b[39;00m \u001b[38;5;28mself\u001b[39m\u001b[38;5;241m.\u001b[39mhandles \u001b[38;5;129;01mis\u001b[39;00m \u001b[38;5;129;01mnot\u001b[39;00m \u001b[38;5;28;01mNone\u001b[39;00m\n\u001b[1;32m   1672\u001b[0m f \u001b[38;5;241m=\u001b[39m \u001b[38;5;28mself\u001b[39m\u001b[38;5;241m.\u001b[39mhandles\u001b[38;5;241m.\u001b[39mhandle\n",
      "File \u001b[0;32m~/autodl-tmp/conda/envs/law/lib/python3.8/site-packages/pandas/io/common.py:859\u001b[0m, in \u001b[0;36mget_handle\u001b[0;34m(path_or_buf, mode, encoding, compression, memory_map, is_text, errors, storage_options)\u001b[0m\n\u001b[1;32m    854\u001b[0m \u001b[38;5;28;01melif\u001b[39;00m \u001b[38;5;28misinstance\u001b[39m(handle, \u001b[38;5;28mstr\u001b[39m):\n\u001b[1;32m    855\u001b[0m     \u001b[38;5;66;03m# Check whether the filename is to be opened in binary mode.\u001b[39;00m\n\u001b[1;32m    856\u001b[0m     \u001b[38;5;66;03m# Binary mode does not support 'encoding' and 'newline'.\u001b[39;00m\n\u001b[1;32m    857\u001b[0m     \u001b[38;5;28;01mif\u001b[39;00m ioargs\u001b[38;5;241m.\u001b[39mencoding \u001b[38;5;129;01mand\u001b[39;00m \u001b[38;5;124m\"\u001b[39m\u001b[38;5;124mb\u001b[39m\u001b[38;5;124m\"\u001b[39m \u001b[38;5;129;01mnot\u001b[39;00m \u001b[38;5;129;01min\u001b[39;00m ioargs\u001b[38;5;241m.\u001b[39mmode:\n\u001b[1;32m    858\u001b[0m         \u001b[38;5;66;03m# Encoding\u001b[39;00m\n\u001b[0;32m--> 859\u001b[0m         handle \u001b[38;5;241m=\u001b[39m \u001b[38;5;28;43mopen\u001b[39;49m\u001b[43m(\u001b[49m\n\u001b[1;32m    860\u001b[0m \u001b[43m            \u001b[49m\u001b[43mhandle\u001b[49m\u001b[43m,\u001b[49m\n\u001b[1;32m    861\u001b[0m \u001b[43m            \u001b[49m\u001b[43mioargs\u001b[49m\u001b[38;5;241;43m.\u001b[39;49m\u001b[43mmode\u001b[49m\u001b[43m,\u001b[49m\n\u001b[1;32m    862\u001b[0m \u001b[43m            \u001b[49m\u001b[43mencoding\u001b[49m\u001b[38;5;241;43m=\u001b[39;49m\u001b[43mioargs\u001b[49m\u001b[38;5;241;43m.\u001b[39;49m\u001b[43mencoding\u001b[49m\u001b[43m,\u001b[49m\n\u001b[1;32m    863\u001b[0m \u001b[43m            \u001b[49m\u001b[43merrors\u001b[49m\u001b[38;5;241;43m=\u001b[39;49m\u001b[43merrors\u001b[49m\u001b[43m,\u001b[49m\n\u001b[1;32m    864\u001b[0m \u001b[43m            \u001b[49m\u001b[43mnewline\u001b[49m\u001b[38;5;241;43m=\u001b[39;49m\u001b[38;5;124;43m\"\u001b[39;49m\u001b[38;5;124;43m\"\u001b[39;49m\u001b[43m,\u001b[49m\n\u001b[1;32m    865\u001b[0m \u001b[43m        \u001b[49m\u001b[43m)\u001b[49m\n\u001b[1;32m    866\u001b[0m     \u001b[38;5;28;01melse\u001b[39;00m:\n\u001b[1;32m    867\u001b[0m         \u001b[38;5;66;03m# Binary mode\u001b[39;00m\n\u001b[1;32m    868\u001b[0m         handle \u001b[38;5;241m=\u001b[39m \u001b[38;5;28mopen\u001b[39m(handle, ioargs\u001b[38;5;241m.\u001b[39mmode)\n",
      "\u001b[0;31mFileNotFoundError\u001b[0m: [Errno 2] No such file or directory: '../kinlaw12/subdataset/participants.tsv'"
     ]
    }
   ],
   "source": [
    "from strokes import StrokePatientsMIDataset\n",
    "import scipy\n",
    "from strokesdict import STROKEPATIENTSMI_LOCATION_DICT\n",
    "from torcheeg.transforms import  Select,BandSignal,Compose,Lambda,ToTensor,BandDifferentialEntropy,Resize\n",
    "from to import ToGrid\n",
    "from typing import Callable, Dict, Union, List\n",
    "import numpy as np\n",
    "import soxr\n",
    "from downsample import SetSamplingRate\n",
    "from baseline import BaselineCorrection\n",
    "from base_transform import EEGTransform\n",
    "    \n",
    "\n",
    "dataset = StrokePatientsMIDataset(root_path='../kinlaw12/subdataset',\n",
    "                        chunk_size=500,  # 1 second\n",
    "                        overlap = 250,\n",
    "                        offline_transform=Compose(\n",
    "                                [BaselineCorrection(),SetSamplingRate(500,484),\n",
    "                                BandSignal(sampling_rate=484,band_dict={'frequency_range':[8,40]})]),\n",
    "                        online_transform=Compose(\n",
    "                                [ToTensor()]),\n",
    "                \n",
    "                        label_transform=Select('label'),\n",
    "                        num_worker=8\n",
    ")\n",
    "print(dataset[0][0].shape) #EEG shape(1,30,500)\n",
    "print(dataset[0][1])  # label (int)\n",
    "print(len(dataset))"
   ]
  },
  {
   "cell_type": "code",
   "execution_count": 1,
   "metadata": {},
   "outputs": [
    {
     "name": "stderr",
     "output_type": "stream",
     "text": [
      "/root/autodl-tmp/conda/envs/law/lib/python3.8/site-packages/tqdm/auto.py:21: TqdmWarning: IProgress not found. Please update jupyter and ipywidgets. See https://ipywidgets.readthedocs.io/en/stable/user_install.html\n",
      "  from .autonotebook import tqdm as notebook_tqdm\n",
      "[2024-12-01 21:49:46] INFO (torcheeg/MainThread) 🔍 | Detected cached processing results, reading cache from .torcheeg/datasets_1733052246128_H21dG.\n"
     ]
    },
    {
     "name": "stdout",
     "output_type": "stream",
     "text": [
      "torch.Size([128, 6, 7])\n"
     ]
    }
   ],
   "source": [
    "from torcheeg.datasets import BCICIV2aDataset\n",
    "from torcheeg import transforms\n",
    "from torcheeg.datasets.constants.motor_imagery.bciciv_2a import  BCICIV2A_LOCATION_DICT\n",
    "from downsample import SetSamplingRate\n",
    "from baseline import BaselineCorrection\n",
    "\n",
    "dataset = BCICIV2aDataset(root_path='.././BCIdataset',\n",
    "                          io_path='.torcheeg/datasets_1733052246128_H21dG',\n",
    "                          offline_transform=transforms.Compose(\n",
    "                              [BaselineCorrection(),SetSamplingRate(1750,128)]),\n",
    "                          online_transform=transforms.Compose([\n",
    "                              transforms.ToGrid(BCICIV2A_LOCATION_DICT),\n",
    "                              transforms.ToTensor()\n",
    "                          ]),\n",
    "                          label_transform=transforms.Compose([\n",
    "                              transforms.Select('label'),\n",
    "                              transforms.Lambda(lambda x: x - 1)\n",
    "                          ]))\n",
    "print(dataset[0][0].shape)\n",
    "# EEG signal (torch.Tensor[1, 22, 1750])\n",
    "# label (int)"
   ]
  },
  {
   "cell_type": "code",
   "execution_count": 2,
   "metadata": {},
   "outputs": [
    {
     "name": "stdout",
     "output_type": "stream",
     "text": [
      "torch.Size([1, 30, 484])\n"
     ]
    }
   ],
   "source": [
    "print(dataset[0][0].shape)"
   ]
  },
  {
   "cell_type": "code",
   "execution_count": 5,
   "metadata": {},
   "outputs": [],
   "source": [
    "import sys\n",
    "import os\n",
    "\n",
    "# 将上上级目录添加到 sys.path\n",
    "sys.path.append(os.path.abspath(os.path.join(os.getcwd(), '../')))\n",
    "\n",
    "# 现在可以导入 dwc_codes\n",
    "from dwc_codes.SEALtrainer import SEALClassifierTrainer"
   ]
  },
  {
   "cell_type": "code",
   "execution_count": 2,
   "metadata": {},
   "outputs": [],
   "source": [
    "HYPERPARAMETERS = {\n",
    "    \"seed\": 42,\n",
    "    \"batch_size\": 32,\n",
    "    \"lr\": 1e-4,\n",
    "    \"weight_decay\": 0,\n",
    "    \"num_epochs\": 100,\n",
    "}"
   ]
  },
  {
   "cell_type": "code",
   "execution_count": 3,
   "metadata": {},
   "outputs": [],
   "source": [
    "from eca import ECA\n",
    "from model import SwinTransformer\n",
    "import torch\n",
    "import torch.nn as nn\n",
    "\n",
    "class ECASwinTransformerModel(nn.Module):\n",
    "    def __init__(self, num_channels):\n",
    "        super(ECASwinTransformerModel, self).__init__()\n",
    "        self.eca = ECA(input_size=484,num_attention_heads=2,hidden_size=484,hidden_dropout_prob=0.5)\n",
    "        self.swin_transformer = SwinTransformer(\n",
    "                                                in_chans=30,\n",
    "                                                num_classes=2,\n",
    "                                                embed_dim=192,\n",
    "                                                depths=(2, 2, 18, 2),\n",
    "                                                num_heads=(6, 12, 24, 48),\n",
    "                                                # patch_size=3,\n",
    "                                                # window_size=4,\n",
    "                                                # drop_rate=0.2,\n",
    "                                                # attn_drop_rate=0.5,\n",
    "                                                # mlp_ratio=2,\n",
    "                                                # qkv_bias=True,\n",
    "                                                # drop_path_rate=0.2,\n",
    "                                                )\n",
    "\n",
    "    def forward(self, x):\n",
    "        # x shape: (batch_size, channels, time)\n",
    "        x = x.view(x.size(0),30,484)\n",
    "        x = self.eca(x)\n",
    "        # Reshape for Swin Transformer\n",
    "        x = x.view(x.size(0),30,22,22)\n",
    "        x = self.swin_transformer(x)\n",
    "        return x"
   ]
  },
  {
   "cell_type": "code",
   "execution_count": 3,
   "metadata": {},
   "outputs": [
    {
     "name": "stderr",
     "output_type": "stream",
     "text": [
      "/root/autodl-tmp/conda/envs/law/lib/python3.8/site-packages/torch/functional.py:568: UserWarning: torch.meshgrid: in an upcoming release, it will be required to pass the indexing argument. (Triggered internally at  /opt/conda/conda-bld/pytorch_1646755903507/work/aten/src/ATen/native/TensorShape.cpp:2228.)\n",
      "  return _VF.meshgrid(tensors, **kwargs)  # type: ignore[attr-defined]\n"
     ]
    },
    {
     "name": "stdout",
     "output_type": "stream",
     "text": [
      "Parameter: eca.query.weight, requires_grad: True\n",
      "Parameter: eca.query.bias, requires_grad: True\n",
      "Parameter: eca.key.weight, requires_grad: True\n",
      "Parameter: eca.key.bias, requires_grad: True\n",
      "Parameter: eca.value.weight, requires_grad: True\n",
      "Parameter: eca.value.bias, requires_grad: True\n",
      "Parameter: eca.dense.weight, requires_grad: True\n",
      "Parameter: eca.dense.bias, requires_grad: True\n",
      "Parameter: eca.LayerNorm.weight, requires_grad: True\n",
      "Parameter: eca.LayerNorm.bias, requires_grad: True\n",
      "Parameter: swin_transformer.patch_embed.proj.weight, requires_grad: True\n",
      "Parameter: swin_transformer.patch_embed.proj.bias, requires_grad: True\n",
      "Parameter: swin_transformer.patch_embed.norm.weight, requires_grad: True\n",
      "Parameter: swin_transformer.patch_embed.norm.bias, requires_grad: True\n",
      "Parameter: swin_transformer.layers.0.blocks.0.norm1.weight, requires_grad: True\n",
      "Parameter: swin_transformer.layers.0.blocks.0.norm1.bias, requires_grad: True\n",
      "Parameter: swin_transformer.layers.0.blocks.0.attn.relative_position_bias_table, requires_grad: True\n",
      "Parameter: swin_transformer.layers.0.blocks.0.attn.qkv.weight, requires_grad: True\n",
      "Parameter: swin_transformer.layers.0.blocks.0.attn.qkv.bias, requires_grad: True\n",
      "Parameter: swin_transformer.layers.0.blocks.0.attn.proj.weight, requires_grad: True\n",
      "Parameter: swin_transformer.layers.0.blocks.0.attn.proj.bias, requires_grad: True\n",
      "Parameter: swin_transformer.layers.0.blocks.0.norm2.weight, requires_grad: True\n",
      "Parameter: swin_transformer.layers.0.blocks.0.norm2.bias, requires_grad: True\n",
      "Parameter: swin_transformer.layers.0.blocks.0.mlp.fc1.weight, requires_grad: True\n",
      "Parameter: swin_transformer.layers.0.blocks.0.mlp.fc1.bias, requires_grad: True\n",
      "Parameter: swin_transformer.layers.0.blocks.0.mlp.fc2.weight, requires_grad: True\n",
      "Parameter: swin_transformer.layers.0.blocks.0.mlp.fc2.bias, requires_grad: True\n",
      "Parameter: swin_transformer.layers.0.blocks.1.norm1.weight, requires_grad: True\n",
      "Parameter: swin_transformer.layers.0.blocks.1.norm1.bias, requires_grad: True\n",
      "Parameter: swin_transformer.layers.0.blocks.1.attn.relative_position_bias_table, requires_grad: True\n",
      "Parameter: swin_transformer.layers.0.blocks.1.attn.qkv.weight, requires_grad: True\n",
      "Parameter: swin_transformer.layers.0.blocks.1.attn.qkv.bias, requires_grad: True\n",
      "Parameter: swin_transformer.layers.0.blocks.1.attn.proj.weight, requires_grad: True\n",
      "Parameter: swin_transformer.layers.0.blocks.1.attn.proj.bias, requires_grad: True\n",
      "Parameter: swin_transformer.layers.0.blocks.1.norm2.weight, requires_grad: True\n",
      "Parameter: swin_transformer.layers.0.blocks.1.norm2.bias, requires_grad: True\n",
      "Parameter: swin_transformer.layers.0.blocks.1.mlp.fc1.weight, requires_grad: True\n",
      "Parameter: swin_transformer.layers.0.blocks.1.mlp.fc1.bias, requires_grad: True\n",
      "Parameter: swin_transformer.layers.0.blocks.1.mlp.fc2.weight, requires_grad: True\n",
      "Parameter: swin_transformer.layers.0.blocks.1.mlp.fc2.bias, requires_grad: True\n",
      "Parameter: swin_transformer.layers.0.downsample.reduction.weight, requires_grad: True\n",
      "Parameter: swin_transformer.layers.0.downsample.norm.weight, requires_grad: True\n",
      "Parameter: swin_transformer.layers.0.downsample.norm.bias, requires_grad: True\n",
      "Parameter: swin_transformer.layers.1.blocks.0.norm1.weight, requires_grad: True\n",
      "Parameter: swin_transformer.layers.1.blocks.0.norm1.bias, requires_grad: True\n",
      "Parameter: swin_transformer.layers.1.blocks.0.attn.relative_position_bias_table, requires_grad: True\n",
      "Parameter: swin_transformer.layers.1.blocks.0.attn.qkv.weight, requires_grad: True\n",
      "Parameter: swin_transformer.layers.1.blocks.0.attn.qkv.bias, requires_grad: True\n",
      "Parameter: swin_transformer.layers.1.blocks.0.attn.proj.weight, requires_grad: True\n",
      "Parameter: swin_transformer.layers.1.blocks.0.attn.proj.bias, requires_grad: True\n",
      "Parameter: swin_transformer.layers.1.blocks.0.norm2.weight, requires_grad: True\n",
      "Parameter: swin_transformer.layers.1.blocks.0.norm2.bias, requires_grad: True\n",
      "Parameter: swin_transformer.layers.1.blocks.0.mlp.fc1.weight, requires_grad: True\n",
      "Parameter: swin_transformer.layers.1.blocks.0.mlp.fc1.bias, requires_grad: True\n",
      "Parameter: swin_transformer.layers.1.blocks.0.mlp.fc2.weight, requires_grad: True\n",
      "Parameter: swin_transformer.layers.1.blocks.0.mlp.fc2.bias, requires_grad: True\n",
      "Parameter: swin_transformer.layers.1.blocks.1.norm1.weight, requires_grad: True\n",
      "Parameter: swin_transformer.layers.1.blocks.1.norm1.bias, requires_grad: True\n",
      "Parameter: swin_transformer.layers.1.blocks.1.attn.relative_position_bias_table, requires_grad: True\n",
      "Parameter: swin_transformer.layers.1.blocks.1.attn.qkv.weight, requires_grad: True\n",
      "Parameter: swin_transformer.layers.1.blocks.1.attn.qkv.bias, requires_grad: True\n",
      "Parameter: swin_transformer.layers.1.blocks.1.attn.proj.weight, requires_grad: True\n",
      "Parameter: swin_transformer.layers.1.blocks.1.attn.proj.bias, requires_grad: True\n",
      "Parameter: swin_transformer.layers.1.blocks.1.norm2.weight, requires_grad: True\n",
      "Parameter: swin_transformer.layers.1.blocks.1.norm2.bias, requires_grad: True\n",
      "Parameter: swin_transformer.layers.1.blocks.1.mlp.fc1.weight, requires_grad: True\n",
      "Parameter: swin_transformer.layers.1.blocks.1.mlp.fc1.bias, requires_grad: True\n",
      "Parameter: swin_transformer.layers.1.blocks.1.mlp.fc2.weight, requires_grad: True\n",
      "Parameter: swin_transformer.layers.1.blocks.1.mlp.fc2.bias, requires_grad: True\n",
      "Parameter: swin_transformer.layers.1.downsample.reduction.weight, requires_grad: True\n",
      "Parameter: swin_transformer.layers.1.downsample.norm.weight, requires_grad: True\n",
      "Parameter: swin_transformer.layers.1.downsample.norm.bias, requires_grad: True\n",
      "Parameter: swin_transformer.layers.2.blocks.0.norm1.weight, requires_grad: True\n",
      "Parameter: swin_transformer.layers.2.blocks.0.norm1.bias, requires_grad: True\n",
      "Parameter: swin_transformer.layers.2.blocks.0.attn.relative_position_bias_table, requires_grad: True\n",
      "Parameter: swin_transformer.layers.2.blocks.0.attn.qkv.weight, requires_grad: True\n",
      "Parameter: swin_transformer.layers.2.blocks.0.attn.qkv.bias, requires_grad: True\n",
      "Parameter: swin_transformer.layers.2.blocks.0.attn.proj.weight, requires_grad: True\n",
      "Parameter: swin_transformer.layers.2.blocks.0.attn.proj.bias, requires_grad: True\n",
      "Parameter: swin_transformer.layers.2.blocks.0.norm2.weight, requires_grad: True\n",
      "Parameter: swin_transformer.layers.2.blocks.0.norm2.bias, requires_grad: True\n",
      "Parameter: swin_transformer.layers.2.blocks.0.mlp.fc1.weight, requires_grad: True\n",
      "Parameter: swin_transformer.layers.2.blocks.0.mlp.fc1.bias, requires_grad: True\n",
      "Parameter: swin_transformer.layers.2.blocks.0.mlp.fc2.weight, requires_grad: True\n",
      "Parameter: swin_transformer.layers.2.blocks.0.mlp.fc2.bias, requires_grad: True\n",
      "Parameter: swin_transformer.layers.2.blocks.1.norm1.weight, requires_grad: True\n",
      "Parameter: swin_transformer.layers.2.blocks.1.norm1.bias, requires_grad: True\n",
      "Parameter: swin_transformer.layers.2.blocks.1.attn.relative_position_bias_table, requires_grad: True\n",
      "Parameter: swin_transformer.layers.2.blocks.1.attn.qkv.weight, requires_grad: True\n",
      "Parameter: swin_transformer.layers.2.blocks.1.attn.qkv.bias, requires_grad: True\n",
      "Parameter: swin_transformer.layers.2.blocks.1.attn.proj.weight, requires_grad: True\n",
      "Parameter: swin_transformer.layers.2.blocks.1.attn.proj.bias, requires_grad: True\n",
      "Parameter: swin_transformer.layers.2.blocks.1.norm2.weight, requires_grad: True\n",
      "Parameter: swin_transformer.layers.2.blocks.1.norm2.bias, requires_grad: True\n",
      "Parameter: swin_transformer.layers.2.blocks.1.mlp.fc1.weight, requires_grad: True\n",
      "Parameter: swin_transformer.layers.2.blocks.1.mlp.fc1.bias, requires_grad: True\n",
      "Parameter: swin_transformer.layers.2.blocks.1.mlp.fc2.weight, requires_grad: True\n",
      "Parameter: swin_transformer.layers.2.blocks.1.mlp.fc2.bias, requires_grad: True\n",
      "Parameter: swin_transformer.layers.2.blocks.2.norm1.weight, requires_grad: True\n",
      "Parameter: swin_transformer.layers.2.blocks.2.norm1.bias, requires_grad: True\n",
      "Parameter: swin_transformer.layers.2.blocks.2.attn.relative_position_bias_table, requires_grad: True\n",
      "Parameter: swin_transformer.layers.2.blocks.2.attn.qkv.weight, requires_grad: True\n",
      "Parameter: swin_transformer.layers.2.blocks.2.attn.qkv.bias, requires_grad: True\n",
      "Parameter: swin_transformer.layers.2.blocks.2.attn.proj.weight, requires_grad: True\n",
      "Parameter: swin_transformer.layers.2.blocks.2.attn.proj.bias, requires_grad: True\n",
      "Parameter: swin_transformer.layers.2.blocks.2.norm2.weight, requires_grad: True\n",
      "Parameter: swin_transformer.layers.2.blocks.2.norm2.bias, requires_grad: True\n",
      "Parameter: swin_transformer.layers.2.blocks.2.mlp.fc1.weight, requires_grad: True\n",
      "Parameter: swin_transformer.layers.2.blocks.2.mlp.fc1.bias, requires_grad: True\n",
      "Parameter: swin_transformer.layers.2.blocks.2.mlp.fc2.weight, requires_grad: True\n",
      "Parameter: swin_transformer.layers.2.blocks.2.mlp.fc2.bias, requires_grad: True\n",
      "Parameter: swin_transformer.layers.2.blocks.3.norm1.weight, requires_grad: True\n",
      "Parameter: swin_transformer.layers.2.blocks.3.norm1.bias, requires_grad: True\n",
      "Parameter: swin_transformer.layers.2.blocks.3.attn.relative_position_bias_table, requires_grad: True\n",
      "Parameter: swin_transformer.layers.2.blocks.3.attn.qkv.weight, requires_grad: True\n",
      "Parameter: swin_transformer.layers.2.blocks.3.attn.qkv.bias, requires_grad: True\n",
      "Parameter: swin_transformer.layers.2.blocks.3.attn.proj.weight, requires_grad: True\n",
      "Parameter: swin_transformer.layers.2.blocks.3.attn.proj.bias, requires_grad: True\n",
      "Parameter: swin_transformer.layers.2.blocks.3.norm2.weight, requires_grad: True\n",
      "Parameter: swin_transformer.layers.2.blocks.3.norm2.bias, requires_grad: True\n",
      "Parameter: swin_transformer.layers.2.blocks.3.mlp.fc1.weight, requires_grad: True\n",
      "Parameter: swin_transformer.layers.2.blocks.3.mlp.fc1.bias, requires_grad: True\n",
      "Parameter: swin_transformer.layers.2.blocks.3.mlp.fc2.weight, requires_grad: True\n",
      "Parameter: swin_transformer.layers.2.blocks.3.mlp.fc2.bias, requires_grad: True\n",
      "Parameter: swin_transformer.layers.2.blocks.4.norm1.weight, requires_grad: True\n",
      "Parameter: swin_transformer.layers.2.blocks.4.norm1.bias, requires_grad: True\n",
      "Parameter: swin_transformer.layers.2.blocks.4.attn.relative_position_bias_table, requires_grad: True\n",
      "Parameter: swin_transformer.layers.2.blocks.4.attn.qkv.weight, requires_grad: True\n",
      "Parameter: swin_transformer.layers.2.blocks.4.attn.qkv.bias, requires_grad: True\n",
      "Parameter: swin_transformer.layers.2.blocks.4.attn.proj.weight, requires_grad: True\n",
      "Parameter: swin_transformer.layers.2.blocks.4.attn.proj.bias, requires_grad: True\n",
      "Parameter: swin_transformer.layers.2.blocks.4.norm2.weight, requires_grad: True\n",
      "Parameter: swin_transformer.layers.2.blocks.4.norm2.bias, requires_grad: True\n",
      "Parameter: swin_transformer.layers.2.blocks.4.mlp.fc1.weight, requires_grad: True\n",
      "Parameter: swin_transformer.layers.2.blocks.4.mlp.fc1.bias, requires_grad: True\n",
      "Parameter: swin_transformer.layers.2.blocks.4.mlp.fc2.weight, requires_grad: True\n",
      "Parameter: swin_transformer.layers.2.blocks.4.mlp.fc2.bias, requires_grad: True\n",
      "Parameter: swin_transformer.layers.2.blocks.5.norm1.weight, requires_grad: True\n",
      "Parameter: swin_transformer.layers.2.blocks.5.norm1.bias, requires_grad: True\n",
      "Parameter: swin_transformer.layers.2.blocks.5.attn.relative_position_bias_table, requires_grad: True\n",
      "Parameter: swin_transformer.layers.2.blocks.5.attn.qkv.weight, requires_grad: True\n",
      "Parameter: swin_transformer.layers.2.blocks.5.attn.qkv.bias, requires_grad: True\n",
      "Parameter: swin_transformer.layers.2.blocks.5.attn.proj.weight, requires_grad: True\n",
      "Parameter: swin_transformer.layers.2.blocks.5.attn.proj.bias, requires_grad: True\n",
      "Parameter: swin_transformer.layers.2.blocks.5.norm2.weight, requires_grad: True\n",
      "Parameter: swin_transformer.layers.2.blocks.5.norm2.bias, requires_grad: True\n",
      "Parameter: swin_transformer.layers.2.blocks.5.mlp.fc1.weight, requires_grad: True\n",
      "Parameter: swin_transformer.layers.2.blocks.5.mlp.fc1.bias, requires_grad: True\n",
      "Parameter: swin_transformer.layers.2.blocks.5.mlp.fc2.weight, requires_grad: True\n",
      "Parameter: swin_transformer.layers.2.blocks.5.mlp.fc2.bias, requires_grad: True\n",
      "Parameter: swin_transformer.layers.2.blocks.6.norm1.weight, requires_grad: True\n",
      "Parameter: swin_transformer.layers.2.blocks.6.norm1.bias, requires_grad: True\n",
      "Parameter: swin_transformer.layers.2.blocks.6.attn.relative_position_bias_table, requires_grad: True\n",
      "Parameter: swin_transformer.layers.2.blocks.6.attn.qkv.weight, requires_grad: True\n",
      "Parameter: swin_transformer.layers.2.blocks.6.attn.qkv.bias, requires_grad: True\n",
      "Parameter: swin_transformer.layers.2.blocks.6.attn.proj.weight, requires_grad: True\n",
      "Parameter: swin_transformer.layers.2.blocks.6.attn.proj.bias, requires_grad: True\n",
      "Parameter: swin_transformer.layers.2.blocks.6.norm2.weight, requires_grad: True\n",
      "Parameter: swin_transformer.layers.2.blocks.6.norm2.bias, requires_grad: True\n",
      "Parameter: swin_transformer.layers.2.blocks.6.mlp.fc1.weight, requires_grad: True\n",
      "Parameter: swin_transformer.layers.2.blocks.6.mlp.fc1.bias, requires_grad: True\n",
      "Parameter: swin_transformer.layers.2.blocks.6.mlp.fc2.weight, requires_grad: True\n",
      "Parameter: swin_transformer.layers.2.blocks.6.mlp.fc2.bias, requires_grad: True\n",
      "Parameter: swin_transformer.layers.2.blocks.7.norm1.weight, requires_grad: True\n",
      "Parameter: swin_transformer.layers.2.blocks.7.norm1.bias, requires_grad: True\n",
      "Parameter: swin_transformer.layers.2.blocks.7.attn.relative_position_bias_table, requires_grad: True\n",
      "Parameter: swin_transformer.layers.2.blocks.7.attn.qkv.weight, requires_grad: True\n",
      "Parameter: swin_transformer.layers.2.blocks.7.attn.qkv.bias, requires_grad: True\n",
      "Parameter: swin_transformer.layers.2.blocks.7.attn.proj.weight, requires_grad: True\n",
      "Parameter: swin_transformer.layers.2.blocks.7.attn.proj.bias, requires_grad: True\n",
      "Parameter: swin_transformer.layers.2.blocks.7.norm2.weight, requires_grad: True\n",
      "Parameter: swin_transformer.layers.2.blocks.7.norm2.bias, requires_grad: True\n",
      "Parameter: swin_transformer.layers.2.blocks.7.mlp.fc1.weight, requires_grad: True\n",
      "Parameter: swin_transformer.layers.2.blocks.7.mlp.fc1.bias, requires_grad: True\n",
      "Parameter: swin_transformer.layers.2.blocks.7.mlp.fc2.weight, requires_grad: True\n",
      "Parameter: swin_transformer.layers.2.blocks.7.mlp.fc2.bias, requires_grad: True\n",
      "Parameter: swin_transformer.layers.2.blocks.8.norm1.weight, requires_grad: True\n",
      "Parameter: swin_transformer.layers.2.blocks.8.norm1.bias, requires_grad: True\n",
      "Parameter: swin_transformer.layers.2.blocks.8.attn.relative_position_bias_table, requires_grad: True\n",
      "Parameter: swin_transformer.layers.2.blocks.8.attn.qkv.weight, requires_grad: True\n",
      "Parameter: swin_transformer.layers.2.blocks.8.attn.qkv.bias, requires_grad: True\n",
      "Parameter: swin_transformer.layers.2.blocks.8.attn.proj.weight, requires_grad: True\n",
      "Parameter: swin_transformer.layers.2.blocks.8.attn.proj.bias, requires_grad: True\n",
      "Parameter: swin_transformer.layers.2.blocks.8.norm2.weight, requires_grad: True\n",
      "Parameter: swin_transformer.layers.2.blocks.8.norm2.bias, requires_grad: True\n",
      "Parameter: swin_transformer.layers.2.blocks.8.mlp.fc1.weight, requires_grad: True\n",
      "Parameter: swin_transformer.layers.2.blocks.8.mlp.fc1.bias, requires_grad: True\n",
      "Parameter: swin_transformer.layers.2.blocks.8.mlp.fc2.weight, requires_grad: True\n",
      "Parameter: swin_transformer.layers.2.blocks.8.mlp.fc2.bias, requires_grad: True\n",
      "Parameter: swin_transformer.layers.2.blocks.9.norm1.weight, requires_grad: True\n",
      "Parameter: swin_transformer.layers.2.blocks.9.norm1.bias, requires_grad: True\n",
      "Parameter: swin_transformer.layers.2.blocks.9.attn.relative_position_bias_table, requires_grad: True\n",
      "Parameter: swin_transformer.layers.2.blocks.9.attn.qkv.weight, requires_grad: True\n",
      "Parameter: swin_transformer.layers.2.blocks.9.attn.qkv.bias, requires_grad: True\n",
      "Parameter: swin_transformer.layers.2.blocks.9.attn.proj.weight, requires_grad: True\n",
      "Parameter: swin_transformer.layers.2.blocks.9.attn.proj.bias, requires_grad: True\n",
      "Parameter: swin_transformer.layers.2.blocks.9.norm2.weight, requires_grad: True\n",
      "Parameter: swin_transformer.layers.2.blocks.9.norm2.bias, requires_grad: True\n",
      "Parameter: swin_transformer.layers.2.blocks.9.mlp.fc1.weight, requires_grad: True\n",
      "Parameter: swin_transformer.layers.2.blocks.9.mlp.fc1.bias, requires_grad: True\n",
      "Parameter: swin_transformer.layers.2.blocks.9.mlp.fc2.weight, requires_grad: True\n",
      "Parameter: swin_transformer.layers.2.blocks.9.mlp.fc2.bias, requires_grad: True\n",
      "Parameter: swin_transformer.layers.2.blocks.10.norm1.weight, requires_grad: True\n",
      "Parameter: swin_transformer.layers.2.blocks.10.norm1.bias, requires_grad: True\n",
      "Parameter: swin_transformer.layers.2.blocks.10.attn.relative_position_bias_table, requires_grad: True\n",
      "Parameter: swin_transformer.layers.2.blocks.10.attn.qkv.weight, requires_grad: True\n",
      "Parameter: swin_transformer.layers.2.blocks.10.attn.qkv.bias, requires_grad: True\n",
      "Parameter: swin_transformer.layers.2.blocks.10.attn.proj.weight, requires_grad: True\n",
      "Parameter: swin_transformer.layers.2.blocks.10.attn.proj.bias, requires_grad: True\n",
      "Parameter: swin_transformer.layers.2.blocks.10.norm2.weight, requires_grad: True\n",
      "Parameter: swin_transformer.layers.2.blocks.10.norm2.bias, requires_grad: True\n",
      "Parameter: swin_transformer.layers.2.blocks.10.mlp.fc1.weight, requires_grad: True\n",
      "Parameter: swin_transformer.layers.2.blocks.10.mlp.fc1.bias, requires_grad: True\n",
      "Parameter: swin_transformer.layers.2.blocks.10.mlp.fc2.weight, requires_grad: True\n",
      "Parameter: swin_transformer.layers.2.blocks.10.mlp.fc2.bias, requires_grad: True\n",
      "Parameter: swin_transformer.layers.2.blocks.11.norm1.weight, requires_grad: True\n",
      "Parameter: swin_transformer.layers.2.blocks.11.norm1.bias, requires_grad: True\n",
      "Parameter: swin_transformer.layers.2.blocks.11.attn.relative_position_bias_table, requires_grad: True\n",
      "Parameter: swin_transformer.layers.2.blocks.11.attn.qkv.weight, requires_grad: True\n",
      "Parameter: swin_transformer.layers.2.blocks.11.attn.qkv.bias, requires_grad: True\n",
      "Parameter: swin_transformer.layers.2.blocks.11.attn.proj.weight, requires_grad: True\n",
      "Parameter: swin_transformer.layers.2.blocks.11.attn.proj.bias, requires_grad: True\n",
      "Parameter: swin_transformer.layers.2.blocks.11.norm2.weight, requires_grad: True\n",
      "Parameter: swin_transformer.layers.2.blocks.11.norm2.bias, requires_grad: True\n",
      "Parameter: swin_transformer.layers.2.blocks.11.mlp.fc1.weight, requires_grad: True\n",
      "Parameter: swin_transformer.layers.2.blocks.11.mlp.fc1.bias, requires_grad: True\n",
      "Parameter: swin_transformer.layers.2.blocks.11.mlp.fc2.weight, requires_grad: True\n",
      "Parameter: swin_transformer.layers.2.blocks.11.mlp.fc2.bias, requires_grad: True\n",
      "Parameter: swin_transformer.layers.2.blocks.12.norm1.weight, requires_grad: True\n",
      "Parameter: swin_transformer.layers.2.blocks.12.norm1.bias, requires_grad: True\n",
      "Parameter: swin_transformer.layers.2.blocks.12.attn.relative_position_bias_table, requires_grad: True\n",
      "Parameter: swin_transformer.layers.2.blocks.12.attn.qkv.weight, requires_grad: True\n",
      "Parameter: swin_transformer.layers.2.blocks.12.attn.qkv.bias, requires_grad: True\n",
      "Parameter: swin_transformer.layers.2.blocks.12.attn.proj.weight, requires_grad: True\n",
      "Parameter: swin_transformer.layers.2.blocks.12.attn.proj.bias, requires_grad: True\n",
      "Parameter: swin_transformer.layers.2.blocks.12.norm2.weight, requires_grad: True\n",
      "Parameter: swin_transformer.layers.2.blocks.12.norm2.bias, requires_grad: True\n",
      "Parameter: swin_transformer.layers.2.blocks.12.mlp.fc1.weight, requires_grad: True\n",
      "Parameter: swin_transformer.layers.2.blocks.12.mlp.fc1.bias, requires_grad: True\n",
      "Parameter: swin_transformer.layers.2.blocks.12.mlp.fc2.weight, requires_grad: True\n",
      "Parameter: swin_transformer.layers.2.blocks.12.mlp.fc2.bias, requires_grad: True\n",
      "Parameter: swin_transformer.layers.2.blocks.13.norm1.weight, requires_grad: True\n",
      "Parameter: swin_transformer.layers.2.blocks.13.norm1.bias, requires_grad: True\n",
      "Parameter: swin_transformer.layers.2.blocks.13.attn.relative_position_bias_table, requires_grad: True\n",
      "Parameter: swin_transformer.layers.2.blocks.13.attn.qkv.weight, requires_grad: True\n",
      "Parameter: swin_transformer.layers.2.blocks.13.attn.qkv.bias, requires_grad: True\n",
      "Parameter: swin_transformer.layers.2.blocks.13.attn.proj.weight, requires_grad: True\n",
      "Parameter: swin_transformer.layers.2.blocks.13.attn.proj.bias, requires_grad: True\n",
      "Parameter: swin_transformer.layers.2.blocks.13.norm2.weight, requires_grad: True\n",
      "Parameter: swin_transformer.layers.2.blocks.13.norm2.bias, requires_grad: True\n",
      "Parameter: swin_transformer.layers.2.blocks.13.mlp.fc1.weight, requires_grad: True\n",
      "Parameter: swin_transformer.layers.2.blocks.13.mlp.fc1.bias, requires_grad: True\n",
      "Parameter: swin_transformer.layers.2.blocks.13.mlp.fc2.weight, requires_grad: True\n",
      "Parameter: swin_transformer.layers.2.blocks.13.mlp.fc2.bias, requires_grad: True\n",
      "Parameter: swin_transformer.layers.2.blocks.14.norm1.weight, requires_grad: True\n",
      "Parameter: swin_transformer.layers.2.blocks.14.norm1.bias, requires_grad: True\n",
      "Parameter: swin_transformer.layers.2.blocks.14.attn.relative_position_bias_table, requires_grad: True\n",
      "Parameter: swin_transformer.layers.2.blocks.14.attn.qkv.weight, requires_grad: True\n",
      "Parameter: swin_transformer.layers.2.blocks.14.attn.qkv.bias, requires_grad: True\n",
      "Parameter: swin_transformer.layers.2.blocks.14.attn.proj.weight, requires_grad: True\n",
      "Parameter: swin_transformer.layers.2.blocks.14.attn.proj.bias, requires_grad: True\n",
      "Parameter: swin_transformer.layers.2.blocks.14.norm2.weight, requires_grad: True\n",
      "Parameter: swin_transformer.layers.2.blocks.14.norm2.bias, requires_grad: True\n",
      "Parameter: swin_transformer.layers.2.blocks.14.mlp.fc1.weight, requires_grad: True\n",
      "Parameter: swin_transformer.layers.2.blocks.14.mlp.fc1.bias, requires_grad: True\n",
      "Parameter: swin_transformer.layers.2.blocks.14.mlp.fc2.weight, requires_grad: True\n",
      "Parameter: swin_transformer.layers.2.blocks.14.mlp.fc2.bias, requires_grad: True\n",
      "Parameter: swin_transformer.layers.2.blocks.15.norm1.weight, requires_grad: True\n",
      "Parameter: swin_transformer.layers.2.blocks.15.norm1.bias, requires_grad: True\n",
      "Parameter: swin_transformer.layers.2.blocks.15.attn.relative_position_bias_table, requires_grad: True\n",
      "Parameter: swin_transformer.layers.2.blocks.15.attn.qkv.weight, requires_grad: True\n",
      "Parameter: swin_transformer.layers.2.blocks.15.attn.qkv.bias, requires_grad: True\n",
      "Parameter: swin_transformer.layers.2.blocks.15.attn.proj.weight, requires_grad: True\n",
      "Parameter: swin_transformer.layers.2.blocks.15.attn.proj.bias, requires_grad: True\n",
      "Parameter: swin_transformer.layers.2.blocks.15.norm2.weight, requires_grad: True\n",
      "Parameter: swin_transformer.layers.2.blocks.15.norm2.bias, requires_grad: True\n",
      "Parameter: swin_transformer.layers.2.blocks.15.mlp.fc1.weight, requires_grad: True\n",
      "Parameter: swin_transformer.layers.2.blocks.15.mlp.fc1.bias, requires_grad: True\n",
      "Parameter: swin_transformer.layers.2.blocks.15.mlp.fc2.weight, requires_grad: True\n",
      "Parameter: swin_transformer.layers.2.blocks.15.mlp.fc2.bias, requires_grad: True\n",
      "Parameter: swin_transformer.layers.2.blocks.16.norm1.weight, requires_grad: True\n",
      "Parameter: swin_transformer.layers.2.blocks.16.norm1.bias, requires_grad: True\n",
      "Parameter: swin_transformer.layers.2.blocks.16.attn.relative_position_bias_table, requires_grad: True\n",
      "Parameter: swin_transformer.layers.2.blocks.16.attn.qkv.weight, requires_grad: True\n",
      "Parameter: swin_transformer.layers.2.blocks.16.attn.qkv.bias, requires_grad: True\n",
      "Parameter: swin_transformer.layers.2.blocks.16.attn.proj.weight, requires_grad: True\n",
      "Parameter: swin_transformer.layers.2.blocks.16.attn.proj.bias, requires_grad: True\n",
      "Parameter: swin_transformer.layers.2.blocks.16.norm2.weight, requires_grad: True\n",
      "Parameter: swin_transformer.layers.2.blocks.16.norm2.bias, requires_grad: True\n",
      "Parameter: swin_transformer.layers.2.blocks.16.mlp.fc1.weight, requires_grad: True\n",
      "Parameter: swin_transformer.layers.2.blocks.16.mlp.fc1.bias, requires_grad: True\n",
      "Parameter: swin_transformer.layers.2.blocks.16.mlp.fc2.weight, requires_grad: True\n",
      "Parameter: swin_transformer.layers.2.blocks.16.mlp.fc2.bias, requires_grad: True\n",
      "Parameter: swin_transformer.layers.2.blocks.17.norm1.weight, requires_grad: True\n",
      "Parameter: swin_transformer.layers.2.blocks.17.norm1.bias, requires_grad: True\n",
      "Parameter: swin_transformer.layers.2.blocks.17.attn.relative_position_bias_table, requires_grad: True\n",
      "Parameter: swin_transformer.layers.2.blocks.17.attn.qkv.weight, requires_grad: True\n",
      "Parameter: swin_transformer.layers.2.blocks.17.attn.qkv.bias, requires_grad: True\n",
      "Parameter: swin_transformer.layers.2.blocks.17.attn.proj.weight, requires_grad: True\n",
      "Parameter: swin_transformer.layers.2.blocks.17.attn.proj.bias, requires_grad: True\n",
      "Parameter: swin_transformer.layers.2.blocks.17.norm2.weight, requires_grad: True\n",
      "Parameter: swin_transformer.layers.2.blocks.17.norm2.bias, requires_grad: True\n",
      "Parameter: swin_transformer.layers.2.blocks.17.mlp.fc1.weight, requires_grad: True\n",
      "Parameter: swin_transformer.layers.2.blocks.17.mlp.fc1.bias, requires_grad: True\n",
      "Parameter: swin_transformer.layers.2.blocks.17.mlp.fc2.weight, requires_grad: True\n",
      "Parameter: swin_transformer.layers.2.blocks.17.mlp.fc2.bias, requires_grad: True\n",
      "Parameter: swin_transformer.layers.2.downsample.reduction.weight, requires_grad: True\n",
      "Parameter: swin_transformer.layers.2.downsample.norm.weight, requires_grad: True\n",
      "Parameter: swin_transformer.layers.2.downsample.norm.bias, requires_grad: True\n",
      "Parameter: swin_transformer.layers.3.blocks.0.norm1.weight, requires_grad: True\n",
      "Parameter: swin_transformer.layers.3.blocks.0.norm1.bias, requires_grad: True\n",
      "Parameter: swin_transformer.layers.3.blocks.0.attn.relative_position_bias_table, requires_grad: True\n",
      "Parameter: swin_transformer.layers.3.blocks.0.attn.qkv.weight, requires_grad: True\n",
      "Parameter: swin_transformer.layers.3.blocks.0.attn.qkv.bias, requires_grad: True\n",
      "Parameter: swin_transformer.layers.3.blocks.0.attn.proj.weight, requires_grad: True\n",
      "Parameter: swin_transformer.layers.3.blocks.0.attn.proj.bias, requires_grad: True\n",
      "Parameter: swin_transformer.layers.3.blocks.0.norm2.weight, requires_grad: True\n",
      "Parameter: swin_transformer.layers.3.blocks.0.norm2.bias, requires_grad: True\n",
      "Parameter: swin_transformer.layers.3.blocks.0.mlp.fc1.weight, requires_grad: True\n",
      "Parameter: swin_transformer.layers.3.blocks.0.mlp.fc1.bias, requires_grad: True\n",
      "Parameter: swin_transformer.layers.3.blocks.0.mlp.fc2.weight, requires_grad: True\n",
      "Parameter: swin_transformer.layers.3.blocks.0.mlp.fc2.bias, requires_grad: True\n",
      "Parameter: swin_transformer.layers.3.blocks.1.norm1.weight, requires_grad: True\n",
      "Parameter: swin_transformer.layers.3.blocks.1.norm1.bias, requires_grad: True\n",
      "Parameter: swin_transformer.layers.3.blocks.1.attn.relative_position_bias_table, requires_grad: True\n",
      "Parameter: swin_transformer.layers.3.blocks.1.attn.qkv.weight, requires_grad: True\n",
      "Parameter: swin_transformer.layers.3.blocks.1.attn.qkv.bias, requires_grad: True\n",
      "Parameter: swin_transformer.layers.3.blocks.1.attn.proj.weight, requires_grad: True\n",
      "Parameter: swin_transformer.layers.3.blocks.1.attn.proj.bias, requires_grad: True\n",
      "Parameter: swin_transformer.layers.3.blocks.1.norm2.weight, requires_grad: True\n",
      "Parameter: swin_transformer.layers.3.blocks.1.norm2.bias, requires_grad: True\n",
      "Parameter: swin_transformer.layers.3.blocks.1.mlp.fc1.weight, requires_grad: True\n",
      "Parameter: swin_transformer.layers.3.blocks.1.mlp.fc1.bias, requires_grad: True\n",
      "Parameter: swin_transformer.layers.3.blocks.1.mlp.fc2.weight, requires_grad: True\n",
      "Parameter: swin_transformer.layers.3.blocks.1.mlp.fc2.bias, requires_grad: True\n",
      "Parameter: swin_transformer.norm.weight, requires_grad: True\n",
      "Parameter: swin_transformer.norm.bias, requires_grad: True\n",
      "Parameter: swin_transformer.head.weight, requires_grad: True\n",
      "Parameter: swin_transformer.head.bias, requires_grad: True\n"
     ]
    }
   ],
   "source": [
    "# x = dataset[0][0].unsqueeze(1)\n",
    "# print(dataset[0][1])\n",
    "model = ECASwinTransformerModel(num_channels=30)\n",
    "for name, param in model.named_parameters():\n",
    "    print(f\"Parameter: {name}, requires_grad: {param.requires_grad}\")"
   ]
  },
  {
   "cell_type": "code",
   "execution_count": 4,
   "metadata": {},
   "outputs": [],
   "source": [
    "import os\n",
    "import shutil\n",
    "\n",
    "def delete_folder_if_exists(target_folder_name):\n",
    "    # 获取父文件夹中的所有内容\n",
    "    parent_folder = os.getcwd()\n",
    "    for folder_name in os.listdir(parent_folder):\n",
    "        folder_path = os.path.join(parent_folder, folder_name)\n",
    "\n",
    "        # 检查是否是文件夹并且名称是否匹配\n",
    "        if os.path.isdir(folder_path) and folder_name == target_folder_name:\n",
    "            try:\n",
    "                # 删除目标文件夹\n",
    "                shutil.rmtree(folder_path)\n",
    "                print(f\"已删除文件夹: {folder_path}\")\n",
    "            except Exception as e:\n",
    "                print(f\"删除文件夹 {folder_path} 时出错: {e}\")\n",
    "\n",
    "\n"
   ]
  },
  {
   "cell_type": "code",
   "execution_count": 6,
   "metadata": {},
   "outputs": [
    {
     "name": "stderr",
     "output_type": "stream",
     "text": [
      "[2024-12-02 19:44:32] INFO (torcheeg/MainThread) 📊 | Create the split of train and test set.\n",
      "[2024-12-02 19:44:32] INFO (torcheeg/MainThread) 😊 | Please set \u001b[92msplit_path\u001b[0m to \u001b[92m.torcheeg/model_selection_1733139872550_ATyOL\u001b[0m for the next run, if you want to use the same setting for the experiment.\n",
      "GPU available: True (cuda), used: True\n",
      "TPU available: False, using: 0 TPU cores\n",
      "IPU available: False, using: 0 IPUs\n",
      "HPU available: False, using: 0 HPUs\n",
      "Missing logger folder: /root/autodl-tmp/.autodl/kinlaw/mi_swin/lightning_logs\n",
      "LOCAL_RANK: 0 - CUDA_VISIBLE_DEVICES: [0]\n",
      "/root/autodl-tmp/conda/envs/law/lib/python3.8/site-packages/pytorch_lightning/trainer/connectors/data_connector.py:224: PossibleUserWarning: The dataloader, train_dataloader, does not have many workers which may be a bottleneck. Consider increasing the value of the `num_workers` argument` (try 128 which is the number of cpus on this machine) in the `DataLoader` init to improve performance.\n",
      "  rank_zero_warn(\n",
      "/root/autodl-tmp/conda/envs/law/lib/python3.8/site-packages/pytorch_lightning/trainer/trainer.py:1609: PossibleUserWarning: The number of training batches (7) is smaller than the logging interval Trainer(log_every_n_steps=50). Set a lower value for log_every_n_steps if you want to see logs for the training epoch.\n",
      "  rank_zero_warn(\n"
     ]
    },
    {
     "name": "stdout",
     "output_type": "stream",
     "text": [
      "Epoch 0: 100%|██████████| 7/7 [00:01<00:00,  5.25it/s, loss=2.36, v_num=0, train_loss=0.534, train_accuracy=0.750] "
     ]
    },
    {
     "name": "stderr",
     "output_type": "stream",
     "text": [
      "Metric train_loss improved. New best score: 0.534\n"
     ]
    },
    {
     "name": "stdout",
     "output_type": "stream",
     "text": [
      "Epoch 0: 100%|██████████| 7/7 [00:01<00:00,  5.24it/s, loss=2.36, v_num=0, train_loss=0.534, train_accuracy=0.750]"
     ]
    },
    {
     "name": "stderr",
     "output_type": "stream",
     "text": [
      "[2024-12-02 19:44:43] INFO (torcheeg/MainThread) \n",
      "[Train] train_loss: 2.357 train_accuracy: 0.550 \n",
      "\n"
     ]
    },
    {
     "name": "stdout",
     "output_type": "stream",
     "text": [
      "Epoch 1: 100%|██████████| 7/7 [00:00<00:00,  9.73it/s, loss=1.55, v_num=0, train_loss=0.942, train_accuracy=0.750]"
     ]
    },
    {
     "name": "stderr",
     "output_type": "stream",
     "text": [
      "[2024-12-02 19:44:48] INFO (torcheeg/MainThread) \n",
      "[Train] train_loss: 0.744 train_accuracy: 0.730 \n",
      "\n"
     ]
    },
    {
     "name": "stdout",
     "output_type": "stream",
     "text": [
      "Epoch 2: 100%|██████████| 7/7 [00:00<00:00, 10.00it/s, loss=1.3, v_num=0, train_loss=1.370, train_accuracy=0.625] "
     ]
    },
    {
     "name": "stderr",
     "output_type": "stream",
     "text": [
      "[2024-12-02 19:44:53] INFO (torcheeg/MainThread) \n",
      "[Train] train_loss: 0.740 train_accuracy: 0.705 \n",
      "\n"
     ]
    },
    {
     "name": "stdout",
     "output_type": "stream",
     "text": [
      "Epoch 3: 100%|██████████| 7/7 [00:00<00:00,  9.54it/s, loss=0.799, v_num=0, train_loss=0.628, train_accuracy=0.750]"
     ]
    },
    {
     "name": "stderr",
     "output_type": "stream",
     "text": [
      "[2024-12-02 19:44:58] INFO (torcheeg/MainThread) \n",
      "[Train] train_loss: 0.880 train_accuracy: 0.760 \n",
      "\n"
     ]
    },
    {
     "name": "stdout",
     "output_type": "stream",
     "text": [
      "Epoch 4: 100%|██████████| 7/7 [00:00<00:00,  9.95it/s, loss=0.749, v_num=0, train_loss=0.703, train_accuracy=0.625]"
     ]
    },
    {
     "name": "stderr",
     "output_type": "stream",
     "text": [
      "[2024-12-02 19:45:03] INFO (torcheeg/MainThread) \n",
      "[Train] train_loss: 0.599 train_accuracy: 0.755 \n",
      "\n"
     ]
    },
    {
     "name": "stdout",
     "output_type": "stream",
     "text": [
      "Epoch 5: 100%|██████████| 7/7 [00:00<00:00,  9.95it/s, loss=0.712, v_num=0, train_loss=1.270, train_accuracy=0.500]"
     ]
    },
    {
     "name": "stderr",
     "output_type": "stream",
     "text": [
      "[2024-12-02 19:45:07] INFO (torcheeg/MainThread) \n",
      "[Train] train_loss: 0.579 train_accuracy: 0.780 \n",
      "\n"
     ]
    },
    {
     "name": "stdout",
     "output_type": "stream",
     "text": [
      "Epoch 6: 100%|██████████| 7/7 [00:00<00:00,  9.81it/s, loss=0.546, v_num=0, train_loss=0.754, train_accuracy=0.625]"
     ]
    },
    {
     "name": "stderr",
     "output_type": "stream",
     "text": [
      "[2024-12-02 19:45:12] INFO (torcheeg/MainThread) \n",
      "[Train] train_loss: 0.477 train_accuracy: 0.790 \n",
      "\n"
     ]
    },
    {
     "name": "stdout",
     "output_type": "stream",
     "text": [
      "Epoch 7: 100%|██████████| 7/7 [00:00<00:00,  9.75it/s, loss=0.48, v_num=0, train_loss=0.311, train_accuracy=0.875] "
     ]
    },
    {
     "name": "stderr",
     "output_type": "stream",
     "text": [
      "Metric train_loss improved by 0.223 >= min_delta = 0.0. New best score: 0.311\n"
     ]
    },
    {
     "name": "stdout",
     "output_type": "stream",
     "text": [
      "Epoch 7: 100%|██████████| 7/7 [00:00<00:00,  9.72it/s, loss=0.48, v_num=0, train_loss=0.311, train_accuracy=0.875]"
     ]
    },
    {
     "name": "stderr",
     "output_type": "stream",
     "text": [
      "[2024-12-02 19:45:17] INFO (torcheeg/MainThread) \n",
      "[Train] train_loss: 0.372 train_accuracy: 0.840 \n",
      "\n"
     ]
    },
    {
     "name": "stdout",
     "output_type": "stream",
     "text": [
      "Epoch 8: 100%|██████████| 7/7 [00:00<00:00,  9.94it/s, loss=0.375, v_num=0, train_loss=0.335, train_accuracy=0.875]"
     ]
    },
    {
     "name": "stderr",
     "output_type": "stream",
     "text": [
      "[2024-12-02 19:45:21] INFO (torcheeg/MainThread) \n",
      "[Train] train_loss: 0.276 train_accuracy: 0.880 \n",
      "\n"
     ]
    },
    {
     "name": "stdout",
     "output_type": "stream",
     "text": [
      "Epoch 9: 100%|██████████| 7/7 [00:00<00:00,  9.91it/s, loss=0.289, v_num=0, train_loss=0.0927, train_accuracy=1.000]"
     ]
    },
    {
     "name": "stderr",
     "output_type": "stream",
     "text": [
      "Metric train_loss improved by 0.219 >= min_delta = 0.0. New best score: 0.093\n"
     ]
    },
    {
     "name": "stdout",
     "output_type": "stream",
     "text": [
      "Epoch 9: 100%|██████████| 7/7 [00:00<00:00,  9.89it/s, loss=0.289, v_num=0, train_loss=0.0927, train_accuracy=1.000]"
     ]
    },
    {
     "name": "stderr",
     "output_type": "stream",
     "text": [
      "[2024-12-02 19:45:26] INFO (torcheeg/MainThread) \n",
      "[Train] train_loss: 0.235 train_accuracy: 0.890 \n",
      "\n"
     ]
    },
    {
     "name": "stdout",
     "output_type": "stream",
     "text": [
      "Epoch 10: 100%|██████████| 7/7 [00:00<00:00,  9.77it/s, loss=0.235, v_num=0, train_loss=0.175, train_accuracy=0.875] "
     ]
    },
    {
     "name": "stderr",
     "output_type": "stream",
     "text": [
      "[2024-12-02 19:45:31] INFO (torcheeg/MainThread) \n",
      "[Train] train_loss: 0.202 train_accuracy: 0.910 \n",
      "\n"
     ]
    },
    {
     "name": "stdout",
     "output_type": "stream",
     "text": [
      "Epoch 11: 100%|██████████| 7/7 [00:00<00:00,  9.76it/s, loss=0.213, v_num=0, train_loss=0.0937, train_accuracy=1.000]"
     ]
    },
    {
     "name": "stderr",
     "output_type": "stream",
     "text": [
      "[2024-12-02 19:45:36] INFO (torcheeg/MainThread) \n",
      "[Train] train_loss: 0.215 train_accuracy: 0.910 \n",
      "\n"
     ]
    },
    {
     "name": "stdout",
     "output_type": "stream",
     "text": [
      "Epoch 12: 100%|██████████| 7/7 [00:00<00:00,  9.97it/s, loss=0.221, v_num=0, train_loss=0.386, train_accuracy=0.750] "
     ]
    },
    {
     "name": "stderr",
     "output_type": "stream",
     "text": [
      "[2024-12-02 19:45:40] INFO (torcheeg/MainThread) \n",
      "[Train] train_loss: 0.228 train_accuracy: 0.895 \n",
      "\n"
     ]
    },
    {
     "name": "stdout",
     "output_type": "stream",
     "text": [
      "Epoch 13: 100%|██████████| 7/7 [00:00<00:00,  9.69it/s, loss=0.21, v_num=0, train_loss=0.114, train_accuracy=1.000] "
     ]
    },
    {
     "name": "stderr",
     "output_type": "stream",
     "text": [
      "[2024-12-02 19:45:45] INFO (torcheeg/MainThread) \n",
      "[Train] train_loss: 0.169 train_accuracy: 0.920 \n",
      "\n"
     ]
    },
    {
     "name": "stdout",
     "output_type": "stream",
     "text": [
      "Epoch 14: 100%|██████████| 7/7 [00:00<00:00,  9.81it/s, loss=0.188, v_num=0, train_loss=0.0512, train_accuracy=1.000]"
     ]
    },
    {
     "name": "stderr",
     "output_type": "stream",
     "text": [
      "Metric train_loss improved by 0.042 >= min_delta = 0.0. New best score: 0.051\n"
     ]
    },
    {
     "name": "stdout",
     "output_type": "stream",
     "text": [
      "Epoch 14: 100%|██████████| 7/7 [00:00<00:00,  9.78it/s, loss=0.188, v_num=0, train_loss=0.0512, train_accuracy=1.000]"
     ]
    },
    {
     "name": "stderr",
     "output_type": "stream",
     "text": [
      "[2024-12-02 19:45:50] INFO (torcheeg/MainThread) \n",
      "[Train] train_loss: 0.180 train_accuracy: 0.910 \n",
      "\n"
     ]
    },
    {
     "name": "stdout",
     "output_type": "stream",
     "text": [
      "Epoch 15: 100%|██████████| 7/7 [00:00<00:00,  9.44it/s, loss=0.158, v_num=0, train_loss=0.0353, train_accuracy=1.000]"
     ]
    },
    {
     "name": "stderr",
     "output_type": "stream",
     "text": [
      "Metric train_loss improved by 0.016 >= min_delta = 0.0. New best score: 0.035\n"
     ]
    },
    {
     "name": "stdout",
     "output_type": "stream",
     "text": [
      "Epoch 15: 100%|██████████| 7/7 [00:00<00:00,  9.42it/s, loss=0.158, v_num=0, train_loss=0.0353, train_accuracy=1.000]"
     ]
    },
    {
     "name": "stderr",
     "output_type": "stream",
     "text": [
      "[2024-12-02 19:45:55] INFO (torcheeg/MainThread) \n",
      "[Train] train_loss: 0.132 train_accuracy: 0.940 \n",
      "\n"
     ]
    },
    {
     "name": "stdout",
     "output_type": "stream",
     "text": [
      "Epoch 16: 100%|██████████| 7/7 [00:00<00:00,  9.82it/s, loss=0.179, v_num=0, train_loss=0.114, train_accuracy=1.000] "
     ]
    },
    {
     "name": "stderr",
     "output_type": "stream",
     "text": [
      "[2024-12-02 19:46:00] INFO (torcheeg/MainThread) \n",
      "[Train] train_loss: 0.240 train_accuracy: 0.890 \n",
      "\n"
     ]
    },
    {
     "name": "stdout",
     "output_type": "stream",
     "text": [
      "Epoch 17: 100%|██████████| 7/7 [00:00<00:00,  9.92it/s, loss=0.169, v_num=0, train_loss=0.0987, train_accuracy=1.000]"
     ]
    },
    {
     "name": "stderr",
     "output_type": "stream",
     "text": [
      "[2024-12-02 19:46:05] INFO (torcheeg/MainThread) \n",
      "[Train] train_loss: 0.130 train_accuracy: 0.950 \n",
      "\n"
     ]
    },
    {
     "name": "stdout",
     "output_type": "stream",
     "text": [
      "Epoch 18: 100%|██████████| 7/7 [00:00<00:00,  9.77it/s, loss=0.179, v_num=0, train_loss=0.221, train_accuracy=0.875] "
     ]
    },
    {
     "name": "stderr",
     "output_type": "stream",
     "text": [
      "[2024-12-02 19:46:09] INFO (torcheeg/MainThread) \n",
      "[Train] train_loss: 0.174 train_accuracy: 0.920 \n",
      "\n"
     ]
    },
    {
     "name": "stdout",
     "output_type": "stream",
     "text": [
      "Epoch 19: 100%|██████████| 7/7 [00:00<00:00, 10.01it/s, loss=0.146, v_num=0, train_loss=0.0294, train_accuracy=1.000]"
     ]
    },
    {
     "name": "stderr",
     "output_type": "stream",
     "text": [
      "Metric train_loss improved by 0.006 >= min_delta = 0.0. New best score: 0.029\n"
     ]
    },
    {
     "name": "stdout",
     "output_type": "stream",
     "text": [
      "Epoch 19: 100%|██████████| 7/7 [00:00<00:00,  9.98it/s, loss=0.146, v_num=0, train_loss=0.0294, train_accuracy=1.000]"
     ]
    },
    {
     "name": "stderr",
     "output_type": "stream",
     "text": [
      "[2024-12-02 19:46:14] INFO (torcheeg/MainThread) \n",
      "[Train] train_loss: 0.141 train_accuracy: 0.940 \n",
      "\n"
     ]
    },
    {
     "name": "stdout",
     "output_type": "stream",
     "text": [
      "Epoch 20: 100%|██████████| 7/7 [00:00<00:00, 10.11it/s, loss=0.164, v_num=0, train_loss=0.00171, train_accuracy=1.000]"
     ]
    },
    {
     "name": "stderr",
     "output_type": "stream",
     "text": [
      "Metric train_loss improved by 0.028 >= min_delta = 0.0. New best score: 0.002\n"
     ]
    },
    {
     "name": "stdout",
     "output_type": "stream",
     "text": [
      "Epoch 20: 100%|██████████| 7/7 [00:00<00:00, 10.08it/s, loss=0.164, v_num=0, train_loss=0.00171, train_accuracy=1.000]"
     ]
    },
    {
     "name": "stderr",
     "output_type": "stream",
     "text": [
      "[2024-12-02 19:46:19] INFO (torcheeg/MainThread) \n",
      "[Train] train_loss: 0.174 train_accuracy: 0.920 \n",
      "\n"
     ]
    },
    {
     "name": "stdout",
     "output_type": "stream",
     "text": [
      "Epoch 21: 100%|██████████| 7/7 [00:00<00:00,  9.88it/s, loss=0.16, v_num=0, train_loss=0.229, train_accuracy=0.875]   "
     ]
    },
    {
     "name": "stderr",
     "output_type": "stream",
     "text": [
      "[2024-12-02 19:46:23] INFO (torcheeg/MainThread) \n",
      "[Train] train_loss: 0.160 train_accuracy: 0.945 \n",
      "\n"
     ]
    },
    {
     "name": "stdout",
     "output_type": "stream",
     "text": [
      "Epoch 22: 100%|██████████| 7/7 [00:00<00:00,  9.94it/s, loss=0.171, v_num=0, train_loss=0.808, train_accuracy=0.750] "
     ]
    },
    {
     "name": "stderr",
     "output_type": "stream",
     "text": [
      "[2024-12-02 19:46:28] INFO (torcheeg/MainThread) \n",
      "[Train] train_loss: 0.214 train_accuracy: 0.960 \n",
      "\n"
     ]
    },
    {
     "name": "stdout",
     "output_type": "stream",
     "text": [
      "Epoch 23: 100%|██████████| 7/7 [00:00<00:00,  9.90it/s, loss=0.202, v_num=0, train_loss=0.136, train_accuracy=0.875]"
     ]
    },
    {
     "name": "stderr",
     "output_type": "stream",
     "text": [
      "[2024-12-02 19:46:33] INFO (torcheeg/MainThread) \n",
      "[Train] train_loss: 0.229 train_accuracy: 0.885 \n",
      "\n"
     ]
    },
    {
     "name": "stdout",
     "output_type": "stream",
     "text": [
      "Epoch 24: 100%|██████████| 7/7 [00:00<00:00,  9.64it/s, loss=0.229, v_num=0, train_loss=0.150, train_accuracy=1.000]"
     ]
    },
    {
     "name": "stderr",
     "output_type": "stream",
     "text": [
      "[2024-12-02 19:46:37] INFO (torcheeg/MainThread) \n",
      "[Train] train_loss: 0.216 train_accuracy: 0.910 \n",
      "\n"
     ]
    },
    {
     "name": "stdout",
     "output_type": "stream",
     "text": [
      "Epoch 25: 100%|██████████| 7/7 [00:00<00:00,  9.68it/s, loss=0.202, v_num=0, train_loss=0.136, train_accuracy=1.000] "
     ]
    },
    {
     "name": "stderr",
     "output_type": "stream",
     "text": [
      "[2024-12-02 19:46:42] INFO (torcheeg/MainThread) \n",
      "[Train] train_loss: 0.171 train_accuracy: 0.935 \n",
      "\n"
     ]
    },
    {
     "name": "stdout",
     "output_type": "stream",
     "text": [
      "Epoch 26: 100%|██████████| 7/7 [00:00<00:00,  9.61it/s, loss=0.157, v_num=0, train_loss=0.00198, train_accuracy=1.000]"
     ]
    },
    {
     "name": "stderr",
     "output_type": "stream",
     "text": [
      "[2024-12-02 19:46:47] INFO (torcheeg/MainThread) \n",
      "[Train] train_loss: 0.108 train_accuracy: 0.950 \n",
      "\n"
     ]
    },
    {
     "name": "stdout",
     "output_type": "stream",
     "text": [
      "Epoch 27: 100%|██████████| 7/7 [00:00<00:00,  9.68it/s, loss=0.135, v_num=0, train_loss=0.106, train_accuracy=1.000]  "
     ]
    },
    {
     "name": "stderr",
     "output_type": "stream",
     "text": [
      "[2024-12-02 19:46:52] INFO (torcheeg/MainThread) \n",
      "[Train] train_loss: 0.113 train_accuracy: 0.960 \n",
      "\n"
     ]
    },
    {
     "name": "stdout",
     "output_type": "stream",
     "text": [
      "Epoch 28: 100%|██████████| 7/7 [00:00<00:00,  9.74it/s, loss=0.0903, v_num=0, train_loss=0.028, train_accuracy=1.000] "
     ]
    },
    {
     "name": "stderr",
     "output_type": "stream",
     "text": [
      "[2024-12-02 19:46:56] INFO (torcheeg/MainThread) \n",
      "[Train] train_loss: 0.055 train_accuracy: 0.975 \n",
      "\n"
     ]
    },
    {
     "name": "stdout",
     "output_type": "stream",
     "text": [
      "Epoch 29: 100%|██████████| 7/7 [00:00<00:00,  9.79it/s, loss=0.0701, v_num=0, train_loss=0.0147, train_accuracy=1.000]"
     ]
    },
    {
     "name": "stderr",
     "output_type": "stream",
     "text": [
      "[2024-12-02 19:47:01] INFO (torcheeg/MainThread) \n",
      "[Train] train_loss: 0.060 train_accuracy: 0.975 \n",
      "\n"
     ]
    },
    {
     "name": "stdout",
     "output_type": "stream",
     "text": [
      "Epoch 30: 100%|██████████| 7/7 [00:00<00:00,  9.87it/s, loss=0.0502, v_num=0, train_loss=0.0122, train_accuracy=1.000] "
     ]
    },
    {
     "name": "stderr",
     "output_type": "stream",
     "text": [
      "[2024-12-02 19:47:06] INFO (torcheeg/MainThread) \n",
      "[Train] train_loss: 0.048 train_accuracy: 0.970 \n",
      "\n"
     ]
    },
    {
     "name": "stdout",
     "output_type": "stream",
     "text": [
      "Epoch 31: 100%|██████████| 7/7 [00:00<00:00,  9.89it/s, loss=0.0377, v_num=0, train_loss=0.000844, train_accuracy=1.000]"
     ]
    },
    {
     "name": "stderr",
     "output_type": "stream",
     "text": [
      "Metric train_loss improved by 0.001 >= min_delta = 0.0. New best score: 0.001\n"
     ]
    },
    {
     "name": "stdout",
     "output_type": "stream",
     "text": [
      "Epoch 31: 100%|██████████| 7/7 [00:00<00:00,  9.86it/s, loss=0.0377, v_num=0, train_loss=0.000844, train_accuracy=1.000]"
     ]
    },
    {
     "name": "stderr",
     "output_type": "stream",
     "text": [
      "[2024-12-02 19:47:10] INFO (torcheeg/MainThread) \n",
      "[Train] train_loss: 0.024 train_accuracy: 0.990 \n",
      "\n"
     ]
    },
    {
     "name": "stdout",
     "output_type": "stream",
     "text": [
      "Epoch 32: 100%|██████████| 7/7 [00:00<00:00,  9.93it/s, loss=0.0372, v_num=0, train_loss=0.137, train_accuracy=0.875]   "
     ]
    },
    {
     "name": "stderr",
     "output_type": "stream",
     "text": [
      "[2024-12-02 19:47:15] INFO (torcheeg/MainThread) \n",
      "[Train] train_loss: 0.042 train_accuracy: 0.985 \n",
      "\n"
     ]
    },
    {
     "name": "stdout",
     "output_type": "stream",
     "text": [
      "Epoch 33: 100%|██████████| 7/7 [00:00<00:00,  9.61it/s, loss=0.0579, v_num=0, train_loss=0.0094, train_accuracy=1.000]"
     ]
    },
    {
     "name": "stderr",
     "output_type": "stream",
     "text": [
      "[2024-12-02 19:47:20] INFO (torcheeg/MainThread) \n",
      "[Train] train_loss: 0.107 train_accuracy: 0.960 \n",
      "\n"
     ]
    },
    {
     "name": "stdout",
     "output_type": "stream",
     "text": [
      "Epoch 34: 100%|██████████| 7/7 [00:00<00:00,  9.76it/s, loss=0.0806, v_num=0, train_loss=0.0621, train_accuracy=1.000]"
     ]
    },
    {
     "name": "stderr",
     "output_type": "stream",
     "text": [
      "[2024-12-02 19:47:25] INFO (torcheeg/MainThread) \n",
      "[Train] train_loss: 0.093 train_accuracy: 0.960 \n",
      "\n"
     ]
    },
    {
     "name": "stdout",
     "output_type": "stream",
     "text": [
      "Epoch 35: 100%|██████████| 7/7 [00:00<00:00,  9.78it/s, loss=0.0931, v_num=0, train_loss=7.13e-5, train_accuracy=1.000]"
     ]
    },
    {
     "name": "stderr",
     "output_type": "stream",
     "text": [
      "Metric train_loss improved by 0.001 >= min_delta = 0.0. New best score: 0.000\n"
     ]
    },
    {
     "name": "stdout",
     "output_type": "stream",
     "text": [
      "Epoch 35: 100%|██████████| 7/7 [00:00<00:00,  9.75it/s, loss=0.0931, v_num=0, train_loss=7.13e-5, train_accuracy=1.000]"
     ]
    },
    {
     "name": "stderr",
     "output_type": "stream",
     "text": [
      "[2024-12-02 19:47:30] INFO (torcheeg/MainThread) \n",
      "[Train] train_loss: 0.072 train_accuracy: 0.960 \n",
      "\n"
     ]
    },
    {
     "name": "stdout",
     "output_type": "stream",
     "text": [
      "Epoch 36: 100%|██████████| 7/7 [00:00<00:00,  9.83it/s, loss=0.0796, v_num=0, train_loss=0.00668, train_accuracy=1.000]"
     ]
    },
    {
     "name": "stderr",
     "output_type": "stream",
     "text": [
      "[2024-12-02 19:47:34] INFO (torcheeg/MainThread) \n",
      "[Train] train_loss: 0.100 train_accuracy: 0.955 \n",
      "\n"
     ]
    },
    {
     "name": "stdout",
     "output_type": "stream",
     "text": [
      "Epoch 37: 100%|██████████| 7/7 [00:00<00:00,  9.97it/s, loss=0.0867, v_num=0, train_loss=0.0508, train_accuracy=1.000] "
     ]
    },
    {
     "name": "stderr",
     "output_type": "stream",
     "text": [
      "[2024-12-02 19:47:39] INFO (torcheeg/MainThread) \n",
      "[Train] train_loss: 0.083 train_accuracy: 0.975 \n",
      "\n"
     ]
    },
    {
     "name": "stdout",
     "output_type": "stream",
     "text": [
      "Epoch 38: 100%|██████████| 7/7 [00:00<00:00,  9.90it/s, loss=0.0861, v_num=0, train_loss=0.138, train_accuracy=0.875] "
     ]
    },
    {
     "name": "stderr",
     "output_type": "stream",
     "text": [
      "[2024-12-02 19:47:44] INFO (torcheeg/MainThread) \n",
      "[Train] train_loss: 0.073 train_accuracy: 0.980 \n",
      "\n"
     ]
    },
    {
     "name": "stdout",
     "output_type": "stream",
     "text": [
      "Epoch 39: 100%|██████████| 7/7 [00:00<00:00,  9.87it/s, loss=0.0751, v_num=0, train_loss=0.0467, train_accuracy=1.000]"
     ]
    },
    {
     "name": "stderr",
     "output_type": "stream",
     "text": [
      "[2024-12-02 19:47:49] INFO (torcheeg/MainThread) \n",
      "[Train] train_loss: 0.062 train_accuracy: 0.970 \n",
      "\n"
     ]
    },
    {
     "name": "stdout",
     "output_type": "stream",
     "text": [
      "Epoch 40: 100%|██████████| 7/7 [00:00<00:00,  9.99it/s, loss=0.0605, v_num=0, train_loss=0.00821, train_accuracy=1.000]"
     ]
    },
    {
     "name": "stderr",
     "output_type": "stream",
     "text": [
      "[2024-12-02 19:47:53] INFO (torcheeg/MainThread) \n",
      "[Train] train_loss: 0.041 train_accuracy: 0.985 \n",
      "\n"
     ]
    },
    {
     "name": "stdout",
     "output_type": "stream",
     "text": [
      "Epoch 41: 100%|██████████| 7/7 [00:00<00:00,  9.83it/s, loss=0.0563, v_num=0, train_loss=0.000787, train_accuracy=1.000]"
     ]
    },
    {
     "name": "stderr",
     "output_type": "stream",
     "text": [
      "[2024-12-02 19:47:58] INFO (torcheeg/MainThread) \n",
      "[Train] train_loss: 0.060 train_accuracy: 0.980 \n",
      "\n"
     ]
    },
    {
     "name": "stdout",
     "output_type": "stream",
     "text": [
      "Epoch 42: 100%|██████████| 7/7 [00:00<00:00, 10.02it/s, loss=0.0459, v_num=0, train_loss=0.0594, train_accuracy=1.000]  "
     ]
    },
    {
     "name": "stderr",
     "output_type": "stream",
     "text": [
      "[2024-12-02 19:48:03] INFO (torcheeg/MainThread) \n",
      "[Train] train_loss: 0.030 train_accuracy: 0.990 \n",
      "\n"
     ]
    },
    {
     "name": "stdout",
     "output_type": "stream",
     "text": [
      "Epoch 43: 100%|██████████| 7/7 [00:00<00:00, 10.02it/s, loss=0.0379, v_num=0, train_loss=4.29e-5, train_accuracy=1.000]"
     ]
    },
    {
     "name": "stderr",
     "output_type": "stream",
     "text": [
      "Metric train_loss improved by 0.000 >= min_delta = 0.0. New best score: 0.000\n"
     ]
    },
    {
     "name": "stdout",
     "output_type": "stream",
     "text": [
      "Epoch 43: 100%|██████████| 7/7 [00:00<00:00,  9.99it/s, loss=0.0379, v_num=0, train_loss=4.29e-5, train_accuracy=1.000]"
     ]
    },
    {
     "name": "stderr",
     "output_type": "stream",
     "text": [
      "[2024-12-02 19:48:07] INFO (torcheeg/MainThread) \n",
      "[Train] train_loss: 0.019 train_accuracy: 0.990 \n",
      "\n"
     ]
    },
    {
     "name": "stdout",
     "output_type": "stream",
     "text": [
      "Epoch 44: 100%|██████████| 7/7 [00:00<00:00,  9.82it/s, loss=0.0482, v_num=0, train_loss=8.87e-5, train_accuracy=1.000]"
     ]
    },
    {
     "name": "stderr",
     "output_type": "stream",
     "text": [
      "[2024-12-02 19:48:12] INFO (torcheeg/MainThread) \n",
      "[Train] train_loss: 0.090 train_accuracy: 0.970 \n",
      "\n"
     ]
    },
    {
     "name": "stdout",
     "output_type": "stream",
     "text": [
      "Epoch 45: 100%|██████████| 7/7 [00:00<00:00,  9.80it/s, loss=0.0771, v_num=0, train_loss=0.000207, train_accuracy=1.000]"
     ]
    },
    {
     "name": "stderr",
     "output_type": "stream",
     "text": [
      "[2024-12-02 19:48:17] INFO (torcheeg/MainThread) \n",
      "[Train] train_loss: 0.112 train_accuracy: 0.960 \n",
      "\n"
     ]
    },
    {
     "name": "stdout",
     "output_type": "stream",
     "text": [
      "Epoch 46: 100%|██████████| 7/7 [00:00<00:00,  9.89it/s, loss=0.0805, v_num=0, train_loss=0.00532, train_accuracy=1.000] "
     ]
    },
    {
     "name": "stderr",
     "output_type": "stream",
     "text": [
      "[2024-12-02 19:48:22] INFO (torcheeg/MainThread) \n",
      "[Train] train_loss: 0.028 train_accuracy: 0.985 \n",
      "\n"
     ]
    },
    {
     "name": "stdout",
     "output_type": "stream",
     "text": [
      "Epoch 47: 100%|██████████| 7/7 [00:00<00:00,  9.99it/s, loss=0.0456, v_num=0, train_loss=0.00235, train_accuracy=1.000]"
     ]
    },
    {
     "name": "stderr",
     "output_type": "stream",
     "text": [
      "[2024-12-02 19:48:27] INFO (torcheeg/MainThread) \n",
      "[Train] train_loss: 0.029 train_accuracy: 0.985 \n",
      "\n"
     ]
    },
    {
     "name": "stdout",
     "output_type": "stream",
     "text": [
      "Epoch 48: 100%|██████████| 7/7 [00:00<00:00,  9.90it/s, loss=0.0212, v_num=0, train_loss=0.00607, train_accuracy=1.000]"
     ]
    },
    {
     "name": "stderr",
     "output_type": "stream",
     "text": [
      "[2024-12-02 19:48:31] INFO (torcheeg/MainThread) \n",
      "[Train] train_loss: 0.013 train_accuracy: 0.995 \n",
      "\n"
     ]
    },
    {
     "name": "stdout",
     "output_type": "stream",
     "text": [
      "Epoch 49: 100%|██████████| 7/7 [00:00<00:00,  9.95it/s, loss=0.0188, v_num=0, train_loss=0.00186, train_accuracy=1.000]"
     ]
    },
    {
     "name": "stderr",
     "output_type": "stream",
     "text": [
      "[2024-12-02 19:48:36] INFO (torcheeg/MainThread) \n",
      "[Train] train_loss: 0.014 train_accuracy: 1.000 \n",
      "\n"
     ]
    },
    {
     "name": "stdout",
     "output_type": "stream",
     "text": [
      "Epoch 50: 100%|██████████| 7/7 [00:00<00:00,  9.87it/s, loss=0.0107, v_num=0, train_loss=0.000187, train_accuracy=1.000]"
     ]
    },
    {
     "name": "stderr",
     "output_type": "stream",
     "text": [
      "[2024-12-02 19:48:41] INFO (torcheeg/MainThread) \n",
      "[Train] train_loss: 0.005 train_accuracy: 1.000 \n",
      "\n"
     ]
    },
    {
     "name": "stdout",
     "output_type": "stream",
     "text": [
      "Epoch 51: 100%|██████████| 7/7 [00:00<00:00,  9.76it/s, loss=0.0124, v_num=0, train_loss=0.000219, train_accuracy=1.000] "
     ]
    },
    {
     "name": "stderr",
     "output_type": "stream",
     "text": [
      "[2024-12-02 19:48:46] INFO (torcheeg/MainThread) \n",
      "[Train] train_loss: 0.018 train_accuracy: 0.990 \n",
      "\n"
     ]
    },
    {
     "name": "stdout",
     "output_type": "stream",
     "text": [
      "Epoch 52: 100%|██████████| 7/7 [00:00<00:00,  9.94it/s, loss=0.0104, v_num=0, train_loss=0.0135, train_accuracy=1.000]  "
     ]
    },
    {
     "name": "stderr",
     "output_type": "stream",
     "text": [
      "[2024-12-02 19:48:50] INFO (torcheeg/MainThread) \n",
      "[Train] train_loss: 0.007 train_accuracy: 1.000 \n",
      "\n"
     ]
    },
    {
     "name": "stdout",
     "output_type": "stream",
     "text": [
      "Epoch 53: 100%|██████████| 7/7 [00:00<00:00,  9.99it/s, loss=0.011, v_num=0, train_loss=6.9e-5, train_accuracy=1.000]   "
     ]
    },
    {
     "name": "stderr",
     "output_type": "stream",
     "text": [
      "[2024-12-02 19:48:55] INFO (torcheeg/MainThread) \n",
      "[Train] train_loss: 0.006 train_accuracy: 0.995 \n",
      "\n"
     ]
    },
    {
     "name": "stdout",
     "output_type": "stream",
     "text": [
      "Epoch 54: 100%|██████████| 7/7 [00:00<00:00,  9.77it/s, loss=0.00866, v_num=0, train_loss=0.00116, train_accuracy=1.000]"
     ]
    },
    {
     "name": "stderr",
     "output_type": "stream",
     "text": [
      "[2024-12-02 19:49:00] INFO (torcheeg/MainThread) \n",
      "[Train] train_loss: 0.013 train_accuracy: 0.990 \n",
      "\n"
     ]
    },
    {
     "name": "stdout",
     "output_type": "stream",
     "text": [
      "Epoch 55: 100%|██████████| 7/7 [00:00<00:00,  9.87it/s, loss=0.00928, v_num=0, train_loss=0.00011, train_accuracy=1.000] "
     ]
    },
    {
     "name": "stderr",
     "output_type": "stream",
     "text": [
      "[2024-12-02 19:49:04] INFO (torcheeg/MainThread) \n",
      "[Train] train_loss: 0.009 train_accuracy: 0.995 \n",
      "\n"
     ]
    },
    {
     "name": "stdout",
     "output_type": "stream",
     "text": [
      "Epoch 56: 100%|██████████| 7/7 [00:00<00:00,  9.90it/s, loss=0.0123, v_num=0, train_loss=0.000451, train_accuracy=1.000]"
     ]
    },
    {
     "name": "stderr",
     "output_type": "stream",
     "text": [
      "[2024-12-02 19:49:09] INFO (torcheeg/MainThread) \n",
      "[Train] train_loss: 0.018 train_accuracy: 0.995 \n",
      "\n"
     ]
    },
    {
     "name": "stdout",
     "output_type": "stream",
     "text": [
      "Epoch 57: 100%|██████████| 7/7 [00:00<00:00,  9.94it/s, loss=0.0232, v_num=0, train_loss=0.004, train_accuracy=1.000]    "
     ]
    },
    {
     "name": "stderr",
     "output_type": "stream",
     "text": [
      "[2024-12-02 19:49:14] INFO (torcheeg/MainThread) \n",
      "[Train] train_loss: 0.039 train_accuracy: 0.990 \n",
      "\n"
     ]
    },
    {
     "name": "stdout",
     "output_type": "stream",
     "text": [
      "Epoch 58: 100%|██████████| 7/7 [00:00<00:00,  9.96it/s, loss=0.0329, v_num=0, train_loss=0.00145, train_accuracy=1.000] "
     ]
    },
    {
     "name": "stderr",
     "output_type": "stream",
     "text": [
      "[2024-12-02 19:49:18] INFO (torcheeg/MainThread) \n",
      "[Train] train_loss: 0.037 train_accuracy: 0.985 \n",
      "\n"
     ]
    },
    {
     "name": "stdout",
     "output_type": "stream",
     "text": [
      "Epoch 59: 100%|██████████| 7/7 [00:00<00:00,  9.93it/s, loss=0.0373, v_num=0, train_loss=0.000203, train_accuracy=1.000]"
     ]
    },
    {
     "name": "stderr",
     "output_type": "stream",
     "text": [
      "[2024-12-02 19:49:23] INFO (torcheeg/MainThread) \n",
      "[Train] train_loss: 0.030 train_accuracy: 0.990 \n",
      "\n"
     ]
    },
    {
     "name": "stdout",
     "output_type": "stream",
     "text": [
      "Epoch 60: 100%|██████████| 7/7 [00:00<00:00,  9.93it/s, loss=0.0285, v_num=0, train_loss=0.0222, train_accuracy=1.000]  "
     ]
    },
    {
     "name": "stderr",
     "output_type": "stream",
     "text": [
      "[2024-12-02 19:49:28] INFO (torcheeg/MainThread) \n",
      "[Train] train_loss: 0.015 train_accuracy: 0.995 \n",
      "\n"
     ]
    },
    {
     "name": "stdout",
     "output_type": "stream",
     "text": [
      "Epoch 61: 100%|██████████| 7/7 [00:00<00:00,  9.96it/s, loss=0.0507, v_num=0, train_loss=0.177, train_accuracy=0.875]  "
     ]
    },
    {
     "name": "stderr",
     "output_type": "stream",
     "text": [
      "[2024-12-02 19:49:32] INFO (torcheeg/MainThread) \n",
      "[Train] train_loss: 0.103 train_accuracy: 0.980 \n",
      "\n"
     ]
    },
    {
     "name": "stdout",
     "output_type": "stream",
     "text": [
      "Epoch 62: 100%|██████████| 7/7 [00:00<00:00,  9.90it/s, loss=0.0436, v_num=0, train_loss=0.00131, train_accuracy=1.000]"
     ]
    },
    {
     "name": "stderr",
     "output_type": "stream",
     "text": [
      "[2024-12-02 19:49:37] INFO (torcheeg/MainThread) \n",
      "[Train] train_loss: 0.015 train_accuracy: 0.995 \n",
      "\n"
     ]
    },
    {
     "name": "stdout",
     "output_type": "stream",
     "text": [
      "Epoch 63: 100%|██████████| 7/7 [00:00<00:00,  9.87it/s, loss=0.0799, v_num=0, train_loss=0.458, train_accuracy=0.875]  "
     ]
    },
    {
     "name": "stderr",
     "output_type": "stream",
     "text": [
      "Monitored metric train_loss did not improve in the last 20 records. Best score: 0.000. Signaling Trainer to stop.\n"
     ]
    },
    {
     "name": "stdout",
     "output_type": "stream",
     "text": [
      "Epoch 63: 100%|██████████| 7/7 [00:00<00:00,  9.85it/s, loss=0.0799, v_num=0, train_loss=0.458, train_accuracy=0.875]"
     ]
    },
    {
     "name": "stderr",
     "output_type": "stream",
     "text": [
      "[2024-12-02 19:49:41] INFO (torcheeg/MainThread) \n",
      "[Train] train_loss: 0.112 train_accuracy: 0.975 \n",
      "\n"
     ]
    },
    {
     "name": "stdout",
     "output_type": "stream",
     "text": [
      "Epoch 63: 100%|██████████| 7/7 [00:04<00:00,  1.51it/s, loss=0.0799, v_num=0, train_loss=0.458, train_accuracy=0.875]\n"
     ]
    },
    {
     "name": "stderr",
     "output_type": "stream",
     "text": [
      "GPU available: True (cuda), used: True\n",
      "TPU available: False, using: 0 TPU cores\n",
      "IPU available: False, using: 0 IPUs\n",
      "HPU available: False, using: 0 HPUs\n",
      "LOCAL_RANK: 0 - CUDA_VISIBLE_DEVICES: [0]\n",
      "/root/autodl-tmp/conda/envs/law/lib/python3.8/site-packages/pytorch_lightning/trainer/connectors/data_connector.py:224: PossibleUserWarning: The dataloader, test_dataloader 0, does not have many workers which may be a bottleneck. Consider increasing the value of the `num_workers` argument` (try 128 which is the number of cpus on this machine) in the `DataLoader` init to improve performance.\n",
      "  rank_zero_warn(\n"
     ]
    },
    {
     "name": "stdout",
     "output_type": "stream",
     "text": [
      "Testing DataLoader 0: 100%|██████████| 3/3 [00:00<00:00, 39.77it/s]"
     ]
    },
    {
     "name": "stderr",
     "output_type": "stream",
     "text": [
      "[2024-12-02 19:49:43] INFO (torcheeg/MainThread) \n",
      "[Test] test_loss: 2.684 test_accuracy: 0.538 \n",
      "\n"
     ]
    },
    {
     "name": "stdout",
     "output_type": "stream",
     "text": [
      "Testing DataLoader 0: 100%|██████████| 3/3 [00:00<00:00, 37.24it/s]\n",
      "────────────────────────────────────────────────────────────────────────────────────────────────────────────────────────\n",
      "       Test metric             DataLoader 0\n",
      "────────────────────────────────────────────────────────────────────────────────────────────────────────────────────────\n",
      "      test_accuracy         0.5375000238418579\n",
      "        test_loss           2.6837844848632812\n",
      "────────────────────────────────────────────────────────────────────────────────────────────────────────────────────────\n",
      "已删除文件夹: /root/autodl-tmp/.autodl/kinlaw/mi_swin/lightning_logs\n"
     ]
    },
    {
     "name": "stderr",
     "output_type": "stream",
     "text": [
      "GPU available: True (cuda), used: True\n",
      "TPU available: False, using: 0 TPU cores\n",
      "IPU available: False, using: 0 IPUs\n",
      "HPU available: False, using: 0 HPUs\n",
      "Missing logger folder: /root/autodl-tmp/.autodl/kinlaw/mi_swin/lightning_logs\n",
      "LOCAL_RANK: 0 - CUDA_VISIBLE_DEVICES: [0]\n",
      "/root/autodl-tmp/conda/envs/law/lib/python3.8/site-packages/pytorch_lightning/trainer/connectors/data_connector.py:224: PossibleUserWarning: The dataloader, train_dataloader, does not have many workers which may be a bottleneck. Consider increasing the value of the `num_workers` argument` (try 128 which is the number of cpus on this machine) in the `DataLoader` init to improve performance.\n",
      "  rank_zero_warn(\n",
      "/root/autodl-tmp/conda/envs/law/lib/python3.8/site-packages/pytorch_lightning/trainer/trainer.py:1609: PossibleUserWarning: The number of training batches (7) is smaller than the logging interval Trainer(log_every_n_steps=50). Set a lower value for log_every_n_steps if you want to see logs for the training epoch.\n",
      "  rank_zero_warn(\n"
     ]
    },
    {
     "name": "stdout",
     "output_type": "stream",
     "text": [
      "Epoch 0: 100%|██████████| 7/7 [00:00<00:00,  9.09it/s, loss=2.67, v_num=0, train_loss=1.460, train_accuracy=0.625] "
     ]
    },
    {
     "name": "stderr",
     "output_type": "stream",
     "text": [
      "Metric train_loss improved. New best score: 1.455\n"
     ]
    },
    {
     "name": "stdout",
     "output_type": "stream",
     "text": [
      "Epoch 0: 100%|██████████| 7/7 [00:00<00:00,  9.07it/s, loss=2.67, v_num=0, train_loss=1.460, train_accuracy=0.625]"
     ]
    },
    {
     "name": "stderr",
     "output_type": "stream",
     "text": [
      "[2024-12-02 19:49:51] INFO (torcheeg/MainThread) \n",
      "[Train] train_loss: 2.668 train_accuracy: 0.535 \n",
      "\n"
     ]
    },
    {
     "name": "stdout",
     "output_type": "stream",
     "text": [
      "Epoch 1: 100%|██████████| 7/7 [00:00<00:00,  9.82it/s, loss=1.77, v_num=0, train_loss=0.811, train_accuracy=0.625]"
     ]
    },
    {
     "name": "stderr",
     "output_type": "stream",
     "text": [
      "Metric train_loss improved by 0.645 >= min_delta = 0.0. New best score: 0.811\n"
     ]
    },
    {
     "name": "stdout",
     "output_type": "stream",
     "text": [
      "Epoch 1: 100%|██████████| 7/7 [00:00<00:00,  9.80it/s, loss=1.77, v_num=0, train_loss=0.811, train_accuracy=0.625]"
     ]
    },
    {
     "name": "stderr",
     "output_type": "stream",
     "text": [
      "[2024-12-02 19:49:55] INFO (torcheeg/MainThread) \n",
      "[Train] train_loss: 0.862 train_accuracy: 0.605 \n",
      "\n"
     ]
    },
    {
     "name": "stdout",
     "output_type": "stream",
     "text": [
      "Epoch 2: 100%|██████████| 7/7 [00:00<00:00,  9.83it/s, loss=1.41, v_num=0, train_loss=0.711, train_accuracy=0.750]"
     ]
    },
    {
     "name": "stderr",
     "output_type": "stream",
     "text": [
      "Metric train_loss improved by 0.100 >= min_delta = 0.0. New best score: 0.711\n"
     ]
    },
    {
     "name": "stdout",
     "output_type": "stream",
     "text": [
      "Epoch 2: 100%|██████████| 7/7 [00:00<00:00,  9.80it/s, loss=1.41, v_num=0, train_loss=0.711, train_accuracy=0.750]"
     ]
    },
    {
     "name": "stderr",
     "output_type": "stream",
     "text": [
      "[2024-12-02 19:49:59] INFO (torcheeg/MainThread) \n",
      "[Train] train_loss: 0.614 train_accuracy: 0.695 \n",
      "\n"
     ]
    },
    {
     "name": "stdout",
     "output_type": "stream",
     "text": [
      "Epoch 3: 100%|██████████| 7/7 [00:00<00:00,  9.87it/s, loss=0.661, v_num=0, train_loss=1.010, train_accuracy=0.500]"
     ]
    },
    {
     "name": "stderr",
     "output_type": "stream",
     "text": [
      "[2024-12-02 19:50:04] INFO (torcheeg/MainThread) \n",
      "[Train] train_loss: 0.561 train_accuracy: 0.790 \n",
      "\n"
     ]
    },
    {
     "name": "stdout",
     "output_type": "stream",
     "text": [
      "Epoch 4: 100%|██████████| 7/7 [00:00<00:00,  9.26it/s, loss=0.511, v_num=0, train_loss=0.391, train_accuracy=0.875]"
     ]
    },
    {
     "name": "stderr",
     "output_type": "stream",
     "text": [
      "Metric train_loss improved by 0.320 >= min_delta = 0.0. New best score: 0.391\n"
     ]
    },
    {
     "name": "stdout",
     "output_type": "stream",
     "text": [
      "Epoch 4: 100%|██████████| 7/7 [00:00<00:00,  9.23it/s, loss=0.511, v_num=0, train_loss=0.391, train_accuracy=0.875]"
     ]
    },
    {
     "name": "stderr",
     "output_type": "stream",
     "text": [
      "[2024-12-02 19:50:08] INFO (torcheeg/MainThread) \n",
      "[Train] train_loss: 0.393 train_accuracy: 0.810 \n",
      "\n"
     ]
    },
    {
     "name": "stdout",
     "output_type": "stream",
     "text": [
      "Epoch 5: 100%|██████████| 7/7 [00:00<00:00,  9.82it/s, loss=0.433, v_num=0, train_loss=0.577, train_accuracy=0.625] "
     ]
    },
    {
     "name": "stderr",
     "output_type": "stream",
     "text": [
      "[2024-12-02 19:50:13] INFO (torcheeg/MainThread) \n",
      "[Train] train_loss: 0.357 train_accuracy: 0.855 \n",
      "\n"
     ]
    },
    {
     "name": "stdout",
     "output_type": "stream",
     "text": [
      "Epoch 6: 100%|██████████| 7/7 [00:00<00:00,  9.89it/s, loss=0.334, v_num=0, train_loss=0.098, train_accuracy=1.000]"
     ]
    },
    {
     "name": "stderr",
     "output_type": "stream",
     "text": [
      "Metric train_loss improved by 0.293 >= min_delta = 0.0. New best score: 0.098\n"
     ]
    },
    {
     "name": "stdout",
     "output_type": "stream",
     "text": [
      "Epoch 6: 100%|██████████| 7/7 [00:00<00:00,  9.87it/s, loss=0.334, v_num=0, train_loss=0.098, train_accuracy=1.000]"
     ]
    },
    {
     "name": "stderr",
     "output_type": "stream",
     "text": [
      "[2024-12-02 19:50:17] INFO (torcheeg/MainThread) \n",
      "[Train] train_loss: 0.279 train_accuracy: 0.885 \n",
      "\n"
     ]
    },
    {
     "name": "stdout",
     "output_type": "stream",
     "text": [
      "Epoch 7: 100%|██████████| 7/7 [00:00<00:00,  9.70it/s, loss=0.379, v_num=0, train_loss=0.527, train_accuracy=0.625]"
     ]
    },
    {
     "name": "stderr",
     "output_type": "stream",
     "text": [
      "[2024-12-02 19:50:22] INFO (torcheeg/MainThread) \n",
      "[Train] train_loss: 0.509 train_accuracy: 0.760 \n",
      "\n"
     ]
    },
    {
     "name": "stdout",
     "output_type": "stream",
     "text": [
      "Epoch 8: 100%|██████████| 7/7 [00:00<00:00,  9.86it/s, loss=0.387, v_num=0, train_loss=0.457, train_accuracy=0.750]"
     ]
    },
    {
     "name": "stderr",
     "output_type": "stream",
     "text": [
      "[2024-12-02 19:50:26] INFO (torcheeg/MainThread) \n",
      "[Train] train_loss: 0.335 train_accuracy: 0.860 \n",
      "\n"
     ]
    },
    {
     "name": "stdout",
     "output_type": "stream",
     "text": [
      "Epoch 9: 100%|██████████| 7/7 [00:00<00:00,  9.77it/s, loss=0.365, v_num=0, train_loss=0.395, train_accuracy=0.750]"
     ]
    },
    {
     "name": "stderr",
     "output_type": "stream",
     "text": [
      "[2024-12-02 19:50:30] INFO (torcheeg/MainThread) \n",
      "[Train] train_loss: 0.285 train_accuracy: 0.880 \n",
      "\n"
     ]
    },
    {
     "name": "stdout",
     "output_type": "stream",
     "text": [
      "Epoch 10: 100%|██████████| 7/7 [00:00<00:00,  9.81it/s, loss=0.265, v_num=0, train_loss=0.329, train_accuracy=0.750] "
     ]
    },
    {
     "name": "stderr",
     "output_type": "stream",
     "text": [
      "[2024-12-02 19:50:35] INFO (torcheeg/MainThread) \n",
      "[Train] train_loss: 0.183 train_accuracy: 0.930 \n",
      "\n"
     ]
    },
    {
     "name": "stdout",
     "output_type": "stream",
     "text": [
      "Epoch 11: 100%|██████████| 7/7 [00:00<00:00,  9.26it/s, loss=0.186, v_num=0, train_loss=0.014, train_accuracy=1.000] "
     ]
    },
    {
     "name": "stderr",
     "output_type": "stream",
     "text": [
      "Metric train_loss improved by 0.084 >= min_delta = 0.0. New best score: 0.014\n"
     ]
    },
    {
     "name": "stdout",
     "output_type": "stream",
     "text": [
      "Epoch 11: 100%|██████████| 7/7 [00:00<00:00,  9.24it/s, loss=0.186, v_num=0, train_loss=0.014, train_accuracy=1.000]"
     ]
    },
    {
     "name": "stderr",
     "output_type": "stream",
     "text": [
      "[2024-12-02 19:50:39] INFO (torcheeg/MainThread) \n",
      "[Train] train_loss: 0.119 train_accuracy: 0.945 \n",
      "\n"
     ]
    },
    {
     "name": "stdout",
     "output_type": "stream",
     "text": [
      "Epoch 12: 100%|██████████| 7/7 [00:00<00:00,  9.89it/s, loss=0.194, v_num=0, train_loss=0.0894, train_accuracy=1.000]"
     ]
    },
    {
     "name": "stderr",
     "output_type": "stream",
     "text": [
      "[2024-12-02 19:50:44] INFO (torcheeg/MainThread) \n",
      "[Train] train_loss: 0.273 train_accuracy: 0.910 \n",
      "\n"
     ]
    },
    {
     "name": "stdout",
     "output_type": "stream",
     "text": [
      "Epoch 13: 100%|██████████| 7/7 [00:00<00:00,  9.81it/s, loss=0.219, v_num=0, train_loss=0.115, train_accuracy=1.000] "
     ]
    },
    {
     "name": "stderr",
     "output_type": "stream",
     "text": [
      "[2024-12-02 19:50:48] INFO (torcheeg/MainThread) \n",
      "[Train] train_loss: 0.254 train_accuracy: 0.885 \n",
      "\n"
     ]
    },
    {
     "name": "stdout",
     "output_type": "stream",
     "text": [
      "Epoch 14: 100%|██████████| 7/7 [00:00<00:00,  9.75it/s, loss=0.225, v_num=0, train_loss=0.117, train_accuracy=1.000] "
     ]
    },
    {
     "name": "stderr",
     "output_type": "stream",
     "text": [
      "[2024-12-02 19:50:52] INFO (torcheeg/MainThread) \n",
      "[Train] train_loss: 0.197 train_accuracy: 0.920 \n",
      "\n"
     ]
    },
    {
     "name": "stdout",
     "output_type": "stream",
     "text": [
      "Epoch 15: 100%|██████████| 7/7 [00:00<00:00,  9.92it/s, loss=0.201, v_num=0, train_loss=0.137, train_accuracy=1.000] "
     ]
    },
    {
     "name": "stderr",
     "output_type": "stream",
     "text": [
      "[2024-12-02 19:50:57] INFO (torcheeg/MainThread) \n",
      "[Train] train_loss: 0.165 train_accuracy: 0.950 \n",
      "\n"
     ]
    },
    {
     "name": "stdout",
     "output_type": "stream",
     "text": [
      "Epoch 16: 100%|██████████| 7/7 [00:00<00:00,  9.96it/s, loss=0.167, v_num=0, train_loss=0.00255, train_accuracy=1.000]"
     ]
    },
    {
     "name": "stderr",
     "output_type": "stream",
     "text": [
      "Metric train_loss improved by 0.011 >= min_delta = 0.0. New best score: 0.003\n"
     ]
    },
    {
     "name": "stdout",
     "output_type": "stream",
     "text": [
      "Epoch 16: 100%|██████████| 7/7 [00:00<00:00,  9.93it/s, loss=0.167, v_num=0, train_loss=0.00255, train_accuracy=1.000]"
     ]
    },
    {
     "name": "stderr",
     "output_type": "stream",
     "text": [
      "[2024-12-02 19:51:01] INFO (torcheeg/MainThread) \n",
      "[Train] train_loss: 0.166 train_accuracy: 0.935 \n",
      "\n"
     ]
    },
    {
     "name": "stdout",
     "output_type": "stream",
     "text": [
      "Epoch 17: 100%|██████████| 7/7 [00:00<00:00,  9.79it/s, loss=0.144, v_num=0, train_loss=0.0247, train_accuracy=1.000] "
     ]
    },
    {
     "name": "stderr",
     "output_type": "stream",
     "text": [
      "[2024-12-02 19:51:06] INFO (torcheeg/MainThread) \n",
      "[Train] train_loss: 0.084 train_accuracy: 0.965 \n",
      "\n"
     ]
    },
    {
     "name": "stdout",
     "output_type": "stream",
     "text": [
      "Epoch 18: 100%|██████████| 7/7 [00:00<00:00,  9.76it/s, loss=0.109, v_num=0, train_loss=0.0297, train_accuracy=1.000]"
     ]
    },
    {
     "name": "stderr",
     "output_type": "stream",
     "text": [
      "[2024-12-02 19:51:10] INFO (torcheeg/MainThread) \n",
      "[Train] train_loss: 0.092 train_accuracy: 0.955 \n",
      "\n"
     ]
    },
    {
     "name": "stdout",
     "output_type": "stream",
     "text": [
      "Epoch 19: 100%|██████████| 7/7 [00:00<00:00,  9.87it/s, loss=0.134, v_num=0, train_loss=1.070, train_accuracy=0.875]  "
     ]
    },
    {
     "name": "stderr",
     "output_type": "stream",
     "text": [
      "[2024-12-02 19:51:15] INFO (torcheeg/MainThread) \n",
      "[Train] train_loss: 0.227 train_accuracy: 0.960 \n",
      "\n"
     ]
    },
    {
     "name": "stdout",
     "output_type": "stream",
     "text": [
      "Epoch 20: 100%|██████████| 7/7 [00:00<00:00,  9.70it/s, loss=0.15, v_num=0, train_loss=0.00983, train_accuracy=1.000]"
     ]
    },
    {
     "name": "stderr",
     "output_type": "stream",
     "text": [
      "[2024-12-02 19:51:19] INFO (torcheeg/MainThread) \n",
      "[Train] train_loss: 0.116 train_accuracy: 0.955 \n",
      "\n"
     ]
    },
    {
     "name": "stdout",
     "output_type": "stream",
     "text": [
      "Epoch 21: 100%|██████████| 7/7 [00:00<00:00,  9.88it/s, loss=0.162, v_num=0, train_loss=0.163, train_accuracy=0.875] "
     ]
    },
    {
     "name": "stderr",
     "output_type": "stream",
     "text": [
      "[2024-12-02 19:51:24] INFO (torcheeg/MainThread) \n",
      "[Train] train_loss: 0.126 train_accuracy: 0.945 \n",
      "\n"
     ]
    },
    {
     "name": "stdout",
     "output_type": "stream",
     "text": [
      "Epoch 22: 100%|██████████| 7/7 [00:00<00:00,  9.67it/s, loss=0.0881, v_num=0, train_loss=0.00835, train_accuracy=1.000]"
     ]
    },
    {
     "name": "stderr",
     "output_type": "stream",
     "text": [
      "[2024-12-02 19:51:28] INFO (torcheeg/MainThread) \n",
      "[Train] train_loss: 0.061 train_accuracy: 0.980 \n",
      "\n"
     ]
    },
    {
     "name": "stdout",
     "output_type": "stream",
     "text": [
      "Epoch 23: 100%|██████████| 7/7 [00:00<00:00,  9.87it/s, loss=0.093, v_num=0, train_loss=0.00635, train_accuracy=1.000] "
     ]
    },
    {
     "name": "stderr",
     "output_type": "stream",
     "text": [
      "[2024-12-02 19:51:33] INFO (torcheeg/MainThread) \n",
      "[Train] train_loss: 0.094 train_accuracy: 0.960 \n",
      "\n"
     ]
    },
    {
     "name": "stdout",
     "output_type": "stream",
     "text": [
      "Epoch 24: 100%|██████████| 7/7 [00:00<00:00,  9.86it/s, loss=0.0733, v_num=0, train_loss=0.000185, train_accuracy=1.000]"
     ]
    },
    {
     "name": "stderr",
     "output_type": "stream",
     "text": [
      "Metric train_loss improved by 0.002 >= min_delta = 0.0. New best score: 0.000\n"
     ]
    },
    {
     "name": "stdout",
     "output_type": "stream",
     "text": [
      "Epoch 24: 100%|██████████| 7/7 [00:00<00:00,  9.84it/s, loss=0.0733, v_num=0, train_loss=0.000185, train_accuracy=1.000]"
     ]
    },
    {
     "name": "stderr",
     "output_type": "stream",
     "text": [
      "[2024-12-02 19:51:37] INFO (torcheeg/MainThread) \n",
      "[Train] train_loss: 0.066 train_accuracy: 0.965 \n",
      "\n"
     ]
    },
    {
     "name": "stdout",
     "output_type": "stream",
     "text": [
      "Epoch 25: 100%|██████████| 7/7 [00:00<00:00,  9.83it/s, loss=0.0793, v_num=0, train_loss=0.0277, train_accuracy=1.000]  "
     ]
    },
    {
     "name": "stderr",
     "output_type": "stream",
     "text": [
      "[2024-12-02 19:51:42] INFO (torcheeg/MainThread) \n",
      "[Train] train_loss: 0.087 train_accuracy: 0.960 \n",
      "\n"
     ]
    },
    {
     "name": "stdout",
     "output_type": "stream",
     "text": [
      "Epoch 26: 100%|██████████| 7/7 [00:00<00:00,  9.65it/s, loss=0.0719, v_num=0, train_loss=0.0132, train_accuracy=1.000]"
     ]
    },
    {
     "name": "stderr",
     "output_type": "stream",
     "text": [
      "[2024-12-02 19:51:46] INFO (torcheeg/MainThread) \n",
      "[Train] train_loss: 0.065 train_accuracy: 0.975 \n",
      "\n"
     ]
    },
    {
     "name": "stdout",
     "output_type": "stream",
     "text": [
      "Epoch 27: 100%|██████████| 7/7 [00:00<00:00,  9.63it/s, loss=0.067, v_num=0, train_loss=0.0442, train_accuracy=1.000] "
     ]
    },
    {
     "name": "stderr",
     "output_type": "stream",
     "text": [
      "[2024-12-02 19:51:51] INFO (torcheeg/MainThread) \n",
      "[Train] train_loss: 0.061 train_accuracy: 0.980 \n",
      "\n"
     ]
    },
    {
     "name": "stdout",
     "output_type": "stream",
     "text": [
      "Epoch 28: 100%|██████████| 7/7 [00:00<00:00,  9.70it/s, loss=0.0959, v_num=0, train_loss=0.639, train_accuracy=0.875]  "
     ]
    },
    {
     "name": "stderr",
     "output_type": "stream",
     "text": [
      "[2024-12-02 19:51:55] INFO (torcheeg/MainThread) \n",
      "[Train] train_loss: 0.152 train_accuracy: 0.980 \n",
      "\n"
     ]
    },
    {
     "name": "stdout",
     "output_type": "stream",
     "text": [
      "Epoch 29: 100%|██████████| 7/7 [00:00<00:00,  9.83it/s, loss=0.113, v_num=0, train_loss=0.0314, train_accuracy=1.000] "
     ]
    },
    {
     "name": "stderr",
     "output_type": "stream",
     "text": [
      "[2024-12-02 19:52:00] INFO (torcheeg/MainThread) \n",
      "[Train] train_loss: 0.111 train_accuracy: 0.955 \n",
      "\n"
     ]
    },
    {
     "name": "stdout",
     "output_type": "stream",
     "text": [
      "Epoch 30: 100%|██████████| 7/7 [00:00<00:00,  9.76it/s, loss=0.112, v_num=0, train_loss=0.0304, train_accuracy=1.000]"
     ]
    },
    {
     "name": "stderr",
     "output_type": "stream",
     "text": [
      "[2024-12-02 19:52:04] INFO (torcheeg/MainThread) \n",
      "[Train] train_loss: 0.063 train_accuracy: 0.975 \n",
      "\n"
     ]
    },
    {
     "name": "stdout",
     "output_type": "stream",
     "text": [
      "Epoch 31: 100%|██████████| 7/7 [00:00<00:00,  9.90it/s, loss=0.0752, v_num=0, train_loss=0.000864, train_accuracy=1.000]"
     ]
    },
    {
     "name": "stderr",
     "output_type": "stream",
     "text": [
      "[2024-12-02 19:52:09] INFO (torcheeg/MainThread) \n",
      "[Train] train_loss: 0.054 train_accuracy: 0.975 \n",
      "\n"
     ]
    },
    {
     "name": "stdout",
     "output_type": "stream",
     "text": [
      "Epoch 32: 100%|██████████| 7/7 [00:00<00:00,  9.88it/s, loss=0.0773, v_num=0, train_loss=0.283, train_accuracy=0.875]   "
     ]
    },
    {
     "name": "stderr",
     "output_type": "stream",
     "text": [
      "[2024-12-02 19:52:13] INFO (torcheeg/MainThread) \n",
      "[Train] train_loss: 0.112 train_accuracy: 0.965 \n",
      "\n"
     ]
    },
    {
     "name": "stdout",
     "output_type": "stream",
     "text": [
      "Epoch 33: 100%|██████████| 7/7 [00:00<00:00,  9.81it/s, loss=0.111, v_num=0, train_loss=0.284, train_accuracy=0.875]  "
     ]
    },
    {
     "name": "stderr",
     "output_type": "stream",
     "text": [
      "[2024-12-02 19:52:17] INFO (torcheeg/MainThread) \n",
      "[Train] train_loss: 0.154 train_accuracy: 0.955 \n",
      "\n"
     ]
    },
    {
     "name": "stdout",
     "output_type": "stream",
     "text": [
      "Epoch 34: 100%|██████████| 7/7 [00:00<00:00,  9.97it/s, loss=0.12, v_num=0, train_loss=0.0736, train_accuracy=1.000] "
     ]
    },
    {
     "name": "stderr",
     "output_type": "stream",
     "text": [
      "[2024-12-02 19:52:22] INFO (torcheeg/MainThread) \n",
      "[Train] train_loss: 0.083 train_accuracy: 0.980 \n",
      "\n"
     ]
    },
    {
     "name": "stdout",
     "output_type": "stream",
     "text": [
      "Epoch 35: 100%|██████████| 7/7 [00:00<00:00,  9.83it/s, loss=0.104, v_num=0, train_loss=0.134, train_accuracy=1.000] "
     ]
    },
    {
     "name": "stderr",
     "output_type": "stream",
     "text": [
      "[2024-12-02 19:52:26] INFO (torcheeg/MainThread) \n",
      "[Train] train_loss: 0.074 train_accuracy: 0.980 \n",
      "\n"
     ]
    },
    {
     "name": "stdout",
     "output_type": "stream",
     "text": [
      "Epoch 36: 100%|██████████| 7/7 [00:00<00:00,  9.76it/s, loss=0.0789, v_num=0, train_loss=0.000733, train_accuracy=1.000]"
     ]
    },
    {
     "name": "stderr",
     "output_type": "stream",
     "text": [
      "[2024-12-02 19:52:30] INFO (torcheeg/MainThread) \n",
      "[Train] train_loss: 0.071 train_accuracy: 0.970 \n",
      "\n"
     ]
    },
    {
     "name": "stdout",
     "output_type": "stream",
     "text": [
      "Epoch 37: 100%|██████████| 7/7 [00:00<00:00,  9.91it/s, loss=0.0517, v_num=0, train_loss=0.00595, train_accuracy=1.000] "
     ]
    },
    {
     "name": "stderr",
     "output_type": "stream",
     "text": [
      "[2024-12-02 19:52:35] INFO (torcheeg/MainThread) \n",
      "[Train] train_loss: 0.030 train_accuracy: 0.985 \n",
      "\n"
     ]
    },
    {
     "name": "stdout",
     "output_type": "stream",
     "text": [
      "Epoch 38: 100%|██████████| 7/7 [00:00<00:00,  9.81it/s, loss=0.053, v_num=0, train_loss=0.0153, train_accuracy=1.000]  "
     ]
    },
    {
     "name": "stderr",
     "output_type": "stream",
     "text": [
      "[2024-12-02 19:52:39] INFO (torcheeg/MainThread) \n",
      "[Train] train_loss: 0.062 train_accuracy: 0.970 \n",
      "\n"
     ]
    },
    {
     "name": "stdout",
     "output_type": "stream",
     "text": [
      "Epoch 39: 100%|██████████| 7/7 [00:00<00:00,  9.88it/s, loss=0.0402, v_num=0, train_loss=0.0122, train_accuracy=1.000] "
     ]
    },
    {
     "name": "stderr",
     "output_type": "stream",
     "text": [
      "[2024-12-02 19:52:44] INFO (torcheeg/MainThread) \n",
      "[Train] train_loss: 0.023 train_accuracy: 0.990 \n",
      "\n"
     ]
    },
    {
     "name": "stdout",
     "output_type": "stream",
     "text": [
      "Epoch 40: 100%|██████████| 7/7 [00:00<00:00,  9.75it/s, loss=0.0418, v_num=0, train_loss=0.0676, train_accuracy=1.000] "
     ]
    },
    {
     "name": "stderr",
     "output_type": "stream",
     "text": [
      "[2024-12-02 19:52:48] INFO (torcheeg/MainThread) \n",
      "[Train] train_loss: 0.038 train_accuracy: 0.990 \n",
      "\n"
     ]
    },
    {
     "name": "stdout",
     "output_type": "stream",
     "text": [
      "Epoch 41: 100%|██████████| 7/7 [00:00<00:00,  9.70it/s, loss=0.0493, v_num=0, train_loss=0.000326, train_accuracy=1.000]"
     ]
    },
    {
     "name": "stderr",
     "output_type": "stream",
     "text": [
      "[2024-12-02 19:52:52] INFO (torcheeg/MainThread) \n",
      "[Train] train_loss: 0.084 train_accuracy: 0.975 \n",
      "\n"
     ]
    },
    {
     "name": "stdout",
     "output_type": "stream",
     "text": [
      "Epoch 42: 100%|██████████| 7/7 [00:00<00:00,  9.63it/s, loss=0.0748, v_num=0, train_loss=0.00116, train_accuracy=1.000] "
     ]
    },
    {
     "name": "stderr",
     "output_type": "stream",
     "text": [
      "[2024-12-02 19:52:57] INFO (torcheeg/MainThread) \n",
      "[Train] train_loss: 0.093 train_accuracy: 0.970 \n",
      "\n"
     ]
    },
    {
     "name": "stdout",
     "output_type": "stream",
     "text": [
      "Epoch 43: 100%|██████████| 7/7 [00:00<00:00,  9.66it/s, loss=0.074, v_num=0, train_loss=0.0569, train_accuracy=1.000]  "
     ]
    },
    {
     "name": "stderr",
     "output_type": "stream",
     "text": [
      "[2024-12-02 19:53:02] INFO (torcheeg/MainThread) \n",
      "[Train] train_loss: 0.037 train_accuracy: 0.990 \n",
      "\n"
     ]
    },
    {
     "name": "stdout",
     "output_type": "stream",
     "text": [
      "Epoch 44: 100%|██████████| 7/7 [00:00<00:00,  9.69it/s, loss=0.0478, v_num=0, train_loss=0.0233, train_accuracy=1.000]"
     ]
    },
    {
     "name": "stderr",
     "output_type": "stream",
     "text": [
      "Monitored metric train_loss did not improve in the last 20 records. Best score: 0.000. Signaling Trainer to stop.\n"
     ]
    },
    {
     "name": "stdout",
     "output_type": "stream",
     "text": [
      "Epoch 44: 100%|██████████| 7/7 [00:00<00:00,  9.67it/s, loss=0.0478, v_num=0, train_loss=0.0233, train_accuracy=1.000]"
     ]
    },
    {
     "name": "stderr",
     "output_type": "stream",
     "text": [
      "[2024-12-02 19:53:06] INFO (torcheeg/MainThread) \n",
      "[Train] train_loss: 0.017 train_accuracy: 1.000 \n",
      "\n"
     ]
    },
    {
     "name": "stdout",
     "output_type": "stream",
     "text": [
      "Epoch 44: 100%|██████████| 7/7 [00:04<00:00,  1.59it/s, loss=0.0478, v_num=0, train_loss=0.0233, train_accuracy=1.000]\n"
     ]
    },
    {
     "name": "stderr",
     "output_type": "stream",
     "text": [
      "GPU available: True (cuda), used: True\n",
      "TPU available: False, using: 0 TPU cores\n",
      "IPU available: False, using: 0 IPUs\n",
      "HPU available: False, using: 0 HPUs\n",
      "LOCAL_RANK: 0 - CUDA_VISIBLE_DEVICES: [0]\n",
      "/root/autodl-tmp/conda/envs/law/lib/python3.8/site-packages/pytorch_lightning/trainer/connectors/data_connector.py:224: PossibleUserWarning: The dataloader, test_dataloader 0, does not have many workers which may be a bottleneck. Consider increasing the value of the `num_workers` argument` (try 128 which is the number of cpus on this machine) in the `DataLoader` init to improve performance.\n",
      "  rank_zero_warn(\n"
     ]
    },
    {
     "name": "stdout",
     "output_type": "stream",
     "text": [
      "Testing DataLoader 0: 100%|██████████| 3/3 [00:00<00:00, 38.84it/s]"
     ]
    },
    {
     "name": "stderr",
     "output_type": "stream",
     "text": [
      "[2024-12-02 19:53:07] INFO (torcheeg/MainThread) \n",
      "[Test] test_loss: 1.363 test_accuracy: 0.663 \n",
      "\n"
     ]
    },
    {
     "name": "stdout",
     "output_type": "stream",
     "text": [
      "Testing DataLoader 0: 100%|██████████| 3/3 [00:00<00:00, 36.26it/s]\n",
      "────────────────────────────────────────────────────────────────────────────────────────────────────────────────────────\n",
      "       Test metric             DataLoader 0\n",
      "────────────────────────────────────────────────────────────────────────────────────────────────────────────────────────\n",
      "      test_accuracy         0.6625000238418579\n",
      "        test_loss           1.3628476858139038\n",
      "────────────────────────────────────────────────────────────────────────────────────────────────────────────────────────\n",
      "已删除文件夹: /root/autodl-tmp/.autodl/kinlaw/mi_swin/lightning_logs\n"
     ]
    },
    {
     "name": "stderr",
     "output_type": "stream",
     "text": [
      "GPU available: True (cuda), used: True\n",
      "TPU available: False, using: 0 TPU cores\n",
      "IPU available: False, using: 0 IPUs\n",
      "HPU available: False, using: 0 HPUs\n",
      "Missing logger folder: /root/autodl-tmp/.autodl/kinlaw/mi_swin/lightning_logs\n",
      "LOCAL_RANK: 0 - CUDA_VISIBLE_DEVICES: [0]\n",
      "/root/autodl-tmp/conda/envs/law/lib/python3.8/site-packages/pytorch_lightning/trainer/connectors/data_connector.py:224: PossibleUserWarning: The dataloader, train_dataloader, does not have many workers which may be a bottleneck. Consider increasing the value of the `num_workers` argument` (try 128 which is the number of cpus on this machine) in the `DataLoader` init to improve performance.\n",
      "  rank_zero_warn(\n",
      "/root/autodl-tmp/conda/envs/law/lib/python3.8/site-packages/pytorch_lightning/trainer/trainer.py:1609: PossibleUserWarning: The number of training batches (7) is smaller than the logging interval Trainer(log_every_n_steps=50). Set a lower value for log_every_n_steps if you want to see logs for the training epoch.\n",
      "  rank_zero_warn(\n"
     ]
    },
    {
     "name": "stdout",
     "output_type": "stream",
     "text": [
      "Epoch 0: 100%|██████████| 7/7 [00:00<00:00,  9.69it/s, loss=3.15, v_num=0, train_loss=1.240, train_accuracy=0.500]"
     ]
    },
    {
     "name": "stderr",
     "output_type": "stream",
     "text": [
      "Metric train_loss improved. New best score: 1.244\n"
     ]
    },
    {
     "name": "stdout",
     "output_type": "stream",
     "text": [
      "Epoch 0: 100%|██████████| 7/7 [00:00<00:00,  9.66it/s, loss=3.15, v_num=0, train_loss=1.240, train_accuracy=0.500]"
     ]
    },
    {
     "name": "stderr",
     "output_type": "stream",
     "text": [
      "[2024-12-02 19:53:14] INFO (torcheeg/MainThread) \n",
      "[Train] train_loss: 3.147 train_accuracy: 0.470 \n",
      "\n"
     ]
    },
    {
     "name": "stdout",
     "output_type": "stream",
     "text": [
      "Epoch 1: 100%|██████████| 7/7 [00:00<00:00,  9.86it/s, loss=2.34, v_num=0, train_loss=1.270, train_accuracy=0.500]"
     ]
    },
    {
     "name": "stderr",
     "output_type": "stream",
     "text": [
      "[2024-12-02 19:53:19] INFO (torcheeg/MainThread) \n",
      "[Train] train_loss: 1.541 train_accuracy: 0.550 \n",
      "\n"
     ]
    },
    {
     "name": "stdout",
     "output_type": "stream",
     "text": [
      "Epoch 2: 100%|██████████| 7/7 [00:00<00:00,  9.69it/s, loss=1.9, v_num=0, train_loss=0.521, train_accuracy=0.750] "
     ]
    },
    {
     "name": "stderr",
     "output_type": "stream",
     "text": [
      "Metric train_loss improved by 0.723 >= min_delta = 0.0. New best score: 0.521\n"
     ]
    },
    {
     "name": "stdout",
     "output_type": "stream",
     "text": [
      "Epoch 2: 100%|██████████| 7/7 [00:00<00:00,  9.67it/s, loss=1.9, v_num=0, train_loss=0.521, train_accuracy=0.750]"
     ]
    },
    {
     "name": "stderr",
     "output_type": "stream",
     "text": [
      "[2024-12-02 19:53:24] INFO (torcheeg/MainThread) \n",
      "[Train] train_loss: 0.869 train_accuracy: 0.730 \n",
      "\n"
     ]
    },
    {
     "name": "stdout",
     "output_type": "stream",
     "text": [
      "Epoch 3: 100%|██████████| 7/7 [00:00<00:00,  9.72it/s, loss=1.02, v_num=0, train_loss=0.656, train_accuracy=0.875]"
     ]
    },
    {
     "name": "stderr",
     "output_type": "stream",
     "text": [
      "[2024-12-02 19:53:29] INFO (torcheeg/MainThread) \n",
      "[Train] train_loss: 0.667 train_accuracy: 0.720 \n",
      "\n"
     ]
    },
    {
     "name": "stdout",
     "output_type": "stream",
     "text": [
      "Epoch 4: 100%|██████████| 7/7 [00:00<00:00,  9.87it/s, loss=0.654, v_num=0, train_loss=0.219, train_accuracy=1.000]"
     ]
    },
    {
     "name": "stderr",
     "output_type": "stream",
     "text": [
      "Metric train_loss improved by 0.302 >= min_delta = 0.0. New best score: 0.219\n"
     ]
    },
    {
     "name": "stdout",
     "output_type": "stream",
     "text": [
      "Epoch 4: 100%|██████████| 7/7 [00:00<00:00,  9.85it/s, loss=0.654, v_num=0, train_loss=0.219, train_accuracy=1.000]"
     ]
    },
    {
     "name": "stderr",
     "output_type": "stream",
     "text": [
      "[2024-12-02 19:53:33] INFO (torcheeg/MainThread) \n",
      "[Train] train_loss: 0.394 train_accuracy: 0.785 \n",
      "\n"
     ]
    },
    {
     "name": "stdout",
     "output_type": "stream",
     "text": [
      "Epoch 5: 100%|██████████| 7/7 [00:00<00:00,  9.91it/s, loss=0.446, v_num=0, train_loss=0.138, train_accuracy=1.000]"
     ]
    },
    {
     "name": "stderr",
     "output_type": "stream",
     "text": [
      "Metric train_loss improved by 0.081 >= min_delta = 0.0. New best score: 0.138\n"
     ]
    },
    {
     "name": "stdout",
     "output_type": "stream",
     "text": [
      "Epoch 5: 100%|██████████| 7/7 [00:00<00:00,  9.89it/s, loss=0.446, v_num=0, train_loss=0.138, train_accuracy=1.000]"
     ]
    },
    {
     "name": "stderr",
     "output_type": "stream",
     "text": [
      "[2024-12-02 19:53:38] INFO (torcheeg/MainThread) \n",
      "[Train] train_loss: 0.275 train_accuracy: 0.875 \n",
      "\n"
     ]
    },
    {
     "name": "stdout",
     "output_type": "stream",
     "text": [
      "Epoch 6: 100%|██████████| 7/7 [00:00<00:00,  9.88it/s, loss=0.337, v_num=0, train_loss=0.791, train_accuracy=0.625]"
     ]
    },
    {
     "name": "stderr",
     "output_type": "stream",
     "text": [
      "[2024-12-02 19:53:42] INFO (torcheeg/MainThread) \n",
      "[Train] train_loss: 0.347 train_accuracy: 0.845 \n",
      "\n"
     ]
    },
    {
     "name": "stdout",
     "output_type": "stream",
     "text": [
      "Epoch 7: 100%|██████████| 7/7 [00:00<00:00,  9.69it/s, loss=0.356, v_num=0, train_loss=0.998, train_accuracy=0.750]"
     ]
    },
    {
     "name": "stderr",
     "output_type": "stream",
     "text": [
      "[2024-12-02 19:53:47] INFO (torcheeg/MainThread) \n",
      "[Train] train_loss: 0.439 train_accuracy: 0.870 \n",
      "\n"
     ]
    },
    {
     "name": "stdout",
     "output_type": "stream",
     "text": [
      "Epoch 8: 100%|██████████| 7/7 [00:00<00:00,  9.93it/s, loss=0.358, v_num=0, train_loss=0.0716, train_accuracy=1.000]"
     ]
    },
    {
     "name": "stderr",
     "output_type": "stream",
     "text": [
      "Metric train_loss improved by 0.066 >= min_delta = 0.0. New best score: 0.072\n"
     ]
    },
    {
     "name": "stdout",
     "output_type": "stream",
     "text": [
      "Epoch 8: 100%|██████████| 7/7 [00:00<00:00,  9.91it/s, loss=0.358, v_num=0, train_loss=0.0716, train_accuracy=1.000]"
     ]
    },
    {
     "name": "stderr",
     "output_type": "stream",
     "text": [
      "[2024-12-02 19:53:51] INFO (torcheeg/MainThread) \n",
      "[Train] train_loss: 0.264 train_accuracy: 0.865 \n",
      "\n"
     ]
    },
    {
     "name": "stdout",
     "output_type": "stream",
     "text": [
      "Epoch 9: 100%|██████████| 7/7 [00:00<00:00,  9.87it/s, loss=0.325, v_num=0, train_loss=0.239, train_accuracy=0.875] "
     ]
    },
    {
     "name": "stderr",
     "output_type": "stream",
     "text": [
      "[2024-12-02 19:53:55] INFO (torcheeg/MainThread) \n",
      "[Train] train_loss: 0.252 train_accuracy: 0.885 \n",
      "\n"
     ]
    },
    {
     "name": "stdout",
     "output_type": "stream",
     "text": [
      "Epoch 10: 100%|██████████| 7/7 [00:00<00:00,  9.71it/s, loss=0.248, v_num=0, train_loss=0.221, train_accuracy=0.875]"
     ]
    },
    {
     "name": "stderr",
     "output_type": "stream",
     "text": [
      "[2024-12-02 19:54:00] INFO (torcheeg/MainThread) \n",
      "[Train] train_loss: 0.241 train_accuracy: 0.900 \n",
      "\n"
     ]
    },
    {
     "name": "stdout",
     "output_type": "stream",
     "text": [
      "Epoch 11: 100%|██████████| 7/7 [00:00<00:00,  9.74it/s, loss=0.229, v_num=0, train_loss=0.191, train_accuracy=0.875]"
     ]
    },
    {
     "name": "stderr",
     "output_type": "stream",
     "text": [
      "[2024-12-02 19:54:04] INFO (torcheeg/MainThread) \n",
      "[Train] train_loss: 0.173 train_accuracy: 0.925 \n",
      "\n"
     ]
    },
    {
     "name": "stdout",
     "output_type": "stream",
     "text": [
      "Epoch 12: 100%|██████████| 7/7 [00:00<00:00,  9.75it/s, loss=0.193, v_num=0, train_loss=0.111, train_accuracy=0.875] "
     ]
    },
    {
     "name": "stderr",
     "output_type": "stream",
     "text": [
      "[2024-12-02 19:54:09] INFO (torcheeg/MainThread) \n",
      "[Train] train_loss: 0.172 train_accuracy: 0.940 \n",
      "\n"
     ]
    },
    {
     "name": "stdout",
     "output_type": "stream",
     "text": [
      "Epoch 13: 100%|██████████| 7/7 [00:00<00:00,  9.62it/s, loss=0.188, v_num=0, train_loss=0.0171, train_accuracy=1.000]"
     ]
    },
    {
     "name": "stderr",
     "output_type": "stream",
     "text": [
      "Metric train_loss improved by 0.054 >= min_delta = 0.0. New best score: 0.017\n"
     ]
    },
    {
     "name": "stdout",
     "output_type": "stream",
     "text": [
      "Epoch 13: 100%|██████████| 7/7 [00:00<00:00,  9.60it/s, loss=0.188, v_num=0, train_loss=0.0171, train_accuracy=1.000]"
     ]
    },
    {
     "name": "stderr",
     "output_type": "stream",
     "text": [
      "[2024-12-02 19:54:13] INFO (torcheeg/MainThread) \n",
      "[Train] train_loss: 0.215 train_accuracy: 0.925 \n",
      "\n"
     ]
    },
    {
     "name": "stdout",
     "output_type": "stream",
     "text": [
      "Epoch 14: 100%|██████████| 7/7 [00:00<00:00,  9.67it/s, loss=0.165, v_num=0, train_loss=0.0334, train_accuracy=1.000]"
     ]
    },
    {
     "name": "stderr",
     "output_type": "stream",
     "text": [
      "[2024-12-02 19:54:17] INFO (torcheeg/MainThread) \n",
      "[Train] train_loss: 0.125 train_accuracy: 0.945 \n",
      "\n"
     ]
    },
    {
     "name": "stdout",
     "output_type": "stream",
     "text": [
      "Epoch 15: 100%|██████████| 7/7 [00:00<00:00,  9.92it/s, loss=0.202, v_num=0, train_loss=0.875, train_accuracy=0.625] "
     ]
    },
    {
     "name": "stderr",
     "output_type": "stream",
     "text": [
      "[2024-12-02 19:54:22] INFO (torcheeg/MainThread) \n",
      "[Train] train_loss: 0.297 train_accuracy: 0.900 \n",
      "\n"
     ]
    },
    {
     "name": "stdout",
     "output_type": "stream",
     "text": [
      "Epoch 16: 100%|██████████| 7/7 [00:00<00:00,  9.78it/s, loss=0.239, v_num=0, train_loss=0.243, train_accuracy=0.875] "
     ]
    },
    {
     "name": "stderr",
     "output_type": "stream",
     "text": [
      "[2024-12-02 19:54:26] INFO (torcheeg/MainThread) \n",
      "[Train] train_loss: 0.277 train_accuracy: 0.895 \n",
      "\n"
     ]
    },
    {
     "name": "stdout",
     "output_type": "stream",
     "text": [
      "Epoch 17: 100%|██████████| 7/7 [00:00<00:00,  9.68it/s, loss=0.246, v_num=0, train_loss=0.119, train_accuracy=1.000] "
     ]
    },
    {
     "name": "stderr",
     "output_type": "stream",
     "text": [
      "[2024-12-02 19:54:31] INFO (torcheeg/MainThread) \n",
      "[Train] train_loss: 0.154 train_accuracy: 0.925 \n",
      "\n"
     ]
    },
    {
     "name": "stdout",
     "output_type": "stream",
     "text": [
      "Epoch 18: 100%|██████████| 7/7 [00:00<00:00,  9.86it/s, loss=0.234, v_num=0, train_loss=0.845, train_accuracy=0.625]"
     ]
    },
    {
     "name": "stderr",
     "output_type": "stream",
     "text": [
      "[2024-12-02 19:54:35] INFO (torcheeg/MainThread) \n",
      "[Train] train_loss: 0.263 train_accuracy: 0.900 \n",
      "\n"
     ]
    },
    {
     "name": "stdout",
     "output_type": "stream",
     "text": [
      "Epoch 19: 100%|██████████| 7/7 [00:00<00:00,  9.74it/s, loss=0.188, v_num=0, train_loss=0.0163, train_accuracy=1.000]"
     ]
    },
    {
     "name": "stderr",
     "output_type": "stream",
     "text": [
      "Metric train_loss improved by 0.001 >= min_delta = 0.0. New best score: 0.016\n"
     ]
    },
    {
     "name": "stdout",
     "output_type": "stream",
     "text": [
      "Epoch 19: 100%|██████████| 7/7 [00:00<00:00,  9.71it/s, loss=0.188, v_num=0, train_loss=0.0163, train_accuracy=1.000]"
     ]
    },
    {
     "name": "stderr",
     "output_type": "stream",
     "text": [
      "[2024-12-02 19:54:40] INFO (torcheeg/MainThread) \n",
      "[Train] train_loss: 0.140 train_accuracy: 0.940 \n",
      "\n"
     ]
    },
    {
     "name": "stdout",
     "output_type": "stream",
     "text": [
      "Epoch 20: 100%|██████████| 7/7 [00:00<00:00,  9.82it/s, loss=0.193, v_num=0, train_loss=0.0924, train_accuracy=1.000]"
     ]
    },
    {
     "name": "stderr",
     "output_type": "stream",
     "text": [
      "[2024-12-02 19:54:44] INFO (torcheeg/MainThread) \n",
      "[Train] train_loss: 0.180 train_accuracy: 0.930 \n",
      "\n"
     ]
    },
    {
     "name": "stdout",
     "output_type": "stream",
     "text": [
      "Epoch 21: 100%|██████████| 7/7 [00:00<00:00,  9.69it/s, loss=0.199, v_num=0, train_loss=0.210, train_accuracy=0.875] "
     ]
    },
    {
     "name": "stderr",
     "output_type": "stream",
     "text": [
      "[2024-12-02 19:54:48] INFO (torcheeg/MainThread) \n",
      "[Train] train_loss: 0.272 train_accuracy: 0.905 \n",
      "\n"
     ]
    },
    {
     "name": "stdout",
     "output_type": "stream",
     "text": [
      "Epoch 22: 100%|██████████| 7/7 [00:00<00:00,  9.81it/s, loss=0.25, v_num=0, train_loss=0.171, train_accuracy=0.875]  "
     ]
    },
    {
     "name": "stderr",
     "output_type": "stream",
     "text": [
      "[2024-12-02 19:54:53] INFO (torcheeg/MainThread) \n",
      "[Train] train_loss: 0.275 train_accuracy: 0.885 \n",
      "\n"
     ]
    },
    {
     "name": "stdout",
     "output_type": "stream",
     "text": [
      "Epoch 23: 100%|██████████| 7/7 [00:00<00:00,  9.81it/s, loss=0.239, v_num=0, train_loss=0.0833, train_accuracy=1.000]"
     ]
    },
    {
     "name": "stderr",
     "output_type": "stream",
     "text": [
      "[2024-12-02 19:54:57] INFO (torcheeg/MainThread) \n",
      "[Train] train_loss: 0.158 train_accuracy: 0.945 \n",
      "\n"
     ]
    },
    {
     "name": "stdout",
     "output_type": "stream",
     "text": [
      "Epoch 24: 100%|██████████| 7/7 [00:00<00:00,  9.94it/s, loss=0.187, v_num=0, train_loss=0.071, train_accuracy=1.000] "
     ]
    },
    {
     "name": "stderr",
     "output_type": "stream",
     "text": [
      "[2024-12-02 19:55:01] INFO (torcheeg/MainThread) \n",
      "[Train] train_loss: 0.109 train_accuracy: 0.965 \n",
      "\n"
     ]
    },
    {
     "name": "stdout",
     "output_type": "stream",
     "text": [
      "Epoch 25: 100%|██████████| 7/7 [00:00<00:00,  9.89it/s, loss=0.11, v_num=0, train_loss=0.0527, train_accuracy=1.000] "
     ]
    },
    {
     "name": "stderr",
     "output_type": "stream",
     "text": [
      "[2024-12-02 19:55:06] INFO (torcheeg/MainThread) \n",
      "[Train] train_loss: 0.066 train_accuracy: 0.975 \n",
      "\n"
     ]
    },
    {
     "name": "stdout",
     "output_type": "stream",
     "text": [
      "Epoch 26: 100%|██████████| 7/7 [00:00<00:00,  9.76it/s, loss=0.0776, v_num=0, train_loss=0.00189, train_accuracy=1.000]"
     ]
    },
    {
     "name": "stderr",
     "output_type": "stream",
     "text": [
      "Metric train_loss improved by 0.014 >= min_delta = 0.0. New best score: 0.002\n"
     ]
    },
    {
     "name": "stdout",
     "output_type": "stream",
     "text": [
      "Epoch 26: 100%|██████████| 7/7 [00:00<00:00,  9.73it/s, loss=0.0776, v_num=0, train_loss=0.00189, train_accuracy=1.000]"
     ]
    },
    {
     "name": "stderr",
     "output_type": "stream",
     "text": [
      "[2024-12-02 19:55:10] INFO (torcheeg/MainThread) \n",
      "[Train] train_loss: 0.051 train_accuracy: 0.980 \n",
      "\n"
     ]
    },
    {
     "name": "stdout",
     "output_type": "stream",
     "text": [
      "Epoch 27: 100%|██████████| 7/7 [00:00<00:00,  9.65it/s, loss=0.0615, v_num=0, train_loss=0.0109, train_accuracy=1.000] "
     ]
    },
    {
     "name": "stderr",
     "output_type": "stream",
     "text": [
      "[2024-12-02 19:55:15] INFO (torcheeg/MainThread) \n",
      "[Train] train_loss: 0.067 train_accuracy: 0.970 \n",
      "\n"
     ]
    },
    {
     "name": "stdout",
     "output_type": "stream",
     "text": [
      "Epoch 28: 100%|██████████| 7/7 [00:00<00:00,  9.81it/s, loss=0.047, v_num=0, train_loss=0.00658, train_accuracy=1.000]"
     ]
    },
    {
     "name": "stderr",
     "output_type": "stream",
     "text": [
      "[2024-12-02 19:55:19] INFO (torcheeg/MainThread) \n",
      "[Train] train_loss: 0.037 train_accuracy: 0.980 \n",
      "\n"
     ]
    },
    {
     "name": "stdout",
     "output_type": "stream",
     "text": [
      "Epoch 29: 100%|██████████| 7/7 [00:00<00:00,  9.81it/s, loss=0.0515, v_num=0, train_loss=0.000958, train_accuracy=1.000]"
     ]
    },
    {
     "name": "stderr",
     "output_type": "stream",
     "text": [
      "Metric train_loss improved by 0.001 >= min_delta = 0.0. New best score: 0.001\n"
     ]
    },
    {
     "name": "stdout",
     "output_type": "stream",
     "text": [
      "Epoch 29: 100%|██████████| 7/7 [00:00<00:00,  9.78it/s, loss=0.0515, v_num=0, train_loss=0.000958, train_accuracy=1.000]"
     ]
    },
    {
     "name": "stderr",
     "output_type": "stream",
     "text": [
      "[2024-12-02 19:55:23] INFO (torcheeg/MainThread) \n",
      "[Train] train_loss: 0.048 train_accuracy: 0.980 \n",
      "\n"
     ]
    },
    {
     "name": "stdout",
     "output_type": "stream",
     "text": [
      "Epoch 30: 100%|██████████| 7/7 [00:00<00:00,  9.77it/s, loss=0.0394, v_num=0, train_loss=0.000104, train_accuracy=1.000]"
     ]
    },
    {
     "name": "stderr",
     "output_type": "stream",
     "text": [
      "Metric train_loss improved by 0.001 >= min_delta = 0.0. New best score: 0.000\n"
     ]
    },
    {
     "name": "stdout",
     "output_type": "stream",
     "text": [
      "Epoch 30: 100%|██████████| 7/7 [00:00<00:00,  9.74it/s, loss=0.0394, v_num=0, train_loss=0.000104, train_accuracy=1.000]"
     ]
    },
    {
     "name": "stderr",
     "output_type": "stream",
     "text": [
      "[2024-12-02 19:55:28] INFO (torcheeg/MainThread) \n",
      "[Train] train_loss: 0.031 train_accuracy: 0.995 \n",
      "\n"
     ]
    },
    {
     "name": "stdout",
     "output_type": "stream",
     "text": [
      "Epoch 31: 100%|██████████| 7/7 [00:00<00:00,  9.95it/s, loss=0.0607, v_num=0, train_loss=0.537, train_accuracy=0.875]   "
     ]
    },
    {
     "name": "stderr",
     "output_type": "stream",
     "text": [
      "[2024-12-02 19:55:32] INFO (torcheeg/MainThread) \n",
      "[Train] train_loss: 0.100 train_accuracy: 0.985 \n",
      "\n"
     ]
    },
    {
     "name": "stdout",
     "output_type": "stream",
     "text": [
      "Epoch 32: 100%|██████████| 7/7 [00:00<00:00,  9.83it/s, loss=0.0741, v_num=0, train_loss=0.0107, train_accuracy=1.000]"
     ]
    },
    {
     "name": "stderr",
     "output_type": "stream",
     "text": [
      "[2024-12-02 19:55:37] INFO (torcheeg/MainThread) \n",
      "[Train] train_loss: 0.084 train_accuracy: 0.965 \n",
      "\n"
     ]
    },
    {
     "name": "stdout",
     "output_type": "stream",
     "text": [
      "Epoch 33: 100%|██████████| 7/7 [00:00<00:00,  9.78it/s, loss=0.107, v_num=0, train_loss=0.0268, train_accuracy=1.000] "
     ]
    },
    {
     "name": "stderr",
     "output_type": "stream",
     "text": [
      "[2024-12-02 19:55:41] INFO (torcheeg/MainThread) \n",
      "[Train] train_loss: 0.123 train_accuracy: 0.955 \n",
      "\n"
     ]
    },
    {
     "name": "stdout",
     "output_type": "stream",
     "text": [
      "Epoch 34: 100%|██████████| 7/7 [00:00<00:00,  9.86it/s, loss=0.0982, v_num=0, train_loss=0.0553, train_accuracy=1.000]"
     ]
    },
    {
     "name": "stderr",
     "output_type": "stream",
     "text": [
      "[2024-12-02 19:55:45] INFO (torcheeg/MainThread) \n",
      "[Train] train_loss: 0.080 train_accuracy: 0.965 \n",
      "\n"
     ]
    },
    {
     "name": "stdout",
     "output_type": "stream",
     "text": [
      "Epoch 35: 100%|██████████| 7/7 [00:00<00:00,  9.81it/s, loss=0.0945, v_num=0, train_loss=0.0188, train_accuracy=1.000]"
     ]
    },
    {
     "name": "stderr",
     "output_type": "stream",
     "text": [
      "[2024-12-02 19:55:50] INFO (torcheeg/MainThread) \n",
      "[Train] train_loss: 0.068 train_accuracy: 0.975 \n",
      "\n"
     ]
    },
    {
     "name": "stdout",
     "output_type": "stream",
     "text": [
      "Epoch 36: 100%|██████████| 7/7 [00:00<00:00,  9.74it/s, loss=0.059, v_num=0, train_loss=0.023, train_accuracy=1.000]   "
     ]
    },
    {
     "name": "stderr",
     "output_type": "stream",
     "text": [
      "[2024-12-02 19:55:54] INFO (torcheeg/MainThread) \n",
      "[Train] train_loss: 0.047 train_accuracy: 0.975 \n",
      "\n"
     ]
    },
    {
     "name": "stdout",
     "output_type": "stream",
     "text": [
      "Epoch 37: 100%|██████████| 7/7 [00:00<00:00,  9.87it/s, loss=0.0419, v_num=0, train_loss=0.00213, train_accuracy=1.000] "
     ]
    },
    {
     "name": "stderr",
     "output_type": "stream",
     "text": [
      "[2024-12-02 19:55:59] INFO (torcheeg/MainThread) \n",
      "[Train] train_loss: 0.035 train_accuracy: 0.980 \n",
      "\n"
     ]
    },
    {
     "name": "stdout",
     "output_type": "stream",
     "text": [
      "Epoch 38: 100%|██████████| 7/7 [00:00<00:00,  9.93it/s, loss=0.0406, v_num=0, train_loss=0.0017, train_accuracy=1.000] "
     ]
    },
    {
     "name": "stderr",
     "output_type": "stream",
     "text": [
      "[2024-12-02 19:56:03] INFO (torcheeg/MainThread) \n",
      "[Train] train_loss: 0.036 train_accuracy: 0.985 \n",
      "\n"
     ]
    },
    {
     "name": "stdout",
     "output_type": "stream",
     "text": [
      "Epoch 39: 100%|██████████| 7/7 [00:00<00:00,  9.85it/s, loss=0.0311, v_num=0, train_loss=0.0089, train_accuracy=1.000] "
     ]
    },
    {
     "name": "stderr",
     "output_type": "stream",
     "text": [
      "[2024-12-02 19:56:07] INFO (torcheeg/MainThread) \n",
      "[Train] train_loss: 0.025 train_accuracy: 0.980 \n",
      "\n"
     ]
    },
    {
     "name": "stdout",
     "output_type": "stream",
     "text": [
      "Epoch 40: 100%|██████████| 7/7 [00:00<00:00,  9.84it/s, loss=0.0261, v_num=0, train_loss=0.000351, train_accuracy=1.000]"
     ]
    },
    {
     "name": "stderr",
     "output_type": "stream",
     "text": [
      "[2024-12-02 19:56:12] INFO (torcheeg/MainThread) \n",
      "[Train] train_loss: 0.030 train_accuracy: 0.985 \n",
      "\n"
     ]
    },
    {
     "name": "stdout",
     "output_type": "stream",
     "text": [
      "Epoch 41: 100%|██████████| 7/7 [00:00<00:00,  9.61it/s, loss=0.0307, v_num=0, train_loss=0.000724, train_accuracy=1.000]"
     ]
    },
    {
     "name": "stderr",
     "output_type": "stream",
     "text": [
      "[2024-12-02 19:56:16] INFO (torcheeg/MainThread) \n",
      "[Train] train_loss: 0.033 train_accuracy: 0.970 \n",
      "\n"
     ]
    },
    {
     "name": "stdout",
     "output_type": "stream",
     "text": [
      "Epoch 42: 100%|██████████| 7/7 [00:00<00:00,  9.73it/s, loss=0.0353, v_num=0, train_loss=0.00898, train_accuracy=1.000] "
     ]
    },
    {
     "name": "stderr",
     "output_type": "stream",
     "text": [
      "[2024-12-02 19:56:21] INFO (torcheeg/MainThread) \n",
      "[Train] train_loss: 0.045 train_accuracy: 0.980 \n",
      "\n"
     ]
    },
    {
     "name": "stdout",
     "output_type": "stream",
     "text": [
      "Epoch 43: 100%|██████████| 7/7 [00:00<00:00,  9.91it/s, loss=0.0425, v_num=0, train_loss=0.00788, train_accuracy=1.000]"
     ]
    },
    {
     "name": "stderr",
     "output_type": "stream",
     "text": [
      "[2024-12-02 19:56:25] INFO (torcheeg/MainThread) \n",
      "[Train] train_loss: 0.043 train_accuracy: 0.975 \n",
      "\n"
     ]
    },
    {
     "name": "stdout",
     "output_type": "stream",
     "text": [
      "Epoch 44: 100%|██████████| 7/7 [00:00<00:00,  9.82it/s, loss=0.0436, v_num=0, train_loss=0.127, train_accuracy=0.875]   "
     ]
    },
    {
     "name": "stderr",
     "output_type": "stream",
     "text": [
      "[2024-12-02 19:56:29] INFO (torcheeg/MainThread) \n",
      "[Train] train_loss: 0.044 train_accuracy: 0.985 \n",
      "\n"
     ]
    },
    {
     "name": "stdout",
     "output_type": "stream",
     "text": [
      "Epoch 45: 100%|██████████| 7/7 [00:00<00:00,  9.74it/s, loss=0.0827, v_num=0, train_loss=0.00118, train_accuracy=1.000]"
     ]
    },
    {
     "name": "stderr",
     "output_type": "stream",
     "text": [
      "[2024-12-02 19:56:34] INFO (torcheeg/MainThread) \n",
      "[Train] train_loss: 0.157 train_accuracy: 0.950 \n",
      "\n"
     ]
    },
    {
     "name": "stdout",
     "output_type": "stream",
     "text": [
      "Epoch 46: 100%|██████████| 7/7 [00:00<00:00,  9.72it/s, loss=0.134, v_num=0, train_loss=0.00023, train_accuracy=1.000] "
     ]
    },
    {
     "name": "stderr",
     "output_type": "stream",
     "text": [
      "[2024-12-02 19:56:38] INFO (torcheeg/MainThread) \n",
      "[Train] train_loss: 0.181 train_accuracy: 0.935 \n",
      "\n"
     ]
    },
    {
     "name": "stdout",
     "output_type": "stream",
     "text": [
      "Epoch 47: 100%|██████████| 7/7 [00:00<00:00,  9.85it/s, loss=0.152, v_num=0, train_loss=0.00395, train_accuracy=1.000]"
     ]
    },
    {
     "name": "stderr",
     "output_type": "stream",
     "text": [
      "[2024-12-02 19:56:43] INFO (torcheeg/MainThread) \n",
      "[Train] train_loss: 0.099 train_accuracy: 0.965 \n",
      "\n"
     ]
    },
    {
     "name": "stdout",
     "output_type": "stream",
     "text": [
      "Epoch 48: 100%|██████████| 7/7 [00:00<00:00,  9.78it/s, loss=0.119, v_num=0, train_loss=0.00422, train_accuracy=1.000]"
     ]
    },
    {
     "name": "stderr",
     "output_type": "stream",
     "text": [
      "[2024-12-02 19:56:47] INFO (torcheeg/MainThread) \n",
      "[Train] train_loss: 0.059 train_accuracy: 0.970 \n",
      "\n"
     ]
    },
    {
     "name": "stdout",
     "output_type": "stream",
     "text": [
      "Epoch 49: 100%|██████████| 7/7 [00:00<00:00,  9.73it/s, loss=0.068, v_num=0, train_loss=0.0836, train_accuracy=1.000]  "
     ]
    },
    {
     "name": "stderr",
     "output_type": "stream",
     "text": [
      "[2024-12-02 19:56:52] INFO (torcheeg/MainThread) \n",
      "[Train] train_loss: 0.039 train_accuracy: 0.990 \n",
      "\n"
     ]
    },
    {
     "name": "stdout",
     "output_type": "stream",
     "text": [
      "Epoch 50: 100%|██████████| 7/7 [00:00<00:00,  9.83it/s, loss=0.0418, v_num=0, train_loss=0.0415, train_accuracy=1.000]"
     ]
    },
    {
     "name": "stderr",
     "output_type": "stream",
     "text": [
      "Monitored metric train_loss did not improve in the last 20 records. Best score: 0.000. Signaling Trainer to stop.\n"
     ]
    },
    {
     "name": "stdout",
     "output_type": "stream",
     "text": [
      "Epoch 50: 100%|██████████| 7/7 [00:00<00:00,  9.79it/s, loss=0.0418, v_num=0, train_loss=0.0415, train_accuracy=1.000]"
     ]
    },
    {
     "name": "stderr",
     "output_type": "stream",
     "text": [
      "[2024-12-02 19:56:56] INFO (torcheeg/MainThread) \n",
      "[Train] train_loss: 0.029 train_accuracy: 0.990 \n",
      "\n"
     ]
    },
    {
     "name": "stdout",
     "output_type": "stream",
     "text": [
      "Epoch 50: 100%|██████████| 7/7 [00:04<00:00,  1.62it/s, loss=0.0418, v_num=0, train_loss=0.0415, train_accuracy=1.000]\n"
     ]
    },
    {
     "name": "stderr",
     "output_type": "stream",
     "text": [
      "GPU available: True (cuda), used: True\n",
      "TPU available: False, using: 0 TPU cores\n",
      "IPU available: False, using: 0 IPUs\n",
      "HPU available: False, using: 0 HPUs\n",
      "LOCAL_RANK: 0 - CUDA_VISIBLE_DEVICES: [0]\n",
      "/root/autodl-tmp/conda/envs/law/lib/python3.8/site-packages/pytorch_lightning/trainer/connectors/data_connector.py:224: PossibleUserWarning: The dataloader, test_dataloader 0, does not have many workers which may be a bottleneck. Consider increasing the value of the `num_workers` argument` (try 128 which is the number of cpus on this machine) in the `DataLoader` init to improve performance.\n",
      "  rank_zero_warn(\n"
     ]
    },
    {
     "name": "stdout",
     "output_type": "stream",
     "text": [
      "Testing DataLoader 0: 100%|██████████| 3/3 [00:00<00:00, 38.42it/s]"
     ]
    },
    {
     "name": "stderr",
     "output_type": "stream",
     "text": [
      "[2024-12-02 19:56:57] INFO (torcheeg/MainThread) \n",
      "[Test] test_loss: 1.878 test_accuracy: 0.637 \n",
      "\n"
     ]
    },
    {
     "name": "stdout",
     "output_type": "stream",
     "text": [
      "Testing DataLoader 0: 100%|██████████| 3/3 [00:00<00:00, 35.75it/s]\n",
      "────────────────────────────────────────────────────────────────────────────────────────────────────────────────────────\n",
      "       Test metric             DataLoader 0\n",
      "────────────────────────────────────────────────────────────────────────────────────────────────────────────────────────\n",
      "      test_accuracy          0.637499988079071\n",
      "        test_loss            1.878145694732666\n",
      "────────────────────────────────────────────────────────────────────────────────────────────────────────────────────────\n",
      "已删除文件夹: /root/autodl-tmp/.autodl/kinlaw/mi_swin/lightning_logs\n"
     ]
    },
    {
     "name": "stderr",
     "output_type": "stream",
     "text": [
      "GPU available: True (cuda), used: True\n",
      "TPU available: False, using: 0 TPU cores\n",
      "IPU available: False, using: 0 IPUs\n",
      "HPU available: False, using: 0 HPUs\n",
      "Missing logger folder: /root/autodl-tmp/.autodl/kinlaw/mi_swin/lightning_logs\n",
      "LOCAL_RANK: 0 - CUDA_VISIBLE_DEVICES: [0]\n",
      "/root/autodl-tmp/conda/envs/law/lib/python3.8/site-packages/pytorch_lightning/trainer/connectors/data_connector.py:224: PossibleUserWarning: The dataloader, train_dataloader, does not have many workers which may be a bottleneck. Consider increasing the value of the `num_workers` argument` (try 128 which is the number of cpus on this machine) in the `DataLoader` init to improve performance.\n",
      "  rank_zero_warn(\n",
      "/root/autodl-tmp/conda/envs/law/lib/python3.8/site-packages/pytorch_lightning/trainer/trainer.py:1609: PossibleUserWarning: The number of training batches (8) is smaller than the logging interval Trainer(log_every_n_steps=50). Set a lower value for log_every_n_steps if you want to see logs for the training epoch.\n",
      "  rank_zero_warn(\n"
     ]
    },
    {
     "name": "stdout",
     "output_type": "stream",
     "text": [
      "Epoch 0: 100%|██████████| 8/8 [00:00<00:00,  9.49it/s, loss=2.58, v_num=0, train_loss=1.360, train_accuracy=0.625]"
     ]
    },
    {
     "name": "stderr",
     "output_type": "stream",
     "text": [
      "Metric train_loss improved. New best score: 1.364\n"
     ]
    },
    {
     "name": "stdout",
     "output_type": "stream",
     "text": [
      "Epoch 0: 100%|██████████| 8/8 [00:00<00:00,  9.47it/s, loss=2.58, v_num=0, train_loss=1.360, train_accuracy=0.625]"
     ]
    },
    {
     "name": "stderr",
     "output_type": "stream",
     "text": [
      "[2024-12-02 19:57:04] INFO (torcheeg/MainThread) \n",
      "[Train] train_loss: 2.584 train_accuracy: 0.529 \n",
      "\n"
     ]
    },
    {
     "name": "stdout",
     "output_type": "stream",
     "text": [
      "Epoch 1: 100%|██████████| 8/8 [00:00<00:00,  9.72it/s, loss=1.7, v_num=0, train_loss=0.824, train_accuracy=0.688] "
     ]
    },
    {
     "name": "stderr",
     "output_type": "stream",
     "text": [
      "Metric train_loss improved by 0.540 >= min_delta = 0.0. New best score: 0.824\n"
     ]
    },
    {
     "name": "stdout",
     "output_type": "stream",
     "text": [
      "Epoch 1: 100%|██████████| 8/8 [00:00<00:00,  9.68it/s, loss=1.7, v_num=0, train_loss=0.824, train_accuracy=0.688]"
     ]
    },
    {
     "name": "stderr",
     "output_type": "stream",
     "text": [
      "[2024-12-02 19:57:08] INFO (torcheeg/MainThread) \n",
      "[Train] train_loss: 0.811 train_accuracy: 0.629 \n",
      "\n"
     ]
    },
    {
     "name": "stdout",
     "output_type": "stream",
     "text": [
      "Epoch 2: 100%|██████████| 8/8 [00:00<00:00,  9.84it/s, loss=0.909, v_num=0, train_loss=0.328, train_accuracy=0.750]"
     ]
    },
    {
     "name": "stderr",
     "output_type": "stream",
     "text": [
      "Metric train_loss improved by 0.496 >= min_delta = 0.0. New best score: 0.328\n"
     ]
    },
    {
     "name": "stdout",
     "output_type": "stream",
     "text": [
      "Epoch 2: 100%|██████████| 8/8 [00:00<00:00,  9.82it/s, loss=0.909, v_num=0, train_loss=0.328, train_accuracy=0.750]"
     ]
    },
    {
     "name": "stderr",
     "output_type": "stream",
     "text": [
      "[2024-12-02 19:57:13] INFO (torcheeg/MainThread) \n",
      "[Train] train_loss: 0.574 train_accuracy: 0.717 \n",
      "\n"
     ]
    },
    {
     "name": "stdout",
     "output_type": "stream",
     "text": [
      "Epoch 3: 100%|██████████| 8/8 [00:00<00:00,  9.83it/s, loss=0.54, v_num=0, train_loss=0.356, train_accuracy=0.750] "
     ]
    },
    {
     "name": "stderr",
     "output_type": "stream",
     "text": [
      "[2024-12-02 19:57:17] INFO (torcheeg/MainThread) \n",
      "[Train] train_loss: 0.352 train_accuracy: 0.842 \n",
      "\n"
     ]
    },
    {
     "name": "stdout",
     "output_type": "stream",
     "text": [
      "Epoch 4: 100%|██████████| 8/8 [00:00<00:00,  9.88it/s, loss=0.38, v_num=0, train_loss=0.427, train_accuracy=0.750] "
     ]
    },
    {
     "name": "stderr",
     "output_type": "stream",
     "text": [
      "[2024-12-02 19:57:21] INFO (torcheeg/MainThread) \n",
      "[Train] train_loss: 0.315 train_accuracy: 0.842 \n",
      "\n"
     ]
    },
    {
     "name": "stdout",
     "output_type": "stream",
     "text": [
      "Epoch 5: 100%|██████████| 8/8 [00:00<00:00,  9.66it/s, loss=0.319, v_num=0, train_loss=0.430, train_accuracy=0.812]"
     ]
    },
    {
     "name": "stderr",
     "output_type": "stream",
     "text": [
      "[2024-12-02 19:57:26] INFO (torcheeg/MainThread) \n",
      "[Train] train_loss: 0.305 train_accuracy: 0.863 \n",
      "\n"
     ]
    },
    {
     "name": "stdout",
     "output_type": "stream",
     "text": [
      "Epoch 6: 100%|██████████| 8/8 [00:00<00:00,  9.72it/s, loss=0.314, v_num=0, train_loss=0.448, train_accuracy=0.750]"
     ]
    },
    {
     "name": "stderr",
     "output_type": "stream",
     "text": [
      "[2024-12-02 19:57:30] INFO (torcheeg/MainThread) \n",
      "[Train] train_loss: 0.301 train_accuracy: 0.887 \n",
      "\n"
     ]
    },
    {
     "name": "stdout",
     "output_type": "stream",
     "text": [
      "Epoch 7: 100%|██████████| 8/8 [00:00<00:00,  9.85it/s, loss=0.263, v_num=0, train_loss=0.314, train_accuracy=0.938]"
     ]
    },
    {
     "name": "stderr",
     "output_type": "stream",
     "text": [
      "Metric train_loss improved by 0.014 >= min_delta = 0.0. New best score: 0.314\n"
     ]
    },
    {
     "name": "stdout",
     "output_type": "stream",
     "text": [
      "Epoch 7: 100%|██████████| 8/8 [00:00<00:00,  9.83it/s, loss=0.263, v_num=0, train_loss=0.314, train_accuracy=0.938]"
     ]
    },
    {
     "name": "stderr",
     "output_type": "stream",
     "text": [
      "[2024-12-02 19:57:35] INFO (torcheeg/MainThread) \n",
      "[Train] train_loss: 0.216 train_accuracy: 0.913 \n",
      "\n"
     ]
    },
    {
     "name": "stdout",
     "output_type": "stream",
     "text": [
      "Epoch 8: 100%|██████████| 8/8 [00:00<00:00,  9.91it/s, loss=0.232, v_num=0, train_loss=0.134, train_accuracy=0.938] "
     ]
    },
    {
     "name": "stderr",
     "output_type": "stream",
     "text": [
      "Metric train_loss improved by 0.180 >= min_delta = 0.0. New best score: 0.134\n"
     ]
    },
    {
     "name": "stdout",
     "output_type": "stream",
     "text": [
      "Epoch 8: 100%|██████████| 8/8 [00:00<00:00,  9.89it/s, loss=0.232, v_num=0, train_loss=0.134, train_accuracy=0.938]"
     ]
    },
    {
     "name": "stderr",
     "output_type": "stream",
     "text": [
      "[2024-12-02 19:57:39] INFO (torcheeg/MainThread) \n",
      "[Train] train_loss: 0.185 train_accuracy: 0.921 \n",
      "\n"
     ]
    },
    {
     "name": "stdout",
     "output_type": "stream",
     "text": [
      "Epoch 9: 100%|██████████| 8/8 [00:00<00:00,  9.79it/s, loss=0.241, v_num=0, train_loss=0.551, train_accuracy=0.750] "
     ]
    },
    {
     "name": "stderr",
     "output_type": "stream",
     "text": [
      "[2024-12-02 19:57:43] INFO (torcheeg/MainThread) \n",
      "[Train] train_loss: 0.318 train_accuracy: 0.896 \n",
      "\n"
     ]
    },
    {
     "name": "stdout",
     "output_type": "stream",
     "text": [
      "Epoch 10: 100%|██████████| 8/8 [00:00<00:00,  9.75it/s, loss=0.275, v_num=0, train_loss=0.459, train_accuracy=0.938]"
     ]
    },
    {
     "name": "stderr",
     "output_type": "stream",
     "text": [
      "[2024-12-02 19:57:48] INFO (torcheeg/MainThread) \n",
      "[Train] train_loss: 0.282 train_accuracy: 0.900 \n",
      "\n"
     ]
    },
    {
     "name": "stdout",
     "output_type": "stream",
     "text": [
      "Epoch 11: 100%|██████████| 8/8 [00:00<00:00,  9.70it/s, loss=0.279, v_num=0, train_loss=0.175, train_accuracy=0.938]"
     ]
    },
    {
     "name": "stderr",
     "output_type": "stream",
     "text": [
      "[2024-12-02 19:57:52] INFO (torcheeg/MainThread) \n",
      "[Train] train_loss: 0.227 train_accuracy: 0.908 \n",
      "\n"
     ]
    },
    {
     "name": "stdout",
     "output_type": "stream",
     "text": [
      "Epoch 12: 100%|██████████| 8/8 [00:00<00:00,  9.75it/s, loss=0.203, v_num=0, train_loss=0.0254, train_accuracy=1.000]"
     ]
    },
    {
     "name": "stderr",
     "output_type": "stream",
     "text": [
      "Metric train_loss improved by 0.109 >= min_delta = 0.0. New best score: 0.025\n"
     ]
    },
    {
     "name": "stdout",
     "output_type": "stream",
     "text": [
      "Epoch 12: 100%|██████████| 8/8 [00:00<00:00,  9.73it/s, loss=0.203, v_num=0, train_loss=0.0254, train_accuracy=1.000]"
     ]
    },
    {
     "name": "stderr",
     "output_type": "stream",
     "text": [
      "[2024-12-02 19:57:57] INFO (torcheeg/MainThread) \n",
      "[Train] train_loss: 0.113 train_accuracy: 0.958 \n",
      "\n"
     ]
    },
    {
     "name": "stdout",
     "output_type": "stream",
     "text": [
      "Epoch 13: 100%|██████████| 8/8 [00:00<00:00,  9.70it/s, loss=0.117, v_num=0, train_loss=0.0859, train_accuracy=0.938]"
     ]
    },
    {
     "name": "stderr",
     "output_type": "stream",
     "text": [
      "[2024-12-02 19:58:01] INFO (torcheeg/MainThread) \n",
      "[Train] train_loss: 0.092 train_accuracy: 0.962 \n",
      "\n"
     ]
    },
    {
     "name": "stdout",
     "output_type": "stream",
     "text": [
      "Epoch 14: 100%|██████████| 8/8 [00:00<00:00,  9.78it/s, loss=0.0952, v_num=0, train_loss=0.0114, train_accuracy=1.000]"
     ]
    },
    {
     "name": "stderr",
     "output_type": "stream",
     "text": [
      "Metric train_loss improved by 0.014 >= min_delta = 0.0. New best score: 0.011\n"
     ]
    },
    {
     "name": "stdout",
     "output_type": "stream",
     "text": [
      "Epoch 14: 100%|██████████| 8/8 [00:00<00:00,  9.76it/s, loss=0.0952, v_num=0, train_loss=0.0114, train_accuracy=1.000]"
     ]
    },
    {
     "name": "stderr",
     "output_type": "stream",
     "text": [
      "[2024-12-02 19:58:05] INFO (torcheeg/MainThread) \n",
      "[Train] train_loss: 0.098 train_accuracy: 0.950 \n",
      "\n"
     ]
    },
    {
     "name": "stdout",
     "output_type": "stream",
     "text": [
      "Epoch 15: 100%|██████████| 8/8 [00:00<00:00,  9.67it/s, loss=0.0856, v_num=0, train_loss=0.0942, train_accuracy=0.938] "
     ]
    },
    {
     "name": "stderr",
     "output_type": "stream",
     "text": [
      "[2024-12-02 19:58:10] INFO (torcheeg/MainThread) \n",
      "[Train] train_loss: 0.076 train_accuracy: 0.971 \n",
      "\n"
     ]
    },
    {
     "name": "stdout",
     "output_type": "stream",
     "text": [
      "Epoch 16: 100%|██████████| 8/8 [00:00<00:00,  9.88it/s, loss=0.093, v_num=0, train_loss=0.248, train_accuracy=0.938]   "
     ]
    },
    {
     "name": "stderr",
     "output_type": "stream",
     "text": [
      "[2024-12-02 19:58:14] INFO (torcheeg/MainThread) \n",
      "[Train] train_loss: 0.117 train_accuracy: 0.954 \n",
      "\n"
     ]
    },
    {
     "name": "stdout",
     "output_type": "stream",
     "text": [
      "Epoch 17: 100%|██████████| 8/8 [00:00<00:00,  9.83it/s, loss=0.0952, v_num=0, train_loss=0.0235, train_accuracy=1.000]"
     ]
    },
    {
     "name": "stderr",
     "output_type": "stream",
     "text": [
      "[2024-12-02 19:58:19] INFO (torcheeg/MainThread) \n",
      "[Train] train_loss: 0.075 train_accuracy: 0.962 \n",
      "\n"
     ]
    },
    {
     "name": "stdout",
     "output_type": "stream",
     "text": [
      "Epoch 18: 100%|██████████| 8/8 [00:00<00:00,  9.84it/s, loss=0.0825, v_num=0, train_loss=0.049, train_accuracy=1.000]  "
     ]
    },
    {
     "name": "stderr",
     "output_type": "stream",
     "text": [
      "[2024-12-02 19:58:23] INFO (torcheeg/MainThread) \n",
      "[Train] train_loss: 0.055 train_accuracy: 0.979 \n",
      "\n"
     ]
    },
    {
     "name": "stdout",
     "output_type": "stream",
     "text": [
      "Epoch 19: 100%|██████████| 8/8 [00:00<00:00,  9.81it/s, loss=0.065, v_num=0, train_loss=0.0666, train_accuracy=0.938] "
     ]
    },
    {
     "name": "stderr",
     "output_type": "stream",
     "text": [
      "[2024-12-02 19:58:28] INFO (torcheeg/MainThread) \n",
      "[Train] train_loss: 0.087 train_accuracy: 0.967 \n",
      "\n"
     ]
    },
    {
     "name": "stdout",
     "output_type": "stream",
     "text": [
      "Epoch 20: 100%|██████████| 8/8 [00:00<00:00,  9.53it/s, loss=0.0688, v_num=0, train_loss=0.0149, train_accuracy=1.000] "
     ]
    },
    {
     "name": "stderr",
     "output_type": "stream",
     "text": [
      "[2024-12-02 19:58:32] INFO (torcheeg/MainThread) \n",
      "[Train] train_loss: 0.056 train_accuracy: 0.975 \n",
      "\n"
     ]
    },
    {
     "name": "stdout",
     "output_type": "stream",
     "text": [
      "Epoch 21: 100%|██████████| 8/8 [00:00<00:00,  9.75it/s, loss=0.0687, v_num=0, train_loss=0.00952, train_accuracy=1.000]"
     ]
    },
    {
     "name": "stderr",
     "output_type": "stream",
     "text": [
      "Metric train_loss improved by 0.002 >= min_delta = 0.0. New best score: 0.010\n"
     ]
    },
    {
     "name": "stdout",
     "output_type": "stream",
     "text": [
      "Epoch 21: 100%|██████████| 8/8 [00:00<00:00,  9.73it/s, loss=0.0687, v_num=0, train_loss=0.00952, train_accuracy=1.000]"
     ]
    },
    {
     "name": "stderr",
     "output_type": "stream",
     "text": [
      "[2024-12-02 19:58:37] INFO (torcheeg/MainThread) \n",
      "[Train] train_loss: 0.063 train_accuracy: 0.975 \n",
      "\n"
     ]
    },
    {
     "name": "stdout",
     "output_type": "stream",
     "text": [
      "Epoch 22: 100%|██████████| 8/8 [00:00<00:00,  9.85it/s, loss=0.0601, v_num=0, train_loss=0.00101, train_accuracy=1.000]"
     ]
    },
    {
     "name": "stderr",
     "output_type": "stream",
     "text": [
      "Metric train_loss improved by 0.009 >= min_delta = 0.0. New best score: 0.001\n"
     ]
    },
    {
     "name": "stdout",
     "output_type": "stream",
     "text": [
      "Epoch 22: 100%|██████████| 8/8 [00:00<00:00,  9.83it/s, loss=0.0601, v_num=0, train_loss=0.00101, train_accuracy=1.000]"
     ]
    },
    {
     "name": "stderr",
     "output_type": "stream",
     "text": [
      "[2024-12-02 19:58:41] INFO (torcheeg/MainThread) \n",
      "[Train] train_loss: 0.062 train_accuracy: 0.975 \n",
      "\n"
     ]
    },
    {
     "name": "stdout",
     "output_type": "stream",
     "text": [
      "Epoch 23: 100%|██████████| 8/8 [00:00<00:00,  9.66it/s, loss=0.0524, v_num=0, train_loss=0.00216, train_accuracy=1.000]"
     ]
    },
    {
     "name": "stderr",
     "output_type": "stream",
     "text": [
      "[2024-12-02 19:58:46] INFO (torcheeg/MainThread) \n",
      "[Train] train_loss: 0.040 train_accuracy: 0.988 \n",
      "\n"
     ]
    },
    {
     "name": "stdout",
     "output_type": "stream",
     "text": [
      "Epoch 24: 100%|██████████| 8/8 [00:00<00:00,  9.71it/s, loss=0.0553, v_num=0, train_loss=0.231, train_accuracy=0.875]  "
     ]
    },
    {
     "name": "stderr",
     "output_type": "stream",
     "text": [
      "[2024-12-02 19:58:51] INFO (torcheeg/MainThread) \n",
      "[Train] train_loss: 0.057 train_accuracy: 0.975 \n",
      "\n"
     ]
    },
    {
     "name": "stdout",
     "output_type": "stream",
     "text": [
      "Epoch 25: 100%|██████████| 8/8 [00:00<00:00,  9.61it/s, loss=0.0672, v_num=0, train_loss=0.0229, train_accuracy=1.000] "
     ]
    },
    {
     "name": "stderr",
     "output_type": "stream",
     "text": [
      "[2024-12-02 19:58:55] INFO (torcheeg/MainThread) \n",
      "[Train] train_loss: 0.094 train_accuracy: 0.962 \n",
      "\n"
     ]
    },
    {
     "name": "stdout",
     "output_type": "stream",
     "text": [
      "Epoch 26: 100%|██████████| 8/8 [00:00<00:00,  9.76it/s, loss=0.0973, v_num=0, train_loss=0.0407, train_accuracy=1.000]"
     ]
    },
    {
     "name": "stderr",
     "output_type": "stream",
     "text": [
      "[2024-12-02 19:59:00] INFO (torcheeg/MainThread) \n",
      "[Train] train_loss: 0.103 train_accuracy: 0.954 \n",
      "\n"
     ]
    },
    {
     "name": "stdout",
     "output_type": "stream",
     "text": [
      "Epoch 27: 100%|██████████| 8/8 [00:00<00:00,  9.89it/s, loss=0.103, v_num=0, train_loss=0.0396, train_accuracy=1.000] "
     ]
    },
    {
     "name": "stderr",
     "output_type": "stream",
     "text": [
      "[2024-12-02 19:59:04] INFO (torcheeg/MainThread) \n",
      "[Train] train_loss: 0.134 train_accuracy: 0.962 \n",
      "\n"
     ]
    },
    {
     "name": "stdout",
     "output_type": "stream",
     "text": [
      "Epoch 28: 100%|██████████| 8/8 [00:00<00:00,  9.84it/s, loss=0.117, v_num=0, train_loss=0.0331, train_accuracy=1.000]"
     ]
    },
    {
     "name": "stderr",
     "output_type": "stream",
     "text": [
      "[2024-12-02 19:59:08] INFO (torcheeg/MainThread) \n",
      "[Train] train_loss: 0.089 train_accuracy: 0.975 \n",
      "\n"
     ]
    },
    {
     "name": "stdout",
     "output_type": "stream",
     "text": [
      "Epoch 29: 100%|██████████| 8/8 [00:00<00:00,  9.81it/s, loss=0.0801, v_num=0, train_loss=0.0107, train_accuracy=1.000]"
     ]
    },
    {
     "name": "stderr",
     "output_type": "stream",
     "text": [
      "[2024-12-02 19:59:13] INFO (torcheeg/MainThread) \n",
      "[Train] train_loss: 0.071 train_accuracy: 0.971 \n",
      "\n"
     ]
    },
    {
     "name": "stdout",
     "output_type": "stream",
     "text": [
      "Epoch 30: 100%|██████████| 8/8 [00:00<00:00,  9.84it/s, loss=0.06, v_num=0, train_loss=0.00693, train_accuracy=1.000]  "
     ]
    },
    {
     "name": "stderr",
     "output_type": "stream",
     "text": [
      "[2024-12-02 19:59:17] INFO (torcheeg/MainThread) \n",
      "[Train] train_loss: 0.035 train_accuracy: 0.988 \n",
      "\n"
     ]
    },
    {
     "name": "stdout",
     "output_type": "stream",
     "text": [
      "Epoch 31: 100%|██████████| 8/8 [00:00<00:00,  9.72it/s, loss=0.0476, v_num=0, train_loss=0.0217, train_accuracy=1.000]"
     ]
    },
    {
     "name": "stderr",
     "output_type": "stream",
     "text": [
      "[2024-12-02 19:59:22] INFO (torcheeg/MainThread) \n",
      "[Train] train_loss: 0.051 train_accuracy: 0.975 \n",
      "\n"
     ]
    },
    {
     "name": "stdout",
     "output_type": "stream",
     "text": [
      "Epoch 32: 100%|██████████| 8/8 [00:00<00:00,  9.75it/s, loss=0.0532, v_num=0, train_loss=0.00543, train_accuracy=1.000]"
     ]
    },
    {
     "name": "stderr",
     "output_type": "stream",
     "text": [
      "[2024-12-02 19:59:26] INFO (torcheeg/MainThread) \n",
      "[Train] train_loss: 0.073 train_accuracy: 0.975 \n",
      "\n"
     ]
    },
    {
     "name": "stdout",
     "output_type": "stream",
     "text": [
      "Epoch 33: 100%|██████████| 8/8 [00:00<00:00,  9.86it/s, loss=0.0652, v_num=0, train_loss=0.00234, train_accuracy=1.000]"
     ]
    },
    {
     "name": "stderr",
     "output_type": "stream",
     "text": [
      "[2024-12-02 19:59:31] INFO (torcheeg/MainThread) \n",
      "[Train] train_loss: 0.062 train_accuracy: 0.983 \n",
      "\n"
     ]
    },
    {
     "name": "stdout",
     "output_type": "stream",
     "text": [
      "Epoch 34: 100%|██████████| 8/8 [00:00<00:00,  9.88it/s, loss=0.0491, v_num=0, train_loss=0.00444, train_accuracy=1.000]"
     ]
    },
    {
     "name": "stderr",
     "output_type": "stream",
     "text": [
      "[2024-12-02 19:59:35] INFO (torcheeg/MainThread) \n",
      "[Train] train_loss: 0.054 train_accuracy: 0.988 \n",
      "\n"
     ]
    },
    {
     "name": "stdout",
     "output_type": "stream",
     "text": [
      "Epoch 35: 100%|██████████| 8/8 [00:00<00:00,  9.74it/s, loss=0.0502, v_num=0, train_loss=0.00181, train_accuracy=1.000]"
     ]
    },
    {
     "name": "stderr",
     "output_type": "stream",
     "text": [
      "[2024-12-02 19:59:40] INFO (torcheeg/MainThread) \n",
      "[Train] train_loss: 0.054 train_accuracy: 0.975 \n",
      "\n"
     ]
    },
    {
     "name": "stdout",
     "output_type": "stream",
     "text": [
      "Epoch 36: 100%|██████████| 8/8 [00:00<00:00,  9.59it/s, loss=0.0659, v_num=0, train_loss=0.0549, train_accuracy=1.000] "
     ]
    },
    {
     "name": "stderr",
     "output_type": "stream",
     "text": [
      "[2024-12-02 19:59:44] INFO (torcheeg/MainThread) \n",
      "[Train] train_loss: 0.076 train_accuracy: 0.988 \n",
      "\n"
     ]
    },
    {
     "name": "stdout",
     "output_type": "stream",
     "text": [
      "Epoch 37: 100%|██████████| 8/8 [00:00<00:00,  9.87it/s, loss=0.0631, v_num=0, train_loss=0.093, train_accuracy=0.938]  "
     ]
    },
    {
     "name": "stderr",
     "output_type": "stream",
     "text": [
      "[2024-12-02 19:59:49] INFO (torcheeg/MainThread) \n",
      "[Train] train_loss: 0.057 train_accuracy: 0.962 \n",
      "\n"
     ]
    },
    {
     "name": "stdout",
     "output_type": "stream",
     "text": [
      "Epoch 38: 100%|██████████| 8/8 [00:00<00:00,  9.47it/s, loss=0.0608, v_num=0, train_loss=0.046, train_accuracy=1.000]  "
     ]
    },
    {
     "name": "stderr",
     "output_type": "stream",
     "text": [
      "[2024-12-02 19:59:53] INFO (torcheeg/MainThread) \n",
      "[Train] train_loss: 0.057 train_accuracy: 0.983 \n",
      "\n"
     ]
    },
    {
     "name": "stdout",
     "output_type": "stream",
     "text": [
      "Epoch 39: 100%|██████████| 8/8 [00:00<00:00,  9.70it/s, loss=0.0596, v_num=0, train_loss=0.204, train_accuracy=0.938] "
     ]
    },
    {
     "name": "stderr",
     "output_type": "stream",
     "text": [
      "[2024-12-02 19:59:58] INFO (torcheeg/MainThread) \n",
      "[Train] train_loss: 0.067 train_accuracy: 0.979 \n",
      "\n"
     ]
    },
    {
     "name": "stdout",
     "output_type": "stream",
     "text": [
      "Epoch 40: 100%|██████████| 8/8 [00:00<00:00,  9.89it/s, loss=0.0584, v_num=0, train_loss=0.0191, train_accuracy=1.000] "
     ]
    },
    {
     "name": "stderr",
     "output_type": "stream",
     "text": [
      "[2024-12-02 20:00:02] INFO (torcheeg/MainThread) \n",
      "[Train] train_loss: 0.040 train_accuracy: 0.983 \n",
      "\n"
     ]
    },
    {
     "name": "stdout",
     "output_type": "stream",
     "text": [
      "Epoch 41: 100%|██████████| 8/8 [00:00<00:00,  9.73it/s, loss=0.0378, v_num=0, train_loss=0.000867, train_accuracy=1.000]"
     ]
    },
    {
     "name": "stderr",
     "output_type": "stream",
     "text": [
      "Metric train_loss improved by 0.000 >= min_delta = 0.0. New best score: 0.001\n"
     ]
    },
    {
     "name": "stdout",
     "output_type": "stream",
     "text": [
      "Epoch 41: 100%|██████████| 8/8 [00:00<00:00,  9.71it/s, loss=0.0378, v_num=0, train_loss=0.000867, train_accuracy=1.000]"
     ]
    },
    {
     "name": "stderr",
     "output_type": "stream",
     "text": [
      "[2024-12-02 20:00:07] INFO (torcheeg/MainThread) \n",
      "[Train] train_loss: 0.018 train_accuracy: 0.992 \n",
      "\n"
     ]
    },
    {
     "name": "stdout",
     "output_type": "stream",
     "text": [
      "Epoch 42: 100%|██████████| 8/8 [00:00<00:00,  9.77it/s, loss=0.0356, v_num=0, train_loss=0.0531, train_accuracy=0.938]  "
     ]
    },
    {
     "name": "stderr",
     "output_type": "stream",
     "text": [
      "[2024-12-02 20:00:11] INFO (torcheeg/MainThread) \n",
      "[Train] train_loss: 0.055 train_accuracy: 0.971 \n",
      "\n"
     ]
    },
    {
     "name": "stdout",
     "output_type": "stream",
     "text": [
      "Epoch 43: 100%|██████████| 8/8 [00:00<00:00,  9.82it/s, loss=0.048, v_num=0, train_loss=0.00401, train_accuracy=1.000]  "
     ]
    },
    {
     "name": "stderr",
     "output_type": "stream",
     "text": [
      "[2024-12-02 20:00:16] INFO (torcheeg/MainThread) \n",
      "[Train] train_loss: 0.050 train_accuracy: 0.983 \n",
      "\n"
     ]
    },
    {
     "name": "stdout",
     "output_type": "stream",
     "text": [
      "Epoch 44: 100%|██████████| 8/8 [00:00<00:00,  9.86it/s, loss=0.0554, v_num=0, train_loss=0.00387, train_accuracy=1.000]"
     ]
    },
    {
     "name": "stderr",
     "output_type": "stream",
     "text": [
      "[2024-12-02 20:00:20] INFO (torcheeg/MainThread) \n",
      "[Train] train_loss: 0.044 train_accuracy: 0.979 \n",
      "\n"
     ]
    },
    {
     "name": "stdout",
     "output_type": "stream",
     "text": [
      "Epoch 45: 100%|██████████| 8/8 [00:00<00:00,  9.75it/s, loss=0.0442, v_num=0, train_loss=0.0292, train_accuracy=1.000]  "
     ]
    },
    {
     "name": "stderr",
     "output_type": "stream",
     "text": [
      "[2024-12-02 20:00:25] INFO (torcheeg/MainThread) \n",
      "[Train] train_loss: 0.018 train_accuracy: 0.992 \n",
      "\n"
     ]
    },
    {
     "name": "stdout",
     "output_type": "stream",
     "text": [
      "Epoch 46: 100%|██████████| 8/8 [00:00<00:00,  9.89it/s, loss=0.031, v_num=0, train_loss=0.000269, train_accuracy=1.000] "
     ]
    },
    {
     "name": "stderr",
     "output_type": "stream",
     "text": [
      "Metric train_loss improved by 0.001 >= min_delta = 0.0. New best score: 0.000\n"
     ]
    },
    {
     "name": "stdout",
     "output_type": "stream",
     "text": [
      "Epoch 46: 100%|██████████| 8/8 [00:00<00:00,  9.87it/s, loss=0.031, v_num=0, train_loss=0.000269, train_accuracy=1.000]"
     ]
    },
    {
     "name": "stderr",
     "output_type": "stream",
     "text": [
      "[2024-12-02 20:00:29] INFO (torcheeg/MainThread) \n",
      "[Train] train_loss: 0.047 train_accuracy: 0.988 \n",
      "\n"
     ]
    },
    {
     "name": "stdout",
     "output_type": "stream",
     "text": [
      "Epoch 47: 100%|██████████| 8/8 [00:00<00:00,  9.77it/s, loss=0.037, v_num=0, train_loss=0.111, train_accuracy=0.938]    "
     ]
    },
    {
     "name": "stderr",
     "output_type": "stream",
     "text": [
      "[2024-12-02 20:00:34] INFO (torcheeg/MainThread) \n",
      "[Train] train_loss: 0.032 train_accuracy: 0.983 \n",
      "\n"
     ]
    },
    {
     "name": "stdout",
     "output_type": "stream",
     "text": [
      "Epoch 48: 100%|██████████| 8/8 [00:00<00:00,  9.83it/s, loss=0.0621, v_num=0, train_loss=0.000353, train_accuracy=1.000]"
     ]
    },
    {
     "name": "stderr",
     "output_type": "stream",
     "text": [
      "[2024-12-02 20:00:38] INFO (torcheeg/MainThread) \n",
      "[Train] train_loss: 0.084 train_accuracy: 0.962 \n",
      "\n"
     ]
    },
    {
     "name": "stdout",
     "output_type": "stream",
     "text": [
      "Epoch 49: 100%|██████████| 8/8 [00:00<00:00,  9.89it/s, loss=0.0642, v_num=0, train_loss=0.000358, train_accuracy=1.000]"
     ]
    },
    {
     "name": "stderr",
     "output_type": "stream",
     "text": [
      "[2024-12-02 20:00:42] INFO (torcheeg/MainThread) \n",
      "[Train] train_loss: 0.051 train_accuracy: 0.983 \n",
      "\n"
     ]
    },
    {
     "name": "stdout",
     "output_type": "stream",
     "text": [
      "Epoch 50: 100%|██████████| 8/8 [00:00<00:00,  9.78it/s, loss=0.0607, v_num=0, train_loss=0.131, train_accuracy=0.938]   "
     ]
    },
    {
     "name": "stderr",
     "output_type": "stream",
     "text": [
      "[2024-12-02 20:00:47] INFO (torcheeg/MainThread) \n",
      "[Train] train_loss: 0.060 train_accuracy: 0.975 \n",
      "\n"
     ]
    },
    {
     "name": "stdout",
     "output_type": "stream",
     "text": [
      "Epoch 51: 100%|██████████| 8/8 [00:00<00:00,  9.87it/s, loss=0.053, v_num=0, train_loss=0.00212, train_accuracy=1.000] "
     ]
    },
    {
     "name": "stderr",
     "output_type": "stream",
     "text": [
      "[2024-12-02 20:00:51] INFO (torcheeg/MainThread) \n",
      "[Train] train_loss: 0.034 train_accuracy: 0.992 \n",
      "\n"
     ]
    },
    {
     "name": "stdout",
     "output_type": "stream",
     "text": [
      "Epoch 52: 100%|██████████| 8/8 [00:00<00:00,  9.68it/s, loss=0.0334, v_num=0, train_loss=0.000782, train_accuracy=1.000]"
     ]
    },
    {
     "name": "stderr",
     "output_type": "stream",
     "text": [
      "[2024-12-02 20:00:56] INFO (torcheeg/MainThread) \n",
      "[Train] train_loss: 0.020 train_accuracy: 0.988 \n",
      "\n"
     ]
    },
    {
     "name": "stdout",
     "output_type": "stream",
     "text": [
      "Epoch 53: 100%|██████████| 8/8 [00:00<00:00,  9.81it/s, loss=0.0904, v_num=0, train_loss=0.977, train_accuracy=0.812]   "
     ]
    },
    {
     "name": "stderr",
     "output_type": "stream",
     "text": [
      "[2024-12-02 20:01:00] INFO (torcheeg/MainThread) \n",
      "[Train] train_loss: 0.183 train_accuracy: 0.962 \n",
      "\n"
     ]
    },
    {
     "name": "stdout",
     "output_type": "stream",
     "text": [
      "Epoch 54: 100%|██████████| 8/8 [00:00<00:00,  9.68it/s, loss=0.0906, v_num=0, train_loss=0.0914, train_accuracy=0.938] "
     ]
    },
    {
     "name": "stderr",
     "output_type": "stream",
     "text": [
      "[2024-12-02 20:01:05] INFO (torcheeg/MainThread) \n",
      "[Train] train_loss: 0.036 train_accuracy: 0.988 \n",
      "\n"
     ]
    },
    {
     "name": "stdout",
     "output_type": "stream",
     "text": [
      "Epoch 55: 100%|██████████| 8/8 [00:00<00:00,  9.76it/s, loss=0.119, v_num=0, train_loss=0.0182, train_accuracy=1.000] "
     ]
    },
    {
     "name": "stderr",
     "output_type": "stream",
     "text": [
      "[2024-12-02 20:01:09] INFO (torcheeg/MainThread) \n",
      "[Train] train_loss: 0.116 train_accuracy: 0.958 \n",
      "\n"
     ]
    },
    {
     "name": "stdout",
     "output_type": "stream",
     "text": [
      "Epoch 56: 100%|██████████| 8/8 [00:00<00:00,  9.78it/s, loss=0.0792, v_num=0, train_loss=0.0126, train_accuracy=1.000]"
     ]
    },
    {
     "name": "stderr",
     "output_type": "stream",
     "text": [
      "[2024-12-02 20:01:14] INFO (torcheeg/MainThread) \n",
      "[Train] train_loss: 0.053 train_accuracy: 0.979 \n",
      "\n"
     ]
    },
    {
     "name": "stdout",
     "output_type": "stream",
     "text": [
      "Epoch 57: 100%|██████████| 8/8 [00:00<00:00,  9.82it/s, loss=0.0561, v_num=0, train_loss=0.178, train_accuracy=0.938]  "
     ]
    },
    {
     "name": "stderr",
     "output_type": "stream",
     "text": [
      "[2024-12-02 20:01:18] INFO (torcheeg/MainThread) \n",
      "[Train] train_loss: 0.070 train_accuracy: 0.975 \n",
      "\n"
     ]
    },
    {
     "name": "stdout",
     "output_type": "stream",
     "text": [
      "Epoch 58: 100%|██████████| 8/8 [00:00<00:00,  9.90it/s, loss=0.1, v_num=0, train_loss=0.137, train_accuracy=0.938]    "
     ]
    },
    {
     "name": "stderr",
     "output_type": "stream",
     "text": [
      "[2024-12-02 20:01:23] INFO (torcheeg/MainThread) \n",
      "[Train] train_loss: 0.157 train_accuracy: 0.933 \n",
      "\n"
     ]
    },
    {
     "name": "stdout",
     "output_type": "stream",
     "text": [
      "Epoch 59: 100%|██████████| 8/8 [00:00<00:00,  9.74it/s, loss=0.129, v_num=0, train_loss=0.00821, train_accuracy=1.000]"
     ]
    },
    {
     "name": "stderr",
     "output_type": "stream",
     "text": [
      "[2024-12-02 20:01:27] INFO (torcheeg/MainThread) \n",
      "[Train] train_loss: 0.120 train_accuracy: 0.946 \n",
      "\n"
     ]
    },
    {
     "name": "stdout",
     "output_type": "stream",
     "text": [
      "Epoch 60: 100%|██████████| 8/8 [00:00<00:00,  9.79it/s, loss=0.0954, v_num=0, train_loss=0.125, train_accuracy=0.938] "
     ]
    },
    {
     "name": "stderr",
     "output_type": "stream",
     "text": [
      "[2024-12-02 20:01:31] INFO (torcheeg/MainThread) \n",
      "[Train] train_loss: 0.071 train_accuracy: 0.975 \n",
      "\n"
     ]
    },
    {
     "name": "stdout",
     "output_type": "stream",
     "text": [
      "Epoch 61: 100%|██████████| 8/8 [00:00<00:00,  9.81it/s, loss=0.0519, v_num=0, train_loss=0.00165, train_accuracy=1.000]"
     ]
    },
    {
     "name": "stderr",
     "output_type": "stream",
     "text": [
      "[2024-12-02 20:01:36] INFO (torcheeg/MainThread) \n",
      "[Train] train_loss: 0.018 train_accuracy: 0.992 \n",
      "\n"
     ]
    },
    {
     "name": "stdout",
     "output_type": "stream",
     "text": [
      "Epoch 62: 100%|██████████| 8/8 [00:00<00:00,  9.79it/s, loss=0.0259, v_num=0, train_loss=0.000161, train_accuracy=1.000]"
     ]
    },
    {
     "name": "stderr",
     "output_type": "stream",
     "text": [
      "Metric train_loss improved by 0.000 >= min_delta = 0.0. New best score: 0.000\n"
     ]
    },
    {
     "name": "stdout",
     "output_type": "stream",
     "text": [
      "Epoch 62: 100%|██████████| 8/8 [00:00<00:00,  9.77it/s, loss=0.0259, v_num=0, train_loss=0.000161, train_accuracy=1.000]"
     ]
    },
    {
     "name": "stderr",
     "output_type": "stream",
     "text": [
      "[2024-12-02 20:01:40] INFO (torcheeg/MainThread) \n",
      "[Train] train_loss: 0.017 train_accuracy: 0.992 \n",
      "\n"
     ]
    },
    {
     "name": "stdout",
     "output_type": "stream",
     "text": [
      "Epoch 63: 100%|██████████| 8/8 [00:00<00:00,  9.65it/s, loss=0.0233, v_num=0, train_loss=0.0019, train_accuracy=1.000]  "
     ]
    },
    {
     "name": "stderr",
     "output_type": "stream",
     "text": [
      "[2024-12-02 20:01:45] INFO (torcheeg/MainThread) \n",
      "[Train] train_loss: 0.035 train_accuracy: 0.983 \n",
      "\n"
     ]
    },
    {
     "name": "stdout",
     "output_type": "stream",
     "text": [
      "Epoch 64: 100%|██████████| 8/8 [00:00<00:00,  9.80it/s, loss=0.0396, v_num=0, train_loss=0.0152, train_accuracy=1.000] "
     ]
    },
    {
     "name": "stderr",
     "output_type": "stream",
     "text": [
      "[2024-12-02 20:01:49] INFO (torcheeg/MainThread) \n",
      "[Train] train_loss: 0.063 train_accuracy: 0.992 \n",
      "\n"
     ]
    },
    {
     "name": "stdout",
     "output_type": "stream",
     "text": [
      "Epoch 65: 100%|██████████| 8/8 [00:00<00:00,  9.84it/s, loss=0.0429, v_num=0, train_loss=0.00114, train_accuracy=1.000]"
     ]
    },
    {
     "name": "stderr",
     "output_type": "stream",
     "text": [
      "[2024-12-02 20:01:54] INFO (torcheeg/MainThread) \n",
      "[Train] train_loss: 0.033 train_accuracy: 0.988 \n",
      "\n"
     ]
    },
    {
     "name": "stdout",
     "output_type": "stream",
     "text": [
      "Epoch 66: 100%|██████████| 8/8 [00:00<00:00,  9.73it/s, loss=0.0404, v_num=0, train_loss=0.00254, train_accuracy=1.000]"
     ]
    },
    {
     "name": "stderr",
     "output_type": "stream",
     "text": [
      "[2024-12-02 20:01:58] INFO (torcheeg/MainThread) \n",
      "[Train] train_loss: 0.064 train_accuracy: 0.979 \n",
      "\n"
     ]
    },
    {
     "name": "stdout",
     "output_type": "stream",
     "text": [
      "Epoch 67: 100%|██████████| 8/8 [00:00<00:00,  9.73it/s, loss=0.0369, v_num=0, train_loss=0.111, train_accuracy=0.938]   "
     ]
    },
    {
     "name": "stderr",
     "output_type": "stream",
     "text": [
      "[2024-12-02 20:02:03] INFO (torcheeg/MainThread) \n",
      "[Train] train_loss: 0.019 train_accuracy: 0.996 \n",
      "\n"
     ]
    },
    {
     "name": "stdout",
     "output_type": "stream",
     "text": [
      "Epoch 68: 100%|██████████| 8/8 [00:00<00:00,  9.79it/s, loss=0.038, v_num=0, train_loss=0.000228, train_accuracy=1.000] "
     ]
    },
    {
     "name": "stderr",
     "output_type": "stream",
     "text": [
      "[2024-12-02 20:02:07] INFO (torcheeg/MainThread) \n",
      "[Train] train_loss: 0.052 train_accuracy: 0.988 \n",
      "\n"
     ]
    },
    {
     "name": "stdout",
     "output_type": "stream",
     "text": [
      "Epoch 69: 100%|██████████| 8/8 [00:00<00:00,  9.61it/s, loss=0.029, v_num=0, train_loss=0.00178, train_accuracy=1.000]  "
     ]
    },
    {
     "name": "stderr",
     "output_type": "stream",
     "text": [
      "[2024-12-02 20:02:12] INFO (torcheeg/MainThread) \n",
      "[Train] train_loss: 0.004 train_accuracy: 1.000 \n",
      "\n"
     ]
    },
    {
     "name": "stdout",
     "output_type": "stream",
     "text": [
      "Epoch 70: 100%|██████████| 8/8 [00:00<00:00,  9.74it/s, loss=0.0232, v_num=0, train_loss=0.00331, train_accuracy=1.000] "
     ]
    },
    {
     "name": "stderr",
     "output_type": "stream",
     "text": [
      "[2024-12-02 20:02:16] INFO (torcheeg/MainThread) \n",
      "[Train] train_loss: 0.004 train_accuracy: 1.000 \n",
      "\n"
     ]
    },
    {
     "name": "stdout",
     "output_type": "stream",
     "text": [
      "Epoch 71: 100%|██████████| 8/8 [00:00<00:00,  9.70it/s, loss=0.0157, v_num=0, train_loss=0.218, train_accuracy=0.938]    "
     ]
    },
    {
     "name": "stderr",
     "output_type": "stream",
     "text": [
      "[2024-12-02 20:02:21] INFO (torcheeg/MainThread) \n",
      "[Train] train_loss: 0.035 train_accuracy: 0.992 \n",
      "\n"
     ]
    },
    {
     "name": "stdout",
     "output_type": "stream",
     "text": [
      "Epoch 72: 100%|██████████| 8/8 [00:00<00:00,  9.87it/s, loss=0.0219, v_num=0, train_loss=0.023, train_accuracy=1.000]   "
     ]
    },
    {
     "name": "stderr",
     "output_type": "stream",
     "text": [
      "[2024-12-02 20:02:25] INFO (torcheeg/MainThread) \n",
      "[Train] train_loss: 0.018 train_accuracy: 0.992 \n",
      "\n"
     ]
    },
    {
     "name": "stdout",
     "output_type": "stream",
     "text": [
      "Epoch 73: 100%|██████████| 8/8 [00:00<00:00,  9.68it/s, loss=0.027, v_num=0, train_loss=0.0012, train_accuracy=1.000]   "
     ]
    },
    {
     "name": "stderr",
     "output_type": "stream",
     "text": [
      "[2024-12-02 20:02:30] INFO (torcheeg/MainThread) \n",
      "[Train] train_loss: 0.022 train_accuracy: 0.988 \n",
      "\n"
     ]
    },
    {
     "name": "stdout",
     "output_type": "stream",
     "text": [
      "Epoch 74: 100%|██████████| 8/8 [00:00<00:00,  9.63it/s, loss=0.0154, v_num=0, train_loss=0.000125, train_accuracy=1.000]"
     ]
    },
    {
     "name": "stderr",
     "output_type": "stream",
     "text": [
      "Metric train_loss improved by 0.000 >= min_delta = 0.0. New best score: 0.000\n"
     ]
    },
    {
     "name": "stdout",
     "output_type": "stream",
     "text": [
      "Epoch 74: 100%|██████████| 8/8 [00:00<00:00,  9.61it/s, loss=0.0154, v_num=0, train_loss=0.000125, train_accuracy=1.000]"
     ]
    },
    {
     "name": "stderr",
     "output_type": "stream",
     "text": [
      "[2024-12-02 20:02:35] INFO (torcheeg/MainThread) \n",
      "[Train] train_loss: 0.004 train_accuracy: 1.000 \n",
      "\n"
     ]
    },
    {
     "name": "stdout",
     "output_type": "stream",
     "text": [
      "Epoch 75: 100%|██████████| 8/8 [00:00<00:00,  9.73it/s, loss=0.0153, v_num=0, train_loss=0.00557, train_accuracy=1.000] "
     ]
    },
    {
     "name": "stderr",
     "output_type": "stream",
     "text": [
      "[2024-12-02 20:02:39] INFO (torcheeg/MainThread) \n",
      "[Train] train_loss: 0.026 train_accuracy: 0.996 \n",
      "\n"
     ]
    },
    {
     "name": "stdout",
     "output_type": "stream",
     "text": [
      "Epoch 76: 100%|██████████| 8/8 [00:00<00:00,  9.83it/s, loss=0.0125, v_num=0, train_loss=0.00187, train_accuracy=1.000] "
     ]
    },
    {
     "name": "stderr",
     "output_type": "stream",
     "text": [
      "[2024-12-02 20:02:44] INFO (torcheeg/MainThread) \n",
      "[Train] train_loss: 0.002 train_accuracy: 1.000 \n",
      "\n"
     ]
    },
    {
     "name": "stdout",
     "output_type": "stream",
     "text": [
      "Epoch 77: 100%|██████████| 8/8 [00:00<00:00,  9.80it/s, loss=0.00302, v_num=0, train_loss=0.000337, train_accuracy=1.000]"
     ]
    },
    {
     "name": "stderr",
     "output_type": "stream",
     "text": [
      "[2024-12-02 20:02:48] INFO (torcheeg/MainThread) \n",
      "[Train] train_loss: 0.003 train_accuracy: 1.000 \n",
      "\n"
     ]
    },
    {
     "name": "stdout",
     "output_type": "stream",
     "text": [
      "Epoch 78: 100%|██████████| 8/8 [00:00<00:00,  9.80it/s, loss=0.00541, v_num=0, train_loss=0.00331, train_accuracy=1.000] "
     ]
    },
    {
     "name": "stderr",
     "output_type": "stream",
     "text": [
      "[2024-12-02 20:02:53] INFO (torcheeg/MainThread) \n",
      "[Train] train_loss: 0.009 train_accuracy: 0.996 \n",
      "\n"
     ]
    },
    {
     "name": "stdout",
     "output_type": "stream",
     "text": [
      "Epoch 79: 100%|██████████| 8/8 [00:00<00:00,  9.83it/s, loss=0.00551, v_num=0, train_loss=0.00174, train_accuracy=1.000] "
     ]
    },
    {
     "name": "stderr",
     "output_type": "stream",
     "text": [
      "[2024-12-02 20:02:57] INFO (torcheeg/MainThread) \n",
      "[Train] train_loss: 0.003 train_accuracy: 1.000 \n",
      "\n"
     ]
    },
    {
     "name": "stdout",
     "output_type": "stream",
     "text": [
      "Epoch 80: 100%|██████████| 8/8 [00:00<00:00,  9.64it/s, loss=0.00477, v_num=0, train_loss=5.02e-5, train_accuracy=1.000] "
     ]
    },
    {
     "name": "stderr",
     "output_type": "stream",
     "text": [
      "Metric train_loss improved by 0.000 >= min_delta = 0.0. New best score: 0.000\n"
     ]
    },
    {
     "name": "stdout",
     "output_type": "stream",
     "text": [
      "Epoch 80: 100%|██████████| 8/8 [00:00<00:00,  9.62it/s, loss=0.00477, v_num=0, train_loss=5.02e-5, train_accuracy=1.000]"
     ]
    },
    {
     "name": "stderr",
     "output_type": "stream",
     "text": [
      "[2024-12-02 20:03:02] INFO (torcheeg/MainThread) \n",
      "[Train] train_loss: 0.002 train_accuracy: 1.000 \n",
      "\n"
     ]
    },
    {
     "name": "stdout",
     "output_type": "stream",
     "text": [
      "Epoch 81: 100%|██████████| 8/8 [00:00<00:00,  9.80it/s, loss=0.00132, v_num=0, train_loss=0.000132, train_accuracy=1.000]"
     ]
    },
    {
     "name": "stderr",
     "output_type": "stream",
     "text": [
      "[2024-12-02 20:03:06] INFO (torcheeg/MainThread) \n",
      "[Train] train_loss: 0.001 train_accuracy: 1.000 \n",
      "\n"
     ]
    },
    {
     "name": "stdout",
     "output_type": "stream",
     "text": [
      "Epoch 82: 100%|██████████| 8/8 [00:00<00:00,  9.78it/s, loss=0.001, v_num=0, train_loss=0.000229, train_accuracy=1.000]  "
     ]
    },
    {
     "name": "stderr",
     "output_type": "stream",
     "text": [
      "[2024-12-02 20:03:11] INFO (torcheeg/MainThread) \n",
      "[Train] train_loss: 0.001 train_accuracy: 1.000 \n",
      "\n"
     ]
    },
    {
     "name": "stdout",
     "output_type": "stream",
     "text": [
      "Epoch 83: 100%|██████████| 8/8 [00:00<00:00,  9.79it/s, loss=0.00742, v_num=0, train_loss=0.000111, train_accuracy=1.000] "
     ]
    },
    {
     "name": "stderr",
     "output_type": "stream",
     "text": [
      "[2024-12-02 20:03:15] INFO (torcheeg/MainThread) \n",
      "[Train] train_loss: 0.017 train_accuracy: 0.992 \n",
      "\n"
     ]
    },
    {
     "name": "stdout",
     "output_type": "stream",
     "text": [
      "Epoch 84: 100%|██████████| 8/8 [00:00<00:00,  9.86it/s, loss=0.0228, v_num=0, train_loss=0.278, train_accuracy=0.938]    "
     ]
    },
    {
     "name": "stderr",
     "output_type": "stream",
     "text": [
      "[2024-12-02 20:03:20] INFO (torcheeg/MainThread) \n",
      "[Train] train_loss: 0.040 train_accuracy: 0.992 \n",
      "\n"
     ]
    },
    {
     "name": "stdout",
     "output_type": "stream",
     "text": [
      "Epoch 85: 100%|██████████| 8/8 [00:00<00:00,  9.77it/s, loss=0.0456, v_num=0, train_loss=0.371, train_accuracy=0.938]   "
     ]
    },
    {
     "name": "stderr",
     "output_type": "stream",
     "text": [
      "[2024-12-02 20:03:24] INFO (torcheeg/MainThread) \n",
      "[Train] train_loss: 0.065 train_accuracy: 0.988 \n",
      "\n"
     ]
    },
    {
     "name": "stdout",
     "output_type": "stream",
     "text": [
      "Epoch 86: 100%|██████████| 8/8 [00:00<00:00,  9.61it/s, loss=0.0456, v_num=0, train_loss=0.00193, train_accuracy=1.000]"
     ]
    },
    {
     "name": "stderr",
     "output_type": "stream",
     "text": [
      "[2024-12-02 20:03:29] INFO (torcheeg/MainThread) \n",
      "[Train] train_loss: 0.014 train_accuracy: 0.992 \n",
      "\n"
     ]
    },
    {
     "name": "stdout",
     "output_type": "stream",
     "text": [
      "Epoch 87: 100%|██████████| 8/8 [00:00<00:00,  9.76it/s, loss=0.0541, v_num=0, train_loss=0.0113, train_accuracy=1.000] "
     ]
    },
    {
     "name": "stderr",
     "output_type": "stream",
     "text": [
      "[2024-12-02 20:03:33] INFO (torcheeg/MainThread) \n",
      "[Train] train_loss: 0.056 train_accuracy: 0.975 \n",
      "\n"
     ]
    },
    {
     "name": "stdout",
     "output_type": "stream",
     "text": [
      "Epoch 88: 100%|██████████| 8/8 [00:00<00:00,  9.84it/s, loss=0.0293, v_num=0, train_loss=0.00383, train_accuracy=1.000]"
     ]
    },
    {
     "name": "stderr",
     "output_type": "stream",
     "text": [
      "[2024-12-02 20:03:38] INFO (torcheeg/MainThread) \n",
      "[Train] train_loss: 0.008 train_accuracy: 1.000 \n",
      "\n"
     ]
    },
    {
     "name": "stdout",
     "output_type": "stream",
     "text": [
      "Epoch 89: 100%|██████████| 8/8 [00:00<00:00,  9.79it/s, loss=0.0169, v_num=0, train_loss=0.194, train_accuracy=0.875]    "
     ]
    },
    {
     "name": "stderr",
     "output_type": "stream",
     "text": [
      "[2024-12-02 20:03:42] INFO (torcheeg/MainThread) \n",
      "[Train] train_loss: 0.032 train_accuracy: 0.992 \n",
      "\n"
     ]
    },
    {
     "name": "stdout",
     "output_type": "stream",
     "text": [
      "Epoch 90: 100%|██████████| 8/8 [00:00<00:00,  9.85it/s, loss=0.0437, v_num=0, train_loss=0.431, train_accuracy=0.938]   "
     ]
    },
    {
     "name": "stderr",
     "output_type": "stream",
     "text": [
      "[2024-12-02 20:03:47] INFO (torcheeg/MainThread) \n",
      "[Train] train_loss: 0.073 train_accuracy: 0.983 \n",
      "\n"
     ]
    },
    {
     "name": "stdout",
     "output_type": "stream",
     "text": [
      "Epoch 91: 100%|██████████| 8/8 [00:00<00:00,  9.84it/s, loss=0.0446, v_num=0, train_loss=0.000655, train_accuracy=1.000]"
     ]
    },
    {
     "name": "stderr",
     "output_type": "stream",
     "text": [
      "[2024-12-02 20:03:51] INFO (torcheeg/MainThread) \n",
      "[Train] train_loss: 0.011 train_accuracy: 0.996 \n",
      "\n"
     ]
    },
    {
     "name": "stdout",
     "output_type": "stream",
     "text": [
      "Epoch 92: 100%|██████████| 8/8 [00:00<00:00,  9.85it/s, loss=0.0478, v_num=0, train_loss=0.0125, train_accuracy=1.000]  "
     ]
    },
    {
     "name": "stderr",
     "output_type": "stream",
     "text": [
      "[2024-12-02 20:03:55] INFO (torcheeg/MainThread) \n",
      "[Train] train_loss: 0.045 train_accuracy: 0.979 \n",
      "\n"
     ]
    },
    {
     "name": "stdout",
     "output_type": "stream",
     "text": [
      "Epoch 93: 100%|██████████| 8/8 [00:00<00:00,  9.85it/s, loss=0.0315, v_num=0, train_loss=0.00259, train_accuracy=1.000]"
     ]
    },
    {
     "name": "stderr",
     "output_type": "stream",
     "text": [
      "[2024-12-02 20:04:00] INFO (torcheeg/MainThread) \n",
      "[Train] train_loss: 0.031 train_accuracy: 0.983 \n",
      "\n"
     ]
    },
    {
     "name": "stdout",
     "output_type": "stream",
     "text": [
      "Epoch 94: 100%|██████████| 8/8 [00:00<00:00,  9.62it/s, loss=0.0279, v_num=0, train_loss=0.00739, train_accuracy=1.000] "
     ]
    },
    {
     "name": "stderr",
     "output_type": "stream",
     "text": [
      "[2024-12-02 20:04:05] INFO (torcheeg/MainThread) \n",
      "[Train] train_loss: 0.014 train_accuracy: 0.992 \n",
      "\n"
     ]
    },
    {
     "name": "stdout",
     "output_type": "stream",
     "text": [
      "Epoch 95: 100%|██████████| 8/8 [00:00<00:00,  9.88it/s, loss=0.019, v_num=0, train_loss=0.0339, train_accuracy=1.000]   "
     ]
    },
    {
     "name": "stderr",
     "output_type": "stream",
     "text": [
      "[2024-12-02 20:04:09] INFO (torcheeg/MainThread) \n",
      "[Train] train_loss: 0.013 train_accuracy: 0.996 \n",
      "\n"
     ]
    },
    {
     "name": "stdout",
     "output_type": "stream",
     "text": [
      "Epoch 96: 100%|██████████| 8/8 [00:00<00:00,  9.72it/s, loss=0.0249, v_num=0, train_loss=0.284, train_accuracy=0.875]    "
     ]
    },
    {
     "name": "stderr",
     "output_type": "stream",
     "text": [
      "[2024-12-02 20:04:13] INFO (torcheeg/MainThread) \n",
      "[Train] train_loss: 0.048 train_accuracy: 0.988 \n",
      "\n"
     ]
    },
    {
     "name": "stdout",
     "output_type": "stream",
     "text": [
      "Epoch 97: 100%|██████████| 8/8 [00:00<00:00,  9.67it/s, loss=0.0413, v_num=0, train_loss=0.0402, train_accuracy=1.000] "
     ]
    },
    {
     "name": "stderr",
     "output_type": "stream",
     "text": [
      "[2024-12-02 20:04:18] INFO (torcheeg/MainThread) \n",
      "[Train] train_loss: 0.051 train_accuracy: 0.983 \n",
      "\n"
     ]
    },
    {
     "name": "stdout",
     "output_type": "stream",
     "text": [
      "Epoch 98: 100%|██████████| 8/8 [00:00<00:00,  9.67it/s, loss=0.0521, v_num=0, train_loss=0.000913, train_accuracy=1.000]"
     ]
    },
    {
     "name": "stderr",
     "output_type": "stream",
     "text": [
      "[2024-12-02 20:04:23] INFO (torcheeg/MainThread) \n",
      "[Train] train_loss: 0.032 train_accuracy: 0.983 \n",
      "\n"
     ]
    },
    {
     "name": "stdout",
     "output_type": "stream",
     "text": [
      "Epoch 99: 100%|██████████| 8/8 [00:00<00:00,  9.86it/s, loss=0.0341, v_num=0, train_loss=0.0164, train_accuracy=1.000]  "
     ]
    },
    {
     "name": "stderr",
     "output_type": "stream",
     "text": [
      "[2024-12-02 20:04:27] INFO (torcheeg/MainThread) \n",
      "[Train] train_loss: 0.034 train_accuracy: 0.988 \n",
      "\n",
      "`Trainer.fit` stopped: `max_epochs=100` reached.\n"
     ]
    },
    {
     "name": "stdout",
     "output_type": "stream",
     "text": [
      "Epoch 99: 100%|██████████| 8/8 [00:04<00:00,  1.80it/s, loss=0.0341, v_num=0, train_loss=0.0164, train_accuracy=1.000]\n"
     ]
    },
    {
     "name": "stderr",
     "output_type": "stream",
     "text": [
      "GPU available: True (cuda), used: True\n",
      "TPU available: False, using: 0 TPU cores\n",
      "IPU available: False, using: 0 IPUs\n",
      "HPU available: False, using: 0 HPUs\n",
      "LOCAL_RANK: 0 - CUDA_VISIBLE_DEVICES: [0]\n",
      "/root/autodl-tmp/conda/envs/law/lib/python3.8/site-packages/pytorch_lightning/trainer/connectors/data_connector.py:224: PossibleUserWarning: The dataloader, test_dataloader 0, does not have many workers which may be a bottleneck. Consider increasing the value of the `num_workers` argument` (try 128 which is the number of cpus on this machine) in the `DataLoader` init to improve performance.\n",
      "  rank_zero_warn(\n"
     ]
    },
    {
     "name": "stdout",
     "output_type": "stream",
     "text": [
      "Testing DataLoader 0: 100%|██████████| 2/2 [00:00<00:00, 46.02it/s]"
     ]
    },
    {
     "name": "stderr",
     "output_type": "stream",
     "text": [
      "[2024-12-02 20:04:28] INFO (torcheeg/MainThread) \n",
      "[Test] test_loss: 1.492 test_accuracy: 0.650 \n",
      "\n"
     ]
    },
    {
     "name": "stdout",
     "output_type": "stream",
     "text": [
      "Testing DataLoader 0: 100%|██████████| 2/2 [00:00<00:00, 40.72it/s]\n",
      "────────────────────────────────────────────────────────────────────────────────────────────────────────────────────────\n",
      "       Test metric             DataLoader 0\n",
      "────────────────────────────────────────────────────────────────────────────────────────────────────────────────────────\n",
      "      test_accuracy         0.6499999761581421\n",
      "        test_loss           1.4920412302017212\n",
      "────────────────────────────────────────────────────────────────────────────────────────────────────────────────────────\n",
      "已删除文件夹: /root/autodl-tmp/.autodl/kinlaw/mi_swin/lightning_logs\n"
     ]
    },
    {
     "name": "stderr",
     "output_type": "stream",
     "text": [
      "GPU available: True (cuda), used: True\n",
      "TPU available: False, using: 0 TPU cores\n",
      "IPU available: False, using: 0 IPUs\n",
      "HPU available: False, using: 0 HPUs\n",
      "Missing logger folder: /root/autodl-tmp/.autodl/kinlaw/mi_swin/lightning_logs\n",
      "LOCAL_RANK: 0 - CUDA_VISIBLE_DEVICES: [0]\n",
      "/root/autodl-tmp/conda/envs/law/lib/python3.8/site-packages/pytorch_lightning/trainer/connectors/data_connector.py:224: PossibleUserWarning: The dataloader, train_dataloader, does not have many workers which may be a bottleneck. Consider increasing the value of the `num_workers` argument` (try 128 which is the number of cpus on this machine) in the `DataLoader` init to improve performance.\n",
      "  rank_zero_warn(\n",
      "/root/autodl-tmp/conda/envs/law/lib/python3.8/site-packages/pytorch_lightning/trainer/trainer.py:1609: PossibleUserWarning: The number of training batches (7) is smaller than the logging interval Trainer(log_every_n_steps=50). Set a lower value for log_every_n_steps if you want to see logs for the training epoch.\n",
      "  rank_zero_warn(\n"
     ]
    },
    {
     "name": "stdout",
     "output_type": "stream",
     "text": [
      "Epoch 0: 100%|██████████| 7/7 [00:00<00:00,  9.65it/s, loss=1.9, v_num=0, train_loss=1.480, train_accuracy=0.500]  "
     ]
    },
    {
     "name": "stderr",
     "output_type": "stream",
     "text": [
      "Metric train_loss improved. New best score: 1.483\n"
     ]
    },
    {
     "name": "stdout",
     "output_type": "stream",
     "text": [
      "Epoch 0: 100%|██████████| 7/7 [00:00<00:00,  9.63it/s, loss=1.9, v_num=0, train_loss=1.480, train_accuracy=0.500]"
     ]
    },
    {
     "name": "stderr",
     "output_type": "stream",
     "text": [
      "[2024-12-02 20:04:35] INFO (torcheeg/MainThread) \n",
      "[Train] train_loss: 1.900 train_accuracy: 0.560 \n",
      "\n"
     ]
    },
    {
     "name": "stdout",
     "output_type": "stream",
     "text": [
      "Epoch 1: 100%|██████████| 7/7 [00:00<00:00,  9.82it/s, loss=1.82, v_num=0, train_loss=1.040, train_accuracy=0.625]"
     ]
    },
    {
     "name": "stderr",
     "output_type": "stream",
     "text": [
      "Metric train_loss improved by 0.440 >= min_delta = 0.0. New best score: 1.043\n"
     ]
    },
    {
     "name": "stdout",
     "output_type": "stream",
     "text": [
      "Epoch 1: 100%|██████████| 7/7 [00:00<00:00,  9.79it/s, loss=1.82, v_num=0, train_loss=1.040, train_accuracy=0.625]"
     ]
    },
    {
     "name": "stderr",
     "output_type": "stream",
     "text": [
      "[2024-12-02 20:04:40] INFO (torcheeg/MainThread) \n",
      "[Train] train_loss: 1.737 train_accuracy: 0.470 \n",
      "\n"
     ]
    },
    {
     "name": "stdout",
     "output_type": "stream",
     "text": [
      "Epoch 2: 100%|██████████| 7/7 [00:00<00:00,  9.88it/s, loss=1.5, v_num=0, train_loss=0.727, train_accuracy=0.500] "
     ]
    },
    {
     "name": "stderr",
     "output_type": "stream",
     "text": [
      "Metric train_loss improved by 0.316 >= min_delta = 0.0. New best score: 0.727\n"
     ]
    },
    {
     "name": "stdout",
     "output_type": "stream",
     "text": [
      "Epoch 2: 100%|██████████| 7/7 [00:00<00:00,  9.86it/s, loss=1.5, v_num=0, train_loss=0.727, train_accuracy=0.500]"
     ]
    },
    {
     "name": "stderr",
     "output_type": "stream",
     "text": [
      "[2024-12-02 20:04:44] INFO (torcheeg/MainThread) \n",
      "[Train] train_loss: 0.773 train_accuracy: 0.560 \n",
      "\n"
     ]
    },
    {
     "name": "stdout",
     "output_type": "stream",
     "text": [
      "Epoch 3: 100%|██████████| 7/7 [00:00<00:00,  9.87it/s, loss=0.985, v_num=0, train_loss=0.513, train_accuracy=0.750]"
     ]
    },
    {
     "name": "stderr",
     "output_type": "stream",
     "text": [
      "Metric train_loss improved by 0.214 >= min_delta = 0.0. New best score: 0.513\n"
     ]
    },
    {
     "name": "stdout",
     "output_type": "stream",
     "text": [
      "Epoch 3: 100%|██████████| 7/7 [00:00<00:00,  9.84it/s, loss=0.985, v_num=0, train_loss=0.513, train_accuracy=0.750]"
     ]
    },
    {
     "name": "stderr",
     "output_type": "stream",
     "text": [
      "[2024-12-02 20:04:49] INFO (torcheeg/MainThread) \n",
      "[Train] train_loss: 0.601 train_accuracy: 0.645 \n",
      "\n"
     ]
    },
    {
     "name": "stdout",
     "output_type": "stream",
     "text": [
      "Epoch 4: 100%|██████████| 7/7 [00:00<00:00,  9.86it/s, loss=0.606, v_num=0, train_loss=0.329, train_accuracy=0.875]"
     ]
    },
    {
     "name": "stderr",
     "output_type": "stream",
     "text": [
      "Metric train_loss improved by 0.183 >= min_delta = 0.0. New best score: 0.329\n"
     ]
    },
    {
     "name": "stdout",
     "output_type": "stream",
     "text": [
      "Epoch 4: 100%|██████████| 7/7 [00:00<00:00,  9.84it/s, loss=0.606, v_num=0, train_loss=0.329, train_accuracy=0.875]"
     ]
    },
    {
     "name": "stderr",
     "output_type": "stream",
     "text": [
      "[2024-12-02 20:04:54] INFO (torcheeg/MainThread) \n",
      "[Train] train_loss: 0.462 train_accuracy: 0.745 \n",
      "\n"
     ]
    },
    {
     "name": "stdout",
     "output_type": "stream",
     "text": [
      "Epoch 5: 100%|██████████| 7/7 [00:00<00:00,  9.99it/s, loss=0.451, v_num=0, train_loss=0.229, train_accuracy=0.875]"
     ]
    },
    {
     "name": "stderr",
     "output_type": "stream",
     "text": [
      "Metric train_loss improved by 0.100 >= min_delta = 0.0. New best score: 0.229\n"
     ]
    },
    {
     "name": "stdout",
     "output_type": "stream",
     "text": [
      "Epoch 5: 100%|██████████| 7/7 [00:00<00:00,  9.97it/s, loss=0.451, v_num=0, train_loss=0.229, train_accuracy=0.875]"
     ]
    },
    {
     "name": "stderr",
     "output_type": "stream",
     "text": [
      "[2024-12-02 20:04:58] INFO (torcheeg/MainThread) \n",
      "[Train] train_loss: 0.325 train_accuracy: 0.875 \n",
      "\n"
     ]
    },
    {
     "name": "stdout",
     "output_type": "stream",
     "text": [
      "Epoch 6: 100%|██████████| 7/7 [00:00<00:00,  9.72it/s, loss=0.295, v_num=0, train_loss=0.0086, train_accuracy=1.000]"
     ]
    },
    {
     "name": "stderr",
     "output_type": "stream",
     "text": [
      "Metric train_loss improved by 0.220 >= min_delta = 0.0. New best score: 0.009\n"
     ]
    },
    {
     "name": "stdout",
     "output_type": "stream",
     "text": [
      "Epoch 6: 100%|██████████| 7/7 [00:00<00:00,  9.70it/s, loss=0.295, v_num=0, train_loss=0.0086, train_accuracy=1.000]"
     ]
    },
    {
     "name": "stderr",
     "output_type": "stream",
     "text": [
      "[2024-12-02 20:05:03] INFO (torcheeg/MainThread) \n",
      "[Train] train_loss: 0.150 train_accuracy: 0.925 \n",
      "\n"
     ]
    },
    {
     "name": "stdout",
     "output_type": "stream",
     "text": [
      "Epoch 7: 100%|██████████| 7/7 [00:00<00:00,  9.84it/s, loss=0.194, v_num=0, train_loss=0.00404, train_accuracy=1.000]"
     ]
    },
    {
     "name": "stderr",
     "output_type": "stream",
     "text": [
      "Metric train_loss improved by 0.005 >= min_delta = 0.0. New best score: 0.004\n"
     ]
    },
    {
     "name": "stdout",
     "output_type": "stream",
     "text": [
      "Epoch 7: 100%|██████████| 7/7 [00:00<00:00,  9.82it/s, loss=0.194, v_num=0, train_loss=0.00404, train_accuracy=1.000]"
     ]
    },
    {
     "name": "stderr",
     "output_type": "stream",
     "text": [
      "[2024-12-02 20:05:08] INFO (torcheeg/MainThread) \n",
      "[Train] train_loss: 0.131 train_accuracy: 0.925 \n",
      "\n"
     ]
    },
    {
     "name": "stdout",
     "output_type": "stream",
     "text": [
      "Epoch 8: 100%|██████████| 7/7 [00:00<00:00,  9.66it/s, loss=0.127, v_num=0, train_loss=0.0379, train_accuracy=1.000] "
     ]
    },
    {
     "name": "stderr",
     "output_type": "stream",
     "text": [
      "[2024-12-02 20:05:12] INFO (torcheeg/MainThread) \n",
      "[Train] train_loss: 0.115 train_accuracy: 0.955 \n",
      "\n"
     ]
    },
    {
     "name": "stdout",
     "output_type": "stream",
     "text": [
      "Epoch 9: 100%|██████████| 7/7 [00:00<00:00,  9.84it/s, loss=0.105, v_num=0, train_loss=0.195, train_accuracy=0.875] "
     ]
    },
    {
     "name": "stderr",
     "output_type": "stream",
     "text": [
      "[2024-12-02 20:05:16] INFO (torcheeg/MainThread) \n",
      "[Train] train_loss: 0.081 train_accuracy: 0.970 \n",
      "\n"
     ]
    },
    {
     "name": "stdout",
     "output_type": "stream",
     "text": [
      "Epoch 10: 100%|██████████| 7/7 [00:00<00:00,  9.76it/s, loss=0.0704, v_num=0, train_loss=0.00248, train_accuracy=1.000]"
     ]
    },
    {
     "name": "stderr",
     "output_type": "stream",
     "text": [
      "Metric train_loss improved by 0.002 >= min_delta = 0.0. New best score: 0.002\n"
     ]
    },
    {
     "name": "stdout",
     "output_type": "stream",
     "text": [
      "Epoch 10: 100%|██████████| 7/7 [00:00<00:00,  9.73it/s, loss=0.0704, v_num=0, train_loss=0.00248, train_accuracy=1.000]"
     ]
    },
    {
     "name": "stderr",
     "output_type": "stream",
     "text": [
      "[2024-12-02 20:05:21] INFO (torcheeg/MainThread) \n",
      "[Train] train_loss: 0.037 train_accuracy: 0.985 \n",
      "\n"
     ]
    },
    {
     "name": "stdout",
     "output_type": "stream",
     "text": [
      "Epoch 11: 100%|██████████| 7/7 [00:00<00:00,  9.81it/s, loss=0.0568, v_num=0, train_loss=0.0289, train_accuracy=1.000] "
     ]
    },
    {
     "name": "stderr",
     "output_type": "stream",
     "text": [
      "[2024-12-02 20:05:25] INFO (torcheeg/MainThread) \n",
      "[Train] train_loss: 0.055 train_accuracy: 0.975 \n",
      "\n"
     ]
    },
    {
     "name": "stdout",
     "output_type": "stream",
     "text": [
      "Epoch 12: 100%|██████████| 7/7 [00:00<00:00,  9.91it/s, loss=0.0603, v_num=0, train_loss=0.0422, train_accuracy=1.000]"
     ]
    },
    {
     "name": "stderr",
     "output_type": "stream",
     "text": [
      "[2024-12-02 20:05:29] INFO (torcheeg/MainThread) \n",
      "[Train] train_loss: 0.085 train_accuracy: 0.960 \n",
      "\n"
     ]
    },
    {
     "name": "stdout",
     "output_type": "stream",
     "text": [
      "Epoch 13: 100%|██████████| 7/7 [00:00<00:00,  9.73it/s, loss=0.0798, v_num=0, train_loss=0.000374, train_accuracy=1.000]"
     ]
    },
    {
     "name": "stderr",
     "output_type": "stream",
     "text": [
      "Metric train_loss improved by 0.002 >= min_delta = 0.0. New best score: 0.000\n"
     ]
    },
    {
     "name": "stdout",
     "output_type": "stream",
     "text": [
      "Epoch 13: 100%|██████████| 7/7 [00:00<00:00,  9.71it/s, loss=0.0798, v_num=0, train_loss=0.000374, train_accuracy=1.000]"
     ]
    },
    {
     "name": "stderr",
     "output_type": "stream",
     "text": [
      "[2024-12-02 20:05:34] INFO (torcheeg/MainThread) \n",
      "[Train] train_loss: 0.097 train_accuracy: 0.955 \n",
      "\n"
     ]
    },
    {
     "name": "stdout",
     "output_type": "stream",
     "text": [
      "Epoch 14: 100%|██████████| 7/7 [00:00<00:00,  9.80it/s, loss=0.0948, v_num=0, train_loss=0.118, train_accuracy=0.875]   "
     ]
    },
    {
     "name": "stderr",
     "output_type": "stream",
     "text": [
      "[2024-12-02 20:05:38] INFO (torcheeg/MainThread) \n",
      "[Train] train_loss: 0.091 train_accuracy: 0.960 \n",
      "\n"
     ]
    },
    {
     "name": "stdout",
     "output_type": "stream",
     "text": [
      "Epoch 15: 100%|██████████| 7/7 [00:00<00:00,  9.89it/s, loss=0.0773, v_num=0, train_loss=0.0247, train_accuracy=1.000]"
     ]
    },
    {
     "name": "stderr",
     "output_type": "stream",
     "text": [
      "[2024-12-02 20:05:42] INFO (torcheeg/MainThread) \n",
      "[Train] train_loss: 0.043 train_accuracy: 0.985 \n",
      "\n"
     ]
    },
    {
     "name": "stdout",
     "output_type": "stream",
     "text": [
      "Epoch 16: 100%|██████████| 7/7 [00:00<00:00,  9.88it/s, loss=0.0748, v_num=0, train_loss=0.000989, train_accuracy=1.000]"
     ]
    },
    {
     "name": "stderr",
     "output_type": "stream",
     "text": [
      "[2024-12-02 20:05:47] INFO (torcheeg/MainThread) \n",
      "[Train] train_loss: 0.084 train_accuracy: 0.980 \n",
      "\n"
     ]
    },
    {
     "name": "stdout",
     "output_type": "stream",
     "text": [
      "Epoch 17: 100%|██████████| 7/7 [00:00<00:00,  9.81it/s, loss=0.0641, v_num=0, train_loss=0.00465, train_accuracy=1.000] "
     ]
    },
    {
     "name": "stderr",
     "output_type": "stream",
     "text": [
      "[2024-12-02 20:05:51] INFO (torcheeg/MainThread) \n",
      "[Train] train_loss: 0.071 train_accuracy: 0.970 \n",
      "\n"
     ]
    },
    {
     "name": "stdout",
     "output_type": "stream",
     "text": [
      "Epoch 18: 100%|██████████| 7/7 [00:00<00:00,  9.94it/s, loss=0.0795, v_num=0, train_loss=0.000595, train_accuracy=1.000]"
     ]
    },
    {
     "name": "stderr",
     "output_type": "stream",
     "text": [
      "[2024-12-02 20:05:55] INFO (torcheeg/MainThread) \n",
      "[Train] train_loss: 0.074 train_accuracy: 0.980 \n",
      "\n"
     ]
    },
    {
     "name": "stdout",
     "output_type": "stream",
     "text": [
      "Epoch 19: 100%|██████████| 7/7 [00:00<00:00,  9.64it/s, loss=0.0512, v_num=0, train_loss=0.00127, train_accuracy=1.000] "
     ]
    },
    {
     "name": "stderr",
     "output_type": "stream",
     "text": [
      "[2024-12-02 20:06:00] INFO (torcheeg/MainThread) \n",
      "[Train] train_loss: 0.015 train_accuracy: 0.995 \n",
      "\n"
     ]
    },
    {
     "name": "stdout",
     "output_type": "stream",
     "text": [
      "Epoch 20: 100%|██████████| 7/7 [00:00<00:00,  9.66it/s, loss=0.0336, v_num=0, train_loss=0.0201, train_accuracy=1.000] "
     ]
    },
    {
     "name": "stderr",
     "output_type": "stream",
     "text": [
      "[2024-12-02 20:06:04] INFO (torcheeg/MainThread) \n",
      "[Train] train_loss: 0.011 train_accuracy: 0.995 \n",
      "\n"
     ]
    },
    {
     "name": "stdout",
     "output_type": "stream",
     "text": [
      "Epoch 21: 100%|██████████| 7/7 [00:00<00:00,  9.72it/s, loss=0.016, v_num=0, train_loss=0.000465, train_accuracy=1.000] "
     ]
    },
    {
     "name": "stderr",
     "output_type": "stream",
     "text": [
      "[2024-12-02 20:06:09] INFO (torcheeg/MainThread) \n",
      "[Train] train_loss: 0.025 train_accuracy: 0.990 \n",
      "\n"
     ]
    },
    {
     "name": "stdout",
     "output_type": "stream",
     "text": [
      "Epoch 22: 100%|██████████| 7/7 [00:00<00:00,  9.80it/s, loss=0.0115, v_num=0, train_loss=0.00127, train_accuracy=1.000] "
     ]
    },
    {
     "name": "stderr",
     "output_type": "stream",
     "text": [
      "[2024-12-02 20:06:13] INFO (torcheeg/MainThread) \n",
      "[Train] train_loss: 0.002 train_accuracy: 1.000 \n",
      "\n"
     ]
    },
    {
     "name": "stdout",
     "output_type": "stream",
     "text": [
      "Epoch 23: 100%|██████████| 7/7 [00:00<00:00,  9.96it/s, loss=0.00941, v_num=0, train_loss=0.000503, train_accuracy=1.000]"
     ]
    },
    {
     "name": "stderr",
     "output_type": "stream",
     "text": [
      "[2024-12-02 20:06:17] INFO (torcheeg/MainThread) \n",
      "[Train] train_loss: 0.002 train_accuracy: 1.000 \n",
      "\n"
     ]
    },
    {
     "name": "stdout",
     "output_type": "stream",
     "text": [
      "Epoch 24: 100%|██████████| 7/7 [00:00<00:00,  9.76it/s, loss=0.0024, v_num=0, train_loss=1.47e-5, train_accuracy=1.000]  "
     ]
    },
    {
     "name": "stderr",
     "output_type": "stream",
     "text": [
      "Metric train_loss improved by 0.000 >= min_delta = 0.0. New best score: 0.000\n"
     ]
    },
    {
     "name": "stdout",
     "output_type": "stream",
     "text": [
      "Epoch 24: 100%|██████████| 7/7 [00:00<00:00,  9.74it/s, loss=0.0024, v_num=0, train_loss=1.47e-5, train_accuracy=1.000]"
     ]
    },
    {
     "name": "stderr",
     "output_type": "stream",
     "text": [
      "[2024-12-02 20:06:22] INFO (torcheeg/MainThread) \n",
      "[Train] train_loss: 0.002 train_accuracy: 1.000 \n",
      "\n"
     ]
    },
    {
     "name": "stdout",
     "output_type": "stream",
     "text": [
      "Epoch 25: 100%|██████████| 7/7 [00:00<00:00,  9.84it/s, loss=0.00354, v_num=0, train_loss=4.37e-5, train_accuracy=1.000] "
     ]
    },
    {
     "name": "stderr",
     "output_type": "stream",
     "text": [
      "[2024-12-02 20:06:26] INFO (torcheeg/MainThread) \n",
      "[Train] train_loss: 0.006 train_accuracy: 0.995 \n",
      "\n"
     ]
    },
    {
     "name": "stdout",
     "output_type": "stream",
     "text": [
      "Epoch 26: 100%|██████████| 7/7 [00:00<00:00,  9.89it/s, loss=0.00871, v_num=0, train_loss=5.86e-6, train_accuracy=1.000] "
     ]
    },
    {
     "name": "stderr",
     "output_type": "stream",
     "text": [
      "Metric train_loss improved by 0.000 >= min_delta = 0.0. New best score: 0.000\n"
     ]
    },
    {
     "name": "stdout",
     "output_type": "stream",
     "text": [
      "Epoch 26: 100%|██████████| 7/7 [00:00<00:00,  9.86it/s, loss=0.00871, v_num=0, train_loss=5.86e-6, train_accuracy=1.000]"
     ]
    },
    {
     "name": "stderr",
     "output_type": "stream",
     "text": [
      "[2024-12-02 20:06:30] INFO (torcheeg/MainThread) \n",
      "[Train] train_loss: 0.017 train_accuracy: 0.995 \n",
      "\n"
     ]
    },
    {
     "name": "stdout",
     "output_type": "stream",
     "text": [
      "Epoch 27: 100%|██████████| 7/7 [00:00<00:00,  9.67it/s, loss=0.031, v_num=0, train_loss=0.0316, train_accuracy=1.000]   "
     ]
    },
    {
     "name": "stderr",
     "output_type": "stream",
     "text": [
      "[2024-12-02 20:06:35] INFO (torcheeg/MainThread) \n",
      "[Train] train_loss: 0.071 train_accuracy: 0.985 \n",
      "\n"
     ]
    },
    {
     "name": "stdout",
     "output_type": "stream",
     "text": [
      "Epoch 28: 100%|██████████| 7/7 [00:00<00:00,  9.79it/s, loss=0.0581, v_num=0, train_loss=0.00489, train_accuracy=1.000]"
     ]
    },
    {
     "name": "stderr",
     "output_type": "stream",
     "text": [
      "[2024-12-02 20:06:39] INFO (torcheeg/MainThread) \n",
      "[Train] train_loss: 0.078 train_accuracy: 0.980 \n",
      "\n"
     ]
    },
    {
     "name": "stdout",
     "output_type": "stream",
     "text": [
      "Epoch 29: 100%|██████████| 7/7 [00:00<00:00,  9.83it/s, loss=0.0618, v_num=0, train_loss=0.00622, train_accuracy=1.000] "
     ]
    },
    {
     "name": "stderr",
     "output_type": "stream",
     "text": [
      "[2024-12-02 20:06:43] INFO (torcheeg/MainThread) \n",
      "[Train] train_loss: 0.031 train_accuracy: 0.990 \n",
      "\n"
     ]
    },
    {
     "name": "stdout",
     "output_type": "stream",
     "text": [
      "Epoch 30: 100%|██████████| 7/7 [00:00<00:00,  9.67it/s, loss=0.0825, v_num=0, train_loss=0.622, train_accuracy=0.875]  "
     ]
    },
    {
     "name": "stderr",
     "output_type": "stream",
     "text": [
      "[2024-12-02 20:06:48] INFO (torcheeg/MainThread) \n",
      "[Train] train_loss: 0.128 train_accuracy: 0.990 \n",
      "\n"
     ]
    },
    {
     "name": "stdout",
     "output_type": "stream",
     "text": [
      "Epoch 31: 100%|██████████| 7/7 [00:00<00:00,  9.78it/s, loss=0.101, v_num=0, train_loss=0.0202, train_accuracy=1.000] "
     ]
    },
    {
     "name": "stderr",
     "output_type": "stream",
     "text": [
      "[2024-12-02 20:06:52] INFO (torcheeg/MainThread) \n",
      "[Train] train_loss: 0.132 train_accuracy: 0.950 \n",
      "\n"
     ]
    },
    {
     "name": "stdout",
     "output_type": "stream",
     "text": [
      "Epoch 32: 100%|██████████| 7/7 [00:00<00:00,  9.74it/s, loss=0.11, v_num=0, train_loss=0.00476, train_accuracy=1.000] "
     ]
    },
    {
     "name": "stderr",
     "output_type": "stream",
     "text": [
      "[2024-12-02 20:06:56] INFO (torcheeg/MainThread) \n",
      "[Train] train_loss: 0.056 train_accuracy: 0.975 \n",
      "\n"
     ]
    },
    {
     "name": "stdout",
     "output_type": "stream",
     "text": [
      "Epoch 33: 100%|██████████| 7/7 [00:00<00:00,  9.71it/s, loss=0.0717, v_num=0, train_loss=0.0262, train_accuracy=1.000] "
     ]
    },
    {
     "name": "stderr",
     "output_type": "stream",
     "text": [
      "[2024-12-02 20:07:01] INFO (torcheeg/MainThread) \n",
      "[Train] train_loss: 0.028 train_accuracy: 0.995 \n",
      "\n"
     ]
    },
    {
     "name": "stdout",
     "output_type": "stream",
     "text": [
      "Epoch 34: 100%|██████████| 7/7 [00:00<00:00,  9.90it/s, loss=0.0346, v_num=0, train_loss=0.0206, train_accuracy=1.000] "
     ]
    },
    {
     "name": "stderr",
     "output_type": "stream",
     "text": [
      "[2024-12-02 20:07:05] INFO (torcheeg/MainThread) \n",
      "[Train] train_loss: 0.016 train_accuracy: 1.000 \n",
      "\n"
     ]
    },
    {
     "name": "stdout",
     "output_type": "stream",
     "text": [
      "Epoch 35: 100%|██████████| 7/7 [00:00<00:00,  9.78it/s, loss=0.0159, v_num=0, train_loss=0.0136, train_accuracy=1.000] "
     ]
    },
    {
     "name": "stderr",
     "output_type": "stream",
     "text": [
      "[2024-12-02 20:07:09] INFO (torcheeg/MainThread) \n",
      "[Train] train_loss: 0.012 train_accuracy: 1.000 \n",
      "\n"
     ]
    },
    {
     "name": "stdout",
     "output_type": "stream",
     "text": [
      "Epoch 36: 100%|██████████| 7/7 [00:00<00:00,  9.71it/s, loss=0.00949, v_num=0, train_loss=0.00222, train_accuracy=1.000]"
     ]
    },
    {
     "name": "stderr",
     "output_type": "stream",
     "text": [
      "[2024-12-02 20:07:14] INFO (torcheeg/MainThread) \n",
      "[Train] train_loss: 0.002 train_accuracy: 1.000 \n",
      "\n"
     ]
    },
    {
     "name": "stdout",
     "output_type": "stream",
     "text": [
      "Epoch 37: 100%|██████████| 7/7 [00:00<00:00,  9.87it/s, loss=0.0046, v_num=0, train_loss=6.61e-5, train_accuracy=1.000]  "
     ]
    },
    {
     "name": "stderr",
     "output_type": "stream",
     "text": [
      "[2024-12-02 20:07:18] INFO (torcheeg/MainThread) \n",
      "[Train] train_loss: 0.001 train_accuracy: 1.000 \n",
      "\n"
     ]
    },
    {
     "name": "stdout",
     "output_type": "stream",
     "text": [
      "Epoch 38: 100%|██████████| 7/7 [00:00<00:00,  9.79it/s, loss=0.00161, v_num=0, train_loss=6.14e-6, train_accuracy=1.000] "
     ]
    },
    {
     "name": "stderr",
     "output_type": "stream",
     "text": [
      "[2024-12-02 20:07:23] INFO (torcheeg/MainThread) \n",
      "[Train] train_loss: 0.003 train_accuracy: 1.000 \n",
      "\n"
     ]
    },
    {
     "name": "stdout",
     "output_type": "stream",
     "text": [
      "Epoch 39: 100%|██████████| 7/7 [00:00<00:00,  9.87it/s, loss=0.0017, v_num=0, train_loss=2.42e-5, train_accuracy=1.000]  "
     ]
    },
    {
     "name": "stderr",
     "output_type": "stream",
     "text": [
      "[2024-12-02 20:07:27] INFO (torcheeg/MainThread) \n",
      "[Train] train_loss: 0.001 train_accuracy: 1.000 \n",
      "\n"
     ]
    },
    {
     "name": "stdout",
     "output_type": "stream",
     "text": [
      "Epoch 40: 100%|██████████| 7/7 [00:00<00:00,  9.77it/s, loss=0.00825, v_num=0, train_loss=0.000369, train_accuracy=1.000]"
     ]
    },
    {
     "name": "stderr",
     "output_type": "stream",
     "text": [
      "[2024-12-02 20:07:31] INFO (torcheeg/MainThread) \n",
      "[Train] train_loss: 0.020 train_accuracy: 0.990 \n",
      "\n"
     ]
    },
    {
     "name": "stdout",
     "output_type": "stream",
     "text": [
      "Epoch 41: 100%|██████████| 7/7 [00:00<00:00,  9.78it/s, loss=0.00823, v_num=0, train_loss=0.000153, train_accuracy=1.000]"
     ]
    },
    {
     "name": "stderr",
     "output_type": "stream",
     "text": [
      "[2024-12-02 20:07:35] INFO (torcheeg/MainThread) \n",
      "[Train] train_loss: 0.003 train_accuracy: 1.000 \n",
      "\n"
     ]
    },
    {
     "name": "stdout",
     "output_type": "stream",
     "text": [
      "Epoch 42: 100%|██████████| 7/7 [00:00<00:00,  9.88it/s, loss=0.0328, v_num=0, train_loss=0.321, train_accuracy=0.875]    "
     ]
    },
    {
     "name": "stderr",
     "output_type": "stream",
     "text": [
      "[2024-12-02 20:07:40] INFO (torcheeg/MainThread) \n",
      "[Train] train_loss: 0.072 train_accuracy: 0.975 \n",
      "\n"
     ]
    },
    {
     "name": "stdout",
     "output_type": "stream",
     "text": [
      "Epoch 43: 100%|██████████| 7/7 [00:00<00:00,  9.58it/s, loss=0.0399, v_num=0, train_loss=0.0494, train_accuracy=1.000] "
     ]
    },
    {
     "name": "stderr",
     "output_type": "stream",
     "text": [
      "[2024-12-02 20:07:44] INFO (torcheeg/MainThread) \n",
      "[Train] train_loss: 0.040 train_accuracy: 0.985 \n",
      "\n"
     ]
    },
    {
     "name": "stdout",
     "output_type": "stream",
     "text": [
      "Epoch 44: 100%|██████████| 7/7 [00:00<00:00,  9.81it/s, loss=0.052, v_num=0, train_loss=0.135, train_accuracy=1.000]   "
     ]
    },
    {
     "name": "stderr",
     "output_type": "stream",
     "text": [
      "[2024-12-02 20:07:49] INFO (torcheeg/MainThread) \n",
      "[Train] train_loss: 0.037 train_accuracy: 0.990 \n",
      "\n"
     ]
    },
    {
     "name": "stdout",
     "output_type": "stream",
     "text": [
      "Epoch 45: 100%|██████████| 7/7 [00:00<00:00,  9.81it/s, loss=0.051, v_num=0, train_loss=0.000301, train_accuracy=1.000]"
     ]
    },
    {
     "name": "stderr",
     "output_type": "stream",
     "text": [
      "[2024-12-02 20:07:53] INFO (torcheeg/MainThread) \n",
      "[Train] train_loss: 0.075 train_accuracy: 0.990 \n",
      "\n"
     ]
    },
    {
     "name": "stdout",
     "output_type": "stream",
     "text": [
      "Epoch 46: 100%|██████████| 7/7 [00:00<00:00,  9.77it/s, loss=0.0556, v_num=0, train_loss=0.00189, train_accuracy=1.000]"
     ]
    },
    {
     "name": "stderr",
     "output_type": "stream",
     "text": [
      "Monitored metric train_loss did not improve in the last 20 records. Best score: 0.000. Signaling Trainer to stop.\n"
     ]
    },
    {
     "name": "stdout",
     "output_type": "stream",
     "text": [
      "Epoch 46: 100%|██████████| 7/7 [00:00<00:00,  9.74it/s, loss=0.0556, v_num=0, train_loss=0.00189, train_accuracy=1.000]"
     ]
    },
    {
     "name": "stderr",
     "output_type": "stream",
     "text": [
      "[2024-12-02 20:07:57] INFO (torcheeg/MainThread) \n",
      "[Train] train_loss: 0.054 train_accuracy: 0.990 \n",
      "\n"
     ]
    },
    {
     "name": "stdout",
     "output_type": "stream",
     "text": [
      "Epoch 46: 100%|██████████| 7/7 [00:04<00:00,  1.62it/s, loss=0.0556, v_num=0, train_loss=0.00189, train_accuracy=1.000]\n"
     ]
    },
    {
     "name": "stderr",
     "output_type": "stream",
     "text": [
      "GPU available: True (cuda), used: True\n",
      "TPU available: False, using: 0 TPU cores\n",
      "IPU available: False, using: 0 IPUs\n",
      "HPU available: False, using: 0 HPUs\n",
      "LOCAL_RANK: 0 - CUDA_VISIBLE_DEVICES: [0]\n",
      "/root/autodl-tmp/conda/envs/law/lib/python3.8/site-packages/pytorch_lightning/trainer/connectors/data_connector.py:224: PossibleUserWarning: The dataloader, test_dataloader 0, does not have many workers which may be a bottleneck. Consider increasing the value of the `num_workers` argument` (try 128 which is the number of cpus on this machine) in the `DataLoader` init to improve performance.\n",
      "  rank_zero_warn(\n"
     ]
    },
    {
     "name": "stdout",
     "output_type": "stream",
     "text": [
      "Testing DataLoader 0: 100%|██████████| 3/3 [00:00<00:00, 39.07it/s]"
     ]
    },
    {
     "name": "stderr",
     "output_type": "stream",
     "text": [
      "[2024-12-02 20:07:59] INFO (torcheeg/MainThread) \n",
      "[Test] test_loss: 2.005 test_accuracy: 0.600 \n",
      "\n"
     ]
    },
    {
     "name": "stdout",
     "output_type": "stream",
     "text": [
      "Testing DataLoader 0: 100%|██████████| 3/3 [00:00<00:00, 36.17it/s]\n",
      "────────────────────────────────────────────────────────────────────────────────────────────────────────────────────────\n",
      "       Test metric             DataLoader 0\n",
      "────────────────────────────────────────────────────────────────────────────────────────────────────────────────────────\n",
      "      test_accuracy         0.6000000238418579\n",
      "        test_loss            2.004993438720703\n",
      "────────────────────────────────────────────────────────────────────────────────────────────────────────────────────────\n",
      "已删除文件夹: /root/autodl-tmp/.autodl/kinlaw/mi_swin/lightning_logs\n"
     ]
    },
    {
     "name": "stderr",
     "output_type": "stream",
     "text": [
      "GPU available: True (cuda), used: True\n",
      "TPU available: False, using: 0 TPU cores\n",
      "IPU available: False, using: 0 IPUs\n",
      "HPU available: False, using: 0 HPUs\n",
      "Missing logger folder: /root/autodl-tmp/.autodl/kinlaw/mi_swin/lightning_logs\n",
      "LOCAL_RANK: 0 - CUDA_VISIBLE_DEVICES: [0]\n",
      "/root/autodl-tmp/conda/envs/law/lib/python3.8/site-packages/pytorch_lightning/trainer/connectors/data_connector.py:224: PossibleUserWarning: The dataloader, train_dataloader, does not have many workers which may be a bottleneck. Consider increasing the value of the `num_workers` argument` (try 128 which is the number of cpus on this machine) in the `DataLoader` init to improve performance.\n",
      "  rank_zero_warn(\n",
      "/root/autodl-tmp/conda/envs/law/lib/python3.8/site-packages/pytorch_lightning/trainer/trainer.py:1609: PossibleUserWarning: The number of training batches (7) is smaller than the logging interval Trainer(log_every_n_steps=50). Set a lower value for log_every_n_steps if you want to see logs for the training epoch.\n",
      "  rank_zero_warn(\n"
     ]
    },
    {
     "name": "stdout",
     "output_type": "stream",
     "text": [
      "Epoch 0: 100%|██████████| 7/7 [00:00<00:00,  9.64it/s, loss=2.59, v_num=0, train_loss=1.890, train_accuracy=0.500] "
     ]
    },
    {
     "name": "stderr",
     "output_type": "stream",
     "text": [
      "Metric train_loss improved. New best score: 1.893\n"
     ]
    },
    {
     "name": "stdout",
     "output_type": "stream",
     "text": [
      "Epoch 0: 100%|██████████| 7/7 [00:00<00:00,  9.61it/s, loss=2.59, v_num=0, train_loss=1.890, train_accuracy=0.500]"
     ]
    },
    {
     "name": "stderr",
     "output_type": "stream",
     "text": [
      "[2024-12-02 20:08:06] INFO (torcheeg/MainThread) \n",
      "[Train] train_loss: 2.587 train_accuracy: 0.475 \n",
      "\n"
     ]
    },
    {
     "name": "stdout",
     "output_type": "stream",
     "text": [
      "Epoch 1: 100%|██████████| 7/7 [00:00<00:00,  9.98it/s, loss=1.69, v_num=0, train_loss=0.168, train_accuracy=0.875]"
     ]
    },
    {
     "name": "stderr",
     "output_type": "stream",
     "text": [
      "Metric train_loss improved by 1.725 >= min_delta = 0.0. New best score: 0.168\n"
     ]
    },
    {
     "name": "stdout",
     "output_type": "stream",
     "text": [
      "Epoch 1: 100%|██████████| 7/7 [00:00<00:00,  9.96it/s, loss=1.69, v_num=0, train_loss=0.168, train_accuracy=0.875]"
     ]
    },
    {
     "name": "stderr",
     "output_type": "stream",
     "text": [
      "[2024-12-02 20:08:10] INFO (torcheeg/MainThread) \n",
      "[Train] train_loss: 0.796 train_accuracy: 0.720 \n",
      "\n"
     ]
    },
    {
     "name": "stdout",
     "output_type": "stream",
     "text": [
      "Epoch 2: 100%|██████████| 7/7 [00:00<00:00, 10.03it/s, loss=1.3, v_num=0, train_loss=0.0796, train_accuracy=1.000]"
     ]
    },
    {
     "name": "stderr",
     "output_type": "stream",
     "text": [
      "Metric train_loss improved by 0.088 >= min_delta = 0.0. New best score: 0.080\n"
     ]
    },
    {
     "name": "stdout",
     "output_type": "stream",
     "text": [
      "Epoch 2: 100%|██████████| 7/7 [00:00<00:00, 10.01it/s, loss=1.3, v_num=0, train_loss=0.0796, train_accuracy=1.000]"
     ]
    },
    {
     "name": "stderr",
     "output_type": "stream",
     "text": [
      "[2024-12-02 20:08:15] INFO (torcheeg/MainThread) \n",
      "[Train] train_loss: 0.455 train_accuracy: 0.815 \n",
      "\n"
     ]
    },
    {
     "name": "stdout",
     "output_type": "stream",
     "text": [
      "Epoch 3: 100%|██████████| 7/7 [00:00<00:00,  9.96it/s, loss=0.448, v_num=0, train_loss=0.193, train_accuracy=0.875] "
     ]
    },
    {
     "name": "stderr",
     "output_type": "stream",
     "text": [
      "[2024-12-02 20:08:19] INFO (torcheeg/MainThread) \n",
      "[Train] train_loss: 0.180 train_accuracy: 0.915 \n",
      "\n"
     ]
    },
    {
     "name": "stdout",
     "output_type": "stream",
     "text": [
      "Epoch 4: 100%|██████████| 7/7 [00:00<00:00,  9.71it/s, loss=0.213, v_num=0, train_loss=0.00296, train_accuracy=1.000]"
     ]
    },
    {
     "name": "stderr",
     "output_type": "stream",
     "text": [
      "Metric train_loss improved by 0.077 >= min_delta = 0.0. New best score: 0.003\n"
     ]
    },
    {
     "name": "stdout",
     "output_type": "stream",
     "text": [
      "Epoch 4: 100%|██████████| 7/7 [00:00<00:00,  9.69it/s, loss=0.213, v_num=0, train_loss=0.00296, train_accuracy=1.000]"
     ]
    },
    {
     "name": "stderr",
     "output_type": "stream",
     "text": [
      "[2024-12-02 20:08:24] INFO (torcheeg/MainThread) \n",
      "[Train] train_loss: 0.095 train_accuracy: 0.965 \n",
      "\n"
     ]
    },
    {
     "name": "stdout",
     "output_type": "stream",
     "text": [
      "Epoch 5: 100%|██████████| 7/7 [00:00<00:00,  9.85it/s, loss=0.121, v_num=0, train_loss=0.00503, train_accuracy=1.000]"
     ]
    },
    {
     "name": "stderr",
     "output_type": "stream",
     "text": [
      "[2024-12-02 20:08:29] INFO (torcheeg/MainThread) \n",
      "[Train] train_loss: 0.121 train_accuracy: 0.960 \n",
      "\n"
     ]
    },
    {
     "name": "stdout",
     "output_type": "stream",
     "text": [
      "Epoch 6: 100%|██████████| 7/7 [00:00<00:00,  9.90it/s, loss=0.0963, v_num=0, train_loss=0.483, train_accuracy=0.750] "
     ]
    },
    {
     "name": "stderr",
     "output_type": "stream",
     "text": [
      "[2024-12-02 20:08:33] INFO (torcheeg/MainThread) \n",
      "[Train] train_loss: 0.086 train_accuracy: 0.990 \n",
      "\n"
     ]
    },
    {
     "name": "stdout",
     "output_type": "stream",
     "text": [
      "Epoch 7: 100%|██████████| 7/7 [00:00<00:00,  9.87it/s, loss=0.0858, v_num=0, train_loss=0.264, train_accuracy=0.875] "
     ]
    },
    {
     "name": "stderr",
     "output_type": "stream",
     "text": [
      "[2024-12-02 20:08:38] INFO (torcheeg/MainThread) \n",
      "[Train] train_loss: 0.083 train_accuracy: 0.975 \n",
      "\n"
     ]
    },
    {
     "name": "stdout",
     "output_type": "stream",
     "text": [
      "Epoch 8: 100%|██████████| 7/7 [00:00<00:00,  9.88it/s, loss=0.0951, v_num=0, train_loss=0.0101, train_accuracy=1.000]"
     ]
    },
    {
     "name": "stderr",
     "output_type": "stream",
     "text": [
      "[2024-12-02 20:08:43] INFO (torcheeg/MainThread) \n",
      "[Train] train_loss: 0.105 train_accuracy: 0.960 \n",
      "\n"
     ]
    },
    {
     "name": "stdout",
     "output_type": "stream",
     "text": [
      "Epoch 9: 100%|██████████| 7/7 [00:00<00:00,  9.74it/s, loss=0.0997, v_num=0, train_loss=0.0646, train_accuracy=1.000]"
     ]
    },
    {
     "name": "stderr",
     "output_type": "stream",
     "text": [
      "[2024-12-02 20:08:47] INFO (torcheeg/MainThread) \n",
      "[Train] train_loss: 0.100 train_accuracy: 0.975 \n",
      "\n"
     ]
    },
    {
     "name": "stdout",
     "output_type": "stream",
     "text": [
      "Epoch 10: 100%|██████████| 7/7 [00:00<00:00,  9.82it/s, loss=0.0869, v_num=0, train_loss=0.121, train_accuracy=0.875] "
     ]
    },
    {
     "name": "stderr",
     "output_type": "stream",
     "text": [
      "[2024-12-02 20:08:52] INFO (torcheeg/MainThread) \n",
      "[Train] train_loss: 0.046 train_accuracy: 0.980 \n",
      "\n"
     ]
    },
    {
     "name": "stdout",
     "output_type": "stream",
     "text": [
      "Epoch 11: 100%|██████████| 7/7 [00:00<00:00,  9.89it/s, loss=0.0761, v_num=0, train_loss=0.0587, train_accuracy=1.000] "
     ]
    },
    {
     "name": "stderr",
     "output_type": "stream",
     "text": [
      "[2024-12-02 20:08:57] INFO (torcheeg/MainThread) \n",
      "[Train] train_loss: 0.074 train_accuracy: 0.975 \n",
      "\n"
     ]
    },
    {
     "name": "stdout",
     "output_type": "stream",
     "text": [
      "Epoch 12: 100%|██████████| 7/7 [00:00<00:00,  9.74it/s, loss=0.0829, v_num=0, train_loss=0.142, train_accuracy=0.875]  "
     ]
    },
    {
     "name": "stderr",
     "output_type": "stream",
     "text": [
      "[2024-12-02 20:09:01] INFO (torcheeg/MainThread) \n",
      "[Train] train_loss: 0.123 train_accuracy: 0.960 \n",
      "\n"
     ]
    },
    {
     "name": "stdout",
     "output_type": "stream",
     "text": [
      "Epoch 13: 100%|██████████| 7/7 [00:00<00:00,  9.65it/s, loss=0.126, v_num=0, train_loss=0.264, train_accuracy=0.875]   "
     ]
    },
    {
     "name": "stderr",
     "output_type": "stream",
     "text": [
      "[2024-12-02 20:09:06] INFO (torcheeg/MainThread) \n",
      "[Train] train_loss: 0.165 train_accuracy: 0.950 \n",
      "\n"
     ]
    },
    {
     "name": "stdout",
     "output_type": "stream",
     "text": [
      "Epoch 14: 100%|██████████| 7/7 [00:00<00:00,  9.67it/s, loss=0.147, v_num=0, train_loss=0.123, train_accuracy=0.875]   "
     ]
    },
    {
     "name": "stderr",
     "output_type": "stream",
     "text": [
      "[2024-12-02 20:09:11] INFO (torcheeg/MainThread) \n",
      "[Train] train_loss: 0.134 train_accuracy: 0.965 \n",
      "\n"
     ]
    },
    {
     "name": "stdout",
     "output_type": "stream",
     "text": [
      "Epoch 15: 100%|██████████| 7/7 [00:00<00:00,  9.85it/s, loss=0.112, v_num=0, train_loss=0.00364, train_accuracy=1.000]"
     ]
    },
    {
     "name": "stderr",
     "output_type": "stream",
     "text": [
      "[2024-12-02 20:09:16] INFO (torcheeg/MainThread) \n",
      "[Train] train_loss: 0.024 train_accuracy: 0.985 \n",
      "\n"
     ]
    },
    {
     "name": "stdout",
     "output_type": "stream",
     "text": [
      "Epoch 16: 100%|██████████| 7/7 [00:00<00:00,  9.92it/s, loss=0.069, v_num=0, train_loss=0.000825, train_accuracy=1.000]"
     ]
    },
    {
     "name": "stderr",
     "output_type": "stream",
     "text": [
      "Metric train_loss improved by 0.002 >= min_delta = 0.0. New best score: 0.001\n"
     ]
    },
    {
     "name": "stdout",
     "output_type": "stream",
     "text": [
      "Epoch 16: 100%|██████████| 7/7 [00:00<00:00,  9.90it/s, loss=0.069, v_num=0, train_loss=0.000825, train_accuracy=1.000]"
     ]
    },
    {
     "name": "stderr",
     "output_type": "stream",
     "text": [
      "[2024-12-02 20:09:20] INFO (torcheeg/MainThread) \n",
      "[Train] train_loss: 0.042 train_accuracy: 0.975 \n",
      "\n"
     ]
    },
    {
     "name": "stdout",
     "output_type": "stream",
     "text": [
      "Epoch 17: 100%|██████████| 7/7 [00:00<00:00,  9.66it/s, loss=0.0353, v_num=0, train_loss=0.122, train_accuracy=0.875]  "
     ]
    },
    {
     "name": "stderr",
     "output_type": "stream",
     "text": [
      "[2024-12-02 20:09:25] INFO (torcheeg/MainThread) \n",
      "[Train] train_loss: 0.039 train_accuracy: 0.980 \n",
      "\n"
     ]
    },
    {
     "name": "stdout",
     "output_type": "stream",
     "text": [
      "Epoch 18: 100%|██████████| 7/7 [00:00<00:00,  9.70it/s, loss=0.0961, v_num=0, train_loss=0.483, train_accuracy=0.875]  "
     ]
    },
    {
     "name": "stderr",
     "output_type": "stream",
     "text": [
      "[2024-12-02 20:09:30] INFO (torcheeg/MainThread) \n",
      "[Train] train_loss: 0.193 train_accuracy: 0.970 \n",
      "\n"
     ]
    },
    {
     "name": "stdout",
     "output_type": "stream",
     "text": [
      "Epoch 19: 100%|██████████| 7/7 [00:00<00:00,  9.86it/s, loss=0.167, v_num=0, train_loss=0.026, train_accuracy=1.000]   "
     ]
    },
    {
     "name": "stderr",
     "output_type": "stream",
     "text": [
      "[2024-12-02 20:09:34] INFO (torcheeg/MainThread) \n",
      "[Train] train_loss: 0.244 train_accuracy: 0.935 \n",
      "\n"
     ]
    },
    {
     "name": "stdout",
     "output_type": "stream",
     "text": [
      "Epoch 20: 100%|██████████| 7/7 [00:00<00:00, 10.00it/s, loss=0.207, v_num=0, train_loss=0.000695, train_accuracy=1.000]"
     ]
    },
    {
     "name": "stderr",
     "output_type": "stream",
     "text": [
      "Metric train_loss improved by 0.000 >= min_delta = 0.0. New best score: 0.001\n"
     ]
    },
    {
     "name": "stdout",
     "output_type": "stream",
     "text": [
      "Epoch 20: 100%|██████████| 7/7 [00:00<00:00,  9.98it/s, loss=0.207, v_num=0, train_loss=0.000695, train_accuracy=1.000]"
     ]
    },
    {
     "name": "stderr",
     "output_type": "stream",
     "text": [
      "[2024-12-02 20:09:39] INFO (torcheeg/MainThread) \n",
      "[Train] train_loss: 0.158 train_accuracy: 0.945 \n",
      "\n"
     ]
    },
    {
     "name": "stdout",
     "output_type": "stream",
     "text": [
      "Epoch 21: 100%|██████████| 7/7 [00:00<00:00, 10.02it/s, loss=0.172, v_num=0, train_loss=0.00204, train_accuracy=1.000] "
     ]
    },
    {
     "name": "stderr",
     "output_type": "stream",
     "text": [
      "[2024-12-02 20:09:44] INFO (torcheeg/MainThread) \n",
      "[Train] train_loss: 0.089 train_accuracy: 0.955 \n",
      "\n"
     ]
    },
    {
     "name": "stdout",
     "output_type": "stream",
     "text": [
      "Epoch 22: 100%|██████████| 7/7 [00:00<00:00,  9.91it/s, loss=0.083, v_num=0, train_loss=0.008, train_accuracy=1.000]  "
     ]
    },
    {
     "name": "stderr",
     "output_type": "stream",
     "text": [
      "[2024-12-02 20:09:48] INFO (torcheeg/MainThread) \n",
      "[Train] train_loss: 0.048 train_accuracy: 0.985 \n",
      "\n"
     ]
    },
    {
     "name": "stdout",
     "output_type": "stream",
     "text": [
      "Epoch 23: 100%|██████████| 7/7 [00:00<00:00,  9.96it/s, loss=0.0504, v_num=0, train_loss=0.00068, train_accuracy=1.000]"
     ]
    },
    {
     "name": "stderr",
     "output_type": "stream",
     "text": [
      "Metric train_loss improved by 0.000 >= min_delta = 0.0. New best score: 0.001\n"
     ]
    },
    {
     "name": "stdout",
     "output_type": "stream",
     "text": [
      "Epoch 23: 100%|██████████| 7/7 [00:00<00:00,  9.93it/s, loss=0.0504, v_num=0, train_loss=0.00068, train_accuracy=1.000]"
     ]
    },
    {
     "name": "stderr",
     "output_type": "stream",
     "text": [
      "[2024-12-02 20:09:53] INFO (torcheeg/MainThread) \n",
      "[Train] train_loss: 0.014 train_accuracy: 0.995 \n",
      "\n"
     ]
    },
    {
     "name": "stdout",
     "output_type": "stream",
     "text": [
      "Epoch 24: 100%|██████████| 7/7 [00:00<00:00,  9.77it/s, loss=0.0146, v_num=0, train_loss=0.003, train_accuracy=1.000]   "
     ]
    },
    {
     "name": "stderr",
     "output_type": "stream",
     "text": [
      "[2024-12-02 20:09:57] INFO (torcheeg/MainThread) \n",
      "[Train] train_loss: 0.007 train_accuracy: 1.000 \n",
      "\n"
     ]
    },
    {
     "name": "stdout",
     "output_type": "stream",
     "text": [
      "Epoch 25: 100%|██████████| 7/7 [00:00<00:00,  9.80it/s, loss=0.0087, v_num=0, train_loss=0.000103, train_accuracy=1.000] "
     ]
    },
    {
     "name": "stderr",
     "output_type": "stream",
     "text": [
      "Metric train_loss improved by 0.001 >= min_delta = 0.0. New best score: 0.000\n"
     ]
    },
    {
     "name": "stdout",
     "output_type": "stream",
     "text": [
      "Epoch 25: 100%|██████████| 7/7 [00:00<00:00,  9.78it/s, loss=0.0087, v_num=0, train_loss=0.000103, train_accuracy=1.000]"
     ]
    },
    {
     "name": "stderr",
     "output_type": "stream",
     "text": [
      "[2024-12-02 20:10:02] INFO (torcheeg/MainThread) \n",
      "[Train] train_loss: 0.003 train_accuracy: 1.000 \n",
      "\n"
     ]
    },
    {
     "name": "stdout",
     "output_type": "stream",
     "text": [
      "Epoch 26: 100%|██████████| 7/7 [00:00<00:00,  9.91it/s, loss=0.00332, v_num=0, train_loss=0.0001, train_accuracy=1.000]  "
     ]
    },
    {
     "name": "stderr",
     "output_type": "stream",
     "text": [
      "Metric train_loss improved by 0.000 >= min_delta = 0.0. New best score: 0.000\n"
     ]
    },
    {
     "name": "stdout",
     "output_type": "stream",
     "text": [
      "Epoch 26: 100%|██████████| 7/7 [00:00<00:00,  9.89it/s, loss=0.00332, v_num=0, train_loss=0.0001, train_accuracy=1.000]"
     ]
    },
    {
     "name": "stderr",
     "output_type": "stream",
     "text": [
      "[2024-12-02 20:10:07] INFO (torcheeg/MainThread) \n",
      "[Train] train_loss: 0.002 train_accuracy: 1.000 \n",
      "\n"
     ]
    },
    {
     "name": "stdout",
     "output_type": "stream",
     "text": [
      "Epoch 27: 100%|██████████| 7/7 [00:00<00:00,  9.79it/s, loss=0.00271, v_num=0, train_loss=7.26e-5, train_accuracy=1.000] "
     ]
    },
    {
     "name": "stderr",
     "output_type": "stream",
     "text": [
      "Metric train_loss improved by 0.000 >= min_delta = 0.0. New best score: 0.000\n"
     ]
    },
    {
     "name": "stdout",
     "output_type": "stream",
     "text": [
      "Epoch 27: 100%|██████████| 7/7 [00:00<00:00,  9.77it/s, loss=0.00271, v_num=0, train_loss=7.26e-5, train_accuracy=1.000]"
     ]
    },
    {
     "name": "stderr",
     "output_type": "stream",
     "text": [
      "[2024-12-02 20:10:12] INFO (torcheeg/MainThread) \n",
      "[Train] train_loss: 0.003 train_accuracy: 1.000 \n",
      "\n"
     ]
    },
    {
     "name": "stdout",
     "output_type": "stream",
     "text": [
      "Epoch 28: 100%|██████████| 7/7 [00:00<00:00,  9.95it/s, loss=0.00207, v_num=0, train_loss=0.000286, train_accuracy=1.000]"
     ]
    },
    {
     "name": "stderr",
     "output_type": "stream",
     "text": [
      "[2024-12-02 20:10:16] INFO (torcheeg/MainThread) \n",
      "[Train] train_loss: 0.001 train_accuracy: 1.000 \n",
      "\n"
     ]
    },
    {
     "name": "stdout",
     "output_type": "stream",
     "text": [
      "Epoch 29: 100%|██████████| 7/7 [00:00<00:00,  9.80it/s, loss=0.00161, v_num=0, train_loss=3.18e-5, train_accuracy=1.000] "
     ]
    },
    {
     "name": "stderr",
     "output_type": "stream",
     "text": [
      "Metric train_loss improved by 0.000 >= min_delta = 0.0. New best score: 0.000\n"
     ]
    },
    {
     "name": "stdout",
     "output_type": "stream",
     "text": [
      "Epoch 29: 100%|██████████| 7/7 [00:00<00:00,  9.77it/s, loss=0.00161, v_num=0, train_loss=3.18e-5, train_accuracy=1.000]"
     ]
    },
    {
     "name": "stderr",
     "output_type": "stream",
     "text": [
      "[2024-12-02 20:10:21] INFO (torcheeg/MainThread) \n",
      "[Train] train_loss: 0.001 train_accuracy: 1.000 \n",
      "\n"
     ]
    },
    {
     "name": "stdout",
     "output_type": "stream",
     "text": [
      "Epoch 30: 100%|██████████| 7/7 [00:00<00:00,  9.87it/s, loss=0.000982, v_num=0, train_loss=0.000219, train_accuracy=1.000]"
     ]
    },
    {
     "name": "stderr",
     "output_type": "stream",
     "text": [
      "[2024-12-02 20:10:25] INFO (torcheeg/MainThread) \n",
      "[Train] train_loss: 0.001 train_accuracy: 1.000 \n",
      "\n"
     ]
    },
    {
     "name": "stdout",
     "output_type": "stream",
     "text": [
      "Epoch 31: 100%|██████████| 7/7 [00:00<00:00,  9.68it/s, loss=0.000807, v_num=0, train_loss=6.84e-5, train_accuracy=1.000] "
     ]
    },
    {
     "name": "stderr",
     "output_type": "stream",
     "text": [
      "[2024-12-02 20:10:30] INFO (torcheeg/MainThread) \n",
      "[Train] train_loss: 0.001 train_accuracy: 1.000 \n",
      "\n"
     ]
    },
    {
     "name": "stdout",
     "output_type": "stream",
     "text": [
      "Epoch 32: 100%|██████████| 7/7 [00:00<00:00,  9.82it/s, loss=0.000616, v_num=0, train_loss=8.73e-5, train_accuracy=1.000] "
     ]
    },
    {
     "name": "stderr",
     "output_type": "stream",
     "text": [
      "[2024-12-02 20:10:35] INFO (torcheeg/MainThread) \n",
      "[Train] train_loss: 0.000 train_accuracy: 1.000 \n",
      "\n"
     ]
    },
    {
     "name": "stdout",
     "output_type": "stream",
     "text": [
      "Epoch 33: 100%|██████████| 7/7 [00:00<00:00,  9.71it/s, loss=0.000422, v_num=0, train_loss=0.000292, train_accuracy=1.000]"
     ]
    },
    {
     "name": "stderr",
     "output_type": "stream",
     "text": [
      "[2024-12-02 20:10:40] INFO (torcheeg/MainThread) \n",
      "[Train] train_loss: 0.001 train_accuracy: 1.000 \n",
      "\n"
     ]
    },
    {
     "name": "stdout",
     "output_type": "stream",
     "text": [
      "Epoch 34: 100%|██████████| 7/7 [00:00<00:00,  9.83it/s, loss=0.000514, v_num=0, train_loss=0.000251, train_accuracy=1.000]"
     ]
    },
    {
     "name": "stderr",
     "output_type": "stream",
     "text": [
      "[2024-12-02 20:10:44] INFO (torcheeg/MainThread) \n",
      "[Train] train_loss: 0.001 train_accuracy: 1.000 \n",
      "\n"
     ]
    },
    {
     "name": "stdout",
     "output_type": "stream",
     "text": [
      "Epoch 35: 100%|██████████| 7/7 [00:00<00:00,  9.57it/s, loss=0.000536, v_num=0, train_loss=0.000207, train_accuracy=1.000]"
     ]
    },
    {
     "name": "stderr",
     "output_type": "stream",
     "text": [
      "[2024-12-02 20:10:49] INFO (torcheeg/MainThread) \n",
      "[Train] train_loss: 0.000 train_accuracy: 1.000 \n",
      "\n"
     ]
    },
    {
     "name": "stdout",
     "output_type": "stream",
     "text": [
      "Epoch 36: 100%|██████████| 7/7 [00:00<00:00,  9.72it/s, loss=0.000354, v_num=0, train_loss=0.000218, train_accuracy=1.000]"
     ]
    },
    {
     "name": "stderr",
     "output_type": "stream",
     "text": [
      "[2024-12-02 20:10:54] INFO (torcheeg/MainThread) \n",
      "[Train] train_loss: 0.000 train_accuracy: 1.000 \n",
      "\n"
     ]
    },
    {
     "name": "stdout",
     "output_type": "stream",
     "text": [
      "Epoch 37: 100%|██████████| 7/7 [00:00<00:00,  9.84it/s, loss=0.000233, v_num=0, train_loss=0.000833, train_accuracy=1.000]"
     ]
    },
    {
     "name": "stderr",
     "output_type": "stream",
     "text": [
      "[2024-12-02 20:10:58] INFO (torcheeg/MainThread) \n",
      "[Train] train_loss: 0.000 train_accuracy: 1.000 \n",
      "\n"
     ]
    },
    {
     "name": "stdout",
     "output_type": "stream",
     "text": [
      "Epoch 38: 100%|██████████| 7/7 [00:00<00:00,  9.79it/s, loss=0.00021, v_num=0, train_loss=1.72e-5, train_accuracy=1.000]  "
     ]
    },
    {
     "name": "stderr",
     "output_type": "stream",
     "text": [
      "Metric train_loss improved by 0.000 >= min_delta = 0.0. New best score: 0.000\n"
     ]
    },
    {
     "name": "stdout",
     "output_type": "stream",
     "text": [
      "Epoch 38: 100%|██████████| 7/7 [00:00<00:00,  9.76it/s, loss=0.00021, v_num=0, train_loss=1.72e-5, train_accuracy=1.000]"
     ]
    },
    {
     "name": "stderr",
     "output_type": "stream",
     "text": [
      "[2024-12-02 20:11:03] INFO (torcheeg/MainThread) \n",
      "[Train] train_loss: 0.000 train_accuracy: 1.000 \n",
      "\n"
     ]
    },
    {
     "name": "stdout",
     "output_type": "stream",
     "text": [
      "Epoch 39: 100%|██████████| 7/7 [00:00<00:00,  9.77it/s, loss=0.000183, v_num=0, train_loss=7.61e-5, train_accuracy=1.000] "
     ]
    },
    {
     "name": "stderr",
     "output_type": "stream",
     "text": [
      "[2024-12-02 20:11:08] INFO (torcheeg/MainThread) \n",
      "[Train] train_loss: 0.000 train_accuracy: 1.000 \n",
      "\n"
     ]
    },
    {
     "name": "stdout",
     "output_type": "stream",
     "text": [
      "Epoch 40: 100%|██████████| 7/7 [00:00<00:00,  9.70it/s, loss=0.000131, v_num=0, train_loss=2.26e-5, train_accuracy=1.000] "
     ]
    },
    {
     "name": "stderr",
     "output_type": "stream",
     "text": [
      "[2024-12-02 20:11:12] INFO (torcheeg/MainThread) \n",
      "[Train] train_loss: 0.000 train_accuracy: 1.000 \n",
      "\n"
     ]
    },
    {
     "name": "stdout",
     "output_type": "stream",
     "text": [
      "Epoch 41: 100%|██████████| 7/7 [00:00<00:00,  9.78it/s, loss=0.000123, v_num=0, train_loss=5.4e-5, train_accuracy=1.000]  "
     ]
    },
    {
     "name": "stderr",
     "output_type": "stream",
     "text": [
      "[2024-12-02 20:11:16] INFO (torcheeg/MainThread) \n",
      "[Train] train_loss: 0.000 train_accuracy: 1.000 \n",
      "\n"
     ]
    },
    {
     "name": "stdout",
     "output_type": "stream",
     "text": [
      "Epoch 42: 100%|██████████| 7/7 [00:00<00:00,  9.87it/s, loss=0.000137, v_num=0, train_loss=2.46e-5, train_accuracy=1.000] "
     ]
    },
    {
     "name": "stderr",
     "output_type": "stream",
     "text": [
      "[2024-12-02 20:11:21] INFO (torcheeg/MainThread) \n",
      "[Train] train_loss: 0.000 train_accuracy: 1.000 \n",
      "\n"
     ]
    },
    {
     "name": "stdout",
     "output_type": "stream",
     "text": [
      "Epoch 43: 100%|██████████| 7/7 [00:00<00:00,  9.84it/s, loss=0.000205, v_num=0, train_loss=5.56e-5, train_accuracy=1.000] "
     ]
    },
    {
     "name": "stderr",
     "output_type": "stream",
     "text": [
      "[2024-12-02 20:11:25] INFO (torcheeg/MainThread) \n",
      "[Train] train_loss: 0.000 train_accuracy: 1.000 \n",
      "\n"
     ]
    },
    {
     "name": "stdout",
     "output_type": "stream",
     "text": [
      "Epoch 44: 100%|██████████| 7/7 [00:00<00:00,  9.96it/s, loss=0.000218, v_num=0, train_loss=5.03e-5, train_accuracy=1.000] "
     ]
    },
    {
     "name": "stderr",
     "output_type": "stream",
     "text": [
      "[2024-12-02 20:11:29] INFO (torcheeg/MainThread) \n",
      "[Train] train_loss: 0.000 train_accuracy: 1.000 \n",
      "\n"
     ]
    },
    {
     "name": "stdout",
     "output_type": "stream",
     "text": [
      "Epoch 45: 100%|██████████| 7/7 [00:00<00:00,  9.92it/s, loss=0.000144, v_num=0, train_loss=0.000133, train_accuracy=1.000]"
     ]
    },
    {
     "name": "stderr",
     "output_type": "stream",
     "text": [
      "[2024-12-02 20:11:34] INFO (torcheeg/MainThread) \n",
      "[Train] train_loss: 0.000 train_accuracy: 1.000 \n",
      "\n"
     ]
    },
    {
     "name": "stdout",
     "output_type": "stream",
     "text": [
      "Epoch 46: 100%|██████████| 7/7 [00:00<00:00,  9.68it/s, loss=0.000179, v_num=0, train_loss=0.000299, train_accuracy=1.000]"
     ]
    },
    {
     "name": "stderr",
     "output_type": "stream",
     "text": [
      "[2024-12-02 20:11:38] INFO (torcheeg/MainThread) \n",
      "[Train] train_loss: 0.000 train_accuracy: 1.000 \n",
      "\n"
     ]
    },
    {
     "name": "stdout",
     "output_type": "stream",
     "text": [
      "Epoch 47: 100%|██████████| 7/7 [00:00<00:00,  9.91it/s, loss=0.000136, v_num=0, train_loss=3.43e-5, train_accuracy=1.000] "
     ]
    },
    {
     "name": "stderr",
     "output_type": "stream",
     "text": [
      "[2024-12-02 20:11:42] INFO (torcheeg/MainThread) \n",
      "[Train] train_loss: 0.000 train_accuracy: 1.000 \n",
      "\n"
     ]
    },
    {
     "name": "stdout",
     "output_type": "stream",
     "text": [
      "Epoch 48: 100%|██████████| 7/7 [00:00<00:00,  9.94it/s, loss=0.000125, v_num=0, train_loss=5.86e-5, train_accuracy=1.000] "
     ]
    },
    {
     "name": "stderr",
     "output_type": "stream",
     "text": [
      "[2024-12-02 20:11:47] INFO (torcheeg/MainThread) \n",
      "[Train] train_loss: 0.000 train_accuracy: 1.000 \n",
      "\n"
     ]
    },
    {
     "name": "stdout",
     "output_type": "stream",
     "text": [
      "Epoch 49: 100%|██████████| 7/7 [00:00<00:00,  9.84it/s, loss=7.6e-05, v_num=0, train_loss=0.000182, train_accuracy=1.000] "
     ]
    },
    {
     "name": "stderr",
     "output_type": "stream",
     "text": [
      "[2024-12-02 20:11:51] INFO (torcheeg/MainThread) \n",
      "[Train] train_loss: 0.000 train_accuracy: 1.000 \n",
      "\n"
     ]
    },
    {
     "name": "stdout",
     "output_type": "stream",
     "text": [
      "Epoch 50: 100%|██████████| 7/7 [00:00<00:00,  9.91it/s, loss=8.97e-05, v_num=0, train_loss=1.93e-5, train_accuracy=1.000]"
     ]
    },
    {
     "name": "stderr",
     "output_type": "stream",
     "text": [
      "[2024-12-02 20:11:55] INFO (torcheeg/MainThread) \n",
      "[Train] train_loss: 0.000 train_accuracy: 1.000 \n",
      "\n"
     ]
    },
    {
     "name": "stdout",
     "output_type": "stream",
     "text": [
      "Epoch 51: 100%|██████████| 7/7 [00:00<00:00,  9.84it/s, loss=0.000546, v_num=0, train_loss=7.97e-6, train_accuracy=1.000] "
     ]
    },
    {
     "name": "stderr",
     "output_type": "stream",
     "text": [
      "Metric train_loss improved by 0.000 >= min_delta = 0.0. New best score: 0.000\n"
     ]
    },
    {
     "name": "stdout",
     "output_type": "stream",
     "text": [
      "Epoch 51: 100%|██████████| 7/7 [00:00<00:00,  9.81it/s, loss=0.000546, v_num=0, train_loss=7.97e-6, train_accuracy=1.000]"
     ]
    },
    {
     "name": "stderr",
     "output_type": "stream",
     "text": [
      "[2024-12-02 20:12:00] INFO (torcheeg/MainThread) \n",
      "[Train] train_loss: 0.001 train_accuracy: 1.000 \n",
      "\n"
     ]
    },
    {
     "name": "stdout",
     "output_type": "stream",
     "text": [
      "Epoch 52: 100%|██████████| 7/7 [00:00<00:00,  9.79it/s, loss=0.000558, v_num=0, train_loss=0.000966, train_accuracy=1.000]"
     ]
    },
    {
     "name": "stderr",
     "output_type": "stream",
     "text": [
      "[2024-12-02 20:12:04] INFO (torcheeg/MainThread) \n",
      "[Train] train_loss: 0.000 train_accuracy: 1.000 \n",
      "\n"
     ]
    },
    {
     "name": "stdout",
     "output_type": "stream",
     "text": [
      "Epoch 53: 100%|██████████| 7/7 [00:00<00:00,  9.77it/s, loss=0.000585, v_num=0, train_loss=0.00101, train_accuracy=1.000] "
     ]
    },
    {
     "name": "stderr",
     "output_type": "stream",
     "text": [
      "[2024-12-02 20:12:08] INFO (torcheeg/MainThread) \n",
      "[Train] train_loss: 0.000 train_accuracy: 1.000 \n",
      "\n"
     ]
    },
    {
     "name": "stdout",
     "output_type": "stream",
     "text": [
      "Epoch 54: 100%|██████████| 7/7 [00:00<00:00,  9.66it/s, loss=0.000159, v_num=0, train_loss=4.72e-5, train_accuracy=1.000] "
     ]
    },
    {
     "name": "stderr",
     "output_type": "stream",
     "text": [
      "[2024-12-02 20:12:13] INFO (torcheeg/MainThread) \n",
      "[Train] train_loss: 0.000 train_accuracy: 1.000 \n",
      "\n"
     ]
    },
    {
     "name": "stdout",
     "output_type": "stream",
     "text": [
      "Epoch 55: 100%|██████████| 7/7 [00:00<00:00,  9.85it/s, loss=0.000129, v_num=0, train_loss=9.43e-5, train_accuracy=1.000] "
     ]
    },
    {
     "name": "stderr",
     "output_type": "stream",
     "text": [
      "[2024-12-02 20:12:17] INFO (torcheeg/MainThread) \n",
      "[Train] train_loss: 0.000 train_accuracy: 1.000 \n",
      "\n"
     ]
    },
    {
     "name": "stdout",
     "output_type": "stream",
     "text": [
      "Epoch 56: 100%|██████████| 7/7 [00:00<00:00,  9.79it/s, loss=9.12e-05, v_num=0, train_loss=6.12e-5, train_accuracy=1.000] "
     ]
    },
    {
     "name": "stderr",
     "output_type": "stream",
     "text": [
      "[2024-12-02 20:12:21] INFO (torcheeg/MainThread) \n",
      "[Train] train_loss: 0.000 train_accuracy: 1.000 \n",
      "\n"
     ]
    },
    {
     "name": "stdout",
     "output_type": "stream",
     "text": [
      "Epoch 57: 100%|██████████| 7/7 [00:00<00:00,  9.89it/s, loss=9.18e-05, v_num=0, train_loss=0.000115, train_accuracy=1.000]"
     ]
    },
    {
     "name": "stderr",
     "output_type": "stream",
     "text": [
      "[2024-12-02 20:12:26] INFO (torcheeg/MainThread) \n",
      "[Train] train_loss: 0.000 train_accuracy: 1.000 \n",
      "\n"
     ]
    },
    {
     "name": "stdout",
     "output_type": "stream",
     "text": [
      "Epoch 58: 100%|██████████| 7/7 [00:00<00:00,  9.76it/s, loss=9.33e-05, v_num=0, train_loss=5.87e-5, train_accuracy=1.000] "
     ]
    },
    {
     "name": "stderr",
     "output_type": "stream",
     "text": [
      "[2024-12-02 20:12:30] INFO (torcheeg/MainThread) \n",
      "[Train] train_loss: 0.000 train_accuracy: 1.000 \n",
      "\n"
     ]
    },
    {
     "name": "stdout",
     "output_type": "stream",
     "text": [
      "Epoch 59: 100%|██████████| 7/7 [00:00<00:00,  9.85it/s, loss=0.000128, v_num=0, train_loss=0.000791, train_accuracy=1.000]"
     ]
    },
    {
     "name": "stderr",
     "output_type": "stream",
     "text": [
      "[2024-12-02 20:12:34] INFO (torcheeg/MainThread) \n",
      "[Train] train_loss: 0.000 train_accuracy: 1.000 \n",
      "\n"
     ]
    },
    {
     "name": "stdout",
     "output_type": "stream",
     "text": [
      "Epoch 60: 100%|██████████| 7/7 [00:00<00:00,  9.69it/s, loss=0.000121, v_num=0, train_loss=4.08e-5, train_accuracy=1.000] "
     ]
    },
    {
     "name": "stderr",
     "output_type": "stream",
     "text": [
      "[2024-12-02 20:12:39] INFO (torcheeg/MainThread) \n",
      "[Train] train_loss: 0.000 train_accuracy: 1.000 \n",
      "\n"
     ]
    },
    {
     "name": "stdout",
     "output_type": "stream",
     "text": [
      "Epoch 61: 100%|██████████| 7/7 [00:00<00:00,  9.81it/s, loss=0.000111, v_num=0, train_loss=0.000141, train_accuracy=1.000]"
     ]
    },
    {
     "name": "stderr",
     "output_type": "stream",
     "text": [
      "[2024-12-02 20:12:43] INFO (torcheeg/MainThread) \n",
      "[Train] train_loss: 0.000 train_accuracy: 1.000 \n",
      "\n"
     ]
    },
    {
     "name": "stdout",
     "output_type": "stream",
     "text": [
      "Epoch 62: 100%|██████████| 7/7 [00:00<00:00,  9.89it/s, loss=0.000382, v_num=0, train_loss=0.00011, train_accuracy=1.000] "
     ]
    },
    {
     "name": "stderr",
     "output_type": "stream",
     "text": [
      "[2024-12-02 20:12:48] INFO (torcheeg/MainThread) \n",
      "[Train] train_loss: 0.001 train_accuracy: 1.000 \n",
      "\n"
     ]
    },
    {
     "name": "stdout",
     "output_type": "stream",
     "text": [
      "Epoch 63: 100%|██████████| 7/7 [00:00<00:00,  9.90it/s, loss=0.00121, v_num=0, train_loss=5.01e-5, train_accuracy=1.000]  "
     ]
    },
    {
     "name": "stderr",
     "output_type": "stream",
     "text": [
      "[2024-12-02 20:12:52] INFO (torcheeg/MainThread) \n",
      "[Train] train_loss: 0.002 train_accuracy: 1.000 \n",
      "\n"
     ]
    },
    {
     "name": "stdout",
     "output_type": "stream",
     "text": [
      "Epoch 64: 100%|██████████| 7/7 [00:00<00:00,  9.63it/s, loss=0.00121, v_num=0, train_loss=1.88e-6, train_accuracy=1.000] "
     ]
    },
    {
     "name": "stderr",
     "output_type": "stream",
     "text": [
      "Metric train_loss improved by 0.000 >= min_delta = 0.0. New best score: 0.000\n"
     ]
    },
    {
     "name": "stdout",
     "output_type": "stream",
     "text": [
      "Epoch 64: 100%|██████████| 7/7 [00:00<00:00,  9.60it/s, loss=0.00121, v_num=0, train_loss=1.88e-6, train_accuracy=1.000]"
     ]
    },
    {
     "name": "stderr",
     "output_type": "stream",
     "text": [
      "[2024-12-02 20:12:56] INFO (torcheeg/MainThread) \n",
      "[Train] train_loss: 0.000 train_accuracy: 1.000 \n",
      "\n"
     ]
    },
    {
     "name": "stdout",
     "output_type": "stream",
     "text": [
      "Epoch 65: 100%|██████████| 7/7 [00:00<00:00,  9.95it/s, loss=0.000904, v_num=0, train_loss=0.00011, train_accuracy=1.000] "
     ]
    },
    {
     "name": "stderr",
     "output_type": "stream",
     "text": [
      "[2024-12-02 20:13:01] INFO (torcheeg/MainThread) \n",
      "[Train] train_loss: 0.000 train_accuracy: 1.000 \n",
      "\n"
     ]
    },
    {
     "name": "stdout",
     "output_type": "stream",
     "text": [
      "Epoch 66: 100%|██████████| 7/7 [00:00<00:00,  9.85it/s, loss=0.000207, v_num=0, train_loss=2.58e-5, train_accuracy=1.000]"
     ]
    },
    {
     "name": "stderr",
     "output_type": "stream",
     "text": [
      "[2024-12-02 20:13:05] INFO (torcheeg/MainThread) \n",
      "[Train] train_loss: 0.000 train_accuracy: 1.000 \n",
      "\n"
     ]
    },
    {
     "name": "stdout",
     "output_type": "stream",
     "text": [
      "Epoch 67: 100%|██████████| 7/7 [00:00<00:00,  9.66it/s, loss=0.000226, v_num=0, train_loss=4.38e-5, train_accuracy=1.000]"
     ]
    },
    {
     "name": "stderr",
     "output_type": "stream",
     "text": [
      "[2024-12-02 20:13:09] INFO (torcheeg/MainThread) \n",
      "[Train] train_loss: 0.000 train_accuracy: 1.000 \n",
      "\n"
     ]
    },
    {
     "name": "stdout",
     "output_type": "stream",
     "text": [
      "Epoch 68: 100%|██████████| 7/7 [00:00<00:00,  9.91it/s, loss=0.000328, v_num=0, train_loss=1.06e-6, train_accuracy=1.000]"
     ]
    },
    {
     "name": "stderr",
     "output_type": "stream",
     "text": [
      "Metric train_loss improved by 0.000 >= min_delta = 0.0. New best score: 0.000\n"
     ]
    },
    {
     "name": "stdout",
     "output_type": "stream",
     "text": [
      "Epoch 68: 100%|██████████| 7/7 [00:00<00:00,  9.89it/s, loss=0.000328, v_num=0, train_loss=1.06e-6, train_accuracy=1.000]"
     ]
    },
    {
     "name": "stderr",
     "output_type": "stream",
     "text": [
      "[2024-12-02 20:13:14] INFO (torcheeg/MainThread) \n",
      "[Train] train_loss: 0.000 train_accuracy: 1.000 \n",
      "\n"
     ]
    },
    {
     "name": "stdout",
     "output_type": "stream",
     "text": [
      "Epoch 69: 100%|██████████| 7/7 [00:00<00:00,  9.81it/s, loss=0.00644, v_num=0, train_loss=5.71e-6, train_accuracy=1.000]  "
     ]
    },
    {
     "name": "stderr",
     "output_type": "stream",
     "text": [
      "[2024-12-02 20:13:18] INFO (torcheeg/MainThread) \n",
      "[Train] train_loss: 0.018 train_accuracy: 0.995 \n",
      "\n"
     ]
    },
    {
     "name": "stdout",
     "output_type": "stream",
     "text": [
      "Epoch 70: 100%|██████████| 7/7 [00:00<00:00,  9.85it/s, loss=0.0087, v_num=0, train_loss=1.88e-5, train_accuracy=1.000]  "
     ]
    },
    {
     "name": "stderr",
     "output_type": "stream",
     "text": [
      "[2024-12-02 20:13:23] INFO (torcheeg/MainThread) \n",
      "[Train] train_loss: 0.007 train_accuracy: 0.995 \n",
      "\n"
     ]
    },
    {
     "name": "stdout",
     "output_type": "stream",
     "text": [
      "Epoch 71: 100%|██████████| 7/7 [00:00<00:00,  9.85it/s, loss=0.0157, v_num=0, train_loss=8.58e-6, train_accuracy=1.000]  "
     ]
    },
    {
     "name": "stderr",
     "output_type": "stream",
     "text": [
      "[2024-12-02 20:13:27] INFO (torcheeg/MainThread) \n",
      "[Train] train_loss: 0.020 train_accuracy: 0.995 \n",
      "\n"
     ]
    },
    {
     "name": "stdout",
     "output_type": "stream",
     "text": [
      "Epoch 72: 100%|██████████| 7/7 [00:00<00:00,  9.82it/s, loss=0.0102, v_num=0, train_loss=6.94e-6, train_accuracy=1.000] "
     ]
    },
    {
     "name": "stderr",
     "output_type": "stream",
     "text": [
      "[2024-12-02 20:13:31] INFO (torcheeg/MainThread) \n",
      "[Train] train_loss: 0.002 train_accuracy: 1.000 \n",
      "\n"
     ]
    },
    {
     "name": "stdout",
     "output_type": "stream",
     "text": [
      "Epoch 73: 100%|██████████| 7/7 [00:00<00:00,  9.80it/s, loss=0.0123, v_num=0, train_loss=8.42e-5, train_accuracy=1.000] "
     ]
    },
    {
     "name": "stderr",
     "output_type": "stream",
     "text": [
      "[2024-12-02 20:13:36] INFO (torcheeg/MainThread) \n",
      "[Train] train_loss: 0.012 train_accuracy: 0.990 \n",
      "\n"
     ]
    },
    {
     "name": "stdout",
     "output_type": "stream",
     "text": [
      "Epoch 74: 100%|██████████| 7/7 [00:00<00:00,  9.83it/s, loss=0.0103, v_num=0, train_loss=0.0251, train_accuracy=1.000]   "
     ]
    },
    {
     "name": "stderr",
     "output_type": "stream",
     "text": [
      "[2024-12-02 20:13:40] INFO (torcheeg/MainThread) \n",
      "[Train] train_loss: 0.016 train_accuracy: 0.995 \n",
      "\n"
     ]
    },
    {
     "name": "stdout",
     "output_type": "stream",
     "text": [
      "Epoch 75: 100%|██████████| 7/7 [00:00<00:00,  9.85it/s, loss=0.0252, v_num=0, train_loss=0.0268, train_accuracy=1.000]  "
     ]
    },
    {
     "name": "stderr",
     "output_type": "stream",
     "text": [
      "[2024-12-02 20:13:44] INFO (torcheeg/MainThread) \n",
      "[Train] train_loss: 0.043 train_accuracy: 0.990 \n",
      "\n"
     ]
    },
    {
     "name": "stdout",
     "output_type": "stream",
     "text": [
      "Epoch 76: 100%|██████████| 7/7 [00:00<00:00,  9.94it/s, loss=0.0528, v_num=0, train_loss=0.000883, train_accuracy=1.000]"
     ]
    },
    {
     "name": "stderr",
     "output_type": "stream",
     "text": [
      "[2024-12-02 20:13:49] INFO (torcheeg/MainThread) \n",
      "[Train] train_loss: 0.091 train_accuracy: 0.980 \n",
      "\n"
     ]
    },
    {
     "name": "stdout",
     "output_type": "stream",
     "text": [
      "Epoch 77: 100%|██████████| 7/7 [00:00<00:00,  9.85it/s, loss=0.0743, v_num=0, train_loss=0.0786, train_accuracy=1.000]  "
     ]
    },
    {
     "name": "stderr",
     "output_type": "stream",
     "text": [
      "[2024-12-02 20:13:53] INFO (torcheeg/MainThread) \n",
      "[Train] train_loss: 0.078 train_accuracy: 0.980 \n",
      "\n"
     ]
    },
    {
     "name": "stdout",
     "output_type": "stream",
     "text": [
      "Epoch 78: 100%|██████████| 7/7 [00:00<00:00,  9.92it/s, loss=0.113, v_num=0, train_loss=0.447, train_accuracy=0.875]  "
     ]
    },
    {
     "name": "stderr",
     "output_type": "stream",
     "text": [
      "[2024-12-02 20:13:57] INFO (torcheeg/MainThread) \n",
      "[Train] train_loss: 0.156 train_accuracy: 0.965 \n",
      "\n"
     ]
    },
    {
     "name": "stdout",
     "output_type": "stream",
     "text": [
      "Epoch 79: 100%|██████████| 7/7 [00:00<00:00, 10.02it/s, loss=0.123, v_num=0, train_loss=0.365, train_accuracy=0.875]  "
     ]
    },
    {
     "name": "stderr",
     "output_type": "stream",
     "text": [
      "[2024-12-02 20:14:02] INFO (torcheeg/MainThread) \n",
      "[Train] train_loss: 0.172 train_accuracy: 0.955 \n",
      "\n"
     ]
    },
    {
     "name": "stdout",
     "output_type": "stream",
     "text": [
      "Epoch 80: 100%|██████████| 7/7 [00:00<00:00,  9.92it/s, loss=0.187, v_num=0, train_loss=0.428, train_accuracy=0.875] "
     ]
    },
    {
     "name": "stderr",
     "output_type": "stream",
     "text": [
      "[2024-12-02 20:14:06] INFO (torcheeg/MainThread) \n",
      "[Train] train_loss: 0.233 train_accuracy: 0.925 \n",
      "\n"
     ]
    },
    {
     "name": "stdout",
     "output_type": "stream",
     "text": [
      "Epoch 81: 100%|██████████| 7/7 [00:00<00:00,  9.83it/s, loss=0.29, v_num=0, train_loss=0.00481, train_accuracy=1.000]"
     ]
    },
    {
     "name": "stderr",
     "output_type": "stream",
     "text": [
      "[2024-12-02 20:14:10] INFO (torcheeg/MainThread) \n",
      "[Train] train_loss: 0.423 train_accuracy: 0.915 \n",
      "\n"
     ]
    },
    {
     "name": "stdout",
     "output_type": "stream",
     "text": [
      "Epoch 82: 100%|██████████| 7/7 [00:00<00:00,  9.81it/s, loss=0.294, v_num=0, train_loss=0.0381, train_accuracy=1.000]"
     ]
    },
    {
     "name": "stderr",
     "output_type": "stream",
     "text": [
      "[2024-12-02 20:14:15] INFO (torcheeg/MainThread) \n",
      "[Train] train_loss: 0.188 train_accuracy: 0.935 \n",
      "\n"
     ]
    },
    {
     "name": "stdout",
     "output_type": "stream",
     "text": [
      "Epoch 83: 100%|██████████| 7/7 [00:00<00:00,  9.78it/s, loss=0.244, v_num=0, train_loss=0.212, train_accuracy=0.875] "
     ]
    },
    {
     "name": "stderr",
     "output_type": "stream",
     "text": [
      "[2024-12-02 20:14:19] INFO (torcheeg/MainThread) \n",
      "[Train] train_loss: 0.136 train_accuracy: 0.955 \n",
      "\n"
     ]
    },
    {
     "name": "stdout",
     "output_type": "stream",
     "text": [
      "Epoch 84: 100%|██████████| 7/7 [00:00<00:00,  9.74it/s, loss=0.125, v_num=0, train_loss=0.00183, train_accuracy=1.000]"
     ]
    },
    {
     "name": "stderr",
     "output_type": "stream",
     "text": [
      "[2024-12-02 20:14:23] INFO (torcheeg/MainThread) \n",
      "[Train] train_loss: 0.044 train_accuracy: 0.975 \n",
      "\n"
     ]
    },
    {
     "name": "stdout",
     "output_type": "stream",
     "text": [
      "Epoch 85: 100%|██████████| 7/7 [00:00<00:00,  9.87it/s, loss=0.0844, v_num=0, train_loss=0.000867, train_accuracy=1.000]"
     ]
    },
    {
     "name": "stderr",
     "output_type": "stream",
     "text": [
      "[2024-12-02 20:14:28] INFO (torcheeg/MainThread) \n",
      "[Train] train_loss: 0.082 train_accuracy: 0.980 \n",
      "\n"
     ]
    },
    {
     "name": "stdout",
     "output_type": "stream",
     "text": [
      "Epoch 86: 100%|██████████| 7/7 [00:00<00:00,  9.87it/s, loss=0.0641, v_num=0, train_loss=0.00113, train_accuracy=1.000] "
     ]
    },
    {
     "name": "stderr",
     "output_type": "stream",
     "text": [
      "[2024-12-02 20:14:32] INFO (torcheeg/MainThread) \n",
      "[Train] train_loss: 0.061 train_accuracy: 0.980 \n",
      "\n"
     ]
    },
    {
     "name": "stdout",
     "output_type": "stream",
     "text": [
      "Epoch 87: 100%|██████████| 7/7 [00:00<00:00,  9.88it/s, loss=0.0535, v_num=0, train_loss=0.00253, train_accuracy=1.000]"
     ]
    },
    {
     "name": "stderr",
     "output_type": "stream",
     "text": [
      "[2024-12-02 20:14:36] INFO (torcheeg/MainThread) \n",
      "[Train] train_loss: 0.011 train_accuracy: 1.000 \n",
      "\n"
     ]
    },
    {
     "name": "stdout",
     "output_type": "stream",
     "text": [
      "Epoch 88: 100%|██████████| 7/7 [00:00<00:00, 10.02it/s, loss=0.0163, v_num=0, train_loss=0.0105, train_accuracy=1.000] "
     ]
    },
    {
     "name": "stderr",
     "output_type": "stream",
     "text": [
      "Monitored metric train_loss did not improve in the last 20 records. Best score: 0.000. Signaling Trainer to stop.\n"
     ]
    },
    {
     "name": "stdout",
     "output_type": "stream",
     "text": [
      "Epoch 88: 100%|██████████| 7/7 [00:00<00:00,  9.99it/s, loss=0.0163, v_num=0, train_loss=0.0105, train_accuracy=1.000]"
     ]
    },
    {
     "name": "stderr",
     "output_type": "stream",
     "text": [
      "[2024-12-02 20:14:41] INFO (torcheeg/MainThread) \n",
      "[Train] train_loss: 0.004 train_accuracy: 1.000 \n",
      "\n"
     ]
    },
    {
     "name": "stdout",
     "output_type": "stream",
     "text": [
      "Epoch 88: 100%|██████████| 7/7 [00:04<00:00,  1.66it/s, loss=0.0163, v_num=0, train_loss=0.0105, train_accuracy=1.000]\n"
     ]
    },
    {
     "name": "stderr",
     "output_type": "stream",
     "text": [
      "GPU available: True (cuda), used: True\n",
      "TPU available: False, using: 0 TPU cores\n",
      "IPU available: False, using: 0 IPUs\n",
      "HPU available: False, using: 0 HPUs\n",
      "LOCAL_RANK: 0 - CUDA_VISIBLE_DEVICES: [0]\n",
      "/root/autodl-tmp/conda/envs/law/lib/python3.8/site-packages/pytorch_lightning/trainer/connectors/data_connector.py:224: PossibleUserWarning: The dataloader, test_dataloader 0, does not have many workers which may be a bottleneck. Consider increasing the value of the `num_workers` argument` (try 128 which is the number of cpus on this machine) in the `DataLoader` init to improve performance.\n",
      "  rank_zero_warn(\n"
     ]
    },
    {
     "name": "stdout",
     "output_type": "stream",
     "text": [
      "Testing DataLoader 0: 100%|██████████| 3/3 [00:00<00:00, 38.95it/s]"
     ]
    },
    {
     "name": "stderr",
     "output_type": "stream",
     "text": [
      "[2024-12-02 20:14:42] INFO (torcheeg/MainThread) \n",
      "[Test] test_loss: 1.220 test_accuracy: 0.712 \n",
      "\n"
     ]
    },
    {
     "name": "stdout",
     "output_type": "stream",
     "text": [
      "Testing DataLoader 0: 100%|██████████| 3/3 [00:00<00:00, 36.33it/s]\n",
      "────────────────────────────────────────────────────────────────────────────────────────────────────────────────────────\n",
      "       Test metric             DataLoader 0\n",
      "────────────────────────────────────────────────────────────────────────────────────────────────────────────────────────\n",
      "      test_accuracy         0.7124999761581421\n",
      "        test_loss            1.220274806022644\n",
      "────────────────────────────────────────────────────────────────────────────────────────────────────────────────────────\n",
      "已删除文件夹: /root/autodl-tmp/.autodl/kinlaw/mi_swin/lightning_logs\n"
     ]
    },
    {
     "name": "stderr",
     "output_type": "stream",
     "text": [
      "GPU available: True (cuda), used: True\n",
      "TPU available: False, using: 0 TPU cores\n",
      "IPU available: False, using: 0 IPUs\n",
      "HPU available: False, using: 0 HPUs\n",
      "Missing logger folder: /root/autodl-tmp/.autodl/kinlaw/mi_swin/lightning_logs\n",
      "LOCAL_RANK: 0 - CUDA_VISIBLE_DEVICES: [0]\n",
      "/root/autodl-tmp/conda/envs/law/lib/python3.8/site-packages/pytorch_lightning/trainer/connectors/data_connector.py:224: PossibleUserWarning: The dataloader, train_dataloader, does not have many workers which may be a bottleneck. Consider increasing the value of the `num_workers` argument` (try 128 which is the number of cpus on this machine) in the `DataLoader` init to improve performance.\n",
      "  rank_zero_warn(\n",
      "/root/autodl-tmp/conda/envs/law/lib/python3.8/site-packages/pytorch_lightning/trainer/trainer.py:1609: PossibleUserWarning: The number of training batches (7) is smaller than the logging interval Trainer(log_every_n_steps=50). Set a lower value for log_every_n_steps if you want to see logs for the training epoch.\n",
      "  rank_zero_warn(\n"
     ]
    },
    {
     "name": "stdout",
     "output_type": "stream",
     "text": [
      "Epoch 0: 100%|██████████| 7/7 [00:00<00:00,  9.60it/s, loss=2.28, v_num=0, train_loss=1.980, train_accuracy=0.250] "
     ]
    },
    {
     "name": "stderr",
     "output_type": "stream",
     "text": [
      "Metric train_loss improved. New best score: 1.983\n"
     ]
    },
    {
     "name": "stdout",
     "output_type": "stream",
     "text": [
      "Epoch 0: 100%|██████████| 7/7 [00:00<00:00,  9.57it/s, loss=2.28, v_num=0, train_loss=1.980, train_accuracy=0.250]"
     ]
    },
    {
     "name": "stderr",
     "output_type": "stream",
     "text": [
      "[2024-12-02 20:14:49] INFO (torcheeg/MainThread) \n",
      "[Train] train_loss: 2.276 train_accuracy: 0.525 \n",
      "\n"
     ]
    },
    {
     "name": "stdout",
     "output_type": "stream",
     "text": [
      "Epoch 1: 100%|██████████| 7/7 [00:00<00:00,  9.92it/s, loss=1.53, v_num=0, train_loss=0.800, train_accuracy=0.625]"
     ]
    },
    {
     "name": "stderr",
     "output_type": "stream",
     "text": [
      "Metric train_loss improved by 1.184 >= min_delta = 0.0. New best score: 0.800\n"
     ]
    },
    {
     "name": "stdout",
     "output_type": "stream",
     "text": [
      "Epoch 1: 100%|██████████| 7/7 [00:00<00:00,  9.90it/s, loss=1.53, v_num=0, train_loss=0.800, train_accuracy=0.625]"
     ]
    },
    {
     "name": "stderr",
     "output_type": "stream",
     "text": [
      "[2024-12-02 20:14:53] INFO (torcheeg/MainThread) \n",
      "[Train] train_loss: 0.786 train_accuracy: 0.695 \n",
      "\n"
     ]
    },
    {
     "name": "stdout",
     "output_type": "stream",
     "text": [
      "Epoch 2: 100%|██████████| 7/7 [00:00<00:00,  9.84it/s, loss=1.3, v_num=0, train_loss=1.320, train_accuracy=0.500] "
     ]
    },
    {
     "name": "stderr",
     "output_type": "stream",
     "text": [
      "[2024-12-02 20:14:58] INFO (torcheeg/MainThread) \n",
      "[Train] train_loss: 0.735 train_accuracy: 0.675 \n",
      "\n"
     ]
    },
    {
     "name": "stdout",
     "output_type": "stream",
     "text": [
      "Epoch 3: 100%|██████████| 7/7 [00:00<00:00,  9.84it/s, loss=0.631, v_num=0, train_loss=0.251, train_accuracy=0.875]"
     ]
    },
    {
     "name": "stderr",
     "output_type": "stream",
     "text": [
      "Metric train_loss improved by 0.548 >= min_delta = 0.0. New best score: 0.251\n"
     ]
    },
    {
     "name": "stdout",
     "output_type": "stream",
     "text": [
      "Epoch 3: 100%|██████████| 7/7 [00:00<00:00,  9.82it/s, loss=0.631, v_num=0, train_loss=0.251, train_accuracy=0.875]"
     ]
    },
    {
     "name": "stderr",
     "output_type": "stream",
     "text": [
      "[2024-12-02 20:15:02] INFO (torcheeg/MainThread) \n",
      "[Train] train_loss: 0.340 train_accuracy: 0.875 \n",
      "\n"
     ]
    },
    {
     "name": "stdout",
     "output_type": "stream",
     "text": [
      "Epoch 4: 100%|██████████| 7/7 [00:00<00:00,  9.80it/s, loss=0.434, v_num=0, train_loss=0.0766, train_accuracy=1.000]"
     ]
    },
    {
     "name": "stderr",
     "output_type": "stream",
     "text": [
      "Metric train_loss improved by 0.175 >= min_delta = 0.0. New best score: 0.077\n"
     ]
    },
    {
     "name": "stdout",
     "output_type": "stream",
     "text": [
      "Epoch 4: 100%|██████████| 7/7 [00:00<00:00,  9.78it/s, loss=0.434, v_num=0, train_loss=0.0766, train_accuracy=1.000]"
     ]
    },
    {
     "name": "stderr",
     "output_type": "stream",
     "text": [
      "[2024-12-02 20:15:07] INFO (torcheeg/MainThread) \n",
      "[Train] train_loss: 0.254 train_accuracy: 0.885 \n",
      "\n"
     ]
    },
    {
     "name": "stdout",
     "output_type": "stream",
     "text": [
      "Epoch 5: 100%|██████████| 7/7 [00:00<00:00,  9.85it/s, loss=0.236, v_num=0, train_loss=0.0888, train_accuracy=1.000]"
     ]
    },
    {
     "name": "stderr",
     "output_type": "stream",
     "text": [
      "[2024-12-02 20:15:12] INFO (torcheeg/MainThread) \n",
      "[Train] train_loss: 0.125 train_accuracy: 0.930 \n",
      "\n"
     ]
    },
    {
     "name": "stdout",
     "output_type": "stream",
     "text": [
      "Epoch 6: 100%|██████████| 7/7 [00:00<00:00,  9.85it/s, loss=0.15, v_num=0, train_loss=0.0164, train_accuracy=1.000] "
     ]
    },
    {
     "name": "stderr",
     "output_type": "stream",
     "text": [
      "Metric train_loss improved by 0.060 >= min_delta = 0.0. New best score: 0.016\n"
     ]
    },
    {
     "name": "stdout",
     "output_type": "stream",
     "text": [
      "Epoch 6: 100%|██████████| 7/7 [00:00<00:00,  9.82it/s, loss=0.15, v_num=0, train_loss=0.0164, train_accuracy=1.000]"
     ]
    },
    {
     "name": "stderr",
     "output_type": "stream",
     "text": [
      "[2024-12-02 20:15:16] INFO (torcheeg/MainThread) \n",
      "[Train] train_loss: 0.094 train_accuracy: 0.965 \n",
      "\n"
     ]
    },
    {
     "name": "stdout",
     "output_type": "stream",
     "text": [
      "Epoch 7: 100%|██████████| 7/7 [00:00<00:00,  9.87it/s, loss=0.0952, v_num=0, train_loss=0.00147, train_accuracy=1.000]"
     ]
    },
    {
     "name": "stderr",
     "output_type": "stream",
     "text": [
      "Metric train_loss improved by 0.015 >= min_delta = 0.0. New best score: 0.001\n"
     ]
    },
    {
     "name": "stdout",
     "output_type": "stream",
     "text": [
      "Epoch 7: 100%|██████████| 7/7 [00:00<00:00,  9.85it/s, loss=0.0952, v_num=0, train_loss=0.00147, train_accuracy=1.000]"
     ]
    },
    {
     "name": "stderr",
     "output_type": "stream",
     "text": [
      "[2024-12-02 20:15:21] INFO (torcheeg/MainThread) \n",
      "[Train] train_loss: 0.060 train_accuracy: 0.985 \n",
      "\n"
     ]
    },
    {
     "name": "stdout",
     "output_type": "stream",
     "text": [
      "Epoch 8: 100%|██████████| 7/7 [00:00<00:00, 10.01it/s, loss=0.0656, v_num=0, train_loss=0.000992, train_accuracy=1.000]"
     ]
    },
    {
     "name": "stderr",
     "output_type": "stream",
     "text": [
      "Metric train_loss improved by 0.000 >= min_delta = 0.0. New best score: 0.001\n"
     ]
    },
    {
     "name": "stdout",
     "output_type": "stream",
     "text": [
      "Epoch 8: 100%|██████████| 7/7 [00:00<00:00,  9.98it/s, loss=0.0656, v_num=0, train_loss=0.000992, train_accuracy=1.000]"
     ]
    },
    {
     "name": "stderr",
     "output_type": "stream",
     "text": [
      "[2024-12-02 20:15:25] INFO (torcheeg/MainThread) \n",
      "[Train] train_loss: 0.042 train_accuracy: 0.985 \n",
      "\n"
     ]
    },
    {
     "name": "stdout",
     "output_type": "stream",
     "text": [
      "Epoch 9: 100%|██████████| 7/7 [00:00<00:00,  9.92it/s, loss=0.0443, v_num=0, train_loss=0.00135, train_accuracy=1.000] "
     ]
    },
    {
     "name": "stderr",
     "output_type": "stream",
     "text": [
      "[2024-12-02 20:15:29] INFO (torcheeg/MainThread) \n",
      "[Train] train_loss: 0.026 train_accuracy: 0.985 \n",
      "\n"
     ]
    },
    {
     "name": "stdout",
     "output_type": "stream",
     "text": [
      "Epoch 10: 100%|██████████| 7/7 [00:00<00:00,  9.86it/s, loss=0.0249, v_num=0, train_loss=0.00184, train_accuracy=1.000]"
     ]
    },
    {
     "name": "stderr",
     "output_type": "stream",
     "text": [
      "[2024-12-02 20:15:34] INFO (torcheeg/MainThread) \n",
      "[Train] train_loss: 0.005 train_accuracy: 1.000 \n",
      "\n"
     ]
    },
    {
     "name": "stdout",
     "output_type": "stream",
     "text": [
      "Epoch 11: 100%|██████████| 7/7 [00:00<00:00,  9.87it/s, loss=0.0146, v_num=0, train_loss=0.000939, train_accuracy=1.000]"
     ]
    },
    {
     "name": "stderr",
     "output_type": "stream",
     "text": [
      "Metric train_loss improved by 0.000 >= min_delta = 0.0. New best score: 0.001\n"
     ]
    },
    {
     "name": "stdout",
     "output_type": "stream",
     "text": [
      "Epoch 11: 100%|██████████| 7/7 [00:00<00:00,  9.84it/s, loss=0.0146, v_num=0, train_loss=0.000939, train_accuracy=1.000]"
     ]
    },
    {
     "name": "stderr",
     "output_type": "stream",
     "text": [
      "[2024-12-02 20:15:38] INFO (torcheeg/MainThread) \n",
      "[Train] train_loss: 0.012 train_accuracy: 0.995 \n",
      "\n"
     ]
    },
    {
     "name": "stdout",
     "output_type": "stream",
     "text": [
      "Epoch 12: 100%|██████████| 7/7 [00:00<00:00,  9.92it/s, loss=0.00704, v_num=0, train_loss=0.00829, train_accuracy=1.000] "
     ]
    },
    {
     "name": "stderr",
     "output_type": "stream",
     "text": [
      "[2024-12-02 20:15:42] INFO (torcheeg/MainThread) \n",
      "[Train] train_loss: 0.004 train_accuracy: 1.000 \n",
      "\n"
     ]
    },
    {
     "name": "stdout",
     "output_type": "stream",
     "text": [
      "Epoch 13: 100%|██████████| 7/7 [00:00<00:00,  9.81it/s, loss=0.00625, v_num=0, train_loss=0.00604, train_accuracy=1.000] "
     ]
    },
    {
     "name": "stderr",
     "output_type": "stream",
     "text": [
      "[2024-12-02 20:15:47] INFO (torcheeg/MainThread) \n",
      "[Train] train_loss: 0.003 train_accuracy: 1.000 \n",
      "\n"
     ]
    },
    {
     "name": "stdout",
     "output_type": "stream",
     "text": [
      "Epoch 14: 100%|██████████| 7/7 [00:00<00:00,  9.62it/s, loss=0.00538, v_num=0, train_loss=0.000394, train_accuracy=1.000]"
     ]
    },
    {
     "name": "stderr",
     "output_type": "stream",
     "text": [
      "Metric train_loss improved by 0.001 >= min_delta = 0.0. New best score: 0.000\n"
     ]
    },
    {
     "name": "stdout",
     "output_type": "stream",
     "text": [
      "Epoch 14: 100%|██████████| 7/7 [00:00<00:00,  9.60it/s, loss=0.00538, v_num=0, train_loss=0.000394, train_accuracy=1.000]"
     ]
    },
    {
     "name": "stderr",
     "output_type": "stream",
     "text": [
      "[2024-12-02 20:15:51] INFO (torcheeg/MainThread) \n",
      "[Train] train_loss: 0.009 train_accuracy: 0.995 \n",
      "\n"
     ]
    },
    {
     "name": "stdout",
     "output_type": "stream",
     "text": [
      "Epoch 15: 100%|██████████| 7/7 [00:00<00:00,  9.80it/s, loss=0.0118, v_num=0, train_loss=0.000789, train_accuracy=1.000] "
     ]
    },
    {
     "name": "stderr",
     "output_type": "stream",
     "text": [
      "[2024-12-02 20:15:55] INFO (torcheeg/MainThread) \n",
      "[Train] train_loss: 0.022 train_accuracy: 0.990 \n",
      "\n"
     ]
    },
    {
     "name": "stdout",
     "output_type": "stream",
     "text": [
      "Epoch 16: 100%|██████████| 7/7 [00:00<00:00,  9.78it/s, loss=0.0148, v_num=0, train_loss=0.000632, train_accuracy=1.000]"
     ]
    },
    {
     "name": "stderr",
     "output_type": "stream",
     "text": [
      "[2024-12-02 20:16:00] INFO (torcheeg/MainThread) \n",
      "[Train] train_loss: 0.011 train_accuracy: 0.995 \n",
      "\n"
     ]
    },
    {
     "name": "stdout",
     "output_type": "stream",
     "text": [
      "Epoch 17: 100%|██████████| 7/7 [00:00<00:00,  9.76it/s, loss=0.0559, v_num=0, train_loss=0.209, train_accuracy=0.875]   "
     ]
    },
    {
     "name": "stderr",
     "output_type": "stream",
     "text": [
      "[2024-12-02 20:16:04] INFO (torcheeg/MainThread) \n",
      "[Train] train_loss: 0.127 train_accuracy: 0.975 \n",
      "\n"
     ]
    },
    {
     "name": "stdout",
     "output_type": "stream",
     "text": [
      "Epoch 18: 100%|██████████| 7/7 [00:00<00:00,  9.80it/s, loss=0.0538, v_num=0, train_loss=0.00669, train_accuracy=1.000]"
     ]
    },
    {
     "name": "stderr",
     "output_type": "stream",
     "text": [
      "[2024-12-02 20:16:08] INFO (torcheeg/MainThread) \n",
      "[Train] train_loss: 0.016 train_accuracy: 0.995 \n",
      "\n"
     ]
    },
    {
     "name": "stdout",
     "output_type": "stream",
     "text": [
      "Epoch 19: 100%|██████████| 7/7 [00:00<00:00,  9.84it/s, loss=0.0672, v_num=0, train_loss=0.000507, train_accuracy=1.000]"
     ]
    },
    {
     "name": "stderr",
     "output_type": "stream",
     "text": [
      "[2024-12-02 20:16:13] INFO (torcheeg/MainThread) \n",
      "[Train] train_loss: 0.049 train_accuracy: 0.980 \n",
      "\n"
     ]
    },
    {
     "name": "stdout",
     "output_type": "stream",
     "text": [
      "Epoch 20: 100%|██████████| 7/7 [00:00<00:00,  9.98it/s, loss=0.0309, v_num=0, train_loss=0.00144, train_accuracy=1.000] "
     ]
    },
    {
     "name": "stderr",
     "output_type": "stream",
     "text": [
      "[2024-12-02 20:16:17] INFO (torcheeg/MainThread) \n",
      "[Train] train_loss: 0.024 train_accuracy: 0.995 \n",
      "\n"
     ]
    },
    {
     "name": "stdout",
     "output_type": "stream",
     "text": [
      "Epoch 21: 100%|██████████| 7/7 [00:00<00:00,  9.81it/s, loss=0.0678, v_num=0, train_loss=0.943, train_accuracy=0.875]   "
     ]
    },
    {
     "name": "stderr",
     "output_type": "stream",
     "text": [
      "[2024-12-02 20:16:21] INFO (torcheeg/MainThread) \n",
      "[Train] train_loss: 0.151 train_accuracy: 0.990 \n",
      "\n"
     ]
    },
    {
     "name": "stdout",
     "output_type": "stream",
     "text": [
      "Epoch 22: 100%|██████████| 7/7 [00:00<00:00,  9.92it/s, loss=0.159, v_num=0, train_loss=0.453, train_accuracy=0.875]  "
     ]
    },
    {
     "name": "stderr",
     "output_type": "stream",
     "text": [
      "[2024-12-02 20:16:26] INFO (torcheeg/MainThread) \n",
      "[Train] train_loss: 0.285 train_accuracy: 0.940 \n",
      "\n"
     ]
    },
    {
     "name": "stdout",
     "output_type": "stream",
     "text": [
      "Epoch 23: 100%|██████████| 7/7 [00:00<00:00,  9.87it/s, loss=0.223, v_num=0, train_loss=0.294, train_accuracy=0.875] "
     ]
    },
    {
     "name": "stderr",
     "output_type": "stream",
     "text": [
      "[2024-12-02 20:16:30] INFO (torcheeg/MainThread) \n",
      "[Train] train_loss: 0.203 train_accuracy: 0.925 \n",
      "\n"
     ]
    },
    {
     "name": "stdout",
     "output_type": "stream",
     "text": [
      "Epoch 24: 100%|██████████| 7/7 [00:00<00:00,  9.83it/s, loss=0.198, v_num=0, train_loss=0.0281, train_accuracy=1.000]"
     ]
    },
    {
     "name": "stderr",
     "output_type": "stream",
     "text": [
      "[2024-12-02 20:16:34] INFO (torcheeg/MainThread) \n",
      "[Train] train_loss: 0.078 train_accuracy: 0.975 \n",
      "\n"
     ]
    },
    {
     "name": "stdout",
     "output_type": "stream",
     "text": [
      "Epoch 25: 100%|██████████| 7/7 [00:00<00:00,  9.88it/s, loss=0.0945, v_num=0, train_loss=0.0204, train_accuracy=1.000]"
     ]
    },
    {
     "name": "stderr",
     "output_type": "stream",
     "text": [
      "[2024-12-02 20:16:39] INFO (torcheeg/MainThread) \n",
      "[Train] train_loss: 0.039 train_accuracy: 0.980 \n",
      "\n"
     ]
    },
    {
     "name": "stdout",
     "output_type": "stream",
     "text": [
      "Epoch 26: 100%|██████████| 7/7 [00:00<00:00,  9.77it/s, loss=0.0646, v_num=0, train_loss=0.264, train_accuracy=0.875]  "
     ]
    },
    {
     "name": "stderr",
     "output_type": "stream",
     "text": [
      "[2024-12-02 20:16:43] INFO (torcheeg/MainThread) \n",
      "[Train] train_loss: 0.080 train_accuracy: 0.975 \n",
      "\n"
     ]
    },
    {
     "name": "stdout",
     "output_type": "stream",
     "text": [
      "Epoch 27: 100%|██████████| 7/7 [00:00<00:00,  9.88it/s, loss=0.109, v_num=0, train_loss=0.0102, train_accuracy=1.000]"
     ]
    },
    {
     "name": "stderr",
     "output_type": "stream",
     "text": [
      "[2024-12-02 20:16:47] INFO (torcheeg/MainThread) \n",
      "[Train] train_loss: 0.208 train_accuracy: 0.955 \n",
      "\n"
     ]
    },
    {
     "name": "stdout",
     "output_type": "stream",
     "text": [
      "Epoch 28: 100%|██████████| 7/7 [00:00<00:00,  9.78it/s, loss=0.162, v_num=0, train_loss=0.000682, train_accuracy=1.000]"
     ]
    },
    {
     "name": "stderr",
     "output_type": "stream",
     "text": [
      "[2024-12-02 20:16:52] INFO (torcheeg/MainThread) \n",
      "[Train] train_loss: 0.177 train_accuracy: 0.935 \n",
      "\n"
     ]
    },
    {
     "name": "stdout",
     "output_type": "stream",
     "text": [
      "Epoch 29: 100%|██████████| 7/7 [00:00<00:00,  9.82it/s, loss=0.198, v_num=0, train_loss=0.0659, train_accuracy=1.000]  "
     ]
    },
    {
     "name": "stderr",
     "output_type": "stream",
     "text": [
      "[2024-12-02 20:16:56] INFO (torcheeg/MainThread) \n",
      "[Train] train_loss: 0.193 train_accuracy: 0.930 \n",
      "\n"
     ]
    },
    {
     "name": "stdout",
     "output_type": "stream",
     "text": [
      "Epoch 30: 100%|██████████| 7/7 [00:00<00:00,  9.72it/s, loss=0.164, v_num=0, train_loss=0.0385, train_accuracy=1.000]"
     ]
    },
    {
     "name": "stderr",
     "output_type": "stream",
     "text": [
      "[2024-12-02 20:17:00] INFO (torcheeg/MainThread) \n",
      "[Train] train_loss: 0.107 train_accuracy: 0.960 \n",
      "\n"
     ]
    },
    {
     "name": "stdout",
     "output_type": "stream",
     "text": [
      "Epoch 31: 100%|██████████| 7/7 [00:00<00:00,  9.66it/s, loss=0.1, v_num=0, train_loss=0.00176, train_accuracy=1.000]  "
     ]
    },
    {
     "name": "stderr",
     "output_type": "stream",
     "text": [
      "[2024-12-02 20:17:05] INFO (torcheeg/MainThread) \n",
      "[Train] train_loss: 0.028 train_accuracy: 0.990 \n",
      "\n"
     ]
    },
    {
     "name": "stdout",
     "output_type": "stream",
     "text": [
      "Epoch 32: 100%|██████████| 7/7 [00:00<00:00,  9.90it/s, loss=0.0625, v_num=0, train_loss=0.00207, train_accuracy=1.000]"
     ]
    },
    {
     "name": "stderr",
     "output_type": "stream",
     "text": [
      "[2024-12-02 20:17:09] INFO (torcheeg/MainThread) \n",
      "[Train] train_loss: 0.055 train_accuracy: 0.975 \n",
      "\n"
     ]
    },
    {
     "name": "stdout",
     "output_type": "stream",
     "text": [
      "Epoch 33: 100%|██████████| 7/7 [00:00<00:00,  9.70it/s, loss=0.0433, v_num=0, train_loss=0.114, train_accuracy=0.875]  "
     ]
    },
    {
     "name": "stderr",
     "output_type": "stream",
     "text": [
      "[2024-12-02 20:17:13] INFO (torcheeg/MainThread) \n",
      "[Train] train_loss: 0.042 train_accuracy: 0.980 \n",
      "\n"
     ]
    },
    {
     "name": "stdout",
     "output_type": "stream",
     "text": [
      "Epoch 34: 100%|██████████| 7/7 [00:00<00:00, 10.02it/s, loss=0.0389, v_num=0, train_loss=0.000783, train_accuracy=1.000]"
     ]
    },
    {
     "name": "stderr",
     "output_type": "stream",
     "text": [
      "Monitored metric train_loss did not improve in the last 20 records. Best score: 0.000. Signaling Trainer to stop.\n"
     ]
    },
    {
     "name": "stdout",
     "output_type": "stream",
     "text": [
      "Epoch 34: 100%|██████████| 7/7 [00:00<00:00,  9.99it/s, loss=0.0389, v_num=0, train_loss=0.000783, train_accuracy=1.000]"
     ]
    },
    {
     "name": "stderr",
     "output_type": "stream",
     "text": [
      "[2024-12-02 20:17:18] INFO (torcheeg/MainThread) \n",
      "[Train] train_loss: 0.016 train_accuracy: 0.995 \n",
      "\n"
     ]
    },
    {
     "name": "stdout",
     "output_type": "stream",
     "text": [
      "Epoch 34: 100%|██████████| 7/7 [00:04<00:00,  1.61it/s, loss=0.0389, v_num=0, train_loss=0.000783, train_accuracy=1.000]\n"
     ]
    },
    {
     "name": "stderr",
     "output_type": "stream",
     "text": [
      "GPU available: True (cuda), used: True\n",
      "TPU available: False, using: 0 TPU cores\n",
      "IPU available: False, using: 0 IPUs\n",
      "HPU available: False, using: 0 HPUs\n",
      "LOCAL_RANK: 0 - CUDA_VISIBLE_DEVICES: [0]\n",
      "/root/autodl-tmp/conda/envs/law/lib/python3.8/site-packages/pytorch_lightning/trainer/connectors/data_connector.py:224: PossibleUserWarning: The dataloader, test_dataloader 0, does not have many workers which may be a bottleneck. Consider increasing the value of the `num_workers` argument` (try 128 which is the number of cpus on this machine) in the `DataLoader` init to improve performance.\n",
      "  rank_zero_warn(\n"
     ]
    },
    {
     "name": "stdout",
     "output_type": "stream",
     "text": [
      "Testing DataLoader 0: 100%|██████████| 3/3 [00:00<00:00, 37.77it/s]"
     ]
    },
    {
     "name": "stderr",
     "output_type": "stream",
     "text": [
      "[2024-12-02 20:17:19] INFO (torcheeg/MainThread) \n",
      "[Test] test_loss: 2.450 test_accuracy: 0.575 \n",
      "\n"
     ]
    },
    {
     "name": "stdout",
     "output_type": "stream",
     "text": [
      "Testing DataLoader 0: 100%|██████████| 3/3 [00:00<00:00, 35.31it/s]\n",
      "────────────────────────────────────────────────────────────────────────────────────────────────────────────────────────\n",
      "       Test metric             DataLoader 0\n",
      "────────────────────────────────────────────────────────────────────────────────────────────────────────────────────────\n",
      "      test_accuracy          0.574999988079071\n",
      "        test_loss           2.4504899978637695\n",
      "────────────────────────────────────────────────────────────────────────────────────────────────────────────────────────\n",
      "已删除文件夹: /root/autodl-tmp/.autodl/kinlaw/mi_swin/lightning_logs\n"
     ]
    },
    {
     "name": "stderr",
     "output_type": "stream",
     "text": [
      "GPU available: True (cuda), used: True\n",
      "TPU available: False, using: 0 TPU cores\n",
      "IPU available: False, using: 0 IPUs\n",
      "HPU available: False, using: 0 HPUs\n",
      "Missing logger folder: /root/autodl-tmp/.autodl/kinlaw/mi_swin/lightning_logs\n",
      "LOCAL_RANK: 0 - CUDA_VISIBLE_DEVICES: [0]\n",
      "/root/autodl-tmp/conda/envs/law/lib/python3.8/site-packages/pytorch_lightning/trainer/connectors/data_connector.py:224: PossibleUserWarning: The dataloader, train_dataloader, does not have many workers which may be a bottleneck. Consider increasing the value of the `num_workers` argument` (try 128 which is the number of cpus on this machine) in the `DataLoader` init to improve performance.\n",
      "  rank_zero_warn(\n",
      "/root/autodl-tmp/conda/envs/law/lib/python3.8/site-packages/pytorch_lightning/trainer/trainer.py:1609: PossibleUserWarning: The number of training batches (8) is smaller than the logging interval Trainer(log_every_n_steps=50). Set a lower value for log_every_n_steps if you want to see logs for the training epoch.\n",
      "  rank_zero_warn(\n"
     ]
    },
    {
     "name": "stdout",
     "output_type": "stream",
     "text": [
      "Epoch 0: 100%|██████████| 8/8 [00:00<00:00,  9.57it/s, loss=2.05, v_num=0, train_loss=0.909, train_accuracy=0.562]"
     ]
    },
    {
     "name": "stderr",
     "output_type": "stream",
     "text": [
      "Metric train_loss improved. New best score: 0.909\n"
     ]
    },
    {
     "name": "stdout",
     "output_type": "stream",
     "text": [
      "Epoch 0: 100%|██████████| 8/8 [00:00<00:00,  9.55it/s, loss=2.05, v_num=0, train_loss=0.909, train_accuracy=0.562]"
     ]
    },
    {
     "name": "stderr",
     "output_type": "stream",
     "text": [
      "[2024-12-02 20:17:26] INFO (torcheeg/MainThread) \n",
      "[Train] train_loss: 2.052 train_accuracy: 0.471 \n",
      "\n"
     ]
    },
    {
     "name": "stdout",
     "output_type": "stream",
     "text": [
      "Epoch 1: 100%|██████████| 8/8 [00:00<00:00,  9.86it/s, loss=1.41, v_num=0, train_loss=1.070, train_accuracy=0.438]"
     ]
    },
    {
     "name": "stderr",
     "output_type": "stream",
     "text": [
      "[2024-12-02 20:17:30] INFO (torcheeg/MainThread) \n",
      "[Train] train_loss: 0.759 train_accuracy: 0.613 \n",
      "\n"
     ]
    },
    {
     "name": "stdout",
     "output_type": "stream",
     "text": [
      "Epoch 2: 100%|██████████| 8/8 [00:00<00:00,  9.85it/s, loss=0.935, v_num=0, train_loss=0.348, train_accuracy=0.875]"
     ]
    },
    {
     "name": "stderr",
     "output_type": "stream",
     "text": [
      "Metric train_loss improved by 0.560 >= min_delta = 0.0. New best score: 0.348\n"
     ]
    },
    {
     "name": "stdout",
     "output_type": "stream",
     "text": [
      "Epoch 2: 100%|██████████| 8/8 [00:00<00:00,  9.82it/s, loss=0.935, v_num=0, train_loss=0.348, train_accuracy=0.875]"
     ]
    },
    {
     "name": "stderr",
     "output_type": "stream",
     "text": [
      "[2024-12-02 20:17:35] INFO (torcheeg/MainThread) \n",
      "[Train] train_loss: 0.600 train_accuracy: 0.663 \n",
      "\n"
     ]
    },
    {
     "name": "stdout",
     "output_type": "stream",
     "text": [
      "Epoch 3: 100%|██████████| 8/8 [00:00<00:00,  9.82it/s, loss=0.547, v_num=0, train_loss=0.307, train_accuracy=0.875]"
     ]
    },
    {
     "name": "stderr",
     "output_type": "stream",
     "text": [
      "Metric train_loss improved by 0.042 >= min_delta = 0.0. New best score: 0.307\n"
     ]
    },
    {
     "name": "stdout",
     "output_type": "stream",
     "text": [
      "Epoch 3: 100%|██████████| 8/8 [00:00<00:00,  9.80it/s, loss=0.547, v_num=0, train_loss=0.307, train_accuracy=0.875]"
     ]
    },
    {
     "name": "stderr",
     "output_type": "stream",
     "text": [
      "[2024-12-02 20:17:39] INFO (torcheeg/MainThread) \n",
      "[Train] train_loss: 0.362 train_accuracy: 0.863 \n",
      "\n"
     ]
    },
    {
     "name": "stdout",
     "output_type": "stream",
     "text": [
      "Epoch 4: 100%|██████████| 8/8 [00:00<00:00,  9.88it/s, loss=0.359, v_num=0, train_loss=0.0468, train_accuracy=1.000]"
     ]
    },
    {
     "name": "stderr",
     "output_type": "stream",
     "text": [
      "Metric train_loss improved by 0.260 >= min_delta = 0.0. New best score: 0.047\n"
     ]
    },
    {
     "name": "stdout",
     "output_type": "stream",
     "text": [
      "Epoch 4: 100%|██████████| 8/8 [00:00<00:00,  9.86it/s, loss=0.359, v_num=0, train_loss=0.0468, train_accuracy=1.000]"
     ]
    },
    {
     "name": "stderr",
     "output_type": "stream",
     "text": [
      "[2024-12-02 20:17:44] INFO (torcheeg/MainThread) \n",
      "[Train] train_loss: 0.258 train_accuracy: 0.879 \n",
      "\n"
     ]
    },
    {
     "name": "stdout",
     "output_type": "stream",
     "text": [
      "Epoch 5: 100%|██████████| 8/8 [00:00<00:00,  9.68it/s, loss=0.202, v_num=0, train_loss=0.0345, train_accuracy=1.000]"
     ]
    },
    {
     "name": "stderr",
     "output_type": "stream",
     "text": [
      "Metric train_loss improved by 0.012 >= min_delta = 0.0. New best score: 0.035\n"
     ]
    },
    {
     "name": "stdout",
     "output_type": "stream",
     "text": [
      "Epoch 5: 100%|██████████| 8/8 [00:00<00:00,  9.66it/s, loss=0.202, v_num=0, train_loss=0.0345, train_accuracy=1.000]"
     ]
    },
    {
     "name": "stderr",
     "output_type": "stream",
     "text": [
      "[2024-12-02 20:17:48] INFO (torcheeg/MainThread) \n",
      "[Train] train_loss: 0.089 train_accuracy: 0.967 \n",
      "\n"
     ]
    },
    {
     "name": "stdout",
     "output_type": "stream",
     "text": [
      "Epoch 6: 100%|██████████| 8/8 [00:00<00:00,  9.88it/s, loss=0.123, v_num=0, train_loss=0.229, train_accuracy=0.938] "
     ]
    },
    {
     "name": "stderr",
     "output_type": "stream",
     "text": [
      "[2024-12-02 20:17:53] INFO (torcheeg/MainThread) \n",
      "[Train] train_loss: 0.080 train_accuracy: 0.979 \n",
      "\n"
     ]
    },
    {
     "name": "stdout",
     "output_type": "stream",
     "text": [
      "Epoch 7: 100%|██████████| 8/8 [00:00<00:00,  9.61it/s, loss=0.11, v_num=0, train_loss=0.166, train_accuracy=0.875]   "
     ]
    },
    {
     "name": "stderr",
     "output_type": "stream",
     "text": [
      "[2024-12-02 20:17:57] INFO (torcheeg/MainThread) \n",
      "[Train] train_loss: 0.166 train_accuracy: 0.929 \n",
      "\n"
     ]
    },
    {
     "name": "stdout",
     "output_type": "stream",
     "text": [
      "Epoch 8: 100%|██████████| 8/8 [00:00<00:00,  9.79it/s, loss=0.191, v_num=0, train_loss=0.094, train_accuracy=0.938]"
     ]
    },
    {
     "name": "stderr",
     "output_type": "stream",
     "text": [
      "[2024-12-02 20:18:02] INFO (torcheeg/MainThread) \n",
      "[Train] train_loss: 0.246 train_accuracy: 0.917 \n",
      "\n"
     ]
    },
    {
     "name": "stdout",
     "output_type": "stream",
     "text": [
      "Epoch 9: 100%|██████████| 8/8 [00:00<00:00,  9.92it/s, loss=0.208, v_num=0, train_loss=0.182, train_accuracy=0.875] "
     ]
    },
    {
     "name": "stderr",
     "output_type": "stream",
     "text": [
      "[2024-12-02 20:18:06] INFO (torcheeg/MainThread) \n",
      "[Train] train_loss: 0.185 train_accuracy: 0.921 \n",
      "\n"
     ]
    },
    {
     "name": "stdout",
     "output_type": "stream",
     "text": [
      "Epoch 10: 100%|██████████| 8/8 [00:00<00:00,  9.80it/s, loss=0.217, v_num=0, train_loss=0.158, train_accuracy=0.938]"
     ]
    },
    {
     "name": "stderr",
     "output_type": "stream",
     "text": [
      "[2024-12-02 20:18:11] INFO (torcheeg/MainThread) \n",
      "[Train] train_loss: 0.159 train_accuracy: 0.942 \n",
      "\n"
     ]
    },
    {
     "name": "stdout",
     "output_type": "stream",
     "text": [
      "Epoch 11: 100%|██████████| 8/8 [00:00<00:00,  9.91it/s, loss=0.127, v_num=0, train_loss=0.022, train_accuracy=1.000] "
     ]
    },
    {
     "name": "stderr",
     "output_type": "stream",
     "text": [
      "Metric train_loss improved by 0.013 >= min_delta = 0.0. New best score: 0.022\n"
     ]
    },
    {
     "name": "stdout",
     "output_type": "stream",
     "text": [
      "Epoch 11: 100%|██████████| 8/8 [00:00<00:00,  9.89it/s, loss=0.127, v_num=0, train_loss=0.022, train_accuracy=1.000]"
     ]
    },
    {
     "name": "stderr",
     "output_type": "stream",
     "text": [
      "[2024-12-02 20:18:15] INFO (torcheeg/MainThread) \n",
      "[Train] train_loss: 0.061 train_accuracy: 0.979 \n",
      "\n"
     ]
    },
    {
     "name": "stdout",
     "output_type": "stream",
     "text": [
      "Epoch 12: 100%|██████████| 8/8 [00:00<00:00,  9.83it/s, loss=0.0716, v_num=0, train_loss=0.00341, train_accuracy=1.000]"
     ]
    },
    {
     "name": "stderr",
     "output_type": "stream",
     "text": [
      "Metric train_loss improved by 0.019 >= min_delta = 0.0. New best score: 0.003\n"
     ]
    },
    {
     "name": "stdout",
     "output_type": "stream",
     "text": [
      "Epoch 12: 100%|██████████| 8/8 [00:00<00:00,  9.81it/s, loss=0.0716, v_num=0, train_loss=0.00341, train_accuracy=1.000]"
     ]
    },
    {
     "name": "stderr",
     "output_type": "stream",
     "text": [
      "[2024-12-02 20:18:20] INFO (torcheeg/MainThread) \n",
      "[Train] train_loss: 0.034 train_accuracy: 0.996 \n",
      "\n"
     ]
    },
    {
     "name": "stdout",
     "output_type": "stream",
     "text": [
      "Epoch 13: 100%|██████████| 8/8 [00:00<00:00,  9.65it/s, loss=0.0297, v_num=0, train_loss=0.0149, train_accuracy=1.000] "
     ]
    },
    {
     "name": "stderr",
     "output_type": "stream",
     "text": [
      "[2024-12-02 20:18:24] INFO (torcheeg/MainThread) \n",
      "[Train] train_loss: 0.022 train_accuracy: 0.992 \n",
      "\n"
     ]
    },
    {
     "name": "stdout",
     "output_type": "stream",
     "text": [
      "Epoch 14: 100%|██████████| 8/8 [00:00<00:00,  9.78it/s, loss=0.0353, v_num=0, train_loss=0.00472, train_accuracy=1.000] "
     ]
    },
    {
     "name": "stderr",
     "output_type": "stream",
     "text": [
      "[2024-12-02 20:18:29] INFO (torcheeg/MainThread) \n",
      "[Train] train_loss: 0.039 train_accuracy: 0.988 \n",
      "\n"
     ]
    },
    {
     "name": "stdout",
     "output_type": "stream",
     "text": [
      "Epoch 15: 100%|██████████| 8/8 [00:00<00:00,  9.85it/s, loss=0.0694, v_num=0, train_loss=0.00127, train_accuracy=1.000]"
     ]
    },
    {
     "name": "stderr",
     "output_type": "stream",
     "text": [
      "Metric train_loss improved by 0.002 >= min_delta = 0.0. New best score: 0.001\n"
     ]
    },
    {
     "name": "stdout",
     "output_type": "stream",
     "text": [
      "Epoch 15: 100%|██████████| 8/8 [00:00<00:00,  9.83it/s, loss=0.0694, v_num=0, train_loss=0.00127, train_accuracy=1.000]"
     ]
    },
    {
     "name": "stderr",
     "output_type": "stream",
     "text": [
      "[2024-12-02 20:18:33] INFO (torcheeg/MainThread) \n",
      "[Train] train_loss: 0.120 train_accuracy: 0.975 \n",
      "\n"
     ]
    },
    {
     "name": "stdout",
     "output_type": "stream",
     "text": [
      "Epoch 16: 100%|██████████| 8/8 [00:00<00:00,  9.84it/s, loss=0.115, v_num=0, train_loss=0.0352, train_accuracy=1.000]  "
     ]
    },
    {
     "name": "stderr",
     "output_type": "stream",
     "text": [
      "[2024-12-02 20:18:37] INFO (torcheeg/MainThread) \n",
      "[Train] train_loss: 0.132 train_accuracy: 0.946 \n",
      "\n"
     ]
    },
    {
     "name": "stdout",
     "output_type": "stream",
     "text": [
      "Epoch 17: 100%|██████████| 8/8 [00:00<00:00,  9.42it/s, loss=0.132, v_num=0, train_loss=0.00823, train_accuracy=1.000]"
     ]
    },
    {
     "name": "stderr",
     "output_type": "stream",
     "text": [
      "[2024-12-02 20:18:42] INFO (torcheeg/MainThread) \n",
      "[Train] train_loss: 0.124 train_accuracy: 0.962 \n",
      "\n"
     ]
    },
    {
     "name": "stdout",
     "output_type": "stream",
     "text": [
      "Epoch 18: 100%|██████████| 8/8 [00:00<00:00,  9.61it/s, loss=0.0965, v_num=0, train_loss=0.0294, train_accuracy=1.000]"
     ]
    },
    {
     "name": "stderr",
     "output_type": "stream",
     "text": [
      "[2024-12-02 20:18:46] INFO (torcheeg/MainThread) \n",
      "[Train] train_loss: 0.059 train_accuracy: 0.975 \n",
      "\n"
     ]
    },
    {
     "name": "stdout",
     "output_type": "stream",
     "text": [
      "Epoch 19: 100%|██████████| 8/8 [00:00<00:00,  9.72it/s, loss=0.05, v_num=0, train_loss=0.00382, train_accuracy=1.000]  "
     ]
    },
    {
     "name": "stderr",
     "output_type": "stream",
     "text": [
      "[2024-12-02 20:18:51] INFO (torcheeg/MainThread) \n",
      "[Train] train_loss: 0.028 train_accuracy: 0.992 \n",
      "\n"
     ]
    },
    {
     "name": "stdout",
     "output_type": "stream",
     "text": [
      "Epoch 20: 100%|██████████| 8/8 [00:00<00:00,  9.84it/s, loss=0.0252, v_num=0, train_loss=0.00065, train_accuracy=1.000]"
     ]
    },
    {
     "name": "stderr",
     "output_type": "stream",
     "text": [
      "Metric train_loss improved by 0.001 >= min_delta = 0.0. New best score: 0.001\n"
     ]
    },
    {
     "name": "stdout",
     "output_type": "stream",
     "text": [
      "Epoch 20: 100%|██████████| 8/8 [00:00<00:00,  9.82it/s, loss=0.0252, v_num=0, train_loss=0.00065, train_accuracy=1.000]"
     ]
    },
    {
     "name": "stderr",
     "output_type": "stream",
     "text": [
      "[2024-12-02 20:18:55] INFO (torcheeg/MainThread) \n",
      "[Train] train_loss: 0.015 train_accuracy: 0.992 \n",
      "\n"
     ]
    },
    {
     "name": "stdout",
     "output_type": "stream",
     "text": [
      "Epoch 21: 100%|██████████| 8/8 [00:00<00:00,  9.82it/s, loss=0.0195, v_num=0, train_loss=0.072, train_accuracy=1.000]   "
     ]
    },
    {
     "name": "stderr",
     "output_type": "stream",
     "text": [
      "[2024-12-02 20:19:00] INFO (torcheeg/MainThread) \n",
      "[Train] train_loss: 0.031 train_accuracy: 0.992 \n",
      "\n"
     ]
    },
    {
     "name": "stdout",
     "output_type": "stream",
     "text": [
      "Epoch 22: 100%|██████████| 8/8 [00:00<00:00,  9.74it/s, loss=0.0301, v_num=0, train_loss=0.184, train_accuracy=0.938]   "
     ]
    },
    {
     "name": "stderr",
     "output_type": "stream",
     "text": [
      "[2024-12-02 20:19:04] INFO (torcheeg/MainThread) \n",
      "[Train] train_loss: 0.036 train_accuracy: 0.992 \n",
      "\n"
     ]
    },
    {
     "name": "stdout",
     "output_type": "stream",
     "text": [
      "Epoch 23: 100%|██████████| 8/8 [00:00<00:00,  9.75it/s, loss=0.0332, v_num=0, train_loss=0.00147, train_accuracy=1.000] "
     ]
    },
    {
     "name": "stderr",
     "output_type": "stream",
     "text": [
      "[2024-12-02 20:19:09] INFO (torcheeg/MainThread) \n",
      "[Train] train_loss: 0.025 train_accuracy: 0.992 \n",
      "\n"
     ]
    },
    {
     "name": "stdout",
     "output_type": "stream",
     "text": [
      "Epoch 24: 100%|██████████| 8/8 [00:00<00:00,  9.85it/s, loss=0.0368, v_num=0, train_loss=0.0043, train_accuracy=1.000]  "
     ]
    },
    {
     "name": "stderr",
     "output_type": "stream",
     "text": [
      "[2024-12-02 20:19:13] INFO (torcheeg/MainThread) \n",
      "[Train] train_loss: 0.042 train_accuracy: 0.992 \n",
      "\n"
     ]
    },
    {
     "name": "stdout",
     "output_type": "stream",
     "text": [
      "Epoch 25: 100%|██████████| 8/8 [00:00<00:00,  9.70it/s, loss=0.0265, v_num=0, train_loss=0.00432, train_accuracy=1.000] "
     ]
    },
    {
     "name": "stderr",
     "output_type": "stream",
     "text": [
      "[2024-12-02 20:19:18] INFO (torcheeg/MainThread) \n",
      "[Train] train_loss: 0.003 train_accuracy: 1.000 \n",
      "\n"
     ]
    },
    {
     "name": "stdout",
     "output_type": "stream",
     "text": [
      "Epoch 26: 100%|██████████| 8/8 [00:00<00:00,  9.80it/s, loss=0.022, v_num=0, train_loss=0.00197, train_accuracy=1.000]  "
     ]
    },
    {
     "name": "stderr",
     "output_type": "stream",
     "text": [
      "[2024-12-02 20:19:22] INFO (torcheeg/MainThread) \n",
      "[Train] train_loss: 0.020 train_accuracy: 0.992 \n",
      "\n"
     ]
    },
    {
     "name": "stdout",
     "output_type": "stream",
     "text": [
      "Epoch 27: 100%|██████████| 8/8 [00:00<00:00,  9.86it/s, loss=0.0208, v_num=0, train_loss=0.000613, train_accuracy=1.000]"
     ]
    },
    {
     "name": "stderr",
     "output_type": "stream",
     "text": [
      "Metric train_loss improved by 0.000 >= min_delta = 0.0. New best score: 0.001\n"
     ]
    },
    {
     "name": "stdout",
     "output_type": "stream",
     "text": [
      "Epoch 27: 100%|██████████| 8/8 [00:00<00:00,  9.84it/s, loss=0.0208, v_num=0, train_loss=0.000613, train_accuracy=1.000]"
     ]
    },
    {
     "name": "stderr",
     "output_type": "stream",
     "text": [
      "[2024-12-02 20:19:27] INFO (torcheeg/MainThread) \n",
      "[Train] train_loss: 0.031 train_accuracy: 0.992 \n",
      "\n"
     ]
    },
    {
     "name": "stdout",
     "output_type": "stream",
     "text": [
      "Epoch 28: 100%|██████████| 8/8 [00:00<00:00,  9.77it/s, loss=0.0209, v_num=0, train_loss=0.0021, train_accuracy=1.000]  "
     ]
    },
    {
     "name": "stderr",
     "output_type": "stream",
     "text": [
      "[2024-12-02 20:19:31] INFO (torcheeg/MainThread) \n",
      "[Train] train_loss: 0.010 train_accuracy: 0.996 \n",
      "\n"
     ]
    },
    {
     "name": "stdout",
     "output_type": "stream",
     "text": [
      "Epoch 29: 100%|██████████| 8/8 [00:00<00:00,  9.78it/s, loss=0.00815, v_num=0, train_loss=0.00104, train_accuracy=1.000] "
     ]
    },
    {
     "name": "stderr",
     "output_type": "stream",
     "text": [
      "[2024-12-02 20:19:36] INFO (torcheeg/MainThread) \n",
      "[Train] train_loss: 0.007 train_accuracy: 0.996 \n",
      "\n"
     ]
    },
    {
     "name": "stdout",
     "output_type": "stream",
     "text": [
      "Epoch 30: 100%|██████████| 8/8 [00:00<00:00,  9.87it/s, loss=0.0145, v_num=0, train_loss=0.00025, train_accuracy=1.000] "
     ]
    },
    {
     "name": "stderr",
     "output_type": "stream",
     "text": [
      "Metric train_loss improved by 0.000 >= min_delta = 0.0. New best score: 0.000\n"
     ]
    },
    {
     "name": "stdout",
     "output_type": "stream",
     "text": [
      "Epoch 30: 100%|██████████| 8/8 [00:00<00:00,  9.84it/s, loss=0.0145, v_num=0, train_loss=0.00025, train_accuracy=1.000]"
     ]
    },
    {
     "name": "stderr",
     "output_type": "stream",
     "text": [
      "[2024-12-02 20:19:40] INFO (torcheeg/MainThread) \n",
      "[Train] train_loss: 0.021 train_accuracy: 0.992 \n",
      "\n"
     ]
    },
    {
     "name": "stdout",
     "output_type": "stream",
     "text": [
      "Epoch 31: 100%|██████████| 8/8 [00:00<00:00,  9.76it/s, loss=0.0286, v_num=0, train_loss=0.268, train_accuracy=0.938]  "
     ]
    },
    {
     "name": "stderr",
     "output_type": "stream",
     "text": [
      "[2024-12-02 20:19:45] INFO (torcheeg/MainThread) \n",
      "[Train] train_loss: 0.049 train_accuracy: 0.988 \n",
      "\n"
     ]
    },
    {
     "name": "stdout",
     "output_type": "stream",
     "text": [
      "Epoch 32: 100%|██████████| 8/8 [00:00<00:00,  9.71it/s, loss=0.0231, v_num=0, train_loss=0.009, train_accuracy=1.000]   "
     ]
    },
    {
     "name": "stderr",
     "output_type": "stream",
     "text": [
      "[2024-12-02 20:19:49] INFO (torcheeg/MainThread) \n",
      "[Train] train_loss: 0.008 train_accuracy: 1.000 \n",
      "\n"
     ]
    },
    {
     "name": "stdout",
     "output_type": "stream",
     "text": [
      "Epoch 33: 100%|██████████| 8/8 [00:00<00:00,  9.94it/s, loss=0.0318, v_num=0, train_loss=0.00842, train_accuracy=1.000] "
     ]
    },
    {
     "name": "stderr",
     "output_type": "stream",
     "text": [
      "[2024-12-02 20:19:54] INFO (torcheeg/MainThread) \n",
      "[Train] train_loss: 0.037 train_accuracy: 0.992 \n",
      "\n"
     ]
    },
    {
     "name": "stdout",
     "output_type": "stream",
     "text": [
      "Epoch 34: 100%|██████████| 8/8 [00:00<00:00,  9.90it/s, loss=0.0287, v_num=0, train_loss=0.00566, train_accuracy=1.000] "
     ]
    },
    {
     "name": "stderr",
     "output_type": "stream",
     "text": [
      "[2024-12-02 20:19:58] INFO (torcheeg/MainThread) \n",
      "[Train] train_loss: 0.030 train_accuracy: 0.983 \n",
      "\n"
     ]
    },
    {
     "name": "stdout",
     "output_type": "stream",
     "text": [
      "Epoch 35: 100%|██████████| 8/8 [00:00<00:00,  9.84it/s, loss=0.0383, v_num=0, train_loss=0.0123, train_accuracy=1.000] "
     ]
    },
    {
     "name": "stderr",
     "output_type": "stream",
     "text": [
      "[2024-12-02 20:20:03] INFO (torcheeg/MainThread) \n",
      "[Train] train_loss: 0.039 train_accuracy: 0.988 \n",
      "\n"
     ]
    },
    {
     "name": "stdout",
     "output_type": "stream",
     "text": [
      "Epoch 36: 100%|██████████| 8/8 [00:00<00:00,  9.85it/s, loss=0.0225, v_num=0, train_loss=0.000546, train_accuracy=1.000]"
     ]
    },
    {
     "name": "stderr",
     "output_type": "stream",
     "text": [
      "[2024-12-02 20:20:07] INFO (torcheeg/MainThread) \n",
      "[Train] train_loss: 0.003 train_accuracy: 1.000 \n",
      "\n"
     ]
    },
    {
     "name": "stdout",
     "output_type": "stream",
     "text": [
      "Epoch 37: 100%|██████████| 8/8 [00:00<00:00,  9.88it/s, loss=0.0144, v_num=0, train_loss=0.00209, train_accuracy=1.000] "
     ]
    },
    {
     "name": "stderr",
     "output_type": "stream",
     "text": [
      "[2024-12-02 20:20:12] INFO (torcheeg/MainThread) \n",
      "[Train] train_loss: 0.029 train_accuracy: 0.996 \n",
      "\n"
     ]
    },
    {
     "name": "stdout",
     "output_type": "stream",
     "text": [
      "Epoch 38: 100%|██████████| 8/8 [00:00<00:00,  9.66it/s, loss=0.015, v_num=0, train_loss=0.0372, train_accuracy=1.000]   "
     ]
    },
    {
     "name": "stderr",
     "output_type": "stream",
     "text": [
      "[2024-12-02 20:20:16] INFO (torcheeg/MainThread) \n",
      "[Train] train_loss: 0.007 train_accuracy: 1.000 \n",
      "\n"
     ]
    },
    {
     "name": "stdout",
     "output_type": "stream",
     "text": [
      "Epoch 39: 100%|██████████| 8/8 [00:00<00:00,  9.85it/s, loss=0.00796, v_num=0, train_loss=0.0136, train_accuracy=1.000] "
     ]
    },
    {
     "name": "stderr",
     "output_type": "stream",
     "text": [
      "[2024-12-02 20:20:21] INFO (torcheeg/MainThread) \n",
      "[Train] train_loss: 0.011 train_accuracy: 0.996 \n",
      "\n"
     ]
    },
    {
     "name": "stdout",
     "output_type": "stream",
     "text": [
      "Epoch 40: 100%|██████████| 8/8 [00:00<00:00,  9.74it/s, loss=0.00889, v_num=0, train_loss=1.36e-5, train_accuracy=1.000] "
     ]
    },
    {
     "name": "stderr",
     "output_type": "stream",
     "text": [
      "Metric train_loss improved by 0.000 >= min_delta = 0.0. New best score: 0.000\n"
     ]
    },
    {
     "name": "stdout",
     "output_type": "stream",
     "text": [
      "Epoch 40: 100%|██████████| 8/8 [00:00<00:00,  9.72it/s, loss=0.00889, v_num=0, train_loss=1.36e-5, train_accuracy=1.000]"
     ]
    },
    {
     "name": "stderr",
     "output_type": "stream",
     "text": [
      "[2024-12-02 20:20:25] INFO (torcheeg/MainThread) \n",
      "[Train] train_loss: 0.006 train_accuracy: 0.996 \n",
      "\n"
     ]
    },
    {
     "name": "stdout",
     "output_type": "stream",
     "text": [
      "Epoch 41: 100%|██████████| 8/8 [00:00<00:00,  9.70it/s, loss=0.013, v_num=0, train_loss=0.00295, train_accuracy=1.000]  "
     ]
    },
    {
     "name": "stderr",
     "output_type": "stream",
     "text": [
      "[2024-12-02 20:20:30] INFO (torcheeg/MainThread) \n",
      "[Train] train_loss: 0.024 train_accuracy: 0.996 \n",
      "\n"
     ]
    },
    {
     "name": "stdout",
     "output_type": "stream",
     "text": [
      "Epoch 42: 100%|██████████| 8/8 [00:00<00:00,  9.84it/s, loss=0.0261, v_num=0, train_loss=4.78e-5, train_accuracy=1.000] "
     ]
    },
    {
     "name": "stderr",
     "output_type": "stream",
     "text": [
      "[2024-12-02 20:20:34] INFO (torcheeg/MainThread) \n",
      "[Train] train_loss: 0.041 train_accuracy: 0.988 \n",
      "\n"
     ]
    },
    {
     "name": "stdout",
     "output_type": "stream",
     "text": [
      "Epoch 43: 100%|██████████| 8/8 [00:00<00:00,  9.92it/s, loss=0.0261, v_num=0, train_loss=0.0482, train_accuracy=1.000]  "
     ]
    },
    {
     "name": "stderr",
     "output_type": "stream",
     "text": [
      "[2024-12-02 20:20:39] INFO (torcheeg/MainThread) \n",
      "[Train] train_loss: 0.022 train_accuracy: 0.996 \n",
      "\n"
     ]
    },
    {
     "name": "stdout",
     "output_type": "stream",
     "text": [
      "Epoch 44: 100%|██████████| 8/8 [00:00<00:00,  9.83it/s, loss=0.0145, v_num=0, train_loss=0.00173, train_accuracy=1.000] "
     ]
    },
    {
     "name": "stderr",
     "output_type": "stream",
     "text": [
      "[2024-12-02 20:20:43] INFO (torcheeg/MainThread) \n",
      "[Train] train_loss: 0.006 train_accuracy: 0.996 \n",
      "\n"
     ]
    },
    {
     "name": "stdout",
     "output_type": "stream",
     "text": [
      "Epoch 45: 100%|██████████| 8/8 [00:00<00:00,  9.92it/s, loss=0.0174, v_num=0, train_loss=0.0375, train_accuracy=1.000]  "
     ]
    },
    {
     "name": "stderr",
     "output_type": "stream",
     "text": [
      "[2024-12-02 20:20:47] INFO (torcheeg/MainThread) \n",
      "[Train] train_loss: 0.017 train_accuracy: 0.996 \n",
      "\n"
     ]
    },
    {
     "name": "stdout",
     "output_type": "stream",
     "text": [
      "Epoch 46: 100%|██████████| 8/8 [00:00<00:00,  9.86it/s, loss=0.0118, v_num=0, train_loss=0.00615, train_accuracy=1.000] "
     ]
    },
    {
     "name": "stderr",
     "output_type": "stream",
     "text": [
      "[2024-12-02 20:20:52] INFO (torcheeg/MainThread) \n",
      "[Train] train_loss: 0.011 train_accuracy: 0.996 \n",
      "\n"
     ]
    },
    {
     "name": "stdout",
     "output_type": "stream",
     "text": [
      "Epoch 47: 100%|██████████| 8/8 [00:00<00:00,  9.90it/s, loss=0.019, v_num=0, train_loss=0.0115, train_accuracy=1.000]   "
     ]
    },
    {
     "name": "stderr",
     "output_type": "stream",
     "text": [
      "[2024-12-02 20:20:56] INFO (torcheeg/MainThread) \n",
      "[Train] train_loss: 0.022 train_accuracy: 0.996 \n",
      "\n"
     ]
    },
    {
     "name": "stdout",
     "output_type": "stream",
     "text": [
      "Epoch 48: 100%|██████████| 8/8 [00:00<00:00,  9.89it/s, loss=0.0161, v_num=0, train_loss=0.00057, train_accuracy=1.000] "
     ]
    },
    {
     "name": "stderr",
     "output_type": "stream",
     "text": [
      "[2024-12-02 20:21:00] INFO (torcheeg/MainThread) \n",
      "[Train] train_loss: 0.010 train_accuracy: 0.996 \n",
      "\n"
     ]
    },
    {
     "name": "stdout",
     "output_type": "stream",
     "text": [
      "Epoch 49: 100%|██████████| 8/8 [00:00<00:00,  9.92it/s, loss=0.00676, v_num=0, train_loss=1.57e-5, train_accuracy=1.000] "
     ]
    },
    {
     "name": "stderr",
     "output_type": "stream",
     "text": [
      "[2024-12-02 20:21:05] INFO (torcheeg/MainThread) \n",
      "[Train] train_loss: 0.005 train_accuracy: 0.996 \n",
      "\n"
     ]
    },
    {
     "name": "stdout",
     "output_type": "stream",
     "text": [
      "Epoch 50: 100%|██████████| 8/8 [00:00<00:00,  9.80it/s, loss=0.00537, v_num=0, train_loss=0.000547, train_accuracy=1.000]"
     ]
    },
    {
     "name": "stderr",
     "output_type": "stream",
     "text": [
      "[2024-12-02 20:21:09] INFO (torcheeg/MainThread) \n",
      "[Train] train_loss: 0.007 train_accuracy: 0.996 \n",
      "\n"
     ]
    },
    {
     "name": "stdout",
     "output_type": "stream",
     "text": [
      "Epoch 51: 100%|██████████| 8/8 [00:00<00:00,  9.92it/s, loss=0.00522, v_num=0, train_loss=2.1e-5, train_accuracy=1.000]  "
     ]
    },
    {
     "name": "stderr",
     "output_type": "stream",
     "text": [
      "[2024-12-02 20:21:14] INFO (torcheeg/MainThread) \n",
      "[Train] train_loss: 0.005 train_accuracy: 0.996 \n",
      "\n"
     ]
    },
    {
     "name": "stdout",
     "output_type": "stream",
     "text": [
      "Epoch 52: 100%|██████████| 8/8 [00:00<00:00,  9.83it/s, loss=0.00758, v_num=0, train_loss=0.00212, train_accuracy=1.000] "
     ]
    },
    {
     "name": "stderr",
     "output_type": "stream",
     "text": [
      "[2024-12-02 20:21:18] INFO (torcheeg/MainThread) \n",
      "[Train] train_loss: 0.013 train_accuracy: 0.992 \n",
      "\n"
     ]
    },
    {
     "name": "stdout",
     "output_type": "stream",
     "text": [
      "Epoch 53: 100%|██████████| 8/8 [00:00<00:00,  9.90it/s, loss=0.0132, v_num=0, train_loss=1.55e-5, train_accuracy=1.000]  "
     ]
    },
    {
     "name": "stderr",
     "output_type": "stream",
     "text": [
      "[2024-12-02 20:21:22] INFO (torcheeg/MainThread) \n",
      "[Train] train_loss: 0.019 train_accuracy: 0.996 \n",
      "\n"
     ]
    },
    {
     "name": "stdout",
     "output_type": "stream",
     "text": [
      "Epoch 54: 100%|██████████| 8/8 [00:00<00:00, 10.01it/s, loss=0.0474, v_num=0, train_loss=0.00331, train_accuracy=1.000]"
     ]
    },
    {
     "name": "stderr",
     "output_type": "stream",
     "text": [
      "[2024-12-02 20:21:27] INFO (torcheeg/MainThread) \n",
      "[Train] train_loss: 0.091 train_accuracy: 0.983 \n",
      "\n"
     ]
    },
    {
     "name": "stdout",
     "output_type": "stream",
     "text": [
      "Epoch 55: 100%|██████████| 8/8 [00:00<00:00,  9.91it/s, loss=0.046, v_num=0, train_loss=0.00446, train_accuracy=1.000]  "
     ]
    },
    {
     "name": "stderr",
     "output_type": "stream",
     "text": [
      "[2024-12-02 20:21:31] INFO (torcheeg/MainThread) \n",
      "[Train] train_loss: 0.006 train_accuracy: 1.000 \n",
      "\n"
     ]
    },
    {
     "name": "stdout",
     "output_type": "stream",
     "text": [
      "Epoch 56: 100%|██████████| 8/8 [00:00<00:00,  9.94it/s, loss=0.0215, v_num=0, train_loss=0.00315, train_accuracy=1.000] "
     ]
    },
    {
     "name": "stderr",
     "output_type": "stream",
     "text": [
      "[2024-12-02 20:21:35] INFO (torcheeg/MainThread) \n",
      "[Train] train_loss: 0.009 train_accuracy: 0.996 \n",
      "\n"
     ]
    },
    {
     "name": "stdout",
     "output_type": "stream",
     "text": [
      "Epoch 57: 100%|██████████| 8/8 [00:00<00:00,  9.85it/s, loss=0.00589, v_num=0, train_loss=0.000193, train_accuracy=1.000]"
     ]
    },
    {
     "name": "stderr",
     "output_type": "stream",
     "text": [
      "[2024-12-02 20:21:40] INFO (torcheeg/MainThread) \n",
      "[Train] train_loss: 0.003 train_accuracy: 1.000 \n",
      "\n"
     ]
    },
    {
     "name": "stdout",
     "output_type": "stream",
     "text": [
      "Epoch 58: 100%|██████████| 8/8 [00:00<00:00,  9.93it/s, loss=0.00495, v_num=0, train_loss=0.00031, train_accuracy=1.000] "
     ]
    },
    {
     "name": "stderr",
     "output_type": "stream",
     "text": [
      "[2024-12-02 20:21:44] INFO (torcheeg/MainThread) \n",
      "[Train] train_loss: 0.001 train_accuracy: 1.000 \n",
      "\n"
     ]
    },
    {
     "name": "stdout",
     "output_type": "stream",
     "text": [
      "Epoch 59: 100%|██████████| 8/8 [00:00<00:00,  9.85it/s, loss=0.00137, v_num=0, train_loss=4.59e-5, train_accuracy=1.000] "
     ]
    },
    {
     "name": "stderr",
     "output_type": "stream",
     "text": [
      "[2024-12-02 20:21:49] INFO (torcheeg/MainThread) \n",
      "[Train] train_loss: 0.001 train_accuracy: 1.000 \n",
      "\n"
     ]
    },
    {
     "name": "stdout",
     "output_type": "stream",
     "text": [
      "Epoch 60: 100%|██████████| 8/8 [00:00<00:00,  9.90it/s, loss=0.000563, v_num=0, train_loss=0.000247, train_accuracy=1.000]"
     ]
    },
    {
     "name": "stderr",
     "output_type": "stream",
     "text": [
      "Monitored metric train_loss did not improve in the last 20 records. Best score: 0.000. Signaling Trainer to stop.\n"
     ]
    },
    {
     "name": "stdout",
     "output_type": "stream",
     "text": [
      "Epoch 60: 100%|██████████| 8/8 [00:00<00:00,  9.88it/s, loss=0.000563, v_num=0, train_loss=0.000247, train_accuracy=1.000]"
     ]
    },
    {
     "name": "stderr",
     "output_type": "stream",
     "text": [
      "[2024-12-02 20:21:53] INFO (torcheeg/MainThread) \n",
      "[Train] train_loss: 0.001 train_accuracy: 1.000 \n",
      "\n"
     ]
    },
    {
     "name": "stdout",
     "output_type": "stream",
     "text": [
      "Epoch 60: 100%|██████████| 8/8 [00:04<00:00,  1.81it/s, loss=0.000563, v_num=0, train_loss=0.000247, train_accuracy=1.000]\n"
     ]
    },
    {
     "name": "stderr",
     "output_type": "stream",
     "text": [
      "GPU available: True (cuda), used: True\n",
      "TPU available: False, using: 0 TPU cores\n",
      "IPU available: False, using: 0 IPUs\n",
      "HPU available: False, using: 0 HPUs\n",
      "LOCAL_RANK: 0 - CUDA_VISIBLE_DEVICES: [0]\n",
      "/root/autodl-tmp/conda/envs/law/lib/python3.8/site-packages/pytorch_lightning/trainer/connectors/data_connector.py:224: PossibleUserWarning: The dataloader, test_dataloader 0, does not have many workers which may be a bottleneck. Consider increasing the value of the `num_workers` argument` (try 128 which is the number of cpus on this machine) in the `DataLoader` init to improve performance.\n",
      "  rank_zero_warn(\n"
     ]
    },
    {
     "name": "stdout",
     "output_type": "stream",
     "text": [
      "Testing DataLoader 0: 100%|██████████| 2/2 [00:00<00:00, 47.61it/s]"
     ]
    },
    {
     "name": "stderr",
     "output_type": "stream",
     "text": [
      "[2024-12-02 20:21:54] INFO (torcheeg/MainThread) \n",
      "[Test] test_loss: 2.969 test_accuracy: 0.675 \n",
      "\n"
     ]
    },
    {
     "name": "stdout",
     "output_type": "stream",
     "text": [
      "Testing DataLoader 0: 100%|██████████| 2/2 [00:00<00:00, 41.53it/s]\n",
      "────────────────────────────────────────────────────────────────────────────────────────────────────────────────────────\n",
      "       Test metric             DataLoader 0\n",
      "────────────────────────────────────────────────────────────────────────────────────────────────────────────────────────\n",
      "      test_accuracy          0.675000011920929\n",
      "        test_loss           2.9691436290740967\n",
      "────────────────────────────────────────────────────────────────────────────────────────────────────────────────────────\n",
      "已删除文件夹: /root/autodl-tmp/.autodl/kinlaw/mi_swin/lightning_logs\n"
     ]
    },
    {
     "name": "stderr",
     "output_type": "stream",
     "text": [
      "GPU available: True (cuda), used: True\n",
      "TPU available: False, using: 0 TPU cores\n",
      "IPU available: False, using: 0 IPUs\n",
      "HPU available: False, using: 0 HPUs\n",
      "Missing logger folder: /root/autodl-tmp/.autodl/kinlaw/mi_swin/lightning_logs\n",
      "LOCAL_RANK: 0 - CUDA_VISIBLE_DEVICES: [0]\n",
      "/root/autodl-tmp/conda/envs/law/lib/python3.8/site-packages/pytorch_lightning/trainer/connectors/data_connector.py:224: PossibleUserWarning: The dataloader, train_dataloader, does not have many workers which may be a bottleneck. Consider increasing the value of the `num_workers` argument` (try 128 which is the number of cpus on this machine) in the `DataLoader` init to improve performance.\n",
      "  rank_zero_warn(\n",
      "/root/autodl-tmp/conda/envs/law/lib/python3.8/site-packages/pytorch_lightning/trainer/trainer.py:1609: PossibleUserWarning: The number of training batches (7) is smaller than the logging interval Trainer(log_every_n_steps=50). Set a lower value for log_every_n_steps if you want to see logs for the training epoch.\n",
      "  rank_zero_warn(\n"
     ]
    },
    {
     "name": "stdout",
     "output_type": "stream",
     "text": [
      "Epoch 0: 100%|██████████| 7/7 [00:00<00:00,  9.65it/s, loss=2.77, v_num=0, train_loss=1.970, train_accuracy=0.500]"
     ]
    },
    {
     "name": "stderr",
     "output_type": "stream",
     "text": [
      "Metric train_loss improved. New best score: 1.972\n"
     ]
    },
    {
     "name": "stdout",
     "output_type": "stream",
     "text": [
      "Epoch 0: 100%|██████████| 7/7 [00:00<00:00,  9.63it/s, loss=2.77, v_num=0, train_loss=1.970, train_accuracy=0.500]"
     ]
    },
    {
     "name": "stderr",
     "output_type": "stream",
     "text": [
      "[2024-12-02 20:22:01] INFO (torcheeg/MainThread) \n",
      "[Train] train_loss: 2.768 train_accuracy: 0.525 \n",
      "\n"
     ]
    },
    {
     "name": "stdout",
     "output_type": "stream",
     "text": [
      "Epoch 1: 100%|██████████| 7/7 [00:00<00:00,  9.96it/s, loss=1.94, v_num=0, train_loss=0.078, train_accuracy=1.000]"
     ]
    },
    {
     "name": "stderr",
     "output_type": "stream",
     "text": [
      "Metric train_loss improved by 1.894 >= min_delta = 0.0. New best score: 0.078\n"
     ]
    },
    {
     "name": "stdout",
     "output_type": "stream",
     "text": [
      "Epoch 1: 100%|██████████| 7/7 [00:00<00:00,  9.93it/s, loss=1.94, v_num=0, train_loss=0.078, train_accuracy=1.000]"
     ]
    },
    {
     "name": "stderr",
     "output_type": "stream",
     "text": [
      "[2024-12-02 20:22:05] INFO (torcheeg/MainThread) \n",
      "[Train] train_loss: 1.115 train_accuracy: 0.650 \n",
      "\n"
     ]
    },
    {
     "name": "stdout",
     "output_type": "stream",
     "text": [
      "Epoch 2: 100%|██████████| 7/7 [00:00<00:00,  9.99it/s, loss=1.48, v_num=0, train_loss=0.0693, train_accuracy=1.000]"
     ]
    },
    {
     "name": "stderr",
     "output_type": "stream",
     "text": [
      "Metric train_loss improved by 0.009 >= min_delta = 0.0. New best score: 0.069\n"
     ]
    },
    {
     "name": "stdout",
     "output_type": "stream",
     "text": [
      "Epoch 2: 100%|██████████| 7/7 [00:00<00:00,  9.96it/s, loss=1.48, v_num=0, train_loss=0.0693, train_accuracy=1.000]"
     ]
    },
    {
     "name": "stderr",
     "output_type": "stream",
     "text": [
      "[2024-12-02 20:22:09] INFO (torcheeg/MainThread) \n",
      "[Train] train_loss: 0.480 train_accuracy: 0.800 \n",
      "\n"
     ]
    },
    {
     "name": "stdout",
     "output_type": "stream",
     "text": [
      "Epoch 3: 100%|██████████| 7/7 [00:00<00:00,  9.86it/s, loss=0.528, v_num=0, train_loss=0.0479, train_accuracy=1.000]"
     ]
    },
    {
     "name": "stderr",
     "output_type": "stream",
     "text": [
      "Metric train_loss improved by 0.021 >= min_delta = 0.0. New best score: 0.048\n"
     ]
    },
    {
     "name": "stdout",
     "output_type": "stream",
     "text": [
      "Epoch 3: 100%|██████████| 7/7 [00:00<00:00,  9.84it/s, loss=0.528, v_num=0, train_loss=0.0479, train_accuracy=1.000]"
     ]
    },
    {
     "name": "stderr",
     "output_type": "stream",
     "text": [
      "[2024-12-02 20:22:14] INFO (torcheeg/MainThread) \n",
      "[Train] train_loss: 0.275 train_accuracy: 0.870 \n",
      "\n"
     ]
    },
    {
     "name": "stdout",
     "output_type": "stream",
     "text": [
      "Epoch 4: 100%|██████████| 7/7 [00:00<00:00,  9.88it/s, loss=0.27, v_num=0, train_loss=0.0287, train_accuracy=1.000] "
     ]
    },
    {
     "name": "stderr",
     "output_type": "stream",
     "text": [
      "Metric train_loss improved by 0.019 >= min_delta = 0.0. New best score: 0.029\n"
     ]
    },
    {
     "name": "stdout",
     "output_type": "stream",
     "text": [
      "Epoch 4: 100%|██████████| 7/7 [00:00<00:00,  9.85it/s, loss=0.27, v_num=0, train_loss=0.0287, train_accuracy=1.000]"
     ]
    },
    {
     "name": "stderr",
     "output_type": "stream",
     "text": [
      "[2024-12-02 20:22:18] INFO (torcheeg/MainThread) \n",
      "[Train] train_loss: 0.121 train_accuracy: 0.955 \n",
      "\n"
     ]
    },
    {
     "name": "stdout",
     "output_type": "stream",
     "text": [
      "Epoch 5: 100%|██████████| 7/7 [00:00<00:00,  9.95it/s, loss=0.155, v_num=0, train_loss=0.00697, train_accuracy=1.000]"
     ]
    },
    {
     "name": "stderr",
     "output_type": "stream",
     "text": [
      "Metric train_loss improved by 0.022 >= min_delta = 0.0. New best score: 0.007\n"
     ]
    },
    {
     "name": "stdout",
     "output_type": "stream",
     "text": [
      "Epoch 5: 100%|██████████| 7/7 [00:00<00:00,  9.93it/s, loss=0.155, v_num=0, train_loss=0.00697, train_accuracy=1.000]"
     ]
    },
    {
     "name": "stderr",
     "output_type": "stream",
     "text": [
      "[2024-12-02 20:22:22] INFO (torcheeg/MainThread) \n",
      "[Train] train_loss: 0.083 train_accuracy: 0.975 \n",
      "\n"
     ]
    },
    {
     "name": "stdout",
     "output_type": "stream",
     "text": [
      "Epoch 6: 100%|██████████| 7/7 [00:00<00:00,  9.89it/s, loss=0.0836, v_num=0, train_loss=0.0133, train_accuracy=1.000] "
     ]
    },
    {
     "name": "stderr",
     "output_type": "stream",
     "text": [
      "[2024-12-02 20:22:27] INFO (torcheeg/MainThread) \n",
      "[Train] train_loss: 0.061 train_accuracy: 0.970 \n",
      "\n"
     ]
    },
    {
     "name": "stdout",
     "output_type": "stream",
     "text": [
      "Epoch 7: 100%|██████████| 7/7 [00:00<00:00,  9.63it/s, loss=0.0614, v_num=0, train_loss=0.000113, train_accuracy=1.000]"
     ]
    },
    {
     "name": "stderr",
     "output_type": "stream",
     "text": [
      "Metric train_loss improved by 0.007 >= min_delta = 0.0. New best score: 0.000\n"
     ]
    },
    {
     "name": "stdout",
     "output_type": "stream",
     "text": [
      "Epoch 7: 100%|██████████| 7/7 [00:00<00:00,  9.60it/s, loss=0.0614, v_num=0, train_loss=0.000113, train_accuracy=1.000]"
     ]
    },
    {
     "name": "stderr",
     "output_type": "stream",
     "text": [
      "[2024-12-02 20:22:31] INFO (torcheeg/MainThread) \n",
      "[Train] train_loss: 0.042 train_accuracy: 0.980 \n",
      "\n"
     ]
    },
    {
     "name": "stdout",
     "output_type": "stream",
     "text": [
      "Epoch 8: 100%|██████████| 7/7 [00:00<00:00,  9.85it/s, loss=0.0552, v_num=0, train_loss=0.000382, train_accuracy=1.000]"
     ]
    },
    {
     "name": "stderr",
     "output_type": "stream",
     "text": [
      "[2024-12-02 20:22:35] INFO (torcheeg/MainThread) \n",
      "[Train] train_loss: 0.056 train_accuracy: 0.985 \n",
      "\n"
     ]
    },
    {
     "name": "stdout",
     "output_type": "stream",
     "text": [
      "Epoch 9: 100%|██████████| 7/7 [00:00<00:00,  9.82it/s, loss=0.0661, v_num=0, train_loss=0.000753, train_accuracy=1.000]"
     ]
    },
    {
     "name": "stderr",
     "output_type": "stream",
     "text": [
      "[2024-12-02 20:22:40] INFO (torcheeg/MainThread) \n",
      "[Train] train_loss: 0.099 train_accuracy: 0.955 \n",
      "\n"
     ]
    },
    {
     "name": "stdout",
     "output_type": "stream",
     "text": [
      "Epoch 10: 100%|██████████| 7/7 [00:00<00:00,  9.90it/s, loss=0.0755, v_num=0, train_loss=0.00243, train_accuracy=1.000] "
     ]
    },
    {
     "name": "stderr",
     "output_type": "stream",
     "text": [
      "[2024-12-02 20:22:44] INFO (torcheeg/MainThread) \n",
      "[Train] train_loss: 0.061 train_accuracy: 0.970 \n",
      "\n"
     ]
    },
    {
     "name": "stdout",
     "output_type": "stream",
     "text": [
      "Epoch 11: 100%|██████████| 7/7 [00:00<00:00,  9.86it/s, loss=0.0646, v_num=0, train_loss=0.0411, train_accuracy=1.000] "
     ]
    },
    {
     "name": "stderr",
     "output_type": "stream",
     "text": [
      "[2024-12-02 20:22:48] INFO (torcheeg/MainThread) \n",
      "[Train] train_loss: 0.030 train_accuracy: 0.990 \n",
      "\n"
     ]
    },
    {
     "name": "stdout",
     "output_type": "stream",
     "text": [
      "Epoch 12: 100%|██████████| 7/7 [00:00<00:00, 10.00it/s, loss=0.0352, v_num=0, train_loss=0.111, train_accuracy=0.875]  "
     ]
    },
    {
     "name": "stderr",
     "output_type": "stream",
     "text": [
      "[2024-12-02 20:22:52] INFO (torcheeg/MainThread) \n",
      "[Train] train_loss: 0.027 train_accuracy: 0.990 \n",
      "\n"
     ]
    },
    {
     "name": "stdout",
     "output_type": "stream",
     "text": [
      "Epoch 13: 100%|██████████| 7/7 [00:00<00:00,  9.73it/s, loss=0.0431, v_num=0, train_loss=0.162, train_accuracy=0.875]  "
     ]
    },
    {
     "name": "stderr",
     "output_type": "stream",
     "text": [
      "[2024-12-02 20:22:57] INFO (torcheeg/MainThread) \n",
      "[Train] train_loss: 0.069 train_accuracy: 0.975 \n",
      "\n"
     ]
    },
    {
     "name": "stdout",
     "output_type": "stream",
     "text": [
      "Epoch 14: 100%|██████████| 7/7 [00:00<00:00,  9.78it/s, loss=0.0508, v_num=0, train_loss=0.121, train_accuracy=0.875]  "
     ]
    },
    {
     "name": "stderr",
     "output_type": "stream",
     "text": [
      "[2024-12-02 20:23:01] INFO (torcheeg/MainThread) \n",
      "[Train] train_loss: 0.051 train_accuracy: 0.970 \n",
      "\n"
     ]
    },
    {
     "name": "stdout",
     "output_type": "stream",
     "text": [
      "Epoch 15: 100%|██████████| 7/7 [00:00<00:00,  9.88it/s, loss=0.0692, v_num=0, train_loss=0.0667, train_accuracy=1.000] "
     ]
    },
    {
     "name": "stderr",
     "output_type": "stream",
     "text": [
      "[2024-12-02 20:23:05] INFO (torcheeg/MainThread) \n",
      "[Train] train_loss: 0.078 train_accuracy: 0.975 \n",
      "\n"
     ]
    },
    {
     "name": "stdout",
     "output_type": "stream",
     "text": [
      "Epoch 16: 100%|██████████| 7/7 [00:00<00:00,  9.94it/s, loss=0.0548, v_num=0, train_loss=0.000382, train_accuracy=1.000]"
     ]
    },
    {
     "name": "stderr",
     "output_type": "stream",
     "text": [
      "[2024-12-02 20:23:10] INFO (torcheeg/MainThread) \n",
      "[Train] train_loss: 0.037 train_accuracy: 0.980 \n",
      "\n"
     ]
    },
    {
     "name": "stdout",
     "output_type": "stream",
     "text": [
      "Epoch 17: 100%|██████████| 7/7 [00:00<00:00, 10.00it/s, loss=0.0475, v_num=0, train_loss=0.00139, train_accuracy=1.000] "
     ]
    },
    {
     "name": "stderr",
     "output_type": "stream",
     "text": [
      "[2024-12-02 20:23:14] INFO (torcheeg/MainThread) \n",
      "[Train] train_loss: 0.025 train_accuracy: 0.990 \n",
      "\n"
     ]
    },
    {
     "name": "stdout",
     "output_type": "stream",
     "text": [
      "Epoch 18: 100%|██████████| 7/7 [00:00<00:00,  9.72it/s, loss=0.0442, v_num=0, train_loss=0.000112, train_accuracy=1.000]"
     ]
    },
    {
     "name": "stderr",
     "output_type": "stream",
     "text": [
      "Metric train_loss improved by 0.000 >= min_delta = 0.0. New best score: 0.000\n"
     ]
    },
    {
     "name": "stdout",
     "output_type": "stream",
     "text": [
      "Epoch 18: 100%|██████████| 7/7 [00:00<00:00,  9.68it/s, loss=0.0442, v_num=0, train_loss=0.000112, train_accuracy=1.000]"
     ]
    },
    {
     "name": "stderr",
     "output_type": "stream",
     "text": [
      "[2024-12-02 20:23:18] INFO (torcheeg/MainThread) \n",
      "[Train] train_loss: 0.070 train_accuracy: 0.955 \n",
      "\n"
     ]
    },
    {
     "name": "stdout",
     "output_type": "stream",
     "text": [
      "Epoch 19: 100%|██████████| 7/7 [00:00<00:00,  9.82it/s, loss=0.0599, v_num=0, train_loss=0.230, train_accuracy=0.875]   "
     ]
    },
    {
     "name": "stderr",
     "output_type": "stream",
     "text": [
      "[2024-12-02 20:23:23] INFO (torcheeg/MainThread) \n",
      "[Train] train_loss: 0.077 train_accuracy: 0.980 \n",
      "\n"
     ]
    },
    {
     "name": "stdout",
     "output_type": "stream",
     "text": [
      "Epoch 20: 100%|██████████| 7/7 [00:00<00:00,  9.94it/s, loss=0.101, v_num=0, train_loss=0.0258, train_accuracy=1.000]  "
     ]
    },
    {
     "name": "stderr",
     "output_type": "stream",
     "text": [
      "[2024-12-02 20:23:27] INFO (torcheeg/MainThread) \n",
      "[Train] train_loss: 0.144 train_accuracy: 0.960 \n",
      "\n"
     ]
    },
    {
     "name": "stdout",
     "output_type": "stream",
     "text": [
      "Epoch 21: 100%|██████████| 7/7 [00:00<00:00,  9.85it/s, loss=0.132, v_num=0, train_loss=0.590, train_accuracy=0.875]  "
     ]
    },
    {
     "name": "stderr",
     "output_type": "stream",
     "text": [
      "[2024-12-02 20:23:31] INFO (torcheeg/MainThread) \n",
      "[Train] train_loss: 0.159 train_accuracy: 0.965 \n",
      "\n"
     ]
    },
    {
     "name": "stdout",
     "output_type": "stream",
     "text": [
      "Epoch 22: 100%|██████████| 7/7 [00:00<00:00,  9.90it/s, loss=0.102, v_num=0, train_loss=0.00013, train_accuracy=1.000]"
     ]
    },
    {
     "name": "stderr",
     "output_type": "stream",
     "text": [
      "[2024-12-02 20:23:35] INFO (torcheeg/MainThread) \n",
      "[Train] train_loss: 0.055 train_accuracy: 0.975 \n",
      "\n"
     ]
    },
    {
     "name": "stdout",
     "output_type": "stream",
     "text": [
      "Epoch 23: 100%|██████████| 7/7 [00:00<00:00,  9.89it/s, loss=0.0895, v_num=0, train_loss=0.00727, train_accuracy=1.000]"
     ]
    },
    {
     "name": "stderr",
     "output_type": "stream",
     "text": [
      "[2024-12-02 20:23:40] INFO (torcheeg/MainThread) \n",
      "[Train] train_loss: 0.050 train_accuracy: 0.990 \n",
      "\n"
     ]
    },
    {
     "name": "stdout",
     "output_type": "stream",
     "text": [
      "Epoch 24: 100%|██████████| 7/7 [00:00<00:00,  9.95it/s, loss=0.0524, v_num=0, train_loss=0.00219, train_accuracy=1.000]"
     ]
    },
    {
     "name": "stderr",
     "output_type": "stream",
     "text": [
      "[2024-12-02 20:23:44] INFO (torcheeg/MainThread) \n",
      "[Train] train_loss: 0.063 train_accuracy: 0.980 \n",
      "\n"
     ]
    },
    {
     "name": "stdout",
     "output_type": "stream",
     "text": [
      "Epoch 25: 100%|██████████| 7/7 [00:00<00:00,  9.83it/s, loss=0.0496, v_num=0, train_loss=0.0204, train_accuracy=1.000] "
     ]
    },
    {
     "name": "stderr",
     "output_type": "stream",
     "text": [
      "[2024-12-02 20:23:48] INFO (torcheeg/MainThread) \n",
      "[Train] train_loss: 0.028 train_accuracy: 0.990 \n",
      "\n"
     ]
    },
    {
     "name": "stdout",
     "output_type": "stream",
     "text": [
      "Epoch 26: 100%|██████████| 7/7 [00:00<00:00,  9.98it/s, loss=0.0338, v_num=0, train_loss=0.00242, train_accuracy=1.000] "
     ]
    },
    {
     "name": "stderr",
     "output_type": "stream",
     "text": [
      "[2024-12-02 20:23:52] INFO (torcheeg/MainThread) \n",
      "[Train] train_loss: 0.006 train_accuracy: 1.000 \n",
      "\n"
     ]
    },
    {
     "name": "stdout",
     "output_type": "stream",
     "text": [
      "Epoch 27: 100%|██████████| 7/7 [00:00<00:00,  9.99it/s, loss=0.0215, v_num=0, train_loss=0.00541, train_accuracy=1.000] "
     ]
    },
    {
     "name": "stderr",
     "output_type": "stream",
     "text": [
      "[2024-12-02 20:23:57] INFO (torcheeg/MainThread) \n",
      "[Train] train_loss: 0.028 train_accuracy: 0.990 \n",
      "\n"
     ]
    },
    {
     "name": "stdout",
     "output_type": "stream",
     "text": [
      "Epoch 28: 100%|██████████| 7/7 [00:00<00:00,  9.98it/s, loss=0.0147, v_num=0, train_loss=0.00959, train_accuracy=1.000]"
     ]
    },
    {
     "name": "stderr",
     "output_type": "stream",
     "text": [
      "[2024-12-02 20:24:01] INFO (torcheeg/MainThread) \n",
      "[Train] train_loss: 0.010 train_accuracy: 1.000 \n",
      "\n"
     ]
    },
    {
     "name": "stdout",
     "output_type": "stream",
     "text": [
      "Epoch 29: 100%|██████████| 7/7 [00:00<00:00,  9.98it/s, loss=0.0165, v_num=0, train_loss=0.000955, train_accuracy=1.000]"
     ]
    },
    {
     "name": "stderr",
     "output_type": "stream",
     "text": [
      "[2024-12-02 20:24:05] INFO (torcheeg/MainThread) \n",
      "[Train] train_loss: 0.009 train_accuracy: 0.995 \n",
      "\n"
     ]
    },
    {
     "name": "stdout",
     "output_type": "stream",
     "text": [
      "Epoch 30: 100%|██████████| 7/7 [00:00<00:00, 10.05it/s, loss=0.0172, v_num=0, train_loss=0.00777, train_accuracy=1.000] "
     ]
    },
    {
     "name": "stderr",
     "output_type": "stream",
     "text": [
      "[2024-12-02 20:24:09] INFO (torcheeg/MainThread) \n",
      "[Train] train_loss: 0.030 train_accuracy: 0.990 \n",
      "\n"
     ]
    },
    {
     "name": "stdout",
     "output_type": "stream",
     "text": [
      "Epoch 31: 100%|██████████| 7/7 [00:00<00:00,  9.96it/s, loss=0.0296, v_num=0, train_loss=0.00061, train_accuracy=1.000]"
     ]
    },
    {
     "name": "stderr",
     "output_type": "stream",
     "text": [
      "[2024-12-02 20:24:14] INFO (torcheeg/MainThread) \n",
      "[Train] train_loss: 0.046 train_accuracy: 0.975 \n",
      "\n"
     ]
    },
    {
     "name": "stdout",
     "output_type": "stream",
     "text": [
      "Epoch 32: 100%|██████████| 7/7 [00:00<00:00,  9.92it/s, loss=0.0225, v_num=0, train_loss=0.000649, train_accuracy=1.000]"
     ]
    },
    {
     "name": "stderr",
     "output_type": "stream",
     "text": [
      "[2024-12-02 20:24:18] INFO (torcheeg/MainThread) \n",
      "[Train] train_loss: 0.016 train_accuracy: 0.995 \n",
      "\n"
     ]
    },
    {
     "name": "stdout",
     "output_type": "stream",
     "text": [
      "Epoch 33: 100%|██████████| 7/7 [00:00<00:00,  9.83it/s, loss=0.0269, v_num=0, train_loss=0.00807, train_accuracy=1.000] "
     ]
    },
    {
     "name": "stderr",
     "output_type": "stream",
     "text": [
      "[2024-12-02 20:24:23] INFO (torcheeg/MainThread) \n",
      "[Train] train_loss: 0.020 train_accuracy: 0.990 \n",
      "\n"
     ]
    },
    {
     "name": "stdout",
     "output_type": "stream",
     "text": [
      "Epoch 34: 100%|██████████| 7/7 [00:00<00:00,  9.98it/s, loss=0.0205, v_num=0, train_loss=0.00263, train_accuracy=1.000] "
     ]
    },
    {
     "name": "stderr",
     "output_type": "stream",
     "text": [
      "[2024-12-02 20:24:27] INFO (torcheeg/MainThread) \n",
      "[Train] train_loss: 0.023 train_accuracy: 0.995 \n",
      "\n"
     ]
    },
    {
     "name": "stdout",
     "output_type": "stream",
     "text": [
      "Epoch 35: 100%|██████████| 7/7 [00:00<00:00,  9.91it/s, loss=0.03, v_num=0, train_loss=0.000114, train_accuracy=1.000]  "
     ]
    },
    {
     "name": "stderr",
     "output_type": "stream",
     "text": [
      "[2024-12-02 20:24:31] INFO (torcheeg/MainThread) \n",
      "[Train] train_loss: 0.044 train_accuracy: 0.990 \n",
      "\n"
     ]
    },
    {
     "name": "stdout",
     "output_type": "stream",
     "text": [
      "Epoch 36: 100%|██████████| 7/7 [00:00<00:00,  9.80it/s, loss=0.0253, v_num=0, train_loss=0.0104, train_accuracy=1.000] "
     ]
    },
    {
     "name": "stderr",
     "output_type": "stream",
     "text": [
      "[2024-12-02 20:24:35] INFO (torcheeg/MainThread) \n",
      "[Train] train_loss: 0.005 train_accuracy: 1.000 \n",
      "\n"
     ]
    },
    {
     "name": "stdout",
     "output_type": "stream",
     "text": [
      "Epoch 37: 100%|██████████| 7/7 [00:00<00:00,  9.89it/s, loss=0.0207, v_num=0, train_loss=0.000124, train_accuracy=1.000]"
     ]
    },
    {
     "name": "stderr",
     "output_type": "stream",
     "text": [
      "[2024-12-02 20:24:40] INFO (torcheeg/MainThread) \n",
      "[Train] train_loss: 0.010 train_accuracy: 0.995 \n",
      "\n"
     ]
    },
    {
     "name": "stdout",
     "output_type": "stream",
     "text": [
      "Epoch 38: 100%|██████████| 7/7 [00:00<00:00,  9.87it/s, loss=0.00639, v_num=0, train_loss=0.00241, train_accuracy=1.000]"
     ]
    },
    {
     "name": "stderr",
     "output_type": "stream",
     "text": [
      "Monitored metric train_loss did not improve in the last 20 records. Best score: 0.000. Signaling Trainer to stop.\n"
     ]
    },
    {
     "name": "stdout",
     "output_type": "stream",
     "text": [
      "Epoch 38: 100%|██████████| 7/7 [00:00<00:00,  9.84it/s, loss=0.00639, v_num=0, train_loss=0.00241, train_accuracy=1.000]"
     ]
    },
    {
     "name": "stderr",
     "output_type": "stream",
     "text": [
      "[2024-12-02 20:24:44] INFO (torcheeg/MainThread) \n",
      "[Train] train_loss: 0.003 train_accuracy: 1.000 \n",
      "\n"
     ]
    },
    {
     "name": "stdout",
     "output_type": "stream",
     "text": [
      "Epoch 38: 100%|██████████| 7/7 [00:04<00:00,  1.63it/s, loss=0.00639, v_num=0, train_loss=0.00241, train_accuracy=1.000]\n"
     ]
    },
    {
     "name": "stderr",
     "output_type": "stream",
     "text": [
      "GPU available: True (cuda), used: True\n",
      "TPU available: False, using: 0 TPU cores\n",
      "IPU available: False, using: 0 IPUs\n",
      "HPU available: False, using: 0 HPUs\n",
      "LOCAL_RANK: 0 - CUDA_VISIBLE_DEVICES: [0]\n",
      "/root/autodl-tmp/conda/envs/law/lib/python3.8/site-packages/pytorch_lightning/trainer/connectors/data_connector.py:224: PossibleUserWarning: The dataloader, test_dataloader 0, does not have many workers which may be a bottleneck. Consider increasing the value of the `num_workers` argument` (try 128 which is the number of cpus on this machine) in the `DataLoader` init to improve performance.\n",
      "  rank_zero_warn(\n"
     ]
    },
    {
     "name": "stdout",
     "output_type": "stream",
     "text": [
      "Testing DataLoader 0: 100%|██████████| 3/3 [00:00<00:00, 39.73it/s]"
     ]
    },
    {
     "name": "stderr",
     "output_type": "stream",
     "text": [
      "[2024-12-02 20:24:45] INFO (torcheeg/MainThread) \n",
      "[Test] test_loss: 2.368 test_accuracy: 0.600 \n",
      "\n"
     ]
    },
    {
     "name": "stdout",
     "output_type": "stream",
     "text": [
      "Testing DataLoader 0: 100%|██████████| 3/3 [00:00<00:00, 37.23it/s]\n",
      "────────────────────────────────────────────────────────────────────────────────────────────────────────────────────────\n",
      "       Test metric             DataLoader 0\n",
      "────────────────────────────────────────────────────────────────────────────────────────────────────────────────────────\n",
      "      test_accuracy         0.6000000238418579\n",
      "        test_loss           2.3677291870117188\n",
      "────────────────────────────────────────────────────────────────────────────────────────────────────────────────────────\n",
      "已删除文件夹: /root/autodl-tmp/.autodl/kinlaw/mi_swin/lightning_logs\n"
     ]
    },
    {
     "name": "stderr",
     "output_type": "stream",
     "text": [
      "GPU available: True (cuda), used: True\n",
      "TPU available: False, using: 0 TPU cores\n",
      "IPU available: False, using: 0 IPUs\n",
      "HPU available: False, using: 0 HPUs\n",
      "Missing logger folder: /root/autodl-tmp/.autodl/kinlaw/mi_swin/lightning_logs\n",
      "LOCAL_RANK: 0 - CUDA_VISIBLE_DEVICES: [0]\n",
      "/root/autodl-tmp/conda/envs/law/lib/python3.8/site-packages/pytorch_lightning/trainer/connectors/data_connector.py:224: PossibleUserWarning: The dataloader, train_dataloader, does not have many workers which may be a bottleneck. Consider increasing the value of the `num_workers` argument` (try 128 which is the number of cpus on this machine) in the `DataLoader` init to improve performance.\n",
      "  rank_zero_warn(\n",
      "/root/autodl-tmp/conda/envs/law/lib/python3.8/site-packages/pytorch_lightning/trainer/trainer.py:1609: PossibleUserWarning: The number of training batches (7) is smaller than the logging interval Trainer(log_every_n_steps=50). Set a lower value for log_every_n_steps if you want to see logs for the training epoch.\n",
      "  rank_zero_warn(\n"
     ]
    },
    {
     "name": "stdout",
     "output_type": "stream",
     "text": [
      "Epoch 0: 100%|██████████| 7/7 [00:00<00:00,  9.63it/s, loss=1.76, v_num=0, train_loss=0.252, train_accuracy=0.875] "
     ]
    },
    {
     "name": "stderr",
     "output_type": "stream",
     "text": [
      "Metric train_loss improved. New best score: 0.252\n"
     ]
    },
    {
     "name": "stdout",
     "output_type": "stream",
     "text": [
      "Epoch 0: 100%|██████████| 7/7 [00:00<00:00,  9.61it/s, loss=1.76, v_num=0, train_loss=0.252, train_accuracy=0.875]"
     ]
    },
    {
     "name": "stderr",
     "output_type": "stream",
     "text": [
      "[2024-12-02 20:24:52] INFO (torcheeg/MainThread) \n",
      "[Train] train_loss: 1.762 train_accuracy: 0.580 \n",
      "\n"
     ]
    },
    {
     "name": "stdout",
     "output_type": "stream",
     "text": [
      "Epoch 1: 100%|██████████| 7/7 [00:00<00:00,  9.97it/s, loss=1.33, v_num=0, train_loss=0.263, train_accuracy=0.875]"
     ]
    },
    {
     "name": "stderr",
     "output_type": "stream",
     "text": [
      "[2024-12-02 20:24:57] INFO (torcheeg/MainThread) \n",
      "[Train] train_loss: 0.894 train_accuracy: 0.710 \n",
      "\n"
     ]
    },
    {
     "name": "stdout",
     "output_type": "stream",
     "text": [
      "Epoch 2: 100%|██████████| 7/7 [00:00<00:00,  9.85it/s, loss=1.06, v_num=0, train_loss=0.0408, train_accuracy=1.000]"
     ]
    },
    {
     "name": "stderr",
     "output_type": "stream",
     "text": [
      "Metric train_loss improved by 0.211 >= min_delta = 0.0. New best score: 0.041\n"
     ]
    },
    {
     "name": "stdout",
     "output_type": "stream",
     "text": [
      "Epoch 2: 100%|██████████| 7/7 [00:00<00:00,  9.82it/s, loss=1.06, v_num=0, train_loss=0.0408, train_accuracy=1.000]"
     ]
    },
    {
     "name": "stderr",
     "output_type": "stream",
     "text": [
      "[2024-12-02 20:25:01] INFO (torcheeg/MainThread) \n",
      "[Train] train_loss: 0.513 train_accuracy: 0.860 \n",
      "\n"
     ]
    },
    {
     "name": "stdout",
     "output_type": "stream",
     "text": [
      "Epoch 3: 100%|██████████| 7/7 [00:00<00:00, 10.00it/s, loss=0.478, v_num=0, train_loss=0.059, train_accuracy=1.000]"
     ]
    },
    {
     "name": "stderr",
     "output_type": "stream",
     "text": [
      "[2024-12-02 20:25:06] INFO (torcheeg/MainThread) \n",
      "[Train] train_loss: 0.331 train_accuracy: 0.895 \n",
      "\n"
     ]
    },
    {
     "name": "stdout",
     "output_type": "stream",
     "text": [
      "Epoch 4: 100%|██████████| 7/7 [00:00<00:00,  9.86it/s, loss=0.314, v_num=0, train_loss=0.0389, train_accuracy=1.000]"
     ]
    },
    {
     "name": "stderr",
     "output_type": "stream",
     "text": [
      "Metric train_loss improved by 0.002 >= min_delta = 0.0. New best score: 0.039\n"
     ]
    },
    {
     "name": "stdout",
     "output_type": "stream",
     "text": [
      "Epoch 4: 100%|██████████| 7/7 [00:00<00:00,  9.84it/s, loss=0.314, v_num=0, train_loss=0.0389, train_accuracy=1.000]"
     ]
    },
    {
     "name": "stderr",
     "output_type": "stream",
     "text": [
      "[2024-12-02 20:25:11] INFO (torcheeg/MainThread) \n",
      "[Train] train_loss: 0.179 train_accuracy: 0.945 \n",
      "\n"
     ]
    },
    {
     "name": "stdout",
     "output_type": "stream",
     "text": [
      "Epoch 5: 100%|██████████| 7/7 [00:00<00:00,  9.88it/s, loss=0.226, v_num=0, train_loss=0.132, train_accuracy=0.875] "
     ]
    },
    {
     "name": "stderr",
     "output_type": "stream",
     "text": [
      "[2024-12-02 20:25:15] INFO (torcheeg/MainThread) \n",
      "[Train] train_loss: 0.154 train_accuracy: 0.940 \n",
      "\n"
     ]
    },
    {
     "name": "stdout",
     "output_type": "stream",
     "text": [
      "Epoch 6: 100%|██████████| 7/7 [00:00<00:00,  9.60it/s, loss=0.13, v_num=0, train_loss=0.00224, train_accuracy=1.000] "
     ]
    },
    {
     "name": "stderr",
     "output_type": "stream",
     "text": [
      "Metric train_loss improved by 0.037 >= min_delta = 0.0. New best score: 0.002\n"
     ]
    },
    {
     "name": "stdout",
     "output_type": "stream",
     "text": [
      "Epoch 6: 100%|██████████| 7/7 [00:00<00:00,  9.57it/s, loss=0.13, v_num=0, train_loss=0.00224, train_accuracy=1.000]"
     ]
    },
    {
     "name": "stderr",
     "output_type": "stream",
     "text": [
      "[2024-12-02 20:25:20] INFO (torcheeg/MainThread) \n",
      "[Train] train_loss: 0.073 train_accuracy: 0.975 \n",
      "\n"
     ]
    },
    {
     "name": "stdout",
     "output_type": "stream",
     "text": [
      "Epoch 7: 100%|██████████| 7/7 [00:00<00:00,  9.77it/s, loss=0.0877, v_num=0, train_loss=0.011, train_accuracy=1.000] "
     ]
    },
    {
     "name": "stderr",
     "output_type": "stream",
     "text": [
      "[2024-12-02 20:25:25] INFO (torcheeg/MainThread) \n",
      "[Train] train_loss: 0.024 train_accuracy: 0.995 \n",
      "\n"
     ]
    },
    {
     "name": "stdout",
     "output_type": "stream",
     "text": [
      "Epoch 8: 100%|██████████| 7/7 [00:00<00:00,  9.84it/s, loss=0.052, v_num=0, train_loss=0.0211, train_accuracy=1.000]  "
     ]
    },
    {
     "name": "stderr",
     "output_type": "stream",
     "text": [
      "[2024-12-02 20:25:29] INFO (torcheeg/MainThread) \n",
      "[Train] train_loss: 0.052 train_accuracy: 0.985 \n",
      "\n"
     ]
    },
    {
     "name": "stdout",
     "output_type": "stream",
     "text": [
      "Epoch 9: 100%|██████████| 7/7 [00:00<00:00,  9.80it/s, loss=0.031, v_num=0, train_loss=0.0208, train_accuracy=1.000]  "
     ]
    },
    {
     "name": "stderr",
     "output_type": "stream",
     "text": [
      "[2024-12-02 20:25:34] INFO (torcheeg/MainThread) \n",
      "[Train] train_loss: 0.023 train_accuracy: 0.995 \n",
      "\n"
     ]
    },
    {
     "name": "stdout",
     "output_type": "stream",
     "text": [
      "Epoch 10: 100%|██████████| 7/7 [00:00<00:00,  9.89it/s, loss=0.0273, v_num=0, train_loss=0.000258, train_accuracy=1.000]"
     ]
    },
    {
     "name": "stderr",
     "output_type": "stream",
     "text": [
      "Metric train_loss improved by 0.002 >= min_delta = 0.0. New best score: 0.000\n"
     ]
    },
    {
     "name": "stdout",
     "output_type": "stream",
     "text": [
      "Epoch 10: 100%|██████████| 7/7 [00:00<00:00,  9.86it/s, loss=0.0273, v_num=0, train_loss=0.000258, train_accuracy=1.000]"
     ]
    },
    {
     "name": "stderr",
     "output_type": "stream",
     "text": [
      "[2024-12-02 20:25:39] INFO (torcheeg/MainThread) \n",
      "[Train] train_loss: 0.009 train_accuracy: 1.000 \n",
      "\n"
     ]
    },
    {
     "name": "stdout",
     "output_type": "stream",
     "text": [
      "Epoch 11: 100%|██████████| 7/7 [00:00<00:00, 10.03it/s, loss=0.0487, v_num=0, train_loss=0.588, train_accuracy=0.875]   "
     ]
    },
    {
     "name": "stderr",
     "output_type": "stream",
     "text": [
      "[2024-12-02 20:25:43] INFO (torcheeg/MainThread) \n",
      "[Train] train_loss: 0.108 train_accuracy: 0.985 \n",
      "\n"
     ]
    },
    {
     "name": "stdout",
     "output_type": "stream",
     "text": [
      "Epoch 12: 100%|██████████| 7/7 [00:00<00:00,  9.94it/s, loss=0.0627, v_num=0, train_loss=2.63e-5, train_accuracy=1.000]"
     ]
    },
    {
     "name": "stderr",
     "output_type": "stream",
     "text": [
      "Metric train_loss improved by 0.000 >= min_delta = 0.0. New best score: 0.000\n"
     ]
    },
    {
     "name": "stdout",
     "output_type": "stream",
     "text": [
      "Epoch 12: 100%|██████████| 7/7 [00:00<00:00,  9.91it/s, loss=0.0627, v_num=0, train_loss=2.63e-5, train_accuracy=1.000]"
     ]
    },
    {
     "name": "stderr",
     "output_type": "stream",
     "text": [
      "[2024-12-02 20:25:48] INFO (torcheeg/MainThread) \n",
      "[Train] train_loss: 0.062 train_accuracy: 0.980 \n",
      "\n"
     ]
    },
    {
     "name": "stdout",
     "output_type": "stream",
     "text": [
      "Epoch 13: 100%|██████████| 7/7 [00:00<00:00,  9.85it/s, loss=0.121, v_num=0, train_loss=0.647, train_accuracy=0.875]   "
     ]
    },
    {
     "name": "stderr",
     "output_type": "stream",
     "text": [
      "[2024-12-02 20:25:52] INFO (torcheeg/MainThread) \n",
      "[Train] train_loss: 0.186 train_accuracy: 0.965 \n",
      "\n"
     ]
    },
    {
     "name": "stdout",
     "output_type": "stream",
     "text": [
      "Epoch 14: 100%|██████████| 7/7 [00:00<00:00,  9.87it/s, loss=0.126, v_num=0, train_loss=0.0323, train_accuracy=1.000]"
     ]
    },
    {
     "name": "stderr",
     "output_type": "stream",
     "text": [
      "[2024-12-02 20:25:57] INFO (torcheeg/MainThread) \n",
      "[Train] train_loss: 0.112 train_accuracy: 0.945 \n",
      "\n"
     ]
    },
    {
     "name": "stdout",
     "output_type": "stream",
     "text": [
      "Epoch 15: 100%|██████████| 7/7 [00:00<00:00,  9.90it/s, loss=0.131, v_num=0, train_loss=0.0149, train_accuracy=1.000]"
     ]
    },
    {
     "name": "stderr",
     "output_type": "stream",
     "text": [
      "[2024-12-02 20:26:01] INFO (torcheeg/MainThread) \n",
      "[Train] train_loss: 0.076 train_accuracy: 0.955 \n",
      "\n"
     ]
    },
    {
     "name": "stdout",
     "output_type": "stream",
     "text": [
      "Epoch 16: 100%|██████████| 7/7 [00:00<00:00,  9.93it/s, loss=0.102, v_num=0, train_loss=0.0278, train_accuracy=1.000]"
     ]
    },
    {
     "name": "stderr",
     "output_type": "stream",
     "text": [
      "[2024-12-02 20:26:06] INFO (torcheeg/MainThread) \n",
      "[Train] train_loss: 0.105 train_accuracy: 0.965 \n",
      "\n"
     ]
    },
    {
     "name": "stdout",
     "output_type": "stream",
     "text": [
      "Epoch 17: 100%|██████████| 7/7 [00:00<00:00,  9.95it/s, loss=0.0789, v_num=0, train_loss=0.0437, train_accuracy=1.000] "
     ]
    },
    {
     "name": "stderr",
     "output_type": "stream",
     "text": [
      "[2024-12-02 20:26:10] INFO (torcheeg/MainThread) \n",
      "[Train] train_loss: 0.059 train_accuracy: 0.980 \n",
      "\n"
     ]
    },
    {
     "name": "stdout",
     "output_type": "stream",
     "text": [
      "Epoch 18: 100%|██████████| 7/7 [00:00<00:00,  9.96it/s, loss=0.0612, v_num=0, train_loss=0.00319, train_accuracy=1.000]"
     ]
    },
    {
     "name": "stderr",
     "output_type": "stream",
     "text": [
      "[2024-12-02 20:26:15] INFO (torcheeg/MainThread) \n",
      "[Train] train_loss: 0.027 train_accuracy: 0.985 \n",
      "\n"
     ]
    },
    {
     "name": "stdout",
     "output_type": "stream",
     "text": [
      "Epoch 19: 100%|██████████| 7/7 [00:00<00:00,  9.93it/s, loss=0.0424, v_num=0, train_loss=0.00168, train_accuracy=1.000] "
     ]
    },
    {
     "name": "stderr",
     "output_type": "stream",
     "text": [
      "[2024-12-02 20:26:20] INFO (torcheeg/MainThread) \n",
      "[Train] train_loss: 0.038 train_accuracy: 0.990 \n",
      "\n"
     ]
    },
    {
     "name": "stdout",
     "output_type": "stream",
     "text": [
      "Epoch 20: 100%|██████████| 7/7 [00:00<00:00,  9.85it/s, loss=0.0412, v_num=0, train_loss=0.000119, train_accuracy=1.000]"
     ]
    },
    {
     "name": "stderr",
     "output_type": "stream",
     "text": [
      "[2024-12-02 20:26:24] INFO (torcheeg/MainThread) \n",
      "[Train] train_loss: 0.054 train_accuracy: 0.980 \n",
      "\n"
     ]
    },
    {
     "name": "stdout",
     "output_type": "stream",
     "text": [
      "Epoch 21: 100%|██████████| 7/7 [00:00<00:00,  9.92it/s, loss=0.0513, v_num=0, train_loss=0.374, train_accuracy=0.875]   "
     ]
    },
    {
     "name": "stderr",
     "output_type": "stream",
     "text": [
      "[2024-12-02 20:26:29] INFO (torcheeg/MainThread) \n",
      "[Train] train_loss: 0.079 train_accuracy: 0.985 \n",
      "\n"
     ]
    },
    {
     "name": "stdout",
     "output_type": "stream",
     "text": [
      "Epoch 22: 100%|██████████| 7/7 [00:00<00:00,  9.91it/s, loss=0.0656, v_num=0, train_loss=0.0324, train_accuracy=1.000]  "
     ]
    },
    {
     "name": "stderr",
     "output_type": "stream",
     "text": [
      "[2024-12-02 20:26:33] INFO (torcheeg/MainThread) \n",
      "[Train] train_loss: 0.056 train_accuracy: 0.975 \n",
      "\n"
     ]
    },
    {
     "name": "stdout",
     "output_type": "stream",
     "text": [
      "Epoch 23: 100%|██████████| 7/7 [00:00<00:00,  9.85it/s, loss=0.0689, v_num=0, train_loss=0.00977, train_accuracy=1.000]"
     ]
    },
    {
     "name": "stderr",
     "output_type": "stream",
     "text": [
      "[2024-12-02 20:26:38] INFO (torcheeg/MainThread) \n",
      "[Train] train_loss: 0.063 train_accuracy: 0.970 \n",
      "\n"
     ]
    },
    {
     "name": "stdout",
     "output_type": "stream",
     "text": [
      "Epoch 24: 100%|██████████| 7/7 [00:00<00:00,  9.80it/s, loss=0.0531, v_num=0, train_loss=0.000852, train_accuracy=1.000]"
     ]
    },
    {
     "name": "stderr",
     "output_type": "stream",
     "text": [
      "[2024-12-02 20:26:43] INFO (torcheeg/MainThread) \n",
      "[Train] train_loss: 0.033 train_accuracy: 0.985 \n",
      "\n"
     ]
    },
    {
     "name": "stdout",
     "output_type": "stream",
     "text": [
      "Epoch 25: 100%|██████████| 7/7 [00:00<00:00,  9.88it/s, loss=0.0464, v_num=0, train_loss=0.000658, train_accuracy=1.000]"
     ]
    },
    {
     "name": "stderr",
     "output_type": "stream",
     "text": [
      "[2024-12-02 20:26:47] INFO (torcheeg/MainThread) \n",
      "[Train] train_loss: 0.045 train_accuracy: 0.985 \n",
      "\n"
     ]
    },
    {
     "name": "stdout",
     "output_type": "stream",
     "text": [
      "Epoch 26: 100%|██████████| 7/7 [00:00<00:00,  9.93it/s, loss=0.036, v_num=0, train_loss=0.200, train_accuracy=0.875]    "
     ]
    },
    {
     "name": "stderr",
     "output_type": "stream",
     "text": [
      "[2024-12-02 20:26:52] INFO (torcheeg/MainThread) \n",
      "[Train] train_loss: 0.033 train_accuracy: 0.995 \n",
      "\n"
     ]
    },
    {
     "name": "stdout",
     "output_type": "stream",
     "text": [
      "Epoch 27: 100%|██████████| 7/7 [00:00<00:00, 10.08it/s, loss=0.0516, v_num=0, train_loss=2.4e-5, train_accuracy=1.000]  "
     ]
    },
    {
     "name": "stderr",
     "output_type": "stream",
     "text": [
      "Metric train_loss improved by 0.000 >= min_delta = 0.0. New best score: 0.000\n"
     ]
    },
    {
     "name": "stdout",
     "output_type": "stream",
     "text": [
      "Epoch 27: 100%|██████████| 7/7 [00:00<00:00, 10.05it/s, loss=0.0516, v_num=0, train_loss=2.4e-5, train_accuracy=1.000]"
     ]
    },
    {
     "name": "stderr",
     "output_type": "stream",
     "text": [
      "[2024-12-02 20:26:56] INFO (torcheeg/MainThread) \n",
      "[Train] train_loss: 0.071 train_accuracy: 0.985 \n",
      "\n"
     ]
    },
    {
     "name": "stdout",
     "output_type": "stream",
     "text": [
      "Epoch 28: 100%|██████████| 7/7 [00:00<00:00,  9.93it/s, loss=0.0479, v_num=0, train_loss=0.000922, train_accuracy=1.000]"
     ]
    },
    {
     "name": "stderr",
     "output_type": "stream",
     "text": [
      "[2024-12-02 20:27:01] INFO (torcheeg/MainThread) \n",
      "[Train] train_loss: 0.035 train_accuracy: 0.990 \n",
      "\n"
     ]
    },
    {
     "name": "stdout",
     "output_type": "stream",
     "text": [
      "Epoch 29: 100%|██████████| 7/7 [00:00<00:00,  9.91it/s, loss=0.0694, v_num=0, train_loss=0.0176, train_accuracy=1.000]  "
     ]
    },
    {
     "name": "stderr",
     "output_type": "stream",
     "text": [
      "[2024-12-02 20:27:06] INFO (torcheeg/MainThread) \n",
      "[Train] train_loss: 0.094 train_accuracy: 0.960 \n",
      "\n"
     ]
    },
    {
     "name": "stdout",
     "output_type": "stream",
     "text": [
      "Epoch 30: 100%|██████████| 7/7 [00:00<00:00,  9.95it/s, loss=0.0594, v_num=0, train_loss=0.00946, train_accuracy=1.000] "
     ]
    },
    {
     "name": "stderr",
     "output_type": "stream",
     "text": [
      "[2024-12-02 20:27:10] INFO (torcheeg/MainThread) \n",
      "[Train] train_loss: 0.041 train_accuracy: 0.990 \n",
      "\n"
     ]
    },
    {
     "name": "stdout",
     "output_type": "stream",
     "text": [
      "Epoch 31: 100%|██████████| 7/7 [00:00<00:00,  9.85it/s, loss=0.0473, v_num=0, train_loss=0.000989, train_accuracy=1.000]"
     ]
    },
    {
     "name": "stderr",
     "output_type": "stream",
     "text": [
      "[2024-12-02 20:27:15] INFO (torcheeg/MainThread) \n",
      "[Train] train_loss: 0.011 train_accuracy: 0.995 \n",
      "\n"
     ]
    },
    {
     "name": "stdout",
     "output_type": "stream",
     "text": [
      "Epoch 32: 100%|██████████| 7/7 [00:00<00:00,  9.85it/s, loss=0.0196, v_num=0, train_loss=0.00351, train_accuracy=1.000] "
     ]
    },
    {
     "name": "stderr",
     "output_type": "stream",
     "text": [
      "[2024-12-02 20:27:19] INFO (torcheeg/MainThread) \n",
      "[Train] train_loss: 0.004 train_accuracy: 1.000 \n",
      "\n"
     ]
    },
    {
     "name": "stdout",
     "output_type": "stream",
     "text": [
      "Epoch 33: 100%|██████████| 7/7 [00:00<00:00, 10.00it/s, loss=0.0111, v_num=0, train_loss=0.000431, train_accuracy=1.000]"
     ]
    },
    {
     "name": "stderr",
     "output_type": "stream",
     "text": [
      "[2024-12-02 20:27:24] INFO (torcheeg/MainThread) \n",
      "[Train] train_loss: 0.018 train_accuracy: 0.990 \n",
      "\n"
     ]
    },
    {
     "name": "stdout",
     "output_type": "stream",
     "text": [
      "Epoch 34: 100%|██████████| 7/7 [00:00<00:00,  9.88it/s, loss=0.00857, v_num=0, train_loss=3.15e-5, train_accuracy=1.000] "
     ]
    },
    {
     "name": "stderr",
     "output_type": "stream",
     "text": [
      "[2024-12-02 20:27:29] INFO (torcheeg/MainThread) \n",
      "[Train] train_loss: 0.004 train_accuracy: 1.000 \n",
      "\n"
     ]
    },
    {
     "name": "stdout",
     "output_type": "stream",
     "text": [
      "Epoch 35: 100%|██████████| 7/7 [00:00<00:00,  9.79it/s, loss=0.00833, v_num=0, train_loss=0.000527, train_accuracy=1.000]"
     ]
    },
    {
     "name": "stderr",
     "output_type": "stream",
     "text": [
      "[2024-12-02 20:27:33] INFO (torcheeg/MainThread) \n",
      "[Train] train_loss: 0.002 train_accuracy: 1.000 \n",
      "\n"
     ]
    },
    {
     "name": "stdout",
     "output_type": "stream",
     "text": [
      "Epoch 36: 100%|██████████| 7/7 [00:00<00:00,  9.86it/s, loss=0.00493, v_num=0, train_loss=0.0404, train_accuracy=1.000]  "
     ]
    },
    {
     "name": "stderr",
     "output_type": "stream",
     "text": [
      "[2024-12-02 20:27:38] INFO (torcheeg/MainThread) \n",
      "[Train] train_loss: 0.008 train_accuracy: 1.000 \n",
      "\n"
     ]
    },
    {
     "name": "stdout",
     "output_type": "stream",
     "text": [
      "Epoch 37: 100%|██████████| 7/7 [00:00<00:00,  9.83it/s, loss=0.00639, v_num=0, train_loss=3.18e-5, train_accuracy=1.000] "
     ]
    },
    {
     "name": "stderr",
     "output_type": "stream",
     "text": [
      "[2024-12-02 20:27:43] INFO (torcheeg/MainThread) \n",
      "[Train] train_loss: 0.008 train_accuracy: 0.995 \n",
      "\n"
     ]
    },
    {
     "name": "stdout",
     "output_type": "stream",
     "text": [
      "Epoch 38: 100%|██████████| 7/7 [00:00<00:00,  9.83it/s, loss=0.00609, v_num=0, train_loss=0.00478, train_accuracy=1.000] "
     ]
    },
    {
     "name": "stderr",
     "output_type": "stream",
     "text": [
      "[2024-12-02 20:27:47] INFO (torcheeg/MainThread) \n",
      "[Train] train_loss: 0.002 train_accuracy: 1.000 \n",
      "\n"
     ]
    },
    {
     "name": "stdout",
     "output_type": "stream",
     "text": [
      "Epoch 39: 100%|██████████| 7/7 [00:00<00:00,  9.86it/s, loss=0.00475, v_num=0, train_loss=7.75e-6, train_accuracy=1.000] "
     ]
    },
    {
     "name": "stderr",
     "output_type": "stream",
     "text": [
      "Metric train_loss improved by 0.000 >= min_delta = 0.0. New best score: 0.000\n"
     ]
    },
    {
     "name": "stdout",
     "output_type": "stream",
     "text": [
      "Epoch 39: 100%|██████████| 7/7 [00:00<00:00,  9.84it/s, loss=0.00475, v_num=0, train_loss=7.75e-6, train_accuracy=1.000]"
     ]
    },
    {
     "name": "stderr",
     "output_type": "stream",
     "text": [
      "[2024-12-02 20:27:51] INFO (torcheeg/MainThread) \n",
      "[Train] train_loss: 0.003 train_accuracy: 1.000 \n",
      "\n"
     ]
    },
    {
     "name": "stdout",
     "output_type": "stream",
     "text": [
      "Epoch 40: 100%|██████████| 7/7 [00:00<00:00,  9.90it/s, loss=0.00407, v_num=0, train_loss=1.46e-5, train_accuracy=1.000]"
     ]
    },
    {
     "name": "stderr",
     "output_type": "stream",
     "text": [
      "[2024-12-02 20:27:56] INFO (torcheeg/MainThread) \n",
      "[Train] train_loss: 0.006 train_accuracy: 0.995 \n",
      "\n"
     ]
    },
    {
     "name": "stdout",
     "output_type": "stream",
     "text": [
      "Epoch 41: 100%|██████████| 7/7 [00:00<00:00,  9.85it/s, loss=0.00349, v_num=0, train_loss=3.07e-5, train_accuracy=1.000]"
     ]
    },
    {
     "name": "stderr",
     "output_type": "stream",
     "text": [
      "[2024-12-02 20:28:00] INFO (torcheeg/MainThread) \n",
      "[Train] train_loss: 0.001 train_accuracy: 1.000 \n",
      "\n"
     ]
    },
    {
     "name": "stdout",
     "output_type": "stream",
     "text": [
      "Epoch 42: 100%|██████████| 7/7 [00:00<00:00,  9.92it/s, loss=0.0117, v_num=0, train_loss=3.98e-5, train_accuracy=1.000]  "
     ]
    },
    {
     "name": "stderr",
     "output_type": "stream",
     "text": [
      "[2024-12-02 20:28:04] INFO (torcheeg/MainThread) \n",
      "[Train] train_loss: 0.026 train_accuracy: 0.995 \n",
      "\n"
     ]
    },
    {
     "name": "stdout",
     "output_type": "stream",
     "text": [
      "Epoch 43: 100%|██████████| 7/7 [00:00<00:00,  9.67it/s, loss=0.0256, v_num=0, train_loss=5.53e-5, train_accuracy=1.000]  "
     ]
    },
    {
     "name": "stderr",
     "output_type": "stream",
     "text": [
      "[2024-12-02 20:28:08] INFO (torcheeg/MainThread) \n",
      "[Train] train_loss: 0.046 train_accuracy: 0.990 \n",
      "\n"
     ]
    },
    {
     "name": "stdout",
     "output_type": "stream",
     "text": [
      "Epoch 44: 100%|██████████| 7/7 [00:00<00:00,  9.93it/s, loss=0.0371, v_num=0, train_loss=0.000777, train_accuracy=1.000]"
     ]
    },
    {
     "name": "stderr",
     "output_type": "stream",
     "text": [
      "[2024-12-02 20:28:13] INFO (torcheeg/MainThread) \n",
      "[Train] train_loss: 0.033 train_accuracy: 0.990 \n",
      "\n"
     ]
    },
    {
     "name": "stdout",
     "output_type": "stream",
     "text": [
      "Epoch 45: 100%|██████████| 7/7 [00:00<00:00,  9.86it/s, loss=0.0346, v_num=0, train_loss=0.000175, train_accuracy=1.000]"
     ]
    },
    {
     "name": "stderr",
     "output_type": "stream",
     "text": [
      "[2024-12-02 20:28:17] INFO (torcheeg/MainThread) \n",
      "[Train] train_loss: 0.019 train_accuracy: 0.990 \n",
      "\n"
     ]
    },
    {
     "name": "stdout",
     "output_type": "stream",
     "text": [
      "Epoch 46: 100%|██████████| 7/7 [00:00<00:00,  9.84it/s, loss=0.0181, v_num=0, train_loss=9.4e-5, train_accuracy=1.000]  "
     ]
    },
    {
     "name": "stderr",
     "output_type": "stream",
     "text": [
      "[2024-12-02 20:28:22] INFO (torcheeg/MainThread) \n",
      "[Train] train_loss: 0.004 train_accuracy: 1.000 \n",
      "\n"
     ]
    },
    {
     "name": "stdout",
     "output_type": "stream",
     "text": [
      "Epoch 47: 100%|██████████| 7/7 [00:00<00:00,  9.71it/s, loss=0.00906, v_num=0, train_loss=0.000497, train_accuracy=1.000]"
     ]
    },
    {
     "name": "stderr",
     "output_type": "stream",
     "text": [
      "[2024-12-02 20:28:26] INFO (torcheeg/MainThread) \n",
      "[Train] train_loss: 0.005 train_accuracy: 0.995 \n",
      "\n"
     ]
    },
    {
     "name": "stdout",
     "output_type": "stream",
     "text": [
      "Epoch 48: 100%|██████████| 7/7 [00:00<00:00,  9.84it/s, loss=0.00462, v_num=0, train_loss=0.000165, train_accuracy=1.000]"
     ]
    },
    {
     "name": "stderr",
     "output_type": "stream",
     "text": [
      "[2024-12-02 20:28:30] INFO (torcheeg/MainThread) \n",
      "[Train] train_loss: 0.004 train_accuracy: 1.000 \n",
      "\n"
     ]
    },
    {
     "name": "stdout",
     "output_type": "stream",
     "text": [
      "Epoch 49: 100%|██████████| 7/7 [00:00<00:00,  9.84it/s, loss=0.00219, v_num=0, train_loss=3.41e-5, train_accuracy=1.000] "
     ]
    },
    {
     "name": "stderr",
     "output_type": "stream",
     "text": [
      "[2024-12-02 20:28:35] INFO (torcheeg/MainThread) \n",
      "[Train] train_loss: 0.001 train_accuracy: 1.000 \n",
      "\n"
     ]
    },
    {
     "name": "stdout",
     "output_type": "stream",
     "text": [
      "Epoch 50: 100%|██████████| 7/7 [00:00<00:00,  9.82it/s, loss=0.0011, v_num=0, train_loss=0.000183, train_accuracy=1.000] "
     ]
    },
    {
     "name": "stderr",
     "output_type": "stream",
     "text": [
      "[2024-12-02 20:28:39] INFO (torcheeg/MainThread) \n",
      "[Train] train_loss: 0.000 train_accuracy: 1.000 \n",
      "\n"
     ]
    },
    {
     "name": "stdout",
     "output_type": "stream",
     "text": [
      "Epoch 51: 100%|██████████| 7/7 [00:00<00:00, 10.04it/s, loss=0.0009, v_num=0, train_loss=0.000144, train_accuracy=1.000]  "
     ]
    },
    {
     "name": "stderr",
     "output_type": "stream",
     "text": [
      "[2024-12-02 20:28:43] INFO (torcheeg/MainThread) \n",
      "[Train] train_loss: 0.002 train_accuracy: 1.000 \n",
      "\n"
     ]
    },
    {
     "name": "stdout",
     "output_type": "stream",
     "text": [
      "Epoch 52: 100%|██████████| 7/7 [00:00<00:00,  9.96it/s, loss=0.00126, v_num=0, train_loss=0.00075, train_accuracy=1.000] "
     ]
    },
    {
     "name": "stderr",
     "output_type": "stream",
     "text": [
      "[2024-12-02 20:28:47] INFO (torcheeg/MainThread) \n",
      "[Train] train_loss: 0.001 train_accuracy: 1.000 \n",
      "\n"
     ]
    },
    {
     "name": "stdout",
     "output_type": "stream",
     "text": [
      "Epoch 53: 100%|██████████| 7/7 [00:00<00:00,  9.97it/s, loss=0.00156, v_num=0, train_loss=0.000525, train_accuracy=1.000]"
     ]
    },
    {
     "name": "stderr",
     "output_type": "stream",
     "text": [
      "[2024-12-02 20:28:52] INFO (torcheeg/MainThread) \n",
      "[Train] train_loss: 0.001 train_accuracy: 1.000 \n",
      "\n"
     ]
    },
    {
     "name": "stdout",
     "output_type": "stream",
     "text": [
      "Epoch 54: 100%|██████████| 7/7 [00:00<00:00,  9.95it/s, loss=0.00123, v_num=0, train_loss=1.04e-5, train_accuracy=1.000] "
     ]
    },
    {
     "name": "stderr",
     "output_type": "stream",
     "text": [
      "[2024-12-02 20:28:56] INFO (torcheeg/MainThread) \n",
      "[Train] train_loss: 0.001 train_accuracy: 1.000 \n",
      "\n"
     ]
    },
    {
     "name": "stdout",
     "output_type": "stream",
     "text": [
      "Epoch 55: 100%|██████████| 7/7 [00:00<00:00,  9.81it/s, loss=0.00176, v_num=0, train_loss=0.00015, train_accuracy=1.000]"
     ]
    },
    {
     "name": "stderr",
     "output_type": "stream",
     "text": [
      "[2024-12-02 20:29:00] INFO (torcheeg/MainThread) \n",
      "[Train] train_loss: 0.003 train_accuracy: 1.000 \n",
      "\n"
     ]
    },
    {
     "name": "stdout",
     "output_type": "stream",
     "text": [
      "Epoch 56: 100%|██████████| 7/7 [00:00<00:00, 10.02it/s, loss=0.00126, v_num=0, train_loss=5.81e-7, train_accuracy=1.000] "
     ]
    },
    {
     "name": "stderr",
     "output_type": "stream",
     "text": [
      "Metric train_loss improved by 0.000 >= min_delta = 0.0. New best score: 0.000\n"
     ]
    },
    {
     "name": "stdout",
     "output_type": "stream",
     "text": [
      "Epoch 56: 100%|██████████| 7/7 [00:00<00:00,  9.99it/s, loss=0.00126, v_num=0, train_loss=5.81e-7, train_accuracy=1.000]"
     ]
    },
    {
     "name": "stderr",
     "output_type": "stream",
     "text": [
      "[2024-12-02 20:29:05] INFO (torcheeg/MainThread) \n",
      "[Train] train_loss: 0.000 train_accuracy: 1.000 \n",
      "\n"
     ]
    },
    {
     "name": "stdout",
     "output_type": "stream",
     "text": [
      "Epoch 57: 100%|██████████| 7/7 [00:00<00:00,  9.93it/s, loss=0.00166, v_num=0, train_loss=1.01e-5, train_accuracy=1.000] "
     ]
    },
    {
     "name": "stderr",
     "output_type": "stream",
     "text": [
      "[2024-12-02 20:29:09] INFO (torcheeg/MainThread) \n",
      "[Train] train_loss: 0.004 train_accuracy: 1.000 \n",
      "\n"
     ]
    },
    {
     "name": "stdout",
     "output_type": "stream",
     "text": [
      "Epoch 58: 100%|██████████| 7/7 [00:00<00:00,  9.78it/s, loss=0.00245, v_num=0, train_loss=2.79e-6, train_accuracy=1.000] "
     ]
    },
    {
     "name": "stderr",
     "output_type": "stream",
     "text": [
      "[2024-12-02 20:29:13] INFO (torcheeg/MainThread) \n",
      "[Train] train_loss: 0.003 train_accuracy: 1.000 \n",
      "\n"
     ]
    },
    {
     "name": "stdout",
     "output_type": "stream",
     "text": [
      "Epoch 59: 100%|██████████| 7/7 [00:00<00:00,  9.81it/s, loss=0.00268, v_num=0, train_loss=2.13e-6, train_accuracy=1.000] "
     ]
    },
    {
     "name": "stderr",
     "output_type": "stream",
     "text": [
      "[2024-12-02 20:29:17] INFO (torcheeg/MainThread) \n",
      "[Train] train_loss: 0.001 train_accuracy: 1.000 \n",
      "\n"
     ]
    },
    {
     "name": "stdout",
     "output_type": "stream",
     "text": [
      "Epoch 60: 100%|██████████| 7/7 [00:00<00:00,  9.85it/s, loss=0.00233, v_num=0, train_loss=7.48e-6, train_accuracy=1.000] "
     ]
    },
    {
     "name": "stderr",
     "output_type": "stream",
     "text": [
      "[2024-12-02 20:29:22] INFO (torcheeg/MainThread) \n",
      "[Train] train_loss: 0.003 train_accuracy: 0.995 \n",
      "\n"
     ]
    },
    {
     "name": "stdout",
     "output_type": "stream",
     "text": [
      "Epoch 61: 100%|██████████| 7/7 [00:00<00:00,  9.82it/s, loss=0.00196, v_num=0, train_loss=1.37e-6, train_accuracy=1.000] "
     ]
    },
    {
     "name": "stderr",
     "output_type": "stream",
     "text": [
      "[2024-12-02 20:29:26] INFO (torcheeg/MainThread) \n",
      "[Train] train_loss: 0.002 train_accuracy: 1.000 \n",
      "\n"
     ]
    },
    {
     "name": "stdout",
     "output_type": "stream",
     "text": [
      "Epoch 62: 100%|██████████| 7/7 [00:00<00:00, 10.05it/s, loss=0.00175, v_num=0, train_loss=1.46e-5, train_accuracy=1.000] "
     ]
    },
    {
     "name": "stderr",
     "output_type": "stream",
     "text": [
      "[2024-12-02 20:29:30] INFO (torcheeg/MainThread) \n",
      "[Train] train_loss: 0.000 train_accuracy: 1.000 \n",
      "\n"
     ]
    },
    {
     "name": "stdout",
     "output_type": "stream",
     "text": [
      "Epoch 63: 100%|██████████| 7/7 [00:00<00:00,  9.88it/s, loss=0.00151, v_num=0, train_loss=5.11e-6, train_accuracy=1.000]"
     ]
    },
    {
     "name": "stderr",
     "output_type": "stream",
     "text": [
      "[2024-12-02 20:29:35] INFO (torcheeg/MainThread) \n",
      "[Train] train_loss: 0.003 train_accuracy: 1.000 \n",
      "\n"
     ]
    },
    {
     "name": "stdout",
     "output_type": "stream",
     "text": [
      "Epoch 64: 100%|██████████| 7/7 [00:00<00:00,  9.89it/s, loss=0.00747, v_num=0, train_loss=0.000916, train_accuracy=1.000]"
     ]
    },
    {
     "name": "stderr",
     "output_type": "stream",
     "text": [
      "[2024-12-02 20:29:39] INFO (torcheeg/MainThread) \n",
      "[Train] train_loss: 0.019 train_accuracy: 0.995 \n",
      "\n"
     ]
    },
    {
     "name": "stdout",
     "output_type": "stream",
     "text": [
      "Epoch 65: 100%|██████████| 7/7 [00:00<00:00,  9.88it/s, loss=0.00967, v_num=0, train_loss=2.4e-5, train_accuracy=1.000]  "
     ]
    },
    {
     "name": "stderr",
     "output_type": "stream",
     "text": [
      "[2024-12-02 20:29:43] INFO (torcheeg/MainThread) \n",
      "[Train] train_loss: 0.006 train_accuracy: 0.995 \n",
      "\n"
     ]
    },
    {
     "name": "stdout",
     "output_type": "stream",
     "text": [
      "Epoch 66: 100%|██████████| 7/7 [00:00<00:00,  9.55it/s, loss=0.00876, v_num=0, train_loss=1.64e-6, train_accuracy=1.000] "
     ]
    },
    {
     "name": "stderr",
     "output_type": "stream",
     "text": [
      "[2024-12-02 20:29:48] INFO (torcheeg/MainThread) \n",
      "[Train] train_loss: 0.000 train_accuracy: 1.000 \n",
      "\n"
     ]
    },
    {
     "name": "stdout",
     "output_type": "stream",
     "text": [
      "Epoch 67: 100%|██████████| 7/7 [00:00<00:00,  9.91it/s, loss=0.00743, v_num=0, train_loss=3e-6, train_accuracy=1.000]    "
     ]
    },
    {
     "name": "stderr",
     "output_type": "stream",
     "text": [
      "[2024-12-02 20:29:52] INFO (torcheeg/MainThread) \n",
      "[Train] train_loss: 0.015 train_accuracy: 0.995 \n",
      "\n"
     ]
    },
    {
     "name": "stdout",
     "output_type": "stream",
     "text": [
      "Epoch 68: 100%|██████████| 7/7 [00:00<00:00,  9.93it/s, loss=0.00899, v_num=0, train_loss=1.47e-5, train_accuracy=1.000]"
     ]
    },
    {
     "name": "stderr",
     "output_type": "stream",
     "text": [
      "[2024-12-02 20:29:56] INFO (torcheeg/MainThread) \n",
      "[Train] train_loss: 0.011 train_accuracy: 0.995 \n",
      "\n"
     ]
    },
    {
     "name": "stdout",
     "output_type": "stream",
     "text": [
      "Epoch 69: 100%|██████████| 7/7 [00:00<00:00,  9.85it/s, loss=0.0153, v_num=0, train_loss=0.0108, train_accuracy=1.000]  "
     ]
    },
    {
     "name": "stderr",
     "output_type": "stream",
     "text": [
      "[2024-12-02 20:30:01] INFO (torcheeg/MainThread) \n",
      "[Train] train_loss: 0.018 train_accuracy: 0.995 \n",
      "\n"
     ]
    },
    {
     "name": "stdout",
     "output_type": "stream",
     "text": [
      "Epoch 70: 100%|██████████| 7/7 [00:00<00:00,  9.98it/s, loss=0.0113, v_num=0, train_loss=0.000634, train_accuracy=1.000]"
     ]
    },
    {
     "name": "stderr",
     "output_type": "stream",
     "text": [
      "[2024-12-02 20:30:05] INFO (torcheeg/MainThread) \n",
      "[Train] train_loss: 0.003 train_accuracy: 1.000 \n",
      "\n"
     ]
    },
    {
     "name": "stdout",
     "output_type": "stream",
     "text": [
      "Epoch 71: 100%|██████████| 7/7 [00:00<00:00,  9.96it/s, loss=0.00815, v_num=0, train_loss=0.000321, train_accuracy=1.000]"
     ]
    },
    {
     "name": "stderr",
     "output_type": "stream",
     "text": [
      "[2024-12-02 20:30:09] INFO (torcheeg/MainThread) \n",
      "[Train] train_loss: 0.004 train_accuracy: 0.995 \n",
      "\n"
     ]
    },
    {
     "name": "stdout",
     "output_type": "stream",
     "text": [
      "Epoch 72: 100%|██████████| 7/7 [00:00<00:00,  9.88it/s, loss=0.0165, v_num=0, train_loss=0.000381, train_accuracy=1.000] "
     ]
    },
    {
     "name": "stderr",
     "output_type": "stream",
     "text": [
      "[2024-12-02 20:30:14] INFO (torcheeg/MainThread) \n",
      "[Train] train_loss: 0.040 train_accuracy: 0.995 \n",
      "\n"
     ]
    },
    {
     "name": "stdout",
     "output_type": "stream",
     "text": [
      "Epoch 73: 100%|██████████| 7/7 [00:00<00:00,  9.95it/s, loss=0.02, v_num=0, train_loss=3.36e-5, train_accuracy=1.000]   "
     ]
    },
    {
     "name": "stderr",
     "output_type": "stream",
     "text": [
      "[2024-12-02 20:30:18] INFO (torcheeg/MainThread) \n",
      "[Train] train_loss: 0.014 train_accuracy: 0.995 \n",
      "\n"
     ]
    },
    {
     "name": "stdout",
     "output_type": "stream",
     "text": [
      "Epoch 74: 100%|██████████| 7/7 [00:00<00:00,  9.76it/s, loss=0.0221, v_num=0, train_loss=4.96e-5, train_accuracy=1.000] "
     ]
    },
    {
     "name": "stderr",
     "output_type": "stream",
     "text": [
      "[2024-12-02 20:30:22] INFO (torcheeg/MainThread) \n",
      "[Train] train_loss: 0.012 train_accuracy: 0.990 \n",
      "\n"
     ]
    },
    {
     "name": "stdout",
     "output_type": "stream",
     "text": [
      "Epoch 75: 100%|██████████| 7/7 [00:00<00:00,  9.90it/s, loss=0.0164, v_num=0, train_loss=0.113, train_accuracy=0.875]   "
     ]
    },
    {
     "name": "stderr",
     "output_type": "stream",
     "text": [
      "[2024-12-02 20:30:26] INFO (torcheeg/MainThread) \n",
      "[Train] train_loss: 0.021 train_accuracy: 0.995 \n",
      "\n"
     ]
    },
    {
     "name": "stdout",
     "output_type": "stream",
     "text": [
      "Epoch 76: 100%|██████████| 7/7 [00:00<00:00,  9.99it/s, loss=0.031, v_num=0, train_loss=0.00166, train_accuracy=1.000]  "
     ]
    },
    {
     "name": "stderr",
     "output_type": "stream",
     "text": [
      "Monitored metric train_loss did not improve in the last 20 records. Best score: 0.000. Signaling Trainer to stop.\n"
     ]
    },
    {
     "name": "stdout",
     "output_type": "stream",
     "text": [
      "Epoch 76: 100%|██████████| 7/7 [00:00<00:00,  9.96it/s, loss=0.031, v_num=0, train_loss=0.00166, train_accuracy=1.000]"
     ]
    },
    {
     "name": "stderr",
     "output_type": "stream",
     "text": [
      "[2024-12-02 20:30:31] INFO (torcheeg/MainThread) \n",
      "[Train] train_loss: 0.056 train_accuracy: 0.995 \n",
      "\n"
     ]
    },
    {
     "name": "stdout",
     "output_type": "stream",
     "text": [
      "Epoch 76: 100%|██████████| 7/7 [00:04<00:00,  1.67it/s, loss=0.031, v_num=0, train_loss=0.00166, train_accuracy=1.000]\n"
     ]
    },
    {
     "name": "stderr",
     "output_type": "stream",
     "text": [
      "GPU available: True (cuda), used: True\n",
      "TPU available: False, using: 0 TPU cores\n",
      "IPU available: False, using: 0 IPUs\n",
      "HPU available: False, using: 0 HPUs\n",
      "LOCAL_RANK: 0 - CUDA_VISIBLE_DEVICES: [0]\n",
      "/root/autodl-tmp/conda/envs/law/lib/python3.8/site-packages/pytorch_lightning/trainer/connectors/data_connector.py:224: PossibleUserWarning: The dataloader, test_dataloader 0, does not have many workers which may be a bottleneck. Consider increasing the value of the `num_workers` argument` (try 128 which is the number of cpus on this machine) in the `DataLoader` init to improve performance.\n",
      "  rank_zero_warn(\n"
     ]
    },
    {
     "name": "stdout",
     "output_type": "stream",
     "text": [
      "Testing DataLoader 0: 100%|██████████| 3/3 [00:00<00:00, 39.36it/s]"
     ]
    },
    {
     "name": "stderr",
     "output_type": "stream",
     "text": [
      "[2024-12-02 20:30:32] INFO (torcheeg/MainThread) \n",
      "[Test] test_loss: 2.426 test_accuracy: 0.688 \n",
      "\n"
     ]
    },
    {
     "name": "stdout",
     "output_type": "stream",
     "text": [
      "Testing DataLoader 0: 100%|██████████| 3/3 [00:00<00:00, 36.55it/s]\n",
      "────────────────────────────────────────────────────────────────────────────────────────────────────────────────────────\n",
      "       Test metric             DataLoader 0\n",
      "────────────────────────────────────────────────────────────────────────────────────────────────────────────────────────\n",
      "      test_accuracy               0.6875\n",
      "        test_loss           2.4262382984161377\n",
      "────────────────────────────────────────────────────────────────────────────────────────────────────────────────────────\n",
      "已删除文件夹: /root/autodl-tmp/.autodl/kinlaw/mi_swin/lightning_logs\n"
     ]
    },
    {
     "name": "stderr",
     "output_type": "stream",
     "text": [
      "GPU available: True (cuda), used: True\n",
      "TPU available: False, using: 0 TPU cores\n",
      "IPU available: False, using: 0 IPUs\n",
      "HPU available: False, using: 0 HPUs\n",
      "Missing logger folder: /root/autodl-tmp/.autodl/kinlaw/mi_swin/lightning_logs\n",
      "LOCAL_RANK: 0 - CUDA_VISIBLE_DEVICES: [0]\n",
      "/root/autodl-tmp/conda/envs/law/lib/python3.8/site-packages/pytorch_lightning/trainer/connectors/data_connector.py:224: PossibleUserWarning: The dataloader, train_dataloader, does not have many workers which may be a bottleneck. Consider increasing the value of the `num_workers` argument` (try 128 which is the number of cpus on this machine) in the `DataLoader` init to improve performance.\n",
      "  rank_zero_warn(\n",
      "/root/autodl-tmp/conda/envs/law/lib/python3.8/site-packages/pytorch_lightning/trainer/trainer.py:1609: PossibleUserWarning: The number of training batches (7) is smaller than the logging interval Trainer(log_every_n_steps=50). Set a lower value for log_every_n_steps if you want to see logs for the training epoch.\n",
      "  rank_zero_warn(\n"
     ]
    },
    {
     "name": "stdout",
     "output_type": "stream",
     "text": [
      "Epoch 0: 100%|██████████| 7/7 [00:00<00:00,  9.63it/s, loss=3.09, v_num=0, train_loss=1.120, train_accuracy=0.375] "
     ]
    },
    {
     "name": "stderr",
     "output_type": "stream",
     "text": [
      "Metric train_loss improved. New best score: 1.118\n"
     ]
    },
    {
     "name": "stdout",
     "output_type": "stream",
     "text": [
      "Epoch 0: 100%|██████████| 7/7 [00:00<00:00,  9.61it/s, loss=3.09, v_num=0, train_loss=1.120, train_accuracy=0.375]"
     ]
    },
    {
     "name": "stderr",
     "output_type": "stream",
     "text": [
      "[2024-12-02 20:30:38] INFO (torcheeg/MainThread) \n",
      "[Train] train_loss: 3.093 train_accuracy: 0.460 \n",
      "\n"
     ]
    },
    {
     "name": "stdout",
     "output_type": "stream",
     "text": [
      "Epoch 1: 100%|██████████| 7/7 [00:00<00:00,  9.84it/s, loss=2.15, v_num=0, train_loss=2.020, train_accuracy=0.250]"
     ]
    },
    {
     "name": "stderr",
     "output_type": "stream",
     "text": [
      "[2024-12-02 20:30:43] INFO (torcheeg/MainThread) \n",
      "[Train] train_loss: 1.207 train_accuracy: 0.655 \n",
      "\n"
     ]
    },
    {
     "name": "stdout",
     "output_type": "stream",
     "text": [
      "Epoch 2: 100%|██████████| 7/7 [00:00<00:00,  9.87it/s, loss=1.71, v_num=0, train_loss=0.822, train_accuracy=0.875]"
     ]
    },
    {
     "name": "stderr",
     "output_type": "stream",
     "text": [
      "Metric train_loss improved by 0.295 >= min_delta = 0.0. New best score: 0.822\n"
     ]
    },
    {
     "name": "stdout",
     "output_type": "stream",
     "text": [
      "Epoch 2: 100%|██████████| 7/7 [00:00<00:00,  9.84it/s, loss=1.71, v_num=0, train_loss=0.822, train_accuracy=0.875]"
     ]
    },
    {
     "name": "stderr",
     "output_type": "stream",
     "text": [
      "[2024-12-02 20:30:48] INFO (torcheeg/MainThread) \n",
      "[Train] train_loss: 0.717 train_accuracy: 0.770 \n",
      "\n"
     ]
    },
    {
     "name": "stdout",
     "output_type": "stream",
     "text": [
      "Epoch 3: 100%|██████████| 7/7 [00:00<00:00, 10.02it/s, loss=0.855, v_num=0, train_loss=0.588, train_accuracy=0.625]"
     ]
    },
    {
     "name": "stderr",
     "output_type": "stream",
     "text": [
      "Metric train_loss improved by 0.234 >= min_delta = 0.0. New best score: 0.588\n"
     ]
    },
    {
     "name": "stdout",
     "output_type": "stream",
     "text": [
      "Epoch 3: 100%|██████████| 7/7 [00:00<00:00,  9.99it/s, loss=0.855, v_num=0, train_loss=0.588, train_accuracy=0.625]"
     ]
    },
    {
     "name": "stderr",
     "output_type": "stream",
     "text": [
      "[2024-12-02 20:30:52] INFO (torcheeg/MainThread) \n",
      "[Train] train_loss: 0.634 train_accuracy: 0.760 \n",
      "\n"
     ]
    },
    {
     "name": "stdout",
     "output_type": "stream",
     "text": [
      "Epoch 4: 100%|██████████| 7/7 [00:00<00:00,  9.98it/s, loss=0.575, v_num=0, train_loss=0.147, train_accuracy=0.875]"
     ]
    },
    {
     "name": "stderr",
     "output_type": "stream",
     "text": [
      "Metric train_loss improved by 0.441 >= min_delta = 0.0. New best score: 0.147\n"
     ]
    },
    {
     "name": "stdout",
     "output_type": "stream",
     "text": [
      "Epoch 4: 100%|██████████| 7/7 [00:00<00:00,  9.96it/s, loss=0.575, v_num=0, train_loss=0.147, train_accuracy=0.875]"
     ]
    },
    {
     "name": "stderr",
     "output_type": "stream",
     "text": [
      "[2024-12-02 20:30:57] INFO (torcheeg/MainThread) \n",
      "[Train] train_loss: 0.359 train_accuracy: 0.815 \n",
      "\n"
     ]
    },
    {
     "name": "stdout",
     "output_type": "stream",
     "text": [
      "Epoch 5: 100%|██████████| 7/7 [00:00<00:00,  9.92it/s, loss=0.409, v_num=0, train_loss=0.100, train_accuracy=0.875]"
     ]
    },
    {
     "name": "stderr",
     "output_type": "stream",
     "text": [
      "Metric train_loss improved by 0.046 >= min_delta = 0.0. New best score: 0.100\n"
     ]
    },
    {
     "name": "stdout",
     "output_type": "stream",
     "text": [
      "Epoch 5: 100%|██████████| 7/7 [00:00<00:00,  9.89it/s, loss=0.409, v_num=0, train_loss=0.100, train_accuracy=0.875]"
     ]
    },
    {
     "name": "stderr",
     "output_type": "stream",
     "text": [
      "[2024-12-02 20:31:01] INFO (torcheeg/MainThread) \n",
      "[Train] train_loss: 0.228 train_accuracy: 0.930 \n",
      "\n"
     ]
    },
    {
     "name": "stdout",
     "output_type": "stream",
     "text": [
      "Epoch 6: 100%|██████████| 7/7 [00:00<00:00,  9.90it/s, loss=0.208, v_num=0, train_loss=0.0179, train_accuracy=1.000]"
     ]
    },
    {
     "name": "stderr",
     "output_type": "stream",
     "text": [
      "Metric train_loss improved by 0.083 >= min_delta = 0.0. New best score: 0.018\n"
     ]
    },
    {
     "name": "stdout",
     "output_type": "stream",
     "text": [
      "Epoch 6: 100%|██████████| 7/7 [00:00<00:00,  9.87it/s, loss=0.208, v_num=0, train_loss=0.0179, train_accuracy=1.000]"
     ]
    },
    {
     "name": "stderr",
     "output_type": "stream",
     "text": [
      "[2024-12-02 20:31:06] INFO (torcheeg/MainThread) \n",
      "[Train] train_loss: 0.054 train_accuracy: 0.985 \n",
      "\n"
     ]
    },
    {
     "name": "stdout",
     "output_type": "stream",
     "text": [
      "Epoch 7: 100%|██████████| 7/7 [00:00<00:00,  9.88it/s, loss=0.124, v_num=0, train_loss=0.0171, train_accuracy=1.000]"
     ]
    },
    {
     "name": "stderr",
     "output_type": "stream",
     "text": [
      "Metric train_loss improved by 0.001 >= min_delta = 0.0. New best score: 0.017\n"
     ]
    },
    {
     "name": "stdout",
     "output_type": "stream",
     "text": [
      "Epoch 7: 100%|██████████| 7/7 [00:00<00:00,  9.85it/s, loss=0.124, v_num=0, train_loss=0.0171, train_accuracy=1.000]"
     ]
    },
    {
     "name": "stderr",
     "output_type": "stream",
     "text": [
      "[2024-12-02 20:31:10] INFO (torcheeg/MainThread) \n",
      "[Train] train_loss: 0.095 train_accuracy: 0.970 \n",
      "\n"
     ]
    },
    {
     "name": "stdout",
     "output_type": "stream",
     "text": [
      "Epoch 8: 100%|██████████| 7/7 [00:00<00:00, 10.07it/s, loss=0.08, v_num=0, train_loss=0.272, train_accuracy=0.875]   "
     ]
    },
    {
     "name": "stderr",
     "output_type": "stream",
     "text": [
      "[2024-12-02 20:31:15] INFO (torcheeg/MainThread) \n",
      "[Train] train_loss: 0.087 train_accuracy: 0.985 \n",
      "\n"
     ]
    },
    {
     "name": "stdout",
     "output_type": "stream",
     "text": [
      "Epoch 9: 100%|██████████| 7/7 [00:00<00:00,  9.96it/s, loss=0.0758, v_num=0, train_loss=0.111, train_accuracy=0.875]  "
     ]
    },
    {
     "name": "stderr",
     "output_type": "stream",
     "text": [
      "[2024-12-02 20:31:19] INFO (torcheeg/MainThread) \n",
      "[Train] train_loss: 0.050 train_accuracy: 0.980 \n",
      "\n"
     ]
    },
    {
     "name": "stdout",
     "output_type": "stream",
     "text": [
      "Epoch 10: 100%|██████████| 7/7 [00:00<00:00,  9.99it/s, loss=0.0657, v_num=0, train_loss=0.0479, train_accuracy=1.000] "
     ]
    },
    {
     "name": "stderr",
     "output_type": "stream",
     "text": [
      "[2024-12-02 20:31:24] INFO (torcheeg/MainThread) \n",
      "[Train] train_loss: 0.061 train_accuracy: 0.980 \n",
      "\n"
     ]
    },
    {
     "name": "stdout",
     "output_type": "stream",
     "text": [
      "Epoch 11: 100%|██████████| 7/7 [00:00<00:00,  9.89it/s, loss=0.0583, v_num=0, train_loss=0.00663, train_accuracy=1.000]"
     ]
    },
    {
     "name": "stderr",
     "output_type": "stream",
     "text": [
      "Metric train_loss improved by 0.010 >= min_delta = 0.0. New best score: 0.007\n"
     ]
    },
    {
     "name": "stdout",
     "output_type": "stream",
     "text": [
      "Epoch 11: 100%|██████████| 7/7 [00:00<00:00,  9.87it/s, loss=0.0583, v_num=0, train_loss=0.00663, train_accuracy=1.000]"
     ]
    },
    {
     "name": "stderr",
     "output_type": "stream",
     "text": [
      "[2024-12-02 20:31:28] INFO (torcheeg/MainThread) \n",
      "[Train] train_loss: 0.057 train_accuracy: 0.975 \n",
      "\n"
     ]
    },
    {
     "name": "stdout",
     "output_type": "stream",
     "text": [
      "Epoch 12: 100%|██████████| 7/7 [00:00<00:00,  9.95it/s, loss=0.0553, v_num=0, train_loss=0.0686, train_accuracy=1.000] "
     ]
    },
    {
     "name": "stderr",
     "output_type": "stream",
     "text": [
      "[2024-12-02 20:31:32] INFO (torcheeg/MainThread) \n",
      "[Train] train_loss: 0.041 train_accuracy: 0.990 \n",
      "\n"
     ]
    },
    {
     "name": "stdout",
     "output_type": "stream",
     "text": [
      "Epoch 13: 100%|██████████| 7/7 [00:00<00:00,  9.85it/s, loss=0.0619, v_num=0, train_loss=0.0219, train_accuracy=1.000]"
     ]
    },
    {
     "name": "stderr",
     "output_type": "stream",
     "text": [
      "[2024-12-02 20:31:36] INFO (torcheeg/MainThread) \n",
      "[Train] train_loss: 0.080 train_accuracy: 0.980 \n",
      "\n"
     ]
    },
    {
     "name": "stdout",
     "output_type": "stream",
     "text": [
      "Epoch 14: 100%|██████████| 7/7 [00:00<00:00,  9.92it/s, loss=0.0516, v_num=0, train_loss=0.00111, train_accuracy=1.000]"
     ]
    },
    {
     "name": "stderr",
     "output_type": "stream",
     "text": [
      "Metric train_loss improved by 0.006 >= min_delta = 0.0. New best score: 0.001\n"
     ]
    },
    {
     "name": "stdout",
     "output_type": "stream",
     "text": [
      "Epoch 14: 100%|██████████| 7/7 [00:00<00:00,  9.90it/s, loss=0.0516, v_num=0, train_loss=0.00111, train_accuracy=1.000]"
     ]
    },
    {
     "name": "stderr",
     "output_type": "stream",
     "text": [
      "[2024-12-02 20:31:41] INFO (torcheeg/MainThread) \n",
      "[Train] train_loss: 0.041 train_accuracy: 0.980 \n",
      "\n"
     ]
    },
    {
     "name": "stdout",
     "output_type": "stream",
     "text": [
      "Epoch 15: 100%|██████████| 7/7 [00:00<00:00,  9.98it/s, loss=0.0484, v_num=0, train_loss=0.00569, train_accuracy=1.000]"
     ]
    },
    {
     "name": "stderr",
     "output_type": "stream",
     "text": [
      "[2024-12-02 20:31:45] INFO (torcheeg/MainThread) \n",
      "[Train] train_loss: 0.020 train_accuracy: 0.990 \n",
      "\n"
     ]
    },
    {
     "name": "stdout",
     "output_type": "stream",
     "text": [
      "Epoch 16: 100%|██████████| 7/7 [00:00<00:00, 10.05it/s, loss=0.0355, v_num=0, train_loss=0.00172, train_accuracy=1.000]"
     ]
    },
    {
     "name": "stderr",
     "output_type": "stream",
     "text": [
      "[2024-12-02 20:31:49] INFO (torcheeg/MainThread) \n",
      "[Train] train_loss: 0.049 train_accuracy: 0.985 \n",
      "\n"
     ]
    },
    {
     "name": "stdout",
     "output_type": "stream",
     "text": [
      "Epoch 17: 100%|██████████| 7/7 [00:00<00:00,  9.83it/s, loss=0.028, v_num=0, train_loss=0.0131, train_accuracy=1.000]  "
     ]
    },
    {
     "name": "stderr",
     "output_type": "stream",
     "text": [
      "[2024-12-02 20:31:53] INFO (torcheeg/MainThread) \n",
      "[Train] train_loss: 0.012 train_accuracy: 0.995 \n",
      "\n"
     ]
    },
    {
     "name": "stdout",
     "output_type": "stream",
     "text": [
      "Epoch 18: 100%|██████████| 7/7 [00:00<00:00,  9.92it/s, loss=0.021, v_num=0, train_loss=0.000556, train_accuracy=1.000] "
     ]
    },
    {
     "name": "stderr",
     "output_type": "stream",
     "text": [
      "Metric train_loss improved by 0.001 >= min_delta = 0.0. New best score: 0.001\n"
     ]
    },
    {
     "name": "stdout",
     "output_type": "stream",
     "text": [
      "Epoch 18: 100%|██████████| 7/7 [00:00<00:00,  9.90it/s, loss=0.021, v_num=0, train_loss=0.000556, train_accuracy=1.000]"
     ]
    },
    {
     "name": "stderr",
     "output_type": "stream",
     "text": [
      "[2024-12-02 20:31:57] INFO (torcheeg/MainThread) \n",
      "[Train] train_loss: 0.003 train_accuracy: 1.000 \n",
      "\n"
     ]
    },
    {
     "name": "stdout",
     "output_type": "stream",
     "text": [
      "Epoch 19: 100%|██████████| 7/7 [00:00<00:00,  9.86it/s, loss=0.00923, v_num=0, train_loss=0.00219, train_accuracy=1.000] "
     ]
    },
    {
     "name": "stderr",
     "output_type": "stream",
     "text": [
      "[2024-12-02 20:32:02] INFO (torcheeg/MainThread) \n",
      "[Train] train_loss: 0.012 train_accuracy: 0.995 \n",
      "\n"
     ]
    },
    {
     "name": "stdout",
     "output_type": "stream",
     "text": [
      "Epoch 20: 100%|██████████| 7/7 [00:00<00:00,  9.90it/s, loss=0.00973, v_num=0, train_loss=0.000481, train_accuracy=1.000]"
     ]
    },
    {
     "name": "stderr",
     "output_type": "stream",
     "text": [
      "Metric train_loss improved by 0.000 >= min_delta = 0.0. New best score: 0.000\n"
     ]
    },
    {
     "name": "stdout",
     "output_type": "stream",
     "text": [
      "Epoch 20: 100%|██████████| 7/7 [00:00<00:00,  9.88it/s, loss=0.00973, v_num=0, train_loss=0.000481, train_accuracy=1.000]"
     ]
    },
    {
     "name": "stderr",
     "output_type": "stream",
     "text": [
      "[2024-12-02 20:32:06] INFO (torcheeg/MainThread) \n",
      "[Train] train_loss: 0.014 train_accuracy: 0.995 \n",
      "\n"
     ]
    },
    {
     "name": "stdout",
     "output_type": "stream",
     "text": [
      "Epoch 21: 100%|██████████| 7/7 [00:00<00:00,  9.91it/s, loss=0.00907, v_num=0, train_loss=2.09e-5, train_accuracy=1.000] "
     ]
    },
    {
     "name": "stderr",
     "output_type": "stream",
     "text": [
      "Metric train_loss improved by 0.000 >= min_delta = 0.0. New best score: 0.000\n"
     ]
    },
    {
     "name": "stdout",
     "output_type": "stream",
     "text": [
      "Epoch 21: 100%|██████████| 7/7 [00:00<00:00,  9.89it/s, loss=0.00907, v_num=0, train_loss=2.09e-5, train_accuracy=1.000]"
     ]
    },
    {
     "name": "stderr",
     "output_type": "stream",
     "text": [
      "[2024-12-02 20:32:10] INFO (torcheeg/MainThread) \n",
      "[Train] train_loss: 0.003 train_accuracy: 1.000 \n",
      "\n"
     ]
    },
    {
     "name": "stdout",
     "output_type": "stream",
     "text": [
      "Epoch 22: 100%|██████████| 7/7 [00:00<00:00,  9.81it/s, loss=0.00859, v_num=0, train_loss=0.000715, train_accuracy=1.000]"
     ]
    },
    {
     "name": "stderr",
     "output_type": "stream",
     "text": [
      "[2024-12-02 20:32:15] INFO (torcheeg/MainThread) \n",
      "[Train] train_loss: 0.008 train_accuracy: 1.000 \n",
      "\n"
     ]
    },
    {
     "name": "stdout",
     "output_type": "stream",
     "text": [
      "Epoch 23: 100%|██████████| 7/7 [00:00<00:00,  9.92it/s, loss=0.00417, v_num=0, train_loss=9.18e-5, train_accuracy=1.000] "
     ]
    },
    {
     "name": "stderr",
     "output_type": "stream",
     "text": [
      "[2024-12-02 20:32:19] INFO (torcheeg/MainThread) \n",
      "[Train] train_loss: 0.001 train_accuracy: 1.000 \n",
      "\n"
     ]
    },
    {
     "name": "stdout",
     "output_type": "stream",
     "text": [
      "Epoch 24: 100%|██████████| 7/7 [00:00<00:00,  9.90it/s, loss=0.00333, v_num=0, train_loss=1.39e-5, train_accuracy=1.000] "
     ]
    },
    {
     "name": "stderr",
     "output_type": "stream",
     "text": [
      "Metric train_loss improved by 0.000 >= min_delta = 0.0. New best score: 0.000\n"
     ]
    },
    {
     "name": "stdout",
     "output_type": "stream",
     "text": [
      "Epoch 24: 100%|██████████| 7/7 [00:00<00:00,  9.86it/s, loss=0.00333, v_num=0, train_loss=1.39e-5, train_accuracy=1.000]"
     ]
    },
    {
     "name": "stderr",
     "output_type": "stream",
     "text": [
      "[2024-12-02 20:32:23] INFO (torcheeg/MainThread) \n",
      "[Train] train_loss: 0.004 train_accuracy: 1.000 \n",
      "\n"
     ]
    },
    {
     "name": "stdout",
     "output_type": "stream",
     "text": [
      "Epoch 25: 100%|██████████| 7/7 [00:00<00:00,  9.99it/s, loss=0.00381, v_num=0, train_loss=2.54e-5, train_accuracy=1.000] "
     ]
    },
    {
     "name": "stderr",
     "output_type": "stream",
     "text": [
      "[2024-12-02 20:32:27] INFO (torcheeg/MainThread) \n",
      "[Train] train_loss: 0.006 train_accuracy: 0.995 \n",
      "\n"
     ]
    },
    {
     "name": "stdout",
     "output_type": "stream",
     "text": [
      "Epoch 26: 100%|██████████| 7/7 [00:00<00:00,  9.61it/s, loss=0.00812, v_num=0, train_loss=5.41e-5, train_accuracy=1.000] "
     ]
    },
    {
     "name": "stderr",
     "output_type": "stream",
     "text": [
      "[2024-12-02 20:32:32] INFO (torcheeg/MainThread) \n",
      "[Train] train_loss: 0.015 train_accuracy: 0.995 \n",
      "\n"
     ]
    },
    {
     "name": "stdout",
     "output_type": "stream",
     "text": [
      "Epoch 27: 100%|██████████| 7/7 [00:00<00:00,  9.91it/s, loss=0.0111, v_num=0, train_loss=0.000409, train_accuracy=1.000]"
     ]
    },
    {
     "name": "stderr",
     "output_type": "stream",
     "text": [
      "[2024-12-02 20:32:36] INFO (torcheeg/MainThread) \n",
      "[Train] train_loss: 0.011 train_accuracy: 0.990 \n",
      "\n"
     ]
    },
    {
     "name": "stdout",
     "output_type": "stream",
     "text": [
      "Epoch 28: 100%|██████████| 7/7 [00:00<00:00,  9.99it/s, loss=0.00496, v_num=0, train_loss=0.000223, train_accuracy=1.000]"
     ]
    },
    {
     "name": "stderr",
     "output_type": "stream",
     "text": [
      "[2024-12-02 20:32:40] INFO (torcheeg/MainThread) \n",
      "[Train] train_loss: 0.002 train_accuracy: 1.000 \n",
      "\n"
     ]
    },
    {
     "name": "stdout",
     "output_type": "stream",
     "text": [
      "Epoch 29: 100%|██████████| 7/7 [00:00<00:00,  9.83it/s, loss=0.00602, v_num=0, train_loss=0.00344, train_accuracy=1.000] "
     ]
    },
    {
     "name": "stderr",
     "output_type": "stream",
     "text": [
      "[2024-12-02 20:32:45] INFO (torcheeg/MainThread) \n",
      "[Train] train_loss: 0.009 train_accuracy: 0.995 \n",
      "\n"
     ]
    },
    {
     "name": "stdout",
     "output_type": "stream",
     "text": [
      "Epoch 30: 100%|██████████| 7/7 [00:00<00:00,  9.65it/s, loss=0.00802, v_num=0, train_loss=0.000335, train_accuracy=1.000]"
     ]
    },
    {
     "name": "stderr",
     "output_type": "stream",
     "text": [
      "[2024-12-02 20:32:49] INFO (torcheeg/MainThread) \n",
      "[Train] train_loss: 0.012 train_accuracy: 0.995 \n",
      "\n"
     ]
    },
    {
     "name": "stdout",
     "output_type": "stream",
     "text": [
      "Epoch 31: 100%|██████████| 7/7 [00:00<00:00,  9.91it/s, loss=0.0108, v_num=0, train_loss=0.0047, train_accuracy=1.000]   "
     ]
    },
    {
     "name": "stderr",
     "output_type": "stream",
     "text": [
      "[2024-12-02 20:32:53] INFO (torcheeg/MainThread) \n",
      "[Train] train_loss: 0.010 train_accuracy: 0.990 \n",
      "\n"
     ]
    },
    {
     "name": "stdout",
     "output_type": "stream",
     "text": [
      "Epoch 32: 100%|██████████| 7/7 [00:00<00:00,  9.92it/s, loss=0.005, v_num=0, train_loss=0.00019, train_accuracy=1.000]   "
     ]
    },
    {
     "name": "stderr",
     "output_type": "stream",
     "text": [
      "[2024-12-02 20:32:57] INFO (torcheeg/MainThread) \n",
      "[Train] train_loss: 0.001 train_accuracy: 1.000 \n",
      "\n"
     ]
    },
    {
     "name": "stdout",
     "output_type": "stream",
     "text": [
      "Epoch 33: 100%|██████████| 7/7 [00:00<00:00,  9.89it/s, loss=0.0185, v_num=0, train_loss=2.79e-5, train_accuracy=1.000]  "
     ]
    },
    {
     "name": "stderr",
     "output_type": "stream",
     "text": [
      "[2024-12-02 20:33:02] INFO (torcheeg/MainThread) \n",
      "[Train] train_loss: 0.047 train_accuracy: 0.990 \n",
      "\n"
     ]
    },
    {
     "name": "stdout",
     "output_type": "stream",
     "text": [
      "Epoch 34: 100%|██████████| 7/7 [00:00<00:00,  9.99it/s, loss=0.0352, v_num=0, train_loss=0.00421, train_accuracy=1.000] "
     ]
    },
    {
     "name": "stderr",
     "output_type": "stream",
     "text": [
      "[2024-12-02 20:33:06] INFO (torcheeg/MainThread) \n",
      "[Train] train_loss: 0.053 train_accuracy: 0.980 \n",
      "\n"
     ]
    },
    {
     "name": "stdout",
     "output_type": "stream",
     "text": [
      "Epoch 35: 100%|██████████| 7/7 [00:00<00:00, 10.00it/s, loss=0.0709, v_num=0, train_loss=0.628, train_accuracy=0.750]  "
     ]
    },
    {
     "name": "stderr",
     "output_type": "stream",
     "text": [
      "[2024-12-02 20:33:10] INFO (torcheeg/MainThread) \n",
      "[Train] train_loss: 0.102 train_accuracy: 0.980 \n",
      "\n"
     ]
    },
    {
     "name": "stdout",
     "output_type": "stream",
     "text": [
      "Epoch 36: 100%|██████████| 7/7 [00:00<00:00,  9.83it/s, loss=0.0942, v_num=0, train_loss=0.0103, train_accuracy=1.000] "
     ]
    },
    {
     "name": "stderr",
     "output_type": "stream",
     "text": [
      "[2024-12-02 20:33:15] INFO (torcheeg/MainThread) \n",
      "[Train] train_loss: 0.115 train_accuracy: 0.955 \n",
      "\n"
     ]
    },
    {
     "name": "stdout",
     "output_type": "stream",
     "text": [
      "Epoch 37: 100%|██████████| 7/7 [00:00<00:00,  9.97it/s, loss=0.124, v_num=0, train_loss=0.0385, train_accuracy=1.000] "
     ]
    },
    {
     "name": "stderr",
     "output_type": "stream",
     "text": [
      "[2024-12-02 20:33:19] INFO (torcheeg/MainThread) \n",
      "[Train] train_loss: 0.138 train_accuracy: 0.950 \n",
      "\n"
     ]
    },
    {
     "name": "stdout",
     "output_type": "stream",
     "text": [
      "Epoch 38: 100%|██████████| 7/7 [00:00<00:00,  9.83it/s, loss=0.106, v_num=0, train_loss=0.253, train_accuracy=0.875] "
     ]
    },
    {
     "name": "stderr",
     "output_type": "stream",
     "text": [
      "[2024-12-02 20:33:23] INFO (torcheeg/MainThread) \n",
      "[Train] train_loss: 0.076 train_accuracy: 0.980 \n",
      "\n"
     ]
    },
    {
     "name": "stdout",
     "output_type": "stream",
     "text": [
      "Epoch 39: 100%|██████████| 7/7 [00:00<00:00,  9.64it/s, loss=0.0946, v_num=0, train_loss=0.00615, train_accuracy=1.000]"
     ]
    },
    {
     "name": "stderr",
     "output_type": "stream",
     "text": [
      "[2024-12-02 20:33:27] INFO (torcheeg/MainThread) \n",
      "[Train] train_loss: 0.081 train_accuracy: 0.960 \n",
      "\n"
     ]
    },
    {
     "name": "stdout",
     "output_type": "stream",
     "text": [
      "Epoch 40: 100%|██████████| 7/7 [00:00<00:00,  9.89it/s, loss=0.0676, v_num=0, train_loss=0.0168, train_accuracy=1.000] "
     ]
    },
    {
     "name": "stderr",
     "output_type": "stream",
     "text": [
      "[2024-12-02 20:33:32] INFO (torcheeg/MainThread) \n",
      "[Train] train_loss: 0.042 train_accuracy: 0.990 \n",
      "\n"
     ]
    },
    {
     "name": "stdout",
     "output_type": "stream",
     "text": [
      "Epoch 41: 100%|██████████| 7/7 [00:00<00:00, 10.00it/s, loss=0.0492, v_num=0, train_loss=0.0387, train_accuracy=1.000] "
     ]
    },
    {
     "name": "stderr",
     "output_type": "stream",
     "text": [
      "[2024-12-02 20:33:36] INFO (torcheeg/MainThread) \n",
      "[Train] train_loss: 0.020 train_accuracy: 0.995 \n",
      "\n"
     ]
    },
    {
     "name": "stdout",
     "output_type": "stream",
     "text": [
      "Epoch 42: 100%|██████████| 7/7 [00:00<00:00,  9.83it/s, loss=0.0216, v_num=0, train_loss=0.0145, train_accuracy=1.000] "
     ]
    },
    {
     "name": "stderr",
     "output_type": "stream",
     "text": [
      "[2024-12-02 20:33:40] INFO (torcheeg/MainThread) \n",
      "[Train] train_loss: 0.010 train_accuracy: 0.995 \n",
      "\n"
     ]
    },
    {
     "name": "stdout",
     "output_type": "stream",
     "text": [
      "Epoch 43: 100%|██████████| 7/7 [00:00<00:00,  9.87it/s, loss=0.0106, v_num=0, train_loss=0.000122, train_accuracy=1.000]"
     ]
    },
    {
     "name": "stderr",
     "output_type": "stream",
     "text": [
      "[2024-12-02 20:33:45] INFO (torcheeg/MainThread) \n",
      "[Train] train_loss: 0.005 train_accuracy: 1.000 \n",
      "\n"
     ]
    },
    {
     "name": "stdout",
     "output_type": "stream",
     "text": [
      "Epoch 44: 100%|██████████| 7/7 [00:00<00:00, 10.00it/s, loss=0.00677, v_num=0, train_loss=0.0158, train_accuracy=1.000] "
     ]
    },
    {
     "name": "stderr",
     "output_type": "stream",
     "text": [
      "Monitored metric train_loss did not improve in the last 20 records. Best score: 0.000. Signaling Trainer to stop.\n"
     ]
    },
    {
     "name": "stdout",
     "output_type": "stream",
     "text": [
      "Epoch 44: 100%|██████████| 7/7 [00:00<00:00,  9.98it/s, loss=0.00677, v_num=0, train_loss=0.0158, train_accuracy=1.000]"
     ]
    },
    {
     "name": "stderr",
     "output_type": "stream",
     "text": [
      "[2024-12-02 20:33:49] INFO (torcheeg/MainThread) \n",
      "[Train] train_loss: 0.005 train_accuracy: 1.000 \n",
      "\n"
     ]
    },
    {
     "name": "stdout",
     "output_type": "stream",
     "text": [
      "Epoch 44: 100%|██████████| 7/7 [00:04<00:00,  1.63it/s, loss=0.00677, v_num=0, train_loss=0.0158, train_accuracy=1.000]\n"
     ]
    },
    {
     "name": "stderr",
     "output_type": "stream",
     "text": [
      "GPU available: True (cuda), used: True\n",
      "TPU available: False, using: 0 TPU cores\n",
      "IPU available: False, using: 0 IPUs\n",
      "HPU available: False, using: 0 HPUs\n",
      "LOCAL_RANK: 0 - CUDA_VISIBLE_DEVICES: [0]\n",
      "/root/autodl-tmp/conda/envs/law/lib/python3.8/site-packages/pytorch_lightning/trainer/connectors/data_connector.py:224: PossibleUserWarning: The dataloader, test_dataloader 0, does not have many workers which may be a bottleneck. Consider increasing the value of the `num_workers` argument` (try 128 which is the number of cpus on this machine) in the `DataLoader` init to improve performance.\n",
      "  rank_zero_warn(\n"
     ]
    },
    {
     "name": "stdout",
     "output_type": "stream",
     "text": [
      "Testing DataLoader 0: 100%|██████████| 3/3 [00:00<00:00, 39.62it/s]"
     ]
    },
    {
     "name": "stderr",
     "output_type": "stream",
     "text": [
      "[2024-12-02 20:33:50] INFO (torcheeg/MainThread) \n",
      "[Test] test_loss: 1.367 test_accuracy: 0.775 \n",
      "\n"
     ]
    },
    {
     "name": "stdout",
     "output_type": "stream",
     "text": [
      "Testing DataLoader 0: 100%|██████████| 3/3 [00:00<00:00, 36.96it/s]\n",
      "────────────────────────────────────────────────────────────────────────────────────────────────────────────────────────\n",
      "       Test metric             DataLoader 0\n",
      "────────────────────────────────────────────────────────────────────────────────────────────────────────────────────────\n",
      "      test_accuracy         0.7749999761581421\n",
      "        test_loss            1.367099404335022\n",
      "────────────────────────────────────────────────────────────────────────────────────────────────────────────────────────\n",
      "已删除文件夹: /root/autodl-tmp/.autodl/kinlaw/mi_swin/lightning_logs\n"
     ]
    },
    {
     "name": "stderr",
     "output_type": "stream",
     "text": [
      "GPU available: True (cuda), used: True\n",
      "TPU available: False, using: 0 TPU cores\n",
      "IPU available: False, using: 0 IPUs\n",
      "HPU available: False, using: 0 HPUs\n",
      "Missing logger folder: /root/autodl-tmp/.autodl/kinlaw/mi_swin/lightning_logs\n",
      "LOCAL_RANK: 0 - CUDA_VISIBLE_DEVICES: [0]\n",
      "/root/autodl-tmp/conda/envs/law/lib/python3.8/site-packages/pytorch_lightning/trainer/connectors/data_connector.py:224: PossibleUserWarning: The dataloader, train_dataloader, does not have many workers which may be a bottleneck. Consider increasing the value of the `num_workers` argument` (try 128 which is the number of cpus on this machine) in the `DataLoader` init to improve performance.\n",
      "  rank_zero_warn(\n",
      "/root/autodl-tmp/conda/envs/law/lib/python3.8/site-packages/pytorch_lightning/trainer/trainer.py:1609: PossibleUserWarning: The number of training batches (8) is smaller than the logging interval Trainer(log_every_n_steps=50). Set a lower value for log_every_n_steps if you want to see logs for the training epoch.\n",
      "  rank_zero_warn(\n"
     ]
    },
    {
     "name": "stdout",
     "output_type": "stream",
     "text": [
      "Epoch 0: 100%|██████████| 8/8 [00:00<00:00,  9.68it/s, loss=2.58, v_num=0, train_loss=1.500, train_accuracy=0.625] "
     ]
    },
    {
     "name": "stderr",
     "output_type": "stream",
     "text": [
      "Metric train_loss improved. New best score: 1.496\n"
     ]
    },
    {
     "name": "stdout",
     "output_type": "stream",
     "text": [
      "Epoch 0: 100%|██████████| 8/8 [00:00<00:00,  9.66it/s, loss=2.58, v_num=0, train_loss=1.500, train_accuracy=0.625]"
     ]
    },
    {
     "name": "stderr",
     "output_type": "stream",
     "text": [
      "[2024-12-02 20:33:57] INFO (torcheeg/MainThread) \n",
      "[Train] train_loss: 2.582 train_accuracy: 0.546 \n",
      "\n"
     ]
    },
    {
     "name": "stdout",
     "output_type": "stream",
     "text": [
      "Epoch 1: 100%|██████████| 8/8 [00:00<00:00,  9.98it/s, loss=1.76, v_num=0, train_loss=0.736, train_accuracy=0.688]"
     ]
    },
    {
     "name": "stderr",
     "output_type": "stream",
     "text": [
      "Metric train_loss improved by 0.760 >= min_delta = 0.0. New best score: 0.736\n"
     ]
    },
    {
     "name": "stdout",
     "output_type": "stream",
     "text": [
      "Epoch 1: 100%|██████████| 8/8 [00:00<00:00,  9.96it/s, loss=1.76, v_num=0, train_loss=0.736, train_accuracy=0.688]"
     ]
    },
    {
     "name": "stderr",
     "output_type": "stream",
     "text": [
      "[2024-12-02 20:34:01] INFO (torcheeg/MainThread) \n",
      "[Train] train_loss: 0.938 train_accuracy: 0.654 \n",
      "\n"
     ]
    },
    {
     "name": "stdout",
     "output_type": "stream",
     "text": [
      "Epoch 2: 100%|██████████| 8/8 [00:00<00:00,  9.82it/s, loss=0.934, v_num=0, train_loss=0.799, train_accuracy=0.812]"
     ]
    },
    {
     "name": "stderr",
     "output_type": "stream",
     "text": [
      "[2024-12-02 20:34:05] INFO (torcheeg/MainThread) \n",
      "[Train] train_loss: 0.425 train_accuracy: 0.863 \n",
      "\n"
     ]
    },
    {
     "name": "stdout",
     "output_type": "stream",
     "text": [
      "Epoch 3: 100%|██████████| 8/8 [00:00<00:00,  9.91it/s, loss=0.416, v_num=0, train_loss=0.233, train_accuracy=0.938] "
     ]
    },
    {
     "name": "stderr",
     "output_type": "stream",
     "text": [
      "Metric train_loss improved by 0.502 >= min_delta = 0.0. New best score: 0.233\n"
     ]
    },
    {
     "name": "stdout",
     "output_type": "stream",
     "text": [
      "Epoch 3: 100%|██████████| 8/8 [00:00<00:00,  9.89it/s, loss=0.416, v_num=0, train_loss=0.233, train_accuracy=0.938]"
     ]
    },
    {
     "name": "stderr",
     "output_type": "stream",
     "text": [
      "[2024-12-02 20:34:10] INFO (torcheeg/MainThread) \n",
      "[Train] train_loss: 0.231 train_accuracy: 0.913 \n",
      "\n"
     ]
    },
    {
     "name": "stdout",
     "output_type": "stream",
     "text": [
      "Epoch 4: 100%|██████████| 8/8 [00:00<00:00,  9.84it/s, loss=0.224, v_num=0, train_loss=0.0727, train_accuracy=1.000]"
     ]
    },
    {
     "name": "stderr",
     "output_type": "stream",
     "text": [
      "Metric train_loss improved by 0.161 >= min_delta = 0.0. New best score: 0.073\n"
     ]
    },
    {
     "name": "stdout",
     "output_type": "stream",
     "text": [
      "Epoch 4: 100%|██████████| 8/8 [00:00<00:00,  9.82it/s, loss=0.224, v_num=0, train_loss=0.0727, train_accuracy=1.000]"
     ]
    },
    {
     "name": "stderr",
     "output_type": "stream",
     "text": [
      "[2024-12-02 20:34:14] INFO (torcheeg/MainThread) \n",
      "[Train] train_loss: 0.133 train_accuracy: 0.954 \n",
      "\n"
     ]
    },
    {
     "name": "stdout",
     "output_type": "stream",
     "text": [
      "Epoch 5: 100%|██████████| 8/8 [00:00<00:00,  9.88it/s, loss=0.125, v_num=0, train_loss=0.00328, train_accuracy=1.000]"
     ]
    },
    {
     "name": "stderr",
     "output_type": "stream",
     "text": [
      "Metric train_loss improved by 0.069 >= min_delta = 0.0. New best score: 0.003\n"
     ]
    },
    {
     "name": "stdout",
     "output_type": "stream",
     "text": [
      "Epoch 5: 100%|██████████| 8/8 [00:00<00:00,  9.86it/s, loss=0.125, v_num=0, train_loss=0.00328, train_accuracy=1.000]"
     ]
    },
    {
     "name": "stderr",
     "output_type": "stream",
     "text": [
      "[2024-12-02 20:34:19] INFO (torcheeg/MainThread) \n",
      "[Train] train_loss: 0.083 train_accuracy: 0.979 \n",
      "\n"
     ]
    },
    {
     "name": "stdout",
     "output_type": "stream",
     "text": [
      "Epoch 6: 100%|██████████| 8/8 [00:00<00:00,  9.71it/s, loss=0.0693, v_num=0, train_loss=0.0102, train_accuracy=1.000] "
     ]
    },
    {
     "name": "stderr",
     "output_type": "stream",
     "text": [
      "[2024-12-02 20:34:23] INFO (torcheeg/MainThread) \n",
      "[Train] train_loss: 0.045 train_accuracy: 0.983 \n",
      "\n"
     ]
    },
    {
     "name": "stdout",
     "output_type": "stream",
     "text": [
      "Epoch 7: 100%|██████████| 8/8 [00:00<00:00,  9.83it/s, loss=0.0354, v_num=0, train_loss=0.0211, train_accuracy=1.000] "
     ]
    },
    {
     "name": "stderr",
     "output_type": "stream",
     "text": [
      "[2024-12-02 20:34:28] INFO (torcheeg/MainThread) \n",
      "[Train] train_loss: 0.023 train_accuracy: 0.992 \n",
      "\n"
     ]
    },
    {
     "name": "stdout",
     "output_type": "stream",
     "text": [
      "Epoch 8: 100%|██████████| 8/8 [00:00<00:00, 10.01it/s, loss=0.0298, v_num=0, train_loss=0.00308, train_accuracy=1.000]"
     ]
    },
    {
     "name": "stderr",
     "output_type": "stream",
     "text": [
      "Metric train_loss improved by 0.000 >= min_delta = 0.0. New best score: 0.003\n"
     ]
    },
    {
     "name": "stdout",
     "output_type": "stream",
     "text": [
      "Epoch 8: 100%|██████████| 8/8 [00:00<00:00,  9.99it/s, loss=0.0298, v_num=0, train_loss=0.00308, train_accuracy=1.000]"
     ]
    },
    {
     "name": "stderr",
     "output_type": "stream",
     "text": [
      "[2024-12-02 20:34:32] INFO (torcheeg/MainThread) \n",
      "[Train] train_loss: 0.036 train_accuracy: 0.979 \n",
      "\n"
     ]
    },
    {
     "name": "stdout",
     "output_type": "stream",
     "text": [
      "Epoch 9: 100%|██████████| 8/8 [00:00<00:00,  9.83it/s, loss=0.0455, v_num=0, train_loss=0.00138, train_accuracy=1.000] "
     ]
    },
    {
     "name": "stderr",
     "output_type": "stream",
     "text": [
      "Metric train_loss improved by 0.002 >= min_delta = 0.0. New best score: 0.001\n"
     ]
    },
    {
     "name": "stdout",
     "output_type": "stream",
     "text": [
      "Epoch 9: 100%|██████████| 8/8 [00:00<00:00,  9.80it/s, loss=0.0455, v_num=0, train_loss=0.00138, train_accuracy=1.000]"
     ]
    },
    {
     "name": "stderr",
     "output_type": "stream",
     "text": [
      "[2024-12-02 20:34:37] INFO (torcheeg/MainThread) \n",
      "[Train] train_loss: 0.065 train_accuracy: 0.979 \n",
      "\n"
     ]
    },
    {
     "name": "stdout",
     "output_type": "stream",
     "text": [
      "Epoch 10: 100%|██████████| 8/8 [00:00<00:00,  9.94it/s, loss=0.0787, v_num=0, train_loss=0.409, train_accuracy=0.938]   "
     ]
    },
    {
     "name": "stderr",
     "output_type": "stream",
     "text": [
      "[2024-12-02 20:34:41] INFO (torcheeg/MainThread) \n",
      "[Train] train_loss: 0.118 train_accuracy: 0.979 \n",
      "\n"
     ]
    },
    {
     "name": "stdout",
     "output_type": "stream",
     "text": [
      "Epoch 11: 100%|██████████| 8/8 [00:00<00:00,  9.82it/s, loss=0.116, v_num=0, train_loss=0.233, train_accuracy=0.938]   "
     ]
    },
    {
     "name": "stderr",
     "output_type": "stream",
     "text": [
      "[2024-12-02 20:34:46] INFO (torcheeg/MainThread) \n",
      "[Train] train_loss: 0.124 train_accuracy: 0.967 \n",
      "\n"
     ]
    },
    {
     "name": "stdout",
     "output_type": "stream",
     "text": [
      "Epoch 12: 100%|██████████| 8/8 [00:00<00:00,  9.63it/s, loss=0.0929, v_num=0, train_loss=0.0162, train_accuracy=1.000]"
     ]
    },
    {
     "name": "stderr",
     "output_type": "stream",
     "text": [
      "[2024-12-02 20:34:50] INFO (torcheeg/MainThread) \n",
      "[Train] train_loss: 0.051 train_accuracy: 0.983 \n",
      "\n"
     ]
    },
    {
     "name": "stdout",
     "output_type": "stream",
     "text": [
      "Epoch 13: 100%|██████████| 8/8 [00:00<00:00,  9.91it/s, loss=0.074, v_num=0, train_loss=0.0131, train_accuracy=1.000]  "
     ]
    },
    {
     "name": "stderr",
     "output_type": "stream",
     "text": [
      "[2024-12-02 20:34:54] INFO (torcheeg/MainThread) \n",
      "[Train] train_loss: 0.041 train_accuracy: 0.983 \n",
      "\n"
     ]
    },
    {
     "name": "stdout",
     "output_type": "stream",
     "text": [
      "Epoch 14: 100%|██████████| 8/8 [00:00<00:00,  9.91it/s, loss=0.0348, v_num=0, train_loss=0.0131, train_accuracy=1.000] "
     ]
    },
    {
     "name": "stderr",
     "output_type": "stream",
     "text": [
      "[2024-12-02 20:34:59] INFO (torcheeg/MainThread) \n",
      "[Train] train_loss: 0.035 train_accuracy: 0.983 \n",
      "\n"
     ]
    },
    {
     "name": "stdout",
     "output_type": "stream",
     "text": [
      "Epoch 15: 100%|██████████| 8/8 [00:00<00:00,  9.73it/s, loss=0.0356, v_num=0, train_loss=0.0141, train_accuracy=1.000] "
     ]
    },
    {
     "name": "stderr",
     "output_type": "stream",
     "text": [
      "[2024-12-02 20:35:03] INFO (torcheeg/MainThread) \n",
      "[Train] train_loss: 0.032 train_accuracy: 0.988 \n",
      "\n"
     ]
    },
    {
     "name": "stdout",
     "output_type": "stream",
     "text": [
      "Epoch 16: 100%|██████████| 8/8 [00:00<00:00,  9.85it/s, loss=0.025, v_num=0, train_loss=0.0309, train_accuracy=1.000]   "
     ]
    },
    {
     "name": "stderr",
     "output_type": "stream",
     "text": [
      "[2024-12-02 20:35:08] INFO (torcheeg/MainThread) \n",
      "[Train] train_loss: 0.010 train_accuracy: 0.996 \n",
      "\n"
     ]
    },
    {
     "name": "stdout",
     "output_type": "stream",
     "text": [
      "Epoch 17: 100%|██████████| 8/8 [00:00<00:00, 10.00it/s, loss=0.0171, v_num=0, train_loss=0.000339, train_accuracy=1.000]"
     ]
    },
    {
     "name": "stderr",
     "output_type": "stream",
     "text": [
      "Metric train_loss improved by 0.001 >= min_delta = 0.0. New best score: 0.000\n"
     ]
    },
    {
     "name": "stdout",
     "output_type": "stream",
     "text": [
      "Epoch 17: 100%|██████████| 8/8 [00:00<00:00,  9.98it/s, loss=0.0171, v_num=0, train_loss=0.000339, train_accuracy=1.000]"
     ]
    },
    {
     "name": "stderr",
     "output_type": "stream",
     "text": [
      "[2024-12-02 20:35:12] INFO (torcheeg/MainThread) \n",
      "[Train] train_loss: 0.018 train_accuracy: 0.996 \n",
      "\n"
     ]
    },
    {
     "name": "stdout",
     "output_type": "stream",
     "text": [
      "Epoch 18: 100%|██████████| 8/8 [00:00<00:00,  9.97it/s, loss=0.0166, v_num=0, train_loss=0.019, train_accuracy=1.000]   "
     ]
    },
    {
     "name": "stderr",
     "output_type": "stream",
     "text": [
      "[2024-12-02 20:35:16] INFO (torcheeg/MainThread) \n",
      "[Train] train_loss: 0.019 train_accuracy: 0.988 \n",
      "\n"
     ]
    },
    {
     "name": "stdout",
     "output_type": "stream",
     "text": [
      "Epoch 19: 100%|██████████| 8/8 [00:00<00:00,  9.90it/s, loss=0.0164, v_num=0, train_loss=0.0014, train_accuracy=1.000]  "
     ]
    },
    {
     "name": "stderr",
     "output_type": "stream",
     "text": [
      "[2024-12-02 20:35:21] INFO (torcheeg/MainThread) \n",
      "[Train] train_loss: 0.020 train_accuracy: 0.992 \n",
      "\n"
     ]
    },
    {
     "name": "stdout",
     "output_type": "stream",
     "text": [
      "Epoch 20: 100%|██████████| 8/8 [00:00<00:00,  9.95it/s, loss=0.0461, v_num=0, train_loss=0.140, train_accuracy=0.938]   "
     ]
    },
    {
     "name": "stderr",
     "output_type": "stream",
     "text": [
      "[2024-12-02 20:35:25] INFO (torcheeg/MainThread) \n",
      "[Train] train_loss: 0.089 train_accuracy: 0.979 \n",
      "\n"
     ]
    },
    {
     "name": "stdout",
     "output_type": "stream",
     "text": [
      "Epoch 21: 100%|██████████| 8/8 [00:00<00:00,  9.85it/s, loss=0.0765, v_num=0, train_loss=0.0706, train_accuracy=0.938] "
     ]
    },
    {
     "name": "stderr",
     "output_type": "stream",
     "text": [
      "[2024-12-02 20:35:30] INFO (torcheeg/MainThread) \n",
      "[Train] train_loss: 0.083 train_accuracy: 0.962 \n",
      "\n"
     ]
    },
    {
     "name": "stdout",
     "output_type": "stream",
     "text": [
      "Epoch 22: 100%|██████████| 8/8 [00:00<00:00,  9.86it/s, loss=0.0763, v_num=0, train_loss=0.0015, train_accuracy=1.000] "
     ]
    },
    {
     "name": "stderr",
     "output_type": "stream",
     "text": [
      "[2024-12-02 20:35:34] INFO (torcheeg/MainThread) \n",
      "[Train] train_loss: 0.040 train_accuracy: 0.988 \n",
      "\n"
     ]
    },
    {
     "name": "stdout",
     "output_type": "stream",
     "text": [
      "Epoch 23: 100%|██████████| 8/8 [00:00<00:00,  9.88it/s, loss=0.0326, v_num=0, train_loss=0.0603, train_accuracy=0.938]  "
     ]
    },
    {
     "name": "stderr",
     "output_type": "stream",
     "text": [
      "[2024-12-02 20:35:38] INFO (torcheeg/MainThread) \n",
      "[Train] train_loss: 0.016 train_accuracy: 0.996 \n",
      "\n"
     ]
    },
    {
     "name": "stdout",
     "output_type": "stream",
     "text": [
      "Epoch 24: 100%|██████████| 8/8 [00:00<00:00,  9.90it/s, loss=0.0193, v_num=0, train_loss=0.00186, train_accuracy=1.000] "
     ]
    },
    {
     "name": "stderr",
     "output_type": "stream",
     "text": [
      "[2024-12-02 20:35:43] INFO (torcheeg/MainThread) \n",
      "[Train] train_loss: 0.017 train_accuracy: 0.992 \n",
      "\n"
     ]
    },
    {
     "name": "stdout",
     "output_type": "stream",
     "text": [
      "Epoch 25: 100%|██████████| 8/8 [00:00<00:00,  9.92it/s, loss=0.0177, v_num=0, train_loss=0.000769, train_accuracy=1.000]"
     ]
    },
    {
     "name": "stderr",
     "output_type": "stream",
     "text": [
      "[2024-12-02 20:35:47] INFO (torcheeg/MainThread) \n",
      "[Train] train_loss: 0.015 train_accuracy: 0.996 \n",
      "\n"
     ]
    },
    {
     "name": "stdout",
     "output_type": "stream",
     "text": [
      "Epoch 26: 100%|██████████| 8/8 [00:00<00:00,  9.89it/s, loss=0.0186, v_num=0, train_loss=0.188, train_accuracy=0.938]    "
     ]
    },
    {
     "name": "stderr",
     "output_type": "stream",
     "text": [
      "[2024-12-02 20:35:51] INFO (torcheeg/MainThread) \n",
      "[Train] train_loss: 0.030 train_accuracy: 0.996 \n",
      "\n"
     ]
    },
    {
     "name": "stdout",
     "output_type": "stream",
     "text": [
      "Epoch 27: 100%|██████████| 8/8 [00:00<00:00,  9.88it/s, loss=0.0357, v_num=0, train_loss=0.000205, train_accuracy=1.000]"
     ]
    },
    {
     "name": "stderr",
     "output_type": "stream",
     "text": [
      "Metric train_loss improved by 0.000 >= min_delta = 0.0. New best score: 0.000\n"
     ]
    },
    {
     "name": "stdout",
     "output_type": "stream",
     "text": [
      "Epoch 27: 100%|██████████| 8/8 [00:00<00:00,  9.86it/s, loss=0.0357, v_num=0, train_loss=0.000205, train_accuracy=1.000]"
     ]
    },
    {
     "name": "stderr",
     "output_type": "stream",
     "text": [
      "[2024-12-02 20:35:56] INFO (torcheeg/MainThread) \n",
      "[Train] train_loss: 0.045 train_accuracy: 0.983 \n",
      "\n"
     ]
    },
    {
     "name": "stdout",
     "output_type": "stream",
     "text": [
      "Epoch 28: 100%|██████████| 8/8 [00:00<00:00,  9.88it/s, loss=0.0398, v_num=0, train_loss=0.00255, train_accuracy=1.000] "
     ]
    },
    {
     "name": "stderr",
     "output_type": "stream",
     "text": [
      "[2024-12-02 20:36:00] INFO (torcheeg/MainThread) \n",
      "[Train] train_loss: 0.029 train_accuracy: 0.988 \n",
      "\n"
     ]
    },
    {
     "name": "stdout",
     "output_type": "stream",
     "text": [
      "Epoch 29: 100%|██████████| 8/8 [00:00<00:00,  9.90it/s, loss=0.0656, v_num=0, train_loss=0.517, train_accuracy=0.938]  "
     ]
    },
    {
     "name": "stderr",
     "output_type": "stream",
     "text": [
      "[2024-12-02 20:36:05] INFO (torcheeg/MainThread) \n",
      "[Train] train_loss: 0.101 train_accuracy: 0.983 \n",
      "\n"
     ]
    },
    {
     "name": "stdout",
     "output_type": "stream",
     "text": [
      "Epoch 30: 100%|██████████| 8/8 [00:00<00:00,  9.77it/s, loss=0.0764, v_num=0, train_loss=0.00688, train_accuracy=1.000]"
     ]
    },
    {
     "name": "stderr",
     "output_type": "stream",
     "text": [
      "[2024-12-02 20:36:09] INFO (torcheeg/MainThread) \n",
      "[Train] train_loss: 0.068 train_accuracy: 0.971 \n",
      "\n"
     ]
    },
    {
     "name": "stdout",
     "output_type": "stream",
     "text": [
      "Epoch 31: 100%|██████████| 8/8 [00:00<00:00,  9.55it/s, loss=0.0748, v_num=0, train_loss=0.030, train_accuracy=1.000]  "
     ]
    },
    {
     "name": "stderr",
     "output_type": "stream",
     "text": [
      "[2024-12-02 20:36:14] INFO (torcheeg/MainThread) \n",
      "[Train] train_loss: 0.045 train_accuracy: 0.983 \n",
      "\n"
     ]
    },
    {
     "name": "stdout",
     "output_type": "stream",
     "text": [
      "Epoch 32: 100%|██████████| 8/8 [00:00<00:00,  9.83it/s, loss=0.0454, v_num=0, train_loss=0.00962, train_accuracy=1.000]"
     ]
    },
    {
     "name": "stderr",
     "output_type": "stream",
     "text": [
      "[2024-12-02 20:36:18] INFO (torcheeg/MainThread) \n",
      "[Train] train_loss: 0.022 train_accuracy: 0.992 \n",
      "\n"
     ]
    },
    {
     "name": "stdout",
     "output_type": "stream",
     "text": [
      "Epoch 33: 100%|██████████| 8/8 [00:00<00:00,  9.82it/s, loss=0.0316, v_num=0, train_loss=0.00122, train_accuracy=1.000] "
     ]
    },
    {
     "name": "stderr",
     "output_type": "stream",
     "text": [
      "[2024-12-02 20:36:22] INFO (torcheeg/MainThread) \n",
      "[Train] train_loss: 0.029 train_accuracy: 0.992 \n",
      "\n"
     ]
    },
    {
     "name": "stdout",
     "output_type": "stream",
     "text": [
      "Epoch 34: 100%|██████████| 8/8 [00:00<00:00,  9.79it/s, loss=0.0192, v_num=0, train_loss=0.00209, train_accuracy=1.000]"
     ]
    },
    {
     "name": "stderr",
     "output_type": "stream",
     "text": [
      "[2024-12-02 20:36:27] INFO (torcheeg/MainThread) \n",
      "[Train] train_loss: 0.007 train_accuracy: 1.000 \n",
      "\n"
     ]
    },
    {
     "name": "stdout",
     "output_type": "stream",
     "text": [
      "Epoch 35: 100%|██████████| 8/8 [00:00<00:00,  9.92it/s, loss=0.0137, v_num=0, train_loss=0.000276, train_accuracy=1.000]"
     ]
    },
    {
     "name": "stderr",
     "output_type": "stream",
     "text": [
      "[2024-12-02 20:36:31] INFO (torcheeg/MainThread) \n",
      "[Train] train_loss: 0.001 train_accuracy: 1.000 \n",
      "\n"
     ]
    },
    {
     "name": "stdout",
     "output_type": "stream",
     "text": [
      "Epoch 36: 100%|██████████| 8/8 [00:00<00:00, 10.00it/s, loss=0.00214, v_num=0, train_loss=0.000217, train_accuracy=1.000]"
     ]
    },
    {
     "name": "stderr",
     "output_type": "stream",
     "text": [
      "[2024-12-02 20:36:36] INFO (torcheeg/MainThread) \n",
      "[Train] train_loss: 0.001 train_accuracy: 1.000 \n",
      "\n"
     ]
    },
    {
     "name": "stdout",
     "output_type": "stream",
     "text": [
      "Epoch 37: 100%|██████████| 8/8 [00:00<00:00,  9.97it/s, loss=0.000815, v_num=0, train_loss=8.96e-5, train_accuracy=1.000] "
     ]
    },
    {
     "name": "stderr",
     "output_type": "stream",
     "text": [
      "Metric train_loss improved by 0.000 >= min_delta = 0.0. New best score: 0.000\n"
     ]
    },
    {
     "name": "stdout",
     "output_type": "stream",
     "text": [
      "Epoch 37: 100%|██████████| 8/8 [00:00<00:00,  9.95it/s, loss=0.000815, v_num=0, train_loss=8.96e-5, train_accuracy=1.000]"
     ]
    },
    {
     "name": "stderr",
     "output_type": "stream",
     "text": [
      "[2024-12-02 20:36:40] INFO (torcheeg/MainThread) \n",
      "[Train] train_loss: 0.001 train_accuracy: 1.000 \n",
      "\n"
     ]
    },
    {
     "name": "stdout",
     "output_type": "stream",
     "text": [
      "Epoch 38: 100%|██████████| 8/8 [00:00<00:00,  9.70it/s, loss=0.00341, v_num=0, train_loss=0.00635, train_accuracy=1.000]  "
     ]
    },
    {
     "name": "stderr",
     "output_type": "stream",
     "text": [
      "[2024-12-02 20:36:45] INFO (torcheeg/MainThread) \n",
      "[Train] train_loss: 0.008 train_accuracy: 0.996 \n",
      "\n"
     ]
    },
    {
     "name": "stdout",
     "output_type": "stream",
     "text": [
      "Epoch 39: 100%|██████████| 8/8 [00:00<00:00,  9.72it/s, loss=0.00589, v_num=0, train_loss=0.0496, train_accuracy=0.938]  "
     ]
    },
    {
     "name": "stderr",
     "output_type": "stream",
     "text": [
      "[2024-12-02 20:36:49] INFO (torcheeg/MainThread) \n",
      "[Train] train_loss: 0.007 train_accuracy: 0.996 \n",
      "\n"
     ]
    },
    {
     "name": "stdout",
     "output_type": "stream",
     "text": [
      "Epoch 40: 100%|██████████| 8/8 [00:00<00:00,  9.84it/s, loss=0.00866, v_num=0, train_loss=1.15e-5, train_accuracy=1.000] "
     ]
    },
    {
     "name": "stderr",
     "output_type": "stream",
     "text": [
      "Metric train_loss improved by 0.000 >= min_delta = 0.0. New best score: 0.000\n"
     ]
    },
    {
     "name": "stdout",
     "output_type": "stream",
     "text": [
      "Epoch 40: 100%|██████████| 8/8 [00:00<00:00,  9.81it/s, loss=0.00866, v_num=0, train_loss=1.15e-5, train_accuracy=1.000]"
     ]
    },
    {
     "name": "stderr",
     "output_type": "stream",
     "text": [
      "[2024-12-02 20:36:54] INFO (torcheeg/MainThread) \n",
      "[Train] train_loss: 0.014 train_accuracy: 0.996 \n",
      "\n"
     ]
    },
    {
     "name": "stdout",
     "output_type": "stream",
     "text": [
      "Epoch 41: 100%|██████████| 8/8 [00:00<00:00,  9.93it/s, loss=0.0216, v_num=0, train_loss=0.00011, train_accuracy=1.000] "
     ]
    },
    {
     "name": "stderr",
     "output_type": "stream",
     "text": [
      "[2024-12-02 20:36:58] INFO (torcheeg/MainThread) \n",
      "[Train] train_loss: 0.034 train_accuracy: 0.988 \n",
      "\n"
     ]
    },
    {
     "name": "stdout",
     "output_type": "stream",
     "text": [
      "Epoch 42: 100%|██████████| 8/8 [00:00<00:00,  9.71it/s, loss=0.0511, v_num=0, train_loss=0.00037, train_accuracy=1.000]"
     ]
    },
    {
     "name": "stderr",
     "output_type": "stream",
     "text": [
      "[2024-12-02 20:37:03] INFO (torcheeg/MainThread) \n",
      "[Train] train_loss: 0.080 train_accuracy: 0.975 \n",
      "\n"
     ]
    },
    {
     "name": "stdout",
     "output_type": "stream",
     "text": [
      "Epoch 43: 100%|██████████| 8/8 [00:00<00:00,  9.70it/s, loss=0.0575, v_num=0, train_loss=0.199, train_accuracy=0.938]  "
     ]
    },
    {
     "name": "stderr",
     "output_type": "stream",
     "text": [
      "[2024-12-02 20:37:07] INFO (torcheeg/MainThread) \n",
      "[Train] train_loss: 0.047 train_accuracy: 0.983 \n",
      "\n"
     ]
    },
    {
     "name": "stdout",
     "output_type": "stream",
     "text": [
      "Epoch 44: 100%|██████████| 8/8 [00:00<00:00,  9.83it/s, loss=0.0366, v_num=0, train_loss=0.000371, train_accuracy=1.000]"
     ]
    },
    {
     "name": "stderr",
     "output_type": "stream",
     "text": [
      "[2024-12-02 20:37:12] INFO (torcheeg/MainThread) \n",
      "[Train] train_loss: 0.018 train_accuracy: 0.992 \n",
      "\n"
     ]
    },
    {
     "name": "stdout",
     "output_type": "stream",
     "text": [
      "Epoch 45: 100%|██████████| 8/8 [00:00<00:00,  9.80it/s, loss=0.0271, v_num=0, train_loss=0.00913, train_accuracy=1.000] "
     ]
    },
    {
     "name": "stderr",
     "output_type": "stream",
     "text": [
      "[2024-12-02 20:37:16] INFO (torcheeg/MainThread) \n",
      "[Train] train_loss: 0.016 train_accuracy: 0.996 \n",
      "\n"
     ]
    },
    {
     "name": "stdout",
     "output_type": "stream",
     "text": [
      "Epoch 46: 100%|██████████| 8/8 [00:00<00:00,  9.97it/s, loss=0.0148, v_num=0, train_loss=0.0282, train_accuracy=1.000]  "
     ]
    },
    {
     "name": "stderr",
     "output_type": "stream",
     "text": [
      "[2024-12-02 20:37:20] INFO (torcheeg/MainThread) \n",
      "[Train] train_loss: 0.014 train_accuracy: 0.996 \n",
      "\n"
     ]
    },
    {
     "name": "stdout",
     "output_type": "stream",
     "text": [
      "Epoch 47: 100%|██████████| 8/8 [00:00<00:00,  9.79it/s, loss=0.0158, v_num=0, train_loss=0.0046, train_accuracy=1.000]  "
     ]
    },
    {
     "name": "stderr",
     "output_type": "stream",
     "text": [
      "[2024-12-02 20:37:25] INFO (torcheeg/MainThread) \n",
      "[Train] train_loss: 0.011 train_accuracy: 0.996 \n",
      "\n"
     ]
    },
    {
     "name": "stdout",
     "output_type": "stream",
     "text": [
      "Epoch 48: 100%|██████████| 8/8 [00:00<00:00,  9.92it/s, loss=0.0101, v_num=0, train_loss=0.000724, train_accuracy=1.000]"
     ]
    },
    {
     "name": "stderr",
     "output_type": "stream",
     "text": [
      "[2024-12-02 20:37:29] INFO (torcheeg/MainThread) \n",
      "[Train] train_loss: 0.009 train_accuracy: 0.996 \n",
      "\n"
     ]
    },
    {
     "name": "stdout",
     "output_type": "stream",
     "text": [
      "Epoch 49: 100%|██████████| 8/8 [00:00<00:00,  9.78it/s, loss=0.00952, v_num=0, train_loss=0.000476, train_accuracy=1.000]"
     ]
    },
    {
     "name": "stderr",
     "output_type": "stream",
     "text": [
      "[2024-12-02 20:37:34] INFO (torcheeg/MainThread) \n",
      "[Train] train_loss: 0.012 train_accuracy: 0.996 \n",
      "\n"
     ]
    },
    {
     "name": "stdout",
     "output_type": "stream",
     "text": [
      "Epoch 50: 100%|██████████| 8/8 [00:00<00:00,  9.61it/s, loss=0.00885, v_num=0, train_loss=0.00102, train_accuracy=1.000] "
     ]
    },
    {
     "name": "stderr",
     "output_type": "stream",
     "text": [
      "[2024-12-02 20:37:38] INFO (torcheeg/MainThread) \n",
      "[Train] train_loss: 0.009 train_accuracy: 0.996 \n",
      "\n"
     ]
    },
    {
     "name": "stdout",
     "output_type": "stream",
     "text": [
      "Epoch 51: 100%|██████████| 8/8 [00:00<00:00,  9.90it/s, loss=0.00925, v_num=0, train_loss=0.000253, train_accuracy=1.000]"
     ]
    },
    {
     "name": "stderr",
     "output_type": "stream",
     "text": [
      "[2024-12-02 20:37:42] INFO (torcheeg/MainThread) \n",
      "[Train] train_loss: 0.003 train_accuracy: 1.000 \n",
      "\n"
     ]
    },
    {
     "name": "stdout",
     "output_type": "stream",
     "text": [
      "Epoch 52: 100%|██████████| 8/8 [00:00<00:00,  9.56it/s, loss=0.00942, v_num=0, train_loss=0.000631, train_accuracy=1.000]"
     ]
    },
    {
     "name": "stderr",
     "output_type": "stream",
     "text": [
      "[2024-12-02 20:37:47] INFO (torcheeg/MainThread) \n",
      "[Train] train_loss: 0.012 train_accuracy: 0.996 \n",
      "\n"
     ]
    },
    {
     "name": "stdout",
     "output_type": "stream",
     "text": [
      "Epoch 53: 100%|██████████| 8/8 [00:00<00:00,  9.97it/s, loss=0.00519, v_num=0, train_loss=0.000214, train_accuracy=1.000]"
     ]
    },
    {
     "name": "stderr",
     "output_type": "stream",
     "text": [
      "[2024-12-02 20:37:51] INFO (torcheeg/MainThread) \n",
      "[Train] train_loss: 0.001 train_accuracy: 1.000 \n",
      "\n"
     ]
    },
    {
     "name": "stdout",
     "output_type": "stream",
     "text": [
      "Epoch 54: 100%|██████████| 8/8 [00:00<00:00,  9.82it/s, loss=0.0009, v_num=0, train_loss=0.000574, train_accuracy=1.000] "
     ]
    },
    {
     "name": "stderr",
     "output_type": "stream",
     "text": [
      "[2024-12-02 20:37:56] INFO (torcheeg/MainThread) \n",
      "[Train] train_loss: 0.001 train_accuracy: 1.000 \n",
      "\n"
     ]
    },
    {
     "name": "stdout",
     "output_type": "stream",
     "text": [
      "Epoch 55: 100%|██████████| 8/8 [00:00<00:00,  9.93it/s, loss=0.000798, v_num=0, train_loss=1.2e-5, train_accuracy=1.000]  "
     ]
    },
    {
     "name": "stderr",
     "output_type": "stream",
     "text": [
      "[2024-12-02 20:38:00] INFO (torcheeg/MainThread) \n",
      "[Train] train_loss: 0.001 train_accuracy: 1.000 \n",
      "\n"
     ]
    },
    {
     "name": "stdout",
     "output_type": "stream",
     "text": [
      "Epoch 56: 100%|██████████| 8/8 [00:00<00:00, 10.00it/s, loss=0.000659, v_num=0, train_loss=0.000263, train_accuracy=1.000]"
     ]
    },
    {
     "name": "stderr",
     "output_type": "stream",
     "text": [
      "[2024-12-02 20:38:05] INFO (torcheeg/MainThread) \n",
      "[Train] train_loss: 0.000 train_accuracy: 1.000 \n",
      "\n"
     ]
    },
    {
     "name": "stdout",
     "output_type": "stream",
     "text": [
      "Epoch 57: 100%|██████████| 8/8 [00:00<00:00,  9.60it/s, loss=0.00029, v_num=0, train_loss=7.6e-5, train_accuracy=1.000]   "
     ]
    },
    {
     "name": "stderr",
     "output_type": "stream",
     "text": [
      "[2024-12-02 20:38:09] INFO (torcheeg/MainThread) \n",
      "[Train] train_loss: 0.000 train_accuracy: 1.000 \n",
      "\n"
     ]
    },
    {
     "name": "stdout",
     "output_type": "stream",
     "text": [
      "Epoch 58: 100%|██████████| 8/8 [00:00<00:00,  9.86it/s, loss=0.000202, v_num=0, train_loss=2.22e-5, train_accuracy=1.000] "
     ]
    },
    {
     "name": "stderr",
     "output_type": "stream",
     "text": [
      "[2024-12-02 20:38:13] INFO (torcheeg/MainThread) \n",
      "[Train] train_loss: 0.000 train_accuracy: 1.000 \n",
      "\n"
     ]
    },
    {
     "name": "stdout",
     "output_type": "stream",
     "text": [
      "Epoch 59: 100%|██████████| 8/8 [00:00<00:00,  9.69it/s, loss=0.000155, v_num=0, train_loss=0.000309, train_accuracy=1.000]"
     ]
    },
    {
     "name": "stderr",
     "output_type": "stream",
     "text": [
      "[2024-12-02 20:38:18] INFO (torcheeg/MainThread) \n",
      "[Train] train_loss: 0.000 train_accuracy: 1.000 \n",
      "\n"
     ]
    },
    {
     "name": "stdout",
     "output_type": "stream",
     "text": [
      "Epoch 60: 100%|██████████| 8/8 [00:00<00:00,  9.90it/s, loss=0.00672, v_num=0, train_loss=0.0408, train_accuracy=1.000]   "
     ]
    },
    {
     "name": "stderr",
     "output_type": "stream",
     "text": [
      "Monitored metric train_loss did not improve in the last 20 records. Best score: 0.000. Signaling Trainer to stop.\n"
     ]
    },
    {
     "name": "stdout",
     "output_type": "stream",
     "text": [
      "Epoch 60: 100%|██████████| 8/8 [00:00<00:00,  9.88it/s, loss=0.00672, v_num=0, train_loss=0.0408, train_accuracy=1.000]"
     ]
    },
    {
     "name": "stderr",
     "output_type": "stream",
     "text": [
      "[2024-12-02 20:38:22] INFO (torcheeg/MainThread) \n",
      "[Train] train_loss: 0.017 train_accuracy: 0.992 \n",
      "\n"
     ]
    },
    {
     "name": "stdout",
     "output_type": "stream",
     "text": [
      "Epoch 60: 100%|██████████| 8/8 [00:04<00:00,  1.83it/s, loss=0.00672, v_num=0, train_loss=0.0408, train_accuracy=1.000]\n"
     ]
    },
    {
     "name": "stderr",
     "output_type": "stream",
     "text": [
      "GPU available: True (cuda), used: True\n",
      "TPU available: False, using: 0 TPU cores\n",
      "IPU available: False, using: 0 IPUs\n",
      "HPU available: False, using: 0 HPUs\n",
      "LOCAL_RANK: 0 - CUDA_VISIBLE_DEVICES: [0]\n",
      "/root/autodl-tmp/conda/envs/law/lib/python3.8/site-packages/pytorch_lightning/trainer/connectors/data_connector.py:224: PossibleUserWarning: The dataloader, test_dataloader 0, does not have many workers which may be a bottleneck. Consider increasing the value of the `num_workers` argument` (try 128 which is the number of cpus on this machine) in the `DataLoader` init to improve performance.\n",
      "  rank_zero_warn(\n"
     ]
    },
    {
     "name": "stdout",
     "output_type": "stream",
     "text": [
      "Testing DataLoader 0: 100%|██████████| 2/2 [00:00<00:00, 46.86it/s]"
     ]
    },
    {
     "name": "stderr",
     "output_type": "stream",
     "text": [
      "[2024-12-02 20:38:23] INFO (torcheeg/MainThread) \n",
      "[Test] test_loss: 1.859 test_accuracy: 0.775 \n",
      "\n"
     ]
    },
    {
     "name": "stdout",
     "output_type": "stream",
     "text": [
      "Testing DataLoader 0: 100%|██████████| 2/2 [00:00<00:00, 41.10it/s]\n",
      "────────────────────────────────────────────────────────────────────────────────────────────────────────────────────────\n",
      "       Test metric             DataLoader 0\n",
      "────────────────────────────────────────────────────────────────────────────────────────────────────────────────────────\n",
      "      test_accuracy         0.7749999761581421\n",
      "        test_loss           1.8594332933425903\n",
      "────────────────────────────────────────────────────────────────────────────────────────────────────────────────────────\n",
      "已删除文件夹: /root/autodl-tmp/.autodl/kinlaw/mi_swin/lightning_logs\n"
     ]
    },
    {
     "name": "stderr",
     "output_type": "stream",
     "text": [
      "GPU available: True (cuda), used: True\n",
      "TPU available: False, using: 0 TPU cores\n",
      "IPU available: False, using: 0 IPUs\n",
      "HPU available: False, using: 0 HPUs\n",
      "Missing logger folder: /root/autodl-tmp/.autodl/kinlaw/mi_swin/lightning_logs\n",
      "LOCAL_RANK: 0 - CUDA_VISIBLE_DEVICES: [0]\n",
      "/root/autodl-tmp/conda/envs/law/lib/python3.8/site-packages/pytorch_lightning/trainer/connectors/data_connector.py:224: PossibleUserWarning: The dataloader, train_dataloader, does not have many workers which may be a bottleneck. Consider increasing the value of the `num_workers` argument` (try 128 which is the number of cpus on this machine) in the `DataLoader` init to improve performance.\n",
      "  rank_zero_warn(\n",
      "/root/autodl-tmp/conda/envs/law/lib/python3.8/site-packages/pytorch_lightning/trainer/trainer.py:1609: PossibleUserWarning: The number of training batches (7) is smaller than the logging interval Trainer(log_every_n_steps=50). Set a lower value for log_every_n_steps if you want to see logs for the training epoch.\n",
      "  rank_zero_warn(\n"
     ]
    },
    {
     "name": "stdout",
     "output_type": "stream",
     "text": [
      "Epoch 0: 100%|██████████| 7/7 [00:00<00:00,  9.72it/s, loss=2.4, v_num=0, train_loss=0.903, train_accuracy=0.625]  "
     ]
    },
    {
     "name": "stderr",
     "output_type": "stream",
     "text": [
      "Metric train_loss improved. New best score: 0.903\n"
     ]
    },
    {
     "name": "stdout",
     "output_type": "stream",
     "text": [
      "Epoch 0: 100%|██████████| 7/7 [00:00<00:00,  9.69it/s, loss=2.4, v_num=0, train_loss=0.903, train_accuracy=0.625]"
     ]
    },
    {
     "name": "stderr",
     "output_type": "stream",
     "text": [
      "[2024-12-02 20:38:30] INFO (torcheeg/MainThread) \n",
      "[Train] train_loss: 2.404 train_accuracy: 0.530 \n",
      "\n"
     ]
    },
    {
     "name": "stdout",
     "output_type": "stream",
     "text": [
      "Epoch 1: 100%|██████████| 7/7 [00:00<00:00,  9.96it/s, loss=1.76, v_num=0, train_loss=0.730, train_accuracy=0.750]"
     ]
    },
    {
     "name": "stderr",
     "output_type": "stream",
     "text": [
      "Metric train_loss improved by 0.173 >= min_delta = 0.0. New best score: 0.730\n"
     ]
    },
    {
     "name": "stdout",
     "output_type": "stream",
     "text": [
      "Epoch 1: 100%|██████████| 7/7 [00:00<00:00,  9.93it/s, loss=1.76, v_num=0, train_loss=0.730, train_accuracy=0.750]"
     ]
    },
    {
     "name": "stderr",
     "output_type": "stream",
     "text": [
      "[2024-12-02 20:38:34] INFO (torcheeg/MainThread) \n",
      "[Train] train_loss: 1.122 train_accuracy: 0.550 \n",
      "\n"
     ]
    },
    {
     "name": "stdout",
     "output_type": "stream",
     "text": [
      "Epoch 2: 100%|██████████| 7/7 [00:00<00:00,  9.91it/s, loss=1.56, v_num=0, train_loss=0.947, train_accuracy=0.375]"
     ]
    },
    {
     "name": "stderr",
     "output_type": "stream",
     "text": [
      "[2024-12-02 20:38:38] INFO (torcheeg/MainThread) \n",
      "[Train] train_loss: 1.034 train_accuracy: 0.515 \n",
      "\n"
     ]
    },
    {
     "name": "stdout",
     "output_type": "stream",
     "text": [
      "Epoch 3: 100%|██████████| 7/7 [00:00<00:00, 10.03it/s, loss=0.901, v_num=0, train_loss=0.532, train_accuracy=0.750]"
     ]
    },
    {
     "name": "stderr",
     "output_type": "stream",
     "text": [
      "Metric train_loss improved by 0.197 >= min_delta = 0.0. New best score: 0.532\n"
     ]
    },
    {
     "name": "stdout",
     "output_type": "stream",
     "text": [
      "Epoch 3: 100%|██████████| 7/7 [00:00<00:00, 10.00it/s, loss=0.901, v_num=0, train_loss=0.532, train_accuracy=0.750]"
     ]
    },
    {
     "name": "stderr",
     "output_type": "stream",
     "text": [
      "[2024-12-02 20:38:43] INFO (torcheeg/MainThread) \n",
      "[Train] train_loss: 0.689 train_accuracy: 0.580 \n",
      "\n"
     ]
    },
    {
     "name": "stdout",
     "output_type": "stream",
     "text": [
      "Epoch 4: 100%|██████████| 7/7 [00:00<00:00,  9.83it/s, loss=0.764, v_num=0, train_loss=0.716, train_accuracy=0.625]"
     ]
    },
    {
     "name": "stderr",
     "output_type": "stream",
     "text": [
      "[2024-12-02 20:38:47] INFO (torcheeg/MainThread) \n",
      "[Train] train_loss: 0.662 train_accuracy: 0.635 \n",
      "\n"
     ]
    },
    {
     "name": "stdout",
     "output_type": "stream",
     "text": [
      "Epoch 5: 100%|██████████| 7/7 [00:00<00:00, 10.10it/s, loss=0.659, v_num=0, train_loss=0.514, train_accuracy=0.750]"
     ]
    },
    {
     "name": "stderr",
     "output_type": "stream",
     "text": [
      "Metric train_loss improved by 0.018 >= min_delta = 0.0. New best score: 0.514\n"
     ]
    },
    {
     "name": "stdout",
     "output_type": "stream",
     "text": [
      "Epoch 5: 100%|██████████| 7/7 [00:00<00:00, 10.06it/s, loss=0.659, v_num=0, train_loss=0.514, train_accuracy=0.750]"
     ]
    },
    {
     "name": "stderr",
     "output_type": "stream",
     "text": [
      "[2024-12-02 20:38:51] INFO (torcheeg/MainThread) \n",
      "[Train] train_loss: 0.622 train_accuracy: 0.655 \n",
      "\n"
     ]
    },
    {
     "name": "stdout",
     "output_type": "stream",
     "text": [
      "Epoch 6: 100%|██████████| 7/7 [00:00<00:00,  9.99it/s, loss=0.611, v_num=0, train_loss=0.569, train_accuracy=0.750]"
     ]
    },
    {
     "name": "stderr",
     "output_type": "stream",
     "text": [
      "[2024-12-02 20:38:55] INFO (torcheeg/MainThread) \n",
      "[Train] train_loss: 0.553 train_accuracy: 0.755 \n",
      "\n"
     ]
    },
    {
     "name": "stdout",
     "output_type": "stream",
     "text": [
      "Epoch 7: 100%|██████████| 7/7 [00:00<00:00,  9.84it/s, loss=0.573, v_num=0, train_loss=0.775, train_accuracy=0.500]"
     ]
    },
    {
     "name": "stderr",
     "output_type": "stream",
     "text": [
      "[2024-12-02 20:39:00] INFO (torcheeg/MainThread) \n",
      "[Train] train_loss: 0.566 train_accuracy: 0.730 \n",
      "\n"
     ]
    },
    {
     "name": "stdout",
     "output_type": "stream",
     "text": [
      "Epoch 8: 100%|██████████| 7/7 [00:00<00:00,  9.71it/s, loss=0.538, v_num=0, train_loss=0.270, train_accuracy=1.000]"
     ]
    },
    {
     "name": "stderr",
     "output_type": "stream",
     "text": [
      "Metric train_loss improved by 0.244 >= min_delta = 0.0. New best score: 0.270\n"
     ]
    },
    {
     "name": "stdout",
     "output_type": "stream",
     "text": [
      "Epoch 8: 100%|██████████| 7/7 [00:00<00:00,  9.68it/s, loss=0.538, v_num=0, train_loss=0.270, train_accuracy=1.000]"
     ]
    },
    {
     "name": "stderr",
     "output_type": "stream",
     "text": [
      "[2024-12-02 20:39:04] INFO (torcheeg/MainThread) \n",
      "[Train] train_loss: 0.501 train_accuracy: 0.765 \n",
      "\n"
     ]
    },
    {
     "name": "stdout",
     "output_type": "stream",
     "text": [
      "Epoch 9: 100%|██████████| 7/7 [00:00<00:00,  9.80it/s, loss=0.499, v_num=0, train_loss=0.278, train_accuracy=0.875]"
     ]
    },
    {
     "name": "stderr",
     "output_type": "stream",
     "text": [
      "[2024-12-02 20:39:09] INFO (torcheeg/MainThread) \n",
      "[Train] train_loss: 0.456 train_accuracy: 0.755 \n",
      "\n"
     ]
    },
    {
     "name": "stdout",
     "output_type": "stream",
     "text": [
      "Epoch 10: 100%|██████████| 7/7 [00:00<00:00,  9.87it/s, loss=0.469, v_num=0, train_loss=0.376, train_accuracy=0.750]"
     ]
    },
    {
     "name": "stderr",
     "output_type": "stream",
     "text": [
      "[2024-12-02 20:39:13] INFO (torcheeg/MainThread) \n",
      "[Train] train_loss: 0.455 train_accuracy: 0.810 \n",
      "\n"
     ]
    },
    {
     "name": "stdout",
     "output_type": "stream",
     "text": [
      "Epoch 11: 100%|██████████| 7/7 [00:00<00:00,  9.84it/s, loss=0.467, v_num=0, train_loss=0.217, train_accuracy=1.000]"
     ]
    },
    {
     "name": "stderr",
     "output_type": "stream",
     "text": [
      "Metric train_loss improved by 0.053 >= min_delta = 0.0. New best score: 0.217\n"
     ]
    },
    {
     "name": "stdout",
     "output_type": "stream",
     "text": [
      "Epoch 11: 100%|██████████| 7/7 [00:00<00:00,  9.81it/s, loss=0.467, v_num=0, train_loss=0.217, train_accuracy=1.000]"
     ]
    },
    {
     "name": "stderr",
     "output_type": "stream",
     "text": [
      "[2024-12-02 20:39:17] INFO (torcheeg/MainThread) \n",
      "[Train] train_loss: 0.507 train_accuracy: 0.735 \n",
      "\n"
     ]
    },
    {
     "name": "stdout",
     "output_type": "stream",
     "text": [
      "Epoch 12: 100%|██████████| 7/7 [00:00<00:00, 10.05it/s, loss=0.487, v_num=0, train_loss=0.442, train_accuracy=0.625]"
     ]
    },
    {
     "name": "stderr",
     "output_type": "stream",
     "text": [
      "[2024-12-02 20:39:22] INFO (torcheeg/MainThread) \n",
      "[Train] train_loss: 0.486 train_accuracy: 0.810 \n",
      "\n"
     ]
    },
    {
     "name": "stdout",
     "output_type": "stream",
     "text": [
      "Epoch 13: 100%|██████████| 7/7 [00:00<00:00,  9.87it/s, loss=0.464, v_num=0, train_loss=0.525, train_accuracy=0.750]"
     ]
    },
    {
     "name": "stderr",
     "output_type": "stream",
     "text": [
      "[2024-12-02 20:39:26] INFO (torcheeg/MainThread) \n",
      "[Train] train_loss: 0.407 train_accuracy: 0.825 \n",
      "\n"
     ]
    },
    {
     "name": "stdout",
     "output_type": "stream",
     "text": [
      "Epoch 14: 100%|██████████| 7/7 [00:00<00:00,  9.98it/s, loss=0.415, v_num=0, train_loss=0.0988, train_accuracy=1.000]"
     ]
    },
    {
     "name": "stderr",
     "output_type": "stream",
     "text": [
      "Metric train_loss improved by 0.118 >= min_delta = 0.0. New best score: 0.099\n"
     ]
    },
    {
     "name": "stdout",
     "output_type": "stream",
     "text": [
      "Epoch 14: 100%|██████████| 7/7 [00:00<00:00,  9.95it/s, loss=0.415, v_num=0, train_loss=0.0988, train_accuracy=1.000]"
     ]
    },
    {
     "name": "stderr",
     "output_type": "stream",
     "text": [
      "[2024-12-02 20:39:30] INFO (torcheeg/MainThread) \n",
      "[Train] train_loss: 0.359 train_accuracy: 0.825 \n",
      "\n"
     ]
    },
    {
     "name": "stdout",
     "output_type": "stream",
     "text": [
      "Epoch 15: 100%|██████████| 7/7 [00:00<00:00,  9.96it/s, loss=0.378, v_num=0, train_loss=0.0752, train_accuracy=1.000]"
     ]
    },
    {
     "name": "stderr",
     "output_type": "stream",
     "text": [
      "Metric train_loss improved by 0.024 >= min_delta = 0.0. New best score: 0.075\n"
     ]
    },
    {
     "name": "stdout",
     "output_type": "stream",
     "text": [
      "Epoch 15: 100%|██████████| 7/7 [00:00<00:00,  9.94it/s, loss=0.378, v_num=0, train_loss=0.0752, train_accuracy=1.000]"
     ]
    },
    {
     "name": "stderr",
     "output_type": "stream",
     "text": [
      "[2024-12-02 20:39:35] INFO (torcheeg/MainThread) \n",
      "[Train] train_loss: 0.362 train_accuracy: 0.840 \n",
      "\n"
     ]
    },
    {
     "name": "stdout",
     "output_type": "stream",
     "text": [
      "Epoch 16: 100%|██████████| 7/7 [00:00<00:00,  9.94it/s, loss=0.346, v_num=0, train_loss=0.0786, train_accuracy=1.000]"
     ]
    },
    {
     "name": "stderr",
     "output_type": "stream",
     "text": [
      "[2024-12-02 20:39:39] INFO (torcheeg/MainThread) \n",
      "[Train] train_loss: 0.344 train_accuracy: 0.810 \n",
      "\n"
     ]
    },
    {
     "name": "stdout",
     "output_type": "stream",
     "text": [
      "Epoch 17: 100%|██████████| 7/7 [00:00<00:00,  9.95it/s, loss=0.334, v_num=0, train_loss=0.275, train_accuracy=0.875] "
     ]
    },
    {
     "name": "stderr",
     "output_type": "stream",
     "text": [
      "[2024-12-02 20:39:43] INFO (torcheeg/MainThread) \n",
      "[Train] train_loss: 0.295 train_accuracy: 0.885 \n",
      "\n"
     ]
    },
    {
     "name": "stdout",
     "output_type": "stream",
     "text": [
      "Epoch 18: 100%|██████████| 7/7 [00:00<00:00,  9.79it/s, loss=0.317, v_num=0, train_loss=0.451, train_accuracy=0.875]"
     ]
    },
    {
     "name": "stderr",
     "output_type": "stream",
     "text": [
      "[2024-12-02 20:39:48] INFO (torcheeg/MainThread) \n",
      "[Train] train_loss: 0.318 train_accuracy: 0.880 \n",
      "\n"
     ]
    },
    {
     "name": "stdout",
     "output_type": "stream",
     "text": [
      "Epoch 19: 100%|██████████| 7/7 [00:00<00:00,  9.80it/s, loss=0.327, v_num=0, train_loss=0.174, train_accuracy=1.000]"
     ]
    },
    {
     "name": "stderr",
     "output_type": "stream",
     "text": [
      "[2024-12-02 20:39:52] INFO (torcheeg/MainThread) \n",
      "[Train] train_loss: 0.394 train_accuracy: 0.835 \n",
      "\n"
     ]
    },
    {
     "name": "stdout",
     "output_type": "stream",
     "text": [
      "Epoch 20: 100%|██████████| 7/7 [00:00<00:00,  9.97it/s, loss=0.335, v_num=0, train_loss=0.268, train_accuracy=0.875]"
     ]
    },
    {
     "name": "stderr",
     "output_type": "stream",
     "text": [
      "[2024-12-02 20:39:56] INFO (torcheeg/MainThread) \n",
      "[Train] train_loss: 0.306 train_accuracy: 0.860 \n",
      "\n"
     ]
    },
    {
     "name": "stdout",
     "output_type": "stream",
     "text": [
      "Epoch 21: 100%|██████████| 7/7 [00:00<00:00,  9.79it/s, loss=0.329, v_num=0, train_loss=0.196, train_accuracy=0.875]"
     ]
    },
    {
     "name": "stderr",
     "output_type": "stream",
     "text": [
      "[2024-12-02 20:40:01] INFO (torcheeg/MainThread) \n",
      "[Train] train_loss: 0.309 train_accuracy: 0.865 \n",
      "\n"
     ]
    },
    {
     "name": "stdout",
     "output_type": "stream",
     "text": [
      "Epoch 22: 100%|██████████| 7/7 [00:00<00:00,  9.89it/s, loss=0.299, v_num=0, train_loss=0.131, train_accuracy=0.875]"
     ]
    },
    {
     "name": "stderr",
     "output_type": "stream",
     "text": [
      "[2024-12-02 20:40:05] INFO (torcheeg/MainThread) \n",
      "[Train] train_loss: 0.307 train_accuracy: 0.880 \n",
      "\n"
     ]
    },
    {
     "name": "stdout",
     "output_type": "stream",
     "text": [
      "Epoch 23: 100%|██████████| 7/7 [00:00<00:00,  9.88it/s, loss=0.286, v_num=0, train_loss=0.235, train_accuracy=0.875] "
     ]
    },
    {
     "name": "stderr",
     "output_type": "stream",
     "text": [
      "[2024-12-02 20:40:09] INFO (torcheeg/MainThread) \n",
      "[Train] train_loss: 0.256 train_accuracy: 0.880 \n",
      "\n"
     ]
    },
    {
     "name": "stdout",
     "output_type": "stream",
     "text": [
      "Epoch 24: 100%|██████████| 7/7 [00:00<00:00,  9.74it/s, loss=0.276, v_num=0, train_loss=0.496, train_accuracy=0.875]"
     ]
    },
    {
     "name": "stderr",
     "output_type": "stream",
     "text": [
      "[2024-12-02 20:40:14] INFO (torcheeg/MainThread) \n",
      "[Train] train_loss: 0.319 train_accuracy: 0.850 \n",
      "\n"
     ]
    },
    {
     "name": "stdout",
     "output_type": "stream",
     "text": [
      "Epoch 25: 100%|██████████| 7/7 [00:00<00:00,  9.88it/s, loss=0.252, v_num=0, train_loss=0.146, train_accuracy=1.000]"
     ]
    },
    {
     "name": "stderr",
     "output_type": "stream",
     "text": [
      "[2024-12-02 20:40:18] INFO (torcheeg/MainThread) \n",
      "[Train] train_loss: 0.210 train_accuracy: 0.915 \n",
      "\n"
     ]
    },
    {
     "name": "stdout",
     "output_type": "stream",
     "text": [
      "Epoch 26: 100%|██████████| 7/7 [00:00<00:00,  9.79it/s, loss=0.259, v_num=0, train_loss=0.249, train_accuracy=0.875]"
     ]
    },
    {
     "name": "stderr",
     "output_type": "stream",
     "text": [
      "[2024-12-02 20:40:23] INFO (torcheeg/MainThread) \n",
      "[Train] train_loss: 0.236 train_accuracy: 0.910 \n",
      "\n"
     ]
    },
    {
     "name": "stdout",
     "output_type": "stream",
     "text": [
      "Epoch 27: 100%|██████████| 7/7 [00:00<00:00,  9.83it/s, loss=0.246, v_num=0, train_loss=0.746, train_accuracy=0.625] "
     ]
    },
    {
     "name": "stderr",
     "output_type": "stream",
     "text": [
      "[2024-12-02 20:40:27] INFO (torcheeg/MainThread) \n",
      "[Train] train_loss: 0.292 train_accuracy: 0.900 \n",
      "\n"
     ]
    },
    {
     "name": "stdout",
     "output_type": "stream",
     "text": [
      "Epoch 28: 100%|██████████| 7/7 [00:00<00:00,  9.90it/s, loss=0.271, v_num=0, train_loss=0.169, train_accuracy=0.875]"
     ]
    },
    {
     "name": "stderr",
     "output_type": "stream",
     "text": [
      "[2024-12-02 20:40:31] INFO (torcheeg/MainThread) \n",
      "[Train] train_loss: 0.267 train_accuracy: 0.890 \n",
      "\n"
     ]
    },
    {
     "name": "stdout",
     "output_type": "stream",
     "text": [
      "Epoch 29: 100%|██████████| 7/7 [00:00<00:00,  9.83it/s, loss=0.256, v_num=0, train_loss=0.127, train_accuracy=1.000]"
     ]
    },
    {
     "name": "stderr",
     "output_type": "stream",
     "text": [
      "[2024-12-02 20:40:36] INFO (torcheeg/MainThread) \n",
      "[Train] train_loss: 0.234 train_accuracy: 0.880 \n",
      "\n"
     ]
    },
    {
     "name": "stdout",
     "output_type": "stream",
     "text": [
      "Epoch 30: 100%|██████████| 7/7 [00:00<00:00,  9.88it/s, loss=0.277, v_num=0, train_loss=0.244, train_accuracy=0.875]"
     ]
    },
    {
     "name": "stderr",
     "output_type": "stream",
     "text": [
      "[2024-12-02 20:40:40] INFO (torcheeg/MainThread) \n",
      "[Train] train_loss: 0.315 train_accuracy: 0.890 \n",
      "\n"
     ]
    },
    {
     "name": "stdout",
     "output_type": "stream",
     "text": [
      "Epoch 31: 100%|██████████| 7/7 [00:00<00:00,  9.69it/s, loss=0.233, v_num=0, train_loss=0.152, train_accuracy=1.000] "
     ]
    },
    {
     "name": "stderr",
     "output_type": "stream",
     "text": [
      "[2024-12-02 20:40:44] INFO (torcheeg/MainThread) \n",
      "[Train] train_loss: 0.151 train_accuracy: 0.960 \n",
      "\n"
     ]
    },
    {
     "name": "stdout",
     "output_type": "stream",
     "text": [
      "Epoch 32: 100%|██████████| 7/7 [00:00<00:00,  9.78it/s, loss=0.224, v_num=0, train_loss=0.339, train_accuracy=0.875] "
     ]
    },
    {
     "name": "stderr",
     "output_type": "stream",
     "text": [
      "[2024-12-02 20:40:49] INFO (torcheeg/MainThread) \n",
      "[Train] train_loss: 0.232 train_accuracy: 0.895 \n",
      "\n"
     ]
    },
    {
     "name": "stdout",
     "output_type": "stream",
     "text": [
      "Epoch 33: 100%|██████████| 7/7 [00:00<00:00,  9.68it/s, loss=0.23, v_num=0, train_loss=0.233, train_accuracy=0.875] "
     ]
    },
    {
     "name": "stderr",
     "output_type": "stream",
     "text": [
      "[2024-12-02 20:40:53] INFO (torcheeg/MainThread) \n",
      "[Train] train_loss: 0.286 train_accuracy: 0.905 \n",
      "\n"
     ]
    },
    {
     "name": "stdout",
     "output_type": "stream",
     "text": [
      "Epoch 34: 100%|██████████| 7/7 [00:00<00:00,  9.77it/s, loss=0.228, v_num=0, train_loss=0.0404, train_accuracy=1.000]"
     ]
    },
    {
     "name": "stderr",
     "output_type": "stream",
     "text": [
      "Metric train_loss improved by 0.035 >= min_delta = 0.0. New best score: 0.040\n"
     ]
    },
    {
     "name": "stdout",
     "output_type": "stream",
     "text": [
      "Epoch 34: 100%|██████████| 7/7 [00:00<00:00,  9.74it/s, loss=0.228, v_num=0, train_loss=0.0404, train_accuracy=1.000]"
     ]
    },
    {
     "name": "stderr",
     "output_type": "stream",
     "text": [
      "[2024-12-02 20:40:57] INFO (torcheeg/MainThread) \n",
      "[Train] train_loss: 0.173 train_accuracy: 0.930 \n",
      "\n"
     ]
    },
    {
     "name": "stdout",
     "output_type": "stream",
     "text": [
      "Epoch 35: 100%|██████████| 7/7 [00:00<00:00,  9.91it/s, loss=0.229, v_num=0, train_loss=0.0464, train_accuracy=1.000]"
     ]
    },
    {
     "name": "stderr",
     "output_type": "stream",
     "text": [
      "[2024-12-02 20:41:02] INFO (torcheeg/MainThread) \n",
      "[Train] train_loss: 0.216 train_accuracy: 0.900 \n",
      "\n"
     ]
    },
    {
     "name": "stdout",
     "output_type": "stream",
     "text": [
      "Epoch 36: 100%|██████████| 7/7 [00:00<00:00,  9.80it/s, loss=0.2, v_num=0, train_loss=0.342, train_accuracy=0.750]   "
     ]
    },
    {
     "name": "stderr",
     "output_type": "stream",
     "text": [
      "[2024-12-02 20:41:06] INFO (torcheeg/MainThread) \n",
      "[Train] train_loss: 0.192 train_accuracy: 0.930 \n",
      "\n"
     ]
    },
    {
     "name": "stdout",
     "output_type": "stream",
     "text": [
      "Epoch 37: 100%|██████████| 7/7 [00:00<00:00,  9.78it/s, loss=0.163, v_num=0, train_loss=0.0208, train_accuracy=1.000]"
     ]
    },
    {
     "name": "stderr",
     "output_type": "stream",
     "text": [
      "Metric train_loss improved by 0.020 >= min_delta = 0.0. New best score: 0.021\n"
     ]
    },
    {
     "name": "stdout",
     "output_type": "stream",
     "text": [
      "Epoch 37: 100%|██████████| 7/7 [00:00<00:00,  9.75it/s, loss=0.163, v_num=0, train_loss=0.0208, train_accuracy=1.000]"
     ]
    },
    {
     "name": "stderr",
     "output_type": "stream",
     "text": [
      "[2024-12-02 20:41:11] INFO (torcheeg/MainThread) \n",
      "[Train] train_loss: 0.088 train_accuracy: 0.970 \n",
      "\n"
     ]
    },
    {
     "name": "stdout",
     "output_type": "stream",
     "text": [
      "Epoch 38: 100%|██████████| 7/7 [00:00<00:00,  9.68it/s, loss=0.123, v_num=0, train_loss=0.00272, train_accuracy=1.000]"
     ]
    },
    {
     "name": "stderr",
     "output_type": "stream",
     "text": [
      "Metric train_loss improved by 0.018 >= min_delta = 0.0. New best score: 0.003\n"
     ]
    },
    {
     "name": "stdout",
     "output_type": "stream",
     "text": [
      "Epoch 38: 100%|██████████| 7/7 [00:00<00:00,  9.66it/s, loss=0.123, v_num=0, train_loss=0.00272, train_accuracy=1.000]"
     ]
    },
    {
     "name": "stderr",
     "output_type": "stream",
     "text": [
      "[2024-12-02 20:41:15] INFO (torcheeg/MainThread) \n",
      "[Train] train_loss: 0.117 train_accuracy: 0.945 \n",
      "\n"
     ]
    },
    {
     "name": "stdout",
     "output_type": "stream",
     "text": [
      "Epoch 39: 100%|██████████| 7/7 [00:00<00:00,  9.31it/s, loss=0.118, v_num=0, train_loss=0.0297, train_accuracy=1.000] "
     ]
    },
    {
     "name": "stderr",
     "output_type": "stream",
     "text": [
      "[2024-12-02 20:41:19] INFO (torcheeg/MainThread) \n",
      "[Train] train_loss: 0.152 train_accuracy: 0.965 \n",
      "\n"
     ]
    },
    {
     "name": "stdout",
     "output_type": "stream",
     "text": [
      "Epoch 40: 100%|██████████| 7/7 [00:00<00:00,  9.58it/s, loss=0.169, v_num=0, train_loss=0.122, train_accuracy=1.000] "
     ]
    },
    {
     "name": "stderr",
     "output_type": "stream",
     "text": [
      "[2024-12-02 20:41:24] INFO (torcheeg/MainThread) \n",
      "[Train] train_loss: 0.237 train_accuracy: 0.925 \n",
      "\n"
     ]
    },
    {
     "name": "stdout",
     "output_type": "stream",
     "text": [
      "Epoch 41: 100%|██████████| 7/7 [00:00<00:00,  9.90it/s, loss=0.178, v_num=0, train_loss=0.0745, train_accuracy=1.000]"
     ]
    },
    {
     "name": "stderr",
     "output_type": "stream",
     "text": [
      "[2024-12-02 20:41:28] INFO (torcheeg/MainThread) \n",
      "[Train] train_loss: 0.142 train_accuracy: 0.935 \n",
      "\n"
     ]
    },
    {
     "name": "stdout",
     "output_type": "stream",
     "text": [
      "Epoch 42: 100%|██████████| 7/7 [00:00<00:00,  9.28it/s, loss=0.158, v_num=0, train_loss=0.279, train_accuracy=0.875] "
     ]
    },
    {
     "name": "stderr",
     "output_type": "stream",
     "text": [
      "[2024-12-02 20:41:33] INFO (torcheeg/MainThread) \n",
      "[Train] train_loss: 0.144 train_accuracy: 0.940 \n",
      "\n"
     ]
    },
    {
     "name": "stdout",
     "output_type": "stream",
     "text": [
      "Epoch 43: 100%|██████████| 7/7 [00:00<00:00,  9.93it/s, loss=0.153, v_num=0, train_loss=0.057, train_accuracy=1.000]"
     ]
    },
    {
     "name": "stderr",
     "output_type": "stream",
     "text": [
      "[2024-12-02 20:41:37] INFO (torcheeg/MainThread) \n",
      "[Train] train_loss: 0.166 train_accuracy: 0.915 \n",
      "\n"
     ]
    },
    {
     "name": "stdout",
     "output_type": "stream",
     "text": [
      "Epoch 44: 100%|██████████| 7/7 [00:00<00:00,  9.73it/s, loss=0.14, v_num=0, train_loss=0.143, train_accuracy=0.875]  "
     ]
    },
    {
     "name": "stderr",
     "output_type": "stream",
     "text": [
      "[2024-12-02 20:41:41] INFO (torcheeg/MainThread) \n",
      "[Train] train_loss: 0.105 train_accuracy: 0.965 \n",
      "\n"
     ]
    },
    {
     "name": "stdout",
     "output_type": "stream",
     "text": [
      "Epoch 45: 100%|██████████| 7/7 [00:00<00:00,  9.87it/s, loss=0.146, v_num=0, train_loss=0.0193, train_accuracy=1.000] "
     ]
    },
    {
     "name": "stderr",
     "output_type": "stream",
     "text": [
      "[2024-12-02 20:41:45] INFO (torcheeg/MainThread) \n",
      "[Train] train_loss: 0.166 train_accuracy: 0.925 \n",
      "\n"
     ]
    },
    {
     "name": "stdout",
     "output_type": "stream",
     "text": [
      "Epoch 46: 100%|██████████| 7/7 [00:00<00:00,  9.88it/s, loss=0.161, v_num=0, train_loss=0.216, train_accuracy=0.875] "
     ]
    },
    {
     "name": "stderr",
     "output_type": "stream",
     "text": [
      "[2024-12-02 20:41:50] INFO (torcheeg/MainThread) \n",
      "[Train] train_loss: 0.202 train_accuracy: 0.945 \n",
      "\n"
     ]
    },
    {
     "name": "stdout",
     "output_type": "stream",
     "text": [
      "Epoch 47: 100%|██████████| 7/7 [00:00<00:00,  9.96it/s, loss=0.169, v_num=0, train_loss=0.215, train_accuracy=0.875] "
     ]
    },
    {
     "name": "stderr",
     "output_type": "stream",
     "text": [
      "[2024-12-02 20:41:54] INFO (torcheeg/MainThread) \n",
      "[Train] train_loss: 0.128 train_accuracy: 0.950 \n",
      "\n"
     ]
    },
    {
     "name": "stdout",
     "output_type": "stream",
     "text": [
      "Epoch 48: 100%|██████████| 7/7 [00:00<00:00,  9.94it/s, loss=0.151, v_num=0, train_loss=0.0698, train_accuracy=1.000]"
     ]
    },
    {
     "name": "stderr",
     "output_type": "stream",
     "text": [
      "[2024-12-02 20:41:58] INFO (torcheeg/MainThread) \n",
      "[Train] train_loss: 0.135 train_accuracy: 0.940 \n",
      "\n"
     ]
    },
    {
     "name": "stdout",
     "output_type": "stream",
     "text": [
      "Epoch 49: 100%|██████████| 7/7 [00:00<00:00,  9.95it/s, loss=0.141, v_num=0, train_loss=0.251, train_accuracy=0.875] "
     ]
    },
    {
     "name": "stderr",
     "output_type": "stream",
     "text": [
      "[2024-12-02 20:42:03] INFO (torcheeg/MainThread) \n",
      "[Train] train_loss: 0.144 train_accuracy: 0.960 \n",
      "\n"
     ]
    },
    {
     "name": "stdout",
     "output_type": "stream",
     "text": [
      "Epoch 50: 100%|██████████| 7/7 [00:00<00:00,  9.66it/s, loss=0.148, v_num=0, train_loss=0.215, train_accuracy=0.875] "
     ]
    },
    {
     "name": "stderr",
     "output_type": "stream",
     "text": [
      "[2024-12-02 20:42:07] INFO (torcheeg/MainThread) \n",
      "[Train] train_loss: 0.164 train_accuracy: 0.950 \n",
      "\n"
     ]
    },
    {
     "name": "stdout",
     "output_type": "stream",
     "text": [
      "Epoch 51: 100%|██████████| 7/7 [00:00<00:00,  9.74it/s, loss=0.143, v_num=0, train_loss=0.101, train_accuracy=1.000] "
     ]
    },
    {
     "name": "stderr",
     "output_type": "stream",
     "text": [
      "[2024-12-02 20:42:11] INFO (torcheeg/MainThread) \n",
      "[Train] train_loss: 0.105 train_accuracy: 0.970 \n",
      "\n"
     ]
    },
    {
     "name": "stdout",
     "output_type": "stream",
     "text": [
      "Epoch 52: 100%|██████████| 7/7 [00:00<00:00, 10.01it/s, loss=0.0993, v_num=0, train_loss=0.00464, train_accuracy=1.000]"
     ]
    },
    {
     "name": "stderr",
     "output_type": "stream",
     "text": [
      "[2024-12-02 20:42:16] INFO (torcheeg/MainThread) \n",
      "[Train] train_loss: 0.044 train_accuracy: 0.985 \n",
      "\n"
     ]
    },
    {
     "name": "stdout",
     "output_type": "stream",
     "text": [
      "Epoch 53: 100%|██████████| 7/7 [00:00<00:00,  9.82it/s, loss=0.0915, v_num=0, train_loss=0.268, train_accuracy=0.875]  "
     ]
    },
    {
     "name": "stderr",
     "output_type": "stream",
     "text": [
      "[2024-12-02 20:42:20] INFO (torcheeg/MainThread) \n",
      "[Train] train_loss: 0.131 train_accuracy: 0.960 \n",
      "\n"
     ]
    },
    {
     "name": "stdout",
     "output_type": "stream",
     "text": [
      "Epoch 54: 100%|██████████| 7/7 [00:00<00:00,  9.65it/s, loss=0.103, v_num=0, train_loss=0.314, train_accuracy=0.875]  "
     ]
    },
    {
     "name": "stderr",
     "output_type": "stream",
     "text": [
      "[2024-12-02 20:42:24] INFO (torcheeg/MainThread) \n",
      "[Train] train_loss: 0.121 train_accuracy: 0.965 \n",
      "\n"
     ]
    },
    {
     "name": "stdout",
     "output_type": "stream",
     "text": [
      "Epoch 55: 100%|██████████| 7/7 [00:00<00:00,  9.72it/s, loss=0.131, v_num=0, train_loss=0.00159, train_accuracy=1.000]"
     ]
    },
    {
     "name": "stderr",
     "output_type": "stream",
     "text": [
      "Metric train_loss improved by 0.001 >= min_delta = 0.0. New best score: 0.002\n"
     ]
    },
    {
     "name": "stdout",
     "output_type": "stream",
     "text": [
      "Epoch 55: 100%|██████████| 7/7 [00:00<00:00,  9.70it/s, loss=0.131, v_num=0, train_loss=0.00159, train_accuracy=1.000]"
     ]
    },
    {
     "name": "stderr",
     "output_type": "stream",
     "text": [
      "[2024-12-02 20:42:29] INFO (torcheeg/MainThread) \n",
      "[Train] train_loss: 0.136 train_accuracy: 0.945 \n",
      "\n"
     ]
    },
    {
     "name": "stdout",
     "output_type": "stream",
     "text": [
      "Epoch 56: 100%|██████████| 7/7 [00:00<00:00,  9.94it/s, loss=0.135, v_num=0, train_loss=0.0148, train_accuracy=1.000] "
     ]
    },
    {
     "name": "stderr",
     "output_type": "stream",
     "text": [
      "[2024-12-02 20:42:33] INFO (torcheeg/MainThread) \n",
      "[Train] train_loss: 0.133 train_accuracy: 0.950 \n",
      "\n"
     ]
    },
    {
     "name": "stdout",
     "output_type": "stream",
     "text": [
      "Epoch 57: 100%|██████████| 7/7 [00:00<00:00,  9.81it/s, loss=0.16, v_num=0, train_loss=0.187, train_accuracy=0.875]  "
     ]
    },
    {
     "name": "stderr",
     "output_type": "stream",
     "text": [
      "[2024-12-02 20:42:37] INFO (torcheeg/MainThread) \n",
      "[Train] train_loss: 0.212 train_accuracy: 0.940 \n",
      "\n"
     ]
    },
    {
     "name": "stdout",
     "output_type": "stream",
     "text": [
      "Epoch 58: 100%|██████████| 7/7 [00:00<00:00,  9.80it/s, loss=0.147, v_num=0, train_loss=0.0162, train_accuracy=1.000]"
     ]
    },
    {
     "name": "stderr",
     "output_type": "stream",
     "text": [
      "[2024-12-02 20:42:42] INFO (torcheeg/MainThread) \n",
      "[Train] train_loss: 0.103 train_accuracy: 0.945 \n",
      "\n"
     ]
    },
    {
     "name": "stdout",
     "output_type": "stream",
     "text": [
      "Epoch 59: 100%|██████████| 7/7 [00:00<00:00,  9.87it/s, loss=0.132, v_num=0, train_loss=0.0139, train_accuracy=1.000]"
     ]
    },
    {
     "name": "stderr",
     "output_type": "stream",
     "text": [
      "[2024-12-02 20:42:46] INFO (torcheeg/MainThread) \n",
      "[Train] train_loss: 0.091 train_accuracy: 0.945 \n",
      "\n"
     ]
    },
    {
     "name": "stdout",
     "output_type": "stream",
     "text": [
      "Epoch 60: 100%|██████████| 7/7 [00:00<00:00,  9.86it/s, loss=0.101, v_num=0, train_loss=0.00122, train_accuracy=1.000]"
     ]
    },
    {
     "name": "stderr",
     "output_type": "stream",
     "text": [
      "Metric train_loss improved by 0.000 >= min_delta = 0.0. New best score: 0.001\n"
     ]
    },
    {
     "name": "stdout",
     "output_type": "stream",
     "text": [
      "Epoch 60: 100%|██████████| 7/7 [00:00<00:00,  9.84it/s, loss=0.101, v_num=0, train_loss=0.00122, train_accuracy=1.000]"
     ]
    },
    {
     "name": "stderr",
     "output_type": "stream",
     "text": [
      "[2024-12-02 20:42:50] INFO (torcheeg/MainThread) \n",
      "[Train] train_loss: 0.122 train_accuracy: 0.945 \n",
      "\n"
     ]
    },
    {
     "name": "stdout",
     "output_type": "stream",
     "text": [
      "Epoch 61: 100%|██████████| 7/7 [00:00<00:00,  9.66it/s, loss=0.104, v_num=0, train_loss=0.0134, train_accuracy=1.000] "
     ]
    },
    {
     "name": "stderr",
     "output_type": "stream",
     "text": [
      "[2024-12-02 20:42:55] INFO (torcheeg/MainThread) \n",
      "[Train] train_loss: 0.100 train_accuracy: 0.935 \n",
      "\n"
     ]
    },
    {
     "name": "stdout",
     "output_type": "stream",
     "text": [
      "Epoch 62: 100%|██████████| 7/7 [00:00<00:00, 10.01it/s, loss=0.118, v_num=0, train_loss=0.0102, train_accuracy=1.000] "
     ]
    },
    {
     "name": "stderr",
     "output_type": "stream",
     "text": [
      "[2024-12-02 20:42:59] INFO (torcheeg/MainThread) \n",
      "[Train] train_loss: 0.118 train_accuracy: 0.960 \n",
      "\n"
     ]
    },
    {
     "name": "stdout",
     "output_type": "stream",
     "text": [
      "Epoch 63: 100%|██████████| 7/7 [00:00<00:00,  9.89it/s, loss=0.101, v_num=0, train_loss=0.182, train_accuracy=0.875]   "
     ]
    },
    {
     "name": "stderr",
     "output_type": "stream",
     "text": [
      "[2024-12-02 20:43:03] INFO (torcheeg/MainThread) \n",
      "[Train] train_loss: 0.093 train_accuracy: 0.965 \n",
      "\n"
     ]
    },
    {
     "name": "stdout",
     "output_type": "stream",
     "text": [
      "Epoch 64: 100%|██████████| 7/7 [00:00<00:00, 10.02it/s, loss=0.121, v_num=0, train_loss=0.303, train_accuracy=0.875]  "
     ]
    },
    {
     "name": "stderr",
     "output_type": "stream",
     "text": [
      "[2024-12-02 20:43:08] INFO (torcheeg/MainThread) \n",
      "[Train] train_loss: 0.139 train_accuracy: 0.955 \n",
      "\n"
     ]
    },
    {
     "name": "stdout",
     "output_type": "stream",
     "text": [
      "Epoch 65: 100%|██████████| 7/7 [00:00<00:00, 10.01it/s, loss=0.106, v_num=0, train_loss=0.0133, train_accuracy=1.000]"
     ]
    },
    {
     "name": "stderr",
     "output_type": "stream",
     "text": [
      "[2024-12-02 20:43:12] INFO (torcheeg/MainThread) \n",
      "[Train] train_loss: 0.081 train_accuracy: 0.955 \n",
      "\n"
     ]
    },
    {
     "name": "stdout",
     "output_type": "stream",
     "text": [
      "Epoch 66: 100%|██████████| 7/7 [00:00<00:00,  9.77it/s, loss=0.111, v_num=0, train_loss=0.242, train_accuracy=0.875] "
     ]
    },
    {
     "name": "stderr",
     "output_type": "stream",
     "text": [
      "[2024-12-02 20:43:16] INFO (torcheeg/MainThread) \n",
      "[Train] train_loss: 0.123 train_accuracy: 0.960 \n",
      "\n"
     ]
    },
    {
     "name": "stdout",
     "output_type": "stream",
     "text": [
      "Epoch 67: 100%|██████████| 7/7 [00:00<00:00, 10.02it/s, loss=0.079, v_num=0, train_loss=0.0372, train_accuracy=1.000] "
     ]
    },
    {
     "name": "stderr",
     "output_type": "stream",
     "text": [
      "[2024-12-02 20:43:21] INFO (torcheeg/MainThread) \n",
      "[Train] train_loss: 0.052 train_accuracy: 0.985 \n",
      "\n"
     ]
    },
    {
     "name": "stdout",
     "output_type": "stream",
     "text": [
      "Epoch 68: 100%|██████████| 7/7 [00:00<00:00,  9.81it/s, loss=0.082, v_num=0, train_loss=0.00406, train_accuracy=1.000]"
     ]
    },
    {
     "name": "stderr",
     "output_type": "stream",
     "text": [
      "[2024-12-02 20:43:25] INFO (torcheeg/MainThread) \n",
      "[Train] train_loss: 0.069 train_accuracy: 0.970 \n",
      "\n"
     ]
    },
    {
     "name": "stdout",
     "output_type": "stream",
     "text": [
      "Epoch 69: 100%|██████████| 7/7 [00:00<00:00,  9.87it/s, loss=0.0646, v_num=0, train_loss=0.0327, train_accuracy=1.000]"
     ]
    },
    {
     "name": "stderr",
     "output_type": "stream",
     "text": [
      "[2024-12-02 20:43:29] INFO (torcheeg/MainThread) \n",
      "[Train] train_loss: 0.066 train_accuracy: 0.970 \n",
      "\n"
     ]
    },
    {
     "name": "stdout",
     "output_type": "stream",
     "text": [
      "Epoch 70: 100%|██████████| 7/7 [00:00<00:00,  9.92it/s, loss=0.0496, v_num=0, train_loss=0.00288, train_accuracy=1.000]"
     ]
    },
    {
     "name": "stderr",
     "output_type": "stream",
     "text": [
      "[2024-12-02 20:43:34] INFO (torcheeg/MainThread) \n",
      "[Train] train_loss: 0.016 train_accuracy: 0.990 \n",
      "\n"
     ]
    },
    {
     "name": "stdout",
     "output_type": "stream",
     "text": [
      "Epoch 71: 100%|██████████| 7/7 [00:00<00:00,  9.86it/s, loss=0.0275, v_num=0, train_loss=0.0046, train_accuracy=1.000]  "
     ]
    },
    {
     "name": "stderr",
     "output_type": "stream",
     "text": [
      "[2024-12-02 20:43:38] INFO (torcheeg/MainThread) \n",
      "[Train] train_loss: 0.009 train_accuracy: 0.995 \n",
      "\n"
     ]
    },
    {
     "name": "stdout",
     "output_type": "stream",
     "text": [
      "Epoch 72: 100%|██████████| 7/7 [00:00<00:00,  9.92it/s, loss=0.0106, v_num=0, train_loss=2.68e-5, train_accuracy=1.000]"
     ]
    },
    {
     "name": "stderr",
     "output_type": "stream",
     "text": [
      "Metric train_loss improved by 0.001 >= min_delta = 0.0. New best score: 0.000\n"
     ]
    },
    {
     "name": "stdout",
     "output_type": "stream",
     "text": [
      "Epoch 72: 100%|██████████| 7/7 [00:00<00:00,  9.90it/s, loss=0.0106, v_num=0, train_loss=2.68e-5, train_accuracy=1.000]"
     ]
    },
    {
     "name": "stderr",
     "output_type": "stream",
     "text": [
      "[2024-12-02 20:43:42] INFO (torcheeg/MainThread) \n",
      "[Train] train_loss: 0.009 train_accuracy: 1.000 \n",
      "\n"
     ]
    },
    {
     "name": "stdout",
     "output_type": "stream",
     "text": [
      "Epoch 73: 100%|██████████| 7/7 [00:00<00:00,  9.93it/s, loss=0.00741, v_num=0, train_loss=0.000397, train_accuracy=1.000]"
     ]
    },
    {
     "name": "stderr",
     "output_type": "stream",
     "text": [
      "[2024-12-02 20:43:47] INFO (torcheeg/MainThread) \n",
      "[Train] train_loss: 0.004 train_accuracy: 1.000 \n",
      "\n"
     ]
    },
    {
     "name": "stdout",
     "output_type": "stream",
     "text": [
      "Epoch 74: 100%|██████████| 7/7 [00:00<00:00,  9.88it/s, loss=0.00653, v_num=0, train_loss=0.000604, train_accuracy=1.000]"
     ]
    },
    {
     "name": "stderr",
     "output_type": "stream",
     "text": [
      "[2024-12-02 20:43:51] INFO (torcheeg/MainThread) \n",
      "[Train] train_loss: 0.006 train_accuracy: 0.995 \n",
      "\n"
     ]
    },
    {
     "name": "stdout",
     "output_type": "stream",
     "text": [
      "Epoch 75: 100%|██████████| 7/7 [00:00<00:00,  9.99it/s, loss=0.0048, v_num=0, train_loss=7.5e-6, train_accuracy=1.000]   "
     ]
    },
    {
     "name": "stderr",
     "output_type": "stream",
     "text": [
      "Metric train_loss improved by 0.000 >= min_delta = 0.0. New best score: 0.000\n"
     ]
    },
    {
     "name": "stdout",
     "output_type": "stream",
     "text": [
      "Epoch 75: 100%|██████████| 7/7 [00:00<00:00,  9.97it/s, loss=0.0048, v_num=0, train_loss=7.5e-6, train_accuracy=1.000]"
     ]
    },
    {
     "name": "stderr",
     "output_type": "stream",
     "text": [
      "[2024-12-02 20:43:55] INFO (torcheeg/MainThread) \n",
      "[Train] train_loss: 0.003 train_accuracy: 1.000 \n",
      "\n"
     ]
    },
    {
     "name": "stdout",
     "output_type": "stream",
     "text": [
      "Epoch 76: 100%|██████████| 7/7 [00:00<00:00,  9.95it/s, loss=0.00568, v_num=0, train_loss=0.00419, train_accuracy=1.000] "
     ]
    },
    {
     "name": "stderr",
     "output_type": "stream",
     "text": [
      "[2024-12-02 20:43:59] INFO (torcheeg/MainThread) \n",
      "[Train] train_loss: 0.007 train_accuracy: 0.995 \n",
      "\n"
     ]
    },
    {
     "name": "stdout",
     "output_type": "stream",
     "text": [
      "Epoch 77: 100%|██████████| 7/7 [00:00<00:00,  9.69it/s, loss=0.0908, v_num=0, train_loss=1.160, train_accuracy=0.750]   "
     ]
    },
    {
     "name": "stderr",
     "output_type": "stream",
     "text": [
      "[2024-12-02 20:44:04] INFO (torcheeg/MainThread) \n",
      "[Train] train_loss: 0.249 train_accuracy: 0.965 \n",
      "\n"
     ]
    },
    {
     "name": "stdout",
     "output_type": "stream",
     "text": [
      "Epoch 78: 100%|██████████| 7/7 [00:00<00:00,  9.90it/s, loss=0.16, v_num=0, train_loss=0.330, train_accuracy=0.875]    "
     ]
    },
    {
     "name": "stderr",
     "output_type": "stream",
     "text": [
      "[2024-12-02 20:44:08] INFO (torcheeg/MainThread) \n",
      "[Train] train_loss: 0.201 train_accuracy: 0.945 \n",
      "\n"
     ]
    },
    {
     "name": "stdout",
     "output_type": "stream",
     "text": [
      "Epoch 79: 100%|██████████| 7/7 [00:00<00:00,  9.89it/s, loss=0.234, v_num=0, train_loss=0.113, train_accuracy=1.000] "
     ]
    },
    {
     "name": "stderr",
     "output_type": "stream",
     "text": [
      "[2024-12-02 20:44:13] INFO (torcheeg/MainThread) \n",
      "[Train] train_loss: 0.227 train_accuracy: 0.890 \n",
      "\n"
     ]
    },
    {
     "name": "stdout",
     "output_type": "stream",
     "text": [
      "Epoch 80: 100%|██████████| 7/7 [00:00<00:00,  9.98it/s, loss=0.227, v_num=0, train_loss=0.238, train_accuracy=0.875]"
     ]
    },
    {
     "name": "stderr",
     "output_type": "stream",
     "text": [
      "[2024-12-02 20:44:17] INFO (torcheeg/MainThread) \n",
      "[Train] train_loss: 0.222 train_accuracy: 0.920 \n",
      "\n"
     ]
    },
    {
     "name": "stdout",
     "output_type": "stream",
     "text": [
      "Epoch 81: 100%|██████████| 7/7 [00:00<00:00,  9.93it/s, loss=0.216, v_num=0, train_loss=0.420, train_accuracy=0.750]"
     ]
    },
    {
     "name": "stderr",
     "output_type": "stream",
     "text": [
      "[2024-12-02 20:44:21] INFO (torcheeg/MainThread) \n",
      "[Train] train_loss: 0.178 train_accuracy: 0.930 \n",
      "\n"
     ]
    },
    {
     "name": "stdout",
     "output_type": "stream",
     "text": [
      "Epoch 82: 100%|██████████| 7/7 [00:00<00:00, 10.02it/s, loss=0.208, v_num=0, train_loss=0.101, train_accuracy=0.875] "
     ]
    },
    {
     "name": "stderr",
     "output_type": "stream",
     "text": [
      "[2024-12-02 20:44:25] INFO (torcheeg/MainThread) \n",
      "[Train] train_loss: 0.213 train_accuracy: 0.925 \n",
      "\n"
     ]
    },
    {
     "name": "stdout",
     "output_type": "stream",
     "text": [
      "Epoch 83: 100%|██████████| 7/7 [00:00<00:00, 10.15it/s, loss=0.182, v_num=0, train_loss=0.0306, train_accuracy=1.000]"
     ]
    },
    {
     "name": "stderr",
     "output_type": "stream",
     "text": [
      "[2024-12-02 20:44:30] INFO (torcheeg/MainThread) \n",
      "[Train] train_loss: 0.135 train_accuracy: 0.955 \n",
      "\n"
     ]
    },
    {
     "name": "stdout",
     "output_type": "stream",
     "text": [
      "Epoch 84: 100%|██████████| 7/7 [00:00<00:00,  9.90it/s, loss=0.151, v_num=0, train_loss=0.0113, train_accuracy=1.000]"
     ]
    },
    {
     "name": "stderr",
     "output_type": "stream",
     "text": [
      "[2024-12-02 20:44:34] INFO (torcheeg/MainThread) \n",
      "[Train] train_loss: 0.096 train_accuracy: 0.960 \n",
      "\n"
     ]
    },
    {
     "name": "stdout",
     "output_type": "stream",
     "text": [
      "Epoch 85: 100%|██████████| 7/7 [00:00<00:00,  9.66it/s, loss=0.111, v_num=0, train_loss=0.00798, train_accuracy=1.000]"
     ]
    },
    {
     "name": "stderr",
     "output_type": "stream",
     "text": [
      "[2024-12-02 20:44:38] INFO (torcheeg/MainThread) \n",
      "[Train] train_loss: 0.094 train_accuracy: 0.965 \n",
      "\n"
     ]
    },
    {
     "name": "stdout",
     "output_type": "stream",
     "text": [
      "Epoch 86: 100%|██████████| 7/7 [00:00<00:00,  9.60it/s, loss=0.0862, v_num=0, train_loss=0.0126, train_accuracy=1.000] "
     ]
    },
    {
     "name": "stderr",
     "output_type": "stream",
     "text": [
      "[2024-12-02 20:44:43] INFO (torcheeg/MainThread) \n",
      "[Train] train_loss: 0.081 train_accuracy: 0.970 \n",
      "\n"
     ]
    },
    {
     "name": "stdout",
     "output_type": "stream",
     "text": [
      "Epoch 87: 100%|██████████| 7/7 [00:00<00:00,  9.90it/s, loss=0.0738, v_num=0, train_loss=0.00323, train_accuracy=1.000]"
     ]
    },
    {
     "name": "stderr",
     "output_type": "stream",
     "text": [
      "[2024-12-02 20:44:47] INFO (torcheeg/MainThread) \n",
      "[Train] train_loss: 0.042 train_accuracy: 0.980 \n",
      "\n"
     ]
    },
    {
     "name": "stdout",
     "output_type": "stream",
     "text": [
      "Epoch 88: 100%|██████████| 7/7 [00:00<00:00,  9.87it/s, loss=0.0596, v_num=0, train_loss=0.00206, train_accuracy=1.000]"
     ]
    },
    {
     "name": "stderr",
     "output_type": "stream",
     "text": [
      "[2024-12-02 20:44:51] INFO (torcheeg/MainThread) \n",
      "[Train] train_loss: 0.052 train_accuracy: 0.975 \n",
      "\n"
     ]
    },
    {
     "name": "stdout",
     "output_type": "stream",
     "text": [
      "Epoch 89: 100%|██████████| 7/7 [00:00<00:00,  9.60it/s, loss=0.0587, v_num=0, train_loss=0.010, train_accuracy=1.000]  "
     ]
    },
    {
     "name": "stderr",
     "output_type": "stream",
     "text": [
      "[2024-12-02 20:44:56] INFO (torcheeg/MainThread) \n",
      "[Train] train_loss: 0.080 train_accuracy: 0.965 \n",
      "\n"
     ]
    },
    {
     "name": "stdout",
     "output_type": "stream",
     "text": [
      "Epoch 90: 100%|██████████| 7/7 [00:00<00:00,  9.83it/s, loss=0.0711, v_num=0, train_loss=0.0332, train_accuracy=1.000] "
     ]
    },
    {
     "name": "stderr",
     "output_type": "stream",
     "text": [
      "[2024-12-02 20:45:00] INFO (torcheeg/MainThread) \n",
      "[Train] train_loss: 0.072 train_accuracy: 0.980 \n",
      "\n"
     ]
    },
    {
     "name": "stdout",
     "output_type": "stream",
     "text": [
      "Epoch 91: 100%|██████████| 7/7 [00:00<00:00,  9.94it/s, loss=0.0836, v_num=0, train_loss=0.0576, train_accuracy=1.000]"
     ]
    },
    {
     "name": "stderr",
     "output_type": "stream",
     "text": [
      "[2024-12-02 20:45:04] INFO (torcheeg/MainThread) \n",
      "[Train] train_loss: 0.088 train_accuracy: 0.965 \n",
      "\n"
     ]
    },
    {
     "name": "stdout",
     "output_type": "stream",
     "text": [
      "Epoch 92: 100%|██████████| 7/7 [00:00<00:00,  9.99it/s, loss=0.0683, v_num=0, train_loss=0.0152, train_accuracy=1.000] "
     ]
    },
    {
     "name": "stderr",
     "output_type": "stream",
     "text": [
      "[2024-12-02 20:45:09] INFO (torcheeg/MainThread) \n",
      "[Train] train_loss: 0.036 train_accuracy: 0.980 \n",
      "\n"
     ]
    },
    {
     "name": "stdout",
     "output_type": "stream",
     "text": [
      "Epoch 93: 100%|██████████| 7/7 [00:00<00:00,  9.96it/s, loss=0.0601, v_num=0, train_loss=0.000623, train_accuracy=1.000]"
     ]
    },
    {
     "name": "stderr",
     "output_type": "stream",
     "text": [
      "[2024-12-02 20:45:13] INFO (torcheeg/MainThread) \n",
      "[Train] train_loss: 0.078 train_accuracy: 0.985 \n",
      "\n"
     ]
    },
    {
     "name": "stdout",
     "output_type": "stream",
     "text": [
      "Epoch 94: 100%|██████████| 7/7 [00:00<00:00, 10.00it/s, loss=0.0502, v_num=0, train_loss=0.000333, train_accuracy=1.000]"
     ]
    },
    {
     "name": "stderr",
     "output_type": "stream",
     "text": [
      "[2024-12-02 20:45:17] INFO (torcheeg/MainThread) \n",
      "[Train] train_loss: 0.040 train_accuracy: 0.990 \n",
      "\n"
     ]
    },
    {
     "name": "stdout",
     "output_type": "stream",
     "text": [
      "Epoch 95: 100%|██████████| 7/7 [00:00<00:00,  9.87it/s, loss=0.066, v_num=0, train_loss=0.0133, train_accuracy=1.000]   "
     ]
    },
    {
     "name": "stderr",
     "output_type": "stream",
     "text": [
      "Monitored metric train_loss did not improve in the last 20 records. Best score: 0.000. Signaling Trainer to stop.\n"
     ]
    },
    {
     "name": "stdout",
     "output_type": "stream",
     "text": [
      "Epoch 95: 100%|██████████| 7/7 [00:00<00:00,  9.85it/s, loss=0.066, v_num=0, train_loss=0.0133, train_accuracy=1.000]"
     ]
    },
    {
     "name": "stderr",
     "output_type": "stream",
     "text": [
      "[2024-12-02 20:45:22] INFO (torcheeg/MainThread) \n",
      "[Train] train_loss: 0.085 train_accuracy: 0.970 \n",
      "\n"
     ]
    },
    {
     "name": "stdout",
     "output_type": "stream",
     "text": [
      "Epoch 95: 100%|██████████| 7/7 [00:04<00:00,  1.63it/s, loss=0.066, v_num=0, train_loss=0.0133, train_accuracy=1.000]\n"
     ]
    },
    {
     "name": "stderr",
     "output_type": "stream",
     "text": [
      "GPU available: True (cuda), used: True\n",
      "TPU available: False, using: 0 TPU cores\n",
      "IPU available: False, using: 0 IPUs\n",
      "HPU available: False, using: 0 HPUs\n",
      "LOCAL_RANK: 0 - CUDA_VISIBLE_DEVICES: [0]\n",
      "/root/autodl-tmp/conda/envs/law/lib/python3.8/site-packages/pytorch_lightning/trainer/connectors/data_connector.py:224: PossibleUserWarning: The dataloader, test_dataloader 0, does not have many workers which may be a bottleneck. Consider increasing the value of the `num_workers` argument` (try 128 which is the number of cpus on this machine) in the `DataLoader` init to improve performance.\n",
      "  rank_zero_warn(\n"
     ]
    },
    {
     "name": "stdout",
     "output_type": "stream",
     "text": [
      "Testing DataLoader 0: 100%|██████████| 3/3 [00:00<00:00, 38.63it/s]"
     ]
    },
    {
     "name": "stderr",
     "output_type": "stream",
     "text": [
      "[2024-12-02 20:45:23] INFO (torcheeg/MainThread) \n",
      "[Test] test_loss: 2.367 test_accuracy: 0.500 \n",
      "\n"
     ]
    },
    {
     "name": "stdout",
     "output_type": "stream",
     "text": [
      "Testing DataLoader 0: 100%|██████████| 3/3 [00:00<00:00, 36.12it/s]\n",
      "────────────────────────────────────────────────────────────────────────────────────────────────────────────────────────\n",
      "       Test metric             DataLoader 0\n",
      "────────────────────────────────────────────────────────────────────────────────────────────────────────────────────────\n",
      "      test_accuracy                 0.5\n",
      "        test_loss            2.367147445678711\n",
      "────────────────────────────────────────────────────────────────────────────────────────────────────────────────────────\n",
      "已删除文件夹: /root/autodl-tmp/.autodl/kinlaw/mi_swin/lightning_logs\n"
     ]
    },
    {
     "name": "stderr",
     "output_type": "stream",
     "text": [
      "GPU available: True (cuda), used: True\n",
      "TPU available: False, using: 0 TPU cores\n",
      "IPU available: False, using: 0 IPUs\n",
      "HPU available: False, using: 0 HPUs\n",
      "Missing logger folder: /root/autodl-tmp/.autodl/kinlaw/mi_swin/lightning_logs\n",
      "LOCAL_RANK: 0 - CUDA_VISIBLE_DEVICES: [0]\n",
      "/root/autodl-tmp/conda/envs/law/lib/python3.8/site-packages/pytorch_lightning/trainer/connectors/data_connector.py:224: PossibleUserWarning: The dataloader, train_dataloader, does not have many workers which may be a bottleneck. Consider increasing the value of the `num_workers` argument` (try 128 which is the number of cpus on this machine) in the `DataLoader` init to improve performance.\n",
      "  rank_zero_warn(\n",
      "/root/autodl-tmp/conda/envs/law/lib/python3.8/site-packages/pytorch_lightning/trainer/trainer.py:1609: PossibleUserWarning: The number of training batches (7) is smaller than the logging interval Trainer(log_every_n_steps=50). Set a lower value for log_every_n_steps if you want to see logs for the training epoch.\n",
      "  rank_zero_warn(\n"
     ]
    },
    {
     "name": "stdout",
     "output_type": "stream",
     "text": [
      "Epoch 0: 100%|██████████| 7/7 [00:00<00:00,  9.71it/s, loss=2.85, v_num=0, train_loss=5.160, train_accuracy=0.250] "
     ]
    },
    {
     "name": "stderr",
     "output_type": "stream",
     "text": [
      "Metric train_loss improved. New best score: 5.163\n"
     ]
    },
    {
     "name": "stdout",
     "output_type": "stream",
     "text": [
      "Epoch 0: 100%|██████████| 7/7 [00:00<00:00,  9.68it/s, loss=2.85, v_num=0, train_loss=5.160, train_accuracy=0.250]"
     ]
    },
    {
     "name": "stderr",
     "output_type": "stream",
     "text": [
      "[2024-12-02 20:45:29] INFO (torcheeg/MainThread) \n",
      "[Train] train_loss: 2.851 train_accuracy: 0.495 \n",
      "\n"
     ]
    },
    {
     "name": "stdout",
     "output_type": "stream",
     "text": [
      "Epoch 1: 100%|██████████| 7/7 [00:00<00:00,  9.87it/s, loss=1.96, v_num=0, train_loss=0.475, train_accuracy=0.750]"
     ]
    },
    {
     "name": "stderr",
     "output_type": "stream",
     "text": [
      "Metric train_loss improved by 4.688 >= min_delta = 0.0. New best score: 0.475\n"
     ]
    },
    {
     "name": "stdout",
     "output_type": "stream",
     "text": [
      "Epoch 1: 100%|██████████| 7/7 [00:00<00:00,  9.84it/s, loss=1.96, v_num=0, train_loss=0.475, train_accuracy=0.750]"
     ]
    },
    {
     "name": "stderr",
     "output_type": "stream",
     "text": [
      "[2024-12-02 20:45:34] INFO (torcheeg/MainThread) \n",
      "[Train] train_loss: 1.067 train_accuracy: 0.600 \n",
      "\n"
     ]
    },
    {
     "name": "stdout",
     "output_type": "stream",
     "text": [
      "Epoch 2: 100%|██████████| 7/7 [00:00<00:00,  9.92it/s, loss=1.57, v_num=0, train_loss=0.566, train_accuracy=0.625]"
     ]
    },
    {
     "name": "stderr",
     "output_type": "stream",
     "text": [
      "[2024-12-02 20:45:38] INFO (torcheeg/MainThread) \n",
      "[Train] train_loss: 0.660 train_accuracy: 0.610 \n",
      "\n"
     ]
    },
    {
     "name": "stdout",
     "output_type": "stream",
     "text": [
      "Epoch 3: 100%|██████████| 7/7 [00:00<00:00,  9.88it/s, loss=0.759, v_num=0, train_loss=0.403, train_accuracy=0.875]"
     ]
    },
    {
     "name": "stderr",
     "output_type": "stream",
     "text": [
      "Metric train_loss improved by 0.073 >= min_delta = 0.0. New best score: 0.403\n"
     ]
    },
    {
     "name": "stdout",
     "output_type": "stream",
     "text": [
      "Epoch 3: 100%|██████████| 7/7 [00:00<00:00,  9.86it/s, loss=0.759, v_num=0, train_loss=0.403, train_accuracy=0.875]"
     ]
    },
    {
     "name": "stderr",
     "output_type": "stream",
     "text": [
      "[2024-12-02 20:45:42] INFO (torcheeg/MainThread) \n",
      "[Train] train_loss: 0.579 train_accuracy: 0.690 \n",
      "\n"
     ]
    },
    {
     "name": "stdout",
     "output_type": "stream",
     "text": [
      "Epoch 4: 100%|██████████| 7/7 [00:00<00:00,  9.94it/s, loss=0.587, v_num=0, train_loss=0.415, train_accuracy=0.750]"
     ]
    },
    {
     "name": "stderr",
     "output_type": "stream",
     "text": [
      "[2024-12-02 20:45:46] INFO (torcheeg/MainThread) \n",
      "[Train] train_loss: 0.519 train_accuracy: 0.740 \n",
      "\n"
     ]
    },
    {
     "name": "stdout",
     "output_type": "stream",
     "text": [
      "Epoch 5: 100%|██████████| 7/7 [00:00<00:00,  9.86it/s, loss=0.525, v_num=0, train_loss=1.050, train_accuracy=0.500]"
     ]
    },
    {
     "name": "stderr",
     "output_type": "stream",
     "text": [
      "[2024-12-02 20:45:51] INFO (torcheeg/MainThread) \n",
      "[Train] train_loss: 0.504 train_accuracy: 0.825 \n",
      "\n"
     ]
    },
    {
     "name": "stdout",
     "output_type": "stream",
     "text": [
      "Epoch 6: 100%|██████████| 7/7 [00:00<00:00,  9.88it/s, loss=0.486, v_num=0, train_loss=0.479, train_accuracy=0.750]"
     ]
    },
    {
     "name": "stderr",
     "output_type": "stream",
     "text": [
      "[2024-12-02 20:45:55] INFO (torcheeg/MainThread) \n",
      "[Train] train_loss: 0.451 train_accuracy: 0.790 \n",
      "\n"
     ]
    },
    {
     "name": "stdout",
     "output_type": "stream",
     "text": [
      "Epoch 7: 100%|██████████| 7/7 [00:00<00:00,  9.82it/s, loss=0.439, v_num=0, train_loss=0.352, train_accuracy=0.625]"
     ]
    },
    {
     "name": "stderr",
     "output_type": "stream",
     "text": [
      "Metric train_loss improved by 0.051 >= min_delta = 0.0. New best score: 0.352\n"
     ]
    },
    {
     "name": "stdout",
     "output_type": "stream",
     "text": [
      "Epoch 7: 100%|██████████| 7/7 [00:00<00:00,  9.79it/s, loss=0.439, v_num=0, train_loss=0.352, train_accuracy=0.625]"
     ]
    },
    {
     "name": "stderr",
     "output_type": "stream",
     "text": [
      "[2024-12-02 20:45:59] INFO (torcheeg/MainThread) \n",
      "[Train] train_loss: 0.366 train_accuracy: 0.850 \n",
      "\n"
     ]
    },
    {
     "name": "stdout",
     "output_type": "stream",
     "text": [
      "Epoch 8: 100%|██████████| 7/7 [00:00<00:00,  9.95it/s, loss=0.389, v_num=0, train_loss=0.145, train_accuracy=1.000]"
     ]
    },
    {
     "name": "stderr",
     "output_type": "stream",
     "text": [
      "Metric train_loss improved by 0.207 >= min_delta = 0.0. New best score: 0.145\n"
     ]
    },
    {
     "name": "stdout",
     "output_type": "stream",
     "text": [
      "Epoch 8: 100%|██████████| 7/7 [00:00<00:00,  9.93it/s, loss=0.389, v_num=0, train_loss=0.145, train_accuracy=1.000]"
     ]
    },
    {
     "name": "stderr",
     "output_type": "stream",
     "text": [
      "[2024-12-02 20:46:04] INFO (torcheeg/MainThread) \n",
      "[Train] train_loss: 0.363 train_accuracy: 0.835 \n",
      "\n"
     ]
    },
    {
     "name": "stdout",
     "output_type": "stream",
     "text": [
      "Epoch 9: 100%|██████████| 7/7 [00:00<00:00,  9.94it/s, loss=0.356, v_num=0, train_loss=0.459, train_accuracy=0.750]"
     ]
    },
    {
     "name": "stderr",
     "output_type": "stream",
     "text": [
      "[2024-12-02 20:46:08] INFO (torcheeg/MainThread) \n",
      "[Train] train_loss: 0.332 train_accuracy: 0.865 \n",
      "\n"
     ]
    },
    {
     "name": "stdout",
     "output_type": "stream",
     "text": [
      "Epoch 10: 100%|██████████| 7/7 [00:00<00:00,  9.83it/s, loss=0.337, v_num=0, train_loss=0.614, train_accuracy=0.625]"
     ]
    },
    {
     "name": "stderr",
     "output_type": "stream",
     "text": [
      "[2024-12-02 20:46:12] INFO (torcheeg/MainThread) \n",
      "[Train] train_loss: 0.297 train_accuracy: 0.895 \n",
      "\n"
     ]
    },
    {
     "name": "stdout",
     "output_type": "stream",
     "text": [
      "Epoch 11: 100%|██████████| 7/7 [00:00<00:00,  9.61it/s, loss=0.303, v_num=0, train_loss=0.267, train_accuracy=0.875]"
     ]
    },
    {
     "name": "stderr",
     "output_type": "stream",
     "text": [
      "[2024-12-02 20:46:16] INFO (torcheeg/MainThread) \n",
      "[Train] train_loss: 0.282 train_accuracy: 0.875 \n",
      "\n"
     ]
    },
    {
     "name": "stdout",
     "output_type": "stream",
     "text": [
      "Epoch 12: 100%|██████████| 7/7 [00:00<00:00, 10.10it/s, loss=0.282, v_num=0, train_loss=0.139, train_accuracy=0.875]"
     ]
    },
    {
     "name": "stderr",
     "output_type": "stream",
     "text": [
      "Metric train_loss improved by 0.005 >= min_delta = 0.0. New best score: 0.139\n"
     ]
    },
    {
     "name": "stdout",
     "output_type": "stream",
     "text": [
      "Epoch 12: 100%|██████████| 7/7 [00:00<00:00, 10.07it/s, loss=0.282, v_num=0, train_loss=0.139, train_accuracy=0.875]"
     ]
    },
    {
     "name": "stderr",
     "output_type": "stream",
     "text": [
      "[2024-12-02 20:46:21] INFO (torcheeg/MainThread) \n",
      "[Train] train_loss: 0.264 train_accuracy: 0.870 \n",
      "\n"
     ]
    },
    {
     "name": "stdout",
     "output_type": "stream",
     "text": [
      "Epoch 13: 100%|██████████| 7/7 [00:00<00:00,  9.93it/s, loss=0.28, v_num=0, train_loss=0.201, train_accuracy=0.875] "
     ]
    },
    {
     "name": "stderr",
     "output_type": "stream",
     "text": [
      "[2024-12-02 20:46:25] INFO (torcheeg/MainThread) \n",
      "[Train] train_loss: 0.273 train_accuracy: 0.895 \n",
      "\n"
     ]
    },
    {
     "name": "stdout",
     "output_type": "stream",
     "text": [
      "Epoch 14: 100%|██████████| 7/7 [00:00<00:00,  9.99it/s, loss=0.259, v_num=0, train_loss=0.0503, train_accuracy=1.000]"
     ]
    },
    {
     "name": "stderr",
     "output_type": "stream",
     "text": [
      "Metric train_loss improved by 0.089 >= min_delta = 0.0. New best score: 0.050\n"
     ]
    },
    {
     "name": "stdout",
     "output_type": "stream",
     "text": [
      "Epoch 14: 100%|██████████| 7/7 [00:00<00:00,  9.97it/s, loss=0.259, v_num=0, train_loss=0.0503, train_accuracy=1.000]"
     ]
    },
    {
     "name": "stderr",
     "output_type": "stream",
     "text": [
      "[2024-12-02 20:46:29] INFO (torcheeg/MainThread) \n",
      "[Train] train_loss: 0.221 train_accuracy: 0.895 \n",
      "\n"
     ]
    },
    {
     "name": "stdout",
     "output_type": "stream",
     "text": [
      "Epoch 15: 100%|██████████| 7/7 [00:00<00:00,  9.85it/s, loss=0.244, v_num=0, train_loss=0.0157, train_accuracy=1.000]"
     ]
    },
    {
     "name": "stderr",
     "output_type": "stream",
     "text": [
      "Metric train_loss improved by 0.035 >= min_delta = 0.0. New best score: 0.016\n"
     ]
    },
    {
     "name": "stdout",
     "output_type": "stream",
     "text": [
      "Epoch 15: 100%|██████████| 7/7 [00:00<00:00,  9.82it/s, loss=0.244, v_num=0, train_loss=0.0157, train_accuracy=1.000]"
     ]
    },
    {
     "name": "stderr",
     "output_type": "stream",
     "text": [
      "[2024-12-02 20:46:33] INFO (torcheeg/MainThread) \n",
      "[Train] train_loss: 0.246 train_accuracy: 0.895 \n",
      "\n"
     ]
    },
    {
     "name": "stdout",
     "output_type": "stream",
     "text": [
      "Epoch 16: 100%|██████████| 7/7 [00:00<00:00,  9.89it/s, loss=0.222, v_num=0, train_loss=0.377, train_accuracy=0.750] "
     ]
    },
    {
     "name": "stderr",
     "output_type": "stream",
     "text": [
      "[2024-12-02 20:46:38] INFO (torcheeg/MainThread) \n",
      "[Train] train_loss: 0.201 train_accuracy: 0.920 \n",
      "\n"
     ]
    },
    {
     "name": "stdout",
     "output_type": "stream",
     "text": [
      "Epoch 17: 100%|██████████| 7/7 [00:00<00:00,  9.93it/s, loss=0.225, v_num=0, train_loss=0.0957, train_accuracy=1.000]"
     ]
    },
    {
     "name": "stderr",
     "output_type": "stream",
     "text": [
      "[2024-12-02 20:46:42] INFO (torcheeg/MainThread) \n",
      "[Train] train_loss: 0.228 train_accuracy: 0.875 \n",
      "\n"
     ]
    },
    {
     "name": "stdout",
     "output_type": "stream",
     "text": [
      "Epoch 18: 100%|██████████| 7/7 [00:00<00:00,  9.65it/s, loss=0.224, v_num=0, train_loss=0.108, train_accuracy=1.000] "
     ]
    },
    {
     "name": "stderr",
     "output_type": "stream",
     "text": [
      "[2024-12-02 20:46:46] INFO (torcheeg/MainThread) \n",
      "[Train] train_loss: 0.216 train_accuracy: 0.920 \n",
      "\n"
     ]
    },
    {
     "name": "stdout",
     "output_type": "stream",
     "text": [
      "Epoch 19: 100%|██████████| 7/7 [00:00<00:00,  9.85it/s, loss=0.228, v_num=0, train_loss=0.184, train_accuracy=0.875] "
     ]
    },
    {
     "name": "stderr",
     "output_type": "stream",
     "text": [
      "[2024-12-02 20:46:50] INFO (torcheeg/MainThread) \n",
      "[Train] train_loss: 0.272 train_accuracy: 0.880 \n",
      "\n"
     ]
    },
    {
     "name": "stdout",
     "output_type": "stream",
     "text": [
      "Epoch 20: 100%|██████████| 7/7 [00:00<00:00,  9.93it/s, loss=0.229, v_num=0, train_loss=0.0901, train_accuracy=1.000]"
     ]
    },
    {
     "name": "stderr",
     "output_type": "stream",
     "text": [
      "[2024-12-02 20:46:55] INFO (torcheeg/MainThread) \n",
      "[Train] train_loss: 0.174 train_accuracy: 0.935 \n",
      "\n"
     ]
    },
    {
     "name": "stdout",
     "output_type": "stream",
     "text": [
      "Epoch 21: 100%|██████████| 7/7 [00:00<00:00,  9.89it/s, loss=0.196, v_num=0, train_loss=0.175, train_accuracy=0.875] "
     ]
    },
    {
     "name": "stderr",
     "output_type": "stream",
     "text": [
      "[2024-12-02 20:46:59] INFO (torcheeg/MainThread) \n",
      "[Train] train_loss: 0.152 train_accuracy: 0.935 \n",
      "\n"
     ]
    },
    {
     "name": "stdout",
     "output_type": "stream",
     "text": [
      "Epoch 22: 100%|██████████| 7/7 [00:00<00:00,  9.91it/s, loss=0.169, v_num=0, train_loss=0.301, train_accuracy=0.875] "
     ]
    },
    {
     "name": "stderr",
     "output_type": "stream",
     "text": [
      "[2024-12-02 20:47:03] INFO (torcheeg/MainThread) \n",
      "[Train] train_loss: 0.179 train_accuracy: 0.940 \n",
      "\n"
     ]
    },
    {
     "name": "stdout",
     "output_type": "stream",
     "text": [
      "Epoch 23: 100%|██████████| 7/7 [00:00<00:00,  9.80it/s, loss=0.22, v_num=0, train_loss=0.248, train_accuracy=0.875] "
     ]
    },
    {
     "name": "stderr",
     "output_type": "stream",
     "text": [
      "[2024-12-02 20:47:07] INFO (torcheeg/MainThread) \n",
      "[Train] train_loss: 0.313 train_accuracy: 0.920 \n",
      "\n"
     ]
    },
    {
     "name": "stdout",
     "output_type": "stream",
     "text": [
      "Epoch 24: 100%|██████████| 7/7 [00:00<00:00,  9.99it/s, loss=0.235, v_num=0, train_loss=0.0781, train_accuracy=1.000]"
     ]
    },
    {
     "name": "stderr",
     "output_type": "stream",
     "text": [
      "[2024-12-02 20:47:12] INFO (torcheeg/MainThread) \n",
      "[Train] train_loss: 0.200 train_accuracy: 0.905 \n",
      "\n"
     ]
    },
    {
     "name": "stdout",
     "output_type": "stream",
     "text": [
      "Epoch 25: 100%|██████████| 7/7 [00:00<00:00,  9.93it/s, loss=0.254, v_num=0, train_loss=0.601, train_accuracy=0.875] "
     ]
    },
    {
     "name": "stderr",
     "output_type": "stream",
     "text": [
      "[2024-12-02 20:47:16] INFO (torcheeg/MainThread) \n",
      "[Train] train_loss: 0.255 train_accuracy: 0.910 \n",
      "\n"
     ]
    },
    {
     "name": "stdout",
     "output_type": "stream",
     "text": [
      "Epoch 26: 100%|██████████| 7/7 [00:00<00:00,  9.68it/s, loss=0.207, v_num=0, train_loss=0.0681, train_accuracy=1.000]"
     ]
    },
    {
     "name": "stderr",
     "output_type": "stream",
     "text": [
      "[2024-12-02 20:47:20] INFO (torcheeg/MainThread) \n",
      "[Train] train_loss: 0.167 train_accuracy: 0.940 \n",
      "\n"
     ]
    },
    {
     "name": "stdout",
     "output_type": "stream",
     "text": [
      "Epoch 27: 100%|██████████| 7/7 [00:00<00:00,  9.94it/s, loss=0.193, v_num=0, train_loss=0.0686, train_accuracy=1.000]"
     ]
    },
    {
     "name": "stderr",
     "output_type": "stream",
     "text": [
      "[2024-12-02 20:47:24] INFO (torcheeg/MainThread) \n",
      "[Train] train_loss: 0.139 train_accuracy: 0.940 \n",
      "\n"
     ]
    },
    {
     "name": "stdout",
     "output_type": "stream",
     "text": [
      "Epoch 28: 100%|██████████| 7/7 [00:00<00:00,  9.80it/s, loss=0.129, v_num=0, train_loss=0.0783, train_accuracy=1.000]"
     ]
    },
    {
     "name": "stderr",
     "output_type": "stream",
     "text": [
      "[2024-12-02 20:47:29] INFO (torcheeg/MainThread) \n",
      "[Train] train_loss: 0.098 train_accuracy: 0.965 \n",
      "\n"
     ]
    },
    {
     "name": "stdout",
     "output_type": "stream",
     "text": [
      "Epoch 29: 100%|██████████| 7/7 [00:00<00:00,  9.93it/s, loss=0.121, v_num=0, train_loss=0.215, train_accuracy=0.875] "
     ]
    },
    {
     "name": "stderr",
     "output_type": "stream",
     "text": [
      "[2024-12-02 20:47:33] INFO (torcheeg/MainThread) \n",
      "[Train] train_loss: 0.128 train_accuracy: 0.950 \n",
      "\n"
     ]
    },
    {
     "name": "stdout",
     "output_type": "stream",
     "text": [
      "Epoch 30: 100%|██████████| 7/7 [00:00<00:00,  9.93it/s, loss=0.114, v_num=0, train_loss=0.0072, train_accuracy=1.000]"
     ]
    },
    {
     "name": "stderr",
     "output_type": "stream",
     "text": [
      "Metric train_loss improved by 0.008 >= min_delta = 0.0. New best score: 0.007\n"
     ]
    },
    {
     "name": "stdout",
     "output_type": "stream",
     "text": [
      "Epoch 30: 100%|██████████| 7/7 [00:00<00:00,  9.90it/s, loss=0.114, v_num=0, train_loss=0.0072, train_accuracy=1.000]"
     ]
    },
    {
     "name": "stderr",
     "output_type": "stream",
     "text": [
      "[2024-12-02 20:47:37] INFO (torcheeg/MainThread) \n",
      "[Train] train_loss: 0.118 train_accuracy: 0.970 \n",
      "\n"
     ]
    },
    {
     "name": "stdout",
     "output_type": "stream",
     "text": [
      "Epoch 31: 100%|██████████| 7/7 [00:00<00:00,  9.92it/s, loss=0.145, v_num=0, train_loss=0.145, train_accuracy=0.875] "
     ]
    },
    {
     "name": "stderr",
     "output_type": "stream",
     "text": [
      "[2024-12-02 20:47:41] INFO (torcheeg/MainThread) \n",
      "[Train] train_loss: 0.191 train_accuracy: 0.940 \n",
      "\n"
     ]
    },
    {
     "name": "stdout",
     "output_type": "stream",
     "text": [
      "Epoch 32: 100%|██████████| 7/7 [00:00<00:00, 10.01it/s, loss=0.137, v_num=0, train_loss=0.00832, train_accuracy=1.000]"
     ]
    },
    {
     "name": "stderr",
     "output_type": "stream",
     "text": [
      "[2024-12-02 20:47:46] INFO (torcheeg/MainThread) \n",
      "[Train] train_loss: 0.098 train_accuracy: 0.960 \n",
      "\n"
     ]
    },
    {
     "name": "stdout",
     "output_type": "stream",
     "text": [
      "Epoch 33: 100%|██████████| 7/7 [00:00<00:00,  9.80it/s, loss=0.131, v_num=0, train_loss=0.0588, train_accuracy=1.000] "
     ]
    },
    {
     "name": "stderr",
     "output_type": "stream",
     "text": [
      "[2024-12-02 20:47:50] INFO (torcheeg/MainThread) \n",
      "[Train] train_loss: 0.117 train_accuracy: 0.950 \n",
      "\n"
     ]
    },
    {
     "name": "stdout",
     "output_type": "stream",
     "text": [
      "Epoch 34: 100%|██████████| 7/7 [00:00<00:00,  9.89it/s, loss=0.0944, v_num=0, train_loss=0.0514, train_accuracy=1.000]"
     ]
    },
    {
     "name": "stderr",
     "output_type": "stream",
     "text": [
      "[2024-12-02 20:47:54] INFO (torcheeg/MainThread) \n",
      "[Train] train_loss: 0.065 train_accuracy: 0.985 \n",
      "\n"
     ]
    },
    {
     "name": "stdout",
     "output_type": "stream",
     "text": [
      "Epoch 35: 100%|██████████| 7/7 [00:00<00:00, 10.08it/s, loss=0.0842, v_num=0, train_loss=0.0228, train_accuracy=1.000]"
     ]
    },
    {
     "name": "stderr",
     "output_type": "stream",
     "text": [
      "[2024-12-02 20:47:58] INFO (torcheeg/MainThread) \n",
      "[Train] train_loss: 0.068 train_accuracy: 0.975 \n",
      "\n"
     ]
    },
    {
     "name": "stdout",
     "output_type": "stream",
     "text": [
      "Epoch 36: 100%|██████████| 7/7 [00:00<00:00,  9.94it/s, loss=0.0748, v_num=0, train_loss=0.114, train_accuracy=0.875] "
     ]
    },
    {
     "name": "stderr",
     "output_type": "stream",
     "text": [
      "[2024-12-02 20:48:03] INFO (torcheeg/MainThread) \n",
      "[Train] train_loss: 0.085 train_accuracy: 0.970 \n",
      "\n"
     ]
    },
    {
     "name": "stdout",
     "output_type": "stream",
     "text": [
      "Epoch 37: 100%|██████████| 7/7 [00:00<00:00,  9.89it/s, loss=0.0803, v_num=0, train_loss=0.0816, train_accuracy=1.000]"
     ]
    },
    {
     "name": "stderr",
     "output_type": "stream",
     "text": [
      "[2024-12-02 20:48:07] INFO (torcheeg/MainThread) \n",
      "[Train] train_loss: 0.087 train_accuracy: 0.965 \n",
      "\n"
     ]
    },
    {
     "name": "stdout",
     "output_type": "stream",
     "text": [
      "Epoch 38: 100%|██████████| 7/7 [00:00<00:00,  9.99it/s, loss=0.126, v_num=0, train_loss=0.0462, train_accuracy=1.000] "
     ]
    },
    {
     "name": "stderr",
     "output_type": "stream",
     "text": [
      "[2024-12-02 20:48:11] INFO (torcheeg/MainThread) \n",
      "[Train] train_loss: 0.195 train_accuracy: 0.935 \n",
      "\n"
     ]
    },
    {
     "name": "stdout",
     "output_type": "stream",
     "text": [
      "Epoch 39: 100%|██████████| 7/7 [00:00<00:00, 10.00it/s, loss=0.159, v_num=0, train_loss=0.0331, train_accuracy=1.000]"
     ]
    },
    {
     "name": "stderr",
     "output_type": "stream",
     "text": [
      "[2024-12-02 20:48:15] INFO (torcheeg/MainThread) \n",
      "[Train] train_loss: 0.185 train_accuracy: 0.920 \n",
      "\n"
     ]
    },
    {
     "name": "stdout",
     "output_type": "stream",
     "text": [
      "Epoch 40: 100%|██████████| 7/7 [00:00<00:00,  9.96it/s, loss=0.162, v_num=0, train_loss=0.197, train_accuracy=0.875] "
     ]
    },
    {
     "name": "stderr",
     "output_type": "stream",
     "text": [
      "[2024-12-02 20:48:20] INFO (torcheeg/MainThread) \n",
      "[Train] train_loss: 0.125 train_accuracy: 0.955 \n",
      "\n"
     ]
    },
    {
     "name": "stdout",
     "output_type": "stream",
     "text": [
      "Epoch 41: 100%|██████████| 7/7 [00:00<00:00, 10.10it/s, loss=0.133, v_num=0, train_loss=0.00174, train_accuracy=1.000]"
     ]
    },
    {
     "name": "stderr",
     "output_type": "stream",
     "text": [
      "Metric train_loss improved by 0.005 >= min_delta = 0.0. New best score: 0.002\n"
     ]
    },
    {
     "name": "stdout",
     "output_type": "stream",
     "text": [
      "Epoch 41: 100%|██████████| 7/7 [00:00<00:00, 10.07it/s, loss=0.133, v_num=0, train_loss=0.00174, train_accuracy=1.000]"
     ]
    },
    {
     "name": "stderr",
     "output_type": "stream",
     "text": [
      "[2024-12-02 20:48:24] INFO (torcheeg/MainThread) \n",
      "[Train] train_loss: 0.085 train_accuracy: 0.970 \n",
      "\n"
     ]
    },
    {
     "name": "stdout",
     "output_type": "stream",
     "text": [
      "Epoch 42: 100%|██████████| 7/7 [00:00<00:00,  9.79it/s, loss=0.0862, v_num=0, train_loss=0.00164, train_accuracy=1.000]"
     ]
    },
    {
     "name": "stderr",
     "output_type": "stream",
     "text": [
      "Metric train_loss improved by 0.000 >= min_delta = 0.0. New best score: 0.002\n"
     ]
    },
    {
     "name": "stdout",
     "output_type": "stream",
     "text": [
      "Epoch 42: 100%|██████████| 7/7 [00:00<00:00,  9.76it/s, loss=0.0862, v_num=0, train_loss=0.00164, train_accuracy=1.000]"
     ]
    },
    {
     "name": "stderr",
     "output_type": "stream",
     "text": [
      "[2024-12-02 20:48:28] INFO (torcheeg/MainThread) \n",
      "[Train] train_loss: 0.062 train_accuracy: 0.975 \n",
      "\n"
     ]
    },
    {
     "name": "stdout",
     "output_type": "stream",
     "text": [
      "Epoch 43: 100%|██████████| 7/7 [00:00<00:00,  9.92it/s, loss=0.0625, v_num=0, train_loss=0.000798, train_accuracy=1.000]"
     ]
    },
    {
     "name": "stderr",
     "output_type": "stream",
     "text": [
      "Metric train_loss improved by 0.001 >= min_delta = 0.0. New best score: 0.001\n"
     ]
    },
    {
     "name": "stdout",
     "output_type": "stream",
     "text": [
      "Epoch 43: 100%|██████████| 7/7 [00:00<00:00,  9.90it/s, loss=0.0625, v_num=0, train_loss=0.000798, train_accuracy=1.000]"
     ]
    },
    {
     "name": "stderr",
     "output_type": "stream",
     "text": [
      "[2024-12-02 20:48:33] INFO (torcheeg/MainThread) \n",
      "[Train] train_loss: 0.037 train_accuracy: 0.975 \n",
      "\n"
     ]
    },
    {
     "name": "stdout",
     "output_type": "stream",
     "text": [
      "Epoch 44: 100%|██████████| 7/7 [00:00<00:00,  9.88it/s, loss=0.0556, v_num=0, train_loss=0.0149, train_accuracy=1.000]  "
     ]
    },
    {
     "name": "stderr",
     "output_type": "stream",
     "text": [
      "[2024-12-02 20:48:37] INFO (torcheeg/MainThread) \n",
      "[Train] train_loss: 0.060 train_accuracy: 0.990 \n",
      "\n"
     ]
    },
    {
     "name": "stdout",
     "output_type": "stream",
     "text": [
      "Epoch 45: 100%|██████████| 7/7 [00:00<00:00,  9.93it/s, loss=0.0839, v_num=0, train_loss=0.00288, train_accuracy=1.000]"
     ]
    },
    {
     "name": "stderr",
     "output_type": "stream",
     "text": [
      "[2024-12-02 20:48:41] INFO (torcheeg/MainThread) \n",
      "[Train] train_loss: 0.145 train_accuracy: 0.970 \n",
      "\n"
     ]
    },
    {
     "name": "stdout",
     "output_type": "stream",
     "text": [
      "Epoch 46: 100%|██████████| 7/7 [00:00<00:00, 10.04it/s, loss=0.0831, v_num=0, train_loss=0.00687, train_accuracy=1.000]"
     ]
    },
    {
     "name": "stderr",
     "output_type": "stream",
     "text": [
      "[2024-12-02 20:48:45] INFO (torcheeg/MainThread) \n",
      "[Train] train_loss: 0.054 train_accuracy: 0.980 \n",
      "\n"
     ]
    },
    {
     "name": "stdout",
     "output_type": "stream",
     "text": [
      "Epoch 47: 100%|██████████| 7/7 [00:00<00:00,  9.97it/s, loss=0.0906, v_num=0, train_loss=0.0137, train_accuracy=1.000] "
     ]
    },
    {
     "name": "stderr",
     "output_type": "stream",
     "text": [
      "[2024-12-02 20:48:49] INFO (torcheeg/MainThread) \n",
      "[Train] train_loss: 0.066 train_accuracy: 0.960 \n",
      "\n"
     ]
    },
    {
     "name": "stdout",
     "output_type": "stream",
     "text": [
      "Epoch 48: 100%|██████████| 7/7 [00:00<00:00,  9.80it/s, loss=0.0768, v_num=0, train_loss=0.0367, train_accuracy=1.000]"
     ]
    },
    {
     "name": "stderr",
     "output_type": "stream",
     "text": [
      "[2024-12-02 20:48:54] INFO (torcheeg/MainThread) \n",
      "[Train] train_loss: 0.100 train_accuracy: 0.965 \n",
      "\n"
     ]
    },
    {
     "name": "stdout",
     "output_type": "stream",
     "text": [
      "Epoch 49: 100%|██████████| 7/7 [00:00<00:00, 10.03it/s, loss=0.0956, v_num=0, train_loss=0.000128, train_accuracy=1.000]"
     ]
    },
    {
     "name": "stderr",
     "output_type": "stream",
     "text": [
      "Metric train_loss improved by 0.001 >= min_delta = 0.0. New best score: 0.000\n"
     ]
    },
    {
     "name": "stdout",
     "output_type": "stream",
     "text": [
      "Epoch 49: 100%|██████████| 7/7 [00:00<00:00, 10.00it/s, loss=0.0956, v_num=0, train_loss=0.000128, train_accuracy=1.000]"
     ]
    },
    {
     "name": "stderr",
     "output_type": "stream",
     "text": [
      "[2024-12-02 20:48:58] INFO (torcheeg/MainThread) \n",
      "[Train] train_loss: 0.114 train_accuracy: 0.960 \n",
      "\n"
     ]
    },
    {
     "name": "stdout",
     "output_type": "stream",
     "text": [
      "Epoch 50: 100%|██████████| 7/7 [00:00<00:00,  9.74it/s, loss=0.104, v_num=0, train_loss=0.0138, train_accuracy=1.000]   "
     ]
    },
    {
     "name": "stderr",
     "output_type": "stream",
     "text": [
      "[2024-12-02 20:49:02] INFO (torcheeg/MainThread) \n",
      "[Train] train_loss: 0.090 train_accuracy: 0.955 \n",
      "\n"
     ]
    },
    {
     "name": "stdout",
     "output_type": "stream",
     "text": [
      "Epoch 51: 100%|██████████| 7/7 [00:00<00:00,  9.90it/s, loss=0.118, v_num=0, train_loss=0.306, train_accuracy=0.875]  "
     ]
    },
    {
     "name": "stderr",
     "output_type": "stream",
     "text": [
      "[2024-12-02 20:49:06] INFO (torcheeg/MainThread) \n",
      "[Train] train_loss: 0.161 train_accuracy: 0.945 \n",
      "\n"
     ]
    },
    {
     "name": "stdout",
     "output_type": "stream",
     "text": [
      "Epoch 52: 100%|██████████| 7/7 [00:00<00:00, 10.02it/s, loss=0.128, v_num=0, train_loss=0.027, train_accuracy=1.000] "
     ]
    },
    {
     "name": "stderr",
     "output_type": "stream",
     "text": [
      "[2024-12-02 20:49:11] INFO (torcheeg/MainThread) \n",
      "[Train] train_loss: 0.124 train_accuracy: 0.930 \n",
      "\n"
     ]
    },
    {
     "name": "stdout",
     "output_type": "stream",
     "text": [
      "Epoch 53: 100%|██████████| 7/7 [00:00<00:00,  9.84it/s, loss=0.134, v_num=0, train_loss=0.154, train_accuracy=0.875] "
     ]
    },
    {
     "name": "stderr",
     "output_type": "stream",
     "text": [
      "[2024-12-02 20:49:15] INFO (torcheeg/MainThread) \n",
      "[Train] train_loss: 0.104 train_accuracy: 0.955 \n",
      "\n"
     ]
    },
    {
     "name": "stdout",
     "output_type": "stream",
     "text": [
      "Epoch 54: 100%|██████████| 7/7 [00:00<00:00, 10.01it/s, loss=0.142, v_num=0, train_loss=0.222, train_accuracy=0.875]   "
     ]
    },
    {
     "name": "stderr",
     "output_type": "stream",
     "text": [
      "[2024-12-02 20:49:19] INFO (torcheeg/MainThread) \n",
      "[Train] train_loss: 0.186 train_accuracy: 0.965 \n",
      "\n"
     ]
    },
    {
     "name": "stdout",
     "output_type": "stream",
     "text": [
      "Epoch 55: 100%|██████████| 7/7 [00:00<00:00,  9.95it/s, loss=0.147, v_num=0, train_loss=0.277, train_accuracy=0.750] "
     ]
    },
    {
     "name": "stderr",
     "output_type": "stream",
     "text": [
      "[2024-12-02 20:49:23] INFO (torcheeg/MainThread) \n",
      "[Train] train_loss: 0.135 train_accuracy: 0.950 \n",
      "\n"
     ]
    },
    {
     "name": "stdout",
     "output_type": "stream",
     "text": [
      "Epoch 56: 100%|██████████| 7/7 [00:00<00:00,  9.87it/s, loss=0.157, v_num=0, train_loss=0.00574, train_accuracy=1.000]"
     ]
    },
    {
     "name": "stderr",
     "output_type": "stream",
     "text": [
      "[2024-12-02 20:49:28] INFO (torcheeg/MainThread) \n",
      "[Train] train_loss: 0.130 train_accuracy: 0.940 \n",
      "\n"
     ]
    },
    {
     "name": "stdout",
     "output_type": "stream",
     "text": [
      "Epoch 57: 100%|██████████| 7/7 [00:00<00:00,  9.92it/s, loss=0.127, v_num=0, train_loss=0.173, train_accuracy=0.875]  "
     ]
    },
    {
     "name": "stderr",
     "output_type": "stream",
     "text": [
      "[2024-12-02 20:49:32] INFO (torcheeg/MainThread) \n",
      "[Train] train_loss: 0.102 train_accuracy: 0.955 \n",
      "\n"
     ]
    },
    {
     "name": "stdout",
     "output_type": "stream",
     "text": [
      "Epoch 58: 100%|██████████| 7/7 [00:00<00:00,  9.93it/s, loss=0.0989, v_num=0, train_loss=0.013, train_accuracy=1.000]"
     ]
    },
    {
     "name": "stderr",
     "output_type": "stream",
     "text": [
      "[2024-12-02 20:49:36] INFO (torcheeg/MainThread) \n",
      "[Train] train_loss: 0.058 train_accuracy: 0.975 \n",
      "\n"
     ]
    },
    {
     "name": "stdout",
     "output_type": "stream",
     "text": [
      "Epoch 59: 100%|██████████| 7/7 [00:00<00:00,  9.63it/s, loss=0.152, v_num=0, train_loss=1.270, train_accuracy=0.875]  "
     ]
    },
    {
     "name": "stderr",
     "output_type": "stream",
     "text": [
      "[2024-12-02 20:49:41] INFO (torcheeg/MainThread) \n",
      "[Train] train_loss: 0.281 train_accuracy: 0.965 \n",
      "\n"
     ]
    },
    {
     "name": "stdout",
     "output_type": "stream",
     "text": [
      "Epoch 60: 100%|██████████| 7/7 [00:00<00:00,  9.95it/s, loss=0.16, v_num=0, train_loss=0.102, train_accuracy=1.000]  "
     ]
    },
    {
     "name": "stderr",
     "output_type": "stream",
     "text": [
      "[2024-12-02 20:49:45] INFO (torcheeg/MainThread) \n",
      "[Train] train_loss: 0.133 train_accuracy: 0.960 \n",
      "\n"
     ]
    },
    {
     "name": "stdout",
     "output_type": "stream",
     "text": [
      "Epoch 61: 100%|██████████| 7/7 [00:00<00:00,  9.77it/s, loss=0.178, v_num=0, train_loss=0.0135, train_accuracy=1.000]"
     ]
    },
    {
     "name": "stderr",
     "output_type": "stream",
     "text": [
      "[2024-12-02 20:49:49] INFO (torcheeg/MainThread) \n",
      "[Train] train_loss: 0.101 train_accuracy: 0.945 \n",
      "\n"
     ]
    },
    {
     "name": "stdout",
     "output_type": "stream",
     "text": [
      "Epoch 62: 100%|██████████| 7/7 [00:00<00:00,  9.95it/s, loss=0.0903, v_num=0, train_loss=0.0189, train_accuracy=1.000]"
     ]
    },
    {
     "name": "stderr",
     "output_type": "stream",
     "text": [
      "[2024-12-02 20:49:53] INFO (torcheeg/MainThread) \n",
      "[Train] train_loss: 0.060 train_accuracy: 0.975 \n",
      "\n"
     ]
    },
    {
     "name": "stdout",
     "output_type": "stream",
     "text": [
      "Epoch 63: 100%|██████████| 7/7 [00:00<00:00,  9.91it/s, loss=0.0604, v_num=0, train_loss=0.0746, train_accuracy=1.000] "
     ]
    },
    {
     "name": "stderr",
     "output_type": "stream",
     "text": [
      "[2024-12-02 20:49:58] INFO (torcheeg/MainThread) \n",
      "[Train] train_loss: 0.033 train_accuracy: 0.985 \n",
      "\n"
     ]
    },
    {
     "name": "stdout",
     "output_type": "stream",
     "text": [
      "Epoch 64: 100%|██████████| 7/7 [00:00<00:00,  9.87it/s, loss=0.0531, v_num=0, train_loss=0.00248, train_accuracy=1.000]"
     ]
    },
    {
     "name": "stderr",
     "output_type": "stream",
     "text": [
      "[2024-12-02 20:50:02] INFO (torcheeg/MainThread) \n",
      "[Train] train_loss: 0.068 train_accuracy: 0.970 \n",
      "\n"
     ]
    },
    {
     "name": "stdout",
     "output_type": "stream",
     "text": [
      "Epoch 65: 100%|██████████| 7/7 [00:00<00:00,  9.91it/s, loss=0.0494, v_num=0, train_loss=0.179, train_accuracy=0.875]  "
     ]
    },
    {
     "name": "stderr",
     "output_type": "stream",
     "text": [
      "[2024-12-02 20:50:06] INFO (torcheeg/MainThread) \n",
      "[Train] train_loss: 0.052 train_accuracy: 0.980 \n",
      "\n"
     ]
    },
    {
     "name": "stdout",
     "output_type": "stream",
     "text": [
      "Epoch 66: 100%|██████████| 7/7 [00:00<00:00,  9.90it/s, loss=0.066, v_num=0, train_loss=0.075, train_accuracy=1.000]   "
     ]
    },
    {
     "name": "stderr",
     "output_type": "stream",
     "text": [
      "[2024-12-02 20:50:11] INFO (torcheeg/MainThread) \n",
      "[Train] train_loss: 0.077 train_accuracy: 0.975 \n",
      "\n"
     ]
    },
    {
     "name": "stdout",
     "output_type": "stream",
     "text": [
      "Epoch 67: 100%|██████████| 7/7 [00:00<00:00,  9.89it/s, loss=0.0713, v_num=0, train_loss=0.00411, train_accuracy=1.000]"
     ]
    },
    {
     "name": "stderr",
     "output_type": "stream",
     "text": [
      "[2024-12-02 20:50:15] INFO (torcheeg/MainThread) \n",
      "[Train] train_loss: 0.078 train_accuracy: 0.955 \n",
      "\n"
     ]
    },
    {
     "name": "stdout",
     "output_type": "stream",
     "text": [
      "Epoch 68: 100%|██████████| 7/7 [00:00<00:00, 10.00it/s, loss=0.0889, v_num=0, train_loss=0.096, train_accuracy=0.875]  "
     ]
    },
    {
     "name": "stderr",
     "output_type": "stream",
     "text": [
      "[2024-12-02 20:50:19] INFO (torcheeg/MainThread) \n",
      "[Train] train_loss: 0.101 train_accuracy: 0.980 \n",
      "\n"
     ]
    },
    {
     "name": "stdout",
     "output_type": "stream",
     "text": [
      "Epoch 69: 100%|██████████| 7/7 [00:00<00:00,  9.88it/s, loss=0.0702, v_num=0, train_loss=0.0045, train_accuracy=1.000]"
     ]
    },
    {
     "name": "stderr",
     "output_type": "stream",
     "text": [
      "Monitored metric train_loss did not improve in the last 20 records. Best score: 0.000. Signaling Trainer to stop.\n"
     ]
    },
    {
     "name": "stdout",
     "output_type": "stream",
     "text": [
      "Epoch 69: 100%|██████████| 7/7 [00:00<00:00,  9.85it/s, loss=0.0702, v_num=0, train_loss=0.0045, train_accuracy=1.000]"
     ]
    },
    {
     "name": "stderr",
     "output_type": "stream",
     "text": [
      "[2024-12-02 20:50:23] INFO (torcheeg/MainThread) \n",
      "[Train] train_loss: 0.023 train_accuracy: 0.995 \n",
      "\n"
     ]
    },
    {
     "name": "stdout",
     "output_type": "stream",
     "text": [
      "Epoch 69: 100%|██████████| 7/7 [00:04<00:00,  1.66it/s, loss=0.0702, v_num=0, train_loss=0.0045, train_accuracy=1.000]\n"
     ]
    },
    {
     "name": "stderr",
     "output_type": "stream",
     "text": [
      "GPU available: True (cuda), used: True\n",
      "TPU available: False, using: 0 TPU cores\n",
      "IPU available: False, using: 0 IPUs\n",
      "HPU available: False, using: 0 HPUs\n",
      "LOCAL_RANK: 0 - CUDA_VISIBLE_DEVICES: [0]\n",
      "/root/autodl-tmp/conda/envs/law/lib/python3.8/site-packages/pytorch_lightning/trainer/connectors/data_connector.py:224: PossibleUserWarning: The dataloader, test_dataloader 0, does not have many workers which may be a bottleneck. Consider increasing the value of the `num_workers` argument` (try 128 which is the number of cpus on this machine) in the `DataLoader` init to improve performance.\n",
      "  rank_zero_warn(\n"
     ]
    },
    {
     "name": "stdout",
     "output_type": "stream",
     "text": [
      "Testing DataLoader 0: 100%|██████████| 3/3 [00:00<00:00, 38.42it/s]"
     ]
    },
    {
     "name": "stderr",
     "output_type": "stream",
     "text": [
      "[2024-12-02 20:50:24] INFO (torcheeg/MainThread) \n",
      "[Test] test_loss: 1.545 test_accuracy: 0.688 \n",
      "\n"
     ]
    },
    {
     "name": "stdout",
     "output_type": "stream",
     "text": [
      "Testing DataLoader 0: 100%|██████████| 3/3 [00:00<00:00, 35.88it/s]\n",
      "────────────────────────────────────────────────────────────────────────────────────────────────────────────────────────\n",
      "       Test metric             DataLoader 0\n",
      "────────────────────────────────────────────────────────────────────────────────────────────────────────────────────────\n",
      "      test_accuracy               0.6875\n",
      "        test_loss           1.5452265739440918\n",
      "────────────────────────────────────────────────────────────────────────────────────────────────────────────────────────\n",
      "已删除文件夹: /root/autodl-tmp/.autodl/kinlaw/mi_swin/lightning_logs\n"
     ]
    },
    {
     "name": "stderr",
     "output_type": "stream",
     "text": [
      "GPU available: True (cuda), used: True\n",
      "TPU available: False, using: 0 TPU cores\n",
      "IPU available: False, using: 0 IPUs\n",
      "HPU available: False, using: 0 HPUs\n",
      "Missing logger folder: /root/autodl-tmp/.autodl/kinlaw/mi_swin/lightning_logs\n",
      "LOCAL_RANK: 0 - CUDA_VISIBLE_DEVICES: [0]\n",
      "/root/autodl-tmp/conda/envs/law/lib/python3.8/site-packages/pytorch_lightning/trainer/connectors/data_connector.py:224: PossibleUserWarning: The dataloader, train_dataloader, does not have many workers which may be a bottleneck. Consider increasing the value of the `num_workers` argument` (try 128 which is the number of cpus on this machine) in the `DataLoader` init to improve performance.\n",
      "  rank_zero_warn(\n",
      "/root/autodl-tmp/conda/envs/law/lib/python3.8/site-packages/pytorch_lightning/trainer/trainer.py:1609: PossibleUserWarning: The number of training batches (7) is smaller than the logging interval Trainer(log_every_n_steps=50). Set a lower value for log_every_n_steps if you want to see logs for the training epoch.\n",
      "  rank_zero_warn(\n"
     ]
    },
    {
     "name": "stdout",
     "output_type": "stream",
     "text": [
      "Epoch 0: 100%|██████████| 7/7 [00:00<00:00,  9.82it/s, loss=2.7, v_num=0, train_loss=1.020, train_accuracy=0.250] "
     ]
    },
    {
     "name": "stderr",
     "output_type": "stream",
     "text": [
      "Metric train_loss improved. New best score: 1.025\n"
     ]
    },
    {
     "name": "stdout",
     "output_type": "stream",
     "text": [
      "Epoch 0: 100%|██████████| 7/7 [00:00<00:00,  9.80it/s, loss=2.7, v_num=0, train_loss=1.020, train_accuracy=0.250]"
     ]
    },
    {
     "name": "stderr",
     "output_type": "stream",
     "text": [
      "[2024-12-02 20:50:31] INFO (torcheeg/MainThread) \n",
      "[Train] train_loss: 2.701 train_accuracy: 0.510 \n",
      "\n"
     ]
    },
    {
     "name": "stdout",
     "output_type": "stream",
     "text": [
      "Epoch 1: 100%|██████████| 7/7 [00:00<00:00,  9.96it/s, loss=1.92, v_num=0, train_loss=0.691, train_accuracy=0.625]"
     ]
    },
    {
     "name": "stderr",
     "output_type": "stream",
     "text": [
      "Metric train_loss improved by 0.333 >= min_delta = 0.0. New best score: 0.691\n"
     ]
    },
    {
     "name": "stdout",
     "output_type": "stream",
     "text": [
      "Epoch 1: 100%|██████████| 7/7 [00:00<00:00,  9.94it/s, loss=1.92, v_num=0, train_loss=0.691, train_accuracy=0.625]"
     ]
    },
    {
     "name": "stderr",
     "output_type": "stream",
     "text": [
      "[2024-12-02 20:50:36] INFO (torcheeg/MainThread) \n",
      "[Train] train_loss: 1.148 train_accuracy: 0.575 \n",
      "\n"
     ]
    },
    {
     "name": "stdout",
     "output_type": "stream",
     "text": [
      "Epoch 2: 100%|██████████| 7/7 [00:00<00:00,  9.97it/s, loss=1.61, v_num=0, train_loss=0.611, train_accuracy=0.625]"
     ]
    },
    {
     "name": "stderr",
     "output_type": "stream",
     "text": [
      "Metric train_loss improved by 0.080 >= min_delta = 0.0. New best score: 0.611\n"
     ]
    },
    {
     "name": "stdout",
     "output_type": "stream",
     "text": [
      "Epoch 2: 100%|██████████| 7/7 [00:00<00:00,  9.94it/s, loss=1.61, v_num=0, train_loss=0.611, train_accuracy=0.625]"
     ]
    },
    {
     "name": "stderr",
     "output_type": "stream",
     "text": [
      "[2024-12-02 20:50:41] INFO (torcheeg/MainThread) \n",
      "[Train] train_loss: 0.848 train_accuracy: 0.515 \n",
      "\n"
     ]
    },
    {
     "name": "stdout",
     "output_type": "stream",
     "text": [
      "Epoch 3: 100%|██████████| 7/7 [00:00<00:00,  9.71it/s, loss=0.879, v_num=0, train_loss=0.505, train_accuracy=0.625]"
     ]
    },
    {
     "name": "stderr",
     "output_type": "stream",
     "text": [
      "Metric train_loss improved by 0.106 >= min_delta = 0.0. New best score: 0.505\n"
     ]
    },
    {
     "name": "stdout",
     "output_type": "stream",
     "text": [
      "Epoch 3: 100%|██████████| 7/7 [00:00<00:00,  9.69it/s, loss=0.879, v_num=0, train_loss=0.505, train_accuracy=0.625]"
     ]
    },
    {
     "name": "stderr",
     "output_type": "stream",
     "text": [
      "[2024-12-02 20:50:46] INFO (torcheeg/MainThread) \n",
      "[Train] train_loss: 0.705 train_accuracy: 0.580 \n",
      "\n"
     ]
    },
    {
     "name": "stdout",
     "output_type": "stream",
     "text": [
      "Epoch 4: 100%|██████████| 7/7 [00:00<00:00,  9.78it/s, loss=0.749, v_num=0, train_loss=0.594, train_accuracy=0.625]"
     ]
    },
    {
     "name": "stderr",
     "output_type": "stream",
     "text": [
      "[2024-12-02 20:50:50] INFO (torcheeg/MainThread) \n",
      "[Train] train_loss: 0.700 train_accuracy: 0.635 \n",
      "\n"
     ]
    },
    {
     "name": "stdout",
     "output_type": "stream",
     "text": [
      "Epoch 5: 100%|██████████| 7/7 [00:00<00:00,  9.93it/s, loss=0.678, v_num=0, train_loss=0.560, train_accuracy=0.750]"
     ]
    },
    {
     "name": "stderr",
     "output_type": "stream",
     "text": [
      "[2024-12-02 20:50:55] INFO (torcheeg/MainThread) \n",
      "[Train] train_loss: 0.630 train_accuracy: 0.645 \n",
      "\n"
     ]
    },
    {
     "name": "stdout",
     "output_type": "stream",
     "text": [
      "Epoch 6: 100%|██████████| 7/7 [00:00<00:00,  9.85it/s, loss=0.659, v_num=0, train_loss=0.707, train_accuracy=0.500]"
     ]
    },
    {
     "name": "stderr",
     "output_type": "stream",
     "text": [
      "[2024-12-02 20:51:00] INFO (torcheeg/MainThread) \n",
      "[Train] train_loss: 0.658 train_accuracy: 0.635 \n",
      "\n"
     ]
    },
    {
     "name": "stdout",
     "output_type": "stream",
     "text": [
      "Epoch 7: 100%|██████████| 7/7 [00:00<00:00,  9.93it/s, loss=0.612, v_num=0, train_loss=0.576, train_accuracy=0.625]"
     ]
    },
    {
     "name": "stderr",
     "output_type": "stream",
     "text": [
      "[2024-12-02 20:51:05] INFO (torcheeg/MainThread) \n",
      "[Train] train_loss: 0.564 train_accuracy: 0.710 \n",
      "\n"
     ]
    },
    {
     "name": "stdout",
     "output_type": "stream",
     "text": [
      "Epoch 8: 100%|██████████| 7/7 [00:00<00:00,  9.89it/s, loss=0.57, v_num=0, train_loss=0.353, train_accuracy=0.875] "
     ]
    },
    {
     "name": "stderr",
     "output_type": "stream",
     "text": [
      "Metric train_loss improved by 0.152 >= min_delta = 0.0. New best score: 0.353\n"
     ]
    },
    {
     "name": "stdout",
     "output_type": "stream",
     "text": [
      "Epoch 8: 100%|██████████| 7/7 [00:00<00:00,  9.87it/s, loss=0.57, v_num=0, train_loss=0.353, train_accuracy=0.875]"
     ]
    },
    {
     "name": "stderr",
     "output_type": "stream",
     "text": [
      "[2024-12-02 20:51:09] INFO (torcheeg/MainThread) \n",
      "[Train] train_loss: 0.497 train_accuracy: 0.735 \n",
      "\n"
     ]
    },
    {
     "name": "stdout",
     "output_type": "stream",
     "text": [
      "Epoch 9: 100%|██████████| 7/7 [00:00<00:00,  9.96it/s, loss=0.505, v_num=0, train_loss=0.282, train_accuracy=1.000]"
     ]
    },
    {
     "name": "stderr",
     "output_type": "stream",
     "text": [
      "Metric train_loss improved by 0.072 >= min_delta = 0.0. New best score: 0.282\n"
     ]
    },
    {
     "name": "stdout",
     "output_type": "stream",
     "text": [
      "Epoch 9: 100%|██████████| 7/7 [00:00<00:00,  9.94it/s, loss=0.505, v_num=0, train_loss=0.282, train_accuracy=1.000]"
     ]
    },
    {
     "name": "stderr",
     "output_type": "stream",
     "text": [
      "[2024-12-02 20:51:14] INFO (torcheeg/MainThread) \n",
      "[Train] train_loss: 0.476 train_accuracy: 0.750 \n",
      "\n"
     ]
    },
    {
     "name": "stdout",
     "output_type": "stream",
     "text": [
      "Epoch 10: 100%|██████████| 7/7 [00:00<00:00,  9.79it/s, loss=0.51, v_num=0, train_loss=0.841, train_accuracy=0.500] "
     ]
    },
    {
     "name": "stderr",
     "output_type": "stream",
     "text": [
      "[2024-12-02 20:51:19] INFO (torcheeg/MainThread) \n",
      "[Train] train_loss: 0.557 train_accuracy: 0.750 \n",
      "\n"
     ]
    },
    {
     "name": "stdout",
     "output_type": "stream",
     "text": [
      "Epoch 11: 100%|██████████| 7/7 [00:00<00:00, 10.05it/s, loss=0.576, v_num=0, train_loss=0.868, train_accuracy=0.625]"
     ]
    },
    {
     "name": "stderr",
     "output_type": "stream",
     "text": [
      "[2024-12-02 20:51:24] INFO (torcheeg/MainThread) \n",
      "[Train] train_loss: 0.674 train_accuracy: 0.675 \n",
      "\n"
     ]
    },
    {
     "name": "stdout",
     "output_type": "stream",
     "text": [
      "Epoch 12: 100%|██████████| 7/7 [00:00<00:00,  9.91it/s, loss=0.595, v_num=0, train_loss=0.473, train_accuracy=0.875]"
     ]
    },
    {
     "name": "stderr",
     "output_type": "stream",
     "text": [
      "[2024-12-02 20:51:28] INFO (torcheeg/MainThread) \n",
      "[Train] train_loss: 0.529 train_accuracy: 0.720 \n",
      "\n"
     ]
    },
    {
     "name": "stdout",
     "output_type": "stream",
     "text": [
      "Epoch 13: 100%|██████████| 7/7 [00:00<00:00, 10.07it/s, loss=0.6, v_num=0, train_loss=0.542, train_accuracy=0.625]  "
     ]
    },
    {
     "name": "stderr",
     "output_type": "stream",
     "text": [
      "[2024-12-02 20:51:33] INFO (torcheeg/MainThread) \n",
      "[Train] train_loss: 0.584 train_accuracy: 0.675 \n",
      "\n"
     ]
    },
    {
     "name": "stdout",
     "output_type": "stream",
     "text": [
      "Epoch 14: 100%|██████████| 7/7 [00:00<00:00,  9.78it/s, loss=0.528, v_num=0, train_loss=0.340, train_accuracy=1.000]"
     ]
    },
    {
     "name": "stderr",
     "output_type": "stream",
     "text": [
      "[2024-12-02 20:51:38] INFO (torcheeg/MainThread) \n",
      "[Train] train_loss: 0.466 train_accuracy: 0.770 \n",
      "\n"
     ]
    },
    {
     "name": "stdout",
     "output_type": "stream",
     "text": [
      "Epoch 15: 100%|██████████| 7/7 [00:00<00:00,  9.85it/s, loss=0.518, v_num=0, train_loss=0.775, train_accuracy=0.750]"
     ]
    },
    {
     "name": "stderr",
     "output_type": "stream",
     "text": [
      "[2024-12-02 20:51:42] INFO (torcheeg/MainThread) \n",
      "[Train] train_loss: 0.525 train_accuracy: 0.795 \n",
      "\n"
     ]
    },
    {
     "name": "stdout",
     "output_type": "stream",
     "text": [
      "Epoch 16: 100%|██████████| 7/7 [00:00<00:00,  9.93it/s, loss=0.484, v_num=0, train_loss=0.559, train_accuracy=0.500]"
     ]
    },
    {
     "name": "stderr",
     "output_type": "stream",
     "text": [
      "[2024-12-02 20:51:47] INFO (torcheeg/MainThread) \n",
      "[Train] train_loss: 0.451 train_accuracy: 0.810 \n",
      "\n"
     ]
    },
    {
     "name": "stdout",
     "output_type": "stream",
     "text": [
      "Epoch 17: 100%|██████████| 7/7 [00:00<00:00, 10.02it/s, loss=0.446, v_num=0, train_loss=0.147, train_accuracy=1.000]"
     ]
    },
    {
     "name": "stderr",
     "output_type": "stream",
     "text": [
      "Metric train_loss improved by 0.134 >= min_delta = 0.0. New best score: 0.147\n"
     ]
    },
    {
     "name": "stdout",
     "output_type": "stream",
     "text": [
      "Epoch 17: 100%|██████████| 7/7 [00:00<00:00, 10.00it/s, loss=0.446, v_num=0, train_loss=0.147, train_accuracy=1.000]"
     ]
    },
    {
     "name": "stderr",
     "output_type": "stream",
     "text": [
      "[2024-12-02 20:51:52] INFO (torcheeg/MainThread) \n",
      "[Train] train_loss: 0.377 train_accuracy: 0.805 \n",
      "\n"
     ]
    },
    {
     "name": "stdout",
     "output_type": "stream",
     "text": [
      "Epoch 18: 100%|██████████| 7/7 [00:00<00:00,  9.73it/s, loss=0.424, v_num=0, train_loss=0.338, train_accuracy=0.750]"
     ]
    },
    {
     "name": "stderr",
     "output_type": "stream",
     "text": [
      "[2024-12-02 20:51:57] INFO (torcheeg/MainThread) \n",
      "[Train] train_loss: 0.443 train_accuracy: 0.775 \n",
      "\n"
     ]
    },
    {
     "name": "stdout",
     "output_type": "stream",
     "text": [
      "Epoch 19: 100%|██████████| 7/7 [00:00<00:00, 10.01it/s, loss=0.413, v_num=0, train_loss=0.588, train_accuracy=0.750]"
     ]
    },
    {
     "name": "stderr",
     "output_type": "stream",
     "text": [
      "[2024-12-02 20:52:01] INFO (torcheeg/MainThread) \n",
      "[Train] train_loss: 0.402 train_accuracy: 0.820 \n",
      "\n"
     ]
    },
    {
     "name": "stdout",
     "output_type": "stream",
     "text": [
      "Epoch 20: 100%|██████████| 7/7 [00:00<00:00,  9.70it/s, loss=0.441, v_num=0, train_loss=0.242, train_accuracy=0.875]"
     ]
    },
    {
     "name": "stderr",
     "output_type": "stream",
     "text": [
      "[2024-12-02 20:52:06] INFO (torcheeg/MainThread) \n",
      "[Train] train_loss: 0.470 train_accuracy: 0.795 \n",
      "\n"
     ]
    },
    {
     "name": "stdout",
     "output_type": "stream",
     "text": [
      "Epoch 21: 100%|██████████| 7/7 [00:00<00:00, 10.03it/s, loss=0.42, v_num=0, train_loss=0.387, train_accuracy=0.750] "
     ]
    },
    {
     "name": "stderr",
     "output_type": "stream",
     "text": [
      "[2024-12-02 20:52:11] INFO (torcheeg/MainThread) \n",
      "[Train] train_loss: 0.373 train_accuracy: 0.835 \n",
      "\n"
     ]
    },
    {
     "name": "stdout",
     "output_type": "stream",
     "text": [
      "Epoch 22: 100%|██████████| 7/7 [00:00<00:00,  9.90it/s, loss=0.42, v_num=0, train_loss=0.311, train_accuracy=0.875] "
     ]
    },
    {
     "name": "stderr",
     "output_type": "stream",
     "text": [
      "[2024-12-02 20:52:15] INFO (torcheeg/MainThread) \n",
      "[Train] train_loss: 0.426 train_accuracy: 0.840 \n",
      "\n"
     ]
    },
    {
     "name": "stdout",
     "output_type": "stream",
     "text": [
      "Epoch 23: 100%|██████████| 7/7 [00:00<00:00, 10.01it/s, loss=0.379, v_num=0, train_loss=0.595, train_accuracy=0.625]"
     ]
    },
    {
     "name": "stderr",
     "output_type": "stream",
     "text": [
      "[2024-12-02 20:52:20] INFO (torcheeg/MainThread) \n",
      "[Train] train_loss: 0.333 train_accuracy: 0.860 \n",
      "\n"
     ]
    },
    {
     "name": "stdout",
     "output_type": "stream",
     "text": [
      "Epoch 24: 100%|██████████| 7/7 [00:00<00:00,  9.83it/s, loss=0.366, v_num=0, train_loss=0.321, train_accuracy=0.875]"
     ]
    },
    {
     "name": "stderr",
     "output_type": "stream",
     "text": [
      "[2024-12-02 20:52:24] INFO (torcheeg/MainThread) \n",
      "[Train] train_loss: 0.341 train_accuracy: 0.845 \n",
      "\n"
     ]
    },
    {
     "name": "stdout",
     "output_type": "stream",
     "text": [
      "Epoch 25: 100%|██████████| 7/7 [00:00<00:00,  9.88it/s, loss=0.312, v_num=0, train_loss=0.029, train_accuracy=1.000]"
     ]
    },
    {
     "name": "stderr",
     "output_type": "stream",
     "text": [
      "Metric train_loss improved by 0.118 >= min_delta = 0.0. New best score: 0.029\n"
     ]
    },
    {
     "name": "stdout",
     "output_type": "stream",
     "text": [
      "Epoch 25: 100%|██████████| 7/7 [00:00<00:00,  9.86it/s, loss=0.312, v_num=0, train_loss=0.029, train_accuracy=1.000]"
     ]
    },
    {
     "name": "stderr",
     "output_type": "stream",
     "text": [
      "[2024-12-02 20:52:28] INFO (torcheeg/MainThread) \n",
      "[Train] train_loss: 0.266 train_accuracy: 0.880 \n",
      "\n"
     ]
    },
    {
     "name": "stdout",
     "output_type": "stream",
     "text": [
      "Epoch 26: 100%|██████████| 7/7 [00:00<00:00,  9.88it/s, loss=0.276, v_num=0, train_loss=0.109, train_accuracy=1.000]"
     ]
    },
    {
     "name": "stderr",
     "output_type": "stream",
     "text": [
      "[2024-12-02 20:52:33] INFO (torcheeg/MainThread) \n",
      "[Train] train_loss: 0.252 train_accuracy: 0.880 \n",
      "\n"
     ]
    },
    {
     "name": "stdout",
     "output_type": "stream",
     "text": [
      "Epoch 27: 100%|██████████| 7/7 [00:00<00:00,  9.92it/s, loss=0.232, v_num=0, train_loss=0.263, train_accuracy=0.750]"
     ]
    },
    {
     "name": "stderr",
     "output_type": "stream",
     "text": [
      "[2024-12-02 20:52:37] INFO (torcheeg/MainThread) \n",
      "[Train] train_loss: 0.223 train_accuracy: 0.890 \n",
      "\n"
     ]
    },
    {
     "name": "stdout",
     "output_type": "stream",
     "text": [
      "Epoch 28: 100%|██████████| 7/7 [00:00<00:00,  9.77it/s, loss=0.254, v_num=0, train_loss=0.253, train_accuracy=0.875]"
     ]
    },
    {
     "name": "stderr",
     "output_type": "stream",
     "text": [
      "[2024-12-02 20:52:41] INFO (torcheeg/MainThread) \n",
      "[Train] train_loss: 0.288 train_accuracy: 0.885 \n",
      "\n"
     ]
    },
    {
     "name": "stdout",
     "output_type": "stream",
     "text": [
      "Epoch 29: 100%|██████████| 7/7 [00:00<00:00,  9.83it/s, loss=0.303, v_num=0, train_loss=0.429, train_accuracy=0.750]"
     ]
    },
    {
     "name": "stderr",
     "output_type": "stream",
     "text": [
      "[2024-12-02 20:52:46] INFO (torcheeg/MainThread) \n",
      "[Train] train_loss: 0.374 train_accuracy: 0.835 \n",
      "\n"
     ]
    },
    {
     "name": "stdout",
     "output_type": "stream",
     "text": [
      "Epoch 30: 100%|██████████| 7/7 [00:00<00:00, 10.01it/s, loss=0.326, v_num=0, train_loss=0.476, train_accuracy=0.750]"
     ]
    },
    {
     "name": "stderr",
     "output_type": "stream",
     "text": [
      "[2024-12-02 20:52:50] INFO (torcheeg/MainThread) \n",
      "[Train] train_loss: 0.289 train_accuracy: 0.855 \n",
      "\n"
     ]
    },
    {
     "name": "stdout",
     "output_type": "stream",
     "text": [
      "Epoch 31: 100%|██████████| 7/7 [00:00<00:00, 10.02it/s, loss=0.327, v_num=0, train_loss=0.151, train_accuracy=1.000]"
     ]
    },
    {
     "name": "stderr",
     "output_type": "stream",
     "text": [
      "[2024-12-02 20:52:54] INFO (torcheeg/MainThread) \n",
      "[Train] train_loss: 0.313 train_accuracy: 0.875 \n",
      "\n"
     ]
    },
    {
     "name": "stdout",
     "output_type": "stream",
     "text": [
      "Epoch 32: 100%|██████████| 7/7 [00:00<00:00,  9.86it/s, loss=0.324, v_num=0, train_loss=0.910, train_accuracy=0.750]"
     ]
    },
    {
     "name": "stderr",
     "output_type": "stream",
     "text": [
      "[2024-12-02 20:52:59] INFO (torcheeg/MainThread) \n",
      "[Train] train_loss: 0.351 train_accuracy: 0.860 \n",
      "\n"
     ]
    },
    {
     "name": "stdout",
     "output_type": "stream",
     "text": [
      "Epoch 33: 100%|██████████| 7/7 [00:00<00:00,  9.97it/s, loss=0.43, v_num=0, train_loss=0.879, train_accuracy=0.875] "
     ]
    },
    {
     "name": "stderr",
     "output_type": "stream",
     "text": [
      "[2024-12-02 20:53:03] INFO (torcheeg/MainThread) \n",
      "[Train] train_loss: 0.600 train_accuracy: 0.810 \n",
      "\n"
     ]
    },
    {
     "name": "stdout",
     "output_type": "stream",
     "text": [
      "Epoch 34: 100%|██████████| 7/7 [00:00<00:00,  9.74it/s, loss=0.485, v_num=0, train_loss=0.708, train_accuracy=0.500]"
     ]
    },
    {
     "name": "stderr",
     "output_type": "stream",
     "text": [
      "[2024-12-02 20:53:08] INFO (torcheeg/MainThread) \n",
      "[Train] train_loss: 0.465 train_accuracy: 0.805 \n",
      "\n"
     ]
    },
    {
     "name": "stdout",
     "output_type": "stream",
     "text": [
      "Epoch 35: 100%|██████████| 7/7 [00:00<00:00,  9.92it/s, loss=0.478, v_num=0, train_loss=0.278, train_accuracy=0.875]"
     ]
    },
    {
     "name": "stderr",
     "output_type": "stream",
     "text": [
      "[2024-12-02 20:53:12] INFO (torcheeg/MainThread) \n",
      "[Train] train_loss: 0.336 train_accuracy: 0.835 \n",
      "\n"
     ]
    },
    {
     "name": "stdout",
     "output_type": "stream",
     "text": [
      "Epoch 36: 100%|██████████| 7/7 [00:00<00:00,  9.86it/s, loss=0.338, v_num=0, train_loss=0.0462, train_accuracy=1.000]"
     ]
    },
    {
     "name": "stderr",
     "output_type": "stream",
     "text": [
      "[2024-12-02 20:53:16] INFO (torcheeg/MainThread) \n",
      "[Train] train_loss: 0.241 train_accuracy: 0.890 \n",
      "\n"
     ]
    },
    {
     "name": "stdout",
     "output_type": "stream",
     "text": [
      "Epoch 37: 100%|██████████| 7/7 [00:00<00:00,  9.88it/s, loss=0.277, v_num=0, train_loss=0.0654, train_accuracy=1.000]"
     ]
    },
    {
     "name": "stderr",
     "output_type": "stream",
     "text": [
      "[2024-12-02 20:53:20] INFO (torcheeg/MainThread) \n",
      "[Train] train_loss: 0.260 train_accuracy: 0.880 \n",
      "\n"
     ]
    },
    {
     "name": "stdout",
     "output_type": "stream",
     "text": [
      "Epoch 38: 100%|██████████| 7/7 [00:00<00:00,  9.96it/s, loss=0.281, v_num=0, train_loss=0.447, train_accuracy=0.750] "
     ]
    },
    {
     "name": "stderr",
     "output_type": "stream",
     "text": [
      "[2024-12-02 20:53:25] INFO (torcheeg/MainThread) \n",
      "[Train] train_loss: 0.337 train_accuracy: 0.870 \n",
      "\n"
     ]
    },
    {
     "name": "stdout",
     "output_type": "stream",
     "text": [
      "Epoch 39: 100%|██████████| 7/7 [00:00<00:00,  9.81it/s, loss=0.313, v_num=0, train_loss=0.433, train_accuracy=0.875]"
     ]
    },
    {
     "name": "stderr",
     "output_type": "stream",
     "text": [
      "[2024-12-02 20:53:29] INFO (torcheeg/MainThread) \n",
      "[Train] train_loss: 0.331 train_accuracy: 0.890 \n",
      "\n"
     ]
    },
    {
     "name": "stdout",
     "output_type": "stream",
     "text": [
      "Epoch 40: 100%|██████████| 7/7 [00:00<00:00,  9.86it/s, loss=0.277, v_num=0, train_loss=0.0662, train_accuracy=1.000]"
     ]
    },
    {
     "name": "stderr",
     "output_type": "stream",
     "text": [
      "[2024-12-02 20:53:34] INFO (torcheeg/MainThread) \n",
      "[Train] train_loss: 0.213 train_accuracy: 0.895 \n",
      "\n"
     ]
    },
    {
     "name": "stdout",
     "output_type": "stream",
     "text": [
      "Epoch 41: 100%|██████████| 7/7 [00:00<00:00,  9.85it/s, loss=0.258, v_num=0, train_loss=0.183, train_accuracy=1.000] "
     ]
    },
    {
     "name": "stderr",
     "output_type": "stream",
     "text": [
      "[2024-12-02 20:53:38] INFO (torcheeg/MainThread) \n",
      "[Train] train_loss: 0.257 train_accuracy: 0.895 \n",
      "\n"
     ]
    },
    {
     "name": "stdout",
     "output_type": "stream",
     "text": [
      "Epoch 42: 100%|██████████| 7/7 [00:00<00:00,  9.77it/s, loss=0.251, v_num=0, train_loss=0.410, train_accuracy=0.875]"
     ]
    },
    {
     "name": "stderr",
     "output_type": "stream",
     "text": [
      "[2024-12-02 20:53:42] INFO (torcheeg/MainThread) \n",
      "[Train] train_loss: 0.268 train_accuracy: 0.900 \n",
      "\n"
     ]
    },
    {
     "name": "stdout",
     "output_type": "stream",
     "text": [
      "Epoch 43: 100%|██████████| 7/7 [00:00<00:00,  9.70it/s, loss=0.23, v_num=0, train_loss=0.026, train_accuracy=1.000] "
     ]
    },
    {
     "name": "stderr",
     "output_type": "stream",
     "text": [
      "Metric train_loss improved by 0.003 >= min_delta = 0.0. New best score: 0.026\n"
     ]
    },
    {
     "name": "stdout",
     "output_type": "stream",
     "text": [
      "Epoch 43: 100%|██████████| 7/7 [00:00<00:00,  9.68it/s, loss=0.23, v_num=0, train_loss=0.026, train_accuracy=1.000]"
     ]
    },
    {
     "name": "stderr",
     "output_type": "stream",
     "text": [
      "[2024-12-02 20:53:47] INFO (torcheeg/MainThread) \n",
      "[Train] train_loss: 0.178 train_accuracy: 0.905 \n",
      "\n"
     ]
    },
    {
     "name": "stdout",
     "output_type": "stream",
     "text": [
      "Epoch 44: 100%|██████████| 7/7 [00:00<00:00,  9.97it/s, loss=0.185, v_num=0, train_loss=0.00828, train_accuracy=1.000]"
     ]
    },
    {
     "name": "stderr",
     "output_type": "stream",
     "text": [
      "Metric train_loss improved by 0.018 >= min_delta = 0.0. New best score: 0.008\n"
     ]
    },
    {
     "name": "stdout",
     "output_type": "stream",
     "text": [
      "Epoch 44: 100%|██████████| 7/7 [00:00<00:00,  9.94it/s, loss=0.185, v_num=0, train_loss=0.00828, train_accuracy=1.000]"
     ]
    },
    {
     "name": "stderr",
     "output_type": "stream",
     "text": [
      "[2024-12-02 20:53:51] INFO (torcheeg/MainThread) \n",
      "[Train] train_loss: 0.119 train_accuracy: 0.935 \n",
      "\n"
     ]
    },
    {
     "name": "stdout",
     "output_type": "stream",
     "text": [
      "Epoch 45: 100%|██████████| 7/7 [00:00<00:00,  9.88it/s, loss=0.142, v_num=0, train_loss=0.00702, train_accuracy=1.000]"
     ]
    },
    {
     "name": "stderr",
     "output_type": "stream",
     "text": [
      "Metric train_loss improved by 0.001 >= min_delta = 0.0. New best score: 0.007\n"
     ]
    },
    {
     "name": "stdout",
     "output_type": "stream",
     "text": [
      "Epoch 45: 100%|██████████| 7/7 [00:00<00:00,  9.85it/s, loss=0.142, v_num=0, train_loss=0.00702, train_accuracy=1.000]"
     ]
    },
    {
     "name": "stderr",
     "output_type": "stream",
     "text": [
      "[2024-12-02 20:53:55] INFO (torcheeg/MainThread) \n",
      "[Train] train_loss: 0.124 train_accuracy: 0.945 \n",
      "\n"
     ]
    },
    {
     "name": "stdout",
     "output_type": "stream",
     "text": [
      "Epoch 46: 100%|██████████| 7/7 [00:00<00:00,  9.89it/s, loss=0.159, v_num=0, train_loss=0.164, train_accuracy=0.875]  "
     ]
    },
    {
     "name": "stderr",
     "output_type": "stream",
     "text": [
      "[2024-12-02 20:54:00] INFO (torcheeg/MainThread) \n",
      "[Train] train_loss: 0.228 train_accuracy: 0.905 \n",
      "\n"
     ]
    },
    {
     "name": "stdout",
     "output_type": "stream",
     "text": [
      "Epoch 47: 100%|██████████| 7/7 [00:00<00:00,  9.94it/s, loss=0.188, v_num=0, train_loss=0.154, train_accuracy=0.875] "
     ]
    },
    {
     "name": "stderr",
     "output_type": "stream",
     "text": [
      "[2024-12-02 20:54:04] INFO (torcheeg/MainThread) \n",
      "[Train] train_loss: 0.212 train_accuracy: 0.920 \n",
      "\n"
     ]
    },
    {
     "name": "stdout",
     "output_type": "stream",
     "text": [
      "Epoch 48: 100%|██████████| 7/7 [00:00<00:00,  9.91it/s, loss=0.213, v_num=0, train_loss=0.310, train_accuracy=0.750]"
     ]
    },
    {
     "name": "stderr",
     "output_type": "stream",
     "text": [
      "[2024-12-02 20:54:08] INFO (torcheeg/MainThread) \n",
      "[Train] train_loss: 0.220 train_accuracy: 0.910 \n",
      "\n"
     ]
    },
    {
     "name": "stdout",
     "output_type": "stream",
     "text": [
      "Epoch 49: 100%|██████████| 7/7 [00:00<00:00,  9.95it/s, loss=0.252, v_num=0, train_loss=0.340, train_accuracy=0.750]"
     ]
    },
    {
     "name": "stderr",
     "output_type": "stream",
     "text": [
      "[2024-12-02 20:54:13] INFO (torcheeg/MainThread) \n",
      "[Train] train_loss: 0.308 train_accuracy: 0.870 \n",
      "\n"
     ]
    },
    {
     "name": "stdout",
     "output_type": "stream",
     "text": [
      "Epoch 50: 100%|██████████| 7/7 [00:00<00:00,  9.84it/s, loss=0.243, v_num=0, train_loss=0.222, train_accuracy=1.000]"
     ]
    },
    {
     "name": "stderr",
     "output_type": "stream",
     "text": [
      "[2024-12-02 20:54:17] INFO (torcheeg/MainThread) \n",
      "[Train] train_loss: 0.190 train_accuracy: 0.925 \n",
      "\n"
     ]
    },
    {
     "name": "stdout",
     "output_type": "stream",
     "text": [
      "Epoch 51: 100%|██████████| 7/7 [00:00<00:00,  9.95it/s, loss=0.217, v_num=0, train_loss=0.129, train_accuracy=1.000] "
     ]
    },
    {
     "name": "stderr",
     "output_type": "stream",
     "text": [
      "[2024-12-02 20:54:21] INFO (torcheeg/MainThread) \n",
      "[Train] train_loss: 0.139 train_accuracy: 0.975 \n",
      "\n"
     ]
    },
    {
     "name": "stdout",
     "output_type": "stream",
     "text": [
      "Epoch 52: 100%|██████████| 7/7 [00:00<00:00,  9.94it/s, loss=0.15, v_num=0, train_loss=0.244, train_accuracy=0.875]  "
     ]
    },
    {
     "name": "stderr",
     "output_type": "stream",
     "text": [
      "[2024-12-02 20:54:26] INFO (torcheeg/MainThread) \n",
      "[Train] train_loss: 0.130 train_accuracy: 0.955 \n",
      "\n"
     ]
    },
    {
     "name": "stdout",
     "output_type": "stream",
     "text": [
      "Epoch 53: 100%|██████████| 7/7 [00:00<00:00,  9.89it/s, loss=0.144, v_num=0, train_loss=0.0117, train_accuracy=1.000]"
     ]
    },
    {
     "name": "stderr",
     "output_type": "stream",
     "text": [
      "[2024-12-02 20:54:30] INFO (torcheeg/MainThread) \n",
      "[Train] train_loss: 0.170 train_accuracy: 0.930 \n",
      "\n"
     ]
    },
    {
     "name": "stdout",
     "output_type": "stream",
     "text": [
      "Epoch 54: 100%|██████████| 7/7 [00:00<00:00,  9.95it/s, loss=0.16, v_num=0, train_loss=0.0627, train_accuracy=1.000] "
     ]
    },
    {
     "name": "stderr",
     "output_type": "stream",
     "text": [
      "[2024-12-02 20:54:35] INFO (torcheeg/MainThread) \n",
      "[Train] train_loss: 0.175 train_accuracy: 0.950 \n",
      "\n"
     ]
    },
    {
     "name": "stdout",
     "output_type": "stream",
     "text": [
      "Epoch 55: 100%|██████████| 7/7 [00:00<00:00, 10.02it/s, loss=0.148, v_num=0, train_loss=0.00802, train_accuracy=1.000]"
     ]
    },
    {
     "name": "stderr",
     "output_type": "stream",
     "text": [
      "[2024-12-02 20:54:39] INFO (torcheeg/MainThread) \n",
      "[Train] train_loss: 0.092 train_accuracy: 0.960 \n",
      "\n"
     ]
    },
    {
     "name": "stdout",
     "output_type": "stream",
     "text": [
      "Epoch 56: 100%|██████████| 7/7 [00:00<00:00,  9.77it/s, loss=0.123, v_num=0, train_loss=0.0036, train_accuracy=1.000] "
     ]
    },
    {
     "name": "stderr",
     "output_type": "stream",
     "text": [
      "Metric train_loss improved by 0.003 >= min_delta = 0.0. New best score: 0.004\n"
     ]
    },
    {
     "name": "stdout",
     "output_type": "stream",
     "text": [
      "Epoch 56: 100%|██████████| 7/7 [00:00<00:00,  9.75it/s, loss=0.123, v_num=0, train_loss=0.0036, train_accuracy=1.000]"
     ]
    },
    {
     "name": "stderr",
     "output_type": "stream",
     "text": [
      "[2024-12-02 20:54:43] INFO (torcheeg/MainThread) \n",
      "[Train] train_loss: 0.100 train_accuracy: 0.965 \n",
      "\n"
     ]
    },
    {
     "name": "stdout",
     "output_type": "stream",
     "text": [
      "Epoch 57: 100%|██████████| 7/7 [00:00<00:00,  9.90it/s, loss=0.0947, v_num=0, train_loss=0.0034, train_accuracy=1.000]"
     ]
    },
    {
     "name": "stderr",
     "output_type": "stream",
     "text": [
      "Metric train_loss improved by 0.000 >= min_delta = 0.0. New best score: 0.003\n"
     ]
    },
    {
     "name": "stdout",
     "output_type": "stream",
     "text": [
      "Epoch 57: 100%|██████████| 7/7 [00:00<00:00,  9.87it/s, loss=0.0947, v_num=0, train_loss=0.0034, train_accuracy=1.000]"
     ]
    },
    {
     "name": "stderr",
     "output_type": "stream",
     "text": [
      "[2024-12-02 20:54:47] INFO (torcheeg/MainThread) \n",
      "[Train] train_loss: 0.100 train_accuracy: 0.960 \n",
      "\n"
     ]
    },
    {
     "name": "stdout",
     "output_type": "stream",
     "text": [
      "Epoch 58: 100%|██████████| 7/7 [00:00<00:00,  9.96it/s, loss=0.0864, v_num=0, train_loss=0.0158, train_accuracy=1.000]"
     ]
    },
    {
     "name": "stderr",
     "output_type": "stream",
     "text": [
      "[2024-12-02 20:54:52] INFO (torcheeg/MainThread) \n",
      "[Train] train_loss: 0.076 train_accuracy: 0.975 \n",
      "\n"
     ]
    },
    {
     "name": "stdout",
     "output_type": "stream",
     "text": [
      "Epoch 59: 100%|██████████| 7/7 [00:00<00:00,  9.86it/s, loss=0.0874, v_num=0, train_loss=0.0157, train_accuracy=1.000]"
     ]
    },
    {
     "name": "stderr",
     "output_type": "stream",
     "text": [
      "[2024-12-02 20:54:56] INFO (torcheeg/MainThread) \n",
      "[Train] train_loss: 0.081 train_accuracy: 0.970 \n",
      "\n"
     ]
    },
    {
     "name": "stdout",
     "output_type": "stream",
     "text": [
      "Epoch 60: 100%|██████████| 7/7 [00:00<00:00,  9.79it/s, loss=0.105, v_num=0, train_loss=0.032, train_accuracy=1.000]  "
     ]
    },
    {
     "name": "stderr",
     "output_type": "stream",
     "text": [
      "[2024-12-02 20:55:00] INFO (torcheeg/MainThread) \n",
      "[Train] train_loss: 0.156 train_accuracy: 0.915 \n",
      "\n"
     ]
    },
    {
     "name": "stdout",
     "output_type": "stream",
     "text": [
      "Epoch 61: 100%|██████████| 7/7 [00:00<00:00,  9.74it/s, loss=0.129, v_num=0, train_loss=0.429, train_accuracy=0.875]  "
     ]
    },
    {
     "name": "stderr",
     "output_type": "stream",
     "text": [
      "[2024-12-02 20:55:05] INFO (torcheeg/MainThread) \n",
      "[Train] train_loss: 0.141 train_accuracy: 0.970 \n",
      "\n"
     ]
    },
    {
     "name": "stdout",
     "output_type": "stream",
     "text": [
      "Epoch 62: 100%|██████████| 7/7 [00:00<00:00,  9.66it/s, loss=0.128, v_num=0, train_loss=0.0572, train_accuracy=1.000]"
     ]
    },
    {
     "name": "stderr",
     "output_type": "stream",
     "text": [
      "[2024-12-02 20:55:09] INFO (torcheeg/MainThread) \n",
      "[Train] train_loss: 0.092 train_accuracy: 0.975 \n",
      "\n"
     ]
    },
    {
     "name": "stdout",
     "output_type": "stream",
     "text": [
      "Epoch 63: 100%|██████████| 7/7 [00:00<00:00,  9.73it/s, loss=0.11, v_num=0, train_loss=0.00527, train_accuracy=1.000]"
     ]
    },
    {
     "name": "stderr",
     "output_type": "stream",
     "text": [
      "[2024-12-02 20:55:13] INFO (torcheeg/MainThread) \n",
      "[Train] train_loss: 0.092 train_accuracy: 0.960 \n",
      "\n"
     ]
    },
    {
     "name": "stdout",
     "output_type": "stream",
     "text": [
      "Epoch 64: 100%|██████████| 7/7 [00:00<00:00,  9.84it/s, loss=0.0743, v_num=0, train_loss=0.00772, train_accuracy=1.000]"
     ]
    },
    {
     "name": "stderr",
     "output_type": "stream",
     "text": [
      "[2024-12-02 20:55:18] INFO (torcheeg/MainThread) \n",
      "[Train] train_loss: 0.039 train_accuracy: 0.985 \n",
      "\n"
     ]
    },
    {
     "name": "stdout",
     "output_type": "stream",
     "text": [
      "Epoch 65: 100%|██████████| 7/7 [00:00<00:00,  9.91it/s, loss=0.0566, v_num=0, train_loss=0.0225, train_accuracy=1.000] "
     ]
    },
    {
     "name": "stderr",
     "output_type": "stream",
     "text": [
      "[2024-12-02 20:55:22] INFO (torcheeg/MainThread) \n",
      "[Train] train_loss: 0.067 train_accuracy: 0.975 \n",
      "\n"
     ]
    },
    {
     "name": "stdout",
     "output_type": "stream",
     "text": [
      "Epoch 66: 100%|██████████| 7/7 [00:00<00:00,  9.66it/s, loss=0.0726, v_num=0, train_loss=0.092, train_accuracy=1.000] "
     ]
    },
    {
     "name": "stderr",
     "output_type": "stream",
     "text": [
      "[2024-12-02 20:55:27] INFO (torcheeg/MainThread) \n",
      "[Train] train_loss: 0.111 train_accuracy: 0.950 \n",
      "\n"
     ]
    },
    {
     "name": "stdout",
     "output_type": "stream",
     "text": [
      "Epoch 67: 100%|██████████| 7/7 [00:00<00:00,  9.90it/s, loss=0.0752, v_num=0, train_loss=0.00113, train_accuracy=1.000]"
     ]
    },
    {
     "name": "stderr",
     "output_type": "stream",
     "text": [
      "Metric train_loss improved by 0.002 >= min_delta = 0.0. New best score: 0.001\n"
     ]
    },
    {
     "name": "stdout",
     "output_type": "stream",
     "text": [
      "Epoch 67: 100%|██████████| 7/7 [00:00<00:00,  9.87it/s, loss=0.0752, v_num=0, train_loss=0.00113, train_accuracy=1.000]"
     ]
    },
    {
     "name": "stderr",
     "output_type": "stream",
     "text": [
      "[2024-12-02 20:55:31] INFO (torcheeg/MainThread) \n",
      "[Train] train_loss: 0.048 train_accuracy: 0.990 \n",
      "\n"
     ]
    },
    {
     "name": "stdout",
     "output_type": "stream",
     "text": [
      "Epoch 68: 100%|██████████| 7/7 [00:00<00:00,  9.80it/s, loss=0.0671, v_num=0, train_loss=0.0375, train_accuracy=1.000] "
     ]
    },
    {
     "name": "stderr",
     "output_type": "stream",
     "text": [
      "[2024-12-02 20:55:35] INFO (torcheeg/MainThread) \n",
      "[Train] train_loss: 0.047 train_accuracy: 0.985 \n",
      "\n"
     ]
    },
    {
     "name": "stdout",
     "output_type": "stream",
     "text": [
      "Epoch 69: 100%|██████████| 7/7 [00:00<00:00,  9.92it/s, loss=0.0492, v_num=0, train_loss=0.145, train_accuracy=0.875]  "
     ]
    },
    {
     "name": "stderr",
     "output_type": "stream",
     "text": [
      "[2024-12-02 20:55:40] INFO (torcheeg/MainThread) \n",
      "[Train] train_loss: 0.053 train_accuracy: 0.985 \n",
      "\n"
     ]
    },
    {
     "name": "stdout",
     "output_type": "stream",
     "text": [
      "Epoch 70: 100%|██████████| 7/7 [00:00<00:00,  9.89it/s, loss=0.0597, v_num=0, train_loss=0.0124, train_accuracy=1.000]"
     ]
    },
    {
     "name": "stderr",
     "output_type": "stream",
     "text": [
      "[2024-12-02 20:55:44] INFO (torcheeg/MainThread) \n",
      "[Train] train_loss: 0.075 train_accuracy: 0.965 \n",
      "\n"
     ]
    },
    {
     "name": "stdout",
     "output_type": "stream",
     "text": [
      "Epoch 71: 100%|██████████| 7/7 [00:00<00:00,  9.77it/s, loss=0.0899, v_num=0, train_loss=0.261, train_accuracy=0.875] "
     ]
    },
    {
     "name": "stderr",
     "output_type": "stream",
     "text": [
      "[2024-12-02 20:55:48] INFO (torcheeg/MainThread) \n",
      "[Train] train_loss: 0.133 train_accuracy: 0.960 \n",
      "\n"
     ]
    },
    {
     "name": "stdout",
     "output_type": "stream",
     "text": [
      "Epoch 72: 100%|██████████| 7/7 [00:00<00:00,  9.69it/s, loss=0.119, v_num=0, train_loss=0.0144, train_accuracy=1.000]"
     ]
    },
    {
     "name": "stderr",
     "output_type": "stream",
     "text": [
      "[2024-12-02 20:55:53] INFO (torcheeg/MainThread) \n",
      "[Train] train_loss: 0.142 train_accuracy: 0.955 \n",
      "\n"
     ]
    },
    {
     "name": "stdout",
     "output_type": "stream",
     "text": [
      "Epoch 73: 100%|██████████| 7/7 [00:00<00:00,  9.81it/s, loss=0.177, v_num=0, train_loss=0.741, train_accuracy=0.750] "
     ]
    },
    {
     "name": "stderr",
     "output_type": "stream",
     "text": [
      "[2024-12-02 20:55:57] INFO (torcheeg/MainThread) \n",
      "[Train] train_loss: 0.240 train_accuracy: 0.925 \n",
      "\n"
     ]
    },
    {
     "name": "stdout",
     "output_type": "stream",
     "text": [
      "Epoch 74: 100%|██████████| 7/7 [00:00<00:00,  9.83it/s, loss=0.205, v_num=0, train_loss=0.441, train_accuracy=0.875] "
     ]
    },
    {
     "name": "stderr",
     "output_type": "stream",
     "text": [
      "[2024-12-02 20:56:02] INFO (torcheeg/MainThread) \n",
      "[Train] train_loss: 0.251 train_accuracy: 0.905 \n",
      "\n"
     ]
    },
    {
     "name": "stdout",
     "output_type": "stream",
     "text": [
      "Epoch 75: 100%|██████████| 7/7 [00:00<00:00,  9.81it/s, loss=0.219, v_num=0, train_loss=0.284, train_accuracy=0.875] "
     ]
    },
    {
     "name": "stderr",
     "output_type": "stream",
     "text": [
      "[2024-12-02 20:56:06] INFO (torcheeg/MainThread) \n",
      "[Train] train_loss: 0.157 train_accuracy: 0.950 \n",
      "\n"
     ]
    },
    {
     "name": "stdout",
     "output_type": "stream",
     "text": [
      "Epoch 76: 100%|██████████| 7/7 [00:00<00:00,  9.84it/s, loss=0.177, v_num=0, train_loss=0.00995, train_accuracy=1.000]"
     ]
    },
    {
     "name": "stderr",
     "output_type": "stream",
     "text": [
      "[2024-12-02 20:56:10] INFO (torcheeg/MainThread) \n",
      "[Train] train_loss: 0.108 train_accuracy: 0.955 \n",
      "\n"
     ]
    },
    {
     "name": "stdout",
     "output_type": "stream",
     "text": [
      "Epoch 77: 100%|██████████| 7/7 [00:00<00:00,  9.72it/s, loss=0.12, v_num=0, train_loss=0.0366, train_accuracy=1.000]  "
     ]
    },
    {
     "name": "stderr",
     "output_type": "stream",
     "text": [
      "[2024-12-02 20:56:15] INFO (torcheeg/MainThread) \n",
      "[Train] train_loss: 0.103 train_accuracy: 0.940 \n",
      "\n"
     ]
    },
    {
     "name": "stdout",
     "output_type": "stream",
     "text": [
      "Epoch 78: 100%|██████████| 7/7 [00:00<00:00,  9.76it/s, loss=0.09, v_num=0, train_loss=0.00148, train_accuracy=1.000]"
     ]
    },
    {
     "name": "stderr",
     "output_type": "stream",
     "text": [
      "[2024-12-02 20:56:19] INFO (torcheeg/MainThread) \n",
      "[Train] train_loss: 0.056 train_accuracy: 0.985 \n",
      "\n"
     ]
    },
    {
     "name": "stdout",
     "output_type": "stream",
     "text": [
      "Epoch 79: 100%|██████████| 7/7 [00:00<00:00,  9.89it/s, loss=0.0599, v_num=0, train_loss=0.00363, train_accuracy=1.000]"
     ]
    },
    {
     "name": "stderr",
     "output_type": "stream",
     "text": [
      "[2024-12-02 20:56:23] INFO (torcheeg/MainThread) \n",
      "[Train] train_loss: 0.038 train_accuracy: 0.980 \n",
      "\n"
     ]
    },
    {
     "name": "stdout",
     "output_type": "stream",
     "text": [
      "Epoch 80: 100%|██████████| 7/7 [00:00<00:00,  9.87it/s, loss=0.0406, v_num=0, train_loss=0.000928, train_accuracy=1.000]"
     ]
    },
    {
     "name": "stderr",
     "output_type": "stream",
     "text": [
      "Metric train_loss improved by 0.000 >= min_delta = 0.0. New best score: 0.001\n"
     ]
    },
    {
     "name": "stdout",
     "output_type": "stream",
     "text": [
      "Epoch 80: 100%|██████████| 7/7 [00:00<00:00,  9.85it/s, loss=0.0406, v_num=0, train_loss=0.000928, train_accuracy=1.000]"
     ]
    },
    {
     "name": "stderr",
     "output_type": "stream",
     "text": [
      "[2024-12-02 20:56:28] INFO (torcheeg/MainThread) \n",
      "[Train] train_loss: 0.023 train_accuracy: 0.990 \n",
      "\n"
     ]
    },
    {
     "name": "stdout",
     "output_type": "stream",
     "text": [
      "Epoch 81: 100%|██████████| 7/7 [00:00<00:00,  9.81it/s, loss=0.024, v_num=0, train_loss=0.0122, train_accuracy=1.000]   "
     ]
    },
    {
     "name": "stderr",
     "output_type": "stream",
     "text": [
      "[2024-12-02 20:56:32] INFO (torcheeg/MainThread) \n",
      "[Train] train_loss: 0.016 train_accuracy: 0.995 \n",
      "\n"
     ]
    },
    {
     "name": "stdout",
     "output_type": "stream",
     "text": [
      "Epoch 82: 100%|██████████| 7/7 [00:00<00:00,  9.93it/s, loss=0.0232, v_num=0, train_loss=0.0167, train_accuracy=1.000] "
     ]
    },
    {
     "name": "stderr",
     "output_type": "stream",
     "text": [
      "[2024-12-02 20:56:36] INFO (torcheeg/MainThread) \n",
      "[Train] train_loss: 0.030 train_accuracy: 0.990 \n",
      "\n"
     ]
    },
    {
     "name": "stdout",
     "output_type": "stream",
     "text": [
      "Epoch 83: 100%|██████████| 7/7 [00:00<00:00,  9.69it/s, loss=0.0468, v_num=0, train_loss=0.0149, train_accuracy=1.000] "
     ]
    },
    {
     "name": "stderr",
     "output_type": "stream",
     "text": [
      "[2024-12-02 20:56:41] INFO (torcheeg/MainThread) \n",
      "[Train] train_loss: 0.088 train_accuracy: 0.980 \n",
      "\n"
     ]
    },
    {
     "name": "stdout",
     "output_type": "stream",
     "text": [
      "Epoch 84: 100%|██████████| 7/7 [00:00<00:00,  9.78it/s, loss=0.0506, v_num=0, train_loss=0.0266, train_accuracy=1.000] "
     ]
    },
    {
     "name": "stderr",
     "output_type": "stream",
     "text": [
      "[2024-12-02 20:56:45] INFO (torcheeg/MainThread) \n",
      "[Train] train_loss: 0.027 train_accuracy: 0.985 \n",
      "\n"
     ]
    },
    {
     "name": "stdout",
     "output_type": "stream",
     "text": [
      "Epoch 85: 100%|██████████| 7/7 [00:00<00:00,  9.91it/s, loss=0.0523, v_num=0, train_loss=0.00752, train_accuracy=1.000]"
     ]
    },
    {
     "name": "stderr",
     "output_type": "stream",
     "text": [
      "[2024-12-02 20:56:50] INFO (torcheeg/MainThread) \n",
      "[Train] train_loss: 0.036 train_accuracy: 0.985 \n",
      "\n"
     ]
    },
    {
     "name": "stdout",
     "output_type": "stream",
     "text": [
      "Epoch 86: 100%|██████████| 7/7 [00:00<00:00,  9.63it/s, loss=0.0272, v_num=0, train_loss=0.0152, train_accuracy=1.000]  "
     ]
    },
    {
     "name": "stderr",
     "output_type": "stream",
     "text": [
      "[2024-12-02 20:56:54] INFO (torcheeg/MainThread) \n",
      "[Train] train_loss: 0.018 train_accuracy: 0.990 \n",
      "\n"
     ]
    },
    {
     "name": "stdout",
     "output_type": "stream",
     "text": [
      "Epoch 87: 100%|██████████| 7/7 [00:00<00:00,  9.97it/s, loss=0.0231, v_num=0, train_loss=0.000159, train_accuracy=1.000]"
     ]
    },
    {
     "name": "stderr",
     "output_type": "stream",
     "text": [
      "Metric train_loss improved by 0.001 >= min_delta = 0.0. New best score: 0.000\n"
     ]
    },
    {
     "name": "stdout",
     "output_type": "stream",
     "text": [
      "Epoch 87: 100%|██████████| 7/7 [00:00<00:00,  9.94it/s, loss=0.0231, v_num=0, train_loss=0.000159, train_accuracy=1.000]"
     ]
    },
    {
     "name": "stderr",
     "output_type": "stream",
     "text": [
      "[2024-12-02 20:56:58] INFO (torcheeg/MainThread) \n",
      "[Train] train_loss: 0.013 train_accuracy: 0.995 \n",
      "\n"
     ]
    },
    {
     "name": "stdout",
     "output_type": "stream",
     "text": [
      "Epoch 88: 100%|██████████| 7/7 [00:00<00:00,  9.83it/s, loss=0.0226, v_num=0, train_loss=0.00289, train_accuracy=1.000] "
     ]
    },
    {
     "name": "stderr",
     "output_type": "stream",
     "text": [
      "[2024-12-02 20:57:03] INFO (torcheeg/MainThread) \n",
      "[Train] train_loss: 0.034 train_accuracy: 0.990 \n",
      "\n"
     ]
    },
    {
     "name": "stdout",
     "output_type": "stream",
     "text": [
      "Epoch 89: 100%|██████████| 7/7 [00:00<00:00,  9.82it/s, loss=0.0213, v_num=0, train_loss=0.000122, train_accuracy=1.000]"
     ]
    },
    {
     "name": "stderr",
     "output_type": "stream",
     "text": [
      "Metric train_loss improved by 0.000 >= min_delta = 0.0. New best score: 0.000\n"
     ]
    },
    {
     "name": "stdout",
     "output_type": "stream",
     "text": [
      "Epoch 89: 100%|██████████| 7/7 [00:00<00:00,  9.79it/s, loss=0.0213, v_num=0, train_loss=0.000122, train_accuracy=1.000]"
     ]
    },
    {
     "name": "stderr",
     "output_type": "stream",
     "text": [
      "[2024-12-02 20:57:07] INFO (torcheeg/MainThread) \n",
      "[Train] train_loss: 0.014 train_accuracy: 0.995 \n",
      "\n"
     ]
    },
    {
     "name": "stdout",
     "output_type": "stream",
     "text": [
      "Epoch 90: 100%|██████████| 7/7 [00:00<00:00,  9.84it/s, loss=0.0199, v_num=0, train_loss=0.000107, train_accuracy=1.000]"
     ]
    },
    {
     "name": "stderr",
     "output_type": "stream",
     "text": [
      "Metric train_loss improved by 0.000 >= min_delta = 0.0. New best score: 0.000\n"
     ]
    },
    {
     "name": "stdout",
     "output_type": "stream",
     "text": [
      "Epoch 90: 100%|██████████| 7/7 [00:00<00:00,  9.81it/s, loss=0.0199, v_num=0, train_loss=0.000107, train_accuracy=1.000]"
     ]
    },
    {
     "name": "stderr",
     "output_type": "stream",
     "text": [
      "[2024-12-02 20:57:11] INFO (torcheeg/MainThread) \n",
      "[Train] train_loss: 0.010 train_accuracy: 0.995 \n",
      "\n"
     ]
    },
    {
     "name": "stdout",
     "output_type": "stream",
     "text": [
      "Epoch 91: 100%|██████████| 7/7 [00:00<00:00, 10.02it/s, loss=0.0111, v_num=0, train_loss=0.0112, train_accuracy=1.000]  "
     ]
    },
    {
     "name": "stderr",
     "output_type": "stream",
     "text": [
      "[2024-12-02 20:57:16] INFO (torcheeg/MainThread) \n",
      "[Train] train_loss: 0.009 train_accuracy: 0.995 \n",
      "\n"
     ]
    },
    {
     "name": "stdout",
     "output_type": "stream",
     "text": [
      "Epoch 92: 100%|██████████| 7/7 [00:00<00:00,  9.95it/s, loss=0.0194, v_num=0, train_loss=5.53e-5, train_accuracy=1.000] "
     ]
    },
    {
     "name": "stderr",
     "output_type": "stream",
     "text": [
      "Metric train_loss improved by 0.000 >= min_delta = 0.0. New best score: 0.000\n"
     ]
    },
    {
     "name": "stdout",
     "output_type": "stream",
     "text": [
      "Epoch 92: 100%|██████████| 7/7 [00:00<00:00,  9.92it/s, loss=0.0194, v_num=0, train_loss=5.53e-5, train_accuracy=1.000]"
     ]
    },
    {
     "name": "stderr",
     "output_type": "stream",
     "text": [
      "[2024-12-02 20:57:20] INFO (torcheeg/MainThread) \n",
      "[Train] train_loss: 0.038 train_accuracy: 0.995 \n",
      "\n"
     ]
    },
    {
     "name": "stdout",
     "output_type": "stream",
     "text": [
      "Epoch 93: 100%|██████████| 7/7 [00:00<00:00,  9.91it/s, loss=0.0198, v_num=0, train_loss=0.000289, train_accuracy=1.000]"
     ]
    },
    {
     "name": "stderr",
     "output_type": "stream",
     "text": [
      "[2024-12-02 20:57:24] INFO (torcheeg/MainThread) \n",
      "[Train] train_loss: 0.011 train_accuracy: 0.995 \n",
      "\n"
     ]
    },
    {
     "name": "stdout",
     "output_type": "stream",
     "text": [
      "Epoch 94: 100%|██████████| 7/7 [00:00<00:00,  9.91it/s, loss=0.0049, v_num=0, train_loss=0.000223, train_accuracy=1.000]"
     ]
    },
    {
     "name": "stderr",
     "output_type": "stream",
     "text": [
      "[2024-12-02 20:57:29] INFO (torcheeg/MainThread) \n",
      "[Train] train_loss: 0.001 train_accuracy: 1.000 \n",
      "\n"
     ]
    },
    {
     "name": "stdout",
     "output_type": "stream",
     "text": [
      "Epoch 95: 100%|██████████| 7/7 [00:00<00:00,  9.94it/s, loss=0.00836, v_num=0, train_loss=9.48e-5, train_accuracy=1.000] "
     ]
    },
    {
     "name": "stderr",
     "output_type": "stream",
     "text": [
      "[2024-12-02 20:57:33] INFO (torcheeg/MainThread) \n",
      "[Train] train_loss: 0.012 train_accuracy: 0.995 \n",
      "\n"
     ]
    },
    {
     "name": "stdout",
     "output_type": "stream",
     "text": [
      "Epoch 96: 100%|██████████| 7/7 [00:00<00:00,  9.87it/s, loss=0.00592, v_num=0, train_loss=4.18e-5, train_accuracy=1.000] "
     ]
    },
    {
     "name": "stderr",
     "output_type": "stream",
     "text": [
      "Metric train_loss improved by 0.000 >= min_delta = 0.0. New best score: 0.000\n"
     ]
    },
    {
     "name": "stdout",
     "output_type": "stream",
     "text": [
      "Epoch 96: 100%|██████████| 7/7 [00:00<00:00,  9.85it/s, loss=0.00592, v_num=0, train_loss=4.18e-5, train_accuracy=1.000]"
     ]
    },
    {
     "name": "stderr",
     "output_type": "stream",
     "text": [
      "[2024-12-02 20:57:37] INFO (torcheeg/MainThread) \n",
      "[Train] train_loss: 0.004 train_accuracy: 1.000 \n",
      "\n"
     ]
    },
    {
     "name": "stdout",
     "output_type": "stream",
     "text": [
      "Epoch 97: 100%|██████████| 7/7 [00:00<00:00,  9.98it/s, loss=0.00995, v_num=0, train_loss=0.0012, train_accuracy=1.000]  "
     ]
    },
    {
     "name": "stderr",
     "output_type": "stream",
     "text": [
      "[2024-12-02 20:57:42] INFO (torcheeg/MainThread) \n",
      "[Train] train_loss: 0.013 train_accuracy: 0.995 \n",
      "\n"
     ]
    },
    {
     "name": "stdout",
     "output_type": "stream",
     "text": [
      "Epoch 98: 100%|██████████| 7/7 [00:00<00:00,  9.57it/s, loss=0.00758, v_num=0, train_loss=0.000389, train_accuracy=1.000]"
     ]
    },
    {
     "name": "stderr",
     "output_type": "stream",
     "text": [
      "[2024-12-02 20:57:46] INFO (torcheeg/MainThread) \n",
      "[Train] train_loss: 0.005 train_accuracy: 1.000 \n",
      "\n"
     ]
    },
    {
     "name": "stdout",
     "output_type": "stream",
     "text": [
      "Epoch 99: 100%|██████████| 7/7 [00:00<00:00,  9.81it/s, loss=0.00848, v_num=0, train_loss=1.73e-5, train_accuracy=1.000] "
     ]
    },
    {
     "name": "stderr",
     "output_type": "stream",
     "text": [
      "Metric train_loss improved by 0.000 >= min_delta = 0.0. New best score: 0.000\n"
     ]
    },
    {
     "name": "stdout",
     "output_type": "stream",
     "text": [
      "Epoch 99: 100%|██████████| 7/7 [00:00<00:00,  9.79it/s, loss=0.00848, v_num=0, train_loss=1.73e-5, train_accuracy=1.000]"
     ]
    },
    {
     "name": "stderr",
     "output_type": "stream",
     "text": [
      "[2024-12-02 20:57:51] INFO (torcheeg/MainThread) \n",
      "[Train] train_loss: 0.009 train_accuracy: 0.995 \n",
      "\n",
      "`Trainer.fit` stopped: `max_epochs=100` reached.\n"
     ]
    },
    {
     "name": "stdout",
     "output_type": "stream",
     "text": [
      "Epoch 99: 100%|██████████| 7/7 [00:04<00:00,  1.55it/s, loss=0.00848, v_num=0, train_loss=1.73e-5, train_accuracy=1.000]\n"
     ]
    },
    {
     "name": "stderr",
     "output_type": "stream",
     "text": [
      "GPU available: True (cuda), used: True\n",
      "TPU available: False, using: 0 TPU cores\n",
      "IPU available: False, using: 0 IPUs\n",
      "HPU available: False, using: 0 HPUs\n",
      "LOCAL_RANK: 0 - CUDA_VISIBLE_DEVICES: [0]\n",
      "/root/autodl-tmp/conda/envs/law/lib/python3.8/site-packages/pytorch_lightning/trainer/connectors/data_connector.py:224: PossibleUserWarning: The dataloader, test_dataloader 0, does not have many workers which may be a bottleneck. Consider increasing the value of the `num_workers` argument` (try 128 which is the number of cpus on this machine) in the `DataLoader` init to improve performance.\n",
      "  rank_zero_warn(\n"
     ]
    },
    {
     "name": "stdout",
     "output_type": "stream",
     "text": [
      "Testing DataLoader 0: 100%|██████████| 3/3 [00:00<00:00, 38.20it/s]"
     ]
    },
    {
     "name": "stderr",
     "output_type": "stream",
     "text": [
      "[2024-12-02 20:57:52] INFO (torcheeg/MainThread) \n",
      "[Test] test_loss: 1.755 test_accuracy: 0.700 \n",
      "\n"
     ]
    },
    {
     "name": "stdout",
     "output_type": "stream",
     "text": [
      "Testing DataLoader 0: 100%|██████████| 3/3 [00:00<00:00, 35.60it/s]\n",
      "────────────────────────────────────────────────────────────────────────────────────────────────────────────────────────\n",
      "       Test metric             DataLoader 0\n",
      "────────────────────────────────────────────────────────────────────────────────────────────────────────────────────────\n",
      "      test_accuracy          0.699999988079071\n",
      "        test_loss           1.7552582025527954\n",
      "────────────────────────────────────────────────────────────────────────────────────────────────────────────────────────\n",
      "已删除文件夹: /root/autodl-tmp/.autodl/kinlaw/mi_swin/lightning_logs\n"
     ]
    },
    {
     "name": "stderr",
     "output_type": "stream",
     "text": [
      "GPU available: True (cuda), used: True\n",
      "TPU available: False, using: 0 TPU cores\n",
      "IPU available: False, using: 0 IPUs\n",
      "HPU available: False, using: 0 HPUs\n",
      "Missing logger folder: /root/autodl-tmp/.autodl/kinlaw/mi_swin/lightning_logs\n",
      "LOCAL_RANK: 0 - CUDA_VISIBLE_DEVICES: [0]\n",
      "/root/autodl-tmp/conda/envs/law/lib/python3.8/site-packages/pytorch_lightning/trainer/connectors/data_connector.py:224: PossibleUserWarning: The dataloader, train_dataloader, does not have many workers which may be a bottleneck. Consider increasing the value of the `num_workers` argument` (try 128 which is the number of cpus on this machine) in the `DataLoader` init to improve performance.\n",
      "  rank_zero_warn(\n",
      "/root/autodl-tmp/conda/envs/law/lib/python3.8/site-packages/pytorch_lightning/trainer/trainer.py:1609: PossibleUserWarning: The number of training batches (8) is smaller than the logging interval Trainer(log_every_n_steps=50). Set a lower value for log_every_n_steps if you want to see logs for the training epoch.\n",
      "  rank_zero_warn(\n"
     ]
    },
    {
     "name": "stdout",
     "output_type": "stream",
     "text": [
      "Epoch 0: 100%|██████████| 8/8 [00:00<00:00,  9.59it/s, loss=2.58, v_num=0, train_loss=0.844, train_accuracy=0.688] "
     ]
    },
    {
     "name": "stderr",
     "output_type": "stream",
     "text": [
      "Metric train_loss improved. New best score: 0.844\n"
     ]
    },
    {
     "name": "stdout",
     "output_type": "stream",
     "text": [
      "Epoch 0: 100%|██████████| 8/8 [00:00<00:00,  9.57it/s, loss=2.58, v_num=0, train_loss=0.844, train_accuracy=0.688]"
     ]
    },
    {
     "name": "stderr",
     "output_type": "stream",
     "text": [
      "[2024-12-02 20:57:59] INFO (torcheeg/MainThread) \n",
      "[Train] train_loss: 2.579 train_accuracy: 0.488 \n",
      "\n"
     ]
    },
    {
     "name": "stdout",
     "output_type": "stream",
     "text": [
      "Epoch 1: 100%|██████████| 8/8 [00:00<00:00,  9.81it/s, loss=1.85, v_num=0, train_loss=0.593, train_accuracy=0.625]"
     ]
    },
    {
     "name": "stderr",
     "output_type": "stream",
     "text": [
      "Metric train_loss improved by 0.251 >= min_delta = 0.0. New best score: 0.593\n"
     ]
    },
    {
     "name": "stdout",
     "output_type": "stream",
     "text": [
      "Epoch 1: 100%|██████████| 8/8 [00:00<00:00,  9.79it/s, loss=1.85, v_num=0, train_loss=0.593, train_accuracy=0.625]"
     ]
    },
    {
     "name": "stderr",
     "output_type": "stream",
     "text": [
      "[2024-12-02 20:58:04] INFO (torcheeg/MainThread) \n",
      "[Train] train_loss: 1.111 train_accuracy: 0.579 \n",
      "\n"
     ]
    },
    {
     "name": "stdout",
     "output_type": "stream",
     "text": [
      "Epoch 2: 100%|██████████| 8/8 [00:00<00:00,  9.81it/s, loss=1.08, v_num=0, train_loss=0.974, train_accuracy=0.312]"
     ]
    },
    {
     "name": "stderr",
     "output_type": "stream",
     "text": [
      "[2024-12-02 20:58:08] INFO (torcheeg/MainThread) \n",
      "[Train] train_loss: 0.727 train_accuracy: 0.579 \n",
      "\n"
     ]
    },
    {
     "name": "stdout",
     "output_type": "stream",
     "text": [
      "Epoch 3: 100%|██████████| 8/8 [00:00<00:00,  9.66it/s, loss=0.746, v_num=0, train_loss=0.553, train_accuracy=0.625]"
     ]
    },
    {
     "name": "stderr",
     "output_type": "stream",
     "text": [
      "Metric train_loss improved by 0.039 >= min_delta = 0.0. New best score: 0.553\n"
     ]
    },
    {
     "name": "stdout",
     "output_type": "stream",
     "text": [
      "Epoch 3: 100%|██████████| 8/8 [00:00<00:00,  9.64it/s, loss=0.746, v_num=0, train_loss=0.553, train_accuracy=0.625]"
     ]
    },
    {
     "name": "stderr",
     "output_type": "stream",
     "text": [
      "[2024-12-02 20:58:13] INFO (torcheeg/MainThread) \n",
      "[Train] train_loss: 0.630 train_accuracy: 0.646 \n",
      "\n"
     ]
    },
    {
     "name": "stdout",
     "output_type": "stream",
     "text": [
      "Epoch 4: 100%|██████████| 8/8 [00:00<00:00,  9.86it/s, loss=0.625, v_num=0, train_loss=0.445, train_accuracy=0.812]"
     ]
    },
    {
     "name": "stderr",
     "output_type": "stream",
     "text": [
      "Metric train_loss improved by 0.109 >= min_delta = 0.0. New best score: 0.445\n"
     ]
    },
    {
     "name": "stdout",
     "output_type": "stream",
     "text": [
      "Epoch 4: 100%|██████████| 8/8 [00:00<00:00,  9.84it/s, loss=0.625, v_num=0, train_loss=0.445, train_accuracy=0.812]"
     ]
    },
    {
     "name": "stderr",
     "output_type": "stream",
     "text": [
      "[2024-12-02 20:58:18] INFO (torcheeg/MainThread) \n",
      "[Train] train_loss: 0.550 train_accuracy: 0.721 \n",
      "\n"
     ]
    },
    {
     "name": "stdout",
     "output_type": "stream",
     "text": [
      "Epoch 5: 100%|██████████| 8/8 [00:00<00:00,  9.89it/s, loss=0.56, v_num=0, train_loss=0.788, train_accuracy=0.625] "
     ]
    },
    {
     "name": "stderr",
     "output_type": "stream",
     "text": [
      "[2024-12-02 20:58:23] INFO (torcheeg/MainThread) \n",
      "[Train] train_loss: 0.554 train_accuracy: 0.725 \n",
      "\n"
     ]
    },
    {
     "name": "stdout",
     "output_type": "stream",
     "text": [
      "Epoch 6: 100%|██████████| 8/8 [00:00<00:00,  9.97it/s, loss=0.506, v_num=0, train_loss=0.357, train_accuracy=0.875]"
     ]
    },
    {
     "name": "stderr",
     "output_type": "stream",
     "text": [
      "Metric train_loss improved by 0.088 >= min_delta = 0.0. New best score: 0.357\n"
     ]
    },
    {
     "name": "stdout",
     "output_type": "stream",
     "text": [
      "Epoch 6: 100%|██████████| 8/8 [00:00<00:00,  9.95it/s, loss=0.506, v_num=0, train_loss=0.357, train_accuracy=0.875]"
     ]
    },
    {
     "name": "stderr",
     "output_type": "stream",
     "text": [
      "[2024-12-02 20:58:27] INFO (torcheeg/MainThread) \n",
      "[Train] train_loss: 0.435 train_accuracy: 0.804 \n",
      "\n"
     ]
    },
    {
     "name": "stdout",
     "output_type": "stream",
     "text": [
      "Epoch 7: 100%|██████████| 8/8 [00:00<00:00,  9.89it/s, loss=0.449, v_num=0, train_loss=0.398, train_accuracy=0.625]"
     ]
    },
    {
     "name": "stderr",
     "output_type": "stream",
     "text": [
      "[2024-12-02 20:58:32] INFO (torcheeg/MainThread) \n",
      "[Train] train_loss: 0.399 train_accuracy: 0.812 \n",
      "\n"
     ]
    },
    {
     "name": "stdout",
     "output_type": "stream",
     "text": [
      "Epoch 8: 100%|██████████| 8/8 [00:00<00:00,  9.88it/s, loss=0.389, v_num=0, train_loss=0.402, train_accuracy=0.750]"
     ]
    },
    {
     "name": "stderr",
     "output_type": "stream",
     "text": [
      "[2024-12-02 20:58:37] INFO (torcheeg/MainThread) \n",
      "[Train] train_loss: 0.374 train_accuracy: 0.825 \n",
      "\n"
     ]
    },
    {
     "name": "stdout",
     "output_type": "stream",
     "text": [
      "Epoch 9: 100%|██████████| 8/8 [00:00<00:00,  9.98it/s, loss=0.408, v_num=0, train_loss=0.863, train_accuracy=0.562]"
     ]
    },
    {
     "name": "stderr",
     "output_type": "stream",
     "text": [
      "[2024-12-02 20:58:42] INFO (torcheeg/MainThread) \n",
      "[Train] train_loss: 0.446 train_accuracy: 0.837 \n",
      "\n"
     ]
    },
    {
     "name": "stdout",
     "output_type": "stream",
     "text": [
      "Epoch 10: 100%|██████████| 8/8 [00:00<00:00,  9.79it/s, loss=0.421, v_num=0, train_loss=0.562, train_accuracy=0.750]"
     ]
    },
    {
     "name": "stderr",
     "output_type": "stream",
     "text": [
      "[2024-12-02 20:58:46] INFO (torcheeg/MainThread) \n",
      "[Train] train_loss: 0.405 train_accuracy: 0.837 \n",
      "\n"
     ]
    },
    {
     "name": "stdout",
     "output_type": "stream",
     "text": [
      "Epoch 11: 100%|██████████| 8/8 [00:00<00:00,  9.78it/s, loss=0.391, v_num=0, train_loss=0.311, train_accuracy=0.875]"
     ]
    },
    {
     "name": "stderr",
     "output_type": "stream",
     "text": [
      "Metric train_loss improved by 0.046 >= min_delta = 0.0. New best score: 0.311\n"
     ]
    },
    {
     "name": "stdout",
     "output_type": "stream",
     "text": [
      "Epoch 11: 100%|██████████| 8/8 [00:00<00:00,  9.76it/s, loss=0.391, v_num=0, train_loss=0.311, train_accuracy=0.875]"
     ]
    },
    {
     "name": "stderr",
     "output_type": "stream",
     "text": [
      "[2024-12-02 20:58:51] INFO (torcheeg/MainThread) \n",
      "[Train] train_loss: 0.332 train_accuracy: 0.867 \n",
      "\n"
     ]
    },
    {
     "name": "stdout",
     "output_type": "stream",
     "text": [
      "Epoch 12: 100%|██████████| 8/8 [00:00<00:00,  9.77it/s, loss=0.348, v_num=0, train_loss=0.559, train_accuracy=0.812]"
     ]
    },
    {
     "name": "stderr",
     "output_type": "stream",
     "text": [
      "[2024-12-02 20:58:56] INFO (torcheeg/MainThread) \n",
      "[Train] train_loss: 0.269 train_accuracy: 0.900 \n",
      "\n"
     ]
    },
    {
     "name": "stdout",
     "output_type": "stream",
     "text": [
      "Epoch 13: 100%|██████████| 8/8 [00:00<00:00,  9.87it/s, loss=0.259, v_num=0, train_loss=0.376, train_accuracy=0.938] "
     ]
    },
    {
     "name": "stderr",
     "output_type": "stream",
     "text": [
      "[2024-12-02 20:59:01] INFO (torcheeg/MainThread) \n",
      "[Train] train_loss: 0.233 train_accuracy: 0.908 \n",
      "\n"
     ]
    },
    {
     "name": "stdout",
     "output_type": "stream",
     "text": [
      "Epoch 14: 100%|██████████| 8/8 [00:00<00:00,  9.84it/s, loss=0.262, v_num=0, train_loss=0.333, train_accuracy=0.812]"
     ]
    },
    {
     "name": "stderr",
     "output_type": "stream",
     "text": [
      "[2024-12-02 20:59:05] INFO (torcheeg/MainThread) \n",
      "[Train] train_loss: 0.286 train_accuracy: 0.879 \n",
      "\n"
     ]
    },
    {
     "name": "stdout",
     "output_type": "stream",
     "text": [
      "Epoch 15: 100%|██████████| 8/8 [00:00<00:00,  9.89it/s, loss=0.232, v_num=0, train_loss=0.0244, train_accuracy=1.000]"
     ]
    },
    {
     "name": "stderr",
     "output_type": "stream",
     "text": [
      "Metric train_loss improved by 0.287 >= min_delta = 0.0. New best score: 0.024\n"
     ]
    },
    {
     "name": "stdout",
     "output_type": "stream",
     "text": [
      "Epoch 15: 100%|██████████| 8/8 [00:00<00:00,  9.87it/s, loss=0.232, v_num=0, train_loss=0.0244, train_accuracy=1.000]"
     ]
    },
    {
     "name": "stderr",
     "output_type": "stream",
     "text": [
      "[2024-12-02 20:59:10] INFO (torcheeg/MainThread) \n",
      "[Train] train_loss: 0.176 train_accuracy: 0.938 \n",
      "\n"
     ]
    },
    {
     "name": "stdout",
     "output_type": "stream",
     "text": [
      "Epoch 16: 100%|██████████| 8/8 [00:00<00:00,  9.86it/s, loss=0.195, v_num=0, train_loss=0.290, train_accuracy=0.812] "
     ]
    },
    {
     "name": "stderr",
     "output_type": "stream",
     "text": [
      "[2024-12-02 20:59:15] INFO (torcheeg/MainThread) \n",
      "[Train] train_loss: 0.188 train_accuracy: 0.925 \n",
      "\n"
     ]
    },
    {
     "name": "stdout",
     "output_type": "stream",
     "text": [
      "Epoch 17: 100%|██████████| 8/8 [00:00<00:00,  9.97it/s, loss=0.165, v_num=0, train_loss=0.312, train_accuracy=0.938] "
     ]
    },
    {
     "name": "stderr",
     "output_type": "stream",
     "text": [
      "[2024-12-02 20:59:20] INFO (torcheeg/MainThread) \n",
      "[Train] train_loss: 0.166 train_accuracy: 0.946 \n",
      "\n"
     ]
    },
    {
     "name": "stdout",
     "output_type": "stream",
     "text": [
      "Epoch 18: 100%|██████████| 8/8 [00:00<00:00,  9.88it/s, loss=0.204, v_num=0, train_loss=0.293, train_accuracy=0.875]"
     ]
    },
    {
     "name": "stderr",
     "output_type": "stream",
     "text": [
      "[2024-12-02 20:59:24] INFO (torcheeg/MainThread) \n",
      "[Train] train_loss: 0.269 train_accuracy: 0.900 \n",
      "\n"
     ]
    },
    {
     "name": "stdout",
     "output_type": "stream",
     "text": [
      "Epoch 19: 100%|██████████| 8/8 [00:00<00:00,  9.87it/s, loss=0.248, v_num=0, train_loss=0.184, train_accuracy=0.938]"
     ]
    },
    {
     "name": "stderr",
     "output_type": "stream",
     "text": [
      "[2024-12-02 20:59:29] INFO (torcheeg/MainThread) \n",
      "[Train] train_loss: 0.262 train_accuracy: 0.883 \n",
      "\n"
     ]
    },
    {
     "name": "stdout",
     "output_type": "stream",
     "text": [
      "Epoch 20: 100%|██████████| 8/8 [00:00<00:00,  9.65it/s, loss=0.243, v_num=0, train_loss=0.226, train_accuracy=0.938] "
     ]
    },
    {
     "name": "stderr",
     "output_type": "stream",
     "text": [
      "[2024-12-02 20:59:34] INFO (torcheeg/MainThread) \n",
      "[Train] train_loss: 0.215 train_accuracy: 0.921 \n",
      "\n"
     ]
    },
    {
     "name": "stdout",
     "output_type": "stream",
     "text": [
      "Epoch 21: 100%|██████████| 8/8 [00:00<00:00,  9.88it/s, loss=0.207, v_num=0, train_loss=0.0688, train_accuracy=1.000]"
     ]
    },
    {
     "name": "stderr",
     "output_type": "stream",
     "text": [
      "[2024-12-02 20:59:39] INFO (torcheeg/MainThread) \n",
      "[Train] train_loss: 0.160 train_accuracy: 0.929 \n",
      "\n"
     ]
    },
    {
     "name": "stdout",
     "output_type": "stream",
     "text": [
      "Epoch 22: 100%|██████████| 8/8 [00:00<00:00,  9.88it/s, loss=0.147, v_num=0, train_loss=0.0354, train_accuracy=1.000]"
     ]
    },
    {
     "name": "stderr",
     "output_type": "stream",
     "text": [
      "[2024-12-02 20:59:43] INFO (torcheeg/MainThread) \n",
      "[Train] train_loss: 0.114 train_accuracy: 0.958 \n",
      "\n"
     ]
    },
    {
     "name": "stdout",
     "output_type": "stream",
     "text": [
      "Epoch 23: 100%|██████████| 8/8 [00:00<00:00,  9.88it/s, loss=0.139, v_num=0, train_loss=0.00935, train_accuracy=1.000]"
     ]
    },
    {
     "name": "stderr",
     "output_type": "stream",
     "text": [
      "Metric train_loss improved by 0.015 >= min_delta = 0.0. New best score: 0.009\n"
     ]
    },
    {
     "name": "stdout",
     "output_type": "stream",
     "text": [
      "Epoch 23: 100%|██████████| 8/8 [00:00<00:00,  9.86it/s, loss=0.139, v_num=0, train_loss=0.00935, train_accuracy=1.000]"
     ]
    },
    {
     "name": "stderr",
     "output_type": "stream",
     "text": [
      "[2024-12-02 20:59:48] INFO (torcheeg/MainThread) \n",
      "[Train] train_loss: 0.152 train_accuracy: 0.933 \n",
      "\n"
     ]
    },
    {
     "name": "stdout",
     "output_type": "stream",
     "text": [
      "Epoch 24: 100%|██████████| 8/8 [00:00<00:00,  9.70it/s, loss=0.134, v_num=0, train_loss=0.285, train_accuracy=0.812]  "
     ]
    },
    {
     "name": "stderr",
     "output_type": "stream",
     "text": [
      "[2024-12-02 20:59:53] INFO (torcheeg/MainThread) \n",
      "[Train] train_loss: 0.123 train_accuracy: 0.942 \n",
      "\n"
     ]
    },
    {
     "name": "stdout",
     "output_type": "stream",
     "text": [
      "Epoch 25: 100%|██████████| 8/8 [00:00<00:00,  9.78it/s, loss=0.132, v_num=0, train_loss=0.0296, train_accuracy=1.000]"
     ]
    },
    {
     "name": "stderr",
     "output_type": "stream",
     "text": [
      "[2024-12-02 20:59:57] INFO (torcheeg/MainThread) \n",
      "[Train] train_loss: 0.121 train_accuracy: 0.942 \n",
      "\n"
     ]
    },
    {
     "name": "stdout",
     "output_type": "stream",
     "text": [
      "Epoch 26: 100%|██████████| 8/8 [00:00<00:00,  9.93it/s, loss=0.151, v_num=0, train_loss=0.432, train_accuracy=0.875] "
     ]
    },
    {
     "name": "stderr",
     "output_type": "stream",
     "text": [
      "[2024-12-02 21:00:02] INFO (torcheeg/MainThread) \n",
      "[Train] train_loss: 0.198 train_accuracy: 0.933 \n",
      "\n"
     ]
    },
    {
     "name": "stdout",
     "output_type": "stream",
     "text": [
      "Epoch 27: 100%|██████████| 8/8 [00:00<00:00,  9.86it/s, loss=0.164, v_num=0, train_loss=0.0861, train_accuracy=0.938]"
     ]
    },
    {
     "name": "stderr",
     "output_type": "stream",
     "text": [
      "[2024-12-02 21:00:06] INFO (torcheeg/MainThread) \n",
      "[Train] train_loss: 0.139 train_accuracy: 0.946 \n",
      "\n"
     ]
    },
    {
     "name": "stdout",
     "output_type": "stream",
     "text": [
      "Epoch 28: 100%|██████████| 8/8 [00:00<00:00,  9.84it/s, loss=0.14, v_num=0, train_loss=0.036, train_accuracy=1.000]  "
     ]
    },
    {
     "name": "stderr",
     "output_type": "stream",
     "text": [
      "[2024-12-02 21:00:11] INFO (torcheeg/MainThread) \n",
      "[Train] train_loss: 0.114 train_accuracy: 0.958 \n",
      "\n"
     ]
    },
    {
     "name": "stdout",
     "output_type": "stream",
     "text": [
      "Epoch 29: 100%|██████████| 8/8 [00:00<00:00,  9.80it/s, loss=0.1, v_num=0, train_loss=0.0209, train_accuracy=1.000]  "
     ]
    },
    {
     "name": "stderr",
     "output_type": "stream",
     "text": [
      "[2024-12-02 21:00:15] INFO (torcheeg/MainThread) \n",
      "[Train] train_loss: 0.074 train_accuracy: 0.971 \n",
      "\n"
     ]
    },
    {
     "name": "stdout",
     "output_type": "stream",
     "text": [
      "Epoch 30: 100%|██████████| 8/8 [00:00<00:00,  9.86it/s, loss=0.056, v_num=0, train_loss=0.00402, train_accuracy=1.000] "
     ]
    },
    {
     "name": "stderr",
     "output_type": "stream",
     "text": [
      "Metric train_loss improved by 0.005 >= min_delta = 0.0. New best score: 0.004\n"
     ]
    },
    {
     "name": "stdout",
     "output_type": "stream",
     "text": [
      "Epoch 30: 100%|██████████| 8/8 [00:00<00:00,  9.84it/s, loss=0.056, v_num=0, train_loss=0.00402, train_accuracy=1.000]"
     ]
    },
    {
     "name": "stderr",
     "output_type": "stream",
     "text": [
      "[2024-12-02 21:00:19] INFO (torcheeg/MainThread) \n",
      "[Train] train_loss: 0.014 train_accuracy: 1.000 \n",
      "\n"
     ]
    },
    {
     "name": "stdout",
     "output_type": "stream",
     "text": [
      "Epoch 31: 100%|██████████| 8/8 [00:00<00:00,  9.77it/s, loss=0.0796, v_num=0, train_loss=0.080, train_accuracy=0.938]  "
     ]
    },
    {
     "name": "stderr",
     "output_type": "stream",
     "text": [
      "[2024-12-02 21:00:24] INFO (torcheeg/MainThread) \n",
      "[Train] train_loss: 0.154 train_accuracy: 0.954 \n",
      "\n"
     ]
    },
    {
     "name": "stdout",
     "output_type": "stream",
     "text": [
      "Epoch 32: 100%|██████████| 8/8 [00:00<00:00,  9.85it/s, loss=0.0867, v_num=0, train_loss=0.0248, train_accuracy=1.000] "
     ]
    },
    {
     "name": "stderr",
     "output_type": "stream",
     "text": [
      "[2024-12-02 21:00:28] INFO (torcheeg/MainThread) \n",
      "[Train] train_loss: 0.058 train_accuracy: 0.979 \n",
      "\n"
     ]
    },
    {
     "name": "stdout",
     "output_type": "stream",
     "text": [
      "Epoch 33: 100%|██████████| 8/8 [00:00<00:00,  9.79it/s, loss=0.129, v_num=0, train_loss=0.0344, train_accuracy=1.000] "
     ]
    },
    {
     "name": "stderr",
     "output_type": "stream",
     "text": [
      "[2024-12-02 21:00:32] INFO (torcheeg/MainThread) \n",
      "[Train] train_loss: 0.140 train_accuracy: 0.942 \n",
      "\n"
     ]
    },
    {
     "name": "stdout",
     "output_type": "stream",
     "text": [
      "Epoch 34: 100%|██████████| 8/8 [00:00<00:00,  9.92it/s, loss=0.127, v_num=0, train_loss=0.0163, train_accuracy=1.000]"
     ]
    },
    {
     "name": "stderr",
     "output_type": "stream",
     "text": [
      "[2024-12-02 21:00:37] INFO (torcheeg/MainThread) \n",
      "[Train] train_loss: 0.147 train_accuracy: 0.938 \n",
      "\n"
     ]
    },
    {
     "name": "stdout",
     "output_type": "stream",
     "text": [
      "Epoch 35: 100%|██████████| 8/8 [00:00<00:00,  9.74it/s, loss=0.188, v_num=0, train_loss=0.120, train_accuracy=1.000] "
     ]
    },
    {
     "name": "stderr",
     "output_type": "stream",
     "text": [
      "[2024-12-02 21:00:41] INFO (torcheeg/MainThread) \n",
      "[Train] train_loss: 0.241 train_accuracy: 0.913 \n",
      "\n"
     ]
    },
    {
     "name": "stdout",
     "output_type": "stream",
     "text": [
      "Epoch 36: 100%|██████████| 8/8 [00:00<00:00,  9.91it/s, loss=0.185, v_num=0, train_loss=0.160, train_accuracy=0.938]"
     ]
    },
    {
     "name": "stderr",
     "output_type": "stream",
     "text": [
      "[2024-12-02 21:00:46] INFO (torcheeg/MainThread) \n",
      "[Train] train_loss: 0.159 train_accuracy: 0.933 \n",
      "\n"
     ]
    },
    {
     "name": "stdout",
     "output_type": "stream",
     "text": [
      "Epoch 37: 100%|██████████| 8/8 [00:00<00:00,  9.79it/s, loss=0.128, v_num=0, train_loss=0.364, train_accuracy=0.938] "
     ]
    },
    {
     "name": "stderr",
     "output_type": "stream",
     "text": [
      "[2024-12-02 21:00:50] INFO (torcheeg/MainThread) \n",
      "[Train] train_loss: 0.097 train_accuracy: 0.967 \n",
      "\n"
     ]
    },
    {
     "name": "stdout",
     "output_type": "stream",
     "text": [
      "Epoch 38: 100%|██████████| 8/8 [00:00<00:00,  9.75it/s, loss=0.0972, v_num=0, train_loss=0.00694, train_accuracy=1.000]"
     ]
    },
    {
     "name": "stderr",
     "output_type": "stream",
     "text": [
      "[2024-12-02 21:00:54] INFO (torcheeg/MainThread) \n",
      "[Train] train_loss: 0.056 train_accuracy: 0.979 \n",
      "\n"
     ]
    },
    {
     "name": "stdout",
     "output_type": "stream",
     "text": [
      "Epoch 39: 100%|██████████| 8/8 [00:00<00:00,  9.83it/s, loss=0.0804, v_num=0, train_loss=0.028, train_accuracy=1.000]  "
     ]
    },
    {
     "name": "stderr",
     "output_type": "stream",
     "text": [
      "[2024-12-02 21:00:59] INFO (torcheeg/MainThread) \n",
      "[Train] train_loss: 0.079 train_accuracy: 0.971 \n",
      "\n"
     ]
    },
    {
     "name": "stdout",
     "output_type": "stream",
     "text": [
      "Epoch 40: 100%|██████████| 8/8 [00:00<00:00,  9.84it/s, loss=0.09, v_num=0, train_loss=0.000881, train_accuracy=1.000] "
     ]
    },
    {
     "name": "stderr",
     "output_type": "stream",
     "text": [
      "Metric train_loss improved by 0.003 >= min_delta = 0.0. New best score: 0.001\n"
     ]
    },
    {
     "name": "stdout",
     "output_type": "stream",
     "text": [
      "Epoch 40: 100%|██████████| 8/8 [00:00<00:00,  9.82it/s, loss=0.09, v_num=0, train_loss=0.000881, train_accuracy=1.000]"
     ]
    },
    {
     "name": "stderr",
     "output_type": "stream",
     "text": [
      "[2024-12-02 21:01:03] INFO (torcheeg/MainThread) \n",
      "[Train] train_loss: 0.108 train_accuracy: 0.958 \n",
      "\n"
     ]
    },
    {
     "name": "stdout",
     "output_type": "stream",
     "text": [
      "Epoch 41: 100%|██████████| 8/8 [00:00<00:00,  9.69it/s, loss=0.0946, v_num=0, train_loss=0.061, train_accuracy=1.000] "
     ]
    },
    {
     "name": "stderr",
     "output_type": "stream",
     "text": [
      "[2024-12-02 21:01:07] INFO (torcheeg/MainThread) \n",
      "[Train] train_loss: 0.089 train_accuracy: 0.979 \n",
      "\n"
     ]
    },
    {
     "name": "stdout",
     "output_type": "stream",
     "text": [
      "Epoch 42: 100%|██████████| 8/8 [00:00<00:00,  9.73it/s, loss=0.0709, v_num=0, train_loss=0.0265, train_accuracy=1.000] "
     ]
    },
    {
     "name": "stderr",
     "output_type": "stream",
     "text": [
      "[2024-12-02 21:01:12] INFO (torcheeg/MainThread) \n",
      "[Train] train_loss: 0.053 train_accuracy: 0.979 \n",
      "\n"
     ]
    },
    {
     "name": "stdout",
     "output_type": "stream",
     "text": [
      "Epoch 43: 100%|██████████| 8/8 [00:00<00:00,  9.77it/s, loss=0.0555, v_num=0, train_loss=0.137, train_accuracy=0.938] "
     ]
    },
    {
     "name": "stderr",
     "output_type": "stream",
     "text": [
      "[2024-12-02 21:01:16] INFO (torcheeg/MainThread) \n",
      "[Train] train_loss: 0.063 train_accuracy: 0.979 \n",
      "\n"
     ]
    },
    {
     "name": "stdout",
     "output_type": "stream",
     "text": [
      "Epoch 44: 100%|██████████| 8/8 [00:00<00:00,  9.86it/s, loss=0.0569, v_num=0, train_loss=0.0367, train_accuracy=1.000] "
     ]
    },
    {
     "name": "stderr",
     "output_type": "stream",
     "text": [
      "[2024-12-02 21:01:21] INFO (torcheeg/MainThread) \n",
      "[Train] train_loss: 0.071 train_accuracy: 0.962 \n",
      "\n"
     ]
    },
    {
     "name": "stdout",
     "output_type": "stream",
     "text": [
      "Epoch 45: 100%|██████████| 8/8 [00:00<00:00,  9.75it/s, loss=0.0789, v_num=0, train_loss=0.0255, train_accuracy=1.000]"
     ]
    },
    {
     "name": "stderr",
     "output_type": "stream",
     "text": [
      "[2024-12-02 21:01:25] INFO (torcheeg/MainThread) \n",
      "[Train] train_loss: 0.101 train_accuracy: 0.962 \n",
      "\n"
     ]
    },
    {
     "name": "stdout",
     "output_type": "stream",
     "text": [
      "Epoch 46: 100%|██████████| 8/8 [00:00<00:00,  9.87it/s, loss=0.0907, v_num=0, train_loss=0.115, train_accuracy=0.938] "
     ]
    },
    {
     "name": "stderr",
     "output_type": "stream",
     "text": [
      "[2024-12-02 21:01:29] INFO (torcheeg/MainThread) \n",
      "[Train] train_loss: 0.070 train_accuracy: 0.979 \n",
      "\n"
     ]
    },
    {
     "name": "stdout",
     "output_type": "stream",
     "text": [
      "Epoch 47: 100%|██████████| 8/8 [00:00<00:00,  9.72it/s, loss=0.0927, v_num=0, train_loss=0.0021, train_accuracy=1.000] "
     ]
    },
    {
     "name": "stderr",
     "output_type": "stream",
     "text": [
      "[2024-12-02 21:01:34] INFO (torcheeg/MainThread) \n",
      "[Train] train_loss: 0.117 train_accuracy: 0.971 \n",
      "\n"
     ]
    },
    {
     "name": "stdout",
     "output_type": "stream",
     "text": [
      "Epoch 48: 100%|██████████| 8/8 [00:00<00:00,  9.88it/s, loss=0.085, v_num=0, train_loss=0.00761, train_accuracy=1.000]"
     ]
    },
    {
     "name": "stderr",
     "output_type": "stream",
     "text": [
      "[2024-12-02 21:01:38] INFO (torcheeg/MainThread) \n",
      "[Train] train_loss: 0.042 train_accuracy: 0.979 \n",
      "\n"
     ]
    },
    {
     "name": "stdout",
     "output_type": "stream",
     "text": [
      "Epoch 49: 100%|██████████| 8/8 [00:00<00:00,  9.93it/s, loss=0.054, v_num=0, train_loss=0.0527, train_accuracy=1.000]  "
     ]
    },
    {
     "name": "stderr",
     "output_type": "stream",
     "text": [
      "[2024-12-02 21:01:43] INFO (torcheeg/MainThread) \n",
      "[Train] train_loss: 0.033 train_accuracy: 0.988 \n",
      "\n"
     ]
    },
    {
     "name": "stdout",
     "output_type": "stream",
     "text": [
      "Epoch 50: 100%|██████████| 8/8 [00:00<00:00,  9.89it/s, loss=0.0551, v_num=0, train_loss=0.217, train_accuracy=0.938] "
     ]
    },
    {
     "name": "stderr",
     "output_type": "stream",
     "text": [
      "[2024-12-02 21:01:47] INFO (torcheeg/MainThread) \n",
      "[Train] train_loss: 0.074 train_accuracy: 0.979 \n",
      "\n"
     ]
    },
    {
     "name": "stdout",
     "output_type": "stream",
     "text": [
      "Epoch 51: 100%|██████████| 8/8 [00:00<00:00,  9.78it/s, loss=0.0502, v_num=0, train_loss=0.00653, train_accuracy=1.000]"
     ]
    },
    {
     "name": "stderr",
     "output_type": "stream",
     "text": [
      "[2024-12-02 21:01:51] INFO (torcheeg/MainThread) \n",
      "[Train] train_loss: 0.030 train_accuracy: 0.992 \n",
      "\n"
     ]
    },
    {
     "name": "stdout",
     "output_type": "stream",
     "text": [
      "Epoch 52: 100%|██████████| 8/8 [00:00<00:00,  9.71it/s, loss=0.038, v_num=0, train_loss=0.00265, train_accuracy=1.000] "
     ]
    },
    {
     "name": "stderr",
     "output_type": "stream",
     "text": [
      "[2024-12-02 21:01:56] INFO (torcheeg/MainThread) \n",
      "[Train] train_loss: 0.029 train_accuracy: 0.988 \n",
      "\n"
     ]
    },
    {
     "name": "stdout",
     "output_type": "stream",
     "text": [
      "Epoch 53: 100%|██████████| 8/8 [00:00<00:00,  9.67it/s, loss=0.0271, v_num=0, train_loss=0.0244, train_accuracy=1.000] "
     ]
    },
    {
     "name": "stderr",
     "output_type": "stream",
     "text": [
      "[2024-12-02 21:02:00] INFO (torcheeg/MainThread) \n",
      "[Train] train_loss: 0.011 train_accuracy: 1.000 \n",
      "\n"
     ]
    },
    {
     "name": "stdout",
     "output_type": "stream",
     "text": [
      "Epoch 54: 100%|██████████| 8/8 [00:00<00:00,  9.96it/s, loss=0.0376, v_num=0, train_loss=0.260, train_accuracy=0.875]   "
     ]
    },
    {
     "name": "stderr",
     "output_type": "stream",
     "text": [
      "[2024-12-02 21:02:05] INFO (torcheeg/MainThread) \n",
      "[Train] train_loss: 0.062 train_accuracy: 0.979 \n",
      "\n"
     ]
    },
    {
     "name": "stdout",
     "output_type": "stream",
     "text": [
      "Epoch 55: 100%|██████████| 8/8 [00:00<00:00,  9.64it/s, loss=0.0495, v_num=0, train_loss=0.0132, train_accuracy=1.000] "
     ]
    },
    {
     "name": "stderr",
     "output_type": "stream",
     "text": [
      "[2024-12-02 21:02:09] INFO (torcheeg/MainThread) \n",
      "[Train] train_loss: 0.056 train_accuracy: 0.975 \n",
      "\n"
     ]
    },
    {
     "name": "stdout",
     "output_type": "stream",
     "text": [
      "Epoch 56: 100%|██████████| 8/8 [00:00<00:00,  9.78it/s, loss=0.0533, v_num=0, train_loss=0.0512, train_accuracy=1.000]"
     ]
    },
    {
     "name": "stderr",
     "output_type": "stream",
     "text": [
      "[2024-12-02 21:02:13] INFO (torcheeg/MainThread) \n",
      "[Train] train_loss: 0.038 train_accuracy: 0.983 \n",
      "\n"
     ]
    },
    {
     "name": "stdout",
     "output_type": "stream",
     "text": [
      "Epoch 57: 100%|██████████| 8/8 [00:00<00:00,  9.85it/s, loss=0.05, v_num=0, train_loss=0.0147, train_accuracy=1.000]   "
     ]
    },
    {
     "name": "stderr",
     "output_type": "stream",
     "text": [
      "[2024-12-02 21:02:18] INFO (torcheeg/MainThread) \n",
      "[Train] train_loss: 0.041 train_accuracy: 0.988 \n",
      "\n"
     ]
    },
    {
     "name": "stdout",
     "output_type": "stream",
     "text": [
      "Epoch 58: 100%|██████████| 8/8 [00:00<00:00,  9.90it/s, loss=0.0421, v_num=0, train_loss=0.00765, train_accuracy=1.000]"
     ]
    },
    {
     "name": "stderr",
     "output_type": "stream",
     "text": [
      "[2024-12-02 21:02:22] INFO (torcheeg/MainThread) \n",
      "[Train] train_loss: 0.035 train_accuracy: 0.988 \n",
      "\n"
     ]
    },
    {
     "name": "stdout",
     "output_type": "stream",
     "text": [
      "Epoch 59: 100%|██████████| 8/8 [00:00<00:00,  9.92it/s, loss=0.0322, v_num=0, train_loss=0.00917, train_accuracy=1.000] "
     ]
    },
    {
     "name": "stderr",
     "output_type": "stream",
     "text": [
      "[2024-12-02 21:02:27] INFO (torcheeg/MainThread) \n",
      "[Train] train_loss: 0.036 train_accuracy: 0.988 \n",
      "\n"
     ]
    },
    {
     "name": "stdout",
     "output_type": "stream",
     "text": [
      "Epoch 60: 100%|██████████| 8/8 [00:00<00:00,  9.86it/s, loss=0.0331, v_num=0, train_loss=0.00104, train_accuracy=1.000]"
     ]
    },
    {
     "name": "stderr",
     "output_type": "stream",
     "text": [
      "Monitored metric train_loss did not improve in the last 20 records. Best score: 0.001. Signaling Trainer to stop.\n"
     ]
    },
    {
     "name": "stdout",
     "output_type": "stream",
     "text": [
      "Epoch 60: 100%|██████████| 8/8 [00:00<00:00,  9.84it/s, loss=0.0331, v_num=0, train_loss=0.00104, train_accuracy=1.000]"
     ]
    },
    {
     "name": "stderr",
     "output_type": "stream",
     "text": [
      "[2024-12-02 21:02:31] INFO (torcheeg/MainThread) \n",
      "[Train] train_loss: 0.031 train_accuracy: 0.992 \n",
      "\n"
     ]
    },
    {
     "name": "stdout",
     "output_type": "stream",
     "text": [
      "Epoch 60: 100%|██████████| 8/8 [00:04<00:00,  1.83it/s, loss=0.0331, v_num=0, train_loss=0.00104, train_accuracy=1.000]\n"
     ]
    },
    {
     "name": "stderr",
     "output_type": "stream",
     "text": [
      "GPU available: True (cuda), used: True\n",
      "TPU available: False, using: 0 TPU cores\n",
      "IPU available: False, using: 0 IPUs\n",
      "HPU available: False, using: 0 HPUs\n",
      "LOCAL_RANK: 0 - CUDA_VISIBLE_DEVICES: [0]\n",
      "/root/autodl-tmp/conda/envs/law/lib/python3.8/site-packages/pytorch_lightning/trainer/connectors/data_connector.py:224: PossibleUserWarning: The dataloader, test_dataloader 0, does not have many workers which may be a bottleneck. Consider increasing the value of the `num_workers` argument` (try 128 which is the number of cpus on this machine) in the `DataLoader` init to improve performance.\n",
      "  rank_zero_warn(\n"
     ]
    },
    {
     "name": "stdout",
     "output_type": "stream",
     "text": [
      "Testing DataLoader 0: 100%|██████████| 2/2 [00:00<00:00, 39.41it/s]"
     ]
    },
    {
     "name": "stderr",
     "output_type": "stream",
     "text": [
      "[2024-12-02 21:02:32] INFO (torcheeg/MainThread) \n",
      "[Test] test_loss: 2.106 test_accuracy: 0.725 \n",
      "\n"
     ]
    },
    {
     "name": "stdout",
     "output_type": "stream",
     "text": [
      "Testing DataLoader 0: 100%|██████████| 2/2 [00:00<00:00, 34.51it/s]\n",
      "────────────────────────────────────────────────────────────────────────────────────────────────────────────────────────\n",
      "       Test metric             DataLoader 0\n",
      "────────────────────────────────────────────────────────────────────────────────────────────────────────────────────────\n",
      "      test_accuracy         0.7250000238418579\n",
      "        test_loss            2.106156587600708\n",
      "────────────────────────────────────────────────────────────────────────────────────────────────────────────────────────\n",
      "已删除文件夹: /root/autodl-tmp/.autodl/kinlaw/mi_swin/lightning_logs\n"
     ]
    },
    {
     "name": "stderr",
     "output_type": "stream",
     "text": [
      "GPU available: True (cuda), used: True\n",
      "TPU available: False, using: 0 TPU cores\n",
      "IPU available: False, using: 0 IPUs\n",
      "HPU available: False, using: 0 HPUs\n",
      "Missing logger folder: /root/autodl-tmp/.autodl/kinlaw/mi_swin/lightning_logs\n",
      "LOCAL_RANK: 0 - CUDA_VISIBLE_DEVICES: [0]\n",
      "/root/autodl-tmp/conda/envs/law/lib/python3.8/site-packages/pytorch_lightning/trainer/connectors/data_connector.py:224: PossibleUserWarning: The dataloader, train_dataloader, does not have many workers which may be a bottleneck. Consider increasing the value of the `num_workers` argument` (try 128 which is the number of cpus on this machine) in the `DataLoader` init to improve performance.\n",
      "  rank_zero_warn(\n",
      "/root/autodl-tmp/conda/envs/law/lib/python3.8/site-packages/pytorch_lightning/trainer/trainer.py:1609: PossibleUserWarning: The number of training batches (7) is smaller than the logging interval Trainer(log_every_n_steps=50). Set a lower value for log_every_n_steps if you want to see logs for the training epoch.\n",
      "  rank_zero_warn(\n"
     ]
    },
    {
     "name": "stdout",
     "output_type": "stream",
     "text": [
      "Epoch 0: 100%|██████████| 7/7 [00:00<00:00,  9.69it/s, loss=1.9, v_num=0, train_loss=1.180, train_accuracy=0.250]  "
     ]
    },
    {
     "name": "stderr",
     "output_type": "stream",
     "text": [
      "Metric train_loss improved. New best score: 1.183\n"
     ]
    },
    {
     "name": "stdout",
     "output_type": "stream",
     "text": [
      "Epoch 0: 100%|██████████| 7/7 [00:00<00:00,  9.67it/s, loss=1.9, v_num=0, train_loss=1.180, train_accuracy=0.250]"
     ]
    },
    {
     "name": "stderr",
     "output_type": "stream",
     "text": [
      "[2024-12-02 21:02:39] INFO (torcheeg/MainThread) \n",
      "[Train] train_loss: 1.897 train_accuracy: 0.500 \n",
      "\n"
     ]
    },
    {
     "name": "stdout",
     "output_type": "stream",
     "text": [
      "Epoch 1: 100%|██████████| 7/7 [00:00<00:00,  9.96it/s, loss=1.17, v_num=0, train_loss=0.387, train_accuracy=0.750]"
     ]
    },
    {
     "name": "stderr",
     "output_type": "stream",
     "text": [
      "Metric train_loss improved by 0.796 >= min_delta = 0.0. New best score: 0.387\n"
     ]
    },
    {
     "name": "stdout",
     "output_type": "stream",
     "text": [
      "Epoch 1: 100%|██████████| 7/7 [00:00<00:00,  9.93it/s, loss=1.17, v_num=0, train_loss=0.387, train_accuracy=0.750]"
     ]
    },
    {
     "name": "stderr",
     "output_type": "stream",
     "text": [
      "[2024-12-02 21:02:43] INFO (torcheeg/MainThread) \n",
      "[Train] train_loss: 0.436 train_accuracy: 0.775 \n",
      "\n"
     ]
    },
    {
     "name": "stdout",
     "output_type": "stream",
     "text": [
      "Epoch 2: 100%|██████████| 7/7 [00:00<00:00, 10.05it/s, loss=0.862, v_num=0, train_loss=0.227, train_accuracy=0.875]"
     ]
    },
    {
     "name": "stderr",
     "output_type": "stream",
     "text": [
      "Metric train_loss improved by 0.160 >= min_delta = 0.0. New best score: 0.227\n"
     ]
    },
    {
     "name": "stdout",
     "output_type": "stream",
     "text": [
      "Epoch 2: 100%|██████████| 7/7 [00:00<00:00, 10.03it/s, loss=0.862, v_num=0, train_loss=0.227, train_accuracy=0.875]"
     ]
    },
    {
     "name": "stderr",
     "output_type": "stream",
     "text": [
      "[2024-12-02 21:02:48] INFO (torcheeg/MainThread) \n",
      "[Train] train_loss: 0.251 train_accuracy: 0.895 \n",
      "\n"
     ]
    },
    {
     "name": "stdout",
     "output_type": "stream",
     "text": [
      "Epoch 3: 100%|██████████| 7/7 [00:00<00:00,  9.99it/s, loss=0.295, v_num=0, train_loss=0.204, train_accuracy=0.875] "
     ]
    },
    {
     "name": "stderr",
     "output_type": "stream",
     "text": [
      "Metric train_loss improved by 0.023 >= min_delta = 0.0. New best score: 0.204\n"
     ]
    },
    {
     "name": "stdout",
     "output_type": "stream",
     "text": [
      "Epoch 3: 100%|██████████| 7/7 [00:00<00:00,  9.97it/s, loss=0.295, v_num=0, train_loss=0.204, train_accuracy=0.875]"
     ]
    },
    {
     "name": "stderr",
     "output_type": "stream",
     "text": [
      "[2024-12-02 21:02:52] INFO (torcheeg/MainThread) \n",
      "[Train] train_loss: 0.204 train_accuracy: 0.925 \n",
      "\n"
     ]
    },
    {
     "name": "stdout",
     "output_type": "stream",
     "text": [
      "Epoch 4: 100%|██████████| 7/7 [00:00<00:00,  9.79it/s, loss=0.171, v_num=0, train_loss=0.000363, train_accuracy=1.000]"
     ]
    },
    {
     "name": "stderr",
     "output_type": "stream",
     "text": [
      "Metric train_loss improved by 0.204 >= min_delta = 0.0. New best score: 0.000\n"
     ]
    },
    {
     "name": "stdout",
     "output_type": "stream",
     "text": [
      "Epoch 4: 100%|██████████| 7/7 [00:00<00:00,  9.76it/s, loss=0.171, v_num=0, train_loss=0.000363, train_accuracy=1.000]"
     ]
    },
    {
     "name": "stderr",
     "output_type": "stream",
     "text": [
      "[2024-12-02 21:02:56] INFO (torcheeg/MainThread) \n",
      "[Train] train_loss: 0.060 train_accuracy: 0.975 \n",
      "\n"
     ]
    },
    {
     "name": "stdout",
     "output_type": "stream",
     "text": [
      "Epoch 5: 100%|██████████| 7/7 [00:00<00:00,  9.75it/s, loss=0.102, v_num=0, train_loss=0.000194, train_accuracy=1.000]"
     ]
    },
    {
     "name": "stderr",
     "output_type": "stream",
     "text": [
      "Metric train_loss improved by 0.000 >= min_delta = 0.0. New best score: 0.000\n"
     ]
    },
    {
     "name": "stdout",
     "output_type": "stream",
     "text": [
      "Epoch 5: 100%|██████████| 7/7 [00:00<00:00,  9.73it/s, loss=0.102, v_num=0, train_loss=0.000194, train_accuracy=1.000]"
     ]
    },
    {
     "name": "stderr",
     "output_type": "stream",
     "text": [
      "[2024-12-02 21:03:01] INFO (torcheeg/MainThread) \n",
      "[Train] train_loss: 0.070 train_accuracy: 0.980 \n",
      "\n"
     ]
    },
    {
     "name": "stdout",
     "output_type": "stream",
     "text": [
      "Epoch 6: 100%|██████████| 7/7 [00:00<00:00,  9.82it/s, loss=0.0674, v_num=0, train_loss=0.0202, train_accuracy=1.000]  "
     ]
    },
    {
     "name": "stderr",
     "output_type": "stream",
     "text": [
      "[2024-12-02 21:03:05] INFO (torcheeg/MainThread) \n",
      "[Train] train_loss: 0.082 train_accuracy: 0.975 \n",
      "\n"
     ]
    },
    {
     "name": "stdout",
     "output_type": "stream",
     "text": [
      "Epoch 7: 100%|██████████| 7/7 [00:00<00:00,  9.99it/s, loss=0.0624, v_num=0, train_loss=0.000369, train_accuracy=1.000]"
     ]
    },
    {
     "name": "stderr",
     "output_type": "stream",
     "text": [
      "[2024-12-02 21:03:10] INFO (torcheeg/MainThread) \n",
      "[Train] train_loss: 0.036 train_accuracy: 0.985 \n",
      "\n"
     ]
    },
    {
     "name": "stdout",
     "output_type": "stream",
     "text": [
      "Epoch 8: 100%|██████████| 7/7 [00:00<00:00,  9.99it/s, loss=0.0473, v_num=0, train_loss=0.00956, train_accuracy=1.000] "
     ]
    },
    {
     "name": "stderr",
     "output_type": "stream",
     "text": [
      "[2024-12-02 21:03:14] INFO (torcheeg/MainThread) \n",
      "[Train] train_loss: 0.035 train_accuracy: 0.980 \n",
      "\n"
     ]
    },
    {
     "name": "stdout",
     "output_type": "stream",
     "text": [
      "Epoch 9: 100%|██████████| 7/7 [00:00<00:00,  9.83it/s, loss=0.0255, v_num=0, train_loss=0.000162, train_accuracy=1.000]"
     ]
    },
    {
     "name": "stderr",
     "output_type": "stream",
     "text": [
      "Metric train_loss improved by 0.000 >= min_delta = 0.0. New best score: 0.000\n"
     ]
    },
    {
     "name": "stdout",
     "output_type": "stream",
     "text": [
      "Epoch 9: 100%|██████████| 7/7 [00:00<00:00,  9.81it/s, loss=0.0255, v_num=0, train_loss=0.000162, train_accuracy=1.000]"
     ]
    },
    {
     "name": "stderr",
     "output_type": "stream",
     "text": [
      "[2024-12-02 21:03:19] INFO (torcheeg/MainThread) \n",
      "[Train] train_loss: 0.004 train_accuracy: 1.000 \n",
      "\n"
     ]
    },
    {
     "name": "stdout",
     "output_type": "stream",
     "text": [
      "Epoch 10: 100%|██████████| 7/7 [00:00<00:00,  9.93it/s, loss=0.0179, v_num=0, train_loss=0.0188, train_accuracy=1.000]  "
     ]
    },
    {
     "name": "stderr",
     "output_type": "stream",
     "text": [
      "[2024-12-02 21:03:23] INFO (torcheeg/MainThread) \n",
      "[Train] train_loss: 0.014 train_accuracy: 0.995 \n",
      "\n"
     ]
    },
    {
     "name": "stdout",
     "output_type": "stream",
     "text": [
      "Epoch 11: 100%|██████████| 7/7 [00:00<00:00,  9.92it/s, loss=0.0235, v_num=0, train_loss=1.58e-6, train_accuracy=1.000] "
     ]
    },
    {
     "name": "stderr",
     "output_type": "stream",
     "text": [
      "Metric train_loss improved by 0.000 >= min_delta = 0.0. New best score: 0.000\n"
     ]
    },
    {
     "name": "stdout",
     "output_type": "stream",
     "text": [
      "Epoch 11: 100%|██████████| 7/7 [00:00<00:00,  9.89it/s, loss=0.0235, v_num=0, train_loss=1.58e-6, train_accuracy=1.000]"
     ]
    },
    {
     "name": "stderr",
     "output_type": "stream",
     "text": [
      "[2024-12-02 21:03:28] INFO (torcheeg/MainThread) \n",
      "[Train] train_loss: 0.051 train_accuracy: 0.985 \n",
      "\n"
     ]
    },
    {
     "name": "stdout",
     "output_type": "stream",
     "text": [
      "Epoch 12: 100%|██████████| 7/7 [00:00<00:00,  9.83it/s, loss=0.0281, v_num=0, train_loss=0.0034, train_accuracy=1.000] "
     ]
    },
    {
     "name": "stderr",
     "output_type": "stream",
     "text": [
      "[2024-12-02 21:03:32] INFO (torcheeg/MainThread) \n",
      "[Train] train_loss: 0.016 train_accuracy: 0.990 \n",
      "\n"
     ]
    },
    {
     "name": "stdout",
     "output_type": "stream",
     "text": [
      "Epoch 13: 100%|██████████| 7/7 [00:00<00:00,  9.78it/s, loss=0.0261, v_num=0, train_loss=0.0141, train_accuracy=1.000]  "
     ]
    },
    {
     "name": "stderr",
     "output_type": "stream",
     "text": [
      "[2024-12-02 21:03:36] INFO (torcheeg/MainThread) \n",
      "[Train] train_loss: 0.008 train_accuracy: 1.000 \n",
      "\n"
     ]
    },
    {
     "name": "stdout",
     "output_type": "stream",
     "text": [
      "Epoch 14: 100%|██████████| 7/7 [00:00<00:00,  9.90it/s, loss=0.0193, v_num=0, train_loss=7.85e-6, train_accuracy=1.000] "
     ]
    },
    {
     "name": "stderr",
     "output_type": "stream",
     "text": [
      "[2024-12-02 21:03:40] INFO (torcheeg/MainThread) \n",
      "[Train] train_loss: 0.033 train_accuracy: 0.985 \n",
      "\n"
     ]
    },
    {
     "name": "stdout",
     "output_type": "stream",
     "text": [
      "Epoch 15: 100%|██████████| 7/7 [00:00<00:00,  9.85it/s, loss=0.0644, v_num=0, train_loss=0.282, train_accuracy=0.875]  "
     ]
    },
    {
     "name": "stderr",
     "output_type": "stream",
     "text": [
      "[2024-12-02 21:03:45] INFO (torcheeg/MainThread) \n",
      "[Train] train_loss: 0.144 train_accuracy: 0.975 \n",
      "\n"
     ]
    },
    {
     "name": "stdout",
     "output_type": "stream",
     "text": [
      "Epoch 16: 100%|██████████| 7/7 [00:00<00:00,  9.84it/s, loss=0.128, v_num=0, train_loss=0.0275, train_accuracy=1.000] "
     ]
    },
    {
     "name": "stderr",
     "output_type": "stream",
     "text": [
      "[2024-12-02 21:03:49] INFO (torcheeg/MainThread) \n",
      "[Train] train_loss: 0.193 train_accuracy: 0.950 \n",
      "\n"
     ]
    },
    {
     "name": "stdout",
     "output_type": "stream",
     "text": [
      "Epoch 17: 100%|██████████| 7/7 [00:00<00:00, 10.02it/s, loss=0.139, v_num=0, train_loss=0.174, train_accuracy=0.875] "
     ]
    },
    {
     "name": "stderr",
     "output_type": "stream",
     "text": [
      "[2024-12-02 21:03:53] INFO (torcheeg/MainThread) \n",
      "[Train] train_loss: 0.120 train_accuracy: 0.960 \n",
      "\n"
     ]
    },
    {
     "name": "stdout",
     "output_type": "stream",
     "text": [
      "Epoch 18: 100%|██████████| 7/7 [00:00<00:00,  9.71it/s, loss=0.148, v_num=0, train_loss=0.379, train_accuracy=0.875]  "
     ]
    },
    {
     "name": "stderr",
     "output_type": "stream",
     "text": [
      "[2024-12-02 21:03:58] INFO (torcheeg/MainThread) \n",
      "[Train] train_loss: 0.113 train_accuracy: 0.975 \n",
      "\n"
     ]
    },
    {
     "name": "stdout",
     "output_type": "stream",
     "text": [
      "Epoch 19: 100%|██████████| 7/7 [00:00<00:00,  9.88it/s, loss=0.0974, v_num=0, train_loss=0.00243, train_accuracy=1.000]"
     ]
    },
    {
     "name": "stderr",
     "output_type": "stream",
     "text": [
      "[2024-12-02 21:04:02] INFO (torcheeg/MainThread) \n",
      "[Train] train_loss: 0.068 train_accuracy: 0.985 \n",
      "\n"
     ]
    },
    {
     "name": "stdout",
     "output_type": "stream",
     "text": [
      "Epoch 20: 100%|██████████| 7/7 [00:00<00:00,  9.97it/s, loss=0.0832, v_num=0, train_loss=0.0148, train_accuracy=1.000] "
     ]
    },
    {
     "name": "stderr",
     "output_type": "stream",
     "text": [
      "[2024-12-02 21:04:06] INFO (torcheeg/MainThread) \n",
      "[Train] train_loss: 0.058 train_accuracy: 0.975 \n",
      "\n"
     ]
    },
    {
     "name": "stdout",
     "output_type": "stream",
     "text": [
      "Epoch 21: 100%|██████████| 7/7 [00:00<00:00,  9.88it/s, loss=0.0531, v_num=0, train_loss=0.000396, train_accuracy=1.000]"
     ]
    },
    {
     "name": "stderr",
     "output_type": "stream",
     "text": [
      "[2024-12-02 21:04:11] INFO (torcheeg/MainThread) \n",
      "[Train] train_loss: 0.031 train_accuracy: 0.985 \n",
      "\n"
     ]
    },
    {
     "name": "stdout",
     "output_type": "stream",
     "text": [
      "Epoch 22: 100%|██████████| 7/7 [00:00<00:00,  9.84it/s, loss=0.043, v_num=0, train_loss=0.0782, train_accuracy=1.000]   "
     ]
    },
    {
     "name": "stderr",
     "output_type": "stream",
     "text": [
      "[2024-12-02 21:04:15] INFO (torcheeg/MainThread) \n",
      "[Train] train_loss: 0.038 train_accuracy: 0.990 \n",
      "\n"
     ]
    },
    {
     "name": "stdout",
     "output_type": "stream",
     "text": [
      "Epoch 23: 100%|██████████| 7/7 [00:00<00:00,  9.74it/s, loss=0.0574, v_num=0, train_loss=5.1e-5, train_accuracy=1.000] "
     ]
    },
    {
     "name": "stderr",
     "output_type": "stream",
     "text": [
      "[2024-12-02 21:04:19] INFO (torcheeg/MainThread) \n",
      "[Train] train_loss: 0.099 train_accuracy: 0.980 \n",
      "\n"
     ]
    },
    {
     "name": "stdout",
     "output_type": "stream",
     "text": [
      "Epoch 24: 100%|██████████| 7/7 [00:00<00:00,  9.99it/s, loss=0.0594, v_num=0, train_loss=0.00839, train_accuracy=1.000] "
     ]
    },
    {
     "name": "stderr",
     "output_type": "stream",
     "text": [
      "[2024-12-02 21:04:24] INFO (torcheeg/MainThread) \n",
      "[Train] train_loss: 0.033 train_accuracy: 0.985 \n",
      "\n"
     ]
    },
    {
     "name": "stdout",
     "output_type": "stream",
     "text": [
      "Epoch 25: 100%|██████████| 7/7 [00:00<00:00,  9.89it/s, loss=0.0589, v_num=0, train_loss=0.000344, train_accuracy=1.000]"
     ]
    },
    {
     "name": "stderr",
     "output_type": "stream",
     "text": [
      "[2024-12-02 21:04:28] INFO (torcheeg/MainThread) \n",
      "[Train] train_loss: 0.036 train_accuracy: 0.980 \n",
      "\n"
     ]
    },
    {
     "name": "stdout",
     "output_type": "stream",
     "text": [
      "Epoch 26: 100%|██████████| 7/7 [00:00<00:00,  9.90it/s, loss=0.0315, v_num=0, train_loss=0.00211, train_accuracy=1.000] "
     ]
    },
    {
     "name": "stderr",
     "output_type": "stream",
     "text": [
      "[2024-12-02 21:04:32] INFO (torcheeg/MainThread) \n",
      "[Train] train_loss: 0.021 train_accuracy: 0.990 \n",
      "\n"
     ]
    },
    {
     "name": "stdout",
     "output_type": "stream",
     "text": [
      "Epoch 27: 100%|██████████| 7/7 [00:00<00:00,  9.86it/s, loss=0.0265, v_num=0, train_loss=0.0735, train_accuracy=1.000] "
     ]
    },
    {
     "name": "stderr",
     "output_type": "stream",
     "text": [
      "[2024-12-02 21:04:37] INFO (torcheeg/MainThread) \n",
      "[Train] train_loss: 0.047 train_accuracy: 0.980 \n",
      "\n"
     ]
    },
    {
     "name": "stdout",
     "output_type": "stream",
     "text": [
      "Epoch 28: 100%|██████████| 7/7 [00:00<00:00,  9.73it/s, loss=0.0231, v_num=0, train_loss=9.63e-5, train_accuracy=1.000] "
     ]
    },
    {
     "name": "stderr",
     "output_type": "stream",
     "text": [
      "[2024-12-02 21:04:41] INFO (torcheeg/MainThread) \n",
      "[Train] train_loss: 0.017 train_accuracy: 0.990 \n",
      "\n"
     ]
    },
    {
     "name": "stdout",
     "output_type": "stream",
     "text": [
      "Epoch 29: 100%|██████████| 7/7 [00:00<00:00,  9.90it/s, loss=0.0223, v_num=0, train_loss=0.00129, train_accuracy=1.000] "
     ]
    },
    {
     "name": "stderr",
     "output_type": "stream",
     "text": [
      "[2024-12-02 21:04:45] INFO (torcheeg/MainThread) \n",
      "[Train] train_loss: 0.026 train_accuracy: 0.995 \n",
      "\n"
     ]
    },
    {
     "name": "stdout",
     "output_type": "stream",
     "text": [
      "Epoch 30: 100%|██████████| 7/7 [00:00<00:00,  9.80it/s, loss=0.0148, v_num=0, train_loss=1.1e-5, train_accuracy=1.000] "
     ]
    },
    {
     "name": "stderr",
     "output_type": "stream",
     "text": [
      "[2024-12-02 21:04:50] INFO (torcheeg/MainThread) \n",
      "[Train] train_loss: 0.001 train_accuracy: 1.000 \n",
      "\n"
     ]
    },
    {
     "name": "stdout",
     "output_type": "stream",
     "text": [
      "Epoch 31: 100%|██████████| 7/7 [00:00<00:00,  9.87it/s, loss=0.0105, v_num=0, train_loss=0.000109, train_accuracy=1.000]"
     ]
    },
    {
     "name": "stderr",
     "output_type": "stream",
     "text": [
      "Monitored metric train_loss did not improve in the last 20 records. Best score: 0.000. Signaling Trainer to stop.\n"
     ]
    },
    {
     "name": "stdout",
     "output_type": "stream",
     "text": [
      "Epoch 31: 100%|██████████| 7/7 [00:00<00:00,  9.85it/s, loss=0.0105, v_num=0, train_loss=0.000109, train_accuracy=1.000]"
     ]
    },
    {
     "name": "stderr",
     "output_type": "stream",
     "text": [
      "[2024-12-02 21:04:54] INFO (torcheeg/MainThread) \n",
      "[Train] train_loss: 0.003 train_accuracy: 1.000 \n",
      "\n"
     ]
    },
    {
     "name": "stdout",
     "output_type": "stream",
     "text": [
      "Epoch 31: 100%|██████████| 7/7 [00:04<00:00,  1.64it/s, loss=0.0105, v_num=0, train_loss=0.000109, train_accuracy=1.000]\n"
     ]
    },
    {
     "name": "stderr",
     "output_type": "stream",
     "text": [
      "GPU available: True (cuda), used: True\n",
      "TPU available: False, using: 0 TPU cores\n",
      "IPU available: False, using: 0 IPUs\n",
      "HPU available: False, using: 0 HPUs\n",
      "LOCAL_RANK: 0 - CUDA_VISIBLE_DEVICES: [0]\n",
      "/root/autodl-tmp/conda/envs/law/lib/python3.8/site-packages/pytorch_lightning/trainer/connectors/data_connector.py:224: PossibleUserWarning: The dataloader, test_dataloader 0, does not have many workers which may be a bottleneck. Consider increasing the value of the `num_workers` argument` (try 128 which is the number of cpus on this machine) in the `DataLoader` init to improve performance.\n",
      "  rank_zero_warn(\n"
     ]
    },
    {
     "name": "stdout",
     "output_type": "stream",
     "text": [
      "Testing DataLoader 0: 100%|██████████| 3/3 [00:00<00:00, 39.48it/s]"
     ]
    },
    {
     "name": "stderr",
     "output_type": "stream",
     "text": [
      "[2024-12-02 21:04:55] INFO (torcheeg/MainThread) \n",
      "[Test] test_loss: 2.334 test_accuracy: 0.725 \n",
      "\n"
     ]
    },
    {
     "name": "stdout",
     "output_type": "stream",
     "text": [
      "Testing DataLoader 0: 100%|██████████| 3/3 [00:00<00:00, 36.77it/s]\n",
      "────────────────────────────────────────────────────────────────────────────────────────────────────────────────────────\n",
      "       Test metric             DataLoader 0\n",
      "────────────────────────────────────────────────────────────────────────────────────────────────────────────────────────\n",
      "      test_accuracy         0.7250000238418579\n",
      "        test_loss            2.333575963973999\n",
      "────────────────────────────────────────────────────────────────────────────────────────────────────────────────────────\n",
      "已删除文件夹: /root/autodl-tmp/.autodl/kinlaw/mi_swin/lightning_logs\n"
     ]
    },
    {
     "name": "stderr",
     "output_type": "stream",
     "text": [
      "GPU available: True (cuda), used: True\n",
      "TPU available: False, using: 0 TPU cores\n",
      "IPU available: False, using: 0 IPUs\n",
      "HPU available: False, using: 0 HPUs\n",
      "Missing logger folder: /root/autodl-tmp/.autodl/kinlaw/mi_swin/lightning_logs\n",
      "LOCAL_RANK: 0 - CUDA_VISIBLE_DEVICES: [0]\n",
      "/root/autodl-tmp/conda/envs/law/lib/python3.8/site-packages/pytorch_lightning/trainer/connectors/data_connector.py:224: PossibleUserWarning: The dataloader, train_dataloader, does not have many workers which may be a bottleneck. Consider increasing the value of the `num_workers` argument` (try 128 which is the number of cpus on this machine) in the `DataLoader` init to improve performance.\n",
      "  rank_zero_warn(\n",
      "/root/autodl-tmp/conda/envs/law/lib/python3.8/site-packages/pytorch_lightning/trainer/trainer.py:1609: PossibleUserWarning: The number of training batches (7) is smaller than the logging interval Trainer(log_every_n_steps=50). Set a lower value for log_every_n_steps if you want to see logs for the training epoch.\n",
      "  rank_zero_warn(\n"
     ]
    },
    {
     "name": "stdout",
     "output_type": "stream",
     "text": [
      "Epoch 0: 100%|██████████| 7/7 [00:00<00:00,  9.53it/s, loss=3.11, v_num=0, train_loss=2.220, train_accuracy=0.125] "
     ]
    },
    {
     "name": "stderr",
     "output_type": "stream",
     "text": [
      "Metric train_loss improved. New best score: 2.219\n"
     ]
    },
    {
     "name": "stdout",
     "output_type": "stream",
     "text": [
      "Epoch 0: 100%|██████████| 7/7 [00:00<00:00,  9.50it/s, loss=3.11, v_num=0, train_loss=2.220, train_accuracy=0.125]"
     ]
    },
    {
     "name": "stderr",
     "output_type": "stream",
     "text": [
      "[2024-12-02 21:05:02] INFO (torcheeg/MainThread) \n",
      "[Train] train_loss: 3.106 train_accuracy: 0.490 \n",
      "\n"
     ]
    },
    {
     "name": "stdout",
     "output_type": "stream",
     "text": [
      "Epoch 1: 100%|██████████| 7/7 [00:00<00:00,  9.94it/s, loss=1.87, v_num=0, train_loss=0.569, train_accuracy=0.750]"
     ]
    },
    {
     "name": "stderr",
     "output_type": "stream",
     "text": [
      "Metric train_loss improved by 1.649 >= min_delta = 0.0. New best score: 0.569\n"
     ]
    },
    {
     "name": "stdout",
     "output_type": "stream",
     "text": [
      "Epoch 1: 100%|██████████| 7/7 [00:00<00:00,  9.91it/s, loss=1.87, v_num=0, train_loss=0.569, train_accuracy=0.750]"
     ]
    },
    {
     "name": "stderr",
     "output_type": "stream",
     "text": [
      "[2024-12-02 21:05:07] INFO (torcheeg/MainThread) \n",
      "[Train] train_loss: 0.624 train_accuracy: 0.655 \n",
      "\n"
     ]
    },
    {
     "name": "stdout",
     "output_type": "stream",
     "text": [
      "Epoch 2: 100%|██████████| 7/7 [00:00<00:00,  9.87it/s, loss=1.43, v_num=0, train_loss=0.741, train_accuracy=0.750]"
     ]
    },
    {
     "name": "stderr",
     "output_type": "stream",
     "text": [
      "[2024-12-02 21:05:12] INFO (torcheeg/MainThread) \n",
      "[Train] train_loss: 0.466 train_accuracy: 0.800 \n",
      "\n"
     ]
    },
    {
     "name": "stdout",
     "output_type": "stream",
     "text": [
      "Epoch 3: 100%|██████████| 7/7 [00:00<00:00,  9.90it/s, loss=0.448, v_num=0, train_loss=0.262, train_accuracy=0.750] "
     ]
    },
    {
     "name": "stderr",
     "output_type": "stream",
     "text": [
      "Metric train_loss improved by 0.308 >= min_delta = 0.0. New best score: 0.262\n"
     ]
    },
    {
     "name": "stdout",
     "output_type": "stream",
     "text": [
      "Epoch 3: 100%|██████████| 7/7 [00:00<00:00,  9.87it/s, loss=0.448, v_num=0, train_loss=0.262, train_accuracy=0.750]"
     ]
    },
    {
     "name": "stderr",
     "output_type": "stream",
     "text": [
      "[2024-12-02 21:05:16] INFO (torcheeg/MainThread) \n",
      "[Train] train_loss: 0.265 train_accuracy: 0.900 \n",
      "\n"
     ]
    },
    {
     "name": "stdout",
     "output_type": "stream",
     "text": [
      "Epoch 4: 100%|██████████| 7/7 [00:00<00:00,  9.92it/s, loss=0.285, v_num=0, train_loss=0.277, train_accuracy=0.875] "
     ]
    },
    {
     "name": "stderr",
     "output_type": "stream",
     "text": [
      "[2024-12-02 21:05:21] INFO (torcheeg/MainThread) \n",
      "[Train] train_loss: 0.170 train_accuracy: 0.925 \n",
      "\n"
     ]
    },
    {
     "name": "stdout",
     "output_type": "stream",
     "text": [
      "Epoch 5: 100%|██████████| 7/7 [00:00<00:00,  9.67it/s, loss=0.166, v_num=0, train_loss=0.030, train_accuracy=1.000]  "
     ]
    },
    {
     "name": "stderr",
     "output_type": "stream",
     "text": [
      "Metric train_loss improved by 0.232 >= min_delta = 0.0. New best score: 0.030\n"
     ]
    },
    {
     "name": "stdout",
     "output_type": "stream",
     "text": [
      "Epoch 5: 100%|██████████| 7/7 [00:00<00:00,  9.64it/s, loss=0.166, v_num=0, train_loss=0.030, train_accuracy=1.000]"
     ]
    },
    {
     "name": "stderr",
     "output_type": "stream",
     "text": [
      "[2024-12-02 21:05:26] INFO (torcheeg/MainThread) \n",
      "[Train] train_loss: 0.064 train_accuracy: 0.970 \n",
      "\n"
     ]
    },
    {
     "name": "stdout",
     "output_type": "stream",
     "text": [
      "Epoch 6: 100%|██████████| 7/7 [00:00<00:00,  9.71it/s, loss=0.119, v_num=0, train_loss=0.00639, train_accuracy=1.000]"
     ]
    },
    {
     "name": "stderr",
     "output_type": "stream",
     "text": [
      "Metric train_loss improved by 0.024 >= min_delta = 0.0. New best score: 0.006\n"
     ]
    },
    {
     "name": "stdout",
     "output_type": "stream",
     "text": [
      "Epoch 6: 100%|██████████| 7/7 [00:00<00:00,  9.68it/s, loss=0.119, v_num=0, train_loss=0.00639, train_accuracy=1.000]"
     ]
    },
    {
     "name": "stderr",
     "output_type": "stream",
     "text": [
      "[2024-12-02 21:05:30] INFO (torcheeg/MainThread) \n",
      "[Train] train_loss: 0.144 train_accuracy: 0.945 \n",
      "\n"
     ]
    },
    {
     "name": "stdout",
     "output_type": "stream",
     "text": [
      "Epoch 7: 100%|██████████| 7/7 [00:00<00:00,  9.80it/s, loss=0.148, v_num=0, train_loss=0.826, train_accuracy=0.875]  "
     ]
    },
    {
     "name": "stderr",
     "output_type": "stream",
     "text": [
      "[2024-12-02 21:05:35] INFO (torcheeg/MainThread) \n",
      "[Train] train_loss: 0.234 train_accuracy: 0.945 \n",
      "\n"
     ]
    },
    {
     "name": "stdout",
     "output_type": "stream",
     "text": [
      "Epoch 8: 100%|██████████| 7/7 [00:00<00:00,  9.73it/s, loss=0.189, v_num=0, train_loss=0.249, train_accuracy=0.875] "
     ]
    },
    {
     "name": "stderr",
     "output_type": "stream",
     "text": [
      "[2024-12-02 21:05:40] INFO (torcheeg/MainThread) \n",
      "[Train] train_loss: 0.174 train_accuracy: 0.950 \n",
      "\n"
     ]
    },
    {
     "name": "stdout",
     "output_type": "stream",
     "text": [
      "Epoch 9: 100%|██████████| 7/7 [00:00<00:00,  9.69it/s, loss=0.158, v_num=0, train_loss=0.00826, train_accuracy=1.000]"
     ]
    },
    {
     "name": "stderr",
     "output_type": "stream",
     "text": [
      "[2024-12-02 21:05:44] INFO (torcheeg/MainThread) \n",
      "[Train] train_loss: 0.090 train_accuracy: 0.945 \n",
      "\n"
     ]
    },
    {
     "name": "stdout",
     "output_type": "stream",
     "text": [
      "Epoch 10: 100%|██████████| 7/7 [00:00<00:00,  9.83it/s, loss=0.106, v_num=0, train_loss=0.0155, train_accuracy=1.000] "
     ]
    },
    {
     "name": "stderr",
     "output_type": "stream",
     "text": [
      "[2024-12-02 21:05:49] INFO (torcheeg/MainThread) \n",
      "[Train] train_loss: 0.067 train_accuracy: 0.980 \n",
      "\n"
     ]
    },
    {
     "name": "stdout",
     "output_type": "stream",
     "text": [
      "Epoch 11: 100%|██████████| 7/7 [00:00<00:00,  9.84it/s, loss=0.0745, v_num=0, train_loss=0.147, train_accuracy=0.875] "
     ]
    },
    {
     "name": "stderr",
     "output_type": "stream",
     "text": [
      "[2024-12-02 21:05:54] INFO (torcheeg/MainThread) \n",
      "[Train] train_loss: 0.075 train_accuracy: 0.970 \n",
      "\n"
     ]
    },
    {
     "name": "stdout",
     "output_type": "stream",
     "text": [
      "Epoch 12: 100%|██████████| 7/7 [00:00<00:00,  9.89it/s, loss=0.0545, v_num=0, train_loss=0.0114, train_accuracy=1.000] "
     ]
    },
    {
     "name": "stderr",
     "output_type": "stream",
     "text": [
      "[2024-12-02 21:05:58] INFO (torcheeg/MainThread) \n",
      "[Train] train_loss: 0.041 train_accuracy: 0.980 \n",
      "\n"
     ]
    },
    {
     "name": "stdout",
     "output_type": "stream",
     "text": [
      "Epoch 13: 100%|██████████| 7/7 [00:00<00:00,  9.94it/s, loss=0.0575, v_num=0, train_loss=0.00938, train_accuracy=1.000]"
     ]
    },
    {
     "name": "stderr",
     "output_type": "stream",
     "text": [
      "[2024-12-02 21:06:02] INFO (torcheeg/MainThread) \n",
      "[Train] train_loss: 0.050 train_accuracy: 0.975 \n",
      "\n"
     ]
    },
    {
     "name": "stdout",
     "output_type": "stream",
     "text": [
      "Epoch 14: 100%|██████████| 7/7 [00:00<00:00,  9.91it/s, loss=0.0607, v_num=0, train_loss=0.000269, train_accuracy=1.000]"
     ]
    },
    {
     "name": "stderr",
     "output_type": "stream",
     "text": [
      "Metric train_loss improved by 0.006 >= min_delta = 0.0. New best score: 0.000\n"
     ]
    },
    {
     "name": "stdout",
     "output_type": "stream",
     "text": [
      "Epoch 14: 100%|██████████| 7/7 [00:00<00:00,  9.89it/s, loss=0.0607, v_num=0, train_loss=0.000269, train_accuracy=1.000]"
     ]
    },
    {
     "name": "stderr",
     "output_type": "stream",
     "text": [
      "[2024-12-02 21:06:07] INFO (torcheeg/MainThread) \n",
      "[Train] train_loss: 0.084 train_accuracy: 0.980 \n",
      "\n"
     ]
    },
    {
     "name": "stdout",
     "output_type": "stream",
     "text": [
      "Epoch 15: 100%|██████████| 7/7 [00:00<00:00,  9.89it/s, loss=0.0492, v_num=0, train_loss=0.00456, train_accuracy=1.000] "
     ]
    },
    {
     "name": "stderr",
     "output_type": "stream",
     "text": [
      "[2024-12-02 21:06:11] INFO (torcheeg/MainThread) \n",
      "[Train] train_loss: 0.008 train_accuracy: 1.000 \n",
      "\n"
     ]
    },
    {
     "name": "stdout",
     "output_type": "stream",
     "text": [
      "Epoch 16: 100%|██████████| 7/7 [00:00<00:00,  9.98it/s, loss=0.0642, v_num=0, train_loss=0.108, train_accuracy=0.875]  "
     ]
    },
    {
     "name": "stderr",
     "output_type": "stream",
     "text": [
      "[2024-12-02 21:06:15] INFO (torcheeg/MainThread) \n",
      "[Train] train_loss: 0.112 train_accuracy: 0.965 \n",
      "\n"
     ]
    },
    {
     "name": "stdout",
     "output_type": "stream",
     "text": [
      "Epoch 17: 100%|██████████| 7/7 [00:00<00:00,  9.84it/s, loss=0.0522, v_num=0, train_loss=0.0132, train_accuracy=1.000] "
     ]
    },
    {
     "name": "stderr",
     "output_type": "stream",
     "text": [
      "[2024-12-02 21:06:20] INFO (torcheeg/MainThread) \n",
      "[Train] train_loss: 0.030 train_accuracy: 0.995 \n",
      "\n"
     ]
    },
    {
     "name": "stdout",
     "output_type": "stream",
     "text": [
      "Epoch 18: 100%|██████████| 7/7 [00:00<00:00,  9.84it/s, loss=0.0542, v_num=0, train_loss=0.031, train_accuracy=1.000]  "
     ]
    },
    {
     "name": "stderr",
     "output_type": "stream",
     "text": [
      "[2024-12-02 21:06:24] INFO (torcheeg/MainThread) \n",
      "[Train] train_loss: 0.037 train_accuracy: 0.990 \n",
      "\n"
     ]
    },
    {
     "name": "stdout",
     "output_type": "stream",
     "text": [
      "Epoch 19: 100%|██████████| 7/7 [00:00<00:00,  9.98it/s, loss=0.0245, v_num=0, train_loss=0.000243, train_accuracy=1.000]"
     ]
    },
    {
     "name": "stderr",
     "output_type": "stream",
     "text": [
      "Metric train_loss improved by 0.000 >= min_delta = 0.0. New best score: 0.000\n"
     ]
    },
    {
     "name": "stdout",
     "output_type": "stream",
     "text": [
      "Epoch 19: 100%|██████████| 7/7 [00:00<00:00,  9.95it/s, loss=0.0245, v_num=0, train_loss=0.000243, train_accuracy=1.000]"
     ]
    },
    {
     "name": "stderr",
     "output_type": "stream",
     "text": [
      "[2024-12-02 21:06:28] INFO (torcheeg/MainThread) \n",
      "[Train] train_loss: 0.004 train_accuracy: 1.000 \n",
      "\n"
     ]
    },
    {
     "name": "stdout",
     "output_type": "stream",
     "text": [
      "Epoch 20: 100%|██████████| 7/7 [00:00<00:00,  9.87it/s, loss=0.015, v_num=0, train_loss=8.03e-5, train_accuracy=1.000]  "
     ]
    },
    {
     "name": "stderr",
     "output_type": "stream",
     "text": [
      "Metric train_loss improved by 0.000 >= min_delta = 0.0. New best score: 0.000\n"
     ]
    },
    {
     "name": "stdout",
     "output_type": "stream",
     "text": [
      "Epoch 20: 100%|██████████| 7/7 [00:00<00:00,  9.84it/s, loss=0.015, v_num=0, train_loss=8.03e-5, train_accuracy=1.000]"
     ]
    },
    {
     "name": "stderr",
     "output_type": "stream",
     "text": [
      "[2024-12-02 21:06:32] INFO (torcheeg/MainThread) \n",
      "[Train] train_loss: 0.002 train_accuracy: 1.000 \n",
      "\n"
     ]
    },
    {
     "name": "stdout",
     "output_type": "stream",
     "text": [
      "Epoch 21: 100%|██████████| 7/7 [00:00<00:00,  9.74it/s, loss=0.00639, v_num=0, train_loss=4.96e-5, train_accuracy=1.000] "
     ]
    },
    {
     "name": "stderr",
     "output_type": "stream",
     "text": [
      "Metric train_loss improved by 0.000 >= min_delta = 0.0. New best score: 0.000\n"
     ]
    },
    {
     "name": "stdout",
     "output_type": "stream",
     "text": [
      "Epoch 21: 100%|██████████| 7/7 [00:00<00:00,  9.72it/s, loss=0.00639, v_num=0, train_loss=4.96e-5, train_accuracy=1.000]"
     ]
    },
    {
     "name": "stderr",
     "output_type": "stream",
     "text": [
      "[2024-12-02 21:06:37] INFO (torcheeg/MainThread) \n",
      "[Train] train_loss: 0.012 train_accuracy: 0.995 \n",
      "\n"
     ]
    },
    {
     "name": "stdout",
     "output_type": "stream",
     "text": [
      "Epoch 22: 100%|██████████| 7/7 [00:00<00:00,  9.88it/s, loss=0.0056, v_num=0, train_loss=0.000252, train_accuracy=1.000]"
     ]
    },
    {
     "name": "stderr",
     "output_type": "stream",
     "text": [
      "[2024-12-02 21:06:41] INFO (torcheeg/MainThread) \n",
      "[Train] train_loss: 0.001 train_accuracy: 1.000 \n",
      "\n"
     ]
    },
    {
     "name": "stdout",
     "output_type": "stream",
     "text": [
      "Epoch 23: 100%|██████████| 7/7 [00:00<00:00,  9.87it/s, loss=0.00628, v_num=0, train_loss=0.000628, train_accuracy=1.000]"
     ]
    },
    {
     "name": "stderr",
     "output_type": "stream",
     "text": [
      "[2024-12-02 21:06:45] INFO (torcheeg/MainThread) \n",
      "[Train] train_loss: 0.007 train_accuracy: 0.995 \n",
      "\n"
     ]
    },
    {
     "name": "stdout",
     "output_type": "stream",
     "text": [
      "Epoch 24: 100%|██████████| 7/7 [00:00<00:00,  9.74it/s, loss=0.00479, v_num=0, train_loss=0.000258, train_accuracy=1.000]"
     ]
    },
    {
     "name": "stderr",
     "output_type": "stream",
     "text": [
      "[2024-12-02 21:06:50] INFO (torcheeg/MainThread) \n",
      "[Train] train_loss: 0.005 train_accuracy: 0.995 \n",
      "\n"
     ]
    },
    {
     "name": "stdout",
     "output_type": "stream",
     "text": [
      "Epoch 25: 100%|██████████| 7/7 [00:00<00:00,  9.98it/s, loss=0.0289, v_num=0, train_loss=9.36e-5, train_accuracy=1.000]  "
     ]
    },
    {
     "name": "stderr",
     "output_type": "stream",
     "text": [
      "[2024-12-02 21:06:54] INFO (torcheeg/MainThread) \n",
      "[Train] train_loss: 0.072 train_accuracy: 0.985 \n",
      "\n"
     ]
    },
    {
     "name": "stdout",
     "output_type": "stream",
     "text": [
      "Epoch 26: 100%|██████████| 7/7 [00:00<00:00,  9.89it/s, loss=0.0281, v_num=0, train_loss=2.29e-5, train_accuracy=1.000] "
     ]
    },
    {
     "name": "stderr",
     "output_type": "stream",
     "text": [
      "Metric train_loss improved by 0.000 >= min_delta = 0.0. New best score: 0.000\n"
     ]
    },
    {
     "name": "stdout",
     "output_type": "stream",
     "text": [
      "Epoch 26: 100%|██████████| 7/7 [00:00<00:00,  9.86it/s, loss=0.0281, v_num=0, train_loss=2.29e-5, train_accuracy=1.000]"
     ]
    },
    {
     "name": "stderr",
     "output_type": "stream",
     "text": [
      "[2024-12-02 21:06:58] INFO (torcheeg/MainThread) \n",
      "[Train] train_loss: 0.004 train_accuracy: 1.000 \n",
      "\n"
     ]
    },
    {
     "name": "stdout",
     "output_type": "stream",
     "text": [
      "Epoch 27: 100%|██████████| 7/7 [00:00<00:00,  9.95it/s, loss=0.0273, v_num=0, train_loss=0.00032, train_accuracy=1.000] "
     ]
    },
    {
     "name": "stderr",
     "output_type": "stream",
     "text": [
      "[2024-12-02 21:07:02] INFO (torcheeg/MainThread) \n",
      "[Train] train_loss: 0.003 train_accuracy: 1.000 \n",
      "\n"
     ]
    },
    {
     "name": "stdout",
     "output_type": "stream",
     "text": [
      "Epoch 28: 100%|██████████| 7/7 [00:00<00:00,  9.73it/s, loss=0.00718, v_num=0, train_loss=0.000413, train_accuracy=1.000]"
     ]
    },
    {
     "name": "stderr",
     "output_type": "stream",
     "text": [
      "[2024-12-02 21:07:07] INFO (torcheeg/MainThread) \n",
      "[Train] train_loss: 0.014 train_accuracy: 0.995 \n",
      "\n"
     ]
    },
    {
     "name": "stdout",
     "output_type": "stream",
     "text": [
      "Epoch 29: 100%|██████████| 7/7 [00:00<00:00,  9.84it/s, loss=0.0122, v_num=0, train_loss=0.00258, train_accuracy=1.000]  "
     ]
    },
    {
     "name": "stderr",
     "output_type": "stream",
     "text": [
      "[2024-12-02 21:07:11] INFO (torcheeg/MainThread) \n",
      "[Train] train_loss: 0.018 train_accuracy: 0.990 \n",
      "\n"
     ]
    },
    {
     "name": "stdout",
     "output_type": "stream",
     "text": [
      "Epoch 30: 100%|██████████| 7/7 [00:00<00:00,  9.93it/s, loss=0.0162, v_num=0, train_loss=0.000356, train_accuracy=1.000]"
     ]
    },
    {
     "name": "stderr",
     "output_type": "stream",
     "text": [
      "[2024-12-02 21:07:15] INFO (torcheeg/MainThread) \n",
      "[Train] train_loss: 0.014 train_accuracy: 0.995 \n",
      "\n"
     ]
    },
    {
     "name": "stdout",
     "output_type": "stream",
     "text": [
      "Epoch 31: 100%|██████████| 7/7 [00:00<00:00,  9.82it/s, loss=0.0125, v_num=0, train_loss=0.00818, train_accuracy=1.000] "
     ]
    },
    {
     "name": "stderr",
     "output_type": "stream",
     "text": [
      "[2024-12-02 21:07:20] INFO (torcheeg/MainThread) \n",
      "[Train] train_loss: 0.003 train_accuracy: 1.000 \n",
      "\n"
     ]
    },
    {
     "name": "stdout",
     "output_type": "stream",
     "text": [
      "Epoch 32: 100%|██████████| 7/7 [00:00<00:00,  9.86it/s, loss=0.00913, v_num=0, train_loss=0.00025, train_accuracy=1.000]"
     ]
    },
    {
     "name": "stderr",
     "output_type": "stream",
     "text": [
      "[2024-12-02 21:07:24] INFO (torcheeg/MainThread) \n",
      "[Train] train_loss: 0.009 train_accuracy: 0.995 \n",
      "\n"
     ]
    },
    {
     "name": "stdout",
     "output_type": "stream",
     "text": [
      "Epoch 33: 100%|██████████| 7/7 [00:00<00:00, 10.01it/s, loss=0.0165, v_num=0, train_loss=0.000225, train_accuracy=1.000]"
     ]
    },
    {
     "name": "stderr",
     "output_type": "stream",
     "text": [
      "[2024-12-02 21:07:28] INFO (torcheeg/MainThread) \n",
      "[Train] train_loss: 0.035 train_accuracy: 0.990 \n",
      "\n"
     ]
    },
    {
     "name": "stdout",
     "output_type": "stream",
     "text": [
      "Epoch 34: 100%|██████████| 7/7 [00:00<00:00,  9.81it/s, loss=0.017, v_num=0, train_loss=0.000464, train_accuracy=1.000] "
     ]
    },
    {
     "name": "stderr",
     "output_type": "stream",
     "text": [
      "[2024-12-02 21:07:33] INFO (torcheeg/MainThread) \n",
      "[Train] train_loss: 0.006 train_accuracy: 1.000 \n",
      "\n"
     ]
    },
    {
     "name": "stdout",
     "output_type": "stream",
     "text": [
      "Epoch 35: 100%|██████████| 7/7 [00:00<00:00,  9.96it/s, loss=0.0118, v_num=0, train_loss=0.00168, train_accuracy=1.000]"
     ]
    },
    {
     "name": "stderr",
     "output_type": "stream",
     "text": [
      "[2024-12-02 21:07:37] INFO (torcheeg/MainThread) \n",
      "[Train] train_loss: 0.018 train_accuracy: 0.990 \n",
      "\n"
     ]
    },
    {
     "name": "stdout",
     "output_type": "stream",
     "text": [
      "Epoch 36: 100%|██████████| 7/7 [00:00<00:00,  9.92it/s, loss=0.00926, v_num=0, train_loss=0.00247, train_accuracy=1.000]"
     ]
    },
    {
     "name": "stderr",
     "output_type": "stream",
     "text": [
      "[2024-12-02 21:07:41] INFO (torcheeg/MainThread) \n",
      "[Train] train_loss: 0.003 train_accuracy: 1.000 \n",
      "\n"
     ]
    },
    {
     "name": "stdout",
     "output_type": "stream",
     "text": [
      "Epoch 37: 100%|██████████| 7/7 [00:00<00:00,  9.95it/s, loss=0.00918, v_num=0, train_loss=0.00103, train_accuracy=1.000]"
     ]
    },
    {
     "name": "stderr",
     "output_type": "stream",
     "text": [
      "[2024-12-02 21:07:46] INFO (torcheeg/MainThread) \n",
      "[Train] train_loss: 0.005 train_accuracy: 1.000 \n",
      "\n"
     ]
    },
    {
     "name": "stdout",
     "output_type": "stream",
     "text": [
      "Epoch 38: 100%|██████████| 7/7 [00:00<00:00,  9.97it/s, loss=0.00569, v_num=0, train_loss=0.0193, train_accuracy=1.000]  "
     ]
    },
    {
     "name": "stderr",
     "output_type": "stream",
     "text": [
      "[2024-12-02 21:07:50] INFO (torcheeg/MainThread) \n",
      "[Train] train_loss: 0.008 train_accuracy: 0.995 \n",
      "\n"
     ]
    },
    {
     "name": "stdout",
     "output_type": "stream",
     "text": [
      "Epoch 39: 100%|██████████| 7/7 [00:00<00:00,  9.84it/s, loss=0.0048, v_num=0, train_loss=3.82e-5, train_accuracy=1.000]  "
     ]
    },
    {
     "name": "stderr",
     "output_type": "stream",
     "text": [
      "[2024-12-02 21:07:54] INFO (torcheeg/MainThread) \n",
      "[Train] train_loss: 0.001 train_accuracy: 1.000 \n",
      "\n"
     ]
    },
    {
     "name": "stdout",
     "output_type": "stream",
     "text": [
      "Epoch 40: 100%|██████████| 7/7 [00:00<00:00,  9.84it/s, loss=0.015, v_num=0, train_loss=5.85e-5, train_accuracy=1.000]  "
     ]
    },
    {
     "name": "stderr",
     "output_type": "stream",
     "text": [
      "[2024-12-02 21:07:59] INFO (torcheeg/MainThread) \n",
      "[Train] train_loss: 0.034 train_accuracy: 0.995 \n",
      "\n"
     ]
    },
    {
     "name": "stdout",
     "output_type": "stream",
     "text": [
      "Epoch 41: 100%|██████████| 7/7 [00:00<00:00,  9.98it/s, loss=0.0146, v_num=0, train_loss=0.000542, train_accuracy=1.000]"
     ]
    },
    {
     "name": "stderr",
     "output_type": "stream",
     "text": [
      "[2024-12-02 21:08:03] INFO (torcheeg/MainThread) \n",
      "[Train] train_loss: 0.007 train_accuracy: 0.995 \n",
      "\n"
     ]
    },
    {
     "name": "stdout",
     "output_type": "stream",
     "text": [
      "Epoch 42: 100%|██████████| 7/7 [00:00<00:00,  9.78it/s, loss=0.0154, v_num=0, train_loss=0.000317, train_accuracy=1.000]"
     ]
    },
    {
     "name": "stderr",
     "output_type": "stream",
     "text": [
      "[2024-12-02 21:08:07] INFO (torcheeg/MainThread) \n",
      "[Train] train_loss: 0.004 train_accuracy: 1.000 \n",
      "\n"
     ]
    },
    {
     "name": "stdout",
     "output_type": "stream",
     "text": [
      "Epoch 43: 100%|██████████| 7/7 [00:00<00:00,  9.92it/s, loss=0.00416, v_num=0, train_loss=5.51e-7, train_accuracy=1.000] "
     ]
    },
    {
     "name": "stderr",
     "output_type": "stream",
     "text": [
      "Metric train_loss improved by 0.000 >= min_delta = 0.0. New best score: 0.000\n"
     ]
    },
    {
     "name": "stdout",
     "output_type": "stream",
     "text": [
      "Epoch 43: 100%|██████████| 7/7 [00:00<00:00,  9.90it/s, loss=0.00416, v_num=0, train_loss=5.51e-7, train_accuracy=1.000]"
     ]
    },
    {
     "name": "stderr",
     "output_type": "stream",
     "text": [
      "[2024-12-02 21:08:11] INFO (torcheeg/MainThread) \n",
      "[Train] train_loss: 0.002 train_accuracy: 1.000 \n",
      "\n"
     ]
    },
    {
     "name": "stdout",
     "output_type": "stream",
     "text": [
      "Epoch 44: 100%|██████████| 7/7 [00:00<00:00,  9.79it/s, loss=0.003, v_num=0, train_loss=2.06e-6, train_accuracy=1.000]   "
     ]
    },
    {
     "name": "stderr",
     "output_type": "stream",
     "text": [
      "[2024-12-02 21:08:16] INFO (torcheeg/MainThread) \n",
      "[Train] train_loss: 0.004 train_accuracy: 1.000 \n",
      "\n"
     ]
    },
    {
     "name": "stdout",
     "output_type": "stream",
     "text": [
      "Epoch 45: 100%|██████████| 7/7 [00:00<00:00,  9.65it/s, loss=0.00802, v_num=0, train_loss=0.000245, train_accuracy=1.000]"
     ]
    },
    {
     "name": "stderr",
     "output_type": "stream",
     "text": [
      "[2024-12-02 21:08:20] INFO (torcheeg/MainThread) \n",
      "[Train] train_loss: 0.018 train_accuracy: 0.995 \n",
      "\n"
     ]
    },
    {
     "name": "stdout",
     "output_type": "stream",
     "text": [
      "Epoch 46: 100%|██████████| 7/7 [00:00<00:00,  9.92it/s, loss=0.00806, v_num=0, train_loss=7.44e-5, train_accuracy=1.000] "
     ]
    },
    {
     "name": "stderr",
     "output_type": "stream",
     "text": [
      "[2024-12-02 21:08:25] INFO (torcheeg/MainThread) \n",
      "[Train] train_loss: 0.002 train_accuracy: 1.000 \n",
      "\n"
     ]
    },
    {
     "name": "stdout",
     "output_type": "stream",
     "text": [
      "Epoch 47: 100%|██████████| 7/7 [00:00<00:00,  9.90it/s, loss=0.00718, v_num=0, train_loss=1.53e-5, train_accuracy=1.000] "
     ]
    },
    {
     "name": "stderr",
     "output_type": "stream",
     "text": [
      "[2024-12-02 21:08:29] INFO (torcheeg/MainThread) \n",
      "[Train] train_loss: 0.001 train_accuracy: 1.000 \n",
      "\n"
     ]
    },
    {
     "name": "stdout",
     "output_type": "stream",
     "text": [
      "Epoch 48: 100%|██████████| 7/7 [00:00<00:00,  9.91it/s, loss=0.00451, v_num=0, train_loss=9.98e-5, train_accuracy=1.000]"
     ]
    },
    {
     "name": "stderr",
     "output_type": "stream",
     "text": [
      "[2024-12-02 21:08:33] INFO (torcheeg/MainThread) \n",
      "[Train] train_loss: 0.011 train_accuracy: 0.995 \n",
      "\n"
     ]
    },
    {
     "name": "stdout",
     "output_type": "stream",
     "text": [
      "Epoch 49: 100%|██████████| 7/7 [00:00<00:00,  9.93it/s, loss=0.00526, v_num=0, train_loss=0.000198, train_accuracy=1.000]"
     ]
    },
    {
     "name": "stderr",
     "output_type": "stream",
     "text": [
      "[2024-12-02 21:08:37] INFO (torcheeg/MainThread) \n",
      "[Train] train_loss: 0.003 train_accuracy: 1.000 \n",
      "\n"
     ]
    },
    {
     "name": "stdout",
     "output_type": "stream",
     "text": [
      "Epoch 50: 100%|██████████| 7/7 [00:00<00:00,  9.89it/s, loss=0.00543, v_num=0, train_loss=1.95e-6, train_accuracy=1.000] "
     ]
    },
    {
     "name": "stderr",
     "output_type": "stream",
     "text": [
      "[2024-12-02 21:08:42] INFO (torcheeg/MainThread) \n",
      "[Train] train_loss: 0.001 train_accuracy: 1.000 \n",
      "\n"
     ]
    },
    {
     "name": "stdout",
     "output_type": "stream",
     "text": [
      "Epoch 51: 100%|██████████| 7/7 [00:00<00:00,  9.97it/s, loss=0.00359, v_num=0, train_loss=0.0322, train_accuracy=1.000]  "
     ]
    },
    {
     "name": "stderr",
     "output_type": "stream",
     "text": [
      "[2024-12-02 21:08:46] INFO (torcheeg/MainThread) \n",
      "[Train] train_loss: 0.005 train_accuracy: 1.000 \n",
      "\n"
     ]
    },
    {
     "name": "stdout",
     "output_type": "stream",
     "text": [
      "Epoch 52: 100%|██████████| 7/7 [00:00<00:00,  9.84it/s, loss=0.00276, v_num=0, train_loss=4.47e-8, train_accuracy=1.000] "
     ]
    },
    {
     "name": "stderr",
     "output_type": "stream",
     "text": [
      "Metric train_loss improved by 0.000 >= min_delta = 0.0. New best score: 0.000\n"
     ]
    },
    {
     "name": "stdout",
     "output_type": "stream",
     "text": [
      "Epoch 52: 100%|██████████| 7/7 [00:00<00:00,  9.82it/s, loss=0.00276, v_num=0, train_loss=4.47e-8, train_accuracy=1.000]"
     ]
    },
    {
     "name": "stderr",
     "output_type": "stream",
     "text": [
      "[2024-12-02 21:08:50] INFO (torcheeg/MainThread) \n",
      "[Train] train_loss: 0.001 train_accuracy: 1.000 \n",
      "\n"
     ]
    },
    {
     "name": "stdout",
     "output_type": "stream",
     "text": [
      "Epoch 53: 100%|██████████| 7/7 [00:00<00:00,  9.91it/s, loss=0.00485, v_num=0, train_loss=1.71e-6, train_accuracy=1.000]"
     ]
    },
    {
     "name": "stderr",
     "output_type": "stream",
     "text": [
      "[2024-12-02 21:08:55] INFO (torcheeg/MainThread) \n",
      "[Train] train_loss: 0.007 train_accuracy: 0.995 \n",
      "\n"
     ]
    },
    {
     "name": "stdout",
     "output_type": "stream",
     "text": [
      "Epoch 54: 100%|██████████| 7/7 [00:00<00:00,  9.90it/s, loss=0.00839, v_num=0, train_loss=5.71e-6, train_accuracy=1.000] "
     ]
    },
    {
     "name": "stderr",
     "output_type": "stream",
     "text": [
      "[2024-12-02 21:08:59] INFO (torcheeg/MainThread) \n",
      "[Train] train_loss: 0.016 train_accuracy: 0.995 \n",
      "\n"
     ]
    },
    {
     "name": "stdout",
     "output_type": "stream",
     "text": [
      "Epoch 55: 100%|██████████| 7/7 [00:00<00:00,  9.96it/s, loss=0.00832, v_num=0, train_loss=7.6e-7, train_accuracy=1.000] "
     ]
    },
    {
     "name": "stderr",
     "output_type": "stream",
     "text": [
      "[2024-12-02 21:09:03] INFO (torcheeg/MainThread) \n",
      "[Train] train_loss: 0.001 train_accuracy: 1.000 \n",
      "\n"
     ]
    },
    {
     "name": "stdout",
     "output_type": "stream",
     "text": [
      "Epoch 56: 100%|██████████| 7/7 [00:00<00:00, 10.00it/s, loss=0.00665, v_num=0, train_loss=6.09e-6, train_accuracy=1.000] "
     ]
    },
    {
     "name": "stderr",
     "output_type": "stream",
     "text": [
      "[2024-12-02 21:09:07] INFO (torcheeg/MainThread) \n",
      "[Train] train_loss: 0.002 train_accuracy: 1.000 \n",
      "\n"
     ]
    },
    {
     "name": "stdout",
     "output_type": "stream",
     "text": [
      "Epoch 57: 100%|██████████| 7/7 [00:00<00:00,  9.81it/s, loss=0.0206, v_num=0, train_loss=1.61e-5, train_accuracy=1.000]  "
     ]
    },
    {
     "name": "stderr",
     "output_type": "stream",
     "text": [
      "[2024-12-02 21:09:12] INFO (torcheeg/MainThread) \n",
      "[Train] train_loss: 0.056 train_accuracy: 0.980 \n",
      "\n"
     ]
    },
    {
     "name": "stdout",
     "output_type": "stream",
     "text": [
      "Epoch 58: 100%|██████████| 7/7 [00:00<00:00,  9.89it/s, loss=0.0775, v_num=0, train_loss=0.00125, train_accuracy=1.000]"
     ]
    },
    {
     "name": "stderr",
     "output_type": "stream",
     "text": [
      "[2024-12-02 21:09:16] INFO (torcheeg/MainThread) \n",
      "[Train] train_loss: 0.164 train_accuracy: 0.955 \n",
      "\n"
     ]
    },
    {
     "name": "stdout",
     "output_type": "stream",
     "text": [
      "Epoch 59: 100%|██████████| 7/7 [00:00<00:00,  9.69it/s, loss=0.222, v_num=0, train_loss=0.227, train_accuracy=0.875]   "
     ]
    },
    {
     "name": "stderr",
     "output_type": "stream",
     "text": [
      "[2024-12-02 21:09:21] INFO (torcheeg/MainThread) \n",
      "[Train] train_loss: 0.415 train_accuracy: 0.920 \n",
      "\n"
     ]
    },
    {
     "name": "stdout",
     "output_type": "stream",
     "text": [
      "Epoch 60: 100%|██████████| 7/7 [00:00<00:00,  9.93it/s, loss=0.295, v_num=0, train_loss=0.290, train_accuracy=0.875] "
     ]
    },
    {
     "name": "stderr",
     "output_type": "stream",
     "text": [
      "[2024-12-02 21:09:25] INFO (torcheeg/MainThread) \n",
      "[Train] train_loss: 0.265 train_accuracy: 0.895 \n",
      "\n"
     ]
    },
    {
     "name": "stdout",
     "output_type": "stream",
     "text": [
      "Epoch 61: 100%|██████████| 7/7 [00:00<00:00,  9.98it/s, loss=0.321, v_num=0, train_loss=0.0755, train_accuracy=1.000]"
     ]
    },
    {
     "name": "stderr",
     "output_type": "stream",
     "text": [
      "[2024-12-02 21:09:29] INFO (torcheeg/MainThread) \n",
      "[Train] train_loss: 0.251 train_accuracy: 0.950 \n",
      "\n"
     ]
    },
    {
     "name": "stdout",
     "output_type": "stream",
     "text": [
      "Epoch 62: 100%|██████████| 7/7 [00:00<00:00,  9.98it/s, loss=0.191, v_num=0, train_loss=0.0117, train_accuracy=1.000]"
     ]
    },
    {
     "name": "stderr",
     "output_type": "stream",
     "text": [
      "[2024-12-02 21:09:33] INFO (torcheeg/MainThread) \n",
      "[Train] train_loss: 0.065 train_accuracy: 0.965 \n",
      "\n"
     ]
    },
    {
     "name": "stdout",
     "output_type": "stream",
     "text": [
      "Epoch 63: 100%|██████████| 7/7 [00:00<00:00,  9.71it/s, loss=0.144, v_num=0, train_loss=0.0784, train_accuracy=1.000] "
     ]
    },
    {
     "name": "stderr",
     "output_type": "stream",
     "text": [
      "[2024-12-02 21:09:38] INFO (torcheeg/MainThread) \n",
      "[Train] train_loss: 0.132 train_accuracy: 0.970 \n",
      "\n"
     ]
    },
    {
     "name": "stdout",
     "output_type": "stream",
     "text": [
      "Epoch 64: 100%|██████████| 7/7 [00:00<00:00,  9.77it/s, loss=0.0765, v_num=0, train_loss=0.128, train_accuracy=0.875] "
     ]
    },
    {
     "name": "stderr",
     "output_type": "stream",
     "text": [
      "[2024-12-02 21:09:42] INFO (torcheeg/MainThread) \n",
      "[Train] train_loss: 0.032 train_accuracy: 0.995 \n",
      "\n"
     ]
    },
    {
     "name": "stdout",
     "output_type": "stream",
     "text": [
      "Epoch 65: 100%|██████████| 7/7 [00:00<00:00,  9.74it/s, loss=0.0856, v_num=0, train_loss=0.00445, train_accuracy=1.000]"
     ]
    },
    {
     "name": "stderr",
     "output_type": "stream",
     "text": [
      "[2024-12-02 21:09:46] INFO (torcheeg/MainThread) \n",
      "[Train] train_loss: 0.099 train_accuracy: 0.965 \n",
      "\n"
     ]
    },
    {
     "name": "stdout",
     "output_type": "stream",
     "text": [
      "Epoch 66: 100%|██████████| 7/7 [00:00<00:00,  9.86it/s, loss=0.0743, v_num=0, train_loss=0.0143, train_accuracy=1.000] "
     ]
    },
    {
     "name": "stderr",
     "output_type": "stream",
     "text": [
      "[2024-12-02 21:09:51] INFO (torcheeg/MainThread) \n",
      "[Train] train_loss: 0.081 train_accuracy: 0.970 \n",
      "\n"
     ]
    },
    {
     "name": "stdout",
     "output_type": "stream",
     "text": [
      "Epoch 67: 100%|██████████| 7/7 [00:00<00:00,  9.92it/s, loss=0.0684, v_num=0, train_loss=0.00426, train_accuracy=1.000]"
     ]
    },
    {
     "name": "stderr",
     "output_type": "stream",
     "text": [
      "[2024-12-02 21:09:55] INFO (torcheeg/MainThread) \n",
      "[Train] train_loss: 0.032 train_accuracy: 0.990 \n",
      "\n"
     ]
    },
    {
     "name": "stdout",
     "output_type": "stream",
     "text": [
      "Epoch 68: 100%|██████████| 7/7 [00:00<00:00,  9.91it/s, loss=0.0325, v_num=0, train_loss=0.00228, train_accuracy=1.000] "
     ]
    },
    {
     "name": "stderr",
     "output_type": "stream",
     "text": [
      "[2024-12-02 21:09:59] INFO (torcheeg/MainThread) \n",
      "[Train] train_loss: 0.018 train_accuracy: 0.990 \n",
      "\n"
     ]
    },
    {
     "name": "stdout",
     "output_type": "stream",
     "text": [
      "Epoch 69: 100%|██████████| 7/7 [00:00<00:00,  9.88it/s, loss=0.0168, v_num=0, train_loss=0.000201, train_accuracy=1.000]"
     ]
    },
    {
     "name": "stderr",
     "output_type": "stream",
     "text": [
      "[2024-12-02 21:10:04] INFO (torcheeg/MainThread) \n",
      "[Train] train_loss: 0.010 train_accuracy: 0.995 \n",
      "\n"
     ]
    },
    {
     "name": "stdout",
     "output_type": "stream",
     "text": [
      "Epoch 70: 100%|██████████| 7/7 [00:00<00:00,  9.87it/s, loss=0.0107, v_num=0, train_loss=0.000239, train_accuracy=1.000]"
     ]
    },
    {
     "name": "stderr",
     "output_type": "stream",
     "text": [
      "[2024-12-02 21:10:08] INFO (torcheeg/MainThread) \n",
      "[Train] train_loss: 0.004 train_accuracy: 1.000 \n",
      "\n"
     ]
    },
    {
     "name": "stdout",
     "output_type": "stream",
     "text": [
      "Epoch 71: 100%|██████████| 7/7 [00:00<00:00,  9.88it/s, loss=0.00546, v_num=0, train_loss=0.000812, train_accuracy=1.000]"
     ]
    },
    {
     "name": "stderr",
     "output_type": "stream",
     "text": [
      "[2024-12-02 21:10:12] INFO (torcheeg/MainThread) \n",
      "[Train] train_loss: 0.003 train_accuracy: 1.000 \n",
      "\n"
     ]
    },
    {
     "name": "stdout",
     "output_type": "stream",
     "text": [
      "Epoch 72: 100%|██████████| 7/7 [00:00<00:00,  9.74it/s, loss=0.00328, v_num=0, train_loss=8.92e-5, train_accuracy=1.000] "
     ]
    },
    {
     "name": "stderr",
     "output_type": "stream",
     "text": [
      "Monitored metric train_loss did not improve in the last 20 records. Best score: 0.000. Signaling Trainer to stop.\n"
     ]
    },
    {
     "name": "stdout",
     "output_type": "stream",
     "text": [
      "Epoch 72: 100%|██████████| 7/7 [00:00<00:00,  9.72it/s, loss=0.00328, v_num=0, train_loss=8.92e-5, train_accuracy=1.000]"
     ]
    },
    {
     "name": "stderr",
     "output_type": "stream",
     "text": [
      "[2024-12-02 21:10:17] INFO (torcheeg/MainThread) \n",
      "[Train] train_loss: 0.003 train_accuracy: 1.000 \n",
      "\n"
     ]
    },
    {
     "name": "stdout",
     "output_type": "stream",
     "text": [
      "Epoch 72: 100%|██████████| 7/7 [00:04<00:00,  1.58it/s, loss=0.00328, v_num=0, train_loss=8.92e-5, train_accuracy=1.000]\n"
     ]
    },
    {
     "name": "stderr",
     "output_type": "stream",
     "text": [
      "GPU available: True (cuda), used: True\n",
      "TPU available: False, using: 0 TPU cores\n",
      "IPU available: False, using: 0 IPUs\n",
      "HPU available: False, using: 0 HPUs\n",
      "LOCAL_RANK: 0 - CUDA_VISIBLE_DEVICES: [0]\n",
      "/root/autodl-tmp/conda/envs/law/lib/python3.8/site-packages/pytorch_lightning/trainer/connectors/data_connector.py:224: PossibleUserWarning: The dataloader, test_dataloader 0, does not have many workers which may be a bottleneck. Consider increasing the value of the `num_workers` argument` (try 128 which is the number of cpus on this machine) in the `DataLoader` init to improve performance.\n",
      "  rank_zero_warn(\n"
     ]
    },
    {
     "name": "stdout",
     "output_type": "stream",
     "text": [
      "Testing DataLoader 0: 100%|██████████| 3/3 [00:00<00:00, 39.93it/s]"
     ]
    },
    {
     "name": "stderr",
     "output_type": "stream",
     "text": [
      "[2024-12-02 21:10:18] INFO (torcheeg/MainThread) \n",
      "[Test] test_loss: 1.924 test_accuracy: 0.700 \n",
      "\n"
     ]
    },
    {
     "name": "stdout",
     "output_type": "stream",
     "text": [
      "Testing DataLoader 0: 100%|██████████| 3/3 [00:00<00:00, 37.37it/s]\n",
      "────────────────────────────────────────────────────────────────────────────────────────────────────────────────────────\n",
      "       Test metric             DataLoader 0\n",
      "────────────────────────────────────────────────────────────────────────────────────────────────────────────────────────\n",
      "      test_accuracy          0.699999988079071\n",
      "        test_loss           1.9237757921218872\n",
      "────────────────────────────────────────────────────────────────────────────────────────────────────────────────────────\n",
      "已删除文件夹: /root/autodl-tmp/.autodl/kinlaw/mi_swin/lightning_logs\n"
     ]
    },
    {
     "name": "stderr",
     "output_type": "stream",
     "text": [
      "GPU available: True (cuda), used: True\n",
      "TPU available: False, using: 0 TPU cores\n",
      "IPU available: False, using: 0 IPUs\n",
      "HPU available: False, using: 0 HPUs\n",
      "Missing logger folder: /root/autodl-tmp/.autodl/kinlaw/mi_swin/lightning_logs\n",
      "LOCAL_RANK: 0 - CUDA_VISIBLE_DEVICES: [0]\n",
      "/root/autodl-tmp/conda/envs/law/lib/python3.8/site-packages/pytorch_lightning/trainer/connectors/data_connector.py:224: PossibleUserWarning: The dataloader, train_dataloader, does not have many workers which may be a bottleneck. Consider increasing the value of the `num_workers` argument` (try 128 which is the number of cpus on this machine) in the `DataLoader` init to improve performance.\n",
      "  rank_zero_warn(\n",
      "/root/autodl-tmp/conda/envs/law/lib/python3.8/site-packages/pytorch_lightning/trainer/trainer.py:1609: PossibleUserWarning: The number of training batches (7) is smaller than the logging interval Trainer(log_every_n_steps=50). Set a lower value for log_every_n_steps if you want to see logs for the training epoch.\n",
      "  rank_zero_warn(\n"
     ]
    },
    {
     "name": "stdout",
     "output_type": "stream",
     "text": [
      "Epoch 0: 100%|██████████| 7/7 [00:00<00:00,  9.62it/s, loss=1.63, v_num=0, train_loss=0.734, train_accuracy=0.625] "
     ]
    },
    {
     "name": "stderr",
     "output_type": "stream",
     "text": [
      "Metric train_loss improved. New best score: 0.734\n"
     ]
    },
    {
     "name": "stdout",
     "output_type": "stream",
     "text": [
      "Epoch 0: 100%|██████████| 7/7 [00:00<00:00,  9.60it/s, loss=1.63, v_num=0, train_loss=0.734, train_accuracy=0.625]"
     ]
    },
    {
     "name": "stderr",
     "output_type": "stream",
     "text": [
      "[2024-12-02 21:10:24] INFO (torcheeg/MainThread) \n",
      "[Train] train_loss: 1.625 train_accuracy: 0.550 \n",
      "\n"
     ]
    },
    {
     "name": "stdout",
     "output_type": "stream",
     "text": [
      "Epoch 1: 100%|██████████| 7/7 [00:00<00:00,  9.90it/s, loss=1.03, v_num=0, train_loss=0.324, train_accuracy=0.875]"
     ]
    },
    {
     "name": "stderr",
     "output_type": "stream",
     "text": [
      "Metric train_loss improved by 0.410 >= min_delta = 0.0. New best score: 0.324\n"
     ]
    },
    {
     "name": "stdout",
     "output_type": "stream",
     "text": [
      "Epoch 1: 100%|██████████| 7/7 [00:00<00:00,  9.88it/s, loss=1.03, v_num=0, train_loss=0.324, train_accuracy=0.875]"
     ]
    },
    {
     "name": "stderr",
     "output_type": "stream",
     "text": [
      "[2024-12-02 21:10:29] INFO (torcheeg/MainThread) \n",
      "[Train] train_loss: 0.442 train_accuracy: 0.780 \n",
      "\n"
     ]
    },
    {
     "name": "stdout",
     "output_type": "stream",
     "text": [
      "Epoch 2: 100%|██████████| 7/7 [00:00<00:00,  9.93it/s, loss=0.768, v_num=0, train_loss=0.0127, train_accuracy=1.000]"
     ]
    },
    {
     "name": "stderr",
     "output_type": "stream",
     "text": [
      "Metric train_loss improved by 0.311 >= min_delta = 0.0. New best score: 0.013\n"
     ]
    },
    {
     "name": "stdout",
     "output_type": "stream",
     "text": [
      "Epoch 2: 100%|██████████| 7/7 [00:00<00:00,  9.91it/s, loss=0.768, v_num=0, train_loss=0.0127, train_accuracy=1.000]"
     ]
    },
    {
     "name": "stderr",
     "output_type": "stream",
     "text": [
      "[2024-12-02 21:10:33] INFO (torcheeg/MainThread) \n",
      "[Train] train_loss: 0.240 train_accuracy: 0.870 \n",
      "\n"
     ]
    },
    {
     "name": "stdout",
     "output_type": "stream",
     "text": [
      "Epoch 3: 100%|██████████| 7/7 [00:00<00:00,  9.92it/s, loss=0.245, v_num=0, train_loss=0.00501, train_accuracy=1.000]"
     ]
    },
    {
     "name": "stderr",
     "output_type": "stream",
     "text": [
      "Metric train_loss improved by 0.008 >= min_delta = 0.0. New best score: 0.005\n"
     ]
    },
    {
     "name": "stdout",
     "output_type": "stream",
     "text": [
      "Epoch 3: 100%|██████████| 7/7 [00:00<00:00,  9.90it/s, loss=0.245, v_num=0, train_loss=0.00501, train_accuracy=1.000]"
     ]
    },
    {
     "name": "stderr",
     "output_type": "stream",
     "text": [
      "[2024-12-02 21:10:37] INFO (torcheeg/MainThread) \n",
      "[Train] train_loss: 0.086 train_accuracy: 0.960 \n",
      "\n"
     ]
    },
    {
     "name": "stdout",
     "output_type": "stream",
     "text": [
      "Epoch 4: 100%|██████████| 7/7 [00:00<00:00,  9.98it/s, loss=0.127, v_num=0, train_loss=0.233, train_accuracy=0.875]  "
     ]
    },
    {
     "name": "stderr",
     "output_type": "stream",
     "text": [
      "[2024-12-02 21:10:42] INFO (torcheeg/MainThread) \n",
      "[Train] train_loss: 0.091 train_accuracy: 0.965 \n",
      "\n"
     ]
    },
    {
     "name": "stdout",
     "output_type": "stream",
     "text": [
      "Epoch 5: 100%|██████████| 7/7 [00:00<00:00,  9.89it/s, loss=0.0845, v_num=0, train_loss=0.0825, train_accuracy=1.000]"
     ]
    },
    {
     "name": "stderr",
     "output_type": "stream",
     "text": [
      "[2024-12-02 21:10:46] INFO (torcheeg/MainThread) \n",
      "[Train] train_loss: 0.089 train_accuracy: 0.980 \n",
      "\n"
     ]
    },
    {
     "name": "stdout",
     "output_type": "stream",
     "text": [
      "Epoch 6: 100%|██████████| 7/7 [00:00<00:00,  9.89it/s, loss=0.0974, v_num=0, train_loss=0.016, train_accuracy=1.000] "
     ]
    },
    {
     "name": "stderr",
     "output_type": "stream",
     "text": [
      "[2024-12-02 21:10:50] INFO (torcheeg/MainThread) \n",
      "[Train] train_loss: 0.098 train_accuracy: 0.965 \n",
      "\n"
     ]
    },
    {
     "name": "stdout",
     "output_type": "stream",
     "text": [
      "Epoch 7: 100%|██████████| 7/7 [00:00<00:00, 10.05it/s, loss=0.0953, v_num=0, train_loss=0.00234, train_accuracy=1.000]"
     ]
    },
    {
     "name": "stderr",
     "output_type": "stream",
     "text": [
      "Metric train_loss improved by 0.003 >= min_delta = 0.0. New best score: 0.002\n"
     ]
    },
    {
     "name": "stdout",
     "output_type": "stream",
     "text": [
      "Epoch 7: 100%|██████████| 7/7 [00:00<00:00, 10.03it/s, loss=0.0953, v_num=0, train_loss=0.00234, train_accuracy=1.000]"
     ]
    },
    {
     "name": "stderr",
     "output_type": "stream",
     "text": [
      "[2024-12-02 21:10:55] INFO (torcheeg/MainThread) \n",
      "[Train] train_loss: 0.086 train_accuracy: 0.970 \n",
      "\n"
     ]
    },
    {
     "name": "stdout",
     "output_type": "stream",
     "text": [
      "Epoch 8: 100%|██████████| 7/7 [00:00<00:00,  9.75it/s, loss=0.12, v_num=0, train_loss=0.00492, train_accuracy=1.000]  "
     ]
    },
    {
     "name": "stderr",
     "output_type": "stream",
     "text": [
      "[2024-12-02 21:10:59] INFO (torcheeg/MainThread) \n",
      "[Train] train_loss: 0.173 train_accuracy: 0.950 \n",
      "\n"
     ]
    },
    {
     "name": "stdout",
     "output_type": "stream",
     "text": [
      "Epoch 9: 100%|██████████| 7/7 [00:00<00:00,  9.81it/s, loss=0.125, v_num=0, train_loss=0.0195, train_accuracy=1.000] "
     ]
    },
    {
     "name": "stderr",
     "output_type": "stream",
     "text": [
      "[2024-12-02 21:11:03] INFO (torcheeg/MainThread) \n",
      "[Train] train_loss: 0.099 train_accuracy: 0.945 \n",
      "\n"
     ]
    },
    {
     "name": "stdout",
     "output_type": "stream",
     "text": [
      "Epoch 10: 100%|██████████| 7/7 [00:00<00:00,  9.93it/s, loss=0.111, v_num=0, train_loss=0.0109, train_accuracy=1.000]"
     ]
    },
    {
     "name": "stderr",
     "output_type": "stream",
     "text": [
      "[2024-12-02 21:11:07] INFO (torcheeg/MainThread) \n",
      "[Train] train_loss: 0.096 train_accuracy: 0.960 \n",
      "\n"
     ]
    },
    {
     "name": "stdout",
     "output_type": "stream",
     "text": [
      "Epoch 11: 100%|██████████| 7/7 [00:00<00:00,  9.86it/s, loss=0.0812, v_num=0, train_loss=0.00895, train_accuracy=1.000]"
     ]
    },
    {
     "name": "stderr",
     "output_type": "stream",
     "text": [
      "[2024-12-02 21:11:12] INFO (torcheeg/MainThread) \n",
      "[Train] train_loss: 0.037 train_accuracy: 0.985 \n",
      "\n"
     ]
    },
    {
     "name": "stdout",
     "output_type": "stream",
     "text": [
      "Epoch 12: 100%|██████████| 7/7 [00:00<00:00,  9.81it/s, loss=0.0537, v_num=0, train_loss=0.000634, train_accuracy=1.000]"
     ]
    },
    {
     "name": "stderr",
     "output_type": "stream",
     "text": [
      "Metric train_loss improved by 0.002 >= min_delta = 0.0. New best score: 0.001\n"
     ]
    },
    {
     "name": "stdout",
     "output_type": "stream",
     "text": [
      "Epoch 12: 100%|██████████| 7/7 [00:00<00:00,  9.78it/s, loss=0.0537, v_num=0, train_loss=0.000634, train_accuracy=1.000]"
     ]
    },
    {
     "name": "stderr",
     "output_type": "stream",
     "text": [
      "[2024-12-02 21:11:16] INFO (torcheeg/MainThread) \n",
      "[Train] train_loss: 0.024 train_accuracy: 0.995 \n",
      "\n"
     ]
    },
    {
     "name": "stdout",
     "output_type": "stream",
     "text": [
      "Epoch 13: 100%|██████████| 7/7 [00:00<00:00,  9.89it/s, loss=0.0245, v_num=0, train_loss=0.000437, train_accuracy=1.000]"
     ]
    },
    {
     "name": "stderr",
     "output_type": "stream",
     "text": [
      "Metric train_loss improved by 0.000 >= min_delta = 0.0. New best score: 0.000\n"
     ]
    },
    {
     "name": "stdout",
     "output_type": "stream",
     "text": [
      "Epoch 13: 100%|██████████| 7/7 [00:00<00:00,  9.87it/s, loss=0.0245, v_num=0, train_loss=0.000437, train_accuracy=1.000]"
     ]
    },
    {
     "name": "stderr",
     "output_type": "stream",
     "text": [
      "[2024-12-02 21:11:20] INFO (torcheeg/MainThread) \n",
      "[Train] train_loss: 0.011 train_accuracy: 0.990 \n",
      "\n"
     ]
    },
    {
     "name": "stdout",
     "output_type": "stream",
     "text": [
      "Epoch 14: 100%|██████████| 7/7 [00:00<00:00,  9.93it/s, loss=0.0145, v_num=0, train_loss=0.000601, train_accuracy=1.000]"
     ]
    },
    {
     "name": "stderr",
     "output_type": "stream",
     "text": [
      "[2024-12-02 21:11:25] INFO (torcheeg/MainThread) \n",
      "[Train] train_loss: 0.018 train_accuracy: 0.985 \n",
      "\n"
     ]
    },
    {
     "name": "stdout",
     "output_type": "stream",
     "text": [
      "Epoch 15: 100%|██████████| 7/7 [00:00<00:00,  9.89it/s, loss=0.0112, v_num=0, train_loss=0.000594, train_accuracy=1.000]"
     ]
    },
    {
     "name": "stderr",
     "output_type": "stream",
     "text": [
      "[2024-12-02 21:11:29] INFO (torcheeg/MainThread) \n",
      "[Train] train_loss: 0.004 train_accuracy: 1.000 \n",
      "\n"
     ]
    },
    {
     "name": "stdout",
     "output_type": "stream",
     "text": [
      "Epoch 16: 100%|██████████| 7/7 [00:00<00:00,  9.98it/s, loss=0.0141, v_num=0, train_loss=2.48e-5, train_accuracy=1.000] "
     ]
    },
    {
     "name": "stderr",
     "output_type": "stream",
     "text": [
      "Metric train_loss improved by 0.000 >= min_delta = 0.0. New best score: 0.000\n"
     ]
    },
    {
     "name": "stdout",
     "output_type": "stream",
     "text": [
      "Epoch 16: 100%|██████████| 7/7 [00:00<00:00,  9.95it/s, loss=0.0141, v_num=0, train_loss=2.48e-5, train_accuracy=1.000]"
     ]
    },
    {
     "name": "stderr",
     "output_type": "stream",
     "text": [
      "[2024-12-02 21:11:33] INFO (torcheeg/MainThread) \n",
      "[Train] train_loss: 0.023 train_accuracy: 0.990 \n",
      "\n"
     ]
    },
    {
     "name": "stdout",
     "output_type": "stream",
     "text": [
      "Epoch 17: 100%|██████████| 7/7 [00:00<00:00,  9.91it/s, loss=0.0134, v_num=0, train_loss=0.000198, train_accuracy=1.000]"
     ]
    },
    {
     "name": "stderr",
     "output_type": "stream",
     "text": [
      "[2024-12-02 21:11:38] INFO (torcheeg/MainThread) \n",
      "[Train] train_loss: 0.011 train_accuracy: 0.995 \n",
      "\n"
     ]
    },
    {
     "name": "stdout",
     "output_type": "stream",
     "text": [
      "Epoch 18: 100%|██████████| 7/7 [00:00<00:00,  9.90it/s, loss=0.0461, v_num=0, train_loss=0.00696, train_accuracy=1.000] "
     ]
    },
    {
     "name": "stderr",
     "output_type": "stream",
     "text": [
      "[2024-12-02 21:11:42] INFO (torcheeg/MainThread) \n",
      "[Train] train_loss: 0.097 train_accuracy: 0.965 \n",
      "\n"
     ]
    },
    {
     "name": "stdout",
     "output_type": "stream",
     "text": [
      "Epoch 19: 100%|██████████| 7/7 [00:00<00:00,  9.67it/s, loss=0.0669, v_num=0, train_loss=0.0139, train_accuracy=1.000] "
     ]
    },
    {
     "name": "stderr",
     "output_type": "stream",
     "text": [
      "[2024-12-02 21:11:46] INFO (torcheeg/MainThread) \n",
      "[Train] train_loss: 0.082 train_accuracy: 0.980 \n",
      "\n"
     ]
    },
    {
     "name": "stdout",
     "output_type": "stream",
     "text": [
      "Epoch 20: 100%|██████████| 7/7 [00:00<00:00,  9.94it/s, loss=0.0796, v_num=0, train_loss=0.102, train_accuracy=0.875]   "
     ]
    },
    {
     "name": "stderr",
     "output_type": "stream",
     "text": [
      "[2024-12-02 21:11:50] INFO (torcheeg/MainThread) \n",
      "[Train] train_loss: 0.057 train_accuracy: 0.975 \n",
      "\n"
     ]
    },
    {
     "name": "stdout",
     "output_type": "stream",
     "text": [
      "Epoch 21: 100%|██████████| 7/7 [00:00<00:00,  9.89it/s, loss=0.0801, v_num=0, train_loss=0.0301, train_accuracy=1.000] "
     ]
    },
    {
     "name": "stderr",
     "output_type": "stream",
     "text": [
      "[2024-12-02 21:11:55] INFO (torcheeg/MainThread) \n",
      "[Train] train_loss: 0.095 train_accuracy: 0.975 \n",
      "\n"
     ]
    },
    {
     "name": "stdout",
     "output_type": "stream",
     "text": [
      "Epoch 22: 100%|██████████| 7/7 [00:00<00:00,  9.81it/s, loss=0.0611, v_num=0, train_loss=0.000625, train_accuracy=1.000]"
     ]
    },
    {
     "name": "stderr",
     "output_type": "stream",
     "text": [
      "[2024-12-02 21:11:59] INFO (torcheeg/MainThread) \n",
      "[Train] train_loss: 0.046 train_accuracy: 0.985 \n",
      "\n"
     ]
    },
    {
     "name": "stdout",
     "output_type": "stream",
     "text": [
      "Epoch 23: 100%|██████████| 7/7 [00:00<00:00,  9.82it/s, loss=0.077, v_num=0, train_loss=0.00616, train_accuracy=1.000]  "
     ]
    },
    {
     "name": "stderr",
     "output_type": "stream",
     "text": [
      "[2024-12-02 21:12:03] INFO (torcheeg/MainThread) \n",
      "[Train] train_loss: 0.087 train_accuracy: 0.970 \n",
      "\n"
     ]
    },
    {
     "name": "stdout",
     "output_type": "stream",
     "text": [
      "Epoch 24: 100%|██████████| 7/7 [00:00<00:00,  9.88it/s, loss=0.0668, v_num=0, train_loss=0.386, train_accuracy=0.875]  "
     ]
    },
    {
     "name": "stderr",
     "output_type": "stream",
     "text": [
      "[2024-12-02 21:12:08] INFO (torcheeg/MainThread) \n",
      "[Train] train_loss: 0.071 train_accuracy: 0.990 \n",
      "\n"
     ]
    },
    {
     "name": "stdout",
     "output_type": "stream",
     "text": [
      "Epoch 25: 100%|██████████| 7/7 [00:00<00:00,  9.77it/s, loss=0.0893, v_num=0, train_loss=0.00268, train_accuracy=1.000]"
     ]
    },
    {
     "name": "stderr",
     "output_type": "stream",
     "text": [
      "[2024-12-02 21:12:12] INFO (torcheeg/MainThread) \n",
      "[Train] train_loss: 0.106 train_accuracy: 0.965 \n",
      "\n"
     ]
    },
    {
     "name": "stdout",
     "output_type": "stream",
     "text": [
      "Epoch 26: 100%|██████████| 7/7 [00:00<00:00,  9.89it/s, loss=0.0745, v_num=0, train_loss=0.000497, train_accuracy=1.000]"
     ]
    },
    {
     "name": "stderr",
     "output_type": "stream",
     "text": [
      "[2024-12-02 21:12:16] INFO (torcheeg/MainThread) \n",
      "[Train] train_loss: 0.040 train_accuracy: 0.980 \n",
      "\n"
     ]
    },
    {
     "name": "stdout",
     "output_type": "stream",
     "text": [
      "Epoch 27: 100%|██████████| 7/7 [00:00<00:00,  9.80it/s, loss=0.0562, v_num=0, train_loss=0.000253, train_accuracy=1.000]"
     ]
    },
    {
     "name": "stderr",
     "output_type": "stream",
     "text": [
      "[2024-12-02 21:12:21] INFO (torcheeg/MainThread) \n",
      "[Train] train_loss: 0.016 train_accuracy: 0.990 \n",
      "\n"
     ]
    },
    {
     "name": "stdout",
     "output_type": "stream",
     "text": [
      "Epoch 28: 100%|██████████| 7/7 [00:00<00:00,  9.87it/s, loss=0.0437, v_num=0, train_loss=0.00112, train_accuracy=1.000] "
     ]
    },
    {
     "name": "stderr",
     "output_type": "stream",
     "text": [
      "[2024-12-02 21:12:25] INFO (torcheeg/MainThread) \n",
      "[Train] train_loss: 0.070 train_accuracy: 0.980 \n",
      "\n"
     ]
    },
    {
     "name": "stdout",
     "output_type": "stream",
     "text": [
      "Epoch 29: 100%|██████████| 7/7 [00:00<00:00,  9.88it/s, loss=0.0646, v_num=0, train_loss=0.406, train_accuracy=0.875]   "
     ]
    },
    {
     "name": "stderr",
     "output_type": "stream",
     "text": [
      "[2024-12-02 21:12:29] INFO (torcheeg/MainThread) \n",
      "[Train] train_loss: 0.105 train_accuracy: 0.985 \n",
      "\n"
     ]
    },
    {
     "name": "stdout",
     "output_type": "stream",
     "text": [
      "Epoch 30: 100%|██████████| 7/7 [00:00<00:00,  9.82it/s, loss=0.0825, v_num=0, train_loss=0.0759, train_accuracy=1.000]"
     ]
    },
    {
     "name": "stderr",
     "output_type": "stream",
     "text": [
      "[2024-12-02 21:12:34] INFO (torcheeg/MainThread) \n",
      "[Train] train_loss: 0.061 train_accuracy: 0.985 \n",
      "\n"
     ]
    },
    {
     "name": "stdout",
     "output_type": "stream",
     "text": [
      "Epoch 31: 100%|██████████| 7/7 [00:00<00:00,  9.81it/s, loss=0.0898, v_num=0, train_loss=0.0717, train_accuracy=1.000]"
     ]
    },
    {
     "name": "stderr",
     "output_type": "stream",
     "text": [
      "[2024-12-02 21:12:38] INFO (torcheeg/MainThread) \n",
      "[Train] train_loss: 0.091 train_accuracy: 0.970 \n",
      "\n"
     ]
    },
    {
     "name": "stdout",
     "output_type": "stream",
     "text": [
      "Epoch 32: 100%|██████████| 7/7 [00:00<00:00,  9.91it/s, loss=0.062, v_num=0, train_loss=0.0181, train_accuracy=1.000]  "
     ]
    },
    {
     "name": "stderr",
     "output_type": "stream",
     "text": [
      "[2024-12-02 21:12:42] INFO (torcheeg/MainThread) \n",
      "[Train] train_loss: 0.027 train_accuracy: 0.985 \n",
      "\n"
     ]
    },
    {
     "name": "stdout",
     "output_type": "stream",
     "text": [
      "Epoch 33: 100%|██████████| 7/7 [00:00<00:00,  9.92it/s, loss=0.0593, v_num=0, train_loss=0.091, train_accuracy=1.000] "
     ]
    },
    {
     "name": "stderr",
     "output_type": "stream",
     "text": [
      "[2024-12-02 21:12:47] INFO (torcheeg/MainThread) \n",
      "[Train] train_loss: 0.058 train_accuracy: 0.985 \n",
      "\n"
     ]
    },
    {
     "name": "stdout",
     "output_type": "stream",
     "text": [
      "Epoch 34: 100%|██████████| 7/7 [00:00<00:00,  9.84it/s, loss=0.0499, v_num=0, train_loss=0.00281, train_accuracy=1.000]"
     ]
    },
    {
     "name": "stderr",
     "output_type": "stream",
     "text": [
      "[2024-12-02 21:12:51] INFO (torcheeg/MainThread) \n",
      "[Train] train_loss: 0.065 train_accuracy: 0.980 \n",
      "\n"
     ]
    },
    {
     "name": "stdout",
     "output_type": "stream",
     "text": [
      "Epoch 35: 100%|██████████| 7/7 [00:00<00:00,  9.86it/s, loss=0.0496, v_num=0, train_loss=0.000337, train_accuracy=1.000]"
     ]
    },
    {
     "name": "stderr",
     "output_type": "stream",
     "text": [
      "[2024-12-02 21:12:55] INFO (torcheeg/MainThread) \n",
      "[Train] train_loss: 0.020 train_accuracy: 0.990 \n",
      "\n"
     ]
    },
    {
     "name": "stdout",
     "output_type": "stream",
     "text": [
      "Epoch 36: 100%|██████████| 7/7 [00:00<00:00,  9.80it/s, loss=0.0514, v_num=0, train_loss=0.00871, train_accuracy=1.000] "
     ]
    },
    {
     "name": "stderr",
     "output_type": "stream",
     "text": [
      "Monitored metric train_loss did not improve in the last 20 records. Best score: 0.000. Signaling Trainer to stop.\n"
     ]
    },
    {
     "name": "stdout",
     "output_type": "stream",
     "text": [
      "Epoch 36: 100%|██████████| 7/7 [00:00<00:00,  9.78it/s, loss=0.0514, v_num=0, train_loss=0.00871, train_accuracy=1.000]"
     ]
    },
    {
     "name": "stderr",
     "output_type": "stream",
     "text": [
      "[2024-12-02 21:12:59] INFO (torcheeg/MainThread) \n",
      "[Train] train_loss: 0.063 train_accuracy: 0.985 \n",
      "\n"
     ]
    },
    {
     "name": "stdout",
     "output_type": "stream",
     "text": [
      "Epoch 36: 100%|██████████| 7/7 [00:04<00:00,  1.65it/s, loss=0.0514, v_num=0, train_loss=0.00871, train_accuracy=1.000]\n"
     ]
    },
    {
     "name": "stderr",
     "output_type": "stream",
     "text": [
      "GPU available: True (cuda), used: True\n",
      "TPU available: False, using: 0 TPU cores\n",
      "IPU available: False, using: 0 IPUs\n",
      "HPU available: False, using: 0 HPUs\n",
      "LOCAL_RANK: 0 - CUDA_VISIBLE_DEVICES: [0]\n",
      "/root/autodl-tmp/conda/envs/law/lib/python3.8/site-packages/pytorch_lightning/trainer/connectors/data_connector.py:224: PossibleUserWarning: The dataloader, test_dataloader 0, does not have many workers which may be a bottleneck. Consider increasing the value of the `num_workers` argument` (try 128 which is the number of cpus on this machine) in the `DataLoader` init to improve performance.\n",
      "  rank_zero_warn(\n"
     ]
    },
    {
     "name": "stdout",
     "output_type": "stream",
     "text": [
      "Testing DataLoader 0: 100%|██████████| 3/3 [00:00<00:00, 38.59it/s]"
     ]
    },
    {
     "name": "stderr",
     "output_type": "stream",
     "text": [
      "[2024-12-02 21:13:01] INFO (torcheeg/MainThread) \n",
      "[Test] test_loss: 1.454 test_accuracy: 0.688 \n",
      "\n"
     ]
    },
    {
     "name": "stdout",
     "output_type": "stream",
     "text": [
      "Testing DataLoader 0: 100%|██████████| 3/3 [00:00<00:00, 35.92it/s]\n",
      "────────────────────────────────────────────────────────────────────────────────────────────────────────────────────────\n",
      "       Test metric             DataLoader 0\n",
      "────────────────────────────────────────────────────────────────────────────────────────────────────────────────────────\n",
      "      test_accuracy               0.6875\n",
      "        test_loss            1.453780174255371\n",
      "────────────────────────────────────────────────────────────────────────────────────────────────────────────────────────\n",
      "已删除文件夹: /root/autodl-tmp/.autodl/kinlaw/mi_swin/lightning_logs\n"
     ]
    },
    {
     "name": "stderr",
     "output_type": "stream",
     "text": [
      "GPU available: True (cuda), used: True\n",
      "TPU available: False, using: 0 TPU cores\n",
      "IPU available: False, using: 0 IPUs\n",
      "HPU available: False, using: 0 HPUs\n",
      "Missing logger folder: /root/autodl-tmp/.autodl/kinlaw/mi_swin/lightning_logs\n",
      "LOCAL_RANK: 0 - CUDA_VISIBLE_DEVICES: [0]\n",
      "/root/autodl-tmp/conda/envs/law/lib/python3.8/site-packages/pytorch_lightning/trainer/connectors/data_connector.py:224: PossibleUserWarning: The dataloader, train_dataloader, does not have many workers which may be a bottleneck. Consider increasing the value of the `num_workers` argument` (try 128 which is the number of cpus on this machine) in the `DataLoader` init to improve performance.\n",
      "  rank_zero_warn(\n",
      "/root/autodl-tmp/conda/envs/law/lib/python3.8/site-packages/pytorch_lightning/trainer/trainer.py:1609: PossibleUserWarning: The number of training batches (8) is smaller than the logging interval Trainer(log_every_n_steps=50). Set a lower value for log_every_n_steps if you want to see logs for the training epoch.\n",
      "  rank_zero_warn(\n"
     ]
    },
    {
     "name": "stdout",
     "output_type": "stream",
     "text": [
      "Epoch 0: 100%|██████████| 8/8 [00:00<00:00,  9.56it/s, loss=2.26, v_num=0, train_loss=1.720, train_accuracy=0.250] "
     ]
    },
    {
     "name": "stderr",
     "output_type": "stream",
     "text": [
      "Metric train_loss improved. New best score: 1.719\n"
     ]
    },
    {
     "name": "stdout",
     "output_type": "stream",
     "text": [
      "Epoch 0: 100%|██████████| 8/8 [00:00<00:00,  9.54it/s, loss=2.26, v_num=0, train_loss=1.720, train_accuracy=0.250]"
     ]
    },
    {
     "name": "stderr",
     "output_type": "stream",
     "text": [
      "[2024-12-02 21:13:07] INFO (torcheeg/MainThread) \n",
      "[Train] train_loss: 2.260 train_accuracy: 0.517 \n",
      "\n"
     ]
    },
    {
     "name": "stdout",
     "output_type": "stream",
     "text": [
      "Epoch 1: 100%|██████████| 8/8 [00:00<00:00,  9.88it/s, loss=1.43, v_num=0, train_loss=0.561, train_accuracy=0.688]"
     ]
    },
    {
     "name": "stderr",
     "output_type": "stream",
     "text": [
      "Metric train_loss improved by 1.158 >= min_delta = 0.0. New best score: 0.561\n"
     ]
    },
    {
     "name": "stdout",
     "output_type": "stream",
     "text": [
      "Epoch 1: 100%|██████████| 8/8 [00:00<00:00,  9.86it/s, loss=1.43, v_num=0, train_loss=0.561, train_accuracy=0.688]"
     ]
    },
    {
     "name": "stderr",
     "output_type": "stream",
     "text": [
      "[2024-12-02 21:13:12] INFO (torcheeg/MainThread) \n",
      "[Train] train_loss: 0.601 train_accuracy: 0.721 \n",
      "\n"
     ]
    },
    {
     "name": "stdout",
     "output_type": "stream",
     "text": [
      "Epoch 2: 100%|██████████| 8/8 [00:00<00:00,  9.88it/s, loss=0.624, v_num=0, train_loss=0.306, train_accuracy=0.875]"
     ]
    },
    {
     "name": "stderr",
     "output_type": "stream",
     "text": [
      "Metric train_loss improved by 0.255 >= min_delta = 0.0. New best score: 0.306\n"
     ]
    },
    {
     "name": "stdout",
     "output_type": "stream",
     "text": [
      "Epoch 2: 100%|██████████| 8/8 [00:00<00:00,  9.86it/s, loss=0.624, v_num=0, train_loss=0.306, train_accuracy=0.875]"
     ]
    },
    {
     "name": "stderr",
     "output_type": "stream",
     "text": [
      "[2024-12-02 21:13:16] INFO (torcheeg/MainThread) \n",
      "[Train] train_loss: 0.276 train_accuracy: 0.896 \n",
      "\n"
     ]
    },
    {
     "name": "stdout",
     "output_type": "stream",
     "text": [
      "Epoch 3: 100%|██████████| 8/8 [00:00<00:00,  9.82it/s, loss=0.329, v_num=0, train_loss=1.040, train_accuracy=0.750] "
     ]
    },
    {
     "name": "stderr",
     "output_type": "stream",
     "text": [
      "[2024-12-02 21:13:21] INFO (torcheeg/MainThread) \n",
      "[Train] train_loss: 0.302 train_accuracy: 0.904 \n",
      "\n"
     ]
    },
    {
     "name": "stdout",
     "output_type": "stream",
     "text": [
      "Epoch 4: 100%|██████████| 8/8 [00:00<00:00,  9.81it/s, loss=0.208, v_num=0, train_loss=0.00556, train_accuracy=1.000]"
     ]
    },
    {
     "name": "stderr",
     "output_type": "stream",
     "text": [
      "Metric train_loss improved by 0.301 >= min_delta = 0.0. New best score: 0.006\n"
     ]
    },
    {
     "name": "stdout",
     "output_type": "stream",
     "text": [
      "Epoch 4: 100%|██████████| 8/8 [00:00<00:00,  9.79it/s, loss=0.208, v_num=0, train_loss=0.00556, train_accuracy=1.000]"
     ]
    },
    {
     "name": "stderr",
     "output_type": "stream",
     "text": [
      "[2024-12-02 21:13:26] INFO (torcheeg/MainThread) \n",
      "[Train] train_loss: 0.083 train_accuracy: 0.958 \n",
      "\n"
     ]
    },
    {
     "name": "stdout",
     "output_type": "stream",
     "text": [
      "Epoch 5: 100%|██████████| 8/8 [00:00<00:00,  9.89it/s, loss=0.154, v_num=0, train_loss=0.00529, train_accuracy=1.000]"
     ]
    },
    {
     "name": "stderr",
     "output_type": "stream",
     "text": [
      "Metric train_loss improved by 0.000 >= min_delta = 0.0. New best score: 0.005\n"
     ]
    },
    {
     "name": "stdout",
     "output_type": "stream",
     "text": [
      "Epoch 5: 100%|██████████| 8/8 [00:00<00:00,  9.87it/s, loss=0.154, v_num=0, train_loss=0.00529, train_accuracy=1.000]"
     ]
    },
    {
     "name": "stderr",
     "output_type": "stream",
     "text": [
      "[2024-12-02 21:13:30] INFO (torcheeg/MainThread) \n",
      "[Train] train_loss: 0.084 train_accuracy: 0.971 \n",
      "\n"
     ]
    },
    {
     "name": "stdout",
     "output_type": "stream",
     "text": [
      "Epoch 6: 100%|██████████| 8/8 [00:00<00:00,  9.84it/s, loss=0.0687, v_num=0, train_loss=0.0158, train_accuracy=1.000] "
     ]
    },
    {
     "name": "stderr",
     "output_type": "stream",
     "text": [
      "[2024-12-02 21:13:35] INFO (torcheeg/MainThread) \n",
      "[Train] train_loss: 0.046 train_accuracy: 0.983 \n",
      "\n"
     ]
    },
    {
     "name": "stdout",
     "output_type": "stream",
     "text": [
      "Epoch 7: 100%|██████████| 8/8 [00:00<00:00,  9.92it/s, loss=0.0449, v_num=0, train_loss=0.0662, train_accuracy=0.938] "
     ]
    },
    {
     "name": "stderr",
     "output_type": "stream",
     "text": [
      "[2024-12-02 21:13:39] INFO (torcheeg/MainThread) \n",
      "[Train] train_loss: 0.051 train_accuracy: 0.988 \n",
      "\n"
     ]
    },
    {
     "name": "stdout",
     "output_type": "stream",
     "text": [
      "Epoch 8: 100%|██████████| 8/8 [00:00<00:00,  9.85it/s, loss=0.0472, v_num=0, train_loss=0.261, train_accuracy=0.875]  "
     ]
    },
    {
     "name": "stderr",
     "output_type": "stream",
     "text": [
      "[2024-12-02 21:13:44] INFO (torcheeg/MainThread) \n",
      "[Train] train_loss: 0.050 train_accuracy: 0.983 \n",
      "\n"
     ]
    },
    {
     "name": "stdout",
     "output_type": "stream",
     "text": [
      "Epoch 9: 100%|██████████| 8/8 [00:00<00:00,  9.95it/s, loss=0.061, v_num=0, train_loss=0.00244, train_accuracy=1.000] "
     ]
    },
    {
     "name": "stderr",
     "output_type": "stream",
     "text": [
      "Metric train_loss improved by 0.003 >= min_delta = 0.0. New best score: 0.002\n"
     ]
    },
    {
     "name": "stdout",
     "output_type": "stream",
     "text": [
      "Epoch 9: 100%|██████████| 8/8 [00:00<00:00,  9.93it/s, loss=0.061, v_num=0, train_loss=0.00244, train_accuracy=1.000]"
     ]
    },
    {
     "name": "stderr",
     "output_type": "stream",
     "text": [
      "[2024-12-02 21:13:48] INFO (torcheeg/MainThread) \n",
      "[Train] train_loss: 0.059 train_accuracy: 0.988 \n",
      "\n"
     ]
    },
    {
     "name": "stdout",
     "output_type": "stream",
     "text": [
      "Epoch 10: 100%|██████████| 8/8 [00:00<00:00,  9.85it/s, loss=0.054, v_num=0, train_loss=0.0302, train_accuracy=1.000]  "
     ]
    },
    {
     "name": "stderr",
     "output_type": "stream",
     "text": [
      "[2024-12-02 21:13:53] INFO (torcheeg/MainThread) \n",
      "[Train] train_loss: 0.036 train_accuracy: 0.992 \n",
      "\n"
     ]
    },
    {
     "name": "stdout",
     "output_type": "stream",
     "text": [
      "Epoch 11: 100%|██████████| 8/8 [00:00<00:00,  9.84it/s, loss=0.0355, v_num=0, train_loss=0.00429, train_accuracy=1.000]"
     ]
    },
    {
     "name": "stderr",
     "output_type": "stream",
     "text": [
      "[2024-12-02 21:13:57] INFO (torcheeg/MainThread) \n",
      "[Train] train_loss: 0.047 train_accuracy: 0.979 \n",
      "\n"
     ]
    },
    {
     "name": "stdout",
     "output_type": "stream",
     "text": [
      "Epoch 12: 100%|██████████| 8/8 [00:00<00:00,  9.79it/s, loss=0.0699, v_num=0, train_loss=0.00108, train_accuracy=1.000]"
     ]
    },
    {
     "name": "stderr",
     "output_type": "stream",
     "text": [
      "Metric train_loss improved by 0.001 >= min_delta = 0.0. New best score: 0.001\n"
     ]
    },
    {
     "name": "stdout",
     "output_type": "stream",
     "text": [
      "Epoch 12: 100%|██████████| 8/8 [00:00<00:00,  9.77it/s, loss=0.0699, v_num=0, train_loss=0.00108, train_accuracy=1.000]"
     ]
    },
    {
     "name": "stderr",
     "output_type": "stream",
     "text": [
      "[2024-12-02 21:14:02] INFO (torcheeg/MainThread) \n",
      "[Train] train_loss: 0.118 train_accuracy: 0.975 \n",
      "\n"
     ]
    },
    {
     "name": "stdout",
     "output_type": "stream",
     "text": [
      "Epoch 13: 100%|██████████| 8/8 [00:00<00:00,  9.81it/s, loss=0.128, v_num=0, train_loss=0.114, train_accuracy=0.938]   "
     ]
    },
    {
     "name": "stderr",
     "output_type": "stream",
     "text": [
      "[2024-12-02 21:14:07] INFO (torcheeg/MainThread) \n",
      "[Train] train_loss: 0.198 train_accuracy: 0.942 \n",
      "\n"
     ]
    },
    {
     "name": "stdout",
     "output_type": "stream",
     "text": [
      "Epoch 14: 100%|██████████| 8/8 [00:00<00:00,  9.74it/s, loss=0.136, v_num=0, train_loss=0.0988, train_accuracy=1.000]"
     ]
    },
    {
     "name": "stderr",
     "output_type": "stream",
     "text": [
      "[2024-12-02 21:14:11] INFO (torcheeg/MainThread) \n",
      "[Train] train_loss: 0.088 train_accuracy: 0.967 \n",
      "\n"
     ]
    },
    {
     "name": "stdout",
     "output_type": "stream",
     "text": [
      "Epoch 15: 100%|██████████| 8/8 [00:00<00:00,  9.85it/s, loss=0.102, v_num=0, train_loss=0.00223, train_accuracy=1.000]"
     ]
    },
    {
     "name": "stderr",
     "output_type": "stream",
     "text": [
      "[2024-12-02 21:14:16] INFO (torcheeg/MainThread) \n",
      "[Train] train_loss: 0.081 train_accuracy: 0.962 \n",
      "\n"
     ]
    },
    {
     "name": "stdout",
     "output_type": "stream",
     "text": [
      "Epoch 16: 100%|██████████| 8/8 [00:00<00:00,  9.78it/s, loss=0.0618, v_num=0, train_loss=0.0095, train_accuracy=1.000] "
     ]
    },
    {
     "name": "stderr",
     "output_type": "stream",
     "text": [
      "[2024-12-02 21:14:20] INFO (torcheeg/MainThread) \n",
      "[Train] train_loss: 0.034 train_accuracy: 0.988 \n",
      "\n"
     ]
    },
    {
     "name": "stdout",
     "output_type": "stream",
     "text": [
      "Epoch 17: 100%|██████████| 8/8 [00:00<00:00,  9.95it/s, loss=0.0306, v_num=0, train_loss=0.000436, train_accuracy=1.000]"
     ]
    },
    {
     "name": "stderr",
     "output_type": "stream",
     "text": [
      "Metric train_loss improved by 0.001 >= min_delta = 0.0. New best score: 0.000\n"
     ]
    },
    {
     "name": "stdout",
     "output_type": "stream",
     "text": [
      "Epoch 17: 100%|██████████| 8/8 [00:00<00:00,  9.93it/s, loss=0.0306, v_num=0, train_loss=0.000436, train_accuracy=1.000]"
     ]
    },
    {
     "name": "stderr",
     "output_type": "stream",
     "text": [
      "[2024-12-02 21:14:25] INFO (torcheeg/MainThread) \n",
      "[Train] train_loss: 0.021 train_accuracy: 0.988 \n",
      "\n"
     ]
    },
    {
     "name": "stdout",
     "output_type": "stream",
     "text": [
      "Epoch 18: 100%|██████████| 8/8 [00:00<00:00,  9.91it/s, loss=0.0278, v_num=0, train_loss=0.000694, train_accuracy=1.000]"
     ]
    },
    {
     "name": "stderr",
     "output_type": "stream",
     "text": [
      "[2024-12-02 21:14:29] INFO (torcheeg/MainThread) \n",
      "[Train] train_loss: 0.024 train_accuracy: 0.992 \n",
      "\n"
     ]
    },
    {
     "name": "stdout",
     "output_type": "stream",
     "text": [
      "Epoch 19: 100%|██████████| 8/8 [00:00<00:00,  9.81it/s, loss=0.0298, v_num=0, train_loss=0.010, train_accuracy=1.000]   "
     ]
    },
    {
     "name": "stderr",
     "output_type": "stream",
     "text": [
      "[2024-12-02 21:14:34] INFO (torcheeg/MainThread) \n",
      "[Train] train_loss: 0.047 train_accuracy: 0.992 \n",
      "\n"
     ]
    },
    {
     "name": "stdout",
     "output_type": "stream",
     "text": [
      "Epoch 20: 100%|██████████| 8/8 [00:00<00:00,  9.84it/s, loss=0.0216, v_num=0, train_loss=0.00176, train_accuracy=1.000] "
     ]
    },
    {
     "name": "stderr",
     "output_type": "stream",
     "text": [
      "[2024-12-02 21:14:38] INFO (torcheeg/MainThread) \n",
      "[Train] train_loss: 0.005 train_accuracy: 1.000 \n",
      "\n"
     ]
    },
    {
     "name": "stdout",
     "output_type": "stream",
     "text": [
      "Epoch 21: 100%|██████████| 8/8 [00:00<00:00,  9.86it/s, loss=0.0117, v_num=0, train_loss=0.000534, train_accuracy=1.000]"
     ]
    },
    {
     "name": "stderr",
     "output_type": "stream",
     "text": [
      "[2024-12-02 21:14:43] INFO (torcheeg/MainThread) \n",
      "[Train] train_loss: 0.021 train_accuracy: 0.996 \n",
      "\n"
     ]
    },
    {
     "name": "stdout",
     "output_type": "stream",
     "text": [
      "Epoch 22: 100%|██████████| 8/8 [00:00<00:00,  9.87it/s, loss=0.0114, v_num=0, train_loss=0.000822, train_accuracy=1.000]"
     ]
    },
    {
     "name": "stderr",
     "output_type": "stream",
     "text": [
      "[2024-12-02 21:14:47] INFO (torcheeg/MainThread) \n",
      "[Train] train_loss: 0.006 train_accuracy: 1.000 \n",
      "\n"
     ]
    },
    {
     "name": "stdout",
     "output_type": "stream",
     "text": [
      "Epoch 23: 100%|██████████| 8/8 [00:00<00:00,  9.95it/s, loss=0.00308, v_num=0, train_loss=0.00198, train_accuracy=1.000] "
     ]
    },
    {
     "name": "stderr",
     "output_type": "stream",
     "text": [
      "[2024-12-02 21:14:52] INFO (torcheeg/MainThread) \n",
      "[Train] train_loss: 0.001 train_accuracy: 1.000 \n",
      "\n"
     ]
    },
    {
     "name": "stdout",
     "output_type": "stream",
     "text": [
      "Epoch 24: 100%|██████████| 8/8 [00:00<00:00,  9.80it/s, loss=0.00197, v_num=0, train_loss=0.000363, train_accuracy=1.000]"
     ]
    },
    {
     "name": "stderr",
     "output_type": "stream",
     "text": [
      "Metric train_loss improved by 0.000 >= min_delta = 0.0. New best score: 0.000\n"
     ]
    },
    {
     "name": "stdout",
     "output_type": "stream",
     "text": [
      "Epoch 24: 100%|██████████| 8/8 [00:00<00:00,  9.78it/s, loss=0.00197, v_num=0, train_loss=0.000363, train_accuracy=1.000]"
     ]
    },
    {
     "name": "stderr",
     "output_type": "stream",
     "text": [
      "[2024-12-02 21:14:56] INFO (torcheeg/MainThread) \n",
      "[Train] train_loss: 0.002 train_accuracy: 1.000 \n",
      "\n"
     ]
    },
    {
     "name": "stdout",
     "output_type": "stream",
     "text": [
      "Epoch 25: 100%|██████████| 8/8 [00:00<00:00,  9.89it/s, loss=0.0018, v_num=0, train_loss=0.00139, train_accuracy=1.000]  "
     ]
    },
    {
     "name": "stderr",
     "output_type": "stream",
     "text": [
      "[2024-12-02 21:15:01] INFO (torcheeg/MainThread) \n",
      "[Train] train_loss: 0.002 train_accuracy: 1.000 \n",
      "\n"
     ]
    },
    {
     "name": "stdout",
     "output_type": "stream",
     "text": [
      "Epoch 26: 100%|██████████| 8/8 [00:00<00:00,  9.89it/s, loss=0.00166, v_num=0, train_loss=1.5e-5, train_accuracy=1.000]  "
     ]
    },
    {
     "name": "stderr",
     "output_type": "stream",
     "text": [
      "Metric train_loss improved by 0.000 >= min_delta = 0.0. New best score: 0.000\n"
     ]
    },
    {
     "name": "stdout",
     "output_type": "stream",
     "text": [
      "Epoch 26: 100%|██████████| 8/8 [00:00<00:00,  9.86it/s, loss=0.00166, v_num=0, train_loss=1.5e-5, train_accuracy=1.000]"
     ]
    },
    {
     "name": "stderr",
     "output_type": "stream",
     "text": [
      "[2024-12-02 21:15:05] INFO (torcheeg/MainThread) \n",
      "[Train] train_loss: 0.001 train_accuracy: 1.000 \n",
      "\n"
     ]
    },
    {
     "name": "stdout",
     "output_type": "stream",
     "text": [
      "Epoch 27: 100%|██████████| 8/8 [00:00<00:00,  9.78it/s, loss=0.0079, v_num=0, train_loss=0.00135, train_accuracy=1.000]  "
     ]
    },
    {
     "name": "stderr",
     "output_type": "stream",
     "text": [
      "[2024-12-02 21:15:10] INFO (torcheeg/MainThread) \n",
      "[Train] train_loss: 0.018 train_accuracy: 0.996 \n",
      "\n"
     ]
    },
    {
     "name": "stdout",
     "output_type": "stream",
     "text": [
      "Epoch 28: 100%|██████████| 8/8 [00:00<00:00,  9.82it/s, loss=0.014, v_num=0, train_loss=1.92e-5, train_accuracy=1.000]   "
     ]
    },
    {
     "name": "stderr",
     "output_type": "stream",
     "text": [
      "[2024-12-02 21:15:14] INFO (torcheeg/MainThread) \n",
      "[Train] train_loss: 0.017 train_accuracy: 0.988 \n",
      "\n"
     ]
    },
    {
     "name": "stdout",
     "output_type": "stream",
     "text": [
      "Epoch 29: 100%|██████████| 8/8 [00:00<00:00,  9.89it/s, loss=0.015, v_num=0, train_loss=0.0137, train_accuracy=1.000]   "
     ]
    },
    {
     "name": "stderr",
     "output_type": "stream",
     "text": [
      "[2024-12-02 21:15:19] INFO (torcheeg/MainThread) \n",
      "[Train] train_loss: 0.020 train_accuracy: 0.996 \n",
      "\n"
     ]
    },
    {
     "name": "stdout",
     "output_type": "stream",
     "text": [
      "Epoch 30: 100%|██████████| 8/8 [00:00<00:00,  9.87it/s, loss=0.0402, v_num=0, train_loss=4.01e-5, train_accuracy=1.000]"
     ]
    },
    {
     "name": "stderr",
     "output_type": "stream",
     "text": [
      "[2024-12-02 21:15:23] INFO (torcheeg/MainThread) \n",
      "[Train] train_loss: 0.080 train_accuracy: 0.979 \n",
      "\n"
     ]
    },
    {
     "name": "stdout",
     "output_type": "stream",
     "text": [
      "Epoch 31: 100%|██████████| 8/8 [00:00<00:00,  9.84it/s, loss=0.0574, v_num=0, train_loss=0.0161, train_accuracy=1.000] "
     ]
    },
    {
     "name": "stderr",
     "output_type": "stream",
     "text": [
      "[2024-12-02 21:15:28] INFO (torcheeg/MainThread) \n",
      "[Train] train_loss: 0.060 train_accuracy: 0.983 \n",
      "\n"
     ]
    },
    {
     "name": "stdout",
     "output_type": "stream",
     "text": [
      "Epoch 32: 100%|██████████| 8/8 [00:00<00:00,  9.77it/s, loss=0.052, v_num=0, train_loss=0.0305, train_accuracy=1.000]  "
     ]
    },
    {
     "name": "stderr",
     "output_type": "stream",
     "text": [
      "[2024-12-02 21:15:32] INFO (torcheeg/MainThread) \n",
      "[Train] train_loss: 0.050 train_accuracy: 0.979 \n",
      "\n"
     ]
    },
    {
     "name": "stdout",
     "output_type": "stream",
     "text": [
      "Epoch 33: 100%|██████████| 8/8 [00:00<00:00,  9.94it/s, loss=0.0454, v_num=0, train_loss=0.00371, train_accuracy=1.000]"
     ]
    },
    {
     "name": "stderr",
     "output_type": "stream",
     "text": [
      "[2024-12-02 21:15:37] INFO (torcheeg/MainThread) \n",
      "[Train] train_loss: 0.026 train_accuracy: 0.983 \n",
      "\n"
     ]
    },
    {
     "name": "stdout",
     "output_type": "stream",
     "text": [
      "Epoch 34: 100%|██████████| 8/8 [00:00<00:00,  9.85it/s, loss=0.0222, v_num=0, train_loss=6.34e-5, train_accuracy=1.000] "
     ]
    },
    {
     "name": "stderr",
     "output_type": "stream",
     "text": [
      "[2024-12-02 21:15:41] INFO (torcheeg/MainThread) \n",
      "[Train] train_loss: 0.005 train_accuracy: 1.000 \n",
      "\n"
     ]
    },
    {
     "name": "stdout",
     "output_type": "stream",
     "text": [
      "Epoch 35: 100%|██████████| 8/8 [00:00<00:00,  9.94it/s, loss=0.0098, v_num=0, train_loss=0.00134, train_accuracy=1.000] "
     ]
    },
    {
     "name": "stderr",
     "output_type": "stream",
     "text": [
      "[2024-12-02 21:15:46] INFO (torcheeg/MainThread) \n",
      "[Train] train_loss: 0.006 train_accuracy: 1.000 \n",
      "\n"
     ]
    },
    {
     "name": "stdout",
     "output_type": "stream",
     "text": [
      "Epoch 36: 100%|██████████| 8/8 [00:00<00:00,  9.72it/s, loss=0.00354, v_num=0, train_loss=1.24e-5, train_accuracy=1.000]"
     ]
    },
    {
     "name": "stderr",
     "output_type": "stream",
     "text": [
      "Metric train_loss improved by 0.000 >= min_delta = 0.0. New best score: 0.000\n"
     ]
    },
    {
     "name": "stdout",
     "output_type": "stream",
     "text": [
      "Epoch 36: 100%|██████████| 8/8 [00:00<00:00,  9.70it/s, loss=0.00354, v_num=0, train_loss=1.24e-5, train_accuracy=1.000]"
     ]
    },
    {
     "name": "stderr",
     "output_type": "stream",
     "text": [
      "[2024-12-02 21:15:50] INFO (torcheeg/MainThread) \n",
      "[Train] train_loss: 0.002 train_accuracy: 1.000 \n",
      "\n"
     ]
    },
    {
     "name": "stdout",
     "output_type": "stream",
     "text": [
      "Epoch 37: 100%|██████████| 8/8 [00:00<00:00,  9.52it/s, loss=0.00651, v_num=0, train_loss=2.03e-5, train_accuracy=1.000] "
     ]
    },
    {
     "name": "stderr",
     "output_type": "stream",
     "text": [
      "[2024-12-02 21:15:55] INFO (torcheeg/MainThread) \n",
      "[Train] train_loss: 0.011 train_accuracy: 0.996 \n",
      "\n"
     ]
    },
    {
     "name": "stdout",
     "output_type": "stream",
     "text": [
      "Epoch 38: 100%|██████████| 8/8 [00:00<00:00,  9.89it/s, loss=0.0192, v_num=0, train_loss=0.000152, train_accuracy=1.000]"
     ]
    },
    {
     "name": "stderr",
     "output_type": "stream",
     "text": [
      "[2024-12-02 21:15:59] INFO (torcheeg/MainThread) \n",
      "[Train] train_loss: 0.036 train_accuracy: 0.988 \n",
      "\n"
     ]
    },
    {
     "name": "stdout",
     "output_type": "stream",
     "text": [
      "Epoch 39: 100%|██████████| 8/8 [00:00<00:00,  9.85it/s, loss=0.0228, v_num=0, train_loss=0.0112, train_accuracy=1.000]  "
     ]
    },
    {
     "name": "stderr",
     "output_type": "stream",
     "text": [
      "[2024-12-02 21:16:04] INFO (torcheeg/MainThread) \n",
      "[Train] train_loss: 0.021 train_accuracy: 0.992 \n",
      "\n"
     ]
    },
    {
     "name": "stdout",
     "output_type": "stream",
     "text": [
      "Epoch 40: 100%|██████████| 8/8 [00:00<00:00,  9.73it/s, loss=0.0272, v_num=0, train_loss=0.00781, train_accuracy=1.000] "
     ]
    },
    {
     "name": "stderr",
     "output_type": "stream",
     "text": [
      "[2024-12-02 21:16:08] INFO (torcheeg/MainThread) \n",
      "[Train] train_loss: 0.046 train_accuracy: 0.983 \n",
      "\n"
     ]
    },
    {
     "name": "stdout",
     "output_type": "stream",
     "text": [
      "Epoch 41: 100%|██████████| 8/8 [00:00<00:00,  9.96it/s, loss=0.0367, v_num=0, train_loss=0.000734, train_accuracy=1.000]"
     ]
    },
    {
     "name": "stderr",
     "output_type": "stream",
     "text": [
      "[2024-12-02 21:16:13] INFO (torcheeg/MainThread) \n",
      "[Train] train_loss: 0.035 train_accuracy: 0.983 \n",
      "\n"
     ]
    },
    {
     "name": "stdout",
     "output_type": "stream",
     "text": [
      "Epoch 42: 100%|██████████| 8/8 [00:00<00:00,  9.75it/s, loss=0.0381, v_num=0, train_loss=0.00194, train_accuracy=1.000] "
     ]
    },
    {
     "name": "stderr",
     "output_type": "stream",
     "text": [
      "[2024-12-02 21:16:17] INFO (torcheeg/MainThread) \n",
      "[Train] train_loss: 0.028 train_accuracy: 0.983 \n",
      "\n"
     ]
    },
    {
     "name": "stdout",
     "output_type": "stream",
     "text": [
      "Epoch 43: 100%|██████████| 8/8 [00:00<00:00,  9.86it/s, loss=0.0396, v_num=0, train_loss=2.91e-5, train_accuracy=1.000]"
     ]
    },
    {
     "name": "stderr",
     "output_type": "stream",
     "text": [
      "[2024-12-02 21:16:21] INFO (torcheeg/MainThread) \n",
      "[Train] train_loss: 0.037 train_accuracy: 0.988 \n",
      "\n"
     ]
    },
    {
     "name": "stdout",
     "output_type": "stream",
     "text": [
      "Epoch 44: 100%|██████████| 8/8 [00:00<00:00,  9.77it/s, loss=0.0222, v_num=0, train_loss=0.00437, train_accuracy=1.000]"
     ]
    },
    {
     "name": "stderr",
     "output_type": "stream",
     "text": [
      "[2024-12-02 21:16:26] INFO (torcheeg/MainThread) \n",
      "[Train] train_loss: 0.015 train_accuracy: 0.992 \n",
      "\n"
     ]
    },
    {
     "name": "stdout",
     "output_type": "stream",
     "text": [
      "Epoch 45: 100%|██████████| 8/8 [00:00<00:00,  9.85it/s, loss=0.0311, v_num=0, train_loss=0.000967, train_accuracy=1.000]"
     ]
    },
    {
     "name": "stderr",
     "output_type": "stream",
     "text": [
      "[2024-12-02 21:16:30] INFO (torcheeg/MainThread) \n",
      "[Train] train_loss: 0.054 train_accuracy: 0.983 \n",
      "\n"
     ]
    },
    {
     "name": "stdout",
     "output_type": "stream",
     "text": [
      "Epoch 46: 100%|██████████| 8/8 [00:00<00:00,  9.67it/s, loss=0.0444, v_num=0, train_loss=0.00223, train_accuracy=1.000] "
     ]
    },
    {
     "name": "stderr",
     "output_type": "stream",
     "text": [
      "[2024-12-02 21:16:34] INFO (torcheeg/MainThread) \n",
      "[Train] train_loss: 0.046 train_accuracy: 0.979 \n",
      "\n"
     ]
    },
    {
     "name": "stdout",
     "output_type": "stream",
     "text": [
      "Epoch 47: 100%|██████████| 8/8 [00:00<00:00,  9.92it/s, loss=0.0227, v_num=0, train_loss=0.000237, train_accuracy=1.000]"
     ]
    },
    {
     "name": "stderr",
     "output_type": "stream",
     "text": [
      "[2024-12-02 21:16:39] INFO (torcheeg/MainThread) \n",
      "[Train] train_loss: 0.010 train_accuracy: 0.992 \n",
      "\n"
     ]
    },
    {
     "name": "stdout",
     "output_type": "stream",
     "text": [
      "Epoch 48: 100%|██████████| 8/8 [00:00<00:00,  9.86it/s, loss=0.0339, v_num=0, train_loss=0.007, train_accuracy=1.000]   "
     ]
    },
    {
     "name": "stderr",
     "output_type": "stream",
     "text": [
      "[2024-12-02 21:16:43] INFO (torcheeg/MainThread) \n",
      "[Train] train_loss: 0.036 train_accuracy: 0.996 \n",
      "\n"
     ]
    },
    {
     "name": "stdout",
     "output_type": "stream",
     "text": [
      "Epoch 49: 100%|██████████| 8/8 [00:00<00:00,  9.75it/s, loss=0.019, v_num=0, train_loss=0.0317, train_accuracy=1.000]   "
     ]
    },
    {
     "name": "stderr",
     "output_type": "stream",
     "text": [
      "[2024-12-02 21:16:48] INFO (torcheeg/MainThread) \n",
      "[Train] train_loss: 0.008 train_accuracy: 1.000 \n",
      "\n"
     ]
    },
    {
     "name": "stdout",
     "output_type": "stream",
     "text": [
      "Epoch 50: 100%|██████████| 8/8 [00:00<00:00,  9.86it/s, loss=0.0183, v_num=0, train_loss=0.00638, train_accuracy=1.000] "
     ]
    },
    {
     "name": "stderr",
     "output_type": "stream",
     "text": [
      "[2024-12-02 21:16:52] INFO (torcheeg/MainThread) \n",
      "[Train] train_loss: 0.003 train_accuracy: 1.000 \n",
      "\n"
     ]
    },
    {
     "name": "stdout",
     "output_type": "stream",
     "text": [
      "Epoch 51: 100%|██████████| 8/8 [00:00<00:00,  9.83it/s, loss=0.00518, v_num=0, train_loss=0.014, train_accuracy=1.000]   "
     ]
    },
    {
     "name": "stderr",
     "output_type": "stream",
     "text": [
      "[2024-12-02 21:16:56] INFO (torcheeg/MainThread) \n",
      "[Train] train_loss: 0.006 train_accuracy: 1.000 \n",
      "\n"
     ]
    },
    {
     "name": "stdout",
     "output_type": "stream",
     "text": [
      "Epoch 52: 100%|██████████| 8/8 [00:00<00:00,  9.85it/s, loss=0.00382, v_num=0, train_loss=3.84e-5, train_accuracy=1.000] "
     ]
    },
    {
     "name": "stderr",
     "output_type": "stream",
     "text": [
      "[2024-12-02 21:17:00] INFO (torcheeg/MainThread) \n",
      "[Train] train_loss: 0.003 train_accuracy: 1.000 \n",
      "\n"
     ]
    },
    {
     "name": "stdout",
     "output_type": "stream",
     "text": [
      "Epoch 53: 100%|██████████| 8/8 [00:00<00:00,  9.85it/s, loss=0.00371, v_num=0, train_loss=0.000168, train_accuracy=1.000]"
     ]
    },
    {
     "name": "stderr",
     "output_type": "stream",
     "text": [
      "[2024-12-02 21:17:05] INFO (torcheeg/MainThread) \n",
      "[Train] train_loss: 0.003 train_accuracy: 0.996 \n",
      "\n"
     ]
    },
    {
     "name": "stdout",
     "output_type": "stream",
     "text": [
      "Epoch 54: 100%|██████████| 8/8 [00:00<00:00,  9.57it/s, loss=0.00562, v_num=0, train_loss=1.42e-5, train_accuracy=1.000] "
     ]
    },
    {
     "name": "stderr",
     "output_type": "stream",
     "text": [
      "[2024-12-02 21:17:09] INFO (torcheeg/MainThread) \n",
      "[Train] train_loss: 0.011 train_accuracy: 0.996 \n",
      "\n"
     ]
    },
    {
     "name": "stdout",
     "output_type": "stream",
     "text": [
      "Epoch 55: 100%|██████████| 8/8 [00:00<00:00,  9.75it/s, loss=0.00437, v_num=0, train_loss=0.000591, train_accuracy=1.000]"
     ]
    },
    {
     "name": "stderr",
     "output_type": "stream",
     "text": [
      "[2024-12-02 21:17:14] INFO (torcheeg/MainThread) \n",
      "[Train] train_loss: 0.000 train_accuracy: 1.000 \n",
      "\n"
     ]
    },
    {
     "name": "stdout",
     "output_type": "stream",
     "text": [
      "Epoch 56: 100%|██████████| 8/8 [00:00<00:00,  9.67it/s, loss=0.0148, v_num=0, train_loss=0.00238, train_accuracy=1.000]  "
     ]
    },
    {
     "name": "stderr",
     "output_type": "stream",
     "text": [
      "Monitored metric train_loss did not improve in the last 20 records. Best score: 0.000. Signaling Trainer to stop.\n"
     ]
    },
    {
     "name": "stdout",
     "output_type": "stream",
     "text": [
      "Epoch 56: 100%|██████████| 8/8 [00:00<00:00,  9.65it/s, loss=0.0148, v_num=0, train_loss=0.00238, train_accuracy=1.000]"
     ]
    },
    {
     "name": "stderr",
     "output_type": "stream",
     "text": [
      "[2024-12-02 21:17:18] INFO (torcheeg/MainThread) \n",
      "[Train] train_loss: 0.026 train_accuracy: 0.992 \n",
      "\n"
     ]
    },
    {
     "name": "stdout",
     "output_type": "stream",
     "text": [
      "Epoch 56: 100%|██████████| 8/8 [00:04<00:00,  1.83it/s, loss=0.0148, v_num=0, train_loss=0.00238, train_accuracy=1.000]\n"
     ]
    },
    {
     "name": "stderr",
     "output_type": "stream",
     "text": [
      "GPU available: True (cuda), used: True\n",
      "TPU available: False, using: 0 TPU cores\n",
      "IPU available: False, using: 0 IPUs\n",
      "HPU available: False, using: 0 HPUs\n",
      "LOCAL_RANK: 0 - CUDA_VISIBLE_DEVICES: [0]\n",
      "/root/autodl-tmp/conda/envs/law/lib/python3.8/site-packages/pytorch_lightning/trainer/connectors/data_connector.py:224: PossibleUserWarning: The dataloader, test_dataloader 0, does not have many workers which may be a bottleneck. Consider increasing the value of the `num_workers` argument` (try 128 which is the number of cpus on this machine) in the `DataLoader` init to improve performance.\n",
      "  rank_zero_warn(\n"
     ]
    },
    {
     "name": "stdout",
     "output_type": "stream",
     "text": [
      "Testing DataLoader 0: 100%|██████████| 2/2 [00:00<00:00, 45.79it/s]"
     ]
    },
    {
     "name": "stderr",
     "output_type": "stream",
     "text": [
      "[2024-12-02 21:17:19] INFO (torcheeg/MainThread) \n",
      "[Test] test_loss: 1.187 test_accuracy: 0.775 \n",
      "\n"
     ]
    },
    {
     "name": "stdout",
     "output_type": "stream",
     "text": [
      "Testing DataLoader 0: 100%|██████████| 2/2 [00:00<00:00, 40.26it/s]\n",
      "────────────────────────────────────────────────────────────────────────────────────────────────────────────────────────\n",
      "       Test metric             DataLoader 0\n",
      "────────────────────────────────────────────────────────────────────────────────────────────────────────────────────────\n",
      "      test_accuracy         0.7749999761581421\n",
      "        test_loss           1.1867048740386963\n",
      "────────────────────────────────────────────────────────────────────────────────────────────────────────────────────────\n",
      "已删除文件夹: /root/autodl-tmp/.autodl/kinlaw/mi_swin/lightning_logs\n"
     ]
    },
    {
     "name": "stderr",
     "output_type": "stream",
     "text": [
      "GPU available: True (cuda), used: True\n",
      "TPU available: False, using: 0 TPU cores\n",
      "IPU available: False, using: 0 IPUs\n",
      "HPU available: False, using: 0 HPUs\n",
      "Missing logger folder: /root/autodl-tmp/.autodl/kinlaw/mi_swin/lightning_logs\n",
      "LOCAL_RANK: 0 - CUDA_VISIBLE_DEVICES: [0]\n",
      "/root/autodl-tmp/conda/envs/law/lib/python3.8/site-packages/pytorch_lightning/trainer/connectors/data_connector.py:224: PossibleUserWarning: The dataloader, train_dataloader, does not have many workers which may be a bottleneck. Consider increasing the value of the `num_workers` argument` (try 128 which is the number of cpus on this machine) in the `DataLoader` init to improve performance.\n",
      "  rank_zero_warn(\n",
      "/root/autodl-tmp/conda/envs/law/lib/python3.8/site-packages/pytorch_lightning/trainer/trainer.py:1609: PossibleUserWarning: The number of training batches (7) is smaller than the logging interval Trainer(log_every_n_steps=50). Set a lower value for log_every_n_steps if you want to see logs for the training epoch.\n",
      "  rank_zero_warn(\n"
     ]
    },
    {
     "name": "stdout",
     "output_type": "stream",
     "text": [
      "Epoch 0: 100%|██████████| 7/7 [00:00<00:00,  9.60it/s, loss=2.9, v_num=0, train_loss=0.402, train_accuracy=0.750]  "
     ]
    },
    {
     "name": "stderr",
     "output_type": "stream",
     "text": [
      "Metric train_loss improved. New best score: 0.402\n"
     ]
    },
    {
     "name": "stdout",
     "output_type": "stream",
     "text": [
      "Epoch 0: 100%|██████████| 7/7 [00:00<00:00,  9.58it/s, loss=2.9, v_num=0, train_loss=0.402, train_accuracy=0.750]"
     ]
    },
    {
     "name": "stderr",
     "output_type": "stream",
     "text": [
      "[2024-12-02 21:17:26] INFO (torcheeg/MainThread) \n",
      "[Train] train_loss: 2.903 train_accuracy: 0.450 \n",
      "\n"
     ]
    },
    {
     "name": "stdout",
     "output_type": "stream",
     "text": [
      "Epoch 1: 100%|██████████| 7/7 [00:00<00:00,  9.89it/s, loss=1.64, v_num=0, train_loss=0.190, train_accuracy=0.875] "
     ]
    },
    {
     "name": "stderr",
     "output_type": "stream",
     "text": [
      "Metric train_loss improved by 0.212 >= min_delta = 0.0. New best score: 0.190\n"
     ]
    },
    {
     "name": "stdout",
     "output_type": "stream",
     "text": [
      "Epoch 1: 100%|██████████| 7/7 [00:00<00:00,  9.87it/s, loss=1.64, v_num=0, train_loss=0.190, train_accuracy=0.875]"
     ]
    },
    {
     "name": "stderr",
     "output_type": "stream",
     "text": [
      "[2024-12-02 21:17:30] INFO (torcheeg/MainThread) \n",
      "[Train] train_loss: 0.367 train_accuracy: 0.820 \n",
      "\n"
     ]
    },
    {
     "name": "stdout",
     "output_type": "stream",
     "text": [
      "Epoch 2: 100%|██████████| 7/7 [00:00<00:00,  9.87it/s, loss=1.19, v_num=0, train_loss=0.302, train_accuracy=0.750] "
     ]
    },
    {
     "name": "stderr",
     "output_type": "stream",
     "text": [
      "[2024-12-02 21:17:34] INFO (torcheeg/MainThread) \n",
      "[Train] train_loss: 0.280 train_accuracy: 0.920 \n",
      "\n"
     ]
    },
    {
     "name": "stdout",
     "output_type": "stream",
     "text": [
      "Epoch 3: 100%|██████████| 7/7 [00:00<00:00,  9.94it/s, loss=0.282, v_num=0, train_loss=0.0135, train_accuracy=1.000]"
     ]
    },
    {
     "name": "stderr",
     "output_type": "stream",
     "text": [
      "Metric train_loss improved by 0.177 >= min_delta = 0.0. New best score: 0.014\n"
     ]
    },
    {
     "name": "stdout",
     "output_type": "stream",
     "text": [
      "Epoch 3: 100%|██████████| 7/7 [00:00<00:00,  9.92it/s, loss=0.282, v_num=0, train_loss=0.0135, train_accuracy=1.000]"
     ]
    },
    {
     "name": "stderr",
     "output_type": "stream",
     "text": [
      "[2024-12-02 21:17:39] INFO (torcheeg/MainThread) \n",
      "[Train] train_loss: 0.212 train_accuracy: 0.930 \n",
      "\n"
     ]
    },
    {
     "name": "stdout",
     "output_type": "stream",
     "text": [
      "Epoch 4: 100%|██████████| 7/7 [00:00<00:00,  9.73it/s, loss=0.235, v_num=0, train_loss=0.491, train_accuracy=0.875] "
     ]
    },
    {
     "name": "stderr",
     "output_type": "stream",
     "text": [
      "[2024-12-02 21:17:43] INFO (torcheeg/MainThread) \n",
      "[Train] train_loss: 0.196 train_accuracy: 0.930 \n",
      "\n"
     ]
    },
    {
     "name": "stdout",
     "output_type": "stream",
     "text": [
      "Epoch 5: 100%|██████████| 7/7 [00:00<00:00,  9.83it/s, loss=0.159, v_num=0, train_loss=0.00238, train_accuracy=1.000]"
     ]
    },
    {
     "name": "stderr",
     "output_type": "stream",
     "text": [
      "Metric train_loss improved by 0.011 >= min_delta = 0.0. New best score: 0.002\n"
     ]
    },
    {
     "name": "stdout",
     "output_type": "stream",
     "text": [
      "Epoch 5: 100%|██████████| 7/7 [00:00<00:00,  9.80it/s, loss=0.159, v_num=0, train_loss=0.00238, train_accuracy=1.000]"
     ]
    },
    {
     "name": "stderr",
     "output_type": "stream",
     "text": [
      "[2024-12-02 21:17:47] INFO (torcheeg/MainThread) \n",
      "[Train] train_loss: 0.112 train_accuracy: 0.940 \n",
      "\n"
     ]
    },
    {
     "name": "stdout",
     "output_type": "stream",
     "text": [
      "Epoch 6: 100%|██████████| 7/7 [00:00<00:00,  9.68it/s, loss=0.159, v_num=0, train_loss=0.267, train_accuracy=0.875]  "
     ]
    },
    {
     "name": "stderr",
     "output_type": "stream",
     "text": [
      "[2024-12-02 21:17:52] INFO (torcheeg/MainThread) \n",
      "[Train] train_loss: 0.147 train_accuracy: 0.935 \n",
      "\n"
     ]
    },
    {
     "name": "stdout",
     "output_type": "stream",
     "text": [
      "Epoch 7: 100%|██████████| 7/7 [00:00<00:00,  9.82it/s, loss=0.174, v_num=0, train_loss=0.798, train_accuracy=0.875] "
     ]
    },
    {
     "name": "stderr",
     "output_type": "stream",
     "text": [
      "[2024-12-02 21:17:56] INFO (torcheeg/MainThread) \n",
      "[Train] train_loss: 0.270 train_accuracy: 0.935 \n",
      "\n"
     ]
    },
    {
     "name": "stdout",
     "output_type": "stream",
     "text": [
      "Epoch 8: 100%|██████████| 7/7 [00:00<00:00,  9.72it/s, loss=0.308, v_num=0, train_loss=0.496, train_accuracy=0.750]"
     ]
    },
    {
     "name": "stderr",
     "output_type": "stream",
     "text": [
      "[2024-12-02 21:18:01] INFO (torcheeg/MainThread) \n",
      "[Train] train_loss: 0.465 train_accuracy: 0.850 \n",
      "\n"
     ]
    },
    {
     "name": "stdout",
     "output_type": "stream",
     "text": [
      "Epoch 9: 100%|██████████| 7/7 [00:00<00:00,  9.70it/s, loss=0.354, v_num=0, train_loss=0.541, train_accuracy=0.875]"
     ]
    },
    {
     "name": "stderr",
     "output_type": "stream",
     "text": [
      "[2024-12-02 21:18:05] INFO (torcheeg/MainThread) \n",
      "[Train] train_loss: 0.288 train_accuracy: 0.905 \n",
      "\n"
     ]
    },
    {
     "name": "stdout",
     "output_type": "stream",
     "text": [
      "Epoch 10: 100%|██████████| 7/7 [00:00<00:00,  9.76it/s, loss=0.249, v_num=0, train_loss=0.0128, train_accuracy=1.000]"
     ]
    },
    {
     "name": "stderr",
     "output_type": "stream",
     "text": [
      "[2024-12-02 21:18:09] INFO (torcheeg/MainThread) \n",
      "[Train] train_loss: 0.059 train_accuracy: 0.980 \n",
      "\n"
     ]
    },
    {
     "name": "stdout",
     "output_type": "stream",
     "text": [
      "Epoch 11: 100%|██████████| 7/7 [00:00<00:00,  9.84it/s, loss=0.129, v_num=0, train_loss=0.0207, train_accuracy=1.000]"
     ]
    },
    {
     "name": "stderr",
     "output_type": "stream",
     "text": [
      "[2024-12-02 21:18:14] INFO (torcheeg/MainThread) \n",
      "[Train] train_loss: 0.059 train_accuracy: 0.970 \n",
      "\n"
     ]
    },
    {
     "name": "stdout",
     "output_type": "stream",
     "text": [
      "Epoch 12: 100%|██████████| 7/7 [00:00<00:00,  9.64it/s, loss=0.0719, v_num=0, train_loss=0.0014, train_accuracy=1.000]"
     ]
    },
    {
     "name": "stderr",
     "output_type": "stream",
     "text": [
      "Metric train_loss improved by 0.001 >= min_delta = 0.0. New best score: 0.001\n"
     ]
    },
    {
     "name": "stdout",
     "output_type": "stream",
     "text": [
      "Epoch 12: 100%|██████████| 7/7 [00:00<00:00,  9.61it/s, loss=0.0719, v_num=0, train_loss=0.0014, train_accuracy=1.000]"
     ]
    },
    {
     "name": "stderr",
     "output_type": "stream",
     "text": [
      "[2024-12-02 21:18:18] INFO (torcheeg/MainThread) \n",
      "[Train] train_loss: 0.112 train_accuracy: 0.970 \n",
      "\n"
     ]
    },
    {
     "name": "stdout",
     "output_type": "stream",
     "text": [
      "Epoch 13: 100%|██████████| 7/7 [00:00<00:00,  9.88it/s, loss=0.0735, v_num=0, train_loss=0.00263, train_accuracy=1.000]"
     ]
    },
    {
     "name": "stderr",
     "output_type": "stream",
     "text": [
      "[2024-12-02 21:18:22] INFO (torcheeg/MainThread) \n",
      "[Train] train_loss: 0.045 train_accuracy: 0.990 \n",
      "\n"
     ]
    },
    {
     "name": "stdout",
     "output_type": "stream",
     "text": [
      "Epoch 14: 100%|██████████| 7/7 [00:00<00:00,  9.74it/s, loss=0.0536, v_num=0, train_loss=0.0223, train_accuracy=1.000]  "
     ]
    },
    {
     "name": "stderr",
     "output_type": "stream",
     "text": [
      "[2024-12-02 21:18:27] INFO (torcheeg/MainThread) \n",
      "[Train] train_loss: 0.019 train_accuracy: 0.995 \n",
      "\n"
     ]
    },
    {
     "name": "stdout",
     "output_type": "stream",
     "text": [
      "Epoch 15: 100%|██████████| 7/7 [00:00<00:00,  9.91it/s, loss=0.0443, v_num=0, train_loss=0.00187, train_accuracy=1.000]"
     ]
    },
    {
     "name": "stderr",
     "output_type": "stream",
     "text": [
      "[2024-12-02 21:18:31] INFO (torcheeg/MainThread) \n",
      "[Train] train_loss: 0.063 train_accuracy: 0.985 \n",
      "\n"
     ]
    },
    {
     "name": "stdout",
     "output_type": "stream",
     "text": [
      "Epoch 16: 100%|██████████| 7/7 [00:00<00:00,  9.91it/s, loss=0.0361, v_num=0, train_loss=0.00326, train_accuracy=1.000]"
     ]
    },
    {
     "name": "stderr",
     "output_type": "stream",
     "text": [
      "[2024-12-02 21:18:35] INFO (torcheeg/MainThread) \n",
      "[Train] train_loss: 0.021 train_accuracy: 0.995 \n",
      "\n"
     ]
    },
    {
     "name": "stdout",
     "output_type": "stream",
     "text": [
      "Epoch 17: 100%|██████████| 7/7 [00:00<00:00,  9.93it/s, loss=0.0434, v_num=0, train_loss=0.00111, train_accuracy=1.000]"
     ]
    },
    {
     "name": "stderr",
     "output_type": "stream",
     "text": [
      "Metric train_loss improved by 0.000 >= min_delta = 0.0. New best score: 0.001\n"
     ]
    },
    {
     "name": "stdout",
     "output_type": "stream",
     "text": [
      "Epoch 17: 100%|██████████| 7/7 [00:00<00:00,  9.91it/s, loss=0.0434, v_num=0, train_loss=0.00111, train_accuracy=1.000]"
     ]
    },
    {
     "name": "stderr",
     "output_type": "stream",
     "text": [
      "[2024-12-02 21:18:40] INFO (torcheeg/MainThread) \n",
      "[Train] train_loss: 0.043 train_accuracy: 0.985 \n",
      "\n"
     ]
    },
    {
     "name": "stdout",
     "output_type": "stream",
     "text": [
      "Epoch 18: 100%|██████████| 7/7 [00:00<00:00,  9.94it/s, loss=0.0291, v_num=0, train_loss=0.0194, train_accuracy=1.000] "
     ]
    },
    {
     "name": "stderr",
     "output_type": "stream",
     "text": [
      "[2024-12-02 21:18:44] INFO (torcheeg/MainThread) \n",
      "[Train] train_loss: 0.021 train_accuracy: 0.995 \n",
      "\n"
     ]
    },
    {
     "name": "stdout",
     "output_type": "stream",
     "text": [
      "Epoch 19: 100%|██████████| 7/7 [00:00<00:00,  9.91it/s, loss=0.0384, v_num=0, train_loss=0.000989, train_accuracy=1.000]"
     ]
    },
    {
     "name": "stderr",
     "output_type": "stream",
     "text": [
      "Metric train_loss improved by 0.000 >= min_delta = 0.0. New best score: 0.001\n"
     ]
    },
    {
     "name": "stdout",
     "output_type": "stream",
     "text": [
      "Epoch 19: 100%|██████████| 7/7 [00:00<00:00,  9.89it/s, loss=0.0384, v_num=0, train_loss=0.000989, train_accuracy=1.000]"
     ]
    },
    {
     "name": "stderr",
     "output_type": "stream",
     "text": [
      "[2024-12-02 21:18:48] INFO (torcheeg/MainThread) \n",
      "[Train] train_loss: 0.048 train_accuracy: 0.980 \n",
      "\n"
     ]
    },
    {
     "name": "stdout",
     "output_type": "stream",
     "text": [
      "Epoch 20: 100%|██████████| 7/7 [00:00<00:00,  9.99it/s, loss=0.0326, v_num=0, train_loss=0.000985, train_accuracy=1.000]"
     ]
    },
    {
     "name": "stderr",
     "output_type": "stream",
     "text": [
      "Metric train_loss improved by 0.000 >= min_delta = 0.0. New best score: 0.001\n"
     ]
    },
    {
     "name": "stdout",
     "output_type": "stream",
     "text": [
      "Epoch 20: 100%|██████████| 7/7 [00:00<00:00,  9.97it/s, loss=0.0326, v_num=0, train_loss=0.000985, train_accuracy=1.000]"
     ]
    },
    {
     "name": "stderr",
     "output_type": "stream",
     "text": [
      "[2024-12-02 21:18:53] INFO (torcheeg/MainThread) \n",
      "[Train] train_loss: 0.027 train_accuracy: 0.985 \n",
      "\n"
     ]
    },
    {
     "name": "stdout",
     "output_type": "stream",
     "text": [
      "Epoch 21: 100%|██████████| 7/7 [00:00<00:00,  9.88it/s, loss=0.03, v_num=0, train_loss=0.000436, train_accuracy=1.000]  "
     ]
    },
    {
     "name": "stderr",
     "output_type": "stream",
     "text": [
      "Metric train_loss improved by 0.001 >= min_delta = 0.0. New best score: 0.000\n"
     ]
    },
    {
     "name": "stdout",
     "output_type": "stream",
     "text": [
      "Epoch 21: 100%|██████████| 7/7 [00:00<00:00,  9.86it/s, loss=0.03, v_num=0, train_loss=0.000436, train_accuracy=1.000]"
     ]
    },
    {
     "name": "stderr",
     "output_type": "stream",
     "text": [
      "[2024-12-02 21:18:57] INFO (torcheeg/MainThread) \n",
      "[Train] train_loss: 0.014 train_accuracy: 0.995 \n",
      "\n"
     ]
    },
    {
     "name": "stdout",
     "output_type": "stream",
     "text": [
      "Epoch 22: 100%|██████████| 7/7 [00:00<00:00,  9.97it/s, loss=0.0186, v_num=0, train_loss=0.00101, train_accuracy=1.000] "
     ]
    },
    {
     "name": "stderr",
     "output_type": "stream",
     "text": [
      "[2024-12-02 21:19:01] INFO (torcheeg/MainThread) \n",
      "[Train] train_loss: 0.020 train_accuracy: 0.990 \n",
      "\n"
     ]
    },
    {
     "name": "stdout",
     "output_type": "stream",
     "text": [
      "Epoch 23: 100%|██████████| 7/7 [00:00<00:00,  9.91it/s, loss=0.0174, v_num=0, train_loss=7.64e-5, train_accuracy=1.000]"
     ]
    },
    {
     "name": "stderr",
     "output_type": "stream",
     "text": [
      "Metric train_loss improved by 0.000 >= min_delta = 0.0. New best score: 0.000\n"
     ]
    },
    {
     "name": "stdout",
     "output_type": "stream",
     "text": [
      "Epoch 23: 100%|██████████| 7/7 [00:00<00:00,  9.89it/s, loss=0.0174, v_num=0, train_loss=7.64e-5, train_accuracy=1.000]"
     ]
    },
    {
     "name": "stderr",
     "output_type": "stream",
     "text": [
      "[2024-12-02 21:19:06] INFO (torcheeg/MainThread) \n",
      "[Train] train_loss: 0.019 train_accuracy: 0.990 \n",
      "\n"
     ]
    },
    {
     "name": "stdout",
     "output_type": "stream",
     "text": [
      "Epoch 24: 100%|██████████| 7/7 [00:00<00:00,  9.91it/s, loss=0.0255, v_num=0, train_loss=0.000457, train_accuracy=1.000]"
     ]
    },
    {
     "name": "stderr",
     "output_type": "stream",
     "text": [
      "[2024-12-02 21:19:10] INFO (torcheeg/MainThread) \n",
      "[Train] train_loss: 0.035 train_accuracy: 0.985 \n",
      "\n"
     ]
    },
    {
     "name": "stdout",
     "output_type": "stream",
     "text": [
      "Epoch 25: 100%|██████████| 7/7 [00:00<00:00,  9.77it/s, loss=0.0215, v_num=0, train_loss=0.0103, train_accuracy=1.000]  "
     ]
    },
    {
     "name": "stderr",
     "output_type": "stream",
     "text": [
      "[2024-12-02 21:19:14] INFO (torcheeg/MainThread) \n",
      "[Train] train_loss: 0.014 train_accuracy: 0.995 \n",
      "\n"
     ]
    },
    {
     "name": "stdout",
     "output_type": "stream",
     "text": [
      "Epoch 26: 100%|██████████| 7/7 [00:00<00:00,  9.95it/s, loss=0.0144, v_num=0, train_loss=0.00082, train_accuracy=1.000]"
     ]
    },
    {
     "name": "stderr",
     "output_type": "stream",
     "text": [
      "[2024-12-02 21:19:18] INFO (torcheeg/MainThread) \n",
      "[Train] train_loss: 0.005 train_accuracy: 1.000 \n",
      "\n"
     ]
    },
    {
     "name": "stdout",
     "output_type": "stream",
     "text": [
      "Epoch 27: 100%|██████████| 7/7 [00:00<00:00,  9.90it/s, loss=0.0112, v_num=0, train_loss=0.000217, train_accuracy=1.000]"
     ]
    },
    {
     "name": "stderr",
     "output_type": "stream",
     "text": [
      "[2024-12-02 21:19:23] INFO (torcheeg/MainThread) \n",
      "[Train] train_loss: 0.013 train_accuracy: 0.990 \n",
      "\n"
     ]
    },
    {
     "name": "stdout",
     "output_type": "stream",
     "text": [
      "Epoch 28: 100%|██████████| 7/7 [00:00<00:00,  9.72it/s, loss=0.0134, v_num=0, train_loss=0.054, train_accuracy=1.000]   "
     ]
    },
    {
     "name": "stderr",
     "output_type": "stream",
     "text": [
      "[2024-12-02 21:19:27] INFO (torcheeg/MainThread) \n",
      "[Train] train_loss: 0.021 train_accuracy: 0.995 \n",
      "\n"
     ]
    },
    {
     "name": "stdout",
     "output_type": "stream",
     "text": [
      "Epoch 29: 100%|██████████| 7/7 [00:00<00:00,  9.79it/s, loss=0.00927, v_num=0, train_loss=7.05e-5, train_accuracy=1.000]"
     ]
    },
    {
     "name": "stderr",
     "output_type": "stream",
     "text": [
      "Metric train_loss improved by 0.000 >= min_delta = 0.0. New best score: 0.000\n"
     ]
    },
    {
     "name": "stdout",
     "output_type": "stream",
     "text": [
      "Epoch 29: 100%|██████████| 7/7 [00:00<00:00,  9.77it/s, loss=0.00927, v_num=0, train_loss=7.05e-5, train_accuracy=1.000]"
     ]
    },
    {
     "name": "stderr",
     "output_type": "stream",
     "text": [
      "[2024-12-02 21:19:31] INFO (torcheeg/MainThread) \n",
      "[Train] train_loss: 0.001 train_accuracy: 1.000 \n",
      "\n"
     ]
    },
    {
     "name": "stdout",
     "output_type": "stream",
     "text": [
      "Epoch 30: 100%|██████████| 7/7 [00:00<00:00,  9.90it/s, loss=0.0152, v_num=0, train_loss=0.0181, train_accuracy=1.000]  "
     ]
    },
    {
     "name": "stderr",
     "output_type": "stream",
     "text": [
      "[2024-12-02 21:19:35] INFO (torcheeg/MainThread) \n",
      "[Train] train_loss: 0.022 train_accuracy: 0.990 \n",
      "\n"
     ]
    },
    {
     "name": "stdout",
     "output_type": "stream",
     "text": [
      "Epoch 31: 100%|██████████| 7/7 [00:00<00:00,  9.90it/s, loss=0.00947, v_num=0, train_loss=0.00264, train_accuracy=1.000] "
     ]
    },
    {
     "name": "stderr",
     "output_type": "stream",
     "text": [
      "[2024-12-02 21:19:40] INFO (torcheeg/MainThread) \n",
      "[Train] train_loss: 0.004 train_accuracy: 0.995 \n",
      "\n"
     ]
    },
    {
     "name": "stdout",
     "output_type": "stream",
     "text": [
      "Epoch 32: 100%|██████████| 7/7 [00:00<00:00,  9.91it/s, loss=0.0137, v_num=0, train_loss=1.76e-5, train_accuracy=1.000] "
     ]
    },
    {
     "name": "stderr",
     "output_type": "stream",
     "text": [
      "Metric train_loss improved by 0.000 >= min_delta = 0.0. New best score: 0.000\n"
     ]
    },
    {
     "name": "stdout",
     "output_type": "stream",
     "text": [
      "Epoch 32: 100%|██████████| 7/7 [00:00<00:00,  9.89it/s, loss=0.0137, v_num=0, train_loss=1.76e-5, train_accuracy=1.000]"
     ]
    },
    {
     "name": "stderr",
     "output_type": "stream",
     "text": [
      "[2024-12-02 21:19:44] INFO (torcheeg/MainThread) \n",
      "[Train] train_loss: 0.021 train_accuracy: 0.990 \n",
      "\n"
     ]
    },
    {
     "name": "stdout",
     "output_type": "stream",
     "text": [
      "Epoch 33: 100%|██████████| 7/7 [00:00<00:00,  9.76it/s, loss=0.0204, v_num=0, train_loss=0.000205, train_accuracy=1.000]"
     ]
    },
    {
     "name": "stderr",
     "output_type": "stream",
     "text": [
      "[2024-12-02 21:19:48] INFO (torcheeg/MainThread) \n",
      "[Train] train_loss: 0.037 train_accuracy: 0.995 \n",
      "\n"
     ]
    },
    {
     "name": "stdout",
     "output_type": "stream",
     "text": [
      "Epoch 34: 100%|██████████| 7/7 [00:00<00:00,  9.77it/s, loss=0.0255, v_num=0, train_loss=0.0472, train_accuracy=1.000]  "
     ]
    },
    {
     "name": "stderr",
     "output_type": "stream",
     "text": [
      "[2024-12-02 21:19:52] INFO (torcheeg/MainThread) \n",
      "[Train] train_loss: 0.021 train_accuracy: 0.990 \n",
      "\n"
     ]
    },
    {
     "name": "stdout",
     "output_type": "stream",
     "text": [
      "Epoch 35: 100%|██████████| 7/7 [00:00<00:00,  9.64it/s, loss=0.0213, v_num=0, train_loss=0.000435, train_accuracy=1.000]"
     ]
    },
    {
     "name": "stderr",
     "output_type": "stream",
     "text": [
      "[2024-12-02 21:19:57] INFO (torcheeg/MainThread) \n",
      "[Train] train_loss: 0.003 train_accuracy: 1.000 \n",
      "\n"
     ]
    },
    {
     "name": "stdout",
     "output_type": "stream",
     "text": [
      "Epoch 36: 100%|██████████| 7/7 [00:00<00:00,  9.80it/s, loss=0.0077, v_num=0, train_loss=5.23e-5, train_accuracy=1.000]  "
     ]
    },
    {
     "name": "stderr",
     "output_type": "stream",
     "text": [
      "[2024-12-02 21:20:01] INFO (torcheeg/MainThread) \n",
      "[Train] train_loss: 0.003 train_accuracy: 1.000 \n",
      "\n"
     ]
    },
    {
     "name": "stdout",
     "output_type": "stream",
     "text": [
      "Epoch 37: 100%|██████████| 7/7 [00:00<00:00,  9.92it/s, loss=0.0156, v_num=0, train_loss=0.261, train_accuracy=0.875]    "
     ]
    },
    {
     "name": "stderr",
     "output_type": "stream",
     "text": [
      "[2024-12-02 21:20:05] INFO (torcheeg/MainThread) \n",
      "[Train] train_loss: 0.039 train_accuracy: 0.995 \n",
      "\n"
     ]
    },
    {
     "name": "stdout",
     "output_type": "stream",
     "text": [
      "Epoch 38: 100%|██████████| 7/7 [00:00<00:00,  9.86it/s, loss=0.0423, v_num=0, train_loss=0.00523, train_accuracy=1.000] "
     ]
    },
    {
     "name": "stderr",
     "output_type": "stream",
     "text": [
      "[2024-12-02 21:20:10] INFO (torcheeg/MainThread) \n",
      "[Train] train_loss: 0.080 train_accuracy: 0.980 \n",
      "\n"
     ]
    },
    {
     "name": "stdout",
     "output_type": "stream",
     "text": [
      "Epoch 39: 100%|██████████| 7/7 [00:00<00:00,  9.80it/s, loss=0.0751, v_num=0, train_loss=0.000565, train_accuracy=1.000]"
     ]
    },
    {
     "name": "stderr",
     "output_type": "stream",
     "text": [
      "[2024-12-02 21:20:14] INFO (torcheeg/MainThread) \n",
      "[Train] train_loss: 0.096 train_accuracy: 0.965 \n",
      "\n"
     ]
    },
    {
     "name": "stdout",
     "output_type": "stream",
     "text": [
      "Epoch 40: 100%|██████████| 7/7 [00:00<00:00,  9.85it/s, loss=0.083, v_num=0, train_loss=0.000148, train_accuracy=1.000] "
     ]
    },
    {
     "name": "stderr",
     "output_type": "stream",
     "text": [
      "[2024-12-02 21:20:18] INFO (torcheeg/MainThread) \n",
      "[Train] train_loss: 0.061 train_accuracy: 0.985 \n",
      "\n"
     ]
    },
    {
     "name": "stdout",
     "output_type": "stream",
     "text": [
      "Epoch 41: 100%|██████████| 7/7 [00:00<00:00,  9.93it/s, loss=0.052, v_num=0, train_loss=0.000458, train_accuracy=1.000] "
     ]
    },
    {
     "name": "stderr",
     "output_type": "stream",
     "text": [
      "[2024-12-02 21:20:22] INFO (torcheeg/MainThread) \n",
      "[Train] train_loss: 0.039 train_accuracy: 0.990 \n",
      "\n"
     ]
    },
    {
     "name": "stdout",
     "output_type": "stream",
     "text": [
      "Epoch 42: 100%|██████████| 7/7 [00:00<00:00,  9.82it/s, loss=0.0288, v_num=0, train_loss=0.00324, train_accuracy=1.000]"
     ]
    },
    {
     "name": "stderr",
     "output_type": "stream",
     "text": [
      "[2024-12-02 21:20:27] INFO (torcheeg/MainThread) \n",
      "[Train] train_loss: 0.009 train_accuracy: 0.995 \n",
      "\n"
     ]
    },
    {
     "name": "stdout",
     "output_type": "stream",
     "text": [
      "Epoch 43: 100%|██████████| 7/7 [00:00<00:00,  9.70it/s, loss=0.0207, v_num=0, train_loss=0.00105, train_accuracy=1.000]"
     ]
    },
    {
     "name": "stderr",
     "output_type": "stream",
     "text": [
      "[2024-12-02 21:20:31] INFO (torcheeg/MainThread) \n",
      "[Train] train_loss: 0.012 train_accuracy: 0.990 \n",
      "\n"
     ]
    },
    {
     "name": "stdout",
     "output_type": "stream",
     "text": [
      "Epoch 44: 100%|██████████| 7/7 [00:00<00:00, 10.01it/s, loss=0.0388, v_num=0, train_loss=0.328, train_accuracy=0.875]  "
     ]
    },
    {
     "name": "stderr",
     "output_type": "stream",
     "text": [
      "[2024-12-02 21:20:35] INFO (torcheeg/MainThread) \n",
      "[Train] train_loss: 0.091 train_accuracy: 0.975 \n",
      "\n"
     ]
    },
    {
     "name": "stdout",
     "output_type": "stream",
     "text": [
      "Epoch 45: 100%|██████████| 7/7 [00:00<00:00,  9.64it/s, loss=0.0375, v_num=0, train_loss=0.000323, train_accuracy=1.000]"
     ]
    },
    {
     "name": "stderr",
     "output_type": "stream",
     "text": [
      "[2024-12-02 21:20:39] INFO (torcheeg/MainThread) \n",
      "[Train] train_loss: 0.009 train_accuracy: 0.995 \n",
      "\n"
     ]
    },
    {
     "name": "stdout",
     "output_type": "stream",
     "text": [
      "Epoch 46: 100%|██████████| 7/7 [00:00<00:00,  9.95it/s, loss=0.0661, v_num=0, train_loss=0.269, train_accuracy=0.875]   "
     ]
    },
    {
     "name": "stderr",
     "output_type": "stream",
     "text": [
      "[2024-12-02 21:20:44] INFO (torcheeg/MainThread) \n",
      "[Train] train_loss: 0.093 train_accuracy: 0.980 \n",
      "\n"
     ]
    },
    {
     "name": "stdout",
     "output_type": "stream",
     "text": [
      "Epoch 47: 100%|██████████| 7/7 [00:00<00:00,  9.97it/s, loss=0.0538, v_num=0, train_loss=0.0145, train_accuracy=1.000] "
     ]
    },
    {
     "name": "stderr",
     "output_type": "stream",
     "text": [
      "[2024-12-02 21:20:48] INFO (torcheeg/MainThread) \n",
      "[Train] train_loss: 0.055 train_accuracy: 0.970 \n",
      "\n"
     ]
    },
    {
     "name": "stdout",
     "output_type": "stream",
     "text": [
      "Epoch 48: 100%|██████████| 7/7 [00:00<00:00,  9.81it/s, loss=0.116, v_num=0, train_loss=1.080, train_accuracy=0.875]   "
     ]
    },
    {
     "name": "stderr",
     "output_type": "stream",
     "text": [
      "[2024-12-02 21:20:52] INFO (torcheeg/MainThread) \n",
      "[Train] train_loss: 0.197 train_accuracy: 0.985 \n",
      "\n"
     ]
    },
    {
     "name": "stdout",
     "output_type": "stream",
     "text": [
      "Epoch 49: 100%|██████████| 7/7 [00:00<00:00,  9.82it/s, loss=0.0895, v_num=0, train_loss=0.00303, train_accuracy=1.000]"
     ]
    },
    {
     "name": "stderr",
     "output_type": "stream",
     "text": [
      "[2024-12-02 21:20:56] INFO (torcheeg/MainThread) \n",
      "[Train] train_loss: 0.023 train_accuracy: 0.990 \n",
      "\n"
     ]
    },
    {
     "name": "stdout",
     "output_type": "stream",
     "text": [
      "Epoch 50: 100%|██████████| 7/7 [00:00<00:00,  9.73it/s, loss=0.0902, v_num=0, train_loss=0.0108, train_accuracy=1.000] "
     ]
    },
    {
     "name": "stderr",
     "output_type": "stream",
     "text": [
      "[2024-12-02 21:21:01] INFO (torcheeg/MainThread) \n",
      "[Train] train_loss: 0.045 train_accuracy: 0.990 \n",
      "\n"
     ]
    },
    {
     "name": "stdout",
     "output_type": "stream",
     "text": [
      "Epoch 51: 100%|██████████| 7/7 [00:00<00:00,  9.82it/s, loss=0.0379, v_num=0, train_loss=0.000419, train_accuracy=1.000]"
     ]
    },
    {
     "name": "stderr",
     "output_type": "stream",
     "text": [
      "[2024-12-02 21:21:05] INFO (torcheeg/MainThread) \n",
      "[Train] train_loss: 0.041 train_accuracy: 0.970 \n",
      "\n"
     ]
    },
    {
     "name": "stdout",
     "output_type": "stream",
     "text": [
      "Epoch 52: 100%|██████████| 7/7 [00:00<00:00,  9.82it/s, loss=0.0395, v_num=0, train_loss=0.00471, train_accuracy=1.000] "
     ]
    },
    {
     "name": "stderr",
     "output_type": "stream",
     "text": [
      "Monitored metric train_loss did not improve in the last 20 records. Best score: 0.000. Signaling Trainer to stop.\n"
     ]
    },
    {
     "name": "stdout",
     "output_type": "stream",
     "text": [
      "Epoch 52: 100%|██████████| 7/7 [00:00<00:00,  9.80it/s, loss=0.0395, v_num=0, train_loss=0.00471, train_accuracy=1.000]"
     ]
    },
    {
     "name": "stderr",
     "output_type": "stream",
     "text": [
      "[2024-12-02 21:21:09] INFO (torcheeg/MainThread) \n",
      "[Train] train_loss: 0.029 train_accuracy: 0.990 \n",
      "\n"
     ]
    },
    {
     "name": "stdout",
     "output_type": "stream",
     "text": [
      "Epoch 52: 100%|██████████| 7/7 [00:04<00:00,  1.59it/s, loss=0.0395, v_num=0, train_loss=0.00471, train_accuracy=1.000]\n"
     ]
    },
    {
     "name": "stderr",
     "output_type": "stream",
     "text": [
      "GPU available: True (cuda), used: True\n",
      "TPU available: False, using: 0 TPU cores\n",
      "IPU available: False, using: 0 IPUs\n",
      "HPU available: False, using: 0 HPUs\n",
      "LOCAL_RANK: 0 - CUDA_VISIBLE_DEVICES: [0]\n",
      "/root/autodl-tmp/conda/envs/law/lib/python3.8/site-packages/pytorch_lightning/trainer/connectors/data_connector.py:224: PossibleUserWarning: The dataloader, test_dataloader 0, does not have many workers which may be a bottleneck. Consider increasing the value of the `num_workers` argument` (try 128 which is the number of cpus on this machine) in the `DataLoader` init to improve performance.\n",
      "  rank_zero_warn(\n"
     ]
    },
    {
     "name": "stdout",
     "output_type": "stream",
     "text": [
      "Testing DataLoader 0: 100%|██████████| 3/3 [00:00<00:00, 39.78it/s]"
     ]
    },
    {
     "name": "stderr",
     "output_type": "stream",
     "text": [
      "[2024-12-02 21:21:11] INFO (torcheeg/MainThread) \n",
      "[Test] test_loss: 0.573 test_accuracy: 0.863 \n",
      "\n"
     ]
    },
    {
     "name": "stdout",
     "output_type": "stream",
     "text": [
      "Testing DataLoader 0: 100%|██████████| 3/3 [00:00<00:00, 37.20it/s]\n",
      "────────────────────────────────────────────────────────────────────────────────────────────────────────────────────────\n",
      "       Test metric             DataLoader 0\n",
      "────────────────────────────────────────────────────────────────────────────────────────────────────────────────────────\n",
      "      test_accuracy          0.862500011920929\n",
      "        test_loss           0.5725885033607483\n",
      "────────────────────────────────────────────────────────────────────────────────────────────────────────────────────────\n",
      "已删除文件夹: /root/autodl-tmp/.autodl/kinlaw/mi_swin/lightning_logs\n"
     ]
    },
    {
     "name": "stderr",
     "output_type": "stream",
     "text": [
      "GPU available: True (cuda), used: True\n",
      "TPU available: False, using: 0 TPU cores\n",
      "IPU available: False, using: 0 IPUs\n",
      "HPU available: False, using: 0 HPUs\n",
      "Missing logger folder: /root/autodl-tmp/.autodl/kinlaw/mi_swin/lightning_logs\n",
      "LOCAL_RANK: 0 - CUDA_VISIBLE_DEVICES: [0]\n",
      "/root/autodl-tmp/conda/envs/law/lib/python3.8/site-packages/pytorch_lightning/trainer/connectors/data_connector.py:224: PossibleUserWarning: The dataloader, train_dataloader, does not have many workers which may be a bottleneck. Consider increasing the value of the `num_workers` argument` (try 128 which is the number of cpus on this machine) in the `DataLoader` init to improve performance.\n",
      "  rank_zero_warn(\n",
      "/root/autodl-tmp/conda/envs/law/lib/python3.8/site-packages/pytorch_lightning/trainer/trainer.py:1609: PossibleUserWarning: The number of training batches (7) is smaller than the logging interval Trainer(log_every_n_steps=50). Set a lower value for log_every_n_steps if you want to see logs for the training epoch.\n",
      "  rank_zero_warn(\n"
     ]
    },
    {
     "name": "stdout",
     "output_type": "stream",
     "text": [
      "Epoch 0: 100%|██████████| 7/7 [00:00<00:00,  9.56it/s, loss=2.23, v_num=0, train_loss=1.610, train_accuracy=0.750] "
     ]
    },
    {
     "name": "stderr",
     "output_type": "stream",
     "text": [
      "Metric train_loss improved. New best score: 1.613\n"
     ]
    },
    {
     "name": "stdout",
     "output_type": "stream",
     "text": [
      "Epoch 0: 100%|██████████| 7/7 [00:00<00:00,  9.54it/s, loss=2.23, v_num=0, train_loss=1.610, train_accuracy=0.750]"
     ]
    },
    {
     "name": "stderr",
     "output_type": "stream",
     "text": [
      "[2024-12-02 21:21:17] INFO (torcheeg/MainThread) \n",
      "[Train] train_loss: 2.230 train_accuracy: 0.540 \n",
      "\n"
     ]
    },
    {
     "name": "stdout",
     "output_type": "stream",
     "text": [
      "Epoch 1: 100%|██████████| 7/7 [00:00<00:00,  9.92it/s, loss=1.59, v_num=0, train_loss=0.108, train_accuracy=1.000]"
     ]
    },
    {
     "name": "stderr",
     "output_type": "stream",
     "text": [
      "Metric train_loss improved by 1.506 >= min_delta = 0.0. New best score: 0.108\n"
     ]
    },
    {
     "name": "stdout",
     "output_type": "stream",
     "text": [
      "Epoch 1: 100%|██████████| 7/7 [00:00<00:00,  9.89it/s, loss=1.59, v_num=0, train_loss=0.108, train_accuracy=1.000]"
     ]
    },
    {
     "name": "stderr",
     "output_type": "stream",
     "text": [
      "[2024-12-02 21:21:22] INFO (torcheeg/MainThread) \n",
      "[Train] train_loss: 0.949 train_accuracy: 0.710 \n",
      "\n"
     ]
    },
    {
     "name": "stdout",
     "output_type": "stream",
     "text": [
      "Epoch 2: 100%|██████████| 7/7 [00:00<00:00,  9.68it/s, loss=1.25, v_num=0, train_loss=0.376, train_accuracy=0.750]"
     ]
    },
    {
     "name": "stderr",
     "output_type": "stream",
     "text": [
      "[2024-12-02 21:21:26] INFO (torcheeg/MainThread) \n",
      "[Train] train_loss: 0.526 train_accuracy: 0.825 \n",
      "\n"
     ]
    },
    {
     "name": "stdout",
     "output_type": "stream",
     "text": [
      "Epoch 3: 100%|██████████| 7/7 [00:00<00:00,  9.98it/s, loss=0.538, v_num=0, train_loss=0.367, train_accuracy=0.875] "
     ]
    },
    {
     "name": "stderr",
     "output_type": "stream",
     "text": [
      "[2024-12-02 21:21:30] INFO (torcheeg/MainThread) \n",
      "[Train] train_loss: 0.291 train_accuracy: 0.905 \n",
      "\n"
     ]
    },
    {
     "name": "stdout",
     "output_type": "stream",
     "text": [
      "Epoch 4: 100%|██████████| 7/7 [00:00<00:00,  9.79it/s, loss=0.311, v_num=0, train_loss=0.000339, train_accuracy=1.000]"
     ]
    },
    {
     "name": "stderr",
     "output_type": "stream",
     "text": [
      "Metric train_loss improved by 0.107 >= min_delta = 0.0. New best score: 0.000\n"
     ]
    },
    {
     "name": "stdout",
     "output_type": "stream",
     "text": [
      "Epoch 4: 100%|██████████| 7/7 [00:00<00:00,  9.76it/s, loss=0.311, v_num=0, train_loss=0.000339, train_accuracy=1.000]"
     ]
    },
    {
     "name": "stderr",
     "output_type": "stream",
     "text": [
      "[2024-12-02 21:21:35] INFO (torcheeg/MainThread) \n",
      "[Train] train_loss: 0.169 train_accuracy: 0.930 \n",
      "\n"
     ]
    },
    {
     "name": "stdout",
     "output_type": "stream",
     "text": [
      "Epoch 5: 100%|██████████| 7/7 [00:00<00:00,  9.86it/s, loss=0.273, v_num=0, train_loss=1.130, train_accuracy=0.750]   "
     ]
    },
    {
     "name": "stderr",
     "output_type": "stream",
     "text": [
      "[2024-12-02 21:21:39] INFO (torcheeg/MainThread) \n",
      "[Train] train_loss: 0.360 train_accuracy: 0.925 \n",
      "\n"
     ]
    },
    {
     "name": "stdout",
     "output_type": "stream",
     "text": [
      "Epoch 6: 100%|██████████| 7/7 [00:00<00:00,  9.91it/s, loss=0.226, v_num=0, train_loss=0.023, train_accuracy=1.000] "
     ]
    },
    {
     "name": "stderr",
     "output_type": "stream",
     "text": [
      "[2024-12-02 21:21:44] INFO (torcheeg/MainThread) \n",
      "[Train] train_loss: 0.122 train_accuracy: 0.945 \n",
      "\n"
     ]
    },
    {
     "name": "stdout",
     "output_type": "stream",
     "text": [
      "Epoch 7: 100%|██████████| 7/7 [00:00<00:00,  9.84it/s, loss=0.209, v_num=0, train_loss=0.148, train_accuracy=0.875] "
     ]
    },
    {
     "name": "stderr",
     "output_type": "stream",
     "text": [
      "[2024-12-02 21:21:48] INFO (torcheeg/MainThread) \n",
      "[Train] train_loss: 0.115 train_accuracy: 0.960 \n",
      "\n"
     ]
    },
    {
     "name": "stdout",
     "output_type": "stream",
     "text": [
      "Epoch 8: 100%|██████████| 7/7 [00:00<00:00,  9.77it/s, loss=0.0864, v_num=0, train_loss=0.0397, train_accuracy=1.000]"
     ]
    },
    {
     "name": "stderr",
     "output_type": "stream",
     "text": [
      "[2024-12-02 21:21:52] INFO (torcheeg/MainThread) \n",
      "[Train] train_loss: 0.046 train_accuracy: 0.990 \n",
      "\n"
     ]
    },
    {
     "name": "stdout",
     "output_type": "stream",
     "text": [
      "Epoch 9: 100%|██████████| 7/7 [00:00<00:00,  9.80it/s, loss=0.0648, v_num=0, train_loss=0.000646, train_accuracy=1.000]"
     ]
    },
    {
     "name": "stderr",
     "output_type": "stream",
     "text": [
      "[2024-12-02 21:21:56] INFO (torcheeg/MainThread) \n",
      "[Train] train_loss: 0.036 train_accuracy: 0.975 \n",
      "\n"
     ]
    },
    {
     "name": "stdout",
     "output_type": "stream",
     "text": [
      "Epoch 10: 100%|██████████| 7/7 [00:00<00:00,  9.92it/s, loss=0.0585, v_num=0, train_loss=0.00416, train_accuracy=1.000] "
     ]
    },
    {
     "name": "stderr",
     "output_type": "stream",
     "text": [
      "[2024-12-02 21:22:01] INFO (torcheeg/MainThread) \n",
      "[Train] train_loss: 0.097 train_accuracy: 0.955 \n",
      "\n"
     ]
    },
    {
     "name": "stdout",
     "output_type": "stream",
     "text": [
      "Epoch 11: 100%|██████████| 7/7 [00:00<00:00,  9.74it/s, loss=0.0685, v_num=0, train_loss=0.00299, train_accuracy=1.000]"
     ]
    },
    {
     "name": "stderr",
     "output_type": "stream",
     "text": [
      "[2024-12-02 21:22:05] INFO (torcheeg/MainThread) \n",
      "[Train] train_loss: 0.065 train_accuracy: 0.975 \n",
      "\n"
     ]
    },
    {
     "name": "stdout",
     "output_type": "stream",
     "text": [
      "Epoch 12: 100%|██████████| 7/7 [00:00<00:00,  9.83it/s, loss=0.0772, v_num=0, train_loss=0.0856, train_accuracy=1.000] "
     ]
    },
    {
     "name": "stderr",
     "output_type": "stream",
     "text": [
      "[2024-12-02 21:22:09] INFO (torcheeg/MainThread) \n",
      "[Train] train_loss: 0.070 train_accuracy: 0.965 \n",
      "\n"
     ]
    },
    {
     "name": "stdout",
     "output_type": "stream",
     "text": [
      "Epoch 13: 100%|██████████| 7/7 [00:00<00:00,  9.99it/s, loss=0.0527, v_num=0, train_loss=0.000123, train_accuracy=1.000]"
     ]
    },
    {
     "name": "stderr",
     "output_type": "stream",
     "text": [
      "Metric train_loss improved by 0.000 >= min_delta = 0.0. New best score: 0.000\n"
     ]
    },
    {
     "name": "stdout",
     "output_type": "stream",
     "text": [
      "Epoch 13: 100%|██████████| 7/7 [00:00<00:00,  9.96it/s, loss=0.0527, v_num=0, train_loss=0.000123, train_accuracy=1.000]"
     ]
    },
    {
     "name": "stderr",
     "output_type": "stream",
     "text": [
      "[2024-12-02 21:22:13] INFO (torcheeg/MainThread) \n",
      "[Train] train_loss: 0.017 train_accuracy: 0.995 \n",
      "\n"
     ]
    },
    {
     "name": "stdout",
     "output_type": "stream",
     "text": [
      "Epoch 14: 100%|██████████| 7/7 [00:00<00:00,  9.92it/s, loss=0.039, v_num=0, train_loss=0.00169, train_accuracy=1.000]  "
     ]
    },
    {
     "name": "stderr",
     "output_type": "stream",
     "text": [
      "[2024-12-02 21:22:18] INFO (torcheeg/MainThread) \n",
      "[Train] train_loss: 0.029 train_accuracy: 0.990 \n",
      "\n"
     ]
    },
    {
     "name": "stdout",
     "output_type": "stream",
     "text": [
      "Epoch 15: 100%|██████████| 7/7 [00:00<00:00,  9.82it/s, loss=0.0176, v_num=0, train_loss=0.000318, train_accuracy=1.000]"
     ]
    },
    {
     "name": "stderr",
     "output_type": "stream",
     "text": [
      "[2024-12-02 21:22:22] INFO (torcheeg/MainThread) \n",
      "[Train] train_loss: 0.010 train_accuracy: 0.995 \n",
      "\n"
     ]
    },
    {
     "name": "stdout",
     "output_type": "stream",
     "text": [
      "Epoch 16: 100%|██████████| 7/7 [00:00<00:00,  9.96it/s, loss=0.0343, v_num=0, train_loss=0.00031, train_accuracy=1.000] "
     ]
    },
    {
     "name": "stderr",
     "output_type": "stream",
     "text": [
      "[2024-12-02 21:22:26] INFO (torcheeg/MainThread) \n",
      "[Train] train_loss: 0.081 train_accuracy: 0.980 \n",
      "\n"
     ]
    },
    {
     "name": "stdout",
     "output_type": "stream",
     "text": [
      "Epoch 17: 100%|██████████| 7/7 [00:00<00:00,  9.80it/s, loss=0.0459, v_num=0, train_loss=0.000253, train_accuracy=1.000]"
     ]
    },
    {
     "name": "stderr",
     "output_type": "stream",
     "text": [
      "[2024-12-02 21:22:30] INFO (torcheeg/MainThread) \n",
      "[Train] train_loss: 0.041 train_accuracy: 0.985 \n",
      "\n"
     ]
    },
    {
     "name": "stdout",
     "output_type": "stream",
     "text": [
      "Epoch 18: 100%|██████████| 7/7 [00:00<00:00,  9.86it/s, loss=0.0448, v_num=0, train_loss=0.000352, train_accuracy=1.000]"
     ]
    },
    {
     "name": "stderr",
     "output_type": "stream",
     "text": [
      "[2024-12-02 21:22:35] INFO (torcheeg/MainThread) \n",
      "[Train] train_loss: 0.007 train_accuracy: 1.000 \n",
      "\n"
     ]
    },
    {
     "name": "stdout",
     "output_type": "stream",
     "text": [
      "Epoch 19: 100%|██████████| 7/7 [00:00<00:00,  9.94it/s, loss=0.0266, v_num=0, train_loss=0.0181, train_accuracy=1.000]  "
     ]
    },
    {
     "name": "stderr",
     "output_type": "stream",
     "text": [
      "[2024-12-02 21:22:39] INFO (torcheeg/MainThread) \n",
      "[Train] train_loss: 0.033 train_accuracy: 0.990 \n",
      "\n"
     ]
    },
    {
     "name": "stdout",
     "output_type": "stream",
     "text": [
      "Epoch 20: 100%|██████████| 7/7 [00:00<00:00,  9.99it/s, loss=0.0192, v_num=0, train_loss=0.000594, train_accuracy=1.000]"
     ]
    },
    {
     "name": "stderr",
     "output_type": "stream",
     "text": [
      "[2024-12-02 21:22:43] INFO (torcheeg/MainThread) \n",
      "[Train] train_loss: 0.018 train_accuracy: 0.995 \n",
      "\n"
     ]
    },
    {
     "name": "stdout",
     "output_type": "stream",
     "text": [
      "Epoch 21: 100%|██████████| 7/7 [00:00<00:00,  9.88it/s, loss=0.0255, v_num=0, train_loss=0.000119, train_accuracy=1.000]"
     ]
    },
    {
     "name": "stderr",
     "output_type": "stream",
     "text": [
      "Metric train_loss improved by 0.000 >= min_delta = 0.0. New best score: 0.000\n"
     ]
    },
    {
     "name": "stdout",
     "output_type": "stream",
     "text": [
      "Epoch 21: 100%|██████████| 7/7 [00:00<00:00,  9.86it/s, loss=0.0255, v_num=0, train_loss=0.000119, train_accuracy=1.000]"
     ]
    },
    {
     "name": "stderr",
     "output_type": "stream",
     "text": [
      "[2024-12-02 21:22:47] INFO (torcheeg/MainThread) \n",
      "[Train] train_loss: 0.023 train_accuracy: 0.995 \n",
      "\n"
     ]
    },
    {
     "name": "stdout",
     "output_type": "stream",
     "text": [
      "Epoch 22: 100%|██████████| 7/7 [00:00<00:00,  9.95it/s, loss=0.0177, v_num=0, train_loss=7.53e-5, train_accuracy=1.000] "
     ]
    },
    {
     "name": "stderr",
     "output_type": "stream",
     "text": [
      "Metric train_loss improved by 0.000 >= min_delta = 0.0. New best score: 0.000\n"
     ]
    },
    {
     "name": "stdout",
     "output_type": "stream",
     "text": [
      "Epoch 22: 100%|██████████| 7/7 [00:00<00:00,  9.92it/s, loss=0.0177, v_num=0, train_loss=7.53e-5, train_accuracy=1.000]"
     ]
    },
    {
     "name": "stderr",
     "output_type": "stream",
     "text": [
      "[2024-12-02 21:22:51] INFO (torcheeg/MainThread) \n",
      "[Train] train_loss: 0.010 train_accuracy: 0.995 \n",
      "\n"
     ]
    },
    {
     "name": "stdout",
     "output_type": "stream",
     "text": [
      "Epoch 23: 100%|██████████| 7/7 [00:00<00:00,  9.88it/s, loss=0.0213, v_num=0, train_loss=0.00499, train_accuracy=1.000] "
     ]
    },
    {
     "name": "stderr",
     "output_type": "stream",
     "text": [
      "[2024-12-02 21:22:56] INFO (torcheeg/MainThread) \n",
      "[Train] train_loss: 0.029 train_accuracy: 0.985 \n",
      "\n"
     ]
    },
    {
     "name": "stdout",
     "output_type": "stream",
     "text": [
      "Epoch 24: 100%|██████████| 7/7 [00:00<00:00,  9.89it/s, loss=0.016, v_num=0, train_loss=7.43e-5, train_accuracy=1.000] "
     ]
    },
    {
     "name": "stderr",
     "output_type": "stream",
     "text": [
      "Metric train_loss improved by 0.000 >= min_delta = 0.0. New best score: 0.000\n"
     ]
    },
    {
     "name": "stdout",
     "output_type": "stream",
     "text": [
      "Epoch 24: 100%|██████████| 7/7 [00:00<00:00,  9.87it/s, loss=0.016, v_num=0, train_loss=7.43e-5, train_accuracy=1.000]"
     ]
    },
    {
     "name": "stderr",
     "output_type": "stream",
     "text": [
      "[2024-12-02 21:23:00] INFO (torcheeg/MainThread) \n",
      "[Train] train_loss: 0.007 train_accuracy: 0.995 \n",
      "\n"
     ]
    },
    {
     "name": "stdout",
     "output_type": "stream",
     "text": [
      "Epoch 25: 100%|██████████| 7/7 [00:00<00:00,  9.99it/s, loss=0.0164, v_num=0, train_loss=0.000939, train_accuracy=1.000]"
     ]
    },
    {
     "name": "stderr",
     "output_type": "stream",
     "text": [
      "[2024-12-02 21:23:04] INFO (torcheeg/MainThread) \n",
      "[Train] train_loss: 0.011 train_accuracy: 0.995 \n",
      "\n"
     ]
    },
    {
     "name": "stdout",
     "output_type": "stream",
     "text": [
      "Epoch 26: 100%|██████████| 7/7 [00:00<00:00,  9.73it/s, loss=0.0109, v_num=0, train_loss=0.00235, train_accuracy=1.000]  "
     ]
    },
    {
     "name": "stderr",
     "output_type": "stream",
     "text": [
      "[2024-12-02 21:23:08] INFO (torcheeg/MainThread) \n",
      "[Train] train_loss: 0.017 train_accuracy: 0.995 \n",
      "\n"
     ]
    },
    {
     "name": "stdout",
     "output_type": "stream",
     "text": [
      "Epoch 27: 100%|██████████| 7/7 [00:00<00:00,  9.92it/s, loss=0.00763, v_num=0, train_loss=0.000158, train_accuracy=1.000]"
     ]
    },
    {
     "name": "stderr",
     "output_type": "stream",
     "text": [
      "[2024-12-02 21:23:13] INFO (torcheeg/MainThread) \n",
      "[Train] train_loss: 0.002 train_accuracy: 1.000 \n",
      "\n"
     ]
    },
    {
     "name": "stdout",
     "output_type": "stream",
     "text": [
      "Epoch 28: 100%|██████████| 7/7 [00:00<00:00,  9.89it/s, loss=0.0338, v_num=0, train_loss=0.00162, train_accuracy=1.000]  "
     ]
    },
    {
     "name": "stderr",
     "output_type": "stream",
     "text": [
      "[2024-12-02 21:23:17] INFO (torcheeg/MainThread) \n",
      "[Train] train_loss: 0.078 train_accuracy: 0.985 \n",
      "\n"
     ]
    },
    {
     "name": "stdout",
     "output_type": "stream",
     "text": [
      "Epoch 29: 100%|██████████| 7/7 [00:00<00:00,  9.60it/s, loss=0.0405, v_num=0, train_loss=0.00301, train_accuracy=1.000] "
     ]
    },
    {
     "name": "stderr",
     "output_type": "stream",
     "text": [
      "[2024-12-02 21:23:21] INFO (torcheeg/MainThread) \n",
      "[Train] train_loss: 0.036 train_accuracy: 0.985 \n",
      "\n"
     ]
    },
    {
     "name": "stdout",
     "output_type": "stream",
     "text": [
      "Epoch 30: 100%|██████████| 7/7 [00:00<00:00,  9.89it/s, loss=0.0545, v_num=0, train_loss=0.000661, train_accuracy=1.000]"
     ]
    },
    {
     "name": "stderr",
     "output_type": "stream",
     "text": [
      "[2024-12-02 21:23:26] INFO (torcheeg/MainThread) \n",
      "[Train] train_loss: 0.056 train_accuracy: 0.975 \n",
      "\n"
     ]
    },
    {
     "name": "stdout",
     "output_type": "stream",
     "text": [
      "Epoch 31: 100%|██████████| 7/7 [00:00<00:00,  9.81it/s, loss=0.0366, v_num=0, train_loss=0.0149, train_accuracy=1.000]  "
     ]
    },
    {
     "name": "stderr",
     "output_type": "stream",
     "text": [
      "[2024-12-02 21:23:30] INFO (torcheeg/MainThread) \n",
      "[Train] train_loss: 0.013 train_accuracy: 1.000 \n",
      "\n"
     ]
    },
    {
     "name": "stdout",
     "output_type": "stream",
     "text": [
      "Epoch 32: 100%|██████████| 7/7 [00:00<00:00,  9.98it/s, loss=0.0275, v_num=0, train_loss=5.87e-5, train_accuracy=1.000]"
     ]
    },
    {
     "name": "stderr",
     "output_type": "stream",
     "text": [
      "Metric train_loss improved by 0.000 >= min_delta = 0.0. New best score: 0.000\n"
     ]
    },
    {
     "name": "stdout",
     "output_type": "stream",
     "text": [
      "Epoch 32: 100%|██████████| 7/7 [00:00<00:00,  9.96it/s, loss=0.0275, v_num=0, train_loss=5.87e-5, train_accuracy=1.000]"
     ]
    },
    {
     "name": "stderr",
     "output_type": "stream",
     "text": [
      "[2024-12-02 21:23:34] INFO (torcheeg/MainThread) \n",
      "[Train] train_loss: 0.010 train_accuracy: 1.000 \n",
      "\n"
     ]
    },
    {
     "name": "stdout",
     "output_type": "stream",
     "text": [
      "Epoch 33: 100%|██████████| 7/7 [00:00<00:00,  9.78it/s, loss=0.0127, v_num=0, train_loss=0.00201, train_accuracy=1.000]  "
     ]
    },
    {
     "name": "stderr",
     "output_type": "stream",
     "text": [
      "[2024-12-02 21:23:38] INFO (torcheeg/MainThread) \n",
      "[Train] train_loss: 0.014 train_accuracy: 0.995 \n",
      "\n"
     ]
    },
    {
     "name": "stdout",
     "output_type": "stream",
     "text": [
      "Epoch 34: 100%|██████████| 7/7 [00:00<00:00,  9.85it/s, loss=0.00901, v_num=0, train_loss=0.00135, train_accuracy=1.000]"
     ]
    },
    {
     "name": "stderr",
     "output_type": "stream",
     "text": [
      "[2024-12-02 21:23:43] INFO (torcheeg/MainThread) \n",
      "[Train] train_loss: 0.002 train_accuracy: 1.000 \n",
      "\n"
     ]
    },
    {
     "name": "stdout",
     "output_type": "stream",
     "text": [
      "Epoch 35: 100%|██████████| 7/7 [00:00<00:00,  9.90it/s, loss=0.0106, v_num=0, train_loss=5.07e-6, train_accuracy=1.000] "
     ]
    },
    {
     "name": "stderr",
     "output_type": "stream",
     "text": [
      "Metric train_loss improved by 0.000 >= min_delta = 0.0. New best score: 0.000\n"
     ]
    },
    {
     "name": "stdout",
     "output_type": "stream",
     "text": [
      "Epoch 35: 100%|██████████| 7/7 [00:00<00:00,  9.88it/s, loss=0.0106, v_num=0, train_loss=5.07e-6, train_accuracy=1.000]"
     ]
    },
    {
     "name": "stderr",
     "output_type": "stream",
     "text": [
      "[2024-12-02 21:23:47] INFO (torcheeg/MainThread) \n",
      "[Train] train_loss: 0.015 train_accuracy: 0.995 \n",
      "\n"
     ]
    },
    {
     "name": "stdout",
     "output_type": "stream",
     "text": [
      "Epoch 36: 100%|██████████| 7/7 [00:00<00:00,  9.80it/s, loss=0.0102, v_num=0, train_loss=0.0148, train_accuracy=1.000]   "
     ]
    },
    {
     "name": "stderr",
     "output_type": "stream",
     "text": [
      "[2024-12-02 21:23:51] INFO (torcheeg/MainThread) \n",
      "[Train] train_loss: 0.013 train_accuracy: 0.995 \n",
      "\n"
     ]
    },
    {
     "name": "stdout",
     "output_type": "stream",
     "text": [
      "Epoch 37: 100%|██████████| 7/7 [00:00<00:00,  9.97it/s, loss=0.0161, v_num=0, train_loss=0.00103, train_accuracy=1.000] "
     ]
    },
    {
     "name": "stderr",
     "output_type": "stream",
     "text": [
      "[2024-12-02 21:23:55] INFO (torcheeg/MainThread) \n",
      "[Train] train_loss: 0.019 train_accuracy: 0.990 \n",
      "\n"
     ]
    },
    {
     "name": "stdout",
     "output_type": "stream",
     "text": [
      "Epoch 38: 100%|██████████| 7/7 [00:00<00:00,  9.77it/s, loss=0.0349, v_num=0, train_loss=1.48e-5, train_accuracy=1.000] "
     ]
    },
    {
     "name": "stderr",
     "output_type": "stream",
     "text": [
      "[2024-12-02 21:24:00] INFO (torcheeg/MainThread) \n",
      "[Train] train_loss: 0.068 train_accuracy: 0.970 \n",
      "\n"
     ]
    },
    {
     "name": "stdout",
     "output_type": "stream",
     "text": [
      "Epoch 39: 100%|██████████| 7/7 [00:00<00:00,  9.83it/s, loss=0.0476, v_num=0, train_loss=9.48e-5, train_accuracy=1.000]"
     ]
    },
    {
     "name": "stderr",
     "output_type": "stream",
     "text": [
      "[2024-12-02 21:24:04] INFO (torcheeg/MainThread) \n",
      "[Train] train_loss: 0.049 train_accuracy: 0.980 \n",
      "\n"
     ]
    },
    {
     "name": "stdout",
     "output_type": "stream",
     "text": [
      "Epoch 40: 100%|██████████| 7/7 [00:00<00:00,  9.77it/s, loss=0.0402, v_num=0, train_loss=0.00284, train_accuracy=1.000]"
     ]
    },
    {
     "name": "stderr",
     "output_type": "stream",
     "text": [
      "[2024-12-02 21:24:08] INFO (torcheeg/MainThread) \n",
      "[Train] train_loss: 0.028 train_accuracy: 0.980 \n",
      "\n"
     ]
    },
    {
     "name": "stdout",
     "output_type": "stream",
     "text": [
      "Epoch 41: 100%|██████████| 7/7 [00:00<00:00,  9.93it/s, loss=0.0305, v_num=0, train_loss=0.000231, train_accuracy=1.000]"
     ]
    },
    {
     "name": "stderr",
     "output_type": "stream",
     "text": [
      "[2024-12-02 21:24:12] INFO (torcheeg/MainThread) \n",
      "[Train] train_loss: 0.011 train_accuracy: 0.995 \n",
      "\n"
     ]
    },
    {
     "name": "stdout",
     "output_type": "stream",
     "text": [
      "Epoch 42: 100%|██████████| 7/7 [00:00<00:00,  9.75it/s, loss=0.0131, v_num=0, train_loss=5.47e-5, train_accuracy=1.000] "
     ]
    },
    {
     "name": "stderr",
     "output_type": "stream",
     "text": [
      "[2024-12-02 21:24:17] INFO (torcheeg/MainThread) \n",
      "[Train] train_loss: 0.002 train_accuracy: 1.000 \n",
      "\n"
     ]
    },
    {
     "name": "stdout",
     "output_type": "stream",
     "text": [
      "Epoch 43: 100%|██████████| 7/7 [00:00<00:00,  9.88it/s, loss=0.0065, v_num=0, train_loss=0.000337, train_accuracy=1.000]"
     ]
    },
    {
     "name": "stderr",
     "output_type": "stream",
     "text": [
      "[2024-12-02 21:24:21] INFO (torcheeg/MainThread) \n",
      "[Train] train_loss: 0.006 train_accuracy: 1.000 \n",
      "\n"
     ]
    },
    {
     "name": "stdout",
     "output_type": "stream",
     "text": [
      "Epoch 44: 100%|██████████| 7/7 [00:00<00:00,  9.85it/s, loss=0.0113, v_num=0, train_loss=0.000666, train_accuracy=1.000] "
     ]
    },
    {
     "name": "stderr",
     "output_type": "stream",
     "text": [
      "[2024-12-02 21:24:25] INFO (torcheeg/MainThread) \n",
      "[Train] train_loss: 0.024 train_accuracy: 0.990 \n",
      "\n"
     ]
    },
    {
     "name": "stdout",
     "output_type": "stream",
     "text": [
      "Epoch 45: 100%|██████████| 7/7 [00:00<00:00,  9.79it/s, loss=0.0173, v_num=0, train_loss=5.48e-6, train_accuracy=1.000] "
     ]
    },
    {
     "name": "stderr",
     "output_type": "stream",
     "text": [
      "[2024-12-02 21:24:29] INFO (torcheeg/MainThread) \n",
      "[Train] train_loss: 0.019 train_accuracy: 0.995 \n",
      "\n"
     ]
    },
    {
     "name": "stdout",
     "output_type": "stream",
     "text": [
      "Epoch 46: 100%|██████████| 7/7 [00:00<00:00,  9.87it/s, loss=0.0291, v_num=0, train_loss=1.61e-5, train_accuracy=1.000]"
     ]
    },
    {
     "name": "stderr",
     "output_type": "stream",
     "text": [
      "[2024-12-02 21:24:34] INFO (torcheeg/MainThread) \n",
      "[Train] train_loss: 0.040 train_accuracy: 0.980 \n",
      "\n"
     ]
    },
    {
     "name": "stdout",
     "output_type": "stream",
     "text": [
      "Epoch 47: 100%|██████████| 7/7 [00:00<00:00,  9.66it/s, loss=0.0318, v_num=0, train_loss=7.13e-5, train_accuracy=1.000] "
     ]
    },
    {
     "name": "stderr",
     "output_type": "stream",
     "text": [
      "[2024-12-02 21:24:38] INFO (torcheeg/MainThread) \n",
      "[Train] train_loss: 0.033 train_accuracy: 0.990 \n",
      "\n"
     ]
    },
    {
     "name": "stdout",
     "output_type": "stream",
     "text": [
      "Epoch 48: 100%|██████████| 7/7 [00:00<00:00,  9.76it/s, loss=0.03, v_num=0, train_loss=0.0116, train_accuracy=1.000]   "
     ]
    },
    {
     "name": "stderr",
     "output_type": "stream",
     "text": [
      "[2024-12-02 21:24:42] INFO (torcheeg/MainThread) \n",
      "[Train] train_loss: 0.013 train_accuracy: 0.995 \n",
      "\n"
     ]
    },
    {
     "name": "stdout",
     "output_type": "stream",
     "text": [
      "Epoch 49: 100%|██████████| 7/7 [00:00<00:00,  9.64it/s, loss=0.0161, v_num=0, train_loss=0.00183, train_accuracy=1.000] "
     ]
    },
    {
     "name": "stderr",
     "output_type": "stream",
     "text": [
      "[2024-12-02 21:24:47] INFO (torcheeg/MainThread) \n",
      "[Train] train_loss: 0.002 train_accuracy: 1.000 \n",
      "\n"
     ]
    },
    {
     "name": "stdout",
     "output_type": "stream",
     "text": [
      "Epoch 50: 100%|██████████| 7/7 [00:00<00:00,  9.85it/s, loss=0.00527, v_num=0, train_loss=5.82e-5, train_accuracy=1.000] "
     ]
    },
    {
     "name": "stderr",
     "output_type": "stream",
     "text": [
      "[2024-12-02 21:24:51] INFO (torcheeg/MainThread) \n",
      "[Train] train_loss: 0.002 train_accuracy: 1.000 \n",
      "\n"
     ]
    },
    {
     "name": "stdout",
     "output_type": "stream",
     "text": [
      "Epoch 51: 100%|██████████| 7/7 [00:00<00:00,  9.99it/s, loss=0.0136, v_num=0, train_loss=0.242, train_accuracy=0.875]    "
     ]
    },
    {
     "name": "stderr",
     "output_type": "stream",
     "text": [
      "[2024-12-02 21:24:55] INFO (torcheeg/MainThread) \n",
      "[Train] train_loss: 0.036 train_accuracy: 0.995 \n",
      "\n"
     ]
    },
    {
     "name": "stdout",
     "output_type": "stream",
     "text": [
      "Epoch 52: 100%|██████████| 7/7 [00:00<00:00,  9.86it/s, loss=0.0477, v_num=0, train_loss=0.0156, train_accuracy=1.000] "
     ]
    },
    {
     "name": "stderr",
     "output_type": "stream",
     "text": [
      "[2024-12-02 21:24:59] INFO (torcheeg/MainThread) \n",
      "[Train] train_loss: 0.099 train_accuracy: 0.975 \n",
      "\n"
     ]
    },
    {
     "name": "stdout",
     "output_type": "stream",
     "text": [
      "Epoch 53: 100%|██████████| 7/7 [00:00<00:00,  9.72it/s, loss=0.0525, v_num=0, train_loss=0.00387, train_accuracy=1.000]"
     ]
    },
    {
     "name": "stderr",
     "output_type": "stream",
     "text": [
      "[2024-12-02 21:25:04] INFO (torcheeg/MainThread) \n",
      "[Train] train_loss: 0.016 train_accuracy: 0.995 \n",
      "\n"
     ]
    },
    {
     "name": "stdout",
     "output_type": "stream",
     "text": [
      "Epoch 54: 100%|██████████| 7/7 [00:00<00:00,  9.84it/s, loss=0.0467, v_num=0, train_loss=0.00125, train_accuracy=1.000]"
     ]
    },
    {
     "name": "stderr",
     "output_type": "stream",
     "text": [
      "[2024-12-02 21:25:08] INFO (torcheeg/MainThread) \n",
      "[Train] train_loss: 0.020 train_accuracy: 0.990 \n",
      "\n"
     ]
    },
    {
     "name": "stdout",
     "output_type": "stream",
     "text": [
      "Epoch 55: 100%|██████████| 7/7 [00:00<00:00,  9.85it/s, loss=0.0124, v_num=0, train_loss=9.1e-5, train_accuracy=1.000]  "
     ]
    },
    {
     "name": "stderr",
     "output_type": "stream",
     "text": [
      "Monitored metric train_loss did not improve in the last 20 records. Best score: 0.000. Signaling Trainer to stop.\n"
     ]
    },
    {
     "name": "stdout",
     "output_type": "stream",
     "text": [
      "Epoch 55: 100%|██████████| 7/7 [00:00<00:00,  9.83it/s, loss=0.0124, v_num=0, train_loss=9.1e-5, train_accuracy=1.000]"
     ]
    },
    {
     "name": "stderr",
     "output_type": "stream",
     "text": [
      "[2024-12-02 21:25:12] INFO (torcheeg/MainThread) \n",
      "[Train] train_loss: 0.001 train_accuracy: 1.000 \n",
      "\n"
     ]
    },
    {
     "name": "stdout",
     "output_type": "stream",
     "text": [
      "Epoch 55: 100%|██████████| 7/7 [00:04<00:00,  1.65it/s, loss=0.0124, v_num=0, train_loss=9.1e-5, train_accuracy=1.000]\n"
     ]
    },
    {
     "name": "stderr",
     "output_type": "stream",
     "text": [
      "GPU available: True (cuda), used: True\n",
      "TPU available: False, using: 0 TPU cores\n",
      "IPU available: False, using: 0 IPUs\n",
      "HPU available: False, using: 0 HPUs\n",
      "LOCAL_RANK: 0 - CUDA_VISIBLE_DEVICES: [0]\n",
      "/root/autodl-tmp/conda/envs/law/lib/python3.8/site-packages/pytorch_lightning/trainer/connectors/data_connector.py:224: PossibleUserWarning: The dataloader, test_dataloader 0, does not have many workers which may be a bottleneck. Consider increasing the value of the `num_workers` argument` (try 128 which is the number of cpus on this machine) in the `DataLoader` init to improve performance.\n",
      "  rank_zero_warn(\n"
     ]
    },
    {
     "name": "stdout",
     "output_type": "stream",
     "text": [
      "Testing DataLoader 0: 100%|██████████| 3/3 [00:00<00:00, 36.51it/s]"
     ]
    },
    {
     "name": "stderr",
     "output_type": "stream",
     "text": [
      "[2024-12-02 21:25:13] INFO (torcheeg/MainThread) \n",
      "[Test] test_loss: 0.786 test_accuracy: 0.900 \n",
      "\n"
     ]
    },
    {
     "name": "stdout",
     "output_type": "stream",
     "text": [
      "Testing DataLoader 0: 100%|██████████| 3/3 [00:00<00:00, 34.22it/s]\n",
      "────────────────────────────────────────────────────────────────────────────────────────────────────────────────────────\n",
      "       Test metric             DataLoader 0\n",
      "────────────────────────────────────────────────────────────────────────────────────────────────────────────────────────\n",
      "      test_accuracy         0.8999999761581421\n",
      "        test_loss           0.7858729958534241\n",
      "────────────────────────────────────────────────────────────────────────────────────────────────────────────────────────\n",
      "已删除文件夹: /root/autodl-tmp/.autodl/kinlaw/mi_swin/lightning_logs\n"
     ]
    },
    {
     "name": "stderr",
     "output_type": "stream",
     "text": [
      "GPU available: True (cuda), used: True\n",
      "TPU available: False, using: 0 TPU cores\n",
      "IPU available: False, using: 0 IPUs\n",
      "HPU available: False, using: 0 HPUs\n",
      "Missing logger folder: /root/autodl-tmp/.autodl/kinlaw/mi_swin/lightning_logs\n",
      "LOCAL_RANK: 0 - CUDA_VISIBLE_DEVICES: [0]\n",
      "/root/autodl-tmp/conda/envs/law/lib/python3.8/site-packages/pytorch_lightning/trainer/connectors/data_connector.py:224: PossibleUserWarning: The dataloader, train_dataloader, does not have many workers which may be a bottleneck. Consider increasing the value of the `num_workers` argument` (try 128 which is the number of cpus on this machine) in the `DataLoader` init to improve performance.\n",
      "  rank_zero_warn(\n",
      "/root/autodl-tmp/conda/envs/law/lib/python3.8/site-packages/pytorch_lightning/trainer/trainer.py:1609: PossibleUserWarning: The number of training batches (7) is smaller than the logging interval Trainer(log_every_n_steps=50). Set a lower value for log_every_n_steps if you want to see logs for the training epoch.\n",
      "  rank_zero_warn(\n"
     ]
    },
    {
     "name": "stdout",
     "output_type": "stream",
     "text": [
      "Epoch 0: 100%|██████████| 7/7 [00:00<00:00,  9.49it/s, loss=2.99, v_num=0, train_loss=2.950, train_accuracy=0.250] "
     ]
    },
    {
     "name": "stderr",
     "output_type": "stream",
     "text": [
      "Metric train_loss improved. New best score: 2.953\n"
     ]
    },
    {
     "name": "stdout",
     "output_type": "stream",
     "text": [
      "Epoch 0: 100%|██████████| 7/7 [00:00<00:00,  9.46it/s, loss=2.99, v_num=0, train_loss=2.950, train_accuracy=0.250]"
     ]
    },
    {
     "name": "stderr",
     "output_type": "stream",
     "text": [
      "[2024-12-02 21:25:20] INFO (torcheeg/MainThread) \n",
      "[Train] train_loss: 2.986 train_accuracy: 0.510 \n",
      "\n"
     ]
    },
    {
     "name": "stdout",
     "output_type": "stream",
     "text": [
      "Epoch 1: 100%|██████████| 7/7 [00:00<00:00,  9.90it/s, loss=1.99, v_num=0, train_loss=1.230, train_accuracy=0.875]"
     ]
    },
    {
     "name": "stderr",
     "output_type": "stream",
     "text": [
      "Metric train_loss improved by 1.720 >= min_delta = 0.0. New best score: 1.233\n"
     ]
    },
    {
     "name": "stdout",
     "output_type": "stream",
     "text": [
      "Epoch 1: 100%|██████████| 7/7 [00:00<00:00,  9.87it/s, loss=1.99, v_num=0, train_loss=1.230, train_accuracy=0.875]"
     ]
    },
    {
     "name": "stderr",
     "output_type": "stream",
     "text": [
      "[2024-12-02 21:25:25] INFO (torcheeg/MainThread) \n",
      "[Train] train_loss: 0.986 train_accuracy: 0.700 \n",
      "\n"
     ]
    },
    {
     "name": "stdout",
     "output_type": "stream",
     "text": [
      "Epoch 2: 100%|██████████| 7/7 [00:00<00:00,  9.89it/s, loss=1.45, v_num=0, train_loss=0.288, train_accuracy=0.875] "
     ]
    },
    {
     "name": "stderr",
     "output_type": "stream",
     "text": [
      "Metric train_loss improved by 0.945 >= min_delta = 0.0. New best score: 0.288\n"
     ]
    },
    {
     "name": "stdout",
     "output_type": "stream",
     "text": [
      "Epoch 2: 100%|██████████| 7/7 [00:00<00:00,  9.87it/s, loss=1.45, v_num=0, train_loss=0.288, train_accuracy=0.875]"
     ]
    },
    {
     "name": "stderr",
     "output_type": "stream",
     "text": [
      "[2024-12-02 21:25:29] INFO (torcheeg/MainThread) \n",
      "[Train] train_loss: 0.301 train_accuracy: 0.900 \n",
      "\n"
     ]
    },
    {
     "name": "stdout",
     "output_type": "stream",
     "text": [
      "Epoch 3: 100%|██████████| 7/7 [00:00<00:00,  9.76it/s, loss=0.514, v_num=0, train_loss=0.189, train_accuracy=0.875] "
     ]
    },
    {
     "name": "stderr",
     "output_type": "stream",
     "text": [
      "Metric train_loss improved by 0.099 >= min_delta = 0.0. New best score: 0.189\n"
     ]
    },
    {
     "name": "stdout",
     "output_type": "stream",
     "text": [
      "Epoch 3: 100%|██████████| 7/7 [00:00<00:00,  9.73it/s, loss=0.514, v_num=0, train_loss=0.189, train_accuracy=0.875]"
     ]
    },
    {
     "name": "stderr",
     "output_type": "stream",
     "text": [
      "[2024-12-02 21:25:34] INFO (torcheeg/MainThread) \n",
      "[Train] train_loss: 0.250 train_accuracy: 0.895 \n",
      "\n"
     ]
    },
    {
     "name": "stdout",
     "output_type": "stream",
     "text": [
      "Epoch 4: 100%|██████████| 7/7 [00:00<00:00, 10.01it/s, loss=0.239, v_num=0, train_loss=0.0368, train_accuracy=1.000]"
     ]
    },
    {
     "name": "stderr",
     "output_type": "stream",
     "text": [
      "Metric train_loss improved by 0.152 >= min_delta = 0.0. New best score: 0.037\n"
     ]
    },
    {
     "name": "stdout",
     "output_type": "stream",
     "text": [
      "Epoch 4: 100%|██████████| 7/7 [00:00<00:00,  9.98it/s, loss=0.239, v_num=0, train_loss=0.0368, train_accuracy=1.000]"
     ]
    },
    {
     "name": "stderr",
     "output_type": "stream",
     "text": [
      "[2024-12-02 21:25:38] INFO (torcheeg/MainThread) \n",
      "[Train] train_loss: 0.165 train_accuracy: 0.945 \n",
      "\n"
     ]
    },
    {
     "name": "stdout",
     "output_type": "stream",
     "text": [
      "Epoch 5: 100%|██████████| 7/7 [00:00<00:00,  9.92it/s, loss=0.174, v_num=0, train_loss=0.0817, train_accuracy=1.000]"
     ]
    },
    {
     "name": "stderr",
     "output_type": "stream",
     "text": [
      "[2024-12-02 21:25:42] INFO (torcheeg/MainThread) \n",
      "[Train] train_loss: 0.090 train_accuracy: 0.955 \n",
      "\n"
     ]
    },
    {
     "name": "stdout",
     "output_type": "stream",
     "text": [
      "Epoch 6: 100%|██████████| 7/7 [00:00<00:00,  9.83it/s, loss=0.102, v_num=0, train_loss=0.00482, train_accuracy=1.000]"
     ]
    },
    {
     "name": "stderr",
     "output_type": "stream",
     "text": [
      "Metric train_loss improved by 0.032 >= min_delta = 0.0. New best score: 0.005\n"
     ]
    },
    {
     "name": "stdout",
     "output_type": "stream",
     "text": [
      "Epoch 6: 100%|██████████| 7/7 [00:00<00:00,  9.81it/s, loss=0.102, v_num=0, train_loss=0.00482, train_accuracy=1.000]"
     ]
    },
    {
     "name": "stderr",
     "output_type": "stream",
     "text": [
      "[2024-12-02 21:25:47] INFO (torcheeg/MainThread) \n",
      "[Train] train_loss: 0.053 train_accuracy: 0.990 \n",
      "\n"
     ]
    },
    {
     "name": "stdout",
     "output_type": "stream",
     "text": [
      "Epoch 7: 100%|██████████| 7/7 [00:00<00:00, 10.02it/s, loss=0.0633, v_num=0, train_loss=0.000161, train_accuracy=1.000]"
     ]
    },
    {
     "name": "stderr",
     "output_type": "stream",
     "text": [
      "Metric train_loss improved by 0.005 >= min_delta = 0.0. New best score: 0.000\n"
     ]
    },
    {
     "name": "stdout",
     "output_type": "stream",
     "text": [
      "Epoch 7: 100%|██████████| 7/7 [00:00<00:00,  9.99it/s, loss=0.0633, v_num=0, train_loss=0.000161, train_accuracy=1.000]"
     ]
    },
    {
     "name": "stderr",
     "output_type": "stream",
     "text": [
      "[2024-12-02 21:25:51] INFO (torcheeg/MainThread) \n",
      "[Train] train_loss: 0.048 train_accuracy: 0.980 \n",
      "\n"
     ]
    },
    {
     "name": "stdout",
     "output_type": "stream",
     "text": [
      "Epoch 8: 100%|██████████| 7/7 [00:00<00:00,  9.87it/s, loss=0.0421, v_num=0, train_loss=0.00138, train_accuracy=1.000] "
     ]
    },
    {
     "name": "stderr",
     "output_type": "stream",
     "text": [
      "[2024-12-02 21:25:56] INFO (torcheeg/MainThread) \n",
      "[Train] train_loss: 0.023 train_accuracy: 0.990 \n",
      "\n"
     ]
    },
    {
     "name": "stdout",
     "output_type": "stream",
     "text": [
      "Epoch 9: 100%|██████████| 7/7 [00:00<00:00,  9.72it/s, loss=0.0308, v_num=0, train_loss=0.000576, train_accuracy=1.000]"
     ]
    },
    {
     "name": "stderr",
     "output_type": "stream",
     "text": [
      "[2024-12-02 21:26:00] INFO (torcheeg/MainThread) \n",
      "[Train] train_loss: 0.016 train_accuracy: 0.990 \n",
      "\n"
     ]
    },
    {
     "name": "stdout",
     "output_type": "stream",
     "text": [
      "Epoch 10: 100%|██████████| 7/7 [00:00<00:00,  9.69it/s, loss=0.0261, v_num=0, train_loss=0.0632, train_accuracy=1.000]  "
     ]
    },
    {
     "name": "stderr",
     "output_type": "stream",
     "text": [
      "[2024-12-02 21:26:05] INFO (torcheeg/MainThread) \n",
      "[Train] train_loss: 0.041 train_accuracy: 0.990 \n",
      "\n"
     ]
    },
    {
     "name": "stdout",
     "output_type": "stream",
     "text": [
      "Epoch 11: 100%|██████████| 7/7 [00:00<00:00,  9.88it/s, loss=0.0457, v_num=0, train_loss=0.0298, train_accuracy=1.000]"
     ]
    },
    {
     "name": "stderr",
     "output_type": "stream",
     "text": [
      "[2024-12-02 21:26:09] INFO (torcheeg/MainThread) \n",
      "[Train] train_loss: 0.077 train_accuracy: 0.970 \n",
      "\n"
     ]
    },
    {
     "name": "stdout",
     "output_type": "stream",
     "text": [
      "Epoch 12: 100%|██████████| 7/7 [00:00<00:00,  9.79it/s, loss=0.0755, v_num=0, train_loss=0.0229, train_accuracy=1.000] "
     ]
    },
    {
     "name": "stderr",
     "output_type": "stream",
     "text": [
      "[2024-12-02 21:26:14] INFO (torcheeg/MainThread) \n",
      "[Train] train_loss: 0.098 train_accuracy: 0.975 \n",
      "\n"
     ]
    },
    {
     "name": "stdout",
     "output_type": "stream",
     "text": [
      "Epoch 13: 100%|██████████| 7/7 [00:00<00:00,  9.89it/s, loss=0.0911, v_num=0, train_loss=0.0577, train_accuracy=1.000] "
     ]
    },
    {
     "name": "stderr",
     "output_type": "stream",
     "text": [
      "[2024-12-02 21:26:18] INFO (torcheeg/MainThread) \n",
      "[Train] train_loss: 0.090 train_accuracy: 0.965 \n",
      "\n"
     ]
    },
    {
     "name": "stdout",
     "output_type": "stream",
     "text": [
      "Epoch 14: 100%|██████████| 7/7 [00:00<00:00,  9.90it/s, loss=0.0702, v_num=0, train_loss=0.00225, train_accuracy=1.000]"
     ]
    },
    {
     "name": "stderr",
     "output_type": "stream",
     "text": [
      "[2024-12-02 21:26:22] INFO (torcheeg/MainThread) \n",
      "[Train] train_loss: 0.079 train_accuracy: 0.970 \n",
      "\n"
     ]
    },
    {
     "name": "stdout",
     "output_type": "stream",
     "text": [
      "Epoch 15: 100%|██████████| 7/7 [00:00<00:00,  9.71it/s, loss=0.064, v_num=0, train_loss=0.00302, train_accuracy=1.000] "
     ]
    },
    {
     "name": "stderr",
     "output_type": "stream",
     "text": [
      "[2024-12-02 21:26:27] INFO (torcheeg/MainThread) \n",
      "[Train] train_loss: 0.051 train_accuracy: 0.975 \n",
      "\n"
     ]
    },
    {
     "name": "stdout",
     "output_type": "stream",
     "text": [
      "Epoch 16: 100%|██████████| 7/7 [00:00<00:00,  9.74it/s, loss=0.0606, v_num=0, train_loss=0.000652, train_accuracy=1.000]"
     ]
    },
    {
     "name": "stderr",
     "output_type": "stream",
     "text": [
      "[2024-12-02 21:26:31] INFO (torcheeg/MainThread) \n",
      "[Train] train_loss: 0.044 train_accuracy: 0.980 \n",
      "\n"
     ]
    },
    {
     "name": "stdout",
     "output_type": "stream",
     "text": [
      "Epoch 17: 100%|██████████| 7/7 [00:00<00:00,  9.81it/s, loss=0.0321, v_num=0, train_loss=0.00276, train_accuracy=1.000] "
     ]
    },
    {
     "name": "stderr",
     "output_type": "stream",
     "text": [
      "[2024-12-02 21:26:36] INFO (torcheeg/MainThread) \n",
      "[Train] train_loss: 0.007 train_accuracy: 1.000 \n",
      "\n"
     ]
    },
    {
     "name": "stdout",
     "output_type": "stream",
     "text": [
      "Epoch 18: 100%|██████████| 7/7 [00:00<00:00,  9.87it/s, loss=0.043, v_num=0, train_loss=0.218, train_accuracy=0.875]   "
     ]
    },
    {
     "name": "stderr",
     "output_type": "stream",
     "text": [
      "[2024-12-02 21:26:40] INFO (torcheeg/MainThread) \n",
      "[Train] train_loss: 0.086 train_accuracy: 0.975 \n",
      "\n"
     ]
    },
    {
     "name": "stdout",
     "output_type": "stream",
     "text": [
      "Epoch 19: 100%|██████████| 7/7 [00:00<00:00, 10.05it/s, loss=0.0562, v_num=0, train_loss=0.029, train_accuracy=1.000] "
     ]
    },
    {
     "name": "stderr",
     "output_type": "stream",
     "text": [
      "[2024-12-02 21:26:44] INFO (torcheeg/MainThread) \n",
      "[Train] train_loss: 0.069 train_accuracy: 0.970 \n",
      "\n"
     ]
    },
    {
     "name": "stdout",
     "output_type": "stream",
     "text": [
      "Epoch 20: 100%|██████████| 7/7 [00:00<00:00,  9.86it/s, loss=0.0606, v_num=0, train_loss=0.012, train_accuracy=1.000]  "
     ]
    },
    {
     "name": "stderr",
     "output_type": "stream",
     "text": [
      "[2024-12-02 21:26:48] INFO (torcheeg/MainThread) \n",
      "[Train] train_loss: 0.032 train_accuracy: 0.985 \n",
      "\n"
     ]
    },
    {
     "name": "stdout",
     "output_type": "stream",
     "text": [
      "Epoch 21: 100%|██████████| 7/7 [00:00<00:00,  9.75it/s, loss=0.055, v_num=0, train_loss=0.00017, train_accuracy=1.000]  "
     ]
    },
    {
     "name": "stderr",
     "output_type": "stream",
     "text": [
      "[2024-12-02 21:26:53] INFO (torcheeg/MainThread) \n",
      "[Train] train_loss: 0.063 train_accuracy: 0.980 \n",
      "\n"
     ]
    },
    {
     "name": "stdout",
     "output_type": "stream",
     "text": [
      "Epoch 22: 100%|██████████| 7/7 [00:00<00:00,  9.83it/s, loss=0.0363, v_num=0, train_loss=0.000242, train_accuracy=1.000]"
     ]
    },
    {
     "name": "stderr",
     "output_type": "stream",
     "text": [
      "[2024-12-02 21:26:57] INFO (torcheeg/MainThread) \n",
      "[Train] train_loss: 0.011 train_accuracy: 0.995 \n",
      "\n"
     ]
    },
    {
     "name": "stdout",
     "output_type": "stream",
     "text": [
      "Epoch 23: 100%|██████████| 7/7 [00:00<00:00,  9.75it/s, loss=0.0245, v_num=0, train_loss=0.000504, train_accuracy=1.000]"
     ]
    },
    {
     "name": "stderr",
     "output_type": "stream",
     "text": [
      "[2024-12-02 21:27:01] INFO (torcheeg/MainThread) \n",
      "[Train] train_loss: 0.008 train_accuracy: 0.995 \n",
      "\n"
     ]
    },
    {
     "name": "stdout",
     "output_type": "stream",
     "text": [
      "Epoch 24: 100%|██████████| 7/7 [00:00<00:00,  9.90it/s, loss=0.0231, v_num=0, train_loss=0.000618, train_accuracy=1.000]"
     ]
    },
    {
     "name": "stderr",
     "output_type": "stream",
     "text": [
      "[2024-12-02 21:27:05] INFO (torcheeg/MainThread) \n",
      "[Train] train_loss: 0.046 train_accuracy: 0.980 \n",
      "\n"
     ]
    },
    {
     "name": "stdout",
     "output_type": "stream",
     "text": [
      "Epoch 25: 100%|██████████| 7/7 [00:00<00:00,  9.83it/s, loss=0.0205, v_num=0, train_loss=0.00156, train_accuracy=1.000] "
     ]
    },
    {
     "name": "stderr",
     "output_type": "stream",
     "text": [
      "[2024-12-02 21:27:10] INFO (torcheeg/MainThread) \n",
      "[Train] train_loss: 0.004 train_accuracy: 1.000 \n",
      "\n"
     ]
    },
    {
     "name": "stdout",
     "output_type": "stream",
     "text": [
      "Epoch 26: 100%|██████████| 7/7 [00:00<00:00,  9.87it/s, loss=0.0198, v_num=0, train_loss=0.0105, train_accuracy=1.000]  "
     ]
    },
    {
     "name": "stderr",
     "output_type": "stream",
     "text": [
      "[2024-12-02 21:27:14] INFO (torcheeg/MainThread) \n",
      "[Train] train_loss: 0.006 train_accuracy: 0.995 \n",
      "\n"
     ]
    },
    {
     "name": "stdout",
     "output_type": "stream",
     "text": [
      "Epoch 27: 100%|██████████| 7/7 [00:00<00:00,  9.69it/s, loss=0.00503, v_num=0, train_loss=0.000827, train_accuracy=1.000]"
     ]
    },
    {
     "name": "stderr",
     "output_type": "stream",
     "text": [
      "Monitored metric train_loss did not improve in the last 20 records. Best score: 0.000. Signaling Trainer to stop.\n"
     ]
    },
    {
     "name": "stdout",
     "output_type": "stream",
     "text": [
      "Epoch 27: 100%|██████████| 7/7 [00:00<00:00,  9.67it/s, loss=0.00503, v_num=0, train_loss=0.000827, train_accuracy=1.000]"
     ]
    },
    {
     "name": "stderr",
     "output_type": "stream",
     "text": [
      "[2024-12-02 21:27:18] INFO (torcheeg/MainThread) \n",
      "[Train] train_loss: 0.006 train_accuracy: 1.000 \n",
      "\n"
     ]
    },
    {
     "name": "stdout",
     "output_type": "stream",
     "text": [
      "Epoch 27: 100%|██████████| 7/7 [00:04<00:00,  1.63it/s, loss=0.00503, v_num=0, train_loss=0.000827, train_accuracy=1.000]\n"
     ]
    },
    {
     "name": "stderr",
     "output_type": "stream",
     "text": [
      "GPU available: True (cuda), used: True\n",
      "TPU available: False, using: 0 TPU cores\n",
      "IPU available: False, using: 0 IPUs\n",
      "HPU available: False, using: 0 HPUs\n",
      "LOCAL_RANK: 0 - CUDA_VISIBLE_DEVICES: [0]\n",
      "/root/autodl-tmp/conda/envs/law/lib/python3.8/site-packages/pytorch_lightning/trainer/connectors/data_connector.py:224: PossibleUserWarning: The dataloader, test_dataloader 0, does not have many workers which may be a bottleneck. Consider increasing the value of the `num_workers` argument` (try 128 which is the number of cpus on this machine) in the `DataLoader` init to improve performance.\n",
      "  rank_zero_warn(\n"
     ]
    },
    {
     "name": "stdout",
     "output_type": "stream",
     "text": [
      "Testing DataLoader 0: 100%|██████████| 3/3 [00:00<00:00, 39.63it/s]"
     ]
    },
    {
     "name": "stderr",
     "output_type": "stream",
     "text": [
      "[2024-12-02 21:27:20] INFO (torcheeg/MainThread) \n",
      "[Test] test_loss: 0.758 test_accuracy: 0.887 \n",
      "\n"
     ]
    },
    {
     "name": "stdout",
     "output_type": "stream",
     "text": [
      "Testing DataLoader 0: 100%|██████████| 3/3 [00:00<00:00, 37.11it/s]\n",
      "────────────────────────────────────────────────────────────────────────────────────────────────────────────────────────\n",
      "       Test metric             DataLoader 0\n",
      "────────────────────────────────────────────────────────────────────────────────────────────────────────────────────────\n",
      "      test_accuracy          0.887499988079071\n",
      "        test_loss           0.7576737403869629\n",
      "────────────────────────────────────────────────────────────────────────────────────────────────────────────────────────\n",
      "已删除文件夹: /root/autodl-tmp/.autodl/kinlaw/mi_swin/lightning_logs\n"
     ]
    },
    {
     "name": "stderr",
     "output_type": "stream",
     "text": [
      "GPU available: True (cuda), used: True\n",
      "TPU available: False, using: 0 TPU cores\n",
      "IPU available: False, using: 0 IPUs\n",
      "HPU available: False, using: 0 HPUs\n",
      "Missing logger folder: /root/autodl-tmp/.autodl/kinlaw/mi_swin/lightning_logs\n",
      "LOCAL_RANK: 0 - CUDA_VISIBLE_DEVICES: [0]\n",
      "/root/autodl-tmp/conda/envs/law/lib/python3.8/site-packages/pytorch_lightning/trainer/connectors/data_connector.py:224: PossibleUserWarning: The dataloader, train_dataloader, does not have many workers which may be a bottleneck. Consider increasing the value of the `num_workers` argument` (try 128 which is the number of cpus on this machine) in the `DataLoader` init to improve performance.\n",
      "  rank_zero_warn(\n",
      "/root/autodl-tmp/conda/envs/law/lib/python3.8/site-packages/pytorch_lightning/trainer/trainer.py:1609: PossibleUserWarning: The number of training batches (8) is smaller than the logging interval Trainer(log_every_n_steps=50). Set a lower value for log_every_n_steps if you want to see logs for the training epoch.\n",
      "  rank_zero_warn(\n"
     ]
    },
    {
     "name": "stdout",
     "output_type": "stream",
     "text": [
      "Epoch 0: 100%|██████████| 8/8 [00:00<00:00,  9.44it/s, loss=2.42, v_num=0, train_loss=2.910, train_accuracy=0.438] "
     ]
    },
    {
     "name": "stderr",
     "output_type": "stream",
     "text": [
      "Metric train_loss improved. New best score: 2.907\n"
     ]
    },
    {
     "name": "stdout",
     "output_type": "stream",
     "text": [
      "Epoch 0: 100%|██████████| 8/8 [00:00<00:00,  9.42it/s, loss=2.42, v_num=0, train_loss=2.910, train_accuracy=0.438]"
     ]
    },
    {
     "name": "stderr",
     "output_type": "stream",
     "text": [
      "[2024-12-02 21:27:27] INFO (torcheeg/MainThread) \n",
      "[Train] train_loss: 2.421 train_accuracy: 0.529 \n",
      "\n"
     ]
    },
    {
     "name": "stdout",
     "output_type": "stream",
     "text": [
      "Epoch 1: 100%|██████████| 8/8 [00:00<00:00,  9.75it/s, loss=1.51, v_num=0, train_loss=0.646, train_accuracy=0.750]"
     ]
    },
    {
     "name": "stderr",
     "output_type": "stream",
     "text": [
      "Metric train_loss improved by 2.261 >= min_delta = 0.0. New best score: 0.646\n"
     ]
    },
    {
     "name": "stdout",
     "output_type": "stream",
     "text": [
      "Epoch 1: 100%|██████████| 8/8 [00:00<00:00,  9.73it/s, loss=1.51, v_num=0, train_loss=0.646, train_accuracy=0.750]"
     ]
    },
    {
     "name": "stderr",
     "output_type": "stream",
     "text": [
      "[2024-12-02 21:27:32] INFO (torcheeg/MainThread) \n",
      "[Train] train_loss: 0.594 train_accuracy: 0.796 \n",
      "\n"
     ]
    },
    {
     "name": "stdout",
     "output_type": "stream",
     "text": [
      "Epoch 2: 100%|██████████| 8/8 [00:00<00:00,  9.90it/s, loss=0.923, v_num=0, train_loss=0.0543, train_accuracy=1.000]"
     ]
    },
    {
     "name": "stderr",
     "output_type": "stream",
     "text": [
      "Metric train_loss improved by 0.592 >= min_delta = 0.0. New best score: 0.054\n"
     ]
    },
    {
     "name": "stdout",
     "output_type": "stream",
     "text": [
      "Epoch 2: 100%|██████████| 8/8 [00:00<00:00,  9.88it/s, loss=0.923, v_num=0, train_loss=0.0543, train_accuracy=1.000]"
     ]
    },
    {
     "name": "stderr",
     "output_type": "stream",
     "text": [
      "[2024-12-02 21:27:37] INFO (torcheeg/MainThread) \n",
      "[Train] train_loss: 0.284 train_accuracy: 0.896 \n",
      "\n"
     ]
    },
    {
     "name": "stdout",
     "output_type": "stream",
     "text": [
      "Epoch 3: 100%|██████████| 8/8 [00:00<00:00,  9.61it/s, loss=0.29, v_num=0, train_loss=0.201, train_accuracy=0.938]  "
     ]
    },
    {
     "name": "stderr",
     "output_type": "stream",
     "text": [
      "[2024-12-02 21:27:42] INFO (torcheeg/MainThread) \n",
      "[Train] train_loss: 0.151 train_accuracy: 0.929 \n",
      "\n"
     ]
    },
    {
     "name": "stdout",
     "output_type": "stream",
     "text": [
      "Epoch 4: 100%|██████████| 8/8 [00:00<00:00,  9.70it/s, loss=0.169, v_num=0, train_loss=0.0273, train_accuracy=1.000]"
     ]
    },
    {
     "name": "stderr",
     "output_type": "stream",
     "text": [
      "Metric train_loss improved by 0.027 >= min_delta = 0.0. New best score: 0.027\n"
     ]
    },
    {
     "name": "stdout",
     "output_type": "stream",
     "text": [
      "Epoch 4: 100%|██████████| 8/8 [00:00<00:00,  9.67it/s, loss=0.169, v_num=0, train_loss=0.0273, train_accuracy=1.000]"
     ]
    },
    {
     "name": "stderr",
     "output_type": "stream",
     "text": [
      "[2024-12-02 21:27:47] INFO (torcheeg/MainThread) \n",
      "[Train] train_loss: 0.133 train_accuracy: 0.942 \n",
      "\n"
     ]
    },
    {
     "name": "stdout",
     "output_type": "stream",
     "text": [
      "Epoch 5: 100%|██████████| 8/8 [00:00<00:00,  9.89it/s, loss=0.136, v_num=0, train_loss=0.0234, train_accuracy=1.000]"
     ]
    },
    {
     "name": "stderr",
     "output_type": "stream",
     "text": [
      "Metric train_loss improved by 0.004 >= min_delta = 0.0. New best score: 0.023\n"
     ]
    },
    {
     "name": "stdout",
     "output_type": "stream",
     "text": [
      "Epoch 5: 100%|██████████| 8/8 [00:00<00:00,  9.87it/s, loss=0.136, v_num=0, train_loss=0.0234, train_accuracy=1.000]"
     ]
    },
    {
     "name": "stderr",
     "output_type": "stream",
     "text": [
      "[2024-12-02 21:27:52] INFO (torcheeg/MainThread) \n",
      "[Train] train_loss: 0.124 train_accuracy: 0.958 \n",
      "\n"
     ]
    },
    {
     "name": "stdout",
     "output_type": "stream",
     "text": [
      "Epoch 6: 100%|██████████| 8/8 [00:00<00:00,  9.86it/s, loss=0.0765, v_num=0, train_loss=0.0202, train_accuracy=1.000]"
     ]
    },
    {
     "name": "stderr",
     "output_type": "stream",
     "text": [
      "Metric train_loss improved by 0.003 >= min_delta = 0.0. New best score: 0.020\n"
     ]
    },
    {
     "name": "stdout",
     "output_type": "stream",
     "text": [
      "Epoch 6: 100%|██████████| 8/8 [00:00<00:00,  9.83it/s, loss=0.0765, v_num=0, train_loss=0.0202, train_accuracy=1.000]"
     ]
    },
    {
     "name": "stderr",
     "output_type": "stream",
     "text": [
      "[2024-12-02 21:27:56] INFO (torcheeg/MainThread) \n",
      "[Train] train_loss: 0.047 train_accuracy: 0.975 \n",
      "\n"
     ]
    },
    {
     "name": "stdout",
     "output_type": "stream",
     "text": [
      "Epoch 7: 100%|██████████| 8/8 [00:00<00:00,  9.91it/s, loss=0.0353, v_num=0, train_loss=0.00357, train_accuracy=1.000]"
     ]
    },
    {
     "name": "stderr",
     "output_type": "stream",
     "text": [
      "Metric train_loss improved by 0.017 >= min_delta = 0.0. New best score: 0.004\n"
     ]
    },
    {
     "name": "stdout",
     "output_type": "stream",
     "text": [
      "Epoch 7: 100%|██████████| 8/8 [00:00<00:00,  9.89it/s, loss=0.0353, v_num=0, train_loss=0.00357, train_accuracy=1.000]"
     ]
    },
    {
     "name": "stderr",
     "output_type": "stream",
     "text": [
      "[2024-12-02 21:28:01] INFO (torcheeg/MainThread) \n",
      "[Train] train_loss: 0.019 train_accuracy: 0.996 \n",
      "\n"
     ]
    },
    {
     "name": "stdout",
     "output_type": "stream",
     "text": [
      "Epoch 8: 100%|██████████| 8/8 [00:00<00:00,  9.79it/s, loss=0.0222, v_num=0, train_loss=0.00104, train_accuracy=1.000]"
     ]
    },
    {
     "name": "stderr",
     "output_type": "stream",
     "text": [
      "Metric train_loss improved by 0.003 >= min_delta = 0.0. New best score: 0.001\n"
     ]
    },
    {
     "name": "stdout",
     "output_type": "stream",
     "text": [
      "Epoch 8: 100%|██████████| 8/8 [00:00<00:00,  9.77it/s, loss=0.0222, v_num=0, train_loss=0.00104, train_accuracy=1.000]"
     ]
    },
    {
     "name": "stderr",
     "output_type": "stream",
     "text": [
      "[2024-12-02 21:28:06] INFO (torcheeg/MainThread) \n",
      "[Train] train_loss: 0.020 train_accuracy: 0.996 \n",
      "\n"
     ]
    },
    {
     "name": "stdout",
     "output_type": "stream",
     "text": [
      "Epoch 9: 100%|██████████| 8/8 [00:00<00:00,  9.73it/s, loss=0.0245, v_num=0, train_loss=0.0345, train_accuracy=1.000]  "
     ]
    },
    {
     "name": "stderr",
     "output_type": "stream",
     "text": [
      "[2024-12-02 21:28:11] INFO (torcheeg/MainThread) \n",
      "[Train] train_loss: 0.028 train_accuracy: 0.996 \n",
      "\n"
     ]
    },
    {
     "name": "stdout",
     "output_type": "stream",
     "text": [
      "Epoch 10: 100%|██████████| 8/8 [00:00<00:00,  9.65it/s, loss=0.0426, v_num=0, train_loss=0.096, train_accuracy=0.938]  "
     ]
    },
    {
     "name": "stderr",
     "output_type": "stream",
     "text": [
      "[2024-12-02 21:28:16] INFO (torcheeg/MainThread) \n",
      "[Train] train_loss: 0.064 train_accuracy: 0.979 \n",
      "\n"
     ]
    },
    {
     "name": "stdout",
     "output_type": "stream",
     "text": [
      "Epoch 11: 100%|██████████| 8/8 [00:00<00:00,  9.78it/s, loss=0.0839, v_num=0, train_loss=0.142, train_accuracy=0.938]  "
     ]
    },
    {
     "name": "stderr",
     "output_type": "stream",
     "text": [
      "[2024-12-02 21:28:21] INFO (torcheeg/MainThread) \n",
      "[Train] train_loss: 0.121 train_accuracy: 0.971 \n",
      "\n"
     ]
    },
    {
     "name": "stdout",
     "output_type": "stream",
     "text": [
      "Epoch 12: 100%|██████████| 8/8 [00:00<00:00,  9.84it/s, loss=0.105, v_num=0, train_loss=0.0342, train_accuracy=1.000]  "
     ]
    },
    {
     "name": "stderr",
     "output_type": "stream",
     "text": [
      "[2024-12-02 21:28:25] INFO (torcheeg/MainThread) \n",
      "[Train] train_loss: 0.108 train_accuracy: 0.958 \n",
      "\n"
     ]
    },
    {
     "name": "stdout",
     "output_type": "stream",
     "text": [
      "Epoch 13: 100%|██████████| 8/8 [00:00<00:00,  9.65it/s, loss=0.0913, v_num=0, train_loss=0.00195, train_accuracy=1.000]"
     ]
    },
    {
     "name": "stderr",
     "output_type": "stream",
     "text": [
      "[2024-12-02 21:28:30] INFO (torcheeg/MainThread) \n",
      "[Train] train_loss: 0.054 train_accuracy: 0.988 \n",
      "\n"
     ]
    },
    {
     "name": "stdout",
     "output_type": "stream",
     "text": [
      "Epoch 14: 100%|██████████| 8/8 [00:00<00:00,  9.81it/s, loss=0.0637, v_num=0, train_loss=0.0314, train_accuracy=1.000]  "
     ]
    },
    {
     "name": "stderr",
     "output_type": "stream",
     "text": [
      "[2024-12-02 21:28:35] INFO (torcheeg/MainThread) \n",
      "[Train] train_loss: 0.040 train_accuracy: 0.988 \n",
      "\n"
     ]
    },
    {
     "name": "stdout",
     "output_type": "stream",
     "text": [
      "Epoch 15: 100%|██████████| 8/8 [00:00<00:00,  9.84it/s, loss=0.0283, v_num=0, train_loss=0.0017, train_accuracy=1.000] "
     ]
    },
    {
     "name": "stderr",
     "output_type": "stream",
     "text": [
      "[2024-12-02 21:28:40] INFO (torcheeg/MainThread) \n",
      "[Train] train_loss: 0.008 train_accuracy: 1.000 \n",
      "\n"
     ]
    },
    {
     "name": "stdout",
     "output_type": "stream",
     "text": [
      "Epoch 16: 100%|██████████| 8/8 [00:00<00:00,  9.80it/s, loss=0.0194, v_num=0, train_loss=0.0107, train_accuracy=1.000]  "
     ]
    },
    {
     "name": "stderr",
     "output_type": "stream",
     "text": [
      "[2024-12-02 21:28:45] INFO (torcheeg/MainThread) \n",
      "[Train] train_loss: 0.006 train_accuracy: 1.000 \n",
      "\n"
     ]
    },
    {
     "name": "stdout",
     "output_type": "stream",
     "text": [
      "Epoch 17: 100%|██████████| 8/8 [00:00<00:00,  9.65it/s, loss=0.00603, v_num=0, train_loss=0.00436, train_accuracy=1.000] "
     ]
    },
    {
     "name": "stderr",
     "output_type": "stream",
     "text": [
      "[2024-12-02 21:28:50] INFO (torcheeg/MainThread) \n",
      "[Train] train_loss: 0.006 train_accuracy: 0.996 \n",
      "\n"
     ]
    },
    {
     "name": "stdout",
     "output_type": "stream",
     "text": [
      "Epoch 18: 100%|██████████| 8/8 [00:00<00:00,  9.61it/s, loss=0.00474, v_num=0, train_loss=0.00293, train_accuracy=1.000] "
     ]
    },
    {
     "name": "stderr",
     "output_type": "stream",
     "text": [
      "[2024-12-02 21:28:54] INFO (torcheeg/MainThread) \n",
      "[Train] train_loss: 0.002 train_accuracy: 1.000 \n",
      "\n"
     ]
    },
    {
     "name": "stdout",
     "output_type": "stream",
     "text": [
      "Epoch 19: 100%|██████████| 8/8 [00:00<00:00,  9.87it/s, loss=0.00301, v_num=0, train_loss=0.000692, train_accuracy=1.000]"
     ]
    },
    {
     "name": "stderr",
     "output_type": "stream",
     "text": [
      "Metric train_loss improved by 0.000 >= min_delta = 0.0. New best score: 0.001\n"
     ]
    },
    {
     "name": "stdout",
     "output_type": "stream",
     "text": [
      "Epoch 19: 100%|██████████| 8/8 [00:00<00:00,  9.85it/s, loss=0.00301, v_num=0, train_loss=0.000692, train_accuracy=1.000]"
     ]
    },
    {
     "name": "stderr",
     "output_type": "stream",
     "text": [
      "[2024-12-02 21:28:59] INFO (torcheeg/MainThread) \n",
      "[Train] train_loss: 0.001 train_accuracy: 1.000 \n",
      "\n"
     ]
    },
    {
     "name": "stdout",
     "output_type": "stream",
     "text": [
      "Epoch 20: 100%|██████████| 8/8 [00:00<00:00,  9.70it/s, loss=0.000921, v_num=0, train_loss=0.000447, train_accuracy=1.000]"
     ]
    },
    {
     "name": "stderr",
     "output_type": "stream",
     "text": [
      "Metric train_loss improved by 0.000 >= min_delta = 0.0. New best score: 0.000\n"
     ]
    },
    {
     "name": "stdout",
     "output_type": "stream",
     "text": [
      "Epoch 20: 100%|██████████| 8/8 [00:00<00:00,  9.68it/s, loss=0.000921, v_num=0, train_loss=0.000447, train_accuracy=1.000]"
     ]
    },
    {
     "name": "stderr",
     "output_type": "stream",
     "text": [
      "[2024-12-02 21:29:04] INFO (torcheeg/MainThread) \n",
      "[Train] train_loss: 0.000 train_accuracy: 1.000 \n",
      "\n"
     ]
    },
    {
     "name": "stdout",
     "output_type": "stream",
     "text": [
      "Epoch 21: 100%|██████████| 8/8 [00:00<00:00,  9.71it/s, loss=0.0011, v_num=0, train_loss=2.49e-5, train_accuracy=1.000]   "
     ]
    },
    {
     "name": "stderr",
     "output_type": "stream",
     "text": [
      "Metric train_loss improved by 0.000 >= min_delta = 0.0. New best score: 0.000\n"
     ]
    },
    {
     "name": "stdout",
     "output_type": "stream",
     "text": [
      "Epoch 21: 100%|██████████| 8/8 [00:00<00:00,  9.69it/s, loss=0.0011, v_num=0, train_loss=2.49e-5, train_accuracy=1.000]"
     ]
    },
    {
     "name": "stderr",
     "output_type": "stream",
     "text": [
      "[2024-12-02 21:29:08] INFO (torcheeg/MainThread) \n",
      "[Train] train_loss: 0.002 train_accuracy: 1.000 \n",
      "\n"
     ]
    },
    {
     "name": "stdout",
     "output_type": "stream",
     "text": [
      "Epoch 22: 100%|██████████| 8/8 [00:00<00:00,  9.79it/s, loss=0.0115, v_num=0, train_loss=6.27e-5, train_accuracy=1.000]  "
     ]
    },
    {
     "name": "stderr",
     "output_type": "stream",
     "text": [
      "[2024-12-02 21:29:12] INFO (torcheeg/MainThread) \n",
      "[Train] train_loss: 0.026 train_accuracy: 0.992 \n",
      "\n"
     ]
    },
    {
     "name": "stdout",
     "output_type": "stream",
     "text": [
      "Epoch 23: 100%|██████████| 8/8 [00:00<00:00,  9.70it/s, loss=0.0278, v_num=0, train_loss=0.000412, train_accuracy=1.000]"
     ]
    },
    {
     "name": "stderr",
     "output_type": "stream",
     "text": [
      "[2024-12-02 21:29:17] INFO (torcheeg/MainThread) \n",
      "[Train] train_loss: 0.041 train_accuracy: 0.983 \n",
      "\n"
     ]
    },
    {
     "name": "stdout",
     "output_type": "stream",
     "text": [
      "Epoch 24: 100%|██████████| 8/8 [00:00<00:00,  9.80it/s, loss=0.0277, v_num=0, train_loss=0.00364, train_accuracy=1.000] "
     ]
    },
    {
     "name": "stderr",
     "output_type": "stream",
     "text": [
      "[2024-12-02 21:29:21] INFO (torcheeg/MainThread) \n",
      "[Train] train_loss: 0.011 train_accuracy: 0.992 \n",
      "\n"
     ]
    },
    {
     "name": "stdout",
     "output_type": "stream",
     "text": [
      "Epoch 25: 100%|██████████| 8/8 [00:00<00:00,  9.84it/s, loss=0.0384, v_num=0, train_loss=0.0069, train_accuracy=1.000] "
     ]
    },
    {
     "name": "stderr",
     "output_type": "stream",
     "text": [
      "[2024-12-02 21:29:25] INFO (torcheeg/MainThread) \n",
      "[Train] train_loss: 0.048 train_accuracy: 0.988 \n",
      "\n"
     ]
    },
    {
     "name": "stdout",
     "output_type": "stream",
     "text": [
      "Epoch 26: 100%|██████████| 8/8 [00:00<00:00,  9.86it/s, loss=0.0368, v_num=0, train_loss=0.000117, train_accuracy=1.000]"
     ]
    },
    {
     "name": "stderr",
     "output_type": "stream",
     "text": [
      "[2024-12-02 21:29:30] INFO (torcheeg/MainThread) \n",
      "[Train] train_loss: 0.041 train_accuracy: 0.979 \n",
      "\n"
     ]
    },
    {
     "name": "stdout",
     "output_type": "stream",
     "text": [
      "Epoch 27: 100%|██████████| 8/8 [00:00<00:00,  9.62it/s, loss=0.0331, v_num=0, train_loss=0.067, train_accuracy=0.938]   "
     ]
    },
    {
     "name": "stderr",
     "output_type": "stream",
     "text": [
      "[2024-12-02 21:29:34] INFO (torcheeg/MainThread) \n",
      "[Train] train_loss: 0.032 train_accuracy: 0.992 \n",
      "\n"
     ]
    },
    {
     "name": "stdout",
     "output_type": "stream",
     "text": [
      "Epoch 28: 100%|██████████| 8/8 [00:00<00:00,  9.63it/s, loss=0.0276, v_num=0, train_loss=0.00269, train_accuracy=1.000] "
     ]
    },
    {
     "name": "stderr",
     "output_type": "stream",
     "text": [
      "[2024-12-02 21:29:39] INFO (torcheeg/MainThread) \n",
      "[Train] train_loss: 0.006 train_accuracy: 1.000 \n",
      "\n"
     ]
    },
    {
     "name": "stdout",
     "output_type": "stream",
     "text": [
      "Epoch 29: 100%|██████████| 8/8 [00:00<00:00,  9.91it/s, loss=0.012, v_num=0, train_loss=0.00109, train_accuracy=1.000]  "
     ]
    },
    {
     "name": "stderr",
     "output_type": "stream",
     "text": [
      "[2024-12-02 21:29:43] INFO (torcheeg/MainThread) \n",
      "[Train] train_loss: 0.014 train_accuracy: 0.992 \n",
      "\n"
     ]
    },
    {
     "name": "stdout",
     "output_type": "stream",
     "text": [
      "Epoch 30: 100%|██████████| 8/8 [00:00<00:00,  9.75it/s, loss=0.00848, v_num=0, train_loss=0.000604, train_accuracy=1.000]"
     ]
    },
    {
     "name": "stderr",
     "output_type": "stream",
     "text": [
      "[2024-12-02 21:29:47] INFO (torcheeg/MainThread) \n",
      "[Train] train_loss: 0.005 train_accuracy: 1.000 \n",
      "\n"
     ]
    },
    {
     "name": "stdout",
     "output_type": "stream",
     "text": [
      "Epoch 31: 100%|██████████| 8/8 [00:00<00:00,  9.82it/s, loss=0.0154, v_num=0, train_loss=0.000622, train_accuracy=1.000] "
     ]
    },
    {
     "name": "stderr",
     "output_type": "stream",
     "text": [
      "[2024-12-02 21:29:52] INFO (torcheeg/MainThread) \n",
      "[Train] train_loss: 0.033 train_accuracy: 0.992 \n",
      "\n"
     ]
    },
    {
     "name": "stdout",
     "output_type": "stream",
     "text": [
      "Epoch 32: 100%|██████████| 8/8 [00:00<00:00,  9.80it/s, loss=0.0274, v_num=0, train_loss=0.000231, train_accuracy=1.000]"
     ]
    },
    {
     "name": "stderr",
     "output_type": "stream",
     "text": [
      "[2024-12-02 21:29:56] INFO (torcheeg/MainThread) \n",
      "[Train] train_loss: 0.033 train_accuracy: 0.992 \n",
      "\n"
     ]
    },
    {
     "name": "stdout",
     "output_type": "stream",
     "text": [
      "Epoch 33: 100%|██████████| 8/8 [00:00<00:00,  9.62it/s, loss=0.0282, v_num=0, train_loss=0.0357, train_accuracy=1.000]  "
     ]
    },
    {
     "name": "stderr",
     "output_type": "stream",
     "text": [
      "[2024-12-02 21:30:00] INFO (torcheeg/MainThread) \n",
      "[Train] train_loss: 0.021 train_accuracy: 0.996 \n",
      "\n"
     ]
    },
    {
     "name": "stdout",
     "output_type": "stream",
     "text": [
      "Epoch 34: 100%|██████████| 8/8 [00:00<00:00,  9.74it/s, loss=0.0229, v_num=0, train_loss=2.97e-5, train_accuracy=1.000] "
     ]
    },
    {
     "name": "stderr",
     "output_type": "stream",
     "text": [
      "[2024-12-02 21:30:05] INFO (torcheeg/MainThread) \n",
      "[Train] train_loss: 0.005 train_accuracy: 1.000 \n",
      "\n"
     ]
    },
    {
     "name": "stdout",
     "output_type": "stream",
     "text": [
      "Epoch 35: 100%|██████████| 8/8 [00:00<00:00,  9.84it/s, loss=0.0147, v_num=0, train_loss=5e-5, train_accuracy=1.000]   "
     ]
    },
    {
     "name": "stderr",
     "output_type": "stream",
     "text": [
      "[2024-12-02 21:30:09] INFO (torcheeg/MainThread) \n",
      "[Train] train_loss: 0.024 train_accuracy: 0.992 \n",
      "\n"
     ]
    },
    {
     "name": "stdout",
     "output_type": "stream",
     "text": [
      "Epoch 36: 100%|██████████| 8/8 [00:00<00:00,  9.77it/s, loss=0.0246, v_num=0, train_loss=6.92e-5, train_accuracy=1.000] "
     ]
    },
    {
     "name": "stderr",
     "output_type": "stream",
     "text": [
      "[2024-12-02 21:30:14] INFO (torcheeg/MainThread) \n",
      "[Train] train_loss: 0.035 train_accuracy: 0.988 \n",
      "\n"
     ]
    },
    {
     "name": "stdout",
     "output_type": "stream",
     "text": [
      "Epoch 37: 100%|██████████| 8/8 [00:00<00:00,  9.83it/s, loss=0.0192, v_num=0, train_loss=0.000309, train_accuracy=1.000]"
     ]
    },
    {
     "name": "stderr",
     "output_type": "stream",
     "text": [
      "[2024-12-02 21:30:18] INFO (torcheeg/MainThread) \n",
      "[Train] train_loss: 0.011 train_accuracy: 0.992 \n",
      "\n"
     ]
    },
    {
     "name": "stdout",
     "output_type": "stream",
     "text": [
      "Epoch 38: 100%|██████████| 8/8 [00:00<00:00,  9.97it/s, loss=0.0277, v_num=0, train_loss=0.000546, train_accuracy=1.000]"
     ]
    },
    {
     "name": "stderr",
     "output_type": "stream",
     "text": [
      "[2024-12-02 21:30:22] INFO (torcheeg/MainThread) \n",
      "[Train] train_loss: 0.052 train_accuracy: 0.988 \n",
      "\n"
     ]
    },
    {
     "name": "stdout",
     "output_type": "stream",
     "text": [
      "Epoch 39: 100%|██████████| 8/8 [00:00<00:00,  9.89it/s, loss=0.0594, v_num=0, train_loss=0.00724, train_accuracy=1.000] "
     ]
    },
    {
     "name": "stderr",
     "output_type": "stream",
     "text": [
      "[2024-12-02 21:30:27] INFO (torcheeg/MainThread) \n",
      "[Train] train_loss: 0.096 train_accuracy: 0.979 \n",
      "\n"
     ]
    },
    {
     "name": "stdout",
     "output_type": "stream",
     "text": [
      "Epoch 40: 100%|██████████| 8/8 [00:00<00:00,  9.76it/s, loss=0.0834, v_num=0, train_loss=0.264, train_accuracy=0.938]  "
     ]
    },
    {
     "name": "stderr",
     "output_type": "stream",
     "text": [
      "[2024-12-02 21:30:31] INFO (torcheeg/MainThread) \n",
      "[Train] train_loss: 0.111 train_accuracy: 0.962 \n",
      "\n"
     ]
    },
    {
     "name": "stdout",
     "output_type": "stream",
     "text": [
      "Epoch 41: 100%|██████████| 8/8 [00:00<00:00,  9.92it/s, loss=0.085, v_num=0, train_loss=0.146, train_accuracy=0.875]  "
     ]
    },
    {
     "name": "stderr",
     "output_type": "stream",
     "text": [
      "Monitored metric train_loss did not improve in the last 20 records. Best score: 0.000. Signaling Trainer to stop.\n"
     ]
    },
    {
     "name": "stdout",
     "output_type": "stream",
     "text": [
      "Epoch 41: 100%|██████████| 8/8 [00:00<00:00,  9.90it/s, loss=0.085, v_num=0, train_loss=0.146, train_accuracy=0.875]"
     ]
    },
    {
     "name": "stderr",
     "output_type": "stream",
     "text": [
      "[2024-12-02 21:30:36] INFO (torcheeg/MainThread) \n",
      "[Train] train_loss: 0.056 train_accuracy: 0.979 \n",
      "\n"
     ]
    },
    {
     "name": "stdout",
     "output_type": "stream",
     "text": [
      "Epoch 41: 100%|██████████| 8/8 [00:04<00:00,  1.81it/s, loss=0.085, v_num=0, train_loss=0.146, train_accuracy=0.875]\n"
     ]
    },
    {
     "name": "stderr",
     "output_type": "stream",
     "text": [
      "GPU available: True (cuda), used: True\n",
      "TPU available: False, using: 0 TPU cores\n",
      "IPU available: False, using: 0 IPUs\n",
      "HPU available: False, using: 0 HPUs\n",
      "LOCAL_RANK: 0 - CUDA_VISIBLE_DEVICES: [0]\n",
      "/root/autodl-tmp/conda/envs/law/lib/python3.8/site-packages/pytorch_lightning/trainer/connectors/data_connector.py:224: PossibleUserWarning: The dataloader, test_dataloader 0, does not have many workers which may be a bottleneck. Consider increasing the value of the `num_workers` argument` (try 128 which is the number of cpus on this machine) in the `DataLoader` init to improve performance.\n",
      "  rank_zero_warn(\n"
     ]
    },
    {
     "name": "stdout",
     "output_type": "stream",
     "text": [
      "Testing DataLoader 0: 100%|██████████| 2/2 [00:00<00:00, 47.15it/s]"
     ]
    },
    {
     "name": "stderr",
     "output_type": "stream",
     "text": [
      "[2024-12-02 21:30:37] INFO (torcheeg/MainThread) \n",
      "[Test] test_loss: 1.533 test_accuracy: 0.875 \n",
      "\n"
     ]
    },
    {
     "name": "stdout",
     "output_type": "stream",
     "text": [
      "Testing DataLoader 0: 100%|██████████| 2/2 [00:00<00:00, 41.62it/s]\n",
      "────────────────────────────────────────────────────────────────────────────────────────────────────────────────────────\n",
      "       Test metric             DataLoader 0\n",
      "────────────────────────────────────────────────────────────────────────────────────────────────────────────────────────\n",
      "      test_accuracy                0.875\n",
      "        test_loss           1.5329638719558716\n",
      "────────────────────────────────────────────────────────────────────────────────────────────────────────────────────────\n",
      "{'test_metric_avg': 0.7046874985098839, 'test_metric_std': 0.1042590672908914}\n"
     ]
    }
   ],
   "source": [
    "from torcheeg.model_selection import KFoldPerSubjectGroupbyTrial\n",
    "from pytorch_lightning.callbacks import ModelCheckpoint, EarlyStopping\n",
    "from torch.utils.data import DataLoader\n",
    "from model import SwinTransformer\n",
    "from torcheeg.trainers import ClassifierTrainer\n",
    "\n",
    "k_fold = KFoldPerSubjectGroupbyTrial(\n",
    "    n_splits=4,\n",
    "    shuffle=True,\n",
    "    # split_path='.torcheeg/model_selection_1733055200903_KghEv',\n",
    "    random_state=42)\n",
    "\n",
    "training_metrics = []\n",
    "test_metrics = []\n",
    "\n",
    "for i, (training_dataset, test_dataset) in enumerate(k_fold.split(dataset)):\n",
    "    delete_folder_if_exists(target_folder_name='lightning_logs')\n",
    "    model = ECASwinTransformerModel(num_channels=30)\n",
    "    trainer = ClassifierTrainer(model=model,\n",
    "                                num_classes=2,\n",
    "                                lr=HYPERPARAMETERS['lr'],\n",
    "                                weight_decay=HYPERPARAMETERS['weight_decay'],\n",
    "                                metrics=[\"accuracy\"],\n",
    "                                accelerator=\"gpu\")\n",
    "    # trainer = SEALClassifierTrainer(model=model,\n",
    "    #                                 num_classes=2,\n",
    "    #                                 lr=HYPERPARAMETERS['lr'],\n",
    "    #                                 weight_decay=HYPERPARAMETERS['weight_decay'],\n",
    "    #                                 metrics=[\"accuracy\"],\n",
    "    #                                 accelerator=\"gpu\")\n",
    "    # training_loader = trainer.prepare_train_dataloader(training_dataset, batch_size=HYPERPARAMETERS['batch_size']) \n",
    "     \n",
    "    training_loader = DataLoader(training_dataset,\n",
    "                             batch_size=HYPERPARAMETERS['batch_size'],\n",
    "                             shuffle=True)\n",
    "    test_loader = DataLoader(test_dataset,\n",
    "                             batch_size=HYPERPARAMETERS['batch_size'],\n",
    "                             shuffle=False)\n",
    "    # 提前停止回调\n",
    "    early_stopping_callback = EarlyStopping(\n",
    "        monitor='train_loss',\n",
    "        patience=20,  # 提前停止的耐心参数\n",
    "        mode='min',\n",
    "        verbose=True\n",
    "    )\n",
    "    trainer.fit(training_loader,\n",
    "                test_loader,\n",
    "                max_epochs=HYPERPARAMETERS['num_epochs'],\n",
    "                callbacks=[early_stopping_callback],\n",
    "                enable_progress_bar=True,\n",
    "                enable_model_summary=False,\n",
    "                limit_val_batches=0.0)\n",
    "    # training_result = trainer.test(training_loader,\n",
    "    #                                enable_progress_bar=True,\n",
    "    #                                enable_model_summary=True)[0]\n",
    "    test_result = trainer.test(test_loader,\n",
    "                               enable_progress_bar=True,\n",
    "                               enable_model_summary=True)[0]\n",
    "    # training_metrics.append(training_result[\"test_accuracy\"])\n",
    "    test_metrics.append(test_result[\"test_accuracy\"])\n",
    "     \n",
    "print({\n",
    "    # \"training_metric_avg\": np.mean(training_metrics),\n",
    "    # \"training_metric_std\": np.std(training_metrics),\n",
    "    \"test_metric_avg\": np.mean(test_metrics),\n",
    "    \"test_metric_std\": np.std(test_metrics)\n",
    "})"
   ]
  },
  {
   "cell_type": "code",
   "execution_count": 8,
   "metadata": {},
   "outputs": [
    {
     "name": "stdout",
     "output_type": "stream",
     "text": [
      "0 0.5375000238418579\n",
      "1 0.6625000238418579\n",
      "2 0.637499988079071\n",
      "3 0.6499999761581421\n",
      "4 0.6000000238418579\n",
      "5 0.7124999761581421\n",
      "6 0.574999988079071\n",
      "7 0.675000011920929\n",
      "8 0.6000000238418579\n",
      "9 0.6875\n",
      "10 0.7749999761581421\n",
      "11 0.7749999761581421\n",
      "12 0.5\n",
      "13 0.6875\n",
      "14 0.699999988079071\n",
      "15 0.7250000238418579\n",
      "16 0.7250000238418579\n",
      "17 0.699999988079071\n",
      "18 0.6875\n",
      "19 0.7749999761581421\n",
      "20 0.862500011920929\n",
      "21 0.8999999761581421\n",
      "22 0.887499988079071\n",
      "23 0.875\n"
     ]
    }
   ],
   "source": [
    "for i, score in enumerate(test_metrics):\n",
    "    print(i,score)"
   ]
  },
  {
   "cell_type": "code",
   "execution_count": 9,
   "metadata": {},
   "outputs": [
    {
     "name": "stdout",
     "output_type": "stream",
     "text": [
      "每4个数的平均值: [0.6218750029802322, 0.640625, 0.7093749940395355, 0.6531250029802322, 0.7218749970197678, 0.8812499940395355]\n"
     ]
    }
   ],
   "source": [
    "\n",
    "# 每4个计算平均值\n",
    "averages = [sum(test_metrics[i:i+4]) / len(test_metrics[i:i+4]) for i in range(0, len(test_metrics), 4)]\n",
    "\n",
    "print(\"每4个数的平均值:\", averages)"
   ]
  },
  {
   "cell_type": "code",
   "execution_count": 7,
   "metadata": {},
   "outputs": [
    {
     "name": "stdout",
     "output_type": "stream",
     "text": [
      "{'len': 24, 'test_metric_avg': 0.7046874985098839, 'test_metric_std': 0.1042590672908914}\n"
     ]
    }
   ],
   "source": [
    "import numpy as np\n",
    "print({\n",
    "    # \"training_metric_avg\": np.mean(training_metrics),\n",
    "    # \"training_metric_std\": np.std(training_metrics),\n",
    "    \"len\": len(test_metrics),\n",
    "    \"test_metric_avg\": np.mean(test_metrics),\n",
    "    \"test_metric_std\": np.std(test_metrics)\n",
    "})"
   ]
  },
  {
   "cell_type": "code",
   "execution_count": null,
   "metadata": {},
   "outputs": [
    {
     "name": "stderr",
     "output_type": "stream",
     "text": [
      "[2024-11-17 15:35:25] INFO (torcheeg/MainThread) 📊 | Create the split of train and test set.\n",
      "[2024-11-17 15:35:25] INFO (torcheeg/MainThread) 😊 | Please set \u001b[92msplit_path\u001b[0m to \u001b[92m.torcheeg/model_selection_1731828925571_IMilb\u001b[0m for the next run, if you want to use the same setting for the experiment.\n"
     ]
    }
   ],
   "source": [
    "from torcheeg.model_selection import KFoldCrossSubject, LeaveOneSubjectOut, KFoldPerSubject, KFoldPerSubjectGroupbyTrial\n",
    "from torch.utils.data import DataLoader\n",
    "cv = KFoldPerSubjectGroupbyTrial(n_splits=5, shuffle=True)\n",
    "for i, (train_dataset, val_dataset) in enumerate(cv.split(dataset)):\n",
    "      # The total number of experiments is the number subjects multiplied by K\n",
    "    train_loader = DataLoader(train_dataset, batch_size=16, shuffle=False, num_workers=4)\n",
    "    val_loader = DataLoader(val_dataset, batch_size=16, shuffle=False, num_workers=4)"
   ]
  },
  {
   "cell_type": "code",
   "execution_count": null,
   "metadata": {},
   "outputs": [],
   "source": [
    "import os\n",
    "import argparse\n",
    "import torch\n",
    "import torch.optim as optim\n",
    "from torch.utils.data import DataLoader\n",
    "from utils_swin import train_one_epoch, evaluate\n",
    "from model import SwinTransformer\n",
    "from torcheeg.model_selection import KFoldCrossSubject, LeaveOneSubjectOut, KFoldPerSubject, KFoldPerSubjectGroupbyTrial\n",
    "\n",
    "def main(args):\n",
    "    # 设置设备\n",
    "    device = torch.device(\"cuda\" if torch.cuda.is_available() else \"cpu\")\n",
    "\n",
    "    if not os.path.exists(\"./weights\"):\n",
    "        os.makedirs(\"./weights\")\n",
    "\n",
    "    # DataLoader\n",
    "    batch_size = args.batch_size\n",
    "    # train_loader = DataLoader(dataset, batch_size=batch_size, shuffle=True, num_workers=4)\n",
    "    # val_loader = DataLoader(dataset, batch_size=batch_size, shuffle=False, num_workers=4)\n",
    "   \n",
    "    # Model\n",
    "    # model = create_model(img_size=9, in_chans=5, num_classes=3, patch_size=3, window_size=3).to(device)\n",
    "    model = SwinTransformer(\n",
    "                        img_size=7,           # 输入的空间尺寸\n",
    "                        patch_size=2,         # 每个补丁为 3x3\n",
    "                        in_chans=500,           # 通道数为4\n",
    "                        num_classes=2,        # 3分类\n",
    "                        window_size=3         # 窗口大小3x3\n",
    "                    ).to(device)\n",
    "    # Optionally freeze layers\n",
    "    if args.freeze_layers:\n",
    "        for name, param in model.named_parameters():\n",
    "            if \"head\" not in name:\n",
    "                param.requires_grad_(False)\n",
    "\n",
    "    # Optimizer\n",
    "    pg = [p for p in model.parameters() if p.requires_grad]\n",
    "    optimizer = optim.AdamW(pg, lr=args.lr, weight_decay=5e-2)\n",
    "    max_acc = 0.5\n",
    "    cv = KFoldPerSubject(n_splits=10, shuffle=True)\n",
    "    for i, (train_dataset, val_dataset) in enumerate(cv.split(dataset)):\n",
    "        # The total number of experiments is the number subjects multiplied by K\n",
    "        train_loader = DataLoader(train_dataset, batch_size=batch_size, shuffle=False, num_workers=4)\n",
    "        val_loader = DataLoader(val_dataset, batch_size=batch_size, shuffle=False, num_workers=4)\n",
    "        for epoch in range(args.epochs):\n",
    "            # Train\n",
    "            train_loss, train_acc = train_one_epoch(model=model, optimizer=optimizer, data_loader=train_loader, device=device, epoch=epoch)\n",
    "        \n",
    "            # Validate\n",
    "        val_loss, val_acc = evaluate(model=model, data_loader=val_loader, device=device, epoch=epoch)\n",
    "        if val_acc > max_acc:\n",
    "            max_acc = val_acc\n",
    "            # Save model\n",
    "            torch.save(model.state_dict(), f\"./weights/model-{i}-{epoch}_0876.pth\")    \n",
    "\n",
    "if __name__ == '__main__':\n",
    "    parser = argparse.ArgumentParser()\n",
    "    parser.add_argument('--num_classes', type=int, default=2)\n",
    "    parser.add_argument('--epochs', type=int, default=50)\n",
    "    parser.add_argument('--batch-size', type=int, default=16)\n",
    "    parser.add_argument('--lr', type=float, default=0.0001)\n",
    "    parser.add_argument('--freeze-layers', type=bool, default=False)\n",
    "    parser.add_argument('--device', default='cuda:0', help='device id (i.e. 0 or 0,1, cpu)')\n",
    "\n",
    "    opt = parser.parse_args()\n",
    "\n",
    "    main(opt)"
   ]
  },
  {
   "cell_type": "code",
   "execution_count": 11,
   "metadata": {},
   "outputs": [
    {
     "name": "stderr",
     "output_type": "stream",
     "text": [
      "[2024-11-22 15:29:24] INFO (torcheeg/MainThread) 🔍 | Processing EEG data. Processed EEG data has been cached to \u001b[92m.torcheeg/datasets_1732260564718_uh536\u001b[0m.\n",
      "[2024-11-22 15:29:24] INFO (torcheeg/MainThread) ⏳ | Monitoring the detailed processing of a record for debugging. The processing of other records will only be reported in percentage to keep it clean.\n",
      "[PROCESS]: 100%|██████████| 2/2 [00:00<00:00, 2364.32it/s]\n",
      "\n",
      "[RECORD ./strokedataset_TEST/edffile/sub-12/eeg/sub-12_task-motor-imagery_eeg.edf]: 0it [00:00, ?it/s]\u001b[A\n",
      "[RECORD ./strokedataset_TEST/edffile/sub-12/eeg/sub-12_task-motor-imagery_eeg.edf]: 1it [00:00,  8.98it/s]\u001b[A\n",
      "                                                                                                          \u001b[A[2024-11-22 15:29:26] INFO (torcheeg/MainThread) ✅ | All processed EEG data has been cached to .torcheeg/datasets_1732260564718_uh536.\n",
      "[2024-11-22 15:29:26] INFO (torcheeg/MainThread) 😊 | Please set \u001b[92mio_path\u001b[0m to \u001b[92m.torcheeg/datasets_1732260564718_uh536\u001b[0m for the next run, to directly read from the cache if you wish to skip the data processing step.\n",
      "[2024-11-22 15:29:26] INFO (torcheeg/MainThread) 📊 | Create the split of train and test set.\n",
      "[2024-11-22 15:29:26] INFO (torcheeg/MainThread) 😊 | Please set \u001b[92msplit_path\u001b[0m to \u001b[92m.torcheeg/model_selection_1732260566648_C5eXv\u001b[0m for the next run, if you want to use the same setting for the experiment.\n",
      "[2024-11-22 15:29:27] INFO (torcheeg/MainThread) 📊 | Detected existing split of train and test set, use existing split from .torcheeg/model_selection_1732260566648_C5eXv.\n",
      "[2024-11-22 15:29:27] INFO (torcheeg/MainThread) 💡 | If the dataset is re-generated, you need to re-generate the split of the dataset instead of using the previous split.\n"
     ]
    },
    {
     "name": "stdout",
     "output_type": "stream",
     "text": [
      "320\n"
     ]
    }
   ],
   "source": [
    "from strokes import StrokePatientsMIProcessedDataset\n",
    "from strokesdict import STROKEPATIENTSMI_LOCATION_DICT\n",
    "from baseline import BaselineCorrection\n",
    "from torcheeg.transforms import BandDifferentialEntropy, ToGrid, ToTensor, Select, Compose\n",
    "from torcheeg.model_selection import KFoldPerSubject\n",
    "from torch.utils.data import DataLoader\n",
    "dataset_predict = StrokePatientsMIProcessedDataset(root_path='./strokedataset_TEST',\n",
    "                                                    # io_path='.torcheeg/datasets_1732260282757_rcS0M',\n",
    "                                                    chunk_size=500,  # 1 second\n",
    "                                                    overlap = 0,\n",
    "                                                    offline_transform=Compose(\n",
    "                                                        [\n",
    "                                                        BaselineCorrection(),ToGrid(STROKEPATIENTSMI_LOCATION_DICT)]),\n",
    "                                                    online_transform=Compose([ToTensor()]),\n",
    "                                                    label_transform=Select('label'),\n",
    "                                                    num_worker=8\n",
    ")\n",
    "\n",
    "# dataset_predict = dataset\n",
    "# 存储所有数据段\n",
    "predict_datalist = []\n",
    "predict_labellist = []\n",
    "predict_subjectlist = []\n",
    "cv = KFoldPerSubject(n_splits=5, shuffle=True)\n",
    "# data_predict = DataLoader(dataset_predict, batch_size=1, shuffle=False)\n",
    "for i in range(11,13):\n",
    "    data = cv.split(dataset_predict, subject=f\"{i}\")\n",
    "    for t,v in data:\n",
    "        vl = DataLoader(v, batch_size=1, shuffle=False)\n",
    "        for d, l in vl:\n",
    "            predict_datalist.append(d)\n",
    "            predict_labellist.append(l)\n",
    "            predict_subjectlist.append(i)\n",
    "\n",
    "# 遍历数据并累积\n",
    "# for i, (input_data, labels) in enumerate(data_predict):\n",
    "#     # print(input_data[1,0,:,:], labels)\n",
    "#     if i%50 == 0: \n",
    "#         predict_datalist.append(input_data)\n",
    "#         predict_labellist.append(labels)\n",
    "print(len(predict_datalist))"
   ]
  },
  {
   "cell_type": "code",
   "execution_count": 14,
   "metadata": {},
   "outputs": [
    {
     "name": "stdout",
     "output_type": "stream",
     "text": [
      "Accuracy: 0.00%\n"
     ]
    }
   ],
   "source": [
    "import torch\n",
    "from model import SwinTransformer\n",
    "model_weight_path = \"./weights/model-77-9_0876.pth\"\n",
    "device = torch.device(\"cuda\" if torch.cuda.is_available() else \"cpu\")\n",
    "# model = SwinTransformer(\n",
    "#                         img_size=9,           # 输入的空间尺寸\n",
    "#                         patch_size=3,         # 每个补丁为 3x3\n",
    "#                         in_chans=5,           # 通道数为4\n",
    "#                         num_classes=3,        # 3分类\n",
    "#                         window_size=3         # 窗口大小3x3\n",
    "#                     )\n",
    "model = SwinTransformer(\n",
    "                        img_size=7,           # 输入的空间尺寸\n",
    "                        patch_size=7,         # 每个补丁为 3x3\n",
    "                        in_chans=500,           # 通道数为4\n",
    "                        num_classes=2,        # 3分类\n",
    "                        window_size=3         # 窗口大小3x3\n",
    "                    ).to(device)\n",
    "model.load_state_dict(torch.load(model_weight_path, map_location=device))\n",
    "model.eval()\n",
    "\n",
    "correct = 0  # 记录正确预测的数量\n",
    "total = 0    # 记录总的预测数量\n",
    "\n",
    "for i, data_pre in enumerate(predict_datalist):\n",
    "    with torch.no_grad():\n",
    "        # 预测类别\n",
    "        data_pre = data_pre.to(device)\n",
    "        output = torch.squeeze(model(data_pre)).to(device)  # 注意：data_pre应是当前数据，而不是data_predict\n",
    "        predict = torch.softmax(output, dim=0).to(device)\n",
    "        predict_cla = torch.argmax(predict).cpu().numpy()\n",
    "    \n",
    "    # 判断预测是否正确\n",
    "    if predict_cla == predict_labellist[i]:\n",
    "        correct += 1  # 如果预测正确，增加计数\n",
    "\n",
    "    total += 1  # 每次预测后，总数加1\n",
    "\n",
    "# 计算准确率\n",
    "accuracy = correct / total * 100  # 以百分比形式表示准确率\n",
    "print(f'Accuracy: {accuracy:.2f}%')\n"
   ]
  }
 ],
 "metadata": {
  "kernelspec": {
   "display_name": "law",
   "language": "python",
   "name": "python3"
  },
  "language_info": {
   "codemirror_mode": {
    "name": "ipython",
    "version": 3
   },
   "file_extension": ".py",
   "mimetype": "text/x-python",
   "name": "python",
   "nbconvert_exporter": "python",
   "pygments_lexer": "ipython3",
   "version": "3.8.0"
  }
 },
 "nbformat": 4,
 "nbformat_minor": 2
}
