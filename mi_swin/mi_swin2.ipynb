{
 "cells": [
  {
   "cell_type": "code",
   "execution_count": 1,
   "metadata": {},
   "outputs": [
    {
     "name": "stderr",
     "output_type": "stream",
     "text": [
      "/root/autodl-tmp/conda/envs/law/lib/python3.8/site-packages/tqdm/auto.py:21: TqdmWarning: IProgress not found. Please update jupyter and ipywidgets. See https://ipywidgets.readthedocs.io/en/stable/user_install.html\n",
      "  from .autonotebook import tqdm as notebook_tqdm\n",
      "[2025-01-03 15:27:49] INFO (torcheeg/MainThread) 🔍 | Detected cached processing results, reading cache from .torcheeg/datasets_1735798885866_IhPTv.\n"
     ]
    },
    {
     "name": "stdout",
     "output_type": "stream",
     "text": [
      "torch.Size([1, 30, 484])\n",
      "0\n",
      "160\n"
     ]
    }
   ],
   "source": [
    "from strokesinit import StrokePatientsMIProcessedDataset, StrokePatientsMIDataset\n",
    "import scipy\n",
    "from strokesdict import STROKEPATIENTSMI_LOCATION_DICT\n",
    "from torcheeg.transforms import Select,BandSignal,Compose,Lambda,ToTensor,BandDifferentialEntropy,Resize\n",
    "from to import ToGrid\n",
    "from typing import Callable, Dict, Union, List\n",
    "import numpy as np\n",
    "import soxr\n",
    "from downsample import SetSamplingRate\n",
    "from baseline import BaselineCorrection\n",
    "from base_transform import EEGTransform\n",
    "    \n",
    "\n",
    "dataset = StrokePatientsMIDataset(root_path='./subdataset',\n",
    "                                  io_path='.torcheeg/datasets_1735798885866_IhPTv',\n",
    "                        chunk_size=500,  # 1 second\n",
    "                        overlap = 0,\n",
    "                        offline_transform=Compose(\n",
    "                                [BaselineCorrection(),SetSamplingRate(500,484),\n",
    "                                BandSignal(sampling_rate=484,band_dict={'frequency_range':[8,40]})]),\n",
    "                        online_transform=Compose(\n",
    "                                [ToTensor()]),\n",
    "                \n",
    "                        label_transform=Select('label'),\n",
    "                        num_worker=8\n",
    ")\n",
    "print(dataset[0][0].shape) #EEG shape(1,30,500)\n",
    "print(dataset[0][1])  # label (int)\n",
    "print(len(dataset))"
   ]
  },
  {
   "cell_type": "code",
   "execution_count": 2,
   "metadata": {},
   "outputs": [],
   "source": [
    "HYPERPARAMETERS = {\n",
    "    \"seed\": 42,\n",
    "    \"batch_size\": 32,\n",
    "    \"lr\": 1e-4,\n",
    "    \"weight_decay\": 0,\n",
    "    \"num_epochs\": 50,\n",
    "}"
   ]
  },
  {
   "cell_type": "code",
   "execution_count": 3,
   "metadata": {},
   "outputs": [],
   "source": [
    "from eca import ECA\n",
    "from model import SwinTransformer\n",
    "import torch\n",
    "import torch.nn as nn\n",
    "\n",
    "class ECASwinTransformerModel(nn.Module):\n",
    "    def __init__(self, num_channels):\n",
    "        super(ECASwinTransformerModel, self).__init__()\n",
    "        self.eca = ECA(input_size=484,num_attention_heads=1,hidden_size=484,hidden_dropout_prob=0.5)\n",
    "        self.swin_transformer = SwinTransformer(\n",
    "                                                in_chans=30,\n",
    "                                                num_classes=2,\n",
    "                                                embed_dim=192,\n",
    "                                                depths=(2, 2, 18, 2),\n",
    "                                                num_heads=(6, 12, 24, 48)\n",
    "                                                )\n",
    "\n",
    "    def forward(self, x):\n",
    "        x = x.view(x.size(0),30,484)\n",
    "        x = self.eca(x)\n",
    "        x = x.view(x.size(0),30,22,22)\n",
    "        x = self.swin_transformer(x)\n",
    "        return x"
   ]
  },
  {
   "cell_type": "code",
   "execution_count": 4,
   "metadata": {},
   "outputs": [],
   "source": [
    "import os\n",
    "import shutil\n",
    "\n",
    "def delete_folder_if_exists(target_folder_name):\n",
    "    # 获取父文件夹中的所有内容\n",
    "    parent_folder = os.getcwd()\n",
    "    for folder_name in os.listdir(parent_folder):\n",
    "        folder_path = os.path.join(parent_folder, folder_name)\n",
    "\n",
    "        # 检查是否是文件夹并且名称是否匹配\n",
    "        if os.path.isdir(folder_path) and folder_name == target_folder_name:\n",
    "            try:\n",
    "                # 删除目标文件夹\n",
    "                shutil.rmtree(folder_path)\n",
    "                print(f\"已删除文件夹: {folder_path}\")\n",
    "            except Exception as e:\n",
    "                print(f\"删除文件夹 {folder_path} 时出错: {e}\")\n"
   ]
  },
  {
   "cell_type": "code",
   "execution_count": 5,
   "metadata": {},
   "outputs": [
    {
     "name": "stderr",
     "output_type": "stream",
     "text": [
      "[2025-01-03 15:28:01] INFO (torcheeg/MainThread) 📊 | Create the split of train and test set.\n",
      "[2025-01-03 15:28:01] INFO (torcheeg/MainThread) 😊 | Please set \u001b[92msplit_path\u001b[0m to \u001b[92m.torcheeg/model_selection_1735889281250_f9trQ\u001b[0m for the next run, if you want to use the same setting for the experiment.\n",
      "/root/autodl-tmp/conda/envs/law/lib/python3.8/site-packages/torch/functional.py:568: UserWarning: torch.meshgrid: in an upcoming release, it will be required to pass the indexing argument. (Triggered internally at  /opt/conda/conda-bld/pytorch_1646755903507/work/aten/src/ATen/native/TensorShape.cpp:2228.)\n",
      "  return _VF.meshgrid(tensors, **kwargs)  # type: ignore[attr-defined]\n",
      "GPU available: True (cuda), used: True\n",
      "TPU available: False, using: 0 TPU cores\n",
      "IPU available: False, using: 0 IPUs\n",
      "HPU available: False, using: 0 HPUs\n",
      "Missing logger folder: /root/autodl-tmp/.autodl/kinlaw/mi_swin/lightning_logs\n",
      "LOCAL_RANK: 0 - CUDA_VISIBLE_DEVICES: [0]\n",
      "/root/autodl-tmp/conda/envs/law/lib/python3.8/site-packages/pytorch_lightning/trainer/connectors/data_connector.py:224: PossibleUserWarning: The dataloader, train_dataloader, does not have many workers which may be a bottleneck. Consider increasing the value of the `num_workers` argument` (try 128 which is the number of cpus on this machine) in the `DataLoader` init to improve performance.\n",
      "  rank_zero_warn(\n",
      "/root/autodl-tmp/conda/envs/law/lib/python3.8/site-packages/pytorch_lightning/trainer/trainer.py:1609: PossibleUserWarning: The number of training batches (4) is smaller than the logging interval Trainer(log_every_n_steps=50). Set a lower value for log_every_n_steps if you want to see logs for the training epoch.\n",
      "  rank_zero_warn(\n"
     ]
    },
    {
     "name": "stdout",
     "output_type": "stream",
     "text": [
      "Epoch 0: 100%|██████████| 4/4 [00:02<00:00,  1.60it/s, loss=1.92, v_num=0, train_loss=0.885, train_accuracy=0.656] "
     ]
    },
    {
     "name": "stderr",
     "output_type": "stream",
     "text": [
      "Metric train_loss improved. New best score: 0.885\n"
     ]
    },
    {
     "name": "stdout",
     "output_type": "stream",
     "text": [
      "Epoch 0: 100%|██████████| 4/4 [00:02<00:00,  1.60it/s, loss=1.92, v_num=0, train_loss=0.885, train_accuracy=0.656]"
     ]
    },
    {
     "name": "stderr",
     "output_type": "stream",
     "text": [
      "[2025-01-03 15:28:14] INFO (torcheeg/MainThread) \n",
      "[Train] train_loss: 1.917 train_accuracy: 0.578 \n",
      "\n"
     ]
    },
    {
     "name": "stdout",
     "output_type": "stream",
     "text": [
      "Epoch 1: 100%|██████████| 4/4 [00:00<00:00,  5.67it/s, loss=1.18, v_num=0, train_loss=0.372, train_accuracy=0.812]"
     ]
    },
    {
     "name": "stderr",
     "output_type": "stream",
     "text": [
      "Metric train_loss improved by 0.513 >= min_delta = 0.0. New best score: 0.372\n"
     ]
    },
    {
     "name": "stdout",
     "output_type": "stream",
     "text": [
      "Epoch 1: 100%|██████████| 4/4 [00:00<00:00,  5.58it/s, loss=1.18, v_num=0, train_loss=0.372, train_accuracy=0.812]"
     ]
    },
    {
     "name": "stderr",
     "output_type": "stream",
     "text": [
      "[2025-01-03 15:28:19] INFO (torcheeg/MainThread) \n",
      "[Train] train_loss: 0.443 train_accuracy: 0.820 \n",
      "\n"
     ]
    },
    {
     "name": "stdout",
     "output_type": "stream",
     "text": [
      "Epoch 2: 100%|██████████| 4/4 [00:00<00:00,  5.65it/s, loss=0.915, v_num=0, train_loss=0.253, train_accuracy=0.938]"
     ]
    },
    {
     "name": "stderr",
     "output_type": "stream",
     "text": [
      "Metric train_loss improved by 0.119 >= min_delta = 0.0. New best score: 0.253\n"
     ]
    },
    {
     "name": "stdout",
     "output_type": "stream",
     "text": [
      "Epoch 2: 100%|██████████| 4/4 [00:00<00:00,  5.56it/s, loss=0.915, v_num=0, train_loss=0.253, train_accuracy=0.938]"
     ]
    },
    {
     "name": "stderr",
     "output_type": "stream",
     "text": [
      "[2025-01-03 15:28:23] INFO (torcheeg/MainThread) \n",
      "[Train] train_loss: 0.385 train_accuracy: 0.867 \n",
      "\n"
     ]
    },
    {
     "name": "stdout",
     "output_type": "stream",
     "text": [
      "Epoch 3: 100%|██████████| 4/4 [00:00<00:00,  5.61it/s, loss=0.805, v_num=0, train_loss=0.456, train_accuracy=0.750]"
     ]
    },
    {
     "name": "stderr",
     "output_type": "stream",
     "text": [
      "[2025-01-03 15:28:28] INFO (torcheeg/MainThread) \n",
      "[Train] train_loss: 0.476 train_accuracy: 0.852 \n",
      "\n"
     ]
    },
    {
     "name": "stdout",
     "output_type": "stream",
     "text": [
      "Epoch 4: 100%|██████████| 4/4 [00:00<00:00,  5.56it/s, loss=0.734, v_num=0, train_loss=0.346, train_accuracy=0.906]"
     ]
    },
    {
     "name": "stderr",
     "output_type": "stream",
     "text": [
      "[2025-01-03 15:28:32] INFO (torcheeg/MainThread) \n",
      "[Train] train_loss: 0.449 train_accuracy: 0.867 \n",
      "\n"
     ]
    },
    {
     "name": "stdout",
     "output_type": "stream",
     "text": [
      "Epoch 5: 100%|██████████| 4/4 [00:00<00:00,  5.60it/s, loss=0.405, v_num=0, train_loss=0.636, train_accuracy=0.844] "
     ]
    },
    {
     "name": "stderr",
     "output_type": "stream",
     "text": [
      "[2025-01-03 15:28:37] INFO (torcheeg/MainThread) \n",
      "[Train] train_loss: 0.271 train_accuracy: 0.938 \n",
      "\n"
     ]
    },
    {
     "name": "stdout",
     "output_type": "stream",
     "text": [
      "Epoch 6: 100%|██████████| 4/4 [00:00<00:00,  5.68it/s, loss=0.343, v_num=0, train_loss=0.0491, train_accuracy=1.000]"
     ]
    },
    {
     "name": "stderr",
     "output_type": "stream",
     "text": [
      "Metric train_loss improved by 0.204 >= min_delta = 0.0. New best score: 0.049\n"
     ]
    },
    {
     "name": "stdout",
     "output_type": "stream",
     "text": [
      "Epoch 6: 100%|██████████| 4/4 [00:00<00:00,  5.59it/s, loss=0.343, v_num=0, train_loss=0.0491, train_accuracy=1.000]"
     ]
    },
    {
     "name": "stderr",
     "output_type": "stream",
     "text": [
      "[2025-01-03 15:28:41] INFO (torcheeg/MainThread) \n",
      "[Train] train_loss: 0.133 train_accuracy: 0.969 \n",
      "\n"
     ]
    },
    {
     "name": "stdout",
     "output_type": "stream",
     "text": [
      "Epoch 7: 100%|██████████| 4/4 [00:00<00:00,  5.72it/s, loss=0.298, v_num=0, train_loss=0.196, train_accuracy=0.906] "
     ]
    },
    {
     "name": "stderr",
     "output_type": "stream",
     "text": [
      "[2025-01-03 15:28:46] INFO (torcheeg/MainThread) \n",
      "[Train] train_loss: 0.160 train_accuracy: 0.922 \n",
      "\n"
     ]
    },
    {
     "name": "stdout",
     "output_type": "stream",
     "text": [
      "Epoch 8: 100%|██████████| 4/4 [00:00<00:00,  5.60it/s, loss=0.236, v_num=0, train_loss=0.0896, train_accuracy=0.969]"
     ]
    },
    {
     "name": "stderr",
     "output_type": "stream",
     "text": [
      "[2025-01-03 15:28:50] INFO (torcheeg/MainThread) \n",
      "[Train] train_loss: 0.168 train_accuracy: 0.930 \n",
      "\n"
     ]
    },
    {
     "name": "stdout",
     "output_type": "stream",
     "text": [
      "Epoch 9: 100%|██████████| 4/4 [00:00<00:00,  9.89it/s, loss=0.173, v_num=0, train_loss=0.0339, train_accuracy=1.000]"
     ]
    },
    {
     "name": "stderr",
     "output_type": "stream",
     "text": [
      "Metric train_loss improved by 0.015 >= min_delta = 0.0. New best score: 0.034\n"
     ]
    },
    {
     "name": "stdout",
     "output_type": "stream",
     "text": [
      "Epoch 9: 100%|██████████| 4/4 [00:00<00:00,  9.85it/s, loss=0.173, v_num=0, train_loss=0.0339, train_accuracy=1.000]"
     ]
    },
    {
     "name": "stderr",
     "output_type": "stream",
     "text": [
      "[2025-01-03 15:28:54] INFO (torcheeg/MainThread) \n",
      "[Train] train_loss: 0.131 train_accuracy: 0.969 \n",
      "\n"
     ]
    },
    {
     "name": "stdout",
     "output_type": "stream",
     "text": [
      "Epoch 10: 100%|██████████| 4/4 [00:00<00:00,  5.57it/s, loss=0.127, v_num=0, train_loss=0.0577, train_accuracy=0.969]"
     ]
    },
    {
     "name": "stderr",
     "output_type": "stream",
     "text": [
      "[2025-01-03 15:28:59] INFO (torcheeg/MainThread) \n",
      "[Train] train_loss: 0.045 train_accuracy: 0.977 \n",
      "\n"
     ]
    },
    {
     "name": "stdout",
     "output_type": "stream",
     "text": [
      "Epoch 11: 100%|██████████| 4/4 [00:00<00:00,  5.66it/s, loss=0.107, v_num=0, train_loss=0.00533, train_accuracy=1.000]"
     ]
    },
    {
     "name": "stderr",
     "output_type": "stream",
     "text": [
      "Metric train_loss improved by 0.029 >= min_delta = 0.0. New best score: 0.005\n"
     ]
    },
    {
     "name": "stdout",
     "output_type": "stream",
     "text": [
      "Epoch 11: 100%|██████████| 4/4 [00:00<00:00,  5.57it/s, loss=0.107, v_num=0, train_loss=0.00533, train_accuracy=1.000]"
     ]
    },
    {
     "name": "stderr",
     "output_type": "stream",
     "text": [
      "[2025-01-03 15:29:03] INFO (torcheeg/MainThread) \n",
      "[Train] train_loss: 0.029 train_accuracy: 0.984 \n",
      "\n"
     ]
    },
    {
     "name": "stdout",
     "output_type": "stream",
     "text": [
      "Epoch 12: 100%|██████████| 4/4 [00:00<00:00,  5.74it/s, loss=0.0813, v_num=0, train_loss=0.00213, train_accuracy=1.000]"
     ]
    },
    {
     "name": "stderr",
     "output_type": "stream",
     "text": [
      "Metric train_loss improved by 0.003 >= min_delta = 0.0. New best score: 0.002\n"
     ]
    },
    {
     "name": "stdout",
     "output_type": "stream",
     "text": [
      "Epoch 12: 100%|██████████| 4/4 [00:00<00:00,  5.65it/s, loss=0.0813, v_num=0, train_loss=0.00213, train_accuracy=1.000]"
     ]
    },
    {
     "name": "stderr",
     "output_type": "stream",
     "text": [
      "[2025-01-03 15:29:08] INFO (torcheeg/MainThread) \n",
      "[Train] train_loss: 0.033 train_accuracy: 0.992 \n",
      "\n"
     ]
    },
    {
     "name": "stdout",
     "output_type": "stream",
     "text": [
      "Epoch 13: 100%|██████████| 4/4 [00:00<00:00,  9.75it/s, loss=0.0503, v_num=0, train_loss=0.00779, train_accuracy=1.000]"
     ]
    },
    {
     "name": "stderr",
     "output_type": "stream",
     "text": [
      "[2025-01-03 15:29:12] INFO (torcheeg/MainThread) \n",
      "[Train] train_loss: 0.013 train_accuracy: 0.992 \n",
      "\n"
     ]
    },
    {
     "name": "stdout",
     "output_type": "stream",
     "text": [
      "Epoch 14: 100%|██████████| 4/4 [00:00<00:00,  5.56it/s, loss=0.0308, v_num=0, train_loss=0.000435, train_accuracy=1.000]"
     ]
    },
    {
     "name": "stderr",
     "output_type": "stream",
     "text": [
      "Metric train_loss improved by 0.002 >= min_delta = 0.0. New best score: 0.000\n"
     ]
    },
    {
     "name": "stdout",
     "output_type": "stream",
     "text": [
      "Epoch 14: 100%|██████████| 4/4 [00:00<00:00,  5.54it/s, loss=0.0308, v_num=0, train_loss=0.000435, train_accuracy=1.000]"
     ]
    },
    {
     "name": "stderr",
     "output_type": "stream",
     "text": [
      "[2025-01-03 15:29:16] INFO (torcheeg/MainThread) \n",
      "[Train] train_loss: 0.034 train_accuracy: 0.992 \n",
      "\n"
     ]
    },
    {
     "name": "stdout",
     "output_type": "stream",
     "text": [
      "Epoch 15: 100%|██████████| 4/4 [00:00<00:00,  5.50it/s, loss=0.0244, v_num=0, train_loss=0.0315, train_accuracy=0.969]  "
     ]
    },
    {
     "name": "stderr",
     "output_type": "stream",
     "text": [
      "[2025-01-03 15:29:20] INFO (torcheeg/MainThread) \n",
      "[Train] train_loss: 0.013 train_accuracy: 0.992 \n",
      "\n"
     ]
    },
    {
     "name": "stdout",
     "output_type": "stream",
     "text": [
      "Epoch 16: 100%|██████████| 4/4 [00:00<00:00,  5.47it/s, loss=0.0342, v_num=0, train_loss=0.0137, train_accuracy=1.000] "
     ]
    },
    {
     "name": "stderr",
     "output_type": "stream",
     "text": [
      "[2025-01-03 15:29:24] INFO (torcheeg/MainThread) \n",
      "[Train] train_loss: 0.077 train_accuracy: 0.984 \n",
      "\n"
     ]
    },
    {
     "name": "stdout",
     "output_type": "stream",
     "text": [
      "Epoch 17: 100%|██████████| 4/4 [00:00<00:00,  5.58it/s, loss=0.0288, v_num=0, train_loss=0.0173, train_accuracy=1.000] "
     ]
    },
    {
     "name": "stderr",
     "output_type": "stream",
     "text": [
      "[2025-01-03 15:29:29] INFO (torcheeg/MainThread) \n",
      "[Train] train_loss: 0.006 train_accuracy: 1.000 \n",
      "\n"
     ]
    },
    {
     "name": "stdout",
     "output_type": "stream",
     "text": [
      "Epoch 18: 100%|██████████| 4/4 [00:00<00:00,  5.62it/s, loss=0.0264, v_num=0, train_loss=0.00195, train_accuracy=1.000] "
     ]
    },
    {
     "name": "stderr",
     "output_type": "stream",
     "text": [
      "[2025-01-03 15:29:33] INFO (torcheeg/MainThread) \n",
      "[Train] train_loss: 0.002 train_accuracy: 1.000 \n",
      "\n"
     ]
    },
    {
     "name": "stdout",
     "output_type": "stream",
     "text": [
      "Epoch 19: 100%|██████████| 4/4 [00:00<00:00,  5.57it/s, loss=0.0201, v_num=0, train_loss=0.00359, train_accuracy=1.000] "
     ]
    },
    {
     "name": "stderr",
     "output_type": "stream",
     "text": [
      "[2025-01-03 15:29:38] INFO (torcheeg/MainThread) \n",
      "[Train] train_loss: 0.002 train_accuracy: 1.000 \n",
      "\n"
     ]
    },
    {
     "name": "stdout",
     "output_type": "stream",
     "text": [
      "Epoch 20: 100%|██████████| 4/4 [00:00<00:00,  9.69it/s, loss=0.0181, v_num=0, train_loss=0.000649, train_accuracy=1.000]"
     ]
    },
    {
     "name": "stderr",
     "output_type": "stream",
     "text": [
      "[2025-01-03 15:29:42] INFO (torcheeg/MainThread) \n",
      "[Train] train_loss: 0.004 train_accuracy: 1.000 \n",
      "\n"
     ]
    },
    {
     "name": "stdout",
     "output_type": "stream",
     "text": [
      "Epoch 21: 100%|██████████| 4/4 [00:00<00:00,  5.45it/s, loss=0.00835, v_num=0, train_loss=0.000561, train_accuracy=1.000]"
     ]
    },
    {
     "name": "stderr",
     "output_type": "stream",
     "text": [
      "[2025-01-03 15:29:46] INFO (torcheeg/MainThread) \n",
      "[Train] train_loss: 0.029 train_accuracy: 0.977 \n",
      "\n"
     ]
    },
    {
     "name": "stdout",
     "output_type": "stream",
     "text": [
      "Epoch 22: 100%|██████████| 4/4 [00:00<00:00,  5.61it/s, loss=0.0134, v_num=0, train_loss=0.0249, train_accuracy=0.969]   "
     ]
    },
    {
     "name": "stderr",
     "output_type": "stream",
     "text": [
      "Monitored metric train_loss did not improve in the last 8 records. Best score: 0.000. Signaling Trainer to stop.\n"
     ]
    },
    {
     "name": "stdout",
     "output_type": "stream",
     "text": [
      "Epoch 22: 100%|██████████| 4/4 [00:00<00:00,  5.56it/s, loss=0.0134, v_num=0, train_loss=0.0249, train_accuracy=0.969]"
     ]
    },
    {
     "name": "stderr",
     "output_type": "stream",
     "text": [
      "[2025-01-03 15:29:51] INFO (torcheeg/MainThread) \n",
      "[Train] train_loss: 0.031 train_accuracy: 0.984 \n",
      "\n"
     ]
    },
    {
     "name": "stdout",
     "output_type": "stream",
     "text": [
      "Epoch 22: 100%|██████████| 4/4 [00:04<00:00,  1.11s/it, loss=0.0134, v_num=0, train_loss=0.0249, train_accuracy=0.969]\n"
     ]
    },
    {
     "name": "stderr",
     "output_type": "stream",
     "text": [
      "GPU available: True (cuda), used: True\n",
      "TPU available: False, using: 0 TPU cores\n",
      "IPU available: False, using: 0 IPUs\n",
      "HPU available: False, using: 0 HPUs\n",
      "LOCAL_RANK: 0 - CUDA_VISIBLE_DEVICES: [0]\n",
      "/root/autodl-tmp/conda/envs/law/lib/python3.8/site-packages/pytorch_lightning/trainer/connectors/data_connector.py:224: PossibleUserWarning: The dataloader, test_dataloader 0, does not have many workers which may be a bottleneck. Consider increasing the value of the `num_workers` argument` (try 128 which is the number of cpus on this machine) in the `DataLoader` init to improve performance.\n",
      "  rank_zero_warn(\n"
     ]
    },
    {
     "name": "stdout",
     "output_type": "stream",
     "text": [
      "Testing DataLoader 0: 100%|██████████| 1/1 [00:00<00:00, 43.45it/s]"
     ]
    },
    {
     "name": "stderr",
     "output_type": "stream",
     "text": [
      "[2025-01-03 15:29:53] INFO (torcheeg/MainThread) \n",
      "[Test] test_loss: 3.146 test_accuracy: 0.594 \n",
      "\n"
     ]
    },
    {
     "name": "stdout",
     "output_type": "stream",
     "text": [
      "Testing DataLoader 0: 100%|██████████| 1/1 [00:00<00:00, 34.54it/s]\n",
      "────────────────────────────────────────────────────────────────────────────────────────────────────────────────────────\n",
      "       Test metric             DataLoader 0\n",
      "────────────────────────────────────────────────────────────────────────────────────────────────────────────────────────\n",
      "      test_accuracy               0.59375\n",
      "        test_loss            3.146047830581665\n",
      "────────────────────────────────────────────────────────────────────────────────────────────────────────────────────────\n",
      "已删除文件夹: /root/autodl-tmp/.autodl/kinlaw/mi_swin/lightning_logs\n"
     ]
    },
    {
     "name": "stderr",
     "output_type": "stream",
     "text": [
      "GPU available: True (cuda), used: True\n",
      "TPU available: False, using: 0 TPU cores\n",
      "IPU available: False, using: 0 IPUs\n",
      "HPU available: False, using: 0 HPUs\n",
      "Missing logger folder: /root/autodl-tmp/.autodl/kinlaw/mi_swin/lightning_logs\n",
      "LOCAL_RANK: 0 - CUDA_VISIBLE_DEVICES: [0]\n",
      "/root/autodl-tmp/conda/envs/law/lib/python3.8/site-packages/pytorch_lightning/trainer/connectors/data_connector.py:224: PossibleUserWarning: The dataloader, train_dataloader, does not have many workers which may be a bottleneck. Consider increasing the value of the `num_workers` argument` (try 128 which is the number of cpus on this machine) in the `DataLoader` init to improve performance.\n",
      "  rank_zero_warn(\n",
      "/root/autodl-tmp/conda/envs/law/lib/python3.8/site-packages/pytorch_lightning/trainer/trainer.py:1609: PossibleUserWarning: The number of training batches (4) is smaller than the logging interval Trainer(log_every_n_steps=50). Set a lower value for log_every_n_steps if you want to see logs for the training epoch.\n",
      "  rank_zero_warn(\n"
     ]
    },
    {
     "name": "stdout",
     "output_type": "stream",
     "text": [
      "Epoch 0: 100%|██████████| 4/4 [00:00<00:00,  5.53it/s, loss=2.81, v_num=0, train_loss=1.470, train_accuracy=0.625]"
     ]
    },
    {
     "name": "stderr",
     "output_type": "stream",
     "text": [
      "Metric train_loss improved. New best score: 1.468\n"
     ]
    },
    {
     "name": "stdout",
     "output_type": "stream",
     "text": [
      "Epoch 0: 100%|██████████| 4/4 [00:00<00:00,  5.50it/s, loss=2.81, v_num=0, train_loss=1.470, train_accuracy=0.625]"
     ]
    },
    {
     "name": "stderr",
     "output_type": "stream",
     "text": [
      "[2025-01-03 15:30:00] INFO (torcheeg/MainThread) \n",
      "[Train] train_loss: 2.815 train_accuracy: 0.516 \n",
      "\n"
     ]
    },
    {
     "name": "stdout",
     "output_type": "stream",
     "text": [
      "Epoch 1: 100%|██████████| 4/4 [00:00<00:00,  5.58it/s, loss=1.75, v_num=0, train_loss=0.940, train_accuracy=0.750]"
     ]
    },
    {
     "name": "stderr",
     "output_type": "stream",
     "text": [
      "Metric train_loss improved by 0.527 >= min_delta = 0.0. New best score: 0.940\n"
     ]
    },
    {
     "name": "stdout",
     "output_type": "stream",
     "text": [
      "Epoch 1: 100%|██████████| 4/4 [00:00<00:00,  5.51it/s, loss=1.75, v_num=0, train_loss=0.940, train_accuracy=0.750]"
     ]
    },
    {
     "name": "stderr",
     "output_type": "stream",
     "text": [
      "[2025-01-03 15:30:04] INFO (torcheeg/MainThread) \n",
      "[Train] train_loss: 0.685 train_accuracy: 0.773 \n",
      "\n"
     ]
    },
    {
     "name": "stdout",
     "output_type": "stream",
     "text": [
      "Epoch 2: 100%|██████████| 4/4 [00:00<00:00,  5.51it/s, loss=1.32, v_num=0, train_loss=0.651, train_accuracy=0.875]"
     ]
    },
    {
     "name": "stderr",
     "output_type": "stream",
     "text": [
      "Metric train_loss improved by 0.289 >= min_delta = 0.0. New best score: 0.651\n"
     ]
    },
    {
     "name": "stdout",
     "output_type": "stream",
     "text": [
      "Epoch 2: 100%|██████████| 4/4 [00:00<00:00,  5.42it/s, loss=1.32, v_num=0, train_loss=0.651, train_accuracy=0.875]"
     ]
    },
    {
     "name": "stderr",
     "output_type": "stream",
     "text": [
      "[2025-01-03 15:30:09] INFO (torcheeg/MainThread) \n",
      "[Train] train_loss: 0.462 train_accuracy: 0.844 \n",
      "\n"
     ]
    },
    {
     "name": "stdout",
     "output_type": "stream",
     "text": [
      "Epoch 3: 100%|██████████| 4/4 [00:00<00:00,  8.55it/s, loss=1.09, v_num=0, train_loss=0.202, train_accuracy=0.906] "
     ]
    },
    {
     "name": "stderr",
     "output_type": "stream",
     "text": [
      "Metric train_loss improved by 0.449 >= min_delta = 0.0. New best score: 0.202\n"
     ]
    },
    {
     "name": "stdout",
     "output_type": "stream",
     "text": [
      "Epoch 3: 100%|██████████| 4/4 [00:00<00:00,  8.51it/s, loss=1.09, v_num=0, train_loss=0.202, train_accuracy=0.906]"
     ]
    },
    {
     "name": "stderr",
     "output_type": "stream",
     "text": [
      "[2025-01-03 15:30:13] INFO (torcheeg/MainThread) \n",
      "[Train] train_loss: 0.405 train_accuracy: 0.836 \n",
      "\n"
     ]
    },
    {
     "name": "stdout",
     "output_type": "stream",
     "text": [
      "Epoch 4: 100%|██████████| 4/4 [00:00<00:00,  6.16it/s, loss=0.903, v_num=0, train_loss=0.147, train_accuracy=0.906]"
     ]
    },
    {
     "name": "stderr",
     "output_type": "stream",
     "text": [
      "Metric train_loss improved by 0.054 >= min_delta = 0.0. New best score: 0.147\n"
     ]
    },
    {
     "name": "stdout",
     "output_type": "stream",
     "text": [
      "Epoch 4: 100%|██████████| 4/4 [00:00<00:00,  6.05it/s, loss=0.903, v_num=0, train_loss=0.147, train_accuracy=0.906]"
     ]
    },
    {
     "name": "stderr",
     "output_type": "stream",
     "text": [
      "[2025-01-03 15:30:17] INFO (torcheeg/MainThread) \n",
      "[Train] train_loss: 0.147 train_accuracy: 0.922 \n",
      "\n"
     ]
    },
    {
     "name": "stdout",
     "output_type": "stream",
     "text": [
      "Epoch 5: 100%|██████████| 4/4 [00:00<00:00,  5.56it/s, loss=0.355, v_num=0, train_loss=0.120, train_accuracy=0.969] "
     ]
    },
    {
     "name": "stderr",
     "output_type": "stream",
     "text": [
      "Metric train_loss improved by 0.028 >= min_delta = 0.0. New best score: 0.120\n"
     ]
    },
    {
     "name": "stdout",
     "output_type": "stream",
     "text": [
      "Epoch 5: 100%|██████████| 4/4 [00:00<00:00,  5.47it/s, loss=0.355, v_num=0, train_loss=0.120, train_accuracy=0.969]"
     ]
    },
    {
     "name": "stderr",
     "output_type": "stream",
     "text": [
      "[2025-01-03 15:30:21] INFO (torcheeg/MainThread) \n",
      "[Train] train_loss: 0.077 train_accuracy: 0.969 \n",
      "\n"
     ]
    },
    {
     "name": "stdout",
     "output_type": "stream",
     "text": [
      "Epoch 6: 100%|██████████| 4/4 [00:00<00:00,  5.61it/s, loss=0.228, v_num=0, train_loss=0.107, train_accuracy=0.969] "
     ]
    },
    {
     "name": "stderr",
     "output_type": "stream",
     "text": [
      "Metric train_loss improved by 0.013 >= min_delta = 0.0. New best score: 0.107\n"
     ]
    },
    {
     "name": "stdout",
     "output_type": "stream",
     "text": [
      "Epoch 6: 100%|██████████| 4/4 [00:00<00:00,  5.57it/s, loss=0.228, v_num=0, train_loss=0.107, train_accuracy=0.969]"
     ]
    },
    {
     "name": "stderr",
     "output_type": "stream",
     "text": [
      "[2025-01-03 15:30:25] INFO (torcheeg/MainThread) \n",
      "[Train] train_loss: 0.050 train_accuracy: 0.984 \n",
      "\n"
     ]
    },
    {
     "name": "stdout",
     "output_type": "stream",
     "text": [
      "Epoch 7: 100%|██████████| 4/4 [00:00<00:00,  6.99it/s, loss=0.153, v_num=0, train_loss=0.209, train_accuracy=0.906]  "
     ]
    },
    {
     "name": "stderr",
     "output_type": "stream",
     "text": [
      "[2025-01-03 15:30:30] INFO (torcheeg/MainThread) \n",
      "[Train] train_loss: 0.087 train_accuracy: 0.953 \n",
      "\n"
     ]
    },
    {
     "name": "stdout",
     "output_type": "stream",
     "text": [
      "Epoch 8: 100%|██████████| 4/4 [00:00<00:00,  5.61it/s, loss=0.0791, v_num=0, train_loss=0.0838, train_accuracy=0.969]"
     ]
    },
    {
     "name": "stderr",
     "output_type": "stream",
     "text": [
      "Metric train_loss improved by 0.023 >= min_delta = 0.0. New best score: 0.084\n"
     ]
    },
    {
     "name": "stdout",
     "output_type": "stream",
     "text": [
      "Epoch 8: 100%|██████████| 4/4 [00:00<00:00,  5.60it/s, loss=0.0791, v_num=0, train_loss=0.0838, train_accuracy=0.969]"
     ]
    },
    {
     "name": "stderr",
     "output_type": "stream",
     "text": [
      "[2025-01-03 15:30:34] INFO (torcheeg/MainThread) \n",
      "[Train] train_loss: 0.034 train_accuracy: 0.984 \n",
      "\n"
     ]
    },
    {
     "name": "stdout",
     "output_type": "stream",
     "text": [
      "Epoch 9: 100%|██████████| 4/4 [00:00<00:00,  5.58it/s, loss=0.0547, v_num=0, train_loss=0.0608, train_accuracy=0.969]"
     ]
    },
    {
     "name": "stderr",
     "output_type": "stream",
     "text": [
      "Metric train_loss improved by 0.023 >= min_delta = 0.0. New best score: 0.061\n"
     ]
    },
    {
     "name": "stdout",
     "output_type": "stream",
     "text": [
      "Epoch 9: 100%|██████████| 4/4 [00:00<00:00,  5.49it/s, loss=0.0547, v_num=0, train_loss=0.0608, train_accuracy=0.969]"
     ]
    },
    {
     "name": "stderr",
     "output_type": "stream",
     "text": [
      "[2025-01-03 15:30:38] INFO (torcheeg/MainThread) \n",
      "[Train] train_loss: 0.025 train_accuracy: 0.992 \n",
      "\n"
     ]
    },
    {
     "name": "stdout",
     "output_type": "stream",
     "text": [
      "Epoch 10: 100%|██████████| 4/4 [00:00<00:00,  5.53it/s, loss=0.0421, v_num=0, train_loss=0.00216, train_accuracy=1.000]"
     ]
    },
    {
     "name": "stderr",
     "output_type": "stream",
     "text": [
      "Metric train_loss improved by 0.059 >= min_delta = 0.0. New best score: 0.002\n"
     ]
    },
    {
     "name": "stdout",
     "output_type": "stream",
     "text": [
      "Epoch 10: 100%|██████████| 4/4 [00:00<00:00,  5.44it/s, loss=0.0421, v_num=0, train_loss=0.00216, train_accuracy=1.000]"
     ]
    },
    {
     "name": "stderr",
     "output_type": "stream",
     "text": [
      "[2025-01-03 15:30:43] INFO (torcheeg/MainThread) \n",
      "[Train] train_loss: 0.014 train_accuracy: 1.000 \n",
      "\n"
     ]
    },
    {
     "name": "stdout",
     "output_type": "stream",
     "text": [
      "Epoch 11: 100%|██████████| 4/4 [00:00<00:00,  5.49it/s, loss=0.0338, v_num=0, train_loss=0.0224, train_accuracy=1.000] "
     ]
    },
    {
     "name": "stderr",
     "output_type": "stream",
     "text": [
      "[2025-01-03 15:30:47] INFO (torcheeg/MainThread) \n",
      "[Train] train_loss: 0.009 train_accuracy: 1.000 \n",
      "\n"
     ]
    },
    {
     "name": "stdout",
     "output_type": "stream",
     "text": [
      "Epoch 12: 100%|██████████| 4/4 [00:00<00:00,  5.53it/s, loss=0.0297, v_num=0, train_loss=0.00198, train_accuracy=1.000]"
     ]
    },
    {
     "name": "stderr",
     "output_type": "stream",
     "text": [
      "Metric train_loss improved by 0.000 >= min_delta = 0.0. New best score: 0.002\n"
     ]
    },
    {
     "name": "stdout",
     "output_type": "stream",
     "text": [
      "Epoch 12: 100%|██████████| 4/4 [00:00<00:00,  5.50it/s, loss=0.0297, v_num=0, train_loss=0.00198, train_accuracy=1.000]"
     ]
    },
    {
     "name": "stderr",
     "output_type": "stream",
     "text": [
      "[2025-01-03 15:30:51] INFO (torcheeg/MainThread) \n",
      "[Train] train_loss: 0.066 train_accuracy: 0.969 \n",
      "\n"
     ]
    },
    {
     "name": "stdout",
     "output_type": "stream",
     "text": [
      "Epoch 13: 100%|██████████| 4/4 [00:00<00:00,  5.56it/s, loss=0.0314, v_num=0, train_loss=0.00747, train_accuracy=1.000]"
     ]
    },
    {
     "name": "stderr",
     "output_type": "stream",
     "text": [
      "[2025-01-03 15:30:55] INFO (torcheeg/MainThread) \n",
      "[Train] train_loss: 0.043 train_accuracy: 0.984 \n",
      "\n"
     ]
    },
    {
     "name": "stdout",
     "output_type": "stream",
     "text": [
      "Epoch 14: 100%|██████████| 4/4 [00:00<00:00,  9.68it/s, loss=0.0314, v_num=0, train_loss=0.00257, train_accuracy=1.000]"
     ]
    },
    {
     "name": "stderr",
     "output_type": "stream",
     "text": [
      "[2025-01-03 15:30:59] INFO (torcheeg/MainThread) \n",
      "[Train] train_loss: 0.025 train_accuracy: 0.992 \n",
      "\n"
     ]
    },
    {
     "name": "stdout",
     "output_type": "stream",
     "text": [
      "Epoch 15: 100%|██████████| 4/4 [00:00<00:00,  5.51it/s, loss=0.0491, v_num=0, train_loss=0.115, train_accuracy=0.969]  "
     ]
    },
    {
     "name": "stderr",
     "output_type": "stream",
     "text": [
      "[2025-01-03 15:31:04] INFO (torcheeg/MainThread) \n",
      "[Train] train_loss: 0.102 train_accuracy: 0.969 \n",
      "\n"
     ]
    },
    {
     "name": "stdout",
     "output_type": "stream",
     "text": [
      "Epoch 16: 100%|██████████| 4/4 [00:00<00:00,  5.55it/s, loss=0.06, v_num=0, train_loss=0.00191, train_accuracy=1.000] "
     ]
    },
    {
     "name": "stderr",
     "output_type": "stream",
     "text": [
      "Metric train_loss improved by 0.000 >= min_delta = 0.0. New best score: 0.002\n"
     ]
    },
    {
     "name": "stdout",
     "output_type": "stream",
     "text": [
      "Epoch 16: 100%|██████████| 4/4 [00:00<00:00,  5.46it/s, loss=0.06, v_num=0, train_loss=0.00191, train_accuracy=1.000]"
     ]
    },
    {
     "name": "stderr",
     "output_type": "stream",
     "text": [
      "[2025-01-03 15:31:08] INFO (torcheeg/MainThread) \n",
      "[Train] train_loss: 0.064 train_accuracy: 0.961 \n",
      "\n"
     ]
    },
    {
     "name": "stdout",
     "output_type": "stream",
     "text": [
      "Epoch 17: 100%|██████████| 4/4 [00:00<00:00,  5.49it/s, loss=0.0733, v_num=0, train_loss=0.295, train_accuracy=0.969] "
     ]
    },
    {
     "name": "stderr",
     "output_type": "stream",
     "text": [
      "[2025-01-03 15:31:12] INFO (torcheeg/MainThread) \n",
      "[Train] train_loss: 0.132 train_accuracy: 0.969 \n",
      "\n"
     ]
    },
    {
     "name": "stdout",
     "output_type": "stream",
     "text": [
      "Epoch 18: 100%|██████████| 4/4 [00:00<00:00,  9.12it/s, loss=0.0744, v_num=0, train_loss=0.0574, train_accuracy=0.969]  "
     ]
    },
    {
     "name": "stderr",
     "output_type": "stream",
     "text": [
      "[2025-01-03 15:31:16] INFO (torcheeg/MainThread) \n",
      "[Train] train_loss: 0.049 train_accuracy: 0.984 \n",
      "\n"
     ]
    },
    {
     "name": "stdout",
     "output_type": "stream",
     "text": [
      "Epoch 19: 100%|██████████| 4/4 [00:00<00:00,  5.56it/s, loss=0.0744, v_num=0, train_loss=0.0122, train_accuracy=1.000] "
     ]
    },
    {
     "name": "stderr",
     "output_type": "stream",
     "text": [
      "[2025-01-03 15:31:20] INFO (torcheeg/MainThread) \n",
      "[Train] train_loss: 0.025 train_accuracy: 0.992 \n",
      "\n"
     ]
    },
    {
     "name": "stdout",
     "output_type": "stream",
     "text": [
      "Epoch 20: 100%|██████████| 4/4 [00:00<00:00,  5.59it/s, loss=0.0761, v_num=0, train_loss=0.185, train_accuracy=0.938] "
     ]
    },
    {
     "name": "stderr",
     "output_type": "stream",
     "text": [
      "[2025-01-03 15:31:25] INFO (torcheeg/MainThread) \n",
      "[Train] train_loss: 0.111 train_accuracy: 0.938 \n",
      "\n"
     ]
    },
    {
     "name": "stdout",
     "output_type": "stream",
     "text": [
      "Epoch 21: 100%|██████████| 4/4 [00:00<00:00,  5.57it/s, loss=0.0696, v_num=0, train_loss=0.00396, train_accuracy=1.000]"
     ]
    },
    {
     "name": "stderr",
     "output_type": "stream",
     "text": [
      "[2025-01-03 15:31:29] INFO (torcheeg/MainThread) \n",
      "[Train] train_loss: 0.031 train_accuracy: 0.984 \n",
      "\n"
     ]
    },
    {
     "name": "stdout",
     "output_type": "stream",
     "text": [
      "Epoch 22: 100%|██████████| 4/4 [00:00<00:00,  9.79it/s, loss=0.0768, v_num=0, train_loss=0.623, train_accuracy=0.938]  "
     ]
    },
    {
     "name": "stderr",
     "output_type": "stream",
     "text": [
      "[2025-01-03 15:31:33] INFO (torcheeg/MainThread) \n",
      "[Train] train_loss: 0.168 train_accuracy: 0.984 \n",
      "\n"
     ]
    },
    {
     "name": "stdout",
     "output_type": "stream",
     "text": [
      "Epoch 23: 100%|██████████| 4/4 [00:00<00:00,  5.52it/s, loss=0.0692, v_num=0, train_loss=0.000749, train_accuracy=1.000]"
     ]
    },
    {
     "name": "stderr",
     "output_type": "stream",
     "text": [
      "Metric train_loss improved by 0.001 >= min_delta = 0.0. New best score: 0.001\n"
     ]
    },
    {
     "name": "stdout",
     "output_type": "stream",
     "text": [
      "Epoch 23: 100%|██████████| 4/4 [00:00<00:00,  5.43it/s, loss=0.0692, v_num=0, train_loss=0.000749, train_accuracy=1.000]"
     ]
    },
    {
     "name": "stderr",
     "output_type": "stream",
     "text": [
      "[2025-01-03 15:31:37] INFO (torcheeg/MainThread) \n",
      "[Train] train_loss: 0.011 train_accuracy: 0.992 \n",
      "\n"
     ]
    },
    {
     "name": "stdout",
     "output_type": "stream",
     "text": [
      "Epoch 24: 100%|██████████| 4/4 [00:00<00:00,  9.80it/s, loss=0.0693, v_num=0, train_loss=0.0113, train_accuracy=1.000]  "
     ]
    },
    {
     "name": "stderr",
     "output_type": "stream",
     "text": [
      "[2025-01-03 15:31:41] INFO (torcheeg/MainThread) \n",
      "[Train] train_loss: 0.026 train_accuracy: 0.992 \n",
      "\n"
     ]
    },
    {
     "name": "stdout",
     "output_type": "stream",
     "text": [
      "Epoch 25: 100%|██████████| 4/4 [00:00<00:00,  9.61it/s, loss=0.0577, v_num=0, train_loss=0.0508, train_accuracy=0.969]"
     ]
    },
    {
     "name": "stderr",
     "output_type": "stream",
     "text": [
      "[2025-01-03 15:31:45] INFO (torcheeg/MainThread) \n",
      "[Train] train_loss: 0.053 train_accuracy: 0.961 \n",
      "\n"
     ]
    },
    {
     "name": "stdout",
     "output_type": "stream",
     "text": [
      "Epoch 26: 100%|██████████| 4/4 [00:00<00:00,  9.58it/s, loss=0.0622, v_num=0, train_loss=0.115, train_accuracy=0.969] "
     ]
    },
    {
     "name": "stderr",
     "output_type": "stream",
     "text": [
      "[2025-01-03 15:31:49] INFO (torcheeg/MainThread) \n",
      "[Train] train_loss: 0.054 train_accuracy: 0.977 \n",
      "\n"
     ]
    },
    {
     "name": "stdout",
     "output_type": "stream",
     "text": [
      "Epoch 27: 100%|██████████| 4/4 [00:00<00:00,  9.48it/s, loss=0.0304, v_num=0, train_loss=0.0191, train_accuracy=1.000] "
     ]
    },
    {
     "name": "stderr",
     "output_type": "stream",
     "text": [
      "[2025-01-03 15:31:53] INFO (torcheeg/MainThread) \n",
      "[Train] train_loss: 0.009 train_accuracy: 1.000 \n",
      "\n"
     ]
    },
    {
     "name": "stdout",
     "output_type": "stream",
     "text": [
      "Epoch 28: 100%|██████████| 4/4 [00:00<00:00,  9.64it/s, loss=0.0314, v_num=0, train_loss=0.0126, train_accuracy=1.000] "
     ]
    },
    {
     "name": "stderr",
     "output_type": "stream",
     "text": [
      "[2025-01-03 15:31:57] INFO (torcheeg/MainThread) \n",
      "[Train] train_loss: 0.016 train_accuracy: 0.992 \n",
      "\n"
     ]
    },
    {
     "name": "stdout",
     "output_type": "stream",
     "text": [
      "Epoch 29: 100%|██████████| 4/4 [00:00<00:00,  9.60it/s, loss=0.0409, v_num=0, train_loss=0.00599, train_accuracy=1.000]"
     ]
    },
    {
     "name": "stderr",
     "output_type": "stream",
     "text": [
      "[2025-01-03 15:32:01] INFO (torcheeg/MainThread) \n",
      "[Train] train_loss: 0.074 train_accuracy: 0.984 \n",
      "\n"
     ]
    },
    {
     "name": "stdout",
     "output_type": "stream",
     "text": [
      "Epoch 30: 100%|██████████| 4/4 [00:00<00:00,  9.58it/s, loss=0.0355, v_num=0, train_loss=0.0196, train_accuracy=1.000]  "
     ]
    },
    {
     "name": "stderr",
     "output_type": "stream",
     "text": [
      "[2025-01-03 15:32:05] INFO (torcheeg/MainThread) \n",
      "[Train] train_loss: 0.026 train_accuracy: 0.992 \n",
      "\n"
     ]
    },
    {
     "name": "stdout",
     "output_type": "stream",
     "text": [
      "Epoch 31: 100%|██████████| 4/4 [00:00<00:00,  9.55it/s, loss=0.0333, v_num=0, train_loss=0.00168, train_accuracy=1.000]"
     ]
    },
    {
     "name": "stderr",
     "output_type": "stream",
     "text": [
      "Monitored metric train_loss did not improve in the last 8 records. Best score: 0.001. Signaling Trainer to stop.\n"
     ]
    },
    {
     "name": "stdout",
     "output_type": "stream",
     "text": [
      "Epoch 31: 100%|██████████| 4/4 [00:00<00:00,  9.51it/s, loss=0.0333, v_num=0, train_loss=0.00168, train_accuracy=1.000]"
     ]
    },
    {
     "name": "stderr",
     "output_type": "stream",
     "text": [
      "[2025-01-03 15:32:09] INFO (torcheeg/MainThread) \n",
      "[Train] train_loss: 0.043 train_accuracy: 0.992 \n",
      "\n"
     ]
    },
    {
     "name": "stdout",
     "output_type": "stream",
     "text": [
      "Epoch 31: 100%|██████████| 4/4 [00:03<00:00,  1.03it/s, loss=0.0333, v_num=0, train_loss=0.00168, train_accuracy=1.000]\n"
     ]
    },
    {
     "name": "stderr",
     "output_type": "stream",
     "text": [
      "GPU available: True (cuda), used: True\n",
      "TPU available: False, using: 0 TPU cores\n",
      "IPU available: False, using: 0 IPUs\n",
      "HPU available: False, using: 0 HPUs\n",
      "LOCAL_RANK: 0 - CUDA_VISIBLE_DEVICES: [0]\n",
      "/root/autodl-tmp/conda/envs/law/lib/python3.8/site-packages/pytorch_lightning/trainer/connectors/data_connector.py:224: PossibleUserWarning: The dataloader, test_dataloader 0, does not have many workers which may be a bottleneck. Consider increasing the value of the `num_workers` argument` (try 128 which is the number of cpus on this machine) in the `DataLoader` init to improve performance.\n",
      "  rank_zero_warn(\n"
     ]
    },
    {
     "name": "stdout",
     "output_type": "stream",
     "text": [
      "Testing DataLoader 0: 100%|██████████| 1/1 [00:00<00:00, 43.86it/s]"
     ]
    },
    {
     "name": "stderr",
     "output_type": "stream",
     "text": [
      "[2025-01-03 15:32:10] INFO (torcheeg/MainThread) \n",
      "[Test] test_loss: 2.268 test_accuracy: 0.594 \n",
      "\n"
     ]
    },
    {
     "name": "stdout",
     "output_type": "stream",
     "text": [
      "Testing DataLoader 0: 100%|██████████| 1/1 [00:00<00:00, 35.45it/s]\n",
      "────────────────────────────────────────────────────────────────────────────────────────────────────────────────────────\n",
      "       Test metric             DataLoader 0\n",
      "────────────────────────────────────────────────────────────────────────────────────────────────────────────────────────\n",
      "      test_accuracy               0.59375\n",
      "        test_loss           2.2676279544830322\n",
      "────────────────────────────────────────────────────────────────────────────────────────────────────────────────────────\n",
      "已删除文件夹: /root/autodl-tmp/.autodl/kinlaw/mi_swin/lightning_logs\n"
     ]
    },
    {
     "name": "stderr",
     "output_type": "stream",
     "text": [
      "GPU available: True (cuda), used: True\n",
      "TPU available: False, using: 0 TPU cores\n",
      "IPU available: False, using: 0 IPUs\n",
      "HPU available: False, using: 0 HPUs\n",
      "Missing logger folder: /root/autodl-tmp/.autodl/kinlaw/mi_swin/lightning_logs\n",
      "LOCAL_RANK: 0 - CUDA_VISIBLE_DEVICES: [0]\n",
      "/root/autodl-tmp/conda/envs/law/lib/python3.8/site-packages/pytorch_lightning/trainer/connectors/data_connector.py:224: PossibleUserWarning: The dataloader, train_dataloader, does not have many workers which may be a bottleneck. Consider increasing the value of the `num_workers` argument` (try 128 which is the number of cpus on this machine) in the `DataLoader` init to improve performance.\n",
      "  rank_zero_warn(\n",
      "/root/autodl-tmp/conda/envs/law/lib/python3.8/site-packages/pytorch_lightning/trainer/trainer.py:1609: PossibleUserWarning: The number of training batches (4) is smaller than the logging interval Trainer(log_every_n_steps=50). Set a lower value for log_every_n_steps if you want to see logs for the training epoch.\n",
      "  rank_zero_warn(\n"
     ]
    },
    {
     "name": "stdout",
     "output_type": "stream",
     "text": [
      "Epoch 0: 100%|██████████| 4/4 [00:00<00:00,  9.26it/s, loss=3.92, v_num=0, train_loss=4.770, train_accuracy=0.469]"
     ]
    },
    {
     "name": "stderr",
     "output_type": "stream",
     "text": [
      "Metric train_loss improved. New best score: 4.774\n"
     ]
    },
    {
     "name": "stdout",
     "output_type": "stream",
     "text": [
      "Epoch 0: 100%|██████████| 4/4 [00:00<00:00,  9.23it/s, loss=3.92, v_num=0, train_loss=4.770, train_accuracy=0.469]"
     ]
    },
    {
     "name": "stderr",
     "output_type": "stream",
     "text": [
      "[2025-01-03 15:32:17] INFO (torcheeg/MainThread) \n",
      "[Train] train_loss: 3.922 train_accuracy: 0.430 \n",
      "\n"
     ]
    },
    {
     "name": "stdout",
     "output_type": "stream",
     "text": [
      "Epoch 1: 100%|██████████| 4/4 [00:00<00:00,  9.66it/s, loss=2.5, v_num=0, train_loss=0.933, train_accuracy=0.562] "
     ]
    },
    {
     "name": "stderr",
     "output_type": "stream",
     "text": [
      "Metric train_loss improved by 3.841 >= min_delta = 0.0. New best score: 0.933\n"
     ]
    },
    {
     "name": "stdout",
     "output_type": "stream",
     "text": [
      "Epoch 1: 100%|██████████| 4/4 [00:00<00:00,  9.63it/s, loss=2.5, v_num=0, train_loss=0.933, train_accuracy=0.562]"
     ]
    },
    {
     "name": "stderr",
     "output_type": "stream",
     "text": [
      "[2025-01-03 15:32:21] INFO (torcheeg/MainThread) \n",
      "[Train] train_loss: 1.085 train_accuracy: 0.547 \n",
      "\n"
     ]
    },
    {
     "name": "stdout",
     "output_type": "stream",
     "text": [
      "Epoch 2: 100%|██████████| 4/4 [00:00<00:00,  9.78it/s, loss=1.97, v_num=0, train_loss=0.672, train_accuracy=0.625]"
     ]
    },
    {
     "name": "stderr",
     "output_type": "stream",
     "text": [
      "Metric train_loss improved by 0.261 >= min_delta = 0.0. New best score: 0.672\n"
     ]
    },
    {
     "name": "stdout",
     "output_type": "stream",
     "text": [
      "Epoch 2: 100%|██████████| 4/4 [00:00<00:00,  9.74it/s, loss=1.97, v_num=0, train_loss=0.672, train_accuracy=0.625]"
     ]
    },
    {
     "name": "stderr",
     "output_type": "stream",
     "text": [
      "[2025-01-03 15:32:25] INFO (torcheeg/MainThread) \n",
      "[Train] train_loss: 0.914 train_accuracy: 0.547 \n",
      "\n"
     ]
    },
    {
     "name": "stdout",
     "output_type": "stream",
     "text": [
      "Epoch 3: 100%|██████████| 4/4 [00:00<00:00,  9.65it/s, loss=1.66, v_num=0, train_loss=0.656, train_accuracy=0.562]"
     ]
    },
    {
     "name": "stderr",
     "output_type": "stream",
     "text": [
      "Metric train_loss improved by 0.016 >= min_delta = 0.0. New best score: 0.656\n"
     ]
    },
    {
     "name": "stdout",
     "output_type": "stream",
     "text": [
      "Epoch 3: 100%|██████████| 4/4 [00:00<00:00,  9.62it/s, loss=1.66, v_num=0, train_loss=0.656, train_accuracy=0.562]"
     ]
    },
    {
     "name": "stderr",
     "output_type": "stream",
     "text": [
      "[2025-01-03 15:32:29] INFO (torcheeg/MainThread) \n",
      "[Train] train_loss: 0.722 train_accuracy: 0.602 \n",
      "\n"
     ]
    },
    {
     "name": "stdout",
     "output_type": "stream",
     "text": [
      "Epoch 4: 100%|██████████| 4/4 [00:00<00:00,  9.75it/s, loss=1.46, v_num=0, train_loss=0.875, train_accuracy=0.562]"
     ]
    },
    {
     "name": "stderr",
     "output_type": "stream",
     "text": [
      "[2025-01-03 15:32:33] INFO (torcheeg/MainThread) \n",
      "[Train] train_loss: 0.637 train_accuracy: 0.695 \n",
      "\n"
     ]
    },
    {
     "name": "stdout",
     "output_type": "stream",
     "text": [
      "Epoch 5: 100%|██████████| 4/4 [00:00<00:00,  9.68it/s, loss=0.756, v_num=0, train_loss=0.502, train_accuracy=0.750]"
     ]
    },
    {
     "name": "stderr",
     "output_type": "stream",
     "text": [
      "Metric train_loss improved by 0.155 >= min_delta = 0.0. New best score: 0.502\n"
     ]
    },
    {
     "name": "stdout",
     "output_type": "stream",
     "text": [
      "Epoch 5: 100%|██████████| 4/4 [00:00<00:00,  9.64it/s, loss=0.756, v_num=0, train_loss=0.502, train_accuracy=0.750]"
     ]
    },
    {
     "name": "stderr",
     "output_type": "stream",
     "text": [
      "[2025-01-03 15:32:36] INFO (torcheeg/MainThread) \n",
      "[Train] train_loss: 0.422 train_accuracy: 0.797 \n",
      "\n"
     ]
    },
    {
     "name": "stdout",
     "output_type": "stream",
     "text": [
      "Epoch 6: 100%|██████████| 4/4 [00:00<00:00,  9.63it/s, loss=0.615, v_num=0, train_loss=0.188, train_accuracy=0.938]"
     ]
    },
    {
     "name": "stderr",
     "output_type": "stream",
     "text": [
      "Metric train_loss improved by 0.313 >= min_delta = 0.0. New best score: 0.188\n"
     ]
    },
    {
     "name": "stdout",
     "output_type": "stream",
     "text": [
      "Epoch 6: 100%|██████████| 4/4 [00:00<00:00,  9.60it/s, loss=0.615, v_num=0, train_loss=0.188, train_accuracy=0.938]"
     ]
    },
    {
     "name": "stderr",
     "output_type": "stream",
     "text": [
      "[2025-01-03 15:32:40] INFO (torcheeg/MainThread) \n",
      "[Train] train_loss: 0.381 train_accuracy: 0.844 \n",
      "\n"
     ]
    },
    {
     "name": "stdout",
     "output_type": "stream",
     "text": [
      "Epoch 7: 100%|██████████| 4/4 [00:00<00:00,  9.67it/s, loss=0.477, v_num=0, train_loss=0.303, train_accuracy=0.875]"
     ]
    },
    {
     "name": "stderr",
     "output_type": "stream",
     "text": [
      "[2025-01-03 15:32:44] INFO (torcheeg/MainThread) \n",
      "[Train] train_loss: 0.221 train_accuracy: 0.914 \n",
      "\n"
     ]
    },
    {
     "name": "stdout",
     "output_type": "stream",
     "text": [
      "Epoch 8: 100%|██████████| 4/4 [00:00<00:00,  9.65it/s, loss=0.38, v_num=0, train_loss=0.191, train_accuracy=0.938] "
     ]
    },
    {
     "name": "stderr",
     "output_type": "stream",
     "text": [
      "[2025-01-03 15:32:48] INFO (torcheeg/MainThread) \n",
      "[Train] train_loss: 0.238 train_accuracy: 0.930 \n",
      "\n"
     ]
    },
    {
     "name": "stdout",
     "output_type": "stream",
     "text": [
      "Epoch 9: 100%|██████████| 4/4 [00:00<00:00,  9.67it/s, loss=0.295, v_num=0, train_loss=0.356, train_accuracy=0.906]"
     ]
    },
    {
     "name": "stderr",
     "output_type": "stream",
     "text": [
      "[2025-01-03 15:32:52] INFO (torcheeg/MainThread) \n",
      "[Train] train_loss: 0.211 train_accuracy: 0.922 \n",
      "\n"
     ]
    },
    {
     "name": "stdout",
     "output_type": "stream",
     "text": [
      "Epoch 10: 100%|██████████| 4/4 [00:00<00:00,  9.63it/s, loss=0.241, v_num=0, train_loss=0.174, train_accuracy=0.938]"
     ]
    },
    {
     "name": "stderr",
     "output_type": "stream",
     "text": [
      "Metric train_loss improved by 0.014 >= min_delta = 0.0. New best score: 0.174\n"
     ]
    },
    {
     "name": "stdout",
     "output_type": "stream",
     "text": [
      "Epoch 10: 100%|██████████| 4/4 [00:00<00:00,  9.58it/s, loss=0.241, v_num=0, train_loss=0.174, train_accuracy=0.938]"
     ]
    },
    {
     "name": "stderr",
     "output_type": "stream",
     "text": [
      "[2025-01-03 15:32:55] INFO (torcheeg/MainThread) \n",
      "[Train] train_loss: 0.152 train_accuracy: 0.922 \n",
      "\n"
     ]
    },
    {
     "name": "stdout",
     "output_type": "stream",
     "text": [
      "Epoch 11: 100%|██████████| 4/4 [00:00<00:00,  9.44it/s, loss=0.192, v_num=0, train_loss=0.122, train_accuracy=0.969]"
     ]
    },
    {
     "name": "stderr",
     "output_type": "stream",
     "text": [
      "Metric train_loss improved by 0.052 >= min_delta = 0.0. New best score: 0.122\n"
     ]
    },
    {
     "name": "stdout",
     "output_type": "stream",
     "text": [
      "Epoch 11: 100%|██████████| 4/4 [00:00<00:00,  9.39it/s, loss=0.192, v_num=0, train_loss=0.122, train_accuracy=0.969]"
     ]
    },
    {
     "name": "stderr",
     "output_type": "stream",
     "text": [
      "[2025-01-03 15:32:59] INFO (torcheeg/MainThread) \n",
      "[Train] train_loss: 0.141 train_accuracy: 0.953 \n",
      "\n"
     ]
    },
    {
     "name": "stdout",
     "output_type": "stream",
     "text": [
      "Epoch 12: 100%|██████████| 4/4 [00:00<00:00,  9.61it/s, loss=0.184, v_num=0, train_loss=0.122, train_accuracy=0.906]"
     ]
    },
    {
     "name": "stderr",
     "output_type": "stream",
     "text": [
      "[2025-01-03 15:33:03] INFO (torcheeg/MainThread) \n",
      "[Train] train_loss: 0.180 train_accuracy: 0.930 \n",
      "\n"
     ]
    },
    {
     "name": "stdout",
     "output_type": "stream",
     "text": [
      "Epoch 13: 100%|██████████| 4/4 [00:00<00:00,  9.63it/s, loss=0.157, v_num=0, train_loss=0.0529, train_accuracy=1.000]"
     ]
    },
    {
     "name": "stderr",
     "output_type": "stream",
     "text": [
      "Metric train_loss improved by 0.069 >= min_delta = 0.0. New best score: 0.053\n"
     ]
    },
    {
     "name": "stdout",
     "output_type": "stream",
     "text": [
      "Epoch 13: 100%|██████████| 4/4 [00:00<00:00,  9.59it/s, loss=0.157, v_num=0, train_loss=0.0529, train_accuracy=1.000]"
     ]
    },
    {
     "name": "stderr",
     "output_type": "stream",
     "text": [
      "[2025-01-03 15:33:07] INFO (torcheeg/MainThread) \n",
      "[Train] train_loss: 0.104 train_accuracy: 0.977 \n",
      "\n"
     ]
    },
    {
     "name": "stdout",
     "output_type": "stream",
     "text": [
      "Epoch 14: 100%|██████████| 4/4 [00:00<00:00,  9.29it/s, loss=0.135, v_num=0, train_loss=0.0966, train_accuracy=0.938]"
     ]
    },
    {
     "name": "stderr",
     "output_type": "stream",
     "text": [
      "[2025-01-03 15:33:11] INFO (torcheeg/MainThread) \n",
      "[Train] train_loss: 0.097 train_accuracy: 0.961 \n",
      "\n"
     ]
    },
    {
     "name": "stdout",
     "output_type": "stream",
     "text": [
      "Epoch 15: 100%|██████████| 4/4 [00:00<00:00,  9.57it/s, loss=0.114, v_num=0, train_loss=0.0227, train_accuracy=1.000]"
     ]
    },
    {
     "name": "stderr",
     "output_type": "stream",
     "text": [
      "Metric train_loss improved by 0.030 >= min_delta = 0.0. New best score: 0.023\n"
     ]
    },
    {
     "name": "stdout",
     "output_type": "stream",
     "text": [
      "Epoch 15: 100%|██████████| 4/4 [00:00<00:00,  9.53it/s, loss=0.114, v_num=0, train_loss=0.0227, train_accuracy=1.000]"
     ]
    },
    {
     "name": "stderr",
     "output_type": "stream",
     "text": [
      "[2025-01-03 15:33:14] INFO (torcheeg/MainThread) \n",
      "[Train] train_loss: 0.051 train_accuracy: 0.984 \n",
      "\n"
     ]
    },
    {
     "name": "stdout",
     "output_type": "stream",
     "text": [
      "Epoch 16: 100%|██████████| 4/4 [00:00<00:00,  9.63it/s, loss=0.0954, v_num=0, train_loss=0.0642, train_accuracy=1.000]"
     ]
    },
    {
     "name": "stderr",
     "output_type": "stream",
     "text": [
      "[2025-01-03 15:33:18] INFO (torcheeg/MainThread) \n",
      "[Train] train_loss: 0.046 train_accuracy: 0.992 \n",
      "\n"
     ]
    },
    {
     "name": "stdout",
     "output_type": "stream",
     "text": [
      "Epoch 17: 100%|██████████| 4/4 [00:00<00:00,  9.72it/s, loss=0.0737, v_num=0, train_loss=0.0705, train_accuracy=0.969]"
     ]
    },
    {
     "name": "stderr",
     "output_type": "stream",
     "text": [
      "[2025-01-03 15:33:22] INFO (torcheeg/MainThread) \n",
      "[Train] train_loss: 0.071 train_accuracy: 0.969 \n",
      "\n"
     ]
    },
    {
     "name": "stdout",
     "output_type": "stream",
     "text": [
      "Epoch 18: 100%|██████████| 4/4 [00:00<00:00,  9.58it/s, loss=0.061, v_num=0, train_loss=0.0798, train_accuracy=0.938] "
     ]
    },
    {
     "name": "stderr",
     "output_type": "stream",
     "text": [
      "[2025-01-03 15:33:26] INFO (torcheeg/MainThread) \n",
      "[Train] train_loss: 0.041 train_accuracy: 0.977 \n",
      "\n"
     ]
    },
    {
     "name": "stdout",
     "output_type": "stream",
     "text": [
      "Epoch 19: 100%|██████████| 4/4 [00:00<00:00,  9.65it/s, loss=0.054, v_num=0, train_loss=0.0923, train_accuracy=0.969]  "
     ]
    },
    {
     "name": "stderr",
     "output_type": "stream",
     "text": [
      "[2025-01-03 15:33:30] INFO (torcheeg/MainThread) \n",
      "[Train] train_loss: 0.062 train_accuracy: 0.969 \n",
      "\n"
     ]
    },
    {
     "name": "stdout",
     "output_type": "stream",
     "text": [
      "Epoch 20: 100%|██████████| 4/4 [00:00<00:00,  9.75it/s, loss=0.0592, v_num=0, train_loss=0.0402, train_accuracy=0.969] "
     ]
    },
    {
     "name": "stderr",
     "output_type": "stream",
     "text": [
      "[2025-01-03 15:33:34] INFO (torcheeg/MainThread) \n",
      "[Train] train_loss: 0.077 train_accuracy: 0.977 \n",
      "\n"
     ]
    },
    {
     "name": "stdout",
     "output_type": "stream",
     "text": [
      "Epoch 21: 100%|██████████| 4/4 [00:00<00:00,  9.81it/s, loss=0.0742, v_num=0, train_loss=0.0641, train_accuracy=0.969]"
     ]
    },
    {
     "name": "stderr",
     "output_type": "stream",
     "text": [
      "[2025-01-03 15:33:37] INFO (torcheeg/MainThread) \n",
      "[Train] train_loss: 0.120 train_accuracy: 0.969 \n",
      "\n"
     ]
    },
    {
     "name": "stdout",
     "output_type": "stream",
     "text": [
      "Epoch 22: 100%|██████████| 4/4 [00:00<00:00,  9.68it/s, loss=0.0805, v_num=0, train_loss=0.0334, train_accuracy=1.000] "
     ]
    },
    {
     "name": "stderr",
     "output_type": "stream",
     "text": [
      "[2025-01-03 15:33:41] INFO (torcheeg/MainThread) \n",
      "[Train] train_loss: 0.103 train_accuracy: 0.977 \n",
      "\n"
     ]
    },
    {
     "name": "stdout",
     "output_type": "stream",
     "text": [
      "Epoch 23: 100%|██████████| 4/4 [00:00<00:00,  9.66it/s, loss=0.0912, v_num=0, train_loss=0.119, train_accuracy=0.969] "
     ]
    },
    {
     "name": "stderr",
     "output_type": "stream",
     "text": [
      "Monitored metric train_loss did not improve in the last 8 records. Best score: 0.023. Signaling Trainer to stop.\n"
     ]
    },
    {
     "name": "stdout",
     "output_type": "stream",
     "text": [
      "Epoch 23: 100%|██████████| 4/4 [00:00<00:00,  9.63it/s, loss=0.0912, v_num=0, train_loss=0.119, train_accuracy=0.969]"
     ]
    },
    {
     "name": "stderr",
     "output_type": "stream",
     "text": [
      "[2025-01-03 15:33:45] INFO (torcheeg/MainThread) \n",
      "[Train] train_loss: 0.094 train_accuracy: 0.961 \n",
      "\n"
     ]
    },
    {
     "name": "stdout",
     "output_type": "stream",
     "text": [
      "Epoch 23: 100%|██████████| 4/4 [00:03<00:00,  1.07it/s, loss=0.0912, v_num=0, train_loss=0.119, train_accuracy=0.969]\n"
     ]
    },
    {
     "name": "stderr",
     "output_type": "stream",
     "text": [
      "GPU available: True (cuda), used: True\n",
      "TPU available: False, using: 0 TPU cores\n",
      "IPU available: False, using: 0 IPUs\n",
      "HPU available: False, using: 0 HPUs\n",
      "LOCAL_RANK: 0 - CUDA_VISIBLE_DEVICES: [0]\n",
      "/root/autodl-tmp/conda/envs/law/lib/python3.8/site-packages/pytorch_lightning/trainer/connectors/data_connector.py:224: PossibleUserWarning: The dataloader, test_dataloader 0, does not have many workers which may be a bottleneck. Consider increasing the value of the `num_workers` argument` (try 128 which is the number of cpus on this machine) in the `DataLoader` init to improve performance.\n",
      "  rank_zero_warn(\n"
     ]
    },
    {
     "name": "stdout",
     "output_type": "stream",
     "text": [
      "Testing DataLoader 0: 100%|██████████| 1/1 [00:00<00:00, 43.82it/s]"
     ]
    },
    {
     "name": "stderr",
     "output_type": "stream",
     "text": [
      "[2025-01-03 15:33:46] INFO (torcheeg/MainThread) \n",
      "[Test] test_loss: 0.764 test_accuracy: 0.781 \n",
      "\n"
     ]
    },
    {
     "name": "stdout",
     "output_type": "stream",
     "text": [
      "Testing DataLoader 0: 100%|██████████| 1/1 [00:00<00:00, 35.41it/s]\n",
      "────────────────────────────────────────────────────────────────────────────────────────────────────────────────────────\n",
      "       Test metric             DataLoader 0\n",
      "────────────────────────────────────────────────────────────────────────────────────────────────────────────────────────\n",
      "      test_accuracy               0.78125\n",
      "        test_loss           0.7644138336181641\n",
      "────────────────────────────────────────────────────────────────────────────────────────────────────────────────────────\n",
      "已删除文件夹: /root/autodl-tmp/.autodl/kinlaw/mi_swin/lightning_logs\n"
     ]
    },
    {
     "name": "stderr",
     "output_type": "stream",
     "text": [
      "GPU available: True (cuda), used: True\n",
      "TPU available: False, using: 0 TPU cores\n",
      "IPU available: False, using: 0 IPUs\n",
      "HPU available: False, using: 0 HPUs\n",
      "Missing logger folder: /root/autodl-tmp/.autodl/kinlaw/mi_swin/lightning_logs\n",
      "LOCAL_RANK: 0 - CUDA_VISIBLE_DEVICES: [0]\n",
      "/root/autodl-tmp/conda/envs/law/lib/python3.8/site-packages/pytorch_lightning/trainer/connectors/data_connector.py:224: PossibleUserWarning: The dataloader, train_dataloader, does not have many workers which may be a bottleneck. Consider increasing the value of the `num_workers` argument` (try 128 which is the number of cpus on this machine) in the `DataLoader` init to improve performance.\n",
      "  rank_zero_warn(\n",
      "/root/autodl-tmp/conda/envs/law/lib/python3.8/site-packages/pytorch_lightning/trainer/trainer.py:1609: PossibleUserWarning: The number of training batches (4) is smaller than the logging interval Trainer(log_every_n_steps=50). Set a lower value for log_every_n_steps if you want to see logs for the training epoch.\n",
      "  rank_zero_warn(\n"
     ]
    },
    {
     "name": "stdout",
     "output_type": "stream",
     "text": [
      "Epoch 0: 100%|██████████| 4/4 [00:00<00:00,  9.44it/s, loss=2.94, v_num=0, train_loss=1.160, train_accuracy=0.656] "
     ]
    },
    {
     "name": "stderr",
     "output_type": "stream",
     "text": [
      "Metric train_loss improved. New best score: 1.165\n"
     ]
    },
    {
     "name": "stdout",
     "output_type": "stream",
     "text": [
      "Epoch 0: 100%|██████████| 4/4 [00:00<00:00,  9.40it/s, loss=2.94, v_num=0, train_loss=1.160, train_accuracy=0.656]"
     ]
    },
    {
     "name": "stderr",
     "output_type": "stream",
     "text": [
      "[2025-01-03 15:33:52] INFO (torcheeg/MainThread) \n",
      "[Train] train_loss: 2.936 train_accuracy: 0.500 \n",
      "\n"
     ]
    },
    {
     "name": "stdout",
     "output_type": "stream",
     "text": [
      "Epoch 1: 100%|██████████| 4/4 [00:00<00:00,  9.27it/s, loss=2.04, v_num=0, train_loss=0.740, train_accuracy=0.594]"
     ]
    },
    {
     "name": "stderr",
     "output_type": "stream",
     "text": [
      "Metric train_loss improved by 0.425 >= min_delta = 0.0. New best score: 0.740\n"
     ]
    },
    {
     "name": "stdout",
     "output_type": "stream",
     "text": [
      "Epoch 1: 100%|██████████| 4/4 [00:00<00:00,  9.22it/s, loss=2.04, v_num=0, train_loss=0.740, train_accuracy=0.594]"
     ]
    },
    {
     "name": "stderr",
     "output_type": "stream",
     "text": [
      "[2025-01-03 15:33:56] INFO (torcheeg/MainThread) \n",
      "[Train] train_loss: 1.152 train_accuracy: 0.602 \n",
      "\n"
     ]
    },
    {
     "name": "stdout",
     "output_type": "stream",
     "text": [
      "Epoch 2: 100%|██████████| 4/4 [00:00<00:00,  8.77it/s, loss=1.53, v_num=0, train_loss=1.120, train_accuracy=0.688]"
     ]
    },
    {
     "name": "stderr",
     "output_type": "stream",
     "text": [
      "[2025-01-03 15:34:00] INFO (torcheeg/MainThread) \n",
      "[Train] train_loss: 0.506 train_accuracy: 0.820 \n",
      "\n"
     ]
    },
    {
     "name": "stdout",
     "output_type": "stream",
     "text": [
      "Epoch 3: 100%|██████████| 4/4 [00:00<00:00,  9.63it/s, loss=1.22, v_num=0, train_loss=0.315, train_accuracy=0.906]"
     ]
    },
    {
     "name": "stderr",
     "output_type": "stream",
     "text": [
      "Metric train_loss improved by 0.425 >= min_delta = 0.0. New best score: 0.315\n"
     ]
    },
    {
     "name": "stdout",
     "output_type": "stream",
     "text": [
      "Epoch 3: 100%|██████████| 4/4 [00:00<00:00,  9.59it/s, loss=1.22, v_num=0, train_loss=0.315, train_accuracy=0.906]"
     ]
    },
    {
     "name": "stderr",
     "output_type": "stream",
     "text": [
      "[2025-01-03 15:34:04] INFO (torcheeg/MainThread) \n",
      "[Train] train_loss: 0.275 train_accuracy: 0.883 \n",
      "\n"
     ]
    },
    {
     "name": "stdout",
     "output_type": "stream",
     "text": [
      "Epoch 4: 100%|██████████| 4/4 [00:00<00:00,  9.77it/s, loss=1.03, v_num=0, train_loss=0.0866, train_accuracy=0.969]"
     ]
    },
    {
     "name": "stderr",
     "output_type": "stream",
     "text": [
      "Metric train_loss improved by 0.228 >= min_delta = 0.0. New best score: 0.087\n"
     ]
    },
    {
     "name": "stdout",
     "output_type": "stream",
     "text": [
      "Epoch 4: 100%|██████████| 4/4 [00:00<00:00,  9.73it/s, loss=1.03, v_num=0, train_loss=0.0866, train_accuracy=0.969]"
     ]
    },
    {
     "name": "stderr",
     "output_type": "stream",
     "text": [
      "[2025-01-03 15:34:08] INFO (torcheeg/MainThread) \n",
      "[Train] train_loss: 0.266 train_accuracy: 0.898 \n",
      "\n"
     ]
    },
    {
     "name": "stdout",
     "output_type": "stream",
     "text": [
      "Epoch 5: 100%|██████████| 4/4 [00:00<00:00,  9.67it/s, loss=0.466, v_num=0, train_loss=0.0775, train_accuracy=0.938]"
     ]
    },
    {
     "name": "stderr",
     "output_type": "stream",
     "text": [
      "Metric train_loss improved by 0.009 >= min_delta = 0.0. New best score: 0.078\n"
     ]
    },
    {
     "name": "stdout",
     "output_type": "stream",
     "text": [
      "Epoch 5: 100%|██████████| 4/4 [00:00<00:00,  9.62it/s, loss=0.466, v_num=0, train_loss=0.0775, train_accuracy=0.938]"
     ]
    },
    {
     "name": "stderr",
     "output_type": "stream",
     "text": [
      "[2025-01-03 15:34:11] INFO (torcheeg/MainThread) \n",
      "[Train] train_loss: 0.128 train_accuracy: 0.945 \n",
      "\n"
     ]
    },
    {
     "name": "stdout",
     "output_type": "stream",
     "text": [
      "Epoch 6: 100%|██████████| 4/4 [00:00<00:00,  9.58it/s, loss=0.24, v_num=0, train_loss=0.0273, train_accuracy=1.000] "
     ]
    },
    {
     "name": "stderr",
     "output_type": "stream",
     "text": [
      "Metric train_loss improved by 0.050 >= min_delta = 0.0. New best score: 0.027\n"
     ]
    },
    {
     "name": "stdout",
     "output_type": "stream",
     "text": [
      "Epoch 6: 100%|██████████| 4/4 [00:00<00:00,  9.53it/s, loss=0.24, v_num=0, train_loss=0.0273, train_accuracy=1.000]"
     ]
    },
    {
     "name": "stderr",
     "output_type": "stream",
     "text": [
      "[2025-01-03 15:34:15] INFO (torcheeg/MainThread) \n",
      "[Train] train_loss: 0.022 train_accuracy: 1.000 \n",
      "\n"
     ]
    },
    {
     "name": "stdout",
     "output_type": "stream",
     "text": [
      "Epoch 7: 100%|██████████| 4/4 [00:00<00:00,  9.67it/s, loss=0.149, v_num=0, train_loss=0.117, train_accuracy=0.938] "
     ]
    },
    {
     "name": "stderr",
     "output_type": "stream",
     "text": [
      "[2025-01-03 15:34:19] INFO (torcheeg/MainThread) \n",
      "[Train] train_loss: 0.052 train_accuracy: 0.984 \n",
      "\n"
     ]
    },
    {
     "name": "stdout",
     "output_type": "stream",
     "text": [
      "Epoch 8: 100%|██████████| 4/4 [00:00<00:00,  9.49it/s, loss=0.106, v_num=0, train_loss=0.00952, train_accuracy=1.000]"
     ]
    },
    {
     "name": "stderr",
     "output_type": "stream",
     "text": [
      "Metric train_loss improved by 0.018 >= min_delta = 0.0. New best score: 0.010\n"
     ]
    },
    {
     "name": "stdout",
     "output_type": "stream",
     "text": [
      "Epoch 8: 100%|██████████| 4/4 [00:00<00:00,  9.46it/s, loss=0.106, v_num=0, train_loss=0.00952, train_accuracy=1.000]"
     ]
    },
    {
     "name": "stderr",
     "output_type": "stream",
     "text": [
      "[2025-01-03 15:34:23] INFO (torcheeg/MainThread) \n",
      "[Train] train_loss: 0.063 train_accuracy: 0.977 \n",
      "\n"
     ]
    },
    {
     "name": "stdout",
     "output_type": "stream",
     "text": [
      "Epoch 9: 100%|██████████| 4/4 [00:00<00:00,  9.52it/s, loss=0.0638, v_num=0, train_loss=0.0785, train_accuracy=0.969]  "
     ]
    },
    {
     "name": "stderr",
     "output_type": "stream",
     "text": [
      "[2025-01-03 15:34:27] INFO (torcheeg/MainThread) \n",
      "[Train] train_loss: 0.055 train_accuracy: 0.969 \n",
      "\n"
     ]
    },
    {
     "name": "stdout",
     "output_type": "stream",
     "text": [
      "Epoch 10: 100%|██████████| 4/4 [00:00<00:00,  9.57it/s, loss=0.052, v_num=0, train_loss=0.147, train_accuracy=0.969]   "
     ]
    },
    {
     "name": "stderr",
     "output_type": "stream",
     "text": [
      "[2025-01-03 15:34:31] INFO (torcheeg/MainThread) \n",
      "[Train] train_loss: 0.069 train_accuracy: 0.984 \n",
      "\n"
     ]
    },
    {
     "name": "stdout",
     "output_type": "stream",
     "text": [
      "Epoch 11: 100%|██████████| 4/4 [00:00<00:00,  9.61it/s, loss=0.0522, v_num=0, train_loss=0.0446, train_accuracy=0.969] "
     ]
    },
    {
     "name": "stderr",
     "output_type": "stream",
     "text": [
      "[2025-01-03 15:34:34] INFO (torcheeg/MainThread) \n",
      "[Train] train_loss: 0.022 train_accuracy: 0.984 \n",
      "\n"
     ]
    },
    {
     "name": "stdout",
     "output_type": "stream",
     "text": [
      "Epoch 12: 100%|██████████| 4/4 [00:00<00:00,  9.62it/s, loss=0.0463, v_num=0, train_loss=0.0202, train_accuracy=1.000]"
     ]
    },
    {
     "name": "stderr",
     "output_type": "stream",
     "text": [
      "[2025-01-03 15:34:38] INFO (torcheeg/MainThread) \n",
      "[Train] train_loss: 0.022 train_accuracy: 0.992 \n",
      "\n"
     ]
    },
    {
     "name": "stdout",
     "output_type": "stream",
     "text": [
      "Epoch 13: 100%|██████████| 4/4 [00:00<00:00,  9.69it/s, loss=0.0344, v_num=0, train_loss=0.00298, train_accuracy=1.000] "
     ]
    },
    {
     "name": "stderr",
     "output_type": "stream",
     "text": [
      "Metric train_loss improved by 0.007 >= min_delta = 0.0. New best score: 0.003\n"
     ]
    },
    {
     "name": "stdout",
     "output_type": "stream",
     "text": [
      "Epoch 13: 100%|██████████| 4/4 [00:00<00:00,  9.65it/s, loss=0.0344, v_num=0, train_loss=0.00298, train_accuracy=1.000]"
     ]
    },
    {
     "name": "stderr",
     "output_type": "stream",
     "text": [
      "[2025-01-03 15:34:42] INFO (torcheeg/MainThread) \n",
      "[Train] train_loss: 0.004 train_accuracy: 1.000 \n",
      "\n"
     ]
    },
    {
     "name": "stdout",
     "output_type": "stream",
     "text": [
      "Epoch 14: 100%|██████████| 4/4 [00:00<00:00,  9.75it/s, loss=0.0242, v_num=0, train_loss=0.00296, train_accuracy=1.000]"
     ]
    },
    {
     "name": "stderr",
     "output_type": "stream",
     "text": [
      "Metric train_loss improved by 0.000 >= min_delta = 0.0. New best score: 0.003\n"
     ]
    },
    {
     "name": "stdout",
     "output_type": "stream",
     "text": [
      "Epoch 14: 100%|██████████| 4/4 [00:00<00:00,  9.71it/s, loss=0.0242, v_num=0, train_loss=0.00296, train_accuracy=1.000]"
     ]
    },
    {
     "name": "stderr",
     "output_type": "stream",
     "text": [
      "[2025-01-03 15:34:45] INFO (torcheeg/MainThread) \n",
      "[Train] train_loss: 0.004 train_accuracy: 1.000 \n",
      "\n"
     ]
    },
    {
     "name": "stdout",
     "output_type": "stream",
     "text": [
      "Epoch 15: 100%|██████████| 4/4 [00:00<00:00,  9.60it/s, loss=0.0231, v_num=0, train_loss=0.00258, train_accuracy=1.000] "
     ]
    },
    {
     "name": "stderr",
     "output_type": "stream",
     "text": [
      "Metric train_loss improved by 0.000 >= min_delta = 0.0. New best score: 0.003\n"
     ]
    },
    {
     "name": "stdout",
     "output_type": "stream",
     "text": [
      "Epoch 15: 100%|██████████| 4/4 [00:00<00:00,  9.54it/s, loss=0.0231, v_num=0, train_loss=0.00258, train_accuracy=1.000]"
     ]
    },
    {
     "name": "stderr",
     "output_type": "stream",
     "text": [
      "[2025-01-03 15:34:49] INFO (torcheeg/MainThread) \n",
      "[Train] train_loss: 0.063 train_accuracy: 0.977 \n",
      "\n"
     ]
    },
    {
     "name": "stdout",
     "output_type": "stream",
     "text": [
      "Epoch 16: 100%|██████████| 4/4 [00:00<00:00,  9.62it/s, loss=0.0342, v_num=0, train_loss=0.172, train_accuracy=0.938]  "
     ]
    },
    {
     "name": "stderr",
     "output_type": "stream",
     "text": [
      "[2025-01-03 15:34:53] INFO (torcheeg/MainThread) \n",
      "[Train] train_loss: 0.078 train_accuracy: 0.969 \n",
      "\n"
     ]
    },
    {
     "name": "stdout",
     "output_type": "stream",
     "text": [
      "Epoch 17: 100%|██████████| 4/4 [00:00<00:00,  9.75it/s, loss=0.0458, v_num=0, train_loss=0.0198, train_accuracy=1.000]  "
     ]
    },
    {
     "name": "stderr",
     "output_type": "stream",
     "text": [
      "[2025-01-03 15:34:57] INFO (torcheeg/MainThread) \n",
      "[Train] train_loss: 0.080 train_accuracy: 0.992 \n",
      "\n"
     ]
    },
    {
     "name": "stdout",
     "output_type": "stream",
     "text": [
      "Epoch 18: 100%|██████████| 4/4 [00:00<00:00,  9.58it/s, loss=0.0651, v_num=0, train_loss=0.0143, train_accuracy=1.000]"
     ]
    },
    {
     "name": "stderr",
     "output_type": "stream",
     "text": [
      "[2025-01-03 15:35:00] INFO (torcheeg/MainThread) \n",
      "[Train] train_loss: 0.100 train_accuracy: 0.977 \n",
      "\n"
     ]
    },
    {
     "name": "stdout",
     "output_type": "stream",
     "text": [
      "Epoch 19: 100%|██████████| 4/4 [00:00<00:00,  9.66it/s, loss=0.0826, v_num=0, train_loss=0.194, train_accuracy=0.938]  "
     ]
    },
    {
     "name": "stderr",
     "output_type": "stream",
     "text": [
      "[2025-01-03 15:35:04] INFO (torcheeg/MainThread) \n",
      "[Train] train_loss: 0.091 train_accuracy: 0.953 \n",
      "\n"
     ]
    },
    {
     "name": "stdout",
     "output_type": "stream",
     "text": [
      "Epoch 20: 100%|██████████| 4/4 [00:00<00:00,  9.82it/s, loss=0.0871, v_num=0, train_loss=0.0182, train_accuracy=1.000]"
     ]
    },
    {
     "name": "stderr",
     "output_type": "stream",
     "text": [
      "[2025-01-03 15:35:08] INFO (torcheeg/MainThread) \n",
      "[Train] train_loss: 0.086 train_accuracy: 0.977 \n",
      "\n"
     ]
    },
    {
     "name": "stdout",
     "output_type": "stream",
     "text": [
      "Epoch 21: 100%|██████████| 4/4 [00:00<00:00,  9.73it/s, loss=0.089, v_num=0, train_loss=0.208, train_accuracy=0.906]   "
     ]
    },
    {
     "name": "stderr",
     "output_type": "stream",
     "text": [
      "[2025-01-03 15:35:12] INFO (torcheeg/MainThread) \n",
      "[Train] train_loss: 0.088 train_accuracy: 0.961 \n",
      "\n"
     ]
    },
    {
     "name": "stdout",
     "output_type": "stream",
     "text": [
      "Epoch 22: 100%|██████████| 4/4 [00:00<00:00,  9.66it/s, loss=0.0734, v_num=0, train_loss=0.00297, train_accuracy=1.000] "
     ]
    },
    {
     "name": "stderr",
     "output_type": "stream",
     "text": [
      "[2025-01-03 15:35:16] INFO (torcheeg/MainThread) \n",
      "[Train] train_loss: 0.002 train_accuracy: 1.000 \n",
      "\n"
     ]
    },
    {
     "name": "stdout",
     "output_type": "stream",
     "text": [
      "Epoch 23: 100%|██████████| 4/4 [00:00<00:00,  9.71it/s, loss=0.0552, v_num=0, train_loss=0.00219, train_accuracy=1.000] "
     ]
    },
    {
     "name": "stderr",
     "output_type": "stream",
     "text": [
      "Metric train_loss improved by 0.000 >= min_delta = 0.0. New best score: 0.002\n"
     ]
    },
    {
     "name": "stdout",
     "output_type": "stream",
     "text": [
      "Epoch 23: 100%|██████████| 4/4 [00:00<00:00,  9.67it/s, loss=0.0552, v_num=0, train_loss=0.00219, train_accuracy=1.000]"
     ]
    },
    {
     "name": "stderr",
     "output_type": "stream",
     "text": [
      "[2025-01-03 15:35:19] INFO (torcheeg/MainThread) \n",
      "[Train] train_loss: 0.009 train_accuracy: 1.000 \n",
      "\n"
     ]
    },
    {
     "name": "stdout",
     "output_type": "stream",
     "text": [
      "Epoch 24: 100%|██████████| 4/4 [00:00<00:00,  9.69it/s, loss=0.0372, v_num=0, train_loss=0.000202, train_accuracy=1.000]"
     ]
    },
    {
     "name": "stderr",
     "output_type": "stream",
     "text": [
      "Metric train_loss improved by 0.002 >= min_delta = 0.0. New best score: 0.000\n"
     ]
    },
    {
     "name": "stdout",
     "output_type": "stream",
     "text": [
      "Epoch 24: 100%|██████████| 4/4 [00:00<00:00,  9.64it/s, loss=0.0372, v_num=0, train_loss=0.000202, train_accuracy=1.000]"
     ]
    },
    {
     "name": "stderr",
     "output_type": "stream",
     "text": [
      "[2025-01-03 15:35:23] INFO (torcheeg/MainThread) \n",
      "[Train] train_loss: 0.002 train_accuracy: 1.000 \n",
      "\n"
     ]
    },
    {
     "name": "stdout",
     "output_type": "stream",
     "text": [
      "Epoch 25: 100%|██████████| 4/4 [00:00<00:00,  9.55it/s, loss=0.0228, v_num=0, train_loss=0.0306, train_accuracy=0.969]  "
     ]
    },
    {
     "name": "stderr",
     "output_type": "stream",
     "text": [
      "[2025-01-03 15:35:27] INFO (torcheeg/MainThread) \n",
      "[Train] train_loss: 0.013 train_accuracy: 0.992 \n",
      "\n"
     ]
    },
    {
     "name": "stdout",
     "output_type": "stream",
     "text": [
      "Epoch 26: 100%|██████████| 4/4 [00:00<00:00,  9.61it/s, loss=0.0219, v_num=0, train_loss=0.332, train_accuracy=0.938]   "
     ]
    },
    {
     "name": "stderr",
     "output_type": "stream",
     "text": [
      "[2025-01-03 15:35:31] INFO (torcheeg/MainThread) \n",
      "[Train] train_loss: 0.083 train_accuracy: 0.984 \n",
      "\n"
     ]
    },
    {
     "name": "stdout",
     "output_type": "stream",
     "text": [
      "Epoch 27: 100%|██████████| 4/4 [00:00<00:00,  9.47it/s, loss=0.023, v_num=0, train_loss=0.0106, train_accuracy=1.000]   "
     ]
    },
    {
     "name": "stderr",
     "output_type": "stream",
     "text": [
      "[2025-01-03 15:35:35] INFO (torcheeg/MainThread) \n",
      "[Train] train_loss: 0.007 train_accuracy: 1.000 \n",
      "\n"
     ]
    },
    {
     "name": "stdout",
     "output_type": "stream",
     "text": [
      "Epoch 28: 100%|██████████| 4/4 [00:00<00:00,  9.77it/s, loss=0.0258, v_num=0, train_loss=0.00202, train_accuracy=1.000]"
     ]
    },
    {
     "name": "stderr",
     "output_type": "stream",
     "text": [
      "[2025-01-03 15:35:38] INFO (torcheeg/MainThread) \n",
      "[Train] train_loss: 0.023 train_accuracy: 0.992 \n",
      "\n"
     ]
    },
    {
     "name": "stdout",
     "output_type": "stream",
     "text": [
      "Epoch 29: 100%|██████████| 4/4 [00:00<00:00,  9.77it/s, loss=0.0343, v_num=0, train_loss=0.162, train_accuracy=0.969]   "
     ]
    },
    {
     "name": "stderr",
     "output_type": "stream",
     "text": [
      "[2025-01-03 15:35:42] INFO (torcheeg/MainThread) \n",
      "[Train] train_loss: 0.044 train_accuracy: 0.992 \n",
      "\n"
     ]
    },
    {
     "name": "stdout",
     "output_type": "stream",
     "text": [
      "Epoch 30: 100%|██████████| 4/4 [00:00<00:00,  9.60it/s, loss=0.0321, v_num=0, train_loss=0.000583, train_accuracy=1.000]"
     ]
    },
    {
     "name": "stderr",
     "output_type": "stream",
     "text": [
      "[2025-01-03 15:35:46] INFO (torcheeg/MainThread) \n",
      "[Train] train_loss: 0.002 train_accuracy: 1.000 \n",
      "\n"
     ]
    },
    {
     "name": "stdout",
     "output_type": "stream",
     "text": [
      "Epoch 31: 100%|██████████| 4/4 [00:00<00:00,  9.58it/s, loss=0.0212, v_num=0, train_loss=0.00128, train_accuracy=1.000] "
     ]
    },
    {
     "name": "stderr",
     "output_type": "stream",
     "text": [
      "[2025-01-03 15:35:50] INFO (torcheeg/MainThread) \n",
      "[Train] train_loss: 0.029 train_accuracy: 0.992 \n",
      "\n"
     ]
    },
    {
     "name": "stdout",
     "output_type": "stream",
     "text": [
      "Epoch 32: 100%|██████████| 4/4 [00:00<00:00,  9.67it/s, loss=0.021, v_num=0, train_loss=0.000942, train_accuracy=1.000]"
     ]
    },
    {
     "name": "stderr",
     "output_type": "stream",
     "text": [
      "Monitored metric train_loss did not improve in the last 8 records. Best score: 0.000. Signaling Trainer to stop.\n"
     ]
    },
    {
     "name": "stdout",
     "output_type": "stream",
     "text": [
      "Epoch 32: 100%|██████████| 4/4 [00:00<00:00,  9.63it/s, loss=0.021, v_num=0, train_loss=0.000942, train_accuracy=1.000]"
     ]
    },
    {
     "name": "stderr",
     "output_type": "stream",
     "text": [
      "[2025-01-03 15:35:54] INFO (torcheeg/MainThread) \n",
      "[Train] train_loss: 0.006 train_accuracy: 1.000 \n",
      "\n"
     ]
    },
    {
     "name": "stdout",
     "output_type": "stream",
     "text": [
      "Epoch 32: 100%|██████████| 4/4 [00:03<00:00,  1.04it/s, loss=0.021, v_num=0, train_loss=0.000942, train_accuracy=1.000]\n"
     ]
    },
    {
     "name": "stderr",
     "output_type": "stream",
     "text": [
      "GPU available: True (cuda), used: True\n",
      "TPU available: False, using: 0 TPU cores\n",
      "IPU available: False, using: 0 IPUs\n",
      "HPU available: False, using: 0 HPUs\n",
      "LOCAL_RANK: 0 - CUDA_VISIBLE_DEVICES: [0]\n",
      "/root/autodl-tmp/conda/envs/law/lib/python3.8/site-packages/pytorch_lightning/trainer/connectors/data_connector.py:224: PossibleUserWarning: The dataloader, test_dataloader 0, does not have many workers which may be a bottleneck. Consider increasing the value of the `num_workers` argument` (try 128 which is the number of cpus on this machine) in the `DataLoader` init to improve performance.\n",
      "  rank_zero_warn(\n"
     ]
    },
    {
     "name": "stdout",
     "output_type": "stream",
     "text": [
      "Testing DataLoader 0: 100%|██████████| 1/1 [00:00<00:00, 43.86it/s]"
     ]
    },
    {
     "name": "stderr",
     "output_type": "stream",
     "text": [
      "[2025-01-03 15:35:55] INFO (torcheeg/MainThread) \n",
      "[Test] test_loss: 1.607 test_accuracy: 0.719 \n",
      "\n"
     ]
    },
    {
     "name": "stdout",
     "output_type": "stream",
     "text": [
      "Testing DataLoader 0: 100%|██████████| 1/1 [00:00<00:00, 34.15it/s]\n",
      "────────────────────────────────────────────────────────────────────────────────────────────────────────────────────────\n",
      "       Test metric             DataLoader 0\n",
      "────────────────────────────────────────────────────────────────────────────────────────────────────────────────────────\n",
      "      test_accuracy               0.71875\n",
      "        test_loss           1.6070727109909058\n",
      "────────────────────────────────────────────────────────────────────────────────────────────────────────────────────────\n",
      "已删除文件夹: /root/autodl-tmp/.autodl/kinlaw/mi_swin/lightning_logs\n"
     ]
    },
    {
     "name": "stderr",
     "output_type": "stream",
     "text": [
      "GPU available: True (cuda), used: True\n",
      "TPU available: False, using: 0 TPU cores\n",
      "IPU available: False, using: 0 IPUs\n",
      "HPU available: False, using: 0 HPUs\n",
      "Missing logger folder: /root/autodl-tmp/.autodl/kinlaw/mi_swin/lightning_logs\n",
      "LOCAL_RANK: 0 - CUDA_VISIBLE_DEVICES: [0]\n",
      "/root/autodl-tmp/conda/envs/law/lib/python3.8/site-packages/pytorch_lightning/trainer/connectors/data_connector.py:224: PossibleUserWarning: The dataloader, train_dataloader, does not have many workers which may be a bottleneck. Consider increasing the value of the `num_workers` argument` (try 128 which is the number of cpus on this machine) in the `DataLoader` init to improve performance.\n",
      "  rank_zero_warn(\n",
      "/root/autodl-tmp/conda/envs/law/lib/python3.8/site-packages/pytorch_lightning/trainer/trainer.py:1609: PossibleUserWarning: The number of training batches (4) is smaller than the logging interval Trainer(log_every_n_steps=50). Set a lower value for log_every_n_steps if you want to see logs for the training epoch.\n",
      "  rank_zero_warn(\n"
     ]
    },
    {
     "name": "stdout",
     "output_type": "stream",
     "text": [
      "Epoch 0: 100%|██████████| 4/4 [00:00<00:00,  9.54it/s, loss=2.34, v_num=0, train_loss=3.440, train_accuracy=0.406] "
     ]
    },
    {
     "name": "stderr",
     "output_type": "stream",
     "text": [
      "Metric train_loss improved. New best score: 3.438\n"
     ]
    },
    {
     "name": "stdout",
     "output_type": "stream",
     "text": [
      "Epoch 0: 100%|██████████| 4/4 [00:00<00:00,  9.50it/s, loss=2.34, v_num=0, train_loss=3.440, train_accuracy=0.406]"
     ]
    },
    {
     "name": "stderr",
     "output_type": "stream",
     "text": [
      "[2025-01-03 15:36:01] INFO (torcheeg/MainThread) \n",
      "[Train] train_loss: 2.341 train_accuracy: 0.484 \n",
      "\n"
     ]
    },
    {
     "name": "stdout",
     "output_type": "stream",
     "text": [
      "Epoch 1: 100%|██████████| 4/4 [00:00<00:00,  9.79it/s, loss=1.9, v_num=0, train_loss=1.930, train_accuracy=0.438] "
     ]
    },
    {
     "name": "stderr",
     "output_type": "stream",
     "text": [
      "Metric train_loss improved by 1.503 >= min_delta = 0.0. New best score: 1.935\n"
     ]
    },
    {
     "name": "stdout",
     "output_type": "stream",
     "text": [
      "Epoch 1: 100%|██████████| 4/4 [00:00<00:00,  9.76it/s, loss=1.9, v_num=0, train_loss=1.930, train_accuracy=0.438]"
     ]
    },
    {
     "name": "stderr",
     "output_type": "stream",
     "text": [
      "[2025-01-03 15:36:04] INFO (torcheeg/MainThread) \n",
      "[Train] train_loss: 1.465 train_accuracy: 0.562 \n",
      "\n"
     ]
    },
    {
     "name": "stdout",
     "output_type": "stream",
     "text": [
      "Epoch 2: 100%|██████████| 4/4 [00:00<00:00,  9.80it/s, loss=1.58, v_num=0, train_loss=0.750, train_accuracy=0.562]"
     ]
    },
    {
     "name": "stderr",
     "output_type": "stream",
     "text": [
      "Metric train_loss improved by 1.185 >= min_delta = 0.0. New best score: 0.750\n"
     ]
    },
    {
     "name": "stdout",
     "output_type": "stream",
     "text": [
      "Epoch 2: 100%|██████████| 4/4 [00:00<00:00,  9.75it/s, loss=1.58, v_num=0, train_loss=0.750, train_accuracy=0.562]"
     ]
    },
    {
     "name": "stderr",
     "output_type": "stream",
     "text": [
      "[2025-01-03 15:36:08] INFO (torcheeg/MainThread) \n",
      "[Train] train_loss: 0.944 train_accuracy: 0.617 \n",
      "\n"
     ]
    },
    {
     "name": "stdout",
     "output_type": "stream",
     "text": [
      "Epoch 3: 100%|██████████| 4/4 [00:00<00:00,  6.29it/s, loss=1.31, v_num=0, train_loss=0.480, train_accuracy=0.812]"
     ]
    },
    {
     "name": "stderr",
     "output_type": "stream",
     "text": [
      "Metric train_loss improved by 0.270 >= min_delta = 0.0. New best score: 0.480\n"
     ]
    },
    {
     "name": "stdout",
     "output_type": "stream",
     "text": [
      "Epoch 3: 100%|██████████| 4/4 [00:00<00:00,  6.18it/s, loss=1.31, v_num=0, train_loss=0.480, train_accuracy=0.812]"
     ]
    },
    {
     "name": "stderr",
     "output_type": "stream",
     "text": [
      "[2025-01-03 15:36:13] INFO (torcheeg/MainThread) \n",
      "[Train] train_loss: 0.494 train_accuracy: 0.766 \n",
      "\n"
     ]
    },
    {
     "name": "stdout",
     "output_type": "stream",
     "text": [
      "Epoch 4: 100%|██████████| 4/4 [00:00<00:00,  6.09it/s, loss=1.13, v_num=0, train_loss=0.415, train_accuracy=0.719]"
     ]
    },
    {
     "name": "stderr",
     "output_type": "stream",
     "text": [
      "Metric train_loss improved by 0.065 >= min_delta = 0.0. New best score: 0.415\n"
     ]
    },
    {
     "name": "stdout",
     "output_type": "stream",
     "text": [
      "Epoch 4: 100%|██████████| 4/4 [00:00<00:00,  6.06it/s, loss=1.13, v_num=0, train_loss=0.415, train_accuracy=0.719]"
     ]
    },
    {
     "name": "stderr",
     "output_type": "stream",
     "text": [
      "[2025-01-03 15:36:17] INFO (torcheeg/MainThread) \n",
      "[Train] train_loss: 0.422 train_accuracy: 0.789 \n",
      "\n"
     ]
    },
    {
     "name": "stdout",
     "output_type": "stream",
     "text": [
      "Epoch 5: 100%|██████████| 4/4 [00:00<00:00,  7.15it/s, loss=0.728, v_num=0, train_loss=0.403, train_accuracy=0.875]"
     ]
    },
    {
     "name": "stderr",
     "output_type": "stream",
     "text": [
      "Metric train_loss improved by 0.011 >= min_delta = 0.0. New best score: 0.403\n"
     ]
    },
    {
     "name": "stdout",
     "output_type": "stream",
     "text": [
      "Epoch 5: 100%|██████████| 4/4 [00:00<00:00,  7.13it/s, loss=0.728, v_num=0, train_loss=0.403, train_accuracy=0.875]"
     ]
    },
    {
     "name": "stderr",
     "output_type": "stream",
     "text": [
      "[2025-01-03 15:36:21] INFO (torcheeg/MainThread) \n",
      "[Train] train_loss: 0.317 train_accuracy: 0.875 \n",
      "\n"
     ]
    },
    {
     "name": "stdout",
     "output_type": "stream",
     "text": [
      "Epoch 6: 100%|██████████| 4/4 [00:00<00:00,  6.06it/s, loss=0.481, v_num=0, train_loss=0.244, train_accuracy=0.938]"
     ]
    },
    {
     "name": "stderr",
     "output_type": "stream",
     "text": [
      "Metric train_loss improved by 0.159 >= min_delta = 0.0. New best score: 0.244\n"
     ]
    },
    {
     "name": "stdout",
     "output_type": "stream",
     "text": [
      "Epoch 6: 100%|██████████| 4/4 [00:00<00:00,  5.98it/s, loss=0.481, v_num=0, train_loss=0.244, train_accuracy=0.938]"
     ]
    },
    {
     "name": "stderr",
     "output_type": "stream",
     "text": [
      "[2025-01-03 15:36:25] INFO (torcheeg/MainThread) \n",
      "[Train] train_loss: 0.227 train_accuracy: 0.891 \n",
      "\n"
     ]
    },
    {
     "name": "stdout",
     "output_type": "stream",
     "text": [
      "Epoch 7: 100%|██████████| 4/4 [00:00<00:00,  6.10it/s, loss=0.33, v_num=0, train_loss=0.241, train_accuracy=0.938] "
     ]
    },
    {
     "name": "stderr",
     "output_type": "stream",
     "text": [
      "Metric train_loss improved by 0.003 >= min_delta = 0.0. New best score: 0.241\n"
     ]
    },
    {
     "name": "stdout",
     "output_type": "stream",
     "text": [
      "Epoch 7: 100%|██████████| 4/4 [00:00<00:00,  6.00it/s, loss=0.33, v_num=0, train_loss=0.241, train_accuracy=0.938]"
     ]
    },
    {
     "name": "stderr",
     "output_type": "stream",
     "text": [
      "[2025-01-03 15:36:29] INFO (torcheeg/MainThread) \n",
      "[Train] train_loss: 0.190 train_accuracy: 0.930 \n",
      "\n"
     ]
    },
    {
     "name": "stdout",
     "output_type": "stream",
     "text": [
      "Epoch 8: 100%|██████████| 4/4 [00:00<00:00,  6.09it/s, loss=0.254, v_num=0, train_loss=0.0219, train_accuracy=1.000]"
     ]
    },
    {
     "name": "stderr",
     "output_type": "stream",
     "text": [
      "Metric train_loss improved by 0.219 >= min_delta = 0.0. New best score: 0.022\n"
     ]
    },
    {
     "name": "stdout",
     "output_type": "stream",
     "text": [
      "Epoch 8: 100%|██████████| 4/4 [00:00<00:00,  5.98it/s, loss=0.254, v_num=0, train_loss=0.0219, train_accuracy=1.000]"
     ]
    },
    {
     "name": "stderr",
     "output_type": "stream",
     "text": [
      "[2025-01-03 15:36:33] INFO (torcheeg/MainThread) \n",
      "[Train] train_loss: 0.116 train_accuracy: 0.953 \n",
      "\n"
     ]
    },
    {
     "name": "stdout",
     "output_type": "stream",
     "text": [
      "Epoch 9: 100%|██████████| 4/4 [00:00<00:00,  6.00it/s, loss=0.212, v_num=0, train_loss=0.0139, train_accuracy=1.000]"
     ]
    },
    {
     "name": "stderr",
     "output_type": "stream",
     "text": [
      "Metric train_loss improved by 0.008 >= min_delta = 0.0. New best score: 0.014\n"
     ]
    },
    {
     "name": "stdout",
     "output_type": "stream",
     "text": [
      "Epoch 9: 100%|██████████| 4/4 [00:00<00:00,  5.99it/s, loss=0.212, v_num=0, train_loss=0.0139, train_accuracy=1.000]"
     ]
    },
    {
     "name": "stderr",
     "output_type": "stream",
     "text": [
      "[2025-01-03 15:36:37] INFO (torcheeg/MainThread) \n",
      "[Train] train_loss: 0.212 train_accuracy: 0.930 \n",
      "\n"
     ]
    },
    {
     "name": "stdout",
     "output_type": "stream",
     "text": [
      "Epoch 10: 100%|██████████| 4/4 [00:00<00:00,  6.05it/s, loss=0.19, v_num=0, train_loss=0.531, train_accuracy=0.781]  "
     ]
    },
    {
     "name": "stderr",
     "output_type": "stream",
     "text": [
      "[2025-01-03 15:36:41] INFO (torcheeg/MainThread) \n",
      "[Train] train_loss: 0.204 train_accuracy: 0.930 \n",
      "\n"
     ]
    },
    {
     "name": "stdout",
     "output_type": "stream",
     "text": [
      "Epoch 11: 100%|██████████| 4/4 [00:00<00:00,  5.95it/s, loss=0.17, v_num=0, train_loss=0.170, train_accuracy=0.875]  "
     ]
    },
    {
     "name": "stderr",
     "output_type": "stream",
     "text": [
      "[2025-01-03 15:36:45] INFO (torcheeg/MainThread) \n",
      "[Train] train_loss: 0.126 train_accuracy: 0.930 \n",
      "\n"
     ]
    },
    {
     "name": "stdout",
     "output_type": "stream",
     "text": [
      "Epoch 12: 100%|██████████| 4/4 [00:00<00:00,  9.20it/s, loss=0.163, v_num=0, train_loss=0.323, train_accuracy=0.906] "
     ]
    },
    {
     "name": "stderr",
     "output_type": "stream",
     "text": [
      "[2025-01-03 15:36:49] INFO (torcheeg/MainThread) \n",
      "[Train] train_loss: 0.158 train_accuracy: 0.945 \n",
      "\n"
     ]
    },
    {
     "name": "stdout",
     "output_type": "stream",
     "text": [
      "Epoch 13: 100%|██████████| 4/4 [00:00<00:00,  6.00it/s, loss=0.153, v_num=0, train_loss=0.136, train_accuracy=0.938] "
     ]
    },
    {
     "name": "stderr",
     "output_type": "stream",
     "text": [
      "[2025-01-03 15:36:53] INFO (torcheeg/MainThread) \n",
      "[Train] train_loss: 0.063 train_accuracy: 0.984 \n",
      "\n"
     ]
    },
    {
     "name": "stdout",
     "output_type": "stream",
     "text": [
      "Epoch 14: 100%|██████████| 4/4 [00:00<00:00,  6.07it/s, loss=0.126, v_num=0, train_loss=0.126, train_accuracy=0.906] "
     ]
    },
    {
     "name": "stderr",
     "output_type": "stream",
     "text": [
      "[2025-01-03 15:36:57] INFO (torcheeg/MainThread) \n",
      "[Train] train_loss: 0.079 train_accuracy: 0.961 \n",
      "\n"
     ]
    },
    {
     "name": "stdout",
     "output_type": "stream",
     "text": [
      "Epoch 15: 100%|██████████| 4/4 [00:00<00:00,  6.09it/s, loss=0.105, v_num=0, train_loss=0.180, train_accuracy=0.938] "
     ]
    },
    {
     "name": "stderr",
     "output_type": "stream",
     "text": [
      "[2025-01-03 15:37:01] INFO (torcheeg/MainThread) \n",
      "[Train] train_loss: 0.098 train_accuracy: 0.969 \n",
      "\n"
     ]
    },
    {
     "name": "stdout",
     "output_type": "stream",
     "text": [
      "Epoch 16: 100%|██████████| 4/4 [00:00<00:00,  6.05it/s, loss=0.0941, v_num=0, train_loss=0.023, train_accuracy=1.000]  "
     ]
    },
    {
     "name": "stderr",
     "output_type": "stream",
     "text": [
      "[2025-01-03 15:37:05] INFO (torcheeg/MainThread) \n",
      "[Train] train_loss: 0.074 train_accuracy: 0.977 \n",
      "\n"
     ]
    },
    {
     "name": "stdout",
     "output_type": "stream",
     "text": [
      "Epoch 17: 100%|██████████| 4/4 [00:00<00:00,  6.06it/s, loss=0.0774, v_num=0, train_loss=0.034, train_accuracy=1.000]  "
     ]
    },
    {
     "name": "stderr",
     "output_type": "stream",
     "text": [
      "Monitored metric train_loss did not improve in the last 8 records. Best score: 0.014. Signaling Trainer to stop.\n"
     ]
    },
    {
     "name": "stdout",
     "output_type": "stream",
     "text": [
      "Epoch 17: 100%|██████████| 4/4 [00:00<00:00,  6.04it/s, loss=0.0774, v_num=0, train_loss=0.034, train_accuracy=1.000]"
     ]
    },
    {
     "name": "stderr",
     "output_type": "stream",
     "text": [
      "[2025-01-03 15:37:09] INFO (torcheeg/MainThread) \n",
      "[Train] train_loss: 0.074 train_accuracy: 0.992 \n",
      "\n"
     ]
    },
    {
     "name": "stdout",
     "output_type": "stream",
     "text": [
      "Epoch 17: 100%|██████████| 4/4 [00:04<00:00,  1.03s/it, loss=0.0774, v_num=0, train_loss=0.034, train_accuracy=1.000]\n"
     ]
    },
    {
     "name": "stderr",
     "output_type": "stream",
     "text": [
      "GPU available: True (cuda), used: True\n",
      "TPU available: False, using: 0 TPU cores\n",
      "IPU available: False, using: 0 IPUs\n",
      "HPU available: False, using: 0 HPUs\n",
      "LOCAL_RANK: 0 - CUDA_VISIBLE_DEVICES: [0]\n",
      "/root/autodl-tmp/conda/envs/law/lib/python3.8/site-packages/pytorch_lightning/trainer/connectors/data_connector.py:224: PossibleUserWarning: The dataloader, test_dataloader 0, does not have many workers which may be a bottleneck. Consider increasing the value of the `num_workers` argument` (try 128 which is the number of cpus on this machine) in the `DataLoader` init to improve performance.\n",
      "  rank_zero_warn(\n"
     ]
    },
    {
     "name": "stdout",
     "output_type": "stream",
     "text": [
      "Testing DataLoader 0: 100%|██████████| 1/1 [00:00<00:00, 23.20it/s]"
     ]
    },
    {
     "name": "stderr",
     "output_type": "stream",
     "text": [
      "[2025-01-03 15:37:11] INFO (torcheeg/MainThread) \n",
      "[Test] test_loss: 1.433 test_accuracy: 0.688 \n",
      "\n"
     ]
    },
    {
     "name": "stdout",
     "output_type": "stream",
     "text": [
      "Testing DataLoader 0: 100%|██████████| 1/1 [00:00<00:00, 20.06it/s]\n",
      "────────────────────────────────────────────────────────────────────────────────────────────────────────────────────────\n",
      "       Test metric             DataLoader 0\n",
      "────────────────────────────────────────────────────────────────────────────────────────────────────────────────────────\n",
      "      test_accuracy               0.6875\n",
      "        test_loss           1.4330204725265503\n",
      "────────────────────────────────────────────────────────────────────────────────────────────────────────────────────────\n",
      "{'test_metric_avg': 0.675, 'test_metric_std': 0.07288689868556626}\n"
     ]
    }
   ],
   "source": [
    "from torcheeg.model_selection import KFoldPerSubject\n",
    "from pytorch_lightning.callbacks import ModelCheckpoint, EarlyStopping\n",
    "from torch.utils.data import DataLoader\n",
    "from model import SwinTransformer\n",
    "from torcheeg.trainers import ClassifierTrainer\n",
    "\n",
    "k_fold = KFoldPerSubject(\n",
    "    n_splits=5,\n",
    "    shuffle=True,\n",
    "    random_state=42)\n",
    "\n",
    "training_metrics = []\n",
    "test_metrics = []\n",
    "\n",
    "for i, (training_dataset, test_dataset) in enumerate(k_fold.split(dataset)):\n",
    "    delete_folder_if_exists(target_folder_name='lightning_logs')\n",
    "    model = ECASwinTransformerModel(num_channels=30)\n",
    "    trainer = ClassifierTrainer(model=model,\n",
    "                                num_classes=2,\n",
    "                                lr=HYPERPARAMETERS['lr'],\n",
    "                                weight_decay=HYPERPARAMETERS['weight_decay'],\n",
    "                                metrics=[\"accuracy\"],\n",
    "                                accelerator=\"gpu\")\n",
    "    \n",
    "    training_loader = DataLoader(training_dataset,\n",
    "                             batch_size=HYPERPARAMETERS['batch_size'],\n",
    "                             shuffle=True)\n",
    "    test_loader = DataLoader(test_dataset,\n",
    "                             batch_size=HYPERPARAMETERS['batch_size'],\n",
    "                             shuffle=False)\n",
    "    # 提前停止回调\n",
    "    early_stopping_callback = EarlyStopping(\n",
    "        monitor='train_loss',\n",
    "        patience=8, \n",
    "        mode='min',\n",
    "        verbose=True\n",
    "    )\n",
    "    \n",
    "    trainer.fit(training_loader,\n",
    "                test_loader,\n",
    "                max_epochs=HYPERPARAMETERS['num_epochs'],\n",
    "                callbacks=[early_stopping_callback],\n",
    "                enable_progress_bar=True,\n",
    "                enable_model_summary=False,\n",
    "                limit_val_batches=0.0)\n",
    "    # training_result = trainer.test(training_loader,\n",
    "    #                                enable_progress_bar=True,\n",
    "    #                                enable_model_summary=True)[0]\n",
    "    test_result = trainer.test(test_loader,\n",
    "                               enable_progress_bar=True,\n",
    "                               enable_model_summary=True)[0]\n",
    "    # training_metrics.append(training_result[\"test_accuracy\"])\n",
    "    test_metrics.append(test_result[\"test_accuracy\"])\n",
    "     \n",
    "print({\n",
    "    # \"training_metric_avg\": np.mean(training_metrics),\n",
    "    # \"training_metric_std\": np.std(training_metrics),\n",
    "    \"test_metric_avg\": np.mean(test_metrics),\n",
    "    \"test_metric_std\": np.std(test_metrics)\n",
    "})"
   ]
  },
  {
   "cell_type": "code",
   "execution_count": 6,
   "metadata": {},
   "outputs": [
    {
     "name": "stdout",
     "output_type": "stream",
     "text": [
      "0 0.59375\n",
      "1 0.59375\n",
      "2 0.78125\n",
      "3 0.71875\n",
      "4 0.6875\n"
     ]
    }
   ],
   "source": [
    "for i, score in enumerate(test_metrics):\n",
    "    print(i,score)"
   ]
  },
  {
   "cell_type": "code",
   "execution_count": 7,
   "metadata": {},
   "outputs": [
    {
     "name": "stdout",
     "output_type": "stream",
     "text": [
      "{'len': 5, 'test_metric_avg': 0.675, 'test_metric_std': 0.07288689868556626}\n"
     ]
    }
   ],
   "source": [
    "import numpy as np\n",
    "print({\n",
    "    # \"training_metric_avg\": np.mean(training_metrics),\n",
    "    # \"training_metric_std\": np.std(training_metrics),\n",
    "    \"len\": len(test_metrics),\n",
    "    \"test_metric_avg\": np.mean(test_metrics),\n",
    "    \"test_metric_std\": np.std(test_metrics)\n",
    "})"
   ]
  }
 ],
 "metadata": {
  "kernelspec": {
   "display_name": "law",
   "language": "python",
   "name": "python3"
  },
  "language_info": {
   "codemirror_mode": {
    "name": "ipython",
    "version": 3
   },
   "file_extension": ".py",
   "mimetype": "text/x-python",
   "name": "python",
   "nbconvert_exporter": "python",
   "pygments_lexer": "ipython3",
   "version": "3.8.0"
  }
 },
 "nbformat": 4,
 "nbformat_minor": 2
}
