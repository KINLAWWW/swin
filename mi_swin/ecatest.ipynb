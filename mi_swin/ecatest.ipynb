{
 "cells": [
  {
   "cell_type": "code",
   "execution_count": 21,
   "metadata": {},
   "outputs": [],
   "source": [
    "import torch\n",
    "import torch.nn as nn\n",
    "import torch.nn.functional as F\n",
    "import torch.utils.checkpoint as checkpoint\n",
    "import numpy as np\n",
    "from typing import Optional"
   ]
  },
  {
   "cell_type": "code",
   "execution_count": 22,
   "metadata": {},
   "outputs": [],
   "source": [
    "def drop_path_f(x, drop_prob: float = 0., training: bool = False):\n",
    "\n",
    "    if drop_prob == 0. or not training:\n",
    "        return x\n",
    "    keep_prob = 1 - drop_prob\n",
    "    shape = (x.shape[0],) + (1,) * (x.ndim - 1)  # work with diff dim tensors, not just 2D ConvNets\n",
    "    random_tensor = keep_prob + torch.rand(shape, dtype=x.dtype, device=x.device)\n",
    "    random_tensor.floor_()  # binarize\n",
    "    output = x.div(keep_prob) * random_tensor\n",
    "    return output"
   ]
  },
  {
   "cell_type": "code",
   "execution_count": 23,
   "metadata": {},
   "outputs": [],
   "source": [
    "class DropPath(nn.Module):\n",
    "\n",
    "    def __init__(self, drop_prob=None):\n",
    "        super(DropPath, self).__init__()\n",
    "        self.drop_prob = drop_prob\n",
    "\n",
    "    def forward(self, x):\n",
    "        return drop_path_f(x, self.drop_prob, self.training)"
   ]
  },
  {
   "cell_type": "code",
   "execution_count": 24,
   "metadata": {},
   "outputs": [],
   "source": [
    "def window_partition(x, window_size: int):\n",
    "    B, H, W, C = x.shape\n",
    "    # x = x.view(B, H // window_size, window_size, W // window_size, window_size, C)\n",
    "    x = x.view(B, H, W // window_size, window_size, C)  # [B, H, W//Mh, Mw, C]\n",
    "    # permute: [B, H//Mh, Mh, W//Mw, Mw, C] -> [B, H//Mh, W//Mh, Mw, Mw, C]\n",
    "    # view: [B, H//Mh, W//Mw, Mh, Mw, C] -> [B*num_windows, Mh, Mw, C]\n",
    "    # windows = x.permute(0, 1, 3, 2, 4, 5).contiguous().view(-1, window_size, window_size, C)\n",
    "    windows = x.permute(0, 2, 1, 3, 4).contiguous().view(-1, window_size, C)\n",
    "    return windows\n",
    "\n",
    "\n",
    "def window_reverse(windows, window_size: int, H: int, W: int):\n",
    "    # B = int(windows.shape[0] / (H * W / window_size / window_size))\n",
    "    B = int(windows.shape[0] / (H * W / window_size))\n",
    "    # view: [B*num_windows, Mh, Mw, C] -> [B, H//Mh, W//Mw, Mh, Mw, C]\n",
    "    x = windows.view(B, H, W // window_size, window_size, -1)\n",
    "    # permute: [B, H//Mh, W//Mw, Mh, Mw, C] -> [B, H//Mh, Mh, W//Mw, Mw, C]\n",
    "    # view: [B, H//Mh, Mh, W//Mw, Mw, C] -> [B, H, W, C]\n",
    "    # x = x.permute(0, 1, 3, 2, 4, 5).contiguous().view(B, H, W, -1)\n",
    "    x = x.view(B, H, W, -1)\n",
    "\n",
    "    return x"
   ]
  },
  {
   "cell_type": "code",
   "execution_count": 34,
   "metadata": {},
   "outputs": [
    {
     "name": "stdout",
     "output_type": "stream",
     "text": [
      "torch.Size([625, 4, 30])\n",
      "torch.Size([5, 1, 500, 30])\n"
     ]
    }
   ],
   "source": [
    "data = torch.randn(5,1,500,30)\n",
    "ws = window_partition(data, window_size=4)\n",
    "print(ws.shape)\n",
    "x = window_reverse(windows=ws, window_size=4, H=1, W=500)\n",
    "print(x.shape)"
   ]
  },
  {
   "cell_type": "code",
   "execution_count": 58,
   "metadata": {},
   "outputs": [],
   "source": [
    "class PatchEmbed(nn.Module):\n",
    "    def __init__(self, patch_size=4, in_c=30, embed_dim=96, norm_layer=None):\n",
    "        super().__init__()\n",
    "        patch_size = (1, patch_size)  # 假设我们对单通道（时间序列）数据进行处理\n",
    "        self.patch_size = patch_size\n",
    "        self.in_chans = in_c\n",
    "        self.embed_dim = embed_dim\n",
    "        self.proj = nn.Conv2d(in_c, embed_dim, kernel_size=patch_size, stride=patch_size[1])\n",
    "        self.norm = norm_layer(embed_dim) if norm_layer else nn.Identity()\n",
    "\n",
    "    def forward(self, x):\n",
    "        _, _, H, W = x.shape\n",
    "        pad_input = (W % self.patch_size[1] != 0)\n",
    "        if pad_input:\n",
    "            x = F.pad(x, (0, self.patch_size[1] - W % self.patch_size[1],\n",
    "                          0, 0,\n",
    "                          0, 0))\n",
    "\n",
    "        x = x.float()\n",
    "        x = self.proj(x)  # 使用卷积操作将每个patch映射到嵌入空间\n",
    "        _, _, H, W = x.shape\n",
    "        print(x.shape)\n",
    "        x = x.flatten(2).transpose(1, 2)\n",
    "        print(x.shape)\n",
    "        x = self.norm(x)\n",
    "        return x, H, W\n"
   ]
  },
  {
   "cell_type": "markdown",
   "metadata": {},
   "source": [
    "input：(Batch_nums, in_chans, 1, time_datas) (batch, 30, 1, 500)\n",
    "output: (Batch_nums, patch_nums, embed_dim)  (batch, 125, 96) # 每个patch包含通道信息和时间信息"
   ]
  },
  {
   "cell_type": "code",
   "execution_count": 60,
   "metadata": {},
   "outputs": [
    {
     "name": "stdout",
     "output_type": "stream",
     "text": [
      "torch.Size([10, 96, 1, 125])\n",
      "torch.Size([10, 125, 96])\n",
      "torch.Size([10, 125, 96])\n"
     ]
    }
   ],
   "source": [
    "PE = PatchEmbed()\n",
    "data = torch.randn(10, 30, 1, 500)\n",
    "outdata = PE(data)\n",
    "print(outdata[0].shape)"
   ]
  },
  {
   "cell_type": "code",
   "execution_count": 63,
   "metadata": {},
   "outputs": [],
   "source": [
    "class PatchMerging(nn.Module):\n",
    " \n",
    "    def __init__(self, dim, norm_layer=nn.LayerNorm):\n",
    "        super().__init__()\n",
    "        self.dim = dim\n",
    "        self.reduction = nn.Linear(2 * dim, 2 * dim, bias=False)\n",
    "        self.norm = norm_layer(2 * dim)\n",
    "\n",
    "    def forward(self, x, H=1, W=125):\n",
    "        \"\"\"\n",
    "        x: B, H*W, C\n",
    "        \"\"\"\n",
    "        B, L, C = x.shape\n",
    "        assert L == H * W, \"input feature has wrong size\"\n",
    "\n",
    "        x = x.view(B, H, W, C)\n",
    "\n",
    "        pad_input = (W % 2 == 1)\n",
    "        if pad_input:\n",
    "              x = F.pad(x, (0, 0, 0, W % 2, 0, 0))\n",
    "\n",
    "        x0 = x[:, :, 0::2, :]  # [B, H, W/2, C]\n",
    "        x1 = x[:, :, 1::2, :]  # [B, H, W/2, C]\n",
    "        print(x1.shape)\n",
    "        x = torch.cat([x0, x1], -1)  # [B, H, W/2, 2*C]\n",
    "        print(x.shape)\n",
    "        x = x.view(B, -1, 2 * C)  # [B, H/2*W/2, 2*C]\n",
    "        # print(x[0][0][1:10])\n",
    "        x = self.norm(x)\n",
    "        # print(x[0][0][1:10])\n",
    "        x = self.reduction(x)  # [B, H*W/2, 2*C]\n",
    "        # print(x[0][0][1:10])\n",
    "        return x"
   ]
  },
  {
   "cell_type": "markdown",
   "metadata": {},
   "source": [
    "PatchMerging 将相邻patch在channel维度上合并。结果是patch减半，特征维度翻倍"
   ]
  },
  {
   "cell_type": "code",
   "execution_count": 64,
   "metadata": {},
   "outputs": [
    {
     "name": "stdout",
     "output_type": "stream",
     "text": [
      "torch.Size([10, 1, 63, 96])\n",
      "torch.Size([10, 1, 63, 192])\n",
      "torch.Size([10, 63, 192])\n"
     ]
    }
   ],
   "source": [
    "PM = PatchMerging(dim=96)\n",
    "outdata2 = PM(outdata[0])\n",
    "print(outdata2.shape)"
   ]
  },
  {
   "cell_type": "code",
   "execution_count": 45,
   "metadata": {},
   "outputs": [],
   "source": [
    "class Mlp(nn.Module):\n",
    "    \"\"\" MLP as used in Vision Transformer, MLP-Mixer and related networks\n",
    "    \"\"\"\n",
    "\n",
    "    def __init__(self, in_features, hidden_features=None, out_features=None, act_layer=nn.GELU, drop=0.):\n",
    "        super().__init__()\n",
    "        out_features = out_features or in_features\n",
    "        hidden_features = hidden_features or in_features\n",
    "\n",
    "        self.fc1 = nn.Linear(in_features, hidden_features)\n",
    "        self.act = act_layer()\n",
    "        self.drop1 = nn.Dropout(drop)\n",
    "        self.fc2 = nn.Linear(hidden_features, out_features)\n",
    "        self.drop2 = nn.Dropout(drop)\n",
    "\n",
    "    def forward(self, x):\n",
    "        x = self.fc1(x)\n",
    "        print(x[0][0][1:10])\n",
    "        x = self.act(x)\n",
    "        print(x[0][0][1:10])\n",
    "        x = self.drop1(x)\n",
    "        print(x[0][0][1:10])\n",
    "        x = self.fc2(x)\n",
    "        print(x[0][0][1:10])\n",
    "        x = self.drop2(x)\n",
    "        print(x[0][0][1:10])\n",
    "        return x"
   ]
  },
  {
   "cell_type": "code",
   "execution_count": 57,
   "metadata": {},
   "outputs": [
    {
     "name": "stdout",
     "output_type": "stream",
     "text": [
      "tensor([ 0.1763, -0.2487,  0.0013, -0.3459,  0.2730, -0.4266, -0.2139, -0.4137,\n",
      "         0.0055], grad_fn=<SliceBackward0>)\n",
      "tensor([ 0.1005, -0.0999,  0.0007, -0.1261,  0.1659, -0.1428, -0.0888, -0.1405,\n",
      "         0.0028], grad_fn=<SliceBackward0>)\n",
      "tensor([ 0.0000, -0.0000,  0.0013, -0.2523,  0.0000, -0.0000, -0.0000, -0.0000,\n",
      "         0.0000], grad_fn=<SliceBackward0>)\n",
      "tensor([ 0.2095,  0.0346,  0.3192,  0.0152, -0.3008, -0.1014, -0.0806,  0.1333,\n",
      "        -0.0806], grad_fn=<SliceBackward0>)\n",
      "tensor([0.0000, 0.0692, 0.6384, 0.0303, -0.0000, -0.0000, -0.0000, 0.0000, -0.0000],\n",
      "       grad_fn=<SliceBackward0>)\n",
      "torch.Size([10, 63, 192])\n"
     ]
    }
   ],
   "source": [
    "MLP = Mlp(in_features=192,hidden_features=1024,out_features=192, drop=0.5)\n",
    "output = MLP(outdata)\n",
    "print(output.shape)"
   ]
  },
  {
   "cell_type": "code",
   "execution_count": 81,
   "metadata": {},
   "outputs": [],
   "source": [
    "class WindowAttention(nn.Module):\n",
    " \n",
    "    def __init__(self, dim, window_size, num_heads, qkv_bias=True, attn_drop=0., proj_drop=0.):\n",
    "\n",
    "        super().__init__()\n",
    "        self.dim = dim\n",
    "        self.window_size = window_size  # [Mh, Mw]\n",
    "        self.num_heads = num_heads\n",
    "        head_dim = dim // num_heads\n",
    "        self.scale = head_dim ** -0.5\n",
    "\n",
    "        # define a parameter table of relative position bias\n",
    "        self.relative_position_bias_table = nn.Parameter(\n",
    "            torch.zeros((2 * window_size[0] - 1) * (2 * window_size[1] - 1), num_heads))  # [2*Mh-1 * 2*Mw-1, nH]\n",
    "\n",
    "        # get pair-wise relative position index for each token inside the window\n",
    "        coords_h = torch.arange(self.window_size[0])\n",
    "        coords_w = torch.arange(self.window_size[1])\n",
    "        # coords = torch.stack(torch.meshgrid([coords_h, coords_w], indexing=\"ij\"))  # [2, Mh, Mw]\n",
    "        coords = torch.stack(torch.meshgrid([coords_h, coords_w]))  # [2, Mh, Mw]\n",
    "        coords_flatten = torch.flatten(coords, 1)  # [2, Mh*Mw]\n",
    "   \n",
    "        relative_coords = coords_flatten[:, :, None] - coords_flatten[:, None, :]  # [2, Mh*Mw, Mh*Mw]\n",
    "        relative_coords = relative_coords.permute(1, 2, 0).contiguous()  # [Mh*Mw, Mh*Mw, 2]\n",
    "        relative_coords[:, :, 0] += self.window_size[0] - 1  # shift to start from 0\n",
    "        relative_coords[:, :, 1] += self.window_size[1] - 1\n",
    "        relative_coords[:, :, 0] *= 2 * self.window_size[1] - 1\n",
    "        relative_position_index = relative_coords.sum(-1)  # [Mh*Mw, Mh*Mw]\n",
    "        self.register_buffer(\"relative_position_index\", relative_position_index)\n",
    "\n",
    "        # print(relative_position_index)\n",
    "\n",
    "        self.qkv = nn.Linear(dim, dim * 3, bias=qkv_bias)\n",
    "        self.attn_drop = nn.Dropout(attn_drop)\n",
    "        self.proj = nn.Linear(dim, dim)\n",
    "        self.proj_drop = nn.Dropout(proj_drop)\n",
    "        nn.init.trunc_normal_(self.relative_position_bias_table, std=.02)\n",
    "        self.softmax = nn.Softmax(dim=-1)\n",
    "\n",
    "    def forward(self, x, mask: Optional[torch.Tensor] = None):\n",
    "        \"\"\"\n",
    "        Args:\n",
    "            x: input features with shape of (num_windows*B, Mh*Mw, C)\n",
    "            mask: (0/-inf) mask with shape of (num_windows, Wh*Ww, Wh*Ww) or None\n",
    "        \"\"\"\n",
    "        # [batch_size*num_windows, Mh*Mw, total_embed_dim]\n",
    "        B_, N, C = x.shape\n",
    "        # qkv(): -> [batch_size*num_windows, Mh*Mw, 3 * total_embed_dim]\n",
    "        # reshape: -> [batch_size*num_windows, Mh*Mw, 3, num_heads, embed_dim_per_head]\n",
    "        # permute: -> [3, batch_size*num_windows, num_heads, Mh*Mw, embed_dim_per_head]\n",
    "        qkv = self.qkv(x).reshape(B_, N, 3, self.num_heads, C // self.num_heads).permute(2, 0, 3, 1, 4)\n",
    "        # [batch_size*num_windows, num_heads, Mh*Mw, embed_dim_per_head]\n",
    "        q, k, v = qkv.unbind(0)  # make torchscript happy (cannot use tensor as tuple)\n",
    "\n",
    "        q = q * self.scale\n",
    "        attn = (q @ k.transpose(-2, -1))\n",
    "        print(attn.shape)\n",
    "        print(self.relative_position_bias_table.shape)\n",
    "        relative_position_bias = self.relative_position_bias_table[self.relative_position_index.view(-1)].view(\n",
    "            self.window_size[0] * self.window_size[1], self.window_size[0] * self.window_size[1], -1)\n",
    "        relative_position_bias = relative_position_bias.permute(2, 0, 1).contiguous()  # [nH, Mh*Mw, Mh*Mw]\n",
    "        print(relative_position_bias.shape)\n",
    "        attn = attn + relative_position_bias.unsqueeze(0)\n",
    "\n",
    "        if mask is not None:\n",
    "            # mask: [nW, Mh*Mw, Mh*Mw]\n",
    "            nW = mask.shape[0]  # num_windows\n",
    "            # attn.view: [batch_size, num_windows, num_heads, Mh*Mw, Mh*Mw]\n",
    "            # mask.unsqueeze: [1, nW, 1, Mh*Mw, Mh*Mw]\n",
    "            attn = attn.view(B_ // nW, nW, self.num_heads, N, N) + mask.unsqueeze(1).unsqueeze(0)\n",
    "            attn = attn.view(-1, self.num_heads, N, N)\n",
    "            attn = self.softmax(attn)\n",
    "        else:\n",
    "            attn = self.softmax(attn)\n",
    "\n",
    "        attn = self.attn_drop(attn)\n",
    "\n",
    "        x = (attn @ v).transpose(1, 2).reshape(B_, N, C)\n",
    "        x = self.proj(x)\n",
    "        x = self.proj_drop(x)\n",
    "        return x"
   ]
  },
  {
   "cell_type": "markdown",
   "metadata": {},
   "source": [
    "先进行window_partition（输入[batch_nums, 1, patch_nums, dim_nums], 输出[batch_nums*windows_nums， window_size, dim_nums]）,\n",
    " \n",
    "再进行windowAttenion(输入[batch_nums*windows_nums， window_size, dim_nums]，输出[batch_nums*windows_nums， window_size, dim_nums])。"
   ]
  },
  {
   "cell_type": "code",
   "execution_count": 86,
   "metadata": {},
   "outputs": [
    {
     "name": "stdout",
     "output_type": "stream",
     "text": [
      "torch.Size([10, 1, 63, 192])\n",
      "torch.Size([210, 3, 192])\n",
      "torch.Size([210, 2, 3, 3])\n",
      "torch.Size([5, 2])\n",
      "torch.Size([2, 3, 3])\n",
      "torch.Size([210, 3, 192])\n"
     ]
    }
   ],
   "source": [
    "WA = WindowAttention(dim=192, window_size=(1,3), num_heads=2)\n",
    "output = output.squeeze(1)\n",
    "print(output.shape)\n",
    "windowinput = window_partition(output,window_size=3)\n",
    "print(windowinput.shape)\n",
    "output2 = WA(windowinput)\n",
    "print(output2.shape)"
   ]
  },
  {
   "cell_type": "code",
   "execution_count": 28,
   "metadata": {},
   "outputs": [],
   "source": [
    "\n",
    "class SwinTransformerBlock(nn.Module):\n",
    "\n",
    "\n",
    "    def __init__(self, dim, num_heads, window_size=12, shift_size=0,\n",
    "                 mlp_ratio=4., qkv_bias=True, drop=0., attn_drop=0., drop_path=0.,\n",
    "                 act_layer=nn.GELU, norm_layer=nn.LayerNorm):\n",
    "        super().__init__()\n",
    "        self.dim = dim\n",
    "        self.num_heads = num_heads\n",
    "        self.window_size = window_size\n",
    "        self.shift_size = shift_size\n",
    "        self.mlp_ratio = mlp_ratio\n",
    "        assert 0 <= self.shift_size < self.window_size, \"shift_size must in 0-window_size\"\n",
    "\n",
    "        self.norm1 = norm_layer(dim)\n",
    "        self.attn = WindowAttention(\n",
    "            dim, window_size=(1, self.window_size), num_heads=num_heads, qkv_bias=qkv_bias,\n",
    "            attn_drop=attn_drop, proj_drop=drop)\n",
    "\n",
    "        self.drop_path = DropPath(drop_path) if drop_path > 0. else nn.Identity()\n",
    "        self.norm2 = norm_layer(dim)\n",
    "        mlp_hidden_dim = int(dim * mlp_ratio)\n",
    "        self.mlp = Mlp(in_features=dim, hidden_features=mlp_hidden_dim, act_layer=act_layer, drop=drop)\n",
    "\n",
    "    def forward(self, x, attn_mask):\n",
    "        H, W = self.H, self.W\n",
    "        B, L, C = x.shape\n",
    "        assert L == H * W, \"input feature has wrong size\"\n",
    "\n",
    "        shortcut = x\n",
    "        x = self.norm1(x)\n",
    "        x = x.view(B, H, W, C)\n",
    "\n",
    "        pad_l = pad_t = 0\n",
    "        pad_r = (self.window_size - W % self.window_size) % self.window_size\n",
    "        # pad_b = (self.window_size - H % self.window_size) % self.window_size\n",
    "        pad_b = 0\n",
    "        x = F.pad(x, (0, 0, pad_l, pad_r, 0, 0))\n",
    "        _, Hp, Wp, _ = x.shape\n",
    "\n",
    "        if self.shift_size > 0:\n",
    "            shifted_x = torch.roll(x, shifts=(0, -self.shift_size), dims=(1, 2))\n",
    "        else:\n",
    "            shifted_x = x\n",
    "            attn_mask = None\n",
    "\n",
    "        x_windows = window_partition(shifted_x, self.window_size)  # [nW*B, Mh, Mw, C]\n",
    "        x_windows = x_windows.view(-1, self.window_size, C)  # [nW*B, Mw, C]\n",
    "\n",
    "        attn_windows = self.attn(x_windows, mask=attn_mask)  # [nW*B, Mh*Mw, C]\n",
    "\n",
    "        attn_windows = attn_windows.view(-1, 1, self.window_size, C)  # [nW*B, Mh, Mw, C]\n",
    "        shifted_x = window_reverse(attn_windows, self.window_size, Hp, Wp)  # [B, H', W', C]\n",
    "\n",
    "        if self.shift_size > 0:\n",
    "            x = torch.roll(shifted_x, shifts=(0, self.shift_size), dims=(1, 2))\n",
    "        else:\n",
    "            x = shifted_x\n",
    "\n",
    "        if pad_r > 0 or pad_b > 0:\n",
    "            x = x[:, :, :W, :].contiguous()\n",
    "\n",
    "        x = x.view(B, H * W, C)\n",
    "\n",
    "        x = shortcut + self.drop_path(x)\n",
    "        x = x + self.drop_path(self.mlp(self.norm2(x)))\n",
    "\n",
    "        return x"
   ]
  },
  {
   "cell_type": "code",
   "execution_count": 29,
   "metadata": {},
   "outputs": [
    {
     "name": "stderr",
     "output_type": "stream",
     "text": [
      "/root/autodl-tmp/conda/envs/law/lib/python3.8/site-packages/torch/functional.py:568: UserWarning: torch.meshgrid: in an upcoming release, it will be required to pass the indexing argument. (Triggered internally at  /opt/conda/conda-bld/pytorch_1646755903507/work/aten/src/ATen/native/TensorShape.cpp:2228.)\n",
      "  return _VF.meshgrid(tensors, **kwargs)  # type: ignore[attr-defined]\n"
     ]
    },
    {
     "ename": "TypeError",
     "evalue": "forward() missing 1 required positional argument: 'attn_mask'",
     "output_type": "error",
     "traceback": [
      "\u001b[0;31m---------------------------------------------------------------------------\u001b[0m",
      "\u001b[0;31mTypeError\u001b[0m                                 Traceback (most recent call last)",
      "Cell \u001b[0;32mIn[29], line 2\u001b[0m\n\u001b[1;32m      1\u001b[0m SWBlock \u001b[38;5;241m=\u001b[39m SwinTransformerBlock(dim\u001b[38;5;241m=\u001b[39m\u001b[38;5;241m96\u001b[39m, num_heads\u001b[38;5;241m=\u001b[39m\u001b[38;5;241m2\u001b[39m)\n\u001b[0;32m----> 2\u001b[0m Res \u001b[38;5;241m=\u001b[39m \u001b[43mSWBlock\u001b[49m\u001b[43m(\u001b[49m\u001b[43moutdata\u001b[49m\u001b[43m[\u001b[49m\u001b[38;5;241;43m0\u001b[39;49m\u001b[43m]\u001b[49m\u001b[43m)\u001b[49m\n",
      "File \u001b[0;32m~/autodl-tmp/conda/envs/law/lib/python3.8/site-packages/torch/nn/modules/module.py:1110\u001b[0m, in \u001b[0;36mModule._call_impl\u001b[0;34m(self, *input, **kwargs)\u001b[0m\n\u001b[1;32m   1106\u001b[0m \u001b[38;5;66;03m# If we don't have any hooks, we want to skip the rest of the logic in\u001b[39;00m\n\u001b[1;32m   1107\u001b[0m \u001b[38;5;66;03m# this function, and just call forward.\u001b[39;00m\n\u001b[1;32m   1108\u001b[0m \u001b[38;5;28;01mif\u001b[39;00m \u001b[38;5;129;01mnot\u001b[39;00m (\u001b[38;5;28mself\u001b[39m\u001b[38;5;241m.\u001b[39m_backward_hooks \u001b[38;5;129;01mor\u001b[39;00m \u001b[38;5;28mself\u001b[39m\u001b[38;5;241m.\u001b[39m_forward_hooks \u001b[38;5;129;01mor\u001b[39;00m \u001b[38;5;28mself\u001b[39m\u001b[38;5;241m.\u001b[39m_forward_pre_hooks \u001b[38;5;129;01mor\u001b[39;00m _global_backward_hooks\n\u001b[1;32m   1109\u001b[0m         \u001b[38;5;129;01mor\u001b[39;00m _global_forward_hooks \u001b[38;5;129;01mor\u001b[39;00m _global_forward_pre_hooks):\n\u001b[0;32m-> 1110\u001b[0m     \u001b[38;5;28;01mreturn\u001b[39;00m \u001b[43mforward_call\u001b[49m\u001b[43m(\u001b[49m\u001b[38;5;241;43m*\u001b[39;49m\u001b[38;5;28;43minput\u001b[39;49m\u001b[43m,\u001b[49m\u001b[43m \u001b[49m\u001b[38;5;241;43m*\u001b[39;49m\u001b[38;5;241;43m*\u001b[39;49m\u001b[43mkwargs\u001b[49m\u001b[43m)\u001b[49m\n\u001b[1;32m   1111\u001b[0m \u001b[38;5;66;03m# Do not call functions when jit is used\u001b[39;00m\n\u001b[1;32m   1112\u001b[0m full_backward_hooks, non_full_backward_hooks \u001b[38;5;241m=\u001b[39m [], []\n",
      "\u001b[0;31mTypeError\u001b[0m: forward() missing 1 required positional argument: 'attn_mask'"
     ]
    }
   ],
   "source": [
    "SWBlock = SwinTransformerBlock(dim=96, num_heads=2)\n",
    "Res = SWBlock(outdata[0])"
   ]
  },
  {
   "cell_type": "code",
   "execution_count": 30,
   "metadata": {},
   "outputs": [],
   "source": [
    "class BasicLayer(nn.Module):\n",
    "\n",
    "    def __init__(self, dim, depth, num_heads, window_size,\n",
    "                 mlp_ratio=4., qkv_bias=True, drop=0., attn_drop=0.,\n",
    "                 drop_path=0., norm_layer=nn.LayerNorm, downsample=None, use_checkpoint=False):\n",
    "        super().__init__()\n",
    "        self.dim = dim\n",
    "        self.depth = depth\n",
    "        self.window_size = window_size\n",
    "        self.use_checkpoint = use_checkpoint\n",
    "        self.shift_size = window_size // 2\n",
    "\n",
    "        self.blocks = nn.ModuleList([\n",
    "            SwinTransformerBlock(\n",
    "                dim=dim,\n",
    "                num_heads=num_heads,\n",
    "                window_size=window_size,\n",
    "                shift_size=0 if (i % 2 == 0) else self.shift_size,\n",
    "                mlp_ratio=mlp_ratio,\n",
    "                qkv_bias=qkv_bias,\n",
    "                drop=drop,\n",
    "                attn_drop=attn_drop,\n",
    "                drop_path=drop_path[i] if isinstance(drop_path, list) else drop_path,\n",
    "                norm_layer=norm_layer)\n",
    "            for i in range(depth)])\n",
    "\n",
    "        # patch merging layer\n",
    "        if downsample is not None:\n",
    "            self.downsample = downsample(dim=dim, norm_layer=norm_layer)\n",
    "        else:\n",
    "            self.downsample = None\n",
    "\n",
    "    def create_mask(self, x, H, W):\n",
    "\n",
    "        Hp = 1\n",
    "        Wp = int(np.ceil(W / self.window_size)) * self.window_size\n",
    "        img_mask = torch.zeros((1, Hp, Wp, 1), device=x.device)  # [1, Hp, Wp, 1]\n",
    "\n",
    "        w_slices = (slice(0, -self.window_size),\n",
    "                    slice(-self.window_size, -self.shift_size),\n",
    "                    slice(-self.shift_size, None))\n",
    "        cnt = 0\n",
    "        # for h in h_slices:\n",
    "        #     for w in w_slices:\n",
    "        #         img_mask[:, h, w, :] = cnt\n",
    "        #         cnt += 1\n",
    "        for w in w_slices:\n",
    "            img_mask[:, :, w, :] = cnt\n",
    "            cnt += 1\n",
    "       \n",
    "\n",
    "        mask_windows = window_partition(img_mask, self.window_size)  # [nW, Mw, 1]\n",
    "        mask_windows = mask_windows.view(-1, self.window_size)  # [nW, Mh*Mw]\n",
    "        attn_mask = mask_windows.unsqueeze(1) - mask_windows.unsqueeze(2)  # [nW, 1, Mh*Mw] - [nW, Mh*Mw, 1]\n",
    "        attn_mask = attn_mask.masked_fill(attn_mask != 0, float(-100.0)).masked_fill(attn_mask == 0, float(0.0))\n",
    "        return attn_mask\n",
    "\n",
    "    def forward(self, x, H, W):\n",
    "        attn_mask = self.create_mask(x, H, W)  # [nW, Mh*Mw, Mh*Mw]\n",
    "        for blk in self.blocks:\n",
    "            blk.H, blk.W = H, W\n",
    "            if not torch.jit.is_scripting() and self.use_checkpoint:\n",
    "                x = checkpoint.checkpoint(blk, x, attn_mask)\n",
    "            else:\n",
    "                x = blk(x, attn_mask)\n",
    "        if self.downsample is not None:\n",
    "            x = self.downsample(x, H, W)\n",
    "            H, W = H, (W + 1) // 2\n",
    "\n",
    "        return x, H, W"
   ]
  },
  {
   "cell_type": "code",
   "execution_count": 31,
   "metadata": {},
   "outputs": [],
   "source": [
    "class SwinTransformer(nn.Module):\n",
    "\n",
    "    def __init__(self, patch_size=4, in_chans=30, num_classes=1000,\n",
    "                 embed_dim=96, depths=(2, 2, 6, 2), num_heads=(3, 6, 12, 24),\n",
    "                 window_size=6, eeg_channel=30, num_eegsample=384, down_channel=16, mlp_ratio=4., qkv_bias=True,\n",
    "                 drop_rate=0., attn_drop_rate=0., drop_path_rate=0.1,\n",
    "                 norm_layer=nn.LayerNorm, patch_norm=True,\n",
    "                 use_checkpoint=False, **kwargs):\n",
    "        super().__init__()\n",
    "\n",
    "        self.num_classes = num_classes\n",
    "        self.num_layers = len(depths)\n",
    "        self.embed_dim = embed_dim\n",
    "        self.patch_norm = patch_norm\n",
    "        self.num_features = int(embed_dim * 2 ** (self.num_layers - 1))\n",
    "        self.mlp_ratio = mlp_ratio\n",
    "\n",
    "        # split image into non-overlapping patches\n",
    "        self.patch_embed = PatchEmbed(\n",
    "            patch_size=patch_size, in_c=in_chans, embed_dim=embed_dim,\n",
    "            norm_layer=norm_layer if self.patch_norm else None)\n",
    "        self.pos_drop = nn.Dropout(p=drop_rate)\n",
    "\n",
    "        dpr = [x.item() for x in torch.linspace(0, drop_path_rate, sum(depths))]  # stochastic depth decay rule\n",
    "\n",
    "        self.layers = nn.ModuleList()\n",
    "        for i_layer in range(self.num_layers):\n",
    "            layers = BasicLayer(dim=int(embed_dim * 2 ** i_layer),\n",
    "                                depth=depths[i_layer],\n",
    "                                num_heads=num_heads[i_layer],\n",
    "                                window_size=window_size,\n",
    "                                mlp_ratio=self.mlp_ratio,\n",
    "                                qkv_bias=qkv_bias,\n",
    "                                drop=drop_rate,\n",
    "                                attn_drop=attn_drop_rate,\n",
    "                                drop_path=dpr[sum(depths[:i_layer]):sum(depths[:i_layer + 1])],\n",
    "                                norm_layer=norm_layer,\n",
    "                                downsample=PatchMerging if (i_layer < self.num_layers - 1) else None,\n",
    "                                use_checkpoint=use_checkpoint)\n",
    "            self.layers.append(layers)\n",
    "        self.norm = norm_layer(self.num_features)\n",
    "        self.avgpool = nn.AdaptiveAvgPool1d(1)\n",
    "        self.head = nn.Linear(self.num_features, num_classes) if num_classes > 0 else nn.Identity()\n",
    "        self.apply(self._init_weights)\n",
    "\n",
    "    def _init_weights(self, m):\n",
    "        if isinstance(m, nn.Linear):\n",
    "            nn.init.trunc_normal_(m.weight, std=.02)\n",
    "            if isinstance(m, nn.Linear) and m.bias is not None:\n",
    "                nn.init.constant_(m.bias, 0)\n",
    "        elif isinstance(m, nn.LayerNorm):\n",
    "            nn.init.constant_(m.bias, 0)\n",
    "            nn.init.constant_(m.weight, 1.0)\n",
    "\n",
    "    def forward(self, x):\n",
    "        # x: [B, L, C]    \n",
    "\n",
    "        # x = self.dtDW(x)\n",
    "        # x = self.dtCONV(x)\n",
    "        # x = self.dtFC(x)\n",
    "        # x = self.dtMulFC(x)\n",
    "\n",
    "        x, H, W = self.patch_embed(x)\n",
    "        x = self.pos_drop(x)\n",
    "        for layer in self.layers:\n",
    "            x, H, W = layer(x, H, W)\n",
    "\n",
    "        x = self.norm(x)  # [B, L, C]\n",
    "        x = self.avgpool(x.transpose(1, 2))  # [B, C, 1]\n",
    "        x0 = torch.flatten(x, 1)\n",
    "        x = self.head(x0)\n",
    "        return x\n",
    "\n",
    "\n",
    "def swin_eeg(window_size: int = 2, num_classes: int = 2, **kwargs):\n",
    "    model = SwinTransformer(in_chans=30,\n",
    "                            patch_size=4,\n",
    "                            window_size=window_size,\n",
    "                            embed_dim=192,\n",
    "                            depths=(2, 2, 6, 2),\n",
    "                            num_heads=(3, 6, 12, 24),\n",
    "                            num_classes=num_classes,\n",
    "                            **kwargs)\n",
    "    return model\n",
    "\n"
   ]
  },
  {
   "cell_type": "code",
   "execution_count": 88,
   "metadata": {},
   "outputs": [
    {
     "name": "stdout",
     "output_type": "stream",
     "text": [
      "rawdata, shape: (1, 30, 500)\n",
      "Creating RawArray with float64 data, n_channels=30, n_times=500\n",
      "    Range : 0 ... 499 =      0.000 ...     2.495 secs\n",
      "Ready.\n",
      "reshaped_data, shape: (500, 30)\n",
      "Creating RawArray with float64 data, n_channels=10, n_times=500\n",
      "    Range : 0 ... 499 =      0.000 ...     2.495 secs\n",
      "Ready.\n",
      "After PCA, shape: (500, 10)\n"
     ]
    },
    {
     "name": "stderr",
     "output_type": "stream",
     "text": [
      "/tmp/ipykernel_364289/1891628095.py:30: RuntimeWarning: The data has not been high-pass filtered. For good ICA performance, it should be high-pass filtered (e.g., with a 1.0 Hz lower bound) before fitting ICA.\n",
      "  ica.fit(pca_raw)  # 输入为 MNE 格式的 Raw\n"
     ]
    },
    {
     "ename": "ValueError",
     "evalue": "picks (NoneNone, treated as \"data\") yielded no channels, consider passing picks explicitly",
     "output_type": "error",
     "traceback": [
      "\u001b[0;31m---------------------------------------------------------------------------\u001b[0m",
      "\u001b[0;31mValueError\u001b[0m                                Traceback (most recent call last)",
      "Cell \u001b[0;32mIn[88], line 30\u001b[0m\n\u001b[1;32m     28\u001b[0m \u001b[38;5;66;03m# ICA 提取独立成分\u001b[39;00m\n\u001b[1;32m     29\u001b[0m ica \u001b[38;5;241m=\u001b[39m ICA(n_components\u001b[38;5;241m=\u001b[39mn_components_pca, random_state\u001b[38;5;241m=\u001b[39m\u001b[38;5;241m42\u001b[39m)\n\u001b[0;32m---> 30\u001b[0m \u001b[43mica\u001b[49m\u001b[38;5;241;43m.\u001b[39;49m\u001b[43mfit\u001b[49m\u001b[43m(\u001b[49m\u001b[43mpca_raw\u001b[49m\u001b[43m)\u001b[49m  \u001b[38;5;66;03m# 输入为 MNE 格式的 Raw\u001b[39;00m\n\u001b[1;32m     31\u001b[0m ica_data \u001b[38;5;241m=\u001b[39m ica\u001b[38;5;241m.\u001b[39mget_sources(pca_raw)\u001b[38;5;241m.\u001b[39mget_data()  \u001b[38;5;66;03m# 提取独立成分, 形状 (10, 500)\u001b[39;00m\n\u001b[1;32m     33\u001b[0m \u001b[38;5;66;03m# 信号重建\u001b[39;00m\n",
      "File \u001b[0;32m<decorator-gen-269>:12\u001b[0m, in \u001b[0;36mfit\u001b[0;34m(self, inst, picks, start, stop, decim, reject, flat, tstep, reject_by_annotation, verbose)\u001b[0m\n",
      "File \u001b[0;32m~/autodl-tmp/conda/envs/law/lib/python3.8/site-packages/mne/preprocessing/ica.py:703\u001b[0m, in \u001b[0;36mICA.fit\u001b[0;34m(self, inst, picks, start, stop, decim, reject, flat, tstep, reject_by_annotation, verbose)\u001b[0m\n\u001b[1;32m    696\u001b[0m     \u001b[38;5;28;01mif\u001b[39;00m ignored_params:\n\u001b[1;32m    697\u001b[0m         warn(\n\u001b[1;32m    698\u001b[0m             \u001b[38;5;124mf\u001b[39m\u001b[38;5;124m\"\u001b[39m\u001b[38;5;124mThe following parameters passed to ICA.fit() will be \u001b[39m\u001b[38;5;124m\"\u001b[39m\n\u001b[1;32m    699\u001b[0m             \u001b[38;5;124mf\u001b[39m\u001b[38;5;124m\"\u001b[39m\u001b[38;5;124mignored, as they only affect raw data (and it appears \u001b[39m\u001b[38;5;124m\"\u001b[39m\n\u001b[1;32m    700\u001b[0m             \u001b[38;5;124mf\u001b[39m\u001b[38;5;124m'\u001b[39m\u001b[38;5;124myou passed epochs): \u001b[39m\u001b[38;5;132;01m{\u001b[39;00m\u001b[38;5;124m\"\u001b[39m\u001b[38;5;124m, \u001b[39m\u001b[38;5;124m\"\u001b[39m\u001b[38;5;241m.\u001b[39mjoin(ignored_params)\u001b[38;5;132;01m}\u001b[39;00m\u001b[38;5;124m'\u001b[39m\n\u001b[1;32m    701\u001b[0m         )\n\u001b[0;32m--> 703\u001b[0m picks \u001b[38;5;241m=\u001b[39m \u001b[43m_picks_to_idx\u001b[49m\u001b[43m(\u001b[49m\n\u001b[1;32m    704\u001b[0m \u001b[43m    \u001b[49m\u001b[43minst\u001b[49m\u001b[38;5;241;43m.\u001b[39;49m\u001b[43minfo\u001b[49m\u001b[43m,\u001b[49m\u001b[43m \u001b[49m\u001b[43mpicks\u001b[49m\u001b[43m,\u001b[49m\u001b[43m \u001b[49m\u001b[43mallow_empty\u001b[49m\u001b[38;5;241;43m=\u001b[39;49m\u001b[38;5;28;43;01mFalse\u001b[39;49;00m\u001b[43m,\u001b[49m\u001b[43m \u001b[49m\u001b[43mwith_ref_meg\u001b[49m\u001b[38;5;241;43m=\u001b[39;49m\u001b[38;5;28;43mself\u001b[39;49m\u001b[38;5;241;43m.\u001b[39;49m\u001b[43mallow_ref_meg\u001b[49m\n\u001b[1;32m    705\u001b[0m \u001b[43m\u001b[49m\u001b[43m)\u001b[49m\n\u001b[1;32m    706\u001b[0m _check_for_unsupported_ica_channels(\n\u001b[1;32m    707\u001b[0m     picks, inst\u001b[38;5;241m.\u001b[39minfo, allow_ref_meg\u001b[38;5;241m=\u001b[39m\u001b[38;5;28mself\u001b[39m\u001b[38;5;241m.\u001b[39mallow_ref_meg\n\u001b[1;32m    708\u001b[0m )\n\u001b[1;32m    710\u001b[0m \u001b[38;5;66;03m# Actually start fitting\u001b[39;00m\n",
      "File \u001b[0;32m~/autodl-tmp/conda/envs/law/lib/python3.8/site-packages/mne/_fiff/pick.py:1271\u001b[0m, in \u001b[0;36m_picks_to_idx\u001b[0;34m(info, picks, none, exclude, allow_empty, with_ref_meg, return_kind, picks_on)\u001b[0m\n\u001b[1;32m   1269\u001b[0m     \u001b[38;5;28;01mraise\u001b[39;00m \u001b[38;5;167;01mValueError\u001b[39;00m(\u001b[38;5;124m\"\u001b[39m\u001b[38;5;124mpicks must be 1D, got \u001b[39m\u001b[38;5;132;01m%s\u001b[39;00m\u001b[38;5;124mD\u001b[39m\u001b[38;5;124m\"\u001b[39m \u001b[38;5;241m%\u001b[39m (picks\u001b[38;5;241m.\u001b[39mndim,))\n\u001b[1;32m   1270\u001b[0m \u001b[38;5;28;01mif\u001b[39;00m picks\u001b[38;5;241m.\u001b[39mdtype\u001b[38;5;241m.\u001b[39mchar \u001b[38;5;129;01min\u001b[39;00m (\u001b[38;5;124m\"\u001b[39m\u001b[38;5;124mS\u001b[39m\u001b[38;5;124m\"\u001b[39m, \u001b[38;5;124m\"\u001b[39m\u001b[38;5;124mU\u001b[39m\u001b[38;5;124m\"\u001b[39m):\n\u001b[0;32m-> 1271\u001b[0m     picks \u001b[38;5;241m=\u001b[39m \u001b[43m_picks_str_to_idx\u001b[49m\u001b[43m(\u001b[49m\n\u001b[1;32m   1272\u001b[0m \u001b[43m        \u001b[49m\u001b[43minfo\u001b[49m\u001b[43m,\u001b[49m\n\u001b[1;32m   1273\u001b[0m \u001b[43m        \u001b[49m\u001b[43mpicks\u001b[49m\u001b[43m,\u001b[49m\n\u001b[1;32m   1274\u001b[0m \u001b[43m        \u001b[49m\u001b[43mexclude\u001b[49m\u001b[43m,\u001b[49m\n\u001b[1;32m   1275\u001b[0m \u001b[43m        \u001b[49m\u001b[43mwith_ref_meg\u001b[49m\u001b[43m,\u001b[49m\n\u001b[1;32m   1276\u001b[0m \u001b[43m        \u001b[49m\u001b[43mreturn_kind\u001b[49m\u001b[43m,\u001b[49m\n\u001b[1;32m   1277\u001b[0m \u001b[43m        \u001b[49m\u001b[43mextra_repr\u001b[49m\u001b[43m,\u001b[49m\n\u001b[1;32m   1278\u001b[0m \u001b[43m        \u001b[49m\u001b[43mallow_empty\u001b[49m\u001b[43m,\u001b[49m\n\u001b[1;32m   1279\u001b[0m \u001b[43m        \u001b[49m\u001b[43morig_picks\u001b[49m\u001b[43m,\u001b[49m\n\u001b[1;32m   1280\u001b[0m \u001b[43m    \u001b[49m\u001b[43m)\u001b[49m\n\u001b[1;32m   1281\u001b[0m     \u001b[38;5;28;01mif\u001b[39;00m return_kind:\n\u001b[1;32m   1282\u001b[0m         picked_ch_type_or_generic \u001b[38;5;241m=\u001b[39m picks[\u001b[38;5;241m1\u001b[39m]\n",
      "File \u001b[0;32m~/autodl-tmp/conda/envs/law/lib/python3.8/site-packages/mne/_fiff/pick.py:1343\u001b[0m, in \u001b[0;36m_picks_str_to_idx\u001b[0;34m(info, picks, exclude, with_ref_meg, return_kind, extra_repr, allow_empty, orig_picks)\u001b[0m\n\u001b[1;32m   1341\u001b[0m             picks_generic \u001b[38;5;241m=\u001b[39m _pick_data_or_ica(info, exclude\u001b[38;5;241m=\u001b[39mexclude)\n\u001b[1;32m   1342\u001b[0m         \u001b[38;5;28;01mif\u001b[39;00m \u001b[38;5;28mlen\u001b[39m(picks_generic) \u001b[38;5;241m==\u001b[39m \u001b[38;5;241m0\u001b[39m \u001b[38;5;129;01mand\u001b[39;00m orig_picks \u001b[38;5;129;01mis\u001b[39;00m \u001b[38;5;28;01mNone\u001b[39;00m \u001b[38;5;129;01mand\u001b[39;00m \u001b[38;5;129;01mnot\u001b[39;00m allow_empty:\n\u001b[0;32m-> 1343\u001b[0m             \u001b[38;5;28;01mraise\u001b[39;00m \u001b[38;5;167;01mValueError\u001b[39;00m(\n\u001b[1;32m   1344\u001b[0m                 \u001b[38;5;124m\"\u001b[39m\u001b[38;5;124mpicks (\u001b[39m\u001b[38;5;132;01m%s\u001b[39;00m\u001b[38;5;124m) yielded no channels, consider \u001b[39m\u001b[38;5;124m\"\u001b[39m\n\u001b[1;32m   1345\u001b[0m                 \u001b[38;5;124m\"\u001b[39m\u001b[38;5;124mpassing picks explicitly\u001b[39m\u001b[38;5;124m\"\u001b[39m \u001b[38;5;241m%\u001b[39m (\u001b[38;5;28mrepr\u001b[39m(orig_picks) \u001b[38;5;241m+\u001b[39m extra_repr,)\n\u001b[1;32m   1346\u001b[0m             )\n\u001b[1;32m   1348\u001b[0m \u001b[38;5;66;03m#\u001b[39;00m\n\u001b[1;32m   1349\u001b[0m \u001b[38;5;66;03m# second: match all to channel names\u001b[39;00m\n\u001b[1;32m   1350\u001b[0m \u001b[38;5;66;03m#\u001b[39;00m\n\u001b[1;32m   1352\u001b[0m bad_names \u001b[38;5;241m=\u001b[39m []\n",
      "\u001b[0;31mValueError\u001b[0m: picks (NoneNone, treated as \"data\") yielded no channels, consider passing picks explicitly"
     ]
    }
   ],
   "source": [
    "import numpy as np\n",
    "import mne\n",
    "from sklearn.decomposition import PCA\n",
    "from mne.preprocessing import ICA\n",
    "\n",
    "# 模拟 EEG 数据 (1, 30, 500)\n",
    "samples = 1\n",
    "channels = 30\n",
    "time_points = 500\n",
    "eeg_data = np.random.randn(samples, channels, time_points)  # 随机生成模拟 EEG 信号\n",
    "print(f\"rawdata, shape: {eeg_data.shape}\")\n",
    "\n",
    "# 转换为 MNE RawArray 格式\n",
    "sfreq = 200  # 假设采样率为 200 Hz\n",
    "info = mne.create_info(ch_names=[f\"ch{i}\" for i in range(channels)], sfreq=sfreq, ch_types=\"eeg\")\n",
    "raw = mne.io.RawArray(eeg_data[0], info)  # 创建 RawArray\n",
    "\n",
    "# PCA 降维\n",
    "n_components_pca = 10  # 目标主成分数\n",
    "pca = PCA(n_components=n_components_pca)\n",
    "reshaped_data = raw.get_data().T  # 获取数据并转置为 (时间点, 通道)\n",
    "print(f\"reshaped_data, shape: {reshaped_data.shape}\")\n",
    "pca_data = pca.fit_transform(reshaped_data)  # 结果 (500, 10)\n",
    "pca_raw = mne.io.RawArray(pca_data.T, mne.create_info(ch_names=[f\"PC{i}\" for i in range(n_components_pca)], sfreq=sfreq))\n",
    "\n",
    "print(f\"After PCA, shape: {pca_data.shape}\")  # 输出: (10, 500)\n",
    "\n",
    "# ICA 提取独立成分\n",
    "ica = ICA(n_components=n_components_pca, random_state=42)\n",
    "ica.fit(pca_raw)  # 输入为 MNE 格式的 Raw\n",
    "ica_data = ica.get_sources(pca_raw).get_data()  # 提取独立成分, 形状 (10, 500)\n",
    "\n",
    "# 信号重建\n",
    "reconstructed_raw = ica.apply(pca_raw)  # 修正伪迹后的 Raw 数据\n",
    "reconstructed_data = reconstructed_raw.get_data()  # 转换为 NumPy 数组\n",
    "\n",
    "# 还原到原始通道数\n",
    "reconstructed_original = pca.inverse_transform(reconstructed_data.T).T  # 恢复到原始通道数\n",
    "reconstructed_original = reconstructed_original.reshape(samples, channels, time_points)\n",
    "\n",
    "print(f\"Original shape: {eeg_data.shape}\")\n",
    "print(f\"Reconstructed shape: {reconstructed_original.shape}\")"
   ]
  },
  {
   "cell_type": "code",
   "execution_count": 114,
   "metadata": {},
   "outputs": [
    {
     "name": "stdout",
     "output_type": "stream",
     "text": [
      "dict_keys(['__header__', '__version__', '__globals__', 'eeg'])\n",
      "(33, 1000)\n",
      "Creating RawArray with float64 data, n_channels=33, n_times=1000\n",
      "    Range : 0 ... 999 =      0.000 ...     1.998 secs\n",
      "Ready.\n"
     ]
    },
    {
     "data": {
      "text/plain": [
       "<Figure size 5000x2000 with 0 Axes>"
      ]
     },
     "metadata": {},
     "output_type": "display_data"
    },
    {
     "data": {
      "image/png": "[encoded data removed]",
      "text/plain": [
       "<MNEBrowseFigure size 800x800 with 4 Axes>"
      ]
     },
     "metadata": {},
     "output_type": "display_data"
    },
    {
     "name": "stdout",
     "output_type": "stream",
     "text": [
      "Overwriting existing file.\n",
      "Writing /root/autodl-tmp/.autodl/kinlaw/mi_swin/converted_data.fif\n",
      "Closing /root/autodl-tmp/.autodl/kinlaw/mi_swin/converted_data.fif\n",
      "[done]\n"
     ]
    },
    {
     "name": "stderr",
     "output_type": "stream",
     "text": [
      "/tmp/ipykernel_364289/3932256620.py:24: RuntimeWarning: This filename (/root/autodl-tmp/.autodl/kinlaw/mi_swin/converted_data.fif) does not conform to MNE naming conventions. All raw files should end with raw.fif, raw_sss.fif, raw_tsss.fif, _meg.fif, _eeg.fif, _ieeg.fif, raw.fif.gz, raw_sss.fif.gz, raw_tsss.fif.gz, _meg.fif.gz, _eeg.fif.gz or _ieeg.fif.gz\n",
      "  raw.save(\"converted_data.fif\", overwrite=True)\n"
     ]
    }
   ],
   "source": [
    "from scipy.io import loadmat\n",
    "import mne\n",
    "import numpy as np\n",
    "import matplotlib.pyplot as plt\n",
    "# Step 1: 读取 .mat 文件\n",
    "data = loadmat(\"./subdataset/sourcedata/sub-50/sub-50_task-motor-imagery_eeg.mat\")\n",
    "print(data.keys())\n",
    "# Step 2: 提取关键数据\n",
    "eeg_data = data[\"eeg\"][\"rawdata\"]  # (通道数, 时间点数)\n",
    "eeg_data = eeg_data[0][0][0][:,0:1000]\n",
    "sfreq = float(500)  # 采样率\n",
    "print(eeg_data.shape)\n",
    "n_channels = eeg_data.shape[0]  # 通道数\n",
    "channel_names = [f\"EEG {i+1:03d}\" for i in range(n_channels)]  # 生成通道名称列表\n",
    "\n",
    "# Step 3: 转换为 MNE 的 RawArray\n",
    "info = mne.create_info(ch_names=channel_names, sfreq=sfreq, ch_types=\"eeg\")\n",
    "raw = mne.io.RawArray(data=eeg_data, info=info)\n",
    "plt.figure(figsize=(50, 20))  # 宽 12 英寸，高 8 英寸\n",
    "# Step 4: 可视化信号\n",
    "raw.plot()\n",
    "\n",
    "# Step 5: 保存为 FIF 格式\n",
    "raw.save(\"converted_data.fif\", overwrite=True)\n"
   ]
  },
  {
   "cell_type": "code",
   "execution_count": 98,
   "metadata": {},
   "outputs": [
    {
     "name": "stdout",
     "output_type": "stream",
     "text": [
      "(40, 33, 4000)\n"
     ]
    }
   ],
   "source": [
    "print(eeg_data[0][0].shape)"
   ]
  }
 ],
 "metadata": {
  "kernelspec": {
   "display_name": "law",
   "language": "python",
   "name": "python3"
  },
  "language_info": {
   "codemirror_mode": {
    "name": "ipython",
    "version": 3
   },
   "file_extension": ".py",
   "mimetype": "text/x-python",
   "name": "python",
   "nbconvert_exporter": "python",
   "pygments_lexer": "ipython3",
   "version": "3.8.0"
  }
 },
 "nbformat": 4,
 "nbformat_minor": 2
}
